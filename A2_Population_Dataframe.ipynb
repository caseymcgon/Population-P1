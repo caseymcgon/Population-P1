{
 "cells": [
  {
   "cell_type": "markdown",
   "metadata": {},
   "source": [
    "# POPULATION DATAFRAME FUNCTION\n",
    "\n",
    "### return a pandas df indexed by (region or country) & year -- Double Indexed\n",
    "### columns will be counts of people in Different Age/Sex groups"
   ]
  },
  {
   "cell_type": "markdown",
   "metadata": {},
   "source": [
    "The World Bank maintains a large set of &ldquo;World Development Indicators&rdquo; (WDI),\n",
    "including information on population.  \n",
    "\n",
    "-   API for WDI is available at [https://datahelpdesk.worldbank.org/knowledgebase/articles/889392-about-the-indicators-api-documentation](https://datahelpdesk.worldbank.org/knowledgebase/articles/889392-about-the-indicators-api-documentation)\n",
    "\n",
    "-   A `python` module that uses the API is `wbdata`, written by Oliver Sherouse.\n",
    "\n",
    "-   Available at [http://github.com/OliverSherouse/wbdata](http://github.com/OliverSherouse/wbdata).\n",
    "\n",
    "-   Documented at [https://wbdata.readthedocs.io](https://wbdata.readthedocs.io).\n",
    "\n"
   ]
  },
  {
   "cell_type": "markdown",
   "metadata": {},
   "source": [
    "We walk through the process of getting data from the WDI into a\n",
    "`pandas` DataFrame. \n",
    "\n",
    "The `wbdata` module has several key functions we&rsquo;ll want to use:\n",
    "\n",
    "-   **`search_countries()`:** Returns code for different countries or\n",
    "    regions.\n",
    "-   **`get_source()`:** Gives list of different data sources that can\n",
    "    be accessed using the module; returns a numeric key;\n",
    "-   **`get_indicator()`:** Given a source, this returns a list of\n",
    "    available variables (indicators).\n",
    "-   **`get_dataframe()`:** Given a source and a list of indicators,\n",
    "    this returns a dataframe populated with the requested data\n",
    "    for whatever\n",
    "\n",
    "Begin by importing the module:\n",
    "\n"
   ]
  },
  {
   "cell_type": "code",
   "execution_count": 1,
   "metadata": {},
   "outputs": [
    {
     "name": "stdout",
     "output_type": "stream",
     "text": [
      "Requirement already satisfied: wbdata in /opt/conda/lib/python3.8/site-packages (0.3.0)\n",
      "Requirement already satisfied: requests>=2.0 in /opt/conda/lib/python3.8/site-packages (from wbdata) (2.25.1)\n",
      "Requirement already satisfied: appdirs<2.0,>=1.4 in /opt/conda/lib/python3.8/site-packages (from wbdata) (1.4.4)\n",
      "Requirement already satisfied: tabulate>=0.8.5 in /opt/conda/lib/python3.8/site-packages (from wbdata) (0.8.7)\n",
      "Requirement already satisfied: decorator>=4.0 in /opt/conda/lib/python3.8/site-packages (from wbdata) (4.4.2)\n",
      "Requirement already satisfied: urllib3<1.27,>=1.21.1 in /opt/conda/lib/python3.8/site-packages (from requests>=2.0->wbdata) (1.25.7)\n",
      "Requirement already satisfied: chardet<5,>=3.0.2 in /opt/conda/lib/python3.8/site-packages (from requests>=2.0->wbdata) (3.0.4)\n",
      "Requirement already satisfied: idna<3,>=2.5 in /opt/conda/lib/python3.8/site-packages (from requests>=2.0->wbdata) (2.8)\n",
      "Requirement already satisfied: certifi>=2017.4.17 in /opt/conda/lib/python3.8/site-packages (from requests>=2.0->wbdata) (2019.11.28)\n"
     ]
    }
   ],
   "source": [
    "## If import fails with \"ModuleNotFoundError\"\n",
    "## uncomment below & try again\n",
    "!pip install wbdata\n",
    "\n",
    "import wbdata"
   ]
  },
  {
   "cell_type": "code",
   "execution_count": 2,
   "metadata": {},
   "outputs": [],
   "source": [
    "import pandas as pd\n",
    "import numpy as np"
   ]
  },
  {
   "cell_type": "code",
   "execution_count": 3,
   "metadata": {},
   "outputs": [
    {
     "data": {
      "text/html": [
       "<div>\n",
       "<style scoped>\n",
       "    .dataframe tbody tr th:only-of-type {\n",
       "        vertical-align: middle;\n",
       "    }\n",
       "\n",
       "    .dataframe tbody tr th {\n",
       "        vertical-align: top;\n",
       "    }\n",
       "\n",
       "    .dataframe thead th {\n",
       "        text-align: right;\n",
       "    }\n",
       "</style>\n",
       "<table border=\"1\" class=\"dataframe\">\n",
       "  <thead>\n",
       "    <tr style=\"text-align: right;\">\n",
       "      <th></th>\n",
       "      <th></th>\n",
       "      <th>Total Population</th>\n",
       "      <th>Female Population</th>\n",
       "      <th>Male Population</th>\n",
       "      <th>Females (0-14)</th>\n",
       "      <th>Males (0-14)</th>\n",
       "      <th>Females (15-64)</th>\n",
       "      <th>Males (15-64)</th>\n",
       "      <th>Females (65+)</th>\n",
       "      <th>Males (65+)</th>\n",
       "      <th>Females (0-4)</th>\n",
       "      <th>...</th>\n",
       "      <th>Females (60-64)</th>\n",
       "      <th>Males (60-64)</th>\n",
       "      <th>Females (65-69)</th>\n",
       "      <th>Males (65-69)</th>\n",
       "      <th>Females (70-74)</th>\n",
       "      <th>Males (70-74)</th>\n",
       "      <th>Females (75-79)</th>\n",
       "      <th>Males (75-79)</th>\n",
       "      <th>Females (80+)</th>\n",
       "      <th>Males (80+)</th>\n",
       "    </tr>\n",
       "    <tr>\n",
       "      <th>country</th>\n",
       "      <th>date</th>\n",
       "      <th></th>\n",
       "      <th></th>\n",
       "      <th></th>\n",
       "      <th></th>\n",
       "      <th></th>\n",
       "      <th></th>\n",
       "      <th></th>\n",
       "      <th></th>\n",
       "      <th></th>\n",
       "      <th></th>\n",
       "      <th></th>\n",
       "      <th></th>\n",
       "      <th></th>\n",
       "      <th></th>\n",
       "      <th></th>\n",
       "      <th></th>\n",
       "      <th></th>\n",
       "      <th></th>\n",
       "      <th></th>\n",
       "      <th></th>\n",
       "      <th></th>\n",
       "    </tr>\n",
       "  </thead>\n",
       "  <tbody>\n",
       "    <tr>\n",
       "      <th rowspan=\"5\" valign=\"top\">Afghanistan</th>\n",
       "      <th>1960</th>\n",
       "      <td>8996973.0</td>\n",
       "      <td>4347397.0</td>\n",
       "      <td>4649576.0</td>\n",
       "      <td>1889085.0</td>\n",
       "      <td>1902314.0</td>\n",
       "      <td>2342557.0</td>\n",
       "      <td>2611254.0</td>\n",
       "      <td>115755.0</td>\n",
       "      <td>136008.0</td>\n",
       "      <td>760938.0</td>\n",
       "      <td>...</td>\n",
       "      <td>81378.0</td>\n",
       "      <td>93053.0</td>\n",
       "      <td>56624.0</td>\n",
       "      <td>67283.0</td>\n",
       "      <td>34655.0</td>\n",
       "      <td>40748.0</td>\n",
       "      <td>16990.0</td>\n",
       "      <td>19683.0</td>\n",
       "      <td>7486.0</td>\n",
       "      <td>8294.0</td>\n",
       "    </tr>\n",
       "    <tr>\n",
       "      <th>1961</th>\n",
       "      <td>9169410.0</td>\n",
       "      <td>4439158.0</td>\n",
       "      <td>4730252.0</td>\n",
       "      <td>1938162.0</td>\n",
       "      <td>1954539.0</td>\n",
       "      <td>2382132.0</td>\n",
       "      <td>2637080.0</td>\n",
       "      <td>118864.0</td>\n",
       "      <td>138633.0</td>\n",
       "      <td>795378.0</td>\n",
       "      <td>...</td>\n",
       "      <td>82261.0</td>\n",
       "      <td>93359.0</td>\n",
       "      <td>57393.0</td>\n",
       "      <td>67330.0</td>\n",
       "      <td>35363.0</td>\n",
       "      <td>41520.0</td>\n",
       "      <td>17750.0</td>\n",
       "      <td>20500.0</td>\n",
       "      <td>8358.0</td>\n",
       "      <td>9283.0</td>\n",
       "    </tr>\n",
       "    <tr>\n",
       "      <th>1962</th>\n",
       "      <td>9351441.0</td>\n",
       "      <td>4535392.0</td>\n",
       "      <td>4816049.0</td>\n",
       "      <td>1980414.0</td>\n",
       "      <td>2006726.0</td>\n",
       "      <td>2433192.0</td>\n",
       "      <td>2668877.0</td>\n",
       "      <td>121786.0</td>\n",
       "      <td>140446.0</td>\n",
       "      <td>818678.0</td>\n",
       "      <td>...</td>\n",
       "      <td>83487.0</td>\n",
       "      <td>94140.0</td>\n",
       "      <td>58326.0</td>\n",
       "      <td>67197.0</td>\n",
       "      <td>36055.0</td>\n",
       "      <td>42186.0</td>\n",
       "      <td>18364.0</td>\n",
       "      <td>21050.0</td>\n",
       "      <td>9041.0</td>\n",
       "      <td>10013.0</td>\n",
       "    </tr>\n",
       "    <tr>\n",
       "      <th>1963</th>\n",
       "      <td>9543205.0</td>\n",
       "      <td>4636172.0</td>\n",
       "      <td>4907033.0</td>\n",
       "      <td>2019727.0</td>\n",
       "      <td>2059859.0</td>\n",
       "      <td>2492014.0</td>\n",
       "      <td>2705711.0</td>\n",
       "      <td>124431.0</td>\n",
       "      <td>141463.0</td>\n",
       "      <td>834934.0</td>\n",
       "      <td>...</td>\n",
       "      <td>85012.0</td>\n",
       "      <td>95186.0</td>\n",
       "      <td>59399.0</td>\n",
       "      <td>67052.0</td>\n",
       "      <td>36757.0</td>\n",
       "      <td>42704.0</td>\n",
       "      <td>18819.0</td>\n",
       "      <td>21331.0</td>\n",
       "      <td>9456.0</td>\n",
       "      <td>10376.0</td>\n",
       "    </tr>\n",
       "    <tr>\n",
       "      <th>1964</th>\n",
       "      <td>9744781.0</td>\n",
       "      <td>4741531.0</td>\n",
       "      <td>5003250.0</td>\n",
       "      <td>2061674.0</td>\n",
       "      <td>2114431.0</td>\n",
       "      <td>2553216.0</td>\n",
       "      <td>2747068.0</td>\n",
       "      <td>126641.0</td>\n",
       "      <td>141751.0</td>\n",
       "      <td>850992.0</td>\n",
       "      <td>...</td>\n",
       "      <td>86747.0</td>\n",
       "      <td>96187.0</td>\n",
       "      <td>60569.0</td>\n",
       "      <td>67117.0</td>\n",
       "      <td>37461.0</td>\n",
       "      <td>42987.0</td>\n",
       "      <td>19098.0</td>\n",
       "      <td>21378.0</td>\n",
       "      <td>9513.0</td>\n",
       "      <td>10269.0</td>\n",
       "    </tr>\n",
       "  </tbody>\n",
       "</table>\n",
       "<p>5 rows × 43 columns</p>\n",
       "</div>"
      ],
      "text/plain": [
       "                  Total Population  Female Population  Male Population  \\\n",
       "country     date                                                         \n",
       "Afghanistan 1960         8996973.0          4347397.0        4649576.0   \n",
       "            1961         9169410.0          4439158.0        4730252.0   \n",
       "            1962         9351441.0          4535392.0        4816049.0   \n",
       "            1963         9543205.0          4636172.0        4907033.0   \n",
       "            1964         9744781.0          4741531.0        5003250.0   \n",
       "\n",
       "                  Females (0-14)  Males (0-14)  Females (15-64)  \\\n",
       "country     date                                                  \n",
       "Afghanistan 1960       1889085.0     1902314.0        2342557.0   \n",
       "            1961       1938162.0     1954539.0        2382132.0   \n",
       "            1962       1980414.0     2006726.0        2433192.0   \n",
       "            1963       2019727.0     2059859.0        2492014.0   \n",
       "            1964       2061674.0     2114431.0        2553216.0   \n",
       "\n",
       "                  Males (15-64)  Females (65+)  Males (65+)  Females (0-4)  \\\n",
       "country     date                                                             \n",
       "Afghanistan 1960      2611254.0       115755.0     136008.0       760938.0   \n",
       "            1961      2637080.0       118864.0     138633.0       795378.0   \n",
       "            1962      2668877.0       121786.0     140446.0       818678.0   \n",
       "            1963      2705711.0       124431.0     141463.0       834934.0   \n",
       "            1964      2747068.0       126641.0     141751.0       850992.0   \n",
       "\n",
       "                  ...  Females (60-64)  Males (60-64)  Females (65-69)  \\\n",
       "country     date  ...                                                    \n",
       "Afghanistan 1960  ...          81378.0        93053.0          56624.0   \n",
       "            1961  ...          82261.0        93359.0          57393.0   \n",
       "            1962  ...          83487.0        94140.0          58326.0   \n",
       "            1963  ...          85012.0        95186.0          59399.0   \n",
       "            1964  ...          86747.0        96187.0          60569.0   \n",
       "\n",
       "                  Males (65-69)  Females (70-74)  Males (70-74)  \\\n",
       "country     date                                                  \n",
       "Afghanistan 1960        67283.0          34655.0        40748.0   \n",
       "            1961        67330.0          35363.0        41520.0   \n",
       "            1962        67197.0          36055.0        42186.0   \n",
       "            1963        67052.0          36757.0        42704.0   \n",
       "            1964        67117.0          37461.0        42987.0   \n",
       "\n",
       "                  Females (75-79)  Males (75-79)  Females (80+)  Males (80+)  \n",
       "country     date                                                              \n",
       "Afghanistan 1960          16990.0        19683.0         7486.0       8294.0  \n",
       "            1961          17750.0        20500.0         8358.0       9283.0  \n",
       "            1962          18364.0        21050.0         9041.0      10013.0  \n",
       "            1963          18819.0        21331.0         9456.0      10376.0  \n",
       "            1964          19098.0        21378.0         9513.0      10269.0  \n",
       "\n",
       "[5 rows x 43 columns]"
      ]
     },
     "execution_count": 3,
     "metadata": {},
     "output_type": "execute_result"
    }
   ],
   "source": [
    "# Give variable for clarity\n",
    "variable_labels = {\"SP.POP.TOTL\":\"Total Population\",\n",
    "                   \"SP.POP.TOTL.FE.IN\":\"Female Population\",\n",
    "                   \"SP.POP.TOTL.MA.IN\":\"Male Population\",\n",
    "                   \n",
    "                   \"SP.POP.0014.FE.IN\":\"Females (0-14)\",\n",
    "                   \"SP.POP.0014.MA.IN\":\"Males (0-14)\",\n",
    "                   \n",
    "                   \"SP.POP.1564.FE.IN\":\"Females (15-64)\",\n",
    "                   \"SP.POP.1564.MA.IN\":\"Males (15-64)\",\n",
    "\n",
    "                   \"SP.POP.65UP.FE.IN\":\"Females (65+)\", \n",
    "                   \"SP.POP.65UP.MA.IN\":\"Males (65+)\", \n",
    "                   \n",
    "                   \"SP.POP.0004.FE\":\"Females (0-4)\",\n",
    "                   \"SP.POP.0004.MA\":\"Males (0-4)\",\n",
    "                   \n",
    "                   \"SP.POP.0509.FE\":\"Females (5-9)\",\n",
    "                   \"SP.POP.0509.MA\":\"Males (5-9)\",\n",
    "                   \n",
    "                   \"SP.POP.1014.FE\":\"Females (10-14)\",\n",
    "                   \"SP.POP.1014.MA\":\"Males (10-14)\",\n",
    "                   \n",
    "                   \"SP.POP.1519.FE\":\"Females (15-19)\",\n",
    "                   \"SP.POP.1519.MA\":\"Males (15-19)\",\n",
    "                   \n",
    "                   \"SP.POP.2024.FE\":\"Females (20-24)\",\n",
    "                   \"SP.POP.2024.MA\":\"Males (20-24)\",\n",
    "                   \n",
    "                   \"SP.POP.2529.FE\":\"Females (25-29)\",\n",
    "                   \"SP.POP.2529.MA\":\"Males (25-29)\",\n",
    "                   \n",
    "                   \"SP.POP.3034.FE\":\"Females (30-34)\",\n",
    "                   \"SP.POP.3034.MA\":\"Males (30-34)\",\n",
    "                   \n",
    "                   \"SP.POP.3539.FE\":\"Females (35-39)\",\n",
    "                   \"SP.POP.3539.MA\":\"Males (35-39)\",\n",
    "                   \n",
    "                   \"SP.POP.4044.FE\":\"Females (40-44)\",\n",
    "                   \"SP.POP.4044.MA\":\"Males (40-44)\",\n",
    "                   \n",
    "                   \"SP.POP.4549.FE\":\"Females (45-49)\",\n",
    "                   \"SP.POP.4549.MA\":\"Males (45-49)\",\n",
    "                   \n",
    "                   \"SP.POP.5054.FE\":\"Females (50-54)\",\n",
    "                   \"SP.POP.5054.MA\":\"Males (50-54)\",\n",
    "                   \n",
    "                   \"SP.POP.5559.FE\":\"Females (55-59)\",\n",
    "                   \"SP.POP.5559.MA\":\"Males (55-59)\",\n",
    "                   \n",
    "                   \"SP.POP.6064.FE\":\"Females (60-64)\",\n",
    "                   \"SP.POP.6064.MA\":\"Males (60-64)\",\n",
    "                   \n",
    "                   \"SP.POP.6569.FE\":\"Females (65-69)\",\n",
    "                   \"SP.POP.6569.MA\":\"Males (65-69)\",\n",
    "                   \n",
    "                   \"SP.POP.7074.FE\":\"Females (70-74)\",\n",
    "                   \"SP.POP.7074.MA\":\"Males (70-74)\",\n",
    "                \n",
    "                   \"SP.POP.7579.FE\":\"Females (75-79)\",\n",
    "                   \"SP.POP.7579.MA\":\"Males (75-79)\",\n",
    "                   \n",
    "                   \"SP.POP.80UP.FE\":\"Females (80+)\",\n",
    "                   \"SP.POP.80UP.MA\":\"Males (80+)\" \n",
    "                   \n",
    "                  }\n",
    "\n",
    "world = wbdata.get_dataframe(variable_labels, country=\"\")\n",
    "\n",
    "# Print a few years' data\n",
    "world.head()"
   ]
  },
  {
   "cell_type": "code",
   "execution_count": 4,
   "metadata": {},
   "outputs": [
    {
     "data": {
      "text/plain": [
       "26693750.0"
      ]
     },
     "execution_count": 4,
     "metadata": {},
     "output_type": "execute_result"
    }
   ],
   "source": [
    "world.loc[\"Arab World\", \"1970\"][\"Females (0-14)\"]"
   ]
  },
  {
   "cell_type": "code",
   "execution_count": 5,
   "metadata": {},
   "outputs": [
    {
     "data": {
      "text/plain": [
       "Total Population     9351441.0\n",
       "Female Population    4535392.0\n",
       "Male Population      4816049.0\n",
       "Females (0-14)       1980414.0\n",
       "Males (0-14)         2006726.0\n",
       "Females (15-64)      2433192.0\n",
       "Males (15-64)        2668877.0\n",
       "Females (65+)         121786.0\n",
       "Males (65+)           140446.0\n",
       "Females (0-4)         818678.0\n",
       "Males (0-4)           831163.0\n",
       "Females (5-9)         611717.0\n",
       "Males (5-9)           637537.0\n",
       "Females (10-14)       550019.0\n",
       "Males (10-14)         538026.0\n",
       "Females (15-19)       477029.0\n",
       "Males (15-19)         485476.0\n",
       "Females (20-24)       394896.0\n",
       "Males (20-24)         429297.0\n",
       "Females (25-29)       337367.0\n",
       "Males (25-29)         369574.0\n",
       "Females (30-34)       285151.0\n",
       "Males (30-34)         324628.0\n",
       "Females (35-39)       239468.0\n",
       "Males (35-39)         277057.0\n",
       "Females (40-44)       200415.0\n",
       "Males (40-44)         228662.0\n",
       "Females (45-49)       167294.0\n",
       "Males (45-49)         187610.0\n",
       "Females (50-54)       137894.0\n",
       "Males (50-54)         150506.0\n",
       "Females (55-59)       110191.0\n",
       "Males (55-59)         121928.0\n",
       "Females (60-64)        83487.0\n",
       "Males (60-64)          94140.0\n",
       "Females (65-69)        58326.0\n",
       "Males (65-69)          67197.0\n",
       "Females (70-74)        36055.0\n",
       "Males (70-74)          42186.0\n",
       "Females (75-79)        18364.0\n",
       "Males (75-79)          21050.0\n",
       "Females (80+)           9041.0\n",
       "Males (80+)            10013.0\n",
       "Name: (Afghanistan, 1962), dtype: float64"
      ]
     },
     "execution_count": 5,
     "metadata": {},
     "output_type": "execute_result"
    }
   ],
   "source": [
    "world.iloc[2]"
   ]
  },
  {
   "cell_type": "code",
   "execution_count": 6,
   "metadata": {},
   "outputs": [
    {
     "data": {
      "text/html": [
       "<div>\n",
       "<style scoped>\n",
       "    .dataframe tbody tr th:only-of-type {\n",
       "        vertical-align: middle;\n",
       "    }\n",
       "\n",
       "    .dataframe tbody tr th {\n",
       "        vertical-align: top;\n",
       "    }\n",
       "\n",
       "    .dataframe thead th {\n",
       "        text-align: right;\n",
       "    }\n",
       "</style>\n",
       "<table border=\"1\" class=\"dataframe\">\n",
       "  <thead>\n",
       "    <tr style=\"text-align: right;\">\n",
       "      <th></th>\n",
       "      <th>Age</th>\n",
       "      <th>Male</th>\n",
       "      <th>Female</th>\n",
       "    </tr>\n",
       "  </thead>\n",
       "  <tbody>\n",
       "    <tr>\n",
       "      <th>0</th>\n",
       "      <td>0-4</td>\n",
       "      <td>-49228000</td>\n",
       "      <td>52367000</td>\n",
       "    </tr>\n",
       "    <tr>\n",
       "      <th>1</th>\n",
       "      <td>5-9</td>\n",
       "      <td>-61283000</td>\n",
       "      <td>64959000</td>\n",
       "    </tr>\n",
       "    <tr>\n",
       "      <th>2</th>\n",
       "      <td>10-14</td>\n",
       "      <td>-64391000</td>\n",
       "      <td>67161000</td>\n",
       "    </tr>\n",
       "    <tr>\n",
       "      <th>3</th>\n",
       "      <td>15-19</td>\n",
       "      <td>-52437000</td>\n",
       "      <td>55388000</td>\n",
       "    </tr>\n",
       "    <tr>\n",
       "      <th>4</th>\n",
       "      <td>20-24</td>\n",
       "      <td>-42955000</td>\n",
       "      <td>45448000</td>\n",
       "    </tr>\n",
       "  </tbody>\n",
       "</table>\n",
       "</div>"
      ],
      "text/plain": [
       "     Age      Male    Female\n",
       "0    0-4 -49228000  52367000\n",
       "1    5-9 -61283000  64959000\n",
       "2  10-14 -64391000  67161000\n",
       "3  15-19 -52437000  55388000\n",
       "4  20-24 -42955000  45448000"
      ]
     },
     "execution_count": 6,
     "metadata": {},
     "output_type": "execute_result"
    }
   ],
   "source": [
    "import pandas as pd\n",
    "example =pd.DataFrame({'Age': ['0-4','5-9','10-14','15-19','20-24','25-29','30-34','35-39','40-44','45-49','50-54','55-59','60-64','65-69','70-74','75-79','80-84','85-89','90-94','95-99','100+'], \n",
    "                    'Male': [-49228000, -61283000, -64391000, -52437000, -42955000, -44667000, -31570000, -23887000, -22390000, -20971000, -17685000, -15450000, -13932000, -11020000, -7611000, -4653000, -1952000, -625000, -116000, -14000, -1000], \n",
    "                    'Female': [52367000, 64959000, 67161000, 55388000, 45448000, 47129000, 33436000, 26710000, 25627000, 23612000, 20075000, 16368000, 14220000, 10125000, 5984000, 3131000, 1151000, 312000, 49000, 4000, 0]})\n",
    "example.head()"
   ]
  },
  {
   "cell_type": "code",
   "execution_count": 7,
   "metadata": {},
   "outputs": [
    {
     "data": {
      "text/html": [
       "<div>\n",
       "<style scoped>\n",
       "    .dataframe tbody tr th:only-of-type {\n",
       "        vertical-align: middle;\n",
       "    }\n",
       "\n",
       "    .dataframe tbody tr th {\n",
       "        vertical-align: top;\n",
       "    }\n",
       "\n",
       "    .dataframe thead th {\n",
       "        text-align: right;\n",
       "    }\n",
       "</style>\n",
       "<table border=\"1\" class=\"dataframe\">\n",
       "  <thead>\n",
       "    <tr style=\"text-align: right;\">\n",
       "      <th></th>\n",
       "      <th></th>\n",
       "      <th>Total Population</th>\n",
       "      <th>Female Population</th>\n",
       "      <th>Male Population</th>\n",
       "      <th>Females (0-14)</th>\n",
       "      <th>Males (0-14)</th>\n",
       "      <th>Females (15-64)</th>\n",
       "      <th>Males (15-64)</th>\n",
       "      <th>Females (65+)</th>\n",
       "      <th>Males (65+)</th>\n",
       "      <th>Females (0-4)</th>\n",
       "      <th>...</th>\n",
       "      <th>Females (60-64)</th>\n",
       "      <th>Males (60-64)</th>\n",
       "      <th>Females (65-69)</th>\n",
       "      <th>Males (65-69)</th>\n",
       "      <th>Females (70-74)</th>\n",
       "      <th>Males (70-74)</th>\n",
       "      <th>Females (75-79)</th>\n",
       "      <th>Males (75-79)</th>\n",
       "      <th>Females (80+)</th>\n",
       "      <th>Males (80+)</th>\n",
       "    </tr>\n",
       "    <tr>\n",
       "      <th>country</th>\n",
       "      <th>date</th>\n",
       "      <th></th>\n",
       "      <th></th>\n",
       "      <th></th>\n",
       "      <th></th>\n",
       "      <th></th>\n",
       "      <th></th>\n",
       "      <th></th>\n",
       "      <th></th>\n",
       "      <th></th>\n",
       "      <th></th>\n",
       "      <th></th>\n",
       "      <th></th>\n",
       "      <th></th>\n",
       "      <th></th>\n",
       "      <th></th>\n",
       "      <th></th>\n",
       "      <th></th>\n",
       "      <th></th>\n",
       "      <th></th>\n",
       "      <th></th>\n",
       "      <th></th>\n",
       "    </tr>\n",
       "  </thead>\n",
       "  <tbody>\n",
       "    <tr>\n",
       "      <th rowspan=\"5\" valign=\"top\">Afghanistan</th>\n",
       "      <th>1960</th>\n",
       "      <td>8996973.0</td>\n",
       "      <td>4347397.0</td>\n",
       "      <td>4649576.0</td>\n",
       "      <td>1889085.0</td>\n",
       "      <td>1902314.0</td>\n",
       "      <td>2342557.0</td>\n",
       "      <td>2611254.0</td>\n",
       "      <td>115755.0</td>\n",
       "      <td>136008.0</td>\n",
       "      <td>760938.0</td>\n",
       "      <td>...</td>\n",
       "      <td>81378.0</td>\n",
       "      <td>93053.0</td>\n",
       "      <td>56624.0</td>\n",
       "      <td>67283.0</td>\n",
       "      <td>34655.0</td>\n",
       "      <td>40748.0</td>\n",
       "      <td>16990.0</td>\n",
       "      <td>19683.0</td>\n",
       "      <td>7486.0</td>\n",
       "      <td>8294.0</td>\n",
       "    </tr>\n",
       "    <tr>\n",
       "      <th>1961</th>\n",
       "      <td>9169410.0</td>\n",
       "      <td>4439158.0</td>\n",
       "      <td>4730252.0</td>\n",
       "      <td>1938162.0</td>\n",
       "      <td>1954539.0</td>\n",
       "      <td>2382132.0</td>\n",
       "      <td>2637080.0</td>\n",
       "      <td>118864.0</td>\n",
       "      <td>138633.0</td>\n",
       "      <td>795378.0</td>\n",
       "      <td>...</td>\n",
       "      <td>82261.0</td>\n",
       "      <td>93359.0</td>\n",
       "      <td>57393.0</td>\n",
       "      <td>67330.0</td>\n",
       "      <td>35363.0</td>\n",
       "      <td>41520.0</td>\n",
       "      <td>17750.0</td>\n",
       "      <td>20500.0</td>\n",
       "      <td>8358.0</td>\n",
       "      <td>9283.0</td>\n",
       "    </tr>\n",
       "    <tr>\n",
       "      <th>1962</th>\n",
       "      <td>9351441.0</td>\n",
       "      <td>4535392.0</td>\n",
       "      <td>4816049.0</td>\n",
       "      <td>1980414.0</td>\n",
       "      <td>2006726.0</td>\n",
       "      <td>2433192.0</td>\n",
       "      <td>2668877.0</td>\n",
       "      <td>121786.0</td>\n",
       "      <td>140446.0</td>\n",
       "      <td>818678.0</td>\n",
       "      <td>...</td>\n",
       "      <td>83487.0</td>\n",
       "      <td>94140.0</td>\n",
       "      <td>58326.0</td>\n",
       "      <td>67197.0</td>\n",
       "      <td>36055.0</td>\n",
       "      <td>42186.0</td>\n",
       "      <td>18364.0</td>\n",
       "      <td>21050.0</td>\n",
       "      <td>9041.0</td>\n",
       "      <td>10013.0</td>\n",
       "    </tr>\n",
       "    <tr>\n",
       "      <th>1963</th>\n",
       "      <td>9543205.0</td>\n",
       "      <td>4636172.0</td>\n",
       "      <td>4907033.0</td>\n",
       "      <td>2019727.0</td>\n",
       "      <td>2059859.0</td>\n",
       "      <td>2492014.0</td>\n",
       "      <td>2705711.0</td>\n",
       "      <td>124431.0</td>\n",
       "      <td>141463.0</td>\n",
       "      <td>834934.0</td>\n",
       "      <td>...</td>\n",
       "      <td>85012.0</td>\n",
       "      <td>95186.0</td>\n",
       "      <td>59399.0</td>\n",
       "      <td>67052.0</td>\n",
       "      <td>36757.0</td>\n",
       "      <td>42704.0</td>\n",
       "      <td>18819.0</td>\n",
       "      <td>21331.0</td>\n",
       "      <td>9456.0</td>\n",
       "      <td>10376.0</td>\n",
       "    </tr>\n",
       "    <tr>\n",
       "      <th>1964</th>\n",
       "      <td>9744781.0</td>\n",
       "      <td>4741531.0</td>\n",
       "      <td>5003250.0</td>\n",
       "      <td>2061674.0</td>\n",
       "      <td>2114431.0</td>\n",
       "      <td>2553216.0</td>\n",
       "      <td>2747068.0</td>\n",
       "      <td>126641.0</td>\n",
       "      <td>141751.0</td>\n",
       "      <td>850992.0</td>\n",
       "      <td>...</td>\n",
       "      <td>86747.0</td>\n",
       "      <td>96187.0</td>\n",
       "      <td>60569.0</td>\n",
       "      <td>67117.0</td>\n",
       "      <td>37461.0</td>\n",
       "      <td>42987.0</td>\n",
       "      <td>19098.0</td>\n",
       "      <td>21378.0</td>\n",
       "      <td>9513.0</td>\n",
       "      <td>10269.0</td>\n",
       "    </tr>\n",
       "  </tbody>\n",
       "</table>\n",
       "<p>5 rows × 43 columns</p>\n",
       "</div>"
      ],
      "text/plain": [
       "                  Total Population  Female Population  Male Population  \\\n",
       "country     date                                                         \n",
       "Afghanistan 1960         8996973.0          4347397.0        4649576.0   \n",
       "            1961         9169410.0          4439158.0        4730252.0   \n",
       "            1962         9351441.0          4535392.0        4816049.0   \n",
       "            1963         9543205.0          4636172.0        4907033.0   \n",
       "            1964         9744781.0          4741531.0        5003250.0   \n",
       "\n",
       "                  Females (0-14)  Males (0-14)  Females (15-64)  \\\n",
       "country     date                                                  \n",
       "Afghanistan 1960       1889085.0     1902314.0        2342557.0   \n",
       "            1961       1938162.0     1954539.0        2382132.0   \n",
       "            1962       1980414.0     2006726.0        2433192.0   \n",
       "            1963       2019727.0     2059859.0        2492014.0   \n",
       "            1964       2061674.0     2114431.0        2553216.0   \n",
       "\n",
       "                  Males (15-64)  Females (65+)  Males (65+)  Females (0-4)  \\\n",
       "country     date                                                             \n",
       "Afghanistan 1960      2611254.0       115755.0     136008.0       760938.0   \n",
       "            1961      2637080.0       118864.0     138633.0       795378.0   \n",
       "            1962      2668877.0       121786.0     140446.0       818678.0   \n",
       "            1963      2705711.0       124431.0     141463.0       834934.0   \n",
       "            1964      2747068.0       126641.0     141751.0       850992.0   \n",
       "\n",
       "                  ...  Females (60-64)  Males (60-64)  Females (65-69)  \\\n",
       "country     date  ...                                                    \n",
       "Afghanistan 1960  ...          81378.0        93053.0          56624.0   \n",
       "            1961  ...          82261.0        93359.0          57393.0   \n",
       "            1962  ...          83487.0        94140.0          58326.0   \n",
       "            1963  ...          85012.0        95186.0          59399.0   \n",
       "            1964  ...          86747.0        96187.0          60569.0   \n",
       "\n",
       "                  Males (65-69)  Females (70-74)  Males (70-74)  \\\n",
       "country     date                                                  \n",
       "Afghanistan 1960        67283.0          34655.0        40748.0   \n",
       "            1961        67330.0          35363.0        41520.0   \n",
       "            1962        67197.0          36055.0        42186.0   \n",
       "            1963        67052.0          36757.0        42704.0   \n",
       "            1964        67117.0          37461.0        42987.0   \n",
       "\n",
       "                  Females (75-79)  Males (75-79)  Females (80+)  Males (80+)  \n",
       "country     date                                                              \n",
       "Afghanistan 1960          16990.0        19683.0         7486.0       8294.0  \n",
       "            1961          17750.0        20500.0         8358.0       9283.0  \n",
       "            1962          18364.0        21050.0         9041.0      10013.0  \n",
       "            1963          18819.0        21331.0         9456.0      10376.0  \n",
       "            1964          19098.0        21378.0         9513.0      10269.0  \n",
       "\n",
       "[5 rows x 43 columns]"
      ]
     },
     "execution_count": 7,
     "metadata": {},
     "output_type": "execute_result"
    }
   ],
   "source": [
    "world.head()"
   ]
  },
  {
   "cell_type": "code",
   "execution_count": 45,
   "metadata": {},
   "outputs": [
    {
     "ename": "TypeError",
     "evalue": "pivot() missing 1 required argument: 'columns'",
     "output_type": "error",
     "traceback": [
      "\u001b[0;31m---------------------------------------------------------------------------\u001b[0m",
      "\u001b[0;31mTypeError\u001b[0m                                 Traceback (most recent call last)",
      "\u001b[0;32m<ipython-input-45-a55700a5c88c>\u001b[0m in \u001b[0;36m<module>\u001b[0;34m\u001b[0m\n\u001b[0;32m----> 1\u001b[0;31m \u001b[0mworld\u001b[0m\u001b[0;34m.\u001b[0m\u001b[0mloc\u001b[0m\u001b[0;34m[\u001b[0m\u001b[0;34m\"Afghanistan\"\u001b[0m\u001b[0;34m]\u001b[0m\u001b[0;34m.\u001b[0m\u001b[0mpivot\u001b[0m\u001b[0;34m(\u001b[0m\u001b[0;34m)\u001b[0m\u001b[0;34m\u001b[0m\u001b[0;34m\u001b[0m\u001b[0m\n\u001b[0m",
      "\u001b[0;32m/opt/conda/lib/python3.8/site-packages/pandas/core/frame.py\u001b[0m in \u001b[0;36mpivot\u001b[0;34m(self, index, columns, values)\u001b[0m\n\u001b[1;32m   6874\u001b[0m         \u001b[0;32mfrom\u001b[0m \u001b[0mpandas\u001b[0m\u001b[0;34m.\u001b[0m\u001b[0mcore\u001b[0m\u001b[0;34m.\u001b[0m\u001b[0mreshape\u001b[0m\u001b[0;34m.\u001b[0m\u001b[0mpivot\u001b[0m \u001b[0;32mimport\u001b[0m \u001b[0mpivot\u001b[0m\u001b[0;34m\u001b[0m\u001b[0;34m\u001b[0m\u001b[0m\n\u001b[1;32m   6875\u001b[0m \u001b[0;34m\u001b[0m\u001b[0m\n\u001b[0;32m-> 6876\u001b[0;31m         \u001b[0;32mreturn\u001b[0m \u001b[0mpivot\u001b[0m\u001b[0;34m(\u001b[0m\u001b[0mself\u001b[0m\u001b[0;34m,\u001b[0m \u001b[0mindex\u001b[0m\u001b[0;34m=\u001b[0m\u001b[0mindex\u001b[0m\u001b[0;34m,\u001b[0m \u001b[0mcolumns\u001b[0m\u001b[0;34m=\u001b[0m\u001b[0mcolumns\u001b[0m\u001b[0;34m,\u001b[0m \u001b[0mvalues\u001b[0m\u001b[0;34m=\u001b[0m\u001b[0mvalues\u001b[0m\u001b[0;34m)\u001b[0m\u001b[0;34m\u001b[0m\u001b[0;34m\u001b[0m\u001b[0m\n\u001b[0m\u001b[1;32m   6877\u001b[0m \u001b[0;34m\u001b[0m\u001b[0m\n\u001b[1;32m   6878\u001b[0m     _shared_docs[\n",
      "\u001b[0;32m/opt/conda/lib/python3.8/site-packages/pandas/core/reshape/pivot.py\u001b[0m in \u001b[0;36mpivot\u001b[0;34m(data, index, columns, values)\u001b[0m\n\u001b[1;32m    428\u001b[0m ) -> \"DataFrame\":\n\u001b[1;32m    429\u001b[0m     \u001b[0;32mif\u001b[0m \u001b[0mcolumns\u001b[0m \u001b[0;32mis\u001b[0m \u001b[0;32mNone\u001b[0m\u001b[0;34m:\u001b[0m\u001b[0;34m\u001b[0m\u001b[0;34m\u001b[0m\u001b[0m\n\u001b[0;32m--> 430\u001b[0;31m         \u001b[0;32mraise\u001b[0m \u001b[0mTypeError\u001b[0m\u001b[0;34m(\u001b[0m\u001b[0;34m\"pivot() missing 1 required argument: 'columns'\"\u001b[0m\u001b[0;34m)\u001b[0m\u001b[0;34m\u001b[0m\u001b[0;34m\u001b[0m\u001b[0m\n\u001b[0m\u001b[1;32m    431\u001b[0m \u001b[0;34m\u001b[0m\u001b[0m\n\u001b[1;32m    432\u001b[0m     \u001b[0mcolumns\u001b[0m \u001b[0;34m=\u001b[0m \u001b[0mcom\u001b[0m\u001b[0;34m.\u001b[0m\u001b[0mconvert_to_list_like\u001b[0m\u001b[0;34m(\u001b[0m\u001b[0mcolumns\u001b[0m\u001b[0;34m)\u001b[0m\u001b[0;34m\u001b[0m\u001b[0;34m\u001b[0m\u001b[0m\n",
      "\u001b[0;31mTypeError\u001b[0m: pivot() missing 1 required argument: 'columns'"
     ]
    }
   ],
   "source": [
    "world.loc[\"Afghanistan\"].pivot()"
   ]
  },
  {
   "cell_type": "code",
   "execution_count": 104,
   "metadata": {},
   "outputs": [
    {
     "data": {
      "text/html": [
       "<div>\n",
       "<style scoped>\n",
       "    .dataframe tbody tr th:only-of-type {\n",
       "        vertical-align: middle;\n",
       "    }\n",
       "\n",
       "    .dataframe tbody tr th {\n",
       "        vertical-align: top;\n",
       "    }\n",
       "\n",
       "    .dataframe thead th {\n",
       "        text-align: right;\n",
       "    }\n",
       "</style>\n",
       "<table border=\"1\" class=\"dataframe\">\n",
       "  <thead>\n",
       "    <tr style=\"text-align: right;\">\n",
       "      <th></th>\n",
       "      <th>Category</th>\n",
       "      <th>Population</th>\n",
       "    </tr>\n",
       "  </thead>\n",
       "  <tbody>\n",
       "    <tr>\n",
       "      <th>0</th>\n",
       "      <td>Total Population</td>\n",
       "      <td>398315770.0</td>\n",
       "    </tr>\n",
       "    <tr>\n",
       "      <th>1</th>\n",
       "      <td>Female Population</td>\n",
       "      <td>398315770.0</td>\n",
       "    </tr>\n",
       "    <tr>\n",
       "      <th>2</th>\n",
       "      <td>Male Population</td>\n",
       "      <td>398315770.0</td>\n",
       "    </tr>\n",
       "    <tr>\n",
       "      <th>3</th>\n",
       "      <td>Females (0-14)</td>\n",
       "      <td>398315770.0</td>\n",
       "    </tr>\n",
       "    <tr>\n",
       "      <th>4</th>\n",
       "      <td>Males (0-14)</td>\n",
       "      <td>398315770.0</td>\n",
       "    </tr>\n",
       "    <tr>\n",
       "      <th>5</th>\n",
       "      <td>Females (15-64)</td>\n",
       "      <td>398315770.0</td>\n",
       "    </tr>\n",
       "    <tr>\n",
       "      <th>6</th>\n",
       "      <td>Males (15-64)</td>\n",
       "      <td>398315770.0</td>\n",
       "    </tr>\n",
       "    <tr>\n",
       "      <th>7</th>\n",
       "      <td>Females (65+)</td>\n",
       "      <td>398315770.0</td>\n",
       "    </tr>\n",
       "    <tr>\n",
       "      <th>8</th>\n",
       "      <td>Males (65+)</td>\n",
       "      <td>398315770.0</td>\n",
       "    </tr>\n",
       "    <tr>\n",
       "      <th>9</th>\n",
       "      <td>Females (0-4)</td>\n",
       "      <td>398315770.0</td>\n",
       "    </tr>\n",
       "    <tr>\n",
       "      <th>10</th>\n",
       "      <td>Males (0-4)</td>\n",
       "      <td>398315770.0</td>\n",
       "    </tr>\n",
       "    <tr>\n",
       "      <th>11</th>\n",
       "      <td>Females (5-9)</td>\n",
       "      <td>398315770.0</td>\n",
       "    </tr>\n",
       "    <tr>\n",
       "      <th>12</th>\n",
       "      <td>Males (5-9)</td>\n",
       "      <td>398315770.0</td>\n",
       "    </tr>\n",
       "    <tr>\n",
       "      <th>13</th>\n",
       "      <td>Females (10-14)</td>\n",
       "      <td>398315770.0</td>\n",
       "    </tr>\n",
       "    <tr>\n",
       "      <th>14</th>\n",
       "      <td>Males (10-14)</td>\n",
       "      <td>398315770.0</td>\n",
       "    </tr>\n",
       "    <tr>\n",
       "      <th>15</th>\n",
       "      <td>Females (15-19)</td>\n",
       "      <td>398315770.0</td>\n",
       "    </tr>\n",
       "    <tr>\n",
       "      <th>16</th>\n",
       "      <td>Males (15-19)</td>\n",
       "      <td>398315770.0</td>\n",
       "    </tr>\n",
       "    <tr>\n",
       "      <th>17</th>\n",
       "      <td>Females (20-24)</td>\n",
       "      <td>398315770.0</td>\n",
       "    </tr>\n",
       "    <tr>\n",
       "      <th>18</th>\n",
       "      <td>Males (20-24)</td>\n",
       "      <td>398315770.0</td>\n",
       "    </tr>\n",
       "    <tr>\n",
       "      <th>19</th>\n",
       "      <td>Females (25-29)</td>\n",
       "      <td>398315770.0</td>\n",
       "    </tr>\n",
       "    <tr>\n",
       "      <th>20</th>\n",
       "      <td>Males (25-29)</td>\n",
       "      <td>398315770.0</td>\n",
       "    </tr>\n",
       "    <tr>\n",
       "      <th>21</th>\n",
       "      <td>Females (30-34)</td>\n",
       "      <td>398315770.0</td>\n",
       "    </tr>\n",
       "    <tr>\n",
       "      <th>22</th>\n",
       "      <td>Males (30-34)</td>\n",
       "      <td>398315770.0</td>\n",
       "    </tr>\n",
       "    <tr>\n",
       "      <th>23</th>\n",
       "      <td>Females (35-39)</td>\n",
       "      <td>398315770.0</td>\n",
       "    </tr>\n",
       "    <tr>\n",
       "      <th>24</th>\n",
       "      <td>Males (35-39)</td>\n",
       "      <td>398315770.0</td>\n",
       "    </tr>\n",
       "    <tr>\n",
       "      <th>25</th>\n",
       "      <td>Females (40-44)</td>\n",
       "      <td>398315770.0</td>\n",
       "    </tr>\n",
       "    <tr>\n",
       "      <th>26</th>\n",
       "      <td>Males (40-44)</td>\n",
       "      <td>398315770.0</td>\n",
       "    </tr>\n",
       "    <tr>\n",
       "      <th>27</th>\n",
       "      <td>Females (45-49)</td>\n",
       "      <td>398315770.0</td>\n",
       "    </tr>\n",
       "    <tr>\n",
       "      <th>28</th>\n",
       "      <td>Males (45-49)</td>\n",
       "      <td>398315770.0</td>\n",
       "    </tr>\n",
       "    <tr>\n",
       "      <th>29</th>\n",
       "      <td>Females (50-54)</td>\n",
       "      <td>398315770.0</td>\n",
       "    </tr>\n",
       "    <tr>\n",
       "      <th>30</th>\n",
       "      <td>Males (50-54)</td>\n",
       "      <td>398315770.0</td>\n",
       "    </tr>\n",
       "    <tr>\n",
       "      <th>31</th>\n",
       "      <td>Females (55-59)</td>\n",
       "      <td>398315770.0</td>\n",
       "    </tr>\n",
       "    <tr>\n",
       "      <th>32</th>\n",
       "      <td>Males (55-59)</td>\n",
       "      <td>398315770.0</td>\n",
       "    </tr>\n",
       "    <tr>\n",
       "      <th>33</th>\n",
       "      <td>Females (60-64)</td>\n",
       "      <td>398315770.0</td>\n",
       "    </tr>\n",
       "    <tr>\n",
       "      <th>34</th>\n",
       "      <td>Males (60-64)</td>\n",
       "      <td>398315770.0</td>\n",
       "    </tr>\n",
       "    <tr>\n",
       "      <th>35</th>\n",
       "      <td>Females (65-69)</td>\n",
       "      <td>398315770.0</td>\n",
       "    </tr>\n",
       "    <tr>\n",
       "      <th>36</th>\n",
       "      <td>Males (65-69)</td>\n",
       "      <td>398315770.0</td>\n",
       "    </tr>\n",
       "    <tr>\n",
       "      <th>37</th>\n",
       "      <td>Females (70-74)</td>\n",
       "      <td>398315770.0</td>\n",
       "    </tr>\n",
       "    <tr>\n",
       "      <th>38</th>\n",
       "      <td>Males (70-74)</td>\n",
       "      <td>398315770.0</td>\n",
       "    </tr>\n",
       "    <tr>\n",
       "      <th>39</th>\n",
       "      <td>Females (75-79)</td>\n",
       "      <td>398315770.0</td>\n",
       "    </tr>\n",
       "    <tr>\n",
       "      <th>40</th>\n",
       "      <td>Males (75-79)</td>\n",
       "      <td>398315770.0</td>\n",
       "    </tr>\n",
       "    <tr>\n",
       "      <th>41</th>\n",
       "      <td>Females (80+)</td>\n",
       "      <td>398315770.0</td>\n",
       "    </tr>\n",
       "    <tr>\n",
       "      <th>42</th>\n",
       "      <td>Males (80+)</td>\n",
       "      <td>398315770.0</td>\n",
       "    </tr>\n",
       "  </tbody>\n",
       "</table>\n",
       "</div>"
      ],
      "text/plain": [
       "             Category   Population\n",
       "0    Total Population  398315770.0\n",
       "1   Female Population  398315770.0\n",
       "2     Male Population  398315770.0\n",
       "3      Females (0-14)  398315770.0\n",
       "4        Males (0-14)  398315770.0\n",
       "5     Females (15-64)  398315770.0\n",
       "6       Males (15-64)  398315770.0\n",
       "7       Females (65+)  398315770.0\n",
       "8         Males (65+)  398315770.0\n",
       "9       Females (0-4)  398315770.0\n",
       "10        Males (0-4)  398315770.0\n",
       "11      Females (5-9)  398315770.0\n",
       "12        Males (5-9)  398315770.0\n",
       "13    Females (10-14)  398315770.0\n",
       "14      Males (10-14)  398315770.0\n",
       "15    Females (15-19)  398315770.0\n",
       "16      Males (15-19)  398315770.0\n",
       "17    Females (20-24)  398315770.0\n",
       "18      Males (20-24)  398315770.0\n",
       "19    Females (25-29)  398315770.0\n",
       "20      Males (25-29)  398315770.0\n",
       "21    Females (30-34)  398315770.0\n",
       "22      Males (30-34)  398315770.0\n",
       "23    Females (35-39)  398315770.0\n",
       "24      Males (35-39)  398315770.0\n",
       "25    Females (40-44)  398315770.0\n",
       "26      Males (40-44)  398315770.0\n",
       "27    Females (45-49)  398315770.0\n",
       "28      Males (45-49)  398315770.0\n",
       "29    Females (50-54)  398315770.0\n",
       "30      Males (50-54)  398315770.0\n",
       "31    Females (55-59)  398315770.0\n",
       "32      Males (55-59)  398315770.0\n",
       "33    Females (60-64)  398315770.0\n",
       "34      Males (60-64)  398315770.0\n",
       "35    Females (65-69)  398315770.0\n",
       "36      Males (65-69)  398315770.0\n",
       "37    Females (70-74)  398315770.0\n",
       "38      Males (70-74)  398315770.0\n",
       "39    Females (75-79)  398315770.0\n",
       "40      Males (75-79)  398315770.0\n",
       "41      Females (80+)  398315770.0\n",
       "42        Males (80+)  398315770.0"
      ]
     },
     "execution_count": 104,
     "metadata": {},
     "output_type": "execute_result"
    }
   ],
   "source": [
    "male_trial = pd.DataFrame({'Category': world.loc[\"China\", \"1970\"].index, \n",
    "                      'Population': world.loc[\"China\", \"1970\"].iloc[1]})\n",
    "male_trial"
   ]
  },
  {
   "cell_type": "code",
   "execution_count": 109,
   "metadata": {},
   "outputs": [
    {
     "data": {
      "text/html": [
       "<div>\n",
       "<style scoped>\n",
       "    .dataframe tbody tr th:only-of-type {\n",
       "        vertical-align: middle;\n",
       "    }\n",
       "\n",
       "    .dataframe tbody tr th {\n",
       "        vertical-align: top;\n",
       "    }\n",
       "\n",
       "    .dataframe thead th {\n",
       "        text-align: right;\n",
       "    }\n",
       "</style>\n",
       "<table border=\"1\" class=\"dataframe\">\n",
       "  <thead>\n",
       "    <tr style=\"text-align: right;\">\n",
       "      <th></th>\n",
       "      <th>Category</th>\n",
       "      <th>Population</th>\n",
       "      <th>Age</th>\n",
       "      <th>Gender</th>\n",
       "    </tr>\n",
       "  </thead>\n",
       "  <tbody>\n",
       "    <tr>\n",
       "      <th>3</th>\n",
       "      <td>Females (0-14)</td>\n",
       "      <td>398315770.0</td>\n",
       "      <td>0-14</td>\n",
       "      <td>Females (0-14)</td>\n",
       "    </tr>\n",
       "    <tr>\n",
       "      <th>4</th>\n",
       "      <td>Males (0-14)</td>\n",
       "      <td>398315770.0</td>\n",
       "      <td>0-14</td>\n",
       "      <td>Males (0-14)</td>\n",
       "    </tr>\n",
       "    <tr>\n",
       "      <th>5</th>\n",
       "      <td>Females (15-64)</td>\n",
       "      <td>398315770.0</td>\n",
       "      <td>15-64</td>\n",
       "      <td>Females (15-64)</td>\n",
       "    </tr>\n",
       "    <tr>\n",
       "      <th>6</th>\n",
       "      <td>Males (15-64)</td>\n",
       "      <td>398315770.0</td>\n",
       "      <td>15-64</td>\n",
       "      <td>Males (15-64)</td>\n",
       "    </tr>\n",
       "    <tr>\n",
       "      <th>7</th>\n",
       "      <td>Females (65+)</td>\n",
       "      <td>398315770.0</td>\n",
       "      <td>65+</td>\n",
       "      <td>Females (65+)</td>\n",
       "    </tr>\n",
       "    <tr>\n",
       "      <th>8</th>\n",
       "      <td>Males (65+)</td>\n",
       "      <td>398315770.0</td>\n",
       "      <td>65+</td>\n",
       "      <td>Males (65+)</td>\n",
       "    </tr>\n",
       "    <tr>\n",
       "      <th>9</th>\n",
       "      <td>Females (0-4)</td>\n",
       "      <td>398315770.0</td>\n",
       "      <td>0-4</td>\n",
       "      <td>Females (0-4)</td>\n",
       "    </tr>\n",
       "    <tr>\n",
       "      <th>10</th>\n",
       "      <td>Males (0-4)</td>\n",
       "      <td>398315770.0</td>\n",
       "      <td>0-4</td>\n",
       "      <td>Males (0-4)</td>\n",
       "    </tr>\n",
       "    <tr>\n",
       "      <th>11</th>\n",
       "      <td>Females (5-9)</td>\n",
       "      <td>398315770.0</td>\n",
       "      <td>5-9</td>\n",
       "      <td>Females (5-9)</td>\n",
       "    </tr>\n",
       "    <tr>\n",
       "      <th>12</th>\n",
       "      <td>Males (5-9)</td>\n",
       "      <td>398315770.0</td>\n",
       "      <td>5-9</td>\n",
       "      <td>Males (5-9)</td>\n",
       "    </tr>\n",
       "    <tr>\n",
       "      <th>13</th>\n",
       "      <td>Females (10-14)</td>\n",
       "      <td>398315770.0</td>\n",
       "      <td>10-14</td>\n",
       "      <td>Females (10-14)</td>\n",
       "    </tr>\n",
       "    <tr>\n",
       "      <th>14</th>\n",
       "      <td>Males (10-14)</td>\n",
       "      <td>398315770.0</td>\n",
       "      <td>10-14</td>\n",
       "      <td>Males (10-14)</td>\n",
       "    </tr>\n",
       "    <tr>\n",
       "      <th>15</th>\n",
       "      <td>Females (15-19)</td>\n",
       "      <td>398315770.0</td>\n",
       "      <td>15-19</td>\n",
       "      <td>Females (15-19)</td>\n",
       "    </tr>\n",
       "    <tr>\n",
       "      <th>16</th>\n",
       "      <td>Males (15-19)</td>\n",
       "      <td>398315770.0</td>\n",
       "      <td>15-19</td>\n",
       "      <td>Males (15-19)</td>\n",
       "    </tr>\n",
       "    <tr>\n",
       "      <th>17</th>\n",
       "      <td>Females (20-24)</td>\n",
       "      <td>398315770.0</td>\n",
       "      <td>20-24</td>\n",
       "      <td>Females (20-24)</td>\n",
       "    </tr>\n",
       "    <tr>\n",
       "      <th>18</th>\n",
       "      <td>Males (20-24)</td>\n",
       "      <td>398315770.0</td>\n",
       "      <td>20-24</td>\n",
       "      <td>Males (20-24)</td>\n",
       "    </tr>\n",
       "    <tr>\n",
       "      <th>19</th>\n",
       "      <td>Females (25-29)</td>\n",
       "      <td>398315770.0</td>\n",
       "      <td>25-29</td>\n",
       "      <td>Females (25-29)</td>\n",
       "    </tr>\n",
       "    <tr>\n",
       "      <th>20</th>\n",
       "      <td>Males (25-29)</td>\n",
       "      <td>398315770.0</td>\n",
       "      <td>25-29</td>\n",
       "      <td>Males (25-29)</td>\n",
       "    </tr>\n",
       "    <tr>\n",
       "      <th>21</th>\n",
       "      <td>Females (30-34)</td>\n",
       "      <td>398315770.0</td>\n",
       "      <td>30-34</td>\n",
       "      <td>Females (30-34)</td>\n",
       "    </tr>\n",
       "    <tr>\n",
       "      <th>22</th>\n",
       "      <td>Males (30-34)</td>\n",
       "      <td>398315770.0</td>\n",
       "      <td>30-34</td>\n",
       "      <td>Males (30-34)</td>\n",
       "    </tr>\n",
       "    <tr>\n",
       "      <th>23</th>\n",
       "      <td>Females (35-39)</td>\n",
       "      <td>398315770.0</td>\n",
       "      <td>35-39</td>\n",
       "      <td>Females (35-39)</td>\n",
       "    </tr>\n",
       "    <tr>\n",
       "      <th>24</th>\n",
       "      <td>Males (35-39)</td>\n",
       "      <td>398315770.0</td>\n",
       "      <td>35-39</td>\n",
       "      <td>Males (35-39)</td>\n",
       "    </tr>\n",
       "    <tr>\n",
       "      <th>25</th>\n",
       "      <td>Females (40-44)</td>\n",
       "      <td>398315770.0</td>\n",
       "      <td>40-44</td>\n",
       "      <td>Females (40-44)</td>\n",
       "    </tr>\n",
       "    <tr>\n",
       "      <th>26</th>\n",
       "      <td>Males (40-44)</td>\n",
       "      <td>398315770.0</td>\n",
       "      <td>40-44</td>\n",
       "      <td>Males (40-44)</td>\n",
       "    </tr>\n",
       "    <tr>\n",
       "      <th>27</th>\n",
       "      <td>Females (45-49)</td>\n",
       "      <td>398315770.0</td>\n",
       "      <td>45-49</td>\n",
       "      <td>Females (45-49)</td>\n",
       "    </tr>\n",
       "    <tr>\n",
       "      <th>28</th>\n",
       "      <td>Males (45-49)</td>\n",
       "      <td>398315770.0</td>\n",
       "      <td>45-49</td>\n",
       "      <td>Males (45-49)</td>\n",
       "    </tr>\n",
       "    <tr>\n",
       "      <th>29</th>\n",
       "      <td>Females (50-54)</td>\n",
       "      <td>398315770.0</td>\n",
       "      <td>50-54</td>\n",
       "      <td>Females (50-54)</td>\n",
       "    </tr>\n",
       "    <tr>\n",
       "      <th>30</th>\n",
       "      <td>Males (50-54)</td>\n",
       "      <td>398315770.0</td>\n",
       "      <td>50-54</td>\n",
       "      <td>Males (50-54)</td>\n",
       "    </tr>\n",
       "    <tr>\n",
       "      <th>31</th>\n",
       "      <td>Females (55-59)</td>\n",
       "      <td>398315770.0</td>\n",
       "      <td>55-59</td>\n",
       "      <td>Females (55-59)</td>\n",
       "    </tr>\n",
       "    <tr>\n",
       "      <th>32</th>\n",
       "      <td>Males (55-59)</td>\n",
       "      <td>398315770.0</td>\n",
       "      <td>55-59</td>\n",
       "      <td>Males (55-59)</td>\n",
       "    </tr>\n",
       "    <tr>\n",
       "      <th>33</th>\n",
       "      <td>Females (60-64)</td>\n",
       "      <td>398315770.0</td>\n",
       "      <td>60-64</td>\n",
       "      <td>Females (60-64)</td>\n",
       "    </tr>\n",
       "    <tr>\n",
       "      <th>34</th>\n",
       "      <td>Males (60-64)</td>\n",
       "      <td>398315770.0</td>\n",
       "      <td>60-64</td>\n",
       "      <td>Males (60-64)</td>\n",
       "    </tr>\n",
       "    <tr>\n",
       "      <th>35</th>\n",
       "      <td>Females (65-69)</td>\n",
       "      <td>398315770.0</td>\n",
       "      <td>65-69</td>\n",
       "      <td>Females (65-69)</td>\n",
       "    </tr>\n",
       "    <tr>\n",
       "      <th>36</th>\n",
       "      <td>Males (65-69)</td>\n",
       "      <td>398315770.0</td>\n",
       "      <td>65-69</td>\n",
       "      <td>Males (65-69)</td>\n",
       "    </tr>\n",
       "    <tr>\n",
       "      <th>37</th>\n",
       "      <td>Females (70-74)</td>\n",
       "      <td>398315770.0</td>\n",
       "      <td>70-74</td>\n",
       "      <td>Females (70-74)</td>\n",
       "    </tr>\n",
       "    <tr>\n",
       "      <th>38</th>\n",
       "      <td>Males (70-74)</td>\n",
       "      <td>398315770.0</td>\n",
       "      <td>70-74</td>\n",
       "      <td>Males (70-74)</td>\n",
       "    </tr>\n",
       "    <tr>\n",
       "      <th>39</th>\n",
       "      <td>Females (75-79)</td>\n",
       "      <td>398315770.0</td>\n",
       "      <td>75-79</td>\n",
       "      <td>Females (75-79)</td>\n",
       "    </tr>\n",
       "    <tr>\n",
       "      <th>40</th>\n",
       "      <td>Males (75-79)</td>\n",
       "      <td>398315770.0</td>\n",
       "      <td>75-79</td>\n",
       "      <td>Males (75-79)</td>\n",
       "    </tr>\n",
       "    <tr>\n",
       "      <th>41</th>\n",
       "      <td>Females (80+)</td>\n",
       "      <td>398315770.0</td>\n",
       "      <td>80+</td>\n",
       "      <td>Females (80+)</td>\n",
       "    </tr>\n",
       "    <tr>\n",
       "      <th>42</th>\n",
       "      <td>Males (80+)</td>\n",
       "      <td>398315770.0</td>\n",
       "      <td>80+</td>\n",
       "      <td>Males (80+)</td>\n",
       "    </tr>\n",
       "  </tbody>\n",
       "</table>\n",
       "</div>"
      ],
      "text/plain": [
       "           Category   Population    Age           Gender\n",
       "3    Females (0-14)  398315770.0   0-14   Females (0-14)\n",
       "4      Males (0-14)  398315770.0   0-14     Males (0-14)\n",
       "5   Females (15-64)  398315770.0  15-64  Females (15-64)\n",
       "6     Males (15-64)  398315770.0  15-64    Males (15-64)\n",
       "7     Females (65+)  398315770.0    65+    Females (65+)\n",
       "8       Males (65+)  398315770.0    65+      Males (65+)\n",
       "9     Females (0-4)  398315770.0    0-4    Females (0-4)\n",
       "10      Males (0-4)  398315770.0    0-4      Males (0-4)\n",
       "11    Females (5-9)  398315770.0    5-9    Females (5-9)\n",
       "12      Males (5-9)  398315770.0    5-9      Males (5-9)\n",
       "13  Females (10-14)  398315770.0  10-14  Females (10-14)\n",
       "14    Males (10-14)  398315770.0  10-14    Males (10-14)\n",
       "15  Females (15-19)  398315770.0  15-19  Females (15-19)\n",
       "16    Males (15-19)  398315770.0  15-19    Males (15-19)\n",
       "17  Females (20-24)  398315770.0  20-24  Females (20-24)\n",
       "18    Males (20-24)  398315770.0  20-24    Males (20-24)\n",
       "19  Females (25-29)  398315770.0  25-29  Females (25-29)\n",
       "20    Males (25-29)  398315770.0  25-29    Males (25-29)\n",
       "21  Females (30-34)  398315770.0  30-34  Females (30-34)\n",
       "22    Males (30-34)  398315770.0  30-34    Males (30-34)\n",
       "23  Females (35-39)  398315770.0  35-39  Females (35-39)\n",
       "24    Males (35-39)  398315770.0  35-39    Males (35-39)\n",
       "25  Females (40-44)  398315770.0  40-44  Females (40-44)\n",
       "26    Males (40-44)  398315770.0  40-44    Males (40-44)\n",
       "27  Females (45-49)  398315770.0  45-49  Females (45-49)\n",
       "28    Males (45-49)  398315770.0  45-49    Males (45-49)\n",
       "29  Females (50-54)  398315770.0  50-54  Females (50-54)\n",
       "30    Males (50-54)  398315770.0  50-54    Males (50-54)\n",
       "31  Females (55-59)  398315770.0  55-59  Females (55-59)\n",
       "32    Males (55-59)  398315770.0  55-59    Males (55-59)\n",
       "33  Females (60-64)  398315770.0  60-64  Females (60-64)\n",
       "34    Males (60-64)  398315770.0  60-64    Males (60-64)\n",
       "35  Females (65-69)  398315770.0  65-69  Females (65-69)\n",
       "36    Males (65-69)  398315770.0  65-69    Males (65-69)\n",
       "37  Females (70-74)  398315770.0  70-74  Females (70-74)\n",
       "38    Males (70-74)  398315770.0  70-74    Males (70-74)\n",
       "39  Females (75-79)  398315770.0  75-79  Females (75-79)\n",
       "40    Males (75-79)  398315770.0  75-79    Males (75-79)\n",
       "41    Females (80+)  398315770.0    80+    Females (80+)\n",
       "42      Males (80+)  398315770.0    80+      Males (80+)"
      ]
     },
     "execution_count": 109,
     "metadata": {},
     "output_type": "execute_result"
    }
   ],
   "source": [
    "male_trial = male_trial.drop(index = [0,1,2])\n",
    "male_trial"
   ]
  },
  {
   "cell_type": "code",
   "execution_count": 110,
   "metadata": {},
   "outputs": [
    {
     "name": "stderr",
     "output_type": "stream",
     "text": [
      "<ipython-input-110-0f4cbb9af0fb>:2: FutureWarning: The default value of regex will change from True to False in a future version. In addition, single character regular expressions will*not* be treated as literal strings when regex=True.\n",
      "  mt[\"Age\"] = male_trial[\"Category\"].str.replace(\"(\", \"\")\n",
      "<ipython-input-110-0f4cbb9af0fb>:3: FutureWarning: The default value of regex will change from True to False in a future version. In addition, single character regular expressions will*not* be treated as literal strings when regex=True.\n",
      "  mt[\"Age\"] = mt[\"Age\"].str.replace(\")\", \"\")\n"
     ]
    },
    {
     "data": {
      "text/html": [
       "<div>\n",
       "<style scoped>\n",
       "    .dataframe tbody tr th:only-of-type {\n",
       "        vertical-align: middle;\n",
       "    }\n",
       "\n",
       "    .dataframe tbody tr th {\n",
       "        vertical-align: top;\n",
       "    }\n",
       "\n",
       "    .dataframe thead th {\n",
       "        text-align: right;\n",
       "    }\n",
       "</style>\n",
       "<table border=\"1\" class=\"dataframe\">\n",
       "  <thead>\n",
       "    <tr style=\"text-align: right;\">\n",
       "      <th></th>\n",
       "      <th>Category</th>\n",
       "      <th>Population</th>\n",
       "      <th>Age</th>\n",
       "      <th>Gender</th>\n",
       "    </tr>\n",
       "  </thead>\n",
       "  <tbody>\n",
       "    <tr>\n",
       "      <th>3</th>\n",
       "      <td>Females (0-14)</td>\n",
       "      <td>398315770.0</td>\n",
       "      <td>0-14</td>\n",
       "      <td>Females (0-14)</td>\n",
       "    </tr>\n",
       "    <tr>\n",
       "      <th>4</th>\n",
       "      <td>Males (0-14)</td>\n",
       "      <td>398315770.0</td>\n",
       "      <td>0-14</td>\n",
       "      <td>Males (0-14)</td>\n",
       "    </tr>\n",
       "    <tr>\n",
       "      <th>5</th>\n",
       "      <td>Females (15-64)</td>\n",
       "      <td>398315770.0</td>\n",
       "      <td>15-64</td>\n",
       "      <td>Females (15-64)</td>\n",
       "    </tr>\n",
       "    <tr>\n",
       "      <th>6</th>\n",
       "      <td>Males (15-64)</td>\n",
       "      <td>398315770.0</td>\n",
       "      <td>15-64</td>\n",
       "      <td>Males (15-64)</td>\n",
       "    </tr>\n",
       "    <tr>\n",
       "      <th>7</th>\n",
       "      <td>Females (65+)</td>\n",
       "      <td>398315770.0</td>\n",
       "      <td>65+</td>\n",
       "      <td>Females (65+)</td>\n",
       "    </tr>\n",
       "    <tr>\n",
       "      <th>8</th>\n",
       "      <td>Males (65+)</td>\n",
       "      <td>398315770.0</td>\n",
       "      <td>65+</td>\n",
       "      <td>Males (65+)</td>\n",
       "    </tr>\n",
       "    <tr>\n",
       "      <th>9</th>\n",
       "      <td>Females (0-4)</td>\n",
       "      <td>398315770.0</td>\n",
       "      <td>0-4</td>\n",
       "      <td>Females (0-4)</td>\n",
       "    </tr>\n",
       "    <tr>\n",
       "      <th>10</th>\n",
       "      <td>Males (0-4)</td>\n",
       "      <td>398315770.0</td>\n",
       "      <td>0-4</td>\n",
       "      <td>Males (0-4)</td>\n",
       "    </tr>\n",
       "    <tr>\n",
       "      <th>11</th>\n",
       "      <td>Females (5-9)</td>\n",
       "      <td>398315770.0</td>\n",
       "      <td>5-9</td>\n",
       "      <td>Females (5-9)</td>\n",
       "    </tr>\n",
       "    <tr>\n",
       "      <th>12</th>\n",
       "      <td>Males (5-9)</td>\n",
       "      <td>398315770.0</td>\n",
       "      <td>5-9</td>\n",
       "      <td>Males (5-9)</td>\n",
       "    </tr>\n",
       "    <tr>\n",
       "      <th>13</th>\n",
       "      <td>Females (10-14)</td>\n",
       "      <td>398315770.0</td>\n",
       "      <td>10-14</td>\n",
       "      <td>Females (10-14)</td>\n",
       "    </tr>\n",
       "    <tr>\n",
       "      <th>14</th>\n",
       "      <td>Males (10-14)</td>\n",
       "      <td>398315770.0</td>\n",
       "      <td>10-14</td>\n",
       "      <td>Males (10-14)</td>\n",
       "    </tr>\n",
       "    <tr>\n",
       "      <th>15</th>\n",
       "      <td>Females (15-19)</td>\n",
       "      <td>398315770.0</td>\n",
       "      <td>15-19</td>\n",
       "      <td>Females (15-19)</td>\n",
       "    </tr>\n",
       "    <tr>\n",
       "      <th>16</th>\n",
       "      <td>Males (15-19)</td>\n",
       "      <td>398315770.0</td>\n",
       "      <td>15-19</td>\n",
       "      <td>Males (15-19)</td>\n",
       "    </tr>\n",
       "    <tr>\n",
       "      <th>17</th>\n",
       "      <td>Females (20-24)</td>\n",
       "      <td>398315770.0</td>\n",
       "      <td>20-24</td>\n",
       "      <td>Females (20-24)</td>\n",
       "    </tr>\n",
       "    <tr>\n",
       "      <th>18</th>\n",
       "      <td>Males (20-24)</td>\n",
       "      <td>398315770.0</td>\n",
       "      <td>20-24</td>\n",
       "      <td>Males (20-24)</td>\n",
       "    </tr>\n",
       "    <tr>\n",
       "      <th>19</th>\n",
       "      <td>Females (25-29)</td>\n",
       "      <td>398315770.0</td>\n",
       "      <td>25-29</td>\n",
       "      <td>Females (25-29)</td>\n",
       "    </tr>\n",
       "    <tr>\n",
       "      <th>20</th>\n",
       "      <td>Males (25-29)</td>\n",
       "      <td>398315770.0</td>\n",
       "      <td>25-29</td>\n",
       "      <td>Males (25-29)</td>\n",
       "    </tr>\n",
       "    <tr>\n",
       "      <th>21</th>\n",
       "      <td>Females (30-34)</td>\n",
       "      <td>398315770.0</td>\n",
       "      <td>30-34</td>\n",
       "      <td>Females (30-34)</td>\n",
       "    </tr>\n",
       "    <tr>\n",
       "      <th>22</th>\n",
       "      <td>Males (30-34)</td>\n",
       "      <td>398315770.0</td>\n",
       "      <td>30-34</td>\n",
       "      <td>Males (30-34)</td>\n",
       "    </tr>\n",
       "    <tr>\n",
       "      <th>23</th>\n",
       "      <td>Females (35-39)</td>\n",
       "      <td>398315770.0</td>\n",
       "      <td>35-39</td>\n",
       "      <td>Females (35-39)</td>\n",
       "    </tr>\n",
       "    <tr>\n",
       "      <th>24</th>\n",
       "      <td>Males (35-39)</td>\n",
       "      <td>398315770.0</td>\n",
       "      <td>35-39</td>\n",
       "      <td>Males (35-39)</td>\n",
       "    </tr>\n",
       "    <tr>\n",
       "      <th>25</th>\n",
       "      <td>Females (40-44)</td>\n",
       "      <td>398315770.0</td>\n",
       "      <td>40-44</td>\n",
       "      <td>Females (40-44)</td>\n",
       "    </tr>\n",
       "    <tr>\n",
       "      <th>26</th>\n",
       "      <td>Males (40-44)</td>\n",
       "      <td>398315770.0</td>\n",
       "      <td>40-44</td>\n",
       "      <td>Males (40-44)</td>\n",
       "    </tr>\n",
       "    <tr>\n",
       "      <th>27</th>\n",
       "      <td>Females (45-49)</td>\n",
       "      <td>398315770.0</td>\n",
       "      <td>45-49</td>\n",
       "      <td>Females (45-49)</td>\n",
       "    </tr>\n",
       "    <tr>\n",
       "      <th>28</th>\n",
       "      <td>Males (45-49)</td>\n",
       "      <td>398315770.0</td>\n",
       "      <td>45-49</td>\n",
       "      <td>Males (45-49)</td>\n",
       "    </tr>\n",
       "    <tr>\n",
       "      <th>29</th>\n",
       "      <td>Females (50-54)</td>\n",
       "      <td>398315770.0</td>\n",
       "      <td>50-54</td>\n",
       "      <td>Females (50-54)</td>\n",
       "    </tr>\n",
       "    <tr>\n",
       "      <th>30</th>\n",
       "      <td>Males (50-54)</td>\n",
       "      <td>398315770.0</td>\n",
       "      <td>50-54</td>\n",
       "      <td>Males (50-54)</td>\n",
       "    </tr>\n",
       "    <tr>\n",
       "      <th>31</th>\n",
       "      <td>Females (55-59)</td>\n",
       "      <td>398315770.0</td>\n",
       "      <td>55-59</td>\n",
       "      <td>Females (55-59)</td>\n",
       "    </tr>\n",
       "    <tr>\n",
       "      <th>32</th>\n",
       "      <td>Males (55-59)</td>\n",
       "      <td>398315770.0</td>\n",
       "      <td>55-59</td>\n",
       "      <td>Males (55-59)</td>\n",
       "    </tr>\n",
       "    <tr>\n",
       "      <th>33</th>\n",
       "      <td>Females (60-64)</td>\n",
       "      <td>398315770.0</td>\n",
       "      <td>60-64</td>\n",
       "      <td>Females (60-64)</td>\n",
       "    </tr>\n",
       "    <tr>\n",
       "      <th>34</th>\n",
       "      <td>Males (60-64)</td>\n",
       "      <td>398315770.0</td>\n",
       "      <td>60-64</td>\n",
       "      <td>Males (60-64)</td>\n",
       "    </tr>\n",
       "    <tr>\n",
       "      <th>35</th>\n",
       "      <td>Females (65-69)</td>\n",
       "      <td>398315770.0</td>\n",
       "      <td>65-69</td>\n",
       "      <td>Females (65-69)</td>\n",
       "    </tr>\n",
       "    <tr>\n",
       "      <th>36</th>\n",
       "      <td>Males (65-69)</td>\n",
       "      <td>398315770.0</td>\n",
       "      <td>65-69</td>\n",
       "      <td>Males (65-69)</td>\n",
       "    </tr>\n",
       "    <tr>\n",
       "      <th>37</th>\n",
       "      <td>Females (70-74)</td>\n",
       "      <td>398315770.0</td>\n",
       "      <td>70-74</td>\n",
       "      <td>Females (70-74)</td>\n",
       "    </tr>\n",
       "    <tr>\n",
       "      <th>38</th>\n",
       "      <td>Males (70-74)</td>\n",
       "      <td>398315770.0</td>\n",
       "      <td>70-74</td>\n",
       "      <td>Males (70-74)</td>\n",
       "    </tr>\n",
       "    <tr>\n",
       "      <th>39</th>\n",
       "      <td>Females (75-79)</td>\n",
       "      <td>398315770.0</td>\n",
       "      <td>75-79</td>\n",
       "      <td>Females (75-79)</td>\n",
       "    </tr>\n",
       "    <tr>\n",
       "      <th>40</th>\n",
       "      <td>Males (75-79)</td>\n",
       "      <td>398315770.0</td>\n",
       "      <td>75-79</td>\n",
       "      <td>Males (75-79)</td>\n",
       "    </tr>\n",
       "    <tr>\n",
       "      <th>41</th>\n",
       "      <td>Females (80+)</td>\n",
       "      <td>398315770.0</td>\n",
       "      <td>80+</td>\n",
       "      <td>Females (80+)</td>\n",
       "    </tr>\n",
       "    <tr>\n",
       "      <th>42</th>\n",
       "      <td>Males (80+)</td>\n",
       "      <td>398315770.0</td>\n",
       "      <td>80+</td>\n",
       "      <td>Males (80+)</td>\n",
       "    </tr>\n",
       "  </tbody>\n",
       "</table>\n",
       "</div>"
      ],
      "text/plain": [
       "           Category   Population    Age           Gender\n",
       "3    Females (0-14)  398315770.0   0-14   Females (0-14)\n",
       "4      Males (0-14)  398315770.0   0-14     Males (0-14)\n",
       "5   Females (15-64)  398315770.0  15-64  Females (15-64)\n",
       "6     Males (15-64)  398315770.0  15-64    Males (15-64)\n",
       "7     Females (65+)  398315770.0    65+    Females (65+)\n",
       "8       Males (65+)  398315770.0    65+      Males (65+)\n",
       "9     Females (0-4)  398315770.0    0-4    Females (0-4)\n",
       "10      Males (0-4)  398315770.0    0-4      Males (0-4)\n",
       "11    Females (5-9)  398315770.0    5-9    Females (5-9)\n",
       "12      Males (5-9)  398315770.0    5-9      Males (5-9)\n",
       "13  Females (10-14)  398315770.0  10-14  Females (10-14)\n",
       "14    Males (10-14)  398315770.0  10-14    Males (10-14)\n",
       "15  Females (15-19)  398315770.0  15-19  Females (15-19)\n",
       "16    Males (15-19)  398315770.0  15-19    Males (15-19)\n",
       "17  Females (20-24)  398315770.0  20-24  Females (20-24)\n",
       "18    Males (20-24)  398315770.0  20-24    Males (20-24)\n",
       "19  Females (25-29)  398315770.0  25-29  Females (25-29)\n",
       "20    Males (25-29)  398315770.0  25-29    Males (25-29)\n",
       "21  Females (30-34)  398315770.0  30-34  Females (30-34)\n",
       "22    Males (30-34)  398315770.0  30-34    Males (30-34)\n",
       "23  Females (35-39)  398315770.0  35-39  Females (35-39)\n",
       "24    Males (35-39)  398315770.0  35-39    Males (35-39)\n",
       "25  Females (40-44)  398315770.0  40-44  Females (40-44)\n",
       "26    Males (40-44)  398315770.0  40-44    Males (40-44)\n",
       "27  Females (45-49)  398315770.0  45-49  Females (45-49)\n",
       "28    Males (45-49)  398315770.0  45-49    Males (45-49)\n",
       "29  Females (50-54)  398315770.0  50-54  Females (50-54)\n",
       "30    Males (50-54)  398315770.0  50-54    Males (50-54)\n",
       "31  Females (55-59)  398315770.0  55-59  Females (55-59)\n",
       "32    Males (55-59)  398315770.0  55-59    Males (55-59)\n",
       "33  Females (60-64)  398315770.0  60-64  Females (60-64)\n",
       "34    Males (60-64)  398315770.0  60-64    Males (60-64)\n",
       "35  Females (65-69)  398315770.0  65-69  Females (65-69)\n",
       "36    Males (65-69)  398315770.0  65-69    Males (65-69)\n",
       "37  Females (70-74)  398315770.0  70-74  Females (70-74)\n",
       "38    Males (70-74)  398315770.0  70-74    Males (70-74)\n",
       "39  Females (75-79)  398315770.0  75-79  Females (75-79)\n",
       "40    Males (75-79)  398315770.0  75-79    Males (75-79)\n",
       "41    Females (80+)  398315770.0    80+    Females (80+)\n",
       "42      Males (80+)  398315770.0    80+      Males (80+)"
      ]
     },
     "execution_count": 110,
     "metadata": {},
     "output_type": "execute_result"
    }
   ],
   "source": [
    "mt = male_trial\n",
    "mt[\"Age\"] = male_trial[\"Category\"].str.replace(\"(\", \"\")\n",
    "mt[\"Age\"] = mt[\"Age\"].str.replace(\")\", \"\")\n",
    "mt[\"Age\"] = mt[\"Age\"].str[-5:].str.replace(\"s\", \"\" )\n",
    "mt"
   ]
  },
  {
   "cell_type": "code",
   "execution_count": 129,
   "metadata": {},
   "outputs": [
    {
     "data": {
      "text/html": [
       "<div>\n",
       "<style scoped>\n",
       "    .dataframe tbody tr th:only-of-type {\n",
       "        vertical-align: middle;\n",
       "    }\n",
       "\n",
       "    .dataframe tbody tr th {\n",
       "        vertical-align: top;\n",
       "    }\n",
       "\n",
       "    .dataframe thead th {\n",
       "        text-align: right;\n",
       "    }\n",
       "</style>\n",
       "<table border=\"1\" class=\"dataframe\">\n",
       "  <thead>\n",
       "    <tr style=\"text-align: right;\">\n",
       "      <th></th>\n",
       "      <th>Category</th>\n",
       "      <th>Population</th>\n",
       "      <th>Age</th>\n",
       "      <th>Gender</th>\n",
       "    </tr>\n",
       "  </thead>\n",
       "  <tbody>\n",
       "    <tr>\n",
       "      <th>3</th>\n",
       "      <td>Females (0-14)</td>\n",
       "      <td>398315770.0</td>\n",
       "      <td>0-14</td>\n",
       "      <td>Females</td>\n",
       "    </tr>\n",
       "    <tr>\n",
       "      <th>4</th>\n",
       "      <td>Males (0-14)</td>\n",
       "      <td>398315770.0</td>\n",
       "      <td>0-14</td>\n",
       "      <td>Males</td>\n",
       "    </tr>\n",
       "    <tr>\n",
       "      <th>5</th>\n",
       "      <td>Females (15-64)</td>\n",
       "      <td>398315770.0</td>\n",
       "      <td>15-64</td>\n",
       "      <td>Females</td>\n",
       "    </tr>\n",
       "    <tr>\n",
       "      <th>6</th>\n",
       "      <td>Males (15-64)</td>\n",
       "      <td>398315770.0</td>\n",
       "      <td>15-64</td>\n",
       "      <td>Males</td>\n",
       "    </tr>\n",
       "    <tr>\n",
       "      <th>7</th>\n",
       "      <td>Females (65+)</td>\n",
       "      <td>398315770.0</td>\n",
       "      <td>65+</td>\n",
       "      <td>Females</td>\n",
       "    </tr>\n",
       "    <tr>\n",
       "      <th>8</th>\n",
       "      <td>Males (65+)</td>\n",
       "      <td>398315770.0</td>\n",
       "      <td>65+</td>\n",
       "      <td>Males</td>\n",
       "    </tr>\n",
       "    <tr>\n",
       "      <th>9</th>\n",
       "      <td>Females (0-4)</td>\n",
       "      <td>398315770.0</td>\n",
       "      <td>0-4</td>\n",
       "      <td>Females</td>\n",
       "    </tr>\n",
       "    <tr>\n",
       "      <th>10</th>\n",
       "      <td>Males (0-4)</td>\n",
       "      <td>398315770.0</td>\n",
       "      <td>0-4</td>\n",
       "      <td>Males</td>\n",
       "    </tr>\n",
       "    <tr>\n",
       "      <th>11</th>\n",
       "      <td>Females (5-9)</td>\n",
       "      <td>398315770.0</td>\n",
       "      <td>5-9</td>\n",
       "      <td>Females</td>\n",
       "    </tr>\n",
       "    <tr>\n",
       "      <th>12</th>\n",
       "      <td>Males (5-9)</td>\n",
       "      <td>398315770.0</td>\n",
       "      <td>5-9</td>\n",
       "      <td>Males</td>\n",
       "    </tr>\n",
       "    <tr>\n",
       "      <th>13</th>\n",
       "      <td>Females (10-14)</td>\n",
       "      <td>398315770.0</td>\n",
       "      <td>10-14</td>\n",
       "      <td>Females</td>\n",
       "    </tr>\n",
       "    <tr>\n",
       "      <th>14</th>\n",
       "      <td>Males (10-14)</td>\n",
       "      <td>398315770.0</td>\n",
       "      <td>10-14</td>\n",
       "      <td>Males</td>\n",
       "    </tr>\n",
       "    <tr>\n",
       "      <th>15</th>\n",
       "      <td>Females (15-19)</td>\n",
       "      <td>398315770.0</td>\n",
       "      <td>15-19</td>\n",
       "      <td>Females</td>\n",
       "    </tr>\n",
       "    <tr>\n",
       "      <th>16</th>\n",
       "      <td>Males (15-19)</td>\n",
       "      <td>398315770.0</td>\n",
       "      <td>15-19</td>\n",
       "      <td>Males</td>\n",
       "    </tr>\n",
       "    <tr>\n",
       "      <th>17</th>\n",
       "      <td>Females (20-24)</td>\n",
       "      <td>398315770.0</td>\n",
       "      <td>20-24</td>\n",
       "      <td>Females</td>\n",
       "    </tr>\n",
       "    <tr>\n",
       "      <th>18</th>\n",
       "      <td>Males (20-24)</td>\n",
       "      <td>398315770.0</td>\n",
       "      <td>20-24</td>\n",
       "      <td>Males</td>\n",
       "    </tr>\n",
       "    <tr>\n",
       "      <th>19</th>\n",
       "      <td>Females (25-29)</td>\n",
       "      <td>398315770.0</td>\n",
       "      <td>25-29</td>\n",
       "      <td>Females</td>\n",
       "    </tr>\n",
       "    <tr>\n",
       "      <th>20</th>\n",
       "      <td>Males (25-29)</td>\n",
       "      <td>398315770.0</td>\n",
       "      <td>25-29</td>\n",
       "      <td>Males</td>\n",
       "    </tr>\n",
       "    <tr>\n",
       "      <th>21</th>\n",
       "      <td>Females (30-34)</td>\n",
       "      <td>398315770.0</td>\n",
       "      <td>30-34</td>\n",
       "      <td>Females</td>\n",
       "    </tr>\n",
       "    <tr>\n",
       "      <th>22</th>\n",
       "      <td>Males (30-34)</td>\n",
       "      <td>398315770.0</td>\n",
       "      <td>30-34</td>\n",
       "      <td>Males</td>\n",
       "    </tr>\n",
       "    <tr>\n",
       "      <th>23</th>\n",
       "      <td>Females (35-39)</td>\n",
       "      <td>398315770.0</td>\n",
       "      <td>35-39</td>\n",
       "      <td>Females</td>\n",
       "    </tr>\n",
       "    <tr>\n",
       "      <th>24</th>\n",
       "      <td>Males (35-39)</td>\n",
       "      <td>398315770.0</td>\n",
       "      <td>35-39</td>\n",
       "      <td>Males</td>\n",
       "    </tr>\n",
       "    <tr>\n",
       "      <th>25</th>\n",
       "      <td>Females (40-44)</td>\n",
       "      <td>398315770.0</td>\n",
       "      <td>40-44</td>\n",
       "      <td>Females</td>\n",
       "    </tr>\n",
       "    <tr>\n",
       "      <th>26</th>\n",
       "      <td>Males (40-44)</td>\n",
       "      <td>398315770.0</td>\n",
       "      <td>40-44</td>\n",
       "      <td>Males</td>\n",
       "    </tr>\n",
       "    <tr>\n",
       "      <th>27</th>\n",
       "      <td>Females (45-49)</td>\n",
       "      <td>398315770.0</td>\n",
       "      <td>45-49</td>\n",
       "      <td>Females</td>\n",
       "    </tr>\n",
       "    <tr>\n",
       "      <th>28</th>\n",
       "      <td>Males (45-49)</td>\n",
       "      <td>398315770.0</td>\n",
       "      <td>45-49</td>\n",
       "      <td>Males</td>\n",
       "    </tr>\n",
       "    <tr>\n",
       "      <th>29</th>\n",
       "      <td>Females (50-54)</td>\n",
       "      <td>398315770.0</td>\n",
       "      <td>50-54</td>\n",
       "      <td>Females</td>\n",
       "    </tr>\n",
       "    <tr>\n",
       "      <th>30</th>\n",
       "      <td>Males (50-54)</td>\n",
       "      <td>398315770.0</td>\n",
       "      <td>50-54</td>\n",
       "      <td>Males</td>\n",
       "    </tr>\n",
       "    <tr>\n",
       "      <th>31</th>\n",
       "      <td>Females (55-59)</td>\n",
       "      <td>398315770.0</td>\n",
       "      <td>55-59</td>\n",
       "      <td>Females</td>\n",
       "    </tr>\n",
       "    <tr>\n",
       "      <th>32</th>\n",
       "      <td>Males (55-59)</td>\n",
       "      <td>398315770.0</td>\n",
       "      <td>55-59</td>\n",
       "      <td>Males</td>\n",
       "    </tr>\n",
       "    <tr>\n",
       "      <th>33</th>\n",
       "      <td>Females (60-64)</td>\n",
       "      <td>398315770.0</td>\n",
       "      <td>60-64</td>\n",
       "      <td>Females</td>\n",
       "    </tr>\n",
       "    <tr>\n",
       "      <th>34</th>\n",
       "      <td>Males (60-64)</td>\n",
       "      <td>398315770.0</td>\n",
       "      <td>60-64</td>\n",
       "      <td>Males</td>\n",
       "    </tr>\n",
       "    <tr>\n",
       "      <th>35</th>\n",
       "      <td>Females (65-69)</td>\n",
       "      <td>398315770.0</td>\n",
       "      <td>65-69</td>\n",
       "      <td>Females</td>\n",
       "    </tr>\n",
       "    <tr>\n",
       "      <th>36</th>\n",
       "      <td>Males (65-69)</td>\n",
       "      <td>398315770.0</td>\n",
       "      <td>65-69</td>\n",
       "      <td>Males</td>\n",
       "    </tr>\n",
       "    <tr>\n",
       "      <th>37</th>\n",
       "      <td>Females (70-74)</td>\n",
       "      <td>398315770.0</td>\n",
       "      <td>70-74</td>\n",
       "      <td>Females</td>\n",
       "    </tr>\n",
       "    <tr>\n",
       "      <th>38</th>\n",
       "      <td>Males (70-74)</td>\n",
       "      <td>398315770.0</td>\n",
       "      <td>70-74</td>\n",
       "      <td>Males</td>\n",
       "    </tr>\n",
       "    <tr>\n",
       "      <th>39</th>\n",
       "      <td>Females (75-79)</td>\n",
       "      <td>398315770.0</td>\n",
       "      <td>75-79</td>\n",
       "      <td>Females</td>\n",
       "    </tr>\n",
       "    <tr>\n",
       "      <th>40</th>\n",
       "      <td>Males (75-79)</td>\n",
       "      <td>398315770.0</td>\n",
       "      <td>75-79</td>\n",
       "      <td>Males</td>\n",
       "    </tr>\n",
       "    <tr>\n",
       "      <th>41</th>\n",
       "      <td>Females (80+)</td>\n",
       "      <td>398315770.0</td>\n",
       "      <td>80+</td>\n",
       "      <td>Females</td>\n",
       "    </tr>\n",
       "    <tr>\n",
       "      <th>42</th>\n",
       "      <td>Males (80+)</td>\n",
       "      <td>398315770.0</td>\n",
       "      <td>80+</td>\n",
       "      <td>Males</td>\n",
       "    </tr>\n",
       "  </tbody>\n",
       "</table>\n",
       "</div>"
      ],
      "text/plain": [
       "           Category   Population    Age   Gender\n",
       "3    Females (0-14)  398315770.0   0-14  Females\n",
       "4      Males (0-14)  398315770.0   0-14    Males\n",
       "5   Females (15-64)  398315770.0  15-64  Females\n",
       "6     Males (15-64)  398315770.0  15-64    Males\n",
       "7     Females (65+)  398315770.0    65+  Females\n",
       "8       Males (65+)  398315770.0    65+    Males\n",
       "9     Females (0-4)  398315770.0    0-4  Females\n",
       "10      Males (0-4)  398315770.0    0-4    Males\n",
       "11    Females (5-9)  398315770.0    5-9  Females\n",
       "12      Males (5-9)  398315770.0    5-9    Males\n",
       "13  Females (10-14)  398315770.0  10-14  Females\n",
       "14    Males (10-14)  398315770.0  10-14    Males\n",
       "15  Females (15-19)  398315770.0  15-19  Females\n",
       "16    Males (15-19)  398315770.0  15-19    Males\n",
       "17  Females (20-24)  398315770.0  20-24  Females\n",
       "18    Males (20-24)  398315770.0  20-24    Males\n",
       "19  Females (25-29)  398315770.0  25-29  Females\n",
       "20    Males (25-29)  398315770.0  25-29    Males\n",
       "21  Females (30-34)  398315770.0  30-34  Females\n",
       "22    Males (30-34)  398315770.0  30-34    Males\n",
       "23  Females (35-39)  398315770.0  35-39  Females\n",
       "24    Males (35-39)  398315770.0  35-39    Males\n",
       "25  Females (40-44)  398315770.0  40-44  Females\n",
       "26    Males (40-44)  398315770.0  40-44    Males\n",
       "27  Females (45-49)  398315770.0  45-49  Females\n",
       "28    Males (45-49)  398315770.0  45-49    Males\n",
       "29  Females (50-54)  398315770.0  50-54  Females\n",
       "30    Males (50-54)  398315770.0  50-54    Males\n",
       "31  Females (55-59)  398315770.0  55-59  Females\n",
       "32    Males (55-59)  398315770.0  55-59    Males\n",
       "33  Females (60-64)  398315770.0  60-64  Females\n",
       "34    Males (60-64)  398315770.0  60-64    Males\n",
       "35  Females (65-69)  398315770.0  65-69  Females\n",
       "36    Males (65-69)  398315770.0  65-69    Males\n",
       "37  Females (70-74)  398315770.0  70-74  Females\n",
       "38    Males (70-74)  398315770.0  70-74    Males\n",
       "39  Females (75-79)  398315770.0  75-79  Females\n",
       "40    Males (75-79)  398315770.0  75-79    Males\n",
       "41    Females (80+)  398315770.0    80+  Females\n",
       "42      Males (80+)  398315770.0    80+    Males"
      ]
     },
     "execution_count": 129,
     "metadata": {},
     "output_type": "execute_result"
    }
   ],
   "source": [
    "mt[\"Gender\"] = mt[\"Category\"].str.partition(' ')\n",
    "mt"
   ]
  },
  {
   "cell_type": "code",
   "execution_count": 133,
   "metadata": {},
   "outputs": [
    {
     "data": {
      "text/html": [
       "<div>\n",
       "<style scoped>\n",
       "    .dataframe tbody tr th:only-of-type {\n",
       "        vertical-align: middle;\n",
       "    }\n",
       "\n",
       "    .dataframe tbody tr th {\n",
       "        vertical-align: top;\n",
       "    }\n",
       "\n",
       "    .dataframe thead th {\n",
       "        text-align: right;\n",
       "    }\n",
       "</style>\n",
       "<table border=\"1\" class=\"dataframe\">\n",
       "  <thead>\n",
       "    <tr style=\"text-align: right;\">\n",
       "      <th></th>\n",
       "      <th>Category</th>\n",
       "      <th>Population</th>\n",
       "      <th>Age</th>\n",
       "      <th>Gender</th>\n",
       "    </tr>\n",
       "  </thead>\n",
       "  <tbody>\n",
       "    <tr>\n",
       "      <th>0</th>\n",
       "      <td>Females (0-14)</td>\n",
       "      <td>398315770.0</td>\n",
       "      <td>0-14</td>\n",
       "      <td>Females</td>\n",
       "    </tr>\n",
       "    <tr>\n",
       "      <th>1</th>\n",
       "      <td>Males (0-14)</td>\n",
       "      <td>398315770.0</td>\n",
       "      <td>0-14</td>\n",
       "      <td>Males</td>\n",
       "    </tr>\n",
       "    <tr>\n",
       "      <th>2</th>\n",
       "      <td>Females (15-64)</td>\n",
       "      <td>398315770.0</td>\n",
       "      <td>15-64</td>\n",
       "      <td>Females</td>\n",
       "    </tr>\n",
       "    <tr>\n",
       "      <th>3</th>\n",
       "      <td>Males (15-64)</td>\n",
       "      <td>398315770.0</td>\n",
       "      <td>15-64</td>\n",
       "      <td>Males</td>\n",
       "    </tr>\n",
       "    <tr>\n",
       "      <th>4</th>\n",
       "      <td>Females (65+)</td>\n",
       "      <td>398315770.0</td>\n",
       "      <td>65+</td>\n",
       "      <td>Females</td>\n",
       "    </tr>\n",
       "  </tbody>\n",
       "</table>\n",
       "</div>"
      ],
      "text/plain": [
       "          Category   Population    Age   Gender\n",
       "0   Females (0-14)  398315770.0   0-14  Females\n",
       "1     Males (0-14)  398315770.0   0-14    Males\n",
       "2  Females (15-64)  398315770.0  15-64  Females\n",
       "3    Males (15-64)  398315770.0  15-64    Males\n",
       "4    Females (65+)  398315770.0    65+  Females"
      ]
     },
     "execution_count": 133,
     "metadata": {},
     "output_type": "execute_result"
    }
   ],
   "source": [
    "mt = mt.reset_index().drop(columns = {\"index\"})\n",
    "mt.head()"
   ]
  },
  {
   "cell_type": "code",
   "execution_count": 134,
   "metadata": {},
   "outputs": [
    {
     "data": {
      "text/html": [
       "<div>\n",
       "<style scoped>\n",
       "    .dataframe tbody tr th:only-of-type {\n",
       "        vertical-align: middle;\n",
       "    }\n",
       "\n",
       "    .dataframe tbody tr th {\n",
       "        vertical-align: top;\n",
       "    }\n",
       "\n",
       "    .dataframe thead th {\n",
       "        text-align: right;\n",
       "    }\n",
       "</style>\n",
       "<table border=\"1\" class=\"dataframe\">\n",
       "  <thead>\n",
       "    <tr style=\"text-align: right;\">\n",
       "      <th>Gender</th>\n",
       "      <th>Females</th>\n",
       "      <th>Males</th>\n",
       "    </tr>\n",
       "    <tr>\n",
       "      <th>Age</th>\n",
       "      <th></th>\n",
       "      <th></th>\n",
       "    </tr>\n",
       "  </thead>\n",
       "  <tbody>\n",
       "    <tr>\n",
       "      <th>0-14</th>\n",
       "      <td>398315770.0</td>\n",
       "      <td>398315770.0</td>\n",
       "    </tr>\n",
       "    <tr>\n",
       "      <th>0-4</th>\n",
       "      <td>398315770.0</td>\n",
       "      <td>398315770.0</td>\n",
       "    </tr>\n",
       "    <tr>\n",
       "      <th>5-9</th>\n",
       "      <td>398315770.0</td>\n",
       "      <td>398315770.0</td>\n",
       "    </tr>\n",
       "    <tr>\n",
       "      <th>65+</th>\n",
       "      <td>398315770.0</td>\n",
       "      <td>398315770.0</td>\n",
       "    </tr>\n",
       "    <tr>\n",
       "      <th>80+</th>\n",
       "      <td>398315770.0</td>\n",
       "      <td>398315770.0</td>\n",
       "    </tr>\n",
       "    <tr>\n",
       "      <th>10-14</th>\n",
       "      <td>398315770.0</td>\n",
       "      <td>398315770.0</td>\n",
       "    </tr>\n",
       "    <tr>\n",
       "      <th>15-19</th>\n",
       "      <td>398315770.0</td>\n",
       "      <td>398315770.0</td>\n",
       "    </tr>\n",
       "    <tr>\n",
       "      <th>15-64</th>\n",
       "      <td>398315770.0</td>\n",
       "      <td>398315770.0</td>\n",
       "    </tr>\n",
       "    <tr>\n",
       "      <th>20-24</th>\n",
       "      <td>398315770.0</td>\n",
       "      <td>398315770.0</td>\n",
       "    </tr>\n",
       "    <tr>\n",
       "      <th>25-29</th>\n",
       "      <td>398315770.0</td>\n",
       "      <td>398315770.0</td>\n",
       "    </tr>\n",
       "    <tr>\n",
       "      <th>30-34</th>\n",
       "      <td>398315770.0</td>\n",
       "      <td>398315770.0</td>\n",
       "    </tr>\n",
       "    <tr>\n",
       "      <th>35-39</th>\n",
       "      <td>398315770.0</td>\n",
       "      <td>398315770.0</td>\n",
       "    </tr>\n",
       "    <tr>\n",
       "      <th>40-44</th>\n",
       "      <td>398315770.0</td>\n",
       "      <td>398315770.0</td>\n",
       "    </tr>\n",
       "    <tr>\n",
       "      <th>45-49</th>\n",
       "      <td>398315770.0</td>\n",
       "      <td>398315770.0</td>\n",
       "    </tr>\n",
       "    <tr>\n",
       "      <th>50-54</th>\n",
       "      <td>398315770.0</td>\n",
       "      <td>398315770.0</td>\n",
       "    </tr>\n",
       "    <tr>\n",
       "      <th>55-59</th>\n",
       "      <td>398315770.0</td>\n",
       "      <td>398315770.0</td>\n",
       "    </tr>\n",
       "    <tr>\n",
       "      <th>60-64</th>\n",
       "      <td>398315770.0</td>\n",
       "      <td>398315770.0</td>\n",
       "    </tr>\n",
       "    <tr>\n",
       "      <th>65-69</th>\n",
       "      <td>398315770.0</td>\n",
       "      <td>398315770.0</td>\n",
       "    </tr>\n",
       "    <tr>\n",
       "      <th>70-74</th>\n",
       "      <td>398315770.0</td>\n",
       "      <td>398315770.0</td>\n",
       "    </tr>\n",
       "    <tr>\n",
       "      <th>75-79</th>\n",
       "      <td>398315770.0</td>\n",
       "      <td>398315770.0</td>\n",
       "    </tr>\n",
       "  </tbody>\n",
       "</table>\n",
       "</div>"
      ],
      "text/plain": [
       "Gender      Females        Males\n",
       "Age                             \n",
       " 0-14   398315770.0  398315770.0\n",
       " 0-4    398315770.0  398315770.0\n",
       " 5-9    398315770.0  398315770.0\n",
       " 65+    398315770.0  398315770.0\n",
       " 80+    398315770.0  398315770.0\n",
       "10-14   398315770.0  398315770.0\n",
       "15-19   398315770.0  398315770.0\n",
       "15-64   398315770.0  398315770.0\n",
       "20-24   398315770.0  398315770.0\n",
       "25-29   398315770.0  398315770.0\n",
       "30-34   398315770.0  398315770.0\n",
       "35-39   398315770.0  398315770.0\n",
       "40-44   398315770.0  398315770.0\n",
       "45-49   398315770.0  398315770.0\n",
       "50-54   398315770.0  398315770.0\n",
       "55-59   398315770.0  398315770.0\n",
       "60-64   398315770.0  398315770.0\n",
       "65-69   398315770.0  398315770.0\n",
       "70-74   398315770.0  398315770.0\n",
       "75-79   398315770.0  398315770.0"
      ]
     },
     "execution_count": 134,
     "metadata": {},
     "output_type": "execute_result"
    }
   ],
   "source": [
    "mt.pivot(index = \"Age\", columns = \"Gender\", values = \"Population\")"
   ]
  },
  {
   "cell_type": "code",
   "execution_count": null,
   "metadata": {},
   "outputs": [],
   "source": []
  },
  {
   "cell_type": "code",
   "execution_count": null,
   "metadata": {},
   "outputs": [],
   "source": []
  },
  {
   "cell_type": "code",
   "execution_count": null,
   "metadata": {},
   "outputs": [],
   "source": []
  },
  {
   "cell_type": "code",
   "execution_count": null,
   "metadata": {},
   "outputs": [],
   "source": []
  },
  {
   "cell_type": "code",
   "execution_count": null,
   "metadata": {},
   "outputs": [],
   "source": []
  },
  {
   "cell_type": "code",
   "execution_count": null,
   "metadata": {},
   "outputs": [],
   "source": []
  },
  {
   "cell_type": "code",
   "execution_count": null,
   "metadata": {},
   "outputs": [],
   "source": []
  }
 ],
 "metadata": {
  "history": [
   {
    "code": "import wbdata\nimport pandas as pd\nimport numpy as np",
    "id": "4a7160a4bfaa44b482543ae63329f98c",
    "idx": 3,
    "time": "2021-01-25T23:42:23.394Z",
    "type": "execution"
   },
   {
    "id": "4a7160a4bfaa44b482543ae63329f98c",
    "time": "2021-01-25T23:42:23.932Z",
    "type": "completion"
   },
   {
    "code": "\n# Return list of all country/region codes:\nwbdata.get_country()\n\n# Return list matching a query term:\n#wbdata.search_countries(\"World\")\n\n## Try your own search!\n#wbdata.search_countries(\"AFGh\")",
    "id": "1eae70fe586f4b1d81fe0c38efb963fe",
    "idx": 4,
    "time": "2021-01-25T23:43:13.278Z",
    "type": "execution"
   },
   {
    "id": "1eae70fe586f4b1d81fe0c38efb963fe",
    "time": "2021-01-25T23:43:13.379Z",
    "type": "completion"
   },
   {
    "code": "\n# Return list of all country/region codes:\n#wbdata.get_country()\n\n# Return list matching a query term:\nwbdata.search_countries(\"World\")\n\n## Try your own search!\n#wbdata.search_countries(\"AFGh\")",
    "id": "1eae70fe586f4b1d81fe0c38efb963fe",
    "idx": 4,
    "time": "2021-01-25T23:43:23.367Z",
    "type": "execution"
   },
   {
    "id": "1eae70fe586f4b1d81fe0c38efb963fe",
    "time": "2021-01-25T23:43:23.428Z",
    "type": "completion"
   },
   {
    "code": "\n# Return list of all country/region codes:\n#wbdata.get_country()\n\n# Return list matching a query term:\n#wbdata.search_countries(\"World\")\n\n## Try your own search!\nwbdata.search_countries(\"A\")",
    "id": "1eae70fe586f4b1d81fe0c38efb963fe",
    "idx": 4,
    "time": "2021-01-25T23:43:37.304Z",
    "type": "execution"
   },
   {
    "id": "1eae70fe586f4b1d81fe0c38efb963fe",
    "time": "2021-01-25T23:43:37.375Z",
    "type": "completion"
   },
   {
    "code": "\n# Return list of all country/region codes:\n#wbdata.get_country()\n\n# Return list matching a query term:\n#wbdata.search_countries(\"World\")\n\n## Try your own search!\nwbdata.search_countries(\"Af\")",
    "id": "1eae70fe586f4b1d81fe0c38efb963fe",
    "idx": 4,
    "time": "2021-01-25T23:43:40.087Z",
    "type": "execution"
   },
   {
    "id": "1eae70fe586f4b1d81fe0c38efb963fe",
    "time": "2021-01-25T23:43:40.199Z",
    "type": "completion"
   },
   {
    "code": "\n# Return list of all country/region codes:\n#wbdata.get_country()\n\n# Return list matching a query term:\n#wbdata.search_countries(\"World\")\n\n## Try your own search!\nwbdata.search_countries(\"Income\")",
    "id": "1eae70fe586f4b1d81fe0c38efb963fe",
    "idx": 4,
    "time": "2021-01-25T23:43:52.466Z",
    "type": "execution"
   },
   {
    "id": "1eae70fe586f4b1d81fe0c38efb963fe",
    "time": "2021-01-25T23:43:52.528Z",
    "type": "completion"
   },
   {
    "code": "\n# Return list of all country/region codes:\n#wbdata.get_country()\n\n# Return list matching a query term:\n#wbdata.search_countries(\"World\")\n\n## Try your own search!\n#wbdata.search_countries(\"Income\")",
    "id": "1eae70fe586f4b1d81fe0c38efb963fe",
    "idx": 4,
    "time": "2021-01-25T23:45:01.801Z",
    "type": "execution"
   },
   {
    "id": "1eae70fe586f4b1d81fe0c38efb963fe",
    "time": "2021-01-25T23:45:01.857Z",
    "type": "completion"
   },
   {
    "code": "SOURCE = 40 # \"Population estimates and projections\n\nindicators = wbdata.get_indicator(source=SOURCE)\nindicators",
    "id": "ae2b83e99ad74eac8362807604cf1267",
    "idx": 6,
    "time": "2021-01-25T23:45:51.590Z",
    "type": "execution"
   },
   {
    "id": "ae2b83e99ad74eac8362807604cf1267",
    "time": "2021-01-25T23:45:51.708Z",
    "type": "completion"
   },
   {
    "code": "wbdata.get_source()",
    "id": "ae4a3eaf558f4045906f5c1826505d86",
    "idx": 5,
    "time": "2021-01-25T23:46:29.325Z",
    "type": "execution"
   },
   {
    "id": "ae4a3eaf558f4045906f5c1826505d86",
    "time": "2021-01-25T23:46:29.387Z",
    "type": "completion"
   },
   {
    "code": "wbdata",
    "id": "4c89c06c2aab432b81964f123a60c65e",
    "idx": 7,
    "time": "2021-01-25T23:47:11.174Z",
    "type": "execution"
   },
   {
    "id": "4c89c06c2aab432b81964f123a60c65e",
    "time": "2021-01-25T23:47:11.231Z",
    "type": "completion"
   },
   {
    "code": "wbdata.get_source(40)",
    "id": "4c89c06c2aab432b81964f123a60c65e",
    "idx": 7,
    "time": "2021-01-25T23:47:27.271Z",
    "type": "execution"
   },
   {
    "id": "4c89c06c2aab432b81964f123a60c65e",
    "time": "2021-01-25T23:47:27.682Z",
    "type": "completion"
   },
   {
    "code": "# Give variable for clarity\nvariable_labels = {\"SP.POP.TOTL\":\"World Population\"}\n\nworld = wbdata.get_dataframe(variable_labels, country=\"WLD\")\n\n# Date index is of type string; change to integers\nworld.index = world.index.astype(int)\n\n# Print a few years' data\nworld.head()",
    "id": "b67bb48f70834fc1ab158103291c5522",
    "idx": 8,
    "time": "2021-01-25T23:56:21.871Z",
    "type": "execution"
   },
   {
    "id": "b67bb48f70834fc1ab158103291c5522",
    "time": "2021-01-25T23:56:21.947Z",
    "type": "completion"
   },
   {
    "code": "# Give variable for clarity\nvariable_labels = {\"SP.POP.TOTL\":\"World Population\"}\n\nworld = wbdata.get_dataframe(variable_labels)\n\n# Date index is of type string; change to integers\nworld.index = world.index.astype(int)\n\n# Print a few years' data\nworld.head()",
    "id": "b67bb48f70834fc1ab158103291c5522",
    "idx": 8,
    "time": "2021-01-25T23:56:35.548Z",
    "type": "execution"
   },
   {
    "id": "b67bb48f70834fc1ab158103291c5522",
    "time": "2021-01-25T23:56:42.609Z",
    "type": "completion"
   },
   {
    "code": "# Give variable for clarity\nvariable_labels = {\"SP.POP.TOTL\":\"World Population\"}\n\nworld = wbdata.get_dataframe(variable_labels, country=\"\")\n\n# Date index is of type string; change to integers\nworld.index = world.index.astype(int)\n\n# Print a few years' data\nworld.head()",
    "id": "b67bb48f70834fc1ab158103291c5522",
    "idx": 8,
    "time": "2021-01-25T23:57:16.113Z",
    "type": "execution"
   },
   {
    "id": "b67bb48f70834fc1ab158103291c5522",
    "time": "2021-01-25T23:57:33.865Z",
    "type": "completion"
   },
   {
    "code": "# Give variable for clarity\nvariable_labels = {\"SP.POP.TOTL\":\"World Population\"}\n\nworld = wbdata.get_dataframe(variable_labels, country=\"\")\n\n# Date index is of type string; change to integers\n#world.index = world.index.astype(int)\n\n# Print a few years' data\n#world.head()\n\nworld.index",
    "id": "b67bb48f70834fc1ab158103291c5522",
    "idx": 8,
    "time": "2021-01-25T23:57:53.228Z",
    "type": "execution"
   },
   {
    "id": "b67bb48f70834fc1ab158103291c5522",
    "time": "2021-01-25T23:57:53.449Z",
    "type": "completion"
   },
   {
    "code": "# Give variable for clarity\nvariable_labels = {\"SP.POP.TOTL\":\"World Population\"}\n\nworld = wbdata.get_dataframe(variable_labels, country=\"\")\n\n# Date index is of type string; change to integers\n#world.index = world.index.astype(int)\n\n# Print a few years' data\n#world.head()\n\nworld.index[1]",
    "id": "b67bb48f70834fc1ab158103291c5522",
    "idx": 8,
    "time": "2021-01-25T23:58:29.197Z",
    "type": "execution"
   },
   {
    "id": "b67bb48f70834fc1ab158103291c5522",
    "time": "2021-01-25T23:58:29.363Z",
    "type": "completion"
   },
   {
    "code": "# Give variable for clarity\nvariable_labels = {\"SP.POP.TOTL\":\"World Population\"}\n\nworld = wbdata.get_dataframe(variable_labels, country=\"\")\n\n# Date index is of type string; change to integers\n#world.index = world.index.astype(int)\n\n# Print a few years' data\n#world.head()\n\nworld.index[0]",
    "id": "b67bb48f70834fc1ab158103291c5522",
    "idx": 8,
    "time": "2021-01-25T23:58:32.863Z",
    "type": "execution"
   },
   {
    "id": "b67bb48f70834fc1ab158103291c5522",
    "time": "2021-01-25T23:58:33.099Z",
    "type": "completion"
   },
   {
    "code": "\n# Return list of all country/region codes:\nwbdata.get_country()\n\n# Return list matching a query term:\n#wbdata.search_countries(\"World\")\n\n## Try your own search!\n#wbdata.search_countries(\"Income\")",
    "id": "1eae70fe586f4b1d81fe0c38efb963fe",
    "idx": 4,
    "time": "2021-01-26T00:02:57.818Z",
    "type": "execution"
   },
   {
    "id": "1eae70fe586f4b1d81fe0c38efb963fe",
    "time": "2021-01-26T00:02:57.892Z",
    "type": "completion"
   },
   {
    "code": "\n# Return list of all country/region codes:\n#wbdata.get_country()\n\n# Return list matching a query term:\nwbdata.search_countries(\"World\")\n\n## Try your own search!\n#wbdata.search_countries(\"Income\")",
    "id": "1eae70fe586f4b1d81fe0c38efb963fe",
    "idx": 4,
    "time": "2021-01-26T00:03:28.043Z",
    "type": "execution"
   },
   {
    "id": "1eae70fe586f4b1d81fe0c38efb963fe",
    "time": "2021-01-26T00:03:28.104Z",
    "type": "completion"
   },
   {
    "code": "\n# Return list of all country/region codes:\n#wbdata.get_country()\n\n# Return list matching a query term:\nwbdata.search_countries(\"\")\n\n## Try your own search!\n#wbdata.search_countries(\"Income\")",
    "id": "1eae70fe586f4b1d81fe0c38efb963fe",
    "idx": 4,
    "time": "2021-01-26T00:03:32.197Z",
    "type": "execution"
   },
   {
    "id": "1eae70fe586f4b1d81fe0c38efb963fe",
    "time": "2021-01-26T00:03:32.268Z",
    "type": "completion"
   },
   {
    "code": "wbdata.search_countries(\"\")",
    "id": "196175c33d0a4991b5d59a8331e79aa8",
    "idx": 9,
    "time": "2021-01-26T00:03:57.049Z",
    "type": "execution"
   },
   {
    "id": "196175c33d0a4991b5d59a8331e79aa8",
    "time": "2021-01-26T00:03:57.120Z",
    "type": "completion"
   },
   {
    "code": "wbdata.search_countries(\"\")[\"id\"]",
    "id": "196175c33d0a4991b5d59a8331e79aa8",
    "idx": 9,
    "time": "2021-01-26T00:04:04.882Z",
    "type": "execution"
   },
   {
    "id": "196175c33d0a4991b5d59a8331e79aa8",
    "time": "2021-01-26T00:04:04.948Z",
    "type": "completion"
   },
   {
    "code": "wbdata.search_countries(\"\")[id]",
    "id": "196175c33d0a4991b5d59a8331e79aa8",
    "idx": 9,
    "time": "2021-01-26T00:04:09.007Z",
    "type": "execution"
   },
   {
    "id": "196175c33d0a4991b5d59a8331e79aa8",
    "time": "2021-01-26T00:04:09.073Z",
    "type": "completion"
   },
   {
    "code": "wbdata.search_countries(\"\")",
    "id": "196175c33d0a4991b5d59a8331e79aa8",
    "idx": 9,
    "time": "2021-01-26T00:04:11.156Z",
    "type": "execution"
   },
   {
    "id": "196175c33d0a4991b5d59a8331e79aa8",
    "time": "2021-01-26T00:04:11.229Z",
    "type": "completion"
   },
   {
    "code": "wbdata.search_countries(\"\")[0]",
    "id": "196175c33d0a4991b5d59a8331e79aa8",
    "idx": 9,
    "time": "2021-01-26T00:04:16.300Z",
    "type": "execution"
   },
   {
    "id": "196175c33d0a4991b5d59a8331e79aa8",
    "time": "2021-01-26T00:04:16.359Z",
    "type": "completion"
   },
   {
    "code": "wbdata.search_countries(\"\")['id']",
    "id": "196175c33d0a4991b5d59a8331e79aa8",
    "idx": 9,
    "time": "2021-01-26T00:04:26.539Z",
    "type": "execution"
   },
   {
    "id": "196175c33d0a4991b5d59a8331e79aa8",
    "time": "2021-01-26T00:04:26.608Z",
    "type": "completion"
   },
   {
    "code": "wbdata.search_countries(\"\")",
    "id": "196175c33d0a4991b5d59a8331e79aa8",
    "idx": 9,
    "time": "2021-01-26T00:04:33.855Z",
    "type": "execution"
   },
   {
    "id": "196175c33d0a4991b5d59a8331e79aa8",
    "time": "2021-01-26T00:04:33.925Z",
    "type": "completion"
   },
   {
    "code": "type(wbdata.search_countries(\"\"))",
    "id": "196175c33d0a4991b5d59a8331e79aa8",
    "idx": 9,
    "time": "2021-01-26T00:04:43.215Z",
    "type": "execution"
   },
   {
    "id": "196175c33d0a4991b5d59a8331e79aa8",
    "time": "2021-01-26T00:04:43.274Z",
    "type": "completion"
   },
   {
    "code": "as_dict(wbdata.search_countries(\"\"))",
    "id": "196175c33d0a4991b5d59a8331e79aa8",
    "idx": 9,
    "time": "2021-01-26T00:04:54.582Z",
    "type": "execution"
   },
   {
    "id": "196175c33d0a4991b5d59a8331e79aa8",
    "time": "2021-01-26T00:04:54.643Z",
    "type": "completion"
   },
   {
    "code": "wbdata.search_countries(\"\").astype(dict)",
    "id": "196175c33d0a4991b5d59a8331e79aa8",
    "idx": 9,
    "time": "2021-01-26T00:05:07.642Z",
    "type": "execution"
   },
   {
    "id": "196175c33d0a4991b5d59a8331e79aa8",
    "time": "2021-01-26T00:05:07.711Z",
    "type": "completion"
   },
   {
    "code": "wbdata.search_countries(\"\")",
    "id": "196175c33d0a4991b5d59a8331e79aa8",
    "idx": 9,
    "time": "2021-01-26T00:05:17.604Z",
    "type": "execution"
   },
   {
    "id": "196175c33d0a4991b5d59a8331e79aa8",
    "time": "2021-01-26T00:05:17.678Z",
    "type": "completion"
   },
   {
    "code": "wbdata.search_countries(\"\")",
    "id": "196175c33d0a4991b5d59a8331e79aa8",
    "idx": 9,
    "time": "2021-01-26T00:05:36.615Z",
    "type": "execution"
   },
   {
    "id": "196175c33d0a4991b5d59a8331e79aa8",
    "time": "2021-01-26T00:05:36.687Z",
    "type": "completion"
   },
   {
    "code": "wbdata.search_countries(\"\").astype(dict)",
    "id": "196175c33d0a4991b5d59a8331e79aa8",
    "idx": 9,
    "time": "2021-01-26T00:06:03.087Z",
    "type": "execution"
   },
   {
    "id": "196175c33d0a4991b5d59a8331e79aa8",
    "time": "2021-01-26T00:06:03.153Z",
    "type": "completion"
   },
   {
    "code": "wbdata.search_countries(\"\")[0]",
    "id": "196175c33d0a4991b5d59a8331e79aa8",
    "idx": 9,
    "time": "2021-01-26T00:07:26.115Z",
    "type": "execution"
   },
   {
    "id": "196175c33d0a4991b5d59a8331e79aa8",
    "time": "2021-01-26T00:07:26.180Z",
    "type": "completion"
   },
   {
    "code": "wbdata.search_countries(\"\")[0][\"id\"]",
    "id": "196175c33d0a4991b5d59a8331e79aa8",
    "idx": 9,
    "time": "2021-01-26T00:09:47.008Z",
    "type": "execution"
   },
   {
    "id": "196175c33d0a4991b5d59a8331e79aa8",
    "time": "2021-01-26T00:09:47.078Z",
    "type": "completion"
   },
   {
    "code": "wbdata.search_countries(\"\")[0]#[\"id\", ]",
    "id": "196175c33d0a4991b5d59a8331e79aa8",
    "idx": 9,
    "time": "2021-01-26T00:10:02.166Z",
    "type": "execution"
   },
   {
    "id": "196175c33d0a4991b5d59a8331e79aa8",
    "time": "2021-01-26T00:10:02.235Z",
    "type": "completion"
   },
   {
    "code": "wbdata.search_countries(\"\")[0]#[\"id\", \"name\" ]",
    "id": "196175c33d0a4991b5d59a8331e79aa8",
    "idx": 9,
    "time": "2021-01-26T00:10:15.147Z",
    "type": "execution"
   },
   {
    "id": "196175c33d0a4991b5d59a8331e79aa8",
    "time": "2021-01-26T00:10:15.215Z",
    "type": "completion"
   },
   {
    "code": "wbdata.search_countries(\"\")[0][\"id\", \"name\" ]",
    "id": "196175c33d0a4991b5d59a8331e79aa8",
    "idx": 9,
    "time": "2021-01-26T00:10:18.967Z",
    "type": "execution"
   },
   {
    "id": "196175c33d0a4991b5d59a8331e79aa8",
    "time": "2021-01-26T00:10:19.045Z",
    "type": "completion"
   },
   {
    "code": "wbdata.search_countries(\"\")[0][\"id\"]",
    "id": "196175c33d0a4991b5d59a8331e79aa8",
    "idx": 9,
    "time": "2021-01-26T00:10:28.928Z",
    "type": "execution"
   },
   {
    "id": "196175c33d0a4991b5d59a8331e79aa8",
    "time": "2021-01-26T00:10:28.991Z",
    "type": "completion"
   },
   {
    "code": "wbdata.search_countries(\"\")[0][\"id\"], wbdata.search_countries(\"\")[0][\"name\"]",
    "id": "196175c33d0a4991b5d59a8331e79aa8",
    "idx": 9,
    "time": "2021-01-26T00:10:36.979Z",
    "type": "execution"
   },
   {
    "id": "196175c33d0a4991b5d59a8331e79aa8",
    "time": "2021-01-26T00:10:37.039Z",
    "type": "completion"
   },
   {
    "code": "for i in range(len(wbdata.search_countries(\"\")))",
    "id": "2d03f03333bc421d8f1790943e4c58fa",
    "idx": 10,
    "time": "2021-01-26T00:11:45.682Z",
    "type": "execution"
   },
   {
    "id": "2d03f03333bc421d8f1790943e4c58fa",
    "time": "2021-01-26T00:11:45.747Z",
    "type": "completion"
   },
   {
    "code": "range(len(wbdata.search_countries(\"\"))",
    "id": "2d03f03333bc421d8f1790943e4c58fa",
    "idx": 10,
    "time": "2021-01-26T00:11:51.483Z",
    "type": "execution"
   },
   {
    "id": "2d03f03333bc421d8f1790943e4c58fa",
    "time": "2021-01-26T00:11:51.539Z",
    "type": "completion"
   },
   {
    "code": "range(len(wbdata.search_countries(\"\")))",
    "id": "2d03f03333bc421d8f1790943e4c58fa",
    "idx": 10,
    "time": "2021-01-26T00:11:55.034Z",
    "type": "execution"
   },
   {
    "id": "2d03f03333bc421d8f1790943e4c58fa",
    "time": "2021-01-26T00:11:55.106Z",
    "type": "completion"
   },
   {
    "code": "name_dict = dict()\nfor i in range(len(wbdata.search_countries(\"\"))):\n    id = wbdata.search_countries(\"\")[0][\"id\"]\n    country = wbdata.search_countries(\"\")[0][\"name\"]\n    name_dict[country] = id",
    "id": "2d03f03333bc421d8f1790943e4c58fa",
    "idx": 10,
    "time": "2021-01-26T00:13:12.385Z",
    "type": "execution"
   },
   {
    "id": "2d03f03333bc421d8f1790943e4c58fa",
    "time": "2021-01-26T00:13:13.647Z",
    "type": "completion"
   },
   {
    "code": "name_dict",
    "id": "5e160484124c44ec8047223b22a80e58",
    "idx": 11,
    "time": "2021-01-26T00:13:20.270Z",
    "type": "execution"
   },
   {
    "id": "5e160484124c44ec8047223b22a80e58",
    "time": "2021-01-26T00:13:20.334Z",
    "type": "completion"
   },
   {
    "code": "name_dict = dict()\nfor i in range(len(wbdata.search_countries(\"\"))):\n    id = wbdata.search_countries(\"\")[i][\"id\"]\n    country = wbdata.search_countries(\"\")[i][\"name\"]\n    name_dict[country] = id",
    "id": "2d03f03333bc421d8f1790943e4c58fa",
    "idx": 10,
    "time": "2021-01-26T00:13:36.307Z",
    "type": "execution"
   },
   {
    "id": "2d03f03333bc421d8f1790943e4c58fa",
    "time": "2021-01-26T00:13:37.860Z",
    "type": "completion"
   },
   {
    "code": "name_dict",
    "id": "5e160484124c44ec8047223b22a80e58",
    "idx": 11,
    "time": "2021-01-26T00:13:38.688Z",
    "type": "execution"
   },
   {
    "id": "5e160484124c44ec8047223b22a80e58",
    "time": "2021-01-26T00:13:38.759Z",
    "type": "completion"
   },
   {
    "code": "# Give variable for clarity\nvariable_labels = {\"SP.POP.TOTL\":\"World Population\"}\n\nworld = wbdata.get_dataframe(variable_labels, country=\"\")\n\n# Date index is of type string; change to integers\n#world.index = world.index.astype(int)\n\n# Print a few years' data\n#world.head()\n\nworld.index",
    "id": "b67bb48f70834fc1ab158103291c5522",
    "idx": 8,
    "time": "2021-01-26T00:46:05.811Z",
    "type": "execution"
   },
   {
    "id": "b67bb48f70834fc1ab158103291c5522",
    "time": "2021-01-26T00:46:06.062Z",
    "type": "completion"
   },
   {
    "code": "# Give variable for clarity\nvariable_labels = {\"SP.POP.TOTL\":\"World Population\"}\n\nworld = wbdata.get_dataframe(variable_labels, country=\"World\")\n\n# Date index is of type string; change to integers\n#world.index = world.index.astype(int)\n\n# Print a few years' data\n#world.head()\n\nworld.index",
    "id": "b67bb48f70834fc1ab158103291c5522",
    "idx": 8,
    "time": "2021-01-26T00:46:26.612Z",
    "type": "execution"
   },
   {
    "id": "b67bb48f70834fc1ab158103291c5522",
    "time": "2021-01-26T00:46:27.127Z",
    "type": "completion"
   },
   {
    "code": "# Give variable for clarity\nvariable_labels = {\"SP.POP.TOTL\":\"World Population\"}\n\nworld = wbdata.get_dataframe(variable_labels, country=\"\")\n\n# Date index is of type string; change to integers\n#world.index = world.index.astype(int)\n\n# Print a few years' data\n#world.head()\n\nworld.index",
    "id": "b67bb48f70834fc1ab158103291c5522",
    "idx": 8,
    "time": "2021-01-26T00:46:32.045Z",
    "type": "execution"
   },
   {
    "id": "b67bb48f70834fc1ab158103291c5522",
    "time": "2021-01-26T00:46:32.272Z",
    "type": "completion"
   },
   {
    "code": "# Give variable for clarity\nvariable_labels = {\"SP.POP.TOTL\":\"World Population\"}\n\nworld = wbdata.get_dataframe(variable_labels, country=\"Arab World\")\n\n# Date index is of type string; change to integers\n#world.index = world.index.astype(int)\n\n# Print a few years' data\n#world.head()\n\nworld.index",
    "id": "b67bb48f70834fc1ab158103291c5522",
    "idx": 8,
    "time": "2021-01-26T00:46:41.754Z",
    "type": "execution"
   },
   {
    "id": "b67bb48f70834fc1ab158103291c5522",
    "time": "2021-01-26T00:46:43.555Z",
    "type": "completion"
   },
   {
    "code": "# Give variable for clarity\nvariable_labels = {\"SP.POP.TOTL\":\"World Population\"}\n\nworld = wbdata.get_dataframe(variable_labels, country=\"Arab World\")\n\n# Date index is of type string; change to integers\nworld.index = world.index.astype(int)\n\n# Print a few years' data\n#world.head()\n\nworld.index",
    "id": "b67bb48f70834fc1ab158103291c5522",
    "idx": 8,
    "time": "2021-01-26T00:46:51.830Z",
    "type": "execution"
   },
   {
    "id": "b67bb48f70834fc1ab158103291c5522",
    "time": "2021-01-26T00:46:51.949Z",
    "type": "completion"
   },
   {
    "code": "# Give variable for clarity\nvariable_labels = {\"SP.POP.TOTL\":\"World Population\"}\n\nworld = wbdata.get_dataframe(variable_labels, country=\"\")\n\n# Date index is of type string; change to integers\n#world.index = world.index.astype(int)\n\n# Print a few years' data\n#world.head()\n\nworld.index",
    "id": "b67bb48f70834fc1ab158103291c5522",
    "idx": 8,
    "time": "2021-01-26T00:47:00.261Z",
    "type": "execution"
   },
   {
    "id": "b67bb48f70834fc1ab158103291c5522",
    "time": "2021-01-26T00:47:00.503Z",
    "type": "completion"
   },
   {
    "code": "# Give variable for clarity\nvariable_labels = {\"SP.POP.TOTL\":\"Population, total\"\n                   \"SP.POP.TOTL.FE.IN\":\"Population, female\"\n                   \"SP.POP.TOTL.FE.ZS\":\"Population, female (% of total population)\"\n                   \"SP.POP.TOTL.MA.IN\":\"Population, male\"\n                   \"SP.POP.TOTL.MA.ZS\":\"Population, male\"}\n\nworld = wbdata.get_dataframe(variable_labels, country=\"\")\n\n# Date index is of type string; change to integers\n#world.index = world.index.astype(int)\n\n# Print a few years' data\nworld.head()",
    "id": "b67bb48f70834fc1ab158103291c5522",
    "idx": 8,
    "time": "2021-01-26T00:49:25.431Z",
    "type": "execution"
   },
   {
    "id": "b67bb48f70834fc1ab158103291c5522",
    "time": "2021-01-26T00:49:25.564Z",
    "type": "completion"
   },
   {
    "code": "# Give variable for clarity\nvariable_labels = {\"SP.POP.TOTL\":\"Population, total\",\n                   \"SP.POP.TOTL.FE.IN\":\"Population, female\",\n                   \"SP.POP.TOTL.FE.ZS\":\"Population, female (% of total population)\",\n                   \"SP.POP.TOTL.MA.IN\":\"Population, male\",\n                   \"SP.POP.TOTL.MA.ZS\":\"Population, male\"}\n\nworld = wbdata.get_dataframe(variable_labels, country=\"\")\n\n# Date index is of type string; change to integers\n#world.index = world.index.astype(int)\n\n# Print a few years' data\nworld.head()",
    "id": "b67bb48f70834fc1ab158103291c5522",
    "idx": 8,
    "time": "2021-01-26T00:49:38.445Z",
    "type": "execution"
   },
   {
    "id": "b67bb48f70834fc1ab158103291c5522",
    "time": "2021-01-26T00:50:50.249Z",
    "type": "completion"
   },
   {
    "code": "# Give variable for clarity\nvariable_labels = {\"SP.POP.TOTL\":\"Population, total\",\n                   \"SP.POP.TOTL.FE.IN\":\"Population, female\",\n                   \"SP.POP.TOTL.FE.ZS\":\"Population, female (% of total population)\",\n                   \"SP.POP.TOTL.MA.IN\":\"Population, male\",\n                   \"SP.POP.TOTL.MA.ZS\":\"Population, male (% of total population)\"}\n\nworld = wbdata.get_dataframe(variable_labels, country=\"\")\n\n# Date index is of type string; change to integers\n#world.index = world.index.astype(int)\n\n# Print a few years' data\nworld.head()",
    "id": "b67bb48f70834fc1ab158103291c5522",
    "idx": 8,
    "time": "2021-01-26T00:51:07.119Z",
    "type": "execution"
   },
   {
    "id": "b67bb48f70834fc1ab158103291c5522",
    "time": "2021-01-26T00:51:08.150Z",
    "type": "completion"
   },
   {
    "code": "# Give variable for clarity\nvariable_labels = {\"SP.POP.TOTL\":\"Population, total\",\n                   \"SP.POP.TOTL.FE.IN\":\"Population, female\",\n                   \"SP.POP.TOTL.FE.ZS\":\"Population, female (% of total population)\",\n                   \"SP.POP.TOTL.MA.IN\":\"Population, male\",\n                   \"SP.POP.TOTL.MA.ZS\":\"Population, male (% of total population)\"}\n\nworld = wbdata.get_dataframe(variable_labels, country=\"\")\n\n# Date index is of type string; change to integers\n#world.index = world.index.astype(int)\n\n# Print a few years' data\nworld.head(70)",
    "id": "b67bb48f70834fc1ab158103291c5522",
    "idx": 8,
    "time": "2021-01-26T00:51:19.899Z",
    "type": "execution"
   },
   {
    "id": "b67bb48f70834fc1ab158103291c5522",
    "time": "2021-01-26T00:51:20.919Z",
    "type": "completion"
   },
   {
    "code": "# Give variable for clarity\nvariable_labels = {\"SP.POP.TOTL\":\"Population, total\",\n                   \"SP.POP.TOTL.FE.IN\":\"Population, female\",\n                   \"SP.POP.TOTL.FE.ZS\":\"Population, female (% of total population)\",\n                   \"SP.POP.TOTL.MA.IN\":\"Population, male\",\n                   \"SP.POP.TOTL.MA.ZS\":\"Population, male (% of total population)\"}\n\nworld = wbdata.get_dataframe(variable_labels, country=\"\")\n\n# Date index is of type string; change to integers\n#world.index = world.index.astype(int)\n\n# Print a few years' data\nworld.head(30)",
    "id": "b67bb48f70834fc1ab158103291c5522",
    "idx": 8,
    "time": "2021-01-26T00:51:29.367Z",
    "type": "execution"
   },
   {
    "id": "b67bb48f70834fc1ab158103291c5522",
    "time": "2021-01-26T00:51:30.381Z",
    "type": "completion"
   },
   {
    "code": "# Give variable for clarity\nvariable_labels = {\"SP.POP.TOTL\":\"Population, total\",\n                   \"SP.POP.TOTL.FE.IN\":\"Population, female\",\n                   \"SP.POP.TOTL.FE.ZS\":\"Population, female (% of total population)\",\n                   \"SP.POP.TOTL.MA.IN\":\"Population, male\",\n                   \"SP.POP.TOTL.MA.ZS\":\"Population, male (% of total population)\"}\n\nworld = wbdata.get_dataframe(variable_labels, country=\"\")\n\n# Date index is of type string; change to integers\n#world.index = world.index.astype(int)\n\n# Print a few years' data\nworld.head(49)",
    "id": "b67bb48f70834fc1ab158103291c5522",
    "idx": 8,
    "time": "2021-01-26T00:51:36.370Z",
    "type": "execution"
   },
   {
    "id": "b67bb48f70834fc1ab158103291c5522",
    "time": "2021-01-26T00:51:37.474Z",
    "type": "completion"
   },
   {
    "code": "# Give variable for clarity\nvariable_labels = {\"SP.POP.TOTL\":\"Population, total\",\n                   \"SP.POP.TOTL.FE.IN\":\"Population, female\",\n                   \"SP.POP.TOTL.FE.ZS\":\"Population, female (% of total population)\",\n                   \"SP.POP.TOTL.MA.IN\":\"Population, male\",\n                   \"SP.POP.TOTL.MA.ZS\":\"Population, male (% of total population)\"}\n\nworld = wbdata.get_dataframe(variable_labels, country=\"\")\n\n# Date index is of type string; change to integers\n#world.index = world.index.astype(int)\n\n# Print a few years' data\nworld.head(65)",
    "id": "b67bb48f70834fc1ab158103291c5522",
    "idx": 8,
    "time": "2021-01-26T00:51:43.682Z",
    "type": "execution"
   },
   {
    "id": "b67bb48f70834fc1ab158103291c5522",
    "time": "2021-01-26T00:51:44.575Z",
    "type": "completion"
   },
   {
    "code": "# Give variable for clarity\nvariable_labels = {\"SP.POP.TOTL\":\"Total Population\",\n                   \"SP.POP.TOTL.FE.IN\":\"Female Population\",\n                   \"SP.POP.TOTL.MA.IN\":\"Male Population\",\n                   \"SP.POP.0004.FE\":\"Females (0-4)\",\n                   \"SP.POP.0004.MA\":\"Males (0-4)\",\n                   \"SP.POP.0509.FE\":\"Females (5-9)\",\n                   \"SP.POP.0509.MA\":\"Males (5-9)\",\n                   \"SP.POP.1014.FE\":\"Females (10-14)\",\n                   \"SP.POP.1014.MA\":\"Males (10-14)\",\n                   \"SP.POP.1519.FE\":\"Females (15-19)\",\n                   \"SP.POP.1519.MA\":\"Males (15-19)\"\n                   \n                \n                  \n                  }\n\nworld = wbdata.get_dataframe(variable_labels, country=\"\")\n\n# Date index is of type string; change to integers\n#world.index = world.index.astype(int)\n\n# Print a few years' data\nworld.head(65)",
    "id": "b67bb48f70834fc1ab158103291c5522",
    "idx": 8,
    "time": "2021-01-26T01:02:34.898Z",
    "type": "execution"
   },
   {
    "id": "b67bb48f70834fc1ab158103291c5522",
    "time": "2021-01-26T01:05:02.221Z",
    "type": "completion"
   },
   {
    "code": "countries = {name_dict.get(location)}\ndf = wbdata.get_dataframe(variables, country=countries)\ndf.loc[year][0]",
    "id": "014dd87deb6140579bfa9603cadf13af",
    "idx": 10,
    "time": "2021-01-26T01:05:33.328Z",
    "type": "execution"
   },
   {
    "id": "014dd87deb6140579bfa9603cadf13af",
    "time": "2021-01-26T01:05:33.396Z",
    "type": "completion"
   },
   {
    "code": "# Give variable for clarity\nvariable_labels = {\"SP.POP.TOTL\":\"Total Population\",\n                   \"SP.POP.TOTL.FE.IN\":\"Female Population\",\n                   \"SP.POP.TOTL.MA.IN\":\"Male Population\",\n                   \n                   \"SP.POP.0014.FE.IN\":\"Females (0-14)\",\n                   \"SP.POP.0014.MA.IN\":\"Males (0-14)\",\n                   \n                   \"SP.POP.1564.FE.IN\":\"Females (15-64)\",\n                   \"SP.POP.1564.MA.IN\":\"Males (15-64)\",\n\n                   \"SP.POP.65UP.FE.IN\":\"Females (65+)\" \n                   \"SP.POP.65UP.MA.IN\":\"Males (65+)\" \n                   \n                   \"SP.POP.0004.FE\":\"Females (0-4)\",\n                   \"SP.POP.0004.MA\":\"Males (0-4)\",\n                   \n                   \"SP.POP.0509.FE\":\"Females (5-9)\",\n                   \"SP.POP.0509.MA\":\"Males (5-9)\",\n                   \n                   \"SP.POP.1014.FE\":\"Females (10-14)\",\n                   \"SP.POP.1014.MA\":\"Males (10-14)\",\n                   \n                   \"SP.POP.1519.FE\":\"Females (15-19)\",\n                   \"SP.POP.1519.MA\":\"Males (15-19)\",\n                   \n                   \"SP.POP.2024.FE\":\"Females (20-24)\",\n                   \"SP.POP.2024.MA\":\"Males (20-24)\",\n                   \n                   \"SP.POP.2529.FE\":\"Females (25-29)\",\n                   \"SP.POP.2529.MA\":\"Males (25-29)\",\n                   \n                   \"SP.POP.3034.FE\":\"Females (30-34)\",\n                   \"SP.POP.3034.MA\":\"Males (30-34)\",\n                   \n                   \"SP.POP.3539.FE\":\"Females (35-39)\",\n                   \"SP.POP.3539.MA\":\"Males (35-39)\",\n                   \n                   \"SP.POP.4044.FE\":\"Females (40-44)\",\n                   \"SP.POP.4044.MA\":\"Males (40-44)\",\n                   \n                   \"SP.POP.4549.FE\":\"Females (45-49)\",\n                   \"SP.POP.4549.MA\":\"Males (45-49)\",\n                   \n                   \"SP.POP.5054.FE\":\"Females (50-54)\",\n                   \"SP.POP.5054.MA\":\"Males (50-54)\",\n                   \n                   \"SP.POP.5559.FE\":\"Females (55-59)\",\n                   \"SP.POP.5559.MA\":\"Males (55-59)\",\n                   \n                   \"SP.POP.6064.FE\":\"Females (60-64)\",\n                   \"SP.POP.6064.MA\":\"Males (60-64)\",\n                   \n                   \"SP.POP.6569.FE\":\"Females (65-69)\",\n                   \"SP.POP.6569.MA\":\"Males (65-69)\",\n                   \n                   \"SP.POP.7074.FE\":\"Females (70-74)\",\n                   \"SP.POP.7074.MA\":\"Males (70-74)\",\n                \n                    \"SP.POP.6569.FE\":\"Females (65-69)\",\n                   \"SP.POP.6569.MA\":\"Males (65-69)\",\n                  }\n\nworld = wbdata.get_dataframe(variable_labels, country=\"\")\n\n# Date index is of type string; change to integers\n#world.index = world.index.astype(int)\n\n# Print a few years' data\nworld.head(65)",
    "id": "b67bb48f70834fc1ab158103291c5522",
    "idx": 8,
    "time": "2021-01-26T02:41:53.875Z",
    "type": "execution"
   },
   {
    "code": "# Give variable for clarity\nvariable_labels = {\"SP.POP.TOTL\":\"Total Population\",\n                   \"SP.POP.TOTL.FE.IN\":\"Female Population\",\n                   \"SP.POP.TOTL.MA.IN\":\"Male Population\",\n                   \n                   \"SP.POP.0014.FE.IN\":\"Females (0-14)\",\n                   \"SP.POP.0014.MA.IN\":\"Males (0-14)\",\n                   \n                   \"SP.POP.1564.FE.IN\":\"Females (15-64)\",\n                   \"SP.POP.1564.MA.IN\":\"Males (15-64)\",\n\n                   \"SP.POP.65UP.FE.IN\":\"Females (65+)\" \n                   \"SP.POP.65UP.MA.IN\":\"Males (65+)\" \n                   \n                   \"SP.POP.0004.FE\":\"Females (0-4)\",\n                   \"SP.POP.0004.MA\":\"Males (0-4)\",\n                   \n                   \"SP.POP.0509.FE\":\"Females (5-9)\",\n                   \"SP.POP.0509.MA\":\"Males (5-9)\",\n                   \n                   \"SP.POP.1014.FE\":\"Females (10-14)\",\n                   \"SP.POP.1014.MA\":\"Males (10-14)\",\n                   \n                   \"SP.POP.1519.FE\":\"Females (15-19)\",\n                   \"SP.POP.1519.MA\":\"Males (15-19)\",\n                   \n                   \"SP.POP.2024.FE\":\"Females (20-24)\",\n                   \"SP.POP.2024.MA\":\"Males (20-24)\",\n                   \n                   \"SP.POP.2529.FE\":\"Females (25-29)\",\n                   \"SP.POP.2529.MA\":\"Males (25-29)\",\n                   \n                   \"SP.POP.3034.FE\":\"Females (30-34)\",\n                   \"SP.POP.3034.MA\":\"Males (30-34)\",\n                   \n                   \"SP.POP.3539.FE\":\"Females (35-39)\",\n                   \"SP.POP.3539.MA\":\"Males (35-39)\",\n                   \n                   \"SP.POP.4044.FE\":\"Females (40-44)\",\n                   \"SP.POP.4044.MA\":\"Males (40-44)\",\n                   \n                   \"SP.POP.4549.FE\":\"Females (45-49)\",\n                   \"SP.POP.4549.MA\":\"Males (45-49)\",\n                   \n                   \"SP.POP.5054.FE\":\"Females (50-54)\",\n                   \"SP.POP.5054.MA\":\"Males (50-54)\",\n                   \n                   \"SP.POP.5559.FE\":\"Females (55-59)\",\n                   \"SP.POP.5559.MA\":\"Males (55-59)\",\n                   \n                   \"SP.POP.6064.FE\":\"Females (60-64)\",\n                   \"SP.POP.6064.MA\":\"Males (60-64)\",\n                   \n                   \"SP.POP.6569.FE\":\"Females (65-69)\",\n                   \"SP.POP.6569.MA\":\"Males (65-69)\",\n                   \n                   \"SP.POP.7074.FE\":\"Females (70-74)\",\n                   \"SP.POP.7074.MA\":\"Males (70-74)\",\n                \n                   \"SP.POP.7579.FE\":\"Females (75-79)\",\n                   \"SP.POP.7579.MA\":\"Males (75-79)\",\n                   \n                   \"SP.POP.80UP.FE\":\"Females (80+)\",\n                   \"SP.POP.80UP.FE\":\"Males (80+)\" \n                   \n                  }\n\nworld = wbdata.get_dataframe(variable_labels, country=\"\")\n\n# Date index is of type string; change to integers\n#world.index = world.index.astype(int)\n\n# Print a few years' data\nworld.head(65)",
    "id": "b67bb48f70834fc1ab158103291c5522",
    "idx": 8,
    "time": "2021-01-26T02:43:07.368Z",
    "type": "execution"
   },
   {
    "id": "b67bb48f70834fc1ab158103291c5522",
    "time": "2021-01-26T02:43:21.213Z",
    "type": "completion"
   },
   {
    "id": "b67bb48f70834fc1ab158103291c5522",
    "time": "2021-01-26T02:43:21.213Z",
    "type": "completion"
   },
   {
    "code": "import wbdata\nimport pandas as pd\nimport numpy as np",
    "id": "4a7160a4bfaa44b482543ae63329f98c",
    "idx": 3,
    "time": "2021-01-26T02:43:27.135Z",
    "type": "execution"
   },
   {
    "code": "\n# Return list of all country/region codes:\n#wbdata.get_country()\n\n# Return list matching a query term:\nwbdata.search_countries(\"\")\n\n## Try your own search!\n#wbdata.search_countries(\"Income\")",
    "id": "1eae70fe586f4b1d81fe0c38efb963fe",
    "idx": 4,
    "time": "2021-01-26T02:43:27.136Z",
    "type": "execution"
   },
   {
    "code": "wbdata.get_source()",
    "id": "ae4a3eaf558f4045906f5c1826505d86",
    "idx": 5,
    "time": "2021-01-26T02:43:27.138Z",
    "type": "execution"
   },
   {
    "code": "SOURCE = 40 # \"Population estimates and projections\n\nindicators = wbdata.get_indicator(source=SOURCE)\nindicators",
    "id": "ae2b83e99ad74eac8362807604cf1267",
    "idx": 6,
    "time": "2021-01-26T02:43:27.140Z",
    "type": "execution"
   },
   {
    "code": "wbdata.get_source()",
    "id": "4c89c06c2aab432b81964f123a60c65e",
    "idx": 7,
    "time": "2021-01-26T02:43:27.141Z",
    "type": "execution"
   },
   {
    "code": "# Give variable for clarity\nvariable_labels = {\"SP.POP.TOTL\":\"Total Population\",\n                   \"SP.POP.TOTL.FE.IN\":\"Female Population\",\n                   \"SP.POP.TOTL.MA.IN\":\"Male Population\",\n                   \n                   \"SP.POP.0014.FE.IN\":\"Females (0-14)\",\n                   \"SP.POP.0014.MA.IN\":\"Males (0-14)\",\n                   \n                   \"SP.POP.1564.FE.IN\":\"Females (15-64)\",\n                   \"SP.POP.1564.MA.IN\":\"Males (15-64)\",\n\n                   \"SP.POP.65UP.FE.IN\":\"Females (65+)\" \n                   \"SP.POP.65UP.MA.IN\":\"Males (65+)\" \n                   \n                   \"SP.POP.0004.FE\":\"Females (0-4)\",\n                   \"SP.POP.0004.MA\":\"Males (0-4)\",\n                   \n                   \"SP.POP.0509.FE\":\"Females (5-9)\",\n                   \"SP.POP.0509.MA\":\"Males (5-9)\",\n                   \n                   \"SP.POP.1014.FE\":\"Females (10-14)\",\n                   \"SP.POP.1014.MA\":\"Males (10-14)\",\n                   \n                   \"SP.POP.1519.FE\":\"Females (15-19)\",\n                   \"SP.POP.1519.MA\":\"Males (15-19)\",\n                   \n                   \"SP.POP.2024.FE\":\"Females (20-24)\",\n                   \"SP.POP.2024.MA\":\"Males (20-24)\",\n                   \n                   \"SP.POP.2529.FE\":\"Females (25-29)\",\n                   \"SP.POP.2529.MA\":\"Males (25-29)\",\n                   \n                   \"SP.POP.3034.FE\":\"Females (30-34)\",\n                   \"SP.POP.3034.MA\":\"Males (30-34)\",\n                   \n                   \"SP.POP.3539.FE\":\"Females (35-39)\",\n                   \"SP.POP.3539.MA\":\"Males (35-39)\",\n                   \n                   \"SP.POP.4044.FE\":\"Females (40-44)\",\n                   \"SP.POP.4044.MA\":\"Males (40-44)\",\n                   \n                   \"SP.POP.4549.FE\":\"Females (45-49)\",\n                   \"SP.POP.4549.MA\":\"Males (45-49)\",\n                   \n                   \"SP.POP.5054.FE\":\"Females (50-54)\",\n                   \"SP.POP.5054.MA\":\"Males (50-54)\",\n                   \n                   \"SP.POP.5559.FE\":\"Females (55-59)\",\n                   \"SP.POP.5559.MA\":\"Males (55-59)\",\n                   \n                   \"SP.POP.6064.FE\":\"Females (60-64)\",\n                   \"SP.POP.6064.MA\":\"Males (60-64)\",\n                   \n                   \"SP.POP.6569.FE\":\"Females (65-69)\",\n                   \"SP.POP.6569.MA\":\"Males (65-69)\",\n                   \n                   \"SP.POP.7074.FE\":\"Females (70-74)\",\n                   \"SP.POP.7074.MA\":\"Males (70-74)\",\n                \n                   \"SP.POP.7579.FE\":\"Females (75-79)\",\n                   \"SP.POP.7579.MA\":\"Males (75-79)\",\n                   \n                   \"SP.POP.80UP.FE\":\"Females (80+)\",\n                   \"SP.POP.80UP.FE\":\"Males (80+)\" \n                   \n                  }\n\nworld = wbdata.get_dataframe(variable_labels, country=\"\")\n\n# Date index is of type string; change to integers\n#world.index = world.index.astype(int)\n\n# Print a few years' data\nworld.head(65)",
    "id": "b67bb48f70834fc1ab158103291c5522",
    "idx": 8,
    "time": "2021-01-26T02:43:27.143Z",
    "type": "execution"
   },
   {
    "code": "countries = {name_dict.get(location)}\ndf = wbdata.get_dataframe(variables, country=countries)\ndf.loc[year][0]",
    "id": "014dd87deb6140579bfa9603cadf13af",
    "idx": 10,
    "time": "2021-01-26T02:43:27.145Z",
    "type": "execution"
   },
   {
    "code": "name_dict = dict()\nfor i in range(len(wbdata.search_countries(\"\"))):\n    id = wbdata.search_countries(\"\")[i][\"id\"]\n    country = wbdata.search_countries(\"\")[i][\"name\"]\n    name_dict[country] = id",
    "id": "2d03f03333bc421d8f1790943e4c58fa",
    "idx": 18,
    "time": "2021-01-26T02:43:27.152Z",
    "type": "execution"
   },
   {
    "code": "name_dict",
    "id": "5e160484124c44ec8047223b22a80e58",
    "idx": 19,
    "time": "2021-01-26T02:43:27.154Z",
    "type": "execution"
   },
   {
    "id": "4a7160a4bfaa44b482543ae63329f98c",
    "time": "2021-01-26T02:43:27.781Z",
    "type": "completion"
   },
   {
    "id": "1eae70fe586f4b1d81fe0c38efb963fe",
    "time": "2021-01-26T02:43:27.829Z",
    "type": "completion"
   },
   {
    "id": "ae4a3eaf558f4045906f5c1826505d86",
    "time": "2021-01-26T02:43:27.850Z",
    "type": "completion"
   },
   {
    "id": "ae2b83e99ad74eac8362807604cf1267",
    "time": "2021-01-26T02:43:27.869Z",
    "type": "completion"
   },
   {
    "id": "4c89c06c2aab432b81964f123a60c65e",
    "time": "2021-01-26T02:43:27.877Z",
    "type": "completion"
   },
   {
    "id": "b67bb48f70834fc1ab158103291c5522",
    "time": "2021-01-26T02:43:27.882Z",
    "type": "completion"
   },
   {
    "id": "014dd87deb6140579bfa9603cadf13af",
    "time": "2021-01-26T02:43:27.897Z",
    "type": "completion"
   },
   {
    "id": "2d03f03333bc421d8f1790943e4c58fa",
    "time": "2021-01-26T02:43:27.897Z",
    "type": "completion"
   },
   {
    "id": "5e160484124c44ec8047223b22a80e58",
    "time": "2021-01-26T02:43:27.903Z",
    "type": "completion"
   },
   {
    "code": "# Give variable for clarity\nvariable_labels = {\"SP.POP.TOTL\":\"Total Population\",\n                   \"SP.POP.TOTL.FE.IN\":\"Female Population\",\n                   \"SP.POP.TOTL.MA.IN\":\"Male Population\",\n                   \n                   \"SP.POP.0014.FE.IN\":\"Females (0-14)\",\n                   \"SP.POP.0014.MA.IN\":\"Males (0-14)\",\n                   \n                   \"SP.POP.1564.FE.IN\":\"Females (15-64)\",\n                   \"SP.POP.1564.MA.IN\":\"Males (15-64)\",\n\n                   \"SP.POP.65UP.FE.IN\":\"Females (65+)\", \n                   \"SP.POP.65UP.MA.IN\":\"Males (65+)\", \n                   \n                   \"SP.POP.0004.FE\":\"Females (0-4)\",\n                   \"SP.POP.0004.MA\":\"Males (0-4)\",\n                   \n                   \"SP.POP.0509.FE\":\"Females (5-9)\",\n                   \"SP.POP.0509.MA\":\"Males (5-9)\",\n                   \n                   \"SP.POP.1014.FE\":\"Females (10-14)\",\n                   \"SP.POP.1014.MA\":\"Males (10-14)\",\n                   \n                   \"SP.POP.1519.FE\":\"Females (15-19)\",\n                   \"SP.POP.1519.MA\":\"Males (15-19)\",\n                   \n                   \"SP.POP.2024.FE\":\"Females (20-24)\",\n                   \"SP.POP.2024.MA\":\"Males (20-24)\",\n                   \n                   \"SP.POP.2529.FE\":\"Females (25-29)\",\n                   \"SP.POP.2529.MA\":\"Males (25-29)\",\n                   \n                   \"SP.POP.3034.FE\":\"Females (30-34)\",\n                   \"SP.POP.3034.MA\":\"Males (30-34)\",\n                   \n                   \"SP.POP.3539.FE\":\"Females (35-39)\",\n                   \"SP.POP.3539.MA\":\"Males (35-39)\",\n                   \n                   \"SP.POP.4044.FE\":\"Females (40-44)\",\n                   \"SP.POP.4044.MA\":\"Males (40-44)\",\n                   \n                   \"SP.POP.4549.FE\":\"Females (45-49)\",\n                   \"SP.POP.4549.MA\":\"Males (45-49)\",\n                   \n                   \"SP.POP.5054.FE\":\"Females (50-54)\",\n                   \"SP.POP.5054.MA\":\"Males (50-54)\",\n                   \n                   \"SP.POP.5559.FE\":\"Females (55-59)\",\n                   \"SP.POP.5559.MA\":\"Males (55-59)\",\n                   \n                   \"SP.POP.6064.FE\":\"Females (60-64)\",\n                   \"SP.POP.6064.MA\":\"Males (60-64)\",\n                   \n                   \"SP.POP.6569.FE\":\"Females (65-69)\",\n                   \"SP.POP.6569.MA\":\"Males (65-69)\",\n                   \n                   \"SP.POP.7074.FE\":\"Females (70-74)\",\n                   \"SP.POP.7074.MA\":\"Males (70-74)\",\n                \n                   \"SP.POP.7579.FE\":\"Females (75-79)\",\n                   \"SP.POP.7579.MA\":\"Males (75-79)\",\n                   \n                   \"SP.POP.80UP.FE\":\"Females (80+)\",\n                   \"SP.POP.80UP.FE\":\"Males (80+)\" \n                   \n                  }\n\nworld = wbdata.get_dataframe(variable_labels, country=\"\")\n\n# Date index is of type string; change to integers\n#world.index = world.index.astype(int)\n\n# Print a few years' data\nworld.head(65)",
    "id": "b67bb48f70834fc1ab158103291c5522",
    "idx": 8,
    "time": "2021-01-26T02:43:45.959Z",
    "type": "execution"
   },
   {
    "id": "b67bb48f70834fc1ab158103291c5522",
    "time": "2021-01-26T02:57:05.338Z",
    "type": "completion"
   },
   {
    "code": "# Give variable for clarity\nvariable_labels = {\"SP.POP.TOTL\":\"Total Population\",\n                   \"SP.POP.TOTL.FE.IN\":\"Female Population\",\n                   \"SP.POP.TOTL.MA.IN\":\"Male Population\",\n                   \n                   \"SP.POP.0014.FE.IN\":\"Females (0-14)\",\n                   \"SP.POP.0014.MA.IN\":\"Males (0-14)\",\n                   \n                   \"SP.POP.1564.FE.IN\":\"Females (15-64)\",\n                   \"SP.POP.1564.MA.IN\":\"Males (15-64)\",\n\n                   \"SP.POP.65UP.FE.IN\":\"Females (65+)\", \n                   \"SP.POP.65UP.MA.IN\":\"Males (65+)\", \n                   \n                   \"SP.POP.0004.FE\":\"Females (0-4)\",\n                   \"SP.POP.0004.MA\":\"Males (0-4)\",\n                   \n                   \"SP.POP.0509.FE\":\"Females (5-9)\",\n                   \"SP.POP.0509.MA\":\"Males (5-9)\",\n                   \n                   \"SP.POP.1014.FE\":\"Females (10-14)\",\n                   \"SP.POP.1014.MA\":\"Males (10-14)\",\n                   \n                   \"SP.POP.1519.FE\":\"Females (15-19)\",\n                   \"SP.POP.1519.MA\":\"Males (15-19)\",\n                   \n                   \"SP.POP.2024.FE\":\"Females (20-24)\",\n                   \"SP.POP.2024.MA\":\"Males (20-24)\",\n                   \n                   \"SP.POP.2529.FE\":\"Females (25-29)\",\n                   \"SP.POP.2529.MA\":\"Males (25-29)\",\n                   \n                   \"SP.POP.3034.FE\":\"Females (30-34)\",\n                   \"SP.POP.3034.MA\":\"Males (30-34)\",\n                   \n                   \"SP.POP.3539.FE\":\"Females (35-39)\",\n                   \"SP.POP.3539.MA\":\"Males (35-39)\",\n                   \n                   \"SP.POP.4044.FE\":\"Females (40-44)\",\n                   \"SP.POP.4044.MA\":\"Males (40-44)\",\n                   \n                   \"SP.POP.4549.FE\":\"Females (45-49)\",\n                   \"SP.POP.4549.MA\":\"Males (45-49)\",\n                   \n                   \"SP.POP.5054.FE\":\"Females (50-54)\",\n                   \"SP.POP.5054.MA\":\"Males (50-54)\",\n                   \n                   \"SP.POP.5559.FE\":\"Females (55-59)\",\n                   \"SP.POP.5559.MA\":\"Males (55-59)\",\n                   \n                   \"SP.POP.6064.FE\":\"Females (60-64)\",\n                   \"SP.POP.6064.MA\":\"Males (60-64)\",\n                   \n                   \"SP.POP.6569.FE\":\"Females (65-69)\",\n                   \"SP.POP.6569.MA\":\"Males (65-69)\",\n                   \n                   \"SP.POP.7074.FE\":\"Females (70-74)\",\n                   \"SP.POP.7074.MA\":\"Males (70-74)\",\n                \n                   \"SP.POP.7579.FE\":\"Females (75-79)\",\n                   \"SP.POP.7579.MA\":\"Males (75-79)\",\n                   \n                   \"SP.POP.80UP.FE\":\"Females (80+)\",\n                   \"SP.POP.80UP.MA\":\"Males (80+)\" \n                   \n                  }\n\nworld = wbdata.get_dataframe(variable_labels, country=\"\")\n\n# Date index is of type string; change to integers\n#world.index = world.index.astype(int)\n\n# Print a few years' data\nworld.head(65)",
    "id": "b67bb48f70834fc1ab158103291c5522",
    "idx": 8,
    "time": "2021-01-26T02:58:03.095Z",
    "type": "execution"
   },
   {
    "id": "b67bb48f70834fc1ab158103291c5522",
    "time": "2021-01-26T02:58:40.881Z",
    "type": "completion"
   },
   {
    "code": "world.columns",
    "id": "196175c33d0a4991b5d59a8331e79aa8",
    "idx": 9,
    "time": "2021-01-26T02:58:53.814Z",
    "type": "execution"
   },
   {
    "id": "196175c33d0a4991b5d59a8331e79aa8",
    "time": "2021-01-26T02:58:53.876Z",
    "type": "completion"
   },
   {
    "code": "# Give variable for clarity\nvariable_labels = {\"SP.POP.TOTL\":\"Total Population\",\n                   \"SP.POP.TOTL.FE.IN\":\"Female Population\",\n                   \"SP.POP.TOTL.MA.IN\":\"Male Population\",\n                   \n                   \"SP.POP.0014.FE.IN\":\"Females (0-14)\",\n                   \"SP.POP.0014.MA.IN\":\"Males (0-14)\",\n                   \n                   \"SP.POP.1564.FE.IN\":\"Females (15-64)\",\n                   \"SP.POP.1564.MA.IN\":\"Males (15-64)\",\n\n                   \"SP.POP.65UP.FE.IN\":\"Females (65+)\", \n                   \"SP.POP.65UP.MA.IN\":\"Males (65+)\", \n                   \n                   \"SP.POP.0004.FE\":\"Females (0-4)\",\n                   \"SP.POP.0004.MA\":\"Males (0-4)\",\n                   \n                   \"SP.POP.0509.FE\":\"Females (5-9)\",\n                   \"SP.POP.0509.MA\":\"Males (5-9)\",\n                   \n                   \"SP.POP.1014.FE\":\"Females (10-14)\",\n                   \"SP.POP.1014.MA\":\"Males (10-14)\",\n                   \n                   \"SP.POP.1519.FE\":\"Females (15-19)\",\n                   \"SP.POP.1519.MA\":\"Males (15-19)\",\n                   \n                   \"SP.POP.2024.FE\":\"Females (20-24)\",\n                   \"SP.POP.2024.MA\":\"Males (20-24)\",\n                   \n                   \"SP.POP.2529.FE\":\"Females (25-29)\",\n                   \"SP.POP.2529.MA\":\"Males (25-29)\",\n                   \n                   \"SP.POP.3034.FE\":\"Females (30-34)\",\n                   \"SP.POP.3034.MA\":\"Males (30-34)\",\n                   \n                   \"SP.POP.3539.FE\":\"Females (35-39)\",\n                   \"SP.POP.3539.MA\":\"Males (35-39)\",\n                   \n                   \"SP.POP.4044.FE\":\"Females (40-44)\",\n                   \"SP.POP.4044.MA\":\"Males (40-44)\",\n                   \n                   \"SP.POP.4549.FE\":\"Females (45-49)\",\n                   \"SP.POP.4549.MA\":\"Males (45-49)\",\n                   \n                   \"SP.POP.5054.FE\":\"Females (50-54)\",\n                   \"SP.POP.5054.MA\":\"Males (50-54)\",\n                   \n                   \"SP.POP.5559.FE\":\"Females (55-59)\",\n                   \"SP.POP.5559.MA\":\"Males (55-59)\",\n                   \n                   \"SP.POP.6064.FE\":\"Females (60-64)\",\n                   \"SP.POP.6064.MA\":\"Males (60-64)\",\n                   \n                   \"SP.POP.6569.FE\":\"Females (65-69)\",\n                   \"SP.POP.6569.MA\":\"Males (65-69)\",\n                   \n                   \"SP.POP.7074.FE\":\"Females (70-74)\",\n                   \"SP.POP.7074.MA\":\"Males (70-74)\",\n                \n                   \"SP.POP.7579.FE\":\"Females (75-79)\",\n                   \"SP.POP.7579.MA\":\"Males (75-79)\",\n                   \n                   \"SP.POP.80UP.FE\":\"Females (80+)\",\n                   \"SP.POP.80UP.MA\":\"Males (80+)\" \n                   \n                  }\n\nworld = wbdata.get_dataframe(variable_labels, country=\"\")\n\n# Print a few years' data\nworld.head()",
    "id": "b67bb48f70834fc1ab158103291c5522",
    "idx": 8,
    "time": "2021-01-26T03:06:36.392Z",
    "type": "execution"
   },
   {
    "id": "b67bb48f70834fc1ab158103291c5522",
    "time": "2021-01-26T03:06:45.086Z",
    "type": "completion"
   },
   {
    "code": "import wbdata\nimport pandas as pd\nimport numpy as np",
    "id": "47b180e0e4184ee3a94ea4005d6b8ebb",
    "idx": 3,
    "time": "2021-01-27T01:46:57.938Z",
    "type": "execution"
   },
   {
    "id": "47b180e0e4184ee3a94ea4005d6b8ebb",
    "time": "2021-01-27T01:46:58.059Z",
    "type": "completion"
   },
   {
    "code": "## If import fails with \"ModuleNotFoundError\"\n## uncomment below & try again\n#!pip install wbdata\n\nimport wbdata",
    "id": "170534c6e12e460189d0c8612ced0506",
    "idx": 3,
    "time": "2021-01-27T01:47:28.970Z",
    "type": "execution"
   },
   {
    "id": "170534c6e12e460189d0c8612ced0506",
    "time": "2021-01-27T01:47:29.039Z",
    "type": "completion"
   },
   {
    "code": "## If import fails with \"ModuleNotFoundError\"\n## uncomment below & try again\n!pip install wbdata\n\nimport wbdata",
    "id": "170534c6e12e460189d0c8612ced0506",
    "idx": 3,
    "time": "2021-01-27T01:47:31.024Z",
    "type": "execution"
   },
   {
    "id": "170534c6e12e460189d0c8612ced0506",
    "time": "2021-01-27T01:47:37.045Z",
    "type": "completion"
   },
   {
    "code": "import pandas as pd\nimport numpy as np",
    "id": "47b180e0e4184ee3a94ea4005d6b8ebb",
    "idx": 4,
    "time": "2021-01-27T01:47:38.542Z",
    "type": "execution"
   },
   {
    "id": "47b180e0e4184ee3a94ea4005d6b8ebb",
    "time": "2021-01-27T01:47:38.608Z",
    "type": "completion"
   },
   {
    "code": "\n# Return list of all country/region codes:\n#wbdata.get_country()\n\n# Return list matching a query term:\n#wbdata.search_countries(\"\")\n\n## Try your own search!\n#wbdata.search_countries(\"Income\")",
    "id": "c4bc0fcbb332437985e3418df916f589",
    "idx": 5,
    "time": "2021-01-27T01:48:00.948Z",
    "type": "execution"
   },
   {
    "id": "c4bc0fcbb332437985e3418df916f589",
    "time": "2021-01-27T01:48:01.021Z",
    "type": "completion"
   },
   {
    "code": "wbdata.get_source()",
    "id": "9367073feba84d2a93f7f89e624127e0",
    "idx": 6,
    "time": "2021-01-27T01:48:02.982Z",
    "type": "execution"
   },
   {
    "id": "9367073feba84d2a93f7f89e624127e0",
    "time": "2021-01-27T01:48:05.360Z",
    "type": "completion"
   },
   {
    "code": "SOURCE = 40 # \"Population estimates and projections\n\nindicators = wbdata.get_indicator(source=SOURCE)\nindicators",
    "id": "37cad0643a6e4d0ca5ee89487b5bc219",
    "idx": 7,
    "time": "2021-01-27T01:48:08.343Z",
    "type": "execution"
   },
   {
    "id": "37cad0643a6e4d0ca5ee89487b5bc219",
    "time": "2021-01-27T01:48:09.115Z",
    "type": "completion"
   },
   {
    "code": "wbdata.get_source()",
    "id": "469bb84121ab4b25812b9434fe5e3ec4",
    "idx": 8,
    "time": "2021-01-27T01:48:17.316Z",
    "type": "execution"
   },
   {
    "id": "469bb84121ab4b25812b9434fe5e3ec4",
    "time": "2021-01-27T01:48:17.975Z",
    "type": "completion"
   },
   {
    "code": "# Give variable for clarity\nvariable_labels = {\"SP.POP.TOTL\":\"Total Population\",\n                   \"SP.POP.TOTL.FE.IN\":\"Female Population\",\n                   \"SP.POP.TOTL.MA.IN\":\"Male Population\",\n                   \n                   \"SP.POP.0014.FE.IN\":\"Females (0-14)\",\n                   \"SP.POP.0014.MA.IN\":\"Males (0-14)\",\n                   \n                   \"SP.POP.1564.FE.IN\":\"Females (15-64)\",\n                   \"SP.POP.1564.MA.IN\":\"Males (15-64)\",\n\n                   \"SP.POP.65UP.FE.IN\":\"Females (65+)\", \n                   \"SP.POP.65UP.MA.IN\":\"Males (65+)\", \n                   \n                   \"SP.POP.0004.FE\":\"Females (0-4)\",\n                   \"SP.POP.0004.MA\":\"Males (0-4)\",\n                   \n                   \"SP.POP.0509.FE\":\"Females (5-9)\",\n                   \"SP.POP.0509.MA\":\"Males (5-9)\",\n                   \n                   \"SP.POP.1014.FE\":\"Females (10-14)\",\n                   \"SP.POP.1014.MA\":\"Males (10-14)\",\n                   \n                   \"SP.POP.1519.FE\":\"Females (15-19)\",\n                   \"SP.POP.1519.MA\":\"Males (15-19)\",\n                   \n                   \"SP.POP.2024.FE\":\"Females (20-24)\",\n                   \"SP.POP.2024.MA\":\"Males (20-24)\",\n                   \n                   \"SP.POP.2529.FE\":\"Females (25-29)\",\n                   \"SP.POP.2529.MA\":\"Males (25-29)\",\n                   \n                   \"SP.POP.3034.FE\":\"Females (30-34)\",\n                   \"SP.POP.3034.MA\":\"Males (30-34)\",\n                   \n                   \"SP.POP.3539.FE\":\"Females (35-39)\",\n                   \"SP.POP.3539.MA\":\"Males (35-39)\",\n                   \n                   \"SP.POP.4044.FE\":\"Females (40-44)\",\n                   \"SP.POP.4044.MA\":\"Males (40-44)\",\n                   \n                   \"SP.POP.4549.FE\":\"Females (45-49)\",\n                   \"SP.POP.4549.MA\":\"Males (45-49)\",\n                   \n                   \"SP.POP.5054.FE\":\"Females (50-54)\",\n                   \"SP.POP.5054.MA\":\"Males (50-54)\",\n                   \n                   \"SP.POP.5559.FE\":\"Females (55-59)\",\n                   \"SP.POP.5559.MA\":\"Males (55-59)\",\n                   \n                   \"SP.POP.6064.FE\":\"Females (60-64)\",\n                   \"SP.POP.6064.MA\":\"Males (60-64)\",\n                   \n                   \"SP.POP.6569.FE\":\"Females (65-69)\",\n                   \"SP.POP.6569.MA\":\"Males (65-69)\",\n                   \n                   \"SP.POP.7074.FE\":\"Females (70-74)\",\n                   \"SP.POP.7074.MA\":\"Males (70-74)\",\n                \n                   \"SP.POP.7579.FE\":\"Females (75-79)\",\n                   \"SP.POP.7579.MA\":\"Males (75-79)\",\n                   \n                   \"SP.POP.80UP.FE\":\"Females (80+)\",\n                   \"SP.POP.80UP.MA\":\"Males (80+)\" \n                   \n                  }\n\nworld = wbdata.get_dataframe(variable_labels, country=\"\")\n\n# Print a few years' data\nworld.head()",
    "id": "6cc8e8f5405241288936a8fe0e343a28",
    "idx": 8,
    "time": "2021-01-27T01:48:27.225Z",
    "type": "execution"
   },
   {
    "id": "6cc8e8f5405241288936a8fe0e343a28",
    "time": "2021-01-27T01:49:00.746Z",
    "type": "completion"
   },
   {
    "code": "\n# Return list of all country/region codes:\n#wbdata.get_country()\n\n# Return list matching a query term:\n#wbdata.search_countries(\"\")\n\n## Try your own search!\nwbdata.search_countries(\"\")",
    "id": "c4bc0fcbb332437985e3418df916f589",
    "idx": 5,
    "time": "2021-01-27T01:50:41.444Z",
    "type": "execution"
   },
   {
    "id": "c4bc0fcbb332437985e3418df916f589",
    "time": "2021-01-27T01:50:41.522Z",
    "type": "completion"
   },
   {
    "code": "world",
    "id": "5ff5015a024b405c8c327cbdbc3b3e41",
    "idx": 9,
    "time": "2021-01-27T01:51:18.364Z",
    "type": "execution"
   },
   {
    "id": "5ff5015a024b405c8c327cbdbc3b3e41",
    "time": "2021-01-27T01:51:18.555Z",
    "type": "completion"
   },
   {
    "code": "world.iloc[\"Afghanistan\"]",
    "id": "5ff5015a024b405c8c327cbdbc3b3e41",
    "idx": 9,
    "time": "2021-01-27T01:51:29.158Z",
    "type": "execution"
   },
   {
    "id": "5ff5015a024b405c8c327cbdbc3b3e41",
    "time": "2021-01-27T01:51:29.647Z",
    "type": "completion"
   },
   {
    "code": "world.iloc[\"Afghanistan\", \"1960\"]",
    "id": "5ff5015a024b405c8c327cbdbc3b3e41",
    "idx": 9,
    "time": "2021-01-27T01:51:39.675Z",
    "type": "execution"
   },
   {
    "id": "5ff5015a024b405c8c327cbdbc3b3e41",
    "time": "2021-01-27T01:51:39.807Z",
    "type": "completion"
   },
   {
    "code": "world.iloc[\"Afghanistan\"]",
    "id": "5ff5015a024b405c8c327cbdbc3b3e41",
    "idx": 9,
    "time": "2021-01-27T01:51:46.269Z",
    "type": "execution"
   },
   {
    "id": "5ff5015a024b405c8c327cbdbc3b3e41",
    "time": "2021-01-27T01:51:46.340Z",
    "type": "completion"
   },
   {
    "code": "world[\"Total Population\"]",
    "id": "5ff5015a024b405c8c327cbdbc3b3e41",
    "idx": 9,
    "time": "2021-01-27T01:51:59.056Z",
    "type": "execution"
   },
   {
    "id": "5ff5015a024b405c8c327cbdbc3b3e41",
    "time": "2021-01-27T01:51:59.129Z",
    "type": "completion"
   },
   {
    "code": "world[\"country\"]",
    "id": "5ff5015a024b405c8c327cbdbc3b3e41",
    "idx": 9,
    "time": "2021-01-27T01:52:14.204Z",
    "type": "execution"
   },
   {
    "id": "5ff5015a024b405c8c327cbdbc3b3e41",
    "time": "2021-01-27T01:52:14.380Z",
    "type": "completion"
   },
   {
    "code": "world.index",
    "id": "5ff5015a024b405c8c327cbdbc3b3e41",
    "idx": 9,
    "time": "2021-01-27T01:52:20.050Z",
    "type": "execution"
   },
   {
    "id": "5ff5015a024b405c8c327cbdbc3b3e41",
    "time": "2021-01-27T01:52:20.109Z",
    "type": "completion"
   },
   {
    "code": "world.index[:600]",
    "id": "5ff5015a024b405c8c327cbdbc3b3e41",
    "idx": 9,
    "time": "2021-01-27T01:52:30.295Z",
    "type": "execution"
   },
   {
    "id": "5ff5015a024b405c8c327cbdbc3b3e41",
    "time": "2021-01-27T01:52:30.355Z",
    "type": "completion"
   },
   {
    "code": "world.index[:500]",
    "id": "5ff5015a024b405c8c327cbdbc3b3e41",
    "idx": 9,
    "time": "2021-01-27T01:52:37.152Z",
    "type": "execution"
   },
   {
    "id": "5ff5015a024b405c8c327cbdbc3b3e41",
    "time": "2021-01-27T01:52:37.211Z",
    "type": "completion"
   },
   {
    "code": "world.index[:400]",
    "id": "5ff5015a024b405c8c327cbdbc3b3e41",
    "idx": 9,
    "time": "2021-01-27T01:52:42.479Z",
    "type": "execution"
   },
   {
    "id": "5ff5015a024b405c8c327cbdbc3b3e41",
    "time": "2021-01-27T01:52:42.541Z",
    "type": "completion"
   },
   {
    "code": "world.index[:50]",
    "id": "5ff5015a024b405c8c327cbdbc3b3e41",
    "idx": 9,
    "time": "2021-01-27T01:52:46.749Z",
    "type": "execution"
   },
   {
    "id": "5ff5015a024b405c8c327cbdbc3b3e41",
    "time": "2021-01-27T01:52:46.813Z",
    "type": "completion"
   },
   {
    "code": "world.index[:450]",
    "id": "5ff5015a024b405c8c327cbdbc3b3e41",
    "idx": 9,
    "time": "2021-01-27T01:52:51.902Z",
    "type": "execution"
   },
   {
    "id": "5ff5015a024b405c8c327cbdbc3b3e41",
    "time": "2021-01-27T01:52:51.961Z",
    "type": "completion"
   },
   {
    "code": "world.loc[\"Total Population\"]",
    "id": "5ff5015a024b405c8c327cbdbc3b3e41",
    "idx": 9,
    "time": "2021-01-27T01:55:06.169Z",
    "type": "execution"
   },
   {
    "id": "5ff5015a024b405c8c327cbdbc3b3e41",
    "time": "2021-01-27T01:55:06.315Z",
    "type": "completion"
   },
   {
    "code": "world.loc[\"Afghanistan\"]",
    "id": "5ff5015a024b405c8c327cbdbc3b3e41",
    "idx": 9,
    "time": "2021-01-27T01:55:18.893Z",
    "type": "execution"
   },
   {
    "id": "5ff5015a024b405c8c327cbdbc3b3e41",
    "time": "2021-01-27T01:55:19.062Z",
    "type": "completion"
   },
   {
    "code": "world.loc[\"Arab World\"]",
    "id": "5ff5015a024b405c8c327cbdbc3b3e41",
    "idx": 9,
    "time": "2021-01-27T01:55:24.757Z",
    "type": "execution"
   },
   {
    "id": "5ff5015a024b405c8c327cbdbc3b3e41",
    "time": "2021-01-27T01:55:24.895Z",
    "type": "completion"
   },
   {
    "code": "world.loc[\"Arab World\", \"1970\"]",
    "id": "5ff5015a024b405c8c327cbdbc3b3e41",
    "idx": 9,
    "time": "2021-01-27T01:55:36.303Z",
    "type": "execution"
   },
   {
    "id": "5ff5015a024b405c8c327cbdbc3b3e41",
    "time": "2021-01-27T01:55:36.369Z",
    "type": "completion"
   },
   {
    "code": "world.loc[\"Arab World\", \"1970\"][\"Total Population\"]",
    "id": "5ff5015a024b405c8c327cbdbc3b3e41",
    "idx": 9,
    "time": "2021-01-27T01:55:45.138Z",
    "type": "execution"
   },
   {
    "id": "5ff5015a024b405c8c327cbdbc3b3e41",
    "time": "2021-01-27T01:55:45.196Z",
    "type": "completion"
   },
   {
    "code": "world.loc[\"Arab World\", \"1970\"][\"Females (0-14)\"]",
    "id": "5ff5015a024b405c8c327cbdbc3b3e41",
    "idx": 9,
    "time": "2021-01-27T01:55:55.348Z",
    "type": "execution"
   },
   {
    "id": "5ff5015a024b405c8c327cbdbc3b3e41",
    "time": "2021-01-27T01:55:55.405Z",
    "type": "completion"
   },
   {
    "code": "world.iloc[1]",
    "id": "ded350ecd00e4e1eb6f0f9ac7eb045b5",
    "idx": 10,
    "time": "2021-01-27T01:56:21.774Z",
    "type": "execution"
   },
   {
    "id": "ded350ecd00e4e1eb6f0f9ac7eb045b5",
    "time": "2021-01-27T01:56:21.837Z",
    "type": "completion"
   },
   {
    "code": "world.iloc[2]",
    "id": "ded350ecd00e4e1eb6f0f9ac7eb045b5",
    "idx": 10,
    "time": "2021-01-27T01:56:29.230Z",
    "type": "execution"
   },
   {
    "id": "ded350ecd00e4e1eb6f0f9ac7eb045b5",
    "time": "2021-01-27T01:56:29.293Z",
    "type": "completion"
   },
   {
    "code": "# Give variable for clarity\nvariable_labels = {\"SP.POP.TOTL\":\"Total Population\",\n                   \"SP.POP.TOTL.FE.IN\":\"Female Population\",\n                   \"SP.POP.TOTL.MA.IN\":\"Male Population\",\n                   \n                   \"SP.POP.0014.FE.IN\":\"Females (0-14)\",\n                   \"SP.POP.0014.MA.IN\":\"Males (0-14)\",\n                   \n                   \"SP.POP.1564.FE.IN\":\"Females (15-64)\",\n                   \"SP.POP.1564.MA.IN\":\"Males (15-64)\",\n\n                   \"SP.POP.65UP.FE.IN\":\"Females (65+)\", \n                   \"SP.POP.65UP.MA.IN\":\"Males (65+)\", \n                   \n                   \"SP.POP.0004.FE\":\"Females (0-4)\",\n                   \"SP.POP.0004.MA\":\"Males (0-4)\",\n                   \n                   \"SP.POP.0509.FE\":\"Females (5-9)\",\n                   \"SP.POP.0509.MA\":\"Males (5-9)\",\n                   \n                   \"SP.POP.1014.FE\":\"Females (10-14)\",\n                   \"SP.POP.1014.MA\":\"Males (10-14)\",\n                   \n                   \"SP.POP.1519.FE\":\"Females (15-19)\",\n                   \"SP.POP.1519.MA\":\"Males (15-19)\",\n                   \n                   \"SP.POP.2024.FE\":\"Females (20-24)\",\n                   \"SP.POP.2024.MA\":\"Males (20-24)\",\n                   \n                   \"SP.POP.2529.FE\":\"Females (25-29)\",\n                   \"SP.POP.2529.MA\":\"Males (25-29)\",\n                   \n                   \"SP.POP.3034.FE\":\"Females (30-34)\",\n                   \"SP.POP.3034.MA\":\"Males (30-34)\",\n                   \n                   \"SP.POP.3539.FE\":\"Females (35-39)\",\n                   \"SP.POP.3539.MA\":\"Males (35-39)\",\n                   \n                   \"SP.POP.4044.FE\":\"Females (40-44)\",\n                   \"SP.POP.4044.MA\":\"Males (40-44)\",\n                   \n                   \"SP.POP.4549.FE\":\"Females (45-49)\",\n                   \"SP.POP.4549.MA\":\"Males (45-49)\",\n                   \n                   \"SP.POP.5054.FE\":\"Females (50-54)\",\n                   \"SP.POP.5054.MA\":\"Males (50-54)\",\n                   \n                   \"SP.POP.5559.FE\":\"Females (55-59)\",\n                   \"SP.POP.5559.MA\":\"Males (55-59)\",\n                   \n                   \"SP.POP.6064.FE\":\"Females (60-64)\",\n                   \"SP.POP.6064.MA\":\"Males (60-64)\",\n                   \n                   \"SP.POP.6569.FE\":\"Females (65-69)\",\n                   \"SP.POP.6569.MA\":\"Males (65-69)\",\n                   \n                   \"SP.POP.7074.FE\":\"Females (70-74)\",\n                   \"SP.POP.7074.MA\":\"Males (70-74)\",\n                \n                   \"SP.POP.7579.FE\":\"Females (75-79)\",\n                   \"SP.POP.7579.MA\":\"Males (75-79)\",\n                   \n                   \"SP.POP.80UP.FE\":\"Females (80+)\",\n                   \"SP.POP.80UP.MA\":\"Males (80+)\" \n                   \n                  }\n\nworld = wbdata.get_dataframe(variable_labels, country=\"\")\n\n# Print a few years' data\nworld.head()",
    "id": "1f7400ac4a93486082d00db15613339b",
    "idx": 5,
    "time": "2021-01-27T23:19:22.052Z",
    "type": "execution"
   },
   {
    "id": "1f7400ac4a93486082d00db15613339b",
    "time": "2021-01-27T23:19:22.184Z",
    "type": "completion"
   },
   {
    "code": "## If import fails with \"ModuleNotFoundError\"\n## uncomment below & try again\n!pip install wbdata\n\nimport wbdata",
    "id": "79d1c5354a0249388ca6394be64769f7",
    "idx": 3,
    "time": "2021-01-27T23:19:26.513Z",
    "type": "execution"
   },
   {
    "code": "import pandas as pd\nimport numpy as np",
    "id": "ced669f743f0477e8855b83ddade7f43",
    "idx": 4,
    "time": "2021-01-27T23:19:27.760Z",
    "type": "execution"
   },
   {
    "code": "# Give variable for clarity\nvariable_labels = {\"SP.POP.TOTL\":\"Total Population\",\n                   \"SP.POP.TOTL.FE.IN\":\"Female Population\",\n                   \"SP.POP.TOTL.MA.IN\":\"Male Population\",\n                   \n                   \"SP.POP.0014.FE.IN\":\"Females (0-14)\",\n                   \"SP.POP.0014.MA.IN\":\"Males (0-14)\",\n                   \n                   \"SP.POP.1564.FE.IN\":\"Females (15-64)\",\n                   \"SP.POP.1564.MA.IN\":\"Males (15-64)\",\n\n                   \"SP.POP.65UP.FE.IN\":\"Females (65+)\", \n                   \"SP.POP.65UP.MA.IN\":\"Males (65+)\", \n                   \n                   \"SP.POP.0004.FE\":\"Females (0-4)\",\n                   \"SP.POP.0004.MA\":\"Males (0-4)\",\n                   \n                   \"SP.POP.0509.FE\":\"Females (5-9)\",\n                   \"SP.POP.0509.MA\":\"Males (5-9)\",\n                   \n                   \"SP.POP.1014.FE\":\"Females (10-14)\",\n                   \"SP.POP.1014.MA\":\"Males (10-14)\",\n                   \n                   \"SP.POP.1519.FE\":\"Females (15-19)\",\n                   \"SP.POP.1519.MA\":\"Males (15-19)\",\n                   \n                   \"SP.POP.2024.FE\":\"Females (20-24)\",\n                   \"SP.POP.2024.MA\":\"Males (20-24)\",\n                   \n                   \"SP.POP.2529.FE\":\"Females (25-29)\",\n                   \"SP.POP.2529.MA\":\"Males (25-29)\",\n                   \n                   \"SP.POP.3034.FE\":\"Females (30-34)\",\n                   \"SP.POP.3034.MA\":\"Males (30-34)\",\n                   \n                   \"SP.POP.3539.FE\":\"Females (35-39)\",\n                   \"SP.POP.3539.MA\":\"Males (35-39)\",\n                   \n                   \"SP.POP.4044.FE\":\"Females (40-44)\",\n                   \"SP.POP.4044.MA\":\"Males (40-44)\",\n                   \n                   \"SP.POP.4549.FE\":\"Females (45-49)\",\n                   \"SP.POP.4549.MA\":\"Males (45-49)\",\n                   \n                   \"SP.POP.5054.FE\":\"Females (50-54)\",\n                   \"SP.POP.5054.MA\":\"Males (50-54)\",\n                   \n                   \"SP.POP.5559.FE\":\"Females (55-59)\",\n                   \"SP.POP.5559.MA\":\"Males (55-59)\",\n                   \n                   \"SP.POP.6064.FE\":\"Females (60-64)\",\n                   \"SP.POP.6064.MA\":\"Males (60-64)\",\n                   \n                   \"SP.POP.6569.FE\":\"Females (65-69)\",\n                   \"SP.POP.6569.MA\":\"Males (65-69)\",\n                   \n                   \"SP.POP.7074.FE\":\"Females (70-74)\",\n                   \"SP.POP.7074.MA\":\"Males (70-74)\",\n                \n                   \"SP.POP.7579.FE\":\"Females (75-79)\",\n                   \"SP.POP.7579.MA\":\"Males (75-79)\",\n                   \n                   \"SP.POP.80UP.FE\":\"Females (80+)\",\n                   \"SP.POP.80UP.MA\":\"Males (80+)\" \n                   \n                  }\n\nworld = wbdata.get_dataframe(variable_labels, country=\"\")\n\n# Print a few years' data\nworld.head()",
    "id": "1f7400ac4a93486082d00db15613339b",
    "idx": 5,
    "time": "2021-01-27T23:19:28.909Z",
    "type": "execution"
   },
   {
    "code": "world.loc[\"Arab World\", \"1970\"][\"Females (0-14)\"]",
    "id": "8f385a34c67141f985cfc1ea250a4f84",
    "idx": 6,
    "time": "2021-01-27T23:19:30.667Z",
    "type": "execution"
   },
   {
    "id": "79d1c5354a0249388ca6394be64769f7",
    "time": "2021-01-27T23:19:31.133Z",
    "type": "completion"
   },
   {
    "id": "ced669f743f0477e8855b83ddade7f43",
    "time": "2021-01-27T23:19:31.134Z",
    "type": "completion"
   },
   {
    "id": "1f7400ac4a93486082d00db15613339b",
    "time": "2021-01-27T23:19:40.338Z",
    "type": "completion"
   },
   {
    "id": "8f385a34c67141f985cfc1ea250a4f84",
    "time": "2021-01-27T23:19:40.341Z",
    "type": "completion"
   },
   {
    "code": "world.iloc[2]",
    "id": "282622b18a374de08f68d3e2857c0fe4",
    "idx": 7,
    "time": "2021-01-27T23:19:44.663Z",
    "type": "execution"
   },
   {
    "id": "282622b18a374de08f68d3e2857c0fe4",
    "time": "2021-01-27T23:19:44.727Z",
    "type": "completion"
   },
   {
    "code": "world.head()",
    "id": "df0936c6a8ad4dc785f2190f979dc9a7",
    "idx": 9,
    "time": "2021-02-01T23:04:51.354Z",
    "type": "execution"
   },
   {
    "id": "df0936c6a8ad4dc785f2190f979dc9a7",
    "time": "2021-02-01T23:04:51.475Z",
    "type": "completion"
   },
   {
    "code": "## If import fails with \"ModuleNotFoundError\"\n## uncomment below & try again\n!pip install wbdata\n\nimport wbdata",
    "id": "06c77d93fa3e4b5299ef31b9d6a924e4",
    "idx": 3,
    "time": "2021-02-01T23:04:55.751Z",
    "type": "execution"
   },
   {
    "code": "import pandas as pd\nimport numpy as np",
    "id": "d63adf72134a497289b15ba0bf2fa72c",
    "idx": 4,
    "time": "2021-02-01T23:04:55.751Z",
    "type": "execution"
   },
   {
    "code": "# Give variable for clarity\nvariable_labels = {\"SP.POP.TOTL\":\"Total Population\",\n                   \"SP.POP.TOTL.FE.IN\":\"Female Population\",\n                   \"SP.POP.TOTL.MA.IN\":\"Male Population\",\n                   \n                   \"SP.POP.0014.FE.IN\":\"Females (0-14)\",\n                   \"SP.POP.0014.MA.IN\":\"Males (0-14)\",\n                   \n                   \"SP.POP.1564.FE.IN\":\"Females (15-64)\",\n                   \"SP.POP.1564.MA.IN\":\"Males (15-64)\",\n\n                   \"SP.POP.65UP.FE.IN\":\"Females (65+)\", \n                   \"SP.POP.65UP.MA.IN\":\"Males (65+)\", \n                   \n                   \"SP.POP.0004.FE\":\"Females (0-4)\",\n                   \"SP.POP.0004.MA\":\"Males (0-4)\",\n                   \n                   \"SP.POP.0509.FE\":\"Females (5-9)\",\n                   \"SP.POP.0509.MA\":\"Males (5-9)\",\n                   \n                   \"SP.POP.1014.FE\":\"Females (10-14)\",\n                   \"SP.POP.1014.MA\":\"Males (10-14)\",\n                   \n                   \"SP.POP.1519.FE\":\"Females (15-19)\",\n                   \"SP.POP.1519.MA\":\"Males (15-19)\",\n                   \n                   \"SP.POP.2024.FE\":\"Females (20-24)\",\n                   \"SP.POP.2024.MA\":\"Males (20-24)\",\n                   \n                   \"SP.POP.2529.FE\":\"Females (25-29)\",\n                   \"SP.POP.2529.MA\":\"Males (25-29)\",\n                   \n                   \"SP.POP.3034.FE\":\"Females (30-34)\",\n                   \"SP.POP.3034.MA\":\"Males (30-34)\",\n                   \n                   \"SP.POP.3539.FE\":\"Females (35-39)\",\n                   \"SP.POP.3539.MA\":\"Males (35-39)\",\n                   \n                   \"SP.POP.4044.FE\":\"Females (40-44)\",\n                   \"SP.POP.4044.MA\":\"Males (40-44)\",\n                   \n                   \"SP.POP.4549.FE\":\"Females (45-49)\",\n                   \"SP.POP.4549.MA\":\"Males (45-49)\",\n                   \n                   \"SP.POP.5054.FE\":\"Females (50-54)\",\n                   \"SP.POP.5054.MA\":\"Males (50-54)\",\n                   \n                   \"SP.POP.5559.FE\":\"Females (55-59)\",\n                   \"SP.POP.5559.MA\":\"Males (55-59)\",\n                   \n                   \"SP.POP.6064.FE\":\"Females (60-64)\",\n                   \"SP.POP.6064.MA\":\"Males (60-64)\",\n                   \n                   \"SP.POP.6569.FE\":\"Females (65-69)\",\n                   \"SP.POP.6569.MA\":\"Males (65-69)\",\n                   \n                   \"SP.POP.7074.FE\":\"Females (70-74)\",\n                   \"SP.POP.7074.MA\":\"Males (70-74)\",\n                \n                   \"SP.POP.7579.FE\":\"Females (75-79)\",\n                   \"SP.POP.7579.MA\":\"Males (75-79)\",\n                   \n                   \"SP.POP.80UP.FE\":\"Females (80+)\",\n                   \"SP.POP.80UP.MA\":\"Males (80+)\" \n                   \n                  }\n\nworld = wbdata.get_dataframe(variable_labels, country=\"\")\n\n# Print a few years' data\nworld.head()",
    "id": "2566334380c94c5cb7f9ea8e4a6726ca",
    "idx": 5,
    "time": "2021-02-01T23:04:55.753Z",
    "type": "execution"
   },
   {
    "code": "world.loc[\"Arab World\", \"1970\"][\"Females (0-14)\"]",
    "id": "b42b00e7735f4bf7bf2a9ed83912734a",
    "idx": 6,
    "time": "2021-02-01T23:04:55.754Z",
    "type": "execution"
   },
   {
    "code": "world.iloc[2]",
    "id": "6e78c19713e4402483790d4e4bc62dd8",
    "idx": 7,
    "time": "2021-02-01T23:04:55.755Z",
    "type": "execution"
   },
   {
    "id": "06c77d93fa3e4b5299ef31b9d6a924e4",
    "time": "2021-02-01T23:04:59.566Z",
    "type": "completion"
   },
   {
    "id": "d63adf72134a497289b15ba0bf2fa72c",
    "time": "2021-02-01T23:04:59.567Z",
    "type": "completion"
   },
   {
    "code": "## If import fails with \"ModuleNotFoundError\"\n## uncomment below & try again\n!pip install wbdata\n\nimport wbdata",
    "id": "692f2b8c45dd4eed92a2c377c2cc9756",
    "idx": 3,
    "time": "2021-02-01T23:12:26.094Z",
    "type": "execution"
   },
   {
    "code": "import pandas as pd\nimport numpy as np",
    "id": "d9f6dd6d5d0c4755aee72bd345c9d562",
    "idx": 4,
    "time": "2021-02-01T23:12:26.870Z",
    "type": "execution"
   },
   {
    "code": "# Give variable for clarity\nvariable_labels = {\"SP.POP.TOTL\":\"Total Population\",\n                   \"SP.POP.TOTL.FE.IN\":\"Female Population\",\n                   \"SP.POP.TOTL.MA.IN\":\"Male Population\",\n                   \n                   \"SP.POP.0014.FE.IN\":\"Females (0-14)\",\n                   \"SP.POP.0014.MA.IN\":\"Males (0-14)\",\n                   \n                   \"SP.POP.1564.FE.IN\":\"Females (15-64)\",\n                   \"SP.POP.1564.MA.IN\":\"Males (15-64)\",\n\n                   \"SP.POP.65UP.FE.IN\":\"Females (65+)\", \n                   \"SP.POP.65UP.MA.IN\":\"Males (65+)\", \n                   \n                   \"SP.POP.0004.FE\":\"Females (0-4)\",\n                   \"SP.POP.0004.MA\":\"Males (0-4)\",\n                   \n                   \"SP.POP.0509.FE\":\"Females (5-9)\",\n                   \"SP.POP.0509.MA\":\"Males (5-9)\",\n                   \n                   \"SP.POP.1014.FE\":\"Females (10-14)\",\n                   \"SP.POP.1014.MA\":\"Males (10-14)\",\n                   \n                   \"SP.POP.1519.FE\":\"Females (15-19)\",\n                   \"SP.POP.1519.MA\":\"Males (15-19)\",\n                   \n                   \"SP.POP.2024.FE\":\"Females (20-24)\",\n                   \"SP.POP.2024.MA\":\"Males (20-24)\",\n                   \n                   \"SP.POP.2529.FE\":\"Females (25-29)\",\n                   \"SP.POP.2529.MA\":\"Males (25-29)\",\n                   \n                   \"SP.POP.3034.FE\":\"Females (30-34)\",\n                   \"SP.POP.3034.MA\":\"Males (30-34)\",\n                   \n                   \"SP.POP.3539.FE\":\"Females (35-39)\",\n                   \"SP.POP.3539.MA\":\"Males (35-39)\",\n                   \n                   \"SP.POP.4044.FE\":\"Females (40-44)\",\n                   \"SP.POP.4044.MA\":\"Males (40-44)\",\n                   \n                   \"SP.POP.4549.FE\":\"Females (45-49)\",\n                   \"SP.POP.4549.MA\":\"Males (45-49)\",\n                   \n                   \"SP.POP.5054.FE\":\"Females (50-54)\",\n                   \"SP.POP.5054.MA\":\"Males (50-54)\",\n                   \n                   \"SP.POP.5559.FE\":\"Females (55-59)\",\n                   \"SP.POP.5559.MA\":\"Males (55-59)\",\n                   \n                   \"SP.POP.6064.FE\":\"Females (60-64)\",\n                   \"SP.POP.6064.MA\":\"Males (60-64)\",\n                   \n                   \"SP.POP.6569.FE\":\"Females (65-69)\",\n                   \"SP.POP.6569.MA\":\"Males (65-69)\",\n                   \n                   \"SP.POP.7074.FE\":\"Females (70-74)\",\n                   \"SP.POP.7074.MA\":\"Males (70-74)\",\n                \n                   \"SP.POP.7579.FE\":\"Females (75-79)\",\n                   \"SP.POP.7579.MA\":\"Males (75-79)\",\n                   \n                   \"SP.POP.80UP.FE\":\"Females (80+)\",\n                   \"SP.POP.80UP.MA\":\"Males (80+)\" \n                   \n                  }\n\nworld = wbdata.get_dataframe(variable_labels, country=\"\")\n\n# Print a few years' data\nworld.head()",
    "id": "cd4f79cb7e29452abe2015304478f633",
    "idx": 5,
    "time": "2021-02-01T23:12:27.745Z",
    "type": "execution"
   },
   {
    "code": "## If import fails with \"ModuleNotFoundError\"\n## uncomment below & try again\n!pip install wbdata\n\nimport wbdata",
    "id": "8ff9a2ca9d524eb8bc6f5ba37efc5567",
    "idx": 3,
    "time": "2021-02-01T23:13:25.984Z",
    "type": "execution"
   },
   {
    "code": "## If import fails with \"ModuleNotFoundError\"\n## uncomment below & try again\n!pip install wbdata\n\nimport wbdata",
    "id": "77dc57ea83f84f6b827c7b5f1a63fce6",
    "idx": 3,
    "time": "2021-02-01T23:14:24.913Z",
    "type": "execution"
   },
   {
    "code": "import pandas as pd\nimport numpy as np",
    "id": "0f739c20153343328de4dc13fec6736f",
    "idx": 4,
    "time": "2021-02-01T23:14:27.188Z",
    "type": "execution"
   },
   {
    "id": "77dc57ea83f84f6b827c7b5f1a63fce6",
    "time": "2021-02-01T23:14:28.967Z",
    "type": "completion"
   },
   {
    "id": "0f739c20153343328de4dc13fec6736f",
    "time": "2021-02-01T23:14:28.969Z",
    "type": "completion"
   },
   {
    "code": "# Give variable for clarity\nvariable_labels = {\"SP.POP.TOTL\":\"Total Population\",\n                   \"SP.POP.TOTL.FE.IN\":\"Female Population\",\n                   \"SP.POP.TOTL.MA.IN\":\"Male Population\",\n                   \n                   \"SP.POP.0014.FE.IN\":\"Females (0-14)\",\n                   \"SP.POP.0014.MA.IN\":\"Males (0-14)\",\n                   \n                   \"SP.POP.1564.FE.IN\":\"Females (15-64)\",\n                   \"SP.POP.1564.MA.IN\":\"Males (15-64)\",\n\n                   \"SP.POP.65UP.FE.IN\":\"Females (65+)\", \n                   \"SP.POP.65UP.MA.IN\":\"Males (65+)\", \n                   \n                   \"SP.POP.0004.FE\":\"Females (0-4)\",\n                   \"SP.POP.0004.MA\":\"Males (0-4)\",\n                   \n                   \"SP.POP.0509.FE\":\"Females (5-9)\",\n                   \"SP.POP.0509.MA\":\"Males (5-9)\",\n                   \n                   \"SP.POP.1014.FE\":\"Females (10-14)\",\n                   \"SP.POP.1014.MA\":\"Males (10-14)\",\n                   \n                   \"SP.POP.1519.FE\":\"Females (15-19)\",\n                   \"SP.POP.1519.MA\":\"Males (15-19)\",\n                   \n                   \"SP.POP.2024.FE\":\"Females (20-24)\",\n                   \"SP.POP.2024.MA\":\"Males (20-24)\",\n                   \n                   \"SP.POP.2529.FE\":\"Females (25-29)\",\n                   \"SP.POP.2529.MA\":\"Males (25-29)\",\n                   \n                   \"SP.POP.3034.FE\":\"Females (30-34)\",\n                   \"SP.POP.3034.MA\":\"Males (30-34)\",\n                   \n                   \"SP.POP.3539.FE\":\"Females (35-39)\",\n                   \"SP.POP.3539.MA\":\"Males (35-39)\",\n                   \n                   \"SP.POP.4044.FE\":\"Females (40-44)\",\n                   \"SP.POP.4044.MA\":\"Males (40-44)\",\n                   \n                   \"SP.POP.4549.FE\":\"Females (45-49)\",\n                   \"SP.POP.4549.MA\":\"Males (45-49)\",\n                   \n                   \"SP.POP.5054.FE\":\"Females (50-54)\",\n                   \"SP.POP.5054.MA\":\"Males (50-54)\",\n                   \n                   \"SP.POP.5559.FE\":\"Females (55-59)\",\n                   \"SP.POP.5559.MA\":\"Males (55-59)\",\n                   \n                   \"SP.POP.6064.FE\":\"Females (60-64)\",\n                   \"SP.POP.6064.MA\":\"Males (60-64)\",\n                   \n                   \"SP.POP.6569.FE\":\"Females (65-69)\",\n                   \"SP.POP.6569.MA\":\"Males (65-69)\",\n                   \n                   \"SP.POP.7074.FE\":\"Females (70-74)\",\n                   \"SP.POP.7074.MA\":\"Males (70-74)\",\n                \n                   \"SP.POP.7579.FE\":\"Females (75-79)\",\n                   \"SP.POP.7579.MA\":\"Males (75-79)\",\n                   \n                   \"SP.POP.80UP.FE\":\"Females (80+)\",\n                   \"SP.POP.80UP.MA\":\"Males (80+)\" \n                   \n                  }\n\nworld = wbdata.get_dataframe(variable_labels, country=\"\")\n\n# Print a few years' data\nworld.head()",
    "id": "b80eee1dd4df4f9f8eaebe2766b97fea",
    "idx": 5,
    "time": "2021-02-01T23:14:31.276Z",
    "type": "execution"
   },
   {
    "code": "world.loc[\"Arab World\", \"1970\"][\"Females (0-14)\"]",
    "id": "f3de86e6ba6d4da79fc42bbfd50d9e2b",
    "idx": 6,
    "time": "2021-02-01T23:14:39.191Z",
    "type": "execution"
   },
   {
    "code": "world.iloc[2]",
    "id": "1520ea6a63e445088fb8c42e1ca828f1",
    "idx": 7,
    "time": "2021-02-01T23:14:39.446Z",
    "type": "execution"
   },
   {
    "id": "b80eee1dd4df4f9f8eaebe2766b97fea",
    "time": "2021-02-01T23:19:39.821Z",
    "type": "completion"
   },
   {
    "id": "f3de86e6ba6d4da79fc42bbfd50d9e2b",
    "time": "2021-02-01T23:19:39.831Z",
    "type": "completion"
   },
   {
    "id": "1520ea6a63e445088fb8c42e1ca828f1",
    "time": "2021-02-01T23:19:39.836Z",
    "type": "completion"
   },
   {
    "code": "import pandas as pd\nexample =pd.DataFrame({'Age': ['0-4','5-9','10-14','15-19','20-24','25-29','30-34','35-39','40-44','45-49','50-54','55-59','60-64','65-69','70-74','75-79','80-84','85-89','90-94','95-99','100+'], \n                    'Male': [-49228000, -61283000, -64391000, -52437000, -42955000, -44667000, -31570000, -23887000, -22390000, -20971000, -17685000, -15450000, -13932000, -11020000, -7611000, -4653000, -1952000, -625000, -116000, -14000, -1000], \n                    'Female': [52367000, 64959000, 67161000, 55388000, 45448000, 47129000, 33436000, 26710000, 25627000, 23612000, 20075000, 16368000, 14220000, 10125000, 5984000, 3131000, 1151000, 312000, 49000, 4000, 0]})\nexample.head()",
    "id": "88cab157ef904c399b5039cd4060c008",
    "idx": 8,
    "time": "2021-02-01T23:19:50.316Z",
    "type": "execution"
   },
   {
    "id": "88cab157ef904c399b5039cd4060c008",
    "time": "2021-02-01T23:19:50.383Z",
    "type": "completion"
   },
   {
    "code": "world.head()",
    "id": "de1e7fe261d645c1aa29376cbbeb3a32",
    "idx": 9,
    "time": "2021-02-01T23:19:54.802Z",
    "type": "execution"
   },
   {
    "id": "de1e7fe261d645c1aa29376cbbeb3a32",
    "time": "2021-02-01T23:19:54.886Z",
    "type": "completion"
   },
   {
    "code": "world[\"Afghanistan\"]",
    "id": "1c7923bb3bb840a09a1989f3bd302761",
    "idx": 10,
    "time": "2021-02-01T23:20:11.976Z",
    "type": "execution"
   },
   {
    "id": "1c7923bb3bb840a09a1989f3bd302761",
    "time": "2021-02-01T23:20:12.166Z",
    "type": "completion"
   },
   {
    "code": "world.loc[\"Afghanistan\"]",
    "id": "1c7923bb3bb840a09a1989f3bd302761",
    "idx": 10,
    "time": "2021-02-01T23:20:23.439Z",
    "type": "execution"
   },
   {
    "id": "1c7923bb3bb840a09a1989f3bd302761",
    "time": "2021-02-01T23:20:23.559Z",
    "type": "completion"
   },
   {
    "code": "world.loc[\"Afghanistan\"].pivot()",
    "id": "1c7923bb3bb840a09a1989f3bd302761",
    "idx": 10,
    "time": "2021-02-01T23:20:34.878Z",
    "type": "execution"
   },
   {
    "id": "1c7923bb3bb840a09a1989f3bd302761",
    "time": "2021-02-01T23:20:34.953Z",
    "type": "completion"
   },
   {
    "code": "trial = pd.DataFrame({'Category': world.loc[\"China\", \"1970\"].index, \n                      'Population': world.loc[\"China\", \"1970\"].iloc[1]})\nmale_trial",
    "id": "dad74670d24a4cab8c4f111036a2bfc1",
    "idx": 11,
    "time": "2021-02-01T23:20:57.929Z",
    "type": "execution"
   },
   {
    "id": "dad74670d24a4cab8c4f111036a2bfc1",
    "time": "2021-02-01T23:20:57.998Z",
    "type": "completion"
   },
   {
    "code": "male_trial = pd.DataFrame({'Category': world.loc[\"China\", \"1970\"].index, \n                      'Population': world.loc[\"China\", \"1970\"].iloc[1]})\nmale_trial",
    "id": "dad74670d24a4cab8c4f111036a2bfc1",
    "idx": 11,
    "time": "2021-02-01T23:21:07.341Z",
    "type": "execution"
   },
   {
    "id": "dad74670d24a4cab8c4f111036a2bfc1",
    "time": "2021-02-01T23:21:07.427Z",
    "type": "completion"
   },
   {
    "code": "male_trial.index = \"Category\"",
    "id": "26770dc4aed849cc8b01a8f5c6c5a1c4",
    "idx": 12,
    "time": "2021-02-01T23:22:32.164Z",
    "type": "execution"
   },
   {
    "id": "26770dc4aed849cc8b01a8f5c6c5a1c4",
    "time": "2021-02-01T23:22:32.267Z",
    "type": "completion"
   },
   {
    "code": "male_trial.set_index([\"Category\"])",
    "id": "26770dc4aed849cc8b01a8f5c6c5a1c4",
    "idx": 12,
    "time": "2021-02-01T23:23:03.113Z",
    "type": "execution"
   },
   {
    "id": "26770dc4aed849cc8b01a8f5c6c5a1c4",
    "time": "2021-02-01T23:23:03.221Z",
    "type": "completion"
   },
   {
    "code": "male_trial.drop(rows = 0,1,2)",
    "id": "26770dc4aed849cc8b01a8f5c6c5a1c4",
    "idx": 12,
    "time": "2021-02-01T23:23:31.347Z",
    "type": "execution"
   },
   {
    "id": "26770dc4aed849cc8b01a8f5c6c5a1c4",
    "time": "2021-02-01T23:23:31.410Z",
    "type": "completion"
   },
   {
    "code": "male_trial.drop(rows = [0,1,2])",
    "id": "26770dc4aed849cc8b01a8f5c6c5a1c4",
    "idx": 12,
    "time": "2021-02-01T23:23:37.944Z",
    "type": "execution"
   },
   {
    "id": "26770dc4aed849cc8b01a8f5c6c5a1c4",
    "time": "2021-02-01T23:23:38.055Z",
    "type": "completion"
   },
   {
    "code": "male_trial.drop(row = [0,1,2])",
    "id": "26770dc4aed849cc8b01a8f5c6c5a1c4",
    "idx": 12,
    "time": "2021-02-01T23:23:41.462Z",
    "type": "execution"
   },
   {
    "id": "26770dc4aed849cc8b01a8f5c6c5a1c4",
    "time": "2021-02-01T23:23:41.531Z",
    "type": "completion"
   },
   {
    "code": "male_trial.drop(index = [0,1,2])",
    "id": "26770dc4aed849cc8b01a8f5c6c5a1c4",
    "idx": 12,
    "time": "2021-02-01T23:23:44.782Z",
    "type": "execution"
   },
   {
    "id": "26770dc4aed849cc8b01a8f5c6c5a1c4",
    "time": "2021-02-01T23:23:44.900Z",
    "type": "completion"
   },
   {
    "code": "male_trial.drop(index = [0,1,2])\nmale_trial",
    "id": "26770dc4aed849cc8b01a8f5c6c5a1c4",
    "idx": 12,
    "time": "2021-02-01T23:23:58.173Z",
    "type": "execution"
   },
   {
    "id": "26770dc4aed849cc8b01a8f5c6c5a1c4",
    "time": "2021-02-01T23:23:58.268Z",
    "type": "completion"
   },
   {
    "code": "male_trial male_trial.drop(index = [0,1,2])\nmale_trial",
    "id": "26770dc4aed849cc8b01a8f5c6c5a1c4",
    "idx": 12,
    "time": "2021-02-01T23:24:04.183Z",
    "type": "execution"
   },
   {
    "id": "26770dc4aed849cc8b01a8f5c6c5a1c4",
    "time": "2021-02-01T23:24:04.241Z",
    "type": "completion"
   },
   {
    "code": "male_trial = male_trial.drop(index = [0,1,2])\nmale_trial",
    "id": "26770dc4aed849cc8b01a8f5c6c5a1c4",
    "idx": 12,
    "time": "2021-02-01T23:24:07.170Z",
    "type": "execution"
   },
   {
    "id": "26770dc4aed849cc8b01a8f5c6c5a1c4",
    "time": "2021-02-01T23:24:07.273Z",
    "type": "completion"
   },
   {
    "code": "male_trial = male_trial.drop(index = [0,1,2])\nmale_trial = make_trail.set_index([\"Category\"])",
    "id": "26770dc4aed849cc8b01a8f5c6c5a1c4",
    "idx": 12,
    "time": "2021-02-01T23:24:33.050Z",
    "type": "execution"
   },
   {
    "id": "26770dc4aed849cc8b01a8f5c6c5a1c4",
    "time": "2021-02-01T23:24:33.172Z",
    "type": "completion"
   },
   {
    "code": "male_trial = male_trial.drop(index = [0,1,2])\nmale_trial = make_trail.set_index(\"Category\")",
    "id": "26770dc4aed849cc8b01a8f5c6c5a1c4",
    "idx": 12,
    "time": "2021-02-01T23:24:38.576Z",
    "type": "execution"
   },
   {
    "id": "26770dc4aed849cc8b01a8f5c6c5a1c4",
    "time": "2021-02-01T23:24:38.716Z",
    "type": "completion"
   },
   {
    "code": "male_trial = male_trial.drop(index = [0,1,2])\nmake_trail.set_index(\"Category\")",
    "id": "26770dc4aed849cc8b01a8f5c6c5a1c4",
    "idx": 12,
    "time": "2021-02-01T23:24:42.843Z",
    "type": "execution"
   },
   {
    "id": "26770dc4aed849cc8b01a8f5c6c5a1c4",
    "time": "2021-02-01T23:24:42.997Z",
    "type": "completion"
   },
   {
    "code": "male_trial = male_trial.drop(index = [0,1,2])\nmake_trail.set_index([\"Category\"])",
    "id": "26770dc4aed849cc8b01a8f5c6c5a1c4",
    "idx": 12,
    "time": "2021-02-01T23:24:49.224Z",
    "type": "execution"
   },
   {
    "id": "26770dc4aed849cc8b01a8f5c6c5a1c4",
    "time": "2021-02-01T23:24:49.376Z",
    "type": "completion"
   },
   {
    "code": "male_trial = male_trial.drop(index = [0,1,2])\nmake_trial",
    "id": "26770dc4aed849cc8b01a8f5c6c5a1c4",
    "idx": 12,
    "time": "2021-02-01T23:24:57.791Z",
    "type": "execution"
   },
   {
    "id": "26770dc4aed849cc8b01a8f5c6c5a1c4",
    "time": "2021-02-01T23:24:57.893Z",
    "type": "completion"
   },
   {
    "code": "male_trial = pd.DataFrame({'Category': world.loc[\"China\", \"1970\"].index, \n                      'Population': world.loc[\"China\", \"1970\"].iloc[1]})\nmale_trial",
    "id": "dad74670d24a4cab8c4f111036a2bfc1",
    "idx": 11,
    "time": "2021-02-01T23:25:03.374Z",
    "type": "execution"
   },
   {
    "id": "dad74670d24a4cab8c4f111036a2bfc1",
    "time": "2021-02-01T23:25:03.501Z",
    "type": "completion"
   },
   {
    "code": "male_trial = male_trial.drop(index = [0,1,2])\nmake_trial",
    "id": "26770dc4aed849cc8b01a8f5c6c5a1c4",
    "idx": 12,
    "time": "2021-02-01T23:25:04.143Z",
    "type": "execution"
   },
   {
    "id": "26770dc4aed849cc8b01a8f5c6c5a1c4",
    "time": "2021-02-01T23:25:04.247Z",
    "type": "completion"
   },
   {
    "code": "make_trial = male_trial.drop(index = [0,1,2])\nmake_trial",
    "id": "26770dc4aed849cc8b01a8f5c6c5a1c4",
    "idx": 12,
    "time": "2021-02-01T23:25:09.685Z",
    "type": "execution"
   },
   {
    "id": "26770dc4aed849cc8b01a8f5c6c5a1c4",
    "time": "2021-02-01T23:25:09.793Z",
    "type": "completion"
   },
   {
    "code": "male_trial = male_trial.drop(index = [0,1,2])\nmale_trial",
    "id": "26770dc4aed849cc8b01a8f5c6c5a1c4",
    "idx": 12,
    "time": "2021-02-01T23:25:15.413Z",
    "type": "execution"
   },
   {
    "id": "26770dc4aed849cc8b01a8f5c6c5a1c4",
    "time": "2021-02-01T23:25:15.514Z",
    "type": "completion"
   },
   {
    "code": "male_trial = pd.DataFrame({'Category': world.loc[\"China\", \"1970\"].index, \n                      'Population': world.loc[\"China\", \"1970\"].iloc[1]})\nmale_trial",
    "id": "dad74670d24a4cab8c4f111036a2bfc1",
    "idx": 11,
    "time": "2021-02-01T23:25:18.611Z",
    "type": "execution"
   },
   {
    "id": "dad74670d24a4cab8c4f111036a2bfc1",
    "time": "2021-02-01T23:25:18.769Z",
    "type": "completion"
   },
   {
    "code": "male_trial = male_trial.drop(index = [0,1,2])\nmale_trial",
    "id": "26770dc4aed849cc8b01a8f5c6c5a1c4",
    "idx": 12,
    "time": "2021-02-01T23:25:19.839Z",
    "type": "execution"
   },
   {
    "id": "26770dc4aed849cc8b01a8f5c6c5a1c4",
    "time": "2021-02-01T23:25:19.961Z",
    "type": "completion"
   },
   {
    "code": "male_trial.set_index([\"Category\"])",
    "id": "428cb1451a4e4eb687f85fdf6a392ec3",
    "idx": 13,
    "time": "2021-02-01T23:25:42.853Z",
    "type": "execution"
   },
   {
    "id": "428cb1451a4e4eb687f85fdf6a392ec3",
    "time": "2021-02-01T23:25:42.965Z",
    "type": "completion"
   },
   {
    "code": "male_trial",
    "id": "428cb1451a4e4eb687f85fdf6a392ec3",
    "idx": 13,
    "time": "2021-02-01T23:25:48.078Z",
    "type": "execution"
   },
   {
    "id": "428cb1451a4e4eb687f85fdf6a392ec3",
    "time": "2021-02-01T23:25:48.156Z",
    "type": "completion"
   },
   {
    "code": "male_trial[\"Category\"]",
    "id": "428cb1451a4e4eb687f85fdf6a392ec3",
    "idx": 13,
    "time": "2021-02-01T23:26:01.747Z",
    "type": "execution"
   },
   {
    "id": "428cb1451a4e4eb687f85fdf6a392ec3",
    "time": "2021-02-01T23:26:01.816Z",
    "type": "completion"
   },
   {
    "code": "male_trial[\"Category\"][-6:]",
    "id": "428cb1451a4e4eb687f85fdf6a392ec3",
    "idx": 13,
    "time": "2021-02-01T23:26:24.278Z",
    "type": "execution"
   },
   {
    "id": "428cb1451a4e4eb687f85fdf6a392ec3",
    "time": "2021-02-01T23:26:24.383Z",
    "type": "completion"
   },
   {
    "code": "(male_trial[\"Category\"])",
    "id": "428cb1451a4e4eb687f85fdf6a392ec3",
    "idx": 13,
    "time": "2021-02-01T23:26:36.590Z",
    "type": "execution"
   },
   {
    "id": "428cb1451a4e4eb687f85fdf6a392ec3",
    "time": "2021-02-01T23:26:36.664Z",
    "type": "completion"
   },
   {
    "code": "(male_trial[\"Category\"])[-6:]",
    "id": "428cb1451a4e4eb687f85fdf6a392ec3",
    "idx": 13,
    "time": "2021-02-01T23:26:43.053Z",
    "type": "execution"
   },
   {
    "id": "428cb1451a4e4eb687f85fdf6a392ec3",
    "time": "2021-02-01T23:26:43.229Z",
    "type": "completion"
   },
   {
    "code": "(male_trial[\"Category\"])",
    "id": "428cb1451a4e4eb687f85fdf6a392ec3",
    "idx": 13,
    "time": "2021-02-01T23:26:46.778Z",
    "type": "execution"
   },
   {
    "id": "428cb1451a4e4eb687f85fdf6a392ec3",
    "time": "2021-02-01T23:26:46.847Z",
    "type": "completion"
   },
   {
    "code": "male_trial[\"Age\"] = male_trial[\"Category\"]",
    "id": "428cb1451a4e4eb687f85fdf6a392ec3",
    "idx": 13,
    "time": "2021-02-01T23:27:22.097Z",
    "type": "execution"
   },
   {
    "id": "428cb1451a4e4eb687f85fdf6a392ec3",
    "time": "2021-02-01T23:27:22.170Z",
    "type": "completion"
   },
   {
    "code": "male_trial[\"Age\"] = male_trial[\"Category\"]\nmale_trial",
    "id": "428cb1451a4e4eb687f85fdf6a392ec3",
    "idx": 13,
    "time": "2021-02-01T23:27:26.758Z",
    "type": "execution"
   },
   {
    "id": "428cb1451a4e4eb687f85fdf6a392ec3",
    "time": "2021-02-01T23:27:26.931Z",
    "type": "completion"
   },
   {
    "code": "male_trial[\"Age\"] = male_trial[\"Category\"][-6:]\nmale_trial",
    "id": "428cb1451a4e4eb687f85fdf6a392ec3",
    "idx": 13,
    "time": "2021-02-01T23:27:35.286Z",
    "type": "execution"
   },
   {
    "id": "428cb1451a4e4eb687f85fdf6a392ec3",
    "time": "2021-02-01T23:27:35.406Z",
    "type": "completion"
   },
   {
    "code": "male_trial[\"Age\"] = str(male_trial[\"Category\"])[-6:]\nmale_trial",
    "id": "428cb1451a4e4eb687f85fdf6a392ec3",
    "idx": 13,
    "time": "2021-02-01T23:27:42.705Z",
    "type": "execution"
   },
   {
    "id": "428cb1451a4e4eb687f85fdf6a392ec3",
    "time": "2021-02-01T23:27:42.828Z",
    "type": "completion"
   },
   {
    "code": "male_trial[\"Age\"] = (male_trial[\"Category\"])\nmale_trial",
    "id": "428cb1451a4e4eb687f85fdf6a392ec3",
    "idx": 13,
    "time": "2021-02-01T23:29:24.085Z",
    "type": "execution"
   },
   {
    "id": "428cb1451a4e4eb687f85fdf6a392ec3",
    "time": "2021-02-01T23:29:24.190Z",
    "type": "completion"
   },
   {
    "code": "world.loc[\"Afghanistan\"].pivot()",
    "id": "1c7923bb3bb840a09a1989f3bd302761",
    "idx": 10,
    "time": "2021-02-01T23:29:52.544Z",
    "type": "execution"
   },
   {
    "id": "1c7923bb3bb840a09a1989f3bd302761",
    "time": "2021-02-01T23:29:52.626Z",
    "type": "completion"
   },
   {
    "code": "male_trial[\"Age\"] = (male_trial[\"Category\"]).str()[-6:]\nmale_trial",
    "id": "428cb1451a4e4eb687f85fdf6a392ec3",
    "idx": 13,
    "time": "2021-02-01T23:30:46.297Z",
    "type": "execution"
   },
   {
    "id": "428cb1451a4e4eb687f85fdf6a392ec3",
    "time": "2021-02-01T23:30:46.382Z",
    "type": "completion"
   },
   {
    "code": "male_trial[\"Age\"] = (male_trial[\"Category\"]).str[-6:]\nmale_trial",
    "id": "428cb1451a4e4eb687f85fdf6a392ec3",
    "idx": 13,
    "time": "2021-02-01T23:30:50.048Z",
    "type": "execution"
   },
   {
    "id": "428cb1451a4e4eb687f85fdf6a392ec3",
    "time": "2021-02-01T23:30:50.119Z",
    "type": "completion"
   },
   {
    "code": "male_trial[\"Age\"] = (male_trial[\"Category\"]).str[-6:].replace({\"(\", \"\"})\nmale_trial",
    "id": "428cb1451a4e4eb687f85fdf6a392ec3",
    "idx": 13,
    "time": "2021-02-01T23:34:19.868Z",
    "type": "execution"
   },
   {
    "id": "428cb1451a4e4eb687f85fdf6a392ec3",
    "time": "2021-02-01T23:34:19.953Z",
    "type": "completion"
   },
   {
    "code": "male_trial[\"Age\"] = (male_trial[\"Category\"]).str[-6:].replace({\"(\", \"\", \")\", \"\"})\nmale_trial",
    "id": "428cb1451a4e4eb687f85fdf6a392ec3",
    "idx": 13,
    "time": "2021-02-01T23:34:36.825Z",
    "type": "execution"
   },
   {
    "id": "428cb1451a4e4eb687f85fdf6a392ec3",
    "time": "2021-02-01T23:34:36.899Z",
    "type": "completion"
   },
   {
    "code": "male_trial[\"Age\"] = (male_trial[\"Category\"]).str[-6:].replace(\"(\", \"\")\nmale_trial",
    "id": "428cb1451a4e4eb687f85fdf6a392ec3",
    "idx": 13,
    "time": "2021-02-01T23:35:50.280Z",
    "type": "execution"
   },
   {
    "id": "428cb1451a4e4eb687f85fdf6a392ec3",
    "time": "2021-02-01T23:35:50.361Z",
    "type": "completion"
   },
   {
    "code": "male_trial[\"Age\"] = (male_trial[\"Category\"]).str[-6:].replace(\")\", \"\")\nmale_trial",
    "id": "428cb1451a4e4eb687f85fdf6a392ec3",
    "idx": 13,
    "time": "2021-02-01T23:36:15.613Z",
    "type": "execution"
   },
   {
    "id": "428cb1451a4e4eb687f85fdf6a392ec3",
    "time": "2021-02-01T23:36:15.689Z",
    "type": "completion"
   },
   {
    "code": "male_trial[\"Age\"] = (male_trial[\"Category\"]).str[-6:]\nmale_trial",
    "id": "428cb1451a4e4eb687f85fdf6a392ec3",
    "idx": 13,
    "time": "2021-02-01T23:36:21.172Z",
    "type": "execution"
   },
   {
    "id": "428cb1451a4e4eb687f85fdf6a392ec3",
    "time": "2021-02-01T23:36:21.242Z",
    "type": "completion"
   },
   {
    "code": "male_trial[\"Age\"] = (male_trial[\"Category\"]).str[-6:]\nmale_trial[\"Age\"]",
    "id": "428cb1451a4e4eb687f85fdf6a392ec3",
    "idx": 13,
    "time": "2021-02-01T23:36:25.831Z",
    "type": "execution"
   },
   {
    "id": "428cb1451a4e4eb687f85fdf6a392ec3",
    "time": "2021-02-01T23:36:25.891Z",
    "type": "completion"
   },
   {
    "code": "male_trial[\"Age\"] = (male_trial[\"Category\"]).str[-6:]\nmale_trial[\"Age\"][0]",
    "id": "428cb1451a4e4eb687f85fdf6a392ec3",
    "idx": 13,
    "time": "2021-02-01T23:36:30.514Z",
    "type": "execution"
   },
   {
    "id": "428cb1451a4e4eb687f85fdf6a392ec3",
    "time": "2021-02-01T23:36:30.676Z",
    "type": "completion"
   },
   {
    "code": "male_trial[\"Age\"] = (male_trial[\"Category\"]).str[-6:]\nmale_trial[\"Age\"]",
    "id": "428cb1451a4e4eb687f85fdf6a392ec3",
    "idx": 13,
    "time": "2021-02-01T23:36:33.141Z",
    "type": "execution"
   },
   {
    "id": "428cb1451a4e4eb687f85fdf6a392ec3",
    "time": "2021-02-01T23:36:33.200Z",
    "type": "completion"
   },
   {
    "code": "male_trial[\"Age\"] = (male_trial[\"Category\"]).str[-6:]\nmale_trial[\"Age\"][3]",
    "id": "428cb1451a4e4eb687f85fdf6a392ec3",
    "idx": 13,
    "time": "2021-02-01T23:36:35.880Z",
    "type": "execution"
   },
   {
    "id": "428cb1451a4e4eb687f85fdf6a392ec3",
    "time": "2021-02-01T23:36:35.942Z",
    "type": "completion"
   },
   {
    "code": "male_trial[\"Age\"] = (male_trial[\"Category\"]).str[-6:]\nmale_trial[\"Age\"][3][1]",
    "id": "428cb1451a4e4eb687f85fdf6a392ec3",
    "idx": 13,
    "time": "2021-02-01T23:36:38.930Z",
    "type": "execution"
   },
   {
    "id": "428cb1451a4e4eb687f85fdf6a392ec3",
    "time": "2021-02-01T23:36:38.990Z",
    "type": "completion"
   },
   {
    "code": "male_trial[\"Age\"] = (male_trial[\"Category\"]).str[-6:]\nmale_trial[\"Age\"][3]",
    "id": "428cb1451a4e4eb687f85fdf6a392ec3",
    "idx": 13,
    "time": "2021-02-01T23:36:41.957Z",
    "type": "execution"
   },
   {
    "id": "428cb1451a4e4eb687f85fdf6a392ec3",
    "time": "2021-02-01T23:36:42.016Z",
    "type": "completion"
   },
   {
    "code": "male_trial[\"Age\"] = (male_trial[\"Category\"]).str[-6:]\nmale_trial[\"Age\"][3][0]",
    "id": "428cb1451a4e4eb687f85fdf6a392ec3",
    "idx": 13,
    "time": "2021-02-01T23:36:46.377Z",
    "type": "execution"
   },
   {
    "id": "428cb1451a4e4eb687f85fdf6a392ec3",
    "time": "2021-02-01T23:36:46.440Z",
    "type": "completion"
   },
   {
    "code": "male_trial[\"Age\"] = (male_trial[\"Category\"]).str[-6:]\nmale_trial[\"Age\"][3][1]",
    "id": "428cb1451a4e4eb687f85fdf6a392ec3",
    "idx": 13,
    "time": "2021-02-01T23:36:50.707Z",
    "type": "execution"
   },
   {
    "id": "428cb1451a4e4eb687f85fdf6a392ec3",
    "time": "2021-02-01T23:36:50.771Z",
    "type": "completion"
   },
   {
    "code": "male_trial[\"Age\"] = (male_trial[\"Category\"]).str[-6:]\nmale_trial[\"Age\"][3][2]",
    "id": "428cb1451a4e4eb687f85fdf6a392ec3",
    "idx": 13,
    "time": "2021-02-01T23:36:53.528Z",
    "type": "execution"
   },
   {
    "id": "428cb1451a4e4eb687f85fdf6a392ec3",
    "time": "2021-02-01T23:36:53.592Z",
    "type": "completion"
   },
   {
    "code": "male_trial[\"Age\"] = (male_trial[\"Category\"]).str[-6:]\nmale_trial[\"Age\"][3][3]",
    "id": "428cb1451a4e4eb687f85fdf6a392ec3",
    "idx": 13,
    "time": "2021-02-01T23:36:56.286Z",
    "type": "execution"
   },
   {
    "id": "428cb1451a4e4eb687f85fdf6a392ec3",
    "time": "2021-02-01T23:36:56.347Z",
    "type": "completion"
   },
   {
    "code": "male_trial[\"Age\"] = (male_trial[\"Category\"]).str[-6:]\nmale_trial[\"Age\"][3][4]",
    "id": "428cb1451a4e4eb687f85fdf6a392ec3",
    "idx": 13,
    "time": "2021-02-01T23:36:59.421Z",
    "type": "execution"
   },
   {
    "id": "428cb1451a4e4eb687f85fdf6a392ec3",
    "time": "2021-02-01T23:36:59.480Z",
    "type": "completion"
   },
   {
    "code": "male_trial[\"Age\"] = (male_trial[\"Category\"]).str[-6:]\nmale_trial[\"Age\"][3][5]",
    "id": "428cb1451a4e4eb687f85fdf6a392ec3",
    "idx": 13,
    "time": "2021-02-01T23:37:02.083Z",
    "type": "execution"
   },
   {
    "id": "428cb1451a4e4eb687f85fdf6a392ec3",
    "time": "2021-02-01T23:37:02.141Z",
    "type": "completion"
   },
   {
    "code": "male_trial[\"Age\"] = (male_trial[\"Category\"]).str[-6:]\nmale_trial[\"Age\"][3][6]",
    "id": "428cb1451a4e4eb687f85fdf6a392ec3",
    "idx": 13,
    "time": "2021-02-01T23:37:05.127Z",
    "type": "execution"
   },
   {
    "id": "428cb1451a4e4eb687f85fdf6a392ec3",
    "time": "2021-02-01T23:37:05.197Z",
    "type": "completion"
   },
   {
    "code": "male_trial[\"Age\"] = (male_trial[\"Category\"]).str[-6:]\nmale_trial[\"Age\"][3][]",
    "id": "428cb1451a4e4eb687f85fdf6a392ec3",
    "idx": 13,
    "time": "2021-02-01T23:37:08.241Z",
    "type": "execution"
   },
   {
    "id": "428cb1451a4e4eb687f85fdf6a392ec3",
    "time": "2021-02-01T23:37:08.297Z",
    "type": "completion"
   },
   {
    "code": "male_trial[\"Age\"] = (male_trial[\"Category\"]).str[-6:-1]\n",
    "id": "428cb1451a4e4eb687f85fdf6a392ec3",
    "idx": 13,
    "time": "2021-02-01T23:37:21.197Z",
    "type": "execution"
   },
   {
    "id": "428cb1451a4e4eb687f85fdf6a392ec3",
    "time": "2021-02-01T23:37:21.252Z",
    "type": "completion"
   },
   {
    "code": "male_trial[\"Age\"] = (male_trial[\"Category\"]).str[-6:-1]\nmale_trial",
    "id": "428cb1451a4e4eb687f85fdf6a392ec3",
    "idx": 13,
    "time": "2021-02-01T23:37:26.119Z",
    "type": "execution"
   },
   {
    "id": "428cb1451a4e4eb687f85fdf6a392ec3",
    "time": "2021-02-01T23:37:26.193Z",
    "type": "completion"
   },
   {
    "code": "male_trial[\"Age\"] = (male_trial[\"Category\"]).str[-6:-1].replace(\"(\")\nmale_trial",
    "id": "428cb1451a4e4eb687f85fdf6a392ec3",
    "idx": 13,
    "time": "2021-02-01T23:37:52.966Z",
    "type": "execution"
   },
   {
    "id": "428cb1451a4e4eb687f85fdf6a392ec3",
    "time": "2021-02-01T23:37:53.038Z",
    "type": "completion"
   },
   {
    "code": "male_trial[\"Age\"] = male_trial[\"Category\"].str[-6:-1].replace(\"(\")\nmale_trial",
    "id": "428cb1451a4e4eb687f85fdf6a392ec3",
    "idx": 13,
    "time": "2021-02-01T23:38:02.706Z",
    "type": "execution"
   },
   {
    "id": "428cb1451a4e4eb687f85fdf6a392ec3",
    "time": "2021-02-01T23:38:02.793Z",
    "type": "completion"
   },
   {
    "code": "male_trial[\"Category\"].str[-6:-1].replace(\"(\")\n",
    "id": "428cb1451a4e4eb687f85fdf6a392ec3",
    "idx": 13,
    "time": "2021-02-01T23:38:10.676Z",
    "type": "execution"
   },
   {
    "id": "428cb1451a4e4eb687f85fdf6a392ec3",
    "time": "2021-02-01T23:38:10.738Z",
    "type": "completion"
   },
   {
    "code": "male_trial[\"Age\"] = male_trial[\"Category\"].str[-6:-1].replace(\"(\")\nmale_trial",
    "id": "428cb1451a4e4eb687f85fdf6a392ec3",
    "idx": 13,
    "time": "2021-02-01T23:38:24.972Z",
    "type": "execution"
   },
   {
    "id": "428cb1451a4e4eb687f85fdf6a392ec3",
    "time": "2021-02-01T23:38:25.043Z",
    "type": "completion"
   },
   {
    "code": "male_trial[\"Age\"] = male_trial[\"Category\"].str[-6:-1].replace(\"(\", \"\")\nmale_trial",
    "id": "428cb1451a4e4eb687f85fdf6a392ec3",
    "idx": 13,
    "time": "2021-02-01T23:40:42.621Z",
    "type": "execution"
   },
   {
    "id": "428cb1451a4e4eb687f85fdf6a392ec3",
    "time": "2021-02-01T23:40:42.737Z",
    "type": "completion"
   },
   {
    "code": "male_trial[\"Age\"] = male_trial[\"Category\"].str[-6:-1].replace(\"\\(\", \"\")\nmale_trial",
    "id": "428cb1451a4e4eb687f85fdf6a392ec3",
    "idx": 13,
    "time": "2021-02-01T23:41:28.106Z",
    "type": "execution"
   },
   {
    "id": "428cb1451a4e4eb687f85fdf6a392ec3",
    "time": "2021-02-01T23:41:28.204Z",
    "type": "completion"
   },
   {
    "code": "male_trial[\"Age\"] = male_trial[\"Category\"].str[-6:-1].replace(\"/(\", \"\")\nmale_trial",
    "id": "428cb1451a4e4eb687f85fdf6a392ec3",
    "idx": 13,
    "time": "2021-02-01T23:41:32.427Z",
    "type": "execution"
   },
   {
    "id": "428cb1451a4e4eb687f85fdf6a392ec3",
    "time": "2021-02-01T23:41:32.504Z",
    "type": "completion"
   },
   {
    "code": "male_trial[\"Age\"] = male_trial[\"Category\"].str[-6:-1].replace(\"\\\\(\", \"\")\nmale_trial",
    "id": "428cb1451a4e4eb687f85fdf6a392ec3",
    "idx": 13,
    "time": "2021-02-01T23:41:37.055Z",
    "type": "execution"
   },
   {
    "id": "428cb1451a4e4eb687f85fdf6a392ec3",
    "time": "2021-02-01T23:41:37.127Z",
    "type": "completion"
   },
   {
    "code": "male_trial[\"Age\"] = male_trial[\"Category\"].str[-6:-1].replace(\" (\", \"\")\nmale_trial",
    "id": "428cb1451a4e4eb687f85fdf6a392ec3",
    "idx": 13,
    "time": "2021-02-01T23:42:29.384Z",
    "type": "execution"
   },
   {
    "id": "428cb1451a4e4eb687f85fdf6a392ec3",
    "time": "2021-02-01T23:42:29.470Z",
    "type": "completion"
   },
   {
    "code": "male_trial[\"Age\"] = male_trial[\"Category\"].str[-6:-1].replace(\"(\", \" \")\nmale_trial",
    "id": "428cb1451a4e4eb687f85fdf6a392ec3",
    "idx": 13,
    "time": "2021-02-01T23:42:33.542Z",
    "type": "execution"
   },
   {
    "id": "428cb1451a4e4eb687f85fdf6a392ec3",
    "time": "2021-02-01T23:42:33.638Z",
    "type": "completion"
   },
   {
    "code": "male_trial[\"Category\"].str[-6:-1].replace(\"(\", \"\")\n",
    "id": "428cb1451a4e4eb687f85fdf6a392ec3",
    "idx": 13,
    "time": "2021-02-01T23:42:52.145Z",
    "type": "execution"
   },
   {
    "id": "428cb1451a4e4eb687f85fdf6a392ec3",
    "time": "2021-02-01T23:42:52.205Z",
    "type": "completion"
   },
   {
    "code": "male_trial[\"Category\"].str[-6:-1]\n",
    "id": "428cb1451a4e4eb687f85fdf6a392ec3",
    "idx": 13,
    "time": "2021-02-01T23:42:57.269Z",
    "type": "execution"
   },
   {
    "id": "428cb1451a4e4eb687f85fdf6a392ec3",
    "time": "2021-02-01T23:42:57.344Z",
    "type": "completion"
   },
   {
    "code": "male_trial[\"Category\"].str[-6]\n",
    "id": "428cb1451a4e4eb687f85fdf6a392ec3",
    "idx": 13,
    "time": "2021-02-01T23:43:02.233Z",
    "type": "execution"
   },
   {
    "id": "428cb1451a4e4eb687f85fdf6a392ec3",
    "time": "2021-02-01T23:43:02.298Z",
    "type": "completion"
   },
   {
    "code": "male_trial[\"Category\"].str[-6:]\n",
    "id": "428cb1451a4e4eb687f85fdf6a392ec3",
    "idx": 13,
    "time": "2021-02-01T23:43:08.934Z",
    "type": "execution"
   },
   {
    "id": "428cb1451a4e4eb687f85fdf6a392ec3",
    "time": "2021-02-01T23:43:09.009Z",
    "type": "completion"
   },
   {
    "code": "male_trial[\"Category\"].str.replace(\"(\", \"\")male_trial\n",
    "id": "428cb1451a4e4eb687f85fdf6a392ec3",
    "idx": 13,
    "time": "2021-02-01T23:43:35.219Z",
    "type": "execution"
   },
   {
    "id": "428cb1451a4e4eb687f85fdf6a392ec3",
    "time": "2021-02-01T23:43:35.296Z",
    "type": "completion"
   },
   {
    "code": "male_trial[\"Category\"].str.replace(\"(\", \"\")\n",
    "id": "428cb1451a4e4eb687f85fdf6a392ec3",
    "idx": 13,
    "time": "2021-02-01T23:43:40.378Z",
    "type": "execution"
   },
   {
    "id": "428cb1451a4e4eb687f85fdf6a392ec3",
    "time": "2021-02-01T23:43:40.450Z",
    "type": "completion"
   },
   {
    "code": "male_trial[\"Category\"].str.replace(\"(\", \"\").replace(\")\", \"\")\n",
    "id": "428cb1451a4e4eb687f85fdf6a392ec3",
    "idx": 13,
    "time": "2021-02-01T23:43:56.106Z",
    "type": "execution"
   },
   {
    "id": "428cb1451a4e4eb687f85fdf6a392ec3",
    "time": "2021-02-01T23:43:56.181Z",
    "type": "completion"
   },
   {
    "code": "male_trial[\"Category\"].str.replace(\"(\", \"\")\n",
    "id": "428cb1451a4e4eb687f85fdf6a392ec3",
    "idx": 13,
    "time": "2021-02-01T23:44:14.532Z",
    "type": "execution"
   },
   {
    "id": "428cb1451a4e4eb687f85fdf6a392ec3",
    "time": "2021-02-01T23:44:14.598Z",
    "type": "completion"
   },
   {
    "code": "mt = male_trial[\"Category\"].str.replace(\"(\", \"\")\nmt2 = mt\nmt2",
    "id": "428cb1451a4e4eb687f85fdf6a392ec3",
    "idx": 13,
    "time": "2021-02-01T23:44:28.496Z",
    "type": "execution"
   },
   {
    "id": "428cb1451a4e4eb687f85fdf6a392ec3",
    "time": "2021-02-01T23:44:28.573Z",
    "type": "completion"
   },
   {
    "code": "mt = male_trial\nmt[\"Age\"] = male_trial[\"Category\"].str.replace(\"(\", \"\")\nmt2 = mt\nmt2",
    "id": "428cb1451a4e4eb687f85fdf6a392ec3",
    "idx": 13,
    "time": "2021-02-01T23:44:56.499Z",
    "type": "execution"
   },
   {
    "id": "428cb1451a4e4eb687f85fdf6a392ec3",
    "time": "2021-02-01T23:44:56.582Z",
    "type": "completion"
   },
   {
    "code": "mt = male_trial\nmt[\"Age\"] = male_trial[\"Category\"].str.replace(\"(\", \"\")\nmt2 = mt.replace(\")\", \"\")\nmt2",
    "id": "428cb1451a4e4eb687f85fdf6a392ec3",
    "idx": 13,
    "time": "2021-02-01T23:45:16.273Z",
    "type": "execution"
   },
   {
    "id": "428cb1451a4e4eb687f85fdf6a392ec3",
    "time": "2021-02-01T23:45:16.353Z",
    "type": "completion"
   },
   {
    "code": "mt = male_trial\nmt[\"Age\"] = male_trial[\"Category\"].str.replace(\"(\", \"\")\nmt2 = mt.replace(\")\", \"\")\nmt2",
    "id": "428cb1451a4e4eb687f85fdf6a392ec3",
    "idx": 13,
    "time": "2021-02-01T23:45:19.524Z",
    "type": "execution"
   },
   {
    "id": "428cb1451a4e4eb687f85fdf6a392ec3",
    "time": "2021-02-01T23:45:19.652Z",
    "type": "completion"
   },
   {
    "code": "mt = male_trial\nmt[\"Age\"] = male_trial[\"Category\"].str.replace(\"(\", \"\")\nmt2 = mt[\"Age\"].str.replace(\")\", \"\")\nmt2",
    "id": "428cb1451a4e4eb687f85fdf6a392ec3",
    "idx": 13,
    "time": "2021-02-01T23:45:34.722Z",
    "type": "execution"
   },
   {
    "id": "428cb1451a4e4eb687f85fdf6a392ec3",
    "time": "2021-02-01T23:45:34.783Z",
    "type": "completion"
   },
   {
    "code": "mt = male_trial\nmt[\"Age\"] = male_trial[\"Category\"].str.replace(\"(\", \"\")\nmt[\"Age\"] = mt[\"Age\"].str.replace(\")\", \"\")\nmt",
    "id": "428cb1451a4e4eb687f85fdf6a392ec3",
    "idx": 13,
    "time": "2021-02-01T23:46:00.097Z",
    "type": "execution"
   },
   {
    "id": "428cb1451a4e4eb687f85fdf6a392ec3",
    "time": "2021-02-01T23:46:00.221Z",
    "type": "completion"
   },
   {
    "code": "mt = male_trial\nmt[\"Age\"] = male_trial[\"Category\"].str.replace(\"(\", \"\")\nmt[\"Age\"] = mt[\"Age\"].str.replace(\")\", \"\")\nmt[\"Age\"] = mt[\"age\"].str[-5:]",
    "id": "428cb1451a4e4eb687f85fdf6a392ec3",
    "idx": 13,
    "time": "2021-02-01T23:46:23.762Z",
    "type": "execution"
   },
   {
    "id": "428cb1451a4e4eb687f85fdf6a392ec3",
    "time": "2021-02-01T23:46:23.874Z",
    "type": "completion"
   },
   {
    "code": "mt = male_trial\nmt[\"Age\"] = male_trial[\"Category\"].str.replace(\"(\", \"\")\nmt[\"Age\"] = mt[\"Age\"].str.replace(\")\", \"\")\nmt[\"Age\"] = mt[\"Age\"].str[-5:]",
    "id": "428cb1451a4e4eb687f85fdf6a392ec3",
    "idx": 13,
    "time": "2021-02-01T23:46:38.312Z",
    "type": "execution"
   },
   {
    "id": "428cb1451a4e4eb687f85fdf6a392ec3",
    "time": "2021-02-01T23:46:38.373Z",
    "type": "completion"
   },
   {
    "code": "mt = male_trial\nmt[\"Age\"] = male_trial[\"Category\"].str.replace(\"(\", \"\")\nmt[\"Age\"] = mt[\"Age\"].str.replace(\")\", \"\")\nmt[\"Age\"] = mt[\"Age\"]",
    "id": "428cb1451a4e4eb687f85fdf6a392ec3",
    "idx": 13,
    "time": "2021-02-01T23:46:45.008Z",
    "type": "execution"
   },
   {
    "id": "428cb1451a4e4eb687f85fdf6a392ec3",
    "time": "2021-02-01T23:46:45.073Z",
    "type": "completion"
   },
   {
    "code": "mt = male_trial\nmt[\"Age\"] = male_trial[\"Category\"].str.replace(\"(\", \"\")\nmt[\"Age\"] = mt[\"Age\"].str.replace(\")\", \"\")\nmt[\"Age\"] = mt[\"Age\"]\nmt[\"age\"]",
    "id": "428cb1451a4e4eb687f85fdf6a392ec3",
    "idx": 13,
    "time": "2021-02-01T23:46:50.584Z",
    "type": "execution"
   },
   {
    "id": "428cb1451a4e4eb687f85fdf6a392ec3",
    "time": "2021-02-01T23:46:50.703Z",
    "type": "completion"
   },
   {
    "code": "mt = male_trial\nmt[\"Age\"] = male_trial[\"Category\"].str.replace(\"(\", \"\")\nmt[\"Age\"] = mt[\"Age\"].str.replace(\")\", \"\")\nmt[\"Age\"] = mt[\"Age\"]\nmt[\"Age\"]",
    "id": "428cb1451a4e4eb687f85fdf6a392ec3",
    "idx": 13,
    "time": "2021-02-01T23:46:54.653Z",
    "type": "execution"
   },
   {
    "id": "428cb1451a4e4eb687f85fdf6a392ec3",
    "time": "2021-02-01T23:46:54.717Z",
    "type": "completion"
   },
   {
    "code": "mt = male_trial\nmt[\"Age\"] = male_trial[\"Category\"].str.replace(\"(\", \"\")\nmt[\"Age\"] = mt[\"Age\"].str.replace(\")\", \"\")\nmt[\"Age\"] = mt[\"Age\"]\nmt",
    "id": "428cb1451a4e4eb687f85fdf6a392ec3",
    "idx": 13,
    "time": "2021-02-01T23:46:59.687Z",
    "type": "execution"
   },
   {
    "id": "428cb1451a4e4eb687f85fdf6a392ec3",
    "time": "2021-02-01T23:46:59.774Z",
    "type": "completion"
   },
   {
    "code": "mt = male_trial\nmt[\"Age\"] = male_trial[\"Category\"].str.replace(\"(\", \"\")\nmt[\"Age\"] = mt[\"Age\"].str.replace(\")\", \"\")\nmt[\"Age\"] = mt[\"Age\"].str[-5:]\nmt",
    "id": "428cb1451a4e4eb687f85fdf6a392ec3",
    "idx": 13,
    "time": "2021-02-01T23:47:04.243Z",
    "type": "execution"
   },
   {
    "id": "428cb1451a4e4eb687f85fdf6a392ec3",
    "time": "2021-02-01T23:47:04.362Z",
    "type": "completion"
   },
   {
    "code": "mt = male_trial\nmt[\"Age\"] = male_trial[\"Category\"].str.replace(\"(\", \"\")\nmt[\"Age\"] = mt[\"Age\"].str.replace(\")\", \"\")\nmt[\"Age\"] = mt[\"Age\"].str[-4:]\nmt",
    "id": "428cb1451a4e4eb687f85fdf6a392ec3",
    "idx": 13,
    "time": "2021-02-01T23:47:09.076Z",
    "type": "execution"
   },
   {
    "id": "428cb1451a4e4eb687f85fdf6a392ec3",
    "time": "2021-02-01T23:47:09.196Z",
    "type": "completion"
   },
   {
    "code": "mt = male_trial\nmt[\"Age\"] = male_trial[\"Category\"].str.replace(\"(\", \"\")\nmt[\"Age\"] = mt[\"Age\"].str.replace(\")\", \"\")\nmt[\"Age\"] = mt[\"Age\"].str[-5:]\nmt",
    "id": "428cb1451a4e4eb687f85fdf6a392ec3",
    "idx": 13,
    "time": "2021-02-01T23:47:19.592Z",
    "type": "execution"
   },
   {
    "id": "428cb1451a4e4eb687f85fdf6a392ec3",
    "time": "2021-02-01T23:47:19.666Z",
    "type": "completion"
   },
   {
    "code": "mt = male_trial\nmt[\"Age\"] = male_trial[\"Category\"].str.replace(\"(\", \"\")\nmt[\"Age\"] = mt[\"Age\"].str.replace(\")\", \"\")\nmt[\"Age\"] = mt[\"Age\"].str[-5:].str.replace(\"s\", )\nmt",
    "id": "428cb1451a4e4eb687f85fdf6a392ec3",
    "idx": 13,
    "time": "2021-02-01T23:47:35.308Z",
    "type": "execution"
   },
   {
    "id": "428cb1451a4e4eb687f85fdf6a392ec3",
    "time": "2021-02-01T23:47:35.413Z",
    "type": "completion"
   },
   {
    "code": "mt = male_trial\nmt[\"Age\"] = male_trial[\"Category\"].str.replace(\"(\", \"\")\nmt[\"Age\"] = mt[\"Age\"].str.replace(\")\", \"\")\nmt[\"Age\"] = mt[\"Age\"].str[-5:].str.replace(\"s\", \"\" )\nmt",
    "id": "428cb1451a4e4eb687f85fdf6a392ec3",
    "idx": 13,
    "time": "2021-02-01T23:47:39.303Z",
    "type": "execution"
   },
   {
    "id": "428cb1451a4e4eb687f85fdf6a392ec3",
    "time": "2021-02-01T23:47:39.419Z",
    "type": "completion"
   },
   {
    "code": "male_trial = pd.DataFrame({'Category': world.loc[\"China\", \"1970\"].index, \n                      'Population': world.loc[\"China\", \"1970\"].iloc[1]})\nmale_trial",
    "id": "dad74670d24a4cab8c4f111036a2bfc1",
    "idx": 11,
    "time": "2021-02-01T23:48:34.250Z",
    "type": "execution"
   },
   {
    "id": "dad74670d24a4cab8c4f111036a2bfc1",
    "time": "2021-02-01T23:48:34.340Z",
    "type": "completion"
   },
   {
    "code": "mt = male_trial\nmt[\"Age\"] = male_trial[\"Category\"].str.replace(\"(\", \"\")\nmt[\"Age\"] = mt[\"Age\"].str.replace(\")\", \"\")\nmt[\"Age\"] = mt[\"Age\"].str[-5:].str.replace(\"s\", \"\" )\nmt",
    "id": "428cb1451a4e4eb687f85fdf6a392ec3",
    "idx": 13,
    "time": "2021-02-01T23:49:48.799Z",
    "type": "execution"
   },
   {
    "id": "428cb1451a4e4eb687f85fdf6a392ec3",
    "time": "2021-02-01T23:49:48.918Z",
    "type": "completion"
   },
   {
    "code": "mt",
    "id": "8cab7b3b1d63401b85de259b3a06e2b0",
    "idx": 14,
    "time": "2021-02-01T23:50:00.116Z",
    "type": "execution"
   },
   {
    "id": "8cab7b3b1d63401b85de259b3a06e2b0",
    "time": "2021-02-01T23:50:00.184Z",
    "type": "completion"
   },
   {
    "code": "mt[\"Gender\"] = mt[\"Category\"]",
    "id": "8cab7b3b1d63401b85de259b3a06e2b0",
    "idx": 14,
    "time": "2021-02-01T23:50:15.482Z",
    "type": "execution"
   },
   {
    "id": "8cab7b3b1d63401b85de259b3a06e2b0",
    "time": "2021-02-01T23:50:15.538Z",
    "type": "completion"
   },
   {
    "code": "mt[\"Gender\"] = mt[\"Category\"]\nmt",
    "id": "8cab7b3b1d63401b85de259b3a06e2b0",
    "idx": 14,
    "time": "2021-02-01T23:50:17.954Z",
    "type": "execution"
   },
   {
    "id": "8cab7b3b1d63401b85de259b3a06e2b0",
    "time": "2021-02-01T23:50:18.069Z",
    "type": "completion"
   },
   {
    "code": "male_trial = male_trial.drop(index = [0,1,2])\nmale_trial",
    "id": "26770dc4aed849cc8b01a8f5c6c5a1c4",
    "idx": 12,
    "time": "2021-02-01T23:50:24.091Z",
    "type": "execution"
   },
   {
    "id": "26770dc4aed849cc8b01a8f5c6c5a1c4",
    "time": "2021-02-01T23:50:24.186Z",
    "type": "completion"
   },
   {
    "code": "mt = male_trial\nmt[\"Age\"] = male_trial[\"Category\"].str.replace(\"(\", \"\")\nmt[\"Age\"] = mt[\"Age\"].str.replace(\")\", \"\")\nmt[\"Age\"] = mt[\"Age\"].str[-5:].str.replace(\"s\", \"\" )\nmt",
    "id": "428cb1451a4e4eb687f85fdf6a392ec3",
    "idx": 13,
    "time": "2021-02-01T23:50:25.112Z",
    "type": "execution"
   },
   {
    "id": "428cb1451a4e4eb687f85fdf6a392ec3",
    "time": "2021-02-01T23:50:25.222Z",
    "type": "completion"
   },
   {
    "code": "mt[\"Gender\"] = mt[\"Category\"]\nmt",
    "id": "8cab7b3b1d63401b85de259b3a06e2b0",
    "idx": 14,
    "time": "2021-02-01T23:50:26.178Z",
    "type": "execution"
   },
   {
    "id": "8cab7b3b1d63401b85de259b3a06e2b0",
    "time": "2021-02-01T23:50:26.290Z",
    "type": "completion"
   },
   {
    "code": "mt[\"Gender\"] = mt[\"Category\"].str.split()[0]\nmt",
    "id": "8cab7b3b1d63401b85de259b3a06e2b0",
    "idx": 14,
    "time": "2021-02-01T23:52:47.909Z",
    "type": "execution"
   },
   {
    "id": "8cab7b3b1d63401b85de259b3a06e2b0",
    "time": "2021-02-01T23:52:48.010Z",
    "type": "completion"
   },
   {
    "code": "mt[\"Gender\"] = mt[\"Category\"].str.split()\nmt",
    "id": "8cab7b3b1d63401b85de259b3a06e2b0",
    "idx": 14,
    "time": "2021-02-01T23:52:56.184Z",
    "type": "execution"
   },
   {
    "id": "8cab7b3b1d63401b85de259b3a06e2b0",
    "time": "2021-02-01T23:52:56.264Z",
    "type": "completion"
   },
   {
    "code": "mt[\"Gender\"] = mt[\"Category\"].str.split()[0]\nmt",
    "id": "8cab7b3b1d63401b85de259b3a06e2b0",
    "idx": 14,
    "time": "2021-02-01T23:53:05.225Z",
    "type": "execution"
   },
   {
    "id": "8cab7b3b1d63401b85de259b3a06e2b0",
    "time": "2021-02-01T23:53:05.327Z",
    "type": "completion"
   },
   {
    "code": "mt[\"Gender\"] = mt[\"Category\"].str.split()\nmt[\"Gender\"]",
    "id": "8cab7b3b1d63401b85de259b3a06e2b0",
    "idx": 14,
    "time": "2021-02-01T23:53:12.045Z",
    "type": "execution"
   },
   {
    "id": "8cab7b3b1d63401b85de259b3a06e2b0",
    "time": "2021-02-01T23:53:12.109Z",
    "type": "completion"
   },
   {
    "code": "mt[\"Gender\"] = mt[\"Category\"].str.split()\nmt[\"Gender\"][0]",
    "id": "8cab7b3b1d63401b85de259b3a06e2b0",
    "idx": 14,
    "time": "2021-02-01T23:53:16.501Z",
    "type": "execution"
   },
   {
    "id": "8cab7b3b1d63401b85de259b3a06e2b0",
    "time": "2021-02-01T23:53:16.609Z",
    "type": "completion"
   },
   {
    "code": "mt[\"Gender\"] = mt[\"Category\"].str.split()\nmt[\"Gender\"]",
    "id": "8cab7b3b1d63401b85de259b3a06e2b0",
    "idx": 14,
    "time": "2021-02-01T23:53:18.850Z",
    "type": "execution"
   },
   {
    "id": "8cab7b3b1d63401b85de259b3a06e2b0",
    "time": "2021-02-01T23:53:18.914Z",
    "type": "completion"
   },
   {
    "code": "mt[\"Gender\"] = mt[\"Category\"].str.split()\nmt[\"Gender\"][3]",
    "id": "8cab7b3b1d63401b85de259b3a06e2b0",
    "idx": 14,
    "time": "2021-02-01T23:53:24.458Z",
    "type": "execution"
   },
   {
    "id": "8cab7b3b1d63401b85de259b3a06e2b0",
    "time": "2021-02-01T23:53:24.521Z",
    "type": "completion"
   },
   {
    "code": "mt[\"Gender\"] = mt[\"Category\"].str.split(' ', 1)\nmt[\"Gender\"]",
    "id": "8cab7b3b1d63401b85de259b3a06e2b0",
    "idx": 14,
    "time": "2021-02-01T23:54:12.145Z",
    "type": "execution"
   },
   {
    "id": "8cab7b3b1d63401b85de259b3a06e2b0",
    "time": "2021-02-01T23:54:12.214Z",
    "type": "completion"
   },
   {
    "code": "mt[\"Gender\"] = mt[\"Category\"].str.split(' ', 1)[0]\nmt[\"Gender\"]",
    "id": "8cab7b3b1d63401b85de259b3a06e2b0",
    "idx": 14,
    "time": "2021-02-01T23:54:18.335Z",
    "type": "execution"
   },
   {
    "id": "8cab7b3b1d63401b85de259b3a06e2b0",
    "time": "2021-02-01T23:54:18.439Z",
    "type": "completion"
   },
   {
    "code": "mt[\"Gender\"] = mt[\"Category\"].str.split(' ')\nmt[\"Gender\"]",
    "id": "8cab7b3b1d63401b85de259b3a06e2b0",
    "idx": 14,
    "time": "2021-02-01T23:54:23.206Z",
    "type": "execution"
   },
   {
    "id": "8cab7b3b1d63401b85de259b3a06e2b0",
    "time": "2021-02-01T23:54:23.270Z",
    "type": "completion"
   },
   {
    "code": "mt[\"Gender\"] = mt[\"Category\"].str.split(' ')[1]\nmt[\"Gender\"]",
    "id": "8cab7b3b1d63401b85de259b3a06e2b0",
    "idx": 14,
    "time": "2021-02-01T23:54:25.709Z",
    "type": "execution"
   },
   {
    "id": "8cab7b3b1d63401b85de259b3a06e2b0",
    "time": "2021-02-01T23:54:25.826Z",
    "type": "completion"
   },
   {
    "code": "mt[\"Gender\"] = mt[\"Category\"].str.split(' ')[3]\nmt[\"Gender\"]",
    "id": "8cab7b3b1d63401b85de259b3a06e2b0",
    "idx": 14,
    "time": "2021-02-01T23:54:29.056Z",
    "type": "execution"
   },
   {
    "id": "8cab7b3b1d63401b85de259b3a06e2b0",
    "time": "2021-02-01T23:54:29.159Z",
    "type": "completion"
   },
   {
    "code": "mt[\"Gender\"] = mt[\"Category\"].str.split(' ')[4]\nmt[\"Gender\"]",
    "id": "8cab7b3b1d63401b85de259b3a06e2b0",
    "idx": 14,
    "time": "2021-02-01T23:54:32.956Z",
    "type": "execution"
   },
   {
    "id": "8cab7b3b1d63401b85de259b3a06e2b0",
    "time": "2021-02-01T23:54:33.058Z",
    "type": "completion"
   },
   {
    "code": "mt[\"Gender\"] = mt[\"Category\"].str.split(' ', 1)[4]\nmt[\"Gender\"]",
    "id": "8cab7b3b1d63401b85de259b3a06e2b0",
    "idx": 14,
    "time": "2021-02-01T23:54:39.450Z",
    "type": "execution"
   },
   {
    "id": "8cab7b3b1d63401b85de259b3a06e2b0",
    "time": "2021-02-01T23:54:39.551Z",
    "type": "completion"
   },
   {
    "code": "mt[\"Gender\"] = mt[\"Category\"].str.split(' ', 1)\nmt[\"Gender\"]",
    "id": "8cab7b3b1d63401b85de259b3a06e2b0",
    "idx": 14,
    "time": "2021-02-01T23:54:42.331Z",
    "type": "execution"
   },
   {
    "id": "8cab7b3b1d63401b85de259b3a06e2b0",
    "time": "2021-02-01T23:54:42.395Z",
    "type": "completion"
   },
   {
    "code": "mt[\"Gender\"] = mt[\"Category\"].str.split(' ', 1)\nmt",
    "id": "8cab7b3b1d63401b85de259b3a06e2b0",
    "idx": 14,
    "time": "2021-02-01T23:54:49.904Z",
    "type": "execution"
   },
   {
    "id": "8cab7b3b1d63401b85de259b3a06e2b0",
    "time": "2021-02-01T23:54:50.026Z",
    "type": "completion"
   },
   {
    "code": "mt[\"Gender\"] = mt[\"Category\"].str.partition(' ', 1)\nmt",
    "id": "8cab7b3b1d63401b85de259b3a06e2b0",
    "idx": 14,
    "time": "2021-02-01T23:55:06.244Z",
    "type": "execution"
   },
   {
    "id": "8cab7b3b1d63401b85de259b3a06e2b0",
    "time": "2021-02-01T23:55:06.346Z",
    "type": "completion"
   },
   {
    "code": "mt[\"Gender\"] = mt[\"Category\"].str.partition(' ')\nmt",
    "id": "8cab7b3b1d63401b85de259b3a06e2b0",
    "idx": 14,
    "time": "2021-02-01T23:55:12.014Z",
    "type": "execution"
   },
   {
    "id": "8cab7b3b1d63401b85de259b3a06e2b0",
    "time": "2021-02-01T23:55:12.099Z",
    "type": "completion"
   },
   {
    "code": "mt.reset_index()",
    "id": "ef53edbdcbf4404183f0974914428335",
    "idx": 15,
    "time": "2021-02-01T23:56:08.339Z",
    "type": "execution"
   },
   {
    "id": "ef53edbdcbf4404183f0974914428335",
    "time": "2021-02-01T23:56:08.459Z",
    "type": "completion"
   },
   {
    "code": "mt.reset_index().drop(columns = {index})",
    "id": "ef53edbdcbf4404183f0974914428335",
    "idx": 15,
    "time": "2021-02-01T23:56:21.082Z",
    "type": "execution"
   },
   {
    "id": "ef53edbdcbf4404183f0974914428335",
    "time": "2021-02-01T23:56:21.145Z",
    "type": "completion"
   },
   {
    "code": "mt.reset_index().drop(columns = {\"index\"})",
    "id": "ef53edbdcbf4404183f0974914428335",
    "idx": 15,
    "time": "2021-02-01T23:56:25.323Z",
    "type": "execution"
   },
   {
    "id": "ef53edbdcbf4404183f0974914428335",
    "time": "2021-02-01T23:56:25.443Z",
    "type": "completion"
   },
   {
    "code": "mt = mt.reset_index().drop(columns = {\"index\"})\nmt.head()",
    "id": "ef53edbdcbf4404183f0974914428335",
    "idx": 15,
    "time": "2021-02-01T23:56:50.078Z",
    "type": "execution"
   },
   {
    "id": "ef53edbdcbf4404183f0974914428335",
    "time": "2021-02-01T23:56:50.144Z",
    "type": "completion"
   },
   {
    "code": "mt.pivot(index = \"Age\", columns = \"Gender\", values = \"Population\")",
    "id": "97eef8aec6e540868f3de97e60c3d38a",
    "idx": 16,
    "time": "2021-02-01T23:58:13.399Z",
    "type": "execution"
   },
   {
    "id": "97eef8aec6e540868f3de97e60c3d38a",
    "time": "2021-02-01T23:58:13.497Z",
    "type": "completion"
   }
  ],
  "kernelspec": {
   "display_name": "Python 3",
   "language": "python",
   "name": "python3"
  },
  "language_info": {
   "codemirror_mode": {
    "name": "ipython",
    "version": 3
   },
   "file_extension": ".py",
   "mimetype": "text/x-python",
   "name": "python",
   "nbconvert_exporter": "python",
   "pygments_lexer": "ipython3",
   "version": "3.8.6"
  }
 },
 "nbformat": 4,
 "nbformat_minor": 4
}
