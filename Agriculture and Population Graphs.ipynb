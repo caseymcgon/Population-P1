{
 "cells": [
  {
   "cell_type": "code",
   "execution_count": 12,
   "metadata": {},
   "outputs": [
    {
     "name": "stdout",
     "output_type": "stream",
     "text": [
      "Requirement already satisfied: wbdata in /opt/conda/lib/python3.8/site-packages (0.3.0)\n",
      "Requirement already satisfied: tabulate>=0.8.5 in /opt/conda/lib/python3.8/site-packages (from wbdata) (0.8.7)\n",
      "Requirement already satisfied: requests>=2.0 in /opt/conda/lib/python3.8/site-packages (from wbdata) (2.25.1)\n",
      "Requirement already satisfied: decorator>=4.0 in /opt/conda/lib/python3.8/site-packages (from wbdata) (4.4.2)\n",
      "Requirement already satisfied: appdirs<2.0,>=1.4 in /opt/conda/lib/python3.8/site-packages (from wbdata) (1.4.4)\n",
      "Requirement already satisfied: certifi>=2017.4.17 in /opt/conda/lib/python3.8/site-packages (from requests>=2.0->wbdata) (2019.11.28)\n",
      "Requirement already satisfied: urllib3<1.27,>=1.21.1 in /opt/conda/lib/python3.8/site-packages (from requests>=2.0->wbdata) (1.25.7)\n",
      "Requirement already satisfied: chardet<5,>=3.0.2 in /opt/conda/lib/python3.8/site-packages (from requests>=2.0->wbdata) (3.0.4)\n",
      "Requirement already satisfied: idna<3,>=2.5 in /opt/conda/lib/python3.8/site-packages (from requests>=2.0->wbdata) (2.8)\n"
     ]
    },
    {
     "data": {
      "text/html": [
       "        <script type=\"text/javascript\">\n",
       "        window.PlotlyConfig = {MathJaxConfig: 'local'};\n",
       "        if (window.MathJax) {MathJax.Hub.Config({SVG: {font: \"STIX-Web\"}});}\n",
       "        if (typeof require !== 'undefined') {\n",
       "        require.undef(\"plotly\");\n",
       "        requirejs.config({\n",
       "            paths: {\n",
       "                'plotly': ['https://cdn.plot.ly/plotly-latest.min']\n",
       "            }\n",
       "        });\n",
       "        require(['plotly'], function(Plotly) {\n",
       "            window._Plotly = Plotly;\n",
       "        });\n",
       "        }\n",
       "        </script>\n",
       "        "
      ]
     },
     "metadata": {},
     "output_type": "display_data"
    }
   ],
   "source": [
    "!pip install wbdata\n",
    "import numpy as np\n",
    "import wbdata\n",
    "import cufflinks as cf\n",
    "cf.go_offline()\n",
    "\n",
    "def fix_date_index(df):\n",
    "    idx_vars = df.index.names\n",
    "    new = df.reset_index()\n",
    "    new.date = new.date.astype(int)\n",
    "    return new.set_index(idx_vars)"
   ]
  },
  {
   "cell_type": "code",
   "execution_count": 13,
   "metadata": {
    "scrolled": true
   },
   "outputs": [
    {
     "data": {
      "text/plain": [
       "id                    name\n",
       "--------------------  ------------------------------------------------------------------------------------------\n",
       "AG.AGR.TRAC.NO        Agricultural machinery, tractors\n",
       "AG.CON.FERT.PT.ZS     Fertilizer consumption (% of fertilizer production)\n",
       "AG.CON.FERT.ZS        Fertilizer consumption (kilograms per hectare of arable land)\n",
       "AG.LND.AGRI.K2        Agricultural land (sq. km)\n",
       "AG.LND.AGRI.ZS        Agricultural land (% of land area)\n",
       "AG.LND.ARBL.HA        Arable land (hectares)\n",
       "AG.LND.ARBL.HA.PC     Arable land (hectares per person)\n",
       "AG.LND.ARBL.ZS        Arable land (% of land area)\n",
       "AG.LND.CREL.HA        Land under cereal production (hectares)\n",
       "AG.LND.CROP.ZS        Permanent cropland (% of land area)\n",
       "AG.LND.EL5M.RU.K2     Rural land area where elevation is below 5 meters (sq. km)\n",
       "AG.LND.EL5M.RU.ZS     Rural land area where elevation is below 5 meters (% of total land area)\n",
       "AG.LND.FRST.K2        Forest area (sq. km)\n",
       "AG.LND.FRST.ZS        Forest area (% of land area)\n",
       "AG.LND.IRIG.AG.ZS     Agricultural irrigated land (% of total agricultural land)\n",
       "AG.LND.PRCP.MM        Average precipitation in depth (mm per year)\n",
       "AG.LND.TOTL.K2        Land area (sq. km)\n",
       "AG.LND.TOTL.RU.K2     Rural land area (sq. km)\n",
       "AG.LND.TRAC.ZS        Agricultural machinery, tractors per 100 sq. km of arable land\n",
       "AG.PRD.CREL.MT        Cereal production (metric tons)\n",
       "AG.PRD.CROP.XD        Crop production index (2004-2006 = 100)\n",
       "AG.PRD.FOOD.XD        Food production index (2004-2006 = 100)\n",
       "AG.PRD.LVSK.XD        Livestock production index (2004-2006 = 100)\n",
       "AG.SRF.TOTL.K2        Surface area (sq. km)\n",
       "AG.YLD.CREL.KG        Cereal yield (kg per hectare)\n",
       "EA.PRD.AGRI.KD        Agriculture value added per worker (constant 2010 US$)\n",
       "EG.ELC.ACCS.RU.ZS     Access to electricity, rural (% of rural population)\n",
       "EG.NSF.ACCS.RU.ZS     Access to non-solid fuel, rural (% of rural population)\n",
       "EN.AGR.EMPL           Economically active population in agriculture (number)\n",
       "EN.ATM.METH.AG.KT.CE  Agricultural methane emissions (thousand metric tons of CO2 equivalent)\n",
       "EN.ATM.METH.AG.ZS     Agricultural methane emissions (% of total)\n",
       "EN.ATM.NOXE.AG.KT.CE  Agricultural nitrous oxide emissions (thousand metric tons of CO2 equivalent)\n",
       "EN.ATM.NOXE.AG.ZS     Agricultural nitrous oxide emissions (% of total)\n",
       "EN.POP.EL5M.RU.ZS     Rural population living in areas where elevation is below 5 meters (% of total population)\n",
       "ER.H2O.FWAG.ZS        Annual freshwater withdrawals, agriculture (% of total freshwater withdrawal)\n",
       "NV.AGR.TOTL.CD        Agriculture, forestry, and fishing, value added (current US$)\n",
       "NV.AGR.TOTL.ZS        Agriculture, forestry, and fishing, value added (% of GDP)\n",
       "SH.H2O.SAFE.RU.ZS     Improved water source, rural (% of rural population with access)\n",
       "SH.STA.ACSN.RU        Improved sanitation facilities, rural (% of rural population with access)\n",
       "SI.POV.RUGP           Rural poverty gap at national poverty lines (%)\n",
       "SI.POV.RUHC           Rural poverty headcount ratio at national poverty lines (% of rural population)\n",
       "SL.AGR.EMPL.FE.ZS     Employment in agriculture, female (% of female employment) (modeled ILO estimate)\n",
       "SL.AGR.EMPL.MA.ZS     Employment in agriculture, male (% of male employment) (modeled ILO estimate)\n",
       "SL.AGR.EMPL.ZS        Employment in agriculture (% of total employment) (modeled ILO estimate)\n",
       "SP.RUR.TOTL           Rural population\n",
       "SP.RUR.TOTL.ZG        Rural population growth (annual %)\n",
       "SP.RUR.TOTL.ZS        Rural population (% of total population)\n",
       "TM.VAL.AGRI.ZS.UN     Agricultural raw materials imports (% of merchandise imports)\n",
       "TX.VAL.AGRI.ZS.UN     Agricultural raw materials exports (% of merchandise exports)"
      ]
     },
     "execution_count": 13,
     "metadata": {},
     "output_type": "execute_result"
    }
   ],
   "source": [
    "wbdata.get_indicator(topic=1)"
   ]
  },
  {
   "cell_type": "markdown",
   "metadata": {},
   "source": [
    "## Cereal Production "
   ]
  },
  {
   "cell_type": "code",
   "execution_count": 14,
   "metadata": {},
   "outputs": [
    {
     "data": {
      "application/vnd.plotly.v1+json": {
       "config": {
        "linkText": "Export to plot.ly",
        "plotlyServerURL": "https://plot.ly",
        "showLink": true
       },
       "data": [
        {
         "line": {
          "color": "rgba(255, 153, 51, 1.0)",
          "dash": "solid",
          "shape": "linear",
          "width": 1.3
         },
         "mode": "lines",
         "name": "China",
         "text": "",
         "type": "scatter",
         "x": [
          1960,
          1961,
          1962,
          1963,
          1964,
          1965,
          1966,
          1967,
          1968,
          1969,
          1970,
          1971,
          1972,
          1973,
          1974,
          1975,
          1976,
          1977,
          1978,
          1979,
          1980,
          1981,
          1982,
          1983,
          1984,
          1985,
          1986,
          1987,
          1988,
          1989,
          1990,
          1991,
          1992,
          1993,
          1994,
          1995,
          1996,
          1997,
          1998,
          1999,
          2000,
          2001,
          2002,
          2003,
          2004,
          2005,
          2006,
          2007,
          2008,
          2009,
          2010,
          2011,
          2012,
          2013,
          2014,
          2015,
          2016,
          2017,
          2018,
          2019,
          2020
         ],
         "y": [
          "",
          107000000,
          117640008,
          134720016,
          149430000,
          159090000,
          174500000,
          178020016,
          173855008,
          173470016,
          197635008,
          209130016,
          203340016,
          218890016,
          231390016,
          241191200,
          246655325,
          239825142,
          269820586,
          289520560,
          277190199,
          283330308,
          312085310,
          342270058,
          362820018,
          336761042,
          349163856,
          356365875,
          348996930,
          364819680,
          401934965,
          396095011,
          401702616,
          405173951,
          393891055,
          416113700,
          451045054,
          443493425,
          456246878,
          453040320,
          405224140,
          396483872,
          396676773,
          374819700,
          411571792,
          427760100,
          451107752,
          456321100,
          478546900,
          481563308,
          496343192,
          519373896,
          539346800,
          552691792,
          557417300,
          621439200,
          616250500,
          617930299,
          "",
          "",
          ""
         ]
        },
        {
         "line": {
          "color": "rgba(55, 128, 191, 1.0)",
          "dash": "solid",
          "shape": "linear",
          "width": 1.3
         },
         "mode": "lines",
         "name": "India",
         "text": "",
         "type": "scatter",
         "x": [
          1960,
          1961,
          1962,
          1963,
          1964,
          1965,
          1966,
          1967,
          1968,
          1969,
          1970,
          1971,
          1972,
          1973,
          1974,
          1975,
          1976,
          1977,
          1978,
          1979,
          1980,
          1981,
          1982,
          1983,
          1984,
          1985,
          1986,
          1987,
          1988,
          1989,
          1990,
          1991,
          1992,
          1993,
          1994,
          1995,
          1996,
          1997,
          1998,
          1999,
          2000,
          2001,
          2002,
          2003,
          2004,
          2005,
          2006,
          2007,
          2008,
          2009,
          2010,
          2011,
          2012,
          2013,
          2014,
          2015,
          2016,
          2017,
          2018,
          2019,
          2020
         ],
         "y": [
          "",
          87376496,
          87257552,
          90373008,
          93706000,
          79699504,
          80137608,
          95453504,
          102443708,
          106291244,
          113909504,
          113238296,
          108615456,
          119648216,
          106793000,
          127807800,
          121625108,
          138062904,
          142964696,
          126470304,
          140490600,
          147583816,
          136101404,
          166781704,
          164477600,
          165682196,
          164955216,
          156114500,
          183867008,
          199413216,
          193919312,
          193101196,
          201468404,
          208626900,
          211941400,
          210012500,
          218750900,
          223232400,
          226877000,
          236205608,
          234931192,
          242963796,
          206636708,
          236592700,
          229845504,
          239997492,
          242785588,
          260485904,
          266835300,
          250783392,
          267838308,
          287860000,
          293290000,
          294909510,
          296010000,
          284333000,
          297850000,
          313610000,
          "",
          "",
          ""
         ]
        },
        {
         "line": {
          "color": "rgba(50, 171, 96, 1.0)",
          "dash": "solid",
          "shape": "linear",
          "width": 1.3
         },
         "mode": "lines",
         "name": "Italy",
         "text": "",
         "type": "scatter",
         "x": [
          1960,
          1961,
          1962,
          1963,
          1964,
          1965,
          1966,
          1967,
          1968,
          1969,
          1970,
          1971,
          1972,
          1973,
          1974,
          1975,
          1976,
          1977,
          1978,
          1979,
          1980,
          1981,
          1982,
          1983,
          1984,
          1985,
          1986,
          1987,
          1988,
          1989,
          1990,
          1991,
          1992,
          1993,
          1994,
          1995,
          1996,
          1997,
          1998,
          1999,
          2000,
          2001,
          2002,
          2003,
          2004,
          2005,
          2006,
          2007,
          2008,
          2009,
          2010,
          2011,
          2012,
          2013,
          2014,
          2015,
          2016,
          2017,
          2018,
          2019,
          2020
         ],
         "y": [
          "",
          13933400,
          14433210,
          13324660,
          14007520,
          14531270,
          14377630,
          15165050,
          15047330,
          15848360,
          16153080,
          16341770,
          15616689,
          15746610,
          16640396,
          16921900,
          16495300,
          14409200,
          17662800,
          17621700,
          17995200,
          18457268,
          18337400,
          18081100,
          19927800,
          18028600,
          18697900,
          18399800,
          17400000,
          17132670,
          17410540,
          19219130,
          19890867,
          19771428,
          19186472,
          19679024,
          20899946,
          19916519,
          20731020,
          21067676,
          20660952,
          19933158,
          21248429,
          17864361,
          23283207,
          21423171,
          20206559,
          20350618,
          21613374,
          17705746,
          18502904,
          19521138,
          18594126,
          18214664,
          19368014,
          17637215,
          18229902,
          16241037,
          "",
          "",
          ""
         ]
        },
        {
         "line": {
          "color": "rgba(128, 0, 128, 1.0)",
          "dash": "solid",
          "shape": "linear",
          "width": 1.3
         },
         "mode": "lines",
         "name": "Japan",
         "text": "",
         "type": "scatter",
         "x": [
          1960,
          1961,
          1962,
          1963,
          1964,
          1965,
          1966,
          1967,
          1968,
          1969,
          1970,
          1971,
          1972,
          1973,
          1974,
          1975,
          1976,
          1977,
          1978,
          1979,
          1980,
          1981,
          1982,
          1983,
          1984,
          1985,
          1986,
          1987,
          1988,
          1989,
          1990,
          1991,
          1992,
          1993,
          1994,
          1995,
          1996,
          1997,
          1998,
          1999,
          2000,
          2001,
          2002,
          2003,
          2004,
          2005,
          2006,
          2007,
          2008,
          2009,
          2010,
          2011,
          2012,
          2013,
          2014,
          2015,
          2016,
          2017,
          2018,
          2019,
          2020
         ],
         "y": [
          "",
          20318660,
          20635150,
          19470310,
          19079380,
          18925506,
          18915600,
          21023600,
          20998210,
          19912510,
          17661810,
          15205810,
          16168610,
          16287820,
          16511820,
          17624830,
          15712220,
          17495960,
          16483170,
          15938870,
          13191708,
          13824230,
          14000333,
          14059961,
          16012384,
          15856023,
          15805100,
          14526600,
          13866800,
          14317700,
          14449107,
          13069925,
          14285807,
          10737390,
          15787203,
          14121766,
          13668044,
          13319770,
          11933530,
          12282680,
          12796067,
          12254843,
          12184519,
          10824202,
          11993784,
          12433769,
          11741859,
          12024848,
          12151091,
          11461385,
          11366614,
          11450492,
          11729481,
          11786625,
          11602953,
          11202373,
          11045578,
          10906394,
          "",
          "",
          ""
         ]
        },
        {
         "line": {
          "color": "rgba(219, 64, 82, 1.0)",
          "dash": "solid",
          "shape": "linear",
          "width": 1.3
         },
         "mode": "lines",
         "name": "Russian Federation",
         "text": "",
         "type": "scatter",
         "x": [
          1960,
          1961,
          1962,
          1963,
          1964,
          1965,
          1966,
          1967,
          1968,
          1969,
          1970,
          1971,
          1972,
          1973,
          1974,
          1975,
          1976,
          1977,
          1978,
          1979,
          1980,
          1981,
          1982,
          1983,
          1984,
          1985,
          1986,
          1987,
          1988,
          1989,
          1990,
          1991,
          1992,
          1993,
          1994,
          1995,
          1996,
          1997,
          1998,
          1999,
          2000,
          2001,
          2002,
          2003,
          2004,
          2005,
          2006,
          2007,
          2008,
          2009,
          2010,
          2011,
          2012,
          2013,
          2014,
          2015,
          2016,
          2017,
          2018,
          2019,
          2020
         ],
         "y": [
          "",
          "",
          "",
          "",
          "",
          "",
          "",
          "",
          "",
          "",
          "",
          "",
          "",
          "",
          "",
          "",
          "",
          "",
          "",
          "",
          "",
          "",
          "",
          "",
          "",
          "",
          "",
          "",
          "",
          "",
          "",
          "",
          103793990,
          96225194,
          78650928,
          61901840,
          67441814,
          86710503,
          46853327,
          53778631,
          64242691,
          83303483,
          84730327,
          65335462,
          75986000,
          76192100,
          76494549,
          80207513,
          106417890,
          95615476,
          59619074,
          91780915,
          68753479,
          90364971,
          103136052,
          102445136,
          117744111,
          131143688,
          "",
          "",
          ""
         ]
        }
       ],
       "layout": {
        "legend": {
         "bgcolor": "#F5F6F9",
         "font": {
          "color": "#4D5663"
         }
        },
        "paper_bgcolor": "#F5F6F9",
        "plot_bgcolor": "#F5F6F9",
        "template": {
         "data": {
          "bar": [
           {
            "error_x": {
             "color": "#2a3f5f"
            },
            "error_y": {
             "color": "#2a3f5f"
            },
            "marker": {
             "line": {
              "color": "#E5ECF6",
              "width": 0.5
             }
            },
            "type": "bar"
           }
          ],
          "barpolar": [
           {
            "marker": {
             "line": {
              "color": "#E5ECF6",
              "width": 0.5
             }
            },
            "type": "barpolar"
           }
          ],
          "carpet": [
           {
            "aaxis": {
             "endlinecolor": "#2a3f5f",
             "gridcolor": "white",
             "linecolor": "white",
             "minorgridcolor": "white",
             "startlinecolor": "#2a3f5f"
            },
            "baxis": {
             "endlinecolor": "#2a3f5f",
             "gridcolor": "white",
             "linecolor": "white",
             "minorgridcolor": "white",
             "startlinecolor": "#2a3f5f"
            },
            "type": "carpet"
           }
          ],
          "choropleth": [
           {
            "colorbar": {
             "outlinewidth": 0,
             "ticks": ""
            },
            "type": "choropleth"
           }
          ],
          "contour": [
           {
            "colorbar": {
             "outlinewidth": 0,
             "ticks": ""
            },
            "colorscale": [
             [
              0,
              "#0d0887"
             ],
             [
              0.1111111111111111,
              "#46039f"
             ],
             [
              0.2222222222222222,
              "#7201a8"
             ],
             [
              0.3333333333333333,
              "#9c179e"
             ],
             [
              0.4444444444444444,
              "#bd3786"
             ],
             [
              0.5555555555555556,
              "#d8576b"
             ],
             [
              0.6666666666666666,
              "#ed7953"
             ],
             [
              0.7777777777777778,
              "#fb9f3a"
             ],
             [
              0.8888888888888888,
              "#fdca26"
             ],
             [
              1,
              "#f0f921"
             ]
            ],
            "type": "contour"
           }
          ],
          "contourcarpet": [
           {
            "colorbar": {
             "outlinewidth": 0,
             "ticks": ""
            },
            "type": "contourcarpet"
           }
          ],
          "heatmap": [
           {
            "colorbar": {
             "outlinewidth": 0,
             "ticks": ""
            },
            "colorscale": [
             [
              0,
              "#0d0887"
             ],
             [
              0.1111111111111111,
              "#46039f"
             ],
             [
              0.2222222222222222,
              "#7201a8"
             ],
             [
              0.3333333333333333,
              "#9c179e"
             ],
             [
              0.4444444444444444,
              "#bd3786"
             ],
             [
              0.5555555555555556,
              "#d8576b"
             ],
             [
              0.6666666666666666,
              "#ed7953"
             ],
             [
              0.7777777777777778,
              "#fb9f3a"
             ],
             [
              0.8888888888888888,
              "#fdca26"
             ],
             [
              1,
              "#f0f921"
             ]
            ],
            "type": "heatmap"
           }
          ],
          "heatmapgl": [
           {
            "colorbar": {
             "outlinewidth": 0,
             "ticks": ""
            },
            "colorscale": [
             [
              0,
              "#0d0887"
             ],
             [
              0.1111111111111111,
              "#46039f"
             ],
             [
              0.2222222222222222,
              "#7201a8"
             ],
             [
              0.3333333333333333,
              "#9c179e"
             ],
             [
              0.4444444444444444,
              "#bd3786"
             ],
             [
              0.5555555555555556,
              "#d8576b"
             ],
             [
              0.6666666666666666,
              "#ed7953"
             ],
             [
              0.7777777777777778,
              "#fb9f3a"
             ],
             [
              0.8888888888888888,
              "#fdca26"
             ],
             [
              1,
              "#f0f921"
             ]
            ],
            "type": "heatmapgl"
           }
          ],
          "histogram": [
           {
            "marker": {
             "colorbar": {
              "outlinewidth": 0,
              "ticks": ""
             }
            },
            "type": "histogram"
           }
          ],
          "histogram2d": [
           {
            "colorbar": {
             "outlinewidth": 0,
             "ticks": ""
            },
            "colorscale": [
             [
              0,
              "#0d0887"
             ],
             [
              0.1111111111111111,
              "#46039f"
             ],
             [
              0.2222222222222222,
              "#7201a8"
             ],
             [
              0.3333333333333333,
              "#9c179e"
             ],
             [
              0.4444444444444444,
              "#bd3786"
             ],
             [
              0.5555555555555556,
              "#d8576b"
             ],
             [
              0.6666666666666666,
              "#ed7953"
             ],
             [
              0.7777777777777778,
              "#fb9f3a"
             ],
             [
              0.8888888888888888,
              "#fdca26"
             ],
             [
              1,
              "#f0f921"
             ]
            ],
            "type": "histogram2d"
           }
          ],
          "histogram2dcontour": [
           {
            "colorbar": {
             "outlinewidth": 0,
             "ticks": ""
            },
            "colorscale": [
             [
              0,
              "#0d0887"
             ],
             [
              0.1111111111111111,
              "#46039f"
             ],
             [
              0.2222222222222222,
              "#7201a8"
             ],
             [
              0.3333333333333333,
              "#9c179e"
             ],
             [
              0.4444444444444444,
              "#bd3786"
             ],
             [
              0.5555555555555556,
              "#d8576b"
             ],
             [
              0.6666666666666666,
              "#ed7953"
             ],
             [
              0.7777777777777778,
              "#fb9f3a"
             ],
             [
              0.8888888888888888,
              "#fdca26"
             ],
             [
              1,
              "#f0f921"
             ]
            ],
            "type": "histogram2dcontour"
           }
          ],
          "mesh3d": [
           {
            "colorbar": {
             "outlinewidth": 0,
             "ticks": ""
            },
            "type": "mesh3d"
           }
          ],
          "parcoords": [
           {
            "line": {
             "colorbar": {
              "outlinewidth": 0,
              "ticks": ""
             }
            },
            "type": "parcoords"
           }
          ],
          "pie": [
           {
            "automargin": true,
            "type": "pie"
           }
          ],
          "scatter": [
           {
            "marker": {
             "colorbar": {
              "outlinewidth": 0,
              "ticks": ""
             }
            },
            "type": "scatter"
           }
          ],
          "scatter3d": [
           {
            "line": {
             "colorbar": {
              "outlinewidth": 0,
              "ticks": ""
             }
            },
            "marker": {
             "colorbar": {
              "outlinewidth": 0,
              "ticks": ""
             }
            },
            "type": "scatter3d"
           }
          ],
          "scattercarpet": [
           {
            "marker": {
             "colorbar": {
              "outlinewidth": 0,
              "ticks": ""
             }
            },
            "type": "scattercarpet"
           }
          ],
          "scattergeo": [
           {
            "marker": {
             "colorbar": {
              "outlinewidth": 0,
              "ticks": ""
             }
            },
            "type": "scattergeo"
           }
          ],
          "scattergl": [
           {
            "marker": {
             "colorbar": {
              "outlinewidth": 0,
              "ticks": ""
             }
            },
            "type": "scattergl"
           }
          ],
          "scattermapbox": [
           {
            "marker": {
             "colorbar": {
              "outlinewidth": 0,
              "ticks": ""
             }
            },
            "type": "scattermapbox"
           }
          ],
          "scatterpolar": [
           {
            "marker": {
             "colorbar": {
              "outlinewidth": 0,
              "ticks": ""
             }
            },
            "type": "scatterpolar"
           }
          ],
          "scatterpolargl": [
           {
            "marker": {
             "colorbar": {
              "outlinewidth": 0,
              "ticks": ""
             }
            },
            "type": "scatterpolargl"
           }
          ],
          "scatterternary": [
           {
            "marker": {
             "colorbar": {
              "outlinewidth": 0,
              "ticks": ""
             }
            },
            "type": "scatterternary"
           }
          ],
          "surface": [
           {
            "colorbar": {
             "outlinewidth": 0,
             "ticks": ""
            },
            "colorscale": [
             [
              0,
              "#0d0887"
             ],
             [
              0.1111111111111111,
              "#46039f"
             ],
             [
              0.2222222222222222,
              "#7201a8"
             ],
             [
              0.3333333333333333,
              "#9c179e"
             ],
             [
              0.4444444444444444,
              "#bd3786"
             ],
             [
              0.5555555555555556,
              "#d8576b"
             ],
             [
              0.6666666666666666,
              "#ed7953"
             ],
             [
              0.7777777777777778,
              "#fb9f3a"
             ],
             [
              0.8888888888888888,
              "#fdca26"
             ],
             [
              1,
              "#f0f921"
             ]
            ],
            "type": "surface"
           }
          ],
          "table": [
           {
            "cells": {
             "fill": {
              "color": "#EBF0F8"
             },
             "line": {
              "color": "white"
             }
            },
            "header": {
             "fill": {
              "color": "#C8D4E3"
             },
             "line": {
              "color": "white"
             }
            },
            "type": "table"
           }
          ]
         },
         "layout": {
          "annotationdefaults": {
           "arrowcolor": "#2a3f5f",
           "arrowhead": 0,
           "arrowwidth": 1
          },
          "autotypenumbers": "strict",
          "coloraxis": {
           "colorbar": {
            "outlinewidth": 0,
            "ticks": ""
           }
          },
          "colorscale": {
           "diverging": [
            [
             0,
             "#8e0152"
            ],
            [
             0.1,
             "#c51b7d"
            ],
            [
             0.2,
             "#de77ae"
            ],
            [
             0.3,
             "#f1b6da"
            ],
            [
             0.4,
             "#fde0ef"
            ],
            [
             0.5,
             "#f7f7f7"
            ],
            [
             0.6,
             "#e6f5d0"
            ],
            [
             0.7,
             "#b8e186"
            ],
            [
             0.8,
             "#7fbc41"
            ],
            [
             0.9,
             "#4d9221"
            ],
            [
             1,
             "#276419"
            ]
           ],
           "sequential": [
            [
             0,
             "#0d0887"
            ],
            [
             0.1111111111111111,
             "#46039f"
            ],
            [
             0.2222222222222222,
             "#7201a8"
            ],
            [
             0.3333333333333333,
             "#9c179e"
            ],
            [
             0.4444444444444444,
             "#bd3786"
            ],
            [
             0.5555555555555556,
             "#d8576b"
            ],
            [
             0.6666666666666666,
             "#ed7953"
            ],
            [
             0.7777777777777778,
             "#fb9f3a"
            ],
            [
             0.8888888888888888,
             "#fdca26"
            ],
            [
             1,
             "#f0f921"
            ]
           ],
           "sequentialminus": [
            [
             0,
             "#0d0887"
            ],
            [
             0.1111111111111111,
             "#46039f"
            ],
            [
             0.2222222222222222,
             "#7201a8"
            ],
            [
             0.3333333333333333,
             "#9c179e"
            ],
            [
             0.4444444444444444,
             "#bd3786"
            ],
            [
             0.5555555555555556,
             "#d8576b"
            ],
            [
             0.6666666666666666,
             "#ed7953"
            ],
            [
             0.7777777777777778,
             "#fb9f3a"
            ],
            [
             0.8888888888888888,
             "#fdca26"
            ],
            [
             1,
             "#f0f921"
            ]
           ]
          },
          "colorway": [
           "#636efa",
           "#EF553B",
           "#00cc96",
           "#ab63fa",
           "#FFA15A",
           "#19d3f3",
           "#FF6692",
           "#B6E880",
           "#FF97FF",
           "#FECB52"
          ],
          "font": {
           "color": "#2a3f5f"
          },
          "geo": {
           "bgcolor": "white",
           "lakecolor": "white",
           "landcolor": "#E5ECF6",
           "showlakes": true,
           "showland": true,
           "subunitcolor": "white"
          },
          "hoverlabel": {
           "align": "left"
          },
          "hovermode": "closest",
          "mapbox": {
           "style": "light"
          },
          "paper_bgcolor": "white",
          "plot_bgcolor": "#E5ECF6",
          "polar": {
           "angularaxis": {
            "gridcolor": "white",
            "linecolor": "white",
            "ticks": ""
           },
           "bgcolor": "#E5ECF6",
           "radialaxis": {
            "gridcolor": "white",
            "linecolor": "white",
            "ticks": ""
           }
          },
          "scene": {
           "xaxis": {
            "backgroundcolor": "#E5ECF6",
            "gridcolor": "white",
            "gridwidth": 2,
            "linecolor": "white",
            "showbackground": true,
            "ticks": "",
            "zerolinecolor": "white"
           },
           "yaxis": {
            "backgroundcolor": "#E5ECF6",
            "gridcolor": "white",
            "gridwidth": 2,
            "linecolor": "white",
            "showbackground": true,
            "ticks": "",
            "zerolinecolor": "white"
           },
           "zaxis": {
            "backgroundcolor": "#E5ECF6",
            "gridcolor": "white",
            "gridwidth": 2,
            "linecolor": "white",
            "showbackground": true,
            "ticks": "",
            "zerolinecolor": "white"
           }
          },
          "shapedefaults": {
           "line": {
            "color": "#2a3f5f"
           }
          },
          "ternary": {
           "aaxis": {
            "gridcolor": "white",
            "linecolor": "white",
            "ticks": ""
           },
           "baxis": {
            "gridcolor": "white",
            "linecolor": "white",
            "ticks": ""
           },
           "bgcolor": "#E5ECF6",
           "caxis": {
            "gridcolor": "white",
            "linecolor": "white",
            "ticks": ""
           }
          },
          "title": {
           "x": 0.05
          },
          "xaxis": {
           "automargin": true,
           "gridcolor": "white",
           "linecolor": "white",
           "ticks": "",
           "title": {
            "standoff": 15
           },
           "zerolinecolor": "white",
           "zerolinewidth": 2
          },
          "yaxis": {
           "automargin": true,
           "gridcolor": "white",
           "linecolor": "white",
           "ticks": "",
           "title": {
            "standoff": 15
           },
           "zerolinecolor": "white",
           "zerolinewidth": 2
          }
         }
        },
        "title": {
         "font": {
          "color": "#4D5663"
         },
         "text": "Cereal Production of China, India, Italy, Japan, Russia"
        },
        "xaxis": {
         "gridcolor": "#E1E5ED",
         "showgrid": true,
         "tickfont": {
          "color": "#4D5663"
         },
         "title": {
          "font": {
           "color": "#4D5663"
          },
          "text": "Year"
         },
         "zerolinecolor": "#E1E5ED"
        },
        "yaxis": {
         "gridcolor": "#E1E5ED",
         "showgrid": true,
         "tickfont": {
          "color": "#4D5663"
         },
         "title": {
          "font": {
           "color": "#4D5663"
          },
          "text": "Metric Tons"
         },
         "zerolinecolor": "#E1E5ED"
        }
       }
      },
      "text/html": [
       "<div>                            <div id=\"287b6b02-7ab7-4049-b148-059fbf06272b\" class=\"plotly-graph-div\" style=\"height:525px; width:100%;\"></div>            <script type=\"text/javascript\">                require([\"plotly\"], function(Plotly) {                    window.PLOTLYENV=window.PLOTLYENV || {};\n",
       "                    window.PLOTLYENV.BASE_URL='https://plot.ly';                                    if (document.getElementById(\"287b6b02-7ab7-4049-b148-059fbf06272b\")) {                    Plotly.newPlot(                        \"287b6b02-7ab7-4049-b148-059fbf06272b\",                        [{\"line\": {\"color\": \"rgba(255, 153, 51, 1.0)\", \"dash\": \"solid\", \"shape\": \"linear\", \"width\": 1.3}, \"mode\": \"lines\", \"name\": \"China\", \"text\": \"\", \"type\": \"scatter\", \"x\": [1960, 1961, 1962, 1963, 1964, 1965, 1966, 1967, 1968, 1969, 1970, 1971, 1972, 1973, 1974, 1975, 1976, 1977, 1978, 1979, 1980, 1981, 1982, 1983, 1984, 1985, 1986, 1987, 1988, 1989, 1990, 1991, 1992, 1993, 1994, 1995, 1996, 1997, 1998, 1999, 2000, 2001, 2002, 2003, 2004, 2005, 2006, 2007, 2008, 2009, 2010, 2011, 2012, 2013, 2014, 2015, 2016, 2017, 2018, 2019, 2020], \"y\": [\"\", 107000000.0, 117640008.0, 134720016.0, 149430000.0, 159090000.0, 174500000.0, 178020016.0, 173855008.0, 173470016.0, 197635008.0, 209130016.0, 203340016.0, 218890016.0, 231390016.0, 241191200.0, 246655325.0, 239825142.0, 269820586.0, 289520560.0, 277190199.0, 283330308.0, 312085310.0, 342270058.0, 362820018.0, 336761042.0, 349163856.0, 356365875.0, 348996930.0, 364819680.0, 401934965.0, 396095011.0, 401702616.0, 405173951.0, 393891055.0, 416113700.0, 451045054.0, 443493425.0, 456246878.0, 453040320.0, 405224140.0, 396483872.0, 396676773.0, 374819700.0, 411571792.0, 427760100.0, 451107752.0, 456321100.0, 478546900.0, 481563308.0, 496343192.0, 519373896.0, 539346800.0, 552691792.0, 557417300.0, 621439200.0, 616250500.0, 617930299.0, \"\", \"\", \"\"]}, {\"line\": {\"color\": \"rgba(55, 128, 191, 1.0)\", \"dash\": \"solid\", \"shape\": \"linear\", \"width\": 1.3}, \"mode\": \"lines\", \"name\": \"India\", \"text\": \"\", \"type\": \"scatter\", \"x\": [1960, 1961, 1962, 1963, 1964, 1965, 1966, 1967, 1968, 1969, 1970, 1971, 1972, 1973, 1974, 1975, 1976, 1977, 1978, 1979, 1980, 1981, 1982, 1983, 1984, 1985, 1986, 1987, 1988, 1989, 1990, 1991, 1992, 1993, 1994, 1995, 1996, 1997, 1998, 1999, 2000, 2001, 2002, 2003, 2004, 2005, 2006, 2007, 2008, 2009, 2010, 2011, 2012, 2013, 2014, 2015, 2016, 2017, 2018, 2019, 2020], \"y\": [\"\", 87376496.0, 87257552.0, 90373008.0, 93706000.0, 79699504.0, 80137608.0, 95453504.0, 102443708.0, 106291244.0, 113909504.0, 113238296.0, 108615456.0, 119648216.0, 106793000.0, 127807800.0, 121625108.0, 138062904.0, 142964696.0, 126470304.0, 140490600.0, 147583816.0, 136101404.0, 166781704.0, 164477600.0, 165682196.0, 164955216.0, 156114500.0, 183867008.0, 199413216.0, 193919312.0, 193101196.0, 201468404.0, 208626900.0, 211941400.0, 210012500.0, 218750900.0, 223232400.0, 226877000.0, 236205608.0, 234931192.0, 242963796.0, 206636708.0, 236592700.0, 229845504.0, 239997492.0, 242785588.0, 260485904.0, 266835300.0, 250783392.0, 267838308.0, 287860000.0, 293290000.0, 294909510.0, 296010000.0, 284333000.0, 297850000.0, 313610000.0, \"\", \"\", \"\"]}, {\"line\": {\"color\": \"rgba(50, 171, 96, 1.0)\", \"dash\": \"solid\", \"shape\": \"linear\", \"width\": 1.3}, \"mode\": \"lines\", \"name\": \"Italy\", \"text\": \"\", \"type\": \"scatter\", \"x\": [1960, 1961, 1962, 1963, 1964, 1965, 1966, 1967, 1968, 1969, 1970, 1971, 1972, 1973, 1974, 1975, 1976, 1977, 1978, 1979, 1980, 1981, 1982, 1983, 1984, 1985, 1986, 1987, 1988, 1989, 1990, 1991, 1992, 1993, 1994, 1995, 1996, 1997, 1998, 1999, 2000, 2001, 2002, 2003, 2004, 2005, 2006, 2007, 2008, 2009, 2010, 2011, 2012, 2013, 2014, 2015, 2016, 2017, 2018, 2019, 2020], \"y\": [\"\", 13933400.0, 14433210.0, 13324660.0, 14007520.0, 14531270.0, 14377630.0, 15165050.0, 15047330.0, 15848360.0, 16153080.0, 16341770.0, 15616689.0, 15746610.0, 16640396.0, 16921900.0, 16495300.0, 14409200.0, 17662800.0, 17621700.0, 17995200.0, 18457268.0, 18337400.0, 18081100.0, 19927800.0, 18028600.0, 18697900.0, 18399800.0, 17400000.0, 17132670.0, 17410540.0, 19219130.0, 19890867.0, 19771428.0, 19186472.0, 19679024.0, 20899946.0, 19916519.0, 20731020.0, 21067676.0, 20660952.0, 19933158.0, 21248429.0, 17864361.0, 23283207.0, 21423171.0, 20206559.0, 20350618.0, 21613374.0, 17705746.0, 18502904.0, 19521138.0, 18594126.0, 18214664.0, 19368014.0, 17637215.0, 18229902.0, 16241037.0, \"\", \"\", \"\"]}, {\"line\": {\"color\": \"rgba(128, 0, 128, 1.0)\", \"dash\": \"solid\", \"shape\": \"linear\", \"width\": 1.3}, \"mode\": \"lines\", \"name\": \"Japan\", \"text\": \"\", \"type\": \"scatter\", \"x\": [1960, 1961, 1962, 1963, 1964, 1965, 1966, 1967, 1968, 1969, 1970, 1971, 1972, 1973, 1974, 1975, 1976, 1977, 1978, 1979, 1980, 1981, 1982, 1983, 1984, 1985, 1986, 1987, 1988, 1989, 1990, 1991, 1992, 1993, 1994, 1995, 1996, 1997, 1998, 1999, 2000, 2001, 2002, 2003, 2004, 2005, 2006, 2007, 2008, 2009, 2010, 2011, 2012, 2013, 2014, 2015, 2016, 2017, 2018, 2019, 2020], \"y\": [\"\", 20318660.0, 20635150.0, 19470310.0, 19079380.0, 18925506.0, 18915600.0, 21023600.0, 20998210.0, 19912510.0, 17661810.0, 15205810.0, 16168610.0, 16287820.0, 16511820.0, 17624830.0, 15712220.0, 17495960.0, 16483170.0, 15938870.0, 13191708.0, 13824230.0, 14000333.0, 14059961.0, 16012384.0, 15856023.0, 15805100.0, 14526600.0, 13866800.0, 14317700.0, 14449107.0, 13069925.0, 14285807.0, 10737390.0, 15787203.0, 14121766.0, 13668044.0, 13319770.0, 11933530.0, 12282680.0, 12796067.0, 12254843.0, 12184519.0, 10824202.0, 11993784.0, 12433769.0, 11741859.0, 12024848.0, 12151091.0, 11461385.0, 11366614.0, 11450492.0, 11729481.0, 11786625.0, 11602953.0, 11202373.0, 11045578.0, 10906394.0, \"\", \"\", \"\"]}, {\"line\": {\"color\": \"rgba(219, 64, 82, 1.0)\", \"dash\": \"solid\", \"shape\": \"linear\", \"width\": 1.3}, \"mode\": \"lines\", \"name\": \"Russian Federation\", \"text\": \"\", \"type\": \"scatter\", \"x\": [1960, 1961, 1962, 1963, 1964, 1965, 1966, 1967, 1968, 1969, 1970, 1971, 1972, 1973, 1974, 1975, 1976, 1977, 1978, 1979, 1980, 1981, 1982, 1983, 1984, 1985, 1986, 1987, 1988, 1989, 1990, 1991, 1992, 1993, 1994, 1995, 1996, 1997, 1998, 1999, 2000, 2001, 2002, 2003, 2004, 2005, 2006, 2007, 2008, 2009, 2010, 2011, 2012, 2013, 2014, 2015, 2016, 2017, 2018, 2019, 2020], \"y\": [\"\", \"\", \"\", \"\", \"\", \"\", \"\", \"\", \"\", \"\", \"\", \"\", \"\", \"\", \"\", \"\", \"\", \"\", \"\", \"\", \"\", \"\", \"\", \"\", \"\", \"\", \"\", \"\", \"\", \"\", \"\", \"\", 103793990.0, 96225194.0, 78650928.0, 61901840.0, 67441814.0, 86710503.0, 46853327.0, 53778631.0, 64242691.0, 83303483.0, 84730327.0, 65335462.0, 75986000.0, 76192100.0, 76494549.0, 80207513.0, 106417890.0, 95615476.0, 59619074.0, 91780915.0, 68753479.0, 90364971.0, 103136052.0, 102445136.0, 117744111.0, 131143688.0, \"\", \"\", \"\"]}],                        {\"legend\": {\"bgcolor\": \"#F5F6F9\", \"font\": {\"color\": \"#4D5663\"}}, \"paper_bgcolor\": \"#F5F6F9\", \"plot_bgcolor\": \"#F5F6F9\", \"template\": {\"data\": {\"bar\": [{\"error_x\": {\"color\": \"#2a3f5f\"}, \"error_y\": {\"color\": \"#2a3f5f\"}, \"marker\": {\"line\": {\"color\": \"#E5ECF6\", \"width\": 0.5}}, \"type\": \"bar\"}], \"barpolar\": [{\"marker\": {\"line\": {\"color\": \"#E5ECF6\", \"width\": 0.5}}, \"type\": \"barpolar\"}], \"carpet\": [{\"aaxis\": {\"endlinecolor\": \"#2a3f5f\", \"gridcolor\": \"white\", \"linecolor\": \"white\", \"minorgridcolor\": \"white\", \"startlinecolor\": \"#2a3f5f\"}, \"baxis\": {\"endlinecolor\": \"#2a3f5f\", \"gridcolor\": \"white\", \"linecolor\": \"white\", \"minorgridcolor\": \"white\", \"startlinecolor\": \"#2a3f5f\"}, \"type\": \"carpet\"}], \"choropleth\": [{\"colorbar\": {\"outlinewidth\": 0, \"ticks\": \"\"}, \"type\": \"choropleth\"}], \"contour\": [{\"colorbar\": {\"outlinewidth\": 0, \"ticks\": \"\"}, \"colorscale\": [[0.0, \"#0d0887\"], [0.1111111111111111, \"#46039f\"], [0.2222222222222222, \"#7201a8\"], [0.3333333333333333, \"#9c179e\"], [0.4444444444444444, \"#bd3786\"], [0.5555555555555556, \"#d8576b\"], [0.6666666666666666, \"#ed7953\"], [0.7777777777777778, \"#fb9f3a\"], [0.8888888888888888, \"#fdca26\"], [1.0, \"#f0f921\"]], \"type\": \"contour\"}], \"contourcarpet\": [{\"colorbar\": {\"outlinewidth\": 0, \"ticks\": \"\"}, \"type\": \"contourcarpet\"}], \"heatmap\": [{\"colorbar\": {\"outlinewidth\": 0, \"ticks\": \"\"}, \"colorscale\": [[0.0, \"#0d0887\"], [0.1111111111111111, \"#46039f\"], [0.2222222222222222, \"#7201a8\"], [0.3333333333333333, \"#9c179e\"], [0.4444444444444444, \"#bd3786\"], [0.5555555555555556, \"#d8576b\"], [0.6666666666666666, \"#ed7953\"], [0.7777777777777778, \"#fb9f3a\"], [0.8888888888888888, \"#fdca26\"], [1.0, \"#f0f921\"]], \"type\": \"heatmap\"}], \"heatmapgl\": [{\"colorbar\": {\"outlinewidth\": 0, \"ticks\": \"\"}, \"colorscale\": [[0.0, \"#0d0887\"], [0.1111111111111111, \"#46039f\"], [0.2222222222222222, \"#7201a8\"], [0.3333333333333333, \"#9c179e\"], [0.4444444444444444, \"#bd3786\"], [0.5555555555555556, \"#d8576b\"], [0.6666666666666666, \"#ed7953\"], [0.7777777777777778, \"#fb9f3a\"], [0.8888888888888888, \"#fdca26\"], [1.0, \"#f0f921\"]], \"type\": \"heatmapgl\"}], \"histogram\": [{\"marker\": {\"colorbar\": {\"outlinewidth\": 0, \"ticks\": \"\"}}, \"type\": \"histogram\"}], \"histogram2d\": [{\"colorbar\": {\"outlinewidth\": 0, \"ticks\": \"\"}, \"colorscale\": [[0.0, \"#0d0887\"], [0.1111111111111111, \"#46039f\"], [0.2222222222222222, \"#7201a8\"], [0.3333333333333333, \"#9c179e\"], [0.4444444444444444, \"#bd3786\"], [0.5555555555555556, \"#d8576b\"], [0.6666666666666666, \"#ed7953\"], [0.7777777777777778, \"#fb9f3a\"], [0.8888888888888888, \"#fdca26\"], [1.0, \"#f0f921\"]], \"type\": \"histogram2d\"}], \"histogram2dcontour\": [{\"colorbar\": {\"outlinewidth\": 0, \"ticks\": \"\"}, \"colorscale\": [[0.0, \"#0d0887\"], [0.1111111111111111, \"#46039f\"], [0.2222222222222222, \"#7201a8\"], [0.3333333333333333, \"#9c179e\"], [0.4444444444444444, \"#bd3786\"], [0.5555555555555556, \"#d8576b\"], [0.6666666666666666, \"#ed7953\"], [0.7777777777777778, \"#fb9f3a\"], [0.8888888888888888, \"#fdca26\"], [1.0, \"#f0f921\"]], \"type\": \"histogram2dcontour\"}], \"mesh3d\": [{\"colorbar\": {\"outlinewidth\": 0, \"ticks\": \"\"}, \"type\": \"mesh3d\"}], \"parcoords\": [{\"line\": {\"colorbar\": {\"outlinewidth\": 0, \"ticks\": \"\"}}, \"type\": \"parcoords\"}], \"pie\": [{\"automargin\": true, \"type\": \"pie\"}], \"scatter\": [{\"marker\": {\"colorbar\": {\"outlinewidth\": 0, \"ticks\": \"\"}}, \"type\": \"scatter\"}], \"scatter3d\": [{\"line\": {\"colorbar\": {\"outlinewidth\": 0, \"ticks\": \"\"}}, \"marker\": {\"colorbar\": {\"outlinewidth\": 0, \"ticks\": \"\"}}, \"type\": \"scatter3d\"}], \"scattercarpet\": [{\"marker\": {\"colorbar\": {\"outlinewidth\": 0, \"ticks\": \"\"}}, \"type\": \"scattercarpet\"}], \"scattergeo\": [{\"marker\": {\"colorbar\": {\"outlinewidth\": 0, \"ticks\": \"\"}}, \"type\": \"scattergeo\"}], \"scattergl\": [{\"marker\": {\"colorbar\": {\"outlinewidth\": 0, \"ticks\": \"\"}}, \"type\": \"scattergl\"}], \"scattermapbox\": [{\"marker\": {\"colorbar\": {\"outlinewidth\": 0, \"ticks\": \"\"}}, \"type\": \"scattermapbox\"}], \"scatterpolar\": [{\"marker\": {\"colorbar\": {\"outlinewidth\": 0, \"ticks\": \"\"}}, \"type\": \"scatterpolar\"}], \"scatterpolargl\": [{\"marker\": {\"colorbar\": {\"outlinewidth\": 0, \"ticks\": \"\"}}, \"type\": \"scatterpolargl\"}], \"scatterternary\": [{\"marker\": {\"colorbar\": {\"outlinewidth\": 0, \"ticks\": \"\"}}, \"type\": \"scatterternary\"}], \"surface\": [{\"colorbar\": {\"outlinewidth\": 0, \"ticks\": \"\"}, \"colorscale\": [[0.0, \"#0d0887\"], [0.1111111111111111, \"#46039f\"], [0.2222222222222222, \"#7201a8\"], [0.3333333333333333, \"#9c179e\"], [0.4444444444444444, \"#bd3786\"], [0.5555555555555556, \"#d8576b\"], [0.6666666666666666, \"#ed7953\"], [0.7777777777777778, \"#fb9f3a\"], [0.8888888888888888, \"#fdca26\"], [1.0, \"#f0f921\"]], \"type\": \"surface\"}], \"table\": [{\"cells\": {\"fill\": {\"color\": \"#EBF0F8\"}, \"line\": {\"color\": \"white\"}}, \"header\": {\"fill\": {\"color\": \"#C8D4E3\"}, \"line\": {\"color\": \"white\"}}, \"type\": \"table\"}]}, \"layout\": {\"annotationdefaults\": {\"arrowcolor\": \"#2a3f5f\", \"arrowhead\": 0, \"arrowwidth\": 1}, \"autotypenumbers\": \"strict\", \"coloraxis\": {\"colorbar\": {\"outlinewidth\": 0, \"ticks\": \"\"}}, \"colorscale\": {\"diverging\": [[0, \"#8e0152\"], [0.1, \"#c51b7d\"], [0.2, \"#de77ae\"], [0.3, \"#f1b6da\"], [0.4, \"#fde0ef\"], [0.5, \"#f7f7f7\"], [0.6, \"#e6f5d0\"], [0.7, \"#b8e186\"], [0.8, \"#7fbc41\"], [0.9, \"#4d9221\"], [1, \"#276419\"]], \"sequential\": [[0.0, \"#0d0887\"], [0.1111111111111111, \"#46039f\"], [0.2222222222222222, \"#7201a8\"], [0.3333333333333333, \"#9c179e\"], [0.4444444444444444, \"#bd3786\"], [0.5555555555555556, \"#d8576b\"], [0.6666666666666666, \"#ed7953\"], [0.7777777777777778, \"#fb9f3a\"], [0.8888888888888888, \"#fdca26\"], [1.0, \"#f0f921\"]], \"sequentialminus\": [[0.0, \"#0d0887\"], [0.1111111111111111, \"#46039f\"], [0.2222222222222222, \"#7201a8\"], [0.3333333333333333, \"#9c179e\"], [0.4444444444444444, \"#bd3786\"], [0.5555555555555556, \"#d8576b\"], [0.6666666666666666, \"#ed7953\"], [0.7777777777777778, \"#fb9f3a\"], [0.8888888888888888, \"#fdca26\"], [1.0, \"#f0f921\"]]}, \"colorway\": [\"#636efa\", \"#EF553B\", \"#00cc96\", \"#ab63fa\", \"#FFA15A\", \"#19d3f3\", \"#FF6692\", \"#B6E880\", \"#FF97FF\", \"#FECB52\"], \"font\": {\"color\": \"#2a3f5f\"}, \"geo\": {\"bgcolor\": \"white\", \"lakecolor\": \"white\", \"landcolor\": \"#E5ECF6\", \"showlakes\": true, \"showland\": true, \"subunitcolor\": \"white\"}, \"hoverlabel\": {\"align\": \"left\"}, \"hovermode\": \"closest\", \"mapbox\": {\"style\": \"light\"}, \"paper_bgcolor\": \"white\", \"plot_bgcolor\": \"#E5ECF6\", \"polar\": {\"angularaxis\": {\"gridcolor\": \"white\", \"linecolor\": \"white\", \"ticks\": \"\"}, \"bgcolor\": \"#E5ECF6\", \"radialaxis\": {\"gridcolor\": \"white\", \"linecolor\": \"white\", \"ticks\": \"\"}}, \"scene\": {\"xaxis\": {\"backgroundcolor\": \"#E5ECF6\", \"gridcolor\": \"white\", \"gridwidth\": 2, \"linecolor\": \"white\", \"showbackground\": true, \"ticks\": \"\", \"zerolinecolor\": \"white\"}, \"yaxis\": {\"backgroundcolor\": \"#E5ECF6\", \"gridcolor\": \"white\", \"gridwidth\": 2, \"linecolor\": \"white\", \"showbackground\": true, \"ticks\": \"\", \"zerolinecolor\": \"white\"}, \"zaxis\": {\"backgroundcolor\": \"#E5ECF6\", \"gridcolor\": \"white\", \"gridwidth\": 2, \"linecolor\": \"white\", \"showbackground\": true, \"ticks\": \"\", \"zerolinecolor\": \"white\"}}, \"shapedefaults\": {\"line\": {\"color\": \"#2a3f5f\"}}, \"ternary\": {\"aaxis\": {\"gridcolor\": \"white\", \"linecolor\": \"white\", \"ticks\": \"\"}, \"baxis\": {\"gridcolor\": \"white\", \"linecolor\": \"white\", \"ticks\": \"\"}, \"bgcolor\": \"#E5ECF6\", \"caxis\": {\"gridcolor\": \"white\", \"linecolor\": \"white\", \"ticks\": \"\"}}, \"title\": {\"x\": 0.05}, \"xaxis\": {\"automargin\": true, \"gridcolor\": \"white\", \"linecolor\": \"white\", \"ticks\": \"\", \"title\": {\"standoff\": 15}, \"zerolinecolor\": \"white\", \"zerolinewidth\": 2}, \"yaxis\": {\"automargin\": true, \"gridcolor\": \"white\", \"linecolor\": \"white\", \"ticks\": \"\", \"title\": {\"standoff\": 15}, \"zerolinecolor\": \"white\", \"zerolinewidth\": 2}}}, \"title\": {\"font\": {\"color\": \"#4D5663\"}, \"text\": \"Cereal Production of China, India, Italy, Japan, Russia\"}, \"xaxis\": {\"gridcolor\": \"#E1E5ED\", \"showgrid\": true, \"tickfont\": {\"color\": \"#4D5663\"}, \"title\": {\"font\": {\"color\": \"#4D5663\"}, \"text\": \"Year\"}, \"zerolinecolor\": \"#E1E5ED\"}, \"yaxis\": {\"gridcolor\": \"#E1E5ED\", \"showgrid\": true, \"tickfont\": {\"color\": \"#4D5663\"}, \"title\": {\"font\": {\"color\": \"#4D5663\"}, \"text\": \"Metric Tons\"}, \"zerolinecolor\": \"#E1E5ED\"}},                        {\"showLink\": true, \"linkText\": \"Export to plot.ly\", \"plotlyServerURL\": \"https://plot.ly\", \"responsive\": true}                    ).then(function(){\n",
       "                            \n",
       "var gd = document.getElementById('287b6b02-7ab7-4049-b148-059fbf06272b');\n",
       "var x = new MutationObserver(function (mutations, observer) {{\n",
       "        var display = window.getComputedStyle(gd).display;\n",
       "        if (!display || display === 'none') {{\n",
       "            console.log([gd, 'removed!']);\n",
       "            Plotly.purge(gd);\n",
       "            observer.disconnect();\n",
       "        }}\n",
       "}});\n",
       "\n",
       "// Listen for the removal of the full notebook cells\n",
       "var notebookContainer = gd.closest('#notebook-container');\n",
       "if (notebookContainer) {{\n",
       "    x.observe(notebookContainer, {childList: true});\n",
       "}}\n",
       "\n",
       "// Listen for the clearing of the current output cell\n",
       "var outputEl = gd.closest('.output');\n",
       "if (outputEl) {{\n",
       "    x.observe(outputEl, {childList: true});\n",
       "}}\n",
       "\n",
       "                        })                };                });            </script>        </div>"
      ]
     },
     "metadata": {},
     "output_type": "display_data"
    }
   ],
   "source": [
    "vars = {\"AG.PRD.CREL.MT\":\"Cereal production\"}\n",
    "\n",
    "# Use this to find top producers:\n",
    "#big_producers = cereals.query('date==2000').squeeze().sort_values(ascending=False)\n",
    "#big_producers.head(20)\n",
    "\n",
    "use=[\"CHN\",\"IND\",\"JPN\",\"ITA\",\"RUS\"]\n",
    "\n",
    "cereals = fix_date_index(wbdata.get_dataframe(vars,country=use)).squeeze().unstack('country')\n",
    "\n",
    "cereals.iplot(xTitle=\"Year\",yTitle=\"Metric Tons\",\n",
    "              title=\"Cereal Production of China, India, Italy, Japan, Russia\")"
   ]
  },
  {
   "cell_type": "markdown",
   "metadata": {},
   "source": [
    "## Population"
   ]
  },
  {
   "cell_type": "code",
   "execution_count": 15,
   "metadata": {},
   "outputs": [
    {
     "data": {
      "application/vnd.plotly.v1+json": {
       "config": {
        "linkText": "Export to plot.ly",
        "plotlyServerURL": "https://plot.ly",
        "showLink": true
       },
       "data": [
        {
         "line": {
          "color": "rgba(255, 153, 51, 1.0)",
          "dash": "solid",
          "shape": "linear",
          "width": 1.3
         },
         "mode": "lines",
         "name": "China",
         "text": "",
         "type": "scatter",
         "x": [
          1960,
          1961,
          1962,
          1963,
          1964,
          1965,
          1966,
          1967,
          1968,
          1969,
          1970,
          1971,
          1972,
          1973,
          1974,
          1975,
          1976,
          1977,
          1978,
          1979,
          1980,
          1981,
          1982,
          1983,
          1984,
          1985,
          1986,
          1987,
          1988,
          1989,
          1990,
          1991,
          1992,
          1993,
          1994,
          1995,
          1996,
          1997,
          1998,
          1999,
          2000,
          2001,
          2002,
          2003,
          2004,
          2005,
          2006,
          2007,
          2008,
          2009,
          2010,
          2011,
          2012,
          2013,
          2014,
          2015,
          2016,
          2017,
          2018,
          2019,
          2020
         ],
         "y": [
          667070000,
          660330000,
          665770000,
          682335000,
          698355000,
          715185000,
          735400000,
          754550000,
          774510000,
          796025000,
          818315000,
          841105000,
          862030000,
          881940000,
          900350000,
          916395000,
          930685000,
          943455000,
          956165000,
          969005000,
          981235000,
          993885000,
          1008630000,
          1023310000,
          1036825000,
          1051040000,
          1066790000,
          1084035000,
          1101630000,
          1118650000,
          1135185000,
          1150780000,
          1164970000,
          1178440000,
          1191835000,
          1204855000,
          1217550000,
          1230075000,
          1241935000,
          1252735000,
          1262645000,
          1271850000,
          1280400000,
          1288400000,
          1296075000,
          1303720000,
          1311020000,
          1317885000,
          1324655000,
          1331260000,
          1337705000,
          1344130000,
          1350695000,
          1357380000,
          1364270000,
          1371220000,
          1378665000,
          1386395000,
          1392730000,
          1397715000,
          ""
         ]
        },
        {
         "line": {
          "color": "rgba(55, 128, 191, 1.0)",
          "dash": "solid",
          "shape": "linear",
          "width": 1.3
         },
         "mode": "lines",
         "name": "India",
         "text": "",
         "type": "scatter",
         "x": [
          1960,
          1961,
          1962,
          1963,
          1964,
          1965,
          1966,
          1967,
          1968,
          1969,
          1970,
          1971,
          1972,
          1973,
          1974,
          1975,
          1976,
          1977,
          1978,
          1979,
          1980,
          1981,
          1982,
          1983,
          1984,
          1985,
          1986,
          1987,
          1988,
          1989,
          1990,
          1991,
          1992,
          1993,
          1994,
          1995,
          1996,
          1997,
          1998,
          1999,
          2000,
          2001,
          2002,
          2003,
          2004,
          2005,
          2006,
          2007,
          2008,
          2009,
          2010,
          2011,
          2012,
          2013,
          2014,
          2015,
          2016,
          2017,
          2018,
          2019,
          2020
         ],
         "y": [
          450547679,
          459642165,
          469077190,
          478825608,
          488848135,
          499123324,
          509631500,
          520400576,
          531513824,
          543084336,
          555189792,
          567868018,
          581087256,
          594770134,
          608802600,
          623102897,
          637630087,
          652408776,
          667499806,
          682995354,
          698952844,
          715384993,
          732239504,
          749428958,
          766833410,
          784360008,
          801975244,
          819682102,
          837468930,
          855334678,
          873277798,
          891273209,
          909307016,
          927403860,
          945601831,
          963922588,
          982365243,
          1000900030,
          1019483581,
          1038058156,
          1056575549,
          1075000085,
          1093317189,
          1111523144,
          1129623456,
          1147609927,
          1165486291,
          1183209472,
          1200669765,
          1217726215,
          1234281170,
          1250288729,
          1265782790,
          1280846129,
          1295604184,
          1310152403,
          1324509589,
          1338658835,
          1352617328,
          1366417754,
          ""
         ]
        },
        {
         "line": {
          "color": "rgba(50, 171, 96, 1.0)",
          "dash": "solid",
          "shape": "linear",
          "width": 1.3
         },
         "mode": "lines",
         "name": "Italy",
         "text": "",
         "type": "scatter",
         "x": [
          1960,
          1961,
          1962,
          1963,
          1964,
          1965,
          1966,
          1967,
          1968,
          1969,
          1970,
          1971,
          1972,
          1973,
          1974,
          1975,
          1976,
          1977,
          1978,
          1979,
          1980,
          1981,
          1982,
          1983,
          1984,
          1985,
          1986,
          1987,
          1988,
          1989,
          1990,
          1991,
          1992,
          1993,
          1994,
          1995,
          1996,
          1997,
          1998,
          1999,
          2000,
          2001,
          2002,
          2003,
          2004,
          2005,
          2006,
          2007,
          2008,
          2009,
          2010,
          2011,
          2012,
          2013,
          2014,
          2015,
          2016,
          2017,
          2018,
          2019,
          2020
         ],
         "y": [
          50199700,
          50536350,
          50879450,
          51252000,
          51675350,
          52112350,
          52519000,
          52900500,
          53235750,
          53537950,
          53821850,
          54073490,
          54381345,
          54751406,
          55110868,
          55441001,
          55718260,
          55955411,
          56155143,
          56317749,
          56433883,
          56501675,
          56543548,
          56564074,
          56576718,
          56593071,
          56596155,
          56601931,
          56629288,
          56671781,
          56719240,
          56758521,
          56797087,
          56831821,
          56843400,
          56844303,
          56860281,
          56890372,
          56906744,
          56916317,
          56942108,
          56974100,
          57059007,
          57313203,
          57685327,
          57969484,
          58143979,
          58438310,
          58826731,
          59095365,
          59277417,
          59379449,
          59539717,
          60233948,
          60789140,
          60730582,
          60627498,
          60536709,
          60421760,
          60297396,
          ""
         ]
        },
        {
         "line": {
          "color": "rgba(128, 0, 128, 1.0)",
          "dash": "solid",
          "shape": "linear",
          "width": 1.3
         },
         "mode": "lines",
         "name": "Japan",
         "text": "",
         "type": "scatter",
         "x": [
          1960,
          1961,
          1962,
          1963,
          1964,
          1965,
          1966,
          1967,
          1968,
          1969,
          1970,
          1971,
          1972,
          1973,
          1974,
          1975,
          1976,
          1977,
          1978,
          1979,
          1980,
          1981,
          1982,
          1983,
          1984,
          1985,
          1986,
          1987,
          1988,
          1989,
          1990,
          1991,
          1992,
          1993,
          1994,
          1995,
          1996,
          1997,
          1998,
          1999,
          2000,
          2001,
          2002,
          2003,
          2004,
          2005,
          2006,
          2007,
          2008,
          2009,
          2010,
          2011,
          2012,
          2013,
          2014,
          2015,
          2016,
          2017,
          2018,
          2019,
          2020
         ],
         "y": [
          92500572,
          94943000,
          95832000,
          96812000,
          97826000,
          98883000,
          99790000,
          100725000,
          101061000,
          103172000,
          104345000,
          105697000,
          107188000,
          108079000,
          110162000,
          111940000,
          112771000,
          113863000,
          114898000,
          115870000,
          116782000,
          117648000,
          118449000,
          119259000,
          120018000,
          120754000,
          121492000,
          122091000,
          122613000,
          123116000,
          123537000,
          123921000,
          124229000,
          124536000,
          124961000,
          125439000,
          125757000,
          126057000,
          126400000,
          126631000,
          126843000,
          127149000,
          127445000,
          127718000,
          127761000,
          127773000,
          127854000,
          128001000,
          128063000,
          128047000,
          128070000,
          127833000,
          127629000,
          127445000,
          127276000,
          127141000,
          126994511,
          126785797,
          126529100,
          126264931,
          ""
         ]
        },
        {
         "line": {
          "color": "rgba(219, 64, 82, 1.0)",
          "dash": "solid",
          "shape": "linear",
          "width": 1.3
         },
         "mode": "lines",
         "name": "Russian Federation",
         "text": "",
         "type": "scatter",
         "x": [
          1960,
          1961,
          1962,
          1963,
          1964,
          1965,
          1966,
          1967,
          1968,
          1969,
          1970,
          1971,
          1972,
          1973,
          1974,
          1975,
          1976,
          1977,
          1978,
          1979,
          1980,
          1981,
          1982,
          1983,
          1984,
          1985,
          1986,
          1987,
          1988,
          1989,
          1990,
          1991,
          1992,
          1993,
          1994,
          1995,
          1996,
          1997,
          1998,
          1999,
          2000,
          2001,
          2002,
          2003,
          2004,
          2005,
          2006,
          2007,
          2008,
          2009,
          2010,
          2011,
          2012,
          2013,
          2014,
          2015,
          2016,
          2017,
          2018,
          2019,
          2020
         ],
         "y": [
          119897000,
          121236000,
          122591000,
          123960000,
          125345000,
          126745000,
          127468000,
          128196000,
          128928000,
          129664000,
          130404000,
          131155000,
          131909000,
          132669000,
          133432000,
          134200000,
          135147000,
          136100000,
          137060000,
          138027000,
          139010000,
          139941000,
          140823000,
          141668000,
          142745000,
          143858000,
          144894000,
          145908000,
          146857000,
          147721000,
          147969407,
          148394216,
          148538197,
          148458777,
          148407912,
          148375787,
          148160129,
          147915361,
          147670784,
          147214776,
          146596869,
          145976482,
          145306497,
          144648618,
          144067316,
          143518814,
          143049637,
          142805114,
          142742366,
          142785349,
          142849468,
          142960908,
          143201721,
          143506995,
          143819666,
          144096870,
          144342396,
          144496740,
          144477860,
          144373535,
          ""
         ]
        }
       ],
       "layout": {
        "legend": {
         "bgcolor": "#F5F6F9",
         "font": {
          "color": "#4D5663"
         }
        },
        "paper_bgcolor": "#F5F6F9",
        "plot_bgcolor": "#F5F6F9",
        "template": {
         "data": {
          "bar": [
           {
            "error_x": {
             "color": "#2a3f5f"
            },
            "error_y": {
             "color": "#2a3f5f"
            },
            "marker": {
             "line": {
              "color": "#E5ECF6",
              "width": 0.5
             }
            },
            "type": "bar"
           }
          ],
          "barpolar": [
           {
            "marker": {
             "line": {
              "color": "#E5ECF6",
              "width": 0.5
             }
            },
            "type": "barpolar"
           }
          ],
          "carpet": [
           {
            "aaxis": {
             "endlinecolor": "#2a3f5f",
             "gridcolor": "white",
             "linecolor": "white",
             "minorgridcolor": "white",
             "startlinecolor": "#2a3f5f"
            },
            "baxis": {
             "endlinecolor": "#2a3f5f",
             "gridcolor": "white",
             "linecolor": "white",
             "minorgridcolor": "white",
             "startlinecolor": "#2a3f5f"
            },
            "type": "carpet"
           }
          ],
          "choropleth": [
           {
            "colorbar": {
             "outlinewidth": 0,
             "ticks": ""
            },
            "type": "choropleth"
           }
          ],
          "contour": [
           {
            "colorbar": {
             "outlinewidth": 0,
             "ticks": ""
            },
            "colorscale": [
             [
              0,
              "#0d0887"
             ],
             [
              0.1111111111111111,
              "#46039f"
             ],
             [
              0.2222222222222222,
              "#7201a8"
             ],
             [
              0.3333333333333333,
              "#9c179e"
             ],
             [
              0.4444444444444444,
              "#bd3786"
             ],
             [
              0.5555555555555556,
              "#d8576b"
             ],
             [
              0.6666666666666666,
              "#ed7953"
             ],
             [
              0.7777777777777778,
              "#fb9f3a"
             ],
             [
              0.8888888888888888,
              "#fdca26"
             ],
             [
              1,
              "#f0f921"
             ]
            ],
            "type": "contour"
           }
          ],
          "contourcarpet": [
           {
            "colorbar": {
             "outlinewidth": 0,
             "ticks": ""
            },
            "type": "contourcarpet"
           }
          ],
          "heatmap": [
           {
            "colorbar": {
             "outlinewidth": 0,
             "ticks": ""
            },
            "colorscale": [
             [
              0,
              "#0d0887"
             ],
             [
              0.1111111111111111,
              "#46039f"
             ],
             [
              0.2222222222222222,
              "#7201a8"
             ],
             [
              0.3333333333333333,
              "#9c179e"
             ],
             [
              0.4444444444444444,
              "#bd3786"
             ],
             [
              0.5555555555555556,
              "#d8576b"
             ],
             [
              0.6666666666666666,
              "#ed7953"
             ],
             [
              0.7777777777777778,
              "#fb9f3a"
             ],
             [
              0.8888888888888888,
              "#fdca26"
             ],
             [
              1,
              "#f0f921"
             ]
            ],
            "type": "heatmap"
           }
          ],
          "heatmapgl": [
           {
            "colorbar": {
             "outlinewidth": 0,
             "ticks": ""
            },
            "colorscale": [
             [
              0,
              "#0d0887"
             ],
             [
              0.1111111111111111,
              "#46039f"
             ],
             [
              0.2222222222222222,
              "#7201a8"
             ],
             [
              0.3333333333333333,
              "#9c179e"
             ],
             [
              0.4444444444444444,
              "#bd3786"
             ],
             [
              0.5555555555555556,
              "#d8576b"
             ],
             [
              0.6666666666666666,
              "#ed7953"
             ],
             [
              0.7777777777777778,
              "#fb9f3a"
             ],
             [
              0.8888888888888888,
              "#fdca26"
             ],
             [
              1,
              "#f0f921"
             ]
            ],
            "type": "heatmapgl"
           }
          ],
          "histogram": [
           {
            "marker": {
             "colorbar": {
              "outlinewidth": 0,
              "ticks": ""
             }
            },
            "type": "histogram"
           }
          ],
          "histogram2d": [
           {
            "colorbar": {
             "outlinewidth": 0,
             "ticks": ""
            },
            "colorscale": [
             [
              0,
              "#0d0887"
             ],
             [
              0.1111111111111111,
              "#46039f"
             ],
             [
              0.2222222222222222,
              "#7201a8"
             ],
             [
              0.3333333333333333,
              "#9c179e"
             ],
             [
              0.4444444444444444,
              "#bd3786"
             ],
             [
              0.5555555555555556,
              "#d8576b"
             ],
             [
              0.6666666666666666,
              "#ed7953"
             ],
             [
              0.7777777777777778,
              "#fb9f3a"
             ],
             [
              0.8888888888888888,
              "#fdca26"
             ],
             [
              1,
              "#f0f921"
             ]
            ],
            "type": "histogram2d"
           }
          ],
          "histogram2dcontour": [
           {
            "colorbar": {
             "outlinewidth": 0,
             "ticks": ""
            },
            "colorscale": [
             [
              0,
              "#0d0887"
             ],
             [
              0.1111111111111111,
              "#46039f"
             ],
             [
              0.2222222222222222,
              "#7201a8"
             ],
             [
              0.3333333333333333,
              "#9c179e"
             ],
             [
              0.4444444444444444,
              "#bd3786"
             ],
             [
              0.5555555555555556,
              "#d8576b"
             ],
             [
              0.6666666666666666,
              "#ed7953"
             ],
             [
              0.7777777777777778,
              "#fb9f3a"
             ],
             [
              0.8888888888888888,
              "#fdca26"
             ],
             [
              1,
              "#f0f921"
             ]
            ],
            "type": "histogram2dcontour"
           }
          ],
          "mesh3d": [
           {
            "colorbar": {
             "outlinewidth": 0,
             "ticks": ""
            },
            "type": "mesh3d"
           }
          ],
          "parcoords": [
           {
            "line": {
             "colorbar": {
              "outlinewidth": 0,
              "ticks": ""
             }
            },
            "type": "parcoords"
           }
          ],
          "pie": [
           {
            "automargin": true,
            "type": "pie"
           }
          ],
          "scatter": [
           {
            "marker": {
             "colorbar": {
              "outlinewidth": 0,
              "ticks": ""
             }
            },
            "type": "scatter"
           }
          ],
          "scatter3d": [
           {
            "line": {
             "colorbar": {
              "outlinewidth": 0,
              "ticks": ""
             }
            },
            "marker": {
             "colorbar": {
              "outlinewidth": 0,
              "ticks": ""
             }
            },
            "type": "scatter3d"
           }
          ],
          "scattercarpet": [
           {
            "marker": {
             "colorbar": {
              "outlinewidth": 0,
              "ticks": ""
             }
            },
            "type": "scattercarpet"
           }
          ],
          "scattergeo": [
           {
            "marker": {
             "colorbar": {
              "outlinewidth": 0,
              "ticks": ""
             }
            },
            "type": "scattergeo"
           }
          ],
          "scattergl": [
           {
            "marker": {
             "colorbar": {
              "outlinewidth": 0,
              "ticks": ""
             }
            },
            "type": "scattergl"
           }
          ],
          "scattermapbox": [
           {
            "marker": {
             "colorbar": {
              "outlinewidth": 0,
              "ticks": ""
             }
            },
            "type": "scattermapbox"
           }
          ],
          "scatterpolar": [
           {
            "marker": {
             "colorbar": {
              "outlinewidth": 0,
              "ticks": ""
             }
            },
            "type": "scatterpolar"
           }
          ],
          "scatterpolargl": [
           {
            "marker": {
             "colorbar": {
              "outlinewidth": 0,
              "ticks": ""
             }
            },
            "type": "scatterpolargl"
           }
          ],
          "scatterternary": [
           {
            "marker": {
             "colorbar": {
              "outlinewidth": 0,
              "ticks": ""
             }
            },
            "type": "scatterternary"
           }
          ],
          "surface": [
           {
            "colorbar": {
             "outlinewidth": 0,
             "ticks": ""
            },
            "colorscale": [
             [
              0,
              "#0d0887"
             ],
             [
              0.1111111111111111,
              "#46039f"
             ],
             [
              0.2222222222222222,
              "#7201a8"
             ],
             [
              0.3333333333333333,
              "#9c179e"
             ],
             [
              0.4444444444444444,
              "#bd3786"
             ],
             [
              0.5555555555555556,
              "#d8576b"
             ],
             [
              0.6666666666666666,
              "#ed7953"
             ],
             [
              0.7777777777777778,
              "#fb9f3a"
             ],
             [
              0.8888888888888888,
              "#fdca26"
             ],
             [
              1,
              "#f0f921"
             ]
            ],
            "type": "surface"
           }
          ],
          "table": [
           {
            "cells": {
             "fill": {
              "color": "#EBF0F8"
             },
             "line": {
              "color": "white"
             }
            },
            "header": {
             "fill": {
              "color": "#C8D4E3"
             },
             "line": {
              "color": "white"
             }
            },
            "type": "table"
           }
          ]
         },
         "layout": {
          "annotationdefaults": {
           "arrowcolor": "#2a3f5f",
           "arrowhead": 0,
           "arrowwidth": 1
          },
          "autotypenumbers": "strict",
          "coloraxis": {
           "colorbar": {
            "outlinewidth": 0,
            "ticks": ""
           }
          },
          "colorscale": {
           "diverging": [
            [
             0,
             "#8e0152"
            ],
            [
             0.1,
             "#c51b7d"
            ],
            [
             0.2,
             "#de77ae"
            ],
            [
             0.3,
             "#f1b6da"
            ],
            [
             0.4,
             "#fde0ef"
            ],
            [
             0.5,
             "#f7f7f7"
            ],
            [
             0.6,
             "#e6f5d0"
            ],
            [
             0.7,
             "#b8e186"
            ],
            [
             0.8,
             "#7fbc41"
            ],
            [
             0.9,
             "#4d9221"
            ],
            [
             1,
             "#276419"
            ]
           ],
           "sequential": [
            [
             0,
             "#0d0887"
            ],
            [
             0.1111111111111111,
             "#46039f"
            ],
            [
             0.2222222222222222,
             "#7201a8"
            ],
            [
             0.3333333333333333,
             "#9c179e"
            ],
            [
             0.4444444444444444,
             "#bd3786"
            ],
            [
             0.5555555555555556,
             "#d8576b"
            ],
            [
             0.6666666666666666,
             "#ed7953"
            ],
            [
             0.7777777777777778,
             "#fb9f3a"
            ],
            [
             0.8888888888888888,
             "#fdca26"
            ],
            [
             1,
             "#f0f921"
            ]
           ],
           "sequentialminus": [
            [
             0,
             "#0d0887"
            ],
            [
             0.1111111111111111,
             "#46039f"
            ],
            [
             0.2222222222222222,
             "#7201a8"
            ],
            [
             0.3333333333333333,
             "#9c179e"
            ],
            [
             0.4444444444444444,
             "#bd3786"
            ],
            [
             0.5555555555555556,
             "#d8576b"
            ],
            [
             0.6666666666666666,
             "#ed7953"
            ],
            [
             0.7777777777777778,
             "#fb9f3a"
            ],
            [
             0.8888888888888888,
             "#fdca26"
            ],
            [
             1,
             "#f0f921"
            ]
           ]
          },
          "colorway": [
           "#636efa",
           "#EF553B",
           "#00cc96",
           "#ab63fa",
           "#FFA15A",
           "#19d3f3",
           "#FF6692",
           "#B6E880",
           "#FF97FF",
           "#FECB52"
          ],
          "font": {
           "color": "#2a3f5f"
          },
          "geo": {
           "bgcolor": "white",
           "lakecolor": "white",
           "landcolor": "#E5ECF6",
           "showlakes": true,
           "showland": true,
           "subunitcolor": "white"
          },
          "hoverlabel": {
           "align": "left"
          },
          "hovermode": "closest",
          "mapbox": {
           "style": "light"
          },
          "paper_bgcolor": "white",
          "plot_bgcolor": "#E5ECF6",
          "polar": {
           "angularaxis": {
            "gridcolor": "white",
            "linecolor": "white",
            "ticks": ""
           },
           "bgcolor": "#E5ECF6",
           "radialaxis": {
            "gridcolor": "white",
            "linecolor": "white",
            "ticks": ""
           }
          },
          "scene": {
           "xaxis": {
            "backgroundcolor": "#E5ECF6",
            "gridcolor": "white",
            "gridwidth": 2,
            "linecolor": "white",
            "showbackground": true,
            "ticks": "",
            "zerolinecolor": "white"
           },
           "yaxis": {
            "backgroundcolor": "#E5ECF6",
            "gridcolor": "white",
            "gridwidth": 2,
            "linecolor": "white",
            "showbackground": true,
            "ticks": "",
            "zerolinecolor": "white"
           },
           "zaxis": {
            "backgroundcolor": "#E5ECF6",
            "gridcolor": "white",
            "gridwidth": 2,
            "linecolor": "white",
            "showbackground": true,
            "ticks": "",
            "zerolinecolor": "white"
           }
          },
          "shapedefaults": {
           "line": {
            "color": "#2a3f5f"
           }
          },
          "ternary": {
           "aaxis": {
            "gridcolor": "white",
            "linecolor": "white",
            "ticks": ""
           },
           "baxis": {
            "gridcolor": "white",
            "linecolor": "white",
            "ticks": ""
           },
           "bgcolor": "#E5ECF6",
           "caxis": {
            "gridcolor": "white",
            "linecolor": "white",
            "ticks": ""
           }
          },
          "title": {
           "x": 0.05
          },
          "xaxis": {
           "automargin": true,
           "gridcolor": "white",
           "linecolor": "white",
           "ticks": "",
           "title": {
            "standoff": 15
           },
           "zerolinecolor": "white",
           "zerolinewidth": 2
          },
          "yaxis": {
           "automargin": true,
           "gridcolor": "white",
           "linecolor": "white",
           "ticks": "",
           "title": {
            "standoff": 15
           },
           "zerolinecolor": "white",
           "zerolinewidth": 2
          }
         }
        },
        "title": {
         "font": {
          "color": "#4D5663"
         },
         "text": "Population of China, India, Italy, Japan, Russia"
        },
        "xaxis": {
         "gridcolor": "#E1E5ED",
         "showgrid": true,
         "tickfont": {
          "color": "#4D5663"
         },
         "title": {
          "font": {
           "color": "#4D5663"
          },
          "text": "Year"
         },
         "zerolinecolor": "#E1E5ED"
        },
        "yaxis": {
         "gridcolor": "#E1E5ED",
         "showgrid": true,
         "tickfont": {
          "color": "#4D5663"
         },
         "title": {
          "font": {
           "color": "#4D5663"
          },
          "text": "Population (billions)"
         },
         "zerolinecolor": "#E1E5ED"
        }
       }
      },
      "text/html": [
       "<div>                            <div id=\"5d1ac287-8bc2-499d-b3ac-6b88788876b9\" class=\"plotly-graph-div\" style=\"height:525px; width:100%;\"></div>            <script type=\"text/javascript\">                require([\"plotly\"], function(Plotly) {                    window.PLOTLYENV=window.PLOTLYENV || {};\n",
       "                    window.PLOTLYENV.BASE_URL='https://plot.ly';                                    if (document.getElementById(\"5d1ac287-8bc2-499d-b3ac-6b88788876b9\")) {                    Plotly.newPlot(                        \"5d1ac287-8bc2-499d-b3ac-6b88788876b9\",                        [{\"line\": {\"color\": \"rgba(255, 153, 51, 1.0)\", \"dash\": \"solid\", \"shape\": \"linear\", \"width\": 1.3}, \"mode\": \"lines\", \"name\": \"China\", \"text\": \"\", \"type\": \"scatter\", \"x\": [1960, 1961, 1962, 1963, 1964, 1965, 1966, 1967, 1968, 1969, 1970, 1971, 1972, 1973, 1974, 1975, 1976, 1977, 1978, 1979, 1980, 1981, 1982, 1983, 1984, 1985, 1986, 1987, 1988, 1989, 1990, 1991, 1992, 1993, 1994, 1995, 1996, 1997, 1998, 1999, 2000, 2001, 2002, 2003, 2004, 2005, 2006, 2007, 2008, 2009, 2010, 2011, 2012, 2013, 2014, 2015, 2016, 2017, 2018, 2019, 2020], \"y\": [667070000.0, 660330000.0, 665770000.0, 682335000.0, 698355000.0, 715185000.0, 735400000.0, 754550000.0, 774510000.0, 796025000.0, 818315000.0, 841105000.0, 862030000.0, 881940000.0, 900350000.0, 916395000.0, 930685000.0, 943455000.0, 956165000.0, 969005000.0, 981235000.0, 993885000.0, 1008630000.0, 1023310000.0, 1036825000.0, 1051040000.0, 1066790000.0, 1084035000.0, 1101630000.0, 1118650000.0, 1135185000.0, 1150780000.0, 1164970000.0, 1178440000.0, 1191835000.0, 1204855000.0, 1217550000.0, 1230075000.0, 1241935000.0, 1252735000.0, 1262645000.0, 1271850000.0, 1280400000.0, 1288400000.0, 1296075000.0, 1303720000.0, 1311020000.0, 1317885000.0, 1324655000.0, 1331260000.0, 1337705000.0, 1344130000.0, 1350695000.0, 1357380000.0, 1364270000.0, 1371220000.0, 1378665000.0, 1386395000.0, 1392730000.0, 1397715000.0, \"\"]}, {\"line\": {\"color\": \"rgba(55, 128, 191, 1.0)\", \"dash\": \"solid\", \"shape\": \"linear\", \"width\": 1.3}, \"mode\": \"lines\", \"name\": \"India\", \"text\": \"\", \"type\": \"scatter\", \"x\": [1960, 1961, 1962, 1963, 1964, 1965, 1966, 1967, 1968, 1969, 1970, 1971, 1972, 1973, 1974, 1975, 1976, 1977, 1978, 1979, 1980, 1981, 1982, 1983, 1984, 1985, 1986, 1987, 1988, 1989, 1990, 1991, 1992, 1993, 1994, 1995, 1996, 1997, 1998, 1999, 2000, 2001, 2002, 2003, 2004, 2005, 2006, 2007, 2008, 2009, 2010, 2011, 2012, 2013, 2014, 2015, 2016, 2017, 2018, 2019, 2020], \"y\": [450547679.0, 459642165.0, 469077190.0, 478825608.0, 488848135.0, 499123324.0, 509631500.0, 520400576.0, 531513824.0, 543084336.0, 555189792.0, 567868018.0, 581087256.0, 594770134.0, 608802600.0, 623102897.0, 637630087.0, 652408776.0, 667499806.0, 682995354.0, 698952844.0, 715384993.0, 732239504.0, 749428958.0, 766833410.0, 784360008.0, 801975244.0, 819682102.0, 837468930.0, 855334678.0, 873277798.0, 891273209.0, 909307016.0, 927403860.0, 945601831.0, 963922588.0, 982365243.0, 1000900030.0, 1019483581.0, 1038058156.0, 1056575549.0, 1075000085.0, 1093317189.0, 1111523144.0, 1129623456.0, 1147609927.0, 1165486291.0, 1183209472.0, 1200669765.0, 1217726215.0, 1234281170.0, 1250288729.0, 1265782790.0, 1280846129.0, 1295604184.0, 1310152403.0, 1324509589.0, 1338658835.0, 1352617328.0, 1366417754.0, \"\"]}, {\"line\": {\"color\": \"rgba(50, 171, 96, 1.0)\", \"dash\": \"solid\", \"shape\": \"linear\", \"width\": 1.3}, \"mode\": \"lines\", \"name\": \"Italy\", \"text\": \"\", \"type\": \"scatter\", \"x\": [1960, 1961, 1962, 1963, 1964, 1965, 1966, 1967, 1968, 1969, 1970, 1971, 1972, 1973, 1974, 1975, 1976, 1977, 1978, 1979, 1980, 1981, 1982, 1983, 1984, 1985, 1986, 1987, 1988, 1989, 1990, 1991, 1992, 1993, 1994, 1995, 1996, 1997, 1998, 1999, 2000, 2001, 2002, 2003, 2004, 2005, 2006, 2007, 2008, 2009, 2010, 2011, 2012, 2013, 2014, 2015, 2016, 2017, 2018, 2019, 2020], \"y\": [50199700.0, 50536350.0, 50879450.0, 51252000.0, 51675350.0, 52112350.0, 52519000.0, 52900500.0, 53235750.0, 53537950.0, 53821850.0, 54073490.0, 54381345.0, 54751406.0, 55110868.0, 55441001.0, 55718260.0, 55955411.0, 56155143.0, 56317749.0, 56433883.0, 56501675.0, 56543548.0, 56564074.0, 56576718.0, 56593071.0, 56596155.0, 56601931.0, 56629288.0, 56671781.0, 56719240.0, 56758521.0, 56797087.0, 56831821.0, 56843400.0, 56844303.0, 56860281.0, 56890372.0, 56906744.0, 56916317.0, 56942108.0, 56974100.0, 57059007.0, 57313203.0, 57685327.0, 57969484.0, 58143979.0, 58438310.0, 58826731.0, 59095365.0, 59277417.0, 59379449.0, 59539717.0, 60233948.0, 60789140.0, 60730582.0, 60627498.0, 60536709.0, 60421760.0, 60297396.0, \"\"]}, {\"line\": {\"color\": \"rgba(128, 0, 128, 1.0)\", \"dash\": \"solid\", \"shape\": \"linear\", \"width\": 1.3}, \"mode\": \"lines\", \"name\": \"Japan\", \"text\": \"\", \"type\": \"scatter\", \"x\": [1960, 1961, 1962, 1963, 1964, 1965, 1966, 1967, 1968, 1969, 1970, 1971, 1972, 1973, 1974, 1975, 1976, 1977, 1978, 1979, 1980, 1981, 1982, 1983, 1984, 1985, 1986, 1987, 1988, 1989, 1990, 1991, 1992, 1993, 1994, 1995, 1996, 1997, 1998, 1999, 2000, 2001, 2002, 2003, 2004, 2005, 2006, 2007, 2008, 2009, 2010, 2011, 2012, 2013, 2014, 2015, 2016, 2017, 2018, 2019, 2020], \"y\": [92500572.0, 94943000.0, 95832000.0, 96812000.0, 97826000.0, 98883000.0, 99790000.0, 100725000.0, 101061000.0, 103172000.0, 104345000.0, 105697000.0, 107188000.0, 108079000.0, 110162000.0, 111940000.0, 112771000.0, 113863000.0, 114898000.0, 115870000.0, 116782000.0, 117648000.0, 118449000.0, 119259000.0, 120018000.0, 120754000.0, 121492000.0, 122091000.0, 122613000.0, 123116000.0, 123537000.0, 123921000.0, 124229000.0, 124536000.0, 124961000.0, 125439000.0, 125757000.0, 126057000.0, 126400000.0, 126631000.0, 126843000.0, 127149000.0, 127445000.0, 127718000.0, 127761000.0, 127773000.0, 127854000.0, 128001000.0, 128063000.0, 128047000.0, 128070000.0, 127833000.0, 127629000.0, 127445000.0, 127276000.0, 127141000.0, 126994511.0, 126785797.0, 126529100.0, 126264931.0, \"\"]}, {\"line\": {\"color\": \"rgba(219, 64, 82, 1.0)\", \"dash\": \"solid\", \"shape\": \"linear\", \"width\": 1.3}, \"mode\": \"lines\", \"name\": \"Russian Federation\", \"text\": \"\", \"type\": \"scatter\", \"x\": [1960, 1961, 1962, 1963, 1964, 1965, 1966, 1967, 1968, 1969, 1970, 1971, 1972, 1973, 1974, 1975, 1976, 1977, 1978, 1979, 1980, 1981, 1982, 1983, 1984, 1985, 1986, 1987, 1988, 1989, 1990, 1991, 1992, 1993, 1994, 1995, 1996, 1997, 1998, 1999, 2000, 2001, 2002, 2003, 2004, 2005, 2006, 2007, 2008, 2009, 2010, 2011, 2012, 2013, 2014, 2015, 2016, 2017, 2018, 2019, 2020], \"y\": [119897000.0, 121236000.0, 122591000.0, 123960000.0, 125345000.0, 126745000.0, 127468000.0, 128196000.0, 128928000.0, 129664000.0, 130404000.0, 131155000.0, 131909000.0, 132669000.0, 133432000.0, 134200000.0, 135147000.0, 136100000.0, 137060000.0, 138027000.0, 139010000.0, 139941000.0, 140823000.0, 141668000.0, 142745000.0, 143858000.0, 144894000.0, 145908000.0, 146857000.0, 147721000.0, 147969407.0, 148394216.0, 148538197.0, 148458777.0, 148407912.0, 148375787.0, 148160129.0, 147915361.0, 147670784.0, 147214776.0, 146596869.0, 145976482.0, 145306497.0, 144648618.0, 144067316.0, 143518814.0, 143049637.0, 142805114.0, 142742366.0, 142785349.0, 142849468.0, 142960908.0, 143201721.0, 143506995.0, 143819666.0, 144096870.0, 144342396.0, 144496740.0, 144477860.0, 144373535.0, \"\"]}],                        {\"legend\": {\"bgcolor\": \"#F5F6F9\", \"font\": {\"color\": \"#4D5663\"}}, \"paper_bgcolor\": \"#F5F6F9\", \"plot_bgcolor\": \"#F5F6F9\", \"template\": {\"data\": {\"bar\": [{\"error_x\": {\"color\": \"#2a3f5f\"}, \"error_y\": {\"color\": \"#2a3f5f\"}, \"marker\": {\"line\": {\"color\": \"#E5ECF6\", \"width\": 0.5}}, \"type\": \"bar\"}], \"barpolar\": [{\"marker\": {\"line\": {\"color\": \"#E5ECF6\", \"width\": 0.5}}, \"type\": \"barpolar\"}], \"carpet\": [{\"aaxis\": {\"endlinecolor\": \"#2a3f5f\", \"gridcolor\": \"white\", \"linecolor\": \"white\", \"minorgridcolor\": \"white\", \"startlinecolor\": \"#2a3f5f\"}, \"baxis\": {\"endlinecolor\": \"#2a3f5f\", \"gridcolor\": \"white\", \"linecolor\": \"white\", \"minorgridcolor\": \"white\", \"startlinecolor\": \"#2a3f5f\"}, \"type\": \"carpet\"}], \"choropleth\": [{\"colorbar\": {\"outlinewidth\": 0, \"ticks\": \"\"}, \"type\": \"choropleth\"}], \"contour\": [{\"colorbar\": {\"outlinewidth\": 0, \"ticks\": \"\"}, \"colorscale\": [[0.0, \"#0d0887\"], [0.1111111111111111, \"#46039f\"], [0.2222222222222222, \"#7201a8\"], [0.3333333333333333, \"#9c179e\"], [0.4444444444444444, \"#bd3786\"], [0.5555555555555556, \"#d8576b\"], [0.6666666666666666, \"#ed7953\"], [0.7777777777777778, \"#fb9f3a\"], [0.8888888888888888, \"#fdca26\"], [1.0, \"#f0f921\"]], \"type\": \"contour\"}], \"contourcarpet\": [{\"colorbar\": {\"outlinewidth\": 0, \"ticks\": \"\"}, \"type\": \"contourcarpet\"}], \"heatmap\": [{\"colorbar\": {\"outlinewidth\": 0, \"ticks\": \"\"}, \"colorscale\": [[0.0, \"#0d0887\"], [0.1111111111111111, \"#46039f\"], [0.2222222222222222, \"#7201a8\"], [0.3333333333333333, \"#9c179e\"], [0.4444444444444444, \"#bd3786\"], [0.5555555555555556, \"#d8576b\"], [0.6666666666666666, \"#ed7953\"], [0.7777777777777778, \"#fb9f3a\"], [0.8888888888888888, \"#fdca26\"], [1.0, \"#f0f921\"]], \"type\": \"heatmap\"}], \"heatmapgl\": [{\"colorbar\": {\"outlinewidth\": 0, \"ticks\": \"\"}, \"colorscale\": [[0.0, \"#0d0887\"], [0.1111111111111111, \"#46039f\"], [0.2222222222222222, \"#7201a8\"], [0.3333333333333333, \"#9c179e\"], [0.4444444444444444, \"#bd3786\"], [0.5555555555555556, \"#d8576b\"], [0.6666666666666666, \"#ed7953\"], [0.7777777777777778, \"#fb9f3a\"], [0.8888888888888888, \"#fdca26\"], [1.0, \"#f0f921\"]], \"type\": \"heatmapgl\"}], \"histogram\": [{\"marker\": {\"colorbar\": {\"outlinewidth\": 0, \"ticks\": \"\"}}, \"type\": \"histogram\"}], \"histogram2d\": [{\"colorbar\": {\"outlinewidth\": 0, \"ticks\": \"\"}, \"colorscale\": [[0.0, \"#0d0887\"], [0.1111111111111111, \"#46039f\"], [0.2222222222222222, \"#7201a8\"], [0.3333333333333333, \"#9c179e\"], [0.4444444444444444, \"#bd3786\"], [0.5555555555555556, \"#d8576b\"], [0.6666666666666666, \"#ed7953\"], [0.7777777777777778, \"#fb9f3a\"], [0.8888888888888888, \"#fdca26\"], [1.0, \"#f0f921\"]], \"type\": \"histogram2d\"}], \"histogram2dcontour\": [{\"colorbar\": {\"outlinewidth\": 0, \"ticks\": \"\"}, \"colorscale\": [[0.0, \"#0d0887\"], [0.1111111111111111, \"#46039f\"], [0.2222222222222222, \"#7201a8\"], [0.3333333333333333, \"#9c179e\"], [0.4444444444444444, \"#bd3786\"], [0.5555555555555556, \"#d8576b\"], [0.6666666666666666, \"#ed7953\"], [0.7777777777777778, \"#fb9f3a\"], [0.8888888888888888, \"#fdca26\"], [1.0, \"#f0f921\"]], \"type\": \"histogram2dcontour\"}], \"mesh3d\": [{\"colorbar\": {\"outlinewidth\": 0, \"ticks\": \"\"}, \"type\": \"mesh3d\"}], \"parcoords\": [{\"line\": {\"colorbar\": {\"outlinewidth\": 0, \"ticks\": \"\"}}, \"type\": \"parcoords\"}], \"pie\": [{\"automargin\": true, \"type\": \"pie\"}], \"scatter\": [{\"marker\": {\"colorbar\": {\"outlinewidth\": 0, \"ticks\": \"\"}}, \"type\": \"scatter\"}], \"scatter3d\": [{\"line\": {\"colorbar\": {\"outlinewidth\": 0, \"ticks\": \"\"}}, \"marker\": {\"colorbar\": {\"outlinewidth\": 0, \"ticks\": \"\"}}, \"type\": \"scatter3d\"}], \"scattercarpet\": [{\"marker\": {\"colorbar\": {\"outlinewidth\": 0, \"ticks\": \"\"}}, \"type\": \"scattercarpet\"}], \"scattergeo\": [{\"marker\": {\"colorbar\": {\"outlinewidth\": 0, \"ticks\": \"\"}}, \"type\": \"scattergeo\"}], \"scattergl\": [{\"marker\": {\"colorbar\": {\"outlinewidth\": 0, \"ticks\": \"\"}}, \"type\": \"scattergl\"}], \"scattermapbox\": [{\"marker\": {\"colorbar\": {\"outlinewidth\": 0, \"ticks\": \"\"}}, \"type\": \"scattermapbox\"}], \"scatterpolar\": [{\"marker\": {\"colorbar\": {\"outlinewidth\": 0, \"ticks\": \"\"}}, \"type\": \"scatterpolar\"}], \"scatterpolargl\": [{\"marker\": {\"colorbar\": {\"outlinewidth\": 0, \"ticks\": \"\"}}, \"type\": \"scatterpolargl\"}], \"scatterternary\": [{\"marker\": {\"colorbar\": {\"outlinewidth\": 0, \"ticks\": \"\"}}, \"type\": \"scatterternary\"}], \"surface\": [{\"colorbar\": {\"outlinewidth\": 0, \"ticks\": \"\"}, \"colorscale\": [[0.0, \"#0d0887\"], [0.1111111111111111, \"#46039f\"], [0.2222222222222222, \"#7201a8\"], [0.3333333333333333, \"#9c179e\"], [0.4444444444444444, \"#bd3786\"], [0.5555555555555556, \"#d8576b\"], [0.6666666666666666, \"#ed7953\"], [0.7777777777777778, \"#fb9f3a\"], [0.8888888888888888, \"#fdca26\"], [1.0, \"#f0f921\"]], \"type\": \"surface\"}], \"table\": [{\"cells\": {\"fill\": {\"color\": \"#EBF0F8\"}, \"line\": {\"color\": \"white\"}}, \"header\": {\"fill\": {\"color\": \"#C8D4E3\"}, \"line\": {\"color\": \"white\"}}, \"type\": \"table\"}]}, \"layout\": {\"annotationdefaults\": {\"arrowcolor\": \"#2a3f5f\", \"arrowhead\": 0, \"arrowwidth\": 1}, \"autotypenumbers\": \"strict\", \"coloraxis\": {\"colorbar\": {\"outlinewidth\": 0, \"ticks\": \"\"}}, \"colorscale\": {\"diverging\": [[0, \"#8e0152\"], [0.1, \"#c51b7d\"], [0.2, \"#de77ae\"], [0.3, \"#f1b6da\"], [0.4, \"#fde0ef\"], [0.5, \"#f7f7f7\"], [0.6, \"#e6f5d0\"], [0.7, \"#b8e186\"], [0.8, \"#7fbc41\"], [0.9, \"#4d9221\"], [1, \"#276419\"]], \"sequential\": [[0.0, \"#0d0887\"], [0.1111111111111111, \"#46039f\"], [0.2222222222222222, \"#7201a8\"], [0.3333333333333333, \"#9c179e\"], [0.4444444444444444, \"#bd3786\"], [0.5555555555555556, \"#d8576b\"], [0.6666666666666666, \"#ed7953\"], [0.7777777777777778, \"#fb9f3a\"], [0.8888888888888888, \"#fdca26\"], [1.0, \"#f0f921\"]], \"sequentialminus\": [[0.0, \"#0d0887\"], [0.1111111111111111, \"#46039f\"], [0.2222222222222222, \"#7201a8\"], [0.3333333333333333, \"#9c179e\"], [0.4444444444444444, \"#bd3786\"], [0.5555555555555556, \"#d8576b\"], [0.6666666666666666, \"#ed7953\"], [0.7777777777777778, \"#fb9f3a\"], [0.8888888888888888, \"#fdca26\"], [1.0, \"#f0f921\"]]}, \"colorway\": [\"#636efa\", \"#EF553B\", \"#00cc96\", \"#ab63fa\", \"#FFA15A\", \"#19d3f3\", \"#FF6692\", \"#B6E880\", \"#FF97FF\", \"#FECB52\"], \"font\": {\"color\": \"#2a3f5f\"}, \"geo\": {\"bgcolor\": \"white\", \"lakecolor\": \"white\", \"landcolor\": \"#E5ECF6\", \"showlakes\": true, \"showland\": true, \"subunitcolor\": \"white\"}, \"hoverlabel\": {\"align\": \"left\"}, \"hovermode\": \"closest\", \"mapbox\": {\"style\": \"light\"}, \"paper_bgcolor\": \"white\", \"plot_bgcolor\": \"#E5ECF6\", \"polar\": {\"angularaxis\": {\"gridcolor\": \"white\", \"linecolor\": \"white\", \"ticks\": \"\"}, \"bgcolor\": \"#E5ECF6\", \"radialaxis\": {\"gridcolor\": \"white\", \"linecolor\": \"white\", \"ticks\": \"\"}}, \"scene\": {\"xaxis\": {\"backgroundcolor\": \"#E5ECF6\", \"gridcolor\": \"white\", \"gridwidth\": 2, \"linecolor\": \"white\", \"showbackground\": true, \"ticks\": \"\", \"zerolinecolor\": \"white\"}, \"yaxis\": {\"backgroundcolor\": \"#E5ECF6\", \"gridcolor\": \"white\", \"gridwidth\": 2, \"linecolor\": \"white\", \"showbackground\": true, \"ticks\": \"\", \"zerolinecolor\": \"white\"}, \"zaxis\": {\"backgroundcolor\": \"#E5ECF6\", \"gridcolor\": \"white\", \"gridwidth\": 2, \"linecolor\": \"white\", \"showbackground\": true, \"ticks\": \"\", \"zerolinecolor\": \"white\"}}, \"shapedefaults\": {\"line\": {\"color\": \"#2a3f5f\"}}, \"ternary\": {\"aaxis\": {\"gridcolor\": \"white\", \"linecolor\": \"white\", \"ticks\": \"\"}, \"baxis\": {\"gridcolor\": \"white\", \"linecolor\": \"white\", \"ticks\": \"\"}, \"bgcolor\": \"#E5ECF6\", \"caxis\": {\"gridcolor\": \"white\", \"linecolor\": \"white\", \"ticks\": \"\"}}, \"title\": {\"x\": 0.05}, \"xaxis\": {\"automargin\": true, \"gridcolor\": \"white\", \"linecolor\": \"white\", \"ticks\": \"\", \"title\": {\"standoff\": 15}, \"zerolinecolor\": \"white\", \"zerolinewidth\": 2}, \"yaxis\": {\"automargin\": true, \"gridcolor\": \"white\", \"linecolor\": \"white\", \"ticks\": \"\", \"title\": {\"standoff\": 15}, \"zerolinecolor\": \"white\", \"zerolinewidth\": 2}}}, \"title\": {\"font\": {\"color\": \"#4D5663\"}, \"text\": \"Population of China, India, Italy, Japan, Russia\"}, \"xaxis\": {\"gridcolor\": \"#E1E5ED\", \"showgrid\": true, \"tickfont\": {\"color\": \"#4D5663\"}, \"title\": {\"font\": {\"color\": \"#4D5663\"}, \"text\": \"Year\"}, \"zerolinecolor\": \"#E1E5ED\"}, \"yaxis\": {\"gridcolor\": \"#E1E5ED\", \"showgrid\": true, \"tickfont\": {\"color\": \"#4D5663\"}, \"title\": {\"font\": {\"color\": \"#4D5663\"}, \"text\": \"Population (billions)\"}, \"zerolinecolor\": \"#E1E5ED\"}},                        {\"showLink\": true, \"linkText\": \"Export to plot.ly\", \"plotlyServerURL\": \"https://plot.ly\", \"responsive\": true}                    ).then(function(){\n",
       "                            \n",
       "var gd = document.getElementById('5d1ac287-8bc2-499d-b3ac-6b88788876b9');\n",
       "var x = new MutationObserver(function (mutations, observer) {{\n",
       "        var display = window.getComputedStyle(gd).display;\n",
       "        if (!display || display === 'none') {{\n",
       "            console.log([gd, 'removed!']);\n",
       "            Plotly.purge(gd);\n",
       "            observer.disconnect();\n",
       "        }}\n",
       "}});\n",
       "\n",
       "// Listen for the removal of the full notebook cells\n",
       "var notebookContainer = gd.closest('#notebook-container');\n",
       "if (notebookContainer) {{\n",
       "    x.observe(notebookContainer, {childList: true});\n",
       "}}\n",
       "\n",
       "// Listen for the clearing of the current output cell\n",
       "var outputEl = gd.closest('.output');\n",
       "if (outputEl) {{\n",
       "    x.observe(outputEl, {childList: true});\n",
       "}}\n",
       "\n",
       "                        })                };                });            </script>        </div>"
      ]
     },
     "metadata": {},
     "output_type": "display_data"
    }
   ],
   "source": [
    "vars = {\"SP.POP.TOTL\":\"Population\"}\n",
    "\n",
    "# Use this to find top producers:\n",
    "#big_producers = cereals.query('date==2000').squeeze().sort_values(ascending=False)\n",
    "#big_producers.head(20)\n",
    "\n",
    "use=[\"CHN\",\"IND\",\"JPN\",\"ITA\",\"RUS\"]\n",
    "\n",
    "pop = fix_date_index(wbdata.get_dataframe(vars,country=use)).squeeze().unstack('country')\n",
    "\n",
    "pop.iplot(xTitle=\"Year\",yTitle=\"Population (billions)\",\n",
    "              title=\"Population of China, India, Italy, Japan, Russia\")"
   ]
  },
  {
   "cell_type": "code",
   "execution_count": 16,
   "metadata": {
    "scrolled": false
   },
   "outputs": [
    {
     "data": {
      "application/vnd.plotly.v1+json": {
       "config": {
        "linkText": "Export to plot.ly",
        "plotlyServerURL": "https://plot.ly",
        "showLink": true
       },
       "data": [
        {
         "line": {
          "color": "rgba(255, 153, 51, 1.0)",
          "dash": "solid",
          "shape": "linear",
          "width": 1.3
         },
         "mode": "lines",
         "name": "Livestock index",
         "text": "",
         "type": "scatter",
         "x": [
          1960,
          1961,
          1962,
          1963,
          1964,
          1965,
          1966,
          1967,
          1968,
          1969,
          1970,
          1971,
          1972,
          1973,
          1974,
          1975,
          1976,
          1977,
          1978,
          1979,
          1980,
          1981,
          1982,
          1983,
          1984,
          1985,
          1986,
          1987,
          1988,
          1989,
          1990,
          1991,
          1992,
          1993,
          1994,
          1995,
          1996,
          1997,
          1998,
          1999,
          2000,
          2001,
          2002,
          2003,
          2004,
          2005,
          2006,
          2007,
          2008,
          2009,
          2010,
          2011,
          2012,
          2013,
          2014,
          2015,
          2016,
          2017,
          2018,
          2019,
          2020
         ],
         "y": [
          "",
          33.0272007219545,
          33.8682362040097,
          34.8648948025914,
          36.0022451006704,
          36.8619668496809,
          38.0038912893815,
          39.1959346202384,
          40.2829777017652,
          41.0504616495392,
          41.8873866912361,
          42.6625877334449,
          43.8006214908936,
          43.974246418576,
          45.5323719289853,
          46.6256221711114,
          48.5474575586538,
          49.398873058191,
          50.8124967021533,
          52.2676840977928,
          53.8453961091185,
          54.799792848314,
          55.7162674340257,
          57.3189719829102,
          58.7728968850912,
          60.4425765688981,
          61.9089590332046,
          62.9585361425645,
          64.6365589060367,
          65.5388557819288,
          67.8622169333286,
          69.5956533333538,
          75.3342309913464,
          76.8418848678069,
          78.8202697241945,
          80.7874975598472,
          82.2054787381604,
          83.326379006637,
          85.6454444840743,
          87.9629921526828,
          90.0263247264842,
          90.8450683301579,
          93.3497064249262,
          95.3158258185533,
          97.2534816166122,
          100.145820483449,
          102.784833609908,
          105.989744924671,
          108.515319861007,
          109.984986461988,
          112.562362137167,
          114.225883116177,
          115.927944537152,
          117.846556097386,
          118.883783028942,
          "",
          "",
          "",
          "",
          "",
          ""
         ]
        },
        {
         "line": {
          "color": "rgba(55, 128, 191, 1.0)",
          "dash": "solid",
          "shape": "linear",
          "width": 1.3
         },
         "mode": "lines",
         "name": "Food index",
         "text": "",
         "type": "scatter",
         "x": [
          1960,
          1961,
          1962,
          1963,
          1964,
          1965,
          1966,
          1967,
          1968,
          1969,
          1970,
          1971,
          1972,
          1973,
          1974,
          1975,
          1976,
          1977,
          1978,
          1979,
          1980,
          1981,
          1982,
          1983,
          1984,
          1985,
          1986,
          1987,
          1988,
          1989,
          1990,
          1991,
          1992,
          1993,
          1994,
          1995,
          1996,
          1997,
          1998,
          1999,
          2000,
          2001,
          2002,
          2003,
          2004,
          2005,
          2006,
          2007,
          2008,
          2009,
          2010,
          2011,
          2012,
          2013,
          2014,
          2015,
          2016,
          2017,
          2018,
          2019,
          2020
         ],
         "y": [
          "",
          31.5436742165082,
          32.6479656549999,
          33.7803447267531,
          34.5847089883536,
          35.3826881443365,
          36.3006879433764,
          37.8143607437861,
          38.7233995100788,
          39.105795877322,
          40.2928147146511,
          41.4163369165716,
          41.4397101374863,
          43.184423942765,
          44.1748853329226,
          45.7334889695059,
          46.7181766552579,
          47.7955365255016,
          49.8952169892252,
          51.127949465342,
          51.7564005350503,
          53.7520259081632,
          55.5183683612613,
          55.4325279658571,
          58.5214601986702,
          59.9119186319593,
          60.8784570635991,
          61.485848887488,
          62.5678155574224,
          64.9851127400688,
          67.0849706470916,
          68.1987986407902,
          72.5573783591926,
          73.3113563262503,
          75.4257226453683,
          77.2222986848897,
          80.4341326115628,
          81.9622145072093,
          83.7188323741845,
          86.6727489996212,
          88.4850219859176,
          89.4195224254293,
          91.2222991524862,
          93.8301417423217,
          97.5382152680578,
          99.9467119444294,
          102.649700460983,
          106.187649345388,
          110.278703333811,
          111.753299418266,
          114.480054367328,
          118.133718246233,
          119.46361643518,
          123.771028595757,
          125.60182423808,
          "",
          "",
          "",
          "",
          "",
          ""
         ]
        },
        {
         "line": {
          "color": "rgba(50, 171, 96, 1.0)",
          "dash": "solid",
          "shape": "linear",
          "width": 1.3
         },
         "mode": "lines",
         "name": "Crop index",
         "text": "",
         "type": "scatter",
         "x": [
          1960,
          1961,
          1962,
          1963,
          1964,
          1965,
          1966,
          1967,
          1968,
          1969,
          1970,
          1971,
          1972,
          1973,
          1974,
          1975,
          1976,
          1977,
          1978,
          1979,
          1980,
          1981,
          1982,
          1983,
          1984,
          1985,
          1986,
          1987,
          1988,
          1989,
          1990,
          1991,
          1992,
          1993,
          1994,
          1995,
          1996,
          1997,
          1998,
          1999,
          2000,
          2001,
          2002,
          2003,
          2004,
          2005,
          2006,
          2007,
          2008,
          2009,
          2010,
          2011,
          2012,
          2013,
          2014,
          2015,
          2016,
          2017,
          2018,
          2019,
          2020
         ],
         "y": [
          "",
          32.4831941015282,
          33.7710174943626,
          35.1510551819421,
          35.7890337208313,
          36.806156586899,
          37.52198616668,
          39.1371554637163,
          40.1281079115287,
          40.3897004489016,
          41.7148149902059,
          43.1440596360622,
          42.6618484788137,
          45.2546638561593,
          45.4709118366665,
          47.0244439013458,
          47.1666572120569,
          48.7402092257386,
          51.3272193785934,
          52.4970305817404,
          52.133734448456,
          54.9778865964846,
          57.1354667362795,
          55.9774845453938,
          60.6160233992547,
          61.6719633177098,
          61.8624714393456,
          62.6247963915696,
          63.0523000923273,
          66.0254711640079,
          68.070857436136,
          68.944205838868,
          72.6513084735704,
          72.853273903788,
          74.7730424974891,
          75.9738749481277,
          80.5309579884599,
          82.0628506773046,
          82.968597896005,
          85.8201268367122,
          87.7819364199148,
          89.1961122024342,
          89.9754158018936,
          92.6039886543582,
          98.2887402411096,
          99.8746234562554,
          102.01529058723,
          105.320940947749,
          110.143751824923,
          110.582854034258,
          113.552512852904,
          119.085936813111,
          119.855590461525,
          125.460981936966,
          128.112613470673,
          "",
          "",
          "",
          "",
          "",
          ""
         ]
        },
        {
         "line": {
          "color": "rgba(128, 0, 128, 1.0)",
          "dash": "solid",
          "shape": "linear",
          "width": 1.3
         },
         "mode": "lines",
         "name": "Population",
         "text": "",
         "type": "scatter",
         "x": [
          1960,
          1961,
          1962,
          1963,
          1964,
          1965,
          1966,
          1967,
          1968,
          1969,
          1970,
          1971,
          1972,
          1973,
          1974,
          1975,
          1976,
          1977,
          1978,
          1979,
          1980,
          1981,
          1982,
          1983,
          1984,
          1985,
          1986,
          1987,
          1988,
          1989,
          1990,
          1991,
          1992,
          1993,
          1994,
          1995,
          1996,
          1997,
          1998,
          1999,
          2000,
          2001,
          2002,
          2003,
          2004,
          2005,
          2006,
          2007,
          2008,
          2009,
          2010,
          2011,
          2012,
          2013,
          2014,
          2015,
          2016,
          2017,
          2018,
          2019,
          2020
         ],
         "y": [
          45.981492975135694,
          46.60404552551757,
          47.407591667148,
          48.39515401528445,
          49.388683022593845,
          50.403566886406246,
          51.46622795074632,
          52.519333207910115,
          53.58666941878112,
          54.71932718895094,
          55.86317797767564,
          57.040200494880025,
          58.198802946887106,
          59.34332101562669,
          60.49808766932306,
          61.626394043294695,
          62.72689975291811,
          63.82430049905709,
          64.9398630108986,
          66.08405082214219,
          67.23955856437664,
          68.42588822107764,
          69.65760808700374,
          70.90026220177535,
          72.13871822547495,
          73.40011286427442,
          74.69945548939066,
          76.03150382998653,
          77.37756225994391,
          78.72297549480415,
          80.08932030202264,
          81.42395806888835,
          82.70240364449852,
          83.99415301681212,
          85.27246405037528,
          86.56027420750371,
          87.8182459419115,
          89.07160356667642,
          90.31162258368967,
          91.53245507054761,
          92.74349668843644,
          93.94693111393512,
          95.14645156415465,
          96.34670298571434,
          97.5551435584824,
          98.77158454438766,
          100,
          101.23574076193688,
          102.49036807228569,
          103.7441178256864,
          104.992421037929,
          106.22087398936324,
          107.47834964737335,
          108.75060003951742,
          110.03365660011862,
          111.31898171861732,
          112.61315166465651,
          113.8992391830322,
          115.15624097849218,
          116.3937957904159,
          ""
         ]
        }
       ],
       "layout": {
        "legend": {
         "bgcolor": "#F5F6F9",
         "font": {
          "color": "#4D5663"
         }
        },
        "paper_bgcolor": "#F5F6F9",
        "plot_bgcolor": "#F5F6F9",
        "template": {
         "data": {
          "bar": [
           {
            "error_x": {
             "color": "#2a3f5f"
            },
            "error_y": {
             "color": "#2a3f5f"
            },
            "marker": {
             "line": {
              "color": "#E5ECF6",
              "width": 0.5
             }
            },
            "type": "bar"
           }
          ],
          "barpolar": [
           {
            "marker": {
             "line": {
              "color": "#E5ECF6",
              "width": 0.5
             }
            },
            "type": "barpolar"
           }
          ],
          "carpet": [
           {
            "aaxis": {
             "endlinecolor": "#2a3f5f",
             "gridcolor": "white",
             "linecolor": "white",
             "minorgridcolor": "white",
             "startlinecolor": "#2a3f5f"
            },
            "baxis": {
             "endlinecolor": "#2a3f5f",
             "gridcolor": "white",
             "linecolor": "white",
             "minorgridcolor": "white",
             "startlinecolor": "#2a3f5f"
            },
            "type": "carpet"
           }
          ],
          "choropleth": [
           {
            "colorbar": {
             "outlinewidth": 0,
             "ticks": ""
            },
            "type": "choropleth"
           }
          ],
          "contour": [
           {
            "colorbar": {
             "outlinewidth": 0,
             "ticks": ""
            },
            "colorscale": [
             [
              0,
              "#0d0887"
             ],
             [
              0.1111111111111111,
              "#46039f"
             ],
             [
              0.2222222222222222,
              "#7201a8"
             ],
             [
              0.3333333333333333,
              "#9c179e"
             ],
             [
              0.4444444444444444,
              "#bd3786"
             ],
             [
              0.5555555555555556,
              "#d8576b"
             ],
             [
              0.6666666666666666,
              "#ed7953"
             ],
             [
              0.7777777777777778,
              "#fb9f3a"
             ],
             [
              0.8888888888888888,
              "#fdca26"
             ],
             [
              1,
              "#f0f921"
             ]
            ],
            "type": "contour"
           }
          ],
          "contourcarpet": [
           {
            "colorbar": {
             "outlinewidth": 0,
             "ticks": ""
            },
            "type": "contourcarpet"
           }
          ],
          "heatmap": [
           {
            "colorbar": {
             "outlinewidth": 0,
             "ticks": ""
            },
            "colorscale": [
             [
              0,
              "#0d0887"
             ],
             [
              0.1111111111111111,
              "#46039f"
             ],
             [
              0.2222222222222222,
              "#7201a8"
             ],
             [
              0.3333333333333333,
              "#9c179e"
             ],
             [
              0.4444444444444444,
              "#bd3786"
             ],
             [
              0.5555555555555556,
              "#d8576b"
             ],
             [
              0.6666666666666666,
              "#ed7953"
             ],
             [
              0.7777777777777778,
              "#fb9f3a"
             ],
             [
              0.8888888888888888,
              "#fdca26"
             ],
             [
              1,
              "#f0f921"
             ]
            ],
            "type": "heatmap"
           }
          ],
          "heatmapgl": [
           {
            "colorbar": {
             "outlinewidth": 0,
             "ticks": ""
            },
            "colorscale": [
             [
              0,
              "#0d0887"
             ],
             [
              0.1111111111111111,
              "#46039f"
             ],
             [
              0.2222222222222222,
              "#7201a8"
             ],
             [
              0.3333333333333333,
              "#9c179e"
             ],
             [
              0.4444444444444444,
              "#bd3786"
             ],
             [
              0.5555555555555556,
              "#d8576b"
             ],
             [
              0.6666666666666666,
              "#ed7953"
             ],
             [
              0.7777777777777778,
              "#fb9f3a"
             ],
             [
              0.8888888888888888,
              "#fdca26"
             ],
             [
              1,
              "#f0f921"
             ]
            ],
            "type": "heatmapgl"
           }
          ],
          "histogram": [
           {
            "marker": {
             "colorbar": {
              "outlinewidth": 0,
              "ticks": ""
             }
            },
            "type": "histogram"
           }
          ],
          "histogram2d": [
           {
            "colorbar": {
             "outlinewidth": 0,
             "ticks": ""
            },
            "colorscale": [
             [
              0,
              "#0d0887"
             ],
             [
              0.1111111111111111,
              "#46039f"
             ],
             [
              0.2222222222222222,
              "#7201a8"
             ],
             [
              0.3333333333333333,
              "#9c179e"
             ],
             [
              0.4444444444444444,
              "#bd3786"
             ],
             [
              0.5555555555555556,
              "#d8576b"
             ],
             [
              0.6666666666666666,
              "#ed7953"
             ],
             [
              0.7777777777777778,
              "#fb9f3a"
             ],
             [
              0.8888888888888888,
              "#fdca26"
             ],
             [
              1,
              "#f0f921"
             ]
            ],
            "type": "histogram2d"
           }
          ],
          "histogram2dcontour": [
           {
            "colorbar": {
             "outlinewidth": 0,
             "ticks": ""
            },
            "colorscale": [
             [
              0,
              "#0d0887"
             ],
             [
              0.1111111111111111,
              "#46039f"
             ],
             [
              0.2222222222222222,
              "#7201a8"
             ],
             [
              0.3333333333333333,
              "#9c179e"
             ],
             [
              0.4444444444444444,
              "#bd3786"
             ],
             [
              0.5555555555555556,
              "#d8576b"
             ],
             [
              0.6666666666666666,
              "#ed7953"
             ],
             [
              0.7777777777777778,
              "#fb9f3a"
             ],
             [
              0.8888888888888888,
              "#fdca26"
             ],
             [
              1,
              "#f0f921"
             ]
            ],
            "type": "histogram2dcontour"
           }
          ],
          "mesh3d": [
           {
            "colorbar": {
             "outlinewidth": 0,
             "ticks": ""
            },
            "type": "mesh3d"
           }
          ],
          "parcoords": [
           {
            "line": {
             "colorbar": {
              "outlinewidth": 0,
              "ticks": ""
             }
            },
            "type": "parcoords"
           }
          ],
          "pie": [
           {
            "automargin": true,
            "type": "pie"
           }
          ],
          "scatter": [
           {
            "marker": {
             "colorbar": {
              "outlinewidth": 0,
              "ticks": ""
             }
            },
            "type": "scatter"
           }
          ],
          "scatter3d": [
           {
            "line": {
             "colorbar": {
              "outlinewidth": 0,
              "ticks": ""
             }
            },
            "marker": {
             "colorbar": {
              "outlinewidth": 0,
              "ticks": ""
             }
            },
            "type": "scatter3d"
           }
          ],
          "scattercarpet": [
           {
            "marker": {
             "colorbar": {
              "outlinewidth": 0,
              "ticks": ""
             }
            },
            "type": "scattercarpet"
           }
          ],
          "scattergeo": [
           {
            "marker": {
             "colorbar": {
              "outlinewidth": 0,
              "ticks": ""
             }
            },
            "type": "scattergeo"
           }
          ],
          "scattergl": [
           {
            "marker": {
             "colorbar": {
              "outlinewidth": 0,
              "ticks": ""
             }
            },
            "type": "scattergl"
           }
          ],
          "scattermapbox": [
           {
            "marker": {
             "colorbar": {
              "outlinewidth": 0,
              "ticks": ""
             }
            },
            "type": "scattermapbox"
           }
          ],
          "scatterpolar": [
           {
            "marker": {
             "colorbar": {
              "outlinewidth": 0,
              "ticks": ""
             }
            },
            "type": "scatterpolar"
           }
          ],
          "scatterpolargl": [
           {
            "marker": {
             "colorbar": {
              "outlinewidth": 0,
              "ticks": ""
             }
            },
            "type": "scatterpolargl"
           }
          ],
          "scatterternary": [
           {
            "marker": {
             "colorbar": {
              "outlinewidth": 0,
              "ticks": ""
             }
            },
            "type": "scatterternary"
           }
          ],
          "surface": [
           {
            "colorbar": {
             "outlinewidth": 0,
             "ticks": ""
            },
            "colorscale": [
             [
              0,
              "#0d0887"
             ],
             [
              0.1111111111111111,
              "#46039f"
             ],
             [
              0.2222222222222222,
              "#7201a8"
             ],
             [
              0.3333333333333333,
              "#9c179e"
             ],
             [
              0.4444444444444444,
              "#bd3786"
             ],
             [
              0.5555555555555556,
              "#d8576b"
             ],
             [
              0.6666666666666666,
              "#ed7953"
             ],
             [
              0.7777777777777778,
              "#fb9f3a"
             ],
             [
              0.8888888888888888,
              "#fdca26"
             ],
             [
              1,
              "#f0f921"
             ]
            ],
            "type": "surface"
           }
          ],
          "table": [
           {
            "cells": {
             "fill": {
              "color": "#EBF0F8"
             },
             "line": {
              "color": "white"
             }
            },
            "header": {
             "fill": {
              "color": "#C8D4E3"
             },
             "line": {
              "color": "white"
             }
            },
            "type": "table"
           }
          ]
         },
         "layout": {
          "annotationdefaults": {
           "arrowcolor": "#2a3f5f",
           "arrowhead": 0,
           "arrowwidth": 1
          },
          "autotypenumbers": "strict",
          "coloraxis": {
           "colorbar": {
            "outlinewidth": 0,
            "ticks": ""
           }
          },
          "colorscale": {
           "diverging": [
            [
             0,
             "#8e0152"
            ],
            [
             0.1,
             "#c51b7d"
            ],
            [
             0.2,
             "#de77ae"
            ],
            [
             0.3,
             "#f1b6da"
            ],
            [
             0.4,
             "#fde0ef"
            ],
            [
             0.5,
             "#f7f7f7"
            ],
            [
             0.6,
             "#e6f5d0"
            ],
            [
             0.7,
             "#b8e186"
            ],
            [
             0.8,
             "#7fbc41"
            ],
            [
             0.9,
             "#4d9221"
            ],
            [
             1,
             "#276419"
            ]
           ],
           "sequential": [
            [
             0,
             "#0d0887"
            ],
            [
             0.1111111111111111,
             "#46039f"
            ],
            [
             0.2222222222222222,
             "#7201a8"
            ],
            [
             0.3333333333333333,
             "#9c179e"
            ],
            [
             0.4444444444444444,
             "#bd3786"
            ],
            [
             0.5555555555555556,
             "#d8576b"
            ],
            [
             0.6666666666666666,
             "#ed7953"
            ],
            [
             0.7777777777777778,
             "#fb9f3a"
            ],
            [
             0.8888888888888888,
             "#fdca26"
            ],
            [
             1,
             "#f0f921"
            ]
           ],
           "sequentialminus": [
            [
             0,
             "#0d0887"
            ],
            [
             0.1111111111111111,
             "#46039f"
            ],
            [
             0.2222222222222222,
             "#7201a8"
            ],
            [
             0.3333333333333333,
             "#9c179e"
            ],
            [
             0.4444444444444444,
             "#bd3786"
            ],
            [
             0.5555555555555556,
             "#d8576b"
            ],
            [
             0.6666666666666666,
             "#ed7953"
            ],
            [
             0.7777777777777778,
             "#fb9f3a"
            ],
            [
             0.8888888888888888,
             "#fdca26"
            ],
            [
             1,
             "#f0f921"
            ]
           ]
          },
          "colorway": [
           "#636efa",
           "#EF553B",
           "#00cc96",
           "#ab63fa",
           "#FFA15A",
           "#19d3f3",
           "#FF6692",
           "#B6E880",
           "#FF97FF",
           "#FECB52"
          ],
          "font": {
           "color": "#2a3f5f"
          },
          "geo": {
           "bgcolor": "white",
           "lakecolor": "white",
           "landcolor": "#E5ECF6",
           "showlakes": true,
           "showland": true,
           "subunitcolor": "white"
          },
          "hoverlabel": {
           "align": "left"
          },
          "hovermode": "closest",
          "mapbox": {
           "style": "light"
          },
          "paper_bgcolor": "white",
          "plot_bgcolor": "#E5ECF6",
          "polar": {
           "angularaxis": {
            "gridcolor": "white",
            "linecolor": "white",
            "ticks": ""
           },
           "bgcolor": "#E5ECF6",
           "radialaxis": {
            "gridcolor": "white",
            "linecolor": "white",
            "ticks": ""
           }
          },
          "scene": {
           "xaxis": {
            "backgroundcolor": "#E5ECF6",
            "gridcolor": "white",
            "gridwidth": 2,
            "linecolor": "white",
            "showbackground": true,
            "ticks": "",
            "zerolinecolor": "white"
           },
           "yaxis": {
            "backgroundcolor": "#E5ECF6",
            "gridcolor": "white",
            "gridwidth": 2,
            "linecolor": "white",
            "showbackground": true,
            "ticks": "",
            "zerolinecolor": "white"
           },
           "zaxis": {
            "backgroundcolor": "#E5ECF6",
            "gridcolor": "white",
            "gridwidth": 2,
            "linecolor": "white",
            "showbackground": true,
            "ticks": "",
            "zerolinecolor": "white"
           }
          },
          "shapedefaults": {
           "line": {
            "color": "#2a3f5f"
           }
          },
          "ternary": {
           "aaxis": {
            "gridcolor": "white",
            "linecolor": "white",
            "ticks": ""
           },
           "baxis": {
            "gridcolor": "white",
            "linecolor": "white",
            "ticks": ""
           },
           "bgcolor": "#E5ECF6",
           "caxis": {
            "gridcolor": "white",
            "linecolor": "white",
            "ticks": ""
           }
          },
          "title": {
           "x": 0.05
          },
          "xaxis": {
           "automargin": true,
           "gridcolor": "white",
           "linecolor": "white",
           "ticks": "",
           "title": {
            "standoff": 15
           },
           "zerolinecolor": "white",
           "zerolinewidth": 2
          },
          "yaxis": {
           "automargin": true,
           "gridcolor": "white",
           "linecolor": "white",
           "ticks": "",
           "title": {
            "standoff": 15
           },
           "zerolinecolor": "white",
           "zerolinewidth": 2
          }
         }
        },
        "title": {
         "font": {
          "color": "#4D5663"
         }
        },
        "xaxis": {
         "gridcolor": "#E1E5ED",
         "showgrid": true,
         "tickfont": {
          "color": "#4D5663"
         },
         "title": {
          "font": {
           "color": "#4D5663"
          },
          "text": "Year"
         },
         "zerolinecolor": "#E1E5ED"
        },
        "yaxis": {
         "gridcolor": "#E1E5ED",
         "showgrid": true,
         "tickfont": {
          "color": "#4D5663"
         },
         "title": {
          "font": {
           "color": "#4D5663"
          },
          "text": "Index"
         },
         "zerolinecolor": "#E1E5ED"
        }
       }
      },
      "text/html": [
       "<div>                            <div id=\"b420d1d2-dbf2-4305-a069-93cfe626cf05\" class=\"plotly-graph-div\" style=\"height:525px; width:100%;\"></div>            <script type=\"text/javascript\">                require([\"plotly\"], function(Plotly) {                    window.PLOTLYENV=window.PLOTLYENV || {};\n",
       "                    window.PLOTLYENV.BASE_URL='https://plot.ly';                                    if (document.getElementById(\"b420d1d2-dbf2-4305-a069-93cfe626cf05\")) {                    Plotly.newPlot(                        \"b420d1d2-dbf2-4305-a069-93cfe626cf05\",                        [{\"line\": {\"color\": \"rgba(255, 153, 51, 1.0)\", \"dash\": \"solid\", \"shape\": \"linear\", \"width\": 1.3}, \"mode\": \"lines\", \"name\": \"Livestock index\", \"text\": \"\", \"type\": \"scatter\", \"x\": [1960, 1961, 1962, 1963, 1964, 1965, 1966, 1967, 1968, 1969, 1970, 1971, 1972, 1973, 1974, 1975, 1976, 1977, 1978, 1979, 1980, 1981, 1982, 1983, 1984, 1985, 1986, 1987, 1988, 1989, 1990, 1991, 1992, 1993, 1994, 1995, 1996, 1997, 1998, 1999, 2000, 2001, 2002, 2003, 2004, 2005, 2006, 2007, 2008, 2009, 2010, 2011, 2012, 2013, 2014, 2015, 2016, 2017, 2018, 2019, 2020], \"y\": [\"\", 33.0272007219545, 33.8682362040097, 34.8648948025914, 36.0022451006704, 36.8619668496809, 38.0038912893815, 39.1959346202384, 40.2829777017652, 41.0504616495392, 41.8873866912361, 42.6625877334449, 43.8006214908936, 43.974246418576, 45.5323719289853, 46.6256221711114, 48.5474575586538, 49.398873058191, 50.8124967021533, 52.2676840977928, 53.8453961091185, 54.799792848314, 55.7162674340257, 57.3189719829102, 58.7728968850912, 60.4425765688981, 61.9089590332046, 62.9585361425645, 64.6365589060367, 65.5388557819288, 67.8622169333286, 69.5956533333538, 75.3342309913464, 76.8418848678069, 78.8202697241945, 80.7874975598472, 82.2054787381604, 83.326379006637, 85.6454444840743, 87.9629921526828, 90.0263247264842, 90.8450683301579, 93.3497064249262, 95.3158258185533, 97.2534816166122, 100.145820483449, 102.784833609908, 105.989744924671, 108.515319861007, 109.984986461988, 112.562362137167, 114.225883116177, 115.927944537152, 117.846556097386, 118.883783028942, \"\", \"\", \"\", \"\", \"\", \"\"]}, {\"line\": {\"color\": \"rgba(55, 128, 191, 1.0)\", \"dash\": \"solid\", \"shape\": \"linear\", \"width\": 1.3}, \"mode\": \"lines\", \"name\": \"Food index\", \"text\": \"\", \"type\": \"scatter\", \"x\": [1960, 1961, 1962, 1963, 1964, 1965, 1966, 1967, 1968, 1969, 1970, 1971, 1972, 1973, 1974, 1975, 1976, 1977, 1978, 1979, 1980, 1981, 1982, 1983, 1984, 1985, 1986, 1987, 1988, 1989, 1990, 1991, 1992, 1993, 1994, 1995, 1996, 1997, 1998, 1999, 2000, 2001, 2002, 2003, 2004, 2005, 2006, 2007, 2008, 2009, 2010, 2011, 2012, 2013, 2014, 2015, 2016, 2017, 2018, 2019, 2020], \"y\": [\"\", 31.5436742165082, 32.6479656549999, 33.7803447267531, 34.5847089883536, 35.3826881443365, 36.3006879433764, 37.8143607437861, 38.7233995100788, 39.105795877322, 40.2928147146511, 41.4163369165716, 41.4397101374863, 43.184423942765, 44.1748853329226, 45.7334889695059, 46.7181766552579, 47.7955365255016, 49.8952169892252, 51.127949465342, 51.7564005350503, 53.7520259081632, 55.5183683612613, 55.4325279658571, 58.5214601986702, 59.9119186319593, 60.8784570635991, 61.485848887488, 62.5678155574224, 64.9851127400688, 67.0849706470916, 68.1987986407902, 72.5573783591926, 73.3113563262503, 75.4257226453683, 77.2222986848897, 80.4341326115628, 81.9622145072093, 83.7188323741845, 86.6727489996212, 88.4850219859176, 89.4195224254293, 91.2222991524862, 93.8301417423217, 97.5382152680578, 99.9467119444294, 102.649700460983, 106.187649345388, 110.278703333811, 111.753299418266, 114.480054367328, 118.133718246233, 119.46361643518, 123.771028595757, 125.60182423808, \"\", \"\", \"\", \"\", \"\", \"\"]}, {\"line\": {\"color\": \"rgba(50, 171, 96, 1.0)\", \"dash\": \"solid\", \"shape\": \"linear\", \"width\": 1.3}, \"mode\": \"lines\", \"name\": \"Crop index\", \"text\": \"\", \"type\": \"scatter\", \"x\": [1960, 1961, 1962, 1963, 1964, 1965, 1966, 1967, 1968, 1969, 1970, 1971, 1972, 1973, 1974, 1975, 1976, 1977, 1978, 1979, 1980, 1981, 1982, 1983, 1984, 1985, 1986, 1987, 1988, 1989, 1990, 1991, 1992, 1993, 1994, 1995, 1996, 1997, 1998, 1999, 2000, 2001, 2002, 2003, 2004, 2005, 2006, 2007, 2008, 2009, 2010, 2011, 2012, 2013, 2014, 2015, 2016, 2017, 2018, 2019, 2020], \"y\": [\"\", 32.4831941015282, 33.7710174943626, 35.1510551819421, 35.7890337208313, 36.806156586899, 37.52198616668, 39.1371554637163, 40.1281079115287, 40.3897004489016, 41.7148149902059, 43.1440596360622, 42.6618484788137, 45.2546638561593, 45.4709118366665, 47.0244439013458, 47.1666572120569, 48.7402092257386, 51.3272193785934, 52.4970305817404, 52.133734448456, 54.9778865964846, 57.1354667362795, 55.9774845453938, 60.6160233992547, 61.6719633177098, 61.8624714393456, 62.6247963915696, 63.0523000923273, 66.0254711640079, 68.070857436136, 68.944205838868, 72.6513084735704, 72.853273903788, 74.7730424974891, 75.9738749481277, 80.5309579884599, 82.0628506773046, 82.968597896005, 85.8201268367122, 87.7819364199148, 89.1961122024342, 89.9754158018936, 92.6039886543582, 98.2887402411096, 99.8746234562554, 102.01529058723, 105.320940947749, 110.143751824923, 110.582854034258, 113.552512852904, 119.085936813111, 119.855590461525, 125.460981936966, 128.112613470673, \"\", \"\", \"\", \"\", \"\", \"\"]}, {\"line\": {\"color\": \"rgba(128, 0, 128, 1.0)\", \"dash\": \"solid\", \"shape\": \"linear\", \"width\": 1.3}, \"mode\": \"lines\", \"name\": \"Population\", \"text\": \"\", \"type\": \"scatter\", \"x\": [1960, 1961, 1962, 1963, 1964, 1965, 1966, 1967, 1968, 1969, 1970, 1971, 1972, 1973, 1974, 1975, 1976, 1977, 1978, 1979, 1980, 1981, 1982, 1983, 1984, 1985, 1986, 1987, 1988, 1989, 1990, 1991, 1992, 1993, 1994, 1995, 1996, 1997, 1998, 1999, 2000, 2001, 2002, 2003, 2004, 2005, 2006, 2007, 2008, 2009, 2010, 2011, 2012, 2013, 2014, 2015, 2016, 2017, 2018, 2019, 2020], \"y\": [45.981492975135694, 46.60404552551757, 47.407591667148, 48.39515401528445, 49.388683022593845, 50.403566886406246, 51.46622795074632, 52.519333207910115, 53.58666941878112, 54.71932718895094, 55.86317797767564, 57.040200494880025, 58.198802946887106, 59.34332101562669, 60.49808766932306, 61.626394043294695, 62.72689975291811, 63.82430049905709, 64.9398630108986, 66.08405082214219, 67.23955856437664, 68.42588822107764, 69.65760808700374, 70.90026220177535, 72.13871822547495, 73.40011286427442, 74.69945548939066, 76.03150382998653, 77.37756225994391, 78.72297549480415, 80.08932030202264, 81.42395806888835, 82.70240364449852, 83.99415301681212, 85.27246405037528, 86.56027420750371, 87.8182459419115, 89.07160356667642, 90.31162258368967, 91.53245507054761, 92.74349668843644, 93.94693111393512, 95.14645156415465, 96.34670298571434, 97.5551435584824, 98.77158454438766, 100.0, 101.23574076193688, 102.49036807228569, 103.7441178256864, 104.992421037929, 106.22087398936324, 107.47834964737335, 108.75060003951742, 110.03365660011862, 111.31898171861732, 112.61315166465651, 113.8992391830322, 115.15624097849218, 116.3937957904159, \"\"]}],                        {\"legend\": {\"bgcolor\": \"#F5F6F9\", \"font\": {\"color\": \"#4D5663\"}}, \"paper_bgcolor\": \"#F5F6F9\", \"plot_bgcolor\": \"#F5F6F9\", \"template\": {\"data\": {\"bar\": [{\"error_x\": {\"color\": \"#2a3f5f\"}, \"error_y\": {\"color\": \"#2a3f5f\"}, \"marker\": {\"line\": {\"color\": \"#E5ECF6\", \"width\": 0.5}}, \"type\": \"bar\"}], \"barpolar\": [{\"marker\": {\"line\": {\"color\": \"#E5ECF6\", \"width\": 0.5}}, \"type\": \"barpolar\"}], \"carpet\": [{\"aaxis\": {\"endlinecolor\": \"#2a3f5f\", \"gridcolor\": \"white\", \"linecolor\": \"white\", \"minorgridcolor\": \"white\", \"startlinecolor\": \"#2a3f5f\"}, \"baxis\": {\"endlinecolor\": \"#2a3f5f\", \"gridcolor\": \"white\", \"linecolor\": \"white\", \"minorgridcolor\": \"white\", \"startlinecolor\": \"#2a3f5f\"}, \"type\": \"carpet\"}], \"choropleth\": [{\"colorbar\": {\"outlinewidth\": 0, \"ticks\": \"\"}, \"type\": \"choropleth\"}], \"contour\": [{\"colorbar\": {\"outlinewidth\": 0, \"ticks\": \"\"}, \"colorscale\": [[0.0, \"#0d0887\"], [0.1111111111111111, \"#46039f\"], [0.2222222222222222, \"#7201a8\"], [0.3333333333333333, \"#9c179e\"], [0.4444444444444444, \"#bd3786\"], [0.5555555555555556, \"#d8576b\"], [0.6666666666666666, \"#ed7953\"], [0.7777777777777778, \"#fb9f3a\"], [0.8888888888888888, \"#fdca26\"], [1.0, \"#f0f921\"]], \"type\": \"contour\"}], \"contourcarpet\": [{\"colorbar\": {\"outlinewidth\": 0, \"ticks\": \"\"}, \"type\": \"contourcarpet\"}], \"heatmap\": [{\"colorbar\": {\"outlinewidth\": 0, \"ticks\": \"\"}, \"colorscale\": [[0.0, \"#0d0887\"], [0.1111111111111111, \"#46039f\"], [0.2222222222222222, \"#7201a8\"], [0.3333333333333333, \"#9c179e\"], [0.4444444444444444, \"#bd3786\"], [0.5555555555555556, \"#d8576b\"], [0.6666666666666666, \"#ed7953\"], [0.7777777777777778, \"#fb9f3a\"], [0.8888888888888888, \"#fdca26\"], [1.0, \"#f0f921\"]], \"type\": \"heatmap\"}], \"heatmapgl\": [{\"colorbar\": {\"outlinewidth\": 0, \"ticks\": \"\"}, \"colorscale\": [[0.0, \"#0d0887\"], [0.1111111111111111, \"#46039f\"], [0.2222222222222222, \"#7201a8\"], [0.3333333333333333, \"#9c179e\"], [0.4444444444444444, \"#bd3786\"], [0.5555555555555556, \"#d8576b\"], [0.6666666666666666, \"#ed7953\"], [0.7777777777777778, \"#fb9f3a\"], [0.8888888888888888, \"#fdca26\"], [1.0, \"#f0f921\"]], \"type\": \"heatmapgl\"}], \"histogram\": [{\"marker\": {\"colorbar\": {\"outlinewidth\": 0, \"ticks\": \"\"}}, \"type\": \"histogram\"}], \"histogram2d\": [{\"colorbar\": {\"outlinewidth\": 0, \"ticks\": \"\"}, \"colorscale\": [[0.0, \"#0d0887\"], [0.1111111111111111, \"#46039f\"], [0.2222222222222222, \"#7201a8\"], [0.3333333333333333, \"#9c179e\"], [0.4444444444444444, \"#bd3786\"], [0.5555555555555556, \"#d8576b\"], [0.6666666666666666, \"#ed7953\"], [0.7777777777777778, \"#fb9f3a\"], [0.8888888888888888, \"#fdca26\"], [1.0, \"#f0f921\"]], \"type\": \"histogram2d\"}], \"histogram2dcontour\": [{\"colorbar\": {\"outlinewidth\": 0, \"ticks\": \"\"}, \"colorscale\": [[0.0, \"#0d0887\"], [0.1111111111111111, \"#46039f\"], [0.2222222222222222, \"#7201a8\"], [0.3333333333333333, \"#9c179e\"], [0.4444444444444444, \"#bd3786\"], [0.5555555555555556, \"#d8576b\"], [0.6666666666666666, \"#ed7953\"], [0.7777777777777778, \"#fb9f3a\"], [0.8888888888888888, \"#fdca26\"], [1.0, \"#f0f921\"]], \"type\": \"histogram2dcontour\"}], \"mesh3d\": [{\"colorbar\": {\"outlinewidth\": 0, \"ticks\": \"\"}, \"type\": \"mesh3d\"}], \"parcoords\": [{\"line\": {\"colorbar\": {\"outlinewidth\": 0, \"ticks\": \"\"}}, \"type\": \"parcoords\"}], \"pie\": [{\"automargin\": true, \"type\": \"pie\"}], \"scatter\": [{\"marker\": {\"colorbar\": {\"outlinewidth\": 0, \"ticks\": \"\"}}, \"type\": \"scatter\"}], \"scatter3d\": [{\"line\": {\"colorbar\": {\"outlinewidth\": 0, \"ticks\": \"\"}}, \"marker\": {\"colorbar\": {\"outlinewidth\": 0, \"ticks\": \"\"}}, \"type\": \"scatter3d\"}], \"scattercarpet\": [{\"marker\": {\"colorbar\": {\"outlinewidth\": 0, \"ticks\": \"\"}}, \"type\": \"scattercarpet\"}], \"scattergeo\": [{\"marker\": {\"colorbar\": {\"outlinewidth\": 0, \"ticks\": \"\"}}, \"type\": \"scattergeo\"}], \"scattergl\": [{\"marker\": {\"colorbar\": {\"outlinewidth\": 0, \"ticks\": \"\"}}, \"type\": \"scattergl\"}], \"scattermapbox\": [{\"marker\": {\"colorbar\": {\"outlinewidth\": 0, \"ticks\": \"\"}}, \"type\": \"scattermapbox\"}], \"scatterpolar\": [{\"marker\": {\"colorbar\": {\"outlinewidth\": 0, \"ticks\": \"\"}}, \"type\": \"scatterpolar\"}], \"scatterpolargl\": [{\"marker\": {\"colorbar\": {\"outlinewidth\": 0, \"ticks\": \"\"}}, \"type\": \"scatterpolargl\"}], \"scatterternary\": [{\"marker\": {\"colorbar\": {\"outlinewidth\": 0, \"ticks\": \"\"}}, \"type\": \"scatterternary\"}], \"surface\": [{\"colorbar\": {\"outlinewidth\": 0, \"ticks\": \"\"}, \"colorscale\": [[0.0, \"#0d0887\"], [0.1111111111111111, \"#46039f\"], [0.2222222222222222, \"#7201a8\"], [0.3333333333333333, \"#9c179e\"], [0.4444444444444444, \"#bd3786\"], [0.5555555555555556, \"#d8576b\"], [0.6666666666666666, \"#ed7953\"], [0.7777777777777778, \"#fb9f3a\"], [0.8888888888888888, \"#fdca26\"], [1.0, \"#f0f921\"]], \"type\": \"surface\"}], \"table\": [{\"cells\": {\"fill\": {\"color\": \"#EBF0F8\"}, \"line\": {\"color\": \"white\"}}, \"header\": {\"fill\": {\"color\": \"#C8D4E3\"}, \"line\": {\"color\": \"white\"}}, \"type\": \"table\"}]}, \"layout\": {\"annotationdefaults\": {\"arrowcolor\": \"#2a3f5f\", \"arrowhead\": 0, \"arrowwidth\": 1}, \"autotypenumbers\": \"strict\", \"coloraxis\": {\"colorbar\": {\"outlinewidth\": 0, \"ticks\": \"\"}}, \"colorscale\": {\"diverging\": [[0, \"#8e0152\"], [0.1, \"#c51b7d\"], [0.2, \"#de77ae\"], [0.3, \"#f1b6da\"], [0.4, \"#fde0ef\"], [0.5, \"#f7f7f7\"], [0.6, \"#e6f5d0\"], [0.7, \"#b8e186\"], [0.8, \"#7fbc41\"], [0.9, \"#4d9221\"], [1, \"#276419\"]], \"sequential\": [[0.0, \"#0d0887\"], [0.1111111111111111, \"#46039f\"], [0.2222222222222222, \"#7201a8\"], [0.3333333333333333, \"#9c179e\"], [0.4444444444444444, \"#bd3786\"], [0.5555555555555556, \"#d8576b\"], [0.6666666666666666, \"#ed7953\"], [0.7777777777777778, \"#fb9f3a\"], [0.8888888888888888, \"#fdca26\"], [1.0, \"#f0f921\"]], \"sequentialminus\": [[0.0, \"#0d0887\"], [0.1111111111111111, \"#46039f\"], [0.2222222222222222, \"#7201a8\"], [0.3333333333333333, \"#9c179e\"], [0.4444444444444444, \"#bd3786\"], [0.5555555555555556, \"#d8576b\"], [0.6666666666666666, \"#ed7953\"], [0.7777777777777778, \"#fb9f3a\"], [0.8888888888888888, \"#fdca26\"], [1.0, \"#f0f921\"]]}, \"colorway\": [\"#636efa\", \"#EF553B\", \"#00cc96\", \"#ab63fa\", \"#FFA15A\", \"#19d3f3\", \"#FF6692\", \"#B6E880\", \"#FF97FF\", \"#FECB52\"], \"font\": {\"color\": \"#2a3f5f\"}, \"geo\": {\"bgcolor\": \"white\", \"lakecolor\": \"white\", \"landcolor\": \"#E5ECF6\", \"showlakes\": true, \"showland\": true, \"subunitcolor\": \"white\"}, \"hoverlabel\": {\"align\": \"left\"}, \"hovermode\": \"closest\", \"mapbox\": {\"style\": \"light\"}, \"paper_bgcolor\": \"white\", \"plot_bgcolor\": \"#E5ECF6\", \"polar\": {\"angularaxis\": {\"gridcolor\": \"white\", \"linecolor\": \"white\", \"ticks\": \"\"}, \"bgcolor\": \"#E5ECF6\", \"radialaxis\": {\"gridcolor\": \"white\", \"linecolor\": \"white\", \"ticks\": \"\"}}, \"scene\": {\"xaxis\": {\"backgroundcolor\": \"#E5ECF6\", \"gridcolor\": \"white\", \"gridwidth\": 2, \"linecolor\": \"white\", \"showbackground\": true, \"ticks\": \"\", \"zerolinecolor\": \"white\"}, \"yaxis\": {\"backgroundcolor\": \"#E5ECF6\", \"gridcolor\": \"white\", \"gridwidth\": 2, \"linecolor\": \"white\", \"showbackground\": true, \"ticks\": \"\", \"zerolinecolor\": \"white\"}, \"zaxis\": {\"backgroundcolor\": \"#E5ECF6\", \"gridcolor\": \"white\", \"gridwidth\": 2, \"linecolor\": \"white\", \"showbackground\": true, \"ticks\": \"\", \"zerolinecolor\": \"white\"}}, \"shapedefaults\": {\"line\": {\"color\": \"#2a3f5f\"}}, \"ternary\": {\"aaxis\": {\"gridcolor\": \"white\", \"linecolor\": \"white\", \"ticks\": \"\"}, \"baxis\": {\"gridcolor\": \"white\", \"linecolor\": \"white\", \"ticks\": \"\"}, \"bgcolor\": \"#E5ECF6\", \"caxis\": {\"gridcolor\": \"white\", \"linecolor\": \"white\", \"ticks\": \"\"}}, \"title\": {\"x\": 0.05}, \"xaxis\": {\"automargin\": true, \"gridcolor\": \"white\", \"linecolor\": \"white\", \"ticks\": \"\", \"title\": {\"standoff\": 15}, \"zerolinecolor\": \"white\", \"zerolinewidth\": 2}, \"yaxis\": {\"automargin\": true, \"gridcolor\": \"white\", \"linecolor\": \"white\", \"ticks\": \"\", \"title\": {\"standoff\": 15}, \"zerolinecolor\": \"white\", \"zerolinewidth\": 2}}}, \"title\": {\"font\": {\"color\": \"#4D5663\"}}, \"xaxis\": {\"gridcolor\": \"#E1E5ED\", \"showgrid\": true, \"tickfont\": {\"color\": \"#4D5663\"}, \"title\": {\"font\": {\"color\": \"#4D5663\"}, \"text\": \"Year\"}, \"zerolinecolor\": \"#E1E5ED\"}, \"yaxis\": {\"gridcolor\": \"#E1E5ED\", \"showgrid\": true, \"tickfont\": {\"color\": \"#4D5663\"}, \"title\": {\"font\": {\"color\": \"#4D5663\"}, \"text\": \"Index\"}, \"zerolinecolor\": \"#E1E5ED\"}},                        {\"showLink\": true, \"linkText\": \"Export to plot.ly\", \"plotlyServerURL\": \"https://plot.ly\", \"responsive\": true}                    ).then(function(){\n",
       "                            \n",
       "var gd = document.getElementById('b420d1d2-dbf2-4305-a069-93cfe626cf05');\n",
       "var x = new MutationObserver(function (mutations, observer) {{\n",
       "        var display = window.getComputedStyle(gd).display;\n",
       "        if (!display || display === 'none') {{\n",
       "            console.log([gd, 'removed!']);\n",
       "            Plotly.purge(gd);\n",
       "            observer.disconnect();\n",
       "        }}\n",
       "}});\n",
       "\n",
       "// Listen for the removal of the full notebook cells\n",
       "var notebookContainer = gd.closest('#notebook-container');\n",
       "if (notebookContainer) {{\n",
       "    x.observe(notebookContainer, {childList: true});\n",
       "}}\n",
       "\n",
       "// Listen for the clearing of the current output cell\n",
       "var outputEl = gd.closest('.output');\n",
       "if (outputEl) {{\n",
       "    x.observe(outputEl, {childList: true});\n",
       "}}\n",
       "\n",
       "                        })                };                });            </script>        </div>"
      ]
     },
     "metadata": {},
     "output_type": "display_data"
    }
   ],
   "source": [
    "vars = {\"AG.PRD.LVSK.XD\":\"Livestock index\",\n",
    "        \"AG.PRD.FOOD.XD\":\"Food index\",\n",
    "        \"AG.PRD.CROP.XD\":\"Crop index\",\n",
    "        \"SP.POP.TOTL\":\"Population\"}\n",
    "\n",
    "food = fix_date_index(wbdata.get_dataframe(vars,country='WLD'))\n",
    "\n",
    "food.sort_index(inplace=True)\n",
    "\n",
    "food['Population'] = food['Population']/food.loc[2006,'Population']*100\n",
    "\n",
    "food.iplot(xTitle=\"Year\",yTitle=\"Index\")\n",
    "\n",
    "# This is opposite from Malthus' graphs, population is linear while food is exponential\n",
    "# Real prices of food are falling worldwide most of the time, in wealthier countries more people are obese than hungry"
   ]
  },
  {
   "cell_type": "markdown",
   "metadata": {},
   "source": [
    "## Livestock, Food, Crop Indices "
   ]
  },
  {
   "cell_type": "markdown",
   "metadata": {},
   "source": [
    "### China"
   ]
  },
  {
   "cell_type": "code",
   "execution_count": 17,
   "metadata": {
    "scrolled": false
   },
   "outputs": [
    {
     "data": {
      "application/vnd.plotly.v1+json": {
       "config": {
        "linkText": "Export to plot.ly",
        "plotlyServerURL": "https://plot.ly",
        "showLink": true
       },
       "data": [
        {
         "line": {
          "color": "rgba(255, 153, 51, 1.0)",
          "dash": "solid",
          "shape": "linear",
          "width": 1.3
         },
         "mode": "lines",
         "name": "Livestock index",
         "text": "",
         "type": "scatter",
         "x": [
          1960,
          1961,
          1962,
          1963,
          1964,
          1965,
          1966,
          1967,
          1968,
          1969,
          1970,
          1971,
          1972,
          1973,
          1974,
          1975,
          1976,
          1977,
          1978,
          1979,
          1980,
          1981,
          1982,
          1983,
          1984,
          1985,
          1986,
          1987,
          1988,
          1989,
          1990,
          1991,
          1992,
          1993,
          1994,
          1995,
          1996,
          1997,
          1998,
          1999,
          2000,
          2001,
          2002,
          2003,
          2004,
          2005,
          2006,
          2007,
          2008,
          2009,
          2010,
          2011,
          2012,
          2013,
          2014,
          2015,
          2016,
          2017,
          2018,
          2019,
          2020
         ],
         "y": [
          "",
          4.32,
          4.88,
          6.64,
          8.05,
          8.97,
          9.62,
          10.05,
          10.01,
          9.94,
          9.95,
          11.18,
          12.2,
          12.4,
          12.49,
          12.94,
          12.93,
          13.11,
          14.19,
          16.63,
          18.6,
          19.36,
          20.67,
          21.54,
          24.89,
          27.34,
          28.91,
          31.57,
          35.27,
          37.16,
          40.11,
          44.24,
          48.06,
          53,
          59.3,
          64.97,
          68.44,
          70.86,
          76.34,
          79.29,
          84.04,
          85.29,
          88.08,
          92.96,
          95.8,
          100.34,
          103.86,
          107.7,
          111.92,
          115.77,
          119.11,
          119.84,
          124.7,
          126.48,
          127.06,
          128.01,
          130.43,
          "",
          "",
          "",
          ""
         ]
        },
        {
         "line": {
          "color": "rgba(55, 128, 191, 1.0)",
          "dash": "solid",
          "shape": "linear",
          "width": 1.3
         },
         "mode": "lines",
         "name": "Food index",
         "text": "",
         "type": "scatter",
         "x": [
          1960,
          1961,
          1962,
          1963,
          1964,
          1965,
          1966,
          1967,
          1968,
          1969,
          1970,
          1971,
          1972,
          1973,
          1974,
          1975,
          1976,
          1977,
          1978,
          1979,
          1980,
          1981,
          1982,
          1983,
          1984,
          1985,
          1986,
          1987,
          1988,
          1989,
          1990,
          1991,
          1992,
          1993,
          1994,
          1995,
          1996,
          1997,
          1998,
          1999,
          2000,
          2001,
          2002,
          2003,
          2004,
          2005,
          2006,
          2007,
          2008,
          2009,
          2010,
          2011,
          2012,
          2013,
          2014,
          2015,
          2016,
          2017,
          2018,
          2019,
          2020
         ],
         "y": [
          "",
          13.36,
          14.11,
          14.89,
          16.05,
          17.39,
          18.42,
          18.67,
          18.57,
          18.78,
          19.68,
          20.79,
          20.67,
          22.45,
          22.52,
          23.08,
          22.95,
          23.21,
          25.59,
          27.1,
          27.16,
          28.69,
          31.27,
          33.44,
          36.56,
          37.02,
          38.94,
          41.07,
          42.31,
          43.97,
          48.12,
          49.62,
          52.32,
          56.49,
          59.93,
          64.95,
          69.7,
          72.08,
          76.41,
          79.46,
          83.36,
          84.77,
          88.66,
          90.7,
          96.48,
          100.4,
          103.12,
          108.15,
          113.95,
          116.86,
          119.96,
          123.39,
          127.7,
          129.79,
          131.86,
          135.91,
          139.03,
          "",
          "",
          "",
          ""
         ]
        },
        {
         "line": {
          "color": "rgba(50, 171, 96, 1.0)",
          "dash": "solid",
          "shape": "linear",
          "width": 1.3
         },
         "mode": "lines",
         "name": "Crop index",
         "text": "",
         "type": "scatter",
         "x": [
          1960,
          1961,
          1962,
          1963,
          1964,
          1965,
          1966,
          1967,
          1968,
          1969,
          1970,
          1971,
          1972,
          1973,
          1974,
          1975,
          1976,
          1977,
          1978,
          1979,
          1980,
          1981,
          1982,
          1983,
          1984,
          1985,
          1986,
          1987,
          1988,
          1989,
          1990,
          1991,
          1992,
          1993,
          1994,
          1995,
          1996,
          1997,
          1998,
          1999,
          2000,
          2001,
          2002,
          2003,
          2004,
          2005,
          2006,
          2007,
          2008,
          2009,
          2010,
          2011,
          2012,
          2013,
          2014,
          2015,
          2016,
          2017,
          2018,
          2019,
          2020
         ],
         "y": [
          "",
          18.02,
          18.92,
          19.68,
          21.08,
          22.81,
          24.59,
          24.86,
          24.68,
          24.82,
          26.61,
          27.52,
          26.66,
          30.05,
          30.21,
          30.83,
          30.47,
          31.07,
          34.41,
          35.37,
          35,
          36.98,
          40.76,
          44.07,
          47.97,
          46.14,
          47.06,
          49.54,
          49.81,
          50.91,
          55.08,
          56.1,
          58.01,
          61.78,
          63.39,
          67.96,
          73.5,
          75.88,
          78.21,
          80.76,
          84.78,
          86.89,
          90.76,
          90.53,
          97.34,
          100.11,
          102.55,
          108.03,
          114.72,
          116.76,
          120.49,
          126.74,
          131.29,
          134.06,
          136.31,
          141.21,
          144.2,
          "",
          "",
          "",
          ""
         ]
        },
        {
         "line": {
          "color": "rgba(128, 0, 128, 1.0)",
          "dash": "solid",
          "shape": "linear",
          "width": 1.3
         },
         "mode": "lines",
         "name": "Population",
         "text": "",
         "type": "scatter",
         "x": [
          1960,
          1961,
          1962,
          1963,
          1964,
          1965,
          1966,
          1967,
          1968,
          1969,
          1970,
          1971,
          1972,
          1973,
          1974,
          1975,
          1976,
          1977,
          1978,
          1979,
          1980,
          1981,
          1982,
          1983,
          1984,
          1985,
          1986,
          1987,
          1988,
          1989,
          1990,
          1991,
          1992,
          1993,
          1994,
          1995,
          1996,
          1997,
          1998,
          1999,
          2000,
          2001,
          2002,
          2003,
          2004,
          2005,
          2006,
          2007,
          2008,
          2009,
          2010,
          2011,
          2012,
          2013,
          2014,
          2015,
          2016,
          2017,
          2018,
          2019,
          2020
         ],
         "y": [
          50.88175618983692,
          50.367652667388754,
          50.78259675672378,
          52.04611676404631,
          53.26806608594834,
          54.551799362328566,
          56.09372854723803,
          57.55442327348172,
          59.0769019542036,
          60.71799057222621,
          62.41819346768165,
          64.15653460664215,
          65.7526200973288,
          67.27128495370017,
          68.67553507955637,
          69.89939131363366,
          70.98938231300819,
          71.96343305212734,
          72.9329072020259,
          73.91229729523577,
          74.84515873136947,
          75.8100562920474,
          76.93475309301154,
          78.05449192232003,
          79.08536864426172,
          80.1696389071105,
          81.37099357751978,
          82.68638159600921,
          84.02846638495217,
          85.32669219386432,
          86.58792390657656,
          87.77745572149928,
          88.85981907217281,
          89.88726335219906,
          90.90898689569953,
          91.90210675657123,
          92.87043675916462,
          93.8257997589663,
          94.73043889490626,
          95.55422495461549,
          96.31012494088573,
          97.01225000381383,
          97.66441396775029,
          98.2746258638312,
          98.86004790163383,
          99.44318164482617,
          100,
          100.52363808332443,
          101.0400299003829,
          101.54383609708471,
          102.0354380558649,
          102.52551448490487,
          103.02626962212629,
          103.53617793778889,
          104.06172293328859,
          104.59184451800887,
          105.15972296379918,
          105.74934020838735,
          106.23255175359643,
          106.61279004134185,
          ""
         ]
        }
       ],
       "layout": {
        "legend": {
         "bgcolor": "#F5F6F9",
         "font": {
          "color": "#4D5663"
         }
        },
        "paper_bgcolor": "#F5F6F9",
        "plot_bgcolor": "#F5F6F9",
        "template": {
         "data": {
          "bar": [
           {
            "error_x": {
             "color": "#2a3f5f"
            },
            "error_y": {
             "color": "#2a3f5f"
            },
            "marker": {
             "line": {
              "color": "#E5ECF6",
              "width": 0.5
             }
            },
            "type": "bar"
           }
          ],
          "barpolar": [
           {
            "marker": {
             "line": {
              "color": "#E5ECF6",
              "width": 0.5
             }
            },
            "type": "barpolar"
           }
          ],
          "carpet": [
           {
            "aaxis": {
             "endlinecolor": "#2a3f5f",
             "gridcolor": "white",
             "linecolor": "white",
             "minorgridcolor": "white",
             "startlinecolor": "#2a3f5f"
            },
            "baxis": {
             "endlinecolor": "#2a3f5f",
             "gridcolor": "white",
             "linecolor": "white",
             "minorgridcolor": "white",
             "startlinecolor": "#2a3f5f"
            },
            "type": "carpet"
           }
          ],
          "choropleth": [
           {
            "colorbar": {
             "outlinewidth": 0,
             "ticks": ""
            },
            "type": "choropleth"
           }
          ],
          "contour": [
           {
            "colorbar": {
             "outlinewidth": 0,
             "ticks": ""
            },
            "colorscale": [
             [
              0,
              "#0d0887"
             ],
             [
              0.1111111111111111,
              "#46039f"
             ],
             [
              0.2222222222222222,
              "#7201a8"
             ],
             [
              0.3333333333333333,
              "#9c179e"
             ],
             [
              0.4444444444444444,
              "#bd3786"
             ],
             [
              0.5555555555555556,
              "#d8576b"
             ],
             [
              0.6666666666666666,
              "#ed7953"
             ],
             [
              0.7777777777777778,
              "#fb9f3a"
             ],
             [
              0.8888888888888888,
              "#fdca26"
             ],
             [
              1,
              "#f0f921"
             ]
            ],
            "type": "contour"
           }
          ],
          "contourcarpet": [
           {
            "colorbar": {
             "outlinewidth": 0,
             "ticks": ""
            },
            "type": "contourcarpet"
           }
          ],
          "heatmap": [
           {
            "colorbar": {
             "outlinewidth": 0,
             "ticks": ""
            },
            "colorscale": [
             [
              0,
              "#0d0887"
             ],
             [
              0.1111111111111111,
              "#46039f"
             ],
             [
              0.2222222222222222,
              "#7201a8"
             ],
             [
              0.3333333333333333,
              "#9c179e"
             ],
             [
              0.4444444444444444,
              "#bd3786"
             ],
             [
              0.5555555555555556,
              "#d8576b"
             ],
             [
              0.6666666666666666,
              "#ed7953"
             ],
             [
              0.7777777777777778,
              "#fb9f3a"
             ],
             [
              0.8888888888888888,
              "#fdca26"
             ],
             [
              1,
              "#f0f921"
             ]
            ],
            "type": "heatmap"
           }
          ],
          "heatmapgl": [
           {
            "colorbar": {
             "outlinewidth": 0,
             "ticks": ""
            },
            "colorscale": [
             [
              0,
              "#0d0887"
             ],
             [
              0.1111111111111111,
              "#46039f"
             ],
             [
              0.2222222222222222,
              "#7201a8"
             ],
             [
              0.3333333333333333,
              "#9c179e"
             ],
             [
              0.4444444444444444,
              "#bd3786"
             ],
             [
              0.5555555555555556,
              "#d8576b"
             ],
             [
              0.6666666666666666,
              "#ed7953"
             ],
             [
              0.7777777777777778,
              "#fb9f3a"
             ],
             [
              0.8888888888888888,
              "#fdca26"
             ],
             [
              1,
              "#f0f921"
             ]
            ],
            "type": "heatmapgl"
           }
          ],
          "histogram": [
           {
            "marker": {
             "colorbar": {
              "outlinewidth": 0,
              "ticks": ""
             }
            },
            "type": "histogram"
           }
          ],
          "histogram2d": [
           {
            "colorbar": {
             "outlinewidth": 0,
             "ticks": ""
            },
            "colorscale": [
             [
              0,
              "#0d0887"
             ],
             [
              0.1111111111111111,
              "#46039f"
             ],
             [
              0.2222222222222222,
              "#7201a8"
             ],
             [
              0.3333333333333333,
              "#9c179e"
             ],
             [
              0.4444444444444444,
              "#bd3786"
             ],
             [
              0.5555555555555556,
              "#d8576b"
             ],
             [
              0.6666666666666666,
              "#ed7953"
             ],
             [
              0.7777777777777778,
              "#fb9f3a"
             ],
             [
              0.8888888888888888,
              "#fdca26"
             ],
             [
              1,
              "#f0f921"
             ]
            ],
            "type": "histogram2d"
           }
          ],
          "histogram2dcontour": [
           {
            "colorbar": {
             "outlinewidth": 0,
             "ticks": ""
            },
            "colorscale": [
             [
              0,
              "#0d0887"
             ],
             [
              0.1111111111111111,
              "#46039f"
             ],
             [
              0.2222222222222222,
              "#7201a8"
             ],
             [
              0.3333333333333333,
              "#9c179e"
             ],
             [
              0.4444444444444444,
              "#bd3786"
             ],
             [
              0.5555555555555556,
              "#d8576b"
             ],
             [
              0.6666666666666666,
              "#ed7953"
             ],
             [
              0.7777777777777778,
              "#fb9f3a"
             ],
             [
              0.8888888888888888,
              "#fdca26"
             ],
             [
              1,
              "#f0f921"
             ]
            ],
            "type": "histogram2dcontour"
           }
          ],
          "mesh3d": [
           {
            "colorbar": {
             "outlinewidth": 0,
             "ticks": ""
            },
            "type": "mesh3d"
           }
          ],
          "parcoords": [
           {
            "line": {
             "colorbar": {
              "outlinewidth": 0,
              "ticks": ""
             }
            },
            "type": "parcoords"
           }
          ],
          "pie": [
           {
            "automargin": true,
            "type": "pie"
           }
          ],
          "scatter": [
           {
            "marker": {
             "colorbar": {
              "outlinewidth": 0,
              "ticks": ""
             }
            },
            "type": "scatter"
           }
          ],
          "scatter3d": [
           {
            "line": {
             "colorbar": {
              "outlinewidth": 0,
              "ticks": ""
             }
            },
            "marker": {
             "colorbar": {
              "outlinewidth": 0,
              "ticks": ""
             }
            },
            "type": "scatter3d"
           }
          ],
          "scattercarpet": [
           {
            "marker": {
             "colorbar": {
              "outlinewidth": 0,
              "ticks": ""
             }
            },
            "type": "scattercarpet"
           }
          ],
          "scattergeo": [
           {
            "marker": {
             "colorbar": {
              "outlinewidth": 0,
              "ticks": ""
             }
            },
            "type": "scattergeo"
           }
          ],
          "scattergl": [
           {
            "marker": {
             "colorbar": {
              "outlinewidth": 0,
              "ticks": ""
             }
            },
            "type": "scattergl"
           }
          ],
          "scattermapbox": [
           {
            "marker": {
             "colorbar": {
              "outlinewidth": 0,
              "ticks": ""
             }
            },
            "type": "scattermapbox"
           }
          ],
          "scatterpolar": [
           {
            "marker": {
             "colorbar": {
              "outlinewidth": 0,
              "ticks": ""
             }
            },
            "type": "scatterpolar"
           }
          ],
          "scatterpolargl": [
           {
            "marker": {
             "colorbar": {
              "outlinewidth": 0,
              "ticks": ""
             }
            },
            "type": "scatterpolargl"
           }
          ],
          "scatterternary": [
           {
            "marker": {
             "colorbar": {
              "outlinewidth": 0,
              "ticks": ""
             }
            },
            "type": "scatterternary"
           }
          ],
          "surface": [
           {
            "colorbar": {
             "outlinewidth": 0,
             "ticks": ""
            },
            "colorscale": [
             [
              0,
              "#0d0887"
             ],
             [
              0.1111111111111111,
              "#46039f"
             ],
             [
              0.2222222222222222,
              "#7201a8"
             ],
             [
              0.3333333333333333,
              "#9c179e"
             ],
             [
              0.4444444444444444,
              "#bd3786"
             ],
             [
              0.5555555555555556,
              "#d8576b"
             ],
             [
              0.6666666666666666,
              "#ed7953"
             ],
             [
              0.7777777777777778,
              "#fb9f3a"
             ],
             [
              0.8888888888888888,
              "#fdca26"
             ],
             [
              1,
              "#f0f921"
             ]
            ],
            "type": "surface"
           }
          ],
          "table": [
           {
            "cells": {
             "fill": {
              "color": "#EBF0F8"
             },
             "line": {
              "color": "white"
             }
            },
            "header": {
             "fill": {
              "color": "#C8D4E3"
             },
             "line": {
              "color": "white"
             }
            },
            "type": "table"
           }
          ]
         },
         "layout": {
          "annotationdefaults": {
           "arrowcolor": "#2a3f5f",
           "arrowhead": 0,
           "arrowwidth": 1
          },
          "autotypenumbers": "strict",
          "coloraxis": {
           "colorbar": {
            "outlinewidth": 0,
            "ticks": ""
           }
          },
          "colorscale": {
           "diverging": [
            [
             0,
             "#8e0152"
            ],
            [
             0.1,
             "#c51b7d"
            ],
            [
             0.2,
             "#de77ae"
            ],
            [
             0.3,
             "#f1b6da"
            ],
            [
             0.4,
             "#fde0ef"
            ],
            [
             0.5,
             "#f7f7f7"
            ],
            [
             0.6,
             "#e6f5d0"
            ],
            [
             0.7,
             "#b8e186"
            ],
            [
             0.8,
             "#7fbc41"
            ],
            [
             0.9,
             "#4d9221"
            ],
            [
             1,
             "#276419"
            ]
           ],
           "sequential": [
            [
             0,
             "#0d0887"
            ],
            [
             0.1111111111111111,
             "#46039f"
            ],
            [
             0.2222222222222222,
             "#7201a8"
            ],
            [
             0.3333333333333333,
             "#9c179e"
            ],
            [
             0.4444444444444444,
             "#bd3786"
            ],
            [
             0.5555555555555556,
             "#d8576b"
            ],
            [
             0.6666666666666666,
             "#ed7953"
            ],
            [
             0.7777777777777778,
             "#fb9f3a"
            ],
            [
             0.8888888888888888,
             "#fdca26"
            ],
            [
             1,
             "#f0f921"
            ]
           ],
           "sequentialminus": [
            [
             0,
             "#0d0887"
            ],
            [
             0.1111111111111111,
             "#46039f"
            ],
            [
             0.2222222222222222,
             "#7201a8"
            ],
            [
             0.3333333333333333,
             "#9c179e"
            ],
            [
             0.4444444444444444,
             "#bd3786"
            ],
            [
             0.5555555555555556,
             "#d8576b"
            ],
            [
             0.6666666666666666,
             "#ed7953"
            ],
            [
             0.7777777777777778,
             "#fb9f3a"
            ],
            [
             0.8888888888888888,
             "#fdca26"
            ],
            [
             1,
             "#f0f921"
            ]
           ]
          },
          "colorway": [
           "#636efa",
           "#EF553B",
           "#00cc96",
           "#ab63fa",
           "#FFA15A",
           "#19d3f3",
           "#FF6692",
           "#B6E880",
           "#FF97FF",
           "#FECB52"
          ],
          "font": {
           "color": "#2a3f5f"
          },
          "geo": {
           "bgcolor": "white",
           "lakecolor": "white",
           "landcolor": "#E5ECF6",
           "showlakes": true,
           "showland": true,
           "subunitcolor": "white"
          },
          "hoverlabel": {
           "align": "left"
          },
          "hovermode": "closest",
          "mapbox": {
           "style": "light"
          },
          "paper_bgcolor": "white",
          "plot_bgcolor": "#E5ECF6",
          "polar": {
           "angularaxis": {
            "gridcolor": "white",
            "linecolor": "white",
            "ticks": ""
           },
           "bgcolor": "#E5ECF6",
           "radialaxis": {
            "gridcolor": "white",
            "linecolor": "white",
            "ticks": ""
           }
          },
          "scene": {
           "xaxis": {
            "backgroundcolor": "#E5ECF6",
            "gridcolor": "white",
            "gridwidth": 2,
            "linecolor": "white",
            "showbackground": true,
            "ticks": "",
            "zerolinecolor": "white"
           },
           "yaxis": {
            "backgroundcolor": "#E5ECF6",
            "gridcolor": "white",
            "gridwidth": 2,
            "linecolor": "white",
            "showbackground": true,
            "ticks": "",
            "zerolinecolor": "white"
           },
           "zaxis": {
            "backgroundcolor": "#E5ECF6",
            "gridcolor": "white",
            "gridwidth": 2,
            "linecolor": "white",
            "showbackground": true,
            "ticks": "",
            "zerolinecolor": "white"
           }
          },
          "shapedefaults": {
           "line": {
            "color": "#2a3f5f"
           }
          },
          "ternary": {
           "aaxis": {
            "gridcolor": "white",
            "linecolor": "white",
            "ticks": ""
           },
           "baxis": {
            "gridcolor": "white",
            "linecolor": "white",
            "ticks": ""
           },
           "bgcolor": "#E5ECF6",
           "caxis": {
            "gridcolor": "white",
            "linecolor": "white",
            "ticks": ""
           }
          },
          "title": {
           "x": 0.05
          },
          "xaxis": {
           "automargin": true,
           "gridcolor": "white",
           "linecolor": "white",
           "ticks": "",
           "title": {
            "standoff": 15
           },
           "zerolinecolor": "white",
           "zerolinewidth": 2
          },
          "yaxis": {
           "automargin": true,
           "gridcolor": "white",
           "linecolor": "white",
           "ticks": "",
           "title": {
            "standoff": 15
           },
           "zerolinecolor": "white",
           "zerolinewidth": 2
          }
         }
        },
        "title": {
         "font": {
          "color": "#4D5663"
         },
         "text": "China"
        },
        "xaxis": {
         "gridcolor": "#E1E5ED",
         "showgrid": true,
         "tickfont": {
          "color": "#4D5663"
         },
         "title": {
          "font": {
           "color": "#4D5663"
          },
          "text": "Year"
         },
         "zerolinecolor": "#E1E5ED"
        },
        "yaxis": {
         "gridcolor": "#E1E5ED",
         "showgrid": true,
         "tickfont": {
          "color": "#4D5663"
         },
         "title": {
          "font": {
           "color": "#4D5663"
          },
          "text": "Index"
         },
         "zerolinecolor": "#E1E5ED"
        }
       }
      },
      "text/html": [
       "<div>                            <div id=\"db5b09e4-0eba-4355-be15-abdba9336958\" class=\"plotly-graph-div\" style=\"height:525px; width:100%;\"></div>            <script type=\"text/javascript\">                require([\"plotly\"], function(Plotly) {                    window.PLOTLYENV=window.PLOTLYENV || {};\n",
       "                    window.PLOTLYENV.BASE_URL='https://plot.ly';                                    if (document.getElementById(\"db5b09e4-0eba-4355-be15-abdba9336958\")) {                    Plotly.newPlot(                        \"db5b09e4-0eba-4355-be15-abdba9336958\",                        [{\"line\": {\"color\": \"rgba(255, 153, 51, 1.0)\", \"dash\": \"solid\", \"shape\": \"linear\", \"width\": 1.3}, \"mode\": \"lines\", \"name\": \"Livestock index\", \"text\": \"\", \"type\": \"scatter\", \"x\": [1960, 1961, 1962, 1963, 1964, 1965, 1966, 1967, 1968, 1969, 1970, 1971, 1972, 1973, 1974, 1975, 1976, 1977, 1978, 1979, 1980, 1981, 1982, 1983, 1984, 1985, 1986, 1987, 1988, 1989, 1990, 1991, 1992, 1993, 1994, 1995, 1996, 1997, 1998, 1999, 2000, 2001, 2002, 2003, 2004, 2005, 2006, 2007, 2008, 2009, 2010, 2011, 2012, 2013, 2014, 2015, 2016, 2017, 2018, 2019, 2020], \"y\": [\"\", 4.32, 4.88, 6.64, 8.05, 8.97, 9.62, 10.05, 10.01, 9.94, 9.95, 11.18, 12.2, 12.4, 12.49, 12.94, 12.93, 13.11, 14.19, 16.63, 18.6, 19.36, 20.67, 21.54, 24.89, 27.34, 28.91, 31.57, 35.27, 37.16, 40.11, 44.24, 48.06, 53.0, 59.3, 64.97, 68.44, 70.86, 76.34, 79.29, 84.04, 85.29, 88.08, 92.96, 95.8, 100.34, 103.86, 107.7, 111.92, 115.77, 119.11, 119.84, 124.7, 126.48, 127.06, 128.01, 130.43, \"\", \"\", \"\", \"\"]}, {\"line\": {\"color\": \"rgba(55, 128, 191, 1.0)\", \"dash\": \"solid\", \"shape\": \"linear\", \"width\": 1.3}, \"mode\": \"lines\", \"name\": \"Food index\", \"text\": \"\", \"type\": \"scatter\", \"x\": [1960, 1961, 1962, 1963, 1964, 1965, 1966, 1967, 1968, 1969, 1970, 1971, 1972, 1973, 1974, 1975, 1976, 1977, 1978, 1979, 1980, 1981, 1982, 1983, 1984, 1985, 1986, 1987, 1988, 1989, 1990, 1991, 1992, 1993, 1994, 1995, 1996, 1997, 1998, 1999, 2000, 2001, 2002, 2003, 2004, 2005, 2006, 2007, 2008, 2009, 2010, 2011, 2012, 2013, 2014, 2015, 2016, 2017, 2018, 2019, 2020], \"y\": [\"\", 13.36, 14.11, 14.89, 16.05, 17.39, 18.42, 18.67, 18.57, 18.78, 19.68, 20.79, 20.67, 22.45, 22.52, 23.08, 22.95, 23.21, 25.59, 27.1, 27.16, 28.69, 31.27, 33.44, 36.56, 37.02, 38.94, 41.07, 42.31, 43.97, 48.12, 49.62, 52.32, 56.49, 59.93, 64.95, 69.7, 72.08, 76.41, 79.46, 83.36, 84.77, 88.66, 90.7, 96.48, 100.4, 103.12, 108.15, 113.95, 116.86, 119.96, 123.39, 127.7, 129.79, 131.86, 135.91, 139.03, \"\", \"\", \"\", \"\"]}, {\"line\": {\"color\": \"rgba(50, 171, 96, 1.0)\", \"dash\": \"solid\", \"shape\": \"linear\", \"width\": 1.3}, \"mode\": \"lines\", \"name\": \"Crop index\", \"text\": \"\", \"type\": \"scatter\", \"x\": [1960, 1961, 1962, 1963, 1964, 1965, 1966, 1967, 1968, 1969, 1970, 1971, 1972, 1973, 1974, 1975, 1976, 1977, 1978, 1979, 1980, 1981, 1982, 1983, 1984, 1985, 1986, 1987, 1988, 1989, 1990, 1991, 1992, 1993, 1994, 1995, 1996, 1997, 1998, 1999, 2000, 2001, 2002, 2003, 2004, 2005, 2006, 2007, 2008, 2009, 2010, 2011, 2012, 2013, 2014, 2015, 2016, 2017, 2018, 2019, 2020], \"y\": [\"\", 18.02, 18.92, 19.68, 21.08, 22.81, 24.59, 24.86, 24.68, 24.82, 26.61, 27.52, 26.66, 30.05, 30.21, 30.83, 30.47, 31.07, 34.41, 35.37, 35.0, 36.98, 40.76, 44.07, 47.97, 46.14, 47.06, 49.54, 49.81, 50.91, 55.08, 56.1, 58.01, 61.78, 63.39, 67.96, 73.5, 75.88, 78.21, 80.76, 84.78, 86.89, 90.76, 90.53, 97.34, 100.11, 102.55, 108.03, 114.72, 116.76, 120.49, 126.74, 131.29, 134.06, 136.31, 141.21, 144.2, \"\", \"\", \"\", \"\"]}, {\"line\": {\"color\": \"rgba(128, 0, 128, 1.0)\", \"dash\": \"solid\", \"shape\": \"linear\", \"width\": 1.3}, \"mode\": \"lines\", \"name\": \"Population\", \"text\": \"\", \"type\": \"scatter\", \"x\": [1960, 1961, 1962, 1963, 1964, 1965, 1966, 1967, 1968, 1969, 1970, 1971, 1972, 1973, 1974, 1975, 1976, 1977, 1978, 1979, 1980, 1981, 1982, 1983, 1984, 1985, 1986, 1987, 1988, 1989, 1990, 1991, 1992, 1993, 1994, 1995, 1996, 1997, 1998, 1999, 2000, 2001, 2002, 2003, 2004, 2005, 2006, 2007, 2008, 2009, 2010, 2011, 2012, 2013, 2014, 2015, 2016, 2017, 2018, 2019, 2020], \"y\": [50.88175618983692, 50.367652667388754, 50.78259675672378, 52.04611676404631, 53.26806608594834, 54.551799362328566, 56.09372854723803, 57.55442327348172, 59.0769019542036, 60.71799057222621, 62.41819346768165, 64.15653460664215, 65.7526200973288, 67.27128495370017, 68.67553507955637, 69.89939131363366, 70.98938231300819, 71.96343305212734, 72.9329072020259, 73.91229729523577, 74.84515873136947, 75.8100562920474, 76.93475309301154, 78.05449192232003, 79.08536864426172, 80.1696389071105, 81.37099357751978, 82.68638159600921, 84.02846638495217, 85.32669219386432, 86.58792390657656, 87.77745572149928, 88.85981907217281, 89.88726335219906, 90.90898689569953, 91.90210675657123, 92.87043675916462, 93.8257997589663, 94.73043889490626, 95.55422495461549, 96.31012494088573, 97.01225000381383, 97.66441396775029, 98.2746258638312, 98.86004790163383, 99.44318164482617, 100.0, 100.52363808332443, 101.0400299003829, 101.54383609708471, 102.0354380558649, 102.52551448490487, 103.02626962212629, 103.53617793778889, 104.06172293328859, 104.59184451800887, 105.15972296379918, 105.74934020838735, 106.23255175359643, 106.61279004134185, \"\"]}],                        {\"legend\": {\"bgcolor\": \"#F5F6F9\", \"font\": {\"color\": \"#4D5663\"}}, \"paper_bgcolor\": \"#F5F6F9\", \"plot_bgcolor\": \"#F5F6F9\", \"template\": {\"data\": {\"bar\": [{\"error_x\": {\"color\": \"#2a3f5f\"}, \"error_y\": {\"color\": \"#2a3f5f\"}, \"marker\": {\"line\": {\"color\": \"#E5ECF6\", \"width\": 0.5}}, \"type\": \"bar\"}], \"barpolar\": [{\"marker\": {\"line\": {\"color\": \"#E5ECF6\", \"width\": 0.5}}, \"type\": \"barpolar\"}], \"carpet\": [{\"aaxis\": {\"endlinecolor\": \"#2a3f5f\", \"gridcolor\": \"white\", \"linecolor\": \"white\", \"minorgridcolor\": \"white\", \"startlinecolor\": \"#2a3f5f\"}, \"baxis\": {\"endlinecolor\": \"#2a3f5f\", \"gridcolor\": \"white\", \"linecolor\": \"white\", \"minorgridcolor\": \"white\", \"startlinecolor\": \"#2a3f5f\"}, \"type\": \"carpet\"}], \"choropleth\": [{\"colorbar\": {\"outlinewidth\": 0, \"ticks\": \"\"}, \"type\": \"choropleth\"}], \"contour\": [{\"colorbar\": {\"outlinewidth\": 0, \"ticks\": \"\"}, \"colorscale\": [[0.0, \"#0d0887\"], [0.1111111111111111, \"#46039f\"], [0.2222222222222222, \"#7201a8\"], [0.3333333333333333, \"#9c179e\"], [0.4444444444444444, \"#bd3786\"], [0.5555555555555556, \"#d8576b\"], [0.6666666666666666, \"#ed7953\"], [0.7777777777777778, \"#fb9f3a\"], [0.8888888888888888, \"#fdca26\"], [1.0, \"#f0f921\"]], \"type\": \"contour\"}], \"contourcarpet\": [{\"colorbar\": {\"outlinewidth\": 0, \"ticks\": \"\"}, \"type\": \"contourcarpet\"}], \"heatmap\": [{\"colorbar\": {\"outlinewidth\": 0, \"ticks\": \"\"}, \"colorscale\": [[0.0, \"#0d0887\"], [0.1111111111111111, \"#46039f\"], [0.2222222222222222, \"#7201a8\"], [0.3333333333333333, \"#9c179e\"], [0.4444444444444444, \"#bd3786\"], [0.5555555555555556, \"#d8576b\"], [0.6666666666666666, \"#ed7953\"], [0.7777777777777778, \"#fb9f3a\"], [0.8888888888888888, \"#fdca26\"], [1.0, \"#f0f921\"]], \"type\": \"heatmap\"}], \"heatmapgl\": [{\"colorbar\": {\"outlinewidth\": 0, \"ticks\": \"\"}, \"colorscale\": [[0.0, \"#0d0887\"], [0.1111111111111111, \"#46039f\"], [0.2222222222222222, \"#7201a8\"], [0.3333333333333333, \"#9c179e\"], [0.4444444444444444, \"#bd3786\"], [0.5555555555555556, \"#d8576b\"], [0.6666666666666666, \"#ed7953\"], [0.7777777777777778, \"#fb9f3a\"], [0.8888888888888888, \"#fdca26\"], [1.0, \"#f0f921\"]], \"type\": \"heatmapgl\"}], \"histogram\": [{\"marker\": {\"colorbar\": {\"outlinewidth\": 0, \"ticks\": \"\"}}, \"type\": \"histogram\"}], \"histogram2d\": [{\"colorbar\": {\"outlinewidth\": 0, \"ticks\": \"\"}, \"colorscale\": [[0.0, \"#0d0887\"], [0.1111111111111111, \"#46039f\"], [0.2222222222222222, \"#7201a8\"], [0.3333333333333333, \"#9c179e\"], [0.4444444444444444, \"#bd3786\"], [0.5555555555555556, \"#d8576b\"], [0.6666666666666666, \"#ed7953\"], [0.7777777777777778, \"#fb9f3a\"], [0.8888888888888888, \"#fdca26\"], [1.0, \"#f0f921\"]], \"type\": \"histogram2d\"}], \"histogram2dcontour\": [{\"colorbar\": {\"outlinewidth\": 0, \"ticks\": \"\"}, \"colorscale\": [[0.0, \"#0d0887\"], [0.1111111111111111, \"#46039f\"], [0.2222222222222222, \"#7201a8\"], [0.3333333333333333, \"#9c179e\"], [0.4444444444444444, \"#bd3786\"], [0.5555555555555556, \"#d8576b\"], [0.6666666666666666, \"#ed7953\"], [0.7777777777777778, \"#fb9f3a\"], [0.8888888888888888, \"#fdca26\"], [1.0, \"#f0f921\"]], \"type\": \"histogram2dcontour\"}], \"mesh3d\": [{\"colorbar\": {\"outlinewidth\": 0, \"ticks\": \"\"}, \"type\": \"mesh3d\"}], \"parcoords\": [{\"line\": {\"colorbar\": {\"outlinewidth\": 0, \"ticks\": \"\"}}, \"type\": \"parcoords\"}], \"pie\": [{\"automargin\": true, \"type\": \"pie\"}], \"scatter\": [{\"marker\": {\"colorbar\": {\"outlinewidth\": 0, \"ticks\": \"\"}}, \"type\": \"scatter\"}], \"scatter3d\": [{\"line\": {\"colorbar\": {\"outlinewidth\": 0, \"ticks\": \"\"}}, \"marker\": {\"colorbar\": {\"outlinewidth\": 0, \"ticks\": \"\"}}, \"type\": \"scatter3d\"}], \"scattercarpet\": [{\"marker\": {\"colorbar\": {\"outlinewidth\": 0, \"ticks\": \"\"}}, \"type\": \"scattercarpet\"}], \"scattergeo\": [{\"marker\": {\"colorbar\": {\"outlinewidth\": 0, \"ticks\": \"\"}}, \"type\": \"scattergeo\"}], \"scattergl\": [{\"marker\": {\"colorbar\": {\"outlinewidth\": 0, \"ticks\": \"\"}}, \"type\": \"scattergl\"}], \"scattermapbox\": [{\"marker\": {\"colorbar\": {\"outlinewidth\": 0, \"ticks\": \"\"}}, \"type\": \"scattermapbox\"}], \"scatterpolar\": [{\"marker\": {\"colorbar\": {\"outlinewidth\": 0, \"ticks\": \"\"}}, \"type\": \"scatterpolar\"}], \"scatterpolargl\": [{\"marker\": {\"colorbar\": {\"outlinewidth\": 0, \"ticks\": \"\"}}, \"type\": \"scatterpolargl\"}], \"scatterternary\": [{\"marker\": {\"colorbar\": {\"outlinewidth\": 0, \"ticks\": \"\"}}, \"type\": \"scatterternary\"}], \"surface\": [{\"colorbar\": {\"outlinewidth\": 0, \"ticks\": \"\"}, \"colorscale\": [[0.0, \"#0d0887\"], [0.1111111111111111, \"#46039f\"], [0.2222222222222222, \"#7201a8\"], [0.3333333333333333, \"#9c179e\"], [0.4444444444444444, \"#bd3786\"], [0.5555555555555556, \"#d8576b\"], [0.6666666666666666, \"#ed7953\"], [0.7777777777777778, \"#fb9f3a\"], [0.8888888888888888, \"#fdca26\"], [1.0, \"#f0f921\"]], \"type\": \"surface\"}], \"table\": [{\"cells\": {\"fill\": {\"color\": \"#EBF0F8\"}, \"line\": {\"color\": \"white\"}}, \"header\": {\"fill\": {\"color\": \"#C8D4E3\"}, \"line\": {\"color\": \"white\"}}, \"type\": \"table\"}]}, \"layout\": {\"annotationdefaults\": {\"arrowcolor\": \"#2a3f5f\", \"arrowhead\": 0, \"arrowwidth\": 1}, \"autotypenumbers\": \"strict\", \"coloraxis\": {\"colorbar\": {\"outlinewidth\": 0, \"ticks\": \"\"}}, \"colorscale\": {\"diverging\": [[0, \"#8e0152\"], [0.1, \"#c51b7d\"], [0.2, \"#de77ae\"], [0.3, \"#f1b6da\"], [0.4, \"#fde0ef\"], [0.5, \"#f7f7f7\"], [0.6, \"#e6f5d0\"], [0.7, \"#b8e186\"], [0.8, \"#7fbc41\"], [0.9, \"#4d9221\"], [1, \"#276419\"]], \"sequential\": [[0.0, \"#0d0887\"], [0.1111111111111111, \"#46039f\"], [0.2222222222222222, \"#7201a8\"], [0.3333333333333333, \"#9c179e\"], [0.4444444444444444, \"#bd3786\"], [0.5555555555555556, \"#d8576b\"], [0.6666666666666666, \"#ed7953\"], [0.7777777777777778, \"#fb9f3a\"], [0.8888888888888888, \"#fdca26\"], [1.0, \"#f0f921\"]], \"sequentialminus\": [[0.0, \"#0d0887\"], [0.1111111111111111, \"#46039f\"], [0.2222222222222222, \"#7201a8\"], [0.3333333333333333, \"#9c179e\"], [0.4444444444444444, \"#bd3786\"], [0.5555555555555556, \"#d8576b\"], [0.6666666666666666, \"#ed7953\"], [0.7777777777777778, \"#fb9f3a\"], [0.8888888888888888, \"#fdca26\"], [1.0, \"#f0f921\"]]}, \"colorway\": [\"#636efa\", \"#EF553B\", \"#00cc96\", \"#ab63fa\", \"#FFA15A\", \"#19d3f3\", \"#FF6692\", \"#B6E880\", \"#FF97FF\", \"#FECB52\"], \"font\": {\"color\": \"#2a3f5f\"}, \"geo\": {\"bgcolor\": \"white\", \"lakecolor\": \"white\", \"landcolor\": \"#E5ECF6\", \"showlakes\": true, \"showland\": true, \"subunitcolor\": \"white\"}, \"hoverlabel\": {\"align\": \"left\"}, \"hovermode\": \"closest\", \"mapbox\": {\"style\": \"light\"}, \"paper_bgcolor\": \"white\", \"plot_bgcolor\": \"#E5ECF6\", \"polar\": {\"angularaxis\": {\"gridcolor\": \"white\", \"linecolor\": \"white\", \"ticks\": \"\"}, \"bgcolor\": \"#E5ECF6\", \"radialaxis\": {\"gridcolor\": \"white\", \"linecolor\": \"white\", \"ticks\": \"\"}}, \"scene\": {\"xaxis\": {\"backgroundcolor\": \"#E5ECF6\", \"gridcolor\": \"white\", \"gridwidth\": 2, \"linecolor\": \"white\", \"showbackground\": true, \"ticks\": \"\", \"zerolinecolor\": \"white\"}, \"yaxis\": {\"backgroundcolor\": \"#E5ECF6\", \"gridcolor\": \"white\", \"gridwidth\": 2, \"linecolor\": \"white\", \"showbackground\": true, \"ticks\": \"\", \"zerolinecolor\": \"white\"}, \"zaxis\": {\"backgroundcolor\": \"#E5ECF6\", \"gridcolor\": \"white\", \"gridwidth\": 2, \"linecolor\": \"white\", \"showbackground\": true, \"ticks\": \"\", \"zerolinecolor\": \"white\"}}, \"shapedefaults\": {\"line\": {\"color\": \"#2a3f5f\"}}, \"ternary\": {\"aaxis\": {\"gridcolor\": \"white\", \"linecolor\": \"white\", \"ticks\": \"\"}, \"baxis\": {\"gridcolor\": \"white\", \"linecolor\": \"white\", \"ticks\": \"\"}, \"bgcolor\": \"#E5ECF6\", \"caxis\": {\"gridcolor\": \"white\", \"linecolor\": \"white\", \"ticks\": \"\"}}, \"title\": {\"x\": 0.05}, \"xaxis\": {\"automargin\": true, \"gridcolor\": \"white\", \"linecolor\": \"white\", \"ticks\": \"\", \"title\": {\"standoff\": 15}, \"zerolinecolor\": \"white\", \"zerolinewidth\": 2}, \"yaxis\": {\"automargin\": true, \"gridcolor\": \"white\", \"linecolor\": \"white\", \"ticks\": \"\", \"title\": {\"standoff\": 15}, \"zerolinecolor\": \"white\", \"zerolinewidth\": 2}}}, \"title\": {\"font\": {\"color\": \"#4D5663\"}, \"text\": \"China\"}, \"xaxis\": {\"gridcolor\": \"#E1E5ED\", \"showgrid\": true, \"tickfont\": {\"color\": \"#4D5663\"}, \"title\": {\"font\": {\"color\": \"#4D5663\"}, \"text\": \"Year\"}, \"zerolinecolor\": \"#E1E5ED\"}, \"yaxis\": {\"gridcolor\": \"#E1E5ED\", \"showgrid\": true, \"tickfont\": {\"color\": \"#4D5663\"}, \"title\": {\"font\": {\"color\": \"#4D5663\"}, \"text\": \"Index\"}, \"zerolinecolor\": \"#E1E5ED\"}},                        {\"showLink\": true, \"linkText\": \"Export to plot.ly\", \"plotlyServerURL\": \"https://plot.ly\", \"responsive\": true}                    ).then(function(){\n",
       "                            \n",
       "var gd = document.getElementById('db5b09e4-0eba-4355-be15-abdba9336958');\n",
       "var x = new MutationObserver(function (mutations, observer) {{\n",
       "        var display = window.getComputedStyle(gd).display;\n",
       "        if (!display || display === 'none') {{\n",
       "            console.log([gd, 'removed!']);\n",
       "            Plotly.purge(gd);\n",
       "            observer.disconnect();\n",
       "        }}\n",
       "}});\n",
       "\n",
       "// Listen for the removal of the full notebook cells\n",
       "var notebookContainer = gd.closest('#notebook-container');\n",
       "if (notebookContainer) {{\n",
       "    x.observe(notebookContainer, {childList: true});\n",
       "}}\n",
       "\n",
       "// Listen for the clearing of the current output cell\n",
       "var outputEl = gd.closest('.output');\n",
       "if (outputEl) {{\n",
       "    x.observe(outputEl, {childList: true});\n",
       "}}\n",
       "\n",
       "                        })                };                });            </script>        </div>"
      ]
     },
     "metadata": {},
     "output_type": "display_data"
    }
   ],
   "source": [
    "vars = {\"AG.PRD.LVSK.XD\":\"Livestock index\",\n",
    "        \"AG.PRD.FOOD.XD\":\"Food index\",\n",
    "        \"AG.PRD.CROP.XD\":\"Crop index\",\n",
    "        \"SP.POP.TOTL\":\"Population\"}\n",
    "\n",
    "use = ['CHN']\n",
    "\n",
    "food = fix_date_index(wbdata.get_dataframe(vars,country=use))\n",
    "\n",
    "food.sort_index(inplace=True)\n",
    "\n",
    "food['Population'] = food['Population']/food.loc[2006,'Population']*100\n",
    "\n",
    "food.iplot(xTitle=\"Year\",yTitle=\"Index\", title=\"China\")"
   ]
  },
  {
   "cell_type": "code",
   "execution_count": 18,
   "metadata": {
    "scrolled": false
   },
   "outputs": [
    {
     "data": {
      "application/vnd.plotly.v1+json": {
       "config": {
        "linkText": "Export to plot.ly",
        "plotlyServerURL": "https://plot.ly",
        "showLink": true
       },
       "data": [
        {
         "line": {
          "color": "rgba(255, 153, 51, 1.0)",
          "dash": "solid",
          "shape": "linear",
          "width": 1.3
         },
         "mode": "lines",
         "name": "Livestock index",
         "text": "",
         "type": "scatter",
         "x": [
          1960,
          1961,
          1962,
          1963,
          1964,
          1965,
          1966,
          1967,
          1968,
          1969,
          1970,
          1971,
          1972,
          1973,
          1974,
          1975,
          1976,
          1977,
          1978,
          1979,
          1980,
          1981,
          1982,
          1983,
          1984,
          1985,
          1986,
          1987,
          1988,
          1989,
          1990,
          1991,
          1992,
          1993,
          1994,
          1995,
          1996,
          1997,
          1998,
          1999,
          2000,
          2001,
          2002,
          2003,
          2004,
          2005,
          2006,
          2007,
          2008,
          2009,
          2010,
          2011,
          2012,
          2013,
          2014,
          2015,
          2016,
          2017,
          2018,
          2019,
          2020
         ],
         "y": [
          "",
          "",
          0.12188981760903683,
          0.3079667436232867,
          0.19256012794212984,
          0.10821358464023234,
          0.06995858860691051,
          0.04372836982746975,
          -0.0039880411779558145,
          -0.007017572658646554,
          0.0010055305020189031,
          0.11655391655645175,
          0.08730948401225769,
          0.016260520871780315,
          0.007231851526495081,
          0.03539496493526828,
          -0.0007730962889884729,
          0.01382510499184253,
          0.07916219339634267,
          0.15867080203288486,
          0.11195328751431965,
          0.040047501129275354,
          0.06547429184524578,
          0.041228298034565736,
          0.14455444465125789,
          0.09388471491630312,
          0.05583672473245116,
          0.08801974654164546,
          0.11082544167806052,
          0.052200169697676824,
          0.07639276583632393,
          0.0980036774321178,
          0.08282087309424346,
          0.09784168324379916,
          0.11231739245155792,
          0.0913163188887598,
          0.05203182413155272,
          0.034748650413333415,
          0.07449094787975774,
          0.037914969967223655,
          0.05818085869249234,
          0.014764338354218864,
          0.03218827808340574,
          0.05392380068917646,
          0.030093391873213804,
          0.04630173407929217,
          0.03447941936006593,
          0.03630574574617018,
          0.038434746194883296,
          0.0338211338604113,
          0.028441971675172262,
          0.006110083876099459,
          0.03975333291708161,
          0.014173340215226204,
          0.004575222937170054,
          0.0074489700296309636,
          0.01872829851417368,
          "",
          "",
          "",
          ""
         ]
        },
        {
         "line": {
          "color": "rgba(55, 128, 191, 1.0)",
          "dash": "solid",
          "shape": "linear",
          "width": 1.3
         },
         "mode": "lines",
         "name": "Food index",
         "text": "",
         "type": "scatter",
         "x": [
          1960,
          1961,
          1962,
          1963,
          1964,
          1965,
          1966,
          1967,
          1968,
          1969,
          1970,
          1971,
          1972,
          1973,
          1974,
          1975,
          1976,
          1977,
          1978,
          1979,
          1980,
          1981,
          1982,
          1983,
          1984,
          1985,
          1986,
          1987,
          1988,
          1989,
          1990,
          1991,
          1992,
          1993,
          1994,
          1995,
          1996,
          1997,
          1998,
          1999,
          2000,
          2001,
          2002,
          2003,
          2004,
          2005,
          2006,
          2007,
          2008,
          2009,
          2010,
          2011,
          2012,
          2013,
          2014,
          2015,
          2016,
          2017,
          2018,
          2019,
          2020
         ],
         "y": [
          "",
          "",
          0.0546185977562228,
          0.05380608083119487,
          0.07501900288010743,
          0.08018647879016694,
          0.05754170246096901,
          0.01348092672647061,
          -0.005370582189017092,
          0.011245098415502586,
          0.046810417843990315,
          0.05486921024581415,
          -0.00578872817624454,
          0.08260724049458634,
          0.003113189083226331,
          0.024562638368409218,
          -0.0056485051333448055,
          0.011265283779791524,
          0.09761842988535196,
          0.05733207771395765,
          0.002211574804840133,
          0.05480332730277837,
          0.08611054147647623,
          0.06709361674675085,
          0.08920195836944877,
          0.01250356055940216,
          0.050563692798701876,
          0.05325592802441381,
          0.029745536763508884,
          0.03848411846074251,
          0.09019030791375915,
          0.030696087157176866,
          0.05298472888528849,
          0.07668492418822748,
          0.05911358313292325,
          0.08044052864651441,
          0.07058257464986983,
          0.03357629553360386,
          0.05833696435939295,
          0.03914017272697734,
          0.04791482761860433,
          0.016773128615257704,
          0.04486712269659332,
          0.02274852780418346,
          0.06177837585778434,
          0.03982647427875374,
          0.026731151373303064,
          0.047625793768135694,
          0.05224060329262503,
          0.02521688143459766,
          0.026181716754517304,
          0.02819171702963441,
          0.03433369212805104,
          0.016233996661173755,
          0.01582299398548681,
          0.030252148282102098,
          0.02269683521419541,
          "",
          "",
          "",
          ""
         ]
        },
        {
         "line": {
          "color": "rgba(50, 171, 96, 1.0)",
          "dash": "solid",
          "shape": "linear",
          "width": 1.3
         },
         "mode": "lines",
         "name": "Crop index",
         "text": "",
         "type": "scatter",
         "x": [
          1960,
          1961,
          1962,
          1963,
          1964,
          1965,
          1966,
          1967,
          1968,
          1969,
          1970,
          1971,
          1972,
          1973,
          1974,
          1975,
          1976,
          1977,
          1978,
          1979,
          1980,
          1981,
          1982,
          1983,
          1984,
          1985,
          1986,
          1987,
          1988,
          1989,
          1990,
          1991,
          1992,
          1993,
          1994,
          1995,
          1996,
          1997,
          1998,
          1999,
          2000,
          2001,
          2002,
          2003,
          2004,
          2005,
          2006,
          2007,
          2008,
          2009,
          2010,
          2011,
          2012,
          2013,
          2014,
          2015,
          2016,
          2017,
          2018,
          2019,
          2020
         ],
         "y": [
          "",
          "",
          0.048737311443540765,
          0.039383328000374807,
          0.06872183204905413,
          0.07887431262313527,
          0.07514081993180444,
          0.010920229854463948,
          -0.007266887045378034,
          0.0056565807392741085,
          0.06963730521313671,
          0.0336259280755451,
          -0.03174869831458027,
          0.119698346230654,
          0.005310334417363727,
          0.02031524649947869,
          -0.011745648900441275,
          0.019500130407338112,
          0.10210449640443287,
          0.027516783408000567,
          -0.010515941727975875,
          0.055029164469565295,
          0.09732398239554518,
          0.07807807049937177,
          0.0847965366600767,
          -0.03889556276836492,
          0.01974313055360888,
          0.05135704076199721,
          0.005435343023978412,
          0.021843600829052345,
          0.07872730594620991,
          0.018349138668196652,
          0.03347959694932179,
          0.06296427801246285,
          0.02572643280563902,
          0.06961317650765686,
          0.07836610941505917,
          0.03186773884802285,
          0.030244371546706894,
          0.032084276831116476,
          0.048577872479854456,
          0.024583284926623428,
          0.043575709060526435,
          -0.0025373724242925277,
          0.07252871691795981,
          0.028059577026083637,
          0.02408090308699773,
          0.0520584818105041,
          0.060085410522416005,
          0.01762616913460402,
          0.03144621594927077,
          0.0505709819601865,
          0.03527087305064747,
          0.020878843983792805,
          0.016644242652939845,
          0.03531644049840921,
          0.02095308076968827,
          "",
          "",
          "",
          ""
         ]
        },
        {
         "line": {
          "color": "rgba(128, 0, 128, 1.0)",
          "dash": "solid",
          "shape": "linear",
          "width": 1.3
         },
         "mode": "lines",
         "name": "Population",
         "text": "",
         "type": "scatter",
         "x": [
          1960,
          1961,
          1962,
          1963,
          1964,
          1965,
          1966,
          1967,
          1968,
          1969,
          1970,
          1971,
          1972,
          1973,
          1974,
          1975,
          1976,
          1977,
          1978,
          1979,
          1980,
          1981,
          1982,
          1983,
          1984,
          1985,
          1986,
          1987,
          1988,
          1989,
          1990,
          1991,
          1992,
          1993,
          1994,
          1995,
          1996,
          1997,
          1998,
          1999,
          2000,
          2001,
          2002,
          2003,
          2004,
          2005,
          2006,
          2007,
          2008,
          2009,
          2010,
          2011,
          2012,
          2013,
          2014,
          2015,
          2016,
          2017,
          2018,
          2019,
          2020
         ],
         "y": [
          "",
          -0.010155277873131752,
          0.008204555487485443,
          0.024576474039514018,
          0.023206829870685564,
          0.023813681025194988,
          0.02787331838216911,
          0.025706976197388265,
          0.026109026264852453,
          0.02740002105695627,
          0.027616755664530146,
          0.02746915549618567,
          0.024573569295228914,
          0.022833953639637805,
          0.020659550133563798,
          0.017663917816247654,
          0.015473379728766723,
          0.013627794757067768,
          0.013381823383408431,
          0.013339279535168558,
          0.012542210519399077,
          0.012809523442925297,
          0.014726747601657486,
          0.014449496950092566,
          0.013120687611377413,
          0.013616991182536786,
          0.014873989291490197,
          0.016036050865576357,
          0.016100710857870126,
          0.015331699959985734,
          0.014673032108793116,
          0.013644340084034923,
          0.012255362283362103,
          0.011496194308346475,
          0.011302606321558883,
          0.010865091508897251,
          0.010481415141216921,
          0.01023450024198791,
          0.009595504062981597,
          0.008658513929932887,
          0.007879565929539645,
          0.007263806378385418,
          0.006699995677585946,
          0.006228609361335735,
          0.005939328151121082,
          0.005881249895570484,
          0.005583743673730268,
          0.005222718663921988,
          0.005123869316374652,
          0.004973814008849331,
          0.004829596886783527,
          0.004791504542499325,
          0.004872311179712874,
          0.004937096335113189,
          0.005063115917798733,
          0.005081367472919318,
          0.005414785120501087,
          0.005591213310172094,
          0.004558996786725444,
          0.003572910631157278,
          ""
         ]
        }
       ],
       "layout": {
        "legend": {
         "bgcolor": "#F5F6F9",
         "font": {
          "color": "#4D5663"
         }
        },
        "paper_bgcolor": "#F5F6F9",
        "plot_bgcolor": "#F5F6F9",
        "template": {
         "data": {
          "bar": [
           {
            "error_x": {
             "color": "#2a3f5f"
            },
            "error_y": {
             "color": "#2a3f5f"
            },
            "marker": {
             "line": {
              "color": "#E5ECF6",
              "width": 0.5
             }
            },
            "type": "bar"
           }
          ],
          "barpolar": [
           {
            "marker": {
             "line": {
              "color": "#E5ECF6",
              "width": 0.5
             }
            },
            "type": "barpolar"
           }
          ],
          "carpet": [
           {
            "aaxis": {
             "endlinecolor": "#2a3f5f",
             "gridcolor": "white",
             "linecolor": "white",
             "minorgridcolor": "white",
             "startlinecolor": "#2a3f5f"
            },
            "baxis": {
             "endlinecolor": "#2a3f5f",
             "gridcolor": "white",
             "linecolor": "white",
             "minorgridcolor": "white",
             "startlinecolor": "#2a3f5f"
            },
            "type": "carpet"
           }
          ],
          "choropleth": [
           {
            "colorbar": {
             "outlinewidth": 0,
             "ticks": ""
            },
            "type": "choropleth"
           }
          ],
          "contour": [
           {
            "colorbar": {
             "outlinewidth": 0,
             "ticks": ""
            },
            "colorscale": [
             [
              0,
              "#0d0887"
             ],
             [
              0.1111111111111111,
              "#46039f"
             ],
             [
              0.2222222222222222,
              "#7201a8"
             ],
             [
              0.3333333333333333,
              "#9c179e"
             ],
             [
              0.4444444444444444,
              "#bd3786"
             ],
             [
              0.5555555555555556,
              "#d8576b"
             ],
             [
              0.6666666666666666,
              "#ed7953"
             ],
             [
              0.7777777777777778,
              "#fb9f3a"
             ],
             [
              0.8888888888888888,
              "#fdca26"
             ],
             [
              1,
              "#f0f921"
             ]
            ],
            "type": "contour"
           }
          ],
          "contourcarpet": [
           {
            "colorbar": {
             "outlinewidth": 0,
             "ticks": ""
            },
            "type": "contourcarpet"
           }
          ],
          "heatmap": [
           {
            "colorbar": {
             "outlinewidth": 0,
             "ticks": ""
            },
            "colorscale": [
             [
              0,
              "#0d0887"
             ],
             [
              0.1111111111111111,
              "#46039f"
             ],
             [
              0.2222222222222222,
              "#7201a8"
             ],
             [
              0.3333333333333333,
              "#9c179e"
             ],
             [
              0.4444444444444444,
              "#bd3786"
             ],
             [
              0.5555555555555556,
              "#d8576b"
             ],
             [
              0.6666666666666666,
              "#ed7953"
             ],
             [
              0.7777777777777778,
              "#fb9f3a"
             ],
             [
              0.8888888888888888,
              "#fdca26"
             ],
             [
              1,
              "#f0f921"
             ]
            ],
            "type": "heatmap"
           }
          ],
          "heatmapgl": [
           {
            "colorbar": {
             "outlinewidth": 0,
             "ticks": ""
            },
            "colorscale": [
             [
              0,
              "#0d0887"
             ],
             [
              0.1111111111111111,
              "#46039f"
             ],
             [
              0.2222222222222222,
              "#7201a8"
             ],
             [
              0.3333333333333333,
              "#9c179e"
             ],
             [
              0.4444444444444444,
              "#bd3786"
             ],
             [
              0.5555555555555556,
              "#d8576b"
             ],
             [
              0.6666666666666666,
              "#ed7953"
             ],
             [
              0.7777777777777778,
              "#fb9f3a"
             ],
             [
              0.8888888888888888,
              "#fdca26"
             ],
             [
              1,
              "#f0f921"
             ]
            ],
            "type": "heatmapgl"
           }
          ],
          "histogram": [
           {
            "marker": {
             "colorbar": {
              "outlinewidth": 0,
              "ticks": ""
             }
            },
            "type": "histogram"
           }
          ],
          "histogram2d": [
           {
            "colorbar": {
             "outlinewidth": 0,
             "ticks": ""
            },
            "colorscale": [
             [
              0,
              "#0d0887"
             ],
             [
              0.1111111111111111,
              "#46039f"
             ],
             [
              0.2222222222222222,
              "#7201a8"
             ],
             [
              0.3333333333333333,
              "#9c179e"
             ],
             [
              0.4444444444444444,
              "#bd3786"
             ],
             [
              0.5555555555555556,
              "#d8576b"
             ],
             [
              0.6666666666666666,
              "#ed7953"
             ],
             [
              0.7777777777777778,
              "#fb9f3a"
             ],
             [
              0.8888888888888888,
              "#fdca26"
             ],
             [
              1,
              "#f0f921"
             ]
            ],
            "type": "histogram2d"
           }
          ],
          "histogram2dcontour": [
           {
            "colorbar": {
             "outlinewidth": 0,
             "ticks": ""
            },
            "colorscale": [
             [
              0,
              "#0d0887"
             ],
             [
              0.1111111111111111,
              "#46039f"
             ],
             [
              0.2222222222222222,
              "#7201a8"
             ],
             [
              0.3333333333333333,
              "#9c179e"
             ],
             [
              0.4444444444444444,
              "#bd3786"
             ],
             [
              0.5555555555555556,
              "#d8576b"
             ],
             [
              0.6666666666666666,
              "#ed7953"
             ],
             [
              0.7777777777777778,
              "#fb9f3a"
             ],
             [
              0.8888888888888888,
              "#fdca26"
             ],
             [
              1,
              "#f0f921"
             ]
            ],
            "type": "histogram2dcontour"
           }
          ],
          "mesh3d": [
           {
            "colorbar": {
             "outlinewidth": 0,
             "ticks": ""
            },
            "type": "mesh3d"
           }
          ],
          "parcoords": [
           {
            "line": {
             "colorbar": {
              "outlinewidth": 0,
              "ticks": ""
             }
            },
            "type": "parcoords"
           }
          ],
          "pie": [
           {
            "automargin": true,
            "type": "pie"
           }
          ],
          "scatter": [
           {
            "marker": {
             "colorbar": {
              "outlinewidth": 0,
              "ticks": ""
             }
            },
            "type": "scatter"
           }
          ],
          "scatter3d": [
           {
            "line": {
             "colorbar": {
              "outlinewidth": 0,
              "ticks": ""
             }
            },
            "marker": {
             "colorbar": {
              "outlinewidth": 0,
              "ticks": ""
             }
            },
            "type": "scatter3d"
           }
          ],
          "scattercarpet": [
           {
            "marker": {
             "colorbar": {
              "outlinewidth": 0,
              "ticks": ""
             }
            },
            "type": "scattercarpet"
           }
          ],
          "scattergeo": [
           {
            "marker": {
             "colorbar": {
              "outlinewidth": 0,
              "ticks": ""
             }
            },
            "type": "scattergeo"
           }
          ],
          "scattergl": [
           {
            "marker": {
             "colorbar": {
              "outlinewidth": 0,
              "ticks": ""
             }
            },
            "type": "scattergl"
           }
          ],
          "scattermapbox": [
           {
            "marker": {
             "colorbar": {
              "outlinewidth": 0,
              "ticks": ""
             }
            },
            "type": "scattermapbox"
           }
          ],
          "scatterpolar": [
           {
            "marker": {
             "colorbar": {
              "outlinewidth": 0,
              "ticks": ""
             }
            },
            "type": "scatterpolar"
           }
          ],
          "scatterpolargl": [
           {
            "marker": {
             "colorbar": {
              "outlinewidth": 0,
              "ticks": ""
             }
            },
            "type": "scatterpolargl"
           }
          ],
          "scatterternary": [
           {
            "marker": {
             "colorbar": {
              "outlinewidth": 0,
              "ticks": ""
             }
            },
            "type": "scatterternary"
           }
          ],
          "surface": [
           {
            "colorbar": {
             "outlinewidth": 0,
             "ticks": ""
            },
            "colorscale": [
             [
              0,
              "#0d0887"
             ],
             [
              0.1111111111111111,
              "#46039f"
             ],
             [
              0.2222222222222222,
              "#7201a8"
             ],
             [
              0.3333333333333333,
              "#9c179e"
             ],
             [
              0.4444444444444444,
              "#bd3786"
             ],
             [
              0.5555555555555556,
              "#d8576b"
             ],
             [
              0.6666666666666666,
              "#ed7953"
             ],
             [
              0.7777777777777778,
              "#fb9f3a"
             ],
             [
              0.8888888888888888,
              "#fdca26"
             ],
             [
              1,
              "#f0f921"
             ]
            ],
            "type": "surface"
           }
          ],
          "table": [
           {
            "cells": {
             "fill": {
              "color": "#EBF0F8"
             },
             "line": {
              "color": "white"
             }
            },
            "header": {
             "fill": {
              "color": "#C8D4E3"
             },
             "line": {
              "color": "white"
             }
            },
            "type": "table"
           }
          ]
         },
         "layout": {
          "annotationdefaults": {
           "arrowcolor": "#2a3f5f",
           "arrowhead": 0,
           "arrowwidth": 1
          },
          "autotypenumbers": "strict",
          "coloraxis": {
           "colorbar": {
            "outlinewidth": 0,
            "ticks": ""
           }
          },
          "colorscale": {
           "diverging": [
            [
             0,
             "#8e0152"
            ],
            [
             0.1,
             "#c51b7d"
            ],
            [
             0.2,
             "#de77ae"
            ],
            [
             0.3,
             "#f1b6da"
            ],
            [
             0.4,
             "#fde0ef"
            ],
            [
             0.5,
             "#f7f7f7"
            ],
            [
             0.6,
             "#e6f5d0"
            ],
            [
             0.7,
             "#b8e186"
            ],
            [
             0.8,
             "#7fbc41"
            ],
            [
             0.9,
             "#4d9221"
            ],
            [
             1,
             "#276419"
            ]
           ],
           "sequential": [
            [
             0,
             "#0d0887"
            ],
            [
             0.1111111111111111,
             "#46039f"
            ],
            [
             0.2222222222222222,
             "#7201a8"
            ],
            [
             0.3333333333333333,
             "#9c179e"
            ],
            [
             0.4444444444444444,
             "#bd3786"
            ],
            [
             0.5555555555555556,
             "#d8576b"
            ],
            [
             0.6666666666666666,
             "#ed7953"
            ],
            [
             0.7777777777777778,
             "#fb9f3a"
            ],
            [
             0.8888888888888888,
             "#fdca26"
            ],
            [
             1,
             "#f0f921"
            ]
           ],
           "sequentialminus": [
            [
             0,
             "#0d0887"
            ],
            [
             0.1111111111111111,
             "#46039f"
            ],
            [
             0.2222222222222222,
             "#7201a8"
            ],
            [
             0.3333333333333333,
             "#9c179e"
            ],
            [
             0.4444444444444444,
             "#bd3786"
            ],
            [
             0.5555555555555556,
             "#d8576b"
            ],
            [
             0.6666666666666666,
             "#ed7953"
            ],
            [
             0.7777777777777778,
             "#fb9f3a"
            ],
            [
             0.8888888888888888,
             "#fdca26"
            ],
            [
             1,
             "#f0f921"
            ]
           ]
          },
          "colorway": [
           "#636efa",
           "#EF553B",
           "#00cc96",
           "#ab63fa",
           "#FFA15A",
           "#19d3f3",
           "#FF6692",
           "#B6E880",
           "#FF97FF",
           "#FECB52"
          ],
          "font": {
           "color": "#2a3f5f"
          },
          "geo": {
           "bgcolor": "white",
           "lakecolor": "white",
           "landcolor": "#E5ECF6",
           "showlakes": true,
           "showland": true,
           "subunitcolor": "white"
          },
          "hoverlabel": {
           "align": "left"
          },
          "hovermode": "closest",
          "mapbox": {
           "style": "light"
          },
          "paper_bgcolor": "white",
          "plot_bgcolor": "#E5ECF6",
          "polar": {
           "angularaxis": {
            "gridcolor": "white",
            "linecolor": "white",
            "ticks": ""
           },
           "bgcolor": "#E5ECF6",
           "radialaxis": {
            "gridcolor": "white",
            "linecolor": "white",
            "ticks": ""
           }
          },
          "scene": {
           "xaxis": {
            "backgroundcolor": "#E5ECF6",
            "gridcolor": "white",
            "gridwidth": 2,
            "linecolor": "white",
            "showbackground": true,
            "ticks": "",
            "zerolinecolor": "white"
           },
           "yaxis": {
            "backgroundcolor": "#E5ECF6",
            "gridcolor": "white",
            "gridwidth": 2,
            "linecolor": "white",
            "showbackground": true,
            "ticks": "",
            "zerolinecolor": "white"
           },
           "zaxis": {
            "backgroundcolor": "#E5ECF6",
            "gridcolor": "white",
            "gridwidth": 2,
            "linecolor": "white",
            "showbackground": true,
            "ticks": "",
            "zerolinecolor": "white"
           }
          },
          "shapedefaults": {
           "line": {
            "color": "#2a3f5f"
           }
          },
          "ternary": {
           "aaxis": {
            "gridcolor": "white",
            "linecolor": "white",
            "ticks": ""
           },
           "baxis": {
            "gridcolor": "white",
            "linecolor": "white",
            "ticks": ""
           },
           "bgcolor": "#E5ECF6",
           "caxis": {
            "gridcolor": "white",
            "linecolor": "white",
            "ticks": ""
           }
          },
          "title": {
           "x": 0.05
          },
          "xaxis": {
           "automargin": true,
           "gridcolor": "white",
           "linecolor": "white",
           "ticks": "",
           "title": {
            "standoff": 15
           },
           "zerolinecolor": "white",
           "zerolinewidth": 2
          },
          "yaxis": {
           "automargin": true,
           "gridcolor": "white",
           "linecolor": "white",
           "ticks": "",
           "title": {
            "standoff": 15
           },
           "zerolinecolor": "white",
           "zerolinewidth": 2
          }
         }
        },
        "title": {
         "font": {
          "color": "#4D5663"
         },
         "text": "China Growth Rates"
        },
        "xaxis": {
         "gridcolor": "#E1E5ED",
         "showgrid": true,
         "tickfont": {
          "color": "#4D5663"
         },
         "title": {
          "font": {
           "color": "#4D5663"
          },
          "text": "Year"
         },
         "zerolinecolor": "#E1E5ED"
        },
        "yaxis": {
         "gridcolor": "#E1E5ED",
         "showgrid": true,
         "tickfont": {
          "color": "#4D5663"
         },
         "title": {
          "font": {
           "color": "#4D5663"
          },
          "text": "Growth rates"
         },
         "zerolinecolor": "#E1E5ED"
        }
       }
      },
      "text/html": [
       "<div>                            <div id=\"0380484b-4fc5-45c0-bf9e-ca02c1b2f773\" class=\"plotly-graph-div\" style=\"height:525px; width:100%;\"></div>            <script type=\"text/javascript\">                require([\"plotly\"], function(Plotly) {                    window.PLOTLYENV=window.PLOTLYENV || {};\n",
       "                    window.PLOTLYENV.BASE_URL='https://plot.ly';                                    if (document.getElementById(\"0380484b-4fc5-45c0-bf9e-ca02c1b2f773\")) {                    Plotly.newPlot(                        \"0380484b-4fc5-45c0-bf9e-ca02c1b2f773\",                        [{\"line\": {\"color\": \"rgba(255, 153, 51, 1.0)\", \"dash\": \"solid\", \"shape\": \"linear\", \"width\": 1.3}, \"mode\": \"lines\", \"name\": \"Livestock index\", \"text\": \"\", \"type\": \"scatter\", \"x\": [1960, 1961, 1962, 1963, 1964, 1965, 1966, 1967, 1968, 1969, 1970, 1971, 1972, 1973, 1974, 1975, 1976, 1977, 1978, 1979, 1980, 1981, 1982, 1983, 1984, 1985, 1986, 1987, 1988, 1989, 1990, 1991, 1992, 1993, 1994, 1995, 1996, 1997, 1998, 1999, 2000, 2001, 2002, 2003, 2004, 2005, 2006, 2007, 2008, 2009, 2010, 2011, 2012, 2013, 2014, 2015, 2016, 2017, 2018, 2019, 2020], \"y\": [\"\", \"\", 0.12188981760903683, 0.3079667436232867, 0.19256012794212984, 0.10821358464023234, 0.06995858860691051, 0.04372836982746975, -0.0039880411779558145, -0.007017572658646554, 0.0010055305020189031, 0.11655391655645175, 0.08730948401225769, 0.016260520871780315, 0.007231851526495081, 0.03539496493526828, -0.0007730962889884729, 0.01382510499184253, 0.07916219339634267, 0.15867080203288486, 0.11195328751431965, 0.040047501129275354, 0.06547429184524578, 0.041228298034565736, 0.14455444465125789, 0.09388471491630312, 0.05583672473245116, 0.08801974654164546, 0.11082544167806052, 0.052200169697676824, 0.07639276583632393, 0.0980036774321178, 0.08282087309424346, 0.09784168324379916, 0.11231739245155792, 0.0913163188887598, 0.05203182413155272, 0.034748650413333415, 0.07449094787975774, 0.037914969967223655, 0.05818085869249234, 0.014764338354218864, 0.03218827808340574, 0.05392380068917646, 0.030093391873213804, 0.04630173407929217, 0.03447941936006593, 0.03630574574617018, 0.038434746194883296, 0.0338211338604113, 0.028441971675172262, 0.006110083876099459, 0.03975333291708161, 0.014173340215226204, 0.004575222937170054, 0.0074489700296309636, 0.01872829851417368, \"\", \"\", \"\", \"\"]}, {\"line\": {\"color\": \"rgba(55, 128, 191, 1.0)\", \"dash\": \"solid\", \"shape\": \"linear\", \"width\": 1.3}, \"mode\": \"lines\", \"name\": \"Food index\", \"text\": \"\", \"type\": \"scatter\", \"x\": [1960, 1961, 1962, 1963, 1964, 1965, 1966, 1967, 1968, 1969, 1970, 1971, 1972, 1973, 1974, 1975, 1976, 1977, 1978, 1979, 1980, 1981, 1982, 1983, 1984, 1985, 1986, 1987, 1988, 1989, 1990, 1991, 1992, 1993, 1994, 1995, 1996, 1997, 1998, 1999, 2000, 2001, 2002, 2003, 2004, 2005, 2006, 2007, 2008, 2009, 2010, 2011, 2012, 2013, 2014, 2015, 2016, 2017, 2018, 2019, 2020], \"y\": [\"\", \"\", 0.0546185977562228, 0.05380608083119487, 0.07501900288010743, 0.08018647879016694, 0.05754170246096901, 0.01348092672647061, -0.005370582189017092, 0.011245098415502586, 0.046810417843990315, 0.05486921024581415, -0.00578872817624454, 0.08260724049458634, 0.003113189083226331, 0.024562638368409218, -0.0056485051333448055, 0.011265283779791524, 0.09761842988535196, 0.05733207771395765, 0.002211574804840133, 0.05480332730277837, 0.08611054147647623, 0.06709361674675085, 0.08920195836944877, 0.01250356055940216, 0.050563692798701876, 0.05325592802441381, 0.029745536763508884, 0.03848411846074251, 0.09019030791375915, 0.030696087157176866, 0.05298472888528849, 0.07668492418822748, 0.05911358313292325, 0.08044052864651441, 0.07058257464986983, 0.03357629553360386, 0.05833696435939295, 0.03914017272697734, 0.04791482761860433, 0.016773128615257704, 0.04486712269659332, 0.02274852780418346, 0.06177837585778434, 0.03982647427875374, 0.026731151373303064, 0.047625793768135694, 0.05224060329262503, 0.02521688143459766, 0.026181716754517304, 0.02819171702963441, 0.03433369212805104, 0.016233996661173755, 0.01582299398548681, 0.030252148282102098, 0.02269683521419541, \"\", \"\", \"\", \"\"]}, {\"line\": {\"color\": \"rgba(50, 171, 96, 1.0)\", \"dash\": \"solid\", \"shape\": \"linear\", \"width\": 1.3}, \"mode\": \"lines\", \"name\": \"Crop index\", \"text\": \"\", \"type\": \"scatter\", \"x\": [1960, 1961, 1962, 1963, 1964, 1965, 1966, 1967, 1968, 1969, 1970, 1971, 1972, 1973, 1974, 1975, 1976, 1977, 1978, 1979, 1980, 1981, 1982, 1983, 1984, 1985, 1986, 1987, 1988, 1989, 1990, 1991, 1992, 1993, 1994, 1995, 1996, 1997, 1998, 1999, 2000, 2001, 2002, 2003, 2004, 2005, 2006, 2007, 2008, 2009, 2010, 2011, 2012, 2013, 2014, 2015, 2016, 2017, 2018, 2019, 2020], \"y\": [\"\", \"\", 0.048737311443540765, 0.039383328000374807, 0.06872183204905413, 0.07887431262313527, 0.07514081993180444, 0.010920229854463948, -0.007266887045378034, 0.0056565807392741085, 0.06963730521313671, 0.0336259280755451, -0.03174869831458027, 0.119698346230654, 0.005310334417363727, 0.02031524649947869, -0.011745648900441275, 0.019500130407338112, 0.10210449640443287, 0.027516783408000567, -0.010515941727975875, 0.055029164469565295, 0.09732398239554518, 0.07807807049937177, 0.0847965366600767, -0.03889556276836492, 0.01974313055360888, 0.05135704076199721, 0.005435343023978412, 0.021843600829052345, 0.07872730594620991, 0.018349138668196652, 0.03347959694932179, 0.06296427801246285, 0.02572643280563902, 0.06961317650765686, 0.07836610941505917, 0.03186773884802285, 0.030244371546706894, 0.032084276831116476, 0.048577872479854456, 0.024583284926623428, 0.043575709060526435, -0.0025373724242925277, 0.07252871691795981, 0.028059577026083637, 0.02408090308699773, 0.0520584818105041, 0.060085410522416005, 0.01762616913460402, 0.03144621594927077, 0.0505709819601865, 0.03527087305064747, 0.020878843983792805, 0.016644242652939845, 0.03531644049840921, 0.02095308076968827, \"\", \"\", \"\", \"\"]}, {\"line\": {\"color\": \"rgba(128, 0, 128, 1.0)\", \"dash\": \"solid\", \"shape\": \"linear\", \"width\": 1.3}, \"mode\": \"lines\", \"name\": \"Population\", \"text\": \"\", \"type\": \"scatter\", \"x\": [1960, 1961, 1962, 1963, 1964, 1965, 1966, 1967, 1968, 1969, 1970, 1971, 1972, 1973, 1974, 1975, 1976, 1977, 1978, 1979, 1980, 1981, 1982, 1983, 1984, 1985, 1986, 1987, 1988, 1989, 1990, 1991, 1992, 1993, 1994, 1995, 1996, 1997, 1998, 1999, 2000, 2001, 2002, 2003, 2004, 2005, 2006, 2007, 2008, 2009, 2010, 2011, 2012, 2013, 2014, 2015, 2016, 2017, 2018, 2019, 2020], \"y\": [\"\", -0.010155277873131752, 0.008204555487485443, 0.024576474039514018, 0.023206829870685564, 0.023813681025194988, 0.02787331838216911, 0.025706976197388265, 0.026109026264852453, 0.02740002105695627, 0.027616755664530146, 0.02746915549618567, 0.024573569295228914, 0.022833953639637805, 0.020659550133563798, 0.017663917816247654, 0.015473379728766723, 0.013627794757067768, 0.013381823383408431, 0.013339279535168558, 0.012542210519399077, 0.012809523442925297, 0.014726747601657486, 0.014449496950092566, 0.013120687611377413, 0.013616991182536786, 0.014873989291490197, 0.016036050865576357, 0.016100710857870126, 0.015331699959985734, 0.014673032108793116, 0.013644340084034923, 0.012255362283362103, 0.011496194308346475, 0.011302606321558883, 0.010865091508897251, 0.010481415141216921, 0.01023450024198791, 0.009595504062981597, 0.008658513929932887, 0.007879565929539645, 0.007263806378385418, 0.006699995677585946, 0.006228609361335735, 0.005939328151121082, 0.005881249895570484, 0.005583743673730268, 0.005222718663921988, 0.005123869316374652, 0.004973814008849331, 0.004829596886783527, 0.004791504542499325, 0.004872311179712874, 0.004937096335113189, 0.005063115917798733, 0.005081367472919318, 0.005414785120501087, 0.005591213310172094, 0.004558996786725444, 0.003572910631157278, \"\"]}],                        {\"legend\": {\"bgcolor\": \"#F5F6F9\", \"font\": {\"color\": \"#4D5663\"}}, \"paper_bgcolor\": \"#F5F6F9\", \"plot_bgcolor\": \"#F5F6F9\", \"template\": {\"data\": {\"bar\": [{\"error_x\": {\"color\": \"#2a3f5f\"}, \"error_y\": {\"color\": \"#2a3f5f\"}, \"marker\": {\"line\": {\"color\": \"#E5ECF6\", \"width\": 0.5}}, \"type\": \"bar\"}], \"barpolar\": [{\"marker\": {\"line\": {\"color\": \"#E5ECF6\", \"width\": 0.5}}, \"type\": \"barpolar\"}], \"carpet\": [{\"aaxis\": {\"endlinecolor\": \"#2a3f5f\", \"gridcolor\": \"white\", \"linecolor\": \"white\", \"minorgridcolor\": \"white\", \"startlinecolor\": \"#2a3f5f\"}, \"baxis\": {\"endlinecolor\": \"#2a3f5f\", \"gridcolor\": \"white\", \"linecolor\": \"white\", \"minorgridcolor\": \"white\", \"startlinecolor\": \"#2a3f5f\"}, \"type\": \"carpet\"}], \"choropleth\": [{\"colorbar\": {\"outlinewidth\": 0, \"ticks\": \"\"}, \"type\": \"choropleth\"}], \"contour\": [{\"colorbar\": {\"outlinewidth\": 0, \"ticks\": \"\"}, \"colorscale\": [[0.0, \"#0d0887\"], [0.1111111111111111, \"#46039f\"], [0.2222222222222222, \"#7201a8\"], [0.3333333333333333, \"#9c179e\"], [0.4444444444444444, \"#bd3786\"], [0.5555555555555556, \"#d8576b\"], [0.6666666666666666, \"#ed7953\"], [0.7777777777777778, \"#fb9f3a\"], [0.8888888888888888, \"#fdca26\"], [1.0, \"#f0f921\"]], \"type\": \"contour\"}], \"contourcarpet\": [{\"colorbar\": {\"outlinewidth\": 0, \"ticks\": \"\"}, \"type\": \"contourcarpet\"}], \"heatmap\": [{\"colorbar\": {\"outlinewidth\": 0, \"ticks\": \"\"}, \"colorscale\": [[0.0, \"#0d0887\"], [0.1111111111111111, \"#46039f\"], [0.2222222222222222, \"#7201a8\"], [0.3333333333333333, \"#9c179e\"], [0.4444444444444444, \"#bd3786\"], [0.5555555555555556, \"#d8576b\"], [0.6666666666666666, \"#ed7953\"], [0.7777777777777778, \"#fb9f3a\"], [0.8888888888888888, \"#fdca26\"], [1.0, \"#f0f921\"]], \"type\": \"heatmap\"}], \"heatmapgl\": [{\"colorbar\": {\"outlinewidth\": 0, \"ticks\": \"\"}, \"colorscale\": [[0.0, \"#0d0887\"], [0.1111111111111111, \"#46039f\"], [0.2222222222222222, \"#7201a8\"], [0.3333333333333333, \"#9c179e\"], [0.4444444444444444, \"#bd3786\"], [0.5555555555555556, \"#d8576b\"], [0.6666666666666666, \"#ed7953\"], [0.7777777777777778, \"#fb9f3a\"], [0.8888888888888888, \"#fdca26\"], [1.0, \"#f0f921\"]], \"type\": \"heatmapgl\"}], \"histogram\": [{\"marker\": {\"colorbar\": {\"outlinewidth\": 0, \"ticks\": \"\"}}, \"type\": \"histogram\"}], \"histogram2d\": [{\"colorbar\": {\"outlinewidth\": 0, \"ticks\": \"\"}, \"colorscale\": [[0.0, \"#0d0887\"], [0.1111111111111111, \"#46039f\"], [0.2222222222222222, \"#7201a8\"], [0.3333333333333333, \"#9c179e\"], [0.4444444444444444, \"#bd3786\"], [0.5555555555555556, \"#d8576b\"], [0.6666666666666666, \"#ed7953\"], [0.7777777777777778, \"#fb9f3a\"], [0.8888888888888888, \"#fdca26\"], [1.0, \"#f0f921\"]], \"type\": \"histogram2d\"}], \"histogram2dcontour\": [{\"colorbar\": {\"outlinewidth\": 0, \"ticks\": \"\"}, \"colorscale\": [[0.0, \"#0d0887\"], [0.1111111111111111, \"#46039f\"], [0.2222222222222222, \"#7201a8\"], [0.3333333333333333, \"#9c179e\"], [0.4444444444444444, \"#bd3786\"], [0.5555555555555556, \"#d8576b\"], [0.6666666666666666, \"#ed7953\"], [0.7777777777777778, \"#fb9f3a\"], [0.8888888888888888, \"#fdca26\"], [1.0, \"#f0f921\"]], \"type\": \"histogram2dcontour\"}], \"mesh3d\": [{\"colorbar\": {\"outlinewidth\": 0, \"ticks\": \"\"}, \"type\": \"mesh3d\"}], \"parcoords\": [{\"line\": {\"colorbar\": {\"outlinewidth\": 0, \"ticks\": \"\"}}, \"type\": \"parcoords\"}], \"pie\": [{\"automargin\": true, \"type\": \"pie\"}], \"scatter\": [{\"marker\": {\"colorbar\": {\"outlinewidth\": 0, \"ticks\": \"\"}}, \"type\": \"scatter\"}], \"scatter3d\": [{\"line\": {\"colorbar\": {\"outlinewidth\": 0, \"ticks\": \"\"}}, \"marker\": {\"colorbar\": {\"outlinewidth\": 0, \"ticks\": \"\"}}, \"type\": \"scatter3d\"}], \"scattercarpet\": [{\"marker\": {\"colorbar\": {\"outlinewidth\": 0, \"ticks\": \"\"}}, \"type\": \"scattercarpet\"}], \"scattergeo\": [{\"marker\": {\"colorbar\": {\"outlinewidth\": 0, \"ticks\": \"\"}}, \"type\": \"scattergeo\"}], \"scattergl\": [{\"marker\": {\"colorbar\": {\"outlinewidth\": 0, \"ticks\": \"\"}}, \"type\": \"scattergl\"}], \"scattermapbox\": [{\"marker\": {\"colorbar\": {\"outlinewidth\": 0, \"ticks\": \"\"}}, \"type\": \"scattermapbox\"}], \"scatterpolar\": [{\"marker\": {\"colorbar\": {\"outlinewidth\": 0, \"ticks\": \"\"}}, \"type\": \"scatterpolar\"}], \"scatterpolargl\": [{\"marker\": {\"colorbar\": {\"outlinewidth\": 0, \"ticks\": \"\"}}, \"type\": \"scatterpolargl\"}], \"scatterternary\": [{\"marker\": {\"colorbar\": {\"outlinewidth\": 0, \"ticks\": \"\"}}, \"type\": \"scatterternary\"}], \"surface\": [{\"colorbar\": {\"outlinewidth\": 0, \"ticks\": \"\"}, \"colorscale\": [[0.0, \"#0d0887\"], [0.1111111111111111, \"#46039f\"], [0.2222222222222222, \"#7201a8\"], [0.3333333333333333, \"#9c179e\"], [0.4444444444444444, \"#bd3786\"], [0.5555555555555556, \"#d8576b\"], [0.6666666666666666, \"#ed7953\"], [0.7777777777777778, \"#fb9f3a\"], [0.8888888888888888, \"#fdca26\"], [1.0, \"#f0f921\"]], \"type\": \"surface\"}], \"table\": [{\"cells\": {\"fill\": {\"color\": \"#EBF0F8\"}, \"line\": {\"color\": \"white\"}}, \"header\": {\"fill\": {\"color\": \"#C8D4E3\"}, \"line\": {\"color\": \"white\"}}, \"type\": \"table\"}]}, \"layout\": {\"annotationdefaults\": {\"arrowcolor\": \"#2a3f5f\", \"arrowhead\": 0, \"arrowwidth\": 1}, \"autotypenumbers\": \"strict\", \"coloraxis\": {\"colorbar\": {\"outlinewidth\": 0, \"ticks\": \"\"}}, \"colorscale\": {\"diverging\": [[0, \"#8e0152\"], [0.1, \"#c51b7d\"], [0.2, \"#de77ae\"], [0.3, \"#f1b6da\"], [0.4, \"#fde0ef\"], [0.5, \"#f7f7f7\"], [0.6, \"#e6f5d0\"], [0.7, \"#b8e186\"], [0.8, \"#7fbc41\"], [0.9, \"#4d9221\"], [1, \"#276419\"]], \"sequential\": [[0.0, \"#0d0887\"], [0.1111111111111111, \"#46039f\"], [0.2222222222222222, \"#7201a8\"], [0.3333333333333333, \"#9c179e\"], [0.4444444444444444, \"#bd3786\"], [0.5555555555555556, \"#d8576b\"], [0.6666666666666666, \"#ed7953\"], [0.7777777777777778, \"#fb9f3a\"], [0.8888888888888888, \"#fdca26\"], [1.0, \"#f0f921\"]], \"sequentialminus\": [[0.0, \"#0d0887\"], [0.1111111111111111, \"#46039f\"], [0.2222222222222222, \"#7201a8\"], [0.3333333333333333, \"#9c179e\"], [0.4444444444444444, \"#bd3786\"], [0.5555555555555556, \"#d8576b\"], [0.6666666666666666, \"#ed7953\"], [0.7777777777777778, \"#fb9f3a\"], [0.8888888888888888, \"#fdca26\"], [1.0, \"#f0f921\"]]}, \"colorway\": [\"#636efa\", \"#EF553B\", \"#00cc96\", \"#ab63fa\", \"#FFA15A\", \"#19d3f3\", \"#FF6692\", \"#B6E880\", \"#FF97FF\", \"#FECB52\"], \"font\": {\"color\": \"#2a3f5f\"}, \"geo\": {\"bgcolor\": \"white\", \"lakecolor\": \"white\", \"landcolor\": \"#E5ECF6\", \"showlakes\": true, \"showland\": true, \"subunitcolor\": \"white\"}, \"hoverlabel\": {\"align\": \"left\"}, \"hovermode\": \"closest\", \"mapbox\": {\"style\": \"light\"}, \"paper_bgcolor\": \"white\", \"plot_bgcolor\": \"#E5ECF6\", \"polar\": {\"angularaxis\": {\"gridcolor\": \"white\", \"linecolor\": \"white\", \"ticks\": \"\"}, \"bgcolor\": \"#E5ECF6\", \"radialaxis\": {\"gridcolor\": \"white\", \"linecolor\": \"white\", \"ticks\": \"\"}}, \"scene\": {\"xaxis\": {\"backgroundcolor\": \"#E5ECF6\", \"gridcolor\": \"white\", \"gridwidth\": 2, \"linecolor\": \"white\", \"showbackground\": true, \"ticks\": \"\", \"zerolinecolor\": \"white\"}, \"yaxis\": {\"backgroundcolor\": \"#E5ECF6\", \"gridcolor\": \"white\", \"gridwidth\": 2, \"linecolor\": \"white\", \"showbackground\": true, \"ticks\": \"\", \"zerolinecolor\": \"white\"}, \"zaxis\": {\"backgroundcolor\": \"#E5ECF6\", \"gridcolor\": \"white\", \"gridwidth\": 2, \"linecolor\": \"white\", \"showbackground\": true, \"ticks\": \"\", \"zerolinecolor\": \"white\"}}, \"shapedefaults\": {\"line\": {\"color\": \"#2a3f5f\"}}, \"ternary\": {\"aaxis\": {\"gridcolor\": \"white\", \"linecolor\": \"white\", \"ticks\": \"\"}, \"baxis\": {\"gridcolor\": \"white\", \"linecolor\": \"white\", \"ticks\": \"\"}, \"bgcolor\": \"#E5ECF6\", \"caxis\": {\"gridcolor\": \"white\", \"linecolor\": \"white\", \"ticks\": \"\"}}, \"title\": {\"x\": 0.05}, \"xaxis\": {\"automargin\": true, \"gridcolor\": \"white\", \"linecolor\": \"white\", \"ticks\": \"\", \"title\": {\"standoff\": 15}, \"zerolinecolor\": \"white\", \"zerolinewidth\": 2}, \"yaxis\": {\"automargin\": true, \"gridcolor\": \"white\", \"linecolor\": \"white\", \"ticks\": \"\", \"title\": {\"standoff\": 15}, \"zerolinecolor\": \"white\", \"zerolinewidth\": 2}}}, \"title\": {\"font\": {\"color\": \"#4D5663\"}, \"text\": \"China Growth Rates\"}, \"xaxis\": {\"gridcolor\": \"#E1E5ED\", \"showgrid\": true, \"tickfont\": {\"color\": \"#4D5663\"}, \"title\": {\"font\": {\"color\": \"#4D5663\"}, \"text\": \"Year\"}, \"zerolinecolor\": \"#E1E5ED\"}, \"yaxis\": {\"gridcolor\": \"#E1E5ED\", \"showgrid\": true, \"tickfont\": {\"color\": \"#4D5663\"}, \"title\": {\"font\": {\"color\": \"#4D5663\"}, \"text\": \"Growth rates\"}, \"zerolinecolor\": \"#E1E5ED\"}},                        {\"showLink\": true, \"linkText\": \"Export to plot.ly\", \"plotlyServerURL\": \"https://plot.ly\", \"responsive\": true}                    ).then(function(){\n",
       "                            \n",
       "var gd = document.getElementById('0380484b-4fc5-45c0-bf9e-ca02c1b2f773');\n",
       "var x = new MutationObserver(function (mutations, observer) {{\n",
       "        var display = window.getComputedStyle(gd).display;\n",
       "        if (!display || display === 'none') {{\n",
       "            console.log([gd, 'removed!']);\n",
       "            Plotly.purge(gd);\n",
       "            observer.disconnect();\n",
       "        }}\n",
       "}});\n",
       "\n",
       "// Listen for the removal of the full notebook cells\n",
       "var notebookContainer = gd.closest('#notebook-container');\n",
       "if (notebookContainer) {{\n",
       "    x.observe(notebookContainer, {childList: true});\n",
       "}}\n",
       "\n",
       "// Listen for the clearing of the current output cell\n",
       "var outputEl = gd.closest('.output');\n",
       "if (outputEl) {{\n",
       "    x.observe(outputEl, {childList: true});\n",
       "}}\n",
       "\n",
       "                        })                };                });            </script>        </div>"
      ]
     },
     "metadata": {},
     "output_type": "display_data"
    }
   ],
   "source": [
    "np.log(food).diff().iplot(xTitle=\"Year\",yTitle=\"Growth rates\", title = 'China Growth Rates')"
   ]
  },
  {
   "cell_type": "markdown",
   "metadata": {},
   "source": [
    "### India"
   ]
  },
  {
   "cell_type": "code",
   "execution_count": 19,
   "metadata": {
    "scrolled": false
   },
   "outputs": [
    {
     "data": {
      "application/vnd.plotly.v1+json": {
       "config": {
        "linkText": "Export to plot.ly",
        "plotlyServerURL": "https://plot.ly",
        "showLink": true
       },
       "data": [
        {
         "line": {
          "color": "rgba(255, 153, 51, 1.0)",
          "dash": "solid",
          "shape": "linear",
          "width": 1.3
         },
         "mode": "lines",
         "name": "Livestock index",
         "text": "",
         "type": "scatter",
         "x": [
          1960,
          1961,
          1962,
          1963,
          1964,
          1965,
          1966,
          1967,
          1968,
          1969,
          1970,
          1971,
          1972,
          1973,
          1974,
          1975,
          1976,
          1977,
          1978,
          1979,
          1980,
          1981,
          1982,
          1983,
          1984,
          1985,
          1986,
          1987,
          1988,
          1989,
          1990,
          1991,
          1992,
          1993,
          1994,
          1995,
          1996,
          1997,
          1998,
          1999,
          2000,
          2001,
          2002,
          2003,
          2004,
          2005,
          2006,
          2007,
          2008,
          2009,
          2010,
          2011,
          2012,
          2013,
          2014,
          2015,
          2016,
          2017,
          2018,
          2019,
          2020
         ],
         "y": [
          "",
          24.5,
          24.61,
          24.67,
          24.62,
          24.72,
          25.04,
          25.49,
          26.71,
          27.19,
          26.94,
          28.48,
          28.87,
          29.51,
          30.78,
          31.96,
          33.62,
          34.89,
          35.6,
          37.13,
          38.65,
          41.12,
          43.59,
          46.28,
          48.63,
          51.2,
          53.1,
          54.31,
          55.9,
          58.62,
          60.66,
          61.68,
          63.8,
          66.06,
          68.33,
          71.75,
          74.18,
          76.29,
          79.1,
          82.5,
          84.62,
          87.86,
          89.62,
          91.62,
          95.85,
          99.83,
          104.32,
          110.92,
          114.55,
          118.54,
          123.49,
          128.2,
          131.89,
          136.32,
          143.11,
          149.7,
          152.71,
          "",
          "",
          "",
          ""
         ]
        },
        {
         "line": {
          "color": "rgba(55, 128, 191, 1.0)",
          "dash": "solid",
          "shape": "linear",
          "width": 1.3
         },
         "mode": "lines",
         "name": "Food index",
         "text": "",
         "type": "scatter",
         "x": [
          1960,
          1961,
          1962,
          1963,
          1964,
          1965,
          1966,
          1967,
          1968,
          1969,
          1970,
          1971,
          1972,
          1973,
          1974,
          1975,
          1976,
          1977,
          1978,
          1979,
          1980,
          1981,
          1982,
          1983,
          1984,
          1985,
          1986,
          1987,
          1988,
          1989,
          1990,
          1991,
          1992,
          1993,
          1994,
          1995,
          1996,
          1997,
          1998,
          1999,
          2000,
          2001,
          2002,
          2003,
          2004,
          2005,
          2006,
          2007,
          2008,
          2009,
          2010,
          2011,
          2012,
          2013,
          2014,
          2015,
          2016,
          2017,
          2018,
          2019,
          2020
         ],
         "y": [
          "",
          32.12,
          31.68,
          32.4,
          33.23,
          31.67,
          31.63,
          33.55,
          35.4,
          36.62,
          38.52,
          38.96,
          37.34,
          40.31,
          39.04,
          43.38,
          42.99,
          46.53,
          48,
          45.78,
          47.65,
          51.02,
          50.71,
          56.79,
          57.86,
          59.1,
          60.08,
          59.54,
          65.24,
          68.93,
          70.13,
          71.13,
          74.12,
          76.9,
          79.03,
          81.05,
          84.09,
          86.51,
          88.02,
          92.14,
          91.53,
          94.63,
          87.38,
          96.38,
          94.74,
          100.03,
          105.23,
          114.49,
          117,
          114.27,
          123.19,
          130.87,
          133.81,
          139.06,
          142.88,
          141,
          144.39,
          "",
          "",
          "",
          ""
         ]
        },
        {
         "line": {
          "color": "rgba(50, 171, 96, 1.0)",
          "dash": "solid",
          "shape": "linear",
          "width": 1.3
         },
         "mode": "lines",
         "name": "Crop index",
         "text": "",
         "type": "scatter",
         "x": [
          1960,
          1961,
          1962,
          1963,
          1964,
          1965,
          1966,
          1967,
          1968,
          1969,
          1970,
          1971,
          1972,
          1973,
          1974,
          1975,
          1976,
          1977,
          1978,
          1979,
          1980,
          1981,
          1982,
          1983,
          1984,
          1985,
          1986,
          1987,
          1988,
          1989,
          1990,
          1991,
          1992,
          1993,
          1994,
          1995,
          1996,
          1997,
          1998,
          1999,
          2000,
          2001,
          2002,
          2003,
          2004,
          2005,
          2006,
          2007,
          2008,
          2009,
          2010,
          2011,
          2012,
          2013,
          2014,
          2015,
          2016,
          2017,
          2018,
          2019,
          2020
         ],
         "y": [
          "",
          34.95,
          34.64,
          35.66,
          36.61,
          34.47,
          34.15,
          36.78,
          38.59,
          39.94,
          42.44,
          43.02,
          40.6,
          44.16,
          42.24,
          47.05,
          46,
          50.24,
          52.4,
          48.82,
          50.43,
          54.02,
          52.74,
          59.44,
          60.31,
          61.21,
          61.16,
          59.85,
          67,
          71.58,
          72.59,
          73.68,
          77.07,
          79.74,
          82.07,
          83.68,
          87.07,
          88.84,
          90.18,
          94.32,
          92.08,
          94.78,
          84.74,
          96.97,
          94.12,
          99.9,
          105.98,
          116.23,
          117.28,
          112.83,
          124.91,
          134.07,
          136.19,
          141.74,
          144.36,
          139.61,
          142.83,
          "",
          "",
          "",
          ""
         ]
        },
        {
         "line": {
          "color": "rgba(128, 0, 128, 1.0)",
          "dash": "solid",
          "shape": "linear",
          "width": 1.3
         },
         "mode": "lines",
         "name": "Population",
         "text": "",
         "type": "scatter",
         "x": [
          1960,
          1961,
          1962,
          1963,
          1964,
          1965,
          1966,
          1967,
          1968,
          1969,
          1970,
          1971,
          1972,
          1973,
          1974,
          1975,
          1976,
          1977,
          1978,
          1979,
          1980,
          1981,
          1982,
          1983,
          1984,
          1985,
          1986,
          1987,
          1988,
          1989,
          1990,
          1991,
          1992,
          1993,
          1994,
          1995,
          1996,
          1997,
          1998,
          1999,
          2000,
          2001,
          2002,
          2003,
          2004,
          2005,
          2006,
          2007,
          2008,
          2009,
          2010,
          2011,
          2012,
          2013,
          2014,
          2015,
          2016,
          2017,
          2018,
          2019,
          2020
         ],
         "y": [
          38.65748421746129,
          39.43780107491629,
          40.24733655146871,
          41.08376149059311,
          41.943705282072685,
          42.8253277498225,
          43.726940757298024,
          44.650939270464576,
          45.60446811810676,
          46.59723071766273,
          47.635892098193715,
          48.723697771919994,
          49.85792286766589,
          51.03192878310742,
          52.235929731755206,
          53.46291087348363,
          54.70935968306468,
          55.9773873822425,
          57.27221428124031,
          58.60174926759392,
          59.9709193833838,
          61.380815761135366,
          62.82695126098227,
          64.30182523699887,
          65.79514627684281,
          67.29894757723925,
          68.81035411509615,
          70.3296219208811,
          71.85575124023488,
          73.38865198200773,
          74.92819132610458,
          76.47221729526117,
          78.01953768326221,
          79.57226671489008,
          81.13367255385417,
          82.70561356607153,
          84.28801356016979,
          85.87831858075454,
          87.47280760593691,
          89.06652648049035,
          90.65533907682833,
          92.23618444088588,
          93.80781202170314,
          95.36990289660987,
          96.9229294864353,
          98.46618839380238,
          100,
          101.52066833705898,
          103.01878059585002,
          104.4822426830244,
          105.90267595005113,
          107.27614204086764,
          108.60554944099295,
          109.89800042186855,
          111.16425770125167,
          112.41251082205994,
          113.64437310228301,
          114.85839390280739,
          116.0560478870532,
          117.24013954961225,
          ""
         ]
        }
       ],
       "layout": {
        "legend": {
         "bgcolor": "#F5F6F9",
         "font": {
          "color": "#4D5663"
         }
        },
        "paper_bgcolor": "#F5F6F9",
        "plot_bgcolor": "#F5F6F9",
        "template": {
         "data": {
          "bar": [
           {
            "error_x": {
             "color": "#2a3f5f"
            },
            "error_y": {
             "color": "#2a3f5f"
            },
            "marker": {
             "line": {
              "color": "#E5ECF6",
              "width": 0.5
             }
            },
            "type": "bar"
           }
          ],
          "barpolar": [
           {
            "marker": {
             "line": {
              "color": "#E5ECF6",
              "width": 0.5
             }
            },
            "type": "barpolar"
           }
          ],
          "carpet": [
           {
            "aaxis": {
             "endlinecolor": "#2a3f5f",
             "gridcolor": "white",
             "linecolor": "white",
             "minorgridcolor": "white",
             "startlinecolor": "#2a3f5f"
            },
            "baxis": {
             "endlinecolor": "#2a3f5f",
             "gridcolor": "white",
             "linecolor": "white",
             "minorgridcolor": "white",
             "startlinecolor": "#2a3f5f"
            },
            "type": "carpet"
           }
          ],
          "choropleth": [
           {
            "colorbar": {
             "outlinewidth": 0,
             "ticks": ""
            },
            "type": "choropleth"
           }
          ],
          "contour": [
           {
            "colorbar": {
             "outlinewidth": 0,
             "ticks": ""
            },
            "colorscale": [
             [
              0,
              "#0d0887"
             ],
             [
              0.1111111111111111,
              "#46039f"
             ],
             [
              0.2222222222222222,
              "#7201a8"
             ],
             [
              0.3333333333333333,
              "#9c179e"
             ],
             [
              0.4444444444444444,
              "#bd3786"
             ],
             [
              0.5555555555555556,
              "#d8576b"
             ],
             [
              0.6666666666666666,
              "#ed7953"
             ],
             [
              0.7777777777777778,
              "#fb9f3a"
             ],
             [
              0.8888888888888888,
              "#fdca26"
             ],
             [
              1,
              "#f0f921"
             ]
            ],
            "type": "contour"
           }
          ],
          "contourcarpet": [
           {
            "colorbar": {
             "outlinewidth": 0,
             "ticks": ""
            },
            "type": "contourcarpet"
           }
          ],
          "heatmap": [
           {
            "colorbar": {
             "outlinewidth": 0,
             "ticks": ""
            },
            "colorscale": [
             [
              0,
              "#0d0887"
             ],
             [
              0.1111111111111111,
              "#46039f"
             ],
             [
              0.2222222222222222,
              "#7201a8"
             ],
             [
              0.3333333333333333,
              "#9c179e"
             ],
             [
              0.4444444444444444,
              "#bd3786"
             ],
             [
              0.5555555555555556,
              "#d8576b"
             ],
             [
              0.6666666666666666,
              "#ed7953"
             ],
             [
              0.7777777777777778,
              "#fb9f3a"
             ],
             [
              0.8888888888888888,
              "#fdca26"
             ],
             [
              1,
              "#f0f921"
             ]
            ],
            "type": "heatmap"
           }
          ],
          "heatmapgl": [
           {
            "colorbar": {
             "outlinewidth": 0,
             "ticks": ""
            },
            "colorscale": [
             [
              0,
              "#0d0887"
             ],
             [
              0.1111111111111111,
              "#46039f"
             ],
             [
              0.2222222222222222,
              "#7201a8"
             ],
             [
              0.3333333333333333,
              "#9c179e"
             ],
             [
              0.4444444444444444,
              "#bd3786"
             ],
             [
              0.5555555555555556,
              "#d8576b"
             ],
             [
              0.6666666666666666,
              "#ed7953"
             ],
             [
              0.7777777777777778,
              "#fb9f3a"
             ],
             [
              0.8888888888888888,
              "#fdca26"
             ],
             [
              1,
              "#f0f921"
             ]
            ],
            "type": "heatmapgl"
           }
          ],
          "histogram": [
           {
            "marker": {
             "colorbar": {
              "outlinewidth": 0,
              "ticks": ""
             }
            },
            "type": "histogram"
           }
          ],
          "histogram2d": [
           {
            "colorbar": {
             "outlinewidth": 0,
             "ticks": ""
            },
            "colorscale": [
             [
              0,
              "#0d0887"
             ],
             [
              0.1111111111111111,
              "#46039f"
             ],
             [
              0.2222222222222222,
              "#7201a8"
             ],
             [
              0.3333333333333333,
              "#9c179e"
             ],
             [
              0.4444444444444444,
              "#bd3786"
             ],
             [
              0.5555555555555556,
              "#d8576b"
             ],
             [
              0.6666666666666666,
              "#ed7953"
             ],
             [
              0.7777777777777778,
              "#fb9f3a"
             ],
             [
              0.8888888888888888,
              "#fdca26"
             ],
             [
              1,
              "#f0f921"
             ]
            ],
            "type": "histogram2d"
           }
          ],
          "histogram2dcontour": [
           {
            "colorbar": {
             "outlinewidth": 0,
             "ticks": ""
            },
            "colorscale": [
             [
              0,
              "#0d0887"
             ],
             [
              0.1111111111111111,
              "#46039f"
             ],
             [
              0.2222222222222222,
              "#7201a8"
             ],
             [
              0.3333333333333333,
              "#9c179e"
             ],
             [
              0.4444444444444444,
              "#bd3786"
             ],
             [
              0.5555555555555556,
              "#d8576b"
             ],
             [
              0.6666666666666666,
              "#ed7953"
             ],
             [
              0.7777777777777778,
              "#fb9f3a"
             ],
             [
              0.8888888888888888,
              "#fdca26"
             ],
             [
              1,
              "#f0f921"
             ]
            ],
            "type": "histogram2dcontour"
           }
          ],
          "mesh3d": [
           {
            "colorbar": {
             "outlinewidth": 0,
             "ticks": ""
            },
            "type": "mesh3d"
           }
          ],
          "parcoords": [
           {
            "line": {
             "colorbar": {
              "outlinewidth": 0,
              "ticks": ""
             }
            },
            "type": "parcoords"
           }
          ],
          "pie": [
           {
            "automargin": true,
            "type": "pie"
           }
          ],
          "scatter": [
           {
            "marker": {
             "colorbar": {
              "outlinewidth": 0,
              "ticks": ""
             }
            },
            "type": "scatter"
           }
          ],
          "scatter3d": [
           {
            "line": {
             "colorbar": {
              "outlinewidth": 0,
              "ticks": ""
             }
            },
            "marker": {
             "colorbar": {
              "outlinewidth": 0,
              "ticks": ""
             }
            },
            "type": "scatter3d"
           }
          ],
          "scattercarpet": [
           {
            "marker": {
             "colorbar": {
              "outlinewidth": 0,
              "ticks": ""
             }
            },
            "type": "scattercarpet"
           }
          ],
          "scattergeo": [
           {
            "marker": {
             "colorbar": {
              "outlinewidth": 0,
              "ticks": ""
             }
            },
            "type": "scattergeo"
           }
          ],
          "scattergl": [
           {
            "marker": {
             "colorbar": {
              "outlinewidth": 0,
              "ticks": ""
             }
            },
            "type": "scattergl"
           }
          ],
          "scattermapbox": [
           {
            "marker": {
             "colorbar": {
              "outlinewidth": 0,
              "ticks": ""
             }
            },
            "type": "scattermapbox"
           }
          ],
          "scatterpolar": [
           {
            "marker": {
             "colorbar": {
              "outlinewidth": 0,
              "ticks": ""
             }
            },
            "type": "scatterpolar"
           }
          ],
          "scatterpolargl": [
           {
            "marker": {
             "colorbar": {
              "outlinewidth": 0,
              "ticks": ""
             }
            },
            "type": "scatterpolargl"
           }
          ],
          "scatterternary": [
           {
            "marker": {
             "colorbar": {
              "outlinewidth": 0,
              "ticks": ""
             }
            },
            "type": "scatterternary"
           }
          ],
          "surface": [
           {
            "colorbar": {
             "outlinewidth": 0,
             "ticks": ""
            },
            "colorscale": [
             [
              0,
              "#0d0887"
             ],
             [
              0.1111111111111111,
              "#46039f"
             ],
             [
              0.2222222222222222,
              "#7201a8"
             ],
             [
              0.3333333333333333,
              "#9c179e"
             ],
             [
              0.4444444444444444,
              "#bd3786"
             ],
             [
              0.5555555555555556,
              "#d8576b"
             ],
             [
              0.6666666666666666,
              "#ed7953"
             ],
             [
              0.7777777777777778,
              "#fb9f3a"
             ],
             [
              0.8888888888888888,
              "#fdca26"
             ],
             [
              1,
              "#f0f921"
             ]
            ],
            "type": "surface"
           }
          ],
          "table": [
           {
            "cells": {
             "fill": {
              "color": "#EBF0F8"
             },
             "line": {
              "color": "white"
             }
            },
            "header": {
             "fill": {
              "color": "#C8D4E3"
             },
             "line": {
              "color": "white"
             }
            },
            "type": "table"
           }
          ]
         },
         "layout": {
          "annotationdefaults": {
           "arrowcolor": "#2a3f5f",
           "arrowhead": 0,
           "arrowwidth": 1
          },
          "autotypenumbers": "strict",
          "coloraxis": {
           "colorbar": {
            "outlinewidth": 0,
            "ticks": ""
           }
          },
          "colorscale": {
           "diverging": [
            [
             0,
             "#8e0152"
            ],
            [
             0.1,
             "#c51b7d"
            ],
            [
             0.2,
             "#de77ae"
            ],
            [
             0.3,
             "#f1b6da"
            ],
            [
             0.4,
             "#fde0ef"
            ],
            [
             0.5,
             "#f7f7f7"
            ],
            [
             0.6,
             "#e6f5d0"
            ],
            [
             0.7,
             "#b8e186"
            ],
            [
             0.8,
             "#7fbc41"
            ],
            [
             0.9,
             "#4d9221"
            ],
            [
             1,
             "#276419"
            ]
           ],
           "sequential": [
            [
             0,
             "#0d0887"
            ],
            [
             0.1111111111111111,
             "#46039f"
            ],
            [
             0.2222222222222222,
             "#7201a8"
            ],
            [
             0.3333333333333333,
             "#9c179e"
            ],
            [
             0.4444444444444444,
             "#bd3786"
            ],
            [
             0.5555555555555556,
             "#d8576b"
            ],
            [
             0.6666666666666666,
             "#ed7953"
            ],
            [
             0.7777777777777778,
             "#fb9f3a"
            ],
            [
             0.8888888888888888,
             "#fdca26"
            ],
            [
             1,
             "#f0f921"
            ]
           ],
           "sequentialminus": [
            [
             0,
             "#0d0887"
            ],
            [
             0.1111111111111111,
             "#46039f"
            ],
            [
             0.2222222222222222,
             "#7201a8"
            ],
            [
             0.3333333333333333,
             "#9c179e"
            ],
            [
             0.4444444444444444,
             "#bd3786"
            ],
            [
             0.5555555555555556,
             "#d8576b"
            ],
            [
             0.6666666666666666,
             "#ed7953"
            ],
            [
             0.7777777777777778,
             "#fb9f3a"
            ],
            [
             0.8888888888888888,
             "#fdca26"
            ],
            [
             1,
             "#f0f921"
            ]
           ]
          },
          "colorway": [
           "#636efa",
           "#EF553B",
           "#00cc96",
           "#ab63fa",
           "#FFA15A",
           "#19d3f3",
           "#FF6692",
           "#B6E880",
           "#FF97FF",
           "#FECB52"
          ],
          "font": {
           "color": "#2a3f5f"
          },
          "geo": {
           "bgcolor": "white",
           "lakecolor": "white",
           "landcolor": "#E5ECF6",
           "showlakes": true,
           "showland": true,
           "subunitcolor": "white"
          },
          "hoverlabel": {
           "align": "left"
          },
          "hovermode": "closest",
          "mapbox": {
           "style": "light"
          },
          "paper_bgcolor": "white",
          "plot_bgcolor": "#E5ECF6",
          "polar": {
           "angularaxis": {
            "gridcolor": "white",
            "linecolor": "white",
            "ticks": ""
           },
           "bgcolor": "#E5ECF6",
           "radialaxis": {
            "gridcolor": "white",
            "linecolor": "white",
            "ticks": ""
           }
          },
          "scene": {
           "xaxis": {
            "backgroundcolor": "#E5ECF6",
            "gridcolor": "white",
            "gridwidth": 2,
            "linecolor": "white",
            "showbackground": true,
            "ticks": "",
            "zerolinecolor": "white"
           },
           "yaxis": {
            "backgroundcolor": "#E5ECF6",
            "gridcolor": "white",
            "gridwidth": 2,
            "linecolor": "white",
            "showbackground": true,
            "ticks": "",
            "zerolinecolor": "white"
           },
           "zaxis": {
            "backgroundcolor": "#E5ECF6",
            "gridcolor": "white",
            "gridwidth": 2,
            "linecolor": "white",
            "showbackground": true,
            "ticks": "",
            "zerolinecolor": "white"
           }
          },
          "shapedefaults": {
           "line": {
            "color": "#2a3f5f"
           }
          },
          "ternary": {
           "aaxis": {
            "gridcolor": "white",
            "linecolor": "white",
            "ticks": ""
           },
           "baxis": {
            "gridcolor": "white",
            "linecolor": "white",
            "ticks": ""
           },
           "bgcolor": "#E5ECF6",
           "caxis": {
            "gridcolor": "white",
            "linecolor": "white",
            "ticks": ""
           }
          },
          "title": {
           "x": 0.05
          },
          "xaxis": {
           "automargin": true,
           "gridcolor": "white",
           "linecolor": "white",
           "ticks": "",
           "title": {
            "standoff": 15
           },
           "zerolinecolor": "white",
           "zerolinewidth": 2
          },
          "yaxis": {
           "automargin": true,
           "gridcolor": "white",
           "linecolor": "white",
           "ticks": "",
           "title": {
            "standoff": 15
           },
           "zerolinecolor": "white",
           "zerolinewidth": 2
          }
         }
        },
        "title": {
         "font": {
          "color": "#4D5663"
         },
         "text": "India"
        },
        "xaxis": {
         "gridcolor": "#E1E5ED",
         "showgrid": true,
         "tickfont": {
          "color": "#4D5663"
         },
         "title": {
          "font": {
           "color": "#4D5663"
          },
          "text": "Year"
         },
         "zerolinecolor": "#E1E5ED"
        },
        "yaxis": {
         "gridcolor": "#E1E5ED",
         "showgrid": true,
         "tickfont": {
          "color": "#4D5663"
         },
         "title": {
          "font": {
           "color": "#4D5663"
          },
          "text": "Index"
         },
         "zerolinecolor": "#E1E5ED"
        }
       }
      },
      "text/html": [
       "<div>                            <div id=\"20f0f5a1-f775-4bce-a2d4-176deea2c6e6\" class=\"plotly-graph-div\" style=\"height:525px; width:100%;\"></div>            <script type=\"text/javascript\">                require([\"plotly\"], function(Plotly) {                    window.PLOTLYENV=window.PLOTLYENV || {};\n",
       "                    window.PLOTLYENV.BASE_URL='https://plot.ly';                                    if (document.getElementById(\"20f0f5a1-f775-4bce-a2d4-176deea2c6e6\")) {                    Plotly.newPlot(                        \"20f0f5a1-f775-4bce-a2d4-176deea2c6e6\",                        [{\"line\": {\"color\": \"rgba(255, 153, 51, 1.0)\", \"dash\": \"solid\", \"shape\": \"linear\", \"width\": 1.3}, \"mode\": \"lines\", \"name\": \"Livestock index\", \"text\": \"\", \"type\": \"scatter\", \"x\": [1960, 1961, 1962, 1963, 1964, 1965, 1966, 1967, 1968, 1969, 1970, 1971, 1972, 1973, 1974, 1975, 1976, 1977, 1978, 1979, 1980, 1981, 1982, 1983, 1984, 1985, 1986, 1987, 1988, 1989, 1990, 1991, 1992, 1993, 1994, 1995, 1996, 1997, 1998, 1999, 2000, 2001, 2002, 2003, 2004, 2005, 2006, 2007, 2008, 2009, 2010, 2011, 2012, 2013, 2014, 2015, 2016, 2017, 2018, 2019, 2020], \"y\": [\"\", 24.5, 24.61, 24.67, 24.62, 24.72, 25.04, 25.49, 26.71, 27.19, 26.94, 28.48, 28.87, 29.51, 30.78, 31.96, 33.62, 34.89, 35.6, 37.13, 38.65, 41.12, 43.59, 46.28, 48.63, 51.2, 53.1, 54.31, 55.9, 58.62, 60.66, 61.68, 63.8, 66.06, 68.33, 71.75, 74.18, 76.29, 79.1, 82.5, 84.62, 87.86, 89.62, 91.62, 95.85, 99.83, 104.32, 110.92, 114.55, 118.54, 123.49, 128.2, 131.89, 136.32, 143.11, 149.7, 152.71, \"\", \"\", \"\", \"\"]}, {\"line\": {\"color\": \"rgba(55, 128, 191, 1.0)\", \"dash\": \"solid\", \"shape\": \"linear\", \"width\": 1.3}, \"mode\": \"lines\", \"name\": \"Food index\", \"text\": \"\", \"type\": \"scatter\", \"x\": [1960, 1961, 1962, 1963, 1964, 1965, 1966, 1967, 1968, 1969, 1970, 1971, 1972, 1973, 1974, 1975, 1976, 1977, 1978, 1979, 1980, 1981, 1982, 1983, 1984, 1985, 1986, 1987, 1988, 1989, 1990, 1991, 1992, 1993, 1994, 1995, 1996, 1997, 1998, 1999, 2000, 2001, 2002, 2003, 2004, 2005, 2006, 2007, 2008, 2009, 2010, 2011, 2012, 2013, 2014, 2015, 2016, 2017, 2018, 2019, 2020], \"y\": [\"\", 32.12, 31.68, 32.4, 33.23, 31.67, 31.63, 33.55, 35.4, 36.62, 38.52, 38.96, 37.34, 40.31, 39.04, 43.38, 42.99, 46.53, 48.0, 45.78, 47.65, 51.02, 50.71, 56.79, 57.86, 59.1, 60.08, 59.54, 65.24, 68.93, 70.13, 71.13, 74.12, 76.9, 79.03, 81.05, 84.09, 86.51, 88.02, 92.14, 91.53, 94.63, 87.38, 96.38, 94.74, 100.03, 105.23, 114.49, 117.0, 114.27, 123.19, 130.87, 133.81, 139.06, 142.88, 141.0, 144.39, \"\", \"\", \"\", \"\"]}, {\"line\": {\"color\": \"rgba(50, 171, 96, 1.0)\", \"dash\": \"solid\", \"shape\": \"linear\", \"width\": 1.3}, \"mode\": \"lines\", \"name\": \"Crop index\", \"text\": \"\", \"type\": \"scatter\", \"x\": [1960, 1961, 1962, 1963, 1964, 1965, 1966, 1967, 1968, 1969, 1970, 1971, 1972, 1973, 1974, 1975, 1976, 1977, 1978, 1979, 1980, 1981, 1982, 1983, 1984, 1985, 1986, 1987, 1988, 1989, 1990, 1991, 1992, 1993, 1994, 1995, 1996, 1997, 1998, 1999, 2000, 2001, 2002, 2003, 2004, 2005, 2006, 2007, 2008, 2009, 2010, 2011, 2012, 2013, 2014, 2015, 2016, 2017, 2018, 2019, 2020], \"y\": [\"\", 34.95, 34.64, 35.66, 36.61, 34.47, 34.15, 36.78, 38.59, 39.94, 42.44, 43.02, 40.6, 44.16, 42.24, 47.05, 46.0, 50.24, 52.4, 48.82, 50.43, 54.02, 52.74, 59.44, 60.31, 61.21, 61.16, 59.85, 67.0, 71.58, 72.59, 73.68, 77.07, 79.74, 82.07, 83.68, 87.07, 88.84, 90.18, 94.32, 92.08, 94.78, 84.74, 96.97, 94.12, 99.9, 105.98, 116.23, 117.28, 112.83, 124.91, 134.07, 136.19, 141.74, 144.36, 139.61, 142.83, \"\", \"\", \"\", \"\"]}, {\"line\": {\"color\": \"rgba(128, 0, 128, 1.0)\", \"dash\": \"solid\", \"shape\": \"linear\", \"width\": 1.3}, \"mode\": \"lines\", \"name\": \"Population\", \"text\": \"\", \"type\": \"scatter\", \"x\": [1960, 1961, 1962, 1963, 1964, 1965, 1966, 1967, 1968, 1969, 1970, 1971, 1972, 1973, 1974, 1975, 1976, 1977, 1978, 1979, 1980, 1981, 1982, 1983, 1984, 1985, 1986, 1987, 1988, 1989, 1990, 1991, 1992, 1993, 1994, 1995, 1996, 1997, 1998, 1999, 2000, 2001, 2002, 2003, 2004, 2005, 2006, 2007, 2008, 2009, 2010, 2011, 2012, 2013, 2014, 2015, 2016, 2017, 2018, 2019, 2020], \"y\": [38.65748421746129, 39.43780107491629, 40.24733655146871, 41.08376149059311, 41.943705282072685, 42.8253277498225, 43.726940757298024, 44.650939270464576, 45.60446811810676, 46.59723071766273, 47.635892098193715, 48.723697771919994, 49.85792286766589, 51.03192878310742, 52.235929731755206, 53.46291087348363, 54.70935968306468, 55.9773873822425, 57.27221428124031, 58.60174926759392, 59.9709193833838, 61.380815761135366, 62.82695126098227, 64.30182523699887, 65.79514627684281, 67.29894757723925, 68.81035411509615, 70.3296219208811, 71.85575124023488, 73.38865198200773, 74.92819132610458, 76.47221729526117, 78.01953768326221, 79.57226671489008, 81.13367255385417, 82.70561356607153, 84.28801356016979, 85.87831858075454, 87.47280760593691, 89.06652648049035, 90.65533907682833, 92.23618444088588, 93.80781202170314, 95.36990289660987, 96.9229294864353, 98.46618839380238, 100.0, 101.52066833705898, 103.01878059585002, 104.4822426830244, 105.90267595005113, 107.27614204086764, 108.60554944099295, 109.89800042186855, 111.16425770125167, 112.41251082205994, 113.64437310228301, 114.85839390280739, 116.0560478870532, 117.24013954961225, \"\"]}],                        {\"legend\": {\"bgcolor\": \"#F5F6F9\", \"font\": {\"color\": \"#4D5663\"}}, \"paper_bgcolor\": \"#F5F6F9\", \"plot_bgcolor\": \"#F5F6F9\", \"template\": {\"data\": {\"bar\": [{\"error_x\": {\"color\": \"#2a3f5f\"}, \"error_y\": {\"color\": \"#2a3f5f\"}, \"marker\": {\"line\": {\"color\": \"#E5ECF6\", \"width\": 0.5}}, \"type\": \"bar\"}], \"barpolar\": [{\"marker\": {\"line\": {\"color\": \"#E5ECF6\", \"width\": 0.5}}, \"type\": \"barpolar\"}], \"carpet\": [{\"aaxis\": {\"endlinecolor\": \"#2a3f5f\", \"gridcolor\": \"white\", \"linecolor\": \"white\", \"minorgridcolor\": \"white\", \"startlinecolor\": \"#2a3f5f\"}, \"baxis\": {\"endlinecolor\": \"#2a3f5f\", \"gridcolor\": \"white\", \"linecolor\": \"white\", \"minorgridcolor\": \"white\", \"startlinecolor\": \"#2a3f5f\"}, \"type\": \"carpet\"}], \"choropleth\": [{\"colorbar\": {\"outlinewidth\": 0, \"ticks\": \"\"}, \"type\": \"choropleth\"}], \"contour\": [{\"colorbar\": {\"outlinewidth\": 0, \"ticks\": \"\"}, \"colorscale\": [[0.0, \"#0d0887\"], [0.1111111111111111, \"#46039f\"], [0.2222222222222222, \"#7201a8\"], [0.3333333333333333, \"#9c179e\"], [0.4444444444444444, \"#bd3786\"], [0.5555555555555556, \"#d8576b\"], [0.6666666666666666, \"#ed7953\"], [0.7777777777777778, \"#fb9f3a\"], [0.8888888888888888, \"#fdca26\"], [1.0, \"#f0f921\"]], \"type\": \"contour\"}], \"contourcarpet\": [{\"colorbar\": {\"outlinewidth\": 0, \"ticks\": \"\"}, \"type\": \"contourcarpet\"}], \"heatmap\": [{\"colorbar\": {\"outlinewidth\": 0, \"ticks\": \"\"}, \"colorscale\": [[0.0, \"#0d0887\"], [0.1111111111111111, \"#46039f\"], [0.2222222222222222, \"#7201a8\"], [0.3333333333333333, \"#9c179e\"], [0.4444444444444444, \"#bd3786\"], [0.5555555555555556, \"#d8576b\"], [0.6666666666666666, \"#ed7953\"], [0.7777777777777778, \"#fb9f3a\"], [0.8888888888888888, \"#fdca26\"], [1.0, \"#f0f921\"]], \"type\": \"heatmap\"}], \"heatmapgl\": [{\"colorbar\": {\"outlinewidth\": 0, \"ticks\": \"\"}, \"colorscale\": [[0.0, \"#0d0887\"], [0.1111111111111111, \"#46039f\"], [0.2222222222222222, \"#7201a8\"], [0.3333333333333333, \"#9c179e\"], [0.4444444444444444, \"#bd3786\"], [0.5555555555555556, \"#d8576b\"], [0.6666666666666666, \"#ed7953\"], [0.7777777777777778, \"#fb9f3a\"], [0.8888888888888888, \"#fdca26\"], [1.0, \"#f0f921\"]], \"type\": \"heatmapgl\"}], \"histogram\": [{\"marker\": {\"colorbar\": {\"outlinewidth\": 0, \"ticks\": \"\"}}, \"type\": \"histogram\"}], \"histogram2d\": [{\"colorbar\": {\"outlinewidth\": 0, \"ticks\": \"\"}, \"colorscale\": [[0.0, \"#0d0887\"], [0.1111111111111111, \"#46039f\"], [0.2222222222222222, \"#7201a8\"], [0.3333333333333333, \"#9c179e\"], [0.4444444444444444, \"#bd3786\"], [0.5555555555555556, \"#d8576b\"], [0.6666666666666666, \"#ed7953\"], [0.7777777777777778, \"#fb9f3a\"], [0.8888888888888888, \"#fdca26\"], [1.0, \"#f0f921\"]], \"type\": \"histogram2d\"}], \"histogram2dcontour\": [{\"colorbar\": {\"outlinewidth\": 0, \"ticks\": \"\"}, \"colorscale\": [[0.0, \"#0d0887\"], [0.1111111111111111, \"#46039f\"], [0.2222222222222222, \"#7201a8\"], [0.3333333333333333, \"#9c179e\"], [0.4444444444444444, \"#bd3786\"], [0.5555555555555556, \"#d8576b\"], [0.6666666666666666, \"#ed7953\"], [0.7777777777777778, \"#fb9f3a\"], [0.8888888888888888, \"#fdca26\"], [1.0, \"#f0f921\"]], \"type\": \"histogram2dcontour\"}], \"mesh3d\": [{\"colorbar\": {\"outlinewidth\": 0, \"ticks\": \"\"}, \"type\": \"mesh3d\"}], \"parcoords\": [{\"line\": {\"colorbar\": {\"outlinewidth\": 0, \"ticks\": \"\"}}, \"type\": \"parcoords\"}], \"pie\": [{\"automargin\": true, \"type\": \"pie\"}], \"scatter\": [{\"marker\": {\"colorbar\": {\"outlinewidth\": 0, \"ticks\": \"\"}}, \"type\": \"scatter\"}], \"scatter3d\": [{\"line\": {\"colorbar\": {\"outlinewidth\": 0, \"ticks\": \"\"}}, \"marker\": {\"colorbar\": {\"outlinewidth\": 0, \"ticks\": \"\"}}, \"type\": \"scatter3d\"}], \"scattercarpet\": [{\"marker\": {\"colorbar\": {\"outlinewidth\": 0, \"ticks\": \"\"}}, \"type\": \"scattercarpet\"}], \"scattergeo\": [{\"marker\": {\"colorbar\": {\"outlinewidth\": 0, \"ticks\": \"\"}}, \"type\": \"scattergeo\"}], \"scattergl\": [{\"marker\": {\"colorbar\": {\"outlinewidth\": 0, \"ticks\": \"\"}}, \"type\": \"scattergl\"}], \"scattermapbox\": [{\"marker\": {\"colorbar\": {\"outlinewidth\": 0, \"ticks\": \"\"}}, \"type\": \"scattermapbox\"}], \"scatterpolar\": [{\"marker\": {\"colorbar\": {\"outlinewidth\": 0, \"ticks\": \"\"}}, \"type\": \"scatterpolar\"}], \"scatterpolargl\": [{\"marker\": {\"colorbar\": {\"outlinewidth\": 0, \"ticks\": \"\"}}, \"type\": \"scatterpolargl\"}], \"scatterternary\": [{\"marker\": {\"colorbar\": {\"outlinewidth\": 0, \"ticks\": \"\"}}, \"type\": \"scatterternary\"}], \"surface\": [{\"colorbar\": {\"outlinewidth\": 0, \"ticks\": \"\"}, \"colorscale\": [[0.0, \"#0d0887\"], [0.1111111111111111, \"#46039f\"], [0.2222222222222222, \"#7201a8\"], [0.3333333333333333, \"#9c179e\"], [0.4444444444444444, \"#bd3786\"], [0.5555555555555556, \"#d8576b\"], [0.6666666666666666, \"#ed7953\"], [0.7777777777777778, \"#fb9f3a\"], [0.8888888888888888, \"#fdca26\"], [1.0, \"#f0f921\"]], \"type\": \"surface\"}], \"table\": [{\"cells\": {\"fill\": {\"color\": \"#EBF0F8\"}, \"line\": {\"color\": \"white\"}}, \"header\": {\"fill\": {\"color\": \"#C8D4E3\"}, \"line\": {\"color\": \"white\"}}, \"type\": \"table\"}]}, \"layout\": {\"annotationdefaults\": {\"arrowcolor\": \"#2a3f5f\", \"arrowhead\": 0, \"arrowwidth\": 1}, \"autotypenumbers\": \"strict\", \"coloraxis\": {\"colorbar\": {\"outlinewidth\": 0, \"ticks\": \"\"}}, \"colorscale\": {\"diverging\": [[0, \"#8e0152\"], [0.1, \"#c51b7d\"], [0.2, \"#de77ae\"], [0.3, \"#f1b6da\"], [0.4, \"#fde0ef\"], [0.5, \"#f7f7f7\"], [0.6, \"#e6f5d0\"], [0.7, \"#b8e186\"], [0.8, \"#7fbc41\"], [0.9, \"#4d9221\"], [1, \"#276419\"]], \"sequential\": [[0.0, \"#0d0887\"], [0.1111111111111111, \"#46039f\"], [0.2222222222222222, \"#7201a8\"], [0.3333333333333333, \"#9c179e\"], [0.4444444444444444, \"#bd3786\"], [0.5555555555555556, \"#d8576b\"], [0.6666666666666666, \"#ed7953\"], [0.7777777777777778, \"#fb9f3a\"], [0.8888888888888888, \"#fdca26\"], [1.0, \"#f0f921\"]], \"sequentialminus\": [[0.0, \"#0d0887\"], [0.1111111111111111, \"#46039f\"], [0.2222222222222222, \"#7201a8\"], [0.3333333333333333, \"#9c179e\"], [0.4444444444444444, \"#bd3786\"], [0.5555555555555556, \"#d8576b\"], [0.6666666666666666, \"#ed7953\"], [0.7777777777777778, \"#fb9f3a\"], [0.8888888888888888, \"#fdca26\"], [1.0, \"#f0f921\"]]}, \"colorway\": [\"#636efa\", \"#EF553B\", \"#00cc96\", \"#ab63fa\", \"#FFA15A\", \"#19d3f3\", \"#FF6692\", \"#B6E880\", \"#FF97FF\", \"#FECB52\"], \"font\": {\"color\": \"#2a3f5f\"}, \"geo\": {\"bgcolor\": \"white\", \"lakecolor\": \"white\", \"landcolor\": \"#E5ECF6\", \"showlakes\": true, \"showland\": true, \"subunitcolor\": \"white\"}, \"hoverlabel\": {\"align\": \"left\"}, \"hovermode\": \"closest\", \"mapbox\": {\"style\": \"light\"}, \"paper_bgcolor\": \"white\", \"plot_bgcolor\": \"#E5ECF6\", \"polar\": {\"angularaxis\": {\"gridcolor\": \"white\", \"linecolor\": \"white\", \"ticks\": \"\"}, \"bgcolor\": \"#E5ECF6\", \"radialaxis\": {\"gridcolor\": \"white\", \"linecolor\": \"white\", \"ticks\": \"\"}}, \"scene\": {\"xaxis\": {\"backgroundcolor\": \"#E5ECF6\", \"gridcolor\": \"white\", \"gridwidth\": 2, \"linecolor\": \"white\", \"showbackground\": true, \"ticks\": \"\", \"zerolinecolor\": \"white\"}, \"yaxis\": {\"backgroundcolor\": \"#E5ECF6\", \"gridcolor\": \"white\", \"gridwidth\": 2, \"linecolor\": \"white\", \"showbackground\": true, \"ticks\": \"\", \"zerolinecolor\": \"white\"}, \"zaxis\": {\"backgroundcolor\": \"#E5ECF6\", \"gridcolor\": \"white\", \"gridwidth\": 2, \"linecolor\": \"white\", \"showbackground\": true, \"ticks\": \"\", \"zerolinecolor\": \"white\"}}, \"shapedefaults\": {\"line\": {\"color\": \"#2a3f5f\"}}, \"ternary\": {\"aaxis\": {\"gridcolor\": \"white\", \"linecolor\": \"white\", \"ticks\": \"\"}, \"baxis\": {\"gridcolor\": \"white\", \"linecolor\": \"white\", \"ticks\": \"\"}, \"bgcolor\": \"#E5ECF6\", \"caxis\": {\"gridcolor\": \"white\", \"linecolor\": \"white\", \"ticks\": \"\"}}, \"title\": {\"x\": 0.05}, \"xaxis\": {\"automargin\": true, \"gridcolor\": \"white\", \"linecolor\": \"white\", \"ticks\": \"\", \"title\": {\"standoff\": 15}, \"zerolinecolor\": \"white\", \"zerolinewidth\": 2}, \"yaxis\": {\"automargin\": true, \"gridcolor\": \"white\", \"linecolor\": \"white\", \"ticks\": \"\", \"title\": {\"standoff\": 15}, \"zerolinecolor\": \"white\", \"zerolinewidth\": 2}}}, \"title\": {\"font\": {\"color\": \"#4D5663\"}, \"text\": \"India\"}, \"xaxis\": {\"gridcolor\": \"#E1E5ED\", \"showgrid\": true, \"tickfont\": {\"color\": \"#4D5663\"}, \"title\": {\"font\": {\"color\": \"#4D5663\"}, \"text\": \"Year\"}, \"zerolinecolor\": \"#E1E5ED\"}, \"yaxis\": {\"gridcolor\": \"#E1E5ED\", \"showgrid\": true, \"tickfont\": {\"color\": \"#4D5663\"}, \"title\": {\"font\": {\"color\": \"#4D5663\"}, \"text\": \"Index\"}, \"zerolinecolor\": \"#E1E5ED\"}},                        {\"showLink\": true, \"linkText\": \"Export to plot.ly\", \"plotlyServerURL\": \"https://plot.ly\", \"responsive\": true}                    ).then(function(){\n",
       "                            \n",
       "var gd = document.getElementById('20f0f5a1-f775-4bce-a2d4-176deea2c6e6');\n",
       "var x = new MutationObserver(function (mutations, observer) {{\n",
       "        var display = window.getComputedStyle(gd).display;\n",
       "        if (!display || display === 'none') {{\n",
       "            console.log([gd, 'removed!']);\n",
       "            Plotly.purge(gd);\n",
       "            observer.disconnect();\n",
       "        }}\n",
       "}});\n",
       "\n",
       "// Listen for the removal of the full notebook cells\n",
       "var notebookContainer = gd.closest('#notebook-container');\n",
       "if (notebookContainer) {{\n",
       "    x.observe(notebookContainer, {childList: true});\n",
       "}}\n",
       "\n",
       "// Listen for the clearing of the current output cell\n",
       "var outputEl = gd.closest('.output');\n",
       "if (outputEl) {{\n",
       "    x.observe(outputEl, {childList: true});\n",
       "}}\n",
       "\n",
       "                        })                };                });            </script>        </div>"
      ]
     },
     "metadata": {},
     "output_type": "display_data"
    }
   ],
   "source": [
    "vars = {\"AG.PRD.LVSK.XD\":\"Livestock index\",\n",
    "        \"AG.PRD.FOOD.XD\":\"Food index\",\n",
    "        \"AG.PRD.CROP.XD\":\"Crop index\",\n",
    "        \"SP.POP.TOTL\":\"Population\"}\n",
    "\n",
    "use = ['IND']\n",
    "\n",
    "food = fix_date_index(wbdata.get_dataframe(vars,country=use))\n",
    "\n",
    "food.sort_index(inplace=True)\n",
    "\n",
    "food['Population'] = food['Population']/food.loc[2006,'Population']*100\n",
    "\n",
    "food.iplot(xTitle=\"Year\",yTitle=\"Index\", title = \"India\")"
   ]
  },
  {
   "cell_type": "code",
   "execution_count": 20,
   "metadata": {
    "scrolled": false
   },
   "outputs": [
    {
     "data": {
      "application/vnd.plotly.v1+json": {
       "config": {
        "linkText": "Export to plot.ly",
        "plotlyServerURL": "https://plot.ly",
        "showLink": true
       },
       "data": [
        {
         "line": {
          "color": "rgba(255, 153, 51, 1.0)",
          "dash": "solid",
          "shape": "linear",
          "width": 1.3
         },
         "mode": "lines",
         "name": "Livestock index",
         "text": "",
         "type": "scatter",
         "x": [
          1960,
          1961,
          1962,
          1963,
          1964,
          1965,
          1966,
          1967,
          1968,
          1969,
          1970,
          1971,
          1972,
          1973,
          1974,
          1975,
          1976,
          1977,
          1978,
          1979,
          1980,
          1981,
          1982,
          1983,
          1984,
          1985,
          1986,
          1987,
          1988,
          1989,
          1990,
          1991,
          1992,
          1993,
          1994,
          1995,
          1996,
          1997,
          1998,
          1999,
          2000,
          2001,
          2002,
          2003,
          2004,
          2005,
          2006,
          2007,
          2008,
          2009,
          2010,
          2011,
          2012,
          2013,
          2014,
          2015,
          2016,
          2017,
          2018,
          2019,
          2020
         ],
         "y": [
          "",
          "",
          0.004479746852283029,
          0.002435066138300801,
          -0.0020288097849578968,
          0.004053511833182366,
          0.012861913642407963,
          0.017811672156126335,
          0.04675180873384521,
          0.017811231522510074,
          -0.009237087662161247,
          0.05558991556155668,
          0.013600907131068762,
          0.021926195280004723,
          0.042135939455884674,
          0.03761999248734105,
          0.05063600708239546,
          0.03707912721821316,
          0.020145382659302324,
          0.04207963033100359,
          0.04012150684444249,
          0.061947846113478366,
          0.058333145103391715,
          0.059882136075174675,
          0.04953072209021858,
          0.05149890762976783,
          0.03643739620243114,
          0.02253144379886063,
          0.028856008114299225,
          0.047511555121692695,
          0.03420856697768926,
          0.016675226994639303,
          0.033793461095669386,
          0.0348102296118995,
          0.03378548883004395,
          0.04883894584704329,
          0.03330671742171454,
          0.028047296040693226,
          0.036171006671469996,
          0.04208541856702652,
          0.02537235195128673,
          0.037573993255711535,
          0.019833870810363585,
          0.022071079100599356,
          0.045134881033057184,
          0.04068426985668072,
          0.043994358830008906,
          0.06134612256923422,
          0.03220218815192766,
          0.034239047460187244,
          0.040909724770038736,
          0.03743136335683861,
          0.028376697351223612,
          0.03303682124321217,
          0.04860850224177948,
          0.04501972610279825,
          0.019907406539507733,
          "",
          "",
          "",
          ""
         ]
        },
        {
         "line": {
          "color": "rgba(55, 128, 191, 1.0)",
          "dash": "solid",
          "shape": "linear",
          "width": 1.3
         },
         "mode": "lines",
         "name": "Food index",
         "text": "",
         "type": "scatter",
         "x": [
          1960,
          1961,
          1962,
          1963,
          1964,
          1965,
          1966,
          1967,
          1968,
          1969,
          1970,
          1971,
          1972,
          1973,
          1974,
          1975,
          1976,
          1977,
          1978,
          1979,
          1980,
          1981,
          1982,
          1983,
          1984,
          1985,
          1986,
          1987,
          1988,
          1989,
          1990,
          1991,
          1992,
          1993,
          1994,
          1995,
          1996,
          1997,
          1998,
          1999,
          2000,
          2001,
          2002,
          2003,
          2004,
          2005,
          2006,
          2007,
          2008,
          2009,
          2010,
          2011,
          2012,
          2013,
          2014,
          2015,
          2016,
          2017,
          2018,
          2019,
          2020
         ],
         "y": [
          "",
          "",
          -0.013793322132336083,
          0.022472855852058604,
          0.025294659568219302,
          -0.04808322181595459,
          -0.0012638232329909016,
          0.05893082610013334,
          0.053674956722038036,
          0.03388271910663576,
          0.050583047683560256,
          0.011357891844409718,
          -0.042470340660758055,
          0.07653443901549783,
          -0.03201281558418234,
          0.10541174385383645,
          -0.009030974890538168,
          0.07912973534836709,
          0.031103745051333842,
          -0.047353696383470645,
          0.04003531557579043,
          0.06833508261345456,
          -0.006094582906737589,
          0.11323712408241304,
          0.018666045658648045,
          0.021204624864063604,
          0.01644608304382711,
          -0.009028651868248971,
          0.09142442216518187,
          0.05501871914474776,
          0.017259165651259067,
          0.014158526196604626,
          0.041176212671735435,
          0.036820475094438976,
          0.027321650705285805,
          0.02523872096480062,
          0.03682140566312153,
          0.028372360347476366,
          0.017304047190662253,
          0.045745098124825745,
          -0.006642372111082651,
          0.03330776312345307,
          -0.07970812699685137,
          0.0980322876888966,
          -0.017162413716580893,
          0.054333843501483514,
          0.05067828975563149,
          0.08433905218300008,
          0.02168645186203566,
          -0.023609865639134142,
          0.07516380981526094,
          0.06047658509350651,
          0.022216419249508235,
          0.038484611353974074,
          0.027099622457316563,
          -0.013245226750020045,
          0.02375808160495918,
          "",
          "",
          "",
          ""
         ]
        },
        {
         "line": {
          "color": "rgba(50, 171, 96, 1.0)",
          "dash": "solid",
          "shape": "linear",
          "width": 1.3
         },
         "mode": "lines",
         "name": "Crop index",
         "text": "",
         "type": "scatter",
         "x": [
          1960,
          1961,
          1962,
          1963,
          1964,
          1965,
          1966,
          1967,
          1968,
          1969,
          1970,
          1971,
          1972,
          1973,
          1974,
          1975,
          1976,
          1977,
          1978,
          1979,
          1980,
          1981,
          1982,
          1983,
          1984,
          1985,
          1986,
          1987,
          1988,
          1989,
          1990,
          1991,
          1992,
          1993,
          1994,
          1995,
          1996,
          1997,
          1998,
          1999,
          2000,
          2001,
          2002,
          2003,
          2004,
          2005,
          2006,
          2007,
          2008,
          2009,
          2010,
          2011,
          2012,
          2013,
          2014,
          2015,
          2016,
          2017,
          2018,
          2019,
          2020
         ],
         "y": [
          "",
          "",
          -0.0089093849855848,
          0.029020528740759666,
          0.026291814697150695,
          -0.060232046603371,
          -0.009326794511975045,
          0.07419163315937638,
          0.04803895637335209,
          0.034385152438142,
          0.060712985758113014,
          0.013573810093801875,
          -0.05789705723189709,
          0.08405133536115272,
          -0.04445176257083361,
          0.1078432266333822,
          -0.02256946954229333,
          0.08817012567084825,
          0.04209506916705319,
          -0.07076652636218261,
          0.0324461711238202,
          0.06876811227583568,
          -0.02398016743932896,
          0.11959321948436274,
          0.01453052705339175,
          0.014812647400082923,
          -0.0008171938021170888,
          -0.021651949056878728,
          0.1128511873869833,
          0.06612308594691374,
          0.014011465958869707,
          0.014904220650302058,
          0.04498270784285019,
          0.034057242163307855,
          0.028801199688411216,
          0.019427458674992515,
          0.0397123925239109,
          0.020124606185702554,
          0.0149706739667117,
          0.04488558323617742,
          -0.024035491815488363,
          0.02890065212581483,
          -0.11197067134102934,
          0.1348139071180423,
          -0.029831088457293653,
          0.059599121795346655,
          0.0590807114101084,
          0.09232058959099998,
          0.008993251482724673,
          -0.03868197698798603,
          0.10171121682746254,
          0.07076857363565203,
          0.015688917967396243,
          0.03994342380124394,
          0.01831578639247855,
          -0.03345735877403122,
          0.022802290873980446,
          "",
          "",
          "",
          ""
         ]
        },
        {
         "line": {
          "color": "rgba(128, 0, 128, 1.0)",
          "dash": "solid",
          "shape": "linear",
          "width": 1.3
         },
         "mode": "lines",
         "name": "Population",
         "text": "",
         "type": "scatter",
         "x": [
          1960,
          1961,
          1962,
          1963,
          1964,
          1965,
          1966,
          1967,
          1968,
          1969,
          1970,
          1971,
          1972,
          1973,
          1974,
          1975,
          1976,
          1977,
          1978,
          1979,
          1980,
          1981,
          1982,
          1983,
          1984,
          1985,
          1986,
          1987,
          1988,
          1989,
          1990,
          1991,
          1992,
          1993,
          1994,
          1995,
          1996,
          1997,
          1998,
          1999,
          2000,
          2001,
          2002,
          2003,
          2004,
          2005,
          2006,
          2007,
          2008,
          2009,
          2010,
          2011,
          2012,
          2013,
          2014,
          2015,
          2016,
          2017,
          2018,
          2019,
          2020
         ],
         "y": [
          "",
          0.01998437740007386,
          0.02031905453920224,
          0.020569116837357626,
          0.02071542290531525,
          0.020801328633260674,
          0.020834708032946292,
          0.020910937944218944,
          0.021130353372472044,
          0.02153541593984798,
          0.0220454000654704,
          0.02257900618828579,
          0.02301189897501299,
          0.023274073469713663,
          0.02331907574537606,
          0.023217591638534874,
          0.023046645381443298,
          0.022913008271615354,
          0.022867777111255982,
          0.022948957567390238,
          0.023095220664394844,
          0.023237571659690204,
          0.023286802173622334,
          0.023203875490195536,
          0.022958053712723192,
          0.022598527925040024,
          0.022209630728954544,
          0.0218388450433169,
          0.021467579900606104,
          0.021108664099292795,
          0.02076088738587778,
          0.020397296354399685,
          0.020031776184298522,
          0.019706345595056796,
          0.01943244886415929,
          0.019189405494853595,
          0.018952188603061693,
          0.01869172711340461,
          0.018396580733418766,
          0.01805560419991803,
          0.01768125412347299,
          0.01728767637672135,
          0.01689562681099499,
          0.016514909057137928,
          0.016153075896251146,
          0.01579710290044467,
          0.015456961776516565,
          0.015092220700734238,
          0.014648900801682352,
          0.014105822996982376,
          0.013503390450775754,
          0.012885755800787102,
          0.012316229280211033,
          0.011830160701299164,
          0.011456239878402386,
          0.011166330912629086,
          0.010898800802640274,
          0.010625973938720001,
          0.010373233603788279,
          0.010151060275346957,
          ""
         ]
        }
       ],
       "layout": {
        "legend": {
         "bgcolor": "#F5F6F9",
         "font": {
          "color": "#4D5663"
         }
        },
        "paper_bgcolor": "#F5F6F9",
        "plot_bgcolor": "#F5F6F9",
        "template": {
         "data": {
          "bar": [
           {
            "error_x": {
             "color": "#2a3f5f"
            },
            "error_y": {
             "color": "#2a3f5f"
            },
            "marker": {
             "line": {
              "color": "#E5ECF6",
              "width": 0.5
             }
            },
            "type": "bar"
           }
          ],
          "barpolar": [
           {
            "marker": {
             "line": {
              "color": "#E5ECF6",
              "width": 0.5
             }
            },
            "type": "barpolar"
           }
          ],
          "carpet": [
           {
            "aaxis": {
             "endlinecolor": "#2a3f5f",
             "gridcolor": "white",
             "linecolor": "white",
             "minorgridcolor": "white",
             "startlinecolor": "#2a3f5f"
            },
            "baxis": {
             "endlinecolor": "#2a3f5f",
             "gridcolor": "white",
             "linecolor": "white",
             "minorgridcolor": "white",
             "startlinecolor": "#2a3f5f"
            },
            "type": "carpet"
           }
          ],
          "choropleth": [
           {
            "colorbar": {
             "outlinewidth": 0,
             "ticks": ""
            },
            "type": "choropleth"
           }
          ],
          "contour": [
           {
            "colorbar": {
             "outlinewidth": 0,
             "ticks": ""
            },
            "colorscale": [
             [
              0,
              "#0d0887"
             ],
             [
              0.1111111111111111,
              "#46039f"
             ],
             [
              0.2222222222222222,
              "#7201a8"
             ],
             [
              0.3333333333333333,
              "#9c179e"
             ],
             [
              0.4444444444444444,
              "#bd3786"
             ],
             [
              0.5555555555555556,
              "#d8576b"
             ],
             [
              0.6666666666666666,
              "#ed7953"
             ],
             [
              0.7777777777777778,
              "#fb9f3a"
             ],
             [
              0.8888888888888888,
              "#fdca26"
             ],
             [
              1,
              "#f0f921"
             ]
            ],
            "type": "contour"
           }
          ],
          "contourcarpet": [
           {
            "colorbar": {
             "outlinewidth": 0,
             "ticks": ""
            },
            "type": "contourcarpet"
           }
          ],
          "heatmap": [
           {
            "colorbar": {
             "outlinewidth": 0,
             "ticks": ""
            },
            "colorscale": [
             [
              0,
              "#0d0887"
             ],
             [
              0.1111111111111111,
              "#46039f"
             ],
             [
              0.2222222222222222,
              "#7201a8"
             ],
             [
              0.3333333333333333,
              "#9c179e"
             ],
             [
              0.4444444444444444,
              "#bd3786"
             ],
             [
              0.5555555555555556,
              "#d8576b"
             ],
             [
              0.6666666666666666,
              "#ed7953"
             ],
             [
              0.7777777777777778,
              "#fb9f3a"
             ],
             [
              0.8888888888888888,
              "#fdca26"
             ],
             [
              1,
              "#f0f921"
             ]
            ],
            "type": "heatmap"
           }
          ],
          "heatmapgl": [
           {
            "colorbar": {
             "outlinewidth": 0,
             "ticks": ""
            },
            "colorscale": [
             [
              0,
              "#0d0887"
             ],
             [
              0.1111111111111111,
              "#46039f"
             ],
             [
              0.2222222222222222,
              "#7201a8"
             ],
             [
              0.3333333333333333,
              "#9c179e"
             ],
             [
              0.4444444444444444,
              "#bd3786"
             ],
             [
              0.5555555555555556,
              "#d8576b"
             ],
             [
              0.6666666666666666,
              "#ed7953"
             ],
             [
              0.7777777777777778,
              "#fb9f3a"
             ],
             [
              0.8888888888888888,
              "#fdca26"
             ],
             [
              1,
              "#f0f921"
             ]
            ],
            "type": "heatmapgl"
           }
          ],
          "histogram": [
           {
            "marker": {
             "colorbar": {
              "outlinewidth": 0,
              "ticks": ""
             }
            },
            "type": "histogram"
           }
          ],
          "histogram2d": [
           {
            "colorbar": {
             "outlinewidth": 0,
             "ticks": ""
            },
            "colorscale": [
             [
              0,
              "#0d0887"
             ],
             [
              0.1111111111111111,
              "#46039f"
             ],
             [
              0.2222222222222222,
              "#7201a8"
             ],
             [
              0.3333333333333333,
              "#9c179e"
             ],
             [
              0.4444444444444444,
              "#bd3786"
             ],
             [
              0.5555555555555556,
              "#d8576b"
             ],
             [
              0.6666666666666666,
              "#ed7953"
             ],
             [
              0.7777777777777778,
              "#fb9f3a"
             ],
             [
              0.8888888888888888,
              "#fdca26"
             ],
             [
              1,
              "#f0f921"
             ]
            ],
            "type": "histogram2d"
           }
          ],
          "histogram2dcontour": [
           {
            "colorbar": {
             "outlinewidth": 0,
             "ticks": ""
            },
            "colorscale": [
             [
              0,
              "#0d0887"
             ],
             [
              0.1111111111111111,
              "#46039f"
             ],
             [
              0.2222222222222222,
              "#7201a8"
             ],
             [
              0.3333333333333333,
              "#9c179e"
             ],
             [
              0.4444444444444444,
              "#bd3786"
             ],
             [
              0.5555555555555556,
              "#d8576b"
             ],
             [
              0.6666666666666666,
              "#ed7953"
             ],
             [
              0.7777777777777778,
              "#fb9f3a"
             ],
             [
              0.8888888888888888,
              "#fdca26"
             ],
             [
              1,
              "#f0f921"
             ]
            ],
            "type": "histogram2dcontour"
           }
          ],
          "mesh3d": [
           {
            "colorbar": {
             "outlinewidth": 0,
             "ticks": ""
            },
            "type": "mesh3d"
           }
          ],
          "parcoords": [
           {
            "line": {
             "colorbar": {
              "outlinewidth": 0,
              "ticks": ""
             }
            },
            "type": "parcoords"
           }
          ],
          "pie": [
           {
            "automargin": true,
            "type": "pie"
           }
          ],
          "scatter": [
           {
            "marker": {
             "colorbar": {
              "outlinewidth": 0,
              "ticks": ""
             }
            },
            "type": "scatter"
           }
          ],
          "scatter3d": [
           {
            "line": {
             "colorbar": {
              "outlinewidth": 0,
              "ticks": ""
             }
            },
            "marker": {
             "colorbar": {
              "outlinewidth": 0,
              "ticks": ""
             }
            },
            "type": "scatter3d"
           }
          ],
          "scattercarpet": [
           {
            "marker": {
             "colorbar": {
              "outlinewidth": 0,
              "ticks": ""
             }
            },
            "type": "scattercarpet"
           }
          ],
          "scattergeo": [
           {
            "marker": {
             "colorbar": {
              "outlinewidth": 0,
              "ticks": ""
             }
            },
            "type": "scattergeo"
           }
          ],
          "scattergl": [
           {
            "marker": {
             "colorbar": {
              "outlinewidth": 0,
              "ticks": ""
             }
            },
            "type": "scattergl"
           }
          ],
          "scattermapbox": [
           {
            "marker": {
             "colorbar": {
              "outlinewidth": 0,
              "ticks": ""
             }
            },
            "type": "scattermapbox"
           }
          ],
          "scatterpolar": [
           {
            "marker": {
             "colorbar": {
              "outlinewidth": 0,
              "ticks": ""
             }
            },
            "type": "scatterpolar"
           }
          ],
          "scatterpolargl": [
           {
            "marker": {
             "colorbar": {
              "outlinewidth": 0,
              "ticks": ""
             }
            },
            "type": "scatterpolargl"
           }
          ],
          "scatterternary": [
           {
            "marker": {
             "colorbar": {
              "outlinewidth": 0,
              "ticks": ""
             }
            },
            "type": "scatterternary"
           }
          ],
          "surface": [
           {
            "colorbar": {
             "outlinewidth": 0,
             "ticks": ""
            },
            "colorscale": [
             [
              0,
              "#0d0887"
             ],
             [
              0.1111111111111111,
              "#46039f"
             ],
             [
              0.2222222222222222,
              "#7201a8"
             ],
             [
              0.3333333333333333,
              "#9c179e"
             ],
             [
              0.4444444444444444,
              "#bd3786"
             ],
             [
              0.5555555555555556,
              "#d8576b"
             ],
             [
              0.6666666666666666,
              "#ed7953"
             ],
             [
              0.7777777777777778,
              "#fb9f3a"
             ],
             [
              0.8888888888888888,
              "#fdca26"
             ],
             [
              1,
              "#f0f921"
             ]
            ],
            "type": "surface"
           }
          ],
          "table": [
           {
            "cells": {
             "fill": {
              "color": "#EBF0F8"
             },
             "line": {
              "color": "white"
             }
            },
            "header": {
             "fill": {
              "color": "#C8D4E3"
             },
             "line": {
              "color": "white"
             }
            },
            "type": "table"
           }
          ]
         },
         "layout": {
          "annotationdefaults": {
           "arrowcolor": "#2a3f5f",
           "arrowhead": 0,
           "arrowwidth": 1
          },
          "autotypenumbers": "strict",
          "coloraxis": {
           "colorbar": {
            "outlinewidth": 0,
            "ticks": ""
           }
          },
          "colorscale": {
           "diverging": [
            [
             0,
             "#8e0152"
            ],
            [
             0.1,
             "#c51b7d"
            ],
            [
             0.2,
             "#de77ae"
            ],
            [
             0.3,
             "#f1b6da"
            ],
            [
             0.4,
             "#fde0ef"
            ],
            [
             0.5,
             "#f7f7f7"
            ],
            [
             0.6,
             "#e6f5d0"
            ],
            [
             0.7,
             "#b8e186"
            ],
            [
             0.8,
             "#7fbc41"
            ],
            [
             0.9,
             "#4d9221"
            ],
            [
             1,
             "#276419"
            ]
           ],
           "sequential": [
            [
             0,
             "#0d0887"
            ],
            [
             0.1111111111111111,
             "#46039f"
            ],
            [
             0.2222222222222222,
             "#7201a8"
            ],
            [
             0.3333333333333333,
             "#9c179e"
            ],
            [
             0.4444444444444444,
             "#bd3786"
            ],
            [
             0.5555555555555556,
             "#d8576b"
            ],
            [
             0.6666666666666666,
             "#ed7953"
            ],
            [
             0.7777777777777778,
             "#fb9f3a"
            ],
            [
             0.8888888888888888,
             "#fdca26"
            ],
            [
             1,
             "#f0f921"
            ]
           ],
           "sequentialminus": [
            [
             0,
             "#0d0887"
            ],
            [
             0.1111111111111111,
             "#46039f"
            ],
            [
             0.2222222222222222,
             "#7201a8"
            ],
            [
             0.3333333333333333,
             "#9c179e"
            ],
            [
             0.4444444444444444,
             "#bd3786"
            ],
            [
             0.5555555555555556,
             "#d8576b"
            ],
            [
             0.6666666666666666,
             "#ed7953"
            ],
            [
             0.7777777777777778,
             "#fb9f3a"
            ],
            [
             0.8888888888888888,
             "#fdca26"
            ],
            [
             1,
             "#f0f921"
            ]
           ]
          },
          "colorway": [
           "#636efa",
           "#EF553B",
           "#00cc96",
           "#ab63fa",
           "#FFA15A",
           "#19d3f3",
           "#FF6692",
           "#B6E880",
           "#FF97FF",
           "#FECB52"
          ],
          "font": {
           "color": "#2a3f5f"
          },
          "geo": {
           "bgcolor": "white",
           "lakecolor": "white",
           "landcolor": "#E5ECF6",
           "showlakes": true,
           "showland": true,
           "subunitcolor": "white"
          },
          "hoverlabel": {
           "align": "left"
          },
          "hovermode": "closest",
          "mapbox": {
           "style": "light"
          },
          "paper_bgcolor": "white",
          "plot_bgcolor": "#E5ECF6",
          "polar": {
           "angularaxis": {
            "gridcolor": "white",
            "linecolor": "white",
            "ticks": ""
           },
           "bgcolor": "#E5ECF6",
           "radialaxis": {
            "gridcolor": "white",
            "linecolor": "white",
            "ticks": ""
           }
          },
          "scene": {
           "xaxis": {
            "backgroundcolor": "#E5ECF6",
            "gridcolor": "white",
            "gridwidth": 2,
            "linecolor": "white",
            "showbackground": true,
            "ticks": "",
            "zerolinecolor": "white"
           },
           "yaxis": {
            "backgroundcolor": "#E5ECF6",
            "gridcolor": "white",
            "gridwidth": 2,
            "linecolor": "white",
            "showbackground": true,
            "ticks": "",
            "zerolinecolor": "white"
           },
           "zaxis": {
            "backgroundcolor": "#E5ECF6",
            "gridcolor": "white",
            "gridwidth": 2,
            "linecolor": "white",
            "showbackground": true,
            "ticks": "",
            "zerolinecolor": "white"
           }
          },
          "shapedefaults": {
           "line": {
            "color": "#2a3f5f"
           }
          },
          "ternary": {
           "aaxis": {
            "gridcolor": "white",
            "linecolor": "white",
            "ticks": ""
           },
           "baxis": {
            "gridcolor": "white",
            "linecolor": "white",
            "ticks": ""
           },
           "bgcolor": "#E5ECF6",
           "caxis": {
            "gridcolor": "white",
            "linecolor": "white",
            "ticks": ""
           }
          },
          "title": {
           "x": 0.05
          },
          "xaxis": {
           "automargin": true,
           "gridcolor": "white",
           "linecolor": "white",
           "ticks": "",
           "title": {
            "standoff": 15
           },
           "zerolinecolor": "white",
           "zerolinewidth": 2
          },
          "yaxis": {
           "automargin": true,
           "gridcolor": "white",
           "linecolor": "white",
           "ticks": "",
           "title": {
            "standoff": 15
           },
           "zerolinecolor": "white",
           "zerolinewidth": 2
          }
         }
        },
        "title": {
         "font": {
          "color": "#4D5663"
         },
         "text": "India Growth Rates"
        },
        "xaxis": {
         "gridcolor": "#E1E5ED",
         "showgrid": true,
         "tickfont": {
          "color": "#4D5663"
         },
         "title": {
          "font": {
           "color": "#4D5663"
          },
          "text": "Year"
         },
         "zerolinecolor": "#E1E5ED"
        },
        "yaxis": {
         "gridcolor": "#E1E5ED",
         "showgrid": true,
         "tickfont": {
          "color": "#4D5663"
         },
         "title": {
          "font": {
           "color": "#4D5663"
          },
          "text": "Growth rates"
         },
         "zerolinecolor": "#E1E5ED"
        }
       }
      },
      "text/html": [
       "<div>                            <div id=\"1ea5ca2d-7758-447d-83ee-4d4706a0f9a3\" class=\"plotly-graph-div\" style=\"height:525px; width:100%;\"></div>            <script type=\"text/javascript\">                require([\"plotly\"], function(Plotly) {                    window.PLOTLYENV=window.PLOTLYENV || {};\n",
       "                    window.PLOTLYENV.BASE_URL='https://plot.ly';                                    if (document.getElementById(\"1ea5ca2d-7758-447d-83ee-4d4706a0f9a3\")) {                    Plotly.newPlot(                        \"1ea5ca2d-7758-447d-83ee-4d4706a0f9a3\",                        [{\"line\": {\"color\": \"rgba(255, 153, 51, 1.0)\", \"dash\": \"solid\", \"shape\": \"linear\", \"width\": 1.3}, \"mode\": \"lines\", \"name\": \"Livestock index\", \"text\": \"\", \"type\": \"scatter\", \"x\": [1960, 1961, 1962, 1963, 1964, 1965, 1966, 1967, 1968, 1969, 1970, 1971, 1972, 1973, 1974, 1975, 1976, 1977, 1978, 1979, 1980, 1981, 1982, 1983, 1984, 1985, 1986, 1987, 1988, 1989, 1990, 1991, 1992, 1993, 1994, 1995, 1996, 1997, 1998, 1999, 2000, 2001, 2002, 2003, 2004, 2005, 2006, 2007, 2008, 2009, 2010, 2011, 2012, 2013, 2014, 2015, 2016, 2017, 2018, 2019, 2020], \"y\": [\"\", \"\", 0.004479746852283029, 0.002435066138300801, -0.0020288097849578968, 0.004053511833182366, 0.012861913642407963, 0.017811672156126335, 0.04675180873384521, 0.017811231522510074, -0.009237087662161247, 0.05558991556155668, 0.013600907131068762, 0.021926195280004723, 0.042135939455884674, 0.03761999248734105, 0.05063600708239546, 0.03707912721821316, 0.020145382659302324, 0.04207963033100359, 0.04012150684444249, 0.061947846113478366, 0.058333145103391715, 0.059882136075174675, 0.04953072209021858, 0.05149890762976783, 0.03643739620243114, 0.02253144379886063, 0.028856008114299225, 0.047511555121692695, 0.03420856697768926, 0.016675226994639303, 0.033793461095669386, 0.0348102296118995, 0.03378548883004395, 0.04883894584704329, 0.03330671742171454, 0.028047296040693226, 0.036171006671469996, 0.04208541856702652, 0.02537235195128673, 0.037573993255711535, 0.019833870810363585, 0.022071079100599356, 0.045134881033057184, 0.04068426985668072, 0.043994358830008906, 0.06134612256923422, 0.03220218815192766, 0.034239047460187244, 0.040909724770038736, 0.03743136335683861, 0.028376697351223612, 0.03303682124321217, 0.04860850224177948, 0.04501972610279825, 0.019907406539507733, \"\", \"\", \"\", \"\"]}, {\"line\": {\"color\": \"rgba(55, 128, 191, 1.0)\", \"dash\": \"solid\", \"shape\": \"linear\", \"width\": 1.3}, \"mode\": \"lines\", \"name\": \"Food index\", \"text\": \"\", \"type\": \"scatter\", \"x\": [1960, 1961, 1962, 1963, 1964, 1965, 1966, 1967, 1968, 1969, 1970, 1971, 1972, 1973, 1974, 1975, 1976, 1977, 1978, 1979, 1980, 1981, 1982, 1983, 1984, 1985, 1986, 1987, 1988, 1989, 1990, 1991, 1992, 1993, 1994, 1995, 1996, 1997, 1998, 1999, 2000, 2001, 2002, 2003, 2004, 2005, 2006, 2007, 2008, 2009, 2010, 2011, 2012, 2013, 2014, 2015, 2016, 2017, 2018, 2019, 2020], \"y\": [\"\", \"\", -0.013793322132336083, 0.022472855852058604, 0.025294659568219302, -0.04808322181595459, -0.0012638232329909016, 0.05893082610013334, 0.053674956722038036, 0.03388271910663576, 0.050583047683560256, 0.011357891844409718, -0.042470340660758055, 0.07653443901549783, -0.03201281558418234, 0.10541174385383645, -0.009030974890538168, 0.07912973534836709, 0.031103745051333842, -0.047353696383470645, 0.04003531557579043, 0.06833508261345456, -0.006094582906737589, 0.11323712408241304, 0.018666045658648045, 0.021204624864063604, 0.01644608304382711, -0.009028651868248971, 0.09142442216518187, 0.05501871914474776, 0.017259165651259067, 0.014158526196604626, 0.041176212671735435, 0.036820475094438976, 0.027321650705285805, 0.02523872096480062, 0.03682140566312153, 0.028372360347476366, 0.017304047190662253, 0.045745098124825745, -0.006642372111082651, 0.03330776312345307, -0.07970812699685137, 0.0980322876888966, -0.017162413716580893, 0.054333843501483514, 0.05067828975563149, 0.08433905218300008, 0.02168645186203566, -0.023609865639134142, 0.07516380981526094, 0.06047658509350651, 0.022216419249508235, 0.038484611353974074, 0.027099622457316563, -0.013245226750020045, 0.02375808160495918, \"\", \"\", \"\", \"\"]}, {\"line\": {\"color\": \"rgba(50, 171, 96, 1.0)\", \"dash\": \"solid\", \"shape\": \"linear\", \"width\": 1.3}, \"mode\": \"lines\", \"name\": \"Crop index\", \"text\": \"\", \"type\": \"scatter\", \"x\": [1960, 1961, 1962, 1963, 1964, 1965, 1966, 1967, 1968, 1969, 1970, 1971, 1972, 1973, 1974, 1975, 1976, 1977, 1978, 1979, 1980, 1981, 1982, 1983, 1984, 1985, 1986, 1987, 1988, 1989, 1990, 1991, 1992, 1993, 1994, 1995, 1996, 1997, 1998, 1999, 2000, 2001, 2002, 2003, 2004, 2005, 2006, 2007, 2008, 2009, 2010, 2011, 2012, 2013, 2014, 2015, 2016, 2017, 2018, 2019, 2020], \"y\": [\"\", \"\", -0.0089093849855848, 0.029020528740759666, 0.026291814697150695, -0.060232046603371, -0.009326794511975045, 0.07419163315937638, 0.04803895637335209, 0.034385152438142, 0.060712985758113014, 0.013573810093801875, -0.05789705723189709, 0.08405133536115272, -0.04445176257083361, 0.1078432266333822, -0.02256946954229333, 0.08817012567084825, 0.04209506916705319, -0.07076652636218261, 0.0324461711238202, 0.06876811227583568, -0.02398016743932896, 0.11959321948436274, 0.01453052705339175, 0.014812647400082923, -0.0008171938021170888, -0.021651949056878728, 0.1128511873869833, 0.06612308594691374, 0.014011465958869707, 0.014904220650302058, 0.04498270784285019, 0.034057242163307855, 0.028801199688411216, 0.019427458674992515, 0.0397123925239109, 0.020124606185702554, 0.0149706739667117, 0.04488558323617742, -0.024035491815488363, 0.02890065212581483, -0.11197067134102934, 0.1348139071180423, -0.029831088457293653, 0.059599121795346655, 0.0590807114101084, 0.09232058959099998, 0.008993251482724673, -0.03868197698798603, 0.10171121682746254, 0.07076857363565203, 0.015688917967396243, 0.03994342380124394, 0.01831578639247855, -0.03345735877403122, 0.022802290873980446, \"\", \"\", \"\", \"\"]}, {\"line\": {\"color\": \"rgba(128, 0, 128, 1.0)\", \"dash\": \"solid\", \"shape\": \"linear\", \"width\": 1.3}, \"mode\": \"lines\", \"name\": \"Population\", \"text\": \"\", \"type\": \"scatter\", \"x\": [1960, 1961, 1962, 1963, 1964, 1965, 1966, 1967, 1968, 1969, 1970, 1971, 1972, 1973, 1974, 1975, 1976, 1977, 1978, 1979, 1980, 1981, 1982, 1983, 1984, 1985, 1986, 1987, 1988, 1989, 1990, 1991, 1992, 1993, 1994, 1995, 1996, 1997, 1998, 1999, 2000, 2001, 2002, 2003, 2004, 2005, 2006, 2007, 2008, 2009, 2010, 2011, 2012, 2013, 2014, 2015, 2016, 2017, 2018, 2019, 2020], \"y\": [\"\", 0.01998437740007386, 0.02031905453920224, 0.020569116837357626, 0.02071542290531525, 0.020801328633260674, 0.020834708032946292, 0.020910937944218944, 0.021130353372472044, 0.02153541593984798, 0.0220454000654704, 0.02257900618828579, 0.02301189897501299, 0.023274073469713663, 0.02331907574537606, 0.023217591638534874, 0.023046645381443298, 0.022913008271615354, 0.022867777111255982, 0.022948957567390238, 0.023095220664394844, 0.023237571659690204, 0.023286802173622334, 0.023203875490195536, 0.022958053712723192, 0.022598527925040024, 0.022209630728954544, 0.0218388450433169, 0.021467579900606104, 0.021108664099292795, 0.02076088738587778, 0.020397296354399685, 0.020031776184298522, 0.019706345595056796, 0.01943244886415929, 0.019189405494853595, 0.018952188603061693, 0.01869172711340461, 0.018396580733418766, 0.01805560419991803, 0.01768125412347299, 0.01728767637672135, 0.01689562681099499, 0.016514909057137928, 0.016153075896251146, 0.01579710290044467, 0.015456961776516565, 0.015092220700734238, 0.014648900801682352, 0.014105822996982376, 0.013503390450775754, 0.012885755800787102, 0.012316229280211033, 0.011830160701299164, 0.011456239878402386, 0.011166330912629086, 0.010898800802640274, 0.010625973938720001, 0.010373233603788279, 0.010151060275346957, \"\"]}],                        {\"legend\": {\"bgcolor\": \"#F5F6F9\", \"font\": {\"color\": \"#4D5663\"}}, \"paper_bgcolor\": \"#F5F6F9\", \"plot_bgcolor\": \"#F5F6F9\", \"template\": {\"data\": {\"bar\": [{\"error_x\": {\"color\": \"#2a3f5f\"}, \"error_y\": {\"color\": \"#2a3f5f\"}, \"marker\": {\"line\": {\"color\": \"#E5ECF6\", \"width\": 0.5}}, \"type\": \"bar\"}], \"barpolar\": [{\"marker\": {\"line\": {\"color\": \"#E5ECF6\", \"width\": 0.5}}, \"type\": \"barpolar\"}], \"carpet\": [{\"aaxis\": {\"endlinecolor\": \"#2a3f5f\", \"gridcolor\": \"white\", \"linecolor\": \"white\", \"minorgridcolor\": \"white\", \"startlinecolor\": \"#2a3f5f\"}, \"baxis\": {\"endlinecolor\": \"#2a3f5f\", \"gridcolor\": \"white\", \"linecolor\": \"white\", \"minorgridcolor\": \"white\", \"startlinecolor\": \"#2a3f5f\"}, \"type\": \"carpet\"}], \"choropleth\": [{\"colorbar\": {\"outlinewidth\": 0, \"ticks\": \"\"}, \"type\": \"choropleth\"}], \"contour\": [{\"colorbar\": {\"outlinewidth\": 0, \"ticks\": \"\"}, \"colorscale\": [[0.0, \"#0d0887\"], [0.1111111111111111, \"#46039f\"], [0.2222222222222222, \"#7201a8\"], [0.3333333333333333, \"#9c179e\"], [0.4444444444444444, \"#bd3786\"], [0.5555555555555556, \"#d8576b\"], [0.6666666666666666, \"#ed7953\"], [0.7777777777777778, \"#fb9f3a\"], [0.8888888888888888, \"#fdca26\"], [1.0, \"#f0f921\"]], \"type\": \"contour\"}], \"contourcarpet\": [{\"colorbar\": {\"outlinewidth\": 0, \"ticks\": \"\"}, \"type\": \"contourcarpet\"}], \"heatmap\": [{\"colorbar\": {\"outlinewidth\": 0, \"ticks\": \"\"}, \"colorscale\": [[0.0, \"#0d0887\"], [0.1111111111111111, \"#46039f\"], [0.2222222222222222, \"#7201a8\"], [0.3333333333333333, \"#9c179e\"], [0.4444444444444444, \"#bd3786\"], [0.5555555555555556, \"#d8576b\"], [0.6666666666666666, \"#ed7953\"], [0.7777777777777778, \"#fb9f3a\"], [0.8888888888888888, \"#fdca26\"], [1.0, \"#f0f921\"]], \"type\": \"heatmap\"}], \"heatmapgl\": [{\"colorbar\": {\"outlinewidth\": 0, \"ticks\": \"\"}, \"colorscale\": [[0.0, \"#0d0887\"], [0.1111111111111111, \"#46039f\"], [0.2222222222222222, \"#7201a8\"], [0.3333333333333333, \"#9c179e\"], [0.4444444444444444, \"#bd3786\"], [0.5555555555555556, \"#d8576b\"], [0.6666666666666666, \"#ed7953\"], [0.7777777777777778, \"#fb9f3a\"], [0.8888888888888888, \"#fdca26\"], [1.0, \"#f0f921\"]], \"type\": \"heatmapgl\"}], \"histogram\": [{\"marker\": {\"colorbar\": {\"outlinewidth\": 0, \"ticks\": \"\"}}, \"type\": \"histogram\"}], \"histogram2d\": [{\"colorbar\": {\"outlinewidth\": 0, \"ticks\": \"\"}, \"colorscale\": [[0.0, \"#0d0887\"], [0.1111111111111111, \"#46039f\"], [0.2222222222222222, \"#7201a8\"], [0.3333333333333333, \"#9c179e\"], [0.4444444444444444, \"#bd3786\"], [0.5555555555555556, \"#d8576b\"], [0.6666666666666666, \"#ed7953\"], [0.7777777777777778, \"#fb9f3a\"], [0.8888888888888888, \"#fdca26\"], [1.0, \"#f0f921\"]], \"type\": \"histogram2d\"}], \"histogram2dcontour\": [{\"colorbar\": {\"outlinewidth\": 0, \"ticks\": \"\"}, \"colorscale\": [[0.0, \"#0d0887\"], [0.1111111111111111, \"#46039f\"], [0.2222222222222222, \"#7201a8\"], [0.3333333333333333, \"#9c179e\"], [0.4444444444444444, \"#bd3786\"], [0.5555555555555556, \"#d8576b\"], [0.6666666666666666, \"#ed7953\"], [0.7777777777777778, \"#fb9f3a\"], [0.8888888888888888, \"#fdca26\"], [1.0, \"#f0f921\"]], \"type\": \"histogram2dcontour\"}], \"mesh3d\": [{\"colorbar\": {\"outlinewidth\": 0, \"ticks\": \"\"}, \"type\": \"mesh3d\"}], \"parcoords\": [{\"line\": {\"colorbar\": {\"outlinewidth\": 0, \"ticks\": \"\"}}, \"type\": \"parcoords\"}], \"pie\": [{\"automargin\": true, \"type\": \"pie\"}], \"scatter\": [{\"marker\": {\"colorbar\": {\"outlinewidth\": 0, \"ticks\": \"\"}}, \"type\": \"scatter\"}], \"scatter3d\": [{\"line\": {\"colorbar\": {\"outlinewidth\": 0, \"ticks\": \"\"}}, \"marker\": {\"colorbar\": {\"outlinewidth\": 0, \"ticks\": \"\"}}, \"type\": \"scatter3d\"}], \"scattercarpet\": [{\"marker\": {\"colorbar\": {\"outlinewidth\": 0, \"ticks\": \"\"}}, \"type\": \"scattercarpet\"}], \"scattergeo\": [{\"marker\": {\"colorbar\": {\"outlinewidth\": 0, \"ticks\": \"\"}}, \"type\": \"scattergeo\"}], \"scattergl\": [{\"marker\": {\"colorbar\": {\"outlinewidth\": 0, \"ticks\": \"\"}}, \"type\": \"scattergl\"}], \"scattermapbox\": [{\"marker\": {\"colorbar\": {\"outlinewidth\": 0, \"ticks\": \"\"}}, \"type\": \"scattermapbox\"}], \"scatterpolar\": [{\"marker\": {\"colorbar\": {\"outlinewidth\": 0, \"ticks\": \"\"}}, \"type\": \"scatterpolar\"}], \"scatterpolargl\": [{\"marker\": {\"colorbar\": {\"outlinewidth\": 0, \"ticks\": \"\"}}, \"type\": \"scatterpolargl\"}], \"scatterternary\": [{\"marker\": {\"colorbar\": {\"outlinewidth\": 0, \"ticks\": \"\"}}, \"type\": \"scatterternary\"}], \"surface\": [{\"colorbar\": {\"outlinewidth\": 0, \"ticks\": \"\"}, \"colorscale\": [[0.0, \"#0d0887\"], [0.1111111111111111, \"#46039f\"], [0.2222222222222222, \"#7201a8\"], [0.3333333333333333, \"#9c179e\"], [0.4444444444444444, \"#bd3786\"], [0.5555555555555556, \"#d8576b\"], [0.6666666666666666, \"#ed7953\"], [0.7777777777777778, \"#fb9f3a\"], [0.8888888888888888, \"#fdca26\"], [1.0, \"#f0f921\"]], \"type\": \"surface\"}], \"table\": [{\"cells\": {\"fill\": {\"color\": \"#EBF0F8\"}, \"line\": {\"color\": \"white\"}}, \"header\": {\"fill\": {\"color\": \"#C8D4E3\"}, \"line\": {\"color\": \"white\"}}, \"type\": \"table\"}]}, \"layout\": {\"annotationdefaults\": {\"arrowcolor\": \"#2a3f5f\", \"arrowhead\": 0, \"arrowwidth\": 1}, \"autotypenumbers\": \"strict\", \"coloraxis\": {\"colorbar\": {\"outlinewidth\": 0, \"ticks\": \"\"}}, \"colorscale\": {\"diverging\": [[0, \"#8e0152\"], [0.1, \"#c51b7d\"], [0.2, \"#de77ae\"], [0.3, \"#f1b6da\"], [0.4, \"#fde0ef\"], [0.5, \"#f7f7f7\"], [0.6, \"#e6f5d0\"], [0.7, \"#b8e186\"], [0.8, \"#7fbc41\"], [0.9, \"#4d9221\"], [1, \"#276419\"]], \"sequential\": [[0.0, \"#0d0887\"], [0.1111111111111111, \"#46039f\"], [0.2222222222222222, \"#7201a8\"], [0.3333333333333333, \"#9c179e\"], [0.4444444444444444, \"#bd3786\"], [0.5555555555555556, \"#d8576b\"], [0.6666666666666666, \"#ed7953\"], [0.7777777777777778, \"#fb9f3a\"], [0.8888888888888888, \"#fdca26\"], [1.0, \"#f0f921\"]], \"sequentialminus\": [[0.0, \"#0d0887\"], [0.1111111111111111, \"#46039f\"], [0.2222222222222222, \"#7201a8\"], [0.3333333333333333, \"#9c179e\"], [0.4444444444444444, \"#bd3786\"], [0.5555555555555556, \"#d8576b\"], [0.6666666666666666, \"#ed7953\"], [0.7777777777777778, \"#fb9f3a\"], [0.8888888888888888, \"#fdca26\"], [1.0, \"#f0f921\"]]}, \"colorway\": [\"#636efa\", \"#EF553B\", \"#00cc96\", \"#ab63fa\", \"#FFA15A\", \"#19d3f3\", \"#FF6692\", \"#B6E880\", \"#FF97FF\", \"#FECB52\"], \"font\": {\"color\": \"#2a3f5f\"}, \"geo\": {\"bgcolor\": \"white\", \"lakecolor\": \"white\", \"landcolor\": \"#E5ECF6\", \"showlakes\": true, \"showland\": true, \"subunitcolor\": \"white\"}, \"hoverlabel\": {\"align\": \"left\"}, \"hovermode\": \"closest\", \"mapbox\": {\"style\": \"light\"}, \"paper_bgcolor\": \"white\", \"plot_bgcolor\": \"#E5ECF6\", \"polar\": {\"angularaxis\": {\"gridcolor\": \"white\", \"linecolor\": \"white\", \"ticks\": \"\"}, \"bgcolor\": \"#E5ECF6\", \"radialaxis\": {\"gridcolor\": \"white\", \"linecolor\": \"white\", \"ticks\": \"\"}}, \"scene\": {\"xaxis\": {\"backgroundcolor\": \"#E5ECF6\", \"gridcolor\": \"white\", \"gridwidth\": 2, \"linecolor\": \"white\", \"showbackground\": true, \"ticks\": \"\", \"zerolinecolor\": \"white\"}, \"yaxis\": {\"backgroundcolor\": \"#E5ECF6\", \"gridcolor\": \"white\", \"gridwidth\": 2, \"linecolor\": \"white\", \"showbackground\": true, \"ticks\": \"\", \"zerolinecolor\": \"white\"}, \"zaxis\": {\"backgroundcolor\": \"#E5ECF6\", \"gridcolor\": \"white\", \"gridwidth\": 2, \"linecolor\": \"white\", \"showbackground\": true, \"ticks\": \"\", \"zerolinecolor\": \"white\"}}, \"shapedefaults\": {\"line\": {\"color\": \"#2a3f5f\"}}, \"ternary\": {\"aaxis\": {\"gridcolor\": \"white\", \"linecolor\": \"white\", \"ticks\": \"\"}, \"baxis\": {\"gridcolor\": \"white\", \"linecolor\": \"white\", \"ticks\": \"\"}, \"bgcolor\": \"#E5ECF6\", \"caxis\": {\"gridcolor\": \"white\", \"linecolor\": \"white\", \"ticks\": \"\"}}, \"title\": {\"x\": 0.05}, \"xaxis\": {\"automargin\": true, \"gridcolor\": \"white\", \"linecolor\": \"white\", \"ticks\": \"\", \"title\": {\"standoff\": 15}, \"zerolinecolor\": \"white\", \"zerolinewidth\": 2}, \"yaxis\": {\"automargin\": true, \"gridcolor\": \"white\", \"linecolor\": \"white\", \"ticks\": \"\", \"title\": {\"standoff\": 15}, \"zerolinecolor\": \"white\", \"zerolinewidth\": 2}}}, \"title\": {\"font\": {\"color\": \"#4D5663\"}, \"text\": \"India Growth Rates\"}, \"xaxis\": {\"gridcolor\": \"#E1E5ED\", \"showgrid\": true, \"tickfont\": {\"color\": \"#4D5663\"}, \"title\": {\"font\": {\"color\": \"#4D5663\"}, \"text\": \"Year\"}, \"zerolinecolor\": \"#E1E5ED\"}, \"yaxis\": {\"gridcolor\": \"#E1E5ED\", \"showgrid\": true, \"tickfont\": {\"color\": \"#4D5663\"}, \"title\": {\"font\": {\"color\": \"#4D5663\"}, \"text\": \"Growth rates\"}, \"zerolinecolor\": \"#E1E5ED\"}},                        {\"showLink\": true, \"linkText\": \"Export to plot.ly\", \"plotlyServerURL\": \"https://plot.ly\", \"responsive\": true}                    ).then(function(){\n",
       "                            \n",
       "var gd = document.getElementById('1ea5ca2d-7758-447d-83ee-4d4706a0f9a3');\n",
       "var x = new MutationObserver(function (mutations, observer) {{\n",
       "        var display = window.getComputedStyle(gd).display;\n",
       "        if (!display || display === 'none') {{\n",
       "            console.log([gd, 'removed!']);\n",
       "            Plotly.purge(gd);\n",
       "            observer.disconnect();\n",
       "        }}\n",
       "}});\n",
       "\n",
       "// Listen for the removal of the full notebook cells\n",
       "var notebookContainer = gd.closest('#notebook-container');\n",
       "if (notebookContainer) {{\n",
       "    x.observe(notebookContainer, {childList: true});\n",
       "}}\n",
       "\n",
       "// Listen for the clearing of the current output cell\n",
       "var outputEl = gd.closest('.output');\n",
       "if (outputEl) {{\n",
       "    x.observe(outputEl, {childList: true});\n",
       "}}\n",
       "\n",
       "                        })                };                });            </script>        </div>"
      ]
     },
     "metadata": {},
     "output_type": "display_data"
    }
   ],
   "source": [
    "np.log(food).diff().iplot(xTitle=\"Year\",yTitle=\"Growth rates\", title = 'India Growth Rates')"
   ]
  },
  {
   "cell_type": "markdown",
   "metadata": {},
   "source": [
    "### Japan"
   ]
  },
  {
   "cell_type": "code",
   "execution_count": 21,
   "metadata": {},
   "outputs": [
    {
     "data": {
      "application/vnd.plotly.v1+json": {
       "config": {
        "linkText": "Export to plot.ly",
        "plotlyServerURL": "https://plot.ly",
        "showLink": true
       },
       "data": [
        {
         "line": {
          "color": "rgba(255, 153, 51, 1.0)",
          "dash": "solid",
          "shape": "linear",
          "width": 1.3
         },
         "mode": "lines",
         "name": "Livestock index",
         "text": "",
         "type": "scatter",
         "x": [
          1960,
          1961,
          1962,
          1963,
          1964,
          1965,
          1966,
          1967,
          1968,
          1969,
          1970,
          1971,
          1972,
          1973,
          1974,
          1975,
          1976,
          1977,
          1978,
          1979,
          1980,
          1981,
          1982,
          1983,
          1984,
          1985,
          1986,
          1987,
          1988,
          1989,
          1990,
          1991,
          1992,
          1993,
          1994,
          1995,
          1996,
          1997,
          1998,
          1999,
          2000,
          2001,
          2002,
          2003,
          2004,
          2005,
          2006,
          2007,
          2008,
          2009,
          2010,
          2011,
          2012,
          2013,
          2014,
          2015,
          2016,
          2017,
          2018,
          2019,
          2020
         ],
         "y": [
          "",
          30.25,
          34.82,
          36.42,
          41.33,
          43.82,
          44.19,
          47.25,
          50.49,
          55.98,
          62.25,
          65.55,
          68.09,
          68.21,
          72.29,
          72.31,
          73.13,
          79.35,
          85.39,
          90.04,
          91.57,
          91.71,
          94.52,
          96.94,
          99.15,
          102.95,
          103.95,
          105.8,
          107.21,
          108,
          107.34,
          107.2,
          108.62,
          108.36,
          105.86,
          104.08,
          102.92,
          102.56,
          101.71,
          101.54,
          100.7,
          97.81,
          100.82,
          100.26,
          100.07,
          99.62,
          100.31,
          101.13,
          101.33,
          102.29,
          101.45,
          99.02,
          101.7,
          101.4,
          100.66,
          100.97,
          101.37,
          "",
          "",
          "",
          ""
         ]
        },
        {
         "line": {
          "color": "rgba(55, 128, 191, 1.0)",
          "dash": "solid",
          "shape": "linear",
          "width": 1.3
         },
         "mode": "lines",
         "name": "Food index",
         "text": "",
         "type": "scatter",
         "x": [
          1960,
          1961,
          1962,
          1963,
          1964,
          1965,
          1966,
          1967,
          1968,
          1969,
          1970,
          1971,
          1972,
          1973,
          1974,
          1975,
          1976,
          1977,
          1978,
          1979,
          1980,
          1981,
          1982,
          1983,
          1984,
          1985,
          1986,
          1987,
          1988,
          1989,
          1990,
          1991,
          1992,
          1993,
          1994,
          1995,
          1996,
          1997,
          1998,
          1999,
          2000,
          2001,
          2002,
          2003,
          2004,
          2005,
          2006,
          2007,
          2008,
          2009,
          2010,
          2011,
          2012,
          2013,
          2014,
          2015,
          2016,
          2017,
          2018,
          2019,
          2020
         ],
         "y": [
          "",
          67.79,
          72.34,
          73.98,
          76.31,
          78.85,
          80.42,
          86.62,
          90.91,
          90.95,
          91.97,
          90.12,
          96,
          95.98,
          97.27,
          99.96,
          97.4,
          105.76,
          106.35,
          108.84,
          104.32,
          104.8,
          108.54,
          109.06,
          112.42,
          115.12,
          116.36,
          116.03,
          113.82,
          114.79,
          114,
          110.19,
          113.91,
          106.21,
          112.9,
          109.66,
          107.34,
          107.67,
          103.03,
          104.1,
          103.58,
          101.57,
          102.55,
          99.22,
          99.97,
          101,
          99.03,
          100.64,
          101.2,
          99.76,
          97.4,
          95.79,
          97.4,
          97.02,
          96.87,
          95.79,
          92.18,
          "",
          "",
          "",
          ""
         ]
        },
        {
         "line": {
          "color": "rgba(50, 171, 96, 1.0)",
          "dash": "solid",
          "shape": "linear",
          "width": 1.3
         },
         "mode": "lines",
         "name": "Crop index",
         "text": "",
         "type": "scatter",
         "x": [
          1960,
          1961,
          1962,
          1963,
          1964,
          1965,
          1966,
          1967,
          1968,
          1969,
          1970,
          1971,
          1972,
          1973,
          1974,
          1975,
          1976,
          1977,
          1978,
          1979,
          1980,
          1981,
          1982,
          1983,
          1984,
          1985,
          1986,
          1987,
          1988,
          1989,
          1990,
          1991,
          1992,
          1993,
          1994,
          1995,
          1996,
          1997,
          1998,
          1999,
          2000,
          2001,
          2002,
          2003,
          2004,
          2005,
          2006,
          2007,
          2008,
          2009,
          2010,
          2011,
          2012,
          2013,
          2014,
          2015,
          2016,
          2017,
          2018,
          2019,
          2020
         ],
         "y": [
          "",
          120.81,
          124.97,
          126.27,
          126.9,
          128.29,
          131.28,
          141.21,
          146.42,
          139.45,
          133.28,
          125,
          133.78,
          133.56,
          131.09,
          136.54,
          130.08,
          140.2,
          135.03,
          135.13,
          123.54,
          124.01,
          128.63,
          126.95,
          131,
          131.75,
          132.85,
          129.65,
          122.96,
          123.87,
          123.04,
          114.92,
          120.79,
          104.62,
          121.11,
          116.11,
          112.52,
          113.6,
          104.55,
          107.16,
          106.84,
          105.85,
          104.46,
          98.09,
          99.98,
          102.57,
          97.45,
          99.98,
          100.84,
          96.68,
          92.47,
          92.09,
          92.64,
          92.07,
          92.43,
          89.78,
          81.79,
          "",
          "",
          "",
          ""
         ]
        },
        {
         "line": {
          "color": "rgba(128, 0, 128, 1.0)",
          "dash": "solid",
          "shape": "linear",
          "width": 1.3
         },
         "mode": "lines",
         "name": "Population",
         "text": "",
         "type": "scatter",
         "x": [
          1960,
          1961,
          1962,
          1963,
          1964,
          1965,
          1966,
          1967,
          1968,
          1969,
          1970,
          1971,
          1972,
          1973,
          1974,
          1975,
          1976,
          1977,
          1978,
          1979,
          1980,
          1981,
          1982,
          1983,
          1984,
          1985,
          1986,
          1987,
          1988,
          1989,
          1990,
          1991,
          1992,
          1993,
          1994,
          1995,
          1996,
          1997,
          1998,
          1999,
          2000,
          2001,
          2002,
          2003,
          2004,
          2005,
          2006,
          2007,
          2008,
          2009,
          2010,
          2011,
          2012,
          2013,
          2014,
          2015,
          2016,
          2017,
          2018,
          2019,
          2020
         ],
         "y": [
          72.34859449059084,
          74.25892033100256,
          74.95424468534422,
          75.72074397359488,
          76.51383609429504,
          77.34056032662255,
          78.04996323931985,
          78.78126613168145,
          79.0440658876531,
          80.6951679259155,
          81.61262064542369,
          82.67007680635726,
          83.83625072348147,
          84.53313936208488,
          86.16234142068296,
          87.55299012936631,
          88.20295024011764,
          89.05704944702552,
          89.86656655247391,
          90.62680870367763,
          91.34012232702928,
          92.01745741236097,
          92.64395325918626,
          93.27748838518936,
          93.87113426251818,
          94.44679087083705,
          95.02401176341765,
          95.49251489980759,
          95.9007930921207,
          96.29421058394732,
          96.62349242104276,
          96.92383499929608,
          97.16473477560342,
          97.4048524097799,
          97.73726281539882,
          98.11112675395373,
          98.35984795156976,
          98.59449059083016,
          98.86276534171789,
          99.04344017394841,
          99.20925430569243,
          99.44858979773804,
          99.68010386847497,
          99.89362867020195,
          99.92726078182928,
          99.9366464873997,
          100,
          100.1149748932376,
          100.16346770535141,
          100.15095343125753,
          100.16894270026748,
          99.98357501525177,
          99.82401802055469,
          99.68010386847497,
          99.54792184835827,
          99.44233266069111,
          99.32775744208237,
          99.16451342938039,
          98.96373989081296,
          98.75712218624369,
          ""
         ]
        }
       ],
       "layout": {
        "legend": {
         "bgcolor": "#F5F6F9",
         "font": {
          "color": "#4D5663"
         }
        },
        "paper_bgcolor": "#F5F6F9",
        "plot_bgcolor": "#F5F6F9",
        "template": {
         "data": {
          "bar": [
           {
            "error_x": {
             "color": "#2a3f5f"
            },
            "error_y": {
             "color": "#2a3f5f"
            },
            "marker": {
             "line": {
              "color": "#E5ECF6",
              "width": 0.5
             }
            },
            "type": "bar"
           }
          ],
          "barpolar": [
           {
            "marker": {
             "line": {
              "color": "#E5ECF6",
              "width": 0.5
             }
            },
            "type": "barpolar"
           }
          ],
          "carpet": [
           {
            "aaxis": {
             "endlinecolor": "#2a3f5f",
             "gridcolor": "white",
             "linecolor": "white",
             "minorgridcolor": "white",
             "startlinecolor": "#2a3f5f"
            },
            "baxis": {
             "endlinecolor": "#2a3f5f",
             "gridcolor": "white",
             "linecolor": "white",
             "minorgridcolor": "white",
             "startlinecolor": "#2a3f5f"
            },
            "type": "carpet"
           }
          ],
          "choropleth": [
           {
            "colorbar": {
             "outlinewidth": 0,
             "ticks": ""
            },
            "type": "choropleth"
           }
          ],
          "contour": [
           {
            "colorbar": {
             "outlinewidth": 0,
             "ticks": ""
            },
            "colorscale": [
             [
              0,
              "#0d0887"
             ],
             [
              0.1111111111111111,
              "#46039f"
             ],
             [
              0.2222222222222222,
              "#7201a8"
             ],
             [
              0.3333333333333333,
              "#9c179e"
             ],
             [
              0.4444444444444444,
              "#bd3786"
             ],
             [
              0.5555555555555556,
              "#d8576b"
             ],
             [
              0.6666666666666666,
              "#ed7953"
             ],
             [
              0.7777777777777778,
              "#fb9f3a"
             ],
             [
              0.8888888888888888,
              "#fdca26"
             ],
             [
              1,
              "#f0f921"
             ]
            ],
            "type": "contour"
           }
          ],
          "contourcarpet": [
           {
            "colorbar": {
             "outlinewidth": 0,
             "ticks": ""
            },
            "type": "contourcarpet"
           }
          ],
          "heatmap": [
           {
            "colorbar": {
             "outlinewidth": 0,
             "ticks": ""
            },
            "colorscale": [
             [
              0,
              "#0d0887"
             ],
             [
              0.1111111111111111,
              "#46039f"
             ],
             [
              0.2222222222222222,
              "#7201a8"
             ],
             [
              0.3333333333333333,
              "#9c179e"
             ],
             [
              0.4444444444444444,
              "#bd3786"
             ],
             [
              0.5555555555555556,
              "#d8576b"
             ],
             [
              0.6666666666666666,
              "#ed7953"
             ],
             [
              0.7777777777777778,
              "#fb9f3a"
             ],
             [
              0.8888888888888888,
              "#fdca26"
             ],
             [
              1,
              "#f0f921"
             ]
            ],
            "type": "heatmap"
           }
          ],
          "heatmapgl": [
           {
            "colorbar": {
             "outlinewidth": 0,
             "ticks": ""
            },
            "colorscale": [
             [
              0,
              "#0d0887"
             ],
             [
              0.1111111111111111,
              "#46039f"
             ],
             [
              0.2222222222222222,
              "#7201a8"
             ],
             [
              0.3333333333333333,
              "#9c179e"
             ],
             [
              0.4444444444444444,
              "#bd3786"
             ],
             [
              0.5555555555555556,
              "#d8576b"
             ],
             [
              0.6666666666666666,
              "#ed7953"
             ],
             [
              0.7777777777777778,
              "#fb9f3a"
             ],
             [
              0.8888888888888888,
              "#fdca26"
             ],
             [
              1,
              "#f0f921"
             ]
            ],
            "type": "heatmapgl"
           }
          ],
          "histogram": [
           {
            "marker": {
             "colorbar": {
              "outlinewidth": 0,
              "ticks": ""
             }
            },
            "type": "histogram"
           }
          ],
          "histogram2d": [
           {
            "colorbar": {
             "outlinewidth": 0,
             "ticks": ""
            },
            "colorscale": [
             [
              0,
              "#0d0887"
             ],
             [
              0.1111111111111111,
              "#46039f"
             ],
             [
              0.2222222222222222,
              "#7201a8"
             ],
             [
              0.3333333333333333,
              "#9c179e"
             ],
             [
              0.4444444444444444,
              "#bd3786"
             ],
             [
              0.5555555555555556,
              "#d8576b"
             ],
             [
              0.6666666666666666,
              "#ed7953"
             ],
             [
              0.7777777777777778,
              "#fb9f3a"
             ],
             [
              0.8888888888888888,
              "#fdca26"
             ],
             [
              1,
              "#f0f921"
             ]
            ],
            "type": "histogram2d"
           }
          ],
          "histogram2dcontour": [
           {
            "colorbar": {
             "outlinewidth": 0,
             "ticks": ""
            },
            "colorscale": [
             [
              0,
              "#0d0887"
             ],
             [
              0.1111111111111111,
              "#46039f"
             ],
             [
              0.2222222222222222,
              "#7201a8"
             ],
             [
              0.3333333333333333,
              "#9c179e"
             ],
             [
              0.4444444444444444,
              "#bd3786"
             ],
             [
              0.5555555555555556,
              "#d8576b"
             ],
             [
              0.6666666666666666,
              "#ed7953"
             ],
             [
              0.7777777777777778,
              "#fb9f3a"
             ],
             [
              0.8888888888888888,
              "#fdca26"
             ],
             [
              1,
              "#f0f921"
             ]
            ],
            "type": "histogram2dcontour"
           }
          ],
          "mesh3d": [
           {
            "colorbar": {
             "outlinewidth": 0,
             "ticks": ""
            },
            "type": "mesh3d"
           }
          ],
          "parcoords": [
           {
            "line": {
             "colorbar": {
              "outlinewidth": 0,
              "ticks": ""
             }
            },
            "type": "parcoords"
           }
          ],
          "pie": [
           {
            "automargin": true,
            "type": "pie"
           }
          ],
          "scatter": [
           {
            "marker": {
             "colorbar": {
              "outlinewidth": 0,
              "ticks": ""
             }
            },
            "type": "scatter"
           }
          ],
          "scatter3d": [
           {
            "line": {
             "colorbar": {
              "outlinewidth": 0,
              "ticks": ""
             }
            },
            "marker": {
             "colorbar": {
              "outlinewidth": 0,
              "ticks": ""
             }
            },
            "type": "scatter3d"
           }
          ],
          "scattercarpet": [
           {
            "marker": {
             "colorbar": {
              "outlinewidth": 0,
              "ticks": ""
             }
            },
            "type": "scattercarpet"
           }
          ],
          "scattergeo": [
           {
            "marker": {
             "colorbar": {
              "outlinewidth": 0,
              "ticks": ""
             }
            },
            "type": "scattergeo"
           }
          ],
          "scattergl": [
           {
            "marker": {
             "colorbar": {
              "outlinewidth": 0,
              "ticks": ""
             }
            },
            "type": "scattergl"
           }
          ],
          "scattermapbox": [
           {
            "marker": {
             "colorbar": {
              "outlinewidth": 0,
              "ticks": ""
             }
            },
            "type": "scattermapbox"
           }
          ],
          "scatterpolar": [
           {
            "marker": {
             "colorbar": {
              "outlinewidth": 0,
              "ticks": ""
             }
            },
            "type": "scatterpolar"
           }
          ],
          "scatterpolargl": [
           {
            "marker": {
             "colorbar": {
              "outlinewidth": 0,
              "ticks": ""
             }
            },
            "type": "scatterpolargl"
           }
          ],
          "scatterternary": [
           {
            "marker": {
             "colorbar": {
              "outlinewidth": 0,
              "ticks": ""
             }
            },
            "type": "scatterternary"
           }
          ],
          "surface": [
           {
            "colorbar": {
             "outlinewidth": 0,
             "ticks": ""
            },
            "colorscale": [
             [
              0,
              "#0d0887"
             ],
             [
              0.1111111111111111,
              "#46039f"
             ],
             [
              0.2222222222222222,
              "#7201a8"
             ],
             [
              0.3333333333333333,
              "#9c179e"
             ],
             [
              0.4444444444444444,
              "#bd3786"
             ],
             [
              0.5555555555555556,
              "#d8576b"
             ],
             [
              0.6666666666666666,
              "#ed7953"
             ],
             [
              0.7777777777777778,
              "#fb9f3a"
             ],
             [
              0.8888888888888888,
              "#fdca26"
             ],
             [
              1,
              "#f0f921"
             ]
            ],
            "type": "surface"
           }
          ],
          "table": [
           {
            "cells": {
             "fill": {
              "color": "#EBF0F8"
             },
             "line": {
              "color": "white"
             }
            },
            "header": {
             "fill": {
              "color": "#C8D4E3"
             },
             "line": {
              "color": "white"
             }
            },
            "type": "table"
           }
          ]
         },
         "layout": {
          "annotationdefaults": {
           "arrowcolor": "#2a3f5f",
           "arrowhead": 0,
           "arrowwidth": 1
          },
          "autotypenumbers": "strict",
          "coloraxis": {
           "colorbar": {
            "outlinewidth": 0,
            "ticks": ""
           }
          },
          "colorscale": {
           "diverging": [
            [
             0,
             "#8e0152"
            ],
            [
             0.1,
             "#c51b7d"
            ],
            [
             0.2,
             "#de77ae"
            ],
            [
             0.3,
             "#f1b6da"
            ],
            [
             0.4,
             "#fde0ef"
            ],
            [
             0.5,
             "#f7f7f7"
            ],
            [
             0.6,
             "#e6f5d0"
            ],
            [
             0.7,
             "#b8e186"
            ],
            [
             0.8,
             "#7fbc41"
            ],
            [
             0.9,
             "#4d9221"
            ],
            [
             1,
             "#276419"
            ]
           ],
           "sequential": [
            [
             0,
             "#0d0887"
            ],
            [
             0.1111111111111111,
             "#46039f"
            ],
            [
             0.2222222222222222,
             "#7201a8"
            ],
            [
             0.3333333333333333,
             "#9c179e"
            ],
            [
             0.4444444444444444,
             "#bd3786"
            ],
            [
             0.5555555555555556,
             "#d8576b"
            ],
            [
             0.6666666666666666,
             "#ed7953"
            ],
            [
             0.7777777777777778,
             "#fb9f3a"
            ],
            [
             0.8888888888888888,
             "#fdca26"
            ],
            [
             1,
             "#f0f921"
            ]
           ],
           "sequentialminus": [
            [
             0,
             "#0d0887"
            ],
            [
             0.1111111111111111,
             "#46039f"
            ],
            [
             0.2222222222222222,
             "#7201a8"
            ],
            [
             0.3333333333333333,
             "#9c179e"
            ],
            [
             0.4444444444444444,
             "#bd3786"
            ],
            [
             0.5555555555555556,
             "#d8576b"
            ],
            [
             0.6666666666666666,
             "#ed7953"
            ],
            [
             0.7777777777777778,
             "#fb9f3a"
            ],
            [
             0.8888888888888888,
             "#fdca26"
            ],
            [
             1,
             "#f0f921"
            ]
           ]
          },
          "colorway": [
           "#636efa",
           "#EF553B",
           "#00cc96",
           "#ab63fa",
           "#FFA15A",
           "#19d3f3",
           "#FF6692",
           "#B6E880",
           "#FF97FF",
           "#FECB52"
          ],
          "font": {
           "color": "#2a3f5f"
          },
          "geo": {
           "bgcolor": "white",
           "lakecolor": "white",
           "landcolor": "#E5ECF6",
           "showlakes": true,
           "showland": true,
           "subunitcolor": "white"
          },
          "hoverlabel": {
           "align": "left"
          },
          "hovermode": "closest",
          "mapbox": {
           "style": "light"
          },
          "paper_bgcolor": "white",
          "plot_bgcolor": "#E5ECF6",
          "polar": {
           "angularaxis": {
            "gridcolor": "white",
            "linecolor": "white",
            "ticks": ""
           },
           "bgcolor": "#E5ECF6",
           "radialaxis": {
            "gridcolor": "white",
            "linecolor": "white",
            "ticks": ""
           }
          },
          "scene": {
           "xaxis": {
            "backgroundcolor": "#E5ECF6",
            "gridcolor": "white",
            "gridwidth": 2,
            "linecolor": "white",
            "showbackground": true,
            "ticks": "",
            "zerolinecolor": "white"
           },
           "yaxis": {
            "backgroundcolor": "#E5ECF6",
            "gridcolor": "white",
            "gridwidth": 2,
            "linecolor": "white",
            "showbackground": true,
            "ticks": "",
            "zerolinecolor": "white"
           },
           "zaxis": {
            "backgroundcolor": "#E5ECF6",
            "gridcolor": "white",
            "gridwidth": 2,
            "linecolor": "white",
            "showbackground": true,
            "ticks": "",
            "zerolinecolor": "white"
           }
          },
          "shapedefaults": {
           "line": {
            "color": "#2a3f5f"
           }
          },
          "ternary": {
           "aaxis": {
            "gridcolor": "white",
            "linecolor": "white",
            "ticks": ""
           },
           "baxis": {
            "gridcolor": "white",
            "linecolor": "white",
            "ticks": ""
           },
           "bgcolor": "#E5ECF6",
           "caxis": {
            "gridcolor": "white",
            "linecolor": "white",
            "ticks": ""
           }
          },
          "title": {
           "x": 0.05
          },
          "xaxis": {
           "automargin": true,
           "gridcolor": "white",
           "linecolor": "white",
           "ticks": "",
           "title": {
            "standoff": 15
           },
           "zerolinecolor": "white",
           "zerolinewidth": 2
          },
          "yaxis": {
           "automargin": true,
           "gridcolor": "white",
           "linecolor": "white",
           "ticks": "",
           "title": {
            "standoff": 15
           },
           "zerolinecolor": "white",
           "zerolinewidth": 2
          }
         }
        },
        "title": {
         "font": {
          "color": "#4D5663"
         },
         "text": "Japan"
        },
        "xaxis": {
         "gridcolor": "#E1E5ED",
         "showgrid": true,
         "tickfont": {
          "color": "#4D5663"
         },
         "title": {
          "font": {
           "color": "#4D5663"
          },
          "text": "Year"
         },
         "zerolinecolor": "#E1E5ED"
        },
        "yaxis": {
         "gridcolor": "#E1E5ED",
         "showgrid": true,
         "tickfont": {
          "color": "#4D5663"
         },
         "title": {
          "font": {
           "color": "#4D5663"
          },
          "text": "Index"
         },
         "zerolinecolor": "#E1E5ED"
        }
       }
      },
      "text/html": [
       "<div>                            <div id=\"b9a05b0d-dc0a-4553-9655-bc1a96aca771\" class=\"plotly-graph-div\" style=\"height:525px; width:100%;\"></div>            <script type=\"text/javascript\">                require([\"plotly\"], function(Plotly) {                    window.PLOTLYENV=window.PLOTLYENV || {};\n",
       "                    window.PLOTLYENV.BASE_URL='https://plot.ly';                                    if (document.getElementById(\"b9a05b0d-dc0a-4553-9655-bc1a96aca771\")) {                    Plotly.newPlot(                        \"b9a05b0d-dc0a-4553-9655-bc1a96aca771\",                        [{\"line\": {\"color\": \"rgba(255, 153, 51, 1.0)\", \"dash\": \"solid\", \"shape\": \"linear\", \"width\": 1.3}, \"mode\": \"lines\", \"name\": \"Livestock index\", \"text\": \"\", \"type\": \"scatter\", \"x\": [1960, 1961, 1962, 1963, 1964, 1965, 1966, 1967, 1968, 1969, 1970, 1971, 1972, 1973, 1974, 1975, 1976, 1977, 1978, 1979, 1980, 1981, 1982, 1983, 1984, 1985, 1986, 1987, 1988, 1989, 1990, 1991, 1992, 1993, 1994, 1995, 1996, 1997, 1998, 1999, 2000, 2001, 2002, 2003, 2004, 2005, 2006, 2007, 2008, 2009, 2010, 2011, 2012, 2013, 2014, 2015, 2016, 2017, 2018, 2019, 2020], \"y\": [\"\", 30.25, 34.82, 36.42, 41.33, 43.82, 44.19, 47.25, 50.49, 55.98, 62.25, 65.55, 68.09, 68.21, 72.29, 72.31, 73.13, 79.35, 85.39, 90.04, 91.57, 91.71, 94.52, 96.94, 99.15, 102.95, 103.95, 105.8, 107.21, 108.0, 107.34, 107.2, 108.62, 108.36, 105.86, 104.08, 102.92, 102.56, 101.71, 101.54, 100.7, 97.81, 100.82, 100.26, 100.07, 99.62, 100.31, 101.13, 101.33, 102.29, 101.45, 99.02, 101.7, 101.4, 100.66, 100.97, 101.37, \"\", \"\", \"\", \"\"]}, {\"line\": {\"color\": \"rgba(55, 128, 191, 1.0)\", \"dash\": \"solid\", \"shape\": \"linear\", \"width\": 1.3}, \"mode\": \"lines\", \"name\": \"Food index\", \"text\": \"\", \"type\": \"scatter\", \"x\": [1960, 1961, 1962, 1963, 1964, 1965, 1966, 1967, 1968, 1969, 1970, 1971, 1972, 1973, 1974, 1975, 1976, 1977, 1978, 1979, 1980, 1981, 1982, 1983, 1984, 1985, 1986, 1987, 1988, 1989, 1990, 1991, 1992, 1993, 1994, 1995, 1996, 1997, 1998, 1999, 2000, 2001, 2002, 2003, 2004, 2005, 2006, 2007, 2008, 2009, 2010, 2011, 2012, 2013, 2014, 2015, 2016, 2017, 2018, 2019, 2020], \"y\": [\"\", 67.79, 72.34, 73.98, 76.31, 78.85, 80.42, 86.62, 90.91, 90.95, 91.97, 90.12, 96.0, 95.98, 97.27, 99.96, 97.4, 105.76, 106.35, 108.84, 104.32, 104.8, 108.54, 109.06, 112.42, 115.12, 116.36, 116.03, 113.82, 114.79, 114.0, 110.19, 113.91, 106.21, 112.9, 109.66, 107.34, 107.67, 103.03, 104.1, 103.58, 101.57, 102.55, 99.22, 99.97, 101.0, 99.03, 100.64, 101.2, 99.76, 97.4, 95.79, 97.4, 97.02, 96.87, 95.79, 92.18, \"\", \"\", \"\", \"\"]}, {\"line\": {\"color\": \"rgba(50, 171, 96, 1.0)\", \"dash\": \"solid\", \"shape\": \"linear\", \"width\": 1.3}, \"mode\": \"lines\", \"name\": \"Crop index\", \"text\": \"\", \"type\": \"scatter\", \"x\": [1960, 1961, 1962, 1963, 1964, 1965, 1966, 1967, 1968, 1969, 1970, 1971, 1972, 1973, 1974, 1975, 1976, 1977, 1978, 1979, 1980, 1981, 1982, 1983, 1984, 1985, 1986, 1987, 1988, 1989, 1990, 1991, 1992, 1993, 1994, 1995, 1996, 1997, 1998, 1999, 2000, 2001, 2002, 2003, 2004, 2005, 2006, 2007, 2008, 2009, 2010, 2011, 2012, 2013, 2014, 2015, 2016, 2017, 2018, 2019, 2020], \"y\": [\"\", 120.81, 124.97, 126.27, 126.9, 128.29, 131.28, 141.21, 146.42, 139.45, 133.28, 125.0, 133.78, 133.56, 131.09, 136.54, 130.08, 140.2, 135.03, 135.13, 123.54, 124.01, 128.63, 126.95, 131.0, 131.75, 132.85, 129.65, 122.96, 123.87, 123.04, 114.92, 120.79, 104.62, 121.11, 116.11, 112.52, 113.6, 104.55, 107.16, 106.84, 105.85, 104.46, 98.09, 99.98, 102.57, 97.45, 99.98, 100.84, 96.68, 92.47, 92.09, 92.64, 92.07, 92.43, 89.78, 81.79, \"\", \"\", \"\", \"\"]}, {\"line\": {\"color\": \"rgba(128, 0, 128, 1.0)\", \"dash\": \"solid\", \"shape\": \"linear\", \"width\": 1.3}, \"mode\": \"lines\", \"name\": \"Population\", \"text\": \"\", \"type\": \"scatter\", \"x\": [1960, 1961, 1962, 1963, 1964, 1965, 1966, 1967, 1968, 1969, 1970, 1971, 1972, 1973, 1974, 1975, 1976, 1977, 1978, 1979, 1980, 1981, 1982, 1983, 1984, 1985, 1986, 1987, 1988, 1989, 1990, 1991, 1992, 1993, 1994, 1995, 1996, 1997, 1998, 1999, 2000, 2001, 2002, 2003, 2004, 2005, 2006, 2007, 2008, 2009, 2010, 2011, 2012, 2013, 2014, 2015, 2016, 2017, 2018, 2019, 2020], \"y\": [72.34859449059084, 74.25892033100256, 74.95424468534422, 75.72074397359488, 76.51383609429504, 77.34056032662255, 78.04996323931985, 78.78126613168145, 79.0440658876531, 80.6951679259155, 81.61262064542369, 82.67007680635726, 83.83625072348147, 84.53313936208488, 86.16234142068296, 87.55299012936631, 88.20295024011764, 89.05704944702552, 89.86656655247391, 90.62680870367763, 91.34012232702928, 92.01745741236097, 92.64395325918626, 93.27748838518936, 93.87113426251818, 94.44679087083705, 95.02401176341765, 95.49251489980759, 95.9007930921207, 96.29421058394732, 96.62349242104276, 96.92383499929608, 97.16473477560342, 97.4048524097799, 97.73726281539882, 98.11112675395373, 98.35984795156976, 98.59449059083016, 98.86276534171789, 99.04344017394841, 99.20925430569243, 99.44858979773804, 99.68010386847497, 99.89362867020195, 99.92726078182928, 99.9366464873997, 100.0, 100.1149748932376, 100.16346770535141, 100.15095343125753, 100.16894270026748, 99.98357501525177, 99.82401802055469, 99.68010386847497, 99.54792184835827, 99.44233266069111, 99.32775744208237, 99.16451342938039, 98.96373989081296, 98.75712218624369, \"\"]}],                        {\"legend\": {\"bgcolor\": \"#F5F6F9\", \"font\": {\"color\": \"#4D5663\"}}, \"paper_bgcolor\": \"#F5F6F9\", \"plot_bgcolor\": \"#F5F6F9\", \"template\": {\"data\": {\"bar\": [{\"error_x\": {\"color\": \"#2a3f5f\"}, \"error_y\": {\"color\": \"#2a3f5f\"}, \"marker\": {\"line\": {\"color\": \"#E5ECF6\", \"width\": 0.5}}, \"type\": \"bar\"}], \"barpolar\": [{\"marker\": {\"line\": {\"color\": \"#E5ECF6\", \"width\": 0.5}}, \"type\": \"barpolar\"}], \"carpet\": [{\"aaxis\": {\"endlinecolor\": \"#2a3f5f\", \"gridcolor\": \"white\", \"linecolor\": \"white\", \"minorgridcolor\": \"white\", \"startlinecolor\": \"#2a3f5f\"}, \"baxis\": {\"endlinecolor\": \"#2a3f5f\", \"gridcolor\": \"white\", \"linecolor\": \"white\", \"minorgridcolor\": \"white\", \"startlinecolor\": \"#2a3f5f\"}, \"type\": \"carpet\"}], \"choropleth\": [{\"colorbar\": {\"outlinewidth\": 0, \"ticks\": \"\"}, \"type\": \"choropleth\"}], \"contour\": [{\"colorbar\": {\"outlinewidth\": 0, \"ticks\": \"\"}, \"colorscale\": [[0.0, \"#0d0887\"], [0.1111111111111111, \"#46039f\"], [0.2222222222222222, \"#7201a8\"], [0.3333333333333333, \"#9c179e\"], [0.4444444444444444, \"#bd3786\"], [0.5555555555555556, \"#d8576b\"], [0.6666666666666666, \"#ed7953\"], [0.7777777777777778, \"#fb9f3a\"], [0.8888888888888888, \"#fdca26\"], [1.0, \"#f0f921\"]], \"type\": \"contour\"}], \"contourcarpet\": [{\"colorbar\": {\"outlinewidth\": 0, \"ticks\": \"\"}, \"type\": \"contourcarpet\"}], \"heatmap\": [{\"colorbar\": {\"outlinewidth\": 0, \"ticks\": \"\"}, \"colorscale\": [[0.0, \"#0d0887\"], [0.1111111111111111, \"#46039f\"], [0.2222222222222222, \"#7201a8\"], [0.3333333333333333, \"#9c179e\"], [0.4444444444444444, \"#bd3786\"], [0.5555555555555556, \"#d8576b\"], [0.6666666666666666, \"#ed7953\"], [0.7777777777777778, \"#fb9f3a\"], [0.8888888888888888, \"#fdca26\"], [1.0, \"#f0f921\"]], \"type\": \"heatmap\"}], \"heatmapgl\": [{\"colorbar\": {\"outlinewidth\": 0, \"ticks\": \"\"}, \"colorscale\": [[0.0, \"#0d0887\"], [0.1111111111111111, \"#46039f\"], [0.2222222222222222, \"#7201a8\"], [0.3333333333333333, \"#9c179e\"], [0.4444444444444444, \"#bd3786\"], [0.5555555555555556, \"#d8576b\"], [0.6666666666666666, \"#ed7953\"], [0.7777777777777778, \"#fb9f3a\"], [0.8888888888888888, \"#fdca26\"], [1.0, \"#f0f921\"]], \"type\": \"heatmapgl\"}], \"histogram\": [{\"marker\": {\"colorbar\": {\"outlinewidth\": 0, \"ticks\": \"\"}}, \"type\": \"histogram\"}], \"histogram2d\": [{\"colorbar\": {\"outlinewidth\": 0, \"ticks\": \"\"}, \"colorscale\": [[0.0, \"#0d0887\"], [0.1111111111111111, \"#46039f\"], [0.2222222222222222, \"#7201a8\"], [0.3333333333333333, \"#9c179e\"], [0.4444444444444444, \"#bd3786\"], [0.5555555555555556, \"#d8576b\"], [0.6666666666666666, \"#ed7953\"], [0.7777777777777778, \"#fb9f3a\"], [0.8888888888888888, \"#fdca26\"], [1.0, \"#f0f921\"]], \"type\": \"histogram2d\"}], \"histogram2dcontour\": [{\"colorbar\": {\"outlinewidth\": 0, \"ticks\": \"\"}, \"colorscale\": [[0.0, \"#0d0887\"], [0.1111111111111111, \"#46039f\"], [0.2222222222222222, \"#7201a8\"], [0.3333333333333333, \"#9c179e\"], [0.4444444444444444, \"#bd3786\"], [0.5555555555555556, \"#d8576b\"], [0.6666666666666666, \"#ed7953\"], [0.7777777777777778, \"#fb9f3a\"], [0.8888888888888888, \"#fdca26\"], [1.0, \"#f0f921\"]], \"type\": \"histogram2dcontour\"}], \"mesh3d\": [{\"colorbar\": {\"outlinewidth\": 0, \"ticks\": \"\"}, \"type\": \"mesh3d\"}], \"parcoords\": [{\"line\": {\"colorbar\": {\"outlinewidth\": 0, \"ticks\": \"\"}}, \"type\": \"parcoords\"}], \"pie\": [{\"automargin\": true, \"type\": \"pie\"}], \"scatter\": [{\"marker\": {\"colorbar\": {\"outlinewidth\": 0, \"ticks\": \"\"}}, \"type\": \"scatter\"}], \"scatter3d\": [{\"line\": {\"colorbar\": {\"outlinewidth\": 0, \"ticks\": \"\"}}, \"marker\": {\"colorbar\": {\"outlinewidth\": 0, \"ticks\": \"\"}}, \"type\": \"scatter3d\"}], \"scattercarpet\": [{\"marker\": {\"colorbar\": {\"outlinewidth\": 0, \"ticks\": \"\"}}, \"type\": \"scattercarpet\"}], \"scattergeo\": [{\"marker\": {\"colorbar\": {\"outlinewidth\": 0, \"ticks\": \"\"}}, \"type\": \"scattergeo\"}], \"scattergl\": [{\"marker\": {\"colorbar\": {\"outlinewidth\": 0, \"ticks\": \"\"}}, \"type\": \"scattergl\"}], \"scattermapbox\": [{\"marker\": {\"colorbar\": {\"outlinewidth\": 0, \"ticks\": \"\"}}, \"type\": \"scattermapbox\"}], \"scatterpolar\": [{\"marker\": {\"colorbar\": {\"outlinewidth\": 0, \"ticks\": \"\"}}, \"type\": \"scatterpolar\"}], \"scatterpolargl\": [{\"marker\": {\"colorbar\": {\"outlinewidth\": 0, \"ticks\": \"\"}}, \"type\": \"scatterpolargl\"}], \"scatterternary\": [{\"marker\": {\"colorbar\": {\"outlinewidth\": 0, \"ticks\": \"\"}}, \"type\": \"scatterternary\"}], \"surface\": [{\"colorbar\": {\"outlinewidth\": 0, \"ticks\": \"\"}, \"colorscale\": [[0.0, \"#0d0887\"], [0.1111111111111111, \"#46039f\"], [0.2222222222222222, \"#7201a8\"], [0.3333333333333333, \"#9c179e\"], [0.4444444444444444, \"#bd3786\"], [0.5555555555555556, \"#d8576b\"], [0.6666666666666666, \"#ed7953\"], [0.7777777777777778, \"#fb9f3a\"], [0.8888888888888888, \"#fdca26\"], [1.0, \"#f0f921\"]], \"type\": \"surface\"}], \"table\": [{\"cells\": {\"fill\": {\"color\": \"#EBF0F8\"}, \"line\": {\"color\": \"white\"}}, \"header\": {\"fill\": {\"color\": \"#C8D4E3\"}, \"line\": {\"color\": \"white\"}}, \"type\": \"table\"}]}, \"layout\": {\"annotationdefaults\": {\"arrowcolor\": \"#2a3f5f\", \"arrowhead\": 0, \"arrowwidth\": 1}, \"autotypenumbers\": \"strict\", \"coloraxis\": {\"colorbar\": {\"outlinewidth\": 0, \"ticks\": \"\"}}, \"colorscale\": {\"diverging\": [[0, \"#8e0152\"], [0.1, \"#c51b7d\"], [0.2, \"#de77ae\"], [0.3, \"#f1b6da\"], [0.4, \"#fde0ef\"], [0.5, \"#f7f7f7\"], [0.6, \"#e6f5d0\"], [0.7, \"#b8e186\"], [0.8, \"#7fbc41\"], [0.9, \"#4d9221\"], [1, \"#276419\"]], \"sequential\": [[0.0, \"#0d0887\"], [0.1111111111111111, \"#46039f\"], [0.2222222222222222, \"#7201a8\"], [0.3333333333333333, \"#9c179e\"], [0.4444444444444444, \"#bd3786\"], [0.5555555555555556, \"#d8576b\"], [0.6666666666666666, \"#ed7953\"], [0.7777777777777778, \"#fb9f3a\"], [0.8888888888888888, \"#fdca26\"], [1.0, \"#f0f921\"]], \"sequentialminus\": [[0.0, \"#0d0887\"], [0.1111111111111111, \"#46039f\"], [0.2222222222222222, \"#7201a8\"], [0.3333333333333333, \"#9c179e\"], [0.4444444444444444, \"#bd3786\"], [0.5555555555555556, \"#d8576b\"], [0.6666666666666666, \"#ed7953\"], [0.7777777777777778, \"#fb9f3a\"], [0.8888888888888888, \"#fdca26\"], [1.0, \"#f0f921\"]]}, \"colorway\": [\"#636efa\", \"#EF553B\", \"#00cc96\", \"#ab63fa\", \"#FFA15A\", \"#19d3f3\", \"#FF6692\", \"#B6E880\", \"#FF97FF\", \"#FECB52\"], \"font\": {\"color\": \"#2a3f5f\"}, \"geo\": {\"bgcolor\": \"white\", \"lakecolor\": \"white\", \"landcolor\": \"#E5ECF6\", \"showlakes\": true, \"showland\": true, \"subunitcolor\": \"white\"}, \"hoverlabel\": {\"align\": \"left\"}, \"hovermode\": \"closest\", \"mapbox\": {\"style\": \"light\"}, \"paper_bgcolor\": \"white\", \"plot_bgcolor\": \"#E5ECF6\", \"polar\": {\"angularaxis\": {\"gridcolor\": \"white\", \"linecolor\": \"white\", \"ticks\": \"\"}, \"bgcolor\": \"#E5ECF6\", \"radialaxis\": {\"gridcolor\": \"white\", \"linecolor\": \"white\", \"ticks\": \"\"}}, \"scene\": {\"xaxis\": {\"backgroundcolor\": \"#E5ECF6\", \"gridcolor\": \"white\", \"gridwidth\": 2, \"linecolor\": \"white\", \"showbackground\": true, \"ticks\": \"\", \"zerolinecolor\": \"white\"}, \"yaxis\": {\"backgroundcolor\": \"#E5ECF6\", \"gridcolor\": \"white\", \"gridwidth\": 2, \"linecolor\": \"white\", \"showbackground\": true, \"ticks\": \"\", \"zerolinecolor\": \"white\"}, \"zaxis\": {\"backgroundcolor\": \"#E5ECF6\", \"gridcolor\": \"white\", \"gridwidth\": 2, \"linecolor\": \"white\", \"showbackground\": true, \"ticks\": \"\", \"zerolinecolor\": \"white\"}}, \"shapedefaults\": {\"line\": {\"color\": \"#2a3f5f\"}}, \"ternary\": {\"aaxis\": {\"gridcolor\": \"white\", \"linecolor\": \"white\", \"ticks\": \"\"}, \"baxis\": {\"gridcolor\": \"white\", \"linecolor\": \"white\", \"ticks\": \"\"}, \"bgcolor\": \"#E5ECF6\", \"caxis\": {\"gridcolor\": \"white\", \"linecolor\": \"white\", \"ticks\": \"\"}}, \"title\": {\"x\": 0.05}, \"xaxis\": {\"automargin\": true, \"gridcolor\": \"white\", \"linecolor\": \"white\", \"ticks\": \"\", \"title\": {\"standoff\": 15}, \"zerolinecolor\": \"white\", \"zerolinewidth\": 2}, \"yaxis\": {\"automargin\": true, \"gridcolor\": \"white\", \"linecolor\": \"white\", \"ticks\": \"\", \"title\": {\"standoff\": 15}, \"zerolinecolor\": \"white\", \"zerolinewidth\": 2}}}, \"title\": {\"font\": {\"color\": \"#4D5663\"}, \"text\": \"Japan\"}, \"xaxis\": {\"gridcolor\": \"#E1E5ED\", \"showgrid\": true, \"tickfont\": {\"color\": \"#4D5663\"}, \"title\": {\"font\": {\"color\": \"#4D5663\"}, \"text\": \"Year\"}, \"zerolinecolor\": \"#E1E5ED\"}, \"yaxis\": {\"gridcolor\": \"#E1E5ED\", \"showgrid\": true, \"tickfont\": {\"color\": \"#4D5663\"}, \"title\": {\"font\": {\"color\": \"#4D5663\"}, \"text\": \"Index\"}, \"zerolinecolor\": \"#E1E5ED\"}},                        {\"showLink\": true, \"linkText\": \"Export to plot.ly\", \"plotlyServerURL\": \"https://plot.ly\", \"responsive\": true}                    ).then(function(){\n",
       "                            \n",
       "var gd = document.getElementById('b9a05b0d-dc0a-4553-9655-bc1a96aca771');\n",
       "var x = new MutationObserver(function (mutations, observer) {{\n",
       "        var display = window.getComputedStyle(gd).display;\n",
       "        if (!display || display === 'none') {{\n",
       "            console.log([gd, 'removed!']);\n",
       "            Plotly.purge(gd);\n",
       "            observer.disconnect();\n",
       "        }}\n",
       "}});\n",
       "\n",
       "// Listen for the removal of the full notebook cells\n",
       "var notebookContainer = gd.closest('#notebook-container');\n",
       "if (notebookContainer) {{\n",
       "    x.observe(notebookContainer, {childList: true});\n",
       "}}\n",
       "\n",
       "// Listen for the clearing of the current output cell\n",
       "var outputEl = gd.closest('.output');\n",
       "if (outputEl) {{\n",
       "    x.observe(outputEl, {childList: true});\n",
       "}}\n",
       "\n",
       "                        })                };                });            </script>        </div>"
      ]
     },
     "metadata": {},
     "output_type": "display_data"
    }
   ],
   "source": [
    "vars = {\"AG.PRD.LVSK.XD\":\"Livestock index\",\n",
    "        \"AG.PRD.FOOD.XD\":\"Food index\",\n",
    "        \"AG.PRD.CROP.XD\":\"Crop index\",\n",
    "        \"SP.POP.TOTL\":\"Population\"}\n",
    "\n",
    "use = ['JPN']\n",
    "\n",
    "food = fix_date_index(wbdata.get_dataframe(vars,country=use))\n",
    "\n",
    "food.sort_index(inplace=True)\n",
    "\n",
    "food['Population'] = food['Population']/food.loc[2006,'Population']*100\n",
    "\n",
    "food.iplot(xTitle=\"Year\",yTitle=\"Index\", title = \"Japan\")"
   ]
  },
  {
   "cell_type": "code",
   "execution_count": 22,
   "metadata": {},
   "outputs": [
    {
     "data": {
      "application/vnd.plotly.v1+json": {
       "config": {
        "linkText": "Export to plot.ly",
        "plotlyServerURL": "https://plot.ly",
        "showLink": true
       },
       "data": [
        {
         "line": {
          "color": "rgba(255, 153, 51, 1.0)",
          "dash": "solid",
          "shape": "linear",
          "width": 1.3
         },
         "mode": "lines",
         "name": "Livestock index",
         "text": "",
         "type": "scatter",
         "x": [
          1960,
          1961,
          1962,
          1963,
          1964,
          1965,
          1966,
          1967,
          1968,
          1969,
          1970,
          1971,
          1972,
          1973,
          1974,
          1975,
          1976,
          1977,
          1978,
          1979,
          1980,
          1981,
          1982,
          1983,
          1984,
          1985,
          1986,
          1987,
          1988,
          1989,
          1990,
          1991,
          1992,
          1993,
          1994,
          1995,
          1996,
          1997,
          1998,
          1999,
          2000,
          2001,
          2002,
          2003,
          2004,
          2005,
          2006,
          2007,
          2008,
          2009,
          2010,
          2011,
          2012,
          2013,
          2014,
          2015,
          2016,
          2017,
          2018,
          2019,
          2020
         ],
         "y": [
          "",
          "",
          0.14069574986319244,
          0.044926139959418965,
          0.12647055422417885,
          0.058501705643679625,
          0.008408184975328137,
          0.06695413479710322,
          0.06632264293107237,
          0.10321918721648338,
          0.10616405125750905,
          0.05165467486489206,
          0.03801714928516642,
          0.001760822171752885,
          0.05809462534557763,
          0.0002766251746546544,
          0.011276247095999281,
          0.08162976768955854,
          0.07336055094709693,
          0.05302501811901639,
          0.01684969108110934,
          0.0015277174512116076,
          0.030180027747854332,
          0.025280778098522916,
          0.02254162454857589,
          0.03760957850799329,
          0.009666580830223204,
          0.017640505120176897,
          0.013239008443949096,
          0.007341699256071976,
          -0.0061298603755375325,
          -0.001305118111980974,
          0.013159303969997538,
          -0.002396535389804555,
          -0.02334155078705269,
          -0.016957632225591546,
          -0.011207846790706633,
          -0.003503994241183861,
          -0.00832236653485463,
          -0.0016728171182567309,
          -0.008307009794731535,
          -0.029118978422115305,
          0.030309927352083044,
          -0.005569936819127541,
          -0.001896870732992717,
          -0.004506993457226827,
          0.0069024432502562405,
          0.008141427018685476,
          0.0019756995461470694,
          0.009429399008689998,
          -0.008245850197092786,
          -0.024244216338546565,
          0.026705453121237177,
          -0.0029542118974310583,
          -0.007324589808868964,
          0.003074941668015363,
          0.003953746378078549,
          "",
          "",
          "",
          ""
         ]
        },
        {
         "line": {
          "color": "rgba(55, 128, 191, 1.0)",
          "dash": "solid",
          "shape": "linear",
          "width": 1.3
         },
         "mode": "lines",
         "name": "Food index",
         "text": "",
         "type": "scatter",
         "x": [
          1960,
          1961,
          1962,
          1963,
          1964,
          1965,
          1966,
          1967,
          1968,
          1969,
          1970,
          1971,
          1972,
          1973,
          1974,
          1975,
          1976,
          1977,
          1978,
          1979,
          1980,
          1981,
          1982,
          1983,
          1984,
          1985,
          1986,
          1987,
          1988,
          1989,
          1990,
          1991,
          1992,
          1993,
          1994,
          1995,
          1996,
          1997,
          1998,
          1999,
          2000,
          2001,
          2002,
          2003,
          2004,
          2005,
          2006,
          2007,
          2008,
          2009,
          2010,
          2011,
          2012,
          2013,
          2014,
          2015,
          2016,
          2017,
          2018,
          2019,
          2020
         ],
         "y": [
          "",
          "",
          0.06496253508107763,
          0.022417559880356208,
          0.031009204897234355,
          0.03274332210750508,
          0.019715588060080336,
          0.07426783431735284,
          0.048339270347286245,
          0.0004398988303648821,
          0.011152531950474831,
          -0.020320321350562942,
          0.06320607590379268,
          -0.00020835503773675157,
          0.013350780451249378,
          0.027279489085402453,
          -0.025943895318262022,
          0.08234616545488738,
          0.005563165542869619,
          0.023143372268799034,
          -0.04241581573670228,
          0.004590673708598558,
          0.03506499674831698,
          0.0047794208626568135,
          0.030343668076013408,
          0.0237332050051835,
          0.01071377104788862,
          -0.002840055267546937,
          -0.019230525184475766,
          0.008486118902427009,
          -0.006905923682909432,
          -0.033992299894809896,
          0.03320251441213529,
          -0.06999039657837258,
          0.06108420482216825,
          -0.029117801179713965,
          -0.021383303227220374,
          0.0030696270789434266,
          -0.04405078587064892,
          0.0103317676639465,
          -0.005007714625177684,
          -0.019596045044336208,
          0.009602268566980321,
          -0.033010877645486936,
          0.00753053410618687,
          0.010250375862169925,
          -0.019697682308048137,
          0.0161269584189192,
          0.005548963901234494,
          -0.014331455481584321,
          -0.023941090723291758,
          -0.016667915253688825,
          0.016667915253688825,
          -0.0039090678314188665,
          -0.0015472693787765834,
          -0.011211578043493375,
          -0.038415108102437756,
          "",
          "",
          "",
          ""
         ]
        },
        {
         "line": {
          "color": "rgba(50, 171, 96, 1.0)",
          "dash": "solid",
          "shape": "linear",
          "width": 1.3
         },
         "mode": "lines",
         "name": "Crop index",
         "text": "",
         "type": "scatter",
         "x": [
          1960,
          1961,
          1962,
          1963,
          1964,
          1965,
          1966,
          1967,
          1968,
          1969,
          1970,
          1971,
          1972,
          1973,
          1974,
          1975,
          1976,
          1977,
          1978,
          1979,
          1980,
          1981,
          1982,
          1983,
          1984,
          1985,
          1986,
          1987,
          1988,
          1989,
          1990,
          1991,
          1992,
          1993,
          1994,
          1995,
          1996,
          1997,
          1998,
          1999,
          2000,
          2001,
          2002,
          2003,
          2004,
          2005,
          2006,
          2007,
          2008,
          2009,
          2010,
          2011,
          2012,
          2013,
          2014,
          2015,
          2016,
          2017,
          2018,
          2019,
          2020
         ],
         "y": [
          "",
          "",
          0.033854644966219816,
          0.010348762952896884,
          0.00497690326975242,
          0.010893951540906777,
          0.023039120520587097,
          0.07291569729932501,
          0.0362310601373359,
          -0.048773090144998754,
          -0.04525393565496483,
          -0.06413844111623135,
          0.06788292238796068,
          -0.0016458446148082118,
          -0.018666704865736072,
          0.04073350178041668,
          -0.04846796619063376,
          0.07492032880098876,
          -0.03757299862753882,
          0.0007403020770437863,
          -0.08967228778224179,
          0.003797217246928497,
          0.03657785857594309,
          -0.013146757939936471,
          0.03140401505046331,
          0.005708864220320464,
          0.008314484784350817,
          -0.024382160221149363,
          -0.0529794127543326,
          0.007373529335768403,
          -0.00672312280877474,
          -0.06827327164624553,
          0.04981726650609808,
          -0.1437187626747214,
          0.1463644855904942,
          -0.04216120589404504,
          -0.031407034017258084,
          0.009552522665394747,
          -0.08301808041240832,
          0.02465761880176487,
          -0.002990656434647576,
          -0.009309390660885875,
          -0.013218774572721692,
          -0.06291879843192838,
          0.019084741409200134,
          0.02557532633389492,
          -0.05120606636574898,
          0.02563074003185406,
          0.008564936334295226,
          -0.0421285464844372,
          -0.04452228824573545,
          -0.004117907856270975,
          0.005954654091409495,
          -0.00617185652493113,
          0.0039024439769317354,
          -0.029089367922900067,
          -0.09320724660690338,
          "",
          "",
          "",
          ""
         ]
        },
        {
         "line": {
          "color": "rgba(128, 0, 128, 1.0)",
          "dash": "solid",
          "shape": "linear",
          "width": 1.3
         },
         "mode": "lines",
         "name": "Population",
         "text": "",
         "type": "scatter",
         "x": [
          1960,
          1961,
          1962,
          1963,
          1964,
          1965,
          1966,
          1967,
          1968,
          1969,
          1970,
          1971,
          1972,
          1973,
          1974,
          1975,
          1976,
          1977,
          1978,
          1979,
          1980,
          1981,
          1982,
          1983,
          1984,
          1985,
          1986,
          1987,
          1988,
          1989,
          1990,
          1991,
          1992,
          1993,
          1994,
          1995,
          1996,
          1997,
          1998,
          1999,
          2000,
          2001,
          2002,
          2003,
          2004,
          2005,
          2006,
          2007,
          2008,
          2009,
          2010,
          2011,
          2012,
          2013,
          2014,
          2015,
          2016,
          2017,
          2018,
          2019,
          2020
         ],
         "y": [
          "",
          0.026061883245464657,
          0.009319946900521181,
          0.010174295112383547,
          0.010419436838619234,
          0.010746942674931148,
          0.009130644841257585,
          0.009326053181189842,
          0.003330263849210091,
          0.0206732034780428,
          0.011305218302130271,
          0.012873793552802937,
          0.014007791812813863,
          0.008278139131102868,
          0.019089568462390183,
          0.016011003797309797,
          0.007396200348298798,
          0.009636757511163552,
          0.009048806940157306,
          0.008424094746137811,
          0.007840075920011458,
          0.007388166524883388,
          0.006785372734539941,
          0.0068151104303124654,
          0.0063441329144522385,
          0.00611368674484325,
          0.006092998713403297,
          0.004918251334810719,
          0.00426638544354585,
          0.004093946604102783,
          0.00341370596619317,
          0.003103559458384808,
          0.0024823708092860386,
          0.0024681941258073437,
          0.0034068578866266463,
          0.003817896011371502,
          0.0025318888029843833,
          0.0023827121759145697,
          0.0027172961023120834,
          0.0018258637414012568,
          0.00167275578113113,
          0.0024095258752110382,
          0.002325271871057133,
          0.0021398094877964624,
          0.00033662258272570966,
          9.39209655763662e-05,
          0.0006337358941816973,
          0.001149088477261806,
          0.0004842539459790629,
          -0.0001249463122938721,
          0.0001796054151954607,
          -0.0018522648641088324,
          -0.0015971067584432674,
          -0.0014427188338705932,
          -0.0013269422214703397,
          -0.001061249937468034,
          -0.0011528417705006788,
          -0.0016448403637081555,
          -0.0020267034501788572,
          -0.002089994729022493,
          ""
         ]
        }
       ],
       "layout": {
        "legend": {
         "bgcolor": "#F5F6F9",
         "font": {
          "color": "#4D5663"
         }
        },
        "paper_bgcolor": "#F5F6F9",
        "plot_bgcolor": "#F5F6F9",
        "template": {
         "data": {
          "bar": [
           {
            "error_x": {
             "color": "#2a3f5f"
            },
            "error_y": {
             "color": "#2a3f5f"
            },
            "marker": {
             "line": {
              "color": "#E5ECF6",
              "width": 0.5
             }
            },
            "type": "bar"
           }
          ],
          "barpolar": [
           {
            "marker": {
             "line": {
              "color": "#E5ECF6",
              "width": 0.5
             }
            },
            "type": "barpolar"
           }
          ],
          "carpet": [
           {
            "aaxis": {
             "endlinecolor": "#2a3f5f",
             "gridcolor": "white",
             "linecolor": "white",
             "minorgridcolor": "white",
             "startlinecolor": "#2a3f5f"
            },
            "baxis": {
             "endlinecolor": "#2a3f5f",
             "gridcolor": "white",
             "linecolor": "white",
             "minorgridcolor": "white",
             "startlinecolor": "#2a3f5f"
            },
            "type": "carpet"
           }
          ],
          "choropleth": [
           {
            "colorbar": {
             "outlinewidth": 0,
             "ticks": ""
            },
            "type": "choropleth"
           }
          ],
          "contour": [
           {
            "colorbar": {
             "outlinewidth": 0,
             "ticks": ""
            },
            "colorscale": [
             [
              0,
              "#0d0887"
             ],
             [
              0.1111111111111111,
              "#46039f"
             ],
             [
              0.2222222222222222,
              "#7201a8"
             ],
             [
              0.3333333333333333,
              "#9c179e"
             ],
             [
              0.4444444444444444,
              "#bd3786"
             ],
             [
              0.5555555555555556,
              "#d8576b"
             ],
             [
              0.6666666666666666,
              "#ed7953"
             ],
             [
              0.7777777777777778,
              "#fb9f3a"
             ],
             [
              0.8888888888888888,
              "#fdca26"
             ],
             [
              1,
              "#f0f921"
             ]
            ],
            "type": "contour"
           }
          ],
          "contourcarpet": [
           {
            "colorbar": {
             "outlinewidth": 0,
             "ticks": ""
            },
            "type": "contourcarpet"
           }
          ],
          "heatmap": [
           {
            "colorbar": {
             "outlinewidth": 0,
             "ticks": ""
            },
            "colorscale": [
             [
              0,
              "#0d0887"
             ],
             [
              0.1111111111111111,
              "#46039f"
             ],
             [
              0.2222222222222222,
              "#7201a8"
             ],
             [
              0.3333333333333333,
              "#9c179e"
             ],
             [
              0.4444444444444444,
              "#bd3786"
             ],
             [
              0.5555555555555556,
              "#d8576b"
             ],
             [
              0.6666666666666666,
              "#ed7953"
             ],
             [
              0.7777777777777778,
              "#fb9f3a"
             ],
             [
              0.8888888888888888,
              "#fdca26"
             ],
             [
              1,
              "#f0f921"
             ]
            ],
            "type": "heatmap"
           }
          ],
          "heatmapgl": [
           {
            "colorbar": {
             "outlinewidth": 0,
             "ticks": ""
            },
            "colorscale": [
             [
              0,
              "#0d0887"
             ],
             [
              0.1111111111111111,
              "#46039f"
             ],
             [
              0.2222222222222222,
              "#7201a8"
             ],
             [
              0.3333333333333333,
              "#9c179e"
             ],
             [
              0.4444444444444444,
              "#bd3786"
             ],
             [
              0.5555555555555556,
              "#d8576b"
             ],
             [
              0.6666666666666666,
              "#ed7953"
             ],
             [
              0.7777777777777778,
              "#fb9f3a"
             ],
             [
              0.8888888888888888,
              "#fdca26"
             ],
             [
              1,
              "#f0f921"
             ]
            ],
            "type": "heatmapgl"
           }
          ],
          "histogram": [
           {
            "marker": {
             "colorbar": {
              "outlinewidth": 0,
              "ticks": ""
             }
            },
            "type": "histogram"
           }
          ],
          "histogram2d": [
           {
            "colorbar": {
             "outlinewidth": 0,
             "ticks": ""
            },
            "colorscale": [
             [
              0,
              "#0d0887"
             ],
             [
              0.1111111111111111,
              "#46039f"
             ],
             [
              0.2222222222222222,
              "#7201a8"
             ],
             [
              0.3333333333333333,
              "#9c179e"
             ],
             [
              0.4444444444444444,
              "#bd3786"
             ],
             [
              0.5555555555555556,
              "#d8576b"
             ],
             [
              0.6666666666666666,
              "#ed7953"
             ],
             [
              0.7777777777777778,
              "#fb9f3a"
             ],
             [
              0.8888888888888888,
              "#fdca26"
             ],
             [
              1,
              "#f0f921"
             ]
            ],
            "type": "histogram2d"
           }
          ],
          "histogram2dcontour": [
           {
            "colorbar": {
             "outlinewidth": 0,
             "ticks": ""
            },
            "colorscale": [
             [
              0,
              "#0d0887"
             ],
             [
              0.1111111111111111,
              "#46039f"
             ],
             [
              0.2222222222222222,
              "#7201a8"
             ],
             [
              0.3333333333333333,
              "#9c179e"
             ],
             [
              0.4444444444444444,
              "#bd3786"
             ],
             [
              0.5555555555555556,
              "#d8576b"
             ],
             [
              0.6666666666666666,
              "#ed7953"
             ],
             [
              0.7777777777777778,
              "#fb9f3a"
             ],
             [
              0.8888888888888888,
              "#fdca26"
             ],
             [
              1,
              "#f0f921"
             ]
            ],
            "type": "histogram2dcontour"
           }
          ],
          "mesh3d": [
           {
            "colorbar": {
             "outlinewidth": 0,
             "ticks": ""
            },
            "type": "mesh3d"
           }
          ],
          "parcoords": [
           {
            "line": {
             "colorbar": {
              "outlinewidth": 0,
              "ticks": ""
             }
            },
            "type": "parcoords"
           }
          ],
          "pie": [
           {
            "automargin": true,
            "type": "pie"
           }
          ],
          "scatter": [
           {
            "marker": {
             "colorbar": {
              "outlinewidth": 0,
              "ticks": ""
             }
            },
            "type": "scatter"
           }
          ],
          "scatter3d": [
           {
            "line": {
             "colorbar": {
              "outlinewidth": 0,
              "ticks": ""
             }
            },
            "marker": {
             "colorbar": {
              "outlinewidth": 0,
              "ticks": ""
             }
            },
            "type": "scatter3d"
           }
          ],
          "scattercarpet": [
           {
            "marker": {
             "colorbar": {
              "outlinewidth": 0,
              "ticks": ""
             }
            },
            "type": "scattercarpet"
           }
          ],
          "scattergeo": [
           {
            "marker": {
             "colorbar": {
              "outlinewidth": 0,
              "ticks": ""
             }
            },
            "type": "scattergeo"
           }
          ],
          "scattergl": [
           {
            "marker": {
             "colorbar": {
              "outlinewidth": 0,
              "ticks": ""
             }
            },
            "type": "scattergl"
           }
          ],
          "scattermapbox": [
           {
            "marker": {
             "colorbar": {
              "outlinewidth": 0,
              "ticks": ""
             }
            },
            "type": "scattermapbox"
           }
          ],
          "scatterpolar": [
           {
            "marker": {
             "colorbar": {
              "outlinewidth": 0,
              "ticks": ""
             }
            },
            "type": "scatterpolar"
           }
          ],
          "scatterpolargl": [
           {
            "marker": {
             "colorbar": {
              "outlinewidth": 0,
              "ticks": ""
             }
            },
            "type": "scatterpolargl"
           }
          ],
          "scatterternary": [
           {
            "marker": {
             "colorbar": {
              "outlinewidth": 0,
              "ticks": ""
             }
            },
            "type": "scatterternary"
           }
          ],
          "surface": [
           {
            "colorbar": {
             "outlinewidth": 0,
             "ticks": ""
            },
            "colorscale": [
             [
              0,
              "#0d0887"
             ],
             [
              0.1111111111111111,
              "#46039f"
             ],
             [
              0.2222222222222222,
              "#7201a8"
             ],
             [
              0.3333333333333333,
              "#9c179e"
             ],
             [
              0.4444444444444444,
              "#bd3786"
             ],
             [
              0.5555555555555556,
              "#d8576b"
             ],
             [
              0.6666666666666666,
              "#ed7953"
             ],
             [
              0.7777777777777778,
              "#fb9f3a"
             ],
             [
              0.8888888888888888,
              "#fdca26"
             ],
             [
              1,
              "#f0f921"
             ]
            ],
            "type": "surface"
           }
          ],
          "table": [
           {
            "cells": {
             "fill": {
              "color": "#EBF0F8"
             },
             "line": {
              "color": "white"
             }
            },
            "header": {
             "fill": {
              "color": "#C8D4E3"
             },
             "line": {
              "color": "white"
             }
            },
            "type": "table"
           }
          ]
         },
         "layout": {
          "annotationdefaults": {
           "arrowcolor": "#2a3f5f",
           "arrowhead": 0,
           "arrowwidth": 1
          },
          "autotypenumbers": "strict",
          "coloraxis": {
           "colorbar": {
            "outlinewidth": 0,
            "ticks": ""
           }
          },
          "colorscale": {
           "diverging": [
            [
             0,
             "#8e0152"
            ],
            [
             0.1,
             "#c51b7d"
            ],
            [
             0.2,
             "#de77ae"
            ],
            [
             0.3,
             "#f1b6da"
            ],
            [
             0.4,
             "#fde0ef"
            ],
            [
             0.5,
             "#f7f7f7"
            ],
            [
             0.6,
             "#e6f5d0"
            ],
            [
             0.7,
             "#b8e186"
            ],
            [
             0.8,
             "#7fbc41"
            ],
            [
             0.9,
             "#4d9221"
            ],
            [
             1,
             "#276419"
            ]
           ],
           "sequential": [
            [
             0,
             "#0d0887"
            ],
            [
             0.1111111111111111,
             "#46039f"
            ],
            [
             0.2222222222222222,
             "#7201a8"
            ],
            [
             0.3333333333333333,
             "#9c179e"
            ],
            [
             0.4444444444444444,
             "#bd3786"
            ],
            [
             0.5555555555555556,
             "#d8576b"
            ],
            [
             0.6666666666666666,
             "#ed7953"
            ],
            [
             0.7777777777777778,
             "#fb9f3a"
            ],
            [
             0.8888888888888888,
             "#fdca26"
            ],
            [
             1,
             "#f0f921"
            ]
           ],
           "sequentialminus": [
            [
             0,
             "#0d0887"
            ],
            [
             0.1111111111111111,
             "#46039f"
            ],
            [
             0.2222222222222222,
             "#7201a8"
            ],
            [
             0.3333333333333333,
             "#9c179e"
            ],
            [
             0.4444444444444444,
             "#bd3786"
            ],
            [
             0.5555555555555556,
             "#d8576b"
            ],
            [
             0.6666666666666666,
             "#ed7953"
            ],
            [
             0.7777777777777778,
             "#fb9f3a"
            ],
            [
             0.8888888888888888,
             "#fdca26"
            ],
            [
             1,
             "#f0f921"
            ]
           ]
          },
          "colorway": [
           "#636efa",
           "#EF553B",
           "#00cc96",
           "#ab63fa",
           "#FFA15A",
           "#19d3f3",
           "#FF6692",
           "#B6E880",
           "#FF97FF",
           "#FECB52"
          ],
          "font": {
           "color": "#2a3f5f"
          },
          "geo": {
           "bgcolor": "white",
           "lakecolor": "white",
           "landcolor": "#E5ECF6",
           "showlakes": true,
           "showland": true,
           "subunitcolor": "white"
          },
          "hoverlabel": {
           "align": "left"
          },
          "hovermode": "closest",
          "mapbox": {
           "style": "light"
          },
          "paper_bgcolor": "white",
          "plot_bgcolor": "#E5ECF6",
          "polar": {
           "angularaxis": {
            "gridcolor": "white",
            "linecolor": "white",
            "ticks": ""
           },
           "bgcolor": "#E5ECF6",
           "radialaxis": {
            "gridcolor": "white",
            "linecolor": "white",
            "ticks": ""
           }
          },
          "scene": {
           "xaxis": {
            "backgroundcolor": "#E5ECF6",
            "gridcolor": "white",
            "gridwidth": 2,
            "linecolor": "white",
            "showbackground": true,
            "ticks": "",
            "zerolinecolor": "white"
           },
           "yaxis": {
            "backgroundcolor": "#E5ECF6",
            "gridcolor": "white",
            "gridwidth": 2,
            "linecolor": "white",
            "showbackground": true,
            "ticks": "",
            "zerolinecolor": "white"
           },
           "zaxis": {
            "backgroundcolor": "#E5ECF6",
            "gridcolor": "white",
            "gridwidth": 2,
            "linecolor": "white",
            "showbackground": true,
            "ticks": "",
            "zerolinecolor": "white"
           }
          },
          "shapedefaults": {
           "line": {
            "color": "#2a3f5f"
           }
          },
          "ternary": {
           "aaxis": {
            "gridcolor": "white",
            "linecolor": "white",
            "ticks": ""
           },
           "baxis": {
            "gridcolor": "white",
            "linecolor": "white",
            "ticks": ""
           },
           "bgcolor": "#E5ECF6",
           "caxis": {
            "gridcolor": "white",
            "linecolor": "white",
            "ticks": ""
           }
          },
          "title": {
           "x": 0.05
          },
          "xaxis": {
           "automargin": true,
           "gridcolor": "white",
           "linecolor": "white",
           "ticks": "",
           "title": {
            "standoff": 15
           },
           "zerolinecolor": "white",
           "zerolinewidth": 2
          },
          "yaxis": {
           "automargin": true,
           "gridcolor": "white",
           "linecolor": "white",
           "ticks": "",
           "title": {
            "standoff": 15
           },
           "zerolinecolor": "white",
           "zerolinewidth": 2
          }
         }
        },
        "title": {
         "font": {
          "color": "#4D5663"
         },
         "text": "Japan Growth Rates"
        },
        "xaxis": {
         "gridcolor": "#E1E5ED",
         "showgrid": true,
         "tickfont": {
          "color": "#4D5663"
         },
         "title": {
          "font": {
           "color": "#4D5663"
          },
          "text": "Year"
         },
         "zerolinecolor": "#E1E5ED"
        },
        "yaxis": {
         "gridcolor": "#E1E5ED",
         "showgrid": true,
         "tickfont": {
          "color": "#4D5663"
         },
         "title": {
          "font": {
           "color": "#4D5663"
          },
          "text": "Growth rates"
         },
         "zerolinecolor": "#E1E5ED"
        }
       }
      },
      "text/html": [
       "<div>                            <div id=\"c6059078-9c4b-4fd3-99a8-d4beea59389f\" class=\"plotly-graph-div\" style=\"height:525px; width:100%;\"></div>            <script type=\"text/javascript\">                require([\"plotly\"], function(Plotly) {                    window.PLOTLYENV=window.PLOTLYENV || {};\n",
       "                    window.PLOTLYENV.BASE_URL='https://plot.ly';                                    if (document.getElementById(\"c6059078-9c4b-4fd3-99a8-d4beea59389f\")) {                    Plotly.newPlot(                        \"c6059078-9c4b-4fd3-99a8-d4beea59389f\",                        [{\"line\": {\"color\": \"rgba(255, 153, 51, 1.0)\", \"dash\": \"solid\", \"shape\": \"linear\", \"width\": 1.3}, \"mode\": \"lines\", \"name\": \"Livestock index\", \"text\": \"\", \"type\": \"scatter\", \"x\": [1960, 1961, 1962, 1963, 1964, 1965, 1966, 1967, 1968, 1969, 1970, 1971, 1972, 1973, 1974, 1975, 1976, 1977, 1978, 1979, 1980, 1981, 1982, 1983, 1984, 1985, 1986, 1987, 1988, 1989, 1990, 1991, 1992, 1993, 1994, 1995, 1996, 1997, 1998, 1999, 2000, 2001, 2002, 2003, 2004, 2005, 2006, 2007, 2008, 2009, 2010, 2011, 2012, 2013, 2014, 2015, 2016, 2017, 2018, 2019, 2020], \"y\": [\"\", \"\", 0.14069574986319244, 0.044926139959418965, 0.12647055422417885, 0.058501705643679625, 0.008408184975328137, 0.06695413479710322, 0.06632264293107237, 0.10321918721648338, 0.10616405125750905, 0.05165467486489206, 0.03801714928516642, 0.001760822171752885, 0.05809462534557763, 0.0002766251746546544, 0.011276247095999281, 0.08162976768955854, 0.07336055094709693, 0.05302501811901639, 0.01684969108110934, 0.0015277174512116076, 0.030180027747854332, 0.025280778098522916, 0.02254162454857589, 0.03760957850799329, 0.009666580830223204, 0.017640505120176897, 0.013239008443949096, 0.007341699256071976, -0.0061298603755375325, -0.001305118111980974, 0.013159303969997538, -0.002396535389804555, -0.02334155078705269, -0.016957632225591546, -0.011207846790706633, -0.003503994241183861, -0.00832236653485463, -0.0016728171182567309, -0.008307009794731535, -0.029118978422115305, 0.030309927352083044, -0.005569936819127541, -0.001896870732992717, -0.004506993457226827, 0.0069024432502562405, 0.008141427018685476, 0.0019756995461470694, 0.009429399008689998, -0.008245850197092786, -0.024244216338546565, 0.026705453121237177, -0.0029542118974310583, -0.007324589808868964, 0.003074941668015363, 0.003953746378078549, \"\", \"\", \"\", \"\"]}, {\"line\": {\"color\": \"rgba(55, 128, 191, 1.0)\", \"dash\": \"solid\", \"shape\": \"linear\", \"width\": 1.3}, \"mode\": \"lines\", \"name\": \"Food index\", \"text\": \"\", \"type\": \"scatter\", \"x\": [1960, 1961, 1962, 1963, 1964, 1965, 1966, 1967, 1968, 1969, 1970, 1971, 1972, 1973, 1974, 1975, 1976, 1977, 1978, 1979, 1980, 1981, 1982, 1983, 1984, 1985, 1986, 1987, 1988, 1989, 1990, 1991, 1992, 1993, 1994, 1995, 1996, 1997, 1998, 1999, 2000, 2001, 2002, 2003, 2004, 2005, 2006, 2007, 2008, 2009, 2010, 2011, 2012, 2013, 2014, 2015, 2016, 2017, 2018, 2019, 2020], \"y\": [\"\", \"\", 0.06496253508107763, 0.022417559880356208, 0.031009204897234355, 0.03274332210750508, 0.019715588060080336, 0.07426783431735284, 0.048339270347286245, 0.0004398988303648821, 0.011152531950474831, -0.020320321350562942, 0.06320607590379268, -0.00020835503773675157, 0.013350780451249378, 0.027279489085402453, -0.025943895318262022, 0.08234616545488738, 0.005563165542869619, 0.023143372268799034, -0.04241581573670228, 0.004590673708598558, 0.03506499674831698, 0.0047794208626568135, 0.030343668076013408, 0.0237332050051835, 0.01071377104788862, -0.002840055267546937, -0.019230525184475766, 0.008486118902427009, -0.006905923682909432, -0.033992299894809896, 0.03320251441213529, -0.06999039657837258, 0.06108420482216825, -0.029117801179713965, -0.021383303227220374, 0.0030696270789434266, -0.04405078587064892, 0.0103317676639465, -0.005007714625177684, -0.019596045044336208, 0.009602268566980321, -0.033010877645486936, 0.00753053410618687, 0.010250375862169925, -0.019697682308048137, 0.0161269584189192, 0.005548963901234494, -0.014331455481584321, -0.023941090723291758, -0.016667915253688825, 0.016667915253688825, -0.0039090678314188665, -0.0015472693787765834, -0.011211578043493375, -0.038415108102437756, \"\", \"\", \"\", \"\"]}, {\"line\": {\"color\": \"rgba(50, 171, 96, 1.0)\", \"dash\": \"solid\", \"shape\": \"linear\", \"width\": 1.3}, \"mode\": \"lines\", \"name\": \"Crop index\", \"text\": \"\", \"type\": \"scatter\", \"x\": [1960, 1961, 1962, 1963, 1964, 1965, 1966, 1967, 1968, 1969, 1970, 1971, 1972, 1973, 1974, 1975, 1976, 1977, 1978, 1979, 1980, 1981, 1982, 1983, 1984, 1985, 1986, 1987, 1988, 1989, 1990, 1991, 1992, 1993, 1994, 1995, 1996, 1997, 1998, 1999, 2000, 2001, 2002, 2003, 2004, 2005, 2006, 2007, 2008, 2009, 2010, 2011, 2012, 2013, 2014, 2015, 2016, 2017, 2018, 2019, 2020], \"y\": [\"\", \"\", 0.033854644966219816, 0.010348762952896884, 0.00497690326975242, 0.010893951540906777, 0.023039120520587097, 0.07291569729932501, 0.0362310601373359, -0.048773090144998754, -0.04525393565496483, -0.06413844111623135, 0.06788292238796068, -0.0016458446148082118, -0.018666704865736072, 0.04073350178041668, -0.04846796619063376, 0.07492032880098876, -0.03757299862753882, 0.0007403020770437863, -0.08967228778224179, 0.003797217246928497, 0.03657785857594309, -0.013146757939936471, 0.03140401505046331, 0.005708864220320464, 0.008314484784350817, -0.024382160221149363, -0.0529794127543326, 0.007373529335768403, -0.00672312280877474, -0.06827327164624553, 0.04981726650609808, -0.1437187626747214, 0.1463644855904942, -0.04216120589404504, -0.031407034017258084, 0.009552522665394747, -0.08301808041240832, 0.02465761880176487, -0.002990656434647576, -0.009309390660885875, -0.013218774572721692, -0.06291879843192838, 0.019084741409200134, 0.02557532633389492, -0.05120606636574898, 0.02563074003185406, 0.008564936334295226, -0.0421285464844372, -0.04452228824573545, -0.004117907856270975, 0.005954654091409495, -0.00617185652493113, 0.0039024439769317354, -0.029089367922900067, -0.09320724660690338, \"\", \"\", \"\", \"\"]}, {\"line\": {\"color\": \"rgba(128, 0, 128, 1.0)\", \"dash\": \"solid\", \"shape\": \"linear\", \"width\": 1.3}, \"mode\": \"lines\", \"name\": \"Population\", \"text\": \"\", \"type\": \"scatter\", \"x\": [1960, 1961, 1962, 1963, 1964, 1965, 1966, 1967, 1968, 1969, 1970, 1971, 1972, 1973, 1974, 1975, 1976, 1977, 1978, 1979, 1980, 1981, 1982, 1983, 1984, 1985, 1986, 1987, 1988, 1989, 1990, 1991, 1992, 1993, 1994, 1995, 1996, 1997, 1998, 1999, 2000, 2001, 2002, 2003, 2004, 2005, 2006, 2007, 2008, 2009, 2010, 2011, 2012, 2013, 2014, 2015, 2016, 2017, 2018, 2019, 2020], \"y\": [\"\", 0.026061883245464657, 0.009319946900521181, 0.010174295112383547, 0.010419436838619234, 0.010746942674931148, 0.009130644841257585, 0.009326053181189842, 0.003330263849210091, 0.0206732034780428, 0.011305218302130271, 0.012873793552802937, 0.014007791812813863, 0.008278139131102868, 0.019089568462390183, 0.016011003797309797, 0.007396200348298798, 0.009636757511163552, 0.009048806940157306, 0.008424094746137811, 0.007840075920011458, 0.007388166524883388, 0.006785372734539941, 0.0068151104303124654, 0.0063441329144522385, 0.00611368674484325, 0.006092998713403297, 0.004918251334810719, 0.00426638544354585, 0.004093946604102783, 0.00341370596619317, 0.003103559458384808, 0.0024823708092860386, 0.0024681941258073437, 0.0034068578866266463, 0.003817896011371502, 0.0025318888029843833, 0.0023827121759145697, 0.0027172961023120834, 0.0018258637414012568, 0.00167275578113113, 0.0024095258752110382, 0.002325271871057133, 0.0021398094877964624, 0.00033662258272570966, 9.39209655763662e-05, 0.0006337358941816973, 0.001149088477261806, 0.0004842539459790629, -0.0001249463122938721, 0.0001796054151954607, -0.0018522648641088324, -0.0015971067584432674, -0.0014427188338705932, -0.0013269422214703397, -0.001061249937468034, -0.0011528417705006788, -0.0016448403637081555, -0.0020267034501788572, -0.002089994729022493, \"\"]}],                        {\"legend\": {\"bgcolor\": \"#F5F6F9\", \"font\": {\"color\": \"#4D5663\"}}, \"paper_bgcolor\": \"#F5F6F9\", \"plot_bgcolor\": \"#F5F6F9\", \"template\": {\"data\": {\"bar\": [{\"error_x\": {\"color\": \"#2a3f5f\"}, \"error_y\": {\"color\": \"#2a3f5f\"}, \"marker\": {\"line\": {\"color\": \"#E5ECF6\", \"width\": 0.5}}, \"type\": \"bar\"}], \"barpolar\": [{\"marker\": {\"line\": {\"color\": \"#E5ECF6\", \"width\": 0.5}}, \"type\": \"barpolar\"}], \"carpet\": [{\"aaxis\": {\"endlinecolor\": \"#2a3f5f\", \"gridcolor\": \"white\", \"linecolor\": \"white\", \"minorgridcolor\": \"white\", \"startlinecolor\": \"#2a3f5f\"}, \"baxis\": {\"endlinecolor\": \"#2a3f5f\", \"gridcolor\": \"white\", \"linecolor\": \"white\", \"minorgridcolor\": \"white\", \"startlinecolor\": \"#2a3f5f\"}, \"type\": \"carpet\"}], \"choropleth\": [{\"colorbar\": {\"outlinewidth\": 0, \"ticks\": \"\"}, \"type\": \"choropleth\"}], \"contour\": [{\"colorbar\": {\"outlinewidth\": 0, \"ticks\": \"\"}, \"colorscale\": [[0.0, \"#0d0887\"], [0.1111111111111111, \"#46039f\"], [0.2222222222222222, \"#7201a8\"], [0.3333333333333333, \"#9c179e\"], [0.4444444444444444, \"#bd3786\"], [0.5555555555555556, \"#d8576b\"], [0.6666666666666666, \"#ed7953\"], [0.7777777777777778, \"#fb9f3a\"], [0.8888888888888888, \"#fdca26\"], [1.0, \"#f0f921\"]], \"type\": \"contour\"}], \"contourcarpet\": [{\"colorbar\": {\"outlinewidth\": 0, \"ticks\": \"\"}, \"type\": \"contourcarpet\"}], \"heatmap\": [{\"colorbar\": {\"outlinewidth\": 0, \"ticks\": \"\"}, \"colorscale\": [[0.0, \"#0d0887\"], [0.1111111111111111, \"#46039f\"], [0.2222222222222222, \"#7201a8\"], [0.3333333333333333, \"#9c179e\"], [0.4444444444444444, \"#bd3786\"], [0.5555555555555556, \"#d8576b\"], [0.6666666666666666, \"#ed7953\"], [0.7777777777777778, \"#fb9f3a\"], [0.8888888888888888, \"#fdca26\"], [1.0, \"#f0f921\"]], \"type\": \"heatmap\"}], \"heatmapgl\": [{\"colorbar\": {\"outlinewidth\": 0, \"ticks\": \"\"}, \"colorscale\": [[0.0, \"#0d0887\"], [0.1111111111111111, \"#46039f\"], [0.2222222222222222, \"#7201a8\"], [0.3333333333333333, \"#9c179e\"], [0.4444444444444444, \"#bd3786\"], [0.5555555555555556, \"#d8576b\"], [0.6666666666666666, \"#ed7953\"], [0.7777777777777778, \"#fb9f3a\"], [0.8888888888888888, \"#fdca26\"], [1.0, \"#f0f921\"]], \"type\": \"heatmapgl\"}], \"histogram\": [{\"marker\": {\"colorbar\": {\"outlinewidth\": 0, \"ticks\": \"\"}}, \"type\": \"histogram\"}], \"histogram2d\": [{\"colorbar\": {\"outlinewidth\": 0, \"ticks\": \"\"}, \"colorscale\": [[0.0, \"#0d0887\"], [0.1111111111111111, \"#46039f\"], [0.2222222222222222, \"#7201a8\"], [0.3333333333333333, \"#9c179e\"], [0.4444444444444444, \"#bd3786\"], [0.5555555555555556, \"#d8576b\"], [0.6666666666666666, \"#ed7953\"], [0.7777777777777778, \"#fb9f3a\"], [0.8888888888888888, \"#fdca26\"], [1.0, \"#f0f921\"]], \"type\": \"histogram2d\"}], \"histogram2dcontour\": [{\"colorbar\": {\"outlinewidth\": 0, \"ticks\": \"\"}, \"colorscale\": [[0.0, \"#0d0887\"], [0.1111111111111111, \"#46039f\"], [0.2222222222222222, \"#7201a8\"], [0.3333333333333333, \"#9c179e\"], [0.4444444444444444, \"#bd3786\"], [0.5555555555555556, \"#d8576b\"], [0.6666666666666666, \"#ed7953\"], [0.7777777777777778, \"#fb9f3a\"], [0.8888888888888888, \"#fdca26\"], [1.0, \"#f0f921\"]], \"type\": \"histogram2dcontour\"}], \"mesh3d\": [{\"colorbar\": {\"outlinewidth\": 0, \"ticks\": \"\"}, \"type\": \"mesh3d\"}], \"parcoords\": [{\"line\": {\"colorbar\": {\"outlinewidth\": 0, \"ticks\": \"\"}}, \"type\": \"parcoords\"}], \"pie\": [{\"automargin\": true, \"type\": \"pie\"}], \"scatter\": [{\"marker\": {\"colorbar\": {\"outlinewidth\": 0, \"ticks\": \"\"}}, \"type\": \"scatter\"}], \"scatter3d\": [{\"line\": {\"colorbar\": {\"outlinewidth\": 0, \"ticks\": \"\"}}, \"marker\": {\"colorbar\": {\"outlinewidth\": 0, \"ticks\": \"\"}}, \"type\": \"scatter3d\"}], \"scattercarpet\": [{\"marker\": {\"colorbar\": {\"outlinewidth\": 0, \"ticks\": \"\"}}, \"type\": \"scattercarpet\"}], \"scattergeo\": [{\"marker\": {\"colorbar\": {\"outlinewidth\": 0, \"ticks\": \"\"}}, \"type\": \"scattergeo\"}], \"scattergl\": [{\"marker\": {\"colorbar\": {\"outlinewidth\": 0, \"ticks\": \"\"}}, \"type\": \"scattergl\"}], \"scattermapbox\": [{\"marker\": {\"colorbar\": {\"outlinewidth\": 0, \"ticks\": \"\"}}, \"type\": \"scattermapbox\"}], \"scatterpolar\": [{\"marker\": {\"colorbar\": {\"outlinewidth\": 0, \"ticks\": \"\"}}, \"type\": \"scatterpolar\"}], \"scatterpolargl\": [{\"marker\": {\"colorbar\": {\"outlinewidth\": 0, \"ticks\": \"\"}}, \"type\": \"scatterpolargl\"}], \"scatterternary\": [{\"marker\": {\"colorbar\": {\"outlinewidth\": 0, \"ticks\": \"\"}}, \"type\": \"scatterternary\"}], \"surface\": [{\"colorbar\": {\"outlinewidth\": 0, \"ticks\": \"\"}, \"colorscale\": [[0.0, \"#0d0887\"], [0.1111111111111111, \"#46039f\"], [0.2222222222222222, \"#7201a8\"], [0.3333333333333333, \"#9c179e\"], [0.4444444444444444, \"#bd3786\"], [0.5555555555555556, \"#d8576b\"], [0.6666666666666666, \"#ed7953\"], [0.7777777777777778, \"#fb9f3a\"], [0.8888888888888888, \"#fdca26\"], [1.0, \"#f0f921\"]], \"type\": \"surface\"}], \"table\": [{\"cells\": {\"fill\": {\"color\": \"#EBF0F8\"}, \"line\": {\"color\": \"white\"}}, \"header\": {\"fill\": {\"color\": \"#C8D4E3\"}, \"line\": {\"color\": \"white\"}}, \"type\": \"table\"}]}, \"layout\": {\"annotationdefaults\": {\"arrowcolor\": \"#2a3f5f\", \"arrowhead\": 0, \"arrowwidth\": 1}, \"autotypenumbers\": \"strict\", \"coloraxis\": {\"colorbar\": {\"outlinewidth\": 0, \"ticks\": \"\"}}, \"colorscale\": {\"diverging\": [[0, \"#8e0152\"], [0.1, \"#c51b7d\"], [0.2, \"#de77ae\"], [0.3, \"#f1b6da\"], [0.4, \"#fde0ef\"], [0.5, \"#f7f7f7\"], [0.6, \"#e6f5d0\"], [0.7, \"#b8e186\"], [0.8, \"#7fbc41\"], [0.9, \"#4d9221\"], [1, \"#276419\"]], \"sequential\": [[0.0, \"#0d0887\"], [0.1111111111111111, \"#46039f\"], [0.2222222222222222, \"#7201a8\"], [0.3333333333333333, \"#9c179e\"], [0.4444444444444444, \"#bd3786\"], [0.5555555555555556, \"#d8576b\"], [0.6666666666666666, \"#ed7953\"], [0.7777777777777778, \"#fb9f3a\"], [0.8888888888888888, \"#fdca26\"], [1.0, \"#f0f921\"]], \"sequentialminus\": [[0.0, \"#0d0887\"], [0.1111111111111111, \"#46039f\"], [0.2222222222222222, \"#7201a8\"], [0.3333333333333333, \"#9c179e\"], [0.4444444444444444, \"#bd3786\"], [0.5555555555555556, \"#d8576b\"], [0.6666666666666666, \"#ed7953\"], [0.7777777777777778, \"#fb9f3a\"], [0.8888888888888888, \"#fdca26\"], [1.0, \"#f0f921\"]]}, \"colorway\": [\"#636efa\", \"#EF553B\", \"#00cc96\", \"#ab63fa\", \"#FFA15A\", \"#19d3f3\", \"#FF6692\", \"#B6E880\", \"#FF97FF\", \"#FECB52\"], \"font\": {\"color\": \"#2a3f5f\"}, \"geo\": {\"bgcolor\": \"white\", \"lakecolor\": \"white\", \"landcolor\": \"#E5ECF6\", \"showlakes\": true, \"showland\": true, \"subunitcolor\": \"white\"}, \"hoverlabel\": {\"align\": \"left\"}, \"hovermode\": \"closest\", \"mapbox\": {\"style\": \"light\"}, \"paper_bgcolor\": \"white\", \"plot_bgcolor\": \"#E5ECF6\", \"polar\": {\"angularaxis\": {\"gridcolor\": \"white\", \"linecolor\": \"white\", \"ticks\": \"\"}, \"bgcolor\": \"#E5ECF6\", \"radialaxis\": {\"gridcolor\": \"white\", \"linecolor\": \"white\", \"ticks\": \"\"}}, \"scene\": {\"xaxis\": {\"backgroundcolor\": \"#E5ECF6\", \"gridcolor\": \"white\", \"gridwidth\": 2, \"linecolor\": \"white\", \"showbackground\": true, \"ticks\": \"\", \"zerolinecolor\": \"white\"}, \"yaxis\": {\"backgroundcolor\": \"#E5ECF6\", \"gridcolor\": \"white\", \"gridwidth\": 2, \"linecolor\": \"white\", \"showbackground\": true, \"ticks\": \"\", \"zerolinecolor\": \"white\"}, \"zaxis\": {\"backgroundcolor\": \"#E5ECF6\", \"gridcolor\": \"white\", \"gridwidth\": 2, \"linecolor\": \"white\", \"showbackground\": true, \"ticks\": \"\", \"zerolinecolor\": \"white\"}}, \"shapedefaults\": {\"line\": {\"color\": \"#2a3f5f\"}}, \"ternary\": {\"aaxis\": {\"gridcolor\": \"white\", \"linecolor\": \"white\", \"ticks\": \"\"}, \"baxis\": {\"gridcolor\": \"white\", \"linecolor\": \"white\", \"ticks\": \"\"}, \"bgcolor\": \"#E5ECF6\", \"caxis\": {\"gridcolor\": \"white\", \"linecolor\": \"white\", \"ticks\": \"\"}}, \"title\": {\"x\": 0.05}, \"xaxis\": {\"automargin\": true, \"gridcolor\": \"white\", \"linecolor\": \"white\", \"ticks\": \"\", \"title\": {\"standoff\": 15}, \"zerolinecolor\": \"white\", \"zerolinewidth\": 2}, \"yaxis\": {\"automargin\": true, \"gridcolor\": \"white\", \"linecolor\": \"white\", \"ticks\": \"\", \"title\": {\"standoff\": 15}, \"zerolinecolor\": \"white\", \"zerolinewidth\": 2}}}, \"title\": {\"font\": {\"color\": \"#4D5663\"}, \"text\": \"Japan Growth Rates\"}, \"xaxis\": {\"gridcolor\": \"#E1E5ED\", \"showgrid\": true, \"tickfont\": {\"color\": \"#4D5663\"}, \"title\": {\"font\": {\"color\": \"#4D5663\"}, \"text\": \"Year\"}, \"zerolinecolor\": \"#E1E5ED\"}, \"yaxis\": {\"gridcolor\": \"#E1E5ED\", \"showgrid\": true, \"tickfont\": {\"color\": \"#4D5663\"}, \"title\": {\"font\": {\"color\": \"#4D5663\"}, \"text\": \"Growth rates\"}, \"zerolinecolor\": \"#E1E5ED\"}},                        {\"showLink\": true, \"linkText\": \"Export to plot.ly\", \"plotlyServerURL\": \"https://plot.ly\", \"responsive\": true}                    ).then(function(){\n",
       "                            \n",
       "var gd = document.getElementById('c6059078-9c4b-4fd3-99a8-d4beea59389f');\n",
       "var x = new MutationObserver(function (mutations, observer) {{\n",
       "        var display = window.getComputedStyle(gd).display;\n",
       "        if (!display || display === 'none') {{\n",
       "            console.log([gd, 'removed!']);\n",
       "            Plotly.purge(gd);\n",
       "            observer.disconnect();\n",
       "        }}\n",
       "}});\n",
       "\n",
       "// Listen for the removal of the full notebook cells\n",
       "var notebookContainer = gd.closest('#notebook-container');\n",
       "if (notebookContainer) {{\n",
       "    x.observe(notebookContainer, {childList: true});\n",
       "}}\n",
       "\n",
       "// Listen for the clearing of the current output cell\n",
       "var outputEl = gd.closest('.output');\n",
       "if (outputEl) {{\n",
       "    x.observe(outputEl, {childList: true});\n",
       "}}\n",
       "\n",
       "                        })                };                });            </script>        </div>"
      ]
     },
     "metadata": {},
     "output_type": "display_data"
    }
   ],
   "source": [
    "np.log(food).diff().iplot(xTitle=\"Year\",yTitle=\"Growth rates\", title = 'Japan Growth Rates')"
   ]
  },
  {
   "cell_type": "markdown",
   "metadata": {},
   "source": [
    "### Italy"
   ]
  },
  {
   "cell_type": "code",
   "execution_count": 23,
   "metadata": {
    "scrolled": false
   },
   "outputs": [
    {
     "data": {
      "application/vnd.plotly.v1+json": {
       "config": {
        "linkText": "Export to plot.ly",
        "plotlyServerURL": "https://plot.ly",
        "showLink": true
       },
       "data": [
        {
         "line": {
          "color": "rgba(255, 153, 51, 1.0)",
          "dash": "solid",
          "shape": "linear",
          "width": 1.3
         },
         "mode": "lines",
         "name": "Livestock index",
         "text": "",
         "type": "scatter",
         "x": [
          1960,
          1961,
          1962,
          1963,
          1964,
          1965,
          1966,
          1967,
          1968,
          1969,
          1970,
          1971,
          1972,
          1973,
          1974,
          1975,
          1976,
          1977,
          1978,
          1979,
          1980,
          1981,
          1982,
          1983,
          1984,
          1985,
          1986,
          1987,
          1988,
          1989,
          1990,
          1991,
          1992,
          1993,
          1994,
          1995,
          1996,
          1997,
          1998,
          1999,
          2000,
          2001,
          2002,
          2003,
          2004,
          2005,
          2006,
          2007,
          2008,
          2009,
          2010,
          2011,
          2012,
          2013,
          2014,
          2015,
          2016,
          2017,
          2018,
          2019,
          2020
         ],
         "y": [
          "",
          53.56,
          55.02,
          49.9,
          53.74,
          57.62,
          62.6,
          63,
          66.1,
          67.6,
          69.5,
          69.27,
          68.8,
          73.25,
          75.94,
          74.57,
          76.89,
          82.22,
          83.88,
          87.63,
          89.9,
          89.6,
          90.07,
          93.1,
          94.92,
          93.75,
          90.97,
          93.31,
          94.1,
          92.88,
          96.92,
          97.39,
          98.45,
          97.27,
          98.25,
          99.75,
          101.97,
          101.59,
          100.18,
          102.8,
          99.38,
          102.48,
          103.84,
          101,
          101.18,
          100.33,
          98.49,
          100.85,
          104.49,
          102.97,
          103.04,
          98.18,
          96.53,
          92.95,
          93.57,
          93.95,
          93.25,
          "",
          "",
          "",
          ""
         ]
        },
        {
         "line": {
          "color": "rgba(55, 128, 191, 1.0)",
          "dash": "solid",
          "shape": "linear",
          "width": 1.3
         },
         "mode": "lines",
         "name": "Food index",
         "text": "",
         "type": "scatter",
         "x": [
          1960,
          1961,
          1962,
          1963,
          1964,
          1965,
          1966,
          1967,
          1968,
          1969,
          1970,
          1971,
          1972,
          1973,
          1974,
          1975,
          1976,
          1977,
          1978,
          1979,
          1980,
          1981,
          1982,
          1983,
          1984,
          1985,
          1986,
          1987,
          1988,
          1989,
          1990,
          1991,
          1992,
          1993,
          1994,
          1995,
          1996,
          1997,
          1998,
          1999,
          2000,
          2001,
          2002,
          2003,
          2004,
          2005,
          2006,
          2007,
          2008,
          2009,
          2010,
          2011,
          2012,
          2013,
          2014,
          2015,
          2016,
          2017,
          2018,
          2019,
          2020
         ],
         "y": [
          "",
          70.57,
          71.94,
          71.64,
          75.25,
          78.19,
          80.51,
          85.5,
          82.27,
          85.1,
          85.5,
          85.08,
          79.52,
          87.5,
          88.47,
          89.5,
          85.92,
          87.99,
          90.06,
          96.66,
          101.39,
          97,
          94.19,
          104.87,
          94.98,
          95.78,
          95.52,
          100.16,
          93.31,
          96.11,
          89.54,
          99.68,
          100.59,
          96.74,
          96.76,
          94.78,
          97.29,
          95.39,
          95.97,
          102.9,
          98.8,
          97.95,
          94.78,
          92.72,
          103.37,
          100.42,
          96.2,
          94.9,
          98.68,
          101.4,
          98.22,
          96.32,
          92.67,
          91.5,
          87.83,
          93.4,
          92.59,
          "",
          "",
          "",
          ""
         ]
        },
        {
         "line": {
          "color": "rgba(50, 171, 96, 1.0)",
          "dash": "solid",
          "shape": "linear",
          "width": 1.3
         },
         "mode": "lines",
         "name": "Crop index",
         "text": "",
         "type": "scatter",
         "x": [
          1960,
          1961,
          1962,
          1963,
          1964,
          1965,
          1966,
          1967,
          1968,
          1969,
          1970,
          1971,
          1972,
          1973,
          1974,
          1975,
          1976,
          1977,
          1978,
          1979,
          1980,
          1981,
          1982,
          1983,
          1984,
          1985,
          1986,
          1987,
          1988,
          1989,
          1990,
          1991,
          1992,
          1993,
          1994,
          1995,
          1996,
          1997,
          1998,
          1999,
          2000,
          2001,
          2002,
          2003,
          2004,
          2005,
          2006,
          2007,
          2008,
          2009,
          2010,
          2011,
          2012,
          2013,
          2014,
          2015,
          2016,
          2017,
          2018,
          2019,
          2020
         ],
         "y": [
          "",
          75.96,
          76.86,
          79.54,
          82.83,
          84.53,
          85.43,
          92.63,
          86.53,
          90.29,
          90,
          89.25,
          81.76,
          90.74,
          90.91,
          93.36,
          87.23,
          88.12,
          90.07,
          97.64,
          103.2,
          97.62,
          93.39,
          107.61,
          94.37,
          94.91,
          96.06,
          101.11,
          91.25,
          95.81,
          84.83,
          99.01,
          99.68,
          95.1,
          93.89,
          91.08,
          94.29,
          91.68,
          93.75,
          102.22,
          98.01,
          95.16,
          90.94,
          87.84,
          104.73,
          100.56,
          94.71,
          91.66,
          94.95,
          98.21,
          94.38,
          94.66,
          89.05,
          89.27,
          85.14,
          91.28,
          90.4,
          "",
          "",
          "",
          ""
         ]
        },
        {
         "line": {
          "color": "rgba(128, 0, 128, 1.0)",
          "dash": "solid",
          "shape": "linear",
          "width": 1.3
         },
         "mode": "lines",
         "name": "Population",
         "text": "",
         "type": "scatter",
         "x": [
          1960,
          1961,
          1962,
          1963,
          1964,
          1965,
          1966,
          1967,
          1968,
          1969,
          1970,
          1971,
          1972,
          1973,
          1974,
          1975,
          1976,
          1977,
          1978,
          1979,
          1980,
          1981,
          1982,
          1983,
          1984,
          1985,
          1986,
          1987,
          1988,
          1989,
          1990,
          1991,
          1992,
          1993,
          1994,
          1995,
          1996,
          1997,
          1998,
          1999,
          2000,
          2001,
          2002,
          2003,
          2004,
          2005,
          2006,
          2007,
          2008,
          2009,
          2010,
          2011,
          2012,
          2013,
          2014,
          2015,
          2016,
          2017,
          2018,
          2019,
          2020
         ],
         "y": [
          86.33688451215215,
          86.91587825456527,
          87.50596514903116,
          88.14670217186202,
          88.87480851628679,
          89.62639106621857,
          90.3257756061036,
          90.9819054523255,
          91.5584913787892,
          92.07823565016079,
          92.56650632733616,
          92.99929404556231,
          93.5287641735011,
          94.16522044354755,
          94.78344782698824,
          95.35123318615672,
          95.82808221638908,
          96.2359507594071,
          96.57946354170222,
          96.85912448475533,
          97.05885969723538,
          97.17545302498132,
          97.24746908016047,
          97.28277110171632,
          97.30451711947681,
          97.33264212963478,
          97.33794620419769,
          97.34788016485766,
          97.39493060837822,
          97.46801298204927,
          97.54963622286668,
          97.61719437880232,
          97.6835228287352,
          97.74326074244077,
          97.76317510021116,
          97.76472814149854,
          97.79220820095577,
          97.84396076505188,
          97.87211845271202,
          97.88858275420057,
          97.93293988359483,
          97.98796191777656,
          98.13399079550437,
          98.5711744977068,
          99.21117885654162,
          99.69989153993056,
          100,
          100.50621062586723,
          101.17424368222203,
          101.63625884633728,
          101.9493643529281,
          102.12484597932317,
          102.4004858697407,
          103.59447192287958,
          104.54932917473707,
          104.44861711304623,
          104.271326184952,
          104.11518104049948,
          103.91748387223379,
          103.70359414170811,
          ""
         ]
        }
       ],
       "layout": {
        "legend": {
         "bgcolor": "#F5F6F9",
         "font": {
          "color": "#4D5663"
         }
        },
        "paper_bgcolor": "#F5F6F9",
        "plot_bgcolor": "#F5F6F9",
        "template": {
         "data": {
          "bar": [
           {
            "error_x": {
             "color": "#2a3f5f"
            },
            "error_y": {
             "color": "#2a3f5f"
            },
            "marker": {
             "line": {
              "color": "#E5ECF6",
              "width": 0.5
             }
            },
            "type": "bar"
           }
          ],
          "barpolar": [
           {
            "marker": {
             "line": {
              "color": "#E5ECF6",
              "width": 0.5
             }
            },
            "type": "barpolar"
           }
          ],
          "carpet": [
           {
            "aaxis": {
             "endlinecolor": "#2a3f5f",
             "gridcolor": "white",
             "linecolor": "white",
             "minorgridcolor": "white",
             "startlinecolor": "#2a3f5f"
            },
            "baxis": {
             "endlinecolor": "#2a3f5f",
             "gridcolor": "white",
             "linecolor": "white",
             "minorgridcolor": "white",
             "startlinecolor": "#2a3f5f"
            },
            "type": "carpet"
           }
          ],
          "choropleth": [
           {
            "colorbar": {
             "outlinewidth": 0,
             "ticks": ""
            },
            "type": "choropleth"
           }
          ],
          "contour": [
           {
            "colorbar": {
             "outlinewidth": 0,
             "ticks": ""
            },
            "colorscale": [
             [
              0,
              "#0d0887"
             ],
             [
              0.1111111111111111,
              "#46039f"
             ],
             [
              0.2222222222222222,
              "#7201a8"
             ],
             [
              0.3333333333333333,
              "#9c179e"
             ],
             [
              0.4444444444444444,
              "#bd3786"
             ],
             [
              0.5555555555555556,
              "#d8576b"
             ],
             [
              0.6666666666666666,
              "#ed7953"
             ],
             [
              0.7777777777777778,
              "#fb9f3a"
             ],
             [
              0.8888888888888888,
              "#fdca26"
             ],
             [
              1,
              "#f0f921"
             ]
            ],
            "type": "contour"
           }
          ],
          "contourcarpet": [
           {
            "colorbar": {
             "outlinewidth": 0,
             "ticks": ""
            },
            "type": "contourcarpet"
           }
          ],
          "heatmap": [
           {
            "colorbar": {
             "outlinewidth": 0,
             "ticks": ""
            },
            "colorscale": [
             [
              0,
              "#0d0887"
             ],
             [
              0.1111111111111111,
              "#46039f"
             ],
             [
              0.2222222222222222,
              "#7201a8"
             ],
             [
              0.3333333333333333,
              "#9c179e"
             ],
             [
              0.4444444444444444,
              "#bd3786"
             ],
             [
              0.5555555555555556,
              "#d8576b"
             ],
             [
              0.6666666666666666,
              "#ed7953"
             ],
             [
              0.7777777777777778,
              "#fb9f3a"
             ],
             [
              0.8888888888888888,
              "#fdca26"
             ],
             [
              1,
              "#f0f921"
             ]
            ],
            "type": "heatmap"
           }
          ],
          "heatmapgl": [
           {
            "colorbar": {
             "outlinewidth": 0,
             "ticks": ""
            },
            "colorscale": [
             [
              0,
              "#0d0887"
             ],
             [
              0.1111111111111111,
              "#46039f"
             ],
             [
              0.2222222222222222,
              "#7201a8"
             ],
             [
              0.3333333333333333,
              "#9c179e"
             ],
             [
              0.4444444444444444,
              "#bd3786"
             ],
             [
              0.5555555555555556,
              "#d8576b"
             ],
             [
              0.6666666666666666,
              "#ed7953"
             ],
             [
              0.7777777777777778,
              "#fb9f3a"
             ],
             [
              0.8888888888888888,
              "#fdca26"
             ],
             [
              1,
              "#f0f921"
             ]
            ],
            "type": "heatmapgl"
           }
          ],
          "histogram": [
           {
            "marker": {
             "colorbar": {
              "outlinewidth": 0,
              "ticks": ""
             }
            },
            "type": "histogram"
           }
          ],
          "histogram2d": [
           {
            "colorbar": {
             "outlinewidth": 0,
             "ticks": ""
            },
            "colorscale": [
             [
              0,
              "#0d0887"
             ],
             [
              0.1111111111111111,
              "#46039f"
             ],
             [
              0.2222222222222222,
              "#7201a8"
             ],
             [
              0.3333333333333333,
              "#9c179e"
             ],
             [
              0.4444444444444444,
              "#bd3786"
             ],
             [
              0.5555555555555556,
              "#d8576b"
             ],
             [
              0.6666666666666666,
              "#ed7953"
             ],
             [
              0.7777777777777778,
              "#fb9f3a"
             ],
             [
              0.8888888888888888,
              "#fdca26"
             ],
             [
              1,
              "#f0f921"
             ]
            ],
            "type": "histogram2d"
           }
          ],
          "histogram2dcontour": [
           {
            "colorbar": {
             "outlinewidth": 0,
             "ticks": ""
            },
            "colorscale": [
             [
              0,
              "#0d0887"
             ],
             [
              0.1111111111111111,
              "#46039f"
             ],
             [
              0.2222222222222222,
              "#7201a8"
             ],
             [
              0.3333333333333333,
              "#9c179e"
             ],
             [
              0.4444444444444444,
              "#bd3786"
             ],
             [
              0.5555555555555556,
              "#d8576b"
             ],
             [
              0.6666666666666666,
              "#ed7953"
             ],
             [
              0.7777777777777778,
              "#fb9f3a"
             ],
             [
              0.8888888888888888,
              "#fdca26"
             ],
             [
              1,
              "#f0f921"
             ]
            ],
            "type": "histogram2dcontour"
           }
          ],
          "mesh3d": [
           {
            "colorbar": {
             "outlinewidth": 0,
             "ticks": ""
            },
            "type": "mesh3d"
           }
          ],
          "parcoords": [
           {
            "line": {
             "colorbar": {
              "outlinewidth": 0,
              "ticks": ""
             }
            },
            "type": "parcoords"
           }
          ],
          "pie": [
           {
            "automargin": true,
            "type": "pie"
           }
          ],
          "scatter": [
           {
            "marker": {
             "colorbar": {
              "outlinewidth": 0,
              "ticks": ""
             }
            },
            "type": "scatter"
           }
          ],
          "scatter3d": [
           {
            "line": {
             "colorbar": {
              "outlinewidth": 0,
              "ticks": ""
             }
            },
            "marker": {
             "colorbar": {
              "outlinewidth": 0,
              "ticks": ""
             }
            },
            "type": "scatter3d"
           }
          ],
          "scattercarpet": [
           {
            "marker": {
             "colorbar": {
              "outlinewidth": 0,
              "ticks": ""
             }
            },
            "type": "scattercarpet"
           }
          ],
          "scattergeo": [
           {
            "marker": {
             "colorbar": {
              "outlinewidth": 0,
              "ticks": ""
             }
            },
            "type": "scattergeo"
           }
          ],
          "scattergl": [
           {
            "marker": {
             "colorbar": {
              "outlinewidth": 0,
              "ticks": ""
             }
            },
            "type": "scattergl"
           }
          ],
          "scattermapbox": [
           {
            "marker": {
             "colorbar": {
              "outlinewidth": 0,
              "ticks": ""
             }
            },
            "type": "scattermapbox"
           }
          ],
          "scatterpolar": [
           {
            "marker": {
             "colorbar": {
              "outlinewidth": 0,
              "ticks": ""
             }
            },
            "type": "scatterpolar"
           }
          ],
          "scatterpolargl": [
           {
            "marker": {
             "colorbar": {
              "outlinewidth": 0,
              "ticks": ""
             }
            },
            "type": "scatterpolargl"
           }
          ],
          "scatterternary": [
           {
            "marker": {
             "colorbar": {
              "outlinewidth": 0,
              "ticks": ""
             }
            },
            "type": "scatterternary"
           }
          ],
          "surface": [
           {
            "colorbar": {
             "outlinewidth": 0,
             "ticks": ""
            },
            "colorscale": [
             [
              0,
              "#0d0887"
             ],
             [
              0.1111111111111111,
              "#46039f"
             ],
             [
              0.2222222222222222,
              "#7201a8"
             ],
             [
              0.3333333333333333,
              "#9c179e"
             ],
             [
              0.4444444444444444,
              "#bd3786"
             ],
             [
              0.5555555555555556,
              "#d8576b"
             ],
             [
              0.6666666666666666,
              "#ed7953"
             ],
             [
              0.7777777777777778,
              "#fb9f3a"
             ],
             [
              0.8888888888888888,
              "#fdca26"
             ],
             [
              1,
              "#f0f921"
             ]
            ],
            "type": "surface"
           }
          ],
          "table": [
           {
            "cells": {
             "fill": {
              "color": "#EBF0F8"
             },
             "line": {
              "color": "white"
             }
            },
            "header": {
             "fill": {
              "color": "#C8D4E3"
             },
             "line": {
              "color": "white"
             }
            },
            "type": "table"
           }
          ]
         },
         "layout": {
          "annotationdefaults": {
           "arrowcolor": "#2a3f5f",
           "arrowhead": 0,
           "arrowwidth": 1
          },
          "autotypenumbers": "strict",
          "coloraxis": {
           "colorbar": {
            "outlinewidth": 0,
            "ticks": ""
           }
          },
          "colorscale": {
           "diverging": [
            [
             0,
             "#8e0152"
            ],
            [
             0.1,
             "#c51b7d"
            ],
            [
             0.2,
             "#de77ae"
            ],
            [
             0.3,
             "#f1b6da"
            ],
            [
             0.4,
             "#fde0ef"
            ],
            [
             0.5,
             "#f7f7f7"
            ],
            [
             0.6,
             "#e6f5d0"
            ],
            [
             0.7,
             "#b8e186"
            ],
            [
             0.8,
             "#7fbc41"
            ],
            [
             0.9,
             "#4d9221"
            ],
            [
             1,
             "#276419"
            ]
           ],
           "sequential": [
            [
             0,
             "#0d0887"
            ],
            [
             0.1111111111111111,
             "#46039f"
            ],
            [
             0.2222222222222222,
             "#7201a8"
            ],
            [
             0.3333333333333333,
             "#9c179e"
            ],
            [
             0.4444444444444444,
             "#bd3786"
            ],
            [
             0.5555555555555556,
             "#d8576b"
            ],
            [
             0.6666666666666666,
             "#ed7953"
            ],
            [
             0.7777777777777778,
             "#fb9f3a"
            ],
            [
             0.8888888888888888,
             "#fdca26"
            ],
            [
             1,
             "#f0f921"
            ]
           ],
           "sequentialminus": [
            [
             0,
             "#0d0887"
            ],
            [
             0.1111111111111111,
             "#46039f"
            ],
            [
             0.2222222222222222,
             "#7201a8"
            ],
            [
             0.3333333333333333,
             "#9c179e"
            ],
            [
             0.4444444444444444,
             "#bd3786"
            ],
            [
             0.5555555555555556,
             "#d8576b"
            ],
            [
             0.6666666666666666,
             "#ed7953"
            ],
            [
             0.7777777777777778,
             "#fb9f3a"
            ],
            [
             0.8888888888888888,
             "#fdca26"
            ],
            [
             1,
             "#f0f921"
            ]
           ]
          },
          "colorway": [
           "#636efa",
           "#EF553B",
           "#00cc96",
           "#ab63fa",
           "#FFA15A",
           "#19d3f3",
           "#FF6692",
           "#B6E880",
           "#FF97FF",
           "#FECB52"
          ],
          "font": {
           "color": "#2a3f5f"
          },
          "geo": {
           "bgcolor": "white",
           "lakecolor": "white",
           "landcolor": "#E5ECF6",
           "showlakes": true,
           "showland": true,
           "subunitcolor": "white"
          },
          "hoverlabel": {
           "align": "left"
          },
          "hovermode": "closest",
          "mapbox": {
           "style": "light"
          },
          "paper_bgcolor": "white",
          "plot_bgcolor": "#E5ECF6",
          "polar": {
           "angularaxis": {
            "gridcolor": "white",
            "linecolor": "white",
            "ticks": ""
           },
           "bgcolor": "#E5ECF6",
           "radialaxis": {
            "gridcolor": "white",
            "linecolor": "white",
            "ticks": ""
           }
          },
          "scene": {
           "xaxis": {
            "backgroundcolor": "#E5ECF6",
            "gridcolor": "white",
            "gridwidth": 2,
            "linecolor": "white",
            "showbackground": true,
            "ticks": "",
            "zerolinecolor": "white"
           },
           "yaxis": {
            "backgroundcolor": "#E5ECF6",
            "gridcolor": "white",
            "gridwidth": 2,
            "linecolor": "white",
            "showbackground": true,
            "ticks": "",
            "zerolinecolor": "white"
           },
           "zaxis": {
            "backgroundcolor": "#E5ECF6",
            "gridcolor": "white",
            "gridwidth": 2,
            "linecolor": "white",
            "showbackground": true,
            "ticks": "",
            "zerolinecolor": "white"
           }
          },
          "shapedefaults": {
           "line": {
            "color": "#2a3f5f"
           }
          },
          "ternary": {
           "aaxis": {
            "gridcolor": "white",
            "linecolor": "white",
            "ticks": ""
           },
           "baxis": {
            "gridcolor": "white",
            "linecolor": "white",
            "ticks": ""
           },
           "bgcolor": "#E5ECF6",
           "caxis": {
            "gridcolor": "white",
            "linecolor": "white",
            "ticks": ""
           }
          },
          "title": {
           "x": 0.05
          },
          "xaxis": {
           "automargin": true,
           "gridcolor": "white",
           "linecolor": "white",
           "ticks": "",
           "title": {
            "standoff": 15
           },
           "zerolinecolor": "white",
           "zerolinewidth": 2
          },
          "yaxis": {
           "automargin": true,
           "gridcolor": "white",
           "linecolor": "white",
           "ticks": "",
           "title": {
            "standoff": 15
           },
           "zerolinecolor": "white",
           "zerolinewidth": 2
          }
         }
        },
        "title": {
         "font": {
          "color": "#4D5663"
         },
         "text": "Italy"
        },
        "xaxis": {
         "gridcolor": "#E1E5ED",
         "showgrid": true,
         "tickfont": {
          "color": "#4D5663"
         },
         "title": {
          "font": {
           "color": "#4D5663"
          },
          "text": "Year"
         },
         "zerolinecolor": "#E1E5ED"
        },
        "yaxis": {
         "gridcolor": "#E1E5ED",
         "showgrid": true,
         "tickfont": {
          "color": "#4D5663"
         },
         "title": {
          "font": {
           "color": "#4D5663"
          },
          "text": "Index"
         },
         "zerolinecolor": "#E1E5ED"
        }
       }
      },
      "text/html": [
       "<div>                            <div id=\"6cac1e93-3350-410b-92a4-b486f7a1d55c\" class=\"plotly-graph-div\" style=\"height:525px; width:100%;\"></div>            <script type=\"text/javascript\">                require([\"plotly\"], function(Plotly) {                    window.PLOTLYENV=window.PLOTLYENV || {};\n",
       "                    window.PLOTLYENV.BASE_URL='https://plot.ly';                                    if (document.getElementById(\"6cac1e93-3350-410b-92a4-b486f7a1d55c\")) {                    Plotly.newPlot(                        \"6cac1e93-3350-410b-92a4-b486f7a1d55c\",                        [{\"line\": {\"color\": \"rgba(255, 153, 51, 1.0)\", \"dash\": \"solid\", \"shape\": \"linear\", \"width\": 1.3}, \"mode\": \"lines\", \"name\": \"Livestock index\", \"text\": \"\", \"type\": \"scatter\", \"x\": [1960, 1961, 1962, 1963, 1964, 1965, 1966, 1967, 1968, 1969, 1970, 1971, 1972, 1973, 1974, 1975, 1976, 1977, 1978, 1979, 1980, 1981, 1982, 1983, 1984, 1985, 1986, 1987, 1988, 1989, 1990, 1991, 1992, 1993, 1994, 1995, 1996, 1997, 1998, 1999, 2000, 2001, 2002, 2003, 2004, 2005, 2006, 2007, 2008, 2009, 2010, 2011, 2012, 2013, 2014, 2015, 2016, 2017, 2018, 2019, 2020], \"y\": [\"\", 53.56, 55.02, 49.9, 53.74, 57.62, 62.6, 63.0, 66.1, 67.6, 69.5, 69.27, 68.8, 73.25, 75.94, 74.57, 76.89, 82.22, 83.88, 87.63, 89.9, 89.6, 90.07, 93.1, 94.92, 93.75, 90.97, 93.31, 94.1, 92.88, 96.92, 97.39, 98.45, 97.27, 98.25, 99.75, 101.97, 101.59, 100.18, 102.8, 99.38, 102.48, 103.84, 101.0, 101.18, 100.33, 98.49, 100.85, 104.49, 102.97, 103.04, 98.18, 96.53, 92.95, 93.57, 93.95, 93.25, \"\", \"\", \"\", \"\"]}, {\"line\": {\"color\": \"rgba(55, 128, 191, 1.0)\", \"dash\": \"solid\", \"shape\": \"linear\", \"width\": 1.3}, \"mode\": \"lines\", \"name\": \"Food index\", \"text\": \"\", \"type\": \"scatter\", \"x\": [1960, 1961, 1962, 1963, 1964, 1965, 1966, 1967, 1968, 1969, 1970, 1971, 1972, 1973, 1974, 1975, 1976, 1977, 1978, 1979, 1980, 1981, 1982, 1983, 1984, 1985, 1986, 1987, 1988, 1989, 1990, 1991, 1992, 1993, 1994, 1995, 1996, 1997, 1998, 1999, 2000, 2001, 2002, 2003, 2004, 2005, 2006, 2007, 2008, 2009, 2010, 2011, 2012, 2013, 2014, 2015, 2016, 2017, 2018, 2019, 2020], \"y\": [\"\", 70.57, 71.94, 71.64, 75.25, 78.19, 80.51, 85.5, 82.27, 85.1, 85.5, 85.08, 79.52, 87.5, 88.47, 89.5, 85.92, 87.99, 90.06, 96.66, 101.39, 97.0, 94.19, 104.87, 94.98, 95.78, 95.52, 100.16, 93.31, 96.11, 89.54, 99.68, 100.59, 96.74, 96.76, 94.78, 97.29, 95.39, 95.97, 102.9, 98.8, 97.95, 94.78, 92.72, 103.37, 100.42, 96.2, 94.9, 98.68, 101.4, 98.22, 96.32, 92.67, 91.5, 87.83, 93.4, 92.59, \"\", \"\", \"\", \"\"]}, {\"line\": {\"color\": \"rgba(50, 171, 96, 1.0)\", \"dash\": \"solid\", \"shape\": \"linear\", \"width\": 1.3}, \"mode\": \"lines\", \"name\": \"Crop index\", \"text\": \"\", \"type\": \"scatter\", \"x\": [1960, 1961, 1962, 1963, 1964, 1965, 1966, 1967, 1968, 1969, 1970, 1971, 1972, 1973, 1974, 1975, 1976, 1977, 1978, 1979, 1980, 1981, 1982, 1983, 1984, 1985, 1986, 1987, 1988, 1989, 1990, 1991, 1992, 1993, 1994, 1995, 1996, 1997, 1998, 1999, 2000, 2001, 2002, 2003, 2004, 2005, 2006, 2007, 2008, 2009, 2010, 2011, 2012, 2013, 2014, 2015, 2016, 2017, 2018, 2019, 2020], \"y\": [\"\", 75.96, 76.86, 79.54, 82.83, 84.53, 85.43, 92.63, 86.53, 90.29, 90.0, 89.25, 81.76, 90.74, 90.91, 93.36, 87.23, 88.12, 90.07, 97.64, 103.2, 97.62, 93.39, 107.61, 94.37, 94.91, 96.06, 101.11, 91.25, 95.81, 84.83, 99.01, 99.68, 95.1, 93.89, 91.08, 94.29, 91.68, 93.75, 102.22, 98.01, 95.16, 90.94, 87.84, 104.73, 100.56, 94.71, 91.66, 94.95, 98.21, 94.38, 94.66, 89.05, 89.27, 85.14, 91.28, 90.4, \"\", \"\", \"\", \"\"]}, {\"line\": {\"color\": \"rgba(128, 0, 128, 1.0)\", \"dash\": \"solid\", \"shape\": \"linear\", \"width\": 1.3}, \"mode\": \"lines\", \"name\": \"Population\", \"text\": \"\", \"type\": \"scatter\", \"x\": [1960, 1961, 1962, 1963, 1964, 1965, 1966, 1967, 1968, 1969, 1970, 1971, 1972, 1973, 1974, 1975, 1976, 1977, 1978, 1979, 1980, 1981, 1982, 1983, 1984, 1985, 1986, 1987, 1988, 1989, 1990, 1991, 1992, 1993, 1994, 1995, 1996, 1997, 1998, 1999, 2000, 2001, 2002, 2003, 2004, 2005, 2006, 2007, 2008, 2009, 2010, 2011, 2012, 2013, 2014, 2015, 2016, 2017, 2018, 2019, 2020], \"y\": [86.33688451215215, 86.91587825456527, 87.50596514903116, 88.14670217186202, 88.87480851628679, 89.62639106621857, 90.3257756061036, 90.9819054523255, 91.5584913787892, 92.07823565016079, 92.56650632733616, 92.99929404556231, 93.5287641735011, 94.16522044354755, 94.78344782698824, 95.35123318615672, 95.82808221638908, 96.2359507594071, 96.57946354170222, 96.85912448475533, 97.05885969723538, 97.17545302498132, 97.24746908016047, 97.28277110171632, 97.30451711947681, 97.33264212963478, 97.33794620419769, 97.34788016485766, 97.39493060837822, 97.46801298204927, 97.54963622286668, 97.61719437880232, 97.6835228287352, 97.74326074244077, 97.76317510021116, 97.76472814149854, 97.79220820095577, 97.84396076505188, 97.87211845271202, 97.88858275420057, 97.93293988359483, 97.98796191777656, 98.13399079550437, 98.5711744977068, 99.21117885654162, 99.69989153993056, 100.0, 100.50621062586723, 101.17424368222203, 101.63625884633728, 101.9493643529281, 102.12484597932317, 102.4004858697407, 103.59447192287958, 104.54932917473707, 104.44861711304623, 104.271326184952, 104.11518104049948, 103.91748387223379, 103.70359414170811, \"\"]}],                        {\"legend\": {\"bgcolor\": \"#F5F6F9\", \"font\": {\"color\": \"#4D5663\"}}, \"paper_bgcolor\": \"#F5F6F9\", \"plot_bgcolor\": \"#F5F6F9\", \"template\": {\"data\": {\"bar\": [{\"error_x\": {\"color\": \"#2a3f5f\"}, \"error_y\": {\"color\": \"#2a3f5f\"}, \"marker\": {\"line\": {\"color\": \"#E5ECF6\", \"width\": 0.5}}, \"type\": \"bar\"}], \"barpolar\": [{\"marker\": {\"line\": {\"color\": \"#E5ECF6\", \"width\": 0.5}}, \"type\": \"barpolar\"}], \"carpet\": [{\"aaxis\": {\"endlinecolor\": \"#2a3f5f\", \"gridcolor\": \"white\", \"linecolor\": \"white\", \"minorgridcolor\": \"white\", \"startlinecolor\": \"#2a3f5f\"}, \"baxis\": {\"endlinecolor\": \"#2a3f5f\", \"gridcolor\": \"white\", \"linecolor\": \"white\", \"minorgridcolor\": \"white\", \"startlinecolor\": \"#2a3f5f\"}, \"type\": \"carpet\"}], \"choropleth\": [{\"colorbar\": {\"outlinewidth\": 0, \"ticks\": \"\"}, \"type\": \"choropleth\"}], \"contour\": [{\"colorbar\": {\"outlinewidth\": 0, \"ticks\": \"\"}, \"colorscale\": [[0.0, \"#0d0887\"], [0.1111111111111111, \"#46039f\"], [0.2222222222222222, \"#7201a8\"], [0.3333333333333333, \"#9c179e\"], [0.4444444444444444, \"#bd3786\"], [0.5555555555555556, \"#d8576b\"], [0.6666666666666666, \"#ed7953\"], [0.7777777777777778, \"#fb9f3a\"], [0.8888888888888888, \"#fdca26\"], [1.0, \"#f0f921\"]], \"type\": \"contour\"}], \"contourcarpet\": [{\"colorbar\": {\"outlinewidth\": 0, \"ticks\": \"\"}, \"type\": \"contourcarpet\"}], \"heatmap\": [{\"colorbar\": {\"outlinewidth\": 0, \"ticks\": \"\"}, \"colorscale\": [[0.0, \"#0d0887\"], [0.1111111111111111, \"#46039f\"], [0.2222222222222222, \"#7201a8\"], [0.3333333333333333, \"#9c179e\"], [0.4444444444444444, \"#bd3786\"], [0.5555555555555556, \"#d8576b\"], [0.6666666666666666, \"#ed7953\"], [0.7777777777777778, \"#fb9f3a\"], [0.8888888888888888, \"#fdca26\"], [1.0, \"#f0f921\"]], \"type\": \"heatmap\"}], \"heatmapgl\": [{\"colorbar\": {\"outlinewidth\": 0, \"ticks\": \"\"}, \"colorscale\": [[0.0, \"#0d0887\"], [0.1111111111111111, \"#46039f\"], [0.2222222222222222, \"#7201a8\"], [0.3333333333333333, \"#9c179e\"], [0.4444444444444444, \"#bd3786\"], [0.5555555555555556, \"#d8576b\"], [0.6666666666666666, \"#ed7953\"], [0.7777777777777778, \"#fb9f3a\"], [0.8888888888888888, \"#fdca26\"], [1.0, \"#f0f921\"]], \"type\": \"heatmapgl\"}], \"histogram\": [{\"marker\": {\"colorbar\": {\"outlinewidth\": 0, \"ticks\": \"\"}}, \"type\": \"histogram\"}], \"histogram2d\": [{\"colorbar\": {\"outlinewidth\": 0, \"ticks\": \"\"}, \"colorscale\": [[0.0, \"#0d0887\"], [0.1111111111111111, \"#46039f\"], [0.2222222222222222, \"#7201a8\"], [0.3333333333333333, \"#9c179e\"], [0.4444444444444444, \"#bd3786\"], [0.5555555555555556, \"#d8576b\"], [0.6666666666666666, \"#ed7953\"], [0.7777777777777778, \"#fb9f3a\"], [0.8888888888888888, \"#fdca26\"], [1.0, \"#f0f921\"]], \"type\": \"histogram2d\"}], \"histogram2dcontour\": [{\"colorbar\": {\"outlinewidth\": 0, \"ticks\": \"\"}, \"colorscale\": [[0.0, \"#0d0887\"], [0.1111111111111111, \"#46039f\"], [0.2222222222222222, \"#7201a8\"], [0.3333333333333333, \"#9c179e\"], [0.4444444444444444, \"#bd3786\"], [0.5555555555555556, \"#d8576b\"], [0.6666666666666666, \"#ed7953\"], [0.7777777777777778, \"#fb9f3a\"], [0.8888888888888888, \"#fdca26\"], [1.0, \"#f0f921\"]], \"type\": \"histogram2dcontour\"}], \"mesh3d\": [{\"colorbar\": {\"outlinewidth\": 0, \"ticks\": \"\"}, \"type\": \"mesh3d\"}], \"parcoords\": [{\"line\": {\"colorbar\": {\"outlinewidth\": 0, \"ticks\": \"\"}}, \"type\": \"parcoords\"}], \"pie\": [{\"automargin\": true, \"type\": \"pie\"}], \"scatter\": [{\"marker\": {\"colorbar\": {\"outlinewidth\": 0, \"ticks\": \"\"}}, \"type\": \"scatter\"}], \"scatter3d\": [{\"line\": {\"colorbar\": {\"outlinewidth\": 0, \"ticks\": \"\"}}, \"marker\": {\"colorbar\": {\"outlinewidth\": 0, \"ticks\": \"\"}}, \"type\": \"scatter3d\"}], \"scattercarpet\": [{\"marker\": {\"colorbar\": {\"outlinewidth\": 0, \"ticks\": \"\"}}, \"type\": \"scattercarpet\"}], \"scattergeo\": [{\"marker\": {\"colorbar\": {\"outlinewidth\": 0, \"ticks\": \"\"}}, \"type\": \"scattergeo\"}], \"scattergl\": [{\"marker\": {\"colorbar\": {\"outlinewidth\": 0, \"ticks\": \"\"}}, \"type\": \"scattergl\"}], \"scattermapbox\": [{\"marker\": {\"colorbar\": {\"outlinewidth\": 0, \"ticks\": \"\"}}, \"type\": \"scattermapbox\"}], \"scatterpolar\": [{\"marker\": {\"colorbar\": {\"outlinewidth\": 0, \"ticks\": \"\"}}, \"type\": \"scatterpolar\"}], \"scatterpolargl\": [{\"marker\": {\"colorbar\": {\"outlinewidth\": 0, \"ticks\": \"\"}}, \"type\": \"scatterpolargl\"}], \"scatterternary\": [{\"marker\": {\"colorbar\": {\"outlinewidth\": 0, \"ticks\": \"\"}}, \"type\": \"scatterternary\"}], \"surface\": [{\"colorbar\": {\"outlinewidth\": 0, \"ticks\": \"\"}, \"colorscale\": [[0.0, \"#0d0887\"], [0.1111111111111111, \"#46039f\"], [0.2222222222222222, \"#7201a8\"], [0.3333333333333333, \"#9c179e\"], [0.4444444444444444, \"#bd3786\"], [0.5555555555555556, \"#d8576b\"], [0.6666666666666666, \"#ed7953\"], [0.7777777777777778, \"#fb9f3a\"], [0.8888888888888888, \"#fdca26\"], [1.0, \"#f0f921\"]], \"type\": \"surface\"}], \"table\": [{\"cells\": {\"fill\": {\"color\": \"#EBF0F8\"}, \"line\": {\"color\": \"white\"}}, \"header\": {\"fill\": {\"color\": \"#C8D4E3\"}, \"line\": {\"color\": \"white\"}}, \"type\": \"table\"}]}, \"layout\": {\"annotationdefaults\": {\"arrowcolor\": \"#2a3f5f\", \"arrowhead\": 0, \"arrowwidth\": 1}, \"autotypenumbers\": \"strict\", \"coloraxis\": {\"colorbar\": {\"outlinewidth\": 0, \"ticks\": \"\"}}, \"colorscale\": {\"diverging\": [[0, \"#8e0152\"], [0.1, \"#c51b7d\"], [0.2, \"#de77ae\"], [0.3, \"#f1b6da\"], [0.4, \"#fde0ef\"], [0.5, \"#f7f7f7\"], [0.6, \"#e6f5d0\"], [0.7, \"#b8e186\"], [0.8, \"#7fbc41\"], [0.9, \"#4d9221\"], [1, \"#276419\"]], \"sequential\": [[0.0, \"#0d0887\"], [0.1111111111111111, \"#46039f\"], [0.2222222222222222, \"#7201a8\"], [0.3333333333333333, \"#9c179e\"], [0.4444444444444444, \"#bd3786\"], [0.5555555555555556, \"#d8576b\"], [0.6666666666666666, \"#ed7953\"], [0.7777777777777778, \"#fb9f3a\"], [0.8888888888888888, \"#fdca26\"], [1.0, \"#f0f921\"]], \"sequentialminus\": [[0.0, \"#0d0887\"], [0.1111111111111111, \"#46039f\"], [0.2222222222222222, \"#7201a8\"], [0.3333333333333333, \"#9c179e\"], [0.4444444444444444, \"#bd3786\"], [0.5555555555555556, \"#d8576b\"], [0.6666666666666666, \"#ed7953\"], [0.7777777777777778, \"#fb9f3a\"], [0.8888888888888888, \"#fdca26\"], [1.0, \"#f0f921\"]]}, \"colorway\": [\"#636efa\", \"#EF553B\", \"#00cc96\", \"#ab63fa\", \"#FFA15A\", \"#19d3f3\", \"#FF6692\", \"#B6E880\", \"#FF97FF\", \"#FECB52\"], \"font\": {\"color\": \"#2a3f5f\"}, \"geo\": {\"bgcolor\": \"white\", \"lakecolor\": \"white\", \"landcolor\": \"#E5ECF6\", \"showlakes\": true, \"showland\": true, \"subunitcolor\": \"white\"}, \"hoverlabel\": {\"align\": \"left\"}, \"hovermode\": \"closest\", \"mapbox\": {\"style\": \"light\"}, \"paper_bgcolor\": \"white\", \"plot_bgcolor\": \"#E5ECF6\", \"polar\": {\"angularaxis\": {\"gridcolor\": \"white\", \"linecolor\": \"white\", \"ticks\": \"\"}, \"bgcolor\": \"#E5ECF6\", \"radialaxis\": {\"gridcolor\": \"white\", \"linecolor\": \"white\", \"ticks\": \"\"}}, \"scene\": {\"xaxis\": {\"backgroundcolor\": \"#E5ECF6\", \"gridcolor\": \"white\", \"gridwidth\": 2, \"linecolor\": \"white\", \"showbackground\": true, \"ticks\": \"\", \"zerolinecolor\": \"white\"}, \"yaxis\": {\"backgroundcolor\": \"#E5ECF6\", \"gridcolor\": \"white\", \"gridwidth\": 2, \"linecolor\": \"white\", \"showbackground\": true, \"ticks\": \"\", \"zerolinecolor\": \"white\"}, \"zaxis\": {\"backgroundcolor\": \"#E5ECF6\", \"gridcolor\": \"white\", \"gridwidth\": 2, \"linecolor\": \"white\", \"showbackground\": true, \"ticks\": \"\", \"zerolinecolor\": \"white\"}}, \"shapedefaults\": {\"line\": {\"color\": \"#2a3f5f\"}}, \"ternary\": {\"aaxis\": {\"gridcolor\": \"white\", \"linecolor\": \"white\", \"ticks\": \"\"}, \"baxis\": {\"gridcolor\": \"white\", \"linecolor\": \"white\", \"ticks\": \"\"}, \"bgcolor\": \"#E5ECF6\", \"caxis\": {\"gridcolor\": \"white\", \"linecolor\": \"white\", \"ticks\": \"\"}}, \"title\": {\"x\": 0.05}, \"xaxis\": {\"automargin\": true, \"gridcolor\": \"white\", \"linecolor\": \"white\", \"ticks\": \"\", \"title\": {\"standoff\": 15}, \"zerolinecolor\": \"white\", \"zerolinewidth\": 2}, \"yaxis\": {\"automargin\": true, \"gridcolor\": \"white\", \"linecolor\": \"white\", \"ticks\": \"\", \"title\": {\"standoff\": 15}, \"zerolinecolor\": \"white\", \"zerolinewidth\": 2}}}, \"title\": {\"font\": {\"color\": \"#4D5663\"}, \"text\": \"Italy\"}, \"xaxis\": {\"gridcolor\": \"#E1E5ED\", \"showgrid\": true, \"tickfont\": {\"color\": \"#4D5663\"}, \"title\": {\"font\": {\"color\": \"#4D5663\"}, \"text\": \"Year\"}, \"zerolinecolor\": \"#E1E5ED\"}, \"yaxis\": {\"gridcolor\": \"#E1E5ED\", \"showgrid\": true, \"tickfont\": {\"color\": \"#4D5663\"}, \"title\": {\"font\": {\"color\": \"#4D5663\"}, \"text\": \"Index\"}, \"zerolinecolor\": \"#E1E5ED\"}},                        {\"showLink\": true, \"linkText\": \"Export to plot.ly\", \"plotlyServerURL\": \"https://plot.ly\", \"responsive\": true}                    ).then(function(){\n",
       "                            \n",
       "var gd = document.getElementById('6cac1e93-3350-410b-92a4-b486f7a1d55c');\n",
       "var x = new MutationObserver(function (mutations, observer) {{\n",
       "        var display = window.getComputedStyle(gd).display;\n",
       "        if (!display || display === 'none') {{\n",
       "            console.log([gd, 'removed!']);\n",
       "            Plotly.purge(gd);\n",
       "            observer.disconnect();\n",
       "        }}\n",
       "}});\n",
       "\n",
       "// Listen for the removal of the full notebook cells\n",
       "var notebookContainer = gd.closest('#notebook-container');\n",
       "if (notebookContainer) {{\n",
       "    x.observe(notebookContainer, {childList: true});\n",
       "}}\n",
       "\n",
       "// Listen for the clearing of the current output cell\n",
       "var outputEl = gd.closest('.output');\n",
       "if (outputEl) {{\n",
       "    x.observe(outputEl, {childList: true});\n",
       "}}\n",
       "\n",
       "                        })                };                });            </script>        </div>"
      ]
     },
     "metadata": {},
     "output_type": "display_data"
    }
   ],
   "source": [
    "vars = {\"AG.PRD.LVSK.XD\":\"Livestock index\",\n",
    "        \"AG.PRD.FOOD.XD\":\"Food index\",\n",
    "        \"AG.PRD.CROP.XD\":\"Crop index\",\n",
    "        \"SP.POP.TOTL\":\"Population\"}\n",
    "\n",
    "use = ['ITA']\n",
    "\n",
    "food = fix_date_index(wbdata.get_dataframe(vars,country=use))\n",
    "\n",
    "food.sort_index(inplace=True)\n",
    "\n",
    "food['Population'] = food['Population']/food.loc[2006,'Population']*100\n",
    "\n",
    "food.iplot(xTitle=\"Year\",yTitle=\"Index\", title = \"Italy\")"
   ]
  },
  {
   "cell_type": "code",
   "execution_count": 24,
   "metadata": {},
   "outputs": [
    {
     "data": {
      "application/vnd.plotly.v1+json": {
       "config": {
        "linkText": "Export to plot.ly",
        "plotlyServerURL": "https://plot.ly",
        "showLink": true
       },
       "data": [
        {
         "line": {
          "color": "rgba(255, 153, 51, 1.0)",
          "dash": "solid",
          "shape": "linear",
          "width": 1.3
         },
         "mode": "lines",
         "name": "Livestock index",
         "text": "",
         "type": "scatter",
         "x": [
          1960,
          1961,
          1962,
          1963,
          1964,
          1965,
          1966,
          1967,
          1968,
          1969,
          1970,
          1971,
          1972,
          1973,
          1974,
          1975,
          1976,
          1977,
          1978,
          1979,
          1980,
          1981,
          1982,
          1983,
          1984,
          1985,
          1986,
          1987,
          1988,
          1989,
          1990,
          1991,
          1992,
          1993,
          1994,
          1995,
          1996,
          1997,
          1998,
          1999,
          2000,
          2001,
          2002,
          2003,
          2004,
          2005,
          2006,
          2007,
          2008,
          2009,
          2010,
          2011,
          2012,
          2013,
          2014,
          2015,
          2016,
          2017,
          2018,
          2019,
          2020
         ],
         "y": [
          "",
          "",
          0.02689423467345664,
          -0.09767575273895535,
          0.07413660042987225,
          0.06971212646903702,
          0.08289554844967029,
          0.006369448285480139,
          0.048034020466108274,
          0.022439236191277523,
          0.027718769521827724,
          -0.003314840536232211,
          -0.006808167095216255,
          0.06267450295787924,
          0.03606530690647958,
          -0.01820527324795318,
          0.030637547488385763,
          0.06702275242564326,
          0.019988624563986868,
          0.04373619903403991,
          0.025574536409815884,
          -0.003342621496690512,
          0.005231825814766999,
          0.033087038487369824,
          0.019360247284541998,
          -0.012402766717043434,
          -0.030101883016548925,
          0.025397501411959844,
          0.008430763345403491,
          -0.013049709201697901,
          0.04257755855868872,
          0.004837640024782708,
          0.010825269112026525,
          -0.01205818820378557,
          0.01002463386802166,
          0.015151805020602538,
          0.02201159660616181,
          -0.003733547272680937,
          -0.013976537173983061,
          0.02581678509159424,
          -0.03383446684689062,
          0.030716771414304844,
          0.01318359536730096,
          -0.027730736114520482,
          0.0017805920225306693,
          -0.008436355926268568,
          -0.018509732755910946,
          0.02367924421861023,
          0.03545710864579821,
          -0.014653689377359669,
          0.0006795786873841081,
          -0.04831473372613715,
          -0.016948687769382964,
          -0.03779212669307075,
          0.006648105120368619,
          0.0040529065716530255,
          -0.0074786673355493605,
          "",
          "",
          "",
          ""
         ]
        },
        {
         "line": {
          "color": "rgba(55, 128, 191, 1.0)",
          "dash": "solid",
          "shape": "linear",
          "width": 1.3
         },
         "mode": "lines",
         "name": "Food index",
         "text": "",
         "type": "scatter",
         "x": [
          1960,
          1961,
          1962,
          1963,
          1964,
          1965,
          1966,
          1967,
          1968,
          1969,
          1970,
          1971,
          1972,
          1973,
          1974,
          1975,
          1976,
          1977,
          1978,
          1979,
          1980,
          1981,
          1982,
          1983,
          1984,
          1985,
          1986,
          1987,
          1988,
          1989,
          1990,
          1991,
          1992,
          1993,
          1994,
          1995,
          1996,
          1997,
          1998,
          1999,
          2000,
          2001,
          2002,
          2003,
          2004,
          2005,
          2006,
          2007,
          2008,
          2009,
          2010,
          2011,
          2012,
          2013,
          2014,
          2015,
          2016,
          2017,
          2018,
          2019,
          2020
         ],
         "y": [
          "",
          "",
          0.019227313254739364,
          -0.004178861074966456,
          0.049162326436474224,
          0.03832585850743708,
          0.02923963817546671,
          0.06013497563082559,
          -0.03850985476187585,
          0.03382051439848954,
          0.004689340363386307,
          -0.004924385610678428,
          -0.06758342798371775,
          0.09563023101525037,
          0.011024718131725564,
          0.011575113785514901,
          -0.04082199452025481,
          0.023806540896914363,
          0.02325294321595628,
          0.07072355154351229,
          0.047774800547550456,
          -0.04426348846110528,
          -0.02939695966865674,
          0.10740746901158804,
          -0.09905514472533827,
          0.008387551793487269,
          -0.00271824527017106,
          0.04743325770749607,
          -0.07084162410585737,
          0.02956608558926188,
          -0.07080791602237291,
          0.10727960222632316,
          0.009087794107103697,
          -0.03902588175140931,
          0.0002067183469893763,
          -0.020675269202384605,
          0.02613779244789427,
          -0.019722457830219753,
          0.006061891472419312,
          0.0697220002104677,
          -0.04066003808618124,
          -0.008640460363272595,
          -0.0328987278511077,
          -0.021974217507946037,
          0.1087305855488978,
          -0.02895339397383445,
          -0.04293203293489878,
          -0.01360565205577835,
          0.03905858604527346,
          0.027190799495927287,
          -0.0318632305459845,
          -0.0195338790505879,
          -0.0386311859619104,
          -0.01270582331712422,
          -0.040935844352450346,
          0.061488217305771364,
          -0.00871020077484097,
          "",
          "",
          "",
          ""
         ]
        },
        {
         "line": {
          "color": "rgba(50, 171, 96, 1.0)",
          "dash": "solid",
          "shape": "linear",
          "width": 1.3
         },
         "mode": "lines",
         "name": "Crop index",
         "text": "",
         "type": "scatter",
         "x": [
          1960,
          1961,
          1962,
          1963,
          1964,
          1965,
          1966,
          1967,
          1968,
          1969,
          1970,
          1971,
          1972,
          1973,
          1974,
          1975,
          1976,
          1977,
          1978,
          1979,
          1980,
          1981,
          1982,
          1983,
          1984,
          1985,
          1986,
          1987,
          1988,
          1989,
          1990,
          1991,
          1992,
          1993,
          1994,
          1995,
          1996,
          1997,
          1998,
          1999,
          2000,
          2001,
          2002,
          2003,
          2004,
          2005,
          2006,
          2007,
          2008,
          2009,
          2010,
          2011,
          2012,
          2013,
          2014,
          2015,
          2016,
          2017,
          2018,
          2019,
          2020
         ],
         "y": [
          "",
          "",
          0.011778699192612763,
          0.03427445464284684,
          0.04053027483062799,
          0.02031618633066401,
          0.010590826222690808,
          0.08091573610240932,
          -0.06812188864728874,
          0.04253553770073992,
          -0.0032170419891226487,
          -0.008368249670516192,
          -0.08765329420435464,
          0.10421014778042359,
          0.0018717318979488695,
          0.026592981844533625,
          -0.06791467953317287,
          0.010151213489015376,
          0.021887623861508665,
          0.08070009972910785,
          0.055381607522702936,
          -0.05558646258846078,
          -0.044298117337374876,
          0.14172930709067444,
          -0.13129035417905932,
          0.005705848109158751,
          0.012043922094277626,
          0.05123603686663003,
          -0.10260604064070744,
          0.048764071200181114,
          -0.12171780984313862,
          0.15457160131477998,
          0.00674419990471975,
          -0.047036085487798474,
          -0.012805085280888306,
          -0.030385643074917645,
          0.034636898282047746,
          -0.028070886511156523,
          0.022327411884090154,
          0.08649568848961398,
          -0.04205783905904514,
          -0.02950982884633202,
          -0.04535973703789242,
          -0.03468297063564396,
          0.17586863202383451,
          -0.04063104550306296,
          -0.05993497304398154,
          -0.032733512157032685,
          0.03526435817731777,
          0.03375760591138732,
          -0.03977885687144145,
          0.0029623381798602466,
          -0.06109351474243052,
          0.002467475455599555,
          -0.0473685247912643,
          0.06963474515381396,
          -0.009687438155689065,
          "",
          "",
          "",
          ""
         ]
        },
        {
         "line": {
          "color": "rgba(128, 0, 128, 1.0)",
          "dash": "solid",
          "shape": "linear",
          "width": 1.3
         },
         "mode": "lines",
         "name": "Population",
         "text": "",
         "type": "scatter",
         "x": [
          1960,
          1961,
          1962,
          1963,
          1964,
          1965,
          1966,
          1967,
          1968,
          1969,
          1970,
          1971,
          1972,
          1973,
          1974,
          1975,
          1976,
          1977,
          1978,
          1979,
          1980,
          1981,
          1982,
          1983,
          1984,
          1985,
          1986,
          1987,
          1988,
          1989,
          1990,
          1991,
          1992,
          1993,
          1994,
          1995,
          1996,
          1997,
          1998,
          1999,
          2000,
          2001,
          2002,
          2003,
          2004,
          2005,
          2006,
          2007,
          2008,
          2009,
          2010,
          2011,
          2012,
          2013,
          2014,
          2015,
          2016,
          2017,
          2018,
          2019,
          2020
         ],
         "y": [
          "",
          0.0066838287441042254,
          0.006766229896699727,
          0.007295532422316953,
          0.008226236998678083,
          0.008421086168662661,
          0.00777304407307966,
          0.007237781727677195,
          0.006317372527527176,
          0.0056605850865816265,
          0.005288770317178226,
          0.004664528723140826,
          0.005677124986457116,
          0.006781876475860038,
          0.006543889356483312,
          0.005972472185548305,
          0.004988510583406658,
          0.00424722057350202,
          0.003563129503660889,
          0.0028914720764969815,
          0.0020599975185948693,
          0.001200543200794435,
          0.0007408185999162598,
          0.0003629463666969812,
          0.00022350913104141057,
          0.00028899939212312376,
          5.449281896741098e-05,
          0.00010205119554829167,
          0.0004832059704709124,
          0.0007500900453525361,
          0.0008370857295885159,
          0.0006923118895327818,
          0.0006792443308087925,
          0.0006113585300289159,
          0.00020372073945740254,
          1.588562309162711e-05,
          0.00028104408007312287,
          0.0005290695026056724,
          0.00028774015877441883,
          0.00016820844455356365,
          0.00045303631138615685,
          0.0005616760143754007,
          0.001489164294906864,
          0.004445073126555954,
          0.006471827054707724,
          0.004913891075031707,
          0.003005596885178541,
          0.005049336873976351,
          0.0066246925294155545,
          0.0045561344957771865,
          0.003075912223409638,
          0.0017197829099568906,
          0.002695412395209651,
          0.011592511168094788,
          0.009175040959624958,
          -0.0009637613313921989,
          -0.0016988407330149613,
          -0.0014986111697394833,
          -0.0019006364011380228,
          -0.0020603862405357276,
          ""
         ]
        }
       ],
       "layout": {
        "legend": {
         "bgcolor": "#F5F6F9",
         "font": {
          "color": "#4D5663"
         }
        },
        "paper_bgcolor": "#F5F6F9",
        "plot_bgcolor": "#F5F6F9",
        "template": {
         "data": {
          "bar": [
           {
            "error_x": {
             "color": "#2a3f5f"
            },
            "error_y": {
             "color": "#2a3f5f"
            },
            "marker": {
             "line": {
              "color": "#E5ECF6",
              "width": 0.5
             }
            },
            "type": "bar"
           }
          ],
          "barpolar": [
           {
            "marker": {
             "line": {
              "color": "#E5ECF6",
              "width": 0.5
             }
            },
            "type": "barpolar"
           }
          ],
          "carpet": [
           {
            "aaxis": {
             "endlinecolor": "#2a3f5f",
             "gridcolor": "white",
             "linecolor": "white",
             "minorgridcolor": "white",
             "startlinecolor": "#2a3f5f"
            },
            "baxis": {
             "endlinecolor": "#2a3f5f",
             "gridcolor": "white",
             "linecolor": "white",
             "minorgridcolor": "white",
             "startlinecolor": "#2a3f5f"
            },
            "type": "carpet"
           }
          ],
          "choropleth": [
           {
            "colorbar": {
             "outlinewidth": 0,
             "ticks": ""
            },
            "type": "choropleth"
           }
          ],
          "contour": [
           {
            "colorbar": {
             "outlinewidth": 0,
             "ticks": ""
            },
            "colorscale": [
             [
              0,
              "#0d0887"
             ],
             [
              0.1111111111111111,
              "#46039f"
             ],
             [
              0.2222222222222222,
              "#7201a8"
             ],
             [
              0.3333333333333333,
              "#9c179e"
             ],
             [
              0.4444444444444444,
              "#bd3786"
             ],
             [
              0.5555555555555556,
              "#d8576b"
             ],
             [
              0.6666666666666666,
              "#ed7953"
             ],
             [
              0.7777777777777778,
              "#fb9f3a"
             ],
             [
              0.8888888888888888,
              "#fdca26"
             ],
             [
              1,
              "#f0f921"
             ]
            ],
            "type": "contour"
           }
          ],
          "contourcarpet": [
           {
            "colorbar": {
             "outlinewidth": 0,
             "ticks": ""
            },
            "type": "contourcarpet"
           }
          ],
          "heatmap": [
           {
            "colorbar": {
             "outlinewidth": 0,
             "ticks": ""
            },
            "colorscale": [
             [
              0,
              "#0d0887"
             ],
             [
              0.1111111111111111,
              "#46039f"
             ],
             [
              0.2222222222222222,
              "#7201a8"
             ],
             [
              0.3333333333333333,
              "#9c179e"
             ],
             [
              0.4444444444444444,
              "#bd3786"
             ],
             [
              0.5555555555555556,
              "#d8576b"
             ],
             [
              0.6666666666666666,
              "#ed7953"
             ],
             [
              0.7777777777777778,
              "#fb9f3a"
             ],
             [
              0.8888888888888888,
              "#fdca26"
             ],
             [
              1,
              "#f0f921"
             ]
            ],
            "type": "heatmap"
           }
          ],
          "heatmapgl": [
           {
            "colorbar": {
             "outlinewidth": 0,
             "ticks": ""
            },
            "colorscale": [
             [
              0,
              "#0d0887"
             ],
             [
              0.1111111111111111,
              "#46039f"
             ],
             [
              0.2222222222222222,
              "#7201a8"
             ],
             [
              0.3333333333333333,
              "#9c179e"
             ],
             [
              0.4444444444444444,
              "#bd3786"
             ],
             [
              0.5555555555555556,
              "#d8576b"
             ],
             [
              0.6666666666666666,
              "#ed7953"
             ],
             [
              0.7777777777777778,
              "#fb9f3a"
             ],
             [
              0.8888888888888888,
              "#fdca26"
             ],
             [
              1,
              "#f0f921"
             ]
            ],
            "type": "heatmapgl"
           }
          ],
          "histogram": [
           {
            "marker": {
             "colorbar": {
              "outlinewidth": 0,
              "ticks": ""
             }
            },
            "type": "histogram"
           }
          ],
          "histogram2d": [
           {
            "colorbar": {
             "outlinewidth": 0,
             "ticks": ""
            },
            "colorscale": [
             [
              0,
              "#0d0887"
             ],
             [
              0.1111111111111111,
              "#46039f"
             ],
             [
              0.2222222222222222,
              "#7201a8"
             ],
             [
              0.3333333333333333,
              "#9c179e"
             ],
             [
              0.4444444444444444,
              "#bd3786"
             ],
             [
              0.5555555555555556,
              "#d8576b"
             ],
             [
              0.6666666666666666,
              "#ed7953"
             ],
             [
              0.7777777777777778,
              "#fb9f3a"
             ],
             [
              0.8888888888888888,
              "#fdca26"
             ],
             [
              1,
              "#f0f921"
             ]
            ],
            "type": "histogram2d"
           }
          ],
          "histogram2dcontour": [
           {
            "colorbar": {
             "outlinewidth": 0,
             "ticks": ""
            },
            "colorscale": [
             [
              0,
              "#0d0887"
             ],
             [
              0.1111111111111111,
              "#46039f"
             ],
             [
              0.2222222222222222,
              "#7201a8"
             ],
             [
              0.3333333333333333,
              "#9c179e"
             ],
             [
              0.4444444444444444,
              "#bd3786"
             ],
             [
              0.5555555555555556,
              "#d8576b"
             ],
             [
              0.6666666666666666,
              "#ed7953"
             ],
             [
              0.7777777777777778,
              "#fb9f3a"
             ],
             [
              0.8888888888888888,
              "#fdca26"
             ],
             [
              1,
              "#f0f921"
             ]
            ],
            "type": "histogram2dcontour"
           }
          ],
          "mesh3d": [
           {
            "colorbar": {
             "outlinewidth": 0,
             "ticks": ""
            },
            "type": "mesh3d"
           }
          ],
          "parcoords": [
           {
            "line": {
             "colorbar": {
              "outlinewidth": 0,
              "ticks": ""
             }
            },
            "type": "parcoords"
           }
          ],
          "pie": [
           {
            "automargin": true,
            "type": "pie"
           }
          ],
          "scatter": [
           {
            "marker": {
             "colorbar": {
              "outlinewidth": 0,
              "ticks": ""
             }
            },
            "type": "scatter"
           }
          ],
          "scatter3d": [
           {
            "line": {
             "colorbar": {
              "outlinewidth": 0,
              "ticks": ""
             }
            },
            "marker": {
             "colorbar": {
              "outlinewidth": 0,
              "ticks": ""
             }
            },
            "type": "scatter3d"
           }
          ],
          "scattercarpet": [
           {
            "marker": {
             "colorbar": {
              "outlinewidth": 0,
              "ticks": ""
             }
            },
            "type": "scattercarpet"
           }
          ],
          "scattergeo": [
           {
            "marker": {
             "colorbar": {
              "outlinewidth": 0,
              "ticks": ""
             }
            },
            "type": "scattergeo"
           }
          ],
          "scattergl": [
           {
            "marker": {
             "colorbar": {
              "outlinewidth": 0,
              "ticks": ""
             }
            },
            "type": "scattergl"
           }
          ],
          "scattermapbox": [
           {
            "marker": {
             "colorbar": {
              "outlinewidth": 0,
              "ticks": ""
             }
            },
            "type": "scattermapbox"
           }
          ],
          "scatterpolar": [
           {
            "marker": {
             "colorbar": {
              "outlinewidth": 0,
              "ticks": ""
             }
            },
            "type": "scatterpolar"
           }
          ],
          "scatterpolargl": [
           {
            "marker": {
             "colorbar": {
              "outlinewidth": 0,
              "ticks": ""
             }
            },
            "type": "scatterpolargl"
           }
          ],
          "scatterternary": [
           {
            "marker": {
             "colorbar": {
              "outlinewidth": 0,
              "ticks": ""
             }
            },
            "type": "scatterternary"
           }
          ],
          "surface": [
           {
            "colorbar": {
             "outlinewidth": 0,
             "ticks": ""
            },
            "colorscale": [
             [
              0,
              "#0d0887"
             ],
             [
              0.1111111111111111,
              "#46039f"
             ],
             [
              0.2222222222222222,
              "#7201a8"
             ],
             [
              0.3333333333333333,
              "#9c179e"
             ],
             [
              0.4444444444444444,
              "#bd3786"
             ],
             [
              0.5555555555555556,
              "#d8576b"
             ],
             [
              0.6666666666666666,
              "#ed7953"
             ],
             [
              0.7777777777777778,
              "#fb9f3a"
             ],
             [
              0.8888888888888888,
              "#fdca26"
             ],
             [
              1,
              "#f0f921"
             ]
            ],
            "type": "surface"
           }
          ],
          "table": [
           {
            "cells": {
             "fill": {
              "color": "#EBF0F8"
             },
             "line": {
              "color": "white"
             }
            },
            "header": {
             "fill": {
              "color": "#C8D4E3"
             },
             "line": {
              "color": "white"
             }
            },
            "type": "table"
           }
          ]
         },
         "layout": {
          "annotationdefaults": {
           "arrowcolor": "#2a3f5f",
           "arrowhead": 0,
           "arrowwidth": 1
          },
          "autotypenumbers": "strict",
          "coloraxis": {
           "colorbar": {
            "outlinewidth": 0,
            "ticks": ""
           }
          },
          "colorscale": {
           "diverging": [
            [
             0,
             "#8e0152"
            ],
            [
             0.1,
             "#c51b7d"
            ],
            [
             0.2,
             "#de77ae"
            ],
            [
             0.3,
             "#f1b6da"
            ],
            [
             0.4,
             "#fde0ef"
            ],
            [
             0.5,
             "#f7f7f7"
            ],
            [
             0.6,
             "#e6f5d0"
            ],
            [
             0.7,
             "#b8e186"
            ],
            [
             0.8,
             "#7fbc41"
            ],
            [
             0.9,
             "#4d9221"
            ],
            [
             1,
             "#276419"
            ]
           ],
           "sequential": [
            [
             0,
             "#0d0887"
            ],
            [
             0.1111111111111111,
             "#46039f"
            ],
            [
             0.2222222222222222,
             "#7201a8"
            ],
            [
             0.3333333333333333,
             "#9c179e"
            ],
            [
             0.4444444444444444,
             "#bd3786"
            ],
            [
             0.5555555555555556,
             "#d8576b"
            ],
            [
             0.6666666666666666,
             "#ed7953"
            ],
            [
             0.7777777777777778,
             "#fb9f3a"
            ],
            [
             0.8888888888888888,
             "#fdca26"
            ],
            [
             1,
             "#f0f921"
            ]
           ],
           "sequentialminus": [
            [
             0,
             "#0d0887"
            ],
            [
             0.1111111111111111,
             "#46039f"
            ],
            [
             0.2222222222222222,
             "#7201a8"
            ],
            [
             0.3333333333333333,
             "#9c179e"
            ],
            [
             0.4444444444444444,
             "#bd3786"
            ],
            [
             0.5555555555555556,
             "#d8576b"
            ],
            [
             0.6666666666666666,
             "#ed7953"
            ],
            [
             0.7777777777777778,
             "#fb9f3a"
            ],
            [
             0.8888888888888888,
             "#fdca26"
            ],
            [
             1,
             "#f0f921"
            ]
           ]
          },
          "colorway": [
           "#636efa",
           "#EF553B",
           "#00cc96",
           "#ab63fa",
           "#FFA15A",
           "#19d3f3",
           "#FF6692",
           "#B6E880",
           "#FF97FF",
           "#FECB52"
          ],
          "font": {
           "color": "#2a3f5f"
          },
          "geo": {
           "bgcolor": "white",
           "lakecolor": "white",
           "landcolor": "#E5ECF6",
           "showlakes": true,
           "showland": true,
           "subunitcolor": "white"
          },
          "hoverlabel": {
           "align": "left"
          },
          "hovermode": "closest",
          "mapbox": {
           "style": "light"
          },
          "paper_bgcolor": "white",
          "plot_bgcolor": "#E5ECF6",
          "polar": {
           "angularaxis": {
            "gridcolor": "white",
            "linecolor": "white",
            "ticks": ""
           },
           "bgcolor": "#E5ECF6",
           "radialaxis": {
            "gridcolor": "white",
            "linecolor": "white",
            "ticks": ""
           }
          },
          "scene": {
           "xaxis": {
            "backgroundcolor": "#E5ECF6",
            "gridcolor": "white",
            "gridwidth": 2,
            "linecolor": "white",
            "showbackground": true,
            "ticks": "",
            "zerolinecolor": "white"
           },
           "yaxis": {
            "backgroundcolor": "#E5ECF6",
            "gridcolor": "white",
            "gridwidth": 2,
            "linecolor": "white",
            "showbackground": true,
            "ticks": "",
            "zerolinecolor": "white"
           },
           "zaxis": {
            "backgroundcolor": "#E5ECF6",
            "gridcolor": "white",
            "gridwidth": 2,
            "linecolor": "white",
            "showbackground": true,
            "ticks": "",
            "zerolinecolor": "white"
           }
          },
          "shapedefaults": {
           "line": {
            "color": "#2a3f5f"
           }
          },
          "ternary": {
           "aaxis": {
            "gridcolor": "white",
            "linecolor": "white",
            "ticks": ""
           },
           "baxis": {
            "gridcolor": "white",
            "linecolor": "white",
            "ticks": ""
           },
           "bgcolor": "#E5ECF6",
           "caxis": {
            "gridcolor": "white",
            "linecolor": "white",
            "ticks": ""
           }
          },
          "title": {
           "x": 0.05
          },
          "xaxis": {
           "automargin": true,
           "gridcolor": "white",
           "linecolor": "white",
           "ticks": "",
           "title": {
            "standoff": 15
           },
           "zerolinecolor": "white",
           "zerolinewidth": 2
          },
          "yaxis": {
           "automargin": true,
           "gridcolor": "white",
           "linecolor": "white",
           "ticks": "",
           "title": {
            "standoff": 15
           },
           "zerolinecolor": "white",
           "zerolinewidth": 2
          }
         }
        },
        "title": {
         "font": {
          "color": "#4D5663"
         },
         "text": "Italy Growth Rates"
        },
        "xaxis": {
         "gridcolor": "#E1E5ED",
         "showgrid": true,
         "tickfont": {
          "color": "#4D5663"
         },
         "title": {
          "font": {
           "color": "#4D5663"
          },
          "text": "Year"
         },
         "zerolinecolor": "#E1E5ED"
        },
        "yaxis": {
         "gridcolor": "#E1E5ED",
         "showgrid": true,
         "tickfont": {
          "color": "#4D5663"
         },
         "title": {
          "font": {
           "color": "#4D5663"
          },
          "text": "Growth rates"
         },
         "zerolinecolor": "#E1E5ED"
        }
       }
      },
      "text/html": [
       "<div>                            <div id=\"808d2e16-b7ff-4e41-ac89-67a8c0fe1cea\" class=\"plotly-graph-div\" style=\"height:525px; width:100%;\"></div>            <script type=\"text/javascript\">                require([\"plotly\"], function(Plotly) {                    window.PLOTLYENV=window.PLOTLYENV || {};\n",
       "                    window.PLOTLYENV.BASE_URL='https://plot.ly';                                    if (document.getElementById(\"808d2e16-b7ff-4e41-ac89-67a8c0fe1cea\")) {                    Plotly.newPlot(                        \"808d2e16-b7ff-4e41-ac89-67a8c0fe1cea\",                        [{\"line\": {\"color\": \"rgba(255, 153, 51, 1.0)\", \"dash\": \"solid\", \"shape\": \"linear\", \"width\": 1.3}, \"mode\": \"lines\", \"name\": \"Livestock index\", \"text\": \"\", \"type\": \"scatter\", \"x\": [1960, 1961, 1962, 1963, 1964, 1965, 1966, 1967, 1968, 1969, 1970, 1971, 1972, 1973, 1974, 1975, 1976, 1977, 1978, 1979, 1980, 1981, 1982, 1983, 1984, 1985, 1986, 1987, 1988, 1989, 1990, 1991, 1992, 1993, 1994, 1995, 1996, 1997, 1998, 1999, 2000, 2001, 2002, 2003, 2004, 2005, 2006, 2007, 2008, 2009, 2010, 2011, 2012, 2013, 2014, 2015, 2016, 2017, 2018, 2019, 2020], \"y\": [\"\", \"\", 0.02689423467345664, -0.09767575273895535, 0.07413660042987225, 0.06971212646903702, 0.08289554844967029, 0.006369448285480139, 0.048034020466108274, 0.022439236191277523, 0.027718769521827724, -0.003314840536232211, -0.006808167095216255, 0.06267450295787924, 0.03606530690647958, -0.01820527324795318, 0.030637547488385763, 0.06702275242564326, 0.019988624563986868, 0.04373619903403991, 0.025574536409815884, -0.003342621496690512, 0.005231825814766999, 0.033087038487369824, 0.019360247284541998, -0.012402766717043434, -0.030101883016548925, 0.025397501411959844, 0.008430763345403491, -0.013049709201697901, 0.04257755855868872, 0.004837640024782708, 0.010825269112026525, -0.01205818820378557, 0.01002463386802166, 0.015151805020602538, 0.02201159660616181, -0.003733547272680937, -0.013976537173983061, 0.02581678509159424, -0.03383446684689062, 0.030716771414304844, 0.01318359536730096, -0.027730736114520482, 0.0017805920225306693, -0.008436355926268568, -0.018509732755910946, 0.02367924421861023, 0.03545710864579821, -0.014653689377359669, 0.0006795786873841081, -0.04831473372613715, -0.016948687769382964, -0.03779212669307075, 0.006648105120368619, 0.0040529065716530255, -0.0074786673355493605, \"\", \"\", \"\", \"\"]}, {\"line\": {\"color\": \"rgba(55, 128, 191, 1.0)\", \"dash\": \"solid\", \"shape\": \"linear\", \"width\": 1.3}, \"mode\": \"lines\", \"name\": \"Food index\", \"text\": \"\", \"type\": \"scatter\", \"x\": [1960, 1961, 1962, 1963, 1964, 1965, 1966, 1967, 1968, 1969, 1970, 1971, 1972, 1973, 1974, 1975, 1976, 1977, 1978, 1979, 1980, 1981, 1982, 1983, 1984, 1985, 1986, 1987, 1988, 1989, 1990, 1991, 1992, 1993, 1994, 1995, 1996, 1997, 1998, 1999, 2000, 2001, 2002, 2003, 2004, 2005, 2006, 2007, 2008, 2009, 2010, 2011, 2012, 2013, 2014, 2015, 2016, 2017, 2018, 2019, 2020], \"y\": [\"\", \"\", 0.019227313254739364, -0.004178861074966456, 0.049162326436474224, 0.03832585850743708, 0.02923963817546671, 0.06013497563082559, -0.03850985476187585, 0.03382051439848954, 0.004689340363386307, -0.004924385610678428, -0.06758342798371775, 0.09563023101525037, 0.011024718131725564, 0.011575113785514901, -0.04082199452025481, 0.023806540896914363, 0.02325294321595628, 0.07072355154351229, 0.047774800547550456, -0.04426348846110528, -0.02939695966865674, 0.10740746901158804, -0.09905514472533827, 0.008387551793487269, -0.00271824527017106, 0.04743325770749607, -0.07084162410585737, 0.02956608558926188, -0.07080791602237291, 0.10727960222632316, 0.009087794107103697, -0.03902588175140931, 0.0002067183469893763, -0.020675269202384605, 0.02613779244789427, -0.019722457830219753, 0.006061891472419312, 0.0697220002104677, -0.04066003808618124, -0.008640460363272595, -0.0328987278511077, -0.021974217507946037, 0.1087305855488978, -0.02895339397383445, -0.04293203293489878, -0.01360565205577835, 0.03905858604527346, 0.027190799495927287, -0.0318632305459845, -0.0195338790505879, -0.0386311859619104, -0.01270582331712422, -0.040935844352450346, 0.061488217305771364, -0.00871020077484097, \"\", \"\", \"\", \"\"]}, {\"line\": {\"color\": \"rgba(50, 171, 96, 1.0)\", \"dash\": \"solid\", \"shape\": \"linear\", \"width\": 1.3}, \"mode\": \"lines\", \"name\": \"Crop index\", \"text\": \"\", \"type\": \"scatter\", \"x\": [1960, 1961, 1962, 1963, 1964, 1965, 1966, 1967, 1968, 1969, 1970, 1971, 1972, 1973, 1974, 1975, 1976, 1977, 1978, 1979, 1980, 1981, 1982, 1983, 1984, 1985, 1986, 1987, 1988, 1989, 1990, 1991, 1992, 1993, 1994, 1995, 1996, 1997, 1998, 1999, 2000, 2001, 2002, 2003, 2004, 2005, 2006, 2007, 2008, 2009, 2010, 2011, 2012, 2013, 2014, 2015, 2016, 2017, 2018, 2019, 2020], \"y\": [\"\", \"\", 0.011778699192612763, 0.03427445464284684, 0.04053027483062799, 0.02031618633066401, 0.010590826222690808, 0.08091573610240932, -0.06812188864728874, 0.04253553770073992, -0.0032170419891226487, -0.008368249670516192, -0.08765329420435464, 0.10421014778042359, 0.0018717318979488695, 0.026592981844533625, -0.06791467953317287, 0.010151213489015376, 0.021887623861508665, 0.08070009972910785, 0.055381607522702936, -0.05558646258846078, -0.044298117337374876, 0.14172930709067444, -0.13129035417905932, 0.005705848109158751, 0.012043922094277626, 0.05123603686663003, -0.10260604064070744, 0.048764071200181114, -0.12171780984313862, 0.15457160131477998, 0.00674419990471975, -0.047036085487798474, -0.012805085280888306, -0.030385643074917645, 0.034636898282047746, -0.028070886511156523, 0.022327411884090154, 0.08649568848961398, -0.04205783905904514, -0.02950982884633202, -0.04535973703789242, -0.03468297063564396, 0.17586863202383451, -0.04063104550306296, -0.05993497304398154, -0.032733512157032685, 0.03526435817731777, 0.03375760591138732, -0.03977885687144145, 0.0029623381798602466, -0.06109351474243052, 0.002467475455599555, -0.0473685247912643, 0.06963474515381396, -0.009687438155689065, \"\", \"\", \"\", \"\"]}, {\"line\": {\"color\": \"rgba(128, 0, 128, 1.0)\", \"dash\": \"solid\", \"shape\": \"linear\", \"width\": 1.3}, \"mode\": \"lines\", \"name\": \"Population\", \"text\": \"\", \"type\": \"scatter\", \"x\": [1960, 1961, 1962, 1963, 1964, 1965, 1966, 1967, 1968, 1969, 1970, 1971, 1972, 1973, 1974, 1975, 1976, 1977, 1978, 1979, 1980, 1981, 1982, 1983, 1984, 1985, 1986, 1987, 1988, 1989, 1990, 1991, 1992, 1993, 1994, 1995, 1996, 1997, 1998, 1999, 2000, 2001, 2002, 2003, 2004, 2005, 2006, 2007, 2008, 2009, 2010, 2011, 2012, 2013, 2014, 2015, 2016, 2017, 2018, 2019, 2020], \"y\": [\"\", 0.0066838287441042254, 0.006766229896699727, 0.007295532422316953, 0.008226236998678083, 0.008421086168662661, 0.00777304407307966, 0.007237781727677195, 0.006317372527527176, 0.0056605850865816265, 0.005288770317178226, 0.004664528723140826, 0.005677124986457116, 0.006781876475860038, 0.006543889356483312, 0.005972472185548305, 0.004988510583406658, 0.00424722057350202, 0.003563129503660889, 0.0028914720764969815, 0.0020599975185948693, 0.001200543200794435, 0.0007408185999162598, 0.0003629463666969812, 0.00022350913104141057, 0.00028899939212312376, 5.449281896741098e-05, 0.00010205119554829167, 0.0004832059704709124, 0.0007500900453525361, 0.0008370857295885159, 0.0006923118895327818, 0.0006792443308087925, 0.0006113585300289159, 0.00020372073945740254, 1.588562309162711e-05, 0.00028104408007312287, 0.0005290695026056724, 0.00028774015877441883, 0.00016820844455356365, 0.00045303631138615685, 0.0005616760143754007, 0.001489164294906864, 0.004445073126555954, 0.006471827054707724, 0.004913891075031707, 0.003005596885178541, 0.005049336873976351, 0.0066246925294155545, 0.0045561344957771865, 0.003075912223409638, 0.0017197829099568906, 0.002695412395209651, 0.011592511168094788, 0.009175040959624958, -0.0009637613313921989, -0.0016988407330149613, -0.0014986111697394833, -0.0019006364011380228, -0.0020603862405357276, \"\"]}],                        {\"legend\": {\"bgcolor\": \"#F5F6F9\", \"font\": {\"color\": \"#4D5663\"}}, \"paper_bgcolor\": \"#F5F6F9\", \"plot_bgcolor\": \"#F5F6F9\", \"template\": {\"data\": {\"bar\": [{\"error_x\": {\"color\": \"#2a3f5f\"}, \"error_y\": {\"color\": \"#2a3f5f\"}, \"marker\": {\"line\": {\"color\": \"#E5ECF6\", \"width\": 0.5}}, \"type\": \"bar\"}], \"barpolar\": [{\"marker\": {\"line\": {\"color\": \"#E5ECF6\", \"width\": 0.5}}, \"type\": \"barpolar\"}], \"carpet\": [{\"aaxis\": {\"endlinecolor\": \"#2a3f5f\", \"gridcolor\": \"white\", \"linecolor\": \"white\", \"minorgridcolor\": \"white\", \"startlinecolor\": \"#2a3f5f\"}, \"baxis\": {\"endlinecolor\": \"#2a3f5f\", \"gridcolor\": \"white\", \"linecolor\": \"white\", \"minorgridcolor\": \"white\", \"startlinecolor\": \"#2a3f5f\"}, \"type\": \"carpet\"}], \"choropleth\": [{\"colorbar\": {\"outlinewidth\": 0, \"ticks\": \"\"}, \"type\": \"choropleth\"}], \"contour\": [{\"colorbar\": {\"outlinewidth\": 0, \"ticks\": \"\"}, \"colorscale\": [[0.0, \"#0d0887\"], [0.1111111111111111, \"#46039f\"], [0.2222222222222222, \"#7201a8\"], [0.3333333333333333, \"#9c179e\"], [0.4444444444444444, \"#bd3786\"], [0.5555555555555556, \"#d8576b\"], [0.6666666666666666, \"#ed7953\"], [0.7777777777777778, \"#fb9f3a\"], [0.8888888888888888, \"#fdca26\"], [1.0, \"#f0f921\"]], \"type\": \"contour\"}], \"contourcarpet\": [{\"colorbar\": {\"outlinewidth\": 0, \"ticks\": \"\"}, \"type\": \"contourcarpet\"}], \"heatmap\": [{\"colorbar\": {\"outlinewidth\": 0, \"ticks\": \"\"}, \"colorscale\": [[0.0, \"#0d0887\"], [0.1111111111111111, \"#46039f\"], [0.2222222222222222, \"#7201a8\"], [0.3333333333333333, \"#9c179e\"], [0.4444444444444444, \"#bd3786\"], [0.5555555555555556, \"#d8576b\"], [0.6666666666666666, \"#ed7953\"], [0.7777777777777778, \"#fb9f3a\"], [0.8888888888888888, \"#fdca26\"], [1.0, \"#f0f921\"]], \"type\": \"heatmap\"}], \"heatmapgl\": [{\"colorbar\": {\"outlinewidth\": 0, \"ticks\": \"\"}, \"colorscale\": [[0.0, \"#0d0887\"], [0.1111111111111111, \"#46039f\"], [0.2222222222222222, \"#7201a8\"], [0.3333333333333333, \"#9c179e\"], [0.4444444444444444, \"#bd3786\"], [0.5555555555555556, \"#d8576b\"], [0.6666666666666666, \"#ed7953\"], [0.7777777777777778, \"#fb9f3a\"], [0.8888888888888888, \"#fdca26\"], [1.0, \"#f0f921\"]], \"type\": \"heatmapgl\"}], \"histogram\": [{\"marker\": {\"colorbar\": {\"outlinewidth\": 0, \"ticks\": \"\"}}, \"type\": \"histogram\"}], \"histogram2d\": [{\"colorbar\": {\"outlinewidth\": 0, \"ticks\": \"\"}, \"colorscale\": [[0.0, \"#0d0887\"], [0.1111111111111111, \"#46039f\"], [0.2222222222222222, \"#7201a8\"], [0.3333333333333333, \"#9c179e\"], [0.4444444444444444, \"#bd3786\"], [0.5555555555555556, \"#d8576b\"], [0.6666666666666666, \"#ed7953\"], [0.7777777777777778, \"#fb9f3a\"], [0.8888888888888888, \"#fdca26\"], [1.0, \"#f0f921\"]], \"type\": \"histogram2d\"}], \"histogram2dcontour\": [{\"colorbar\": {\"outlinewidth\": 0, \"ticks\": \"\"}, \"colorscale\": [[0.0, \"#0d0887\"], [0.1111111111111111, \"#46039f\"], [0.2222222222222222, \"#7201a8\"], [0.3333333333333333, \"#9c179e\"], [0.4444444444444444, \"#bd3786\"], [0.5555555555555556, \"#d8576b\"], [0.6666666666666666, \"#ed7953\"], [0.7777777777777778, \"#fb9f3a\"], [0.8888888888888888, \"#fdca26\"], [1.0, \"#f0f921\"]], \"type\": \"histogram2dcontour\"}], \"mesh3d\": [{\"colorbar\": {\"outlinewidth\": 0, \"ticks\": \"\"}, \"type\": \"mesh3d\"}], \"parcoords\": [{\"line\": {\"colorbar\": {\"outlinewidth\": 0, \"ticks\": \"\"}}, \"type\": \"parcoords\"}], \"pie\": [{\"automargin\": true, \"type\": \"pie\"}], \"scatter\": [{\"marker\": {\"colorbar\": {\"outlinewidth\": 0, \"ticks\": \"\"}}, \"type\": \"scatter\"}], \"scatter3d\": [{\"line\": {\"colorbar\": {\"outlinewidth\": 0, \"ticks\": \"\"}}, \"marker\": {\"colorbar\": {\"outlinewidth\": 0, \"ticks\": \"\"}}, \"type\": \"scatter3d\"}], \"scattercarpet\": [{\"marker\": {\"colorbar\": {\"outlinewidth\": 0, \"ticks\": \"\"}}, \"type\": \"scattercarpet\"}], \"scattergeo\": [{\"marker\": {\"colorbar\": {\"outlinewidth\": 0, \"ticks\": \"\"}}, \"type\": \"scattergeo\"}], \"scattergl\": [{\"marker\": {\"colorbar\": {\"outlinewidth\": 0, \"ticks\": \"\"}}, \"type\": \"scattergl\"}], \"scattermapbox\": [{\"marker\": {\"colorbar\": {\"outlinewidth\": 0, \"ticks\": \"\"}}, \"type\": \"scattermapbox\"}], \"scatterpolar\": [{\"marker\": {\"colorbar\": {\"outlinewidth\": 0, \"ticks\": \"\"}}, \"type\": \"scatterpolar\"}], \"scatterpolargl\": [{\"marker\": {\"colorbar\": {\"outlinewidth\": 0, \"ticks\": \"\"}}, \"type\": \"scatterpolargl\"}], \"scatterternary\": [{\"marker\": {\"colorbar\": {\"outlinewidth\": 0, \"ticks\": \"\"}}, \"type\": \"scatterternary\"}], \"surface\": [{\"colorbar\": {\"outlinewidth\": 0, \"ticks\": \"\"}, \"colorscale\": [[0.0, \"#0d0887\"], [0.1111111111111111, \"#46039f\"], [0.2222222222222222, \"#7201a8\"], [0.3333333333333333, \"#9c179e\"], [0.4444444444444444, \"#bd3786\"], [0.5555555555555556, \"#d8576b\"], [0.6666666666666666, \"#ed7953\"], [0.7777777777777778, \"#fb9f3a\"], [0.8888888888888888, \"#fdca26\"], [1.0, \"#f0f921\"]], \"type\": \"surface\"}], \"table\": [{\"cells\": {\"fill\": {\"color\": \"#EBF0F8\"}, \"line\": {\"color\": \"white\"}}, \"header\": {\"fill\": {\"color\": \"#C8D4E3\"}, \"line\": {\"color\": \"white\"}}, \"type\": \"table\"}]}, \"layout\": {\"annotationdefaults\": {\"arrowcolor\": \"#2a3f5f\", \"arrowhead\": 0, \"arrowwidth\": 1}, \"autotypenumbers\": \"strict\", \"coloraxis\": {\"colorbar\": {\"outlinewidth\": 0, \"ticks\": \"\"}}, \"colorscale\": {\"diverging\": [[0, \"#8e0152\"], [0.1, \"#c51b7d\"], [0.2, \"#de77ae\"], [0.3, \"#f1b6da\"], [0.4, \"#fde0ef\"], [0.5, \"#f7f7f7\"], [0.6, \"#e6f5d0\"], [0.7, \"#b8e186\"], [0.8, \"#7fbc41\"], [0.9, \"#4d9221\"], [1, \"#276419\"]], \"sequential\": [[0.0, \"#0d0887\"], [0.1111111111111111, \"#46039f\"], [0.2222222222222222, \"#7201a8\"], [0.3333333333333333, \"#9c179e\"], [0.4444444444444444, \"#bd3786\"], [0.5555555555555556, \"#d8576b\"], [0.6666666666666666, \"#ed7953\"], [0.7777777777777778, \"#fb9f3a\"], [0.8888888888888888, \"#fdca26\"], [1.0, \"#f0f921\"]], \"sequentialminus\": [[0.0, \"#0d0887\"], [0.1111111111111111, \"#46039f\"], [0.2222222222222222, \"#7201a8\"], [0.3333333333333333, \"#9c179e\"], [0.4444444444444444, \"#bd3786\"], [0.5555555555555556, \"#d8576b\"], [0.6666666666666666, \"#ed7953\"], [0.7777777777777778, \"#fb9f3a\"], [0.8888888888888888, \"#fdca26\"], [1.0, \"#f0f921\"]]}, \"colorway\": [\"#636efa\", \"#EF553B\", \"#00cc96\", \"#ab63fa\", \"#FFA15A\", \"#19d3f3\", \"#FF6692\", \"#B6E880\", \"#FF97FF\", \"#FECB52\"], \"font\": {\"color\": \"#2a3f5f\"}, \"geo\": {\"bgcolor\": \"white\", \"lakecolor\": \"white\", \"landcolor\": \"#E5ECF6\", \"showlakes\": true, \"showland\": true, \"subunitcolor\": \"white\"}, \"hoverlabel\": {\"align\": \"left\"}, \"hovermode\": \"closest\", \"mapbox\": {\"style\": \"light\"}, \"paper_bgcolor\": \"white\", \"plot_bgcolor\": \"#E5ECF6\", \"polar\": {\"angularaxis\": {\"gridcolor\": \"white\", \"linecolor\": \"white\", \"ticks\": \"\"}, \"bgcolor\": \"#E5ECF6\", \"radialaxis\": {\"gridcolor\": \"white\", \"linecolor\": \"white\", \"ticks\": \"\"}}, \"scene\": {\"xaxis\": {\"backgroundcolor\": \"#E5ECF6\", \"gridcolor\": \"white\", \"gridwidth\": 2, \"linecolor\": \"white\", \"showbackground\": true, \"ticks\": \"\", \"zerolinecolor\": \"white\"}, \"yaxis\": {\"backgroundcolor\": \"#E5ECF6\", \"gridcolor\": \"white\", \"gridwidth\": 2, \"linecolor\": \"white\", \"showbackground\": true, \"ticks\": \"\", \"zerolinecolor\": \"white\"}, \"zaxis\": {\"backgroundcolor\": \"#E5ECF6\", \"gridcolor\": \"white\", \"gridwidth\": 2, \"linecolor\": \"white\", \"showbackground\": true, \"ticks\": \"\", \"zerolinecolor\": \"white\"}}, \"shapedefaults\": {\"line\": {\"color\": \"#2a3f5f\"}}, \"ternary\": {\"aaxis\": {\"gridcolor\": \"white\", \"linecolor\": \"white\", \"ticks\": \"\"}, \"baxis\": {\"gridcolor\": \"white\", \"linecolor\": \"white\", \"ticks\": \"\"}, \"bgcolor\": \"#E5ECF6\", \"caxis\": {\"gridcolor\": \"white\", \"linecolor\": \"white\", \"ticks\": \"\"}}, \"title\": {\"x\": 0.05}, \"xaxis\": {\"automargin\": true, \"gridcolor\": \"white\", \"linecolor\": \"white\", \"ticks\": \"\", \"title\": {\"standoff\": 15}, \"zerolinecolor\": \"white\", \"zerolinewidth\": 2}, \"yaxis\": {\"automargin\": true, \"gridcolor\": \"white\", \"linecolor\": \"white\", \"ticks\": \"\", \"title\": {\"standoff\": 15}, \"zerolinecolor\": \"white\", \"zerolinewidth\": 2}}}, \"title\": {\"font\": {\"color\": \"#4D5663\"}, \"text\": \"Italy Growth Rates\"}, \"xaxis\": {\"gridcolor\": \"#E1E5ED\", \"showgrid\": true, \"tickfont\": {\"color\": \"#4D5663\"}, \"title\": {\"font\": {\"color\": \"#4D5663\"}, \"text\": \"Year\"}, \"zerolinecolor\": \"#E1E5ED\"}, \"yaxis\": {\"gridcolor\": \"#E1E5ED\", \"showgrid\": true, \"tickfont\": {\"color\": \"#4D5663\"}, \"title\": {\"font\": {\"color\": \"#4D5663\"}, \"text\": \"Growth rates\"}, \"zerolinecolor\": \"#E1E5ED\"}},                        {\"showLink\": true, \"linkText\": \"Export to plot.ly\", \"plotlyServerURL\": \"https://plot.ly\", \"responsive\": true}                    ).then(function(){\n",
       "                            \n",
       "var gd = document.getElementById('808d2e16-b7ff-4e41-ac89-67a8c0fe1cea');\n",
       "var x = new MutationObserver(function (mutations, observer) {{\n",
       "        var display = window.getComputedStyle(gd).display;\n",
       "        if (!display || display === 'none') {{\n",
       "            console.log([gd, 'removed!']);\n",
       "            Plotly.purge(gd);\n",
       "            observer.disconnect();\n",
       "        }}\n",
       "}});\n",
       "\n",
       "// Listen for the removal of the full notebook cells\n",
       "var notebookContainer = gd.closest('#notebook-container');\n",
       "if (notebookContainer) {{\n",
       "    x.observe(notebookContainer, {childList: true});\n",
       "}}\n",
       "\n",
       "// Listen for the clearing of the current output cell\n",
       "var outputEl = gd.closest('.output');\n",
       "if (outputEl) {{\n",
       "    x.observe(outputEl, {childList: true});\n",
       "}}\n",
       "\n",
       "                        })                };                });            </script>        </div>"
      ]
     },
     "metadata": {},
     "output_type": "display_data"
    }
   ],
   "source": [
    "np.log(food).diff().iplot(xTitle=\"Year\",yTitle=\"Growth rates\", title='Italy Growth Rates')"
   ]
  },
  {
   "cell_type": "markdown",
   "metadata": {},
   "source": [
    "### Russia\n"
   ]
  },
  {
   "cell_type": "code",
   "execution_count": 25,
   "metadata": {},
   "outputs": [
    {
     "data": {
      "application/vnd.plotly.v1+json": {
       "config": {
        "linkText": "Export to plot.ly",
        "plotlyServerURL": "https://plot.ly",
        "showLink": true
       },
       "data": [
        {
         "line": {
          "color": "rgba(255, 153, 51, 1.0)",
          "dash": "solid",
          "shape": "linear",
          "width": 1.3
         },
         "mode": "lines",
         "name": "Livestock index",
         "text": "",
         "type": "scatter",
         "x": [
          1960,
          1961,
          1962,
          1963,
          1964,
          1965,
          1966,
          1967,
          1968,
          1969,
          1970,
          1971,
          1972,
          1973,
          1974,
          1975,
          1976,
          1977,
          1978,
          1979,
          1980,
          1981,
          1982,
          1983,
          1984,
          1985,
          1986,
          1987,
          1988,
          1989,
          1990,
          1991,
          1992,
          1993,
          1994,
          1995,
          1996,
          1997,
          1998,
          1999,
          2000,
          2001,
          2002,
          2003,
          2004,
          2005,
          2006,
          2007,
          2008,
          2009,
          2010,
          2011,
          2012,
          2013,
          2014,
          2015,
          2016,
          2017,
          2018,
          2019,
          2020
         ],
         "y": [
          "",
          "",
          "",
          "",
          "",
          "",
          "",
          "",
          "",
          "",
          "",
          "",
          "",
          "",
          "",
          "",
          "",
          "",
          "",
          "",
          "",
          "",
          "",
          "",
          "",
          "",
          "",
          "",
          "",
          "",
          "",
          "",
          149.11,
          142.48,
          128.2,
          114.04,
          108.03,
          99.41,
          99.72,
          94.97,
          96.65,
          94.28,
          98.05,
          99.07,
          100.22,
          98.89,
          100.89,
          106.34,
          110.45,
          113.36,
          115.62,
          117.85,
          120.84,
          122.26,
          122.69,
          123.1,
          123.49,
          "",
          "",
          "",
          ""
         ]
        },
        {
         "line": {
          "color": "rgba(55, 128, 191, 1.0)",
          "dash": "solid",
          "shape": "linear",
          "width": 1.3
         },
         "mode": "lines",
         "name": "Food index",
         "text": "",
         "type": "scatter",
         "x": [
          1960,
          1961,
          1962,
          1963,
          1964,
          1965,
          1966,
          1967,
          1968,
          1969,
          1970,
          1971,
          1972,
          1973,
          1974,
          1975,
          1976,
          1977,
          1978,
          1979,
          1980,
          1981,
          1982,
          1983,
          1984,
          1985,
          1986,
          1987,
          1988,
          1989,
          1990,
          1991,
          1992,
          1993,
          1994,
          1995,
          1996,
          1997,
          1998,
          1999,
          2000,
          2001,
          2002,
          2003,
          2004,
          2005,
          2006,
          2007,
          2008,
          2009,
          2010,
          2011,
          2012,
          2013,
          2014,
          2015,
          2016,
          2017,
          2018,
          2019,
          2020
         ],
         "y": [
          "",
          "",
          "",
          "",
          "",
          "",
          "",
          "",
          "",
          "",
          "",
          "",
          "",
          "",
          "",
          "",
          "",
          "",
          "",
          "",
          "",
          "",
          "",
          "",
          "",
          "",
          "",
          "",
          "",
          "",
          "",
          "",
          122.84,
          122.73,
          109.31,
          105.57,
          99.91,
          100.36,
          87.89,
          89.06,
          91.88,
          91.5,
          100.64,
          95.11,
          97.34,
          100.18,
          102.48,
          111.97,
          117.56,
          123.13,
          109.47,
          129.57,
          124.72,
          131.65,
          132.1,
          136.57,
          147.45,
          "",
          "",
          "",
          ""
         ]
        },
        {
         "line": {
          "color": "rgba(50, 171, 96, 1.0)",
          "dash": "solid",
          "shape": "linear",
          "width": 1.3
         },
         "mode": "lines",
         "name": "Crop index",
         "text": "",
         "type": "scatter",
         "x": [
          1960,
          1961,
          1962,
          1963,
          1964,
          1965,
          1966,
          1967,
          1968,
          1969,
          1970,
          1971,
          1972,
          1973,
          1974,
          1975,
          1976,
          1977,
          1978,
          1979,
          1980,
          1981,
          1982,
          1983,
          1984,
          1985,
          1986,
          1987,
          1988,
          1989,
          1990,
          1991,
          1992,
          1993,
          1994,
          1995,
          1996,
          1997,
          1998,
          1999,
          2000,
          2001,
          2002,
          2003,
          2004,
          2005,
          2006,
          2007,
          2008,
          2009,
          2010,
          2011,
          2012,
          2013,
          2014,
          2015,
          2016,
          2017,
          2018,
          2019,
          2020
         ],
         "y": [
          "",
          "",
          "",
          "",
          "",
          "",
          "",
          "",
          "",
          "",
          "",
          "",
          "",
          "",
          "",
          "",
          "",
          "",
          "",
          "",
          "",
          "",
          "",
          "",
          "",
          "",
          "",
          "",
          "",
          "",
          "",
          "",
          114.53,
          107.23,
          87.8,
          87.01,
          87.17,
          97.98,
          65.58,
          72.42,
          82.27,
          93.29,
          96.12,
          87.98,
          97.04,
          100.58,
          102.38,
          105.94,
          124.81,
          119.53,
          82.74,
          130.51,
          108.27,
          127.63,
          137.41,
          143.75,
          160.55,
          "",
          "",
          "",
          ""
         ]
        },
        {
         "line": {
          "color": "rgba(128, 0, 128, 1.0)",
          "dash": "solid",
          "shape": "linear",
          "width": 1.3
         },
         "mode": "lines",
         "name": "Population",
         "text": "",
         "type": "scatter",
         "x": [
          1960,
          1961,
          1962,
          1963,
          1964,
          1965,
          1966,
          1967,
          1968,
          1969,
          1970,
          1971,
          1972,
          1973,
          1974,
          1975,
          1976,
          1977,
          1978,
          1979,
          1980,
          1981,
          1982,
          1983,
          1984,
          1985,
          1986,
          1987,
          1988,
          1989,
          1990,
          1991,
          1992,
          1993,
          1994,
          1995,
          1996,
          1997,
          1998,
          1999,
          2000,
          2001,
          2002,
          2003,
          2004,
          2005,
          2006,
          2007,
          2008,
          2009,
          2010,
          2011,
          2012,
          2013,
          2014,
          2015,
          2016,
          2017,
          2018,
          2019,
          2020
         ],
         "y": [
          83.81496277407541,
          84.75100150026945,
          85.69822515523056,
          86.65523562286285,
          87.62343101926223,
          88.6021122863807,
          89.10753125504262,
          89.61644551394423,
          90.12815600503761,
          90.64266272832275,
          91.15996568379967,
          91.68495827780396,
          92.21204804595205,
          92.7433321623878,
          93.27671345296737,
          93.81359003378667,
          94.47559800518754,
          95.14180032487604,
          95.81289605090015,
          96.48888518325985,
          97.17605924438661,
          97.82688228702041,
          98.44345148530506,
          99.03415553581586,
          99.78704105344917,
          100.56509266080835,
          101.28931679847604,
          101.99816165908902,
          102.66156774658575,
          103.26555390000745,
          103.43920481252253,
          103.73617096281063,
          103.83682203961133,
          103.7813028494438,
          103.74574526183524,
          103.72328802204511,
          103.57253056154208,
          103.40142352126347,
          103.230450001072,
          102.91167393874616,
          102.47972107751661,
          102.04603455232815,
          101.57767614607789,
          101.117780536556,
          100.71141669517134,
          100.32798195775918,
          100,
          99.82906422894314,
          99.78519973455087,
          99.81524734662557,
          99.86007024960153,
          99.93797327846417,
          100.10631554416318,
          100.31971979069057,
          100.53829496959857,
          100.73207665672021,
          100.90371358299916,
          101.01160899835068,
          100.99841078240554,
          100.92548155155403,
          ""
         ]
        }
       ],
       "layout": {
        "legend": {
         "bgcolor": "#F5F6F9",
         "font": {
          "color": "#4D5663"
         }
        },
        "paper_bgcolor": "#F5F6F9",
        "plot_bgcolor": "#F5F6F9",
        "template": {
         "data": {
          "bar": [
           {
            "error_x": {
             "color": "#2a3f5f"
            },
            "error_y": {
             "color": "#2a3f5f"
            },
            "marker": {
             "line": {
              "color": "#E5ECF6",
              "width": 0.5
             }
            },
            "type": "bar"
           }
          ],
          "barpolar": [
           {
            "marker": {
             "line": {
              "color": "#E5ECF6",
              "width": 0.5
             }
            },
            "type": "barpolar"
           }
          ],
          "carpet": [
           {
            "aaxis": {
             "endlinecolor": "#2a3f5f",
             "gridcolor": "white",
             "linecolor": "white",
             "minorgridcolor": "white",
             "startlinecolor": "#2a3f5f"
            },
            "baxis": {
             "endlinecolor": "#2a3f5f",
             "gridcolor": "white",
             "linecolor": "white",
             "minorgridcolor": "white",
             "startlinecolor": "#2a3f5f"
            },
            "type": "carpet"
           }
          ],
          "choropleth": [
           {
            "colorbar": {
             "outlinewidth": 0,
             "ticks": ""
            },
            "type": "choropleth"
           }
          ],
          "contour": [
           {
            "colorbar": {
             "outlinewidth": 0,
             "ticks": ""
            },
            "colorscale": [
             [
              0,
              "#0d0887"
             ],
             [
              0.1111111111111111,
              "#46039f"
             ],
             [
              0.2222222222222222,
              "#7201a8"
             ],
             [
              0.3333333333333333,
              "#9c179e"
             ],
             [
              0.4444444444444444,
              "#bd3786"
             ],
             [
              0.5555555555555556,
              "#d8576b"
             ],
             [
              0.6666666666666666,
              "#ed7953"
             ],
             [
              0.7777777777777778,
              "#fb9f3a"
             ],
             [
              0.8888888888888888,
              "#fdca26"
             ],
             [
              1,
              "#f0f921"
             ]
            ],
            "type": "contour"
           }
          ],
          "contourcarpet": [
           {
            "colorbar": {
             "outlinewidth": 0,
             "ticks": ""
            },
            "type": "contourcarpet"
           }
          ],
          "heatmap": [
           {
            "colorbar": {
             "outlinewidth": 0,
             "ticks": ""
            },
            "colorscale": [
             [
              0,
              "#0d0887"
             ],
             [
              0.1111111111111111,
              "#46039f"
             ],
             [
              0.2222222222222222,
              "#7201a8"
             ],
             [
              0.3333333333333333,
              "#9c179e"
             ],
             [
              0.4444444444444444,
              "#bd3786"
             ],
             [
              0.5555555555555556,
              "#d8576b"
             ],
             [
              0.6666666666666666,
              "#ed7953"
             ],
             [
              0.7777777777777778,
              "#fb9f3a"
             ],
             [
              0.8888888888888888,
              "#fdca26"
             ],
             [
              1,
              "#f0f921"
             ]
            ],
            "type": "heatmap"
           }
          ],
          "heatmapgl": [
           {
            "colorbar": {
             "outlinewidth": 0,
             "ticks": ""
            },
            "colorscale": [
             [
              0,
              "#0d0887"
             ],
             [
              0.1111111111111111,
              "#46039f"
             ],
             [
              0.2222222222222222,
              "#7201a8"
             ],
             [
              0.3333333333333333,
              "#9c179e"
             ],
             [
              0.4444444444444444,
              "#bd3786"
             ],
             [
              0.5555555555555556,
              "#d8576b"
             ],
             [
              0.6666666666666666,
              "#ed7953"
             ],
             [
              0.7777777777777778,
              "#fb9f3a"
             ],
             [
              0.8888888888888888,
              "#fdca26"
             ],
             [
              1,
              "#f0f921"
             ]
            ],
            "type": "heatmapgl"
           }
          ],
          "histogram": [
           {
            "marker": {
             "colorbar": {
              "outlinewidth": 0,
              "ticks": ""
             }
            },
            "type": "histogram"
           }
          ],
          "histogram2d": [
           {
            "colorbar": {
             "outlinewidth": 0,
             "ticks": ""
            },
            "colorscale": [
             [
              0,
              "#0d0887"
             ],
             [
              0.1111111111111111,
              "#46039f"
             ],
             [
              0.2222222222222222,
              "#7201a8"
             ],
             [
              0.3333333333333333,
              "#9c179e"
             ],
             [
              0.4444444444444444,
              "#bd3786"
             ],
             [
              0.5555555555555556,
              "#d8576b"
             ],
             [
              0.6666666666666666,
              "#ed7953"
             ],
             [
              0.7777777777777778,
              "#fb9f3a"
             ],
             [
              0.8888888888888888,
              "#fdca26"
             ],
             [
              1,
              "#f0f921"
             ]
            ],
            "type": "histogram2d"
           }
          ],
          "histogram2dcontour": [
           {
            "colorbar": {
             "outlinewidth": 0,
             "ticks": ""
            },
            "colorscale": [
             [
              0,
              "#0d0887"
             ],
             [
              0.1111111111111111,
              "#46039f"
             ],
             [
              0.2222222222222222,
              "#7201a8"
             ],
             [
              0.3333333333333333,
              "#9c179e"
             ],
             [
              0.4444444444444444,
              "#bd3786"
             ],
             [
              0.5555555555555556,
              "#d8576b"
             ],
             [
              0.6666666666666666,
              "#ed7953"
             ],
             [
              0.7777777777777778,
              "#fb9f3a"
             ],
             [
              0.8888888888888888,
              "#fdca26"
             ],
             [
              1,
              "#f0f921"
             ]
            ],
            "type": "histogram2dcontour"
           }
          ],
          "mesh3d": [
           {
            "colorbar": {
             "outlinewidth": 0,
             "ticks": ""
            },
            "type": "mesh3d"
           }
          ],
          "parcoords": [
           {
            "line": {
             "colorbar": {
              "outlinewidth": 0,
              "ticks": ""
             }
            },
            "type": "parcoords"
           }
          ],
          "pie": [
           {
            "automargin": true,
            "type": "pie"
           }
          ],
          "scatter": [
           {
            "marker": {
             "colorbar": {
              "outlinewidth": 0,
              "ticks": ""
             }
            },
            "type": "scatter"
           }
          ],
          "scatter3d": [
           {
            "line": {
             "colorbar": {
              "outlinewidth": 0,
              "ticks": ""
             }
            },
            "marker": {
             "colorbar": {
              "outlinewidth": 0,
              "ticks": ""
             }
            },
            "type": "scatter3d"
           }
          ],
          "scattercarpet": [
           {
            "marker": {
             "colorbar": {
              "outlinewidth": 0,
              "ticks": ""
             }
            },
            "type": "scattercarpet"
           }
          ],
          "scattergeo": [
           {
            "marker": {
             "colorbar": {
              "outlinewidth": 0,
              "ticks": ""
             }
            },
            "type": "scattergeo"
           }
          ],
          "scattergl": [
           {
            "marker": {
             "colorbar": {
              "outlinewidth": 0,
              "ticks": ""
             }
            },
            "type": "scattergl"
           }
          ],
          "scattermapbox": [
           {
            "marker": {
             "colorbar": {
              "outlinewidth": 0,
              "ticks": ""
             }
            },
            "type": "scattermapbox"
           }
          ],
          "scatterpolar": [
           {
            "marker": {
             "colorbar": {
              "outlinewidth": 0,
              "ticks": ""
             }
            },
            "type": "scatterpolar"
           }
          ],
          "scatterpolargl": [
           {
            "marker": {
             "colorbar": {
              "outlinewidth": 0,
              "ticks": ""
             }
            },
            "type": "scatterpolargl"
           }
          ],
          "scatterternary": [
           {
            "marker": {
             "colorbar": {
              "outlinewidth": 0,
              "ticks": ""
             }
            },
            "type": "scatterternary"
           }
          ],
          "surface": [
           {
            "colorbar": {
             "outlinewidth": 0,
             "ticks": ""
            },
            "colorscale": [
             [
              0,
              "#0d0887"
             ],
             [
              0.1111111111111111,
              "#46039f"
             ],
             [
              0.2222222222222222,
              "#7201a8"
             ],
             [
              0.3333333333333333,
              "#9c179e"
             ],
             [
              0.4444444444444444,
              "#bd3786"
             ],
             [
              0.5555555555555556,
              "#d8576b"
             ],
             [
              0.6666666666666666,
              "#ed7953"
             ],
             [
              0.7777777777777778,
              "#fb9f3a"
             ],
             [
              0.8888888888888888,
              "#fdca26"
             ],
             [
              1,
              "#f0f921"
             ]
            ],
            "type": "surface"
           }
          ],
          "table": [
           {
            "cells": {
             "fill": {
              "color": "#EBF0F8"
             },
             "line": {
              "color": "white"
             }
            },
            "header": {
             "fill": {
              "color": "#C8D4E3"
             },
             "line": {
              "color": "white"
             }
            },
            "type": "table"
           }
          ]
         },
         "layout": {
          "annotationdefaults": {
           "arrowcolor": "#2a3f5f",
           "arrowhead": 0,
           "arrowwidth": 1
          },
          "autotypenumbers": "strict",
          "coloraxis": {
           "colorbar": {
            "outlinewidth": 0,
            "ticks": ""
           }
          },
          "colorscale": {
           "diverging": [
            [
             0,
             "#8e0152"
            ],
            [
             0.1,
             "#c51b7d"
            ],
            [
             0.2,
             "#de77ae"
            ],
            [
             0.3,
             "#f1b6da"
            ],
            [
             0.4,
             "#fde0ef"
            ],
            [
             0.5,
             "#f7f7f7"
            ],
            [
             0.6,
             "#e6f5d0"
            ],
            [
             0.7,
             "#b8e186"
            ],
            [
             0.8,
             "#7fbc41"
            ],
            [
             0.9,
             "#4d9221"
            ],
            [
             1,
             "#276419"
            ]
           ],
           "sequential": [
            [
             0,
             "#0d0887"
            ],
            [
             0.1111111111111111,
             "#46039f"
            ],
            [
             0.2222222222222222,
             "#7201a8"
            ],
            [
             0.3333333333333333,
             "#9c179e"
            ],
            [
             0.4444444444444444,
             "#bd3786"
            ],
            [
             0.5555555555555556,
             "#d8576b"
            ],
            [
             0.6666666666666666,
             "#ed7953"
            ],
            [
             0.7777777777777778,
             "#fb9f3a"
            ],
            [
             0.8888888888888888,
             "#fdca26"
            ],
            [
             1,
             "#f0f921"
            ]
           ],
           "sequentialminus": [
            [
             0,
             "#0d0887"
            ],
            [
             0.1111111111111111,
             "#46039f"
            ],
            [
             0.2222222222222222,
             "#7201a8"
            ],
            [
             0.3333333333333333,
             "#9c179e"
            ],
            [
             0.4444444444444444,
             "#bd3786"
            ],
            [
             0.5555555555555556,
             "#d8576b"
            ],
            [
             0.6666666666666666,
             "#ed7953"
            ],
            [
             0.7777777777777778,
             "#fb9f3a"
            ],
            [
             0.8888888888888888,
             "#fdca26"
            ],
            [
             1,
             "#f0f921"
            ]
           ]
          },
          "colorway": [
           "#636efa",
           "#EF553B",
           "#00cc96",
           "#ab63fa",
           "#FFA15A",
           "#19d3f3",
           "#FF6692",
           "#B6E880",
           "#FF97FF",
           "#FECB52"
          ],
          "font": {
           "color": "#2a3f5f"
          },
          "geo": {
           "bgcolor": "white",
           "lakecolor": "white",
           "landcolor": "#E5ECF6",
           "showlakes": true,
           "showland": true,
           "subunitcolor": "white"
          },
          "hoverlabel": {
           "align": "left"
          },
          "hovermode": "closest",
          "mapbox": {
           "style": "light"
          },
          "paper_bgcolor": "white",
          "plot_bgcolor": "#E5ECF6",
          "polar": {
           "angularaxis": {
            "gridcolor": "white",
            "linecolor": "white",
            "ticks": ""
           },
           "bgcolor": "#E5ECF6",
           "radialaxis": {
            "gridcolor": "white",
            "linecolor": "white",
            "ticks": ""
           }
          },
          "scene": {
           "xaxis": {
            "backgroundcolor": "#E5ECF6",
            "gridcolor": "white",
            "gridwidth": 2,
            "linecolor": "white",
            "showbackground": true,
            "ticks": "",
            "zerolinecolor": "white"
           },
           "yaxis": {
            "backgroundcolor": "#E5ECF6",
            "gridcolor": "white",
            "gridwidth": 2,
            "linecolor": "white",
            "showbackground": true,
            "ticks": "",
            "zerolinecolor": "white"
           },
           "zaxis": {
            "backgroundcolor": "#E5ECF6",
            "gridcolor": "white",
            "gridwidth": 2,
            "linecolor": "white",
            "showbackground": true,
            "ticks": "",
            "zerolinecolor": "white"
           }
          },
          "shapedefaults": {
           "line": {
            "color": "#2a3f5f"
           }
          },
          "ternary": {
           "aaxis": {
            "gridcolor": "white",
            "linecolor": "white",
            "ticks": ""
           },
           "baxis": {
            "gridcolor": "white",
            "linecolor": "white",
            "ticks": ""
           },
           "bgcolor": "#E5ECF6",
           "caxis": {
            "gridcolor": "white",
            "linecolor": "white",
            "ticks": ""
           }
          },
          "title": {
           "x": 0.05
          },
          "xaxis": {
           "automargin": true,
           "gridcolor": "white",
           "linecolor": "white",
           "ticks": "",
           "title": {
            "standoff": 15
           },
           "zerolinecolor": "white",
           "zerolinewidth": 2
          },
          "yaxis": {
           "automargin": true,
           "gridcolor": "white",
           "linecolor": "white",
           "ticks": "",
           "title": {
            "standoff": 15
           },
           "zerolinecolor": "white",
           "zerolinewidth": 2
          }
         }
        },
        "title": {
         "font": {
          "color": "#4D5663"
         },
         "text": "Russia"
        },
        "xaxis": {
         "gridcolor": "#E1E5ED",
         "showgrid": true,
         "tickfont": {
          "color": "#4D5663"
         },
         "title": {
          "font": {
           "color": "#4D5663"
          },
          "text": "Year"
         },
         "zerolinecolor": "#E1E5ED"
        },
        "yaxis": {
         "gridcolor": "#E1E5ED",
         "showgrid": true,
         "tickfont": {
          "color": "#4D5663"
         },
         "title": {
          "font": {
           "color": "#4D5663"
          },
          "text": "Index"
         },
         "zerolinecolor": "#E1E5ED"
        }
       }
      },
      "text/html": [
       "<div>                            <div id=\"a357a07a-9a18-476e-aac2-011faf0efc08\" class=\"plotly-graph-div\" style=\"height:525px; width:100%;\"></div>            <script type=\"text/javascript\">                require([\"plotly\"], function(Plotly) {                    window.PLOTLYENV=window.PLOTLYENV || {};\n",
       "                    window.PLOTLYENV.BASE_URL='https://plot.ly';                                    if (document.getElementById(\"a357a07a-9a18-476e-aac2-011faf0efc08\")) {                    Plotly.newPlot(                        \"a357a07a-9a18-476e-aac2-011faf0efc08\",                        [{\"line\": {\"color\": \"rgba(255, 153, 51, 1.0)\", \"dash\": \"solid\", \"shape\": \"linear\", \"width\": 1.3}, \"mode\": \"lines\", \"name\": \"Livestock index\", \"text\": \"\", \"type\": \"scatter\", \"x\": [1960, 1961, 1962, 1963, 1964, 1965, 1966, 1967, 1968, 1969, 1970, 1971, 1972, 1973, 1974, 1975, 1976, 1977, 1978, 1979, 1980, 1981, 1982, 1983, 1984, 1985, 1986, 1987, 1988, 1989, 1990, 1991, 1992, 1993, 1994, 1995, 1996, 1997, 1998, 1999, 2000, 2001, 2002, 2003, 2004, 2005, 2006, 2007, 2008, 2009, 2010, 2011, 2012, 2013, 2014, 2015, 2016, 2017, 2018, 2019, 2020], \"y\": [\"\", \"\", \"\", \"\", \"\", \"\", \"\", \"\", \"\", \"\", \"\", \"\", \"\", \"\", \"\", \"\", \"\", \"\", \"\", \"\", \"\", \"\", \"\", \"\", \"\", \"\", \"\", \"\", \"\", \"\", \"\", \"\", 149.11, 142.48, 128.2, 114.04, 108.03, 99.41, 99.72, 94.97, 96.65, 94.28, 98.05, 99.07, 100.22, 98.89, 100.89, 106.34, 110.45, 113.36, 115.62, 117.85, 120.84, 122.26, 122.69, 123.1, 123.49, \"\", \"\", \"\", \"\"]}, {\"line\": {\"color\": \"rgba(55, 128, 191, 1.0)\", \"dash\": \"solid\", \"shape\": \"linear\", \"width\": 1.3}, \"mode\": \"lines\", \"name\": \"Food index\", \"text\": \"\", \"type\": \"scatter\", \"x\": [1960, 1961, 1962, 1963, 1964, 1965, 1966, 1967, 1968, 1969, 1970, 1971, 1972, 1973, 1974, 1975, 1976, 1977, 1978, 1979, 1980, 1981, 1982, 1983, 1984, 1985, 1986, 1987, 1988, 1989, 1990, 1991, 1992, 1993, 1994, 1995, 1996, 1997, 1998, 1999, 2000, 2001, 2002, 2003, 2004, 2005, 2006, 2007, 2008, 2009, 2010, 2011, 2012, 2013, 2014, 2015, 2016, 2017, 2018, 2019, 2020], \"y\": [\"\", \"\", \"\", \"\", \"\", \"\", \"\", \"\", \"\", \"\", \"\", \"\", \"\", \"\", \"\", \"\", \"\", \"\", \"\", \"\", \"\", \"\", \"\", \"\", \"\", \"\", \"\", \"\", \"\", \"\", \"\", \"\", 122.84, 122.73, 109.31, 105.57, 99.91, 100.36, 87.89, 89.06, 91.88, 91.5, 100.64, 95.11, 97.34, 100.18, 102.48, 111.97, 117.56, 123.13, 109.47, 129.57, 124.72, 131.65, 132.1, 136.57, 147.45, \"\", \"\", \"\", \"\"]}, {\"line\": {\"color\": \"rgba(50, 171, 96, 1.0)\", \"dash\": \"solid\", \"shape\": \"linear\", \"width\": 1.3}, \"mode\": \"lines\", \"name\": \"Crop index\", \"text\": \"\", \"type\": \"scatter\", \"x\": [1960, 1961, 1962, 1963, 1964, 1965, 1966, 1967, 1968, 1969, 1970, 1971, 1972, 1973, 1974, 1975, 1976, 1977, 1978, 1979, 1980, 1981, 1982, 1983, 1984, 1985, 1986, 1987, 1988, 1989, 1990, 1991, 1992, 1993, 1994, 1995, 1996, 1997, 1998, 1999, 2000, 2001, 2002, 2003, 2004, 2005, 2006, 2007, 2008, 2009, 2010, 2011, 2012, 2013, 2014, 2015, 2016, 2017, 2018, 2019, 2020], \"y\": [\"\", \"\", \"\", \"\", \"\", \"\", \"\", \"\", \"\", \"\", \"\", \"\", \"\", \"\", \"\", \"\", \"\", \"\", \"\", \"\", \"\", \"\", \"\", \"\", \"\", \"\", \"\", \"\", \"\", \"\", \"\", \"\", 114.53, 107.23, 87.8, 87.01, 87.17, 97.98, 65.58, 72.42, 82.27, 93.29, 96.12, 87.98, 97.04, 100.58, 102.38, 105.94, 124.81, 119.53, 82.74, 130.51, 108.27, 127.63, 137.41, 143.75, 160.55, \"\", \"\", \"\", \"\"]}, {\"line\": {\"color\": \"rgba(128, 0, 128, 1.0)\", \"dash\": \"solid\", \"shape\": \"linear\", \"width\": 1.3}, \"mode\": \"lines\", \"name\": \"Population\", \"text\": \"\", \"type\": \"scatter\", \"x\": [1960, 1961, 1962, 1963, 1964, 1965, 1966, 1967, 1968, 1969, 1970, 1971, 1972, 1973, 1974, 1975, 1976, 1977, 1978, 1979, 1980, 1981, 1982, 1983, 1984, 1985, 1986, 1987, 1988, 1989, 1990, 1991, 1992, 1993, 1994, 1995, 1996, 1997, 1998, 1999, 2000, 2001, 2002, 2003, 2004, 2005, 2006, 2007, 2008, 2009, 2010, 2011, 2012, 2013, 2014, 2015, 2016, 2017, 2018, 2019, 2020], \"y\": [83.81496277407541, 84.75100150026945, 85.69822515523056, 86.65523562286285, 87.62343101926223, 88.6021122863807, 89.10753125504262, 89.61644551394423, 90.12815600503761, 90.64266272832275, 91.15996568379967, 91.68495827780396, 92.21204804595205, 92.7433321623878, 93.27671345296737, 93.81359003378667, 94.47559800518754, 95.14180032487604, 95.81289605090015, 96.48888518325985, 97.17605924438661, 97.82688228702041, 98.44345148530506, 99.03415553581586, 99.78704105344917, 100.56509266080835, 101.28931679847604, 101.99816165908902, 102.66156774658575, 103.26555390000745, 103.43920481252253, 103.73617096281063, 103.83682203961133, 103.7813028494438, 103.74574526183524, 103.72328802204511, 103.57253056154208, 103.40142352126347, 103.230450001072, 102.91167393874616, 102.47972107751661, 102.04603455232815, 101.57767614607789, 101.117780536556, 100.71141669517134, 100.32798195775918, 100.0, 99.82906422894314, 99.78519973455087, 99.81524734662557, 99.86007024960153, 99.93797327846417, 100.10631554416318, 100.31971979069057, 100.53829496959857, 100.73207665672021, 100.90371358299916, 101.01160899835068, 100.99841078240554, 100.92548155155403, \"\"]}],                        {\"legend\": {\"bgcolor\": \"#F5F6F9\", \"font\": {\"color\": \"#4D5663\"}}, \"paper_bgcolor\": \"#F5F6F9\", \"plot_bgcolor\": \"#F5F6F9\", \"template\": {\"data\": {\"bar\": [{\"error_x\": {\"color\": \"#2a3f5f\"}, \"error_y\": {\"color\": \"#2a3f5f\"}, \"marker\": {\"line\": {\"color\": \"#E5ECF6\", \"width\": 0.5}}, \"type\": \"bar\"}], \"barpolar\": [{\"marker\": {\"line\": {\"color\": \"#E5ECF6\", \"width\": 0.5}}, \"type\": \"barpolar\"}], \"carpet\": [{\"aaxis\": {\"endlinecolor\": \"#2a3f5f\", \"gridcolor\": \"white\", \"linecolor\": \"white\", \"minorgridcolor\": \"white\", \"startlinecolor\": \"#2a3f5f\"}, \"baxis\": {\"endlinecolor\": \"#2a3f5f\", \"gridcolor\": \"white\", \"linecolor\": \"white\", \"minorgridcolor\": \"white\", \"startlinecolor\": \"#2a3f5f\"}, \"type\": \"carpet\"}], \"choropleth\": [{\"colorbar\": {\"outlinewidth\": 0, \"ticks\": \"\"}, \"type\": \"choropleth\"}], \"contour\": [{\"colorbar\": {\"outlinewidth\": 0, \"ticks\": \"\"}, \"colorscale\": [[0.0, \"#0d0887\"], [0.1111111111111111, \"#46039f\"], [0.2222222222222222, \"#7201a8\"], [0.3333333333333333, \"#9c179e\"], [0.4444444444444444, \"#bd3786\"], [0.5555555555555556, \"#d8576b\"], [0.6666666666666666, \"#ed7953\"], [0.7777777777777778, \"#fb9f3a\"], [0.8888888888888888, \"#fdca26\"], [1.0, \"#f0f921\"]], \"type\": \"contour\"}], \"contourcarpet\": [{\"colorbar\": {\"outlinewidth\": 0, \"ticks\": \"\"}, \"type\": \"contourcarpet\"}], \"heatmap\": [{\"colorbar\": {\"outlinewidth\": 0, \"ticks\": \"\"}, \"colorscale\": [[0.0, \"#0d0887\"], [0.1111111111111111, \"#46039f\"], [0.2222222222222222, \"#7201a8\"], [0.3333333333333333, \"#9c179e\"], [0.4444444444444444, \"#bd3786\"], [0.5555555555555556, \"#d8576b\"], [0.6666666666666666, \"#ed7953\"], [0.7777777777777778, \"#fb9f3a\"], [0.8888888888888888, \"#fdca26\"], [1.0, \"#f0f921\"]], \"type\": \"heatmap\"}], \"heatmapgl\": [{\"colorbar\": {\"outlinewidth\": 0, \"ticks\": \"\"}, \"colorscale\": [[0.0, \"#0d0887\"], [0.1111111111111111, \"#46039f\"], [0.2222222222222222, \"#7201a8\"], [0.3333333333333333, \"#9c179e\"], [0.4444444444444444, \"#bd3786\"], [0.5555555555555556, \"#d8576b\"], [0.6666666666666666, \"#ed7953\"], [0.7777777777777778, \"#fb9f3a\"], [0.8888888888888888, \"#fdca26\"], [1.0, \"#f0f921\"]], \"type\": \"heatmapgl\"}], \"histogram\": [{\"marker\": {\"colorbar\": {\"outlinewidth\": 0, \"ticks\": \"\"}}, \"type\": \"histogram\"}], \"histogram2d\": [{\"colorbar\": {\"outlinewidth\": 0, \"ticks\": \"\"}, \"colorscale\": [[0.0, \"#0d0887\"], [0.1111111111111111, \"#46039f\"], [0.2222222222222222, \"#7201a8\"], [0.3333333333333333, \"#9c179e\"], [0.4444444444444444, \"#bd3786\"], [0.5555555555555556, \"#d8576b\"], [0.6666666666666666, \"#ed7953\"], [0.7777777777777778, \"#fb9f3a\"], [0.8888888888888888, \"#fdca26\"], [1.0, \"#f0f921\"]], \"type\": \"histogram2d\"}], \"histogram2dcontour\": [{\"colorbar\": {\"outlinewidth\": 0, \"ticks\": \"\"}, \"colorscale\": [[0.0, \"#0d0887\"], [0.1111111111111111, \"#46039f\"], [0.2222222222222222, \"#7201a8\"], [0.3333333333333333, \"#9c179e\"], [0.4444444444444444, \"#bd3786\"], [0.5555555555555556, \"#d8576b\"], [0.6666666666666666, \"#ed7953\"], [0.7777777777777778, \"#fb9f3a\"], [0.8888888888888888, \"#fdca26\"], [1.0, \"#f0f921\"]], \"type\": \"histogram2dcontour\"}], \"mesh3d\": [{\"colorbar\": {\"outlinewidth\": 0, \"ticks\": \"\"}, \"type\": \"mesh3d\"}], \"parcoords\": [{\"line\": {\"colorbar\": {\"outlinewidth\": 0, \"ticks\": \"\"}}, \"type\": \"parcoords\"}], \"pie\": [{\"automargin\": true, \"type\": \"pie\"}], \"scatter\": [{\"marker\": {\"colorbar\": {\"outlinewidth\": 0, \"ticks\": \"\"}}, \"type\": \"scatter\"}], \"scatter3d\": [{\"line\": {\"colorbar\": {\"outlinewidth\": 0, \"ticks\": \"\"}}, \"marker\": {\"colorbar\": {\"outlinewidth\": 0, \"ticks\": \"\"}}, \"type\": \"scatter3d\"}], \"scattercarpet\": [{\"marker\": {\"colorbar\": {\"outlinewidth\": 0, \"ticks\": \"\"}}, \"type\": \"scattercarpet\"}], \"scattergeo\": [{\"marker\": {\"colorbar\": {\"outlinewidth\": 0, \"ticks\": \"\"}}, \"type\": \"scattergeo\"}], \"scattergl\": [{\"marker\": {\"colorbar\": {\"outlinewidth\": 0, \"ticks\": \"\"}}, \"type\": \"scattergl\"}], \"scattermapbox\": [{\"marker\": {\"colorbar\": {\"outlinewidth\": 0, \"ticks\": \"\"}}, \"type\": \"scattermapbox\"}], \"scatterpolar\": [{\"marker\": {\"colorbar\": {\"outlinewidth\": 0, \"ticks\": \"\"}}, \"type\": \"scatterpolar\"}], \"scatterpolargl\": [{\"marker\": {\"colorbar\": {\"outlinewidth\": 0, \"ticks\": \"\"}}, \"type\": \"scatterpolargl\"}], \"scatterternary\": [{\"marker\": {\"colorbar\": {\"outlinewidth\": 0, \"ticks\": \"\"}}, \"type\": \"scatterternary\"}], \"surface\": [{\"colorbar\": {\"outlinewidth\": 0, \"ticks\": \"\"}, \"colorscale\": [[0.0, \"#0d0887\"], [0.1111111111111111, \"#46039f\"], [0.2222222222222222, \"#7201a8\"], [0.3333333333333333, \"#9c179e\"], [0.4444444444444444, \"#bd3786\"], [0.5555555555555556, \"#d8576b\"], [0.6666666666666666, \"#ed7953\"], [0.7777777777777778, \"#fb9f3a\"], [0.8888888888888888, \"#fdca26\"], [1.0, \"#f0f921\"]], \"type\": \"surface\"}], \"table\": [{\"cells\": {\"fill\": {\"color\": \"#EBF0F8\"}, \"line\": {\"color\": \"white\"}}, \"header\": {\"fill\": {\"color\": \"#C8D4E3\"}, \"line\": {\"color\": \"white\"}}, \"type\": \"table\"}]}, \"layout\": {\"annotationdefaults\": {\"arrowcolor\": \"#2a3f5f\", \"arrowhead\": 0, \"arrowwidth\": 1}, \"autotypenumbers\": \"strict\", \"coloraxis\": {\"colorbar\": {\"outlinewidth\": 0, \"ticks\": \"\"}}, \"colorscale\": {\"diverging\": [[0, \"#8e0152\"], [0.1, \"#c51b7d\"], [0.2, \"#de77ae\"], [0.3, \"#f1b6da\"], [0.4, \"#fde0ef\"], [0.5, \"#f7f7f7\"], [0.6, \"#e6f5d0\"], [0.7, \"#b8e186\"], [0.8, \"#7fbc41\"], [0.9, \"#4d9221\"], [1, \"#276419\"]], \"sequential\": [[0.0, \"#0d0887\"], [0.1111111111111111, \"#46039f\"], [0.2222222222222222, \"#7201a8\"], [0.3333333333333333, \"#9c179e\"], [0.4444444444444444, \"#bd3786\"], [0.5555555555555556, \"#d8576b\"], [0.6666666666666666, \"#ed7953\"], [0.7777777777777778, \"#fb9f3a\"], [0.8888888888888888, \"#fdca26\"], [1.0, \"#f0f921\"]], \"sequentialminus\": [[0.0, \"#0d0887\"], [0.1111111111111111, \"#46039f\"], [0.2222222222222222, \"#7201a8\"], [0.3333333333333333, \"#9c179e\"], [0.4444444444444444, \"#bd3786\"], [0.5555555555555556, \"#d8576b\"], [0.6666666666666666, \"#ed7953\"], [0.7777777777777778, \"#fb9f3a\"], [0.8888888888888888, \"#fdca26\"], [1.0, \"#f0f921\"]]}, \"colorway\": [\"#636efa\", \"#EF553B\", \"#00cc96\", \"#ab63fa\", \"#FFA15A\", \"#19d3f3\", \"#FF6692\", \"#B6E880\", \"#FF97FF\", \"#FECB52\"], \"font\": {\"color\": \"#2a3f5f\"}, \"geo\": {\"bgcolor\": \"white\", \"lakecolor\": \"white\", \"landcolor\": \"#E5ECF6\", \"showlakes\": true, \"showland\": true, \"subunitcolor\": \"white\"}, \"hoverlabel\": {\"align\": \"left\"}, \"hovermode\": \"closest\", \"mapbox\": {\"style\": \"light\"}, \"paper_bgcolor\": \"white\", \"plot_bgcolor\": \"#E5ECF6\", \"polar\": {\"angularaxis\": {\"gridcolor\": \"white\", \"linecolor\": \"white\", \"ticks\": \"\"}, \"bgcolor\": \"#E5ECF6\", \"radialaxis\": {\"gridcolor\": \"white\", \"linecolor\": \"white\", \"ticks\": \"\"}}, \"scene\": {\"xaxis\": {\"backgroundcolor\": \"#E5ECF6\", \"gridcolor\": \"white\", \"gridwidth\": 2, \"linecolor\": \"white\", \"showbackground\": true, \"ticks\": \"\", \"zerolinecolor\": \"white\"}, \"yaxis\": {\"backgroundcolor\": \"#E5ECF6\", \"gridcolor\": \"white\", \"gridwidth\": 2, \"linecolor\": \"white\", \"showbackground\": true, \"ticks\": \"\", \"zerolinecolor\": \"white\"}, \"zaxis\": {\"backgroundcolor\": \"#E5ECF6\", \"gridcolor\": \"white\", \"gridwidth\": 2, \"linecolor\": \"white\", \"showbackground\": true, \"ticks\": \"\", \"zerolinecolor\": \"white\"}}, \"shapedefaults\": {\"line\": {\"color\": \"#2a3f5f\"}}, \"ternary\": {\"aaxis\": {\"gridcolor\": \"white\", \"linecolor\": \"white\", \"ticks\": \"\"}, \"baxis\": {\"gridcolor\": \"white\", \"linecolor\": \"white\", \"ticks\": \"\"}, \"bgcolor\": \"#E5ECF6\", \"caxis\": {\"gridcolor\": \"white\", \"linecolor\": \"white\", \"ticks\": \"\"}}, \"title\": {\"x\": 0.05}, \"xaxis\": {\"automargin\": true, \"gridcolor\": \"white\", \"linecolor\": \"white\", \"ticks\": \"\", \"title\": {\"standoff\": 15}, \"zerolinecolor\": \"white\", \"zerolinewidth\": 2}, \"yaxis\": {\"automargin\": true, \"gridcolor\": \"white\", \"linecolor\": \"white\", \"ticks\": \"\", \"title\": {\"standoff\": 15}, \"zerolinecolor\": \"white\", \"zerolinewidth\": 2}}}, \"title\": {\"font\": {\"color\": \"#4D5663\"}, \"text\": \"Russia\"}, \"xaxis\": {\"gridcolor\": \"#E1E5ED\", \"showgrid\": true, \"tickfont\": {\"color\": \"#4D5663\"}, \"title\": {\"font\": {\"color\": \"#4D5663\"}, \"text\": \"Year\"}, \"zerolinecolor\": \"#E1E5ED\"}, \"yaxis\": {\"gridcolor\": \"#E1E5ED\", \"showgrid\": true, \"tickfont\": {\"color\": \"#4D5663\"}, \"title\": {\"font\": {\"color\": \"#4D5663\"}, \"text\": \"Index\"}, \"zerolinecolor\": \"#E1E5ED\"}},                        {\"showLink\": true, \"linkText\": \"Export to plot.ly\", \"plotlyServerURL\": \"https://plot.ly\", \"responsive\": true}                    ).then(function(){\n",
       "                            \n",
       "var gd = document.getElementById('a357a07a-9a18-476e-aac2-011faf0efc08');\n",
       "var x = new MutationObserver(function (mutations, observer) {{\n",
       "        var display = window.getComputedStyle(gd).display;\n",
       "        if (!display || display === 'none') {{\n",
       "            console.log([gd, 'removed!']);\n",
       "            Plotly.purge(gd);\n",
       "            observer.disconnect();\n",
       "        }}\n",
       "}});\n",
       "\n",
       "// Listen for the removal of the full notebook cells\n",
       "var notebookContainer = gd.closest('#notebook-container');\n",
       "if (notebookContainer) {{\n",
       "    x.observe(notebookContainer, {childList: true});\n",
       "}}\n",
       "\n",
       "// Listen for the clearing of the current output cell\n",
       "var outputEl = gd.closest('.output');\n",
       "if (outputEl) {{\n",
       "    x.observe(outputEl, {childList: true});\n",
       "}}\n",
       "\n",
       "                        })                };                });            </script>        </div>"
      ]
     },
     "metadata": {},
     "output_type": "display_data"
    }
   ],
   "source": [
    "vars = {\"AG.PRD.LVSK.XD\":\"Livestock index\",\n",
    "        \"AG.PRD.FOOD.XD\":\"Food index\",\n",
    "        \"AG.PRD.CROP.XD\":\"Crop index\",\n",
    "        \"SP.POP.TOTL\":\"Population\"}\n",
    "\n",
    "use = ['RUS']\n",
    "\n",
    "food = fix_date_index(wbdata.get_dataframe(vars,country=use))\n",
    "\n",
    "food.sort_index(inplace=True)\n",
    "\n",
    "food['Population'] = food['Population']/food.loc[2006,'Population']*100\n",
    "\n",
    "food.iplot(xTitle=\"Year\",yTitle=\"Index\", title = 'Russia')"
   ]
  },
  {
   "cell_type": "code",
   "execution_count": 26,
   "metadata": {},
   "outputs": [
    {
     "data": {
      "application/vnd.plotly.v1+json": {
       "config": {
        "linkText": "Export to plot.ly",
        "plotlyServerURL": "https://plot.ly",
        "showLink": true
       },
       "data": [
        {
         "line": {
          "color": "rgba(255, 153, 51, 1.0)",
          "dash": "solid",
          "shape": "linear",
          "width": 1.3
         },
         "mode": "lines",
         "name": "Livestock index",
         "text": "",
         "type": "scatter",
         "x": [
          1960,
          1961,
          1962,
          1963,
          1964,
          1965,
          1966,
          1967,
          1968,
          1969,
          1970,
          1971,
          1972,
          1973,
          1974,
          1975,
          1976,
          1977,
          1978,
          1979,
          1980,
          1981,
          1982,
          1983,
          1984,
          1985,
          1986,
          1987,
          1988,
          1989,
          1990,
          1991,
          1992,
          1993,
          1994,
          1995,
          1996,
          1997,
          1998,
          1999,
          2000,
          2001,
          2002,
          2003,
          2004,
          2005,
          2006,
          2007,
          2008,
          2009,
          2010,
          2011,
          2012,
          2013,
          2014,
          2015,
          2016,
          2017,
          2018,
          2019,
          2020
         ],
         "y": [
          "",
          "",
          "",
          "",
          "",
          "",
          "",
          "",
          "",
          "",
          "",
          "",
          "",
          "",
          "",
          "",
          "",
          "",
          "",
          "",
          "",
          "",
          "",
          "",
          "",
          "",
          "",
          "",
          "",
          "",
          "",
          "",
          "",
          -0.04548264962141069,
          -0.10561009449483638,
          -0.11704228044209763,
          -0.05414029771557782,
          -0.08315625410484007,
          0.003113546431303682,
          -0.04880520640049646,
          0.01753515339947853,
          -0.024827127586409148,
          0.03920847457442456,
          0.010349118342583452,
          0.011541098546640427,
          -0.013359648249679168,
          0.020022693138388448,
          0.05261069365590387,
          0.037921421789934406,
          0.02600566551629857,
          0.019740356271904957,
          0.019103677727810187,
          0.0250547271363315,
          0.011682568082107991,
          0.0035109242025122,
          0.003336184387316088,
          0.003163147939322819,
          "",
          "",
          "",
          ""
         ]
        },
        {
         "line": {
          "color": "rgba(55, 128, 191, 1.0)",
          "dash": "solid",
          "shape": "linear",
          "width": 1.3
         },
         "mode": "lines",
         "name": "Food index",
         "text": "",
         "type": "scatter",
         "x": [
          1960,
          1961,
          1962,
          1963,
          1964,
          1965,
          1966,
          1967,
          1968,
          1969,
          1970,
          1971,
          1972,
          1973,
          1974,
          1975,
          1976,
          1977,
          1978,
          1979,
          1980,
          1981,
          1982,
          1983,
          1984,
          1985,
          1986,
          1987,
          1988,
          1989,
          1990,
          1991,
          1992,
          1993,
          1994,
          1995,
          1996,
          1997,
          1998,
          1999,
          2000,
          2001,
          2002,
          2003,
          2004,
          2005,
          2006,
          2007,
          2008,
          2009,
          2010,
          2011,
          2012,
          2013,
          2014,
          2015,
          2016,
          2017,
          2018,
          2019,
          2020
         ],
         "y": [
          "",
          "",
          "",
          "",
          "",
          "",
          "",
          "",
          "",
          "",
          "",
          "",
          "",
          "",
          "",
          "",
          "",
          "",
          "",
          "",
          "",
          "",
          "",
          "",
          "",
          "",
          "",
          "",
          "",
          "",
          "",
          "",
          "",
          -0.0008958749632048679,
          -0.11579893830367283,
          -0.03481364230414119,
          -0.055104459256676286,
          0.0044939407532949005,
          -0.1326776889216683,
          0.013224267317003324,
          0.03117307792734092,
          -0.004144405539421747,
          0.09521082067065478,
          -0.056515676457836506,
          0.023175887911014215,
          0.028758563524162284,
          0.022699089659008465,
          0.08856332068362605,
          0.04871786327861116,
          0.04629186625406323,
          -0.11759016868831385,
          0.16857073652425392,
          -0.03815005089119872,
          0.0540756611927975,
          0.0034123255859608292,
          0.03327809216205413,
          0.07665183157095168,
          "",
          "",
          "",
          ""
         ]
        },
        {
         "line": {
          "color": "rgba(50, 171, 96, 1.0)",
          "dash": "solid",
          "shape": "linear",
          "width": 1.3
         },
         "mode": "lines",
         "name": "Crop index",
         "text": "",
         "type": "scatter",
         "x": [
          1960,
          1961,
          1962,
          1963,
          1964,
          1965,
          1966,
          1967,
          1968,
          1969,
          1970,
          1971,
          1972,
          1973,
          1974,
          1975,
          1976,
          1977,
          1978,
          1979,
          1980,
          1981,
          1982,
          1983,
          1984,
          1985,
          1986,
          1987,
          1988,
          1989,
          1990,
          1991,
          1992,
          1993,
          1994,
          1995,
          1996,
          1997,
          1998,
          1999,
          2000,
          2001,
          2002,
          2003,
          2004,
          2005,
          2006,
          2007,
          2008,
          2009,
          2010,
          2011,
          2012,
          2013,
          2014,
          2015,
          2016,
          2017,
          2018,
          2019,
          2020
         ],
         "y": [
          "",
          "",
          "",
          "",
          "",
          "",
          "",
          "",
          "",
          "",
          "",
          "",
          "",
          "",
          "",
          "",
          "",
          "",
          "",
          "",
          "",
          "",
          "",
          "",
          "",
          "",
          "",
          "",
          "",
          "",
          "",
          "",
          "",
          -0.06586073717757124,
          -0.19991455959098303,
          -0.009038446063137862,
          0.0018371804455519225,
          0.11690314118694367,
          -0.40149260479392623,
          0.09921173292099272,
          0.1275240168433438,
          0.1257063997920307,
          0.029884489895398936,
          -0.08848789494769527,
          0.09801374871522128,
          0.03583016610802403,
          0.01773795028561853,
          0.034181515086943115,
          0.16391968481398234,
          -0.043225195040473174,
          -0.36786422485662396,
          0.45574669114617095,
          -0.18682174485662983,
          0.16450734567179293,
          0.07383370434908354,
          0.045106522333776766,
          0.11052974085806344,
          "",
          "",
          "",
          ""
         ]
        },
        {
         "line": {
          "color": "rgba(128, 0, 128, 1.0)",
          "dash": "solid",
          "shape": "linear",
          "width": 1.3
         },
         "mode": "lines",
         "name": "Population",
         "text": "",
         "type": "scatter",
         "x": [
          1960,
          1961,
          1962,
          1963,
          1964,
          1965,
          1966,
          1967,
          1968,
          1969,
          1970,
          1971,
          1972,
          1973,
          1974,
          1975,
          1976,
          1977,
          1978,
          1979,
          1980,
          1981,
          1982,
          1983,
          1984,
          1985,
          1986,
          1987,
          1988,
          1989,
          1990,
          1991,
          1992,
          1993,
          1994,
          1995,
          1996,
          1997,
          1998,
          1999,
          2000,
          2001,
          2002,
          2003,
          2004,
          2005,
          2006,
          2007,
          2008,
          2009,
          2010,
          2011,
          2012,
          2013,
          2014,
          2015,
          2016,
          2017,
          2018,
          2019,
          2020
         ],
         "y": [
          "",
          0.011106018363862269,
          0.01111455211224488,
          0.011105321573706917,
          0.01111100257647113,
          0.011107258465436587,
          0.0056881587440198444,
          0.0056949900462761605,
          0.005693766257185651,
          0.005692380177226397,
          0.005690834682551937,
          0.0057425060026252694,
          0.005732461034363645,
          0.005745013495656259,
          0.005734680373511658,
          0.005739239762709403,
          0.007031850380237792,
          0.0070268347396016395,
          0.007028876500257297,
          0.007030532036049308,
          0.007096554795274379,
          0.006675032222896782,
          0.006282877444241386,
          0.00598250932058253,
          0.007573529676260904,
          0.007766880284471256,
          0.007175738664358278,
          0.006973845500469089,
          0.006483038094396321,
          0.005866035328811137,
          0.00168018341182119,
          0.002866811295155536,
          0.0009697897904095143,
          -0.0005348202766075616,
          -0.0003426790703198179,
          -0.00021648763212844813,
          -0.001454515465983519,
          -0.0016534165375325927,
          -0.0016548614334803702,
          -0.0030927819150434743,
          -0.004206149902499234,
          -0.004240905247854698,
          -0.00460024258081404,
          -0.0045378066802026495,
          -0.004026814713284921,
          -0.003814527947415769,
          -0.0032744527010830637,
          -0.001710820329456908,
          -0.00043949259163511556,
          0.00030107760519637594,
          0.00044895788090837385,
          0.0007798177743367773,
          0.0016830503527778262,
          0.002129507045491863,
          0.0021764156680283975,
          0.0019255864182339266,
          0.0017024454590108817,
          0.0010687195428422669,
          -0.00013066892402857633,
          -0.0007223437819039447,
          ""
         ]
        }
       ],
       "layout": {
        "legend": {
         "bgcolor": "#F5F6F9",
         "font": {
          "color": "#4D5663"
         }
        },
        "paper_bgcolor": "#F5F6F9",
        "plot_bgcolor": "#F5F6F9",
        "template": {
         "data": {
          "bar": [
           {
            "error_x": {
             "color": "#2a3f5f"
            },
            "error_y": {
             "color": "#2a3f5f"
            },
            "marker": {
             "line": {
              "color": "#E5ECF6",
              "width": 0.5
             }
            },
            "type": "bar"
           }
          ],
          "barpolar": [
           {
            "marker": {
             "line": {
              "color": "#E5ECF6",
              "width": 0.5
             }
            },
            "type": "barpolar"
           }
          ],
          "carpet": [
           {
            "aaxis": {
             "endlinecolor": "#2a3f5f",
             "gridcolor": "white",
             "linecolor": "white",
             "minorgridcolor": "white",
             "startlinecolor": "#2a3f5f"
            },
            "baxis": {
             "endlinecolor": "#2a3f5f",
             "gridcolor": "white",
             "linecolor": "white",
             "minorgridcolor": "white",
             "startlinecolor": "#2a3f5f"
            },
            "type": "carpet"
           }
          ],
          "choropleth": [
           {
            "colorbar": {
             "outlinewidth": 0,
             "ticks": ""
            },
            "type": "choropleth"
           }
          ],
          "contour": [
           {
            "colorbar": {
             "outlinewidth": 0,
             "ticks": ""
            },
            "colorscale": [
             [
              0,
              "#0d0887"
             ],
             [
              0.1111111111111111,
              "#46039f"
             ],
             [
              0.2222222222222222,
              "#7201a8"
             ],
             [
              0.3333333333333333,
              "#9c179e"
             ],
             [
              0.4444444444444444,
              "#bd3786"
             ],
             [
              0.5555555555555556,
              "#d8576b"
             ],
             [
              0.6666666666666666,
              "#ed7953"
             ],
             [
              0.7777777777777778,
              "#fb9f3a"
             ],
             [
              0.8888888888888888,
              "#fdca26"
             ],
             [
              1,
              "#f0f921"
             ]
            ],
            "type": "contour"
           }
          ],
          "contourcarpet": [
           {
            "colorbar": {
             "outlinewidth": 0,
             "ticks": ""
            },
            "type": "contourcarpet"
           }
          ],
          "heatmap": [
           {
            "colorbar": {
             "outlinewidth": 0,
             "ticks": ""
            },
            "colorscale": [
             [
              0,
              "#0d0887"
             ],
             [
              0.1111111111111111,
              "#46039f"
             ],
             [
              0.2222222222222222,
              "#7201a8"
             ],
             [
              0.3333333333333333,
              "#9c179e"
             ],
             [
              0.4444444444444444,
              "#bd3786"
             ],
             [
              0.5555555555555556,
              "#d8576b"
             ],
             [
              0.6666666666666666,
              "#ed7953"
             ],
             [
              0.7777777777777778,
              "#fb9f3a"
             ],
             [
              0.8888888888888888,
              "#fdca26"
             ],
             [
              1,
              "#f0f921"
             ]
            ],
            "type": "heatmap"
           }
          ],
          "heatmapgl": [
           {
            "colorbar": {
             "outlinewidth": 0,
             "ticks": ""
            },
            "colorscale": [
             [
              0,
              "#0d0887"
             ],
             [
              0.1111111111111111,
              "#46039f"
             ],
             [
              0.2222222222222222,
              "#7201a8"
             ],
             [
              0.3333333333333333,
              "#9c179e"
             ],
             [
              0.4444444444444444,
              "#bd3786"
             ],
             [
              0.5555555555555556,
              "#d8576b"
             ],
             [
              0.6666666666666666,
              "#ed7953"
             ],
             [
              0.7777777777777778,
              "#fb9f3a"
             ],
             [
              0.8888888888888888,
              "#fdca26"
             ],
             [
              1,
              "#f0f921"
             ]
            ],
            "type": "heatmapgl"
           }
          ],
          "histogram": [
           {
            "marker": {
             "colorbar": {
              "outlinewidth": 0,
              "ticks": ""
             }
            },
            "type": "histogram"
           }
          ],
          "histogram2d": [
           {
            "colorbar": {
             "outlinewidth": 0,
             "ticks": ""
            },
            "colorscale": [
             [
              0,
              "#0d0887"
             ],
             [
              0.1111111111111111,
              "#46039f"
             ],
             [
              0.2222222222222222,
              "#7201a8"
             ],
             [
              0.3333333333333333,
              "#9c179e"
             ],
             [
              0.4444444444444444,
              "#bd3786"
             ],
             [
              0.5555555555555556,
              "#d8576b"
             ],
             [
              0.6666666666666666,
              "#ed7953"
             ],
             [
              0.7777777777777778,
              "#fb9f3a"
             ],
             [
              0.8888888888888888,
              "#fdca26"
             ],
             [
              1,
              "#f0f921"
             ]
            ],
            "type": "histogram2d"
           }
          ],
          "histogram2dcontour": [
           {
            "colorbar": {
             "outlinewidth": 0,
             "ticks": ""
            },
            "colorscale": [
             [
              0,
              "#0d0887"
             ],
             [
              0.1111111111111111,
              "#46039f"
             ],
             [
              0.2222222222222222,
              "#7201a8"
             ],
             [
              0.3333333333333333,
              "#9c179e"
             ],
             [
              0.4444444444444444,
              "#bd3786"
             ],
             [
              0.5555555555555556,
              "#d8576b"
             ],
             [
              0.6666666666666666,
              "#ed7953"
             ],
             [
              0.7777777777777778,
              "#fb9f3a"
             ],
             [
              0.8888888888888888,
              "#fdca26"
             ],
             [
              1,
              "#f0f921"
             ]
            ],
            "type": "histogram2dcontour"
           }
          ],
          "mesh3d": [
           {
            "colorbar": {
             "outlinewidth": 0,
             "ticks": ""
            },
            "type": "mesh3d"
           }
          ],
          "parcoords": [
           {
            "line": {
             "colorbar": {
              "outlinewidth": 0,
              "ticks": ""
             }
            },
            "type": "parcoords"
           }
          ],
          "pie": [
           {
            "automargin": true,
            "type": "pie"
           }
          ],
          "scatter": [
           {
            "marker": {
             "colorbar": {
              "outlinewidth": 0,
              "ticks": ""
             }
            },
            "type": "scatter"
           }
          ],
          "scatter3d": [
           {
            "line": {
             "colorbar": {
              "outlinewidth": 0,
              "ticks": ""
             }
            },
            "marker": {
             "colorbar": {
              "outlinewidth": 0,
              "ticks": ""
             }
            },
            "type": "scatter3d"
           }
          ],
          "scattercarpet": [
           {
            "marker": {
             "colorbar": {
              "outlinewidth": 0,
              "ticks": ""
             }
            },
            "type": "scattercarpet"
           }
          ],
          "scattergeo": [
           {
            "marker": {
             "colorbar": {
              "outlinewidth": 0,
              "ticks": ""
             }
            },
            "type": "scattergeo"
           }
          ],
          "scattergl": [
           {
            "marker": {
             "colorbar": {
              "outlinewidth": 0,
              "ticks": ""
             }
            },
            "type": "scattergl"
           }
          ],
          "scattermapbox": [
           {
            "marker": {
             "colorbar": {
              "outlinewidth": 0,
              "ticks": ""
             }
            },
            "type": "scattermapbox"
           }
          ],
          "scatterpolar": [
           {
            "marker": {
             "colorbar": {
              "outlinewidth": 0,
              "ticks": ""
             }
            },
            "type": "scatterpolar"
           }
          ],
          "scatterpolargl": [
           {
            "marker": {
             "colorbar": {
              "outlinewidth": 0,
              "ticks": ""
             }
            },
            "type": "scatterpolargl"
           }
          ],
          "scatterternary": [
           {
            "marker": {
             "colorbar": {
              "outlinewidth": 0,
              "ticks": ""
             }
            },
            "type": "scatterternary"
           }
          ],
          "surface": [
           {
            "colorbar": {
             "outlinewidth": 0,
             "ticks": ""
            },
            "colorscale": [
             [
              0,
              "#0d0887"
             ],
             [
              0.1111111111111111,
              "#46039f"
             ],
             [
              0.2222222222222222,
              "#7201a8"
             ],
             [
              0.3333333333333333,
              "#9c179e"
             ],
             [
              0.4444444444444444,
              "#bd3786"
             ],
             [
              0.5555555555555556,
              "#d8576b"
             ],
             [
              0.6666666666666666,
              "#ed7953"
             ],
             [
              0.7777777777777778,
              "#fb9f3a"
             ],
             [
              0.8888888888888888,
              "#fdca26"
             ],
             [
              1,
              "#f0f921"
             ]
            ],
            "type": "surface"
           }
          ],
          "table": [
           {
            "cells": {
             "fill": {
              "color": "#EBF0F8"
             },
             "line": {
              "color": "white"
             }
            },
            "header": {
             "fill": {
              "color": "#C8D4E3"
             },
             "line": {
              "color": "white"
             }
            },
            "type": "table"
           }
          ]
         },
         "layout": {
          "annotationdefaults": {
           "arrowcolor": "#2a3f5f",
           "arrowhead": 0,
           "arrowwidth": 1
          },
          "autotypenumbers": "strict",
          "coloraxis": {
           "colorbar": {
            "outlinewidth": 0,
            "ticks": ""
           }
          },
          "colorscale": {
           "diverging": [
            [
             0,
             "#8e0152"
            ],
            [
             0.1,
             "#c51b7d"
            ],
            [
             0.2,
             "#de77ae"
            ],
            [
             0.3,
             "#f1b6da"
            ],
            [
             0.4,
             "#fde0ef"
            ],
            [
             0.5,
             "#f7f7f7"
            ],
            [
             0.6,
             "#e6f5d0"
            ],
            [
             0.7,
             "#b8e186"
            ],
            [
             0.8,
             "#7fbc41"
            ],
            [
             0.9,
             "#4d9221"
            ],
            [
             1,
             "#276419"
            ]
           ],
           "sequential": [
            [
             0,
             "#0d0887"
            ],
            [
             0.1111111111111111,
             "#46039f"
            ],
            [
             0.2222222222222222,
             "#7201a8"
            ],
            [
             0.3333333333333333,
             "#9c179e"
            ],
            [
             0.4444444444444444,
             "#bd3786"
            ],
            [
             0.5555555555555556,
             "#d8576b"
            ],
            [
             0.6666666666666666,
             "#ed7953"
            ],
            [
             0.7777777777777778,
             "#fb9f3a"
            ],
            [
             0.8888888888888888,
             "#fdca26"
            ],
            [
             1,
             "#f0f921"
            ]
           ],
           "sequentialminus": [
            [
             0,
             "#0d0887"
            ],
            [
             0.1111111111111111,
             "#46039f"
            ],
            [
             0.2222222222222222,
             "#7201a8"
            ],
            [
             0.3333333333333333,
             "#9c179e"
            ],
            [
             0.4444444444444444,
             "#bd3786"
            ],
            [
             0.5555555555555556,
             "#d8576b"
            ],
            [
             0.6666666666666666,
             "#ed7953"
            ],
            [
             0.7777777777777778,
             "#fb9f3a"
            ],
            [
             0.8888888888888888,
             "#fdca26"
            ],
            [
             1,
             "#f0f921"
            ]
           ]
          },
          "colorway": [
           "#636efa",
           "#EF553B",
           "#00cc96",
           "#ab63fa",
           "#FFA15A",
           "#19d3f3",
           "#FF6692",
           "#B6E880",
           "#FF97FF",
           "#FECB52"
          ],
          "font": {
           "color": "#2a3f5f"
          },
          "geo": {
           "bgcolor": "white",
           "lakecolor": "white",
           "landcolor": "#E5ECF6",
           "showlakes": true,
           "showland": true,
           "subunitcolor": "white"
          },
          "hoverlabel": {
           "align": "left"
          },
          "hovermode": "closest",
          "mapbox": {
           "style": "light"
          },
          "paper_bgcolor": "white",
          "plot_bgcolor": "#E5ECF6",
          "polar": {
           "angularaxis": {
            "gridcolor": "white",
            "linecolor": "white",
            "ticks": ""
           },
           "bgcolor": "#E5ECF6",
           "radialaxis": {
            "gridcolor": "white",
            "linecolor": "white",
            "ticks": ""
           }
          },
          "scene": {
           "xaxis": {
            "backgroundcolor": "#E5ECF6",
            "gridcolor": "white",
            "gridwidth": 2,
            "linecolor": "white",
            "showbackground": true,
            "ticks": "",
            "zerolinecolor": "white"
           },
           "yaxis": {
            "backgroundcolor": "#E5ECF6",
            "gridcolor": "white",
            "gridwidth": 2,
            "linecolor": "white",
            "showbackground": true,
            "ticks": "",
            "zerolinecolor": "white"
           },
           "zaxis": {
            "backgroundcolor": "#E5ECF6",
            "gridcolor": "white",
            "gridwidth": 2,
            "linecolor": "white",
            "showbackground": true,
            "ticks": "",
            "zerolinecolor": "white"
           }
          },
          "shapedefaults": {
           "line": {
            "color": "#2a3f5f"
           }
          },
          "ternary": {
           "aaxis": {
            "gridcolor": "white",
            "linecolor": "white",
            "ticks": ""
           },
           "baxis": {
            "gridcolor": "white",
            "linecolor": "white",
            "ticks": ""
           },
           "bgcolor": "#E5ECF6",
           "caxis": {
            "gridcolor": "white",
            "linecolor": "white",
            "ticks": ""
           }
          },
          "title": {
           "x": 0.05
          },
          "xaxis": {
           "automargin": true,
           "gridcolor": "white",
           "linecolor": "white",
           "ticks": "",
           "title": {
            "standoff": 15
           },
           "zerolinecolor": "white",
           "zerolinewidth": 2
          },
          "yaxis": {
           "automargin": true,
           "gridcolor": "white",
           "linecolor": "white",
           "ticks": "",
           "title": {
            "standoff": 15
           },
           "zerolinecolor": "white",
           "zerolinewidth": 2
          }
         }
        },
        "title": {
         "font": {
          "color": "#4D5663"
         },
         "text": "Russia Growth Rates"
        },
        "xaxis": {
         "gridcolor": "#E1E5ED",
         "showgrid": true,
         "tickfont": {
          "color": "#4D5663"
         },
         "title": {
          "font": {
           "color": "#4D5663"
          },
          "text": "Year"
         },
         "zerolinecolor": "#E1E5ED"
        },
        "yaxis": {
         "gridcolor": "#E1E5ED",
         "showgrid": true,
         "tickfont": {
          "color": "#4D5663"
         },
         "title": {
          "font": {
           "color": "#4D5663"
          },
          "text": "Growth rates"
         },
         "zerolinecolor": "#E1E5ED"
        }
       }
      },
      "text/html": [
       "<div>                            <div id=\"c2fbe5ba-9344-4edc-a975-c9967a47f782\" class=\"plotly-graph-div\" style=\"height:525px; width:100%;\"></div>            <script type=\"text/javascript\">                require([\"plotly\"], function(Plotly) {                    window.PLOTLYENV=window.PLOTLYENV || {};\n",
       "                    window.PLOTLYENV.BASE_URL='https://plot.ly';                                    if (document.getElementById(\"c2fbe5ba-9344-4edc-a975-c9967a47f782\")) {                    Plotly.newPlot(                        \"c2fbe5ba-9344-4edc-a975-c9967a47f782\",                        [{\"line\": {\"color\": \"rgba(255, 153, 51, 1.0)\", \"dash\": \"solid\", \"shape\": \"linear\", \"width\": 1.3}, \"mode\": \"lines\", \"name\": \"Livestock index\", \"text\": \"\", \"type\": \"scatter\", \"x\": [1960, 1961, 1962, 1963, 1964, 1965, 1966, 1967, 1968, 1969, 1970, 1971, 1972, 1973, 1974, 1975, 1976, 1977, 1978, 1979, 1980, 1981, 1982, 1983, 1984, 1985, 1986, 1987, 1988, 1989, 1990, 1991, 1992, 1993, 1994, 1995, 1996, 1997, 1998, 1999, 2000, 2001, 2002, 2003, 2004, 2005, 2006, 2007, 2008, 2009, 2010, 2011, 2012, 2013, 2014, 2015, 2016, 2017, 2018, 2019, 2020], \"y\": [\"\", \"\", \"\", \"\", \"\", \"\", \"\", \"\", \"\", \"\", \"\", \"\", \"\", \"\", \"\", \"\", \"\", \"\", \"\", \"\", \"\", \"\", \"\", \"\", \"\", \"\", \"\", \"\", \"\", \"\", \"\", \"\", \"\", -0.04548264962141069, -0.10561009449483638, -0.11704228044209763, -0.05414029771557782, -0.08315625410484007, 0.003113546431303682, -0.04880520640049646, 0.01753515339947853, -0.024827127586409148, 0.03920847457442456, 0.010349118342583452, 0.011541098546640427, -0.013359648249679168, 0.020022693138388448, 0.05261069365590387, 0.037921421789934406, 0.02600566551629857, 0.019740356271904957, 0.019103677727810187, 0.0250547271363315, 0.011682568082107991, 0.0035109242025122, 0.003336184387316088, 0.003163147939322819, \"\", \"\", \"\", \"\"]}, {\"line\": {\"color\": \"rgba(55, 128, 191, 1.0)\", \"dash\": \"solid\", \"shape\": \"linear\", \"width\": 1.3}, \"mode\": \"lines\", \"name\": \"Food index\", \"text\": \"\", \"type\": \"scatter\", \"x\": [1960, 1961, 1962, 1963, 1964, 1965, 1966, 1967, 1968, 1969, 1970, 1971, 1972, 1973, 1974, 1975, 1976, 1977, 1978, 1979, 1980, 1981, 1982, 1983, 1984, 1985, 1986, 1987, 1988, 1989, 1990, 1991, 1992, 1993, 1994, 1995, 1996, 1997, 1998, 1999, 2000, 2001, 2002, 2003, 2004, 2005, 2006, 2007, 2008, 2009, 2010, 2011, 2012, 2013, 2014, 2015, 2016, 2017, 2018, 2019, 2020], \"y\": [\"\", \"\", \"\", \"\", \"\", \"\", \"\", \"\", \"\", \"\", \"\", \"\", \"\", \"\", \"\", \"\", \"\", \"\", \"\", \"\", \"\", \"\", \"\", \"\", \"\", \"\", \"\", \"\", \"\", \"\", \"\", \"\", \"\", -0.0008958749632048679, -0.11579893830367283, -0.03481364230414119, -0.055104459256676286, 0.0044939407532949005, -0.1326776889216683, 0.013224267317003324, 0.03117307792734092, -0.004144405539421747, 0.09521082067065478, -0.056515676457836506, 0.023175887911014215, 0.028758563524162284, 0.022699089659008465, 0.08856332068362605, 0.04871786327861116, 0.04629186625406323, -0.11759016868831385, 0.16857073652425392, -0.03815005089119872, 0.0540756611927975, 0.0034123255859608292, 0.03327809216205413, 0.07665183157095168, \"\", \"\", \"\", \"\"]}, {\"line\": {\"color\": \"rgba(50, 171, 96, 1.0)\", \"dash\": \"solid\", \"shape\": \"linear\", \"width\": 1.3}, \"mode\": \"lines\", \"name\": \"Crop index\", \"text\": \"\", \"type\": \"scatter\", \"x\": [1960, 1961, 1962, 1963, 1964, 1965, 1966, 1967, 1968, 1969, 1970, 1971, 1972, 1973, 1974, 1975, 1976, 1977, 1978, 1979, 1980, 1981, 1982, 1983, 1984, 1985, 1986, 1987, 1988, 1989, 1990, 1991, 1992, 1993, 1994, 1995, 1996, 1997, 1998, 1999, 2000, 2001, 2002, 2003, 2004, 2005, 2006, 2007, 2008, 2009, 2010, 2011, 2012, 2013, 2014, 2015, 2016, 2017, 2018, 2019, 2020], \"y\": [\"\", \"\", \"\", \"\", \"\", \"\", \"\", \"\", \"\", \"\", \"\", \"\", \"\", \"\", \"\", \"\", \"\", \"\", \"\", \"\", \"\", \"\", \"\", \"\", \"\", \"\", \"\", \"\", \"\", \"\", \"\", \"\", \"\", -0.06586073717757124, -0.19991455959098303, -0.009038446063137862, 0.0018371804455519225, 0.11690314118694367, -0.40149260479392623, 0.09921173292099272, 0.1275240168433438, 0.1257063997920307, 0.029884489895398936, -0.08848789494769527, 0.09801374871522128, 0.03583016610802403, 0.01773795028561853, 0.034181515086943115, 0.16391968481398234, -0.043225195040473174, -0.36786422485662396, 0.45574669114617095, -0.18682174485662983, 0.16450734567179293, 0.07383370434908354, 0.045106522333776766, 0.11052974085806344, \"\", \"\", \"\", \"\"]}, {\"line\": {\"color\": \"rgba(128, 0, 128, 1.0)\", \"dash\": \"solid\", \"shape\": \"linear\", \"width\": 1.3}, \"mode\": \"lines\", \"name\": \"Population\", \"text\": \"\", \"type\": \"scatter\", \"x\": [1960, 1961, 1962, 1963, 1964, 1965, 1966, 1967, 1968, 1969, 1970, 1971, 1972, 1973, 1974, 1975, 1976, 1977, 1978, 1979, 1980, 1981, 1982, 1983, 1984, 1985, 1986, 1987, 1988, 1989, 1990, 1991, 1992, 1993, 1994, 1995, 1996, 1997, 1998, 1999, 2000, 2001, 2002, 2003, 2004, 2005, 2006, 2007, 2008, 2009, 2010, 2011, 2012, 2013, 2014, 2015, 2016, 2017, 2018, 2019, 2020], \"y\": [\"\", 0.011106018363862269, 0.01111455211224488, 0.011105321573706917, 0.01111100257647113, 0.011107258465436587, 0.0056881587440198444, 0.0056949900462761605, 0.005693766257185651, 0.005692380177226397, 0.005690834682551937, 0.0057425060026252694, 0.005732461034363645, 0.005745013495656259, 0.005734680373511658, 0.005739239762709403, 0.007031850380237792, 0.0070268347396016395, 0.007028876500257297, 0.007030532036049308, 0.007096554795274379, 0.006675032222896782, 0.006282877444241386, 0.00598250932058253, 0.007573529676260904, 0.007766880284471256, 0.007175738664358278, 0.006973845500469089, 0.006483038094396321, 0.005866035328811137, 0.00168018341182119, 0.002866811295155536, 0.0009697897904095143, -0.0005348202766075616, -0.0003426790703198179, -0.00021648763212844813, -0.001454515465983519, -0.0016534165375325927, -0.0016548614334803702, -0.0030927819150434743, -0.004206149902499234, -0.004240905247854698, -0.00460024258081404, -0.0045378066802026495, -0.004026814713284921, -0.003814527947415769, -0.0032744527010830637, -0.001710820329456908, -0.00043949259163511556, 0.00030107760519637594, 0.00044895788090837385, 0.0007798177743367773, 0.0016830503527778262, 0.002129507045491863, 0.0021764156680283975, 0.0019255864182339266, 0.0017024454590108817, 0.0010687195428422669, -0.00013066892402857633, -0.0007223437819039447, \"\"]}],                        {\"legend\": {\"bgcolor\": \"#F5F6F9\", \"font\": {\"color\": \"#4D5663\"}}, \"paper_bgcolor\": \"#F5F6F9\", \"plot_bgcolor\": \"#F5F6F9\", \"template\": {\"data\": {\"bar\": [{\"error_x\": {\"color\": \"#2a3f5f\"}, \"error_y\": {\"color\": \"#2a3f5f\"}, \"marker\": {\"line\": {\"color\": \"#E5ECF6\", \"width\": 0.5}}, \"type\": \"bar\"}], \"barpolar\": [{\"marker\": {\"line\": {\"color\": \"#E5ECF6\", \"width\": 0.5}}, \"type\": \"barpolar\"}], \"carpet\": [{\"aaxis\": {\"endlinecolor\": \"#2a3f5f\", \"gridcolor\": \"white\", \"linecolor\": \"white\", \"minorgridcolor\": \"white\", \"startlinecolor\": \"#2a3f5f\"}, \"baxis\": {\"endlinecolor\": \"#2a3f5f\", \"gridcolor\": \"white\", \"linecolor\": \"white\", \"minorgridcolor\": \"white\", \"startlinecolor\": \"#2a3f5f\"}, \"type\": \"carpet\"}], \"choropleth\": [{\"colorbar\": {\"outlinewidth\": 0, \"ticks\": \"\"}, \"type\": \"choropleth\"}], \"contour\": [{\"colorbar\": {\"outlinewidth\": 0, \"ticks\": \"\"}, \"colorscale\": [[0.0, \"#0d0887\"], [0.1111111111111111, \"#46039f\"], [0.2222222222222222, \"#7201a8\"], [0.3333333333333333, \"#9c179e\"], [0.4444444444444444, \"#bd3786\"], [0.5555555555555556, \"#d8576b\"], [0.6666666666666666, \"#ed7953\"], [0.7777777777777778, \"#fb9f3a\"], [0.8888888888888888, \"#fdca26\"], [1.0, \"#f0f921\"]], \"type\": \"contour\"}], \"contourcarpet\": [{\"colorbar\": {\"outlinewidth\": 0, \"ticks\": \"\"}, \"type\": \"contourcarpet\"}], \"heatmap\": [{\"colorbar\": {\"outlinewidth\": 0, \"ticks\": \"\"}, \"colorscale\": [[0.0, \"#0d0887\"], [0.1111111111111111, \"#46039f\"], [0.2222222222222222, \"#7201a8\"], [0.3333333333333333, \"#9c179e\"], [0.4444444444444444, \"#bd3786\"], [0.5555555555555556, \"#d8576b\"], [0.6666666666666666, \"#ed7953\"], [0.7777777777777778, \"#fb9f3a\"], [0.8888888888888888, \"#fdca26\"], [1.0, \"#f0f921\"]], \"type\": \"heatmap\"}], \"heatmapgl\": [{\"colorbar\": {\"outlinewidth\": 0, \"ticks\": \"\"}, \"colorscale\": [[0.0, \"#0d0887\"], [0.1111111111111111, \"#46039f\"], [0.2222222222222222, \"#7201a8\"], [0.3333333333333333, \"#9c179e\"], [0.4444444444444444, \"#bd3786\"], [0.5555555555555556, \"#d8576b\"], [0.6666666666666666, \"#ed7953\"], [0.7777777777777778, \"#fb9f3a\"], [0.8888888888888888, \"#fdca26\"], [1.0, \"#f0f921\"]], \"type\": \"heatmapgl\"}], \"histogram\": [{\"marker\": {\"colorbar\": {\"outlinewidth\": 0, \"ticks\": \"\"}}, \"type\": \"histogram\"}], \"histogram2d\": [{\"colorbar\": {\"outlinewidth\": 0, \"ticks\": \"\"}, \"colorscale\": [[0.0, \"#0d0887\"], [0.1111111111111111, \"#46039f\"], [0.2222222222222222, \"#7201a8\"], [0.3333333333333333, \"#9c179e\"], [0.4444444444444444, \"#bd3786\"], [0.5555555555555556, \"#d8576b\"], [0.6666666666666666, \"#ed7953\"], [0.7777777777777778, \"#fb9f3a\"], [0.8888888888888888, \"#fdca26\"], [1.0, \"#f0f921\"]], \"type\": \"histogram2d\"}], \"histogram2dcontour\": [{\"colorbar\": {\"outlinewidth\": 0, \"ticks\": \"\"}, \"colorscale\": [[0.0, \"#0d0887\"], [0.1111111111111111, \"#46039f\"], [0.2222222222222222, \"#7201a8\"], [0.3333333333333333, \"#9c179e\"], [0.4444444444444444, \"#bd3786\"], [0.5555555555555556, \"#d8576b\"], [0.6666666666666666, \"#ed7953\"], [0.7777777777777778, \"#fb9f3a\"], [0.8888888888888888, \"#fdca26\"], [1.0, \"#f0f921\"]], \"type\": \"histogram2dcontour\"}], \"mesh3d\": [{\"colorbar\": {\"outlinewidth\": 0, \"ticks\": \"\"}, \"type\": \"mesh3d\"}], \"parcoords\": [{\"line\": {\"colorbar\": {\"outlinewidth\": 0, \"ticks\": \"\"}}, \"type\": \"parcoords\"}], \"pie\": [{\"automargin\": true, \"type\": \"pie\"}], \"scatter\": [{\"marker\": {\"colorbar\": {\"outlinewidth\": 0, \"ticks\": \"\"}}, \"type\": \"scatter\"}], \"scatter3d\": [{\"line\": {\"colorbar\": {\"outlinewidth\": 0, \"ticks\": \"\"}}, \"marker\": {\"colorbar\": {\"outlinewidth\": 0, \"ticks\": \"\"}}, \"type\": \"scatter3d\"}], \"scattercarpet\": [{\"marker\": {\"colorbar\": {\"outlinewidth\": 0, \"ticks\": \"\"}}, \"type\": \"scattercarpet\"}], \"scattergeo\": [{\"marker\": {\"colorbar\": {\"outlinewidth\": 0, \"ticks\": \"\"}}, \"type\": \"scattergeo\"}], \"scattergl\": [{\"marker\": {\"colorbar\": {\"outlinewidth\": 0, \"ticks\": \"\"}}, \"type\": \"scattergl\"}], \"scattermapbox\": [{\"marker\": {\"colorbar\": {\"outlinewidth\": 0, \"ticks\": \"\"}}, \"type\": \"scattermapbox\"}], \"scatterpolar\": [{\"marker\": {\"colorbar\": {\"outlinewidth\": 0, \"ticks\": \"\"}}, \"type\": \"scatterpolar\"}], \"scatterpolargl\": [{\"marker\": {\"colorbar\": {\"outlinewidth\": 0, \"ticks\": \"\"}}, \"type\": \"scatterpolargl\"}], \"scatterternary\": [{\"marker\": {\"colorbar\": {\"outlinewidth\": 0, \"ticks\": \"\"}}, \"type\": \"scatterternary\"}], \"surface\": [{\"colorbar\": {\"outlinewidth\": 0, \"ticks\": \"\"}, \"colorscale\": [[0.0, \"#0d0887\"], [0.1111111111111111, \"#46039f\"], [0.2222222222222222, \"#7201a8\"], [0.3333333333333333, \"#9c179e\"], [0.4444444444444444, \"#bd3786\"], [0.5555555555555556, \"#d8576b\"], [0.6666666666666666, \"#ed7953\"], [0.7777777777777778, \"#fb9f3a\"], [0.8888888888888888, \"#fdca26\"], [1.0, \"#f0f921\"]], \"type\": \"surface\"}], \"table\": [{\"cells\": {\"fill\": {\"color\": \"#EBF0F8\"}, \"line\": {\"color\": \"white\"}}, \"header\": {\"fill\": {\"color\": \"#C8D4E3\"}, \"line\": {\"color\": \"white\"}}, \"type\": \"table\"}]}, \"layout\": {\"annotationdefaults\": {\"arrowcolor\": \"#2a3f5f\", \"arrowhead\": 0, \"arrowwidth\": 1}, \"autotypenumbers\": \"strict\", \"coloraxis\": {\"colorbar\": {\"outlinewidth\": 0, \"ticks\": \"\"}}, \"colorscale\": {\"diverging\": [[0, \"#8e0152\"], [0.1, \"#c51b7d\"], [0.2, \"#de77ae\"], [0.3, \"#f1b6da\"], [0.4, \"#fde0ef\"], [0.5, \"#f7f7f7\"], [0.6, \"#e6f5d0\"], [0.7, \"#b8e186\"], [0.8, \"#7fbc41\"], [0.9, \"#4d9221\"], [1, \"#276419\"]], \"sequential\": [[0.0, \"#0d0887\"], [0.1111111111111111, \"#46039f\"], [0.2222222222222222, \"#7201a8\"], [0.3333333333333333, \"#9c179e\"], [0.4444444444444444, \"#bd3786\"], [0.5555555555555556, \"#d8576b\"], [0.6666666666666666, \"#ed7953\"], [0.7777777777777778, \"#fb9f3a\"], [0.8888888888888888, \"#fdca26\"], [1.0, \"#f0f921\"]], \"sequentialminus\": [[0.0, \"#0d0887\"], [0.1111111111111111, \"#46039f\"], [0.2222222222222222, \"#7201a8\"], [0.3333333333333333, \"#9c179e\"], [0.4444444444444444, \"#bd3786\"], [0.5555555555555556, \"#d8576b\"], [0.6666666666666666, \"#ed7953\"], [0.7777777777777778, \"#fb9f3a\"], [0.8888888888888888, \"#fdca26\"], [1.0, \"#f0f921\"]]}, \"colorway\": [\"#636efa\", \"#EF553B\", \"#00cc96\", \"#ab63fa\", \"#FFA15A\", \"#19d3f3\", \"#FF6692\", \"#B6E880\", \"#FF97FF\", \"#FECB52\"], \"font\": {\"color\": \"#2a3f5f\"}, \"geo\": {\"bgcolor\": \"white\", \"lakecolor\": \"white\", \"landcolor\": \"#E5ECF6\", \"showlakes\": true, \"showland\": true, \"subunitcolor\": \"white\"}, \"hoverlabel\": {\"align\": \"left\"}, \"hovermode\": \"closest\", \"mapbox\": {\"style\": \"light\"}, \"paper_bgcolor\": \"white\", \"plot_bgcolor\": \"#E5ECF6\", \"polar\": {\"angularaxis\": {\"gridcolor\": \"white\", \"linecolor\": \"white\", \"ticks\": \"\"}, \"bgcolor\": \"#E5ECF6\", \"radialaxis\": {\"gridcolor\": \"white\", \"linecolor\": \"white\", \"ticks\": \"\"}}, \"scene\": {\"xaxis\": {\"backgroundcolor\": \"#E5ECF6\", \"gridcolor\": \"white\", \"gridwidth\": 2, \"linecolor\": \"white\", \"showbackground\": true, \"ticks\": \"\", \"zerolinecolor\": \"white\"}, \"yaxis\": {\"backgroundcolor\": \"#E5ECF6\", \"gridcolor\": \"white\", \"gridwidth\": 2, \"linecolor\": \"white\", \"showbackground\": true, \"ticks\": \"\", \"zerolinecolor\": \"white\"}, \"zaxis\": {\"backgroundcolor\": \"#E5ECF6\", \"gridcolor\": \"white\", \"gridwidth\": 2, \"linecolor\": \"white\", \"showbackground\": true, \"ticks\": \"\", \"zerolinecolor\": \"white\"}}, \"shapedefaults\": {\"line\": {\"color\": \"#2a3f5f\"}}, \"ternary\": {\"aaxis\": {\"gridcolor\": \"white\", \"linecolor\": \"white\", \"ticks\": \"\"}, \"baxis\": {\"gridcolor\": \"white\", \"linecolor\": \"white\", \"ticks\": \"\"}, \"bgcolor\": \"#E5ECF6\", \"caxis\": {\"gridcolor\": \"white\", \"linecolor\": \"white\", \"ticks\": \"\"}}, \"title\": {\"x\": 0.05}, \"xaxis\": {\"automargin\": true, \"gridcolor\": \"white\", \"linecolor\": \"white\", \"ticks\": \"\", \"title\": {\"standoff\": 15}, \"zerolinecolor\": \"white\", \"zerolinewidth\": 2}, \"yaxis\": {\"automargin\": true, \"gridcolor\": \"white\", \"linecolor\": \"white\", \"ticks\": \"\", \"title\": {\"standoff\": 15}, \"zerolinecolor\": \"white\", \"zerolinewidth\": 2}}}, \"title\": {\"font\": {\"color\": \"#4D5663\"}, \"text\": \"Russia Growth Rates\"}, \"xaxis\": {\"gridcolor\": \"#E1E5ED\", \"showgrid\": true, \"tickfont\": {\"color\": \"#4D5663\"}, \"title\": {\"font\": {\"color\": \"#4D5663\"}, \"text\": \"Year\"}, \"zerolinecolor\": \"#E1E5ED\"}, \"yaxis\": {\"gridcolor\": \"#E1E5ED\", \"showgrid\": true, \"tickfont\": {\"color\": \"#4D5663\"}, \"title\": {\"font\": {\"color\": \"#4D5663\"}, \"text\": \"Growth rates\"}, \"zerolinecolor\": \"#E1E5ED\"}},                        {\"showLink\": true, \"linkText\": \"Export to plot.ly\", \"plotlyServerURL\": \"https://plot.ly\", \"responsive\": true}                    ).then(function(){\n",
       "                            \n",
       "var gd = document.getElementById('c2fbe5ba-9344-4edc-a975-c9967a47f782');\n",
       "var x = new MutationObserver(function (mutations, observer) {{\n",
       "        var display = window.getComputedStyle(gd).display;\n",
       "        if (!display || display === 'none') {{\n",
       "            console.log([gd, 'removed!']);\n",
       "            Plotly.purge(gd);\n",
       "            observer.disconnect();\n",
       "        }}\n",
       "}});\n",
       "\n",
       "// Listen for the removal of the full notebook cells\n",
       "var notebookContainer = gd.closest('#notebook-container');\n",
       "if (notebookContainer) {{\n",
       "    x.observe(notebookContainer, {childList: true});\n",
       "}}\n",
       "\n",
       "// Listen for the clearing of the current output cell\n",
       "var outputEl = gd.closest('.output');\n",
       "if (outputEl) {{\n",
       "    x.observe(outputEl, {childList: true});\n",
       "}}\n",
       "\n",
       "                        })                };                });            </script>        </div>"
      ]
     },
     "metadata": {},
     "output_type": "display_data"
    }
   ],
   "source": [
    "np.log(food).diff().iplot(xTitle=\"Year\",yTitle=\"Growth rates\", title='Russia Growth Rates')"
   ]
  }
 ],
 "metadata": {
  "history": [
   {
    "code": "vars = {\"AG.PRD.CREL.MT\":\"Cereal production\"}\n\n# Use this to find top producers:\n#big_producers = cereals.query('date==2000').squeeze().sort_values(ascending=False)\n#big_producers.head(20)\n\nuse=[\"CHN\",\"USA\",\"IND\",\"FRA\",\"RUS\",\"WLD\"]\n\ncereals = fix_date_index(wbdata.get_dataframe(vars,country=use)).squeeze().unstack('country')\n\ncereals.iplot(xTitle=\"Year\",yTitle=\"Metric Tons\",\n              title=\"Cereal Production by Top 5 (in 2000)\")",
    "id": "e2b8bcf1469a4557853e97ef7872b20e",
    "idx": 1,
    "time": "2021-02-07T22:01:50.928Z",
    "type": "execution"
   },
   {
    "code": "vars = {\"AG.PRD.CREL.MT\":\"Cereal production\"}\n\n# Use this to find top producers:\n#big_producers = cereals.query('date==2000').squeeze().sort_values(ascending=False)\n#big_producers.head(20)\n\nuse=[\"CHN\",\"USA\",\"IND\",\"FRA\",\"RUS\",\"WLD\"]\n\ncereals = fix_date_index(wbdata.get_dataframe(vars,country=use)).squeeze().unstack('country')\n\ncereals.iplot(xTitle=\"Year\",yTitle=\"Metric Tons\",\n              title=\"Cereal Production by Top 5 (in 2000)\")",
    "id": "4ad1b9c70289465993ee423bc603b20d",
    "idx": 1,
    "time": "2021-02-07T22:02:09.997Z",
    "type": "execution"
   },
   {
    "id": "4ad1b9c70289465993ee423bc603b20d",
    "time": "2021-02-07T22:02:10.232Z",
    "type": "completion"
   },
   {
    "code": "!pip install wbdata\nimport numpy as np\nimport wbdata\nimport cufflinks as cf\ncf.go_offline()",
    "id": "6cc68f98877d41e3a145a39388394740",
    "idx": 1,
    "time": "2021-02-07T22:02:36.733Z",
    "type": "execution"
   },
   {
    "id": "6cc68f98877d41e3a145a39388394740",
    "time": "2021-02-07T22:02:43.306Z",
    "type": "completion"
   },
   {
    "code": "!pip install wbdata\nimport numpy as np\nimport wbdata\nimport cufflinks as cf\ncf.go_offline()\n\ndef fix_date_index(df):\n    idx_vars = df.index.names\n    new = df.reset_index()\n    new.date = new.date.astype(int)\n    return new.set_index(idx_vars)",
    "id": "6cc68f98877d41e3a145a39388394740",
    "idx": 1,
    "time": "2021-02-07T22:02:44.522Z",
    "type": "execution"
   },
   {
    "id": "6cc68f98877d41e3a145a39388394740",
    "time": "2021-02-07T22:02:48.957Z",
    "type": "completion"
   },
   {
    "code": "wbdata.get_topic()",
    "id": "b7270e97cbbe4ab187df2f083c7d1a8b",
    "idx": 2,
    "time": "2021-02-07T22:02:54.668Z",
    "type": "execution"
   },
   {
    "id": "b7270e97cbbe4ab187df2f083c7d1a8b",
    "time": "2021-02-07T22:02:54.791Z",
    "type": "completion"
   },
   {
    "code": "import numpy as np\nimport wbdata\nimport cufflinks as cf",
    "id": "c53230c9fa1548b791addbd285865587",
    "idx": 0,
    "time": "2021-02-07T22:03:09.218Z",
    "type": "execution"
   },
   {
    "id": "c53230c9fa1548b791addbd285865587",
    "time": "2021-02-07T22:03:09.312Z",
    "type": "completion"
   },
   {
    "code": "import numpy as np\nimport wbdata\nimport cufflinks as cf",
    "id": "c53230c9fa1548b791addbd285865587",
    "idx": 0,
    "time": "2021-02-07T22:03:12.898Z",
    "type": "execution"
   },
   {
    "id": "c53230c9fa1548b791addbd285865587",
    "time": "2021-02-07T22:03:13.005Z",
    "type": "completion"
   },
   {
    "code": "wbdata.get_topic()",
    "id": "b7270e97cbbe4ab187df2f083c7d1a8b",
    "idx": 1,
    "time": "2021-02-07T22:03:15.186Z",
    "type": "execution"
   },
   {
    "id": "b7270e97cbbe4ab187df2f083c7d1a8b",
    "time": "2021-02-07T22:03:15.295Z",
    "type": "completion"
   },
   {
    "code": "import numpy as np\n#import wbdata\nimport cufflinks as cf",
    "id": "c53230c9fa1548b791addbd285865587",
    "idx": 0,
    "time": "2021-02-07T22:03:20.112Z",
    "type": "execution"
   },
   {
    "id": "c53230c9fa1548b791addbd285865587",
    "time": "2021-02-07T22:03:20.207Z",
    "type": "completion"
   },
   {
    "code": "wbdata.get_topic()",
    "id": "b7270e97cbbe4ab187df2f083c7d1a8b",
    "idx": 1,
    "time": "2021-02-07T22:03:21.283Z",
    "type": "execution"
   },
   {
    "id": "b7270e97cbbe4ab187df2f083c7d1a8b",
    "time": "2021-02-07T22:03:21.412Z",
    "type": "completion"
   },
   {
    "code": "import numpy as np\nimport wbdata\nimport cufflinks as cf",
    "id": "c53230c9fa1548b791addbd285865587",
    "idx": 0,
    "time": "2021-02-07T22:03:27.263Z",
    "type": "execution"
   },
   {
    "id": "c53230c9fa1548b791addbd285865587",
    "time": "2021-02-07T22:03:27.365Z",
    "type": "completion"
   },
   {
    "code": "wbdata.get_topic()",
    "id": "b7270e97cbbe4ab187df2f083c7d1a8b",
    "idx": 1,
    "time": "2021-02-07T22:03:28.728Z",
    "type": "execution"
   },
   {
    "id": "b7270e97cbbe4ab187df2f083c7d1a8b",
    "time": "2021-02-07T22:03:28.824Z",
    "type": "completion"
   },
   {
    "code": "vars = {\"AG.PRD.CREL.MT\":\"Cereal production\"}\n\n# Use this to find top producers:\n#big_producers = cereals.query('date==2000').squeeze().sort_values(ascending=False)\n#big_producers.head(20)\n\nuse=[\"CHN\",\"USA\",\"IND\",\"FRA\",\"RUS\",\"WLD\"]\n\ncereals = fix_date_index(wbdata.get_dataframe(vars,country=use)).squeeze().unstack('country')\n\ncereals.iplot(xTitle=\"Year\",yTitle=\"Metric Tons\",\n              title=\"Cereal Production by Top 5 (in 2000)\")",
    "id": "c93572b3588c40f98ad6bd5453e1ec6f",
    "idx": 2,
    "time": "2021-02-07T22:03:30.808Z",
    "type": "execution"
   },
   {
    "id": "c93572b3588c40f98ad6bd5453e1ec6f",
    "time": "2021-02-07T22:03:31.989Z",
    "type": "completion"
   },
   {
    "code": "wbdata.get_indicator(topic=1)",
    "id": "b7270e97cbbe4ab187df2f083c7d1a8b",
    "idx": 1,
    "time": "2021-02-07T22:03:47.698Z",
    "type": "execution"
   },
   {
    "id": "b7270e97cbbe4ab187df2f083c7d1a8b",
    "time": "2021-02-07T22:03:47.813Z",
    "type": "completion"
   },
   {
    "code": "wbdata.get_country(\"Japan\")",
    "id": "c263bec60cb7423d9329e6009f415b83",
    "idx": 1,
    "time": "2021-02-07T23:28:49.069Z",
    "type": "execution"
   },
   {
    "id": "c263bec60cb7423d9329e6009f415b83",
    "time": "2021-02-07T23:28:50.627Z",
    "type": "completion"
   },
   {
    "code": "import numpy as np\nimport wbdata\nimport cufflinks as cf",
    "id": "c53230c9fa1548b791addbd285865587",
    "idx": 0,
    "time": "2021-02-07T23:28:53.332Z",
    "type": "execution"
   },
   {
    "id": "c53230c9fa1548b791addbd285865587",
    "time": "2021-02-07T23:28:53.526Z",
    "type": "completion"
   },
   {
    "code": "wbdata.get_country(\"Japan\")",
    "id": "c263bec60cb7423d9329e6009f415b83",
    "idx": 1,
    "time": "2021-02-07T23:28:55.177Z",
    "type": "execution"
   },
   {
    "id": "c263bec60cb7423d9329e6009f415b83",
    "time": "2021-02-07T23:28:55.442Z",
    "type": "completion"
   },
   {
    "code": "wbdata.search_countries(\"Japan\")",
    "id": "c263bec60cb7423d9329e6009f415b83",
    "idx": 1,
    "time": "2021-02-07T23:29:09.566Z",
    "type": "execution"
   },
   {
    "id": "c263bec60cb7423d9329e6009f415b83",
    "time": "2021-02-07T23:29:10.087Z",
    "type": "completion"
   },
   {
    "code": "wbdata.search_countries(\"It\")",
    "id": "c263bec60cb7423d9329e6009f415b83",
    "idx": 1,
    "time": "2021-02-07T23:29:26.917Z",
    "type": "execution"
   },
   {
    "id": "c263bec60cb7423d9329e6009f415b83",
    "time": "2021-02-07T23:29:27.131Z",
    "type": "completion"
   },
   {
    "code": "vars = {\"AG.PRD.CREL.MT\":\"Cereal production\"}\n\n# Use this to find top producers:\n#big_producers = cereals.query('date==2000').squeeze().sort_values(ascending=False)\n#big_producers.head(20)\n\nuse=[\"CHN\",\"IND\",\"JPN\",\"ITA\",\"RUS\",\"WLD\"]\n\ncereals = fix_date_index(wbdata.get_dataframe(vars,country=use)).squeeze().unstack('country')\n\ncereals.iplot(xTitle=\"Year\",yTitle=\"Metric Tons\",\n              title=\"Cereal Production by Top 5 (in 2000)\")",
    "id": "c93572b3588c40f98ad6bd5453e1ec6f",
    "idx": 4,
    "time": "2021-02-07T23:29:40.860Z",
    "type": "execution"
   },
   {
    "id": "c93572b3588c40f98ad6bd5453e1ec6f",
    "time": "2021-02-07T23:29:42.030Z",
    "type": "completion"
   },
   {
    "code": "vars = {\"AG.PRD.CREL.MT\":\"Cereal production\"}\n\n# Use this to find top producers:\n#big_producers = cereals.query('date==2000').squeeze().sort_values(ascending=False)\n#big_producers.head(20)\n\nuse=[\"CHN\",\"IND\",\"JPN\",\"ITA\",\"RUS\"]\n\ncereals = fix_date_index(wbdata.get_dataframe(vars,country=use)).squeeze().unstack('country')\n\ncereals.iplot(xTitle=\"Year\",yTitle=\"Metric Tons\",\n              title=\"Cereal Production by Top 5 (in 2000)\")",
    "id": "c93572b3588c40f98ad6bd5453e1ec6f",
    "idx": 4,
    "time": "2021-02-07T23:29:51.155Z",
    "type": "execution"
   },
   {
    "id": "c93572b3588c40f98ad6bd5453e1ec6f",
    "time": "2021-02-07T23:29:52.145Z",
    "type": "completion"
   },
   {
    "code": "wbdata.search_countries(\"ussr\")",
    "id": "c263bec60cb7423d9329e6009f415b83",
    "idx": 1,
    "time": "2021-02-07T23:30:05.833Z",
    "type": "execution"
   },
   {
    "id": "c263bec60cb7423d9329e6009f415b83",
    "time": "2021-02-07T23:30:05.971Z",
    "type": "completion"
   },
   {
    "code": "wbdata.search_countries(\"soviet\")",
    "id": "c263bec60cb7423d9329e6009f415b83",
    "idx": 1,
    "time": "2021-02-07T23:30:09.545Z",
    "type": "execution"
   },
   {
    "id": "c263bec60cb7423d9329e6009f415b83",
    "time": "2021-02-07T23:30:09.680Z",
    "type": "completion"
   },
   {
    "code": "wbdata.search_countries(\"Russia\")",
    "id": "c263bec60cb7423d9329e6009f415b83",
    "idx": 1,
    "time": "2021-02-07T23:30:15.106Z",
    "type": "execution"
   },
   {
    "id": "c263bec60cb7423d9329e6009f415b83",
    "time": "2021-02-07T23:30:15.212Z",
    "type": "completion"
   },
   {
    "code": "wbdata.search_countries(\"sov\")",
    "id": "c263bec60cb7423d9329e6009f415b83",
    "idx": 1,
    "time": "2021-02-07T23:30:19.044Z",
    "type": "execution"
   },
   {
    "id": "c263bec60cb7423d9329e6009f415b83",
    "time": "2021-02-07T23:30:19.152Z",
    "type": "completion"
   },
   {
    "code": "wbdata.search_countries(\"Rus\")",
    "id": "c263bec60cb7423d9329e6009f415b83",
    "idx": 1,
    "time": "2021-02-07T23:30:23.728Z",
    "type": "execution"
   },
   {
    "id": "c263bec60cb7423d9329e6009f415b83",
    "time": "2021-02-07T23:30:23.839Z",
    "type": "completion"
   },
   {
    "code": "wbdata.search_countries(\"union\")",
    "id": "c263bec60cb7423d9329e6009f415b83",
    "idx": 1,
    "time": "2021-02-07T23:30:31.825Z",
    "type": "execution"
   },
   {
    "id": "c263bec60cb7423d9329e6009f415b83",
    "time": "2021-02-07T23:30:31.925Z",
    "type": "completion"
   },
   {
    "code": "wbdata.search_countries(\"rus\")",
    "id": "c263bec60cb7423d9329e6009f415b83",
    "idx": 1,
    "time": "2021-02-07T23:30:36.831Z",
    "type": "execution"
   },
   {
    "id": "c263bec60cb7423d9329e6009f415b83",
    "time": "2021-02-07T23:30:36.931Z",
    "type": "completion"
   },
   {
    "code": "vars = {\"AG.PRD.CREL.MT\":\"Cereal production\"}\n\n# Use this to find top producers:\n#big_producers = cereals.query('date==2000').squeeze().sort_values(ascending=False)\n#big_producers.head(20)\n\nuse=[\"CHN\",\"IND\",\"JPN\",\"ITA\",\"RUS\"]\n\ncereals = fix_date_index(wbdata.get_dataframe(vars,country=use)).squeeze().unstack('country')\n\ncereals.iplot(xTitle=\"Year\",yTitle=\"Metric Tons\",\n              title=\"Cereal Production of China, India, Italy, Japan, Russia\")",
    "id": "c93572b3588c40f98ad6bd5453e1ec6f",
    "idx": 4,
    "time": "2021-02-07T23:31:27.977Z",
    "type": "execution"
   },
   {
    "id": "c93572b3588c40f98ad6bd5453e1ec6f",
    "time": "2021-02-07T23:31:28.491Z",
    "type": "completion"
   },
   {
    "code": "vars = {\"AG.PRD.LVSK.XD\":\"Livestock index\",\n        \"AG.PRD.FOOD.XD\":\"Food index\",\n        \"AG.PRD.CROP.XD\":\"Crop index\"}\n\nfood = fix_date_index(wbdata.get_dataframe(vars,country='WLD'))\n\nfood.iplot(xTitle=\"Year\",yTitle=\"Index\")",
    "id": "5b4dbf1a9e5645f29ddaf0501dc779bf",
    "idx": 5,
    "time": "2021-02-07T23:31:40.858Z",
    "type": "execution"
   },
   {
    "id": "5b4dbf1a9e5645f29ddaf0501dc779bf",
    "time": "2021-02-07T23:31:41.220Z",
    "type": "completion"
   },
   {
    "code": "vars = {\"AG.PRD.LVSK.XD\":\"Livestock index\",\n        \"AG.PRD.FOOD.XD\":\"Food index\",\n        \"AG.PRD.CROP.XD\":\"Crop index\"}\n\nfood = fix_date_index(wbdata.get_dataframe(vars,country='CHN'))\n\nfood.iplot(xTitle=\"Year\",yTitle=\"Index\")",
    "id": "5b4dbf1a9e5645f29ddaf0501dc779bf",
    "idx": 5,
    "time": "2021-02-07T23:32:02.748Z",
    "type": "execution"
   },
   {
    "id": "5b4dbf1a9e5645f29ddaf0501dc779bf",
    "time": "2021-02-07T23:32:03.506Z",
    "type": "completion"
   },
   {
    "code": "vars = {\"AG.PRD.LVSK.XD\":\"Livestock index\",\n        \"AG.PRD.FOOD.XD\":\"Food index\",\n        \"AG.PRD.CROP.XD\":\"Crop index\"}\n\nfood = fix_date_index(wbdata.get_dataframe(vars,country='WLD'))\n\nfood.iplot(xTitle=\"Year\",yTitle=\"Index\")",
    "id": "5b4dbf1a9e5645f29ddaf0501dc779bf",
    "idx": 5,
    "time": "2021-02-07T23:32:08.978Z",
    "type": "execution"
   },
   {
    "id": "5b4dbf1a9e5645f29ddaf0501dc779bf",
    "time": "2021-02-07T23:32:09.348Z",
    "type": "completion"
   },
   {
    "code": "vars = {\"AG.PRD.LVSK.XD\":\"Livestock index\",\n        \"AG.PRD.FOOD.XD\":\"Food index\",\n        \"AG.PRD.CROP.XD\":\"Crop index\",\n        \"SP.POP.TOTL\":\"Population\"}\n\nfood = fix_date_index(wbdata.get_dataframe(vars,country='WLD'))\n\nfood.sort_index(inplace=True)\n\nfood['Population'] = food['Population']/food.loc[2006,'Population']*100\n\nfood.iplot(xTitle=\"Year\",yTitle=\"Index\")\n\n# This is opposite from Malthus' graphs, population is linear while food is exponential\n# Real prices of food are falling worldwide most of the time, in wealthier countries more people are obese than hungry",
    "id": "e71b5cb704d64cda9e32d40ed5a0f49c",
    "idx": 6,
    "time": "2021-02-07T23:32:19.083Z",
    "type": "execution"
   },
   {
    "id": "e71b5cb704d64cda9e32d40ed5a0f49c",
    "time": "2021-02-07T23:32:19.538Z",
    "type": "completion"
   },
   {
    "code": "vars = {\"AG.PRD.LVSK.XD\":\"Livestock index\",\n        \"AG.PRD.FOOD.XD\":\"Food index\",\n        \"AG.PRD.CROP.XD\":\"Crop index\"}\n\nuse = [\"CHN\"]\n\nfood = fix_date_index(wbdata.get_dataframe(vars,country='WLD'))\n\nfood.iplot(xTitle=\"Year\",yTitle=\"Index\")",
    "id": "5b4dbf1a9e5645f29ddaf0501dc779bf",
    "idx": 4,
    "time": "2021-02-07T23:37:02.987Z",
    "type": "execution"
   },
   {
    "id": "5b4dbf1a9e5645f29ddaf0501dc779bf",
    "time": "2021-02-07T23:37:03.694Z",
    "type": "completion"
   },
   {
    "code": "vars = {\"AG.PRD.LVSK.XD\":\"Livestock index\",\n        \"AG.PRD.FOOD.XD\":\"Food index\",\n        \"AG.PRD.CROP.XD\":\"Crop index\"}\n\nfood = fix_date_index(wbdata.get_dataframe(vars,country='WLD'))\n\nfood.iplot(xTitle=\"Year\",yTitle=\"Index\")",
    "id": "153de718a4904f089155eec4b08d0219",
    "idx": 5,
    "time": "2021-02-07T23:37:16.123Z",
    "type": "execution"
   },
   {
    "id": "153de718a4904f089155eec4b08d0219",
    "time": "2021-02-07T23:37:16.455Z",
    "type": "completion"
   },
   {
    "code": "vars = {\"AG.PRD.LVSK.XD\":\"Livestock index\",\n        \"AG.PRD.FOOD.XD\":\"Food index\",\n        \"AG.PRD.CROP.XD\":\"Crop index\"}\n\n\nfood = fix_date_index(wbdata.get_dataframe(vars,country='WLD'))\n\nfood.iplot(xTitle=\"Year\",yTitle=\"Index\")",
    "id": "5b4dbf1a9e5645f29ddaf0501dc779bf",
    "idx": 4,
    "time": "2021-02-07T23:37:36.426Z",
    "type": "execution"
   },
   {
    "id": "5b4dbf1a9e5645f29ddaf0501dc779bf",
    "time": "2021-02-07T23:37:36.749Z",
    "type": "completion"
   },
   {
    "code": "vars = {\"AG.PRD.LVSK.XD\":\"Livestock index\",\n        \"AG.PRD.FOOD.XD\":\"Food index\",\n        \"AG.PRD.CROP.XD\":\"Crop index\"}\n\nfood = fix_date_index(wbdata.get_dataframe(vars,country='WLD'))\n\nfood.iplot(xTitle=\"Year\",yTitle=\"Index\")",
    "id": "5b4dbf1a9e5645f29ddaf0501dc779bf",
    "idx": 4,
    "time": "2021-02-07T23:37:38.896Z",
    "type": "execution"
   },
   {
    "id": "5b4dbf1a9e5645f29ddaf0501dc779bf",
    "time": "2021-02-07T23:37:39.224Z",
    "type": "completion"
   },
   {
    "code": "vars = {\"SP.POP.TOTL\":\"China Population\"}\n\nuse = [\"CHN\"]\n\nfood = fix_date_index(wbdata.get_dataframe(vars,country='WLD'))\n\nfood.sort_index(inplace=True)\n\nfood['Population'] = food['Population']/food.loc[2006,'Population']*100\n\nfood.iplot(xTitle=\"Year\",yTitle=\"Index\")",
    "id": "bcc244b4012d4689b9f7f3ccff0ccefe",
    "idx": 6,
    "time": "2021-02-07T23:39:59.033Z",
    "type": "execution"
   },
   {
    "id": "bcc244b4012d4689b9f7f3ccff0ccefe",
    "time": "2021-02-07T23:39:59.214Z",
    "type": "completion"
   },
   {
    "code": "vars = {\"SP.POP.TOTL\":\"China Population\"}\n\nuse = [\"CHN\"]\n\nfood = fix_date_index(wbdata.get_dataframe(vars,country='WLD'))\n\nfood.sort_index(inplace=True)\n\nfood['China Population'] = food['China Population']/food.loc[2006,'China Population']*100\n\nfood.iplot(xTitle=\"Year\",yTitle=\"Index\")",
    "id": "bcc244b4012d4689b9f7f3ccff0ccefe",
    "idx": 6,
    "time": "2021-02-07T23:40:11.049Z",
    "type": "execution"
   },
   {
    "id": "bcc244b4012d4689b9f7f3ccff0ccefe",
    "time": "2021-02-07T23:40:11.365Z",
    "type": "completion"
   },
   {
    "code": "vars = {\"SP.POP.TOTL\":\"China Population\"}\n\nuse = [\"CHN\"]\n\nfood = fix_date_index(wbdata.get_dataframe(vars,country='CHN'))\n\nfood.sort_index(inplace=True)\n\nfood['China Population'] = food['China Population']/food.loc[2006,'China Population']*100\n\nfood.iplot(xTitle=\"Year\",yTitle=\"Index\")",
    "id": "bcc244b4012d4689b9f7f3ccff0ccefe",
    "idx": 6,
    "time": "2021-02-07T23:40:16.052Z",
    "type": "execution"
   },
   {
    "id": "bcc244b4012d4689b9f7f3ccff0ccefe",
    "time": "2021-02-07T23:40:16.359Z",
    "type": "completion"
   },
   {
    "code": "vars = {\"SP.POP.TOTL\":\"China Population\"}\n\nfood = fix_date_index(wbdata.get_dataframe(vars,country='CHN'))\n\nfood.sort_index(inplace=True)\n\nfood['China Population'] = food['China Population']/food.loc[2006,'China Population']*100\n\nfood.iplot(xTitle=\"Year\",yTitle=\"Index\")",
    "id": "bcc244b4012d4689b9f7f3ccff0ccefe",
    "idx": 6,
    "time": "2021-02-07T23:40:21.389Z",
    "type": "execution"
   },
   {
    "id": "bcc244b4012d4689b9f7f3ccff0ccefe",
    "time": "2021-02-07T23:40:21.860Z",
    "type": "completion"
   },
   {
    "code": "vars = {\"SP.POP.TOTL\":\"China Population\"}\n\nfood = fix_date_index(wbdata.get_dataframe(vars,country='CHN', 'JPN'))\n\nfood.sort_index(inplace=True)\n\nfood['China Population'] = food['China Population']/food.loc[2006,'China Population']*100\n\nfood.iplot(xTitle=\"Year\",yTitle=\"Index\")",
    "id": "bcc244b4012d4689b9f7f3ccff0ccefe",
    "idx": 6,
    "time": "2021-02-07T23:40:53.359Z",
    "type": "execution"
   },
   {
    "id": "bcc244b4012d4689b9f7f3ccff0ccefe",
    "time": "2021-02-07T23:40:53.471Z",
    "type": "completion"
   },
   {
    "code": "vars = {\"SP.POP.TOTL\":\"China Population\"}\n\nfood = fix_date_index(wbdata.get_dataframe(vars,country='CHN'))\n\nfood.sort_index(inplace=True)\n\nfood['China Population'] = food['China Population']/food.loc[2006,'China Population']*100\n\nfood.iplot(xTitle=\"Year\",yTitle=\"Index\")",
    "id": "bcc244b4012d4689b9f7f3ccff0ccefe",
    "idx": 6,
    "time": "2021-02-07T23:40:58.250Z",
    "type": "execution"
   },
   {
    "id": "bcc244b4012d4689b9f7f3ccff0ccefe",
    "time": "2021-02-07T23:40:58.581Z",
    "type": "completion"
   },
   {
    "code": "vars = {\"AG.PRD.LVSK.XD\":\"Livestock index\",\n        \"AG.PRD.FOOD.XD\":\"Food index\",\n        \"AG.PRD.CROP.XD\":\"Crop index\",\n        \"SP.POP.TOTL\":\"Population\"}\n\nfood = fix_date_index(wbdata.get_dataframe(vars,country=use))\n\nfood.sort_index(inplace=True)\n\nfood['Population'] = food['Population']/food.loc[2006,'Population']*100\n\nfood.iplot(xTitle=\"Year\",yTitle=\"Index\")\n\n# This is opposite from Malthus' graphs, population is linear while food is exponential\n# Real prices of food are falling worldwide most of the time, in wealthier countries more people are obese than hungry",
    "id": "e71b5cb704d64cda9e32d40ed5a0f49c",
    "idx": 5,
    "time": "2021-02-07T23:41:51.542Z",
    "type": "execution"
   },
   {
    "id": "e71b5cb704d64cda9e32d40ed5a0f49c",
    "time": "2021-02-07T23:41:52.320Z",
    "type": "completion"
   },
   {
    "code": "vars = {\"AG.PRD.LVSK.XD\":\"Livestock index\",\n        \"AG.PRD.FOOD.XD\":\"Food index\",\n        \"AG.PRD.CROP.XD\":\"Crop index\",\n        \"SP.POP.TOTL\":\"Population\"}\n\nfood = fix_date_index(wbdata.get_dataframe(vars,country='WLD'))\n\nfood.sort_index(inplace=True)\n\nfood['Population'] = food['Population']/food.loc[2006,'Population']*100\n\nfood.iplot(xTitle=\"Year\",yTitle=\"Index\")\n\n# This is opposite from Malthus' graphs, population is linear while food is exponential\n# Real prices of food are falling worldwide most of the time, in wealthier countries more people are obese than hungry",
    "id": "e71b5cb704d64cda9e32d40ed5a0f49c",
    "idx": 5,
    "time": "2021-02-07T23:42:04.675Z",
    "type": "execution"
   },
   {
    "id": "e71b5cb704d64cda9e32d40ed5a0f49c",
    "time": "2021-02-07T23:42:05.023Z",
    "type": "completion"
   },
   {
    "code": "vars = {\"SP.POP.TOTL\":\"Population\"}\n\nuse = ['CHN', 'JPN']\n\nfood = fix_date_index(wbdata.get_dataframe(vars,country=use))\n\nfood.sort_index(inplace=True)\n\nfood['Population'] = food['Population']/food.loc[2006,'\n                                                'Population']*100\n\nfood.iplot(xTitle=\"Year\",yTitle=\"Index\")",
    "id": "bcc244b4012d4689b9f7f3ccff0ccefe",
    "idx": 6,
    "time": "2021-02-07T23:42:22.551Z",
    "type": "execution"
   },
   {
    "id": "bcc244b4012d4689b9f7f3ccff0ccefe",
    "time": "2021-02-07T23:42:22.663Z",
    "type": "completion"
   },
   {
    "code": "vars = {\"SP.POP.TOTL\":\"Population\"}\n\nuse = ['CHN', 'JPN']\n\nfood = fix_date_index(wbdata.get_dataframe(vars,country=use))\n\nfood.sort_index(inplace=True)\n\nfood['Population'] = food['Population']/food.loc[2006,'Population']*100\n\nfood.iplot(xTitle=\"Year\",yTitle=\"Index\")",
    "id": "bcc244b4012d4689b9f7f3ccff0ccefe",
    "idx": 6,
    "time": "2021-02-07T23:42:27.903Z",
    "type": "execution"
   },
   {
    "id": "bcc244b4012d4689b9f7f3ccff0ccefe",
    "time": "2021-02-07T23:42:28.616Z",
    "type": "completion"
   },
   {
    "code": "vars = {\"SP.POP.TOTL\":\"Population\"}\n\nuse = ['CHN', 'JPN']\n\nfood = fix_date_index(wbdata.get_dataframe(vars,country=use))\n\nfood.sort_index(inplace=True)\n\n#food['Population'] = food['Population']/food.loc[2006,'Population']*100\n\nfood.iplot(xTitle=\"Year\",yTitle=\"Index\")",
    "id": "bcc244b4012d4689b9f7f3ccff0ccefe",
    "idx": 6,
    "time": "2021-02-07T23:42:46.026Z",
    "type": "execution"
   },
   {
    "id": "bcc244b4012d4689b9f7f3ccff0ccefe",
    "time": "2021-02-07T23:42:46.349Z",
    "type": "completion"
   },
   {
    "code": "vars = {\"SP.POP.TOTL\":\"Population\"}\n\nuse = ['CHN', 'JPN']\n\nfood = fix_date_index(wbdata.get_dataframe(vars,country=use))\n\nfood.sort_index(inplace=True)\n\nfood['Population'] = food['Population']/food.loc[2006,'Population']*100\n\nfood.iplot(xTitle=\"Year\",yTitle=\"Index\")",
    "id": "bcc244b4012d4689b9f7f3ccff0ccefe",
    "idx": 6,
    "time": "2021-02-07T23:43:11.214Z",
    "type": "execution"
   },
   {
    "id": "bcc244b4012d4689b9f7f3ccff0ccefe",
    "time": "2021-02-07T23:43:11.478Z",
    "type": "completion"
   },
   {
    "code": "vars = {\"SP.POP.TOTL\":\"Population\"}\n\n# Use this to find top producers:\n#big_producers = cereals.query('date==2000').squeeze().sort_values(ascending=False)\n#big_producers.head(20)\n\nuse=[\"CHN\",\"IND\",\"JPN\",\"ITA\",\"RUS\"]\n\npop = fix_date_index(wbdata.get_dataframe(vars,country=use)).squeeze().unstack('country')\n\npop.iplot(xTitle=\"Year\",yTitle=\"Metric Tons\",\n              title=\"Population of China, India, Italy, Japan, Russia\")",
    "id": "c609b0348b714f969f9e2e00bbd31936",
    "idx": 4,
    "time": "2021-02-07T23:44:49.290Z",
    "type": "execution"
   },
   {
    "id": "c609b0348b714f969f9e2e00bbd31936",
    "time": "2021-02-07T23:44:50.639Z",
    "type": "completion"
   },
   {
    "code": "vars = {\"SP.POP.TOTL\":\"Population\"}\n\n# Use this to find top producers:\n#big_producers = cereals.query('date==2000').squeeze().sort_values(ascending=False)\n#big_producers.head(20)\n\nuse=[\"CHN\",\"IND\",\"JPN\",\"ITA\",\"RUS\"]\n\npop = fix_date_index(wbdata.get_dataframe(vars,country=use)).squeeze().unstack('country')\n\npop.iplot(xTitle=\"Year\",yTitle=\"Population (billions)\",\n              title=\"Population of China, India, Italy, Japan, Russia\")",
    "id": "c609b0348b714f969f9e2e00bbd31936",
    "idx": 4,
    "time": "2021-02-07T23:45:25.131Z",
    "type": "execution"
   },
   {
    "id": "c609b0348b714f969f9e2e00bbd31936",
    "time": "2021-02-07T23:45:25.475Z",
    "type": "completion"
   },
   {
    "code": "vars = {\"AG.PRD.LVSK.XD\":\"Livestock index\",\n        \"AG.PRD.FOOD.XD\":\"Food index\",\n        \"AG.PRD.CROP.XD\":\"Crop index\"}\nuse = 'CHN'\nfood = fix_date_index(wbdata.get_dataframe(vars,country=use))\n\nfood.iplot(xTitle=\"Year\",yTitle=\"Index\")",
    "id": "5b4dbf1a9e5645f29ddaf0501dc779bf",
    "idx": 5,
    "time": "2021-02-08T00:02:03.686Z",
    "type": "execution"
   },
   {
    "id": "5b4dbf1a9e5645f29ddaf0501dc779bf",
    "time": "2021-02-08T00:02:04.515Z",
    "type": "completion"
   },
   {
    "code": "vars = {\"AG.PRD.LVSK.XD\":\"Livestock index\",\n        \"AG.PRD.FOOD.XD\":\"Food index\",\n        \"AG.PRD.CROP.XD\":\"Crop index\"}\nfood = fix_date_index(wbdata.get_dataframe(vars,country='WRL'))\n\nfood.iplot(xTitle=\"Year\",yTitle=\"Index\")",
    "id": "e1e965ed7abb4b498f3fb61cc1e2d6d4",
    "idx": 6,
    "time": "2021-02-08T00:02:23.818Z",
    "type": "execution"
   },
   {
    "id": "e1e965ed7abb4b498f3fb61cc1e2d6d4",
    "time": "2021-02-08T00:02:24.368Z",
    "type": "completion"
   },
   {
    "code": "vars = {\"AG.PRD.LVSK.XD\":\"Livestock index\",\n        \"AG.PRD.FOOD.XD\":\"Food index\",\n        \"AG.PRD.CROP.XD\":\"Crop index\"}\nfood = fix_date_index(wbdata.get_dataframe(vars,country='WRD'))\n\nfood.iplot(xTitle=\"Year\",yTitle=\"Index\")",
    "id": "e1e965ed7abb4b498f3fb61cc1e2d6d4",
    "idx": 6,
    "time": "2021-02-08T00:02:26.599Z",
    "type": "execution"
   },
   {
    "id": "e1e965ed7abb4b498f3fb61cc1e2d6d4",
    "time": "2021-02-08T00:02:27.025Z",
    "type": "completion"
   },
   {
    "code": "vars = {\"AG.PRD.LVSK.XD\":\"Livestock index\",\n        \"AG.PRD.FOOD.XD\":\"Food index\",\n        \"AG.PRD.CROP.XD\":\"Crop index\"}\nfood = fix_date_index(wbdata.get_dataframe(vars,country='WLD'))\n\nfood.iplot(xTitle=\"Year\",yTitle=\"Index\")",
    "id": "e1e965ed7abb4b498f3fb61cc1e2d6d4",
    "idx": 6,
    "time": "2021-02-08T00:02:39.948Z",
    "type": "execution"
   },
   {
    "id": "e1e965ed7abb4b498f3fb61cc1e2d6d4",
    "time": "2021-02-08T00:02:40.299Z",
    "type": "completion"
   },
   {
    "code": "vars = {\"AG.PRD.LVSK.XD\":\"Livestock index\",\n        \"AG.PRD.FOOD.XD\":\"Food index\",\n        \"AG.PRD.CROP.XD\":\"Crop index\"}\nuse = 'JPN'\nfood = fix_date_index(wbdata.get_dataframe(vars,country=use))\n\nfood.iplot(xTitle=\"Year\",yTitle=\"Index\")",
    "id": "9293c3ae353a433989ffc9a4eaeece1f",
    "idx": 6,
    "time": "2021-02-08T00:03:16.059Z",
    "type": "execution"
   },
   {
    "id": "9293c3ae353a433989ffc9a4eaeece1f",
    "time": "2021-02-08T00:03:18.239Z",
    "type": "completion"
   },
   {
    "code": "vars = {\"AG.PRD.LVSK.XD\":\"Livestock index\",\n        \"AG.PRD.FOOD.XD\":\"Food index\",\n        \"AG.PRD.CROP.XD\":\"Crop index\"}\nuse = 'IND'\nfood = fix_date_index(wbdata.get_dataframe(vars,country=use))\n\nfood.iplot(xTitle=\"Year\",yTitle=\"Index\")",
    "id": "42adfa86e97a47418c97c22b30eaf990",
    "idx": 7,
    "time": "2021-02-08T00:03:44.644Z",
    "type": "execution"
   },
   {
    "id": "42adfa86e97a47418c97c22b30eaf990",
    "time": "2021-02-08T00:03:48.599Z",
    "type": "completion"
   },
   {
    "code": "vars = {\"AG.PRD.LVSK.XD\":\"Livestock index\",\n        \"AG.PRD.FOOD.XD\":\"Food index\",\n        \"AG.PRD.CROP.XD\":\"Crop index\"}\nuse = 'RUS'\nfood = fix_date_index(wbdata.get_dataframe(vars,country=use))\n\nfood.iplot(xTitle=\"Year\",yTitle=\"Index\")",
    "id": "f5c1b30decc64d2db905481ed57b07bf",
    "idx": 8,
    "time": "2021-02-08T00:03:49.455Z",
    "type": "execution"
   },
   {
    "id": "f5c1b30decc64d2db905481ed57b07bf",
    "time": "2021-02-08T00:03:50.520Z",
    "type": "completion"
   },
   {
    "code": "vars = {\"AG.PRD.LVSK.XD\":\"Livestock index\",\n        \"AG.PRD.FOOD.XD\":\"Food index\",\n        \"AG.PRD.CROP.XD\":\"Crop index\"}\nuse = 'IND'\nfood = fix_date_index(wbdata.get_dataframe(vars,country=use))\n\nfood.iplot(xTitle=\"Year\",yTitle=\"Index\")",
    "id": "6718305388ce4dfe8ee665715edca852",
    "idx": 9,
    "time": "2021-02-08T00:03:56.475Z",
    "type": "execution"
   },
   {
    "id": "6718305388ce4dfe8ee665715edca852",
    "time": "2021-02-08T00:03:56.813Z",
    "type": "completion"
   },
   {
    "code": "vars = {\"SP.POP.TOTL\":\"Population\"}\n\nuse = ['CHN']\n\nfood = fix_date_index(wbdata.get_dataframe(vars,country=use))\n\nfood.sort_index(inplace=True)\n\nfood['Population'] = food['Population']/food.loc[2006,'Population']*100\n\nfood.iplot(xTitle=\"Year\",yTitle=\"Index\")",
    "id": "bcc244b4012d4689b9f7f3ccff0ccefe",
    "idx": 12,
    "time": "2021-02-08T00:04:35.367Z",
    "type": "execution"
   },
   {
    "id": "bcc244b4012d4689b9f7f3ccff0ccefe",
    "time": "2021-02-08T00:04:35.926Z",
    "type": "completion"
   },
   {
    "code": "vars = {\"AG.PRD.LVSK.XD\":\"Livestock index\",\n        \"AG.PRD.FOOD.XD\":\"Food index\",\n        \"AG.PRD.CROP.XD\":\"Crop index\",\n        \"SP.POP.TOTL\":\"Population\"}\n\nuse = ['CHN']\n\nfood = fix_date_index(wbdata.get_dataframe(vars,country=use))\n\nfood.sort_index(inplace=True)\n\nfood['Population'] = food['Population']/food.loc[2006,'Population']*100\n\nfood.iplot(xTitle=\"Year\",yTitle=\"Index\")",
    "id": "bcc244b4012d4689b9f7f3ccff0ccefe",
    "idx": 12,
    "time": "2021-02-08T00:04:45.535Z",
    "type": "execution"
   },
   {
    "id": "bcc244b4012d4689b9f7f3ccff0ccefe",
    "time": "2021-02-08T00:04:45.902Z",
    "type": "completion"
   },
   {
    "code": "np.log(food).diff().iplot(xTitle=\"Year\",yTitle=\"Growth rates\")\n# The growth in the beginning is recovery from China's Great Leap Forward\n# Global growth rate has fallen steadily since the early 60s to present\n# Much more variation in how much food production moves around, mostly due to natural shocks",
    "id": "a98e27b15afb431a8264e4fb52fefefe",
    "idx": 13,
    "time": "2021-02-08T00:04:53.122Z",
    "type": "execution"
   },
   {
    "id": "a98e27b15afb431a8264e4fb52fefefe",
    "time": "2021-02-08T00:04:53.468Z",
    "type": "completion"
   },
   {
    "code": "vars = {\"AG.PRD.LVSK.XD\":\"Livestock index\",\n        \"AG.PRD.FOOD.XD\":\"Food index\",\n        \"AG.PRD.CROP.XD\":\"Crop index\",\n        \"SP.POP.TOTL\":\"Population\"}\n\nuse = ['IND']\n\nfood = fix_date_index(wbdata.get_dataframe(vars,country=use))\n\nfood.sort_index(inplace=True)\n\nfood['Population'] = food['Population']/food.loc[2006,'Population']*100\n\nfood.iplot(xTitle=\"Year\",yTitle=\"Index\")",
    "id": "058495cf2b8f47cebbe891b31fb4f22f",
    "idx": 13,
    "time": "2021-02-08T00:05:16.560Z",
    "type": "execution"
   },
   {
    "id": "058495cf2b8f47cebbe891b31fb4f22f",
    "time": "2021-02-08T00:05:17.183Z",
    "type": "completion"
   },
   {
    "code": "vars = {\"AG.PRD.LVSK.XD\":\"Livestock index\",\n        \"AG.PRD.FOOD.XD\":\"Food index\",\n        \"AG.PRD.CROP.XD\":\"Crop index\",\n        \"SP.POP.TOTL\":\"Population\"}\n\nuse = ['JPN']\n\nfood = fix_date_index(wbdata.get_dataframe(vars,country=use))\n\nfood.sort_index(inplace=True)\n\nfood['Population'] = food['Population']/food.loc[2006,'Population']*100\n\nfood.iplot(xTitle=\"Year\",yTitle=\"Index\")",
    "id": "c7731082060d4ea28b86b97f4cb0c557",
    "idx": 14,
    "time": "2021-02-08T00:05:21.617Z",
    "type": "execution"
   },
   {
    "id": "c7731082060d4ea28b86b97f4cb0c557",
    "time": "2021-02-08T00:05:22.479Z",
    "type": "completion"
   },
   {
    "code": "vars = {\"AG.PRD.LVSK.XD\":\"Livestock index\",\n        \"AG.PRD.FOOD.XD\":\"Food index\",\n        \"AG.PRD.CROP.XD\":\"Crop index\",\n        \"SP.POP.TOTL\":\"Population\"}\n\nuse = ['ITA']\n\nfood = fix_date_index(wbdata.get_dataframe(vars,country=use))\n\nfood.sort_index(inplace=True)\n\nfood['Population'] = food['Population']/food.loc[2006,'Population']*100\n\nfood.iplot(xTitle=\"Year\",yTitle=\"Index\")",
    "id": "aedf96e71a5c463d9e74b1a1fbc7dbda",
    "idx": 15,
    "time": "2021-02-08T00:05:40.794Z",
    "type": "execution"
   },
   {
    "id": "aedf96e71a5c463d9e74b1a1fbc7dbda",
    "time": "2021-02-08T00:05:43.372Z",
    "type": "completion"
   },
   {
    "code": "vars = {\"AG.PRD.LVSK.XD\":\"Livestock index\",\n        \"AG.PRD.FOOD.XD\":\"Food index\",\n        \"AG.PRD.CROP.XD\":\"Crop index\",\n        \"SP.POP.TOTL\":\"Population\"}\n\nuse = ['RSU']\n\nfood = fix_date_index(wbdata.get_dataframe(vars,country=use))\n\nfood.sort_index(inplace=True)\n\nfood['Population'] = food['Population']/food.loc[2006,'Population']*100\n\nfood.iplot(xTitle=\"Year\",yTitle=\"Index\")",
    "id": "de8637824dd04725ac0508754cb9f99a",
    "idx": 16,
    "time": "2021-02-08T00:05:43.990Z",
    "type": "execution"
   },
   {
    "id": "de8637824dd04725ac0508754cb9f99a",
    "time": "2021-02-08T00:05:45.084Z",
    "type": "completion"
   },
   {
    "code": "vars = {\"AG.PRD.LVSK.XD\":\"Livestock index\",\n        \"AG.PRD.FOOD.XD\":\"Food index\",\n        \"AG.PRD.CROP.XD\":\"Crop index\",\n        \"SP.POP.TOTL\":\"Population\"}\n\nuse = ['RUS']\n\nfood = fix_date_index(wbdata.get_dataframe(vars,country=use))\n\nfood.sort_index(inplace=True)\n\nfood['Population'] = food['Population']/food.loc[2006,'Population']*100\n\nfood.iplot(xTitle=\"Year\",yTitle=\"Index\")",
    "id": "de8637824dd04725ac0508754cb9f99a",
    "idx": 16,
    "time": "2021-02-08T00:05:47.497Z",
    "type": "execution"
   },
   {
    "id": "de8637824dd04725ac0508754cb9f99a",
    "time": "2021-02-08T00:05:48.081Z",
    "type": "completion"
   },
   {
    "code": "wbdata.search_countries()",
    "id": "c263bec60cb7423d9329e6009f415b83",
    "idx": 1,
    "time": "2021-02-08T00:07:06.558Z",
    "type": "execution"
   },
   {
    "id": "c263bec60cb7423d9329e6009f415b83",
    "time": "2021-02-08T00:07:06.691Z",
    "type": "completion"
   },
   {
    "code": "wbdata.search_countries('WLD')",
    "id": "c263bec60cb7423d9329e6009f415b83",
    "idx": 1,
    "time": "2021-02-08T00:07:13.406Z",
    "type": "execution"
   },
   {
    "id": "c263bec60cb7423d9329e6009f415b83",
    "time": "2021-02-08T00:07:13.543Z",
    "type": "completion"
   },
   {
    "code": "wbdata.search_countries(\"WRD\")",
    "id": "c263bec60cb7423d9329e6009f415b83",
    "idx": 1,
    "time": "2021-02-08T00:07:19.653Z",
    "type": "execution"
   },
   {
    "id": "c263bec60cb7423d9329e6009f415b83",
    "time": "2021-02-08T00:07:19.773Z",
    "type": "completion"
   },
   {
    "code": "wbdata.search_countries('world')",
    "id": "c263bec60cb7423d9329e6009f415b83",
    "idx": 1,
    "time": "2021-02-08T00:07:23.828Z",
    "type": "execution"
   },
   {
    "id": "c263bec60cb7423d9329e6009f415b83",
    "time": "2021-02-08T00:07:23.943Z",
    "type": "completion"
   },
   {
    "code": "wbdata.search_countries('WLD')",
    "id": "c263bec60cb7423d9329e6009f415b83",
    "idx": 1,
    "time": "2021-02-08T00:07:28.055Z",
    "type": "execution"
   },
   {
    "id": "c263bec60cb7423d9329e6009f415b83",
    "time": "2021-02-08T00:07:28.155Z",
    "type": "completion"
   },
   {
    "code": "wbdata.search_countries(\"\")",
    "id": "c263bec60cb7423d9329e6009f415b83",
    "idx": 1,
    "time": "2021-02-08T00:07:32.542Z",
    "type": "execution"
   },
   {
    "id": "c263bec60cb7423d9329e6009f415b83",
    "time": "2021-02-08T00:07:32.686Z",
    "type": "completion"
   },
   {
    "code": "wbdata.search_countries(\"\")",
    "id": "bab8ac9685824b3b84590b07b579a9e7",
    "idx": 1,
    "time": "2021-02-08T00:16:52.814Z",
    "type": "execution"
   },
   {
    "id": "bab8ac9685824b3b84590b07b579a9e7",
    "time": "2021-02-08T00:16:52.953Z",
    "type": "completion"
   },
   {
    "code": "vars = {\"AG.PRD.LVSK.XD\":\"Livestock index\",\n        \"AG.PRD.FOOD.XD\":\"Food index\",\n        \"AG.PRD.CROP.XD\":\"Crop index\"}\nfood = fix_date_index(wbdata.get_dataframe(vars,country='WLD'))\n\nfood.iplot(xTitle=\"Year\",yTitle=\"Index\", title = 'World Indexes')",
    "id": "e1e965ed7abb4b498f3fb61cc1e2d6d4",
    "idx": 6,
    "time": "2021-02-08T01:08:55.953Z",
    "type": "execution"
   },
   {
    "id": "e1e965ed7abb4b498f3fb61cc1e2d6d4",
    "time": "2021-02-08T01:08:56.627Z",
    "type": "completion"
   },
   {
    "code": "vars = {\"AG.PRD.LVSK.XD\":\"Livestock index\",\n        \"AG.PRD.FOOD.XD\":\"Food index\",\n        \"AG.PRD.CROP.XD\":\"Crop index\",\n        \"SP.POP.TOTL\":\"Population\"}\n\nuse = ['CHN']\n\nfood = fix_date_index(wbdata.get_dataframe(vars,country=use))\n\nfood.sort_index(inplace=True)\n\nfood['Population'] = food['Population']/food.loc[2006,'Population']*100\n\nfood.iplot(xTitle=\"Year\",yTitle=\"Index\", title=\"China\")",
    "id": "bcc244b4012d4689b9f7f3ccff0ccefe",
    "idx": 8,
    "time": "2021-02-08T01:49:52.147Z",
    "type": "execution"
   },
   {
    "id": "bcc244b4012d4689b9f7f3ccff0ccefe",
    "time": "2021-02-08T01:49:52.740Z",
    "type": "completion"
   },
   {
    "code": "vars = {\"AG.PRD.LVSK.XD\":\"Livestock index\",\n        \"AG.PRD.FOOD.XD\":\"Food index\",\n        \"AG.PRD.CROP.XD\":\"Crop index\",\n        \"SP.POP.TOTL\":\"Population\"}\n\nuse = ['IND']\n\nfood = fix_date_index(wbdata.get_dataframe(vars,country=use))\n\nfood.sort_index(inplace=True)\n\nfood['Population'] = food['Population']/food.loc[2006,'Population']*100\n\nfood.iplot(xTitle=\"Year\",yTitle=\"Index\", title = \"India\")",
    "id": "058495cf2b8f47cebbe891b31fb4f22f",
    "idx": 9,
    "time": "2021-02-08T01:49:59.529Z",
    "type": "execution"
   },
   {
    "id": "058495cf2b8f47cebbe891b31fb4f22f",
    "time": "2021-02-08T01:50:01.279Z",
    "type": "completion"
   },
   {
    "code": "vars = {\"AG.PRD.LVSK.XD\":\"Livestock index\",\n        \"AG.PRD.FOOD.XD\":\"Food index\",\n        \"AG.PRD.CROP.XD\":\"Crop index\",\n        \"SP.POP.TOTL\":\"Population\"}\n\nuse = ['JPN']\n\nfood = fix_date_index(wbdata.get_dataframe(vars,country=use))\n\nfood.sort_index(inplace=True)\n\nfood['Population'] = food['Population']/food.loc[2006,'Population']*100\n\nfood.iplot(xTitle=\"Year\",yTitle=\"Index\", title = \"Japan\")",
    "id": "c7731082060d4ea28b86b97f4cb0c557",
    "idx": 10,
    "time": "2021-02-08T01:50:07.753Z",
    "type": "execution"
   },
   {
    "id": "c7731082060d4ea28b86b97f4cb0c557",
    "time": "2021-02-08T01:50:08.121Z",
    "type": "completion"
   },
   {
    "code": "vars = {\"AG.PRD.LVSK.XD\":\"Livestock index\",\n        \"AG.PRD.FOOD.XD\":\"Food index\",\n        \"AG.PRD.CROP.XD\":\"Crop index\",\n        \"SP.POP.TOTL\":\"Population\"}\n\nuse = ['ITA']\n\nfood = fix_date_index(wbdata.get_dataframe(vars,country=use))\n\nfood.sort_index(inplace=True)\n\nfood['Population'] = food['Population']/food.loc[2006,'Population']*100\n\nfood.iplot(xTitle=\"Year\",yTitle=\"Index\", title = \"Italy\")",
    "id": "aedf96e71a5c463d9e74b1a1fbc7dbda",
    "idx": 11,
    "time": "2021-02-08T01:50:15.672Z",
    "type": "execution"
   },
   {
    "id": "aedf96e71a5c463d9e74b1a1fbc7dbda",
    "time": "2021-02-08T01:50:16.098Z",
    "type": "completion"
   },
   {
    "code": "vars = {\"AG.PRD.LVSK.XD\":\"Livestock index\",\n        \"AG.PRD.FOOD.XD\":\"Food index\",\n        \"AG.PRD.CROP.XD\":\"Crop index\",\n        \"SP.POP.TOTL\":\"Population\"}\n\nuse = ['RUS']\n\nfood = fix_date_index(wbdata.get_dataframe(vars,country=use))\n\nfood.sort_index(inplace=True)\n\nfood['Population'] = food['Population']/food.loc[2006,'Population']*100\n\nfood.iplot(xTitle=\"Year\",yTitle=\"Index\", title = 'Russia')",
    "id": "de8637824dd04725ac0508754cb9f99a",
    "idx": 12,
    "time": "2021-02-08T01:50:22.637Z",
    "type": "execution"
   },
   {
    "id": "de8637824dd04725ac0508754cb9f99a",
    "time": "2021-02-08T01:50:23.017Z",
    "type": "completion"
   },
   {
    "code": "np.log(food).diff().iplot(xTitle=\"Year\",yTitle=\"Growth rates\")\n# The growth in the beginning is recovery from China's Great Leap Forward\n# Global growth rate has fallen steadily since the early 60s to present\n# Much more variation in how much food production moves around, mostly due to natural shocks",
    "id": "a98e27b15afb431a8264e4fb52fefefe",
    "idx": 13,
    "time": "2021-02-08T01:50:46.520Z",
    "type": "execution"
   },
   {
    "id": "a98e27b15afb431a8264e4fb52fefefe",
    "time": "2021-02-08T01:50:47.027Z",
    "type": "completion"
   },
   {
    "code": "np.log(food).diff().iplot(xTitle=\"Year\",yTitle=\"Growth rates\")\n# The growth in the beginning is recovery from China's Great Leap Forward\n# Global growth rate has fallen steadily since the early 60s to present\n# Much more variation in how much food production moves around, mostly due to natural shocks",
    "id": "bb053bbbc48642e589e00643d98f1d83",
    "idx": 13,
    "time": "2021-02-08T01:51:06.911Z",
    "type": "execution"
   },
   {
    "id": "bb053bbbc48642e589e00643d98f1d83",
    "time": "2021-02-08T01:51:07.311Z",
    "type": "completion"
   },
   {
    "code": "np.log(food).diff().iplot(xTitle=\"Year\",yTitle=\"Growth rates\")",
    "id": "bb053bbbc48642e589e00643d98f1d83",
    "idx": 13,
    "time": "2021-02-08T01:51:13.437Z",
    "type": "execution"
   },
   {
    "id": "bb053bbbc48642e589e00643d98f1d83",
    "time": "2021-02-08T01:51:13.777Z",
    "type": "completion"
   },
   {
    "code": "np.log(food).diff().iplot(xTitle=\"Year\",yTitle=\"Growth rates\")",
    "id": "1cadf5ce6c1947c4a331d2897fc416bc",
    "idx": 12,
    "time": "2021-02-08T01:51:26.401Z",
    "type": "execution"
   },
   {
    "id": "1cadf5ce6c1947c4a331d2897fc416bc",
    "time": "2021-02-08T01:51:26.728Z",
    "type": "completion"
   },
   {
    "code": "vars = {\"AG.PRD.LVSK.XD\":\"Livestock index\",\n        \"AG.PRD.FOOD.XD\":\"Food index\",\n        \"AG.PRD.CROP.XD\":\"Crop index\",\n        \"SP.POP.TOTL\":\"Population\"}\n\nuse = ['ITA']\n\nfood = fix_date_index(wbdata.get_dataframe(vars,country=use))\n\nfood.sort_index(inplace=True)\n\nfood['Population'] = food['Population']/food.loc[2006,'Population']*100\n\nfood.iplot(xTitle=\"Year\",yTitle=\"Index\", title = \"Italy\")",
    "id": "aedf96e71a5c463d9e74b1a1fbc7dbda",
    "idx": 11,
    "time": "2021-02-08T01:51:30.874Z",
    "type": "execution"
   },
   {
    "id": "aedf96e71a5c463d9e74b1a1fbc7dbda",
    "time": "2021-02-08T01:51:31.231Z",
    "type": "completion"
   },
   {
    "code": "np.log(food).diff().iplot(xTitle=\"Year\",yTitle=\"Growth rates\")",
    "id": "1cadf5ce6c1947c4a331d2897fc416bc",
    "idx": 12,
    "time": "2021-02-08T01:51:33.469Z",
    "type": "execution"
   },
   {
    "id": "1cadf5ce6c1947c4a331d2897fc416bc",
    "time": "2021-02-08T01:51:33.801Z",
    "type": "completion"
   },
   {
    "code": "China",
    "id": "30bf5b5cc13b45699c932f5e8becb6ce",
    "idx": 9,
    "time": "2021-02-08T01:53:02.625Z",
    "type": "execution"
   },
   {
    "id": "30bf5b5cc13b45699c932f5e8becb6ce",
    "time": "2021-02-08T01:53:02.803Z",
    "type": "completion"
   },
   {
    "code": "vars = {\"AG.PRD.LVSK.XD\":\"Livestock index\",\n        \"AG.PRD.FOOD.XD\":\"Food index\",\n        \"AG.PRD.CROP.XD\":\"Crop index\",\n        \"SP.POP.TOTL\":\"Population\"}\n\nuse = ['CHN']\n\nfood = fix_date_index(wbdata.get_dataframe(vars,country=use))\n\nfood.sort_index(inplace=True)\n\nfood['Population'] = food['Population']/food.loc[2006,'Population']*100\n\nfood.iplot(xTitle=\"Year\",yTitle=\"Index\", title=\"China\")",
    "id": "6b2d55e5d203457699cf557af679486f",
    "idx": 10,
    "time": "2021-02-08T01:53:16.738Z",
    "type": "execution"
   },
   {
    "id": "6b2d55e5d203457699cf557af679486f",
    "time": "2021-02-08T01:53:17.219Z",
    "type": "completion"
   },
   {
    "code": "np.log(food).diff().iplot(xTitle=\"Year\",yTitle=\"Growth rates\")",
    "id": "3a2bb8c639534d908d79e8564c3d394b",
    "idx": 11,
    "time": "2021-02-08T01:53:33.780Z",
    "type": "execution"
   },
   {
    "id": "3a2bb8c639534d908d79e8564c3d394b",
    "time": "2021-02-08T01:53:34.139Z",
    "type": "completion"
   },
   {
    "code": "vars = {\"AG.PRD.LVSK.XD\":\"Livestock index\",\n        \"AG.PRD.FOOD.XD\":\"Food index\",\n        \"AG.PRD.CROP.XD\":\"Crop index\",\n        \"SP.POP.TOTL\":\"Population\"}\n\nuse = ['IND']\n\nfood = fix_date_index(wbdata.get_dataframe(vars,country=use))\n\nfood.sort_index(inplace=True)\n\nfood['Population'] = food['Population']/food.loc[2006,'Population']*100\n\nfood.iplot(xTitle=\"Year\",yTitle=\"Index\", title = \"India\")",
    "id": "058495cf2b8f47cebbe891b31fb4f22f",
    "idx": 12,
    "time": "2021-02-08T01:53:51.424Z",
    "type": "execution"
   },
   {
    "id": "058495cf2b8f47cebbe891b31fb4f22f",
    "time": "2021-02-08T01:53:51.783Z",
    "type": "completion"
   },
   {
    "code": "np.log(food).diff().iplot(xTitle=\"Year\",yTitle=\"Growth rates\")",
    "id": "b59b642264254ef6800ce6c9a083e6aa",
    "idx": 13,
    "time": "2021-02-08T01:53:56.751Z",
    "type": "execution"
   },
   {
    "id": "b59b642264254ef6800ce6c9a083e6aa",
    "time": "2021-02-08T01:53:57.081Z",
    "type": "completion"
   },
   {
    "code": "vars = {\"AG.PRD.LVSK.XD\":\"Livestock index\",\n        \"AG.PRD.FOOD.XD\":\"Food index\",\n        \"AG.PRD.CROP.XD\":\"Crop index\",\n        \"SP.POP.TOTL\":\"Population\"}\n\nuse = ['JPN']\n\nfood = fix_date_index(wbdata.get_dataframe(vars,country=use))\n\nfood.sort_index(inplace=True)\n\nfood['Population'] = food['Population']/food.loc[2006,'Population']*100\n\nfood.iplot(xTitle=\"Year\",yTitle=\"Index\", title = \"Japan\")",
    "id": "c7731082060d4ea28b86b97f4cb0c557",
    "idx": 14,
    "time": "2021-02-08T01:54:06.825Z",
    "type": "execution"
   },
   {
    "id": "c7731082060d4ea28b86b97f4cb0c557",
    "time": "2021-02-08T01:54:07.287Z",
    "type": "completion"
   },
   {
    "code": "np.log(food).diff().iplot(xTitle=\"Year\",yTitle=\"Growth rates\")",
    "id": "bb548d07fb194d27b90b05583f8613ba",
    "idx": 15,
    "time": "2021-02-08T01:54:09.713Z",
    "type": "execution"
   },
   {
    "id": "bb548d07fb194d27b90b05583f8613ba",
    "time": "2021-02-08T01:54:10.461Z",
    "type": "completion"
   },
   {
    "code": "np.log(food).diff().iplot(xTitle=\"Year\",yTitle=\"Growth rates\", title = 'India Growth Rates')",
    "id": "b59b642264254ef6800ce6c9a083e6aa",
    "idx": 13,
    "time": "2021-02-08T01:58:30.584Z",
    "type": "execution"
   },
   {
    "id": "b59b642264254ef6800ce6c9a083e6aa",
    "time": "2021-02-08T01:58:31.065Z",
    "type": "completion"
   },
   {
    "code": "np.log(food).diff().iplot(xTitle=\"Year\",yTitle=\"Growth rates\", title = 'China Growth Rates')",
    "id": "3a2bb8c639534d908d79e8564c3d394b",
    "idx": 10,
    "time": "2021-02-08T01:58:38.678Z",
    "type": "execution"
   },
   {
    "id": "3a2bb8c639534d908d79e8564c3d394b",
    "time": "2021-02-08T01:58:40.025Z",
    "type": "completion"
   },
   {
    "code": "vars = {\"AG.PRD.LVSK.XD\":\"Livestock index\",\n        \"AG.PRD.FOOD.XD\":\"Food index\",\n        \"AG.PRD.CROP.XD\":\"Crop index\",\n        \"SP.POP.TOTL\":\"Population\"}\n\nuse = ['CHN']\n\nfood = fix_date_index(wbdata.get_dataframe(vars,country=use))\n\nfood.sort_index(inplace=True)\n\nfood['Population'] = food['Population']/food.loc[2006,'Population']*100\n\nfood.iplot(xTitle=\"Year\",yTitle=\"Index\", title=\"China\")",
    "id": "6b2d55e5d203457699cf557af679486f",
    "idx": 9,
    "time": "2021-02-08T01:58:47.035Z",
    "type": "execution"
   },
   {
    "id": "6b2d55e5d203457699cf557af679486f",
    "time": "2021-02-08T01:58:47.487Z",
    "type": "completion"
   },
   {
    "code": "np.log(food).diff().iplot(xTitle=\"Year\",yTitle=\"Growth rates\", title = 'China Growth Rates')",
    "id": "3a2bb8c639534d908d79e8564c3d394b",
    "idx": 10,
    "time": "2021-02-08T01:58:49.707Z",
    "type": "execution"
   },
   {
    "id": "3a2bb8c639534d908d79e8564c3d394b",
    "time": "2021-02-08T01:58:50.248Z",
    "type": "completion"
   },
   {
    "code": "vars = {\"AG.PRD.LVSK.XD\":\"Livestock index\",\n        \"AG.PRD.FOOD.XD\":\"Food index\",\n        \"AG.PRD.CROP.XD\":\"Crop index\",\n        \"SP.POP.TOTL\":\"Population\"}\n\nuse = ['IND']\n\nfood = fix_date_index(wbdata.get_dataframe(vars,country=use))\n\nfood.sort_index(inplace=True)\n\nfood['Population'] = food['Population']/food.loc[2006,'Population']*100\n\nfood.iplot(xTitle=\"Year\",yTitle=\"Index\", title = \"India\")",
    "id": "058495cf2b8f47cebbe891b31fb4f22f",
    "idx": 12,
    "time": "2021-02-08T01:58:54.643Z",
    "type": "execution"
   },
   {
    "id": "058495cf2b8f47cebbe891b31fb4f22f",
    "time": "2021-02-08T01:58:55.700Z",
    "type": "completion"
   },
   {
    "code": "np.log(food).diff().iplot(xTitle=\"Year\",yTitle=\"Growth rates\", title = 'India Growth Rates')",
    "id": "b59b642264254ef6800ce6c9a083e6aa",
    "idx": 13,
    "time": "2021-02-08T01:58:58.024Z",
    "type": "execution"
   },
   {
    "id": "b59b642264254ef6800ce6c9a083e6aa",
    "time": "2021-02-08T01:58:58.617Z",
    "type": "completion"
   },
   {
    "code": "vars = {\"AG.PRD.LVSK.XD\":\"Livestock index\",\n        \"AG.PRD.FOOD.XD\":\"Food index\",\n        \"AG.PRD.CROP.XD\":\"Crop index\",\n        \"SP.POP.TOTL\":\"Population\"}\n\nuse = ['JPN']\n\nfood = fix_date_index(wbdata.get_dataframe(vars,country=use))\n\nfood.sort_index(inplace=True)\n\nfood['Population'] = food['Population']/food.loc[2006,'Population']*100\n\nfood.iplot(xTitle=\"Year\",yTitle=\"Index\", title = \"Japan\")",
    "id": "c7731082060d4ea28b86b97f4cb0c557",
    "idx": 15,
    "time": "2021-02-08T01:59:02.332Z",
    "type": "execution"
   },
   {
    "id": "c7731082060d4ea28b86b97f4cb0c557",
    "time": "2021-02-08T01:59:03.148Z",
    "type": "completion"
   },
   {
    "code": "np.log(food).diff().iplot(xTitle=\"Year\",yTitle=\"Growth rates\", title = 'Japan Growth Rates')",
    "id": "bb548d07fb194d27b90b05583f8613ba",
    "idx": 16,
    "time": "2021-02-08T01:59:11.586Z",
    "type": "execution"
   },
   {
    "id": "bb548d07fb194d27b90b05583f8613ba",
    "time": "2021-02-08T01:59:12.158Z",
    "type": "completion"
   },
   {
    "code": "vars = {\"AG.PRD.LVSK.XD\":\"Livestock index\",\n        \"AG.PRD.FOOD.XD\":\"Food index\",\n        \"AG.PRD.CROP.XD\":\"Crop index\",\n        \"SP.POP.TOTL\":\"Population\"}\n\nuse = ['JPN']\n\nfood = fix_date_index(wbdata.get_dataframe(vars,country=use))\n\nfood.sort_index(inplace=True)\n\nfood['Population'] = food['Population']/food.loc[2006,'Population']*100\n\nfood.iplot(xTitle=\"Year\",yTitle=\"Index\", title = \"Japan\")",
    "id": "c7731082060d4ea28b86b97f4cb0c557",
    "idx": 15,
    "time": "2021-02-08T01:59:14.997Z",
    "type": "execution"
   },
   {
    "id": "c7731082060d4ea28b86b97f4cb0c557",
    "time": "2021-02-08T01:59:18.385Z",
    "type": "completion"
   },
   {
    "code": "np.log(food).diff().iplot(xTitle=\"Year\",yTitle=\"Growth rates\", title = 'Japan Growth Rates')",
    "id": "bb548d07fb194d27b90b05583f8613ba",
    "idx": 16,
    "time": "2021-02-08T01:59:21.631Z",
    "type": "execution"
   },
   {
    "id": "bb548d07fb194d27b90b05583f8613ba",
    "time": "2021-02-08T01:59:22.143Z",
    "type": "completion"
   },
   {
    "code": "vars = {\"AG.PRD.LVSK.XD\":\"Livestock index\",\n        \"AG.PRD.FOOD.XD\":\"Food index\",\n        \"AG.PRD.CROP.XD\":\"Crop index\",\n        \"SP.POP.TOTL\":\"Population\"}\n\nuse = ['ITA']\n\nfood = fix_date_index(wbdata.get_dataframe(vars,country=use))\n\nfood.sort_index(inplace=True)\n\nfood['Population'] = food['Population']/food.loc[2006,'Population']*100\n\nfood.iplot(xTitle=\"Year\",yTitle=\"Index\", title = \"Italy\")",
    "id": "aedf96e71a5c463d9e74b1a1fbc7dbda",
    "idx": 18,
    "time": "2021-02-08T01:59:48.922Z",
    "type": "execution"
   },
   {
    "id": "aedf96e71a5c463d9e74b1a1fbc7dbda",
    "time": "2021-02-08T01:59:49.554Z",
    "type": "completion"
   },
   {
    "code": "np.log(food).diff().iplot(xTitle=\"Year\",yTitle=\"Growth rates\", title='Italy Growth Rates')",
    "id": "1cadf5ce6c1947c4a331d2897fc416bc",
    "idx": 19,
    "time": "2021-02-08T02:00:06.708Z",
    "type": "execution"
   },
   {
    "id": "1cadf5ce6c1947c4a331d2897fc416bc",
    "time": "2021-02-08T02:00:07.591Z",
    "type": "completion"
   },
   {
    "code": "vars = {\"AG.PRD.LVSK.XD\":\"Livestock index\",\n        \"AG.PRD.FOOD.XD\":\"Food index\",\n        \"AG.PRD.CROP.XD\":\"Crop index\",\n        \"SP.POP.TOTL\":\"Population\"}\n\nuse = ['RUS']\n\nfood = fix_date_index(wbdata.get_dataframe(vars,country=use))\n\nfood.sort_index(inplace=True)\n\nfood['Population'] = food['Population']/food.loc[2006,'Population']*100\n\nfood.iplot(xTitle=\"Year\",yTitle=\"Index\", title = 'Russia')",
    "id": "de8637824dd04725ac0508754cb9f99a",
    "idx": 21,
    "time": "2021-02-08T02:00:10.055Z",
    "type": "execution"
   },
   {
    "id": "de8637824dd04725ac0508754cb9f99a",
    "time": "2021-02-08T02:00:11.068Z",
    "type": "completion"
   },
   {
    "code": "np.log(food).diff().iplot(xTitle=\"Year\",yTitle=\"Growth rates\", title='Russia Growth Rates')",
    "id": "bb053bbbc48642e589e00643d98f1d83",
    "idx": 22,
    "time": "2021-02-08T02:00:17.932Z",
    "type": "execution"
   },
   {
    "id": "bb053bbbc48642e589e00643d98f1d83",
    "time": "2021-02-08T02:00:18.304Z",
    "type": "completion"
   },
   {
    "code": "import numpy as np\nimport wbdata\nimport cufflinks as cf",
    "id": "57323abd6345469d82c36879a53ae104",
    "idx": 0,
    "time": "2021-02-08T22:54:01.696Z",
    "type": "execution"
   },
   {
    "code": "wbdata.get_indicator(topic=1)",
    "id": "9202d5fcf0d049e188d4d135ebd7de0f",
    "idx": 1,
    "time": "2021-02-08T22:54:01.702Z",
    "type": "execution"
   },
   {
    "code": "vars = {\"AG.PRD.CREL.MT\":\"Cereal production\"}\n\n# Use this to find top producers:\n#big_producers = cereals.query('date==2000').squeeze().sort_values(ascending=False)\n#big_producers.head(20)\n\nuse=[\"CHN\",\"IND\",\"JPN\",\"ITA\",\"RUS\"]\n\ncereals = fix_date_index(wbdata.get_dataframe(vars,country=use)).squeeze().unstack('country')\n\ncereals.iplot(xTitle=\"Year\",yTitle=\"Metric Tons\",\n              title=\"Cereal Production of China, India, Italy, Japan, Russia\")",
    "id": "5f16981efcb8444a85489897f5f19b7b",
    "idx": 3,
    "time": "2021-02-08T22:54:01.704Z",
    "type": "execution"
   },
   {
    "code": "vars = {\"SP.POP.TOTL\":\"Population\"}\n\n# Use this to find top producers:\n#big_producers = cereals.query('date==2000').squeeze().sort_values(ascending=False)\n#big_producers.head(20)\n\nuse=[\"CHN\",\"IND\",\"JPN\",\"ITA\",\"RUS\"]\n\npop = fix_date_index(wbdata.get_dataframe(vars,country=use)).squeeze().unstack('country')\n\npop.iplot(xTitle=\"Year\",yTitle=\"Population (billions)\",\n              title=\"Population of China, India, Italy, Japan, Russia\")",
    "id": "a4d87e4534e64d12b3a0f33a2fc2f8df",
    "idx": 5,
    "time": "2021-02-08T22:54:01.706Z",
    "type": "execution"
   },
   {
    "code": "vars = {\"AG.PRD.LVSK.XD\":\"Livestock index\",\n        \"AG.PRD.FOOD.XD\":\"Food index\",\n        \"AG.PRD.CROP.XD\":\"Crop index\",\n        \"SP.POP.TOTL\":\"Population\"}\n\nfood = fix_date_index(wbdata.get_dataframe(vars,country='WLD'))\n\nfood.sort_index(inplace=True)\n\nfood['Population'] = food['Population']/food.loc[2006,'Population']*100\n\nfood.iplot(xTitle=\"Year\",yTitle=\"Index\")\n\n# This is opposite from Malthus' graphs, population is linear while food is exponential\n# Real prices of food are falling worldwide most of the time, in wealthier countries more people are obese than hungry",
    "id": "975341f63e3e42dd803131541cb5d97a",
    "idx": 6,
    "time": "2021-02-08T22:54:01.707Z",
    "type": "execution"
   },
   {
    "code": "vars = {\"AG.PRD.LVSK.XD\":\"Livestock index\",\n        \"AG.PRD.FOOD.XD\":\"Food index\",\n        \"AG.PRD.CROP.XD\":\"Crop index\",\n        \"SP.POP.TOTL\":\"Population\"}\n\nuse = ['CHN']\n\nfood = fix_date_index(wbdata.get_dataframe(vars,country=use))\n\nfood.sort_index(inplace=True)\n\nfood['Population'] = food['Population']/food.loc[2006,'Population']*100\n\nfood.iplot(xTitle=\"Year\",yTitle=\"Index\", title=\"China\")",
    "id": "16cde89d098b466a9cd738c4c3cbda24",
    "idx": 9,
    "time": "2021-02-08T22:54:01.710Z",
    "type": "execution"
   },
   {
    "code": "np.log(food).diff().iplot(xTitle=\"Year\",yTitle=\"Growth rates\", title = 'China Growth Rates')",
    "id": "5cc45f19c41a4bfb96e22f75dc2464e7",
    "idx": 10,
    "time": "2021-02-08T22:54:01.711Z",
    "type": "execution"
   },
   {
    "code": "vars = {\"AG.PRD.LVSK.XD\":\"Livestock index\",\n        \"AG.PRD.FOOD.XD\":\"Food index\",\n        \"AG.PRD.CROP.XD\":\"Crop index\",\n        \"SP.POP.TOTL\":\"Population\"}\n\nuse = ['IND']\n\nfood = fix_date_index(wbdata.get_dataframe(vars,country=use))\n\nfood.sort_index(inplace=True)\n\nfood['Population'] = food['Population']/food.loc[2006,'Population']*100\n\nfood.iplot(xTitle=\"Year\",yTitle=\"Index\", title = \"India\")",
    "id": "23220e528d284c52852b9a39a6814ac9",
    "idx": 12,
    "time": "2021-02-08T22:54:01.714Z",
    "type": "execution"
   },
   {
    "code": "np.log(food).diff().iplot(xTitle=\"Year\",yTitle=\"Growth rates\", title = 'India Growth Rates')",
    "id": "a2d2cca76f844e9f8415453c09c2f347",
    "idx": 13,
    "time": "2021-02-08T22:54:01.715Z",
    "type": "execution"
   },
   {
    "code": "vars = {\"AG.PRD.LVSK.XD\":\"Livestock index\",\n        \"AG.PRD.FOOD.XD\":\"Food index\",\n        \"AG.PRD.CROP.XD\":\"Crop index\",\n        \"SP.POP.TOTL\":\"Population\"}\n\nuse = ['JPN']\n\nfood = fix_date_index(wbdata.get_dataframe(vars,country=use))\n\nfood.sort_index(inplace=True)\n\nfood['Population'] = food['Population']/food.loc[2006,'Population']*100\n\nfood.iplot(xTitle=\"Year\",yTitle=\"Index\", title = \"Japan\")",
    "id": "682975848a614e6a80c3da5f870ac99f",
    "idx": 15,
    "time": "2021-02-08T22:54:01.718Z",
    "type": "execution"
   },
   {
    "code": "np.log(food).diff().iplot(xTitle=\"Year\",yTitle=\"Growth rates\", title = 'Japan Growth Rates')",
    "id": "9465fee4a1344e4584c9cbffb74efc70",
    "idx": 16,
    "time": "2021-02-08T22:54:01.719Z",
    "type": "execution"
   },
   {
    "code": "vars = {\"AG.PRD.LVSK.XD\":\"Livestock index\",\n        \"AG.PRD.FOOD.XD\":\"Food index\",\n        \"AG.PRD.CROP.XD\":\"Crop index\",\n        \"SP.POP.TOTL\":\"Population\"}\n\nuse = ['ITA']\n\nfood = fix_date_index(wbdata.get_dataframe(vars,country=use))\n\nfood.sort_index(inplace=True)\n\nfood['Population'] = food['Population']/food.loc[2006,'Population']*100\n\nfood.iplot(xTitle=\"Year\",yTitle=\"Index\", title = \"Italy\")",
    "id": "e4cf8b7cd8844779896d47bf541dce11",
    "idx": 18,
    "time": "2021-02-08T22:54:01.721Z",
    "type": "execution"
   },
   {
    "code": "np.log(food).diff().iplot(xTitle=\"Year\",yTitle=\"Growth rates\", title='Italy Growth Rates')",
    "id": "3d2951675c1b4e07b1e6dd32c1820599",
    "idx": 19,
    "time": "2021-02-08T22:54:01.722Z",
    "type": "execution"
   },
   {
    "code": "vars = {\"AG.PRD.LVSK.XD\":\"Livestock index\",\n        \"AG.PRD.FOOD.XD\":\"Food index\",\n        \"AG.PRD.CROP.XD\":\"Crop index\",\n        \"SP.POP.TOTL\":\"Population\"}\n\nuse = ['RUS']\n\nfood = fix_date_index(wbdata.get_dataframe(vars,country=use))\n\nfood.sort_index(inplace=True)\n\nfood['Population'] = food['Population']/food.loc[2006,'Population']*100\n\nfood.iplot(xTitle=\"Year\",yTitle=\"Index\", title = 'Russia')",
    "id": "c98a6c782dac4024a920ff63a08435b0",
    "idx": 21,
    "time": "2021-02-08T22:54:01.723Z",
    "type": "execution"
   },
   {
    "code": "np.log(food).diff().iplot(xTitle=\"Year\",yTitle=\"Growth rates\", title='Russia Growth Rates')",
    "id": "91f57fc4b9f6402a876244c73414143e",
    "idx": 22,
    "time": "2021-02-08T22:54:01.725Z",
    "type": "execution"
   },
   {
    "id": "57323abd6345469d82c36879a53ae104",
    "time": "2021-02-08T22:54:02.088Z",
    "type": "completion"
   },
   {
    "id": "9202d5fcf0d049e188d4d135ebd7de0f",
    "time": "2021-02-08T22:54:02.090Z",
    "type": "completion"
   },
   {
    "id": "5f16981efcb8444a85489897f5f19b7b",
    "time": "2021-02-08T22:54:02.256Z",
    "type": "completion"
   },
   {
    "id": "a4d87e4534e64d12b3a0f33a2fc2f8df",
    "time": "2021-02-08T22:54:02.325Z",
    "type": "completion"
   },
   {
    "id": "975341f63e3e42dd803131541cb5d97a",
    "time": "2021-02-08T22:54:02.331Z",
    "type": "completion"
   },
   {
    "id": "16cde89d098b466a9cd738c4c3cbda24",
    "time": "2021-02-08T22:54:02.337Z",
    "type": "completion"
   },
   {
    "id": "5cc45f19c41a4bfb96e22f75dc2464e7",
    "time": "2021-02-08T22:54:02.359Z",
    "type": "completion"
   },
   {
    "id": "23220e528d284c52852b9a39a6814ac9",
    "time": "2021-02-08T22:54:02.509Z",
    "type": "completion"
   },
   {
    "id": "a2d2cca76f844e9f8415453c09c2f347",
    "time": "2021-02-08T22:54:02.577Z",
    "type": "completion"
   },
   {
    "id": "682975848a614e6a80c3da5f870ac99f",
    "time": "2021-02-08T22:54:02.578Z",
    "type": "completion"
   },
   {
    "id": "9465fee4a1344e4584c9cbffb74efc70",
    "time": "2021-02-08T22:54:02.578Z",
    "type": "completion"
   },
   {
    "id": "e4cf8b7cd8844779896d47bf541dce11",
    "time": "2021-02-08T22:54:02.580Z",
    "type": "completion"
   },
   {
    "id": "3d2951675c1b4e07b1e6dd32c1820599",
    "time": "2021-02-08T22:54:02.581Z",
    "type": "completion"
   },
   {
    "id": "c98a6c782dac4024a920ff63a08435b0",
    "time": "2021-02-08T22:54:02.587Z",
    "type": "completion"
   },
   {
    "id": "91f57fc4b9f6402a876244c73414143e",
    "time": "2021-02-08T22:54:02.588Z",
    "type": "completion"
   },
   {
    "code": "import numpy as np\nimport wbdata\nimport cufflinks as cf",
    "id": "57323abd6345469d82c36879a53ae104",
    "idx": 0,
    "time": "2021-02-08T22:54:25.117Z",
    "type": "execution"
   },
   {
    "id": "57323abd6345469d82c36879a53ae104",
    "time": "2021-02-08T22:54:25.218Z",
    "type": "completion"
   },
   {
    "code": "!pip install wbdata\nimport numpy as np\nimport wbdata\nimport cufflinks as cf",
    "id": "57323abd6345469d82c36879a53ae104",
    "idx": 0,
    "time": "2021-02-08T22:54:33.561Z",
    "type": "execution"
   },
   {
    "code": "wbdata.get_indicator(topic=1)",
    "id": "9202d5fcf0d049e188d4d135ebd7de0f",
    "idx": 1,
    "time": "2021-02-08T22:54:40.738Z",
    "type": "execution"
   },
   {
    "id": "57323abd6345469d82c36879a53ae104",
    "time": "2021-02-08T22:54:42.205Z",
    "type": "completion"
   },
   {
    "id": "9202d5fcf0d049e188d4d135ebd7de0f",
    "time": "2021-02-08T22:54:42.488Z",
    "type": "completion"
   },
   {
    "code": "!pip install wbdata\nimport numpy as np\nimport wbdata\nimport cufflinks as cf",
    "id": "57323abd6345469d82c36879a53ae104",
    "idx": 0,
    "time": "2021-02-08T22:54:50.894Z",
    "type": "execution"
   },
   {
    "code": "wbdata.get_indicator(topic=1)",
    "id": "9202d5fcf0d049e188d4d135ebd7de0f",
    "idx": 1,
    "time": "2021-02-08T22:54:50.896Z",
    "type": "execution"
   },
   {
    "code": "vars = {\"AG.PRD.CREL.MT\":\"Cereal production\"}\n\n# Use this to find top producers:\n#big_producers = cereals.query('date==2000').squeeze().sort_values(ascending=False)\n#big_producers.head(20)\n\nuse=[\"CHN\",\"IND\",\"JPN\",\"ITA\",\"RUS\"]\n\ncereals = fix_date_index(wbdata.get_dataframe(vars,country=use)).squeeze().unstack('country')\n\ncereals.iplot(xTitle=\"Year\",yTitle=\"Metric Tons\",\n              title=\"Cereal Production of China, India, Italy, Japan, Russia\")",
    "id": "5f16981efcb8444a85489897f5f19b7b",
    "idx": 3,
    "time": "2021-02-08T22:54:50.898Z",
    "type": "execution"
   },
   {
    "code": "vars = {\"SP.POP.TOTL\":\"Population\"}\n\n# Use this to find top producers:\n#big_producers = cereals.query('date==2000').squeeze().sort_values(ascending=False)\n#big_producers.head(20)\n\nuse=[\"CHN\",\"IND\",\"JPN\",\"ITA\",\"RUS\"]\n\npop = fix_date_index(wbdata.get_dataframe(vars,country=use)).squeeze().unstack('country')\n\npop.iplot(xTitle=\"Year\",yTitle=\"Population (billions)\",\n              title=\"Population of China, India, Italy, Japan, Russia\")",
    "id": "a4d87e4534e64d12b3a0f33a2fc2f8df",
    "idx": 5,
    "time": "2021-02-08T22:54:50.899Z",
    "type": "execution"
   },
   {
    "code": "vars = {\"AG.PRD.LVSK.XD\":\"Livestock index\",\n        \"AG.PRD.FOOD.XD\":\"Food index\",\n        \"AG.PRD.CROP.XD\":\"Crop index\",\n        \"SP.POP.TOTL\":\"Population\"}\n\nfood = fix_date_index(wbdata.get_dataframe(vars,country='WLD'))\n\nfood.sort_index(inplace=True)\n\nfood['Population'] = food['Population']/food.loc[2006,'Population']*100\n\nfood.iplot(xTitle=\"Year\",yTitle=\"Index\")\n\n# This is opposite from Malthus' graphs, population is linear while food is exponential\n# Real prices of food are falling worldwide most of the time, in wealthier countries more people are obese than hungry",
    "id": "975341f63e3e42dd803131541cb5d97a",
    "idx": 6,
    "time": "2021-02-08T22:54:50.901Z",
    "type": "execution"
   },
   {
    "code": "vars = {\"AG.PRD.LVSK.XD\":\"Livestock index\",\n        \"AG.PRD.FOOD.XD\":\"Food index\",\n        \"AG.PRD.CROP.XD\":\"Crop index\",\n        \"SP.POP.TOTL\":\"Population\"}\n\nuse = ['CHN']\n\nfood = fix_date_index(wbdata.get_dataframe(vars,country=use))\n\nfood.sort_index(inplace=True)\n\nfood['Population'] = food['Population']/food.loc[2006,'Population']*100\n\nfood.iplot(xTitle=\"Year\",yTitle=\"Index\", title=\"China\")",
    "id": "16cde89d098b466a9cd738c4c3cbda24",
    "idx": 9,
    "time": "2021-02-08T22:54:50.902Z",
    "type": "execution"
   },
   {
    "code": "np.log(food).diff().iplot(xTitle=\"Year\",yTitle=\"Growth rates\", title = 'China Growth Rates')",
    "id": "5cc45f19c41a4bfb96e22f75dc2464e7",
    "idx": 10,
    "time": "2021-02-08T22:54:50.904Z",
    "type": "execution"
   },
   {
    "code": "vars = {\"AG.PRD.LVSK.XD\":\"Livestock index\",\n        \"AG.PRD.FOOD.XD\":\"Food index\",\n        \"AG.PRD.CROP.XD\":\"Crop index\",\n        \"SP.POP.TOTL\":\"Population\"}\n\nuse = ['IND']\n\nfood = fix_date_index(wbdata.get_dataframe(vars,country=use))\n\nfood.sort_index(inplace=True)\n\nfood['Population'] = food['Population']/food.loc[2006,'Population']*100\n\nfood.iplot(xTitle=\"Year\",yTitle=\"Index\", title = \"India\")",
    "id": "23220e528d284c52852b9a39a6814ac9",
    "idx": 12,
    "time": "2021-02-08T22:54:50.905Z",
    "type": "execution"
   },
   {
    "code": "np.log(food).diff().iplot(xTitle=\"Year\",yTitle=\"Growth rates\", title = 'India Growth Rates')",
    "id": "a2d2cca76f844e9f8415453c09c2f347",
    "idx": 13,
    "time": "2021-02-08T22:54:50.906Z",
    "type": "execution"
   },
   {
    "code": "vars = {\"AG.PRD.LVSK.XD\":\"Livestock index\",\n        \"AG.PRD.FOOD.XD\":\"Food index\",\n        \"AG.PRD.CROP.XD\":\"Crop index\",\n        \"SP.POP.TOTL\":\"Population\"}\n\nuse = ['JPN']\n\nfood = fix_date_index(wbdata.get_dataframe(vars,country=use))\n\nfood.sort_index(inplace=True)\n\nfood['Population'] = food['Population']/food.loc[2006,'Population']*100\n\nfood.iplot(xTitle=\"Year\",yTitle=\"Index\", title = \"Japan\")",
    "id": "682975848a614e6a80c3da5f870ac99f",
    "idx": 15,
    "time": "2021-02-08T22:54:50.909Z",
    "type": "execution"
   },
   {
    "code": "np.log(food).diff().iplot(xTitle=\"Year\",yTitle=\"Growth rates\", title = 'Japan Growth Rates')",
    "id": "9465fee4a1344e4584c9cbffb74efc70",
    "idx": 16,
    "time": "2021-02-08T22:54:50.910Z",
    "type": "execution"
   },
   {
    "code": "vars = {\"AG.PRD.LVSK.XD\":\"Livestock index\",\n        \"AG.PRD.FOOD.XD\":\"Food index\",\n        \"AG.PRD.CROP.XD\":\"Crop index\",\n        \"SP.POP.TOTL\":\"Population\"}\n\nuse = ['ITA']\n\nfood = fix_date_index(wbdata.get_dataframe(vars,country=use))\n\nfood.sort_index(inplace=True)\n\nfood['Population'] = food['Population']/food.loc[2006,'Population']*100\n\nfood.iplot(xTitle=\"Year\",yTitle=\"Index\", title = \"Italy\")",
    "id": "e4cf8b7cd8844779896d47bf541dce11",
    "idx": 18,
    "time": "2021-02-08T22:54:50.911Z",
    "type": "execution"
   },
   {
    "code": "np.log(food).diff().iplot(xTitle=\"Year\",yTitle=\"Growth rates\", title='Italy Growth Rates')",
    "id": "3d2951675c1b4e07b1e6dd32c1820599",
    "idx": 19,
    "time": "2021-02-08T22:54:50.913Z",
    "type": "execution"
   },
   {
    "code": "vars = {\"AG.PRD.LVSK.XD\":\"Livestock index\",\n        \"AG.PRD.FOOD.XD\":\"Food index\",\n        \"AG.PRD.CROP.XD\":\"Crop index\",\n        \"SP.POP.TOTL\":\"Population\"}\n\nuse = ['RUS']\n\nfood = fix_date_index(wbdata.get_dataframe(vars,country=use))\n\nfood.sort_index(inplace=True)\n\nfood['Population'] = food['Population']/food.loc[2006,'Population']*100\n\nfood.iplot(xTitle=\"Year\",yTitle=\"Index\", title = 'Russia')",
    "id": "c98a6c782dac4024a920ff63a08435b0",
    "idx": 21,
    "time": "2021-02-08T22:54:50.916Z",
    "type": "execution"
   },
   {
    "code": "np.log(food).diff().iplot(xTitle=\"Year\",yTitle=\"Growth rates\", title='Russia Growth Rates')",
    "id": "91f57fc4b9f6402a876244c73414143e",
    "idx": 22,
    "time": "2021-02-08T22:54:50.917Z",
    "type": "execution"
   },
   {
    "id": "57323abd6345469d82c36879a53ae104",
    "time": "2021-02-08T22:54:56.231Z",
    "type": "completion"
   },
   {
    "id": "9202d5fcf0d049e188d4d135ebd7de0f",
    "time": "2021-02-08T22:54:56.256Z",
    "type": "completion"
   },
   {
    "id": "5f16981efcb8444a85489897f5f19b7b",
    "time": "2021-02-08T22:54:56.443Z",
    "type": "completion"
   },
   {
    "id": "a4d87e4534e64d12b3a0f33a2fc2f8df",
    "time": "2021-02-08T22:54:56.445Z",
    "type": "completion"
   },
   {
    "id": "975341f63e3e42dd803131541cb5d97a",
    "time": "2021-02-08T22:54:56.493Z",
    "type": "completion"
   },
   {
    "id": "16cde89d098b466a9cd738c4c3cbda24",
    "time": "2021-02-08T22:54:56.498Z",
    "type": "completion"
   },
   {
    "id": "5cc45f19c41a4bfb96e22f75dc2464e7",
    "time": "2021-02-08T22:54:56.504Z",
    "type": "completion"
   },
   {
    "id": "23220e528d284c52852b9a39a6814ac9",
    "time": "2021-02-08T22:54:56.511Z",
    "type": "completion"
   },
   {
    "id": "a2d2cca76f844e9f8415453c09c2f347",
    "time": "2021-02-08T22:54:56.514Z",
    "type": "completion"
   },
   {
    "id": "682975848a614e6a80c3da5f870ac99f",
    "time": "2021-02-08T22:54:56.516Z",
    "type": "completion"
   },
   {
    "id": "9465fee4a1344e4584c9cbffb74efc70",
    "time": "2021-02-08T22:54:56.520Z",
    "type": "completion"
   },
   {
    "id": "e4cf8b7cd8844779896d47bf541dce11",
    "time": "2021-02-08T22:54:56.521Z",
    "type": "completion"
   },
   {
    "id": "3d2951675c1b4e07b1e6dd32c1820599",
    "time": "2021-02-08T22:54:56.521Z",
    "type": "completion"
   },
   {
    "id": "c98a6c782dac4024a920ff63a08435b0",
    "time": "2021-02-08T22:54:56.569Z",
    "type": "completion"
   },
   {
    "id": "91f57fc4b9f6402a876244c73414143e",
    "time": "2021-02-08T22:54:56.570Z",
    "type": "completion"
   },
   {
    "code": "!pip install wbdata\nimport numpy as np\nimport wbdata\nimport cufflinks as cf\ncf.go_offline()\n",
    "id": "57323abd6345469d82c36879a53ae104",
    "idx": 0,
    "time": "2021-02-08T22:55:51.838Z",
    "type": "execution"
   },
   {
    "code": "vars = {\"AG.PRD.CREL.MT\":\"Cereal production\"}\n\n# Use this to find top producers:\n#big_producers = cereals.query('date==2000').squeeze().sort_values(ascending=False)\n#big_producers.head(20)\n\nuse=[\"CHN\",\"IND\",\"JPN\",\"ITA\",\"RUS\"]\n\ncereals = fix_date_index(wbdata.get_dataframe(vars,country=use)).squeeze().unstack('country')\n\ncereals.iplot(xTitle=\"Year\",yTitle=\"Metric Tons\",\n              title=\"Cereal Production of China, India, Italy, Japan, Russia\")",
    "id": "5f16981efcb8444a85489897f5f19b7b",
    "idx": 3,
    "time": "2021-02-08T22:55:57.094Z",
    "type": "execution"
   },
   {
    "id": "57323abd6345469d82c36879a53ae104",
    "time": "2021-02-08T22:55:57.832Z",
    "type": "completion"
   },
   {
    "id": "5f16981efcb8444a85489897f5f19b7b",
    "time": "2021-02-08T22:55:57.853Z",
    "type": "completion"
   },
   {
    "code": "!pip install wbdata\nimport numpy as np\nimport wbdata\nimport cufflinks as cf\ncf.go_offline()\n\ndef fix_date_index(df):\n    idx_vars = df.index.names\n    new = df.reset_index()\n    new.date = new.date.astype(int)\n    return new.set_index(idx_vars)",
    "id": "57323abd6345469d82c36879a53ae104",
    "idx": 0,
    "time": "2021-02-08T22:56:12.930Z",
    "type": "execution"
   },
   {
    "id": "57323abd6345469d82c36879a53ae104",
    "time": "2021-02-08T22:56:18.032Z",
    "type": "completion"
   },
   {
    "code": "vars = {\"AG.PRD.CREL.MT\":\"Cereal production\"}\n\n# Use this to find top producers:\n#big_producers = cereals.query('date==2000').squeeze().sort_values(ascending=False)\n#big_producers.head(20)\n\nuse=[\"CHN\",\"IND\",\"JPN\",\"ITA\",\"RUS\"]\n\ncereals = fix_date_index(wbdata.get_dataframe(vars,country=use)).squeeze().unstack('country')\n\ncereals.iplot(xTitle=\"Year\",yTitle=\"Metric Tons\",\n              title=\"Cereal Production of China, India, Italy, Japan, Russia\")",
    "id": "5f16981efcb8444a85489897f5f19b7b",
    "idx": 3,
    "time": "2021-02-08T23:01:49.946Z",
    "type": "execution"
   },
   {
    "id": "5f16981efcb8444a85489897f5f19b7b",
    "time": "2021-02-08T23:01:51.142Z",
    "type": "completion"
   },
   {
    "code": "!pip install wbdata\nimport numpy as np\nimport wbdata\nimport cufflinks as cf\ncf.go_offline()\n\ndef fix_date_index(df):\n    idx_vars = df.index.names\n    new = df.reset_index()\n    new.date = new.date.astype(int)\n    return new.set_index(idx_vars)",
    "id": "57323abd6345469d82c36879a53ae104",
    "idx": 0,
    "time": "2021-02-08T23:01:56.112Z",
    "type": "execution"
   },
   {
    "code": "wbdata.get_indicator(topic=1)",
    "id": "9202d5fcf0d049e188d4d135ebd7de0f",
    "idx": 1,
    "time": "2021-02-08T23:01:56.115Z",
    "type": "execution"
   },
   {
    "code": "vars = {\"AG.PRD.CREL.MT\":\"Cereal production\"}\n\n# Use this to find top producers:\n#big_producers = cereals.query('date==2000').squeeze().sort_values(ascending=False)\n#big_producers.head(20)\n\nuse=[\"CHN\",\"IND\",\"JPN\",\"ITA\",\"RUS\"]\n\ncereals = fix_date_index(wbdata.get_dataframe(vars,country=use)).squeeze().unstack('country')\n\ncereals.iplot(xTitle=\"Year\",yTitle=\"Metric Tons\",\n              title=\"Cereal Production of China, India, Italy, Japan, Russia\")",
    "id": "5f16981efcb8444a85489897f5f19b7b",
    "idx": 3,
    "time": "2021-02-08T23:01:56.119Z",
    "type": "execution"
   },
   {
    "code": "vars = {\"SP.POP.TOTL\":\"Population\"}\n\n# Use this to find top producers:\n#big_producers = cereals.query('date==2000').squeeze().sort_values(ascending=False)\n#big_producers.head(20)\n\nuse=[\"CHN\",\"IND\",\"JPN\",\"ITA\",\"RUS\"]\n\npop = fix_date_index(wbdata.get_dataframe(vars,country=use)).squeeze().unstack('country')\n\npop.iplot(xTitle=\"Year\",yTitle=\"Population (billions)\",\n              title=\"Population of China, India, Italy, Japan, Russia\")",
    "id": "a4d87e4534e64d12b3a0f33a2fc2f8df",
    "idx": 5,
    "time": "2021-02-08T23:01:56.121Z",
    "type": "execution"
   },
   {
    "code": "vars = {\"AG.PRD.LVSK.XD\":\"Livestock index\",\n        \"AG.PRD.FOOD.XD\":\"Food index\",\n        \"AG.PRD.CROP.XD\":\"Crop index\",\n        \"SP.POP.TOTL\":\"Population\"}\n\nfood = fix_date_index(wbdata.get_dataframe(vars,country='WLD'))\n\nfood.sort_index(inplace=True)\n\nfood['Population'] = food['Population']/food.loc[2006,'Population']*100\n\nfood.iplot(xTitle=\"Year\",yTitle=\"Index\")\n\n# This is opposite from Malthus' graphs, population is linear while food is exponential\n# Real prices of food are falling worldwide most of the time, in wealthier countries more people are obese than hungry",
    "id": "975341f63e3e42dd803131541cb5d97a",
    "idx": 6,
    "time": "2021-02-08T23:01:56.122Z",
    "type": "execution"
   },
   {
    "code": "vars = {\"AG.PRD.LVSK.XD\":\"Livestock index\",\n        \"AG.PRD.FOOD.XD\":\"Food index\",\n        \"AG.PRD.CROP.XD\":\"Crop index\",\n        \"SP.POP.TOTL\":\"Population\"}\n\nuse = ['CHN']\n\nfood = fix_date_index(wbdata.get_dataframe(vars,country=use))\n\nfood.sort_index(inplace=True)\n\nfood['Population'] = food['Population']/food.loc[2006,'Population']*100\n\nfood.iplot(xTitle=\"Year\",yTitle=\"Index\", title=\"China\")",
    "id": "16cde89d098b466a9cd738c4c3cbda24",
    "idx": 9,
    "time": "2021-02-08T23:01:56.124Z",
    "type": "execution"
   },
   {
    "code": "np.log(food).diff().iplot(xTitle=\"Year\",yTitle=\"Growth rates\", title = 'China Growth Rates')",
    "id": "5cc45f19c41a4bfb96e22f75dc2464e7",
    "idx": 10,
    "time": "2021-02-08T23:01:56.126Z",
    "type": "execution"
   },
   {
    "code": "vars = {\"AG.PRD.LVSK.XD\":\"Livestock index\",\n        \"AG.PRD.FOOD.XD\":\"Food index\",\n        \"AG.PRD.CROP.XD\":\"Crop index\",\n        \"SP.POP.TOTL\":\"Population\"}\n\nuse = ['IND']\n\nfood = fix_date_index(wbdata.get_dataframe(vars,country=use))\n\nfood.sort_index(inplace=True)\n\nfood['Population'] = food['Population']/food.loc[2006,'Population']*100\n\nfood.iplot(xTitle=\"Year\",yTitle=\"Index\", title = \"India\")",
    "id": "23220e528d284c52852b9a39a6814ac9",
    "idx": 12,
    "time": "2021-02-08T23:01:56.127Z",
    "type": "execution"
   },
   {
    "code": "np.log(food).diff().iplot(xTitle=\"Year\",yTitle=\"Growth rates\", title = 'India Growth Rates')",
    "id": "a2d2cca76f844e9f8415453c09c2f347",
    "idx": 13,
    "time": "2021-02-08T23:01:56.129Z",
    "type": "execution"
   },
   {
    "code": "vars = {\"AG.PRD.LVSK.XD\":\"Livestock index\",\n        \"AG.PRD.FOOD.XD\":\"Food index\",\n        \"AG.PRD.CROP.XD\":\"Crop index\",\n        \"SP.POP.TOTL\":\"Population\"}\n\nuse = ['JPN']\n\nfood = fix_date_index(wbdata.get_dataframe(vars,country=use))\n\nfood.sort_index(inplace=True)\n\nfood['Population'] = food['Population']/food.loc[2006,'Population']*100\n\nfood.iplot(xTitle=\"Year\",yTitle=\"Index\", title = \"Japan\")",
    "id": "682975848a614e6a80c3da5f870ac99f",
    "idx": 15,
    "time": "2021-02-08T23:01:56.130Z",
    "type": "execution"
   },
   {
    "code": "np.log(food).diff().iplot(xTitle=\"Year\",yTitle=\"Growth rates\", title = 'Japan Growth Rates')",
    "id": "9465fee4a1344e4584c9cbffb74efc70",
    "idx": 16,
    "time": "2021-02-08T23:01:56.131Z",
    "type": "execution"
   },
   {
    "code": "vars = {\"AG.PRD.LVSK.XD\":\"Livestock index\",\n        \"AG.PRD.FOOD.XD\":\"Food index\",\n        \"AG.PRD.CROP.XD\":\"Crop index\",\n        \"SP.POP.TOTL\":\"Population\"}\n\nuse = ['ITA']\n\nfood = fix_date_index(wbdata.get_dataframe(vars,country=use))\n\nfood.sort_index(inplace=True)\n\nfood['Population'] = food['Population']/food.loc[2006,'Population']*100\n\nfood.iplot(xTitle=\"Year\",yTitle=\"Index\", title = \"Italy\")",
    "id": "e4cf8b7cd8844779896d47bf541dce11",
    "idx": 18,
    "time": "2021-02-08T23:01:56.133Z",
    "type": "execution"
   },
   {
    "code": "np.log(food).diff().iplot(xTitle=\"Year\",yTitle=\"Growth rates\", title='Italy Growth Rates')",
    "id": "3d2951675c1b4e07b1e6dd32c1820599",
    "idx": 19,
    "time": "2021-02-08T23:01:56.134Z",
    "type": "execution"
   },
   {
    "code": "vars = {\"AG.PRD.LVSK.XD\":\"Livestock index\",\n        \"AG.PRD.FOOD.XD\":\"Food index\",\n        \"AG.PRD.CROP.XD\":\"Crop index\",\n        \"SP.POP.TOTL\":\"Population\"}\n\nuse = ['RUS']\n\nfood = fix_date_index(wbdata.get_dataframe(vars,country=use))\n\nfood.sort_index(inplace=True)\n\nfood['Population'] = food['Population']/food.loc[2006,'Population']*100\n\nfood.iplot(xTitle=\"Year\",yTitle=\"Index\", title = 'Russia')",
    "id": "c98a6c782dac4024a920ff63a08435b0",
    "idx": 21,
    "time": "2021-02-08T23:01:56.135Z",
    "type": "execution"
   },
   {
    "code": "np.log(food).diff().iplot(xTitle=\"Year\",yTitle=\"Growth rates\", title='Russia Growth Rates')",
    "id": "91f57fc4b9f6402a876244c73414143e",
    "idx": 22,
    "time": "2021-02-08T23:01:56.138Z",
    "type": "execution"
   },
   {
    "id": "57323abd6345469d82c36879a53ae104",
    "time": "2021-02-08T23:02:01.177Z",
    "type": "completion"
   },
   {
    "id": "9202d5fcf0d049e188d4d135ebd7de0f",
    "time": "2021-02-08T23:02:01.521Z",
    "type": "completion"
   },
   {
    "id": "5f16981efcb8444a85489897f5f19b7b",
    "time": "2021-02-08T23:02:02.404Z",
    "type": "completion"
   },
   {
    "id": "a4d87e4534e64d12b3a0f33a2fc2f8df",
    "time": "2021-02-08T23:02:03.687Z",
    "type": "completion"
   },
   {
    "id": "975341f63e3e42dd803131541cb5d97a",
    "time": "2021-02-08T23:02:03.992Z",
    "type": "completion"
   },
   {
    "id": "16cde89d098b466a9cd738c4c3cbda24",
    "time": "2021-02-08T23:02:04.258Z",
    "type": "completion"
   },
   {
    "id": "5cc45f19c41a4bfb96e22f75dc2464e7",
    "time": "2021-02-08T23:02:04.330Z",
    "type": "completion"
   },
   {
    "id": "23220e528d284c52852b9a39a6814ac9",
    "time": "2021-02-08T23:02:04.405Z",
    "type": "completion"
   },
   {
    "id": "a2d2cca76f844e9f8415453c09c2f347",
    "time": "2021-02-08T23:02:04.572Z",
    "type": "completion"
   },
   {
    "id": "682975848a614e6a80c3da5f870ac99f",
    "time": "2021-02-08T23:02:04.639Z",
    "type": "completion"
   },
   {
    "id": "9465fee4a1344e4584c9cbffb74efc70",
    "time": "2021-02-08T23:02:04.732Z",
    "type": "completion"
   },
   {
    "id": "e4cf8b7cd8844779896d47bf541dce11",
    "time": "2021-02-08T23:02:04.815Z",
    "type": "completion"
   },
   {
    "id": "3d2951675c1b4e07b1e6dd32c1820599",
    "time": "2021-02-08T23:02:04.905Z",
    "type": "completion"
   },
   {
    "id": "c98a6c782dac4024a920ff63a08435b0",
    "time": "2021-02-08T23:02:05.005Z",
    "type": "completion"
   },
   {
    "id": "91f57fc4b9f6402a876244c73414143e",
    "time": "2021-02-08T23:02:05.080Z",
    "type": "completion"
   }
  ],
  "kernelspec": {
   "display_name": "Python 3",
   "language": "python",
   "name": "python3"
  },
  "language_info": {
   "codemirror_mode": {
    "name": "ipython",
    "version": 3
   },
   "file_extension": ".py",
   "mimetype": "text/x-python",
   "name": "python",
   "nbconvert_exporter": "python",
   "pygments_lexer": "ipython3",
   "version": "3.8.6"
  }
 },
 "nbformat": 4,
 "nbformat_minor": 4
}
