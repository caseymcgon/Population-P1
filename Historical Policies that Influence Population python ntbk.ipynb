{
 "cells": [
  {
   "cell_type": "markdown",
   "metadata": {},
   "source": [
    "# Historical Policies that Influence Population"
   ]
  },
  {
   "cell_type": "markdown",
   "metadata": {},
   "source": [
    "Our group is primarily interested in the effects of government policies aimed at influencing fertility rates (and, as a result, total population). \n",
    "\n",
    "Specifically, we will look into 2 countries with a history of trying to lower fertility rates:\n",
    "\n",
    "1. China -- One Child Policy ('79)\n",
    "\n",
    "2. India -- National Population Policy ('00)\n",
    "\n",
    "and 3 countries with a history of trying to raise fertility rates:\n",
    "\n",
    "1. Japan -- regional policies to pay families for having children (need dates)\n",
    "\n",
    "2. Italy -- Fully paid leave for new fathers ('12)\n",
    "\n",
    "3. Russia -- Maternity Capital Program (tax-breaks) ('07)"
   ]
  },
  {
   "cell_type": "code",
   "execution_count": 9,
   "metadata": {
    "collapsed": true
   },
   "outputs": [
    {
     "name": "stdout",
     "output_type": "stream",
     "text": [
      "Requirement already satisfied: wbdata in /opt/conda/lib/python3.8/site-packages (0.3.0)\n",
      "Requirement already satisfied: appdirs<2.0,>=1.4 in /opt/conda/lib/python3.8/site-packages (from wbdata) (1.4.4)\n",
      "Requirement already satisfied: tabulate>=0.8.5 in /opt/conda/lib/python3.8/site-packages (from wbdata) (0.8.7)\n",
      "Requirement already satisfied: requests>=2.0 in /opt/conda/lib/python3.8/site-packages (from wbdata) (2.25.1)\n",
      "Requirement already satisfied: decorator>=4.0 in /opt/conda/lib/python3.8/site-packages (from wbdata) (4.4.2)\n",
      "Requirement already satisfied: chardet<5,>=3.0.2 in /opt/conda/lib/python3.8/site-packages (from requests>=2.0->wbdata) (3.0.4)\n",
      "Requirement already satisfied: urllib3<1.27,>=1.21.1 in /opt/conda/lib/python3.8/site-packages (from requests>=2.0->wbdata) (1.25.7)\n",
      "Requirement already satisfied: certifi>=2017.4.17 in /opt/conda/lib/python3.8/site-packages (from requests>=2.0->wbdata) (2019.11.28)\n",
      "Requirement already satisfied: idna<3,>=2.5 in /opt/conda/lib/python3.8/site-packages (from requests>=2.0->wbdata) (2.8)\n",
      "Requirement already satisfied: cufflinks in /opt/conda/lib/python3.8/site-packages (0.17.3)\n",
      "Requirement already satisfied: colorlover>=0.2.1 in /opt/conda/lib/python3.8/site-packages (from cufflinks) (0.3.0)\n",
      "Requirement already satisfied: six>=1.9.0 in /opt/conda/lib/python3.8/site-packages (from cufflinks) (1.15.0)\n",
      "Requirement already satisfied: numpy>=1.9.2 in /opt/conda/lib/python3.8/site-packages (from cufflinks) (1.19.5)\n",
      "Requirement already satisfied: ipywidgets>=7.0.0 in /opt/conda/lib/python3.8/site-packages (from cufflinks) (7.6.3)\n",
      "Requirement already satisfied: ipython>=5.3.0 in /opt/conda/lib/python3.8/site-packages (from cufflinks) (7.20.0)\n",
      "Requirement already satisfied: setuptools>=34.4.1 in /opt/conda/lib/python3.8/site-packages (from cufflinks) (49.6.0.post20210108)\n",
      "Requirement already satisfied: plotly>=4.1.1 in /opt/conda/lib/python3.8/site-packages (from cufflinks) (4.14.3)\n",
      "Requirement already satisfied: pandas>=0.19.2 in /opt/conda/lib/python3.8/site-packages (from cufflinks) (1.2.0)\n",
      "Requirement already satisfied: ipykernel>=4.5.1 in /opt/conda/lib/python3.8/site-packages (from ipywidgets>=7.0.0->cufflinks) (5.4.3)\n",
      "Requirement already satisfied: jupyterlab-widgets>=1.0.0; python_version >= \"3.6\" in /opt/conda/lib/python3.8/site-packages (from ipywidgets>=7.0.0->cufflinks) (1.0.0)\n",
      "Requirement already satisfied: widgetsnbextension~=3.5.0 in /opt/conda/lib/python3.8/site-packages (from ipywidgets>=7.0.0->cufflinks) (3.5.1)\n",
      "Requirement already satisfied: nbformat>=4.2.0 in /opt/conda/lib/python3.8/site-packages (from ipywidgets>=7.0.0->cufflinks) (5.1.2)\n",
      "Requirement already satisfied: traitlets>=4.3.1 in /opt/conda/lib/python3.8/site-packages (from ipywidgets>=7.0.0->cufflinks) (5.0.5)\n",
      "Requirement already satisfied: backcall in /opt/conda/lib/python3.8/site-packages (from ipython>=5.3.0->cufflinks) (0.2.0)\n",
      "Requirement already satisfied: pygments in /opt/conda/lib/python3.8/site-packages (from ipython>=5.3.0->cufflinks) (2.7.4)\n",
      "Requirement already satisfied: prompt-toolkit!=3.0.0,!=3.0.1,<3.1.0,>=2.0.0 in /opt/conda/lib/python3.8/site-packages (from ipython>=5.3.0->cufflinks) (3.0.14)\n",
      "Requirement already satisfied: pickleshare in /opt/conda/lib/python3.8/site-packages (from ipython>=5.3.0->cufflinks) (0.7.5)\n",
      "Requirement already satisfied: decorator in /opt/conda/lib/python3.8/site-packages (from ipython>=5.3.0->cufflinks) (4.4.2)\n",
      "Requirement already satisfied: jedi>=0.16 in /opt/conda/lib/python3.8/site-packages (from ipython>=5.3.0->cufflinks) (0.18.0)\n",
      "Requirement already satisfied: pexpect>4.3; sys_platform != \"win32\" in /opt/conda/lib/python3.8/site-packages (from ipython>=5.3.0->cufflinks) (4.8.0)\n",
      "Requirement already satisfied: retrying>=1.3.3 in /opt/conda/lib/python3.8/site-packages (from plotly>=4.1.1->cufflinks) (1.3.3)\n",
      "Requirement already satisfied: python-dateutil>=2.7.3 in /opt/conda/lib/python3.8/site-packages (from pandas>=0.19.2->cufflinks) (2.8.1)\n",
      "Requirement already satisfied: pytz>=2017.3 in /opt/conda/lib/python3.8/site-packages (from pandas>=0.19.2->cufflinks) (2020.5)\n",
      "Requirement already satisfied: jupyter-client in /opt/conda/lib/python3.8/site-packages (from ipykernel>=4.5.1->ipywidgets>=7.0.0->cufflinks) (6.1.11)\n",
      "Requirement already satisfied: tornado>=4.2 in /opt/conda/lib/python3.8/site-packages (from ipykernel>=4.5.1->ipywidgets>=7.0.0->cufflinks) (6.1)\n",
      "Requirement already satisfied: notebook>=4.4.1 in /opt/conda/lib/python3.8/site-packages (from widgetsnbextension~=3.5.0->ipywidgets>=7.0.0->cufflinks) (7.0.0.dev0)\n",
      "Requirement already satisfied: jupyter-core in /opt/conda/lib/python3.8/site-packages (from nbformat>=4.2.0->ipywidgets>=7.0.0->cufflinks) (4.7.1)\n",
      "Requirement already satisfied: jsonschema!=2.5.0,>=2.4 in /opt/conda/lib/python3.8/site-packages (from nbformat>=4.2.0->ipywidgets>=7.0.0->cufflinks) (3.2.0)\n",
      "Requirement already satisfied: ipython-genutils in /opt/conda/lib/python3.8/site-packages (from nbformat>=4.2.0->ipywidgets>=7.0.0->cufflinks) (0.2.0)\n",
      "Requirement already satisfied: wcwidth in /opt/conda/lib/python3.8/site-packages (from prompt-toolkit!=3.0.0,!=3.0.1,<3.1.0,>=2.0.0->ipython>=5.3.0->cufflinks) (0.2.5)\n",
      "Requirement already satisfied: parso<0.9.0,>=0.8.0 in /opt/conda/lib/python3.8/site-packages (from jedi>=0.16->ipython>=5.3.0->cufflinks) (0.8.1)\n",
      "Requirement already satisfied: ptyprocess>=0.5 in /opt/conda/lib/python3.8/site-packages (from pexpect>4.3; sys_platform != \"win32\"->ipython>=5.3.0->cufflinks) (0.7.0)\n",
      "Requirement already satisfied: pyzmq>=13 in /opt/conda/lib/python3.8/site-packages (from jupyter-client->ipykernel>=4.5.1->ipywidgets>=7.0.0->cufflinks) (22.0.2)\n",
      "Requirement already satisfied: jinja2 in /opt/conda/lib/python3.8/site-packages (from notebook>=4.4.1->widgetsnbextension~=3.5.0->ipywidgets>=7.0.0->cufflinks) (2.11.3)\n",
      "Requirement already satisfied: nbconvert in /opt/conda/lib/python3.8/site-packages (from notebook>=4.4.1->widgetsnbextension~=3.5.0->ipywidgets>=7.0.0->cufflinks) (6.0.8.dev0)\n",
      "Requirement already satisfied: argon2-cffi in /opt/conda/lib/python3.8/site-packages (from notebook>=4.4.1->widgetsnbextension~=3.5.0->ipywidgets>=7.0.0->cufflinks) (20.1.0)\n",
      "Requirement already satisfied: prometheus-client in /opt/conda/lib/python3.8/site-packages (from notebook>=4.4.1->widgetsnbextension~=3.5.0->ipywidgets>=7.0.0->cufflinks) (0.9.0)\n",
      "Requirement already satisfied: Send2Trash in /opt/conda/lib/python3.8/site-packages (from notebook>=4.4.1->widgetsnbextension~=3.5.0->ipywidgets>=7.0.0->cufflinks) (1.5.0)\n",
      "Requirement already satisfied: terminado>=0.8.3 in /opt/conda/lib/python3.8/site-packages (from notebook>=4.4.1->widgetsnbextension~=3.5.0->ipywidgets>=7.0.0->cufflinks) (0.9.2)\n",
      "Requirement already satisfied: pyrsistent>=0.14.0 in /opt/conda/lib/python3.8/site-packages (from jsonschema!=2.5.0,>=2.4->nbformat>=4.2.0->ipywidgets>=7.0.0->cufflinks) (0.17.3)\n",
      "Requirement already satisfied: attrs>=17.4.0 in /opt/conda/lib/python3.8/site-packages (from jsonschema!=2.5.0,>=2.4->nbformat>=4.2.0->ipywidgets>=7.0.0->cufflinks) (19.3.0)\n",
      "Requirement already satisfied: MarkupSafe>=0.23 in /opt/conda/lib/python3.8/site-packages (from jinja2->notebook>=4.4.1->widgetsnbextension~=3.5.0->ipywidgets>=7.0.0->cufflinks) (1.1.1)\n",
      "Requirement already satisfied: mistune<2,>=0.8.1 in /opt/conda/lib/python3.8/site-packages (from nbconvert->notebook>=4.4.1->widgetsnbextension~=3.5.0->ipywidgets>=7.0.0->cufflinks) (0.8.4)\n",
      "Requirement already satisfied: jupyterlab-pygments in /opt/conda/lib/python3.8/site-packages (from nbconvert->notebook>=4.4.1->widgetsnbextension~=3.5.0->ipywidgets>=7.0.0->cufflinks) (0.1.2)\n",
      "Requirement already satisfied: bleach in /opt/conda/lib/python3.8/site-packages (from nbconvert->notebook>=4.4.1->widgetsnbextension~=3.5.0->ipywidgets>=7.0.0->cufflinks) (3.3.0)\n",
      "Requirement already satisfied: pandocfilters>=1.4.1 in /opt/conda/lib/python3.8/site-packages (from nbconvert->notebook>=4.4.1->widgetsnbextension~=3.5.0->ipywidgets>=7.0.0->cufflinks) (1.4.3)\n",
      "Requirement already satisfied: entrypoints>=0.2.2 in /opt/conda/lib/python3.8/site-packages (from nbconvert->notebook>=4.4.1->widgetsnbextension~=3.5.0->ipywidgets>=7.0.0->cufflinks) (0.3)\n",
      "Requirement already satisfied: defusedxml in /opt/conda/lib/python3.8/site-packages (from nbconvert->notebook>=4.4.1->widgetsnbextension~=3.5.0->ipywidgets>=7.0.0->cufflinks) (0.6.0)\n",
      "Requirement already satisfied: nbclient<0.6.0,>=0.5.0 in /opt/conda/lib/python3.8/site-packages (from nbconvert->notebook>=4.4.1->widgetsnbextension~=3.5.0->ipywidgets>=7.0.0->cufflinks) (0.5.1)\n",
      "Requirement already satisfied: testpath in /opt/conda/lib/python3.8/site-packages (from nbconvert->notebook>=4.4.1->widgetsnbextension~=3.5.0->ipywidgets>=7.0.0->cufflinks) (0.4.4)\n",
      "Requirement already satisfied: cffi>=1.0.0 in /opt/conda/lib/python3.8/site-packages (from argon2-cffi->notebook>=4.4.1->widgetsnbextension~=3.5.0->ipywidgets>=7.0.0->cufflinks) (1.14.4)\n",
      "Requirement already satisfied: webencodings in /opt/conda/lib/python3.8/site-packages (from bleach->nbconvert->notebook>=4.4.1->widgetsnbextension~=3.5.0->ipywidgets>=7.0.0->cufflinks) (0.5.1)\n",
      "Requirement already satisfied: packaging in /opt/conda/lib/python3.8/site-packages (from bleach->nbconvert->notebook>=4.4.1->widgetsnbextension~=3.5.0->ipywidgets>=7.0.0->cufflinks) (20.9)\n",
      "Requirement already satisfied: nest-asyncio in /opt/conda/lib/python3.8/site-packages (from nbclient<0.6.0,>=0.5.0->nbconvert->notebook>=4.4.1->widgetsnbextension~=3.5.0->ipywidgets>=7.0.0->cufflinks) (1.2.0)\n",
      "Requirement already satisfied: async-generator in /opt/conda/lib/python3.8/site-packages (from nbclient<0.6.0,>=0.5.0->nbconvert->notebook>=4.4.1->widgetsnbextension~=3.5.0->ipywidgets>=7.0.0->cufflinks) (1.10)\n",
      "Requirement already satisfied: pycparser in /opt/conda/lib/python3.8/site-packages (from cffi>=1.0.0->argon2-cffi->notebook>=4.4.1->widgetsnbextension~=3.5.0->ipywidgets>=7.0.0->cufflinks) (2.20)\n",
      "Requirement already satisfied: pyparsing>=2.0.2 in /opt/conda/lib/python3.8/site-packages (from packaging->bleach->nbconvert->notebook>=4.4.1->widgetsnbextension~=3.5.0->ipywidgets>=7.0.0->cufflinks) (2.4.7)\n"
     ]
    }
   ],
   "source": [
    "!pip install wbdata \n",
    "import wbdata \n",
    "!pip install cufflinks \n",
    "import cufflinks as cf\n",
    "import plotly.express as px"
   ]
  },
  {
   "cell_type": "markdown",
   "metadata": {},
   "source": [
    "## China's One Child Policy (1979)\n",
    "- The fertility rate decreased after 1980, birth rate decreased after 1980.\n",
    "- The overall rate of natural increase (the difference between the birth rate and the death rate) declined.\n",
    "- The Chinese government estimated that some 400 million births were prevented by the policy, although some analysts dispute this finding."
   ]
  },
  {
   "cell_type": "markdown",
   "metadata": {},
   "source": [
    "#### The fertility rate decreased after 1980, birth rate decreased after 1980."
   ]
  },
  {
   "cell_type": "code",
   "execution_count": 17,
   "metadata": {},
   "outputs": [
    {
     "data": {
      "text/html": [
       "<div>\n",
       "<style scoped>\n",
       "    .dataframe tbody tr th:only-of-type {\n",
       "        vertical-align: middle;\n",
       "    }\n",
       "\n",
       "    .dataframe tbody tr th {\n",
       "        vertical-align: top;\n",
       "    }\n",
       "\n",
       "    .dataframe thead th {\n",
       "        text-align: right;\n",
       "    }\n",
       "</style>\n",
       "<table border=\"1\" class=\"dataframe\">\n",
       "  <thead>\n",
       "    <tr style=\"text-align: right;\">\n",
       "      <th></th>\n",
       "      <th>Fertility rate of China</th>\n",
       "      <th>Birth Rate of China</th>\n",
       "    </tr>\n",
       "    <tr>\n",
       "      <th>date</th>\n",
       "      <th></th>\n",
       "      <th></th>\n",
       "    </tr>\n",
       "  </thead>\n",
       "  <tbody>\n",
       "    <tr>\n",
       "      <th>2018</th>\n",
       "      <td>1.690</td>\n",
       "      <td>10.90</td>\n",
       "    </tr>\n",
       "    <tr>\n",
       "      <th>2017</th>\n",
       "      <td>1.683</td>\n",
       "      <td>12.43</td>\n",
       "    </tr>\n",
       "    <tr>\n",
       "      <th>2016</th>\n",
       "      <td>1.675</td>\n",
       "      <td>12.95</td>\n",
       "    </tr>\n",
       "    <tr>\n",
       "      <th>2015</th>\n",
       "      <td>1.665</td>\n",
       "      <td>12.07</td>\n",
       "    </tr>\n",
       "    <tr>\n",
       "      <th>2014</th>\n",
       "      <td>1.656</td>\n",
       "      <td>12.37</td>\n",
       "    </tr>\n",
       "  </tbody>\n",
       "</table>\n",
       "</div>"
      ],
      "text/plain": [
       "      Fertility rate of China  Birth Rate of China\n",
       "date                                              \n",
       "2018                    1.690                10.90\n",
       "2017                    1.683                12.43\n",
       "2016                    1.675                12.95\n",
       "2015                    1.665                12.07\n",
       "2014                    1.656                12.37"
      ]
     },
     "execution_count": 17,
     "metadata": {},
     "output_type": "execute_result"
    }
   ],
   "source": [
    "chn_var1 = {\"SP.DYN.TFRT.IN\":\"Fertility rate of China\",\n",
    "                   \"SP.DYN.CBRT.IN\":\"Birth Rate of China\"}                                                   \n",
    "chn1 = wbdata.get_dataframe(variable1, country=\"CHN\")\n",
    "chn1.index = chn1.index.astype(int)\n",
    "\n",
    "#Removing NaN Values\n",
    "chn1 = chn1.iloc[2:,:]\n",
    "chn1.head()"
   ]
  },
  {
   "cell_type": "code",
   "execution_count": 23,
   "metadata": {
    "scrolled": false
   },
   "outputs": [
    {
     "data": {
      "application/vnd.plotly.v1+json": {
       "config": {
        "plotlyServerURL": "https://plot.ly"
       },
       "data": [
        {
         "hovertemplate": "variable=Fertility rate of China<br>year=%{x}<br>rate (%)=%{y}<extra></extra>",
         "legendgroup": "Fertility rate of China",
         "line": {
          "color": "#636efa",
          "dash": "solid"
         },
         "mode": "lines",
         "name": "Fertility rate of China",
         "orientation": "v",
         "showlegend": true,
         "type": "scatter",
         "x": [
          2018,
          2017,
          2016,
          2015,
          2014,
          2013,
          2012,
          2011,
          2010,
          2009,
          2008,
          2007,
          2006,
          2005,
          2004,
          2003,
          2002,
          2001,
          2000,
          1999,
          1998,
          1997,
          1996,
          1995,
          1994,
          1993,
          1992,
          1991,
          1990,
          1989,
          1988,
          1987,
          1986,
          1985,
          1984,
          1983,
          1982,
          1981,
          1980,
          1979,
          1978,
          1977,
          1976,
          1975,
          1974,
          1973,
          1972,
          1971,
          1970,
          1969,
          1968,
          1967,
          1966,
          1965,
          1964,
          1963,
          1962,
          1961,
          1960
         ],
         "xaxis": "x",
         "y": [
          1.69,
          1.683,
          1.675,
          1.665,
          1.656,
          1.647,
          1.639,
          1.632,
          1.627,
          1.623,
          1.62,
          1.617,
          1.615,
          1.612,
          1.608,
          1.604,
          1.6,
          1.597,
          1.596,
          1.595,
          1.597,
          1.605,
          1.622,
          1.66,
          1.731,
          1.838,
          1.977,
          2.14,
          2.309,
          2.46,
          2.575,
          2.643,
          2.666,
          2.65,
          2.607,
          2.561,
          2.536,
          2.547,
          2.613,
          2.745,
          2.943,
          3.2,
          3.508,
          3.859,
          4.244,
          4.643,
          5.035,
          5.403,
          5.725,
          5.986,
          6.184,
          6.316,
          6.384,
          6.385,
          6.32,
          6.206,
          6.062,
          5.905,
          5.756
         ],
         "yaxis": "y"
        },
        {
         "hovertemplate": "variable=Birth Rate of China<br>year=%{x}<br>rate (%)=%{y}<extra></extra>",
         "legendgroup": "Birth Rate of China",
         "line": {
          "color": "#EF553B",
          "dash": "solid"
         },
         "mode": "lines",
         "name": "Birth Rate of China",
         "orientation": "v",
         "showlegend": true,
         "type": "scatter",
         "x": [
          2018,
          2017,
          2016,
          2015,
          2014,
          2013,
          2012,
          2011,
          2010,
          2009,
          2008,
          2007,
          2006,
          2005,
          2004,
          2003,
          2002,
          2001,
          2000,
          1999,
          1998,
          1997,
          1996,
          1995,
          1994,
          1993,
          1992,
          1991,
          1990,
          1989,
          1988,
          1987,
          1986,
          1985,
          1984,
          1983,
          1982,
          1981,
          1980,
          1979,
          1978,
          1977,
          1976,
          1975,
          1974,
          1973,
          1972,
          1971,
          1970,
          1969,
          1968,
          1967,
          1966,
          1965,
          1964,
          1963,
          1962,
          1961,
          1960
         ],
         "xaxis": "x",
         "y": [
          10.9,
          12.43,
          12.95,
          12.07,
          12.37,
          12.08,
          12.1,
          11.93,
          11.9,
          12.13,
          12.14,
          12.1,
          12.09,
          12.4,
          12.29,
          12.41,
          12.86,
          13.38,
          14.03,
          14.64,
          15.64,
          16.57,
          16.98,
          17.12,
          17.7,
          18.09,
          18.27,
          19.68,
          21.06,
          21.58,
          22.37,
          23.33,
          22.43,
          21.04,
          19.9,
          20.19,
          22.28,
          20.91,
          18.21,
          17.82,
          18.25,
          18.93,
          19.91,
          23.01,
          24.82,
          27.93,
          29.77,
          30.65,
          33.43,
          34.11,
          35.59,
          33.96,
          35.05,
          37.88,
          39.14,
          43.37,
          37.01,
          18.02,
          20.86
         ],
         "yaxis": "y"
        }
       ],
       "layout": {
        "legend": {
         "title": {
          "text": "variable"
         },
         "tracegroupgap": 0
        },
        "template": {
         "data": {
          "bar": [
           {
            "error_x": {
             "color": "#2a3f5f"
            },
            "error_y": {
             "color": "#2a3f5f"
            },
            "marker": {
             "line": {
              "color": "#E5ECF6",
              "width": 0.5
             }
            },
            "type": "bar"
           }
          ],
          "barpolar": [
           {
            "marker": {
             "line": {
              "color": "#E5ECF6",
              "width": 0.5
             }
            },
            "type": "barpolar"
           }
          ],
          "carpet": [
           {
            "aaxis": {
             "endlinecolor": "#2a3f5f",
             "gridcolor": "white",
             "linecolor": "white",
             "minorgridcolor": "white",
             "startlinecolor": "#2a3f5f"
            },
            "baxis": {
             "endlinecolor": "#2a3f5f",
             "gridcolor": "white",
             "linecolor": "white",
             "minorgridcolor": "white",
             "startlinecolor": "#2a3f5f"
            },
            "type": "carpet"
           }
          ],
          "choropleth": [
           {
            "colorbar": {
             "outlinewidth": 0,
             "ticks": ""
            },
            "type": "choropleth"
           }
          ],
          "contour": [
           {
            "colorbar": {
             "outlinewidth": 0,
             "ticks": ""
            },
            "colorscale": [
             [
              0,
              "#0d0887"
             ],
             [
              0.1111111111111111,
              "#46039f"
             ],
             [
              0.2222222222222222,
              "#7201a8"
             ],
             [
              0.3333333333333333,
              "#9c179e"
             ],
             [
              0.4444444444444444,
              "#bd3786"
             ],
             [
              0.5555555555555556,
              "#d8576b"
             ],
             [
              0.6666666666666666,
              "#ed7953"
             ],
             [
              0.7777777777777778,
              "#fb9f3a"
             ],
             [
              0.8888888888888888,
              "#fdca26"
             ],
             [
              1,
              "#f0f921"
             ]
            ],
            "type": "contour"
           }
          ],
          "contourcarpet": [
           {
            "colorbar": {
             "outlinewidth": 0,
             "ticks": ""
            },
            "type": "contourcarpet"
           }
          ],
          "heatmap": [
           {
            "colorbar": {
             "outlinewidth": 0,
             "ticks": ""
            },
            "colorscale": [
             [
              0,
              "#0d0887"
             ],
             [
              0.1111111111111111,
              "#46039f"
             ],
             [
              0.2222222222222222,
              "#7201a8"
             ],
             [
              0.3333333333333333,
              "#9c179e"
             ],
             [
              0.4444444444444444,
              "#bd3786"
             ],
             [
              0.5555555555555556,
              "#d8576b"
             ],
             [
              0.6666666666666666,
              "#ed7953"
             ],
             [
              0.7777777777777778,
              "#fb9f3a"
             ],
             [
              0.8888888888888888,
              "#fdca26"
             ],
             [
              1,
              "#f0f921"
             ]
            ],
            "type": "heatmap"
           }
          ],
          "heatmapgl": [
           {
            "colorbar": {
             "outlinewidth": 0,
             "ticks": ""
            },
            "colorscale": [
             [
              0,
              "#0d0887"
             ],
             [
              0.1111111111111111,
              "#46039f"
             ],
             [
              0.2222222222222222,
              "#7201a8"
             ],
             [
              0.3333333333333333,
              "#9c179e"
             ],
             [
              0.4444444444444444,
              "#bd3786"
             ],
             [
              0.5555555555555556,
              "#d8576b"
             ],
             [
              0.6666666666666666,
              "#ed7953"
             ],
             [
              0.7777777777777778,
              "#fb9f3a"
             ],
             [
              0.8888888888888888,
              "#fdca26"
             ],
             [
              1,
              "#f0f921"
             ]
            ],
            "type": "heatmapgl"
           }
          ],
          "histogram": [
           {
            "marker": {
             "colorbar": {
              "outlinewidth": 0,
              "ticks": ""
             }
            },
            "type": "histogram"
           }
          ],
          "histogram2d": [
           {
            "colorbar": {
             "outlinewidth": 0,
             "ticks": ""
            },
            "colorscale": [
             [
              0,
              "#0d0887"
             ],
             [
              0.1111111111111111,
              "#46039f"
             ],
             [
              0.2222222222222222,
              "#7201a8"
             ],
             [
              0.3333333333333333,
              "#9c179e"
             ],
             [
              0.4444444444444444,
              "#bd3786"
             ],
             [
              0.5555555555555556,
              "#d8576b"
             ],
             [
              0.6666666666666666,
              "#ed7953"
             ],
             [
              0.7777777777777778,
              "#fb9f3a"
             ],
             [
              0.8888888888888888,
              "#fdca26"
             ],
             [
              1,
              "#f0f921"
             ]
            ],
            "type": "histogram2d"
           }
          ],
          "histogram2dcontour": [
           {
            "colorbar": {
             "outlinewidth": 0,
             "ticks": ""
            },
            "colorscale": [
             [
              0,
              "#0d0887"
             ],
             [
              0.1111111111111111,
              "#46039f"
             ],
             [
              0.2222222222222222,
              "#7201a8"
             ],
             [
              0.3333333333333333,
              "#9c179e"
             ],
             [
              0.4444444444444444,
              "#bd3786"
             ],
             [
              0.5555555555555556,
              "#d8576b"
             ],
             [
              0.6666666666666666,
              "#ed7953"
             ],
             [
              0.7777777777777778,
              "#fb9f3a"
             ],
             [
              0.8888888888888888,
              "#fdca26"
             ],
             [
              1,
              "#f0f921"
             ]
            ],
            "type": "histogram2dcontour"
           }
          ],
          "mesh3d": [
           {
            "colorbar": {
             "outlinewidth": 0,
             "ticks": ""
            },
            "type": "mesh3d"
           }
          ],
          "parcoords": [
           {
            "line": {
             "colorbar": {
              "outlinewidth": 0,
              "ticks": ""
             }
            },
            "type": "parcoords"
           }
          ],
          "pie": [
           {
            "automargin": true,
            "type": "pie"
           }
          ],
          "scatter": [
           {
            "marker": {
             "colorbar": {
              "outlinewidth": 0,
              "ticks": ""
             }
            },
            "type": "scatter"
           }
          ],
          "scatter3d": [
           {
            "line": {
             "colorbar": {
              "outlinewidth": 0,
              "ticks": ""
             }
            },
            "marker": {
             "colorbar": {
              "outlinewidth": 0,
              "ticks": ""
             }
            },
            "type": "scatter3d"
           }
          ],
          "scattercarpet": [
           {
            "marker": {
             "colorbar": {
              "outlinewidth": 0,
              "ticks": ""
             }
            },
            "type": "scattercarpet"
           }
          ],
          "scattergeo": [
           {
            "marker": {
             "colorbar": {
              "outlinewidth": 0,
              "ticks": ""
             }
            },
            "type": "scattergeo"
           }
          ],
          "scattergl": [
           {
            "marker": {
             "colorbar": {
              "outlinewidth": 0,
              "ticks": ""
             }
            },
            "type": "scattergl"
           }
          ],
          "scattermapbox": [
           {
            "marker": {
             "colorbar": {
              "outlinewidth": 0,
              "ticks": ""
             }
            },
            "type": "scattermapbox"
           }
          ],
          "scatterpolar": [
           {
            "marker": {
             "colorbar": {
              "outlinewidth": 0,
              "ticks": ""
             }
            },
            "type": "scatterpolar"
           }
          ],
          "scatterpolargl": [
           {
            "marker": {
             "colorbar": {
              "outlinewidth": 0,
              "ticks": ""
             }
            },
            "type": "scatterpolargl"
           }
          ],
          "scatterternary": [
           {
            "marker": {
             "colorbar": {
              "outlinewidth": 0,
              "ticks": ""
             }
            },
            "type": "scatterternary"
           }
          ],
          "surface": [
           {
            "colorbar": {
             "outlinewidth": 0,
             "ticks": ""
            },
            "colorscale": [
             [
              0,
              "#0d0887"
             ],
             [
              0.1111111111111111,
              "#46039f"
             ],
             [
              0.2222222222222222,
              "#7201a8"
             ],
             [
              0.3333333333333333,
              "#9c179e"
             ],
             [
              0.4444444444444444,
              "#bd3786"
             ],
             [
              0.5555555555555556,
              "#d8576b"
             ],
             [
              0.6666666666666666,
              "#ed7953"
             ],
             [
              0.7777777777777778,
              "#fb9f3a"
             ],
             [
              0.8888888888888888,
              "#fdca26"
             ],
             [
              1,
              "#f0f921"
             ]
            ],
            "type": "surface"
           }
          ],
          "table": [
           {
            "cells": {
             "fill": {
              "color": "#EBF0F8"
             },
             "line": {
              "color": "white"
             }
            },
            "header": {
             "fill": {
              "color": "#C8D4E3"
             },
             "line": {
              "color": "white"
             }
            },
            "type": "table"
           }
          ]
         },
         "layout": {
          "annotationdefaults": {
           "arrowcolor": "#2a3f5f",
           "arrowhead": 0,
           "arrowwidth": 1
          },
          "autotypenumbers": "strict",
          "coloraxis": {
           "colorbar": {
            "outlinewidth": 0,
            "ticks": ""
           }
          },
          "colorscale": {
           "diverging": [
            [
             0,
             "#8e0152"
            ],
            [
             0.1,
             "#c51b7d"
            ],
            [
             0.2,
             "#de77ae"
            ],
            [
             0.3,
             "#f1b6da"
            ],
            [
             0.4,
             "#fde0ef"
            ],
            [
             0.5,
             "#f7f7f7"
            ],
            [
             0.6,
             "#e6f5d0"
            ],
            [
             0.7,
             "#b8e186"
            ],
            [
             0.8,
             "#7fbc41"
            ],
            [
             0.9,
             "#4d9221"
            ],
            [
             1,
             "#276419"
            ]
           ],
           "sequential": [
            [
             0,
             "#0d0887"
            ],
            [
             0.1111111111111111,
             "#46039f"
            ],
            [
             0.2222222222222222,
             "#7201a8"
            ],
            [
             0.3333333333333333,
             "#9c179e"
            ],
            [
             0.4444444444444444,
             "#bd3786"
            ],
            [
             0.5555555555555556,
             "#d8576b"
            ],
            [
             0.6666666666666666,
             "#ed7953"
            ],
            [
             0.7777777777777778,
             "#fb9f3a"
            ],
            [
             0.8888888888888888,
             "#fdca26"
            ],
            [
             1,
             "#f0f921"
            ]
           ],
           "sequentialminus": [
            [
             0,
             "#0d0887"
            ],
            [
             0.1111111111111111,
             "#46039f"
            ],
            [
             0.2222222222222222,
             "#7201a8"
            ],
            [
             0.3333333333333333,
             "#9c179e"
            ],
            [
             0.4444444444444444,
             "#bd3786"
            ],
            [
             0.5555555555555556,
             "#d8576b"
            ],
            [
             0.6666666666666666,
             "#ed7953"
            ],
            [
             0.7777777777777778,
             "#fb9f3a"
            ],
            [
             0.8888888888888888,
             "#fdca26"
            ],
            [
             1,
             "#f0f921"
            ]
           ]
          },
          "colorway": [
           "#636efa",
           "#EF553B",
           "#00cc96",
           "#ab63fa",
           "#FFA15A",
           "#19d3f3",
           "#FF6692",
           "#B6E880",
           "#FF97FF",
           "#FECB52"
          ],
          "font": {
           "color": "#2a3f5f"
          },
          "geo": {
           "bgcolor": "white",
           "lakecolor": "white",
           "landcolor": "#E5ECF6",
           "showlakes": true,
           "showland": true,
           "subunitcolor": "white"
          },
          "hoverlabel": {
           "align": "left"
          },
          "hovermode": "closest",
          "mapbox": {
           "style": "light"
          },
          "paper_bgcolor": "white",
          "plot_bgcolor": "#E5ECF6",
          "polar": {
           "angularaxis": {
            "gridcolor": "white",
            "linecolor": "white",
            "ticks": ""
           },
           "bgcolor": "#E5ECF6",
           "radialaxis": {
            "gridcolor": "white",
            "linecolor": "white",
            "ticks": ""
           }
          },
          "scene": {
           "xaxis": {
            "backgroundcolor": "#E5ECF6",
            "gridcolor": "white",
            "gridwidth": 2,
            "linecolor": "white",
            "showbackground": true,
            "ticks": "",
            "zerolinecolor": "white"
           },
           "yaxis": {
            "backgroundcolor": "#E5ECF6",
            "gridcolor": "white",
            "gridwidth": 2,
            "linecolor": "white",
            "showbackground": true,
            "ticks": "",
            "zerolinecolor": "white"
           },
           "zaxis": {
            "backgroundcolor": "#E5ECF6",
            "gridcolor": "white",
            "gridwidth": 2,
            "linecolor": "white",
            "showbackground": true,
            "ticks": "",
            "zerolinecolor": "white"
           }
          },
          "shapedefaults": {
           "line": {
            "color": "#2a3f5f"
           }
          },
          "ternary": {
           "aaxis": {
            "gridcolor": "white",
            "linecolor": "white",
            "ticks": ""
           },
           "baxis": {
            "gridcolor": "white",
            "linecolor": "white",
            "ticks": ""
           },
           "bgcolor": "#E5ECF6",
           "caxis": {
            "gridcolor": "white",
            "linecolor": "white",
            "ticks": ""
           }
          },
          "title": {
           "x": 0.05
          },
          "xaxis": {
           "automargin": true,
           "gridcolor": "white",
           "linecolor": "white",
           "ticks": "",
           "title": {
            "standoff": 15
           },
           "zerolinecolor": "white",
           "zerolinewidth": 2
          },
          "yaxis": {
           "automargin": true,
           "gridcolor": "white",
           "linecolor": "white",
           "ticks": "",
           "title": {
            "standoff": 15
           },
           "zerolinecolor": "white",
           "zerolinewidth": 2
          }
         }
        },
        "title": {
         "text": "Fertility and Birth Rates of China"
        },
        "xaxis": {
         "anchor": "y",
         "domain": [
          0,
          1
         ],
         "title": {
          "text": "year"
         }
        },
        "yaxis": {
         "anchor": "x",
         "domain": [
          0,
          1
         ],
         "title": {
          "text": "rate (%)"
         }
        }
       }
      },
      "text/html": [
       "<div>                            <div id=\"1688211f-09a6-4c4b-b665-88c25edadae4\" class=\"plotly-graph-div\" style=\"height:525px; width:100%;\"></div>            <script type=\"text/javascript\">                require([\"plotly\"], function(Plotly) {                    window.PLOTLYENV=window.PLOTLYENV || {};                                    if (document.getElementById(\"1688211f-09a6-4c4b-b665-88c25edadae4\")) {                    Plotly.newPlot(                        \"1688211f-09a6-4c4b-b665-88c25edadae4\",                        [{\"hovertemplate\": \"variable=Fertility rate of China<br>year=%{x}<br>rate (%)=%{y}<extra></extra>\", \"legendgroup\": \"Fertility rate of China\", \"line\": {\"color\": \"#636efa\", \"dash\": \"solid\"}, \"mode\": \"lines\", \"name\": \"Fertility rate of China\", \"orientation\": \"v\", \"showlegend\": true, \"type\": \"scatter\", \"x\": [2018, 2017, 2016, 2015, 2014, 2013, 2012, 2011, 2010, 2009, 2008, 2007, 2006, 2005, 2004, 2003, 2002, 2001, 2000, 1999, 1998, 1997, 1996, 1995, 1994, 1993, 1992, 1991, 1990, 1989, 1988, 1987, 1986, 1985, 1984, 1983, 1982, 1981, 1980, 1979, 1978, 1977, 1976, 1975, 1974, 1973, 1972, 1971, 1970, 1969, 1968, 1967, 1966, 1965, 1964, 1963, 1962, 1961, 1960], \"xaxis\": \"x\", \"y\": [1.69, 1.683, 1.675, 1.665, 1.656, 1.647, 1.639, 1.632, 1.627, 1.623, 1.62, 1.617, 1.615, 1.612, 1.608, 1.604, 1.6, 1.597, 1.596, 1.595, 1.597, 1.605, 1.622, 1.66, 1.731, 1.838, 1.977, 2.14, 2.309, 2.46, 2.575, 2.643, 2.666, 2.65, 2.607, 2.561, 2.536, 2.547, 2.613, 2.745, 2.943, 3.2, 3.508, 3.859, 4.244, 4.643, 5.035, 5.403, 5.725, 5.986, 6.184, 6.316, 6.384, 6.385, 6.32, 6.206, 6.062, 5.905, 5.756], \"yaxis\": \"y\"}, {\"hovertemplate\": \"variable=Birth Rate of China<br>year=%{x}<br>rate (%)=%{y}<extra></extra>\", \"legendgroup\": \"Birth Rate of China\", \"line\": {\"color\": \"#EF553B\", \"dash\": \"solid\"}, \"mode\": \"lines\", \"name\": \"Birth Rate of China\", \"orientation\": \"v\", \"showlegend\": true, \"type\": \"scatter\", \"x\": [2018, 2017, 2016, 2015, 2014, 2013, 2012, 2011, 2010, 2009, 2008, 2007, 2006, 2005, 2004, 2003, 2002, 2001, 2000, 1999, 1998, 1997, 1996, 1995, 1994, 1993, 1992, 1991, 1990, 1989, 1988, 1987, 1986, 1985, 1984, 1983, 1982, 1981, 1980, 1979, 1978, 1977, 1976, 1975, 1974, 1973, 1972, 1971, 1970, 1969, 1968, 1967, 1966, 1965, 1964, 1963, 1962, 1961, 1960], \"xaxis\": \"x\", \"y\": [10.9, 12.43, 12.95, 12.07, 12.37, 12.08, 12.1, 11.93, 11.9, 12.13, 12.14, 12.1, 12.09, 12.4, 12.29, 12.41, 12.86, 13.38, 14.03, 14.64, 15.64, 16.57, 16.98, 17.12, 17.7, 18.09, 18.27, 19.68, 21.06, 21.58, 22.37, 23.33, 22.43, 21.04, 19.9, 20.19, 22.28, 20.91, 18.21, 17.82, 18.25, 18.93, 19.91, 23.01, 24.82, 27.93, 29.77, 30.65, 33.43, 34.11, 35.59, 33.96, 35.05, 37.88, 39.14, 43.37, 37.01, 18.02, 20.86], \"yaxis\": \"y\"}],                        {\"legend\": {\"title\": {\"text\": \"variable\"}, \"tracegroupgap\": 0}, \"template\": {\"data\": {\"bar\": [{\"error_x\": {\"color\": \"#2a3f5f\"}, \"error_y\": {\"color\": \"#2a3f5f\"}, \"marker\": {\"line\": {\"color\": \"#E5ECF6\", \"width\": 0.5}}, \"type\": \"bar\"}], \"barpolar\": [{\"marker\": {\"line\": {\"color\": \"#E5ECF6\", \"width\": 0.5}}, \"type\": \"barpolar\"}], \"carpet\": [{\"aaxis\": {\"endlinecolor\": \"#2a3f5f\", \"gridcolor\": \"white\", \"linecolor\": \"white\", \"minorgridcolor\": \"white\", \"startlinecolor\": \"#2a3f5f\"}, \"baxis\": {\"endlinecolor\": \"#2a3f5f\", \"gridcolor\": \"white\", \"linecolor\": \"white\", \"minorgridcolor\": \"white\", \"startlinecolor\": \"#2a3f5f\"}, \"type\": \"carpet\"}], \"choropleth\": [{\"colorbar\": {\"outlinewidth\": 0, \"ticks\": \"\"}, \"type\": \"choropleth\"}], \"contour\": [{\"colorbar\": {\"outlinewidth\": 0, \"ticks\": \"\"}, \"colorscale\": [[0.0, \"#0d0887\"], [0.1111111111111111, \"#46039f\"], [0.2222222222222222, \"#7201a8\"], [0.3333333333333333, \"#9c179e\"], [0.4444444444444444, \"#bd3786\"], [0.5555555555555556, \"#d8576b\"], [0.6666666666666666, \"#ed7953\"], [0.7777777777777778, \"#fb9f3a\"], [0.8888888888888888, \"#fdca26\"], [1.0, \"#f0f921\"]], \"type\": \"contour\"}], \"contourcarpet\": [{\"colorbar\": {\"outlinewidth\": 0, \"ticks\": \"\"}, \"type\": \"contourcarpet\"}], \"heatmap\": [{\"colorbar\": {\"outlinewidth\": 0, \"ticks\": \"\"}, \"colorscale\": [[0.0, \"#0d0887\"], [0.1111111111111111, \"#46039f\"], [0.2222222222222222, \"#7201a8\"], [0.3333333333333333, \"#9c179e\"], [0.4444444444444444, \"#bd3786\"], [0.5555555555555556, \"#d8576b\"], [0.6666666666666666, \"#ed7953\"], [0.7777777777777778, \"#fb9f3a\"], [0.8888888888888888, \"#fdca26\"], [1.0, \"#f0f921\"]], \"type\": \"heatmap\"}], \"heatmapgl\": [{\"colorbar\": {\"outlinewidth\": 0, \"ticks\": \"\"}, \"colorscale\": [[0.0, \"#0d0887\"], [0.1111111111111111, \"#46039f\"], [0.2222222222222222, \"#7201a8\"], [0.3333333333333333, \"#9c179e\"], [0.4444444444444444, \"#bd3786\"], [0.5555555555555556, \"#d8576b\"], [0.6666666666666666, \"#ed7953\"], [0.7777777777777778, \"#fb9f3a\"], [0.8888888888888888, \"#fdca26\"], [1.0, \"#f0f921\"]], \"type\": \"heatmapgl\"}], \"histogram\": [{\"marker\": {\"colorbar\": {\"outlinewidth\": 0, \"ticks\": \"\"}}, \"type\": \"histogram\"}], \"histogram2d\": [{\"colorbar\": {\"outlinewidth\": 0, \"ticks\": \"\"}, \"colorscale\": [[0.0, \"#0d0887\"], [0.1111111111111111, \"#46039f\"], [0.2222222222222222, \"#7201a8\"], [0.3333333333333333, \"#9c179e\"], [0.4444444444444444, \"#bd3786\"], [0.5555555555555556, \"#d8576b\"], [0.6666666666666666, \"#ed7953\"], [0.7777777777777778, \"#fb9f3a\"], [0.8888888888888888, \"#fdca26\"], [1.0, \"#f0f921\"]], \"type\": \"histogram2d\"}], \"histogram2dcontour\": [{\"colorbar\": {\"outlinewidth\": 0, \"ticks\": \"\"}, \"colorscale\": [[0.0, \"#0d0887\"], [0.1111111111111111, \"#46039f\"], [0.2222222222222222, \"#7201a8\"], [0.3333333333333333, \"#9c179e\"], [0.4444444444444444, \"#bd3786\"], [0.5555555555555556, \"#d8576b\"], [0.6666666666666666, \"#ed7953\"], [0.7777777777777778, \"#fb9f3a\"], [0.8888888888888888, \"#fdca26\"], [1.0, \"#f0f921\"]], \"type\": \"histogram2dcontour\"}], \"mesh3d\": [{\"colorbar\": {\"outlinewidth\": 0, \"ticks\": \"\"}, \"type\": \"mesh3d\"}], \"parcoords\": [{\"line\": {\"colorbar\": {\"outlinewidth\": 0, \"ticks\": \"\"}}, \"type\": \"parcoords\"}], \"pie\": [{\"automargin\": true, \"type\": \"pie\"}], \"scatter\": [{\"marker\": {\"colorbar\": {\"outlinewidth\": 0, \"ticks\": \"\"}}, \"type\": \"scatter\"}], \"scatter3d\": [{\"line\": {\"colorbar\": {\"outlinewidth\": 0, \"ticks\": \"\"}}, \"marker\": {\"colorbar\": {\"outlinewidth\": 0, \"ticks\": \"\"}}, \"type\": \"scatter3d\"}], \"scattercarpet\": [{\"marker\": {\"colorbar\": {\"outlinewidth\": 0, \"ticks\": \"\"}}, \"type\": \"scattercarpet\"}], \"scattergeo\": [{\"marker\": {\"colorbar\": {\"outlinewidth\": 0, \"ticks\": \"\"}}, \"type\": \"scattergeo\"}], \"scattergl\": [{\"marker\": {\"colorbar\": {\"outlinewidth\": 0, \"ticks\": \"\"}}, \"type\": \"scattergl\"}], \"scattermapbox\": [{\"marker\": {\"colorbar\": {\"outlinewidth\": 0, \"ticks\": \"\"}}, \"type\": \"scattermapbox\"}], \"scatterpolar\": [{\"marker\": {\"colorbar\": {\"outlinewidth\": 0, \"ticks\": \"\"}}, \"type\": \"scatterpolar\"}], \"scatterpolargl\": [{\"marker\": {\"colorbar\": {\"outlinewidth\": 0, \"ticks\": \"\"}}, \"type\": \"scatterpolargl\"}], \"scatterternary\": [{\"marker\": {\"colorbar\": {\"outlinewidth\": 0, \"ticks\": \"\"}}, \"type\": \"scatterternary\"}], \"surface\": [{\"colorbar\": {\"outlinewidth\": 0, \"ticks\": \"\"}, \"colorscale\": [[0.0, \"#0d0887\"], [0.1111111111111111, \"#46039f\"], [0.2222222222222222, \"#7201a8\"], [0.3333333333333333, \"#9c179e\"], [0.4444444444444444, \"#bd3786\"], [0.5555555555555556, \"#d8576b\"], [0.6666666666666666, \"#ed7953\"], [0.7777777777777778, \"#fb9f3a\"], [0.8888888888888888, \"#fdca26\"], [1.0, \"#f0f921\"]], \"type\": \"surface\"}], \"table\": [{\"cells\": {\"fill\": {\"color\": \"#EBF0F8\"}, \"line\": {\"color\": \"white\"}}, \"header\": {\"fill\": {\"color\": \"#C8D4E3\"}, \"line\": {\"color\": \"white\"}}, \"type\": \"table\"}]}, \"layout\": {\"annotationdefaults\": {\"arrowcolor\": \"#2a3f5f\", \"arrowhead\": 0, \"arrowwidth\": 1}, \"autotypenumbers\": \"strict\", \"coloraxis\": {\"colorbar\": {\"outlinewidth\": 0, \"ticks\": \"\"}}, \"colorscale\": {\"diverging\": [[0, \"#8e0152\"], [0.1, \"#c51b7d\"], [0.2, \"#de77ae\"], [0.3, \"#f1b6da\"], [0.4, \"#fde0ef\"], [0.5, \"#f7f7f7\"], [0.6, \"#e6f5d0\"], [0.7, \"#b8e186\"], [0.8, \"#7fbc41\"], [0.9, \"#4d9221\"], [1, \"#276419\"]], \"sequential\": [[0.0, \"#0d0887\"], [0.1111111111111111, \"#46039f\"], [0.2222222222222222, \"#7201a8\"], [0.3333333333333333, \"#9c179e\"], [0.4444444444444444, \"#bd3786\"], [0.5555555555555556, \"#d8576b\"], [0.6666666666666666, \"#ed7953\"], [0.7777777777777778, \"#fb9f3a\"], [0.8888888888888888, \"#fdca26\"], [1.0, \"#f0f921\"]], \"sequentialminus\": [[0.0, \"#0d0887\"], [0.1111111111111111, \"#46039f\"], [0.2222222222222222, \"#7201a8\"], [0.3333333333333333, \"#9c179e\"], [0.4444444444444444, \"#bd3786\"], [0.5555555555555556, \"#d8576b\"], [0.6666666666666666, \"#ed7953\"], [0.7777777777777778, \"#fb9f3a\"], [0.8888888888888888, \"#fdca26\"], [1.0, \"#f0f921\"]]}, \"colorway\": [\"#636efa\", \"#EF553B\", \"#00cc96\", \"#ab63fa\", \"#FFA15A\", \"#19d3f3\", \"#FF6692\", \"#B6E880\", \"#FF97FF\", \"#FECB52\"], \"font\": {\"color\": \"#2a3f5f\"}, \"geo\": {\"bgcolor\": \"white\", \"lakecolor\": \"white\", \"landcolor\": \"#E5ECF6\", \"showlakes\": true, \"showland\": true, \"subunitcolor\": \"white\"}, \"hoverlabel\": {\"align\": \"left\"}, \"hovermode\": \"closest\", \"mapbox\": {\"style\": \"light\"}, \"paper_bgcolor\": \"white\", \"plot_bgcolor\": \"#E5ECF6\", \"polar\": {\"angularaxis\": {\"gridcolor\": \"white\", \"linecolor\": \"white\", \"ticks\": \"\"}, \"bgcolor\": \"#E5ECF6\", \"radialaxis\": {\"gridcolor\": \"white\", \"linecolor\": \"white\", \"ticks\": \"\"}}, \"scene\": {\"xaxis\": {\"backgroundcolor\": \"#E5ECF6\", \"gridcolor\": \"white\", \"gridwidth\": 2, \"linecolor\": \"white\", \"showbackground\": true, \"ticks\": \"\", \"zerolinecolor\": \"white\"}, \"yaxis\": {\"backgroundcolor\": \"#E5ECF6\", \"gridcolor\": \"white\", \"gridwidth\": 2, \"linecolor\": \"white\", \"showbackground\": true, \"ticks\": \"\", \"zerolinecolor\": \"white\"}, \"zaxis\": {\"backgroundcolor\": \"#E5ECF6\", \"gridcolor\": \"white\", \"gridwidth\": 2, \"linecolor\": \"white\", \"showbackground\": true, \"ticks\": \"\", \"zerolinecolor\": \"white\"}}, \"shapedefaults\": {\"line\": {\"color\": \"#2a3f5f\"}}, \"ternary\": {\"aaxis\": {\"gridcolor\": \"white\", \"linecolor\": \"white\", \"ticks\": \"\"}, \"baxis\": {\"gridcolor\": \"white\", \"linecolor\": \"white\", \"ticks\": \"\"}, \"bgcolor\": \"#E5ECF6\", \"caxis\": {\"gridcolor\": \"white\", \"linecolor\": \"white\", \"ticks\": \"\"}}, \"title\": {\"x\": 0.05}, \"xaxis\": {\"automargin\": true, \"gridcolor\": \"white\", \"linecolor\": \"white\", \"ticks\": \"\", \"title\": {\"standoff\": 15}, \"zerolinecolor\": \"white\", \"zerolinewidth\": 2}, \"yaxis\": {\"automargin\": true, \"gridcolor\": \"white\", \"linecolor\": \"white\", \"ticks\": \"\", \"title\": {\"standoff\": 15}, \"zerolinecolor\": \"white\", \"zerolinewidth\": 2}}}, \"title\": {\"text\": \"Fertility and Birth Rates of China\"}, \"xaxis\": {\"anchor\": \"y\", \"domain\": [0.0, 1.0], \"title\": {\"text\": \"year\"}}, \"yaxis\": {\"anchor\": \"x\", \"domain\": [0.0, 1.0], \"title\": {\"text\": \"rate (%)\"}}},                        {\"responsive\": true}                    ).then(function(){\n",
       "                            \n",
       "var gd = document.getElementById('1688211f-09a6-4c4b-b665-88c25edadae4');\n",
       "var x = new MutationObserver(function (mutations, observer) {{\n",
       "        var display = window.getComputedStyle(gd).display;\n",
       "        if (!display || display === 'none') {{\n",
       "            console.log([gd, 'removed!']);\n",
       "            Plotly.purge(gd);\n",
       "            observer.disconnect();\n",
       "        }}\n",
       "}});\n",
       "\n",
       "// Listen for the removal of the full notebook cells\n",
       "var notebookContainer = gd.closest('#notebook-container');\n",
       "if (notebookContainer) {{\n",
       "    x.observe(notebookContainer, {childList: true});\n",
       "}}\n",
       "\n",
       "// Listen for the clearing of the current output cell\n",
       "var outputEl = gd.closest('.output');\n",
       "if (outputEl) {{\n",
       "    x.observe(outputEl, {childList: true});\n",
       "}}\n",
       "\n",
       "                        })                };                });            </script>        </div>"
      ]
     },
     "metadata": {},
     "output_type": "display_data"
    }
   ],
   "source": [
    "fig1 = px.line(chn1, labels = {'date':'year', 'value':'rate (%)'}, title = \"Fertility and Birth Rates of China\")\n",
    "fig1.show();"
   ]
  },
  {
   "cell_type": "markdown",
   "metadata": {},
   "source": [
    "#### The overall rate of natural increase (the difference between the birth rate and the death rate) declined."
   ]
  },
  {
   "cell_type": "code",
   "execution_count": 20,
   "metadata": {},
   "outputs": [
    {
     "data": {
      "text/html": [
       "<div>\n",
       "<style scoped>\n",
       "    .dataframe tbody tr th:only-of-type {\n",
       "        vertical-align: middle;\n",
       "    }\n",
       "\n",
       "    .dataframe tbody tr th {\n",
       "        vertical-align: top;\n",
       "    }\n",
       "\n",
       "    .dataframe thead th {\n",
       "        text-align: right;\n",
       "    }\n",
       "</style>\n",
       "<table border=\"1\" class=\"dataframe\">\n",
       "  <thead>\n",
       "    <tr style=\"text-align: right;\">\n",
       "      <th></th>\n",
       "      <th>Birth rate</th>\n",
       "      <th>Death rate</th>\n",
       "      <th>Overall rate of natural increase</th>\n",
       "    </tr>\n",
       "    <tr>\n",
       "      <th>date</th>\n",
       "      <th></th>\n",
       "      <th></th>\n",
       "      <th></th>\n",
       "    </tr>\n",
       "  </thead>\n",
       "  <tbody>\n",
       "    <tr>\n",
       "      <th>2018</th>\n",
       "      <td>10.90</td>\n",
       "      <td>7.10</td>\n",
       "      <td>3.80</td>\n",
       "    </tr>\n",
       "    <tr>\n",
       "      <th>2017</th>\n",
       "      <td>12.43</td>\n",
       "      <td>7.11</td>\n",
       "      <td>5.32</td>\n",
       "    </tr>\n",
       "    <tr>\n",
       "      <th>2016</th>\n",
       "      <td>12.95</td>\n",
       "      <td>7.09</td>\n",
       "      <td>5.86</td>\n",
       "    </tr>\n",
       "    <tr>\n",
       "      <th>2015</th>\n",
       "      <td>12.07</td>\n",
       "      <td>7.11</td>\n",
       "      <td>4.96</td>\n",
       "    </tr>\n",
       "    <tr>\n",
       "      <th>2014</th>\n",
       "      <td>12.37</td>\n",
       "      <td>7.16</td>\n",
       "      <td>5.21</td>\n",
       "    </tr>\n",
       "  </tbody>\n",
       "</table>\n",
       "</div>"
      ],
      "text/plain": [
       "      Birth rate  Death rate  Overall rate of natural increase\n",
       "date                                                          \n",
       "2018       10.90        7.10                              3.80\n",
       "2017       12.43        7.11                              5.32\n",
       "2016       12.95        7.09                              5.86\n",
       "2015       12.07        7.11                              4.96\n",
       "2014       12.37        7.16                              5.21"
      ]
     },
     "execution_count": 20,
     "metadata": {},
     "output_type": "execute_result"
    }
   ],
   "source": [
    "chn_var2 = {'SP.DYN.CBRT.IN': 'Birth rate',\n",
    "            'SP.DYN.CDRT.IN': 'Death rate'}                                                   \n",
    "chn2 = wbdata.get_dataframe(chn_var2, country=\"CHN\")\n",
    "chn2.index = chn2.index.astype(int)\n",
    "\n",
    "#Removing NaN Values\n",
    "chn2 = chn2.iloc[2:,:]\n",
    "\n",
    "#Computing overall rate of natural increase\n",
    "chn2['Overall rate of natural increase'] = chn2['Birth rate'] - chn2['Death rate']\n",
    "chn2.head()"
   ]
  },
  {
   "cell_type": "code",
   "execution_count": 21,
   "metadata": {},
   "outputs": [
    {
     "data": {
      "application/vnd.plotly.v1+json": {
       "config": {
        "plotlyServerURL": "https://plot.ly"
       },
       "data": [
        {
         "hovertemplate": "variable=Birth rate<br>date=%{x}<br>value=%{y}<extra></extra>",
         "legendgroup": "Birth rate",
         "line": {
          "color": "#636efa",
          "dash": "solid"
         },
         "mode": "lines",
         "name": "Birth rate",
         "orientation": "v",
         "showlegend": true,
         "type": "scatter",
         "x": [
          2018,
          2017,
          2016,
          2015,
          2014,
          2013,
          2012,
          2011,
          2010,
          2009,
          2008,
          2007,
          2006,
          2005,
          2004,
          2003,
          2002,
          2001,
          2000,
          1999,
          1998,
          1997,
          1996,
          1995,
          1994,
          1993,
          1992,
          1991,
          1990,
          1989,
          1988,
          1987,
          1986,
          1985,
          1984,
          1983,
          1982,
          1981,
          1980,
          1979,
          1978,
          1977,
          1976,
          1975,
          1974,
          1973,
          1972,
          1971,
          1970,
          1969,
          1968,
          1967,
          1966,
          1965,
          1964,
          1963,
          1962,
          1961,
          1960
         ],
         "xaxis": "x",
         "y": [
          10.9,
          12.43,
          12.95,
          12.07,
          12.37,
          12.08,
          12.1,
          11.93,
          11.9,
          12.13,
          12.14,
          12.1,
          12.09,
          12.4,
          12.29,
          12.41,
          12.86,
          13.38,
          14.03,
          14.64,
          15.64,
          16.57,
          16.98,
          17.12,
          17.7,
          18.09,
          18.27,
          19.68,
          21.06,
          21.58,
          22.37,
          23.33,
          22.43,
          21.04,
          19.9,
          20.19,
          22.28,
          20.91,
          18.21,
          17.82,
          18.25,
          18.93,
          19.91,
          23.01,
          24.82,
          27.93,
          29.77,
          30.65,
          33.43,
          34.11,
          35.59,
          33.96,
          35.05,
          37.88,
          39.14,
          43.37,
          37.01,
          18.02,
          20.86
         ],
         "yaxis": "y"
        },
        {
         "hovertemplate": "variable=Death rate<br>date=%{x}<br>value=%{y}<extra></extra>",
         "legendgroup": "Death rate",
         "line": {
          "color": "#EF553B",
          "dash": "solid"
         },
         "mode": "lines",
         "name": "Death rate",
         "orientation": "v",
         "showlegend": true,
         "type": "scatter",
         "x": [
          2018,
          2017,
          2016,
          2015,
          2014,
          2013,
          2012,
          2011,
          2010,
          2009,
          2008,
          2007,
          2006,
          2005,
          2004,
          2003,
          2002,
          2001,
          2000,
          1999,
          1998,
          1997,
          1996,
          1995,
          1994,
          1993,
          1992,
          1991,
          1990,
          1989,
          1988,
          1987,
          1986,
          1985,
          1984,
          1983,
          1982,
          1981,
          1980,
          1979,
          1978,
          1977,
          1976,
          1975,
          1974,
          1973,
          1972,
          1971,
          1970,
          1969,
          1968,
          1967,
          1966,
          1965,
          1964,
          1963,
          1962,
          1961,
          1960
         ],
         "xaxis": "x",
         "y": [
          7.1,
          7.11,
          7.09,
          7.11,
          7.16,
          7.16,
          7.15,
          7.14,
          7.11,
          7.08,
          7.06,
          6.93,
          6.81,
          6.51,
          6.42,
          6.4,
          6.41,
          6.43,
          6.45,
          6.46,
          6.5,
          6.51,
          6.56,
          6.57,
          6.49,
          6.64,
          6.64,
          6.7,
          6.67,
          6.54,
          6.64,
          6.72,
          6.86,
          6.78,
          6.82,
          6.9,
          6.6,
          6.36,
          6.34,
          6.21,
          6.25,
          6.87,
          7.25,
          7.32,
          7.34,
          7.04,
          7.61,
          7.32,
          7.6,
          8.03,
          8.21,
          8.43,
          8.83,
          9.5,
          11.5,
          10.04,
          10.02,
          14.24,
          25.43
         ],
         "yaxis": "y"
        },
        {
         "hovertemplate": "variable=Overall rate of natural increase<br>date=%{x}<br>value=%{y}<extra></extra>",
         "legendgroup": "Overall rate of natural increase",
         "line": {
          "color": "#00cc96",
          "dash": "solid"
         },
         "mode": "lines",
         "name": "Overall rate of natural increase",
         "orientation": "v",
         "showlegend": true,
         "type": "scatter",
         "x": [
          2018,
          2017,
          2016,
          2015,
          2014,
          2013,
          2012,
          2011,
          2010,
          2009,
          2008,
          2007,
          2006,
          2005,
          2004,
          2003,
          2002,
          2001,
          2000,
          1999,
          1998,
          1997,
          1996,
          1995,
          1994,
          1993,
          1992,
          1991,
          1990,
          1989,
          1988,
          1987,
          1986,
          1985,
          1984,
          1983,
          1982,
          1981,
          1980,
          1979,
          1978,
          1977,
          1976,
          1975,
          1974,
          1973,
          1972,
          1971,
          1970,
          1969,
          1968,
          1967,
          1966,
          1965,
          1964,
          1963,
          1962,
          1961,
          1960
         ],
         "xaxis": "x",
         "y": [
          3.8000000000000007,
          5.319999999999999,
          5.859999999999999,
          4.96,
          5.209999999999999,
          4.92,
          4.949999999999999,
          4.79,
          4.79,
          5.050000000000001,
          5.080000000000001,
          5.17,
          5.28,
          5.890000000000001,
          5.869999999999999,
          6.01,
          6.449999999999999,
          6.950000000000001,
          7.579999999999999,
          8.18,
          9.14,
          10.06,
          10.420000000000002,
          10.55,
          11.209999999999999,
          11.45,
          11.629999999999999,
          12.98,
          14.389999999999999,
          15.04,
          15.73,
          16.61,
          15.57,
          14.259999999999998,
          13.079999999999998,
          13.290000000000001,
          15.680000000000001,
          14.55,
          11.870000000000001,
          11.61,
          12,
          12.059999999999999,
          12.66,
          15.690000000000001,
          17.48,
          20.89,
          22.16,
          23.33,
          25.83,
          26.08,
          27.380000000000003,
          25.53,
          26.22,
          28.380000000000003,
          27.64,
          33.33,
          26.99,
          3.7799999999999994,
          -4.57
         ],
         "yaxis": "y"
        }
       ],
       "layout": {
        "legend": {
         "title": {
          "text": "variable"
         },
         "tracegroupgap": 0
        },
        "margin": {
         "t": 60
        },
        "template": {
         "data": {
          "bar": [
           {
            "error_x": {
             "color": "#2a3f5f"
            },
            "error_y": {
             "color": "#2a3f5f"
            },
            "marker": {
             "line": {
              "color": "#E5ECF6",
              "width": 0.5
             }
            },
            "type": "bar"
           }
          ],
          "barpolar": [
           {
            "marker": {
             "line": {
              "color": "#E5ECF6",
              "width": 0.5
             }
            },
            "type": "barpolar"
           }
          ],
          "carpet": [
           {
            "aaxis": {
             "endlinecolor": "#2a3f5f",
             "gridcolor": "white",
             "linecolor": "white",
             "minorgridcolor": "white",
             "startlinecolor": "#2a3f5f"
            },
            "baxis": {
             "endlinecolor": "#2a3f5f",
             "gridcolor": "white",
             "linecolor": "white",
             "minorgridcolor": "white",
             "startlinecolor": "#2a3f5f"
            },
            "type": "carpet"
           }
          ],
          "choropleth": [
           {
            "colorbar": {
             "outlinewidth": 0,
             "ticks": ""
            },
            "type": "choropleth"
           }
          ],
          "contour": [
           {
            "colorbar": {
             "outlinewidth": 0,
             "ticks": ""
            },
            "colorscale": [
             [
              0,
              "#0d0887"
             ],
             [
              0.1111111111111111,
              "#46039f"
             ],
             [
              0.2222222222222222,
              "#7201a8"
             ],
             [
              0.3333333333333333,
              "#9c179e"
             ],
             [
              0.4444444444444444,
              "#bd3786"
             ],
             [
              0.5555555555555556,
              "#d8576b"
             ],
             [
              0.6666666666666666,
              "#ed7953"
             ],
             [
              0.7777777777777778,
              "#fb9f3a"
             ],
             [
              0.8888888888888888,
              "#fdca26"
             ],
             [
              1,
              "#f0f921"
             ]
            ],
            "type": "contour"
           }
          ],
          "contourcarpet": [
           {
            "colorbar": {
             "outlinewidth": 0,
             "ticks": ""
            },
            "type": "contourcarpet"
           }
          ],
          "heatmap": [
           {
            "colorbar": {
             "outlinewidth": 0,
             "ticks": ""
            },
            "colorscale": [
             [
              0,
              "#0d0887"
             ],
             [
              0.1111111111111111,
              "#46039f"
             ],
             [
              0.2222222222222222,
              "#7201a8"
             ],
             [
              0.3333333333333333,
              "#9c179e"
             ],
             [
              0.4444444444444444,
              "#bd3786"
             ],
             [
              0.5555555555555556,
              "#d8576b"
             ],
             [
              0.6666666666666666,
              "#ed7953"
             ],
             [
              0.7777777777777778,
              "#fb9f3a"
             ],
             [
              0.8888888888888888,
              "#fdca26"
             ],
             [
              1,
              "#f0f921"
             ]
            ],
            "type": "heatmap"
           }
          ],
          "heatmapgl": [
           {
            "colorbar": {
             "outlinewidth": 0,
             "ticks": ""
            },
            "colorscale": [
             [
              0,
              "#0d0887"
             ],
             [
              0.1111111111111111,
              "#46039f"
             ],
             [
              0.2222222222222222,
              "#7201a8"
             ],
             [
              0.3333333333333333,
              "#9c179e"
             ],
             [
              0.4444444444444444,
              "#bd3786"
             ],
             [
              0.5555555555555556,
              "#d8576b"
             ],
             [
              0.6666666666666666,
              "#ed7953"
             ],
             [
              0.7777777777777778,
              "#fb9f3a"
             ],
             [
              0.8888888888888888,
              "#fdca26"
             ],
             [
              1,
              "#f0f921"
             ]
            ],
            "type": "heatmapgl"
           }
          ],
          "histogram": [
           {
            "marker": {
             "colorbar": {
              "outlinewidth": 0,
              "ticks": ""
             }
            },
            "type": "histogram"
           }
          ],
          "histogram2d": [
           {
            "colorbar": {
             "outlinewidth": 0,
             "ticks": ""
            },
            "colorscale": [
             [
              0,
              "#0d0887"
             ],
             [
              0.1111111111111111,
              "#46039f"
             ],
             [
              0.2222222222222222,
              "#7201a8"
             ],
             [
              0.3333333333333333,
              "#9c179e"
             ],
             [
              0.4444444444444444,
              "#bd3786"
             ],
             [
              0.5555555555555556,
              "#d8576b"
             ],
             [
              0.6666666666666666,
              "#ed7953"
             ],
             [
              0.7777777777777778,
              "#fb9f3a"
             ],
             [
              0.8888888888888888,
              "#fdca26"
             ],
             [
              1,
              "#f0f921"
             ]
            ],
            "type": "histogram2d"
           }
          ],
          "histogram2dcontour": [
           {
            "colorbar": {
             "outlinewidth": 0,
             "ticks": ""
            },
            "colorscale": [
             [
              0,
              "#0d0887"
             ],
             [
              0.1111111111111111,
              "#46039f"
             ],
             [
              0.2222222222222222,
              "#7201a8"
             ],
             [
              0.3333333333333333,
              "#9c179e"
             ],
             [
              0.4444444444444444,
              "#bd3786"
             ],
             [
              0.5555555555555556,
              "#d8576b"
             ],
             [
              0.6666666666666666,
              "#ed7953"
             ],
             [
              0.7777777777777778,
              "#fb9f3a"
             ],
             [
              0.8888888888888888,
              "#fdca26"
             ],
             [
              1,
              "#f0f921"
             ]
            ],
            "type": "histogram2dcontour"
           }
          ],
          "mesh3d": [
           {
            "colorbar": {
             "outlinewidth": 0,
             "ticks": ""
            },
            "type": "mesh3d"
           }
          ],
          "parcoords": [
           {
            "line": {
             "colorbar": {
              "outlinewidth": 0,
              "ticks": ""
             }
            },
            "type": "parcoords"
           }
          ],
          "pie": [
           {
            "automargin": true,
            "type": "pie"
           }
          ],
          "scatter": [
           {
            "marker": {
             "colorbar": {
              "outlinewidth": 0,
              "ticks": ""
             }
            },
            "type": "scatter"
           }
          ],
          "scatter3d": [
           {
            "line": {
             "colorbar": {
              "outlinewidth": 0,
              "ticks": ""
             }
            },
            "marker": {
             "colorbar": {
              "outlinewidth": 0,
              "ticks": ""
             }
            },
            "type": "scatter3d"
           }
          ],
          "scattercarpet": [
           {
            "marker": {
             "colorbar": {
              "outlinewidth": 0,
              "ticks": ""
             }
            },
            "type": "scattercarpet"
           }
          ],
          "scattergeo": [
           {
            "marker": {
             "colorbar": {
              "outlinewidth": 0,
              "ticks": ""
             }
            },
            "type": "scattergeo"
           }
          ],
          "scattergl": [
           {
            "marker": {
             "colorbar": {
              "outlinewidth": 0,
              "ticks": ""
             }
            },
            "type": "scattergl"
           }
          ],
          "scattermapbox": [
           {
            "marker": {
             "colorbar": {
              "outlinewidth": 0,
              "ticks": ""
             }
            },
            "type": "scattermapbox"
           }
          ],
          "scatterpolar": [
           {
            "marker": {
             "colorbar": {
              "outlinewidth": 0,
              "ticks": ""
             }
            },
            "type": "scatterpolar"
           }
          ],
          "scatterpolargl": [
           {
            "marker": {
             "colorbar": {
              "outlinewidth": 0,
              "ticks": ""
             }
            },
            "type": "scatterpolargl"
           }
          ],
          "scatterternary": [
           {
            "marker": {
             "colorbar": {
              "outlinewidth": 0,
              "ticks": ""
             }
            },
            "type": "scatterternary"
           }
          ],
          "surface": [
           {
            "colorbar": {
             "outlinewidth": 0,
             "ticks": ""
            },
            "colorscale": [
             [
              0,
              "#0d0887"
             ],
             [
              0.1111111111111111,
              "#46039f"
             ],
             [
              0.2222222222222222,
              "#7201a8"
             ],
             [
              0.3333333333333333,
              "#9c179e"
             ],
             [
              0.4444444444444444,
              "#bd3786"
             ],
             [
              0.5555555555555556,
              "#d8576b"
             ],
             [
              0.6666666666666666,
              "#ed7953"
             ],
             [
              0.7777777777777778,
              "#fb9f3a"
             ],
             [
              0.8888888888888888,
              "#fdca26"
             ],
             [
              1,
              "#f0f921"
             ]
            ],
            "type": "surface"
           }
          ],
          "table": [
           {
            "cells": {
             "fill": {
              "color": "#EBF0F8"
             },
             "line": {
              "color": "white"
             }
            },
            "header": {
             "fill": {
              "color": "#C8D4E3"
             },
             "line": {
              "color": "white"
             }
            },
            "type": "table"
           }
          ]
         },
         "layout": {
          "annotationdefaults": {
           "arrowcolor": "#2a3f5f",
           "arrowhead": 0,
           "arrowwidth": 1
          },
          "autotypenumbers": "strict",
          "coloraxis": {
           "colorbar": {
            "outlinewidth": 0,
            "ticks": ""
           }
          },
          "colorscale": {
           "diverging": [
            [
             0,
             "#8e0152"
            ],
            [
             0.1,
             "#c51b7d"
            ],
            [
             0.2,
             "#de77ae"
            ],
            [
             0.3,
             "#f1b6da"
            ],
            [
             0.4,
             "#fde0ef"
            ],
            [
             0.5,
             "#f7f7f7"
            ],
            [
             0.6,
             "#e6f5d0"
            ],
            [
             0.7,
             "#b8e186"
            ],
            [
             0.8,
             "#7fbc41"
            ],
            [
             0.9,
             "#4d9221"
            ],
            [
             1,
             "#276419"
            ]
           ],
           "sequential": [
            [
             0,
             "#0d0887"
            ],
            [
             0.1111111111111111,
             "#46039f"
            ],
            [
             0.2222222222222222,
             "#7201a8"
            ],
            [
             0.3333333333333333,
             "#9c179e"
            ],
            [
             0.4444444444444444,
             "#bd3786"
            ],
            [
             0.5555555555555556,
             "#d8576b"
            ],
            [
             0.6666666666666666,
             "#ed7953"
            ],
            [
             0.7777777777777778,
             "#fb9f3a"
            ],
            [
             0.8888888888888888,
             "#fdca26"
            ],
            [
             1,
             "#f0f921"
            ]
           ],
           "sequentialminus": [
            [
             0,
             "#0d0887"
            ],
            [
             0.1111111111111111,
             "#46039f"
            ],
            [
             0.2222222222222222,
             "#7201a8"
            ],
            [
             0.3333333333333333,
             "#9c179e"
            ],
            [
             0.4444444444444444,
             "#bd3786"
            ],
            [
             0.5555555555555556,
             "#d8576b"
            ],
            [
             0.6666666666666666,
             "#ed7953"
            ],
            [
             0.7777777777777778,
             "#fb9f3a"
            ],
            [
             0.8888888888888888,
             "#fdca26"
            ],
            [
             1,
             "#f0f921"
            ]
           ]
          },
          "colorway": [
           "#636efa",
           "#EF553B",
           "#00cc96",
           "#ab63fa",
           "#FFA15A",
           "#19d3f3",
           "#FF6692",
           "#B6E880",
           "#FF97FF",
           "#FECB52"
          ],
          "font": {
           "color": "#2a3f5f"
          },
          "geo": {
           "bgcolor": "white",
           "lakecolor": "white",
           "landcolor": "#E5ECF6",
           "showlakes": true,
           "showland": true,
           "subunitcolor": "white"
          },
          "hoverlabel": {
           "align": "left"
          },
          "hovermode": "closest",
          "mapbox": {
           "style": "light"
          },
          "paper_bgcolor": "white",
          "plot_bgcolor": "#E5ECF6",
          "polar": {
           "angularaxis": {
            "gridcolor": "white",
            "linecolor": "white",
            "ticks": ""
           },
           "bgcolor": "#E5ECF6",
           "radialaxis": {
            "gridcolor": "white",
            "linecolor": "white",
            "ticks": ""
           }
          },
          "scene": {
           "xaxis": {
            "backgroundcolor": "#E5ECF6",
            "gridcolor": "white",
            "gridwidth": 2,
            "linecolor": "white",
            "showbackground": true,
            "ticks": "",
            "zerolinecolor": "white"
           },
           "yaxis": {
            "backgroundcolor": "#E5ECF6",
            "gridcolor": "white",
            "gridwidth": 2,
            "linecolor": "white",
            "showbackground": true,
            "ticks": "",
            "zerolinecolor": "white"
           },
           "zaxis": {
            "backgroundcolor": "#E5ECF6",
            "gridcolor": "white",
            "gridwidth": 2,
            "linecolor": "white",
            "showbackground": true,
            "ticks": "",
            "zerolinecolor": "white"
           }
          },
          "shapedefaults": {
           "line": {
            "color": "#2a3f5f"
           }
          },
          "ternary": {
           "aaxis": {
            "gridcolor": "white",
            "linecolor": "white",
            "ticks": ""
           },
           "baxis": {
            "gridcolor": "white",
            "linecolor": "white",
            "ticks": ""
           },
           "bgcolor": "#E5ECF6",
           "caxis": {
            "gridcolor": "white",
            "linecolor": "white",
            "ticks": ""
           }
          },
          "title": {
           "x": 0.05
          },
          "xaxis": {
           "automargin": true,
           "gridcolor": "white",
           "linecolor": "white",
           "ticks": "",
           "title": {
            "standoff": 15
           },
           "zerolinecolor": "white",
           "zerolinewidth": 2
          },
          "yaxis": {
           "automargin": true,
           "gridcolor": "white",
           "linecolor": "white",
           "ticks": "",
           "title": {
            "standoff": 15
           },
           "zerolinecolor": "white",
           "zerolinewidth": 2
          }
         }
        },
        "xaxis": {
         "anchor": "y",
         "domain": [
          0,
          1
         ],
         "title": {
          "text": "date"
         }
        },
        "yaxis": {
         "anchor": "x",
         "domain": [
          0,
          1
         ],
         "title": {
          "text": "value"
         }
        }
       }
      },
      "text/html": [
       "<div>                            <div id=\"acf4bf20-b49e-4af8-b99a-8a8a1b5bdd14\" class=\"plotly-graph-div\" style=\"height:525px; width:100%;\"></div>            <script type=\"text/javascript\">                require([\"plotly\"], function(Plotly) {                    window.PLOTLYENV=window.PLOTLYENV || {};                                    if (document.getElementById(\"acf4bf20-b49e-4af8-b99a-8a8a1b5bdd14\")) {                    Plotly.newPlot(                        \"acf4bf20-b49e-4af8-b99a-8a8a1b5bdd14\",                        [{\"hovertemplate\": \"variable=Birth rate<br>date=%{x}<br>value=%{y}<extra></extra>\", \"legendgroup\": \"Birth rate\", \"line\": {\"color\": \"#636efa\", \"dash\": \"solid\"}, \"mode\": \"lines\", \"name\": \"Birth rate\", \"orientation\": \"v\", \"showlegend\": true, \"type\": \"scatter\", \"x\": [2018, 2017, 2016, 2015, 2014, 2013, 2012, 2011, 2010, 2009, 2008, 2007, 2006, 2005, 2004, 2003, 2002, 2001, 2000, 1999, 1998, 1997, 1996, 1995, 1994, 1993, 1992, 1991, 1990, 1989, 1988, 1987, 1986, 1985, 1984, 1983, 1982, 1981, 1980, 1979, 1978, 1977, 1976, 1975, 1974, 1973, 1972, 1971, 1970, 1969, 1968, 1967, 1966, 1965, 1964, 1963, 1962, 1961, 1960], \"xaxis\": \"x\", \"y\": [10.9, 12.43, 12.95, 12.07, 12.37, 12.08, 12.1, 11.93, 11.9, 12.13, 12.14, 12.1, 12.09, 12.4, 12.29, 12.41, 12.86, 13.38, 14.03, 14.64, 15.64, 16.57, 16.98, 17.12, 17.7, 18.09, 18.27, 19.68, 21.06, 21.58, 22.37, 23.33, 22.43, 21.04, 19.9, 20.19, 22.28, 20.91, 18.21, 17.82, 18.25, 18.93, 19.91, 23.01, 24.82, 27.93, 29.77, 30.65, 33.43, 34.11, 35.59, 33.96, 35.05, 37.88, 39.14, 43.37, 37.01, 18.02, 20.86], \"yaxis\": \"y\"}, {\"hovertemplate\": \"variable=Death rate<br>date=%{x}<br>value=%{y}<extra></extra>\", \"legendgroup\": \"Death rate\", \"line\": {\"color\": \"#EF553B\", \"dash\": \"solid\"}, \"mode\": \"lines\", \"name\": \"Death rate\", \"orientation\": \"v\", \"showlegend\": true, \"type\": \"scatter\", \"x\": [2018, 2017, 2016, 2015, 2014, 2013, 2012, 2011, 2010, 2009, 2008, 2007, 2006, 2005, 2004, 2003, 2002, 2001, 2000, 1999, 1998, 1997, 1996, 1995, 1994, 1993, 1992, 1991, 1990, 1989, 1988, 1987, 1986, 1985, 1984, 1983, 1982, 1981, 1980, 1979, 1978, 1977, 1976, 1975, 1974, 1973, 1972, 1971, 1970, 1969, 1968, 1967, 1966, 1965, 1964, 1963, 1962, 1961, 1960], \"xaxis\": \"x\", \"y\": [7.1, 7.11, 7.09, 7.11, 7.16, 7.16, 7.15, 7.14, 7.11, 7.08, 7.06, 6.93, 6.81, 6.51, 6.42, 6.4, 6.41, 6.43, 6.45, 6.46, 6.5, 6.51, 6.56, 6.57, 6.49, 6.64, 6.64, 6.7, 6.67, 6.54, 6.64, 6.72, 6.86, 6.78, 6.82, 6.9, 6.6, 6.36, 6.34, 6.21, 6.25, 6.87, 7.25, 7.32, 7.34, 7.04, 7.61, 7.32, 7.6, 8.03, 8.21, 8.43, 8.83, 9.5, 11.5, 10.04, 10.02, 14.24, 25.43], \"yaxis\": \"y\"}, {\"hovertemplate\": \"variable=Overall rate of natural increase<br>date=%{x}<br>value=%{y}<extra></extra>\", \"legendgroup\": \"Overall rate of natural increase\", \"line\": {\"color\": \"#00cc96\", \"dash\": \"solid\"}, \"mode\": \"lines\", \"name\": \"Overall rate of natural increase\", \"orientation\": \"v\", \"showlegend\": true, \"type\": \"scatter\", \"x\": [2018, 2017, 2016, 2015, 2014, 2013, 2012, 2011, 2010, 2009, 2008, 2007, 2006, 2005, 2004, 2003, 2002, 2001, 2000, 1999, 1998, 1997, 1996, 1995, 1994, 1993, 1992, 1991, 1990, 1989, 1988, 1987, 1986, 1985, 1984, 1983, 1982, 1981, 1980, 1979, 1978, 1977, 1976, 1975, 1974, 1973, 1972, 1971, 1970, 1969, 1968, 1967, 1966, 1965, 1964, 1963, 1962, 1961, 1960], \"xaxis\": \"x\", \"y\": [3.8000000000000007, 5.319999999999999, 5.859999999999999, 4.96, 5.209999999999999, 4.92, 4.949999999999999, 4.79, 4.79, 5.050000000000001, 5.080000000000001, 5.17, 5.28, 5.890000000000001, 5.869999999999999, 6.01, 6.449999999999999, 6.950000000000001, 7.579999999999999, 8.18, 9.14, 10.06, 10.420000000000002, 10.55, 11.209999999999999, 11.45, 11.629999999999999, 12.98, 14.389999999999999, 15.04, 15.73, 16.61, 15.57, 14.259999999999998, 13.079999999999998, 13.290000000000001, 15.680000000000001, 14.55, 11.870000000000001, 11.61, 12.0, 12.059999999999999, 12.66, 15.690000000000001, 17.48, 20.89, 22.16, 23.33, 25.83, 26.08, 27.380000000000003, 25.53, 26.22, 28.380000000000003, 27.64, 33.33, 26.99, 3.7799999999999994, -4.57], \"yaxis\": \"y\"}],                        {\"legend\": {\"title\": {\"text\": \"variable\"}, \"tracegroupgap\": 0}, \"margin\": {\"t\": 60}, \"template\": {\"data\": {\"bar\": [{\"error_x\": {\"color\": \"#2a3f5f\"}, \"error_y\": {\"color\": \"#2a3f5f\"}, \"marker\": {\"line\": {\"color\": \"#E5ECF6\", \"width\": 0.5}}, \"type\": \"bar\"}], \"barpolar\": [{\"marker\": {\"line\": {\"color\": \"#E5ECF6\", \"width\": 0.5}}, \"type\": \"barpolar\"}], \"carpet\": [{\"aaxis\": {\"endlinecolor\": \"#2a3f5f\", \"gridcolor\": \"white\", \"linecolor\": \"white\", \"minorgridcolor\": \"white\", \"startlinecolor\": \"#2a3f5f\"}, \"baxis\": {\"endlinecolor\": \"#2a3f5f\", \"gridcolor\": \"white\", \"linecolor\": \"white\", \"minorgridcolor\": \"white\", \"startlinecolor\": \"#2a3f5f\"}, \"type\": \"carpet\"}], \"choropleth\": [{\"colorbar\": {\"outlinewidth\": 0, \"ticks\": \"\"}, \"type\": \"choropleth\"}], \"contour\": [{\"colorbar\": {\"outlinewidth\": 0, \"ticks\": \"\"}, \"colorscale\": [[0.0, \"#0d0887\"], [0.1111111111111111, \"#46039f\"], [0.2222222222222222, \"#7201a8\"], [0.3333333333333333, \"#9c179e\"], [0.4444444444444444, \"#bd3786\"], [0.5555555555555556, \"#d8576b\"], [0.6666666666666666, \"#ed7953\"], [0.7777777777777778, \"#fb9f3a\"], [0.8888888888888888, \"#fdca26\"], [1.0, \"#f0f921\"]], \"type\": \"contour\"}], \"contourcarpet\": [{\"colorbar\": {\"outlinewidth\": 0, \"ticks\": \"\"}, \"type\": \"contourcarpet\"}], \"heatmap\": [{\"colorbar\": {\"outlinewidth\": 0, \"ticks\": \"\"}, \"colorscale\": [[0.0, \"#0d0887\"], [0.1111111111111111, \"#46039f\"], [0.2222222222222222, \"#7201a8\"], [0.3333333333333333, \"#9c179e\"], [0.4444444444444444, \"#bd3786\"], [0.5555555555555556, \"#d8576b\"], [0.6666666666666666, \"#ed7953\"], [0.7777777777777778, \"#fb9f3a\"], [0.8888888888888888, \"#fdca26\"], [1.0, \"#f0f921\"]], \"type\": \"heatmap\"}], \"heatmapgl\": [{\"colorbar\": {\"outlinewidth\": 0, \"ticks\": \"\"}, \"colorscale\": [[0.0, \"#0d0887\"], [0.1111111111111111, \"#46039f\"], [0.2222222222222222, \"#7201a8\"], [0.3333333333333333, \"#9c179e\"], [0.4444444444444444, \"#bd3786\"], [0.5555555555555556, \"#d8576b\"], [0.6666666666666666, \"#ed7953\"], [0.7777777777777778, \"#fb9f3a\"], [0.8888888888888888, \"#fdca26\"], [1.0, \"#f0f921\"]], \"type\": \"heatmapgl\"}], \"histogram\": [{\"marker\": {\"colorbar\": {\"outlinewidth\": 0, \"ticks\": \"\"}}, \"type\": \"histogram\"}], \"histogram2d\": [{\"colorbar\": {\"outlinewidth\": 0, \"ticks\": \"\"}, \"colorscale\": [[0.0, \"#0d0887\"], [0.1111111111111111, \"#46039f\"], [0.2222222222222222, \"#7201a8\"], [0.3333333333333333, \"#9c179e\"], [0.4444444444444444, \"#bd3786\"], [0.5555555555555556, \"#d8576b\"], [0.6666666666666666, \"#ed7953\"], [0.7777777777777778, \"#fb9f3a\"], [0.8888888888888888, \"#fdca26\"], [1.0, \"#f0f921\"]], \"type\": \"histogram2d\"}], \"histogram2dcontour\": [{\"colorbar\": {\"outlinewidth\": 0, \"ticks\": \"\"}, \"colorscale\": [[0.0, \"#0d0887\"], [0.1111111111111111, \"#46039f\"], [0.2222222222222222, \"#7201a8\"], [0.3333333333333333, \"#9c179e\"], [0.4444444444444444, \"#bd3786\"], [0.5555555555555556, \"#d8576b\"], [0.6666666666666666, \"#ed7953\"], [0.7777777777777778, \"#fb9f3a\"], [0.8888888888888888, \"#fdca26\"], [1.0, \"#f0f921\"]], \"type\": \"histogram2dcontour\"}], \"mesh3d\": [{\"colorbar\": {\"outlinewidth\": 0, \"ticks\": \"\"}, \"type\": \"mesh3d\"}], \"parcoords\": [{\"line\": {\"colorbar\": {\"outlinewidth\": 0, \"ticks\": \"\"}}, \"type\": \"parcoords\"}], \"pie\": [{\"automargin\": true, \"type\": \"pie\"}], \"scatter\": [{\"marker\": {\"colorbar\": {\"outlinewidth\": 0, \"ticks\": \"\"}}, \"type\": \"scatter\"}], \"scatter3d\": [{\"line\": {\"colorbar\": {\"outlinewidth\": 0, \"ticks\": \"\"}}, \"marker\": {\"colorbar\": {\"outlinewidth\": 0, \"ticks\": \"\"}}, \"type\": \"scatter3d\"}], \"scattercarpet\": [{\"marker\": {\"colorbar\": {\"outlinewidth\": 0, \"ticks\": \"\"}}, \"type\": \"scattercarpet\"}], \"scattergeo\": [{\"marker\": {\"colorbar\": {\"outlinewidth\": 0, \"ticks\": \"\"}}, \"type\": \"scattergeo\"}], \"scattergl\": [{\"marker\": {\"colorbar\": {\"outlinewidth\": 0, \"ticks\": \"\"}}, \"type\": \"scattergl\"}], \"scattermapbox\": [{\"marker\": {\"colorbar\": {\"outlinewidth\": 0, \"ticks\": \"\"}}, \"type\": \"scattermapbox\"}], \"scatterpolar\": [{\"marker\": {\"colorbar\": {\"outlinewidth\": 0, \"ticks\": \"\"}}, \"type\": \"scatterpolar\"}], \"scatterpolargl\": [{\"marker\": {\"colorbar\": {\"outlinewidth\": 0, \"ticks\": \"\"}}, \"type\": \"scatterpolargl\"}], \"scatterternary\": [{\"marker\": {\"colorbar\": {\"outlinewidth\": 0, \"ticks\": \"\"}}, \"type\": \"scatterternary\"}], \"surface\": [{\"colorbar\": {\"outlinewidth\": 0, \"ticks\": \"\"}, \"colorscale\": [[0.0, \"#0d0887\"], [0.1111111111111111, \"#46039f\"], [0.2222222222222222, \"#7201a8\"], [0.3333333333333333, \"#9c179e\"], [0.4444444444444444, \"#bd3786\"], [0.5555555555555556, \"#d8576b\"], [0.6666666666666666, \"#ed7953\"], [0.7777777777777778, \"#fb9f3a\"], [0.8888888888888888, \"#fdca26\"], [1.0, \"#f0f921\"]], \"type\": \"surface\"}], \"table\": [{\"cells\": {\"fill\": {\"color\": \"#EBF0F8\"}, \"line\": {\"color\": \"white\"}}, \"header\": {\"fill\": {\"color\": \"#C8D4E3\"}, \"line\": {\"color\": \"white\"}}, \"type\": \"table\"}]}, \"layout\": {\"annotationdefaults\": {\"arrowcolor\": \"#2a3f5f\", \"arrowhead\": 0, \"arrowwidth\": 1}, \"autotypenumbers\": \"strict\", \"coloraxis\": {\"colorbar\": {\"outlinewidth\": 0, \"ticks\": \"\"}}, \"colorscale\": {\"diverging\": [[0, \"#8e0152\"], [0.1, \"#c51b7d\"], [0.2, \"#de77ae\"], [0.3, \"#f1b6da\"], [0.4, \"#fde0ef\"], [0.5, \"#f7f7f7\"], [0.6, \"#e6f5d0\"], [0.7, \"#b8e186\"], [0.8, \"#7fbc41\"], [0.9, \"#4d9221\"], [1, \"#276419\"]], \"sequential\": [[0.0, \"#0d0887\"], [0.1111111111111111, \"#46039f\"], [0.2222222222222222, \"#7201a8\"], [0.3333333333333333, \"#9c179e\"], [0.4444444444444444, \"#bd3786\"], [0.5555555555555556, \"#d8576b\"], [0.6666666666666666, \"#ed7953\"], [0.7777777777777778, \"#fb9f3a\"], [0.8888888888888888, \"#fdca26\"], [1.0, \"#f0f921\"]], \"sequentialminus\": [[0.0, \"#0d0887\"], [0.1111111111111111, \"#46039f\"], [0.2222222222222222, \"#7201a8\"], [0.3333333333333333, \"#9c179e\"], [0.4444444444444444, \"#bd3786\"], [0.5555555555555556, \"#d8576b\"], [0.6666666666666666, \"#ed7953\"], [0.7777777777777778, \"#fb9f3a\"], [0.8888888888888888, \"#fdca26\"], [1.0, \"#f0f921\"]]}, \"colorway\": [\"#636efa\", \"#EF553B\", \"#00cc96\", \"#ab63fa\", \"#FFA15A\", \"#19d3f3\", \"#FF6692\", \"#B6E880\", \"#FF97FF\", \"#FECB52\"], \"font\": {\"color\": \"#2a3f5f\"}, \"geo\": {\"bgcolor\": \"white\", \"lakecolor\": \"white\", \"landcolor\": \"#E5ECF6\", \"showlakes\": true, \"showland\": true, \"subunitcolor\": \"white\"}, \"hoverlabel\": {\"align\": \"left\"}, \"hovermode\": \"closest\", \"mapbox\": {\"style\": \"light\"}, \"paper_bgcolor\": \"white\", \"plot_bgcolor\": \"#E5ECF6\", \"polar\": {\"angularaxis\": {\"gridcolor\": \"white\", \"linecolor\": \"white\", \"ticks\": \"\"}, \"bgcolor\": \"#E5ECF6\", \"radialaxis\": {\"gridcolor\": \"white\", \"linecolor\": \"white\", \"ticks\": \"\"}}, \"scene\": {\"xaxis\": {\"backgroundcolor\": \"#E5ECF6\", \"gridcolor\": \"white\", \"gridwidth\": 2, \"linecolor\": \"white\", \"showbackground\": true, \"ticks\": \"\", \"zerolinecolor\": \"white\"}, \"yaxis\": {\"backgroundcolor\": \"#E5ECF6\", \"gridcolor\": \"white\", \"gridwidth\": 2, \"linecolor\": \"white\", \"showbackground\": true, \"ticks\": \"\", \"zerolinecolor\": \"white\"}, \"zaxis\": {\"backgroundcolor\": \"#E5ECF6\", \"gridcolor\": \"white\", \"gridwidth\": 2, \"linecolor\": \"white\", \"showbackground\": true, \"ticks\": \"\", \"zerolinecolor\": \"white\"}}, \"shapedefaults\": {\"line\": {\"color\": \"#2a3f5f\"}}, \"ternary\": {\"aaxis\": {\"gridcolor\": \"white\", \"linecolor\": \"white\", \"ticks\": \"\"}, \"baxis\": {\"gridcolor\": \"white\", \"linecolor\": \"white\", \"ticks\": \"\"}, \"bgcolor\": \"#E5ECF6\", \"caxis\": {\"gridcolor\": \"white\", \"linecolor\": \"white\", \"ticks\": \"\"}}, \"title\": {\"x\": 0.05}, \"xaxis\": {\"automargin\": true, \"gridcolor\": \"white\", \"linecolor\": \"white\", \"ticks\": \"\", \"title\": {\"standoff\": 15}, \"zerolinecolor\": \"white\", \"zerolinewidth\": 2}, \"yaxis\": {\"automargin\": true, \"gridcolor\": \"white\", \"linecolor\": \"white\", \"ticks\": \"\", \"title\": {\"standoff\": 15}, \"zerolinecolor\": \"white\", \"zerolinewidth\": 2}}}, \"xaxis\": {\"anchor\": \"y\", \"domain\": [0.0, 1.0], \"title\": {\"text\": \"date\"}}, \"yaxis\": {\"anchor\": \"x\", \"domain\": [0.0, 1.0], \"title\": {\"text\": \"value\"}}},                        {\"responsive\": true}                    ).then(function(){\n",
       "                            \n",
       "var gd = document.getElementById('acf4bf20-b49e-4af8-b99a-8a8a1b5bdd14');\n",
       "var x = new MutationObserver(function (mutations, observer) {{\n",
       "        var display = window.getComputedStyle(gd).display;\n",
       "        if (!display || display === 'none') {{\n",
       "            console.log([gd, 'removed!']);\n",
       "            Plotly.purge(gd);\n",
       "            observer.disconnect();\n",
       "        }}\n",
       "}});\n",
       "\n",
       "// Listen for the removal of the full notebook cells\n",
       "var notebookContainer = gd.closest('#notebook-container');\n",
       "if (notebookContainer) {{\n",
       "    x.observe(notebookContainer, {childList: true});\n",
       "}}\n",
       "\n",
       "// Listen for the clearing of the current output cell\n",
       "var outputEl = gd.closest('.output');\n",
       "if (outputEl) {{\n",
       "    x.observe(outputEl, {childList: true});\n",
       "}}\n",
       "\n",
       "                        })                };                });            </script>        </div>"
      ]
     },
     "metadata": {},
     "output_type": "display_data"
    }
   ],
   "source": [
    "fig2 = px.line(chn2)\n",
    "fig2.show();"
   ]
  },
  {
   "cell_type": "code",
   "execution_count": null,
   "metadata": {},
   "outputs": [],
   "source": []
  }
 ],
 "metadata": {
  "history": [
   {
    "code": "!pip install wbdata \nimport wbdata \n!pip install cufflinks \nimport cufflinks as cf",
    "id": "805fab3f8aef4f2888d929a59a689fba",
    "idx": 0,
    "time": "2021-02-01T23:13:23.797Z",
    "type": "execution"
   },
   {
    "id": "805fab3f8aef4f2888d929a59a689fba",
    "time": "2021-02-01T23:13:33.476Z",
    "type": "completion"
   },
   {
    "code": "# Give variable for clarity\nvariable_labels = {\"SP.DYN.CBRT.IN\":\"Birth Rate of China post-One Child Policy\"}\n                                                    \n\nchn_birth_rate = wbdata.get_dataframe(variable_labels, country=\"CHN\")\n\n# Date index is of type string; change to integers\nchn_birth_rate.index = chn_birth_rate.index.astype(int)\n\n# Print a few years' data\nchn_birth_rate.head()",
    "id": "3f8e8d1679b9481787024caf0d58e997",
    "idx": 4,
    "time": "2021-02-01T23:37:03.206Z",
    "type": "execution"
   },
   {
    "id": "3f8e8d1679b9481787024caf0d58e997",
    "time": "2021-02-01T23:37:04.890Z",
    "type": "completion"
   },
   {
    "code": "variable_labels = {\"SP.DYN.CBRT.IN\":\"Birth Rate of China post-One Child Policy\"}                                                   \nchn_birth_rate = wbdata.get_dataframe(variable_labels, country=\"CHN\")\nchn_birth_rate.index = chn_birth_rate.index.astype(int)\nchn_birth_rate.head(10)",
    "id": "3f8e8d1679b9481787024caf0d58e997",
    "idx": 4,
    "time": "2021-02-01T23:38:32.145Z",
    "type": "execution"
   },
   {
    "id": "3f8e8d1679b9481787024caf0d58e997",
    "time": "2021-02-01T23:38:32.256Z",
    "type": "completion"
   },
   {
    "code": "variable_labels = {\"SP.DYN.CBRT.IN\":\"Birth Rate of China post-One Child Policy\"}                                                   \nchn_birth_rate = wbdata.get_dataframe(variable_labels, country=\"CHN\")\nchn_birth_rate.index = chn_birth_rate.index.astype(int)\nchn_birth_rate.loc('1979':'2020')",
    "id": "3f8e8d1679b9481787024caf0d58e997",
    "idx": 4,
    "time": "2021-02-01T23:39:47.937Z",
    "type": "execution"
   },
   {
    "id": "3f8e8d1679b9481787024caf0d58e997",
    "time": "2021-02-01T23:39:48.070Z",
    "type": "completion"
   },
   {
    "code": "variable_labels = {\"SP.DYN.CBRT.IN\":\"Birth Rate of China post-One Child Policy\"}                                                   \nchn_birth_rate = wbdata.get_dataframe(variable_labels, country=\"CHN\")\nchn_birth_rate.index = chn_birth_rate.index.astype(int)\nchn_birth_rate.loc(pd.Index('1979':'2020'))",
    "id": "3f8e8d1679b9481787024caf0d58e997",
    "idx": 4,
    "time": "2021-02-01T23:41:18.358Z",
    "type": "execution"
   },
   {
    "id": "3f8e8d1679b9481787024caf0d58e997",
    "time": "2021-02-01T23:41:18.460Z",
    "type": "completion"
   },
   {
    "code": "variable_labels = {\"SP.DYN.CBRT.IN\":\"Birth Rate of China post-One Child Policy\"}                                                   \nchn_birth_rate = wbdata.get_dataframe(variable_labels, country=\"CHN\")\nchn_birth_rate.index = chn_birth_rate.index.astype(int)\nchn_birth_rate[[chn_birth_rate]'date' == '1979']",
    "id": "3f8e8d1679b9481787024caf0d58e997",
    "idx": 4,
    "time": "2021-02-01T23:41:52.257Z",
    "type": "execution"
   },
   {
    "id": "3f8e8d1679b9481787024caf0d58e997",
    "time": "2021-02-01T23:41:52.355Z",
    "type": "completion"
   },
   {
    "code": "variable_labels = {\"SP.DYN.CBRT.IN\":\"Birth Rate of China post-One Child Policy\"}                                                   \nchn_birth_rate = wbdata.get_dataframe(variable_labels, country=\"CHN\")\nchn_birth_rate.index = chn_birth_rate.index.astype(int)\nchn_birth_rate[chn_birth_rate['date'] == '1979']",
    "id": "3f8e8d1679b9481787024caf0d58e997",
    "idx": 4,
    "time": "2021-02-01T23:42:07.103Z",
    "type": "execution"
   },
   {
    "id": "3f8e8d1679b9481787024caf0d58e997",
    "time": "2021-02-01T23:42:07.436Z",
    "type": "completion"
   },
   {
    "code": "chn_birth_rate",
    "id": "e2206df038fd441383aa2da77f3c93e5",
    "idx": 5,
    "time": "2021-02-01T23:42:21.778Z",
    "type": "execution"
   },
   {
    "id": "e2206df038fd441383aa2da77f3c93e5",
    "time": "2021-02-01T23:42:21.906Z",
    "type": "completion"
   },
   {
    "code": "chn_birth_rate.iplot(title=\"China Birth Rates\",xTitle='Year',yTitle='Birth rate')",
    "id": "09a7655f4a3d476c8c9f9aa06d3857ff",
    "idx": 6,
    "time": "2021-02-01T23:42:56.189Z",
    "type": "execution"
   },
   {
    "id": "09a7655f4a3d476c8c9f9aa06d3857ff",
    "time": "2021-02-01T23:44:51.916Z",
    "type": "completion"
   },
   {
    "code": "chn_birth_rate.iplot(title=\"China Birth Rates\",xTitle='Year',yTitle='Birth rate')",
    "id": "09a7655f4a3d476c8c9f9aa06d3857ff",
    "idx": 6,
    "time": "2021-02-01T23:45:34.022Z",
    "type": "execution"
   },
   {
    "id": "09a7655f4a3d476c8c9f9aa06d3857ff",
    "time": "2021-02-01T23:48:45.499Z",
    "type": "completion"
   },
   {
    "code": "chn_birth_rate.plot();",
    "id": "1865de6134bc46b48f4287eb03863db6",
    "idx": 6,
    "time": "2021-02-01T23:49:12.272Z",
    "type": "execution"
   },
   {
    "id": "1865de6134bc46b48f4287eb03863db6",
    "time": "2021-02-01T23:49:16.189Z",
    "type": "completion"
   },
   {
    "code": "variable_labels = {\"SP.DYN.CBRT.IN\":\"Birth Rate of China post-One Child Policy\"}                                                   \nchn_birth_rate = wbdata.get_dataframe(variable_labels, country=\"CHN\")\nchn_birth_rate.index = chn_birth_rate.index.astype(int)\nchn_birth_rate",
    "id": "3f8e8d1679b9481787024caf0d58e997",
    "idx": 4,
    "time": "2021-02-01T23:49:46.112Z",
    "type": "execution"
   },
   {
    "id": "3f8e8d1679b9481787024caf0d58e997",
    "time": "2021-02-01T23:49:46.260Z",
    "type": "completion"
   },
   {
    "code": "variable_labels = {\"SP.DYN.TFRT.IN\":\"Fertility rate of China\",\n                   \"SP.DYN.CBRT.IN\":\"Birth Rate of China\"}                                                   \nchn = wbdata.get_dataframe(variable_labels, country=\"CHN\")\nchn.index = chn_birth_rate.index.astype(int)\nchn",
    "id": "3f8e8d1679b9481787024caf0d58e997",
    "idx": 4,
    "time": "2021-02-01T23:52:24.265Z",
    "type": "execution"
   },
   {
    "id": "3f8e8d1679b9481787024caf0d58e997",
    "time": "2021-02-01T23:52:25.889Z",
    "type": "completion"
   },
   {
    "code": "variable_labels = {\"SP.DYN.TFRT.IN\":\"Fertility rate of China\",\n                   \"SP.DYN.CBRT.IN\":\"Birth Rate of China\"}                                                   \nchn = wbdata.get_dataframe(variable_labels, country=\"CHN\")\nchn.index = chn_birth_rate.index.astype(int)\n\n#Removing NaN Values\nchn.iloc[2:,:,:]",
    "id": "3f8e8d1679b9481787024caf0d58e997",
    "idx": 4,
    "time": "2021-02-01T23:56:07.644Z",
    "type": "execution"
   },
   {
    "id": "3f8e8d1679b9481787024caf0d58e997",
    "time": "2021-02-01T23:56:07.904Z",
    "type": "completion"
   },
   {
    "code": "variable_labels = {\"SP.DYN.TFRT.IN\":\"Fertility rate of China\",\n                   \"SP.DYN.CBRT.IN\":\"Birth Rate of China\"}                                                   \nchn = wbdata.get_dataframe(variable_labels, country=\"CHN\")\nchn.index = chn_birth_rate.index.astype(int)\n\n#Removing NaN Values\nchn.iloc[2:,:]",
    "id": "3f8e8d1679b9481787024caf0d58e997",
    "idx": 4,
    "time": "2021-02-01T23:56:21.336Z",
    "type": "execution"
   },
   {
    "id": "3f8e8d1679b9481787024caf0d58e997",
    "time": "2021-02-01T23:56:21.512Z",
    "type": "completion"
   },
   {
    "code": "variable_labels = {\"SP.DYN.TFRT.IN\":\"Fertility rate of China\",\n                   \"SP.DYN.CBRT.IN\":\"Birth Rate of China\"}                                                   \nchn = wbdata.get_dataframe(variable_labels, country=\"CHN\")\nchn.index = chn_birth_rate.index.astype(int)\n\n#Removing NaN Values\nchn = chn.iloc[2:,:]",
    "id": "3f8e8d1679b9481787024caf0d58e997",
    "idx": 4,
    "time": "2021-02-01T23:56:29.853Z",
    "type": "execution"
   },
   {
    "id": "3f8e8d1679b9481787024caf0d58e997",
    "time": "2021-02-01T23:56:29.955Z",
    "type": "completion"
   },
   {
    "code": "variable_labels = {\"SP.DYN.TFRT.IN\":\"Fertility rate of China\",\n                   \"SP.DYN.CBRT.IN\":\"Birth Rate of China\"}                                                   \nchn = wbdata.get_dataframe(variable_labels, country=\"CHN\")\nchn.index = chn_birth_rate.index.astype(int)\n\n#Removing NaN Values\nchn = chn.iloc[2:,:]\nchn",
    "id": "3f8e8d1679b9481787024caf0d58e997",
    "idx": 4,
    "time": "2021-02-01T23:56:32.939Z",
    "type": "execution"
   },
   {
    "id": "3f8e8d1679b9481787024caf0d58e997",
    "time": "2021-02-01T23:56:33.121Z",
    "type": "completion"
   },
   {
    "code": "chn.plot();",
    "id": "1865de6134bc46b48f4287eb03863db6",
    "idx": 5,
    "time": "2021-02-01T23:56:42.258Z",
    "type": "execution"
   },
   {
    "id": "1865de6134bc46b48f4287eb03863db6",
    "time": "2021-02-01T23:56:42.616Z",
    "type": "completion"
   },
   {
    "code": "chn.plot(figsize = (5,5));",
    "id": "1865de6134bc46b48f4287eb03863db6",
    "idx": 5,
    "time": "2021-02-01T23:57:47.411Z",
    "type": "execution"
   },
   {
    "id": "1865de6134bc46b48f4287eb03863db6",
    "time": "2021-02-01T23:57:47.736Z",
    "type": "completion"
   },
   {
    "code": "chn.plot(figsize = (10,5));",
    "id": "1865de6134bc46b48f4287eb03863db6",
    "idx": 5,
    "time": "2021-02-01T23:57:52.096Z",
    "type": "execution"
   },
   {
    "id": "1865de6134bc46b48f4287eb03863db6",
    "time": "2021-02-01T23:57:52.450Z",
    "type": "completion"
   },
   {
    "code": "chn.plot(figsize = (11,6));",
    "id": "1865de6134bc46b48f4287eb03863db6",
    "idx": 5,
    "time": "2021-02-01T23:58:00.574Z",
    "type": "execution"
   },
   {
    "id": "1865de6134bc46b48f4287eb03863db6",
    "time": "2021-02-01T23:58:00.912Z",
    "type": "completion"
   },
   {
    "code": "chn_var2 = {\"SP.POP.TOTL\":\"Total Population of China\"}\n\nchn2 = wbdata.get_dataframe(chn_var2, country=\"CHN\")\n\n#Removing NaN Values\nchn2 = chn2.iloc[2:,:]\nchn2",
    "id": "666794d4136c42568305655ff8b5dbad",
    "idx": 6,
    "time": "2021-02-03T22:04:04.775Z",
    "type": "execution"
   },
   {
    "id": "666794d4136c42568305655ff8b5dbad",
    "time": "2021-02-03T22:04:04.926Z",
    "type": "completion"
   },
   {
    "code": "!pip install wbdata \nimport wbdata \n!pip install cufflinks \nimport cufflinks as cf",
    "id": "bc1f308bb3d94f1181a8927d4aacbac3",
    "idx": 2,
    "time": "2021-02-03T22:04:09.189Z",
    "type": "execution"
   },
   {
    "code": "variable_labels = {\"SP.DYN.TFRT.IN\":\"Fertility rate of China\",\n                   \"SP.DYN.CBRT.IN\":\"Birth Rate of China\"}                                                   \nchn = wbdata.get_dataframe(variable_labels, country=\"CHN\")\nchn.index = chn_birth_rate.index.astype(int)\n\n#Removing NaN Values\nchn = chn.iloc[2:,:]\nchn",
    "id": "bab7f1b490e54e94bcf009eabca07717",
    "idx": 4,
    "time": "2021-02-03T22:04:09.193Z",
    "type": "execution"
   },
   {
    "code": "chn.plot(figsize = (11,6));",
    "id": "5a11caa6483d4e4885c1cf50fb02c1a4",
    "idx": 5,
    "time": "2021-02-03T22:04:09.195Z",
    "type": "execution"
   },
   {
    "code": "chn_var2 = {\"SP.POP.TOTL\":\"Total Population of China\"}\n\nchn2 = wbdata.get_dataframe(chn_var2, country=\"CHN\")\n\n#Removing NaN Values\nchn2 = chn2.iloc[2:,:]\nchn2",
    "id": "666794d4136c42568305655ff8b5dbad",
    "idx": 6,
    "time": "2021-02-03T22:04:09.197Z",
    "type": "execution"
   },
   {
    "id": "bc1f308bb3d94f1181a8927d4aacbac3",
    "time": "2021-02-03T22:04:21.515Z",
    "type": "completion"
   },
   {
    "id": "bab7f1b490e54e94bcf009eabca07717",
    "time": "2021-02-03T22:04:21.761Z",
    "type": "completion"
   },
   {
    "id": "5a11caa6483d4e4885c1cf50fb02c1a4",
    "time": "2021-02-03T22:04:21.764Z",
    "type": "completion"
   },
   {
    "id": "666794d4136c42568305655ff8b5dbad",
    "time": "2021-02-03T22:04:21.821Z",
    "type": "completion"
   },
   {
    "code": "variable_labels = {\"SP.DYN.TFRT.IN\":\"Fertility rate of China\",\n                   \"SP.DYN.CBRT.IN\":\"Birth Rate of China\"}                                                   \nchn = wbdata.get_dataframe(variable_labels, country=\"CHN\")\nchn.index = chn.index.astype(int)\n\n#Removing NaN Values\nchn = chn.iloc[2:,:]\nchn",
    "id": "bab7f1b490e54e94bcf009eabca07717",
    "idx": 4,
    "time": "2021-02-03T22:04:35.451Z",
    "type": "execution"
   },
   {
    "id": "bab7f1b490e54e94bcf009eabca07717",
    "time": "2021-02-03T22:04:35.629Z",
    "type": "completion"
   },
   {
    "code": "chn.plot(figsize = (11,6));",
    "id": "5a11caa6483d4e4885c1cf50fb02c1a4",
    "idx": 5,
    "time": "2021-02-03T22:04:42.922Z",
    "type": "execution"
   },
   {
    "id": "5a11caa6483d4e4885c1cf50fb02c1a4",
    "time": "2021-02-03T22:04:43.697Z",
    "type": "completion"
   },
   {
    "code": "chn_var2 = {\"SP.POP.TOTL\":\"Total Population of China\"}\n\nchn2 = wbdata.get_dataframe(chn_var2, country=\"CHN\")\n\n#Removing NaN Values\nchn2 = chn2.iloc[2:,:]\nchn2",
    "id": "666794d4136c42568305655ff8b5dbad",
    "idx": 6,
    "time": "2021-02-03T22:04:45.863Z",
    "type": "execution"
   },
   {
    "id": "666794d4136c42568305655ff8b5dbad",
    "time": "2021-02-03T22:04:46.574Z",
    "type": "completion"
   },
   {
    "code": "chn_var2 = {\"SP.POP.TOTL\":\"Total Population of China\"}\n\nchn2 = wbdata.get_dataframe(chn_var2, country=\"CHN\")\n\n#Removing NaN Values\nchn2 = chn2.iloc[2:,:]\nchn2.head()",
    "id": "666794d4136c42568305655ff8b5dbad",
    "idx": 6,
    "time": "2021-02-03T22:04:57.635Z",
    "type": "execution"
   },
   {
    "id": "666794d4136c42568305655ff8b5dbad",
    "time": "2021-02-03T22:04:57.755Z",
    "type": "completion"
   },
   {
    "code": "chn2.plot(figsize = (11,6));",
    "id": "dc4733b6758a419d91a3913fa3169f38",
    "idx": 7,
    "time": "2021-02-03T22:05:21.975Z",
    "type": "execution"
   },
   {
    "id": "dc4733b6758a419d91a3913fa3169f38",
    "time": "2021-02-03T22:05:22.327Z",
    "type": "completion"
   },
   {
    "code": "!pip install wbdata \nimport wbdata \n!pip install cufflinks \nimport cufflinks as cf\nimport plotly.express as px",
    "id": "bc1f308bb3d94f1181a8927d4aacbac3",
    "idx": 2,
    "time": "2021-02-03T22:43:32.537Z",
    "type": "execution"
   },
   {
    "id": "bc1f308bb3d94f1181a8927d4aacbac3",
    "time": "2021-02-03T22:43:40.460Z",
    "type": "completion"
   },
   {
    "code": "fig1 = px.line(chn)\nfig1.show();",
    "id": "b6aef03f51a24d8495791f7a7966a0e0",
    "idx": 6,
    "time": "2021-02-03T23:13:22.488Z",
    "type": "execution"
   },
   {
    "id": "b6aef03f51a24d8495791f7a7966a0e0",
    "time": "2021-02-03T23:13:29.864Z",
    "type": "completion"
   },
   {
    "code": "fig1 = px.line(chn, x='year',y='rate')\nfig1.show();",
    "id": "b6aef03f51a24d8495791f7a7966a0e0",
    "idx": 6,
    "time": "2021-02-03T23:14:04.171Z",
    "type": "execution"
   },
   {
    "id": "b6aef03f51a24d8495791f7a7966a0e0",
    "time": "2021-02-03T23:14:04.428Z",
    "type": "completion"
   },
   {
    "code": "fig1 = px.line(chn)\nfig1.show();",
    "id": "b6aef03f51a24d8495791f7a7966a0e0",
    "idx": 6,
    "time": "2021-02-03T23:14:25.029Z",
    "type": "execution"
   },
   {
    "id": "b6aef03f51a24d8495791f7a7966a0e0",
    "time": "2021-02-03T23:14:25.384Z",
    "type": "completion"
   },
   {
    "code": "fig1 = px.line(chn, labels = {'date':'year', 'value':'rate (%)'}, title = \"Fertility and Birth Rates of China\")\nfig1.show();",
    "id": "b6aef03f51a24d8495791f7a7966a0e0",
    "idx": 6,
    "time": "2021-02-03T23:16:44.850Z",
    "type": "execution"
   },
   {
    "id": "b6aef03f51a24d8495791f7a7966a0e0",
    "time": "2021-02-03T23:16:45.163Z",
    "type": "completion"
   },
   {
    "code": "variable1 = {\"SP.DYN.TFRT.IN\":\"Fertility rate of China\",\n                   \"SP.DYN.CBRT.IN\":\"Birth Rate of China\"}                                                   \nchn1 = wbdata.get_dataframe(variable1, country=\"CHN\")\nchn1.index = chn1.index.astype(int)\n\n#Removing NaN Values\nchn1 = chn1.iloc[2:,:]\nchn1",
    "id": "bab7f1b490e54e94bcf009eabca07717",
    "idx": 5,
    "time": "2021-02-03T23:20:46.538Z",
    "type": "execution"
   },
   {
    "id": "bab7f1b490e54e94bcf009eabca07717",
    "time": "2021-02-03T23:20:46.689Z",
    "type": "completion"
   },
   {
    "code": "variable1 = {\"SP.DYN.TFRT.IN\":\"Fertility rate of China\",\n                   \"SP.DYN.CBRT.IN\":\"Birth Rate of China\"}                                                   \nchn1 = wbdata.get_dataframe(variable1, country=\"CHN\")\nchn1.index = chn1.index.astype(int)\n\n#Removing NaN Values\nchn1 = chn1.iloc[2:,:]\nchn1.head()",
    "id": "bab7f1b490e54e94bcf009eabca07717",
    "idx": 5,
    "time": "2021-02-03T23:20:50.980Z",
    "type": "execution"
   },
   {
    "id": "bab7f1b490e54e94bcf009eabca07717",
    "time": "2021-02-03T23:20:51.090Z",
    "type": "completion"
   },
   {
    "code": "fig1 = px.line(chn1, labels = {'date':'year', 'value':'rate (%)'}, title = \"Fertility and Birth Rates of China\")\nfig1.show();",
    "id": "b6aef03f51a24d8495791f7a7966a0e0",
    "idx": 6,
    "time": "2021-02-03T23:21:00.427Z",
    "type": "execution"
   },
   {
    "id": "b6aef03f51a24d8495791f7a7966a0e0",
    "time": "2021-02-03T23:21:00.692Z",
    "type": "completion"
   },
   {
    "code": "chn_var1 = {\"SP.DYN.TFRT.IN\":\"Fertility rate of China\",\n                   \"SP.DYN.CBRT.IN\":\"Birth Rate of China\"}                                                   \nchn1 = wbdata.get_dataframe(variable1, country=\"CHN\")\nchn1.index = chn1.index.astype(int)\n\n#Removing NaN Values\nchn1 = chn1.iloc[2:,:]\nchn1.head()",
    "id": "bab7f1b490e54e94bcf009eabca07717",
    "idx": 5,
    "time": "2021-02-03T23:21:13.679Z",
    "type": "execution"
   },
   {
    "id": "bab7f1b490e54e94bcf009eabca07717",
    "time": "2021-02-03T23:21:13.799Z",
    "type": "completion"
   },
   {
    "code": "chn_var2 = {'SP.DYN.CBRT.IN': 'Birth rate, crude (per 1,000 people)',\n            'SP.DYN.CDRT.IN': 'Death rate, crude (per 1,000 people)'}                                                   \nchn2 = wbdata.get_dataframe(chn_var2, country=\"CHN\")\nchn2.index = chn2.index.astype(int)\n\n#Removing NaN Values\nchn2 = chn2.iloc[2:,:]\nchn2.head()",
    "id": "c2d5bb11a1fe483e89205846411daf4d",
    "idx": 8,
    "time": "2021-02-03T23:22:57.854Z",
    "type": "execution"
   },
   {
    "id": "c2d5bb11a1fe483e89205846411daf4d",
    "time": "2021-02-03T23:22:58.536Z",
    "type": "completion"
   },
   {
    "code": "chn_var2 = {'SP.DYN.CBRT.IN': 'Birth rate',\n            'SP.DYN.CDRT.IN': 'Death rate'}                                                   \nchn2 = wbdata.get_dataframe(chn_var2, country=\"CHN\")\nchn2.index = chn2.index.astype(int)\n\n#Removing NaN Values\nchn2 = chn2.iloc[2:,:]\n\n#Computing overall rate of natural increase\nchn2['Overall rate of natural increase'] = chn2['Birth rate'] - chn2['Death rate']",
    "id": "c2d5bb11a1fe483e89205846411daf4d",
    "idx": 8,
    "time": "2021-02-03T23:24:43.710Z",
    "type": "execution"
   },
   {
    "id": "c2d5bb11a1fe483e89205846411daf4d",
    "time": "2021-02-03T23:24:43.822Z",
    "type": "completion"
   },
   {
    "code": "chn_var2 = {'SP.DYN.CBRT.IN': 'Birth rate',\n            'SP.DYN.CDRT.IN': 'Death rate'}                                                   \nchn2 = wbdata.get_dataframe(chn_var2, country=\"CHN\")\nchn2.index = chn2.index.astype(int)\n\n#Removing NaN Values\nchn2 = chn2.iloc[2:,:]\n\n#Computing overall rate of natural increase\nchn2['Overall rate of natural increase'] = chn2['Birth rate'] - chn2['Death rate']\nchn2.head()",
    "id": "c2d5bb11a1fe483e89205846411daf4d",
    "idx": 8,
    "time": "2021-02-03T23:24:49.868Z",
    "type": "execution"
   },
   {
    "id": "c2d5bb11a1fe483e89205846411daf4d",
    "time": "2021-02-03T23:24:49.997Z",
    "type": "completion"
   },
   {
    "code": "fig2 = px.line(chn2)\nfig2.show();",
    "id": "da7d193ac29341988cb161bc324097b7",
    "idx": 9,
    "time": "2021-02-03T23:25:38.851Z",
    "type": "execution"
   },
   {
    "id": "da7d193ac29341988cb161bc324097b7",
    "time": "2021-02-03T23:25:39.114Z",
    "type": "completion"
   },
   {
    "code": "fig1 = px.line(chn1, labels = {'date':'year', 'value':'rate (%)'}, title = \"Fertility and Birth Rates of China\")\nfig1.show()",
    "id": "b6aef03f51a24d8495791f7a7966a0e0",
    "idx": 6,
    "time": "2021-02-03T23:32:30.621Z",
    "type": "execution"
   },
   {
    "id": "b6aef03f51a24d8495791f7a7966a0e0",
    "time": "2021-02-03T23:32:30.933Z",
    "type": "completion"
   },
   {
    "code": "fig1 = px.line(chn1, labels = {'date':'year', 'value':'rate (%)'}, title = \"Fertility and Birth Rates of China\")\nfig1.show();",
    "id": "b6aef03f51a24d8495791f7a7966a0e0",
    "idx": 6,
    "time": "2021-02-03T23:32:36.891Z",
    "type": "execution"
   },
   {
    "id": "b6aef03f51a24d8495791f7a7966a0e0",
    "time": "2021-02-03T23:32:37.161Z",
    "type": "completion"
   }
  ],
  "kernelspec": {
   "display_name": "Python 3",
   "language": "python",
   "name": "python3"
  },
  "language_info": {
   "codemirror_mode": {
    "name": "ipython",
    "version": 3
   },
   "file_extension": ".py",
   "mimetype": "text/x-python",
   "name": "python",
   "nbconvert_exporter": "python",
   "pygments_lexer": "ipython3",
   "version": "3.8.6"
  }
 },
 "nbformat": 4,
 "nbformat_minor": 4
}
