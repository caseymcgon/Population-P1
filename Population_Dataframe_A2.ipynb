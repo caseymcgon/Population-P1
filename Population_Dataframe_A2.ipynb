{
 "cells": [
  {
   "cell_type": "markdown",
   "metadata": {},
   "source": [
    "# POPULATION DATAFRAME FUNCTION\n",
    "\n",
    "### return a pandas df indexed by (region or country) & year -- Double Indexed\n",
    "### columns will be counts of people in Different Age/Sex groups"
   ]
  },
  {
   "cell_type": "markdown",
   "metadata": {},
   "source": [
    "The World Bank maintains a large set of &ldquo;World Development Indicators&rdquo; (WDI),\n",
    "including information on population.  \n",
    "\n",
    "-   API for WDI is available at [https://datahelpdesk.worldbank.org/knowledgebase/articles/889392-about-the-indicators-api-documentation](https://datahelpdesk.worldbank.org/knowledgebase/articles/889392-about-the-indicators-api-documentation)\n",
    "\n",
    "-   A `python` module that uses the API is `wbdata`, written by Oliver Sherouse.\n",
    "\n",
    "-   Available at [http://github.com/OliverSherouse/wbdata](http://github.com/OliverSherouse/wbdata).\n",
    "\n",
    "-   Documented at [https://wbdata.readthedocs.io](https://wbdata.readthedocs.io).\n",
    "\n"
   ]
  },
  {
   "cell_type": "markdown",
   "metadata": {},
   "source": [
    "We walk through the process of getting data from the WDI into a\n",
    "`pandas` DataFrame. \n",
    "\n",
    "The `wbdata` module has several key functions we&rsquo;ll want to use:\n",
    "\n",
    "-   **`search_countries()`:** Returns code for different countries or\n",
    "    regions.\n",
    "-   **`get_source()`:** Gives list of different data sources that can\n",
    "    be accessed using the module; returns a numeric key;\n",
    "-   **`get_indicator()`:** Given a source, this returns a list of\n",
    "    available variables (indicators).\n",
    "-   **`get_dataframe()`:** Given a source and a list of indicators,\n",
    "    this returns a dataframe populated with the requested data\n",
    "    for whatever\n",
    "\n",
    "Begin by importing the module:\n",
    "\n"
   ]
  },
  {
   "cell_type": "code",
   "execution_count": 3,
   "metadata": {},
   "outputs": [
    {
     "name": "stdout",
     "output_type": "stream",
     "text": [
      "Collecting wbdata\n",
      "  Using cached wbdata-0.3.0-py3-none-any.whl (14 kB)\n",
      "Requirement already satisfied: requests>=2.0 in /opt/conda/lib/python3.8/site-packages (from wbdata) (2.25.1)\n",
      "Requirement already satisfied: decorator>=4.0 in /opt/conda/lib/python3.8/site-packages (from wbdata) (4.4.2)\n",
      "Collecting tabulate>=0.8.5\n",
      "  Using cached tabulate-0.8.7-py3-none-any.whl (24 kB)\n",
      "Requirement already satisfied: appdirs<2.0,>=1.4 in /opt/conda/lib/python3.8/site-packages (from wbdata) (1.4.4)\n",
      "Requirement already satisfied: urllib3<1.27,>=1.21.1 in /opt/conda/lib/python3.8/site-packages (from requests>=2.0->wbdata) (1.25.7)\n",
      "Requirement already satisfied: idna<3,>=2.5 in /opt/conda/lib/python3.8/site-packages (from requests>=2.0->wbdata) (2.8)\n",
      "Requirement already satisfied: chardet<5,>=3.0.2 in /opt/conda/lib/python3.8/site-packages (from requests>=2.0->wbdata) (3.0.4)\n",
      "Requirement already satisfied: certifi>=2017.4.17 in /opt/conda/lib/python3.8/site-packages (from requests>=2.0->wbdata) (2019.11.28)\n",
      "Installing collected packages: tabulate, wbdata\n",
      "Successfully installed tabulate-0.8.7 wbdata-0.3.0\n"
     ]
    }
   ],
   "source": [
    "## If import fails with \"ModuleNotFoundError\"\n",
    "## uncomment below & try again\n",
    "!pip install wbdata\n",
    "\n",
    "import wbdata"
   ]
  },
  {
   "cell_type": "code",
   "execution_count": 4,
   "metadata": {},
   "outputs": [],
   "source": [
    "import pandas as pd\n",
    "import numpy as np"
   ]
  },
  {
   "cell_type": "code",
   "execution_count": 10,
   "metadata": {},
   "outputs": [
    {
     "data": {
      "text/plain": [
       "id    name\n",
       "----  --------------------------------------------------------------------------------\n",
       "ABW   Aruba\n",
       "AFG   Afghanistan\n",
       "AFR   Africa\n",
       "AGO   Angola\n",
       "ALB   Albania\n",
       "AND   Andorra\n",
       "ARB   Arab World\n",
       "ARE   United Arab Emirates\n",
       "ARG   Argentina\n",
       "ARM   Armenia\n",
       "ASM   American Samoa\n",
       "ATG   Antigua and Barbuda\n",
       "AUS   Australia\n",
       "AUT   Austria\n",
       "AZE   Azerbaijan\n",
       "BDI   Burundi\n",
       "BEA   East Asia & Pacific (IBRD-only countries)\n",
       "BEC   Europe & Central Asia (IBRD-only countries)\n",
       "BEL   Belgium\n",
       "BEN   Benin\n",
       "BFA   Burkina Faso\n",
       "BGD   Bangladesh\n",
       "BGR   Bulgaria\n",
       "BHI   IBRD countries classified as high income\n",
       "BHR   Bahrain\n",
       "BHS   Bahamas, The\n",
       "BIH   Bosnia and Herzegovina\n",
       "BLA   Latin America & the Caribbean (IBRD-only countries)\n",
       "BLR   Belarus\n",
       "BLZ   Belize\n",
       "BMN   Middle East & North Africa (IBRD-only countries)\n",
       "BMU   Bermuda\n",
       "BOL   Bolivia\n",
       "BRA   Brazil\n",
       "BRB   Barbados\n",
       "BRN   Brunei Darussalam\n",
       "BSS   Sub-Saharan Africa (IBRD-only countries)\n",
       "BTN   Bhutan\n",
       "BWA   Botswana\n",
       "CAA   Sub-Saharan Africa (IFC classification)\n",
       "CAF   Central African Republic\n",
       "CAN   Canada\n",
       "CEA   East Asia and the Pacific (IFC classification)\n",
       "CEB   Central Europe and the Baltics\n",
       "CEU   Europe and Central Asia (IFC classification)\n",
       "CHE   Switzerland\n",
       "CHI   Channel Islands\n",
       "CHL   Chile\n",
       "CHN   China\n",
       "CIV   Cote d'Ivoire\n",
       "CLA   Latin America and the Caribbean (IFC classification)\n",
       "CME   Middle East and North Africa (IFC classification)\n",
       "CMR   Cameroon\n",
       "COD   Congo, Dem. Rep.\n",
       "COG   Congo, Rep.\n",
       "COL   Colombia\n",
       "COM   Comoros\n",
       "CPV   Cabo Verde\n",
       "CRI   Costa Rica\n",
       "CSA   South Asia (IFC classification)\n",
       "CSS   Caribbean small states\n",
       "CUB   Cuba\n",
       "CUW   Curacao\n",
       "CYM   Cayman Islands\n",
       "CYP   Cyprus\n",
       "CZE   Czech Republic\n",
       "DEA   East Asia & Pacific (IDA-eligible countries)\n",
       "DEC   Europe & Central Asia (IDA-eligible countries)\n",
       "DEU   Germany\n",
       "DFS   IDA countries classified as Fragile Situations\n",
       "DJI   Djibouti\n",
       "DLA   Latin America & the Caribbean (IDA-eligible countries)\n",
       "DMA   Dominica\n",
       "DMN   Middle East & North Africa (IDA-eligible countries)\n",
       "DNF   IDA countries not classified as Fragile Situations\n",
       "DNK   Denmark\n",
       "DNS   IDA countries in Sub-Saharan Africa not classified as fragile situations\n",
       "DOM   Dominican Republic\n",
       "DSA   South Asia (IDA-eligible countries)\n",
       "DSF   IDA countries in Sub-Saharan Africa classified as fragile situations\n",
       "DSS   Sub-Saharan Africa (IDA-eligible countries)\n",
       "DZA   Algeria\n",
       "EAP   East Asia & Pacific (excluding high income)\n",
       "EAR   Early-demographic dividend\n",
       "EAS   East Asia & Pacific\n",
       "ECA   Europe & Central Asia (excluding high income)\n",
       "ECS   Europe & Central Asia\n",
       "ECU   Ecuador\n",
       "EGY   Egypt, Arab Rep.\n",
       "EMU   Euro area\n",
       "ERI   Eritrea\n",
       "ESP   Spain\n",
       "EST   Estonia\n",
       "ETH   Ethiopia\n",
       "EUU   European Union\n",
       "FCS   Fragile and conflict affected situations\n",
       "FIN   Finland\n",
       "FJI   Fiji\n",
       "FRA   France\n",
       "FRO   Faroe Islands\n",
       "FSM   Micronesia, Fed. Sts.\n",
       "FXS   IDA countries classified as fragile situations, excluding Sub-Saharan Africa\n",
       "GAB   Gabon\n",
       "GBR   United Kingdom\n",
       "GEO   Georgia\n",
       "GHA   Ghana\n",
       "GIB   Gibraltar\n",
       "GIN   Guinea\n",
       "GMB   Gambia, The\n",
       "GNB   Guinea-Bissau\n",
       "GNQ   Equatorial Guinea\n",
       "GRC   Greece\n",
       "GRD   Grenada\n",
       "GRL   Greenland\n",
       "GTM   Guatemala\n",
       "GUM   Guam\n",
       "GUY   Guyana\n",
       "HIC   High income\n",
       "HKG   Hong Kong SAR, China\n",
       "HND   Honduras\n",
       "HPC   Heavily indebted poor countries (HIPC)\n",
       "HRV   Croatia\n",
       "HTI   Haiti\n",
       "HUN   Hungary\n",
       "IBB   IBRD, including blend\n",
       "IBD   IBRD only\n",
       "IBT   IDA & IBRD total\n",
       "IDA   IDA total\n",
       "IDB   IDA blend\n",
       "IDN   Indonesia\n",
       "IDX   IDA only\n",
       "IMN   Isle of Man\n",
       "IND   India\n",
       "INX   Not classified\n",
       "IRL   Ireland\n",
       "IRN   Iran, Islamic Rep.\n",
       "IRQ   Iraq\n",
       "ISL   Iceland\n",
       "ISR   Israel\n",
       "ITA   Italy\n",
       "JAM   Jamaica\n",
       "JOR   Jordan\n",
       "JPN   Japan\n",
       "KAZ   Kazakhstan\n",
       "KEN   Kenya\n",
       "KGZ   Kyrgyz Republic\n",
       "KHM   Cambodia\n",
       "KIR   Kiribati\n",
       "KNA   St. Kitts and Nevis\n",
       "KOR   Korea, Rep.\n",
       "KWT   Kuwait\n",
       "LAC   Latin America & Caribbean (excluding high income)\n",
       "LAO   Lao PDR\n",
       "LBN   Lebanon\n",
       "LBR   Liberia\n",
       "LBY   Libya\n",
       "LCA   St. Lucia\n",
       "LCN   Latin America & Caribbean\n",
       "LDC   Least developed countries: UN classification\n",
       "LIC   Low income\n",
       "LIE   Liechtenstein\n",
       "LKA   Sri Lanka\n",
       "LMC   Lower middle income\n",
       "LMY   Low & middle income\n",
       "LSO   Lesotho\n",
       "LTE   Late-demographic dividend\n",
       "LTU   Lithuania\n",
       "LUX   Luxembourg\n",
       "LVA   Latvia\n",
       "MAC   Macao SAR, China\n",
       "MAF   St. Martin (French part)\n",
       "MAR   Morocco\n",
       "MCO   Monaco\n",
       "MDA   Moldova\n",
       "MDE   Middle East (developing only)\n",
       "MDG   Madagascar\n",
       "MDV   Maldives\n",
       "MEA   Middle East & North Africa\n",
       "MEX   Mexico\n",
       "MHL   Marshall Islands\n",
       "MIC   Middle income\n",
       "MKD   North Macedonia\n",
       "MLI   Mali\n",
       "MLT   Malta\n",
       "MMR   Myanmar\n",
       "MNA   Middle East & North Africa (excluding high income)\n",
       "MNE   Montenegro\n",
       "MNG   Mongolia\n",
       "MNP   Northern Mariana Islands\n",
       "MOZ   Mozambique\n",
       "MRT   Mauritania\n",
       "MUS   Mauritius\n",
       "MWI   Malawi\n",
       "MYS   Malaysia\n",
       "NAC   North America\n",
       "NAF   North Africa\n",
       "NAM   Namibia\n",
       "NCL   New Caledonia\n",
       "NER   Niger\n",
       "NGA   Nigeria\n",
       "NIC   Nicaragua\n",
       "NLD   Netherlands\n",
       "NOR   Norway\n",
       "NPL   Nepal\n",
       "NRS   Non-resource rich Sub-Saharan Africa countries\n",
       "NRU   Nauru\n",
       "NXS   IDA countries not classified as fragile situations, excluding Sub-Saharan Africa\n",
       "NZL   New Zealand\n",
       "OED   OECD members\n",
       "OMN   Oman\n",
       "OSS   Other small states\n",
       "PAK   Pakistan\n",
       "PAN   Panama\n",
       "PER   Peru\n",
       "PHL   Philippines\n",
       "PLW   Palau\n",
       "PNG   Papua New Guinea\n",
       "POL   Poland\n",
       "PRE   Pre-demographic dividend\n",
       "PRI   Puerto Rico\n",
       "PRK   Korea, Dem. People’s Rep.\n",
       "PRT   Portugal\n",
       "PRY   Paraguay\n",
       "PSE   West Bank and Gaza\n",
       "PSS   Pacific island small states\n",
       "PST   Post-demographic dividend\n",
       "PYF   French Polynesia\n",
       "QAT   Qatar\n",
       "ROU   Romania\n",
       "RRS   Resource rich Sub-Saharan Africa countries\n",
       "RUS   Russian Federation\n",
       "RWA   Rwanda\n",
       "SAS   South Asia\n",
       "SAU   Saudi Arabia\n",
       "SDN   Sudan\n",
       "SEN   Senegal\n",
       "SGP   Singapore\n",
       "SLB   Solomon Islands\n",
       "SLE   Sierra Leone\n",
       "SLV   El Salvador\n",
       "SMR   San Marino\n",
       "SOM   Somalia\n",
       "SRB   Serbia\n",
       "SSA   Sub-Saharan Africa (excluding high income)\n",
       "SSD   South Sudan\n",
       "SSF   Sub-Saharan Africa\n",
       "SST   Small states\n",
       "STP   Sao Tome and Principe\n",
       "SUR   Suriname\n",
       "SVK   Slovak Republic\n",
       "SVN   Slovenia\n",
       "SWE   Sweden\n",
       "SWZ   Eswatini\n",
       "SXM   Sint Maarten (Dutch part)\n",
       "SXZ   Sub-Saharan Africa excluding South Africa\n",
       "SYC   Seychelles\n",
       "SYR   Syrian Arab Republic\n",
       "TCA   Turks and Caicos Islands\n",
       "TCD   Chad\n",
       "TEA   East Asia & Pacific (IDA & IBRD countries)\n",
       "TEC   Europe & Central Asia (IDA & IBRD countries)\n",
       "TGO   Togo\n",
       "THA   Thailand\n",
       "TJK   Tajikistan\n",
       "TKM   Turkmenistan\n",
       "TLA   Latin America & the Caribbean (IDA & IBRD countries)\n",
       "TLS   Timor-Leste\n",
       "TMN   Middle East & North Africa (IDA & IBRD countries)\n",
       "TON   Tonga\n",
       "TSA   South Asia (IDA & IBRD)\n",
       "TSS   Sub-Saharan Africa (IDA & IBRD countries)\n",
       "TTO   Trinidad and Tobago\n",
       "TUN   Tunisia\n",
       "TUR   Turkey\n",
       "TUV   Tuvalu\n",
       "TWN   Taiwan, China\n",
       "TZA   Tanzania\n",
       "UGA   Uganda\n",
       "UKR   Ukraine\n",
       "UMC   Upper middle income\n",
       "URY   Uruguay\n",
       "USA   United States\n",
       "UZB   Uzbekistan\n",
       "VCT   St. Vincent and the Grenadines\n",
       "VEN   Venezuela, RB\n",
       "VGB   British Virgin Islands\n",
       "VIR   Virgin Islands (U.S.)\n",
       "VNM   Vietnam\n",
       "VUT   Vanuatu\n",
       "WLD   World\n",
       "WSM   Samoa\n",
       "XKX   Kosovo\n",
       "XZN   Sub-Saharan Africa excluding South Africa and Nigeria\n",
       "YEM   Yemen, Rep.\n",
       "ZAF   South Africa\n",
       "ZMB   Zambia\n",
       "ZWE   Zimbabwe"
      ]
     },
     "execution_count": 10,
     "metadata": {},
     "output_type": "execute_result"
    }
   ],
   "source": [
    "\n",
    "# Return list of all country/region codes:\n",
    "#wbdata.get_country()\n",
    "\n",
    "# Return list matching a query term:\n",
    "#wbdata.search_countries(\"\")\n",
    "\n",
    "## Try your own search!\n",
    "wbdata.search_countries(\"\")"
   ]
  },
  {
   "cell_type": "code",
   "execution_count": 6,
   "metadata": {},
   "outputs": [
    {
     "data": {
      "text/plain": [
       "  id  name\n",
       "----  --------------------------------------------------------------------\n",
       "   1  Doing Business\n",
       "   2  World Development Indicators\n",
       "   3  Worldwide Governance Indicators\n",
       "   5  Subnational Malnutrition Database\n",
       "   6  International Debt Statistics\n",
       "  11  Africa Development Indicators\n",
       "  12  Education Statistics\n",
       "  13  Enterprise Surveys\n",
       "  14  Gender Statistics\n",
       "  15  Global Economic Monitor\n",
       "  16  Health Nutrition and Population Statistics\n",
       "  18  IDA Results Measurement System\n",
       "  19  Millennium Development Goals\n",
       "  20  Quarterly Public Sector Debt\n",
       "  22  Quarterly External Debt Statistics SDDS\n",
       "  23  Quarterly External Debt Statistics GDDS\n",
       "  24  Poverty and Equity\n",
       "  25  Jobs\n",
       "  27  Global Economic Prospects\n",
       "  28  Global Financial Inclusion\n",
       "  29  The Atlas of Social Protection: Indicators of Resilience and Equity\n",
       "  30  Exporter Dynamics Database – Indicators at Country-Year Level\n",
       "  31  Country Policy and Institutional Assessment\n",
       "  32  Global Financial Development\n",
       "  33  G20 Financial Inclusion Indicators\n",
       "  34  Global Partnership for Education\n",
       "  35  Sustainable Energy for All\n",
       "  36  Statistical Capacity Indicators\n",
       "  37  LAC Equity Lab\n",
       "  38  Subnational Poverty\n",
       "  39  Health Nutrition and Population Statistics by Wealth Quintile\n",
       "  40  Population estimates and projections\n",
       "  41  Country Partnership Strategy for India (FY2013 - 17)\n",
       "  43  Adjusted Net Savings\n",
       "  44  Readiness for Investment in Sustainable Energy\n",
       "  45  Indonesia Database for Policy and Economic Research\n",
       "  46  Sustainable Development Goals\n",
       "  50  Subnational Population\n",
       "  54  Joint External Debt Hub\n",
       "  57  WDI Database Archives\n",
       "  58  Universal Health Coverage\n",
       "  59  Wealth Accounts\n",
       "  60  Economic Fitness\n",
       "  61  PPPs Regulatory Quality\n",
       "  62  International Comparison Program (ICP) 2011\n",
       "  63  Human Capital Index\n",
       "  64  Worldwide Bureaucracy Indicators\n",
       "  65  Health Equity and Financial Protection Indicators\n",
       "  66  Logistics Performance Index\n",
       "  67  PEFA 2011\n",
       "  68  PEFA 2016\n",
       "  69  Global Financial Inclusion and Consumer Protection Survey\n",
       "  70  Economic Fitness 2\n",
       "  71  International Comparison Program (ICP) 2005\n",
       "  72  PEFA_Test\n",
       "  73  Global Financial Inclusion and Consumer Protection Survey (Internal)\n",
       "  75  Environment, Social and Governance (ESG) Data\n",
       "  76  Remittance Prices Worldwide (Sending Countries)\n",
       "  77  Remittance Prices Worldwide (Receiving Countries)\n",
       "  78  ICP 2017\n",
       "  79  PEFA_GRPFM\n",
       "  80  Gender Disaggregated Labor Database (GDLD)\n",
       "  81  International Debt Statistics: DSSI"
      ]
     },
     "execution_count": 6,
     "metadata": {},
     "output_type": "execute_result"
    }
   ],
   "source": [
    "wbdata.get_source()"
   ]
  },
  {
   "cell_type": "code",
   "execution_count": 7,
   "metadata": {},
   "outputs": [
    {
     "data": {
      "text/plain": [
       "id                 name\n",
       "-----------------  -------------------------------------------------------------------\n",
       "SH.DTH.0509        Number of deaths ages 5-9 years\n",
       "SH.DTH.1014        Number of deaths ages 10-14 years\n",
       "SH.DTH.1519        Number of deaths ages 15-19 years\n",
       "SH.DTH.2024        Number of deaths ages 20-24 years\n",
       "SH.DTH.IMRT        Number of infant deaths\n",
       "SH.DTH.IMRT.FE     Number of infant deaths, female\n",
       "SH.DTH.IMRT.MA     Number of infant deaths, male\n",
       "SH.DTH.MORT        Number of under-five deaths\n",
       "SH.DTH.MORT.FE     Number of under-five deaths, female\n",
       "SH.DTH.MORT.MA     Number of under-five deaths, male\n",
       "SH.DTH.NMRT        Number of neonatal deaths\n",
       "SH.DYN.0509        Probability of dying among children ages 5-9 years (per 1,000)\n",
       "SH.DYN.1014        Probability of dying among adolescents ages 10-14 years (per 1,000)\n",
       "SH.DYN.1519        Probability of dying among adolescents ages 15-19 years (per 1,000)\n",
       "SH.DYN.2024        Probability of dying among youth ages 20-24 years (per 1,000)\n",
       "SH.DYN.MORT        Mortality rate, under-5 (per 1,000 live births)\n",
       "SH.DYN.MORT.FE     Mortality rate, under-5, female (per 1,000 live births)\n",
       "SH.DYN.MORT.MA     Mortality rate, under-5, male (per 1,000 live births)\n",
       "SH.DYN.NMRT        Mortality rate, neonatal (per 1,000 live births)\n",
       "SM.POP.NETM        Net migration\n",
       "SP.DYN.AMRT.FE     Mortality rate, adult, female (per 1,000 female adults)\n",
       "SP.DYN.AMRT.MA     Mortality rate, adult, male (per 1,000 male adults)\n",
       "SP.DYN.CBRT.IN     Birth rate, crude (per 1,000 people)\n",
       "SP.DYN.CDRT.IN     Death rate, crude (per 1,000 people)\n",
       "SP.DYN.IMRT.FE.IN  Mortality rate, infant, female (per 1,000 live births)\n",
       "SP.DYN.IMRT.IN     Mortality rate, infant (per 1,000 live births)\n",
       "SP.DYN.IMRT.MA.IN  Mortality rate, infant, male (per 1,000 live births)\n",
       "SP.DYN.LE00.FE.IN  Life expectancy at birth, female (years)\n",
       "SP.DYN.LE00.IN     Life expectancy at birth, total (years)\n",
       "SP.DYN.LE00.MA.IN  Life expectancy at birth, male (years)\n",
       "SP.DYN.TFRT.IN     Fertility rate, total (births per woman)\n",
       "SP.POP.0004.FE     Population ages 00-04, female\n",
       "SP.POP.0004.FE.5Y  Population ages 00-04, female (% of female population)\n",
       "SP.POP.0004.MA     Population ages 00-04, male\n",
       "SP.POP.0004.MA.5Y  Population ages 00-04, male (% of male population)\n",
       "SP.POP.0014.FE.IN  Population ages 0-14, female\n",
       "SP.POP.0014.FE.ZS  Population ages 0-14, female (% of female population)\n",
       "SP.POP.0014.MA.IN  Population ages 0-14, male\n",
       "SP.POP.0014.MA.ZS  Population ages 0-14, male (% of male population)\n",
       "SP.POP.0014.TO     Population ages 0-14, total\n",
       "SP.POP.0014.TO.ZS  Population ages 0-14 (% of total population)\n",
       "SP.POP.0509.FE     Population ages 05-09, female\n",
       "SP.POP.0509.FE.5Y  Population ages 05-09, female (% of female population)\n",
       "SP.POP.0509.MA     Population ages 05-09, male\n",
       "SP.POP.0509.MA.5Y  Population ages 05-09, male (% of male population)\n",
       "SP.POP.1014.FE     Population ages 10-14, female\n",
       "SP.POP.1014.FE.5Y  Population ages 10-14, female (% of female population)\n",
       "SP.POP.1014.MA     Population ages 10-14, male\n",
       "SP.POP.1014.MA.5Y  Population ages 10-14, male (% of male population)\n",
       "SP.POP.1519.FE     Population ages 15-19, female\n",
       "SP.POP.1519.FE.5Y  Population ages 15-19, female (% of female population)\n",
       "SP.POP.1519.MA     Population ages 15-19, male\n",
       "SP.POP.1519.MA.5Y  Population ages 15-19, male (% of male population)\n",
       "SP.POP.1564.FE.IN  Population ages 15-64, female\n",
       "SP.POP.1564.FE.ZS  Population ages 15-64, female (% of female population)\n",
       "SP.POP.1564.MA.IN  Population ages 15-64, male\n",
       "SP.POP.1564.MA.ZS  Population ages 15-64, male (% of male population)\n",
       "SP.POP.1564.TO     Population ages 15-64, total\n",
       "SP.POP.1564.TO.ZS  Population ages 15-64 (% of total population)\n",
       "SP.POP.2024.FE     Population ages 20-24, female\n",
       "SP.POP.2024.FE.5Y  Population ages 20-24, female (% of female population)\n",
       "SP.POP.2024.MA     Population ages 20-24, male\n",
       "SP.POP.2024.MA.5Y  Population ages 20-24, male (% of male population)\n",
       "SP.POP.2529.FE     Population ages 25-29, female\n",
       "SP.POP.2529.FE.5Y  Population ages 25-29, female (% of female population)\n",
       "SP.POP.2529.MA     Population ages 25-29, male\n",
       "SP.POP.2529.MA.5Y  Population ages 25-29, male (% of male population)\n",
       "SP.POP.3034.FE     Population ages 30-34, female\n",
       "SP.POP.3034.FE.5Y  Population ages 30-34, female (% of female population)\n",
       "SP.POP.3034.MA     Population ages 30-34, male\n",
       "SP.POP.3034.MA.5Y  Population ages 30-34, male (% of male population)\n",
       "SP.POP.3539.FE     Population ages 35-39, female\n",
       "SP.POP.3539.FE.5Y  Population ages 35-39, female (% of female population)\n",
       "SP.POP.3539.MA     Population ages 35-39, male\n",
       "SP.POP.3539.MA.5Y  Population ages 35-39, male (% of male population)\n",
       "SP.POP.4044.FE     Population ages 40-44, female\n",
       "SP.POP.4044.FE.5Y  Population ages 40-44, female (% of female population)\n",
       "SP.POP.4044.MA     Population ages 40-44, male\n",
       "SP.POP.4044.MA.5Y  Population ages 40-44, male (% of male population)\n",
       "SP.POP.4549.FE     Population ages 45-49, female\n",
       "SP.POP.4549.FE.5Y  Population ages 45-49, female (% of female population)\n",
       "SP.POP.4549.MA     Population ages 45-49, male\n",
       "SP.POP.4549.MA.5Y  Population ages 45-49, male (% of male population)\n",
       "SP.POP.5054.FE     Population ages 50-54, female\n",
       "SP.POP.5054.FE.5Y  Population ages 50-54, female (% of female population)\n",
       "SP.POP.5054.MA     Population ages 50-54, male\n",
       "SP.POP.5054.MA.5Y  Population ages 50-54, male (% of male population)\n",
       "SP.POP.5559.FE     Population ages 55-59, female\n",
       "SP.POP.5559.FE.5Y  Population ages 55-59, female (% of female population)\n",
       "SP.POP.5559.MA     Population ages 55-59, male\n",
       "SP.POP.5559.MA.5Y  Population ages 55-59, male (% of male population)\n",
       "SP.POP.6064.FE     Population ages 60-64, female\n",
       "SP.POP.6064.FE.5Y  Population ages 60-64, female (% of female population)\n",
       "SP.POP.6064.MA     Population ages 60-64, male\n",
       "SP.POP.6064.MA.5Y  Population ages 60-64, male (% of male population)\n",
       "SP.POP.6569.FE     Population ages 65-69, female\n",
       "SP.POP.6569.FE.5Y  Population ages 65-69, female (% of female population)\n",
       "SP.POP.6569.MA     Population ages 65-69, male\n",
       "SP.POP.6569.MA.5Y  Population ages 65-69, male (% of male population)\n",
       "SP.POP.65UP.FE.IN  Population ages 65 and above, female\n",
       "SP.POP.65UP.FE.ZS  Population ages 65 and above, female (% of female population)\n",
       "SP.POP.65UP.MA.IN  Population ages 65 and above, male\n",
       "SP.POP.65UP.MA.ZS  Population ages 65 and above, male (% of male population)\n",
       "SP.POP.65UP.TO     Population ages 65 and above, total\n",
       "SP.POP.65UP.TO.ZS  Population ages 65 and above (% of total population)\n",
       "SP.POP.7074.FE     Population ages 70-74, female\n",
       "SP.POP.7074.FE.5Y  Population ages 70-74, female (% of female population)\n",
       "SP.POP.7074.MA     Population ages 70-74, male\n",
       "SP.POP.7074.MA.5Y  Population ages 70-74, male (% of male population)\n",
       "SP.POP.7579.FE     Population ages 75-79, female\n",
       "SP.POP.7579.FE.5Y  Population ages 75-79, female (% of female population)\n",
       "SP.POP.7579.MA     Population ages 75-79, male\n",
       "SP.POP.7579.MA.5Y  Population ages 75-79, male (% of male population)\n",
       "SP.POP.80UP.FE     Population ages 80 and above, female\n",
       "SP.POP.80UP.FE.5Y  Population ages 80 and above, female (% of female population)\n",
       "SP.POP.80UP.MA     Population ages 80 and above, male\n",
       "SP.POP.80UP.MA.5Y  Population ages 80 and above, male (% of male population)\n",
       "SP.POP.AG00.FE.IN  Age population, age 00, female, interpolated\n",
       "SP.POP.AG00.MA.IN  Age population, age 00, male, interpolated\n",
       "SP.POP.AG01.FE.IN  Age population, age 01, female, interpolated\n",
       "SP.POP.AG01.MA.IN  Age population, age 01, male, interpolated\n",
       "SP.POP.AG02.FE.IN  Age population, age 02, female, interpolated\n",
       "SP.POP.AG02.MA.IN  Age population, age 02, male, interpolated\n",
       "SP.POP.AG03.FE.IN  Age population, age 03, female, interpolated\n",
       "SP.POP.AG03.MA.IN  Age population, age 03, male, interpolated\n",
       "SP.POP.AG04.FE.IN  Age population, age 04, female, interpolated\n",
       "SP.POP.AG04.MA.IN  Age population, age 04, male, interpolated\n",
       "SP.POP.AG05.FE.IN  Age population, age 05, female, interpolated\n",
       "SP.POP.AG05.MA.IN  Age population, age 05, male, interpolated\n",
       "SP.POP.AG06.FE.IN  Age population, age 06, female, interpolated\n",
       "SP.POP.AG06.MA.IN  Age population, age 06, male, interpolated\n",
       "SP.POP.AG07.FE.IN  Age population, age 07, female, interpolated\n",
       "SP.POP.AG07.MA.IN  Age population, age 07, male, interpolated\n",
       "SP.POP.AG08.FE.IN  Age population, age 08, female, interpolated\n",
       "SP.POP.AG08.MA.IN  Age population, age 08, male, interpolated\n",
       "SP.POP.AG09.FE.IN  Age population, age 09, female, interpolated\n",
       "SP.POP.AG09.MA.IN  Age population, age 09, male, interpolated\n",
       "SP.POP.AG10.FE.IN  Age population, age 10, female, interpolated\n",
       "SP.POP.AG10.MA.IN  Age population, age 10, male, interpolated\n",
       "SP.POP.AG11.FE.IN  Age population, age 11, female, interpolated\n",
       "SP.POP.AG11.MA.IN  Age population, age 11, male, interpolated\n",
       "SP.POP.AG12.FE.IN  Age population, age 12, female, interpolated\n",
       "SP.POP.AG12.MA.IN  Age population, age 12, male, interpolated\n",
       "SP.POP.AG13.FE.IN  Age population, age 13, female, interpolated\n",
       "SP.POP.AG13.MA.IN  Age population, age 13, male, interpolated\n",
       "SP.POP.AG14.FE.IN  Age population, age 14, female, interpolated\n",
       "SP.POP.AG14.MA.IN  Age population, age 14, male, interpolated\n",
       "SP.POP.AG15.FE.IN  Age population, age 15, female, interpolated\n",
       "SP.POP.AG15.MA.IN  Age population, age 15, male, interpolated\n",
       "SP.POP.AG16.FE.IN  Age population, age 16, female, interpolated\n",
       "SP.POP.AG16.MA.IN  Age population, age 16, male, interpolated\n",
       "SP.POP.AG17.FE.IN  Age population, age 17, female, interpolated\n",
       "SP.POP.AG17.MA.IN  Age population, age 17, male, interpolated\n",
       "SP.POP.AG18.FE.IN  Age population, age 18, female, interpolated\n",
       "SP.POP.AG18.MA.IN  Age population, age 18, male, interpolated\n",
       "SP.POP.AG19.FE.IN  Age population, age 19, female, interpolated\n",
       "SP.POP.AG19.MA.IN  Age population, age 19, male, interpolated\n",
       "SP.POP.AG20.FE.IN  Age population, age 20, female, interpolated\n",
       "SP.POP.AG20.MA.IN  Age population, age 20, male, interpolated\n",
       "SP.POP.AG21.FE.IN  Age population, age 21, female, interpolated\n",
       "SP.POP.AG21.MA.IN  Age population, age 21, male, interpolated\n",
       "SP.POP.AG22.FE.IN  Age population, age 22, female, interpolated\n",
       "SP.POP.AG22.MA.IN  Age population, age 22, male, interpolated\n",
       "SP.POP.AG23.FE.IN  Age population, age 23, female, interpolated\n",
       "SP.POP.AG23.MA.IN  Age population, age 23, male, interpolated\n",
       "SP.POP.AG24.FE.IN  Age population, age 24, female, interpolated\n",
       "SP.POP.AG24.MA.IN  Age population, age 24, male, interpolated\n",
       "SP.POP.AG25.FE.IN  Age population, age 25, female, interpolated\n",
       "SP.POP.AG25.MA.IN  Age population, age 25, male, interpolated\n",
       "SP.POP.BRTH.MF     Sex ratio at birth (male births per female births)\n",
       "SP.POP.DPND        Age dependency ratio (% of working-age population)\n",
       "SP.POP.DPND.OL     Age dependency ratio, old (% of working-age population)\n",
       "SP.POP.DPND.YG     Age dependency ratio, young (% of working-age population)\n",
       "SP.POP.GROW        Population growth (annual %)\n",
       "SP.POP.TOTL        Population, total\n",
       "SP.POP.TOTL.FE.IN  Population, female\n",
       "SP.POP.TOTL.FE.ZS  Population, female (% of total population)\n",
       "SP.POP.TOTL.MA.IN  Population, male\n",
       "SP.POP.TOTL.MA.ZS  Population, male (% of total population)\n",
       "SP.RUR.TOTL        Rural population\n",
       "SP.RUR.TOTL.ZG     Rural population growth (annual %)\n",
       "SP.RUR.TOTL.ZS     Rural population (% of total population)\n",
       "SP.URB.GROW        Urban population growth (annual %)\n",
       "SP.URB.TOTL        Urban population\n",
       "SP.URB.TOTL.IN.ZS  Urban population (% of total population)"
      ]
     },
     "execution_count": 7,
     "metadata": {},
     "output_type": "execute_result"
    }
   ],
   "source": [
    "SOURCE = 40 # \"Population estimates and projections\n",
    "\n",
    "indicators = wbdata.get_indicator(source=SOURCE)\n",
    "indicators"
   ]
  },
  {
   "cell_type": "code",
   "execution_count": 9,
   "metadata": {},
   "outputs": [
    {
     "data": {
      "text/html": [
       "<div>\n",
       "<style scoped>\n",
       "    .dataframe tbody tr th:only-of-type {\n",
       "        vertical-align: middle;\n",
       "    }\n",
       "\n",
       "    .dataframe tbody tr th {\n",
       "        vertical-align: top;\n",
       "    }\n",
       "\n",
       "    .dataframe thead th {\n",
       "        text-align: right;\n",
       "    }\n",
       "</style>\n",
       "<table border=\"1\" class=\"dataframe\">\n",
       "  <thead>\n",
       "    <tr style=\"text-align: right;\">\n",
       "      <th></th>\n",
       "      <th></th>\n",
       "      <th>Total Population</th>\n",
       "      <th>Female Population</th>\n",
       "      <th>Male Population</th>\n",
       "      <th>Females (0-14)</th>\n",
       "      <th>Males (0-14)</th>\n",
       "      <th>Females (15-64)</th>\n",
       "      <th>Males (15-64)</th>\n",
       "      <th>Females (65+)</th>\n",
       "      <th>Males (65+)</th>\n",
       "      <th>Females (0-4)</th>\n",
       "      <th>...</th>\n",
       "      <th>Females (60-64)</th>\n",
       "      <th>Males (60-64)</th>\n",
       "      <th>Females (65-69)</th>\n",
       "      <th>Males (65-69)</th>\n",
       "      <th>Females (70-74)</th>\n",
       "      <th>Males (70-74)</th>\n",
       "      <th>Females (75-79)</th>\n",
       "      <th>Males (75-79)</th>\n",
       "      <th>Females (80+)</th>\n",
       "      <th>Males (80+)</th>\n",
       "    </tr>\n",
       "    <tr>\n",
       "      <th>country</th>\n",
       "      <th>date</th>\n",
       "      <th></th>\n",
       "      <th></th>\n",
       "      <th></th>\n",
       "      <th></th>\n",
       "      <th></th>\n",
       "      <th></th>\n",
       "      <th></th>\n",
       "      <th></th>\n",
       "      <th></th>\n",
       "      <th></th>\n",
       "      <th></th>\n",
       "      <th></th>\n",
       "      <th></th>\n",
       "      <th></th>\n",
       "      <th></th>\n",
       "      <th></th>\n",
       "      <th></th>\n",
       "      <th></th>\n",
       "      <th></th>\n",
       "      <th></th>\n",
       "      <th></th>\n",
       "    </tr>\n",
       "  </thead>\n",
       "  <tbody>\n",
       "    <tr>\n",
       "      <th rowspan=\"5\" valign=\"top\">Afghanistan</th>\n",
       "      <th>1960</th>\n",
       "      <td>8996973.0</td>\n",
       "      <td>4347397.0</td>\n",
       "      <td>4649576.0</td>\n",
       "      <td>1889085.0</td>\n",
       "      <td>1902314.0</td>\n",
       "      <td>2342557.0</td>\n",
       "      <td>2611254.0</td>\n",
       "      <td>115755.0</td>\n",
       "      <td>136008.0</td>\n",
       "      <td>760938.0</td>\n",
       "      <td>...</td>\n",
       "      <td>81378.0</td>\n",
       "      <td>93053.0</td>\n",
       "      <td>56624.0</td>\n",
       "      <td>67283.0</td>\n",
       "      <td>34655.0</td>\n",
       "      <td>40748.0</td>\n",
       "      <td>16990.0</td>\n",
       "      <td>19683.0</td>\n",
       "      <td>7486.0</td>\n",
       "      <td>8294.0</td>\n",
       "    </tr>\n",
       "    <tr>\n",
       "      <th>1961</th>\n",
       "      <td>9169410.0</td>\n",
       "      <td>4439158.0</td>\n",
       "      <td>4730252.0</td>\n",
       "      <td>1938162.0</td>\n",
       "      <td>1954539.0</td>\n",
       "      <td>2382132.0</td>\n",
       "      <td>2637080.0</td>\n",
       "      <td>118864.0</td>\n",
       "      <td>138633.0</td>\n",
       "      <td>795378.0</td>\n",
       "      <td>...</td>\n",
       "      <td>82261.0</td>\n",
       "      <td>93359.0</td>\n",
       "      <td>57393.0</td>\n",
       "      <td>67330.0</td>\n",
       "      <td>35363.0</td>\n",
       "      <td>41520.0</td>\n",
       "      <td>17750.0</td>\n",
       "      <td>20500.0</td>\n",
       "      <td>8358.0</td>\n",
       "      <td>9283.0</td>\n",
       "    </tr>\n",
       "    <tr>\n",
       "      <th>1962</th>\n",
       "      <td>9351441.0</td>\n",
       "      <td>4535392.0</td>\n",
       "      <td>4816049.0</td>\n",
       "      <td>1980414.0</td>\n",
       "      <td>2006726.0</td>\n",
       "      <td>2433192.0</td>\n",
       "      <td>2668877.0</td>\n",
       "      <td>121786.0</td>\n",
       "      <td>140446.0</td>\n",
       "      <td>818678.0</td>\n",
       "      <td>...</td>\n",
       "      <td>83487.0</td>\n",
       "      <td>94140.0</td>\n",
       "      <td>58326.0</td>\n",
       "      <td>67197.0</td>\n",
       "      <td>36055.0</td>\n",
       "      <td>42186.0</td>\n",
       "      <td>18364.0</td>\n",
       "      <td>21050.0</td>\n",
       "      <td>9041.0</td>\n",
       "      <td>10013.0</td>\n",
       "    </tr>\n",
       "    <tr>\n",
       "      <th>1963</th>\n",
       "      <td>9543205.0</td>\n",
       "      <td>4636172.0</td>\n",
       "      <td>4907033.0</td>\n",
       "      <td>2019727.0</td>\n",
       "      <td>2059859.0</td>\n",
       "      <td>2492014.0</td>\n",
       "      <td>2705711.0</td>\n",
       "      <td>124431.0</td>\n",
       "      <td>141463.0</td>\n",
       "      <td>834934.0</td>\n",
       "      <td>...</td>\n",
       "      <td>85012.0</td>\n",
       "      <td>95186.0</td>\n",
       "      <td>59399.0</td>\n",
       "      <td>67052.0</td>\n",
       "      <td>36757.0</td>\n",
       "      <td>42704.0</td>\n",
       "      <td>18819.0</td>\n",
       "      <td>21331.0</td>\n",
       "      <td>9456.0</td>\n",
       "      <td>10376.0</td>\n",
       "    </tr>\n",
       "    <tr>\n",
       "      <th>1964</th>\n",
       "      <td>9744781.0</td>\n",
       "      <td>4741531.0</td>\n",
       "      <td>5003250.0</td>\n",
       "      <td>2061674.0</td>\n",
       "      <td>2114431.0</td>\n",
       "      <td>2553216.0</td>\n",
       "      <td>2747068.0</td>\n",
       "      <td>126641.0</td>\n",
       "      <td>141751.0</td>\n",
       "      <td>850992.0</td>\n",
       "      <td>...</td>\n",
       "      <td>86747.0</td>\n",
       "      <td>96187.0</td>\n",
       "      <td>60569.0</td>\n",
       "      <td>67117.0</td>\n",
       "      <td>37461.0</td>\n",
       "      <td>42987.0</td>\n",
       "      <td>19098.0</td>\n",
       "      <td>21378.0</td>\n",
       "      <td>9513.0</td>\n",
       "      <td>10269.0</td>\n",
       "    </tr>\n",
       "  </tbody>\n",
       "</table>\n",
       "<p>5 rows × 43 columns</p>\n",
       "</div>"
      ],
      "text/plain": [
       "                  Total Population  Female Population  Male Population  \\\n",
       "country     date                                                         \n",
       "Afghanistan 1960         8996973.0          4347397.0        4649576.0   \n",
       "            1961         9169410.0          4439158.0        4730252.0   \n",
       "            1962         9351441.0          4535392.0        4816049.0   \n",
       "            1963         9543205.0          4636172.0        4907033.0   \n",
       "            1964         9744781.0          4741531.0        5003250.0   \n",
       "\n",
       "                  Females (0-14)  Males (0-14)  Females (15-64)  \\\n",
       "country     date                                                  \n",
       "Afghanistan 1960       1889085.0     1902314.0        2342557.0   \n",
       "            1961       1938162.0     1954539.0        2382132.0   \n",
       "            1962       1980414.0     2006726.0        2433192.0   \n",
       "            1963       2019727.0     2059859.0        2492014.0   \n",
       "            1964       2061674.0     2114431.0        2553216.0   \n",
       "\n",
       "                  Males (15-64)  Females (65+)  Males (65+)  Females (0-4)  \\\n",
       "country     date                                                             \n",
       "Afghanistan 1960      2611254.0       115755.0     136008.0       760938.0   \n",
       "            1961      2637080.0       118864.0     138633.0       795378.0   \n",
       "            1962      2668877.0       121786.0     140446.0       818678.0   \n",
       "            1963      2705711.0       124431.0     141463.0       834934.0   \n",
       "            1964      2747068.0       126641.0     141751.0       850992.0   \n",
       "\n",
       "                  ...  Females (60-64)  Males (60-64)  Females (65-69)  \\\n",
       "country     date  ...                                                    \n",
       "Afghanistan 1960  ...          81378.0        93053.0          56624.0   \n",
       "            1961  ...          82261.0        93359.0          57393.0   \n",
       "            1962  ...          83487.0        94140.0          58326.0   \n",
       "            1963  ...          85012.0        95186.0          59399.0   \n",
       "            1964  ...          86747.0        96187.0          60569.0   \n",
       "\n",
       "                  Males (65-69)  Females (70-74)  Males (70-74)  \\\n",
       "country     date                                                  \n",
       "Afghanistan 1960        67283.0          34655.0        40748.0   \n",
       "            1961        67330.0          35363.0        41520.0   \n",
       "            1962        67197.0          36055.0        42186.0   \n",
       "            1963        67052.0          36757.0        42704.0   \n",
       "            1964        67117.0          37461.0        42987.0   \n",
       "\n",
       "                  Females (75-79)  Males (75-79)  Females (80+)  Males (80+)  \n",
       "country     date                                                              \n",
       "Afghanistan 1960          16990.0        19683.0         7486.0       8294.0  \n",
       "            1961          17750.0        20500.0         8358.0       9283.0  \n",
       "            1962          18364.0        21050.0         9041.0      10013.0  \n",
       "            1963          18819.0        21331.0         9456.0      10376.0  \n",
       "            1964          19098.0        21378.0         9513.0      10269.0  \n",
       "\n",
       "[5 rows x 43 columns]"
      ]
     },
     "execution_count": 9,
     "metadata": {},
     "output_type": "execute_result"
    }
   ],
   "source": [
    "# Give variable for clarity\n",
    "variable_labels = {\"SP.POP.TOTL\":\"Total Population\",\n",
    "                   \"SP.POP.TOTL.FE.IN\":\"Female Population\",\n",
    "                   \"SP.POP.TOTL.MA.IN\":\"Male Population\",\n",
    "                   \n",
    "                   \"SP.POP.0014.FE.IN\":\"Females (0-14)\",\n",
    "                   \"SP.POP.0014.MA.IN\":\"Males (0-14)\",\n",
    "                   \n",
    "                   \"SP.POP.1564.FE.IN\":\"Females (15-64)\",\n",
    "                   \"SP.POP.1564.MA.IN\":\"Males (15-64)\",\n",
    "\n",
    "                   \"SP.POP.65UP.FE.IN\":\"Females (65+)\", \n",
    "                   \"SP.POP.65UP.MA.IN\":\"Males (65+)\", \n",
    "                   \n",
    "                   \"SP.POP.0004.FE\":\"Females (0-4)\",\n",
    "                   \"SP.POP.0004.MA\":\"Males (0-4)\",\n",
    "                   \n",
    "                   \"SP.POP.0509.FE\":\"Females (5-9)\",\n",
    "                   \"SP.POP.0509.MA\":\"Males (5-9)\",\n",
    "                   \n",
    "                   \"SP.POP.1014.FE\":\"Females (10-14)\",\n",
    "                   \"SP.POP.1014.MA\":\"Males (10-14)\",\n",
    "                   \n",
    "                   \"SP.POP.1519.FE\":\"Females (15-19)\",\n",
    "                   \"SP.POP.1519.MA\":\"Males (15-19)\",\n",
    "                   \n",
    "                   \"SP.POP.2024.FE\":\"Females (20-24)\",\n",
    "                   \"SP.POP.2024.MA\":\"Males (20-24)\",\n",
    "                   \n",
    "                   \"SP.POP.2529.FE\":\"Females (25-29)\",\n",
    "                   \"SP.POP.2529.MA\":\"Males (25-29)\",\n",
    "                   \n",
    "                   \"SP.POP.3034.FE\":\"Females (30-34)\",\n",
    "                   \"SP.POP.3034.MA\":\"Males (30-34)\",\n",
    "                   \n",
    "                   \"SP.POP.3539.FE\":\"Females (35-39)\",\n",
    "                   \"SP.POP.3539.MA\":\"Males (35-39)\",\n",
    "                   \n",
    "                   \"SP.POP.4044.FE\":\"Females (40-44)\",\n",
    "                   \"SP.POP.4044.MA\":\"Males (40-44)\",\n",
    "                   \n",
    "                   \"SP.POP.4549.FE\":\"Females (45-49)\",\n",
    "                   \"SP.POP.4549.MA\":\"Males (45-49)\",\n",
    "                   \n",
    "                   \"SP.POP.5054.FE\":\"Females (50-54)\",\n",
    "                   \"SP.POP.5054.MA\":\"Males (50-54)\",\n",
    "                   \n",
    "                   \"SP.POP.5559.FE\":\"Females (55-59)\",\n",
    "                   \"SP.POP.5559.MA\":\"Males (55-59)\",\n",
    "                   \n",
    "                   \"SP.POP.6064.FE\":\"Females (60-64)\",\n",
    "                   \"SP.POP.6064.MA\":\"Males (60-64)\",\n",
    "                   \n",
    "                   \"SP.POP.6569.FE\":\"Females (65-69)\",\n",
    "                   \"SP.POP.6569.MA\":\"Males (65-69)\",\n",
    "                   \n",
    "                   \"SP.POP.7074.FE\":\"Females (70-74)\",\n",
    "                   \"SP.POP.7074.MA\":\"Males (70-74)\",\n",
    "                \n",
    "                   \"SP.POP.7579.FE\":\"Females (75-79)\",\n",
    "                   \"SP.POP.7579.MA\":\"Males (75-79)\",\n",
    "                   \n",
    "                   \"SP.POP.80UP.FE\":\"Females (80+)\",\n",
    "                   \"SP.POP.80UP.MA\":\"Males (80+)\" \n",
    "                   \n",
    "                  }\n",
    "\n",
    "world = wbdata.get_dataframe(variable_labels, country=\"\")\n",
    "\n",
    "# Print a few years' data\n",
    "world.head()"
   ]
  },
  {
   "cell_type": "code",
   "execution_count": 28,
   "metadata": {},
   "outputs": [
    {
     "data": {
      "text/plain": [
       "26693750.0"
      ]
     },
     "execution_count": 28,
     "metadata": {},
     "output_type": "execute_result"
    }
   ],
   "source": [
    "world.loc[\"Arab World\", \"1970\"][\"Females (0-14)\"]"
   ]
  },
  {
   "cell_type": "code",
   "execution_count": 30,
   "metadata": {},
   "outputs": [
    {
     "data": {
      "text/plain": [
       "Total Population     9351441.0\n",
       "Female Population    4535392.0\n",
       "Male Population      4816049.0\n",
       "Females (0-14)       1980414.0\n",
       "Males (0-14)         2006726.0\n",
       "Females (15-64)      2433192.0\n",
       "Males (15-64)        2668877.0\n",
       "Females (65+)         121786.0\n",
       "Males (65+)           140446.0\n",
       "Females (0-4)         818678.0\n",
       "Males (0-4)           831163.0\n",
       "Females (5-9)         611717.0\n",
       "Males (5-9)           637537.0\n",
       "Females (10-14)       550019.0\n",
       "Males (10-14)         538026.0\n",
       "Females (15-19)       477029.0\n",
       "Males (15-19)         485476.0\n",
       "Females (20-24)       394896.0\n",
       "Males (20-24)         429297.0\n",
       "Females (25-29)       337367.0\n",
       "Males (25-29)         369574.0\n",
       "Females (30-34)       285151.0\n",
       "Males (30-34)         324628.0\n",
       "Females (35-39)       239468.0\n",
       "Males (35-39)         277057.0\n",
       "Females (40-44)       200415.0\n",
       "Males (40-44)         228662.0\n",
       "Females (45-49)       167294.0\n",
       "Males (45-49)         187610.0\n",
       "Females (50-54)       137894.0\n",
       "Males (50-54)         150506.0\n",
       "Females (55-59)       110191.0\n",
       "Males (55-59)         121928.0\n",
       "Females (60-64)        83487.0\n",
       "Males (60-64)          94140.0\n",
       "Females (65-69)        58326.0\n",
       "Males (65-69)          67197.0\n",
       "Females (70-74)        36055.0\n",
       "Males (70-74)          42186.0\n",
       "Females (75-79)        18364.0\n",
       "Males (75-79)          21050.0\n",
       "Females (80+)           9041.0\n",
       "Males (80+)            10013.0\n",
       "Name: (Afghanistan, 1962), dtype: float64"
      ]
     },
     "execution_count": 30,
     "metadata": {},
     "output_type": "execute_result"
    }
   ],
   "source": [
    "world.iloc[2]"
   ]
  },
  {
   "cell_type": "code",
   "execution_count": null,
   "metadata": {},
   "outputs": [],
   "source": []
  },
  {
   "cell_type": "code",
   "execution_count": null,
   "metadata": {},
   "outputs": [],
   "source": []
  },
  {
   "cell_type": "code",
   "execution_count": null,
   "metadata": {},
   "outputs": [],
   "source": []
  },
  {
   "cell_type": "code",
   "execution_count": null,
   "metadata": {},
   "outputs": [],
   "source": []
  },
  {
   "cell_type": "code",
   "execution_count": null,
   "metadata": {},
   "outputs": [],
   "source": []
  },
  {
   "cell_type": "code",
   "execution_count": null,
   "metadata": {},
   "outputs": [],
   "source": [
    "countries = {name_dict.get(location)}\n",
    "df = wbdata.get_dataframe(variables, country=countries)\n",
    "df.loc[year][0]"
   ]
  },
  {
   "cell_type": "code",
   "execution_count": null,
   "metadata": {},
   "outputs": [],
   "source": []
  },
  {
   "cell_type": "code",
   "execution_count": null,
   "metadata": {},
   "outputs": [],
   "source": []
  },
  {
   "cell_type": "code",
   "execution_count": null,
   "metadata": {},
   "outputs": [],
   "source": []
  },
  {
   "cell_type": "code",
   "execution_count": null,
   "metadata": {},
   "outputs": [],
   "source": []
  },
  {
   "cell_type": "code",
   "execution_count": null,
   "metadata": {},
   "outputs": [],
   "source": []
  },
  {
   "cell_type": "code",
   "execution_count": null,
   "metadata": {},
   "outputs": [],
   "source": []
  },
  {
   "cell_type": "code",
   "execution_count": null,
   "metadata": {},
   "outputs": [],
   "source": []
  },
  {
   "cell_type": "code",
   "execution_count": null,
   "metadata": {},
   "outputs": [],
   "source": [
    "name_dict = dict()\n",
    "for i in range(len(wbdata.search_countries(\"\"))):\n",
    "    id = wbdata.search_countries(\"\")[i][\"id\"]\n",
    "    country = wbdata.search_countries(\"\")[i][\"name\"]\n",
    "    name_dict[country] = id"
   ]
  },
  {
   "cell_type": "code",
   "execution_count": null,
   "metadata": {},
   "outputs": [],
   "source": [
    "name_dict"
   ]
  },
  {
   "cell_type": "code",
   "execution_count": null,
   "metadata": {},
   "outputs": [],
   "source": []
  }
 ],
 "metadata": {
  "history": [
   {
    "code": "import wbdata\nimport pandas as pd\nimport numpy as np",
    "id": "4a7160a4bfaa44b482543ae63329f98c",
    "idx": 3,
    "time": "2021-01-25T23:42:23.394Z",
    "type": "execution"
   },
   {
    "id": "4a7160a4bfaa44b482543ae63329f98c",
    "time": "2021-01-25T23:42:23.932Z",
    "type": "completion"
   },
   {
    "code": "\n# Return list of all country/region codes:\nwbdata.get_country()\n\n# Return list matching a query term:\n#wbdata.search_countries(\"World\")\n\n## Try your own search!\n#wbdata.search_countries(\"AFGh\")",
    "id": "1eae70fe586f4b1d81fe0c38efb963fe",
    "idx": 4,
    "time": "2021-01-25T23:43:13.278Z",
    "type": "execution"
   },
   {
    "id": "1eae70fe586f4b1d81fe0c38efb963fe",
    "time": "2021-01-25T23:43:13.379Z",
    "type": "completion"
   },
   {
    "code": "\n# Return list of all country/region codes:\n#wbdata.get_country()\n\n# Return list matching a query term:\nwbdata.search_countries(\"World\")\n\n## Try your own search!\n#wbdata.search_countries(\"AFGh\")",
    "id": "1eae70fe586f4b1d81fe0c38efb963fe",
    "idx": 4,
    "time": "2021-01-25T23:43:23.367Z",
    "type": "execution"
   },
   {
    "id": "1eae70fe586f4b1d81fe0c38efb963fe",
    "time": "2021-01-25T23:43:23.428Z",
    "type": "completion"
   },
   {
    "code": "\n# Return list of all country/region codes:\n#wbdata.get_country()\n\n# Return list matching a query term:\n#wbdata.search_countries(\"World\")\n\n## Try your own search!\nwbdata.search_countries(\"A\")",
    "id": "1eae70fe586f4b1d81fe0c38efb963fe",
    "idx": 4,
    "time": "2021-01-25T23:43:37.304Z",
    "type": "execution"
   },
   {
    "id": "1eae70fe586f4b1d81fe0c38efb963fe",
    "time": "2021-01-25T23:43:37.375Z",
    "type": "completion"
   },
   {
    "code": "\n# Return list of all country/region codes:\n#wbdata.get_country()\n\n# Return list matching a query term:\n#wbdata.search_countries(\"World\")\n\n## Try your own search!\nwbdata.search_countries(\"Af\")",
    "id": "1eae70fe586f4b1d81fe0c38efb963fe",
    "idx": 4,
    "time": "2021-01-25T23:43:40.087Z",
    "type": "execution"
   },
   {
    "id": "1eae70fe586f4b1d81fe0c38efb963fe",
    "time": "2021-01-25T23:43:40.199Z",
    "type": "completion"
   },
   {
    "code": "\n# Return list of all country/region codes:\n#wbdata.get_country()\n\n# Return list matching a query term:\n#wbdata.search_countries(\"World\")\n\n## Try your own search!\nwbdata.search_countries(\"Income\")",
    "id": "1eae70fe586f4b1d81fe0c38efb963fe",
    "idx": 4,
    "time": "2021-01-25T23:43:52.466Z",
    "type": "execution"
   },
   {
    "id": "1eae70fe586f4b1d81fe0c38efb963fe",
    "time": "2021-01-25T23:43:52.528Z",
    "type": "completion"
   },
   {
    "code": "\n# Return list of all country/region codes:\n#wbdata.get_country()\n\n# Return list matching a query term:\n#wbdata.search_countries(\"World\")\n\n## Try your own search!\n#wbdata.search_countries(\"Income\")",
    "id": "1eae70fe586f4b1d81fe0c38efb963fe",
    "idx": 4,
    "time": "2021-01-25T23:45:01.801Z",
    "type": "execution"
   },
   {
    "id": "1eae70fe586f4b1d81fe0c38efb963fe",
    "time": "2021-01-25T23:45:01.857Z",
    "type": "completion"
   },
   {
    "code": "SOURCE = 40 # \"Population estimates and projections\n\nindicators = wbdata.get_indicator(source=SOURCE)\nindicators",
    "id": "ae2b83e99ad74eac8362807604cf1267",
    "idx": 6,
    "time": "2021-01-25T23:45:51.590Z",
    "type": "execution"
   },
   {
    "id": "ae2b83e99ad74eac8362807604cf1267",
    "time": "2021-01-25T23:45:51.708Z",
    "type": "completion"
   },
   {
    "code": "wbdata.get_source()",
    "id": "ae4a3eaf558f4045906f5c1826505d86",
    "idx": 5,
    "time": "2021-01-25T23:46:29.325Z",
    "type": "execution"
   },
   {
    "id": "ae4a3eaf558f4045906f5c1826505d86",
    "time": "2021-01-25T23:46:29.387Z",
    "type": "completion"
   },
   {
    "code": "wbdata",
    "id": "4c89c06c2aab432b81964f123a60c65e",
    "idx": 7,
    "time": "2021-01-25T23:47:11.174Z",
    "type": "execution"
   },
   {
    "id": "4c89c06c2aab432b81964f123a60c65e",
    "time": "2021-01-25T23:47:11.231Z",
    "type": "completion"
   },
   {
    "code": "wbdata.get_source(40)",
    "id": "4c89c06c2aab432b81964f123a60c65e",
    "idx": 7,
    "time": "2021-01-25T23:47:27.271Z",
    "type": "execution"
   },
   {
    "id": "4c89c06c2aab432b81964f123a60c65e",
    "time": "2021-01-25T23:47:27.682Z",
    "type": "completion"
   },
   {
    "code": "# Give variable for clarity\nvariable_labels = {\"SP.POP.TOTL\":\"World Population\"}\n\nworld = wbdata.get_dataframe(variable_labels, country=\"WLD\")\n\n# Date index is of type string; change to integers\nworld.index = world.index.astype(int)\n\n# Print a few years' data\nworld.head()",
    "id": "b67bb48f70834fc1ab158103291c5522",
    "idx": 8,
    "time": "2021-01-25T23:56:21.871Z",
    "type": "execution"
   },
   {
    "id": "b67bb48f70834fc1ab158103291c5522",
    "time": "2021-01-25T23:56:21.947Z",
    "type": "completion"
   },
   {
    "code": "# Give variable for clarity\nvariable_labels = {\"SP.POP.TOTL\":\"World Population\"}\n\nworld = wbdata.get_dataframe(variable_labels)\n\n# Date index is of type string; change to integers\nworld.index = world.index.astype(int)\n\n# Print a few years' data\nworld.head()",
    "id": "b67bb48f70834fc1ab158103291c5522",
    "idx": 8,
    "time": "2021-01-25T23:56:35.548Z",
    "type": "execution"
   },
   {
    "id": "b67bb48f70834fc1ab158103291c5522",
    "time": "2021-01-25T23:56:42.609Z",
    "type": "completion"
   },
   {
    "code": "# Give variable for clarity\nvariable_labels = {\"SP.POP.TOTL\":\"World Population\"}\n\nworld = wbdata.get_dataframe(variable_labels, country=\"\")\n\n# Date index is of type string; change to integers\nworld.index = world.index.astype(int)\n\n# Print a few years' data\nworld.head()",
    "id": "b67bb48f70834fc1ab158103291c5522",
    "idx": 8,
    "time": "2021-01-25T23:57:16.113Z",
    "type": "execution"
   },
   {
    "id": "b67bb48f70834fc1ab158103291c5522",
    "time": "2021-01-25T23:57:33.865Z",
    "type": "completion"
   },
   {
    "code": "# Give variable for clarity\nvariable_labels = {\"SP.POP.TOTL\":\"World Population\"}\n\nworld = wbdata.get_dataframe(variable_labels, country=\"\")\n\n# Date index is of type string; change to integers\n#world.index = world.index.astype(int)\n\n# Print a few years' data\n#world.head()\n\nworld.index",
    "id": "b67bb48f70834fc1ab158103291c5522",
    "idx": 8,
    "time": "2021-01-25T23:57:53.228Z",
    "type": "execution"
   },
   {
    "id": "b67bb48f70834fc1ab158103291c5522",
    "time": "2021-01-25T23:57:53.449Z",
    "type": "completion"
   },
   {
    "code": "# Give variable for clarity\nvariable_labels = {\"SP.POP.TOTL\":\"World Population\"}\n\nworld = wbdata.get_dataframe(variable_labels, country=\"\")\n\n# Date index is of type string; change to integers\n#world.index = world.index.astype(int)\n\n# Print a few years' data\n#world.head()\n\nworld.index[1]",
    "id": "b67bb48f70834fc1ab158103291c5522",
    "idx": 8,
    "time": "2021-01-25T23:58:29.197Z",
    "type": "execution"
   },
   {
    "id": "b67bb48f70834fc1ab158103291c5522",
    "time": "2021-01-25T23:58:29.363Z",
    "type": "completion"
   },
   {
    "code": "# Give variable for clarity\nvariable_labels = {\"SP.POP.TOTL\":\"World Population\"}\n\nworld = wbdata.get_dataframe(variable_labels, country=\"\")\n\n# Date index is of type string; change to integers\n#world.index = world.index.astype(int)\n\n# Print a few years' data\n#world.head()\n\nworld.index[0]",
    "id": "b67bb48f70834fc1ab158103291c5522",
    "idx": 8,
    "time": "2021-01-25T23:58:32.863Z",
    "type": "execution"
   },
   {
    "id": "b67bb48f70834fc1ab158103291c5522",
    "time": "2021-01-25T23:58:33.099Z",
    "type": "completion"
   },
   {
    "code": "\n# Return list of all country/region codes:\nwbdata.get_country()\n\n# Return list matching a query term:\n#wbdata.search_countries(\"World\")\n\n## Try your own search!\n#wbdata.search_countries(\"Income\")",
    "id": "1eae70fe586f4b1d81fe0c38efb963fe",
    "idx": 4,
    "time": "2021-01-26T00:02:57.818Z",
    "type": "execution"
   },
   {
    "id": "1eae70fe586f4b1d81fe0c38efb963fe",
    "time": "2021-01-26T00:02:57.892Z",
    "type": "completion"
   },
   {
    "code": "\n# Return list of all country/region codes:\n#wbdata.get_country()\n\n# Return list matching a query term:\nwbdata.search_countries(\"World\")\n\n## Try your own search!\n#wbdata.search_countries(\"Income\")",
    "id": "1eae70fe586f4b1d81fe0c38efb963fe",
    "idx": 4,
    "time": "2021-01-26T00:03:28.043Z",
    "type": "execution"
   },
   {
    "id": "1eae70fe586f4b1d81fe0c38efb963fe",
    "time": "2021-01-26T00:03:28.104Z",
    "type": "completion"
   },
   {
    "code": "\n# Return list of all country/region codes:\n#wbdata.get_country()\n\n# Return list matching a query term:\nwbdata.search_countries(\"\")\n\n## Try your own search!\n#wbdata.search_countries(\"Income\")",
    "id": "1eae70fe586f4b1d81fe0c38efb963fe",
    "idx": 4,
    "time": "2021-01-26T00:03:32.197Z",
    "type": "execution"
   },
   {
    "id": "1eae70fe586f4b1d81fe0c38efb963fe",
    "time": "2021-01-26T00:03:32.268Z",
    "type": "completion"
   },
   {
    "code": "wbdata.search_countries(\"\")",
    "id": "196175c33d0a4991b5d59a8331e79aa8",
    "idx": 9,
    "time": "2021-01-26T00:03:57.049Z",
    "type": "execution"
   },
   {
    "id": "196175c33d0a4991b5d59a8331e79aa8",
    "time": "2021-01-26T00:03:57.120Z",
    "type": "completion"
   },
   {
    "code": "wbdata.search_countries(\"\")[\"id\"]",
    "id": "196175c33d0a4991b5d59a8331e79aa8",
    "idx": 9,
    "time": "2021-01-26T00:04:04.882Z",
    "type": "execution"
   },
   {
    "id": "196175c33d0a4991b5d59a8331e79aa8",
    "time": "2021-01-26T00:04:04.948Z",
    "type": "completion"
   },
   {
    "code": "wbdata.search_countries(\"\")[id]",
    "id": "196175c33d0a4991b5d59a8331e79aa8",
    "idx": 9,
    "time": "2021-01-26T00:04:09.007Z",
    "type": "execution"
   },
   {
    "id": "196175c33d0a4991b5d59a8331e79aa8",
    "time": "2021-01-26T00:04:09.073Z",
    "type": "completion"
   },
   {
    "code": "wbdata.search_countries(\"\")",
    "id": "196175c33d0a4991b5d59a8331e79aa8",
    "idx": 9,
    "time": "2021-01-26T00:04:11.156Z",
    "type": "execution"
   },
   {
    "id": "196175c33d0a4991b5d59a8331e79aa8",
    "time": "2021-01-26T00:04:11.229Z",
    "type": "completion"
   },
   {
    "code": "wbdata.search_countries(\"\")[0]",
    "id": "196175c33d0a4991b5d59a8331e79aa8",
    "idx": 9,
    "time": "2021-01-26T00:04:16.300Z",
    "type": "execution"
   },
   {
    "id": "196175c33d0a4991b5d59a8331e79aa8",
    "time": "2021-01-26T00:04:16.359Z",
    "type": "completion"
   },
   {
    "code": "wbdata.search_countries(\"\")['id']",
    "id": "196175c33d0a4991b5d59a8331e79aa8",
    "idx": 9,
    "time": "2021-01-26T00:04:26.539Z",
    "type": "execution"
   },
   {
    "id": "196175c33d0a4991b5d59a8331e79aa8",
    "time": "2021-01-26T00:04:26.608Z",
    "type": "completion"
   },
   {
    "code": "wbdata.search_countries(\"\")",
    "id": "196175c33d0a4991b5d59a8331e79aa8",
    "idx": 9,
    "time": "2021-01-26T00:04:33.855Z",
    "type": "execution"
   },
   {
    "id": "196175c33d0a4991b5d59a8331e79aa8",
    "time": "2021-01-26T00:04:33.925Z",
    "type": "completion"
   },
   {
    "code": "type(wbdata.search_countries(\"\"))",
    "id": "196175c33d0a4991b5d59a8331e79aa8",
    "idx": 9,
    "time": "2021-01-26T00:04:43.215Z",
    "type": "execution"
   },
   {
    "id": "196175c33d0a4991b5d59a8331e79aa8",
    "time": "2021-01-26T00:04:43.274Z",
    "type": "completion"
   },
   {
    "code": "as_dict(wbdata.search_countries(\"\"))",
    "id": "196175c33d0a4991b5d59a8331e79aa8",
    "idx": 9,
    "time": "2021-01-26T00:04:54.582Z",
    "type": "execution"
   },
   {
    "id": "196175c33d0a4991b5d59a8331e79aa8",
    "time": "2021-01-26T00:04:54.643Z",
    "type": "completion"
   },
   {
    "code": "wbdata.search_countries(\"\").astype(dict)",
    "id": "196175c33d0a4991b5d59a8331e79aa8",
    "idx": 9,
    "time": "2021-01-26T00:05:07.642Z",
    "type": "execution"
   },
   {
    "id": "196175c33d0a4991b5d59a8331e79aa8",
    "time": "2021-01-26T00:05:07.711Z",
    "type": "completion"
   },
   {
    "code": "wbdata.search_countries(\"\")",
    "id": "196175c33d0a4991b5d59a8331e79aa8",
    "idx": 9,
    "time": "2021-01-26T00:05:17.604Z",
    "type": "execution"
   },
   {
    "id": "196175c33d0a4991b5d59a8331e79aa8",
    "time": "2021-01-26T00:05:17.678Z",
    "type": "completion"
   },
   {
    "code": "wbdata.search_countries(\"\")",
    "id": "196175c33d0a4991b5d59a8331e79aa8",
    "idx": 9,
    "time": "2021-01-26T00:05:36.615Z",
    "type": "execution"
   },
   {
    "id": "196175c33d0a4991b5d59a8331e79aa8",
    "time": "2021-01-26T00:05:36.687Z",
    "type": "completion"
   },
   {
    "code": "wbdata.search_countries(\"\").astype(dict)",
    "id": "196175c33d0a4991b5d59a8331e79aa8",
    "idx": 9,
    "time": "2021-01-26T00:06:03.087Z",
    "type": "execution"
   },
   {
    "id": "196175c33d0a4991b5d59a8331e79aa8",
    "time": "2021-01-26T00:06:03.153Z",
    "type": "completion"
   },
   {
    "code": "wbdata.search_countries(\"\")[0]",
    "id": "196175c33d0a4991b5d59a8331e79aa8",
    "idx": 9,
    "time": "2021-01-26T00:07:26.115Z",
    "type": "execution"
   },
   {
    "id": "196175c33d0a4991b5d59a8331e79aa8",
    "time": "2021-01-26T00:07:26.180Z",
    "type": "completion"
   },
   {
    "code": "wbdata.search_countries(\"\")[0][\"id\"]",
    "id": "196175c33d0a4991b5d59a8331e79aa8",
    "idx": 9,
    "time": "2021-01-26T00:09:47.008Z",
    "type": "execution"
   },
   {
    "id": "196175c33d0a4991b5d59a8331e79aa8",
    "time": "2021-01-26T00:09:47.078Z",
    "type": "completion"
   },
   {
    "code": "wbdata.search_countries(\"\")[0]#[\"id\", ]",
    "id": "196175c33d0a4991b5d59a8331e79aa8",
    "idx": 9,
    "time": "2021-01-26T00:10:02.166Z",
    "type": "execution"
   },
   {
    "id": "196175c33d0a4991b5d59a8331e79aa8",
    "time": "2021-01-26T00:10:02.235Z",
    "type": "completion"
   },
   {
    "code": "wbdata.search_countries(\"\")[0]#[\"id\", \"name\" ]",
    "id": "196175c33d0a4991b5d59a8331e79aa8",
    "idx": 9,
    "time": "2021-01-26T00:10:15.147Z",
    "type": "execution"
   },
   {
    "id": "196175c33d0a4991b5d59a8331e79aa8",
    "time": "2021-01-26T00:10:15.215Z",
    "type": "completion"
   },
   {
    "code": "wbdata.search_countries(\"\")[0][\"id\", \"name\" ]",
    "id": "196175c33d0a4991b5d59a8331e79aa8",
    "idx": 9,
    "time": "2021-01-26T00:10:18.967Z",
    "type": "execution"
   },
   {
    "id": "196175c33d0a4991b5d59a8331e79aa8",
    "time": "2021-01-26T00:10:19.045Z",
    "type": "completion"
   },
   {
    "code": "wbdata.search_countries(\"\")[0][\"id\"]",
    "id": "196175c33d0a4991b5d59a8331e79aa8",
    "idx": 9,
    "time": "2021-01-26T00:10:28.928Z",
    "type": "execution"
   },
   {
    "id": "196175c33d0a4991b5d59a8331e79aa8",
    "time": "2021-01-26T00:10:28.991Z",
    "type": "completion"
   },
   {
    "code": "wbdata.search_countries(\"\")[0][\"id\"], wbdata.search_countries(\"\")[0][\"name\"]",
    "id": "196175c33d0a4991b5d59a8331e79aa8",
    "idx": 9,
    "time": "2021-01-26T00:10:36.979Z",
    "type": "execution"
   },
   {
    "id": "196175c33d0a4991b5d59a8331e79aa8",
    "time": "2021-01-26T00:10:37.039Z",
    "type": "completion"
   },
   {
    "code": "for i in range(len(wbdata.search_countries(\"\")))",
    "id": "2d03f03333bc421d8f1790943e4c58fa",
    "idx": 10,
    "time": "2021-01-26T00:11:45.682Z",
    "type": "execution"
   },
   {
    "id": "2d03f03333bc421d8f1790943e4c58fa",
    "time": "2021-01-26T00:11:45.747Z",
    "type": "completion"
   },
   {
    "code": "range(len(wbdata.search_countries(\"\"))",
    "id": "2d03f03333bc421d8f1790943e4c58fa",
    "idx": 10,
    "time": "2021-01-26T00:11:51.483Z",
    "type": "execution"
   },
   {
    "id": "2d03f03333bc421d8f1790943e4c58fa",
    "time": "2021-01-26T00:11:51.539Z",
    "type": "completion"
   },
   {
    "code": "range(len(wbdata.search_countries(\"\")))",
    "id": "2d03f03333bc421d8f1790943e4c58fa",
    "idx": 10,
    "time": "2021-01-26T00:11:55.034Z",
    "type": "execution"
   },
   {
    "id": "2d03f03333bc421d8f1790943e4c58fa",
    "time": "2021-01-26T00:11:55.106Z",
    "type": "completion"
   },
   {
    "code": "name_dict = dict()\nfor i in range(len(wbdata.search_countries(\"\"))):\n    id = wbdata.search_countries(\"\")[0][\"id\"]\n    country = wbdata.search_countries(\"\")[0][\"name\"]\n    name_dict[country] = id",
    "id": "2d03f03333bc421d8f1790943e4c58fa",
    "idx": 10,
    "time": "2021-01-26T00:13:12.385Z",
    "type": "execution"
   },
   {
    "id": "2d03f03333bc421d8f1790943e4c58fa",
    "time": "2021-01-26T00:13:13.647Z",
    "type": "completion"
   },
   {
    "code": "name_dict",
    "id": "5e160484124c44ec8047223b22a80e58",
    "idx": 11,
    "time": "2021-01-26T00:13:20.270Z",
    "type": "execution"
   },
   {
    "id": "5e160484124c44ec8047223b22a80e58",
    "time": "2021-01-26T00:13:20.334Z",
    "type": "completion"
   },
   {
    "code": "name_dict = dict()\nfor i in range(len(wbdata.search_countries(\"\"))):\n    id = wbdata.search_countries(\"\")[i][\"id\"]\n    country = wbdata.search_countries(\"\")[i][\"name\"]\n    name_dict[country] = id",
    "id": "2d03f03333bc421d8f1790943e4c58fa",
    "idx": 10,
    "time": "2021-01-26T00:13:36.307Z",
    "type": "execution"
   },
   {
    "id": "2d03f03333bc421d8f1790943e4c58fa",
    "time": "2021-01-26T00:13:37.860Z",
    "type": "completion"
   },
   {
    "code": "name_dict",
    "id": "5e160484124c44ec8047223b22a80e58",
    "idx": 11,
    "time": "2021-01-26T00:13:38.688Z",
    "type": "execution"
   },
   {
    "id": "5e160484124c44ec8047223b22a80e58",
    "time": "2021-01-26T00:13:38.759Z",
    "type": "completion"
   },
   {
    "code": "# Give variable for clarity\nvariable_labels = {\"SP.POP.TOTL\":\"World Population\"}\n\nworld = wbdata.get_dataframe(variable_labels, country=\"\")\n\n# Date index is of type string; change to integers\n#world.index = world.index.astype(int)\n\n# Print a few years' data\n#world.head()\n\nworld.index",
    "id": "b67bb48f70834fc1ab158103291c5522",
    "idx": 8,
    "time": "2021-01-26T00:46:05.811Z",
    "type": "execution"
   },
   {
    "id": "b67bb48f70834fc1ab158103291c5522",
    "time": "2021-01-26T00:46:06.062Z",
    "type": "completion"
   },
   {
    "code": "# Give variable for clarity\nvariable_labels = {\"SP.POP.TOTL\":\"World Population\"}\n\nworld = wbdata.get_dataframe(variable_labels, country=\"World\")\n\n# Date index is of type string; change to integers\n#world.index = world.index.astype(int)\n\n# Print a few years' data\n#world.head()\n\nworld.index",
    "id": "b67bb48f70834fc1ab158103291c5522",
    "idx": 8,
    "time": "2021-01-26T00:46:26.612Z",
    "type": "execution"
   },
   {
    "id": "b67bb48f70834fc1ab158103291c5522",
    "time": "2021-01-26T00:46:27.127Z",
    "type": "completion"
   },
   {
    "code": "# Give variable for clarity\nvariable_labels = {\"SP.POP.TOTL\":\"World Population\"}\n\nworld = wbdata.get_dataframe(variable_labels, country=\"\")\n\n# Date index is of type string; change to integers\n#world.index = world.index.astype(int)\n\n# Print a few years' data\n#world.head()\n\nworld.index",
    "id": "b67bb48f70834fc1ab158103291c5522",
    "idx": 8,
    "time": "2021-01-26T00:46:32.045Z",
    "type": "execution"
   },
   {
    "id": "b67bb48f70834fc1ab158103291c5522",
    "time": "2021-01-26T00:46:32.272Z",
    "type": "completion"
   },
   {
    "code": "# Give variable for clarity\nvariable_labels = {\"SP.POP.TOTL\":\"World Population\"}\n\nworld = wbdata.get_dataframe(variable_labels, country=\"Arab World\")\n\n# Date index is of type string; change to integers\n#world.index = world.index.astype(int)\n\n# Print a few years' data\n#world.head()\n\nworld.index",
    "id": "b67bb48f70834fc1ab158103291c5522",
    "idx": 8,
    "time": "2021-01-26T00:46:41.754Z",
    "type": "execution"
   },
   {
    "id": "b67bb48f70834fc1ab158103291c5522",
    "time": "2021-01-26T00:46:43.555Z",
    "type": "completion"
   },
   {
    "code": "# Give variable for clarity\nvariable_labels = {\"SP.POP.TOTL\":\"World Population\"}\n\nworld = wbdata.get_dataframe(variable_labels, country=\"Arab World\")\n\n# Date index is of type string; change to integers\nworld.index = world.index.astype(int)\n\n# Print a few years' data\n#world.head()\n\nworld.index",
    "id": "b67bb48f70834fc1ab158103291c5522",
    "idx": 8,
    "time": "2021-01-26T00:46:51.830Z",
    "type": "execution"
   },
   {
    "id": "b67bb48f70834fc1ab158103291c5522",
    "time": "2021-01-26T00:46:51.949Z",
    "type": "completion"
   },
   {
    "code": "# Give variable for clarity\nvariable_labels = {\"SP.POP.TOTL\":\"World Population\"}\n\nworld = wbdata.get_dataframe(variable_labels, country=\"\")\n\n# Date index is of type string; change to integers\n#world.index = world.index.astype(int)\n\n# Print a few years' data\n#world.head()\n\nworld.index",
    "id": "b67bb48f70834fc1ab158103291c5522",
    "idx": 8,
    "time": "2021-01-26T00:47:00.261Z",
    "type": "execution"
   },
   {
    "id": "b67bb48f70834fc1ab158103291c5522",
    "time": "2021-01-26T00:47:00.503Z",
    "type": "completion"
   },
   {
    "code": "# Give variable for clarity\nvariable_labels = {\"SP.POP.TOTL\":\"Population, total\"\n                   \"SP.POP.TOTL.FE.IN\":\"Population, female\"\n                   \"SP.POP.TOTL.FE.ZS\":\"Population, female (% of total population)\"\n                   \"SP.POP.TOTL.MA.IN\":\"Population, male\"\n                   \"SP.POP.TOTL.MA.ZS\":\"Population, male\"}\n\nworld = wbdata.get_dataframe(variable_labels, country=\"\")\n\n# Date index is of type string; change to integers\n#world.index = world.index.astype(int)\n\n# Print a few years' data\nworld.head()",
    "id": "b67bb48f70834fc1ab158103291c5522",
    "idx": 8,
    "time": "2021-01-26T00:49:25.431Z",
    "type": "execution"
   },
   {
    "id": "b67bb48f70834fc1ab158103291c5522",
    "time": "2021-01-26T00:49:25.564Z",
    "type": "completion"
   },
   {
    "code": "# Give variable for clarity\nvariable_labels = {\"SP.POP.TOTL\":\"Population, total\",\n                   \"SP.POP.TOTL.FE.IN\":\"Population, female\",\n                   \"SP.POP.TOTL.FE.ZS\":\"Population, female (% of total population)\",\n                   \"SP.POP.TOTL.MA.IN\":\"Population, male\",\n                   \"SP.POP.TOTL.MA.ZS\":\"Population, male\"}\n\nworld = wbdata.get_dataframe(variable_labels, country=\"\")\n\n# Date index is of type string; change to integers\n#world.index = world.index.astype(int)\n\n# Print a few years' data\nworld.head()",
    "id": "b67bb48f70834fc1ab158103291c5522",
    "idx": 8,
    "time": "2021-01-26T00:49:38.445Z",
    "type": "execution"
   },
   {
    "id": "b67bb48f70834fc1ab158103291c5522",
    "time": "2021-01-26T00:50:50.249Z",
    "type": "completion"
   },
   {
    "code": "# Give variable for clarity\nvariable_labels = {\"SP.POP.TOTL\":\"Population, total\",\n                   \"SP.POP.TOTL.FE.IN\":\"Population, female\",\n                   \"SP.POP.TOTL.FE.ZS\":\"Population, female (% of total population)\",\n                   \"SP.POP.TOTL.MA.IN\":\"Population, male\",\n                   \"SP.POP.TOTL.MA.ZS\":\"Population, male (% of total population)\"}\n\nworld = wbdata.get_dataframe(variable_labels, country=\"\")\n\n# Date index is of type string; change to integers\n#world.index = world.index.astype(int)\n\n# Print a few years' data\nworld.head()",
    "id": "b67bb48f70834fc1ab158103291c5522",
    "idx": 8,
    "time": "2021-01-26T00:51:07.119Z",
    "type": "execution"
   },
   {
    "id": "b67bb48f70834fc1ab158103291c5522",
    "time": "2021-01-26T00:51:08.150Z",
    "type": "completion"
   },
   {
    "code": "# Give variable for clarity\nvariable_labels = {\"SP.POP.TOTL\":\"Population, total\",\n                   \"SP.POP.TOTL.FE.IN\":\"Population, female\",\n                   \"SP.POP.TOTL.FE.ZS\":\"Population, female (% of total population)\",\n                   \"SP.POP.TOTL.MA.IN\":\"Population, male\",\n                   \"SP.POP.TOTL.MA.ZS\":\"Population, male (% of total population)\"}\n\nworld = wbdata.get_dataframe(variable_labels, country=\"\")\n\n# Date index is of type string; change to integers\n#world.index = world.index.astype(int)\n\n# Print a few years' data\nworld.head(70)",
    "id": "b67bb48f70834fc1ab158103291c5522",
    "idx": 8,
    "time": "2021-01-26T00:51:19.899Z",
    "type": "execution"
   },
   {
    "id": "b67bb48f70834fc1ab158103291c5522",
    "time": "2021-01-26T00:51:20.919Z",
    "type": "completion"
   },
   {
    "code": "# Give variable for clarity\nvariable_labels = {\"SP.POP.TOTL\":\"Population, total\",\n                   \"SP.POP.TOTL.FE.IN\":\"Population, female\",\n                   \"SP.POP.TOTL.FE.ZS\":\"Population, female (% of total population)\",\n                   \"SP.POP.TOTL.MA.IN\":\"Population, male\",\n                   \"SP.POP.TOTL.MA.ZS\":\"Population, male (% of total population)\"}\n\nworld = wbdata.get_dataframe(variable_labels, country=\"\")\n\n# Date index is of type string; change to integers\n#world.index = world.index.astype(int)\n\n# Print a few years' data\nworld.head(30)",
    "id": "b67bb48f70834fc1ab158103291c5522",
    "idx": 8,
    "time": "2021-01-26T00:51:29.367Z",
    "type": "execution"
   },
   {
    "id": "b67bb48f70834fc1ab158103291c5522",
    "time": "2021-01-26T00:51:30.381Z",
    "type": "completion"
   },
   {
    "code": "# Give variable for clarity\nvariable_labels = {\"SP.POP.TOTL\":\"Population, total\",\n                   \"SP.POP.TOTL.FE.IN\":\"Population, female\",\n                   \"SP.POP.TOTL.FE.ZS\":\"Population, female (% of total population)\",\n                   \"SP.POP.TOTL.MA.IN\":\"Population, male\",\n                   \"SP.POP.TOTL.MA.ZS\":\"Population, male (% of total population)\"}\n\nworld = wbdata.get_dataframe(variable_labels, country=\"\")\n\n# Date index is of type string; change to integers\n#world.index = world.index.astype(int)\n\n# Print a few years' data\nworld.head(49)",
    "id": "b67bb48f70834fc1ab158103291c5522",
    "idx": 8,
    "time": "2021-01-26T00:51:36.370Z",
    "type": "execution"
   },
   {
    "id": "b67bb48f70834fc1ab158103291c5522",
    "time": "2021-01-26T00:51:37.474Z",
    "type": "completion"
   },
   {
    "code": "# Give variable for clarity\nvariable_labels = {\"SP.POP.TOTL\":\"Population, total\",\n                   \"SP.POP.TOTL.FE.IN\":\"Population, female\",\n                   \"SP.POP.TOTL.FE.ZS\":\"Population, female (% of total population)\",\n                   \"SP.POP.TOTL.MA.IN\":\"Population, male\",\n                   \"SP.POP.TOTL.MA.ZS\":\"Population, male (% of total population)\"}\n\nworld = wbdata.get_dataframe(variable_labels, country=\"\")\n\n# Date index is of type string; change to integers\n#world.index = world.index.astype(int)\n\n# Print a few years' data\nworld.head(65)",
    "id": "b67bb48f70834fc1ab158103291c5522",
    "idx": 8,
    "time": "2021-01-26T00:51:43.682Z",
    "type": "execution"
   },
   {
    "id": "b67bb48f70834fc1ab158103291c5522",
    "time": "2021-01-26T00:51:44.575Z",
    "type": "completion"
   },
   {
    "code": "# Give variable for clarity\nvariable_labels = {\"SP.POP.TOTL\":\"Total Population\",\n                   \"SP.POP.TOTL.FE.IN\":\"Female Population\",\n                   \"SP.POP.TOTL.MA.IN\":\"Male Population\",\n                   \"SP.POP.0004.FE\":\"Females (0-4)\",\n                   \"SP.POP.0004.MA\":\"Males (0-4)\",\n                   \"SP.POP.0509.FE\":\"Females (5-9)\",\n                   \"SP.POP.0509.MA\":\"Males (5-9)\",\n                   \"SP.POP.1014.FE\":\"Females (10-14)\",\n                   \"SP.POP.1014.MA\":\"Males (10-14)\",\n                   \"SP.POP.1519.FE\":\"Females (15-19)\",\n                   \"SP.POP.1519.MA\":\"Males (15-19)\"\n                   \n                \n                  \n                  }\n\nworld = wbdata.get_dataframe(variable_labels, country=\"\")\n\n# Date index is of type string; change to integers\n#world.index = world.index.astype(int)\n\n# Print a few years' data\nworld.head(65)",
    "id": "b67bb48f70834fc1ab158103291c5522",
    "idx": 8,
    "time": "2021-01-26T01:02:34.898Z",
    "type": "execution"
   },
   {
    "id": "b67bb48f70834fc1ab158103291c5522",
    "time": "2021-01-26T01:05:02.221Z",
    "type": "completion"
   },
   {
    "code": "countries = {name_dict.get(location)}\ndf = wbdata.get_dataframe(variables, country=countries)\ndf.loc[year][0]",
    "id": "014dd87deb6140579bfa9603cadf13af",
    "idx": 10,
    "time": "2021-01-26T01:05:33.328Z",
    "type": "execution"
   },
   {
    "id": "014dd87deb6140579bfa9603cadf13af",
    "time": "2021-01-26T01:05:33.396Z",
    "type": "completion"
   },
   {
    "code": "# Give variable for clarity\nvariable_labels = {\"SP.POP.TOTL\":\"Total Population\",\n                   \"SP.POP.TOTL.FE.IN\":\"Female Population\",\n                   \"SP.POP.TOTL.MA.IN\":\"Male Population\",\n                   \n                   \"SP.POP.0014.FE.IN\":\"Females (0-14)\",\n                   \"SP.POP.0014.MA.IN\":\"Males (0-14)\",\n                   \n                   \"SP.POP.1564.FE.IN\":\"Females (15-64)\",\n                   \"SP.POP.1564.MA.IN\":\"Males (15-64)\",\n\n                   \"SP.POP.65UP.FE.IN\":\"Females (65+)\" \n                   \"SP.POP.65UP.MA.IN\":\"Males (65+)\" \n                   \n                   \"SP.POP.0004.FE\":\"Females (0-4)\",\n                   \"SP.POP.0004.MA\":\"Males (0-4)\",\n                   \n                   \"SP.POP.0509.FE\":\"Females (5-9)\",\n                   \"SP.POP.0509.MA\":\"Males (5-9)\",\n                   \n                   \"SP.POP.1014.FE\":\"Females (10-14)\",\n                   \"SP.POP.1014.MA\":\"Males (10-14)\",\n                   \n                   \"SP.POP.1519.FE\":\"Females (15-19)\",\n                   \"SP.POP.1519.MA\":\"Males (15-19)\",\n                   \n                   \"SP.POP.2024.FE\":\"Females (20-24)\",\n                   \"SP.POP.2024.MA\":\"Males (20-24)\",\n                   \n                   \"SP.POP.2529.FE\":\"Females (25-29)\",\n                   \"SP.POP.2529.MA\":\"Males (25-29)\",\n                   \n                   \"SP.POP.3034.FE\":\"Females (30-34)\",\n                   \"SP.POP.3034.MA\":\"Males (30-34)\",\n                   \n                   \"SP.POP.3539.FE\":\"Females (35-39)\",\n                   \"SP.POP.3539.MA\":\"Males (35-39)\",\n                   \n                   \"SP.POP.4044.FE\":\"Females (40-44)\",\n                   \"SP.POP.4044.MA\":\"Males (40-44)\",\n                   \n                   \"SP.POP.4549.FE\":\"Females (45-49)\",\n                   \"SP.POP.4549.MA\":\"Males (45-49)\",\n                   \n                   \"SP.POP.5054.FE\":\"Females (50-54)\",\n                   \"SP.POP.5054.MA\":\"Males (50-54)\",\n                   \n                   \"SP.POP.5559.FE\":\"Females (55-59)\",\n                   \"SP.POP.5559.MA\":\"Males (55-59)\",\n                   \n                   \"SP.POP.6064.FE\":\"Females (60-64)\",\n                   \"SP.POP.6064.MA\":\"Males (60-64)\",\n                   \n                   \"SP.POP.6569.FE\":\"Females (65-69)\",\n                   \"SP.POP.6569.MA\":\"Males (65-69)\",\n                   \n                   \"SP.POP.7074.FE\":\"Females (70-74)\",\n                   \"SP.POP.7074.MA\":\"Males (70-74)\",\n                \n                    \"SP.POP.6569.FE\":\"Females (65-69)\",\n                   \"SP.POP.6569.MA\":\"Males (65-69)\",\n                  }\n\nworld = wbdata.get_dataframe(variable_labels, country=\"\")\n\n# Date index is of type string; change to integers\n#world.index = world.index.astype(int)\n\n# Print a few years' data\nworld.head(65)",
    "id": "b67bb48f70834fc1ab158103291c5522",
    "idx": 8,
    "time": "2021-01-26T02:41:53.875Z",
    "type": "execution"
   },
   {
    "code": "# Give variable for clarity\nvariable_labels = {\"SP.POP.TOTL\":\"Total Population\",\n                   \"SP.POP.TOTL.FE.IN\":\"Female Population\",\n                   \"SP.POP.TOTL.MA.IN\":\"Male Population\",\n                   \n                   \"SP.POP.0014.FE.IN\":\"Females (0-14)\",\n                   \"SP.POP.0014.MA.IN\":\"Males (0-14)\",\n                   \n                   \"SP.POP.1564.FE.IN\":\"Females (15-64)\",\n                   \"SP.POP.1564.MA.IN\":\"Males (15-64)\",\n\n                   \"SP.POP.65UP.FE.IN\":\"Females (65+)\" \n                   \"SP.POP.65UP.MA.IN\":\"Males (65+)\" \n                   \n                   \"SP.POP.0004.FE\":\"Females (0-4)\",\n                   \"SP.POP.0004.MA\":\"Males (0-4)\",\n                   \n                   \"SP.POP.0509.FE\":\"Females (5-9)\",\n                   \"SP.POP.0509.MA\":\"Males (5-9)\",\n                   \n                   \"SP.POP.1014.FE\":\"Females (10-14)\",\n                   \"SP.POP.1014.MA\":\"Males (10-14)\",\n                   \n                   \"SP.POP.1519.FE\":\"Females (15-19)\",\n                   \"SP.POP.1519.MA\":\"Males (15-19)\",\n                   \n                   \"SP.POP.2024.FE\":\"Females (20-24)\",\n                   \"SP.POP.2024.MA\":\"Males (20-24)\",\n                   \n                   \"SP.POP.2529.FE\":\"Females (25-29)\",\n                   \"SP.POP.2529.MA\":\"Males (25-29)\",\n                   \n                   \"SP.POP.3034.FE\":\"Females (30-34)\",\n                   \"SP.POP.3034.MA\":\"Males (30-34)\",\n                   \n                   \"SP.POP.3539.FE\":\"Females (35-39)\",\n                   \"SP.POP.3539.MA\":\"Males (35-39)\",\n                   \n                   \"SP.POP.4044.FE\":\"Females (40-44)\",\n                   \"SP.POP.4044.MA\":\"Males (40-44)\",\n                   \n                   \"SP.POP.4549.FE\":\"Females (45-49)\",\n                   \"SP.POP.4549.MA\":\"Males (45-49)\",\n                   \n                   \"SP.POP.5054.FE\":\"Females (50-54)\",\n                   \"SP.POP.5054.MA\":\"Males (50-54)\",\n                   \n                   \"SP.POP.5559.FE\":\"Females (55-59)\",\n                   \"SP.POP.5559.MA\":\"Males (55-59)\",\n                   \n                   \"SP.POP.6064.FE\":\"Females (60-64)\",\n                   \"SP.POP.6064.MA\":\"Males (60-64)\",\n                   \n                   \"SP.POP.6569.FE\":\"Females (65-69)\",\n                   \"SP.POP.6569.MA\":\"Males (65-69)\",\n                   \n                   \"SP.POP.7074.FE\":\"Females (70-74)\",\n                   \"SP.POP.7074.MA\":\"Males (70-74)\",\n                \n                   \"SP.POP.7579.FE\":\"Females (75-79)\",\n                   \"SP.POP.7579.MA\":\"Males (75-79)\",\n                   \n                   \"SP.POP.80UP.FE\":\"Females (80+)\",\n                   \"SP.POP.80UP.FE\":\"Males (80+)\" \n                   \n                  }\n\nworld = wbdata.get_dataframe(variable_labels, country=\"\")\n\n# Date index is of type string; change to integers\n#world.index = world.index.astype(int)\n\n# Print a few years' data\nworld.head(65)",
    "id": "b67bb48f70834fc1ab158103291c5522",
    "idx": 8,
    "time": "2021-01-26T02:43:07.368Z",
    "type": "execution"
   },
   {
    "id": "b67bb48f70834fc1ab158103291c5522",
    "time": "2021-01-26T02:43:21.213Z",
    "type": "completion"
   },
   {
    "id": "b67bb48f70834fc1ab158103291c5522",
    "time": "2021-01-26T02:43:21.213Z",
    "type": "completion"
   },
   {
    "code": "import wbdata\nimport pandas as pd\nimport numpy as np",
    "id": "4a7160a4bfaa44b482543ae63329f98c",
    "idx": 3,
    "time": "2021-01-26T02:43:27.135Z",
    "type": "execution"
   },
   {
    "code": "\n# Return list of all country/region codes:\n#wbdata.get_country()\n\n# Return list matching a query term:\nwbdata.search_countries(\"\")\n\n## Try your own search!\n#wbdata.search_countries(\"Income\")",
    "id": "1eae70fe586f4b1d81fe0c38efb963fe",
    "idx": 4,
    "time": "2021-01-26T02:43:27.136Z",
    "type": "execution"
   },
   {
    "code": "wbdata.get_source()",
    "id": "ae4a3eaf558f4045906f5c1826505d86",
    "idx": 5,
    "time": "2021-01-26T02:43:27.138Z",
    "type": "execution"
   },
   {
    "code": "SOURCE = 40 # \"Population estimates and projections\n\nindicators = wbdata.get_indicator(source=SOURCE)\nindicators",
    "id": "ae2b83e99ad74eac8362807604cf1267",
    "idx": 6,
    "time": "2021-01-26T02:43:27.140Z",
    "type": "execution"
   },
   {
    "code": "wbdata.get_source()",
    "id": "4c89c06c2aab432b81964f123a60c65e",
    "idx": 7,
    "time": "2021-01-26T02:43:27.141Z",
    "type": "execution"
   },
   {
    "code": "# Give variable for clarity\nvariable_labels = {\"SP.POP.TOTL\":\"Total Population\",\n                   \"SP.POP.TOTL.FE.IN\":\"Female Population\",\n                   \"SP.POP.TOTL.MA.IN\":\"Male Population\",\n                   \n                   \"SP.POP.0014.FE.IN\":\"Females (0-14)\",\n                   \"SP.POP.0014.MA.IN\":\"Males (0-14)\",\n                   \n                   \"SP.POP.1564.FE.IN\":\"Females (15-64)\",\n                   \"SP.POP.1564.MA.IN\":\"Males (15-64)\",\n\n                   \"SP.POP.65UP.FE.IN\":\"Females (65+)\" \n                   \"SP.POP.65UP.MA.IN\":\"Males (65+)\" \n                   \n                   \"SP.POP.0004.FE\":\"Females (0-4)\",\n                   \"SP.POP.0004.MA\":\"Males (0-4)\",\n                   \n                   \"SP.POP.0509.FE\":\"Females (5-9)\",\n                   \"SP.POP.0509.MA\":\"Males (5-9)\",\n                   \n                   \"SP.POP.1014.FE\":\"Females (10-14)\",\n                   \"SP.POP.1014.MA\":\"Males (10-14)\",\n                   \n                   \"SP.POP.1519.FE\":\"Females (15-19)\",\n                   \"SP.POP.1519.MA\":\"Males (15-19)\",\n                   \n                   \"SP.POP.2024.FE\":\"Females (20-24)\",\n                   \"SP.POP.2024.MA\":\"Males (20-24)\",\n                   \n                   \"SP.POP.2529.FE\":\"Females (25-29)\",\n                   \"SP.POP.2529.MA\":\"Males (25-29)\",\n                   \n                   \"SP.POP.3034.FE\":\"Females (30-34)\",\n                   \"SP.POP.3034.MA\":\"Males (30-34)\",\n                   \n                   \"SP.POP.3539.FE\":\"Females (35-39)\",\n                   \"SP.POP.3539.MA\":\"Males (35-39)\",\n                   \n                   \"SP.POP.4044.FE\":\"Females (40-44)\",\n                   \"SP.POP.4044.MA\":\"Males (40-44)\",\n                   \n                   \"SP.POP.4549.FE\":\"Females (45-49)\",\n                   \"SP.POP.4549.MA\":\"Males (45-49)\",\n                   \n                   \"SP.POP.5054.FE\":\"Females (50-54)\",\n                   \"SP.POP.5054.MA\":\"Males (50-54)\",\n                   \n                   \"SP.POP.5559.FE\":\"Females (55-59)\",\n                   \"SP.POP.5559.MA\":\"Males (55-59)\",\n                   \n                   \"SP.POP.6064.FE\":\"Females (60-64)\",\n                   \"SP.POP.6064.MA\":\"Males (60-64)\",\n                   \n                   \"SP.POP.6569.FE\":\"Females (65-69)\",\n                   \"SP.POP.6569.MA\":\"Males (65-69)\",\n                   \n                   \"SP.POP.7074.FE\":\"Females (70-74)\",\n                   \"SP.POP.7074.MA\":\"Males (70-74)\",\n                \n                   \"SP.POP.7579.FE\":\"Females (75-79)\",\n                   \"SP.POP.7579.MA\":\"Males (75-79)\",\n                   \n                   \"SP.POP.80UP.FE\":\"Females (80+)\",\n                   \"SP.POP.80UP.FE\":\"Males (80+)\" \n                   \n                  }\n\nworld = wbdata.get_dataframe(variable_labels, country=\"\")\n\n# Date index is of type string; change to integers\n#world.index = world.index.astype(int)\n\n# Print a few years' data\nworld.head(65)",
    "id": "b67bb48f70834fc1ab158103291c5522",
    "idx": 8,
    "time": "2021-01-26T02:43:27.143Z",
    "type": "execution"
   },
   {
    "code": "countries = {name_dict.get(location)}\ndf = wbdata.get_dataframe(variables, country=countries)\ndf.loc[year][0]",
    "id": "014dd87deb6140579bfa9603cadf13af",
    "idx": 10,
    "time": "2021-01-26T02:43:27.145Z",
    "type": "execution"
   },
   {
    "code": "name_dict = dict()\nfor i in range(len(wbdata.search_countries(\"\"))):\n    id = wbdata.search_countries(\"\")[i][\"id\"]\n    country = wbdata.search_countries(\"\")[i][\"name\"]\n    name_dict[country] = id",
    "id": "2d03f03333bc421d8f1790943e4c58fa",
    "idx": 18,
    "time": "2021-01-26T02:43:27.152Z",
    "type": "execution"
   },
   {
    "code": "name_dict",
    "id": "5e160484124c44ec8047223b22a80e58",
    "idx": 19,
    "time": "2021-01-26T02:43:27.154Z",
    "type": "execution"
   },
   {
    "id": "4a7160a4bfaa44b482543ae63329f98c",
    "time": "2021-01-26T02:43:27.781Z",
    "type": "completion"
   },
   {
    "id": "1eae70fe586f4b1d81fe0c38efb963fe",
    "time": "2021-01-26T02:43:27.829Z",
    "type": "completion"
   },
   {
    "id": "ae4a3eaf558f4045906f5c1826505d86",
    "time": "2021-01-26T02:43:27.850Z",
    "type": "completion"
   },
   {
    "id": "ae2b83e99ad74eac8362807604cf1267",
    "time": "2021-01-26T02:43:27.869Z",
    "type": "completion"
   },
   {
    "id": "4c89c06c2aab432b81964f123a60c65e",
    "time": "2021-01-26T02:43:27.877Z",
    "type": "completion"
   },
   {
    "id": "b67bb48f70834fc1ab158103291c5522",
    "time": "2021-01-26T02:43:27.882Z",
    "type": "completion"
   },
   {
    "id": "014dd87deb6140579bfa9603cadf13af",
    "time": "2021-01-26T02:43:27.897Z",
    "type": "completion"
   },
   {
    "id": "2d03f03333bc421d8f1790943e4c58fa",
    "time": "2021-01-26T02:43:27.897Z",
    "type": "completion"
   },
   {
    "id": "5e160484124c44ec8047223b22a80e58",
    "time": "2021-01-26T02:43:27.903Z",
    "type": "completion"
   },
   {
    "code": "# Give variable for clarity\nvariable_labels = {\"SP.POP.TOTL\":\"Total Population\",\n                   \"SP.POP.TOTL.FE.IN\":\"Female Population\",\n                   \"SP.POP.TOTL.MA.IN\":\"Male Population\",\n                   \n                   \"SP.POP.0014.FE.IN\":\"Females (0-14)\",\n                   \"SP.POP.0014.MA.IN\":\"Males (0-14)\",\n                   \n                   \"SP.POP.1564.FE.IN\":\"Females (15-64)\",\n                   \"SP.POP.1564.MA.IN\":\"Males (15-64)\",\n\n                   \"SP.POP.65UP.FE.IN\":\"Females (65+)\", \n                   \"SP.POP.65UP.MA.IN\":\"Males (65+)\", \n                   \n                   \"SP.POP.0004.FE\":\"Females (0-4)\",\n                   \"SP.POP.0004.MA\":\"Males (0-4)\",\n                   \n                   \"SP.POP.0509.FE\":\"Females (5-9)\",\n                   \"SP.POP.0509.MA\":\"Males (5-9)\",\n                   \n                   \"SP.POP.1014.FE\":\"Females (10-14)\",\n                   \"SP.POP.1014.MA\":\"Males (10-14)\",\n                   \n                   \"SP.POP.1519.FE\":\"Females (15-19)\",\n                   \"SP.POP.1519.MA\":\"Males (15-19)\",\n                   \n                   \"SP.POP.2024.FE\":\"Females (20-24)\",\n                   \"SP.POP.2024.MA\":\"Males (20-24)\",\n                   \n                   \"SP.POP.2529.FE\":\"Females (25-29)\",\n                   \"SP.POP.2529.MA\":\"Males (25-29)\",\n                   \n                   \"SP.POP.3034.FE\":\"Females (30-34)\",\n                   \"SP.POP.3034.MA\":\"Males (30-34)\",\n                   \n                   \"SP.POP.3539.FE\":\"Females (35-39)\",\n                   \"SP.POP.3539.MA\":\"Males (35-39)\",\n                   \n                   \"SP.POP.4044.FE\":\"Females (40-44)\",\n                   \"SP.POP.4044.MA\":\"Males (40-44)\",\n                   \n                   \"SP.POP.4549.FE\":\"Females (45-49)\",\n                   \"SP.POP.4549.MA\":\"Males (45-49)\",\n                   \n                   \"SP.POP.5054.FE\":\"Females (50-54)\",\n                   \"SP.POP.5054.MA\":\"Males (50-54)\",\n                   \n                   \"SP.POP.5559.FE\":\"Females (55-59)\",\n                   \"SP.POP.5559.MA\":\"Males (55-59)\",\n                   \n                   \"SP.POP.6064.FE\":\"Females (60-64)\",\n                   \"SP.POP.6064.MA\":\"Males (60-64)\",\n                   \n                   \"SP.POP.6569.FE\":\"Females (65-69)\",\n                   \"SP.POP.6569.MA\":\"Males (65-69)\",\n                   \n                   \"SP.POP.7074.FE\":\"Females (70-74)\",\n                   \"SP.POP.7074.MA\":\"Males (70-74)\",\n                \n                   \"SP.POP.7579.FE\":\"Females (75-79)\",\n                   \"SP.POP.7579.MA\":\"Males (75-79)\",\n                   \n                   \"SP.POP.80UP.FE\":\"Females (80+)\",\n                   \"SP.POP.80UP.FE\":\"Males (80+)\" \n                   \n                  }\n\nworld = wbdata.get_dataframe(variable_labels, country=\"\")\n\n# Date index is of type string; change to integers\n#world.index = world.index.astype(int)\n\n# Print a few years' data\nworld.head(65)",
    "id": "b67bb48f70834fc1ab158103291c5522",
    "idx": 8,
    "time": "2021-01-26T02:43:45.959Z",
    "type": "execution"
   },
   {
    "id": "b67bb48f70834fc1ab158103291c5522",
    "time": "2021-01-26T02:57:05.338Z",
    "type": "completion"
   },
   {
    "code": "# Give variable for clarity\nvariable_labels = {\"SP.POP.TOTL\":\"Total Population\",\n                   \"SP.POP.TOTL.FE.IN\":\"Female Population\",\n                   \"SP.POP.TOTL.MA.IN\":\"Male Population\",\n                   \n                   \"SP.POP.0014.FE.IN\":\"Females (0-14)\",\n                   \"SP.POP.0014.MA.IN\":\"Males (0-14)\",\n                   \n                   \"SP.POP.1564.FE.IN\":\"Females (15-64)\",\n                   \"SP.POP.1564.MA.IN\":\"Males (15-64)\",\n\n                   \"SP.POP.65UP.FE.IN\":\"Females (65+)\", \n                   \"SP.POP.65UP.MA.IN\":\"Males (65+)\", \n                   \n                   \"SP.POP.0004.FE\":\"Females (0-4)\",\n                   \"SP.POP.0004.MA\":\"Males (0-4)\",\n                   \n                   \"SP.POP.0509.FE\":\"Females (5-9)\",\n                   \"SP.POP.0509.MA\":\"Males (5-9)\",\n                   \n                   \"SP.POP.1014.FE\":\"Females (10-14)\",\n                   \"SP.POP.1014.MA\":\"Males (10-14)\",\n                   \n                   \"SP.POP.1519.FE\":\"Females (15-19)\",\n                   \"SP.POP.1519.MA\":\"Males (15-19)\",\n                   \n                   \"SP.POP.2024.FE\":\"Females (20-24)\",\n                   \"SP.POP.2024.MA\":\"Males (20-24)\",\n                   \n                   \"SP.POP.2529.FE\":\"Females (25-29)\",\n                   \"SP.POP.2529.MA\":\"Males (25-29)\",\n                   \n                   \"SP.POP.3034.FE\":\"Females (30-34)\",\n                   \"SP.POP.3034.MA\":\"Males (30-34)\",\n                   \n                   \"SP.POP.3539.FE\":\"Females (35-39)\",\n                   \"SP.POP.3539.MA\":\"Males (35-39)\",\n                   \n                   \"SP.POP.4044.FE\":\"Females (40-44)\",\n                   \"SP.POP.4044.MA\":\"Males (40-44)\",\n                   \n                   \"SP.POP.4549.FE\":\"Females (45-49)\",\n                   \"SP.POP.4549.MA\":\"Males (45-49)\",\n                   \n                   \"SP.POP.5054.FE\":\"Females (50-54)\",\n                   \"SP.POP.5054.MA\":\"Males (50-54)\",\n                   \n                   \"SP.POP.5559.FE\":\"Females (55-59)\",\n                   \"SP.POP.5559.MA\":\"Males (55-59)\",\n                   \n                   \"SP.POP.6064.FE\":\"Females (60-64)\",\n                   \"SP.POP.6064.MA\":\"Males (60-64)\",\n                   \n                   \"SP.POP.6569.FE\":\"Females (65-69)\",\n                   \"SP.POP.6569.MA\":\"Males (65-69)\",\n                   \n                   \"SP.POP.7074.FE\":\"Females (70-74)\",\n                   \"SP.POP.7074.MA\":\"Males (70-74)\",\n                \n                   \"SP.POP.7579.FE\":\"Females (75-79)\",\n                   \"SP.POP.7579.MA\":\"Males (75-79)\",\n                   \n                   \"SP.POP.80UP.FE\":\"Females (80+)\",\n                   \"SP.POP.80UP.MA\":\"Males (80+)\" \n                   \n                  }\n\nworld = wbdata.get_dataframe(variable_labels, country=\"\")\n\n# Date index is of type string; change to integers\n#world.index = world.index.astype(int)\n\n# Print a few years' data\nworld.head(65)",
    "id": "b67bb48f70834fc1ab158103291c5522",
    "idx": 8,
    "time": "2021-01-26T02:58:03.095Z",
    "type": "execution"
   },
   {
    "id": "b67bb48f70834fc1ab158103291c5522",
    "time": "2021-01-26T02:58:40.881Z",
    "type": "completion"
   },
   {
    "code": "world.columns",
    "id": "196175c33d0a4991b5d59a8331e79aa8",
    "idx": 9,
    "time": "2021-01-26T02:58:53.814Z",
    "type": "execution"
   },
   {
    "id": "196175c33d0a4991b5d59a8331e79aa8",
    "time": "2021-01-26T02:58:53.876Z",
    "type": "completion"
   },
   {
    "code": "# Give variable for clarity\nvariable_labels = {\"SP.POP.TOTL\":\"Total Population\",\n                   \"SP.POP.TOTL.FE.IN\":\"Female Population\",\n                   \"SP.POP.TOTL.MA.IN\":\"Male Population\",\n                   \n                   \"SP.POP.0014.FE.IN\":\"Females (0-14)\",\n                   \"SP.POP.0014.MA.IN\":\"Males (0-14)\",\n                   \n                   \"SP.POP.1564.FE.IN\":\"Females (15-64)\",\n                   \"SP.POP.1564.MA.IN\":\"Males (15-64)\",\n\n                   \"SP.POP.65UP.FE.IN\":\"Females (65+)\", \n                   \"SP.POP.65UP.MA.IN\":\"Males (65+)\", \n                   \n                   \"SP.POP.0004.FE\":\"Females (0-4)\",\n                   \"SP.POP.0004.MA\":\"Males (0-4)\",\n                   \n                   \"SP.POP.0509.FE\":\"Females (5-9)\",\n                   \"SP.POP.0509.MA\":\"Males (5-9)\",\n                   \n                   \"SP.POP.1014.FE\":\"Females (10-14)\",\n                   \"SP.POP.1014.MA\":\"Males (10-14)\",\n                   \n                   \"SP.POP.1519.FE\":\"Females (15-19)\",\n                   \"SP.POP.1519.MA\":\"Males (15-19)\",\n                   \n                   \"SP.POP.2024.FE\":\"Females (20-24)\",\n                   \"SP.POP.2024.MA\":\"Males (20-24)\",\n                   \n                   \"SP.POP.2529.FE\":\"Females (25-29)\",\n                   \"SP.POP.2529.MA\":\"Males (25-29)\",\n                   \n                   \"SP.POP.3034.FE\":\"Females (30-34)\",\n                   \"SP.POP.3034.MA\":\"Males (30-34)\",\n                   \n                   \"SP.POP.3539.FE\":\"Females (35-39)\",\n                   \"SP.POP.3539.MA\":\"Males (35-39)\",\n                   \n                   \"SP.POP.4044.FE\":\"Females (40-44)\",\n                   \"SP.POP.4044.MA\":\"Males (40-44)\",\n                   \n                   \"SP.POP.4549.FE\":\"Females (45-49)\",\n                   \"SP.POP.4549.MA\":\"Males (45-49)\",\n                   \n                   \"SP.POP.5054.FE\":\"Females (50-54)\",\n                   \"SP.POP.5054.MA\":\"Males (50-54)\",\n                   \n                   \"SP.POP.5559.FE\":\"Females (55-59)\",\n                   \"SP.POP.5559.MA\":\"Males (55-59)\",\n                   \n                   \"SP.POP.6064.FE\":\"Females (60-64)\",\n                   \"SP.POP.6064.MA\":\"Males (60-64)\",\n                   \n                   \"SP.POP.6569.FE\":\"Females (65-69)\",\n                   \"SP.POP.6569.MA\":\"Males (65-69)\",\n                   \n                   \"SP.POP.7074.FE\":\"Females (70-74)\",\n                   \"SP.POP.7074.MA\":\"Males (70-74)\",\n                \n                   \"SP.POP.7579.FE\":\"Females (75-79)\",\n                   \"SP.POP.7579.MA\":\"Males (75-79)\",\n                   \n                   \"SP.POP.80UP.FE\":\"Females (80+)\",\n                   \"SP.POP.80UP.MA\":\"Males (80+)\" \n                   \n                  }\n\nworld = wbdata.get_dataframe(variable_labels, country=\"\")\n\n# Print a few years' data\nworld.head()",
    "id": "b67bb48f70834fc1ab158103291c5522",
    "idx": 8,
    "time": "2021-01-26T03:06:36.392Z",
    "type": "execution"
   },
   {
    "id": "b67bb48f70834fc1ab158103291c5522",
    "time": "2021-01-26T03:06:45.086Z",
    "type": "completion"
   },
   {
    "code": "import wbdata\nimport pandas as pd\nimport numpy as np",
    "id": "47b180e0e4184ee3a94ea4005d6b8ebb",
    "idx": 3,
    "time": "2021-01-27T01:46:57.938Z",
    "type": "execution"
   },
   {
    "id": "47b180e0e4184ee3a94ea4005d6b8ebb",
    "time": "2021-01-27T01:46:58.059Z",
    "type": "completion"
   },
   {
    "code": "## If import fails with \"ModuleNotFoundError\"\n## uncomment below & try again\n#!pip install wbdata\n\nimport wbdata",
    "id": "170534c6e12e460189d0c8612ced0506",
    "idx": 3,
    "time": "2021-01-27T01:47:28.970Z",
    "type": "execution"
   },
   {
    "id": "170534c6e12e460189d0c8612ced0506",
    "time": "2021-01-27T01:47:29.039Z",
    "type": "completion"
   },
   {
    "code": "## If import fails with \"ModuleNotFoundError\"\n## uncomment below & try again\n!pip install wbdata\n\nimport wbdata",
    "id": "170534c6e12e460189d0c8612ced0506",
    "idx": 3,
    "time": "2021-01-27T01:47:31.024Z",
    "type": "execution"
   },
   {
    "id": "170534c6e12e460189d0c8612ced0506",
    "time": "2021-01-27T01:47:37.045Z",
    "type": "completion"
   },
   {
    "code": "import pandas as pd\nimport numpy as np",
    "id": "47b180e0e4184ee3a94ea4005d6b8ebb",
    "idx": 4,
    "time": "2021-01-27T01:47:38.542Z",
    "type": "execution"
   },
   {
    "id": "47b180e0e4184ee3a94ea4005d6b8ebb",
    "time": "2021-01-27T01:47:38.608Z",
    "type": "completion"
   },
   {
    "code": "\n# Return list of all country/region codes:\n#wbdata.get_country()\n\n# Return list matching a query term:\n#wbdata.search_countries(\"\")\n\n## Try your own search!\n#wbdata.search_countries(\"Income\")",
    "id": "c4bc0fcbb332437985e3418df916f589",
    "idx": 5,
    "time": "2021-01-27T01:48:00.948Z",
    "type": "execution"
   },
   {
    "id": "c4bc0fcbb332437985e3418df916f589",
    "time": "2021-01-27T01:48:01.021Z",
    "type": "completion"
   },
   {
    "code": "wbdata.get_source()",
    "id": "9367073feba84d2a93f7f89e624127e0",
    "idx": 6,
    "time": "2021-01-27T01:48:02.982Z",
    "type": "execution"
   },
   {
    "id": "9367073feba84d2a93f7f89e624127e0",
    "time": "2021-01-27T01:48:05.360Z",
    "type": "completion"
   },
   {
    "code": "SOURCE = 40 # \"Population estimates and projections\n\nindicators = wbdata.get_indicator(source=SOURCE)\nindicators",
    "id": "37cad0643a6e4d0ca5ee89487b5bc219",
    "idx": 7,
    "time": "2021-01-27T01:48:08.343Z",
    "type": "execution"
   },
   {
    "id": "37cad0643a6e4d0ca5ee89487b5bc219",
    "time": "2021-01-27T01:48:09.115Z",
    "type": "completion"
   },
   {
    "code": "wbdata.get_source()",
    "id": "469bb84121ab4b25812b9434fe5e3ec4",
    "idx": 8,
    "time": "2021-01-27T01:48:17.316Z",
    "type": "execution"
   },
   {
    "id": "469bb84121ab4b25812b9434fe5e3ec4",
    "time": "2021-01-27T01:48:17.975Z",
    "type": "completion"
   },
   {
    "code": "# Give variable for clarity\nvariable_labels = {\"SP.POP.TOTL\":\"Total Population\",\n                   \"SP.POP.TOTL.FE.IN\":\"Female Population\",\n                   \"SP.POP.TOTL.MA.IN\":\"Male Population\",\n                   \n                   \"SP.POP.0014.FE.IN\":\"Females (0-14)\",\n                   \"SP.POP.0014.MA.IN\":\"Males (0-14)\",\n                   \n                   \"SP.POP.1564.FE.IN\":\"Females (15-64)\",\n                   \"SP.POP.1564.MA.IN\":\"Males (15-64)\",\n\n                   \"SP.POP.65UP.FE.IN\":\"Females (65+)\", \n                   \"SP.POP.65UP.MA.IN\":\"Males (65+)\", \n                   \n                   \"SP.POP.0004.FE\":\"Females (0-4)\",\n                   \"SP.POP.0004.MA\":\"Males (0-4)\",\n                   \n                   \"SP.POP.0509.FE\":\"Females (5-9)\",\n                   \"SP.POP.0509.MA\":\"Males (5-9)\",\n                   \n                   \"SP.POP.1014.FE\":\"Females (10-14)\",\n                   \"SP.POP.1014.MA\":\"Males (10-14)\",\n                   \n                   \"SP.POP.1519.FE\":\"Females (15-19)\",\n                   \"SP.POP.1519.MA\":\"Males (15-19)\",\n                   \n                   \"SP.POP.2024.FE\":\"Females (20-24)\",\n                   \"SP.POP.2024.MA\":\"Males (20-24)\",\n                   \n                   \"SP.POP.2529.FE\":\"Females (25-29)\",\n                   \"SP.POP.2529.MA\":\"Males (25-29)\",\n                   \n                   \"SP.POP.3034.FE\":\"Females (30-34)\",\n                   \"SP.POP.3034.MA\":\"Males (30-34)\",\n                   \n                   \"SP.POP.3539.FE\":\"Females (35-39)\",\n                   \"SP.POP.3539.MA\":\"Males (35-39)\",\n                   \n                   \"SP.POP.4044.FE\":\"Females (40-44)\",\n                   \"SP.POP.4044.MA\":\"Males (40-44)\",\n                   \n                   \"SP.POP.4549.FE\":\"Females (45-49)\",\n                   \"SP.POP.4549.MA\":\"Males (45-49)\",\n                   \n                   \"SP.POP.5054.FE\":\"Females (50-54)\",\n                   \"SP.POP.5054.MA\":\"Males (50-54)\",\n                   \n                   \"SP.POP.5559.FE\":\"Females (55-59)\",\n                   \"SP.POP.5559.MA\":\"Males (55-59)\",\n                   \n                   \"SP.POP.6064.FE\":\"Females (60-64)\",\n                   \"SP.POP.6064.MA\":\"Males (60-64)\",\n                   \n                   \"SP.POP.6569.FE\":\"Females (65-69)\",\n                   \"SP.POP.6569.MA\":\"Males (65-69)\",\n                   \n                   \"SP.POP.7074.FE\":\"Females (70-74)\",\n                   \"SP.POP.7074.MA\":\"Males (70-74)\",\n                \n                   \"SP.POP.7579.FE\":\"Females (75-79)\",\n                   \"SP.POP.7579.MA\":\"Males (75-79)\",\n                   \n                   \"SP.POP.80UP.FE\":\"Females (80+)\",\n                   \"SP.POP.80UP.MA\":\"Males (80+)\" \n                   \n                  }\n\nworld = wbdata.get_dataframe(variable_labels, country=\"\")\n\n# Print a few years' data\nworld.head()",
    "id": "6cc8e8f5405241288936a8fe0e343a28",
    "idx": 8,
    "time": "2021-01-27T01:48:27.225Z",
    "type": "execution"
   },
   {
    "id": "6cc8e8f5405241288936a8fe0e343a28",
    "time": "2021-01-27T01:49:00.746Z",
    "type": "completion"
   },
   {
    "code": "\n# Return list of all country/region codes:\n#wbdata.get_country()\n\n# Return list matching a query term:\n#wbdata.search_countries(\"\")\n\n## Try your own search!\nwbdata.search_countries(\"\")",
    "id": "c4bc0fcbb332437985e3418df916f589",
    "idx": 5,
    "time": "2021-01-27T01:50:41.444Z",
    "type": "execution"
   },
   {
    "id": "c4bc0fcbb332437985e3418df916f589",
    "time": "2021-01-27T01:50:41.522Z",
    "type": "completion"
   },
   {
    "code": "world",
    "id": "5ff5015a024b405c8c327cbdbc3b3e41",
    "idx": 9,
    "time": "2021-01-27T01:51:18.364Z",
    "type": "execution"
   },
   {
    "id": "5ff5015a024b405c8c327cbdbc3b3e41",
    "time": "2021-01-27T01:51:18.555Z",
    "type": "completion"
   },
   {
    "code": "world.iloc[\"Afghanistan\"]",
    "id": "5ff5015a024b405c8c327cbdbc3b3e41",
    "idx": 9,
    "time": "2021-01-27T01:51:29.158Z",
    "type": "execution"
   },
   {
    "id": "5ff5015a024b405c8c327cbdbc3b3e41",
    "time": "2021-01-27T01:51:29.647Z",
    "type": "completion"
   },
   {
    "code": "world.iloc[\"Afghanistan\", \"1960\"]",
    "id": "5ff5015a024b405c8c327cbdbc3b3e41",
    "idx": 9,
    "time": "2021-01-27T01:51:39.675Z",
    "type": "execution"
   },
   {
    "id": "5ff5015a024b405c8c327cbdbc3b3e41",
    "time": "2021-01-27T01:51:39.807Z",
    "type": "completion"
   },
   {
    "code": "world.iloc[\"Afghanistan\"]",
    "id": "5ff5015a024b405c8c327cbdbc3b3e41",
    "idx": 9,
    "time": "2021-01-27T01:51:46.269Z",
    "type": "execution"
   },
   {
    "id": "5ff5015a024b405c8c327cbdbc3b3e41",
    "time": "2021-01-27T01:51:46.340Z",
    "type": "completion"
   },
   {
    "code": "world[\"Total Population\"]",
    "id": "5ff5015a024b405c8c327cbdbc3b3e41",
    "idx": 9,
    "time": "2021-01-27T01:51:59.056Z",
    "type": "execution"
   },
   {
    "id": "5ff5015a024b405c8c327cbdbc3b3e41",
    "time": "2021-01-27T01:51:59.129Z",
    "type": "completion"
   },
   {
    "code": "world[\"country\"]",
    "id": "5ff5015a024b405c8c327cbdbc3b3e41",
    "idx": 9,
    "time": "2021-01-27T01:52:14.204Z",
    "type": "execution"
   },
   {
    "id": "5ff5015a024b405c8c327cbdbc3b3e41",
    "time": "2021-01-27T01:52:14.380Z",
    "type": "completion"
   },
   {
    "code": "world.index",
    "id": "5ff5015a024b405c8c327cbdbc3b3e41",
    "idx": 9,
    "time": "2021-01-27T01:52:20.050Z",
    "type": "execution"
   },
   {
    "id": "5ff5015a024b405c8c327cbdbc3b3e41",
    "time": "2021-01-27T01:52:20.109Z",
    "type": "completion"
   },
   {
    "code": "world.index[:600]",
    "id": "5ff5015a024b405c8c327cbdbc3b3e41",
    "idx": 9,
    "time": "2021-01-27T01:52:30.295Z",
    "type": "execution"
   },
   {
    "id": "5ff5015a024b405c8c327cbdbc3b3e41",
    "time": "2021-01-27T01:52:30.355Z",
    "type": "completion"
   },
   {
    "code": "world.index[:500]",
    "id": "5ff5015a024b405c8c327cbdbc3b3e41",
    "idx": 9,
    "time": "2021-01-27T01:52:37.152Z",
    "type": "execution"
   },
   {
    "id": "5ff5015a024b405c8c327cbdbc3b3e41",
    "time": "2021-01-27T01:52:37.211Z",
    "type": "completion"
   },
   {
    "code": "world.index[:400]",
    "id": "5ff5015a024b405c8c327cbdbc3b3e41",
    "idx": 9,
    "time": "2021-01-27T01:52:42.479Z",
    "type": "execution"
   },
   {
    "id": "5ff5015a024b405c8c327cbdbc3b3e41",
    "time": "2021-01-27T01:52:42.541Z",
    "type": "completion"
   },
   {
    "code": "world.index[:50]",
    "id": "5ff5015a024b405c8c327cbdbc3b3e41",
    "idx": 9,
    "time": "2021-01-27T01:52:46.749Z",
    "type": "execution"
   },
   {
    "id": "5ff5015a024b405c8c327cbdbc3b3e41",
    "time": "2021-01-27T01:52:46.813Z",
    "type": "completion"
   },
   {
    "code": "world.index[:450]",
    "id": "5ff5015a024b405c8c327cbdbc3b3e41",
    "idx": 9,
    "time": "2021-01-27T01:52:51.902Z",
    "type": "execution"
   },
   {
    "id": "5ff5015a024b405c8c327cbdbc3b3e41",
    "time": "2021-01-27T01:52:51.961Z",
    "type": "completion"
   },
   {
    "code": "world.loc[\"Total Population\"]",
    "id": "5ff5015a024b405c8c327cbdbc3b3e41",
    "idx": 9,
    "time": "2021-01-27T01:55:06.169Z",
    "type": "execution"
   },
   {
    "id": "5ff5015a024b405c8c327cbdbc3b3e41",
    "time": "2021-01-27T01:55:06.315Z",
    "type": "completion"
   },
   {
    "code": "world.loc[\"Afghanistan\"]",
    "id": "5ff5015a024b405c8c327cbdbc3b3e41",
    "idx": 9,
    "time": "2021-01-27T01:55:18.893Z",
    "type": "execution"
   },
   {
    "id": "5ff5015a024b405c8c327cbdbc3b3e41",
    "time": "2021-01-27T01:55:19.062Z",
    "type": "completion"
   },
   {
    "code": "world.loc[\"Arab World\"]",
    "id": "5ff5015a024b405c8c327cbdbc3b3e41",
    "idx": 9,
    "time": "2021-01-27T01:55:24.757Z",
    "type": "execution"
   },
   {
    "id": "5ff5015a024b405c8c327cbdbc3b3e41",
    "time": "2021-01-27T01:55:24.895Z",
    "type": "completion"
   },
   {
    "code": "world.loc[\"Arab World\", \"1970\"]",
    "id": "5ff5015a024b405c8c327cbdbc3b3e41",
    "idx": 9,
    "time": "2021-01-27T01:55:36.303Z",
    "type": "execution"
   },
   {
    "id": "5ff5015a024b405c8c327cbdbc3b3e41",
    "time": "2021-01-27T01:55:36.369Z",
    "type": "completion"
   },
   {
    "code": "world.loc[\"Arab World\", \"1970\"][\"Total Population\"]",
    "id": "5ff5015a024b405c8c327cbdbc3b3e41",
    "idx": 9,
    "time": "2021-01-27T01:55:45.138Z",
    "type": "execution"
   },
   {
    "id": "5ff5015a024b405c8c327cbdbc3b3e41",
    "time": "2021-01-27T01:55:45.196Z",
    "type": "completion"
   },
   {
    "code": "world.loc[\"Arab World\", \"1970\"][\"Females (0-14)\"]",
    "id": "5ff5015a024b405c8c327cbdbc3b3e41",
    "idx": 9,
    "time": "2021-01-27T01:55:55.348Z",
    "type": "execution"
   },
   {
    "id": "5ff5015a024b405c8c327cbdbc3b3e41",
    "time": "2021-01-27T01:55:55.405Z",
    "type": "completion"
   },
   {
    "code": "world.iloc[1]",
    "id": "ded350ecd00e4e1eb6f0f9ac7eb045b5",
    "idx": 10,
    "time": "2021-01-27T01:56:21.774Z",
    "type": "execution"
   },
   {
    "id": "ded350ecd00e4e1eb6f0f9ac7eb045b5",
    "time": "2021-01-27T01:56:21.837Z",
    "type": "completion"
   },
   {
    "code": "world.iloc[2]",
    "id": "ded350ecd00e4e1eb6f0f9ac7eb045b5",
    "idx": 10,
    "time": "2021-01-27T01:56:29.230Z",
    "type": "execution"
   },
   {
    "id": "ded350ecd00e4e1eb6f0f9ac7eb045b5",
    "time": "2021-01-27T01:56:29.293Z",
    "type": "completion"
   }
  ],
  "kernelspec": {
   "display_name": "Python 3",
   "language": "python",
   "name": "python3"
  },
  "language_info": {
   "codemirror_mode": {
    "name": "ipython",
    "version": 3
   },
   "file_extension": ".py",
   "mimetype": "text/x-python",
   "name": "python",
   "nbconvert_exporter": "python",
   "pygments_lexer": "ipython3",
   "version": "3.8.6"
  }
 },
 "nbformat": 4,
 "nbformat_minor": 4
}
