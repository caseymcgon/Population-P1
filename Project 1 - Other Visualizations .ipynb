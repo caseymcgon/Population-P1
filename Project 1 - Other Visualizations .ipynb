{
 "cells": [
  {
   "cell_type": "code",
   "execution_count": 27,
   "metadata": {
    "scrolled": false
   },
   "outputs": [
    {
     "data": {
      "application/vnd.plotly.v1+json": {
       "config": {
        "plotlyServerURL": "https://plot.ly"
       },
       "data": [
        {
         "name": "Female",
         "type": "bar",
         "x": [
          1961,
          1962,
          1963,
          1964,
          1965,
          1966,
          1967,
          1968,
          1969,
          1970,
          1971,
          1972,
          1973,
          1974,
          1975,
          1976,
          1977,
          1978,
          1979,
          1980,
          1981,
          1982,
          1983,
          1984,
          1985,
          1986,
          1987,
          1988,
          1989,
          1990,
          1991,
          1992,
          1993,
          1994,
          1995,
          1996,
          1997,
          1998,
          1999,
          2000,
          2001,
          2002,
          2003,
          2004,
          2005,
          2006,
          2007,
          2008,
          2009,
          2010,
          2011,
          2012,
          2013,
          2014,
          2015,
          2016,
          2017,
          2018,
          2019
         ],
         "y": [
          320153437,
          322953588,
          331140640,
          339068212,
          347401432,
          357394687,
          366879507,
          376753699,
          387362696,
          398315770,
          409475913,
          419696503,
          429398133,
          438355316,
          446155493,
          453096478,
          459292487,
          465460554,
          471700516,
          477656979,
          483835348,
          491049203,
          498238544,
          504855230,
          511798492,
          519471732,
          527858967,
          536408672,
          544679377,
          552721134,
          560312586,
          567224558,
          573790071,
          580322015,
          586672507,
          592868311,
          598982994,
          604764109,
          610004104,
          614775825,
          619165993,
          623205125,
          626956157,
          630545489,
          634130240,
          637560457,
          640793072,
          644001246,
          647159372,
          650275748,
          653422748,
          656677290,
          660023537,
          663493378,
          667009225,
          670780903,
          674707818,
          677972245,
          680596325
         ]
        },
        {
         "name": "Male",
         "type": "bar",
         "x": [
          1961,
          1962,
          1963,
          1964,
          1965,
          1966,
          1967,
          1968,
          1969,
          1970,
          1971,
          1972,
          1973,
          1974,
          1975,
          1976,
          1977,
          1978,
          1979,
          1980,
          1981,
          1982,
          1983,
          1984,
          1985,
          1986,
          1987,
          1988,
          1989,
          1990,
          1991,
          1992,
          1993,
          1994,
          1995,
          1996,
          1997,
          1998,
          1999,
          2000,
          2001,
          2002,
          2003,
          2004,
          2005,
          2006,
          2007,
          2008,
          2009,
          2010,
          2011,
          2012,
          2013,
          2014,
          2015,
          2016,
          2017,
          2018,
          2019
         ],
         "y": [
          340176563,
          342816412,
          351194360,
          359286788,
          367783568,
          378005313,
          387670493,
          397756301,
          408662304,
          419999230,
          431629087,
          442333497,
          452541867,
          461994684,
          470239507,
          477588522,
          484162513,
          490704446,
          497304484,
          503578021,
          510049652,
          517580797,
          525071456,
          531969770,
          539241508,
          547318268,
          556176033,
          565221328,
          573970623,
          582463866,
          590467414,
          597745442,
          604649929,
          611512985,
          618182493,
          624681689,
          631092006,
          637170891,
          642730896,
          647869175,
          652684007,
          657194875,
          661443843,
          665529511,
          669589760,
          673459543,
          677091928,
          680653754,
          684100628,
          687429252,
          690707252,
          694017710,
          697356463,
          700776622,
          704210775,
          707884097,
          711687182,
          714757755,
          717118675
         ]
        }
       ],
       "layout": {
        "barmode": "stack",
        "template": {
         "data": {
          "bar": [
           {
            "error_x": {
             "color": "#2a3f5f"
            },
            "error_y": {
             "color": "#2a3f5f"
            },
            "marker": {
             "line": {
              "color": "#E5ECF6",
              "width": 0.5
             }
            },
            "type": "bar"
           }
          ],
          "barpolar": [
           {
            "marker": {
             "line": {
              "color": "#E5ECF6",
              "width": 0.5
             }
            },
            "type": "barpolar"
           }
          ],
          "carpet": [
           {
            "aaxis": {
             "endlinecolor": "#2a3f5f",
             "gridcolor": "white",
             "linecolor": "white",
             "minorgridcolor": "white",
             "startlinecolor": "#2a3f5f"
            },
            "baxis": {
             "endlinecolor": "#2a3f5f",
             "gridcolor": "white",
             "linecolor": "white",
             "minorgridcolor": "white",
             "startlinecolor": "#2a3f5f"
            },
            "type": "carpet"
           }
          ],
          "choropleth": [
           {
            "colorbar": {
             "outlinewidth": 0,
             "ticks": ""
            },
            "type": "choropleth"
           }
          ],
          "contour": [
           {
            "colorbar": {
             "outlinewidth": 0,
             "ticks": ""
            },
            "colorscale": [
             [
              0,
              "#0d0887"
             ],
             [
              0.1111111111111111,
              "#46039f"
             ],
             [
              0.2222222222222222,
              "#7201a8"
             ],
             [
              0.3333333333333333,
              "#9c179e"
             ],
             [
              0.4444444444444444,
              "#bd3786"
             ],
             [
              0.5555555555555556,
              "#d8576b"
             ],
             [
              0.6666666666666666,
              "#ed7953"
             ],
             [
              0.7777777777777778,
              "#fb9f3a"
             ],
             [
              0.8888888888888888,
              "#fdca26"
             ],
             [
              1,
              "#f0f921"
             ]
            ],
            "type": "contour"
           }
          ],
          "contourcarpet": [
           {
            "colorbar": {
             "outlinewidth": 0,
             "ticks": ""
            },
            "type": "contourcarpet"
           }
          ],
          "heatmap": [
           {
            "colorbar": {
             "outlinewidth": 0,
             "ticks": ""
            },
            "colorscale": [
             [
              0,
              "#0d0887"
             ],
             [
              0.1111111111111111,
              "#46039f"
             ],
             [
              0.2222222222222222,
              "#7201a8"
             ],
             [
              0.3333333333333333,
              "#9c179e"
             ],
             [
              0.4444444444444444,
              "#bd3786"
             ],
             [
              0.5555555555555556,
              "#d8576b"
             ],
             [
              0.6666666666666666,
              "#ed7953"
             ],
             [
              0.7777777777777778,
              "#fb9f3a"
             ],
             [
              0.8888888888888888,
              "#fdca26"
             ],
             [
              1,
              "#f0f921"
             ]
            ],
            "type": "heatmap"
           }
          ],
          "heatmapgl": [
           {
            "colorbar": {
             "outlinewidth": 0,
             "ticks": ""
            },
            "colorscale": [
             [
              0,
              "#0d0887"
             ],
             [
              0.1111111111111111,
              "#46039f"
             ],
             [
              0.2222222222222222,
              "#7201a8"
             ],
             [
              0.3333333333333333,
              "#9c179e"
             ],
             [
              0.4444444444444444,
              "#bd3786"
             ],
             [
              0.5555555555555556,
              "#d8576b"
             ],
             [
              0.6666666666666666,
              "#ed7953"
             ],
             [
              0.7777777777777778,
              "#fb9f3a"
             ],
             [
              0.8888888888888888,
              "#fdca26"
             ],
             [
              1,
              "#f0f921"
             ]
            ],
            "type": "heatmapgl"
           }
          ],
          "histogram": [
           {
            "marker": {
             "colorbar": {
              "outlinewidth": 0,
              "ticks": ""
             }
            },
            "type": "histogram"
           }
          ],
          "histogram2d": [
           {
            "colorbar": {
             "outlinewidth": 0,
             "ticks": ""
            },
            "colorscale": [
             [
              0,
              "#0d0887"
             ],
             [
              0.1111111111111111,
              "#46039f"
             ],
             [
              0.2222222222222222,
              "#7201a8"
             ],
             [
              0.3333333333333333,
              "#9c179e"
             ],
             [
              0.4444444444444444,
              "#bd3786"
             ],
             [
              0.5555555555555556,
              "#d8576b"
             ],
             [
              0.6666666666666666,
              "#ed7953"
             ],
             [
              0.7777777777777778,
              "#fb9f3a"
             ],
             [
              0.8888888888888888,
              "#fdca26"
             ],
             [
              1,
              "#f0f921"
             ]
            ],
            "type": "histogram2d"
           }
          ],
          "histogram2dcontour": [
           {
            "colorbar": {
             "outlinewidth": 0,
             "ticks": ""
            },
            "colorscale": [
             [
              0,
              "#0d0887"
             ],
             [
              0.1111111111111111,
              "#46039f"
             ],
             [
              0.2222222222222222,
              "#7201a8"
             ],
             [
              0.3333333333333333,
              "#9c179e"
             ],
             [
              0.4444444444444444,
              "#bd3786"
             ],
             [
              0.5555555555555556,
              "#d8576b"
             ],
             [
              0.6666666666666666,
              "#ed7953"
             ],
             [
              0.7777777777777778,
              "#fb9f3a"
             ],
             [
              0.8888888888888888,
              "#fdca26"
             ],
             [
              1,
              "#f0f921"
             ]
            ],
            "type": "histogram2dcontour"
           }
          ],
          "mesh3d": [
           {
            "colorbar": {
             "outlinewidth": 0,
             "ticks": ""
            },
            "type": "mesh3d"
           }
          ],
          "parcoords": [
           {
            "line": {
             "colorbar": {
              "outlinewidth": 0,
              "ticks": ""
             }
            },
            "type": "parcoords"
           }
          ],
          "pie": [
           {
            "automargin": true,
            "type": "pie"
           }
          ],
          "scatter": [
           {
            "marker": {
             "colorbar": {
              "outlinewidth": 0,
              "ticks": ""
             }
            },
            "type": "scatter"
           }
          ],
          "scatter3d": [
           {
            "line": {
             "colorbar": {
              "outlinewidth": 0,
              "ticks": ""
             }
            },
            "marker": {
             "colorbar": {
              "outlinewidth": 0,
              "ticks": ""
             }
            },
            "type": "scatter3d"
           }
          ],
          "scattercarpet": [
           {
            "marker": {
             "colorbar": {
              "outlinewidth": 0,
              "ticks": ""
             }
            },
            "type": "scattercarpet"
           }
          ],
          "scattergeo": [
           {
            "marker": {
             "colorbar": {
              "outlinewidth": 0,
              "ticks": ""
             }
            },
            "type": "scattergeo"
           }
          ],
          "scattergl": [
           {
            "marker": {
             "colorbar": {
              "outlinewidth": 0,
              "ticks": ""
             }
            },
            "type": "scattergl"
           }
          ],
          "scattermapbox": [
           {
            "marker": {
             "colorbar": {
              "outlinewidth": 0,
              "ticks": ""
             }
            },
            "type": "scattermapbox"
           }
          ],
          "scatterpolar": [
           {
            "marker": {
             "colorbar": {
              "outlinewidth": 0,
              "ticks": ""
             }
            },
            "type": "scatterpolar"
           }
          ],
          "scatterpolargl": [
           {
            "marker": {
             "colorbar": {
              "outlinewidth": 0,
              "ticks": ""
             }
            },
            "type": "scatterpolargl"
           }
          ],
          "scatterternary": [
           {
            "marker": {
             "colorbar": {
              "outlinewidth": 0,
              "ticks": ""
             }
            },
            "type": "scatterternary"
           }
          ],
          "surface": [
           {
            "colorbar": {
             "outlinewidth": 0,
             "ticks": ""
            },
            "colorscale": [
             [
              0,
              "#0d0887"
             ],
             [
              0.1111111111111111,
              "#46039f"
             ],
             [
              0.2222222222222222,
              "#7201a8"
             ],
             [
              0.3333333333333333,
              "#9c179e"
             ],
             [
              0.4444444444444444,
              "#bd3786"
             ],
             [
              0.5555555555555556,
              "#d8576b"
             ],
             [
              0.6666666666666666,
              "#ed7953"
             ],
             [
              0.7777777777777778,
              "#fb9f3a"
             ],
             [
              0.8888888888888888,
              "#fdca26"
             ],
             [
              1,
              "#f0f921"
             ]
            ],
            "type": "surface"
           }
          ],
          "table": [
           {
            "cells": {
             "fill": {
              "color": "#EBF0F8"
             },
             "line": {
              "color": "white"
             }
            },
            "header": {
             "fill": {
              "color": "#C8D4E3"
             },
             "line": {
              "color": "white"
             }
            },
            "type": "table"
           }
          ]
         },
         "layout": {
          "annotationdefaults": {
           "arrowcolor": "#2a3f5f",
           "arrowhead": 0,
           "arrowwidth": 1
          },
          "autotypenumbers": "strict",
          "coloraxis": {
           "colorbar": {
            "outlinewidth": 0,
            "ticks": ""
           }
          },
          "colorscale": {
           "diverging": [
            [
             0,
             "#8e0152"
            ],
            [
             0.1,
             "#c51b7d"
            ],
            [
             0.2,
             "#de77ae"
            ],
            [
             0.3,
             "#f1b6da"
            ],
            [
             0.4,
             "#fde0ef"
            ],
            [
             0.5,
             "#f7f7f7"
            ],
            [
             0.6,
             "#e6f5d0"
            ],
            [
             0.7,
             "#b8e186"
            ],
            [
             0.8,
             "#7fbc41"
            ],
            [
             0.9,
             "#4d9221"
            ],
            [
             1,
             "#276419"
            ]
           ],
           "sequential": [
            [
             0,
             "#0d0887"
            ],
            [
             0.1111111111111111,
             "#46039f"
            ],
            [
             0.2222222222222222,
             "#7201a8"
            ],
            [
             0.3333333333333333,
             "#9c179e"
            ],
            [
             0.4444444444444444,
             "#bd3786"
            ],
            [
             0.5555555555555556,
             "#d8576b"
            ],
            [
             0.6666666666666666,
             "#ed7953"
            ],
            [
             0.7777777777777778,
             "#fb9f3a"
            ],
            [
             0.8888888888888888,
             "#fdca26"
            ],
            [
             1,
             "#f0f921"
            ]
           ],
           "sequentialminus": [
            [
             0,
             "#0d0887"
            ],
            [
             0.1111111111111111,
             "#46039f"
            ],
            [
             0.2222222222222222,
             "#7201a8"
            ],
            [
             0.3333333333333333,
             "#9c179e"
            ],
            [
             0.4444444444444444,
             "#bd3786"
            ],
            [
             0.5555555555555556,
             "#d8576b"
            ],
            [
             0.6666666666666666,
             "#ed7953"
            ],
            [
             0.7777777777777778,
             "#fb9f3a"
            ],
            [
             0.8888888888888888,
             "#fdca26"
            ],
            [
             1,
             "#f0f921"
            ]
           ]
          },
          "colorway": [
           "#636efa",
           "#EF553B",
           "#00cc96",
           "#ab63fa",
           "#FFA15A",
           "#19d3f3",
           "#FF6692",
           "#B6E880",
           "#FF97FF",
           "#FECB52"
          ],
          "font": {
           "color": "#2a3f5f"
          },
          "geo": {
           "bgcolor": "white",
           "lakecolor": "white",
           "landcolor": "#E5ECF6",
           "showlakes": true,
           "showland": true,
           "subunitcolor": "white"
          },
          "hoverlabel": {
           "align": "left"
          },
          "hovermode": "closest",
          "mapbox": {
           "style": "light"
          },
          "paper_bgcolor": "white",
          "plot_bgcolor": "#E5ECF6",
          "polar": {
           "angularaxis": {
            "gridcolor": "white",
            "linecolor": "white",
            "ticks": ""
           },
           "bgcolor": "#E5ECF6",
           "radialaxis": {
            "gridcolor": "white",
            "linecolor": "white",
            "ticks": ""
           }
          },
          "scene": {
           "xaxis": {
            "backgroundcolor": "#E5ECF6",
            "gridcolor": "white",
            "gridwidth": 2,
            "linecolor": "white",
            "showbackground": true,
            "ticks": "",
            "zerolinecolor": "white"
           },
           "yaxis": {
            "backgroundcolor": "#E5ECF6",
            "gridcolor": "white",
            "gridwidth": 2,
            "linecolor": "white",
            "showbackground": true,
            "ticks": "",
            "zerolinecolor": "white"
           },
           "zaxis": {
            "backgroundcolor": "#E5ECF6",
            "gridcolor": "white",
            "gridwidth": 2,
            "linecolor": "white",
            "showbackground": true,
            "ticks": "",
            "zerolinecolor": "white"
           }
          },
          "shapedefaults": {
           "line": {
            "color": "#2a3f5f"
           }
          },
          "ternary": {
           "aaxis": {
            "gridcolor": "white",
            "linecolor": "white",
            "ticks": ""
           },
           "baxis": {
            "gridcolor": "white",
            "linecolor": "white",
            "ticks": ""
           },
           "bgcolor": "#E5ECF6",
           "caxis": {
            "gridcolor": "white",
            "linecolor": "white",
            "ticks": ""
           }
          },
          "title": {
           "x": 0.05
          },
          "xaxis": {
           "automargin": true,
           "gridcolor": "white",
           "linecolor": "white",
           "ticks": "",
           "title": {
            "standoff": 15
           },
           "zerolinecolor": "white",
           "zerolinewidth": 2
          },
          "yaxis": {
           "automargin": true,
           "gridcolor": "white",
           "linecolor": "white",
           "ticks": "",
           "title": {
            "standoff": 15
           },
           "zerolinecolor": "white",
           "zerolinewidth": 2
          }
         }
        },
        "title": {
         "font": {
          "size": 30
         },
         "text": "Population of China"
        },
        "xaxis": {
         "title": {
          "font": {
           "size": 20
          },
          "text": "Year"
         }
        },
        "yaxis": {
         "title": {
          "font": {
           "size": 20
          },
          "text": "Population"
         }
        }
       }
      },
      "text/html": [
       "<div>                            <div id=\"d486d3f6-d7d0-4fd1-a359-300f5d114770\" class=\"plotly-graph-div\" style=\"height:525px; width:100%;\"></div>            <script type=\"text/javascript\">                require([\"plotly\"], function(Plotly) {                    window.PLOTLYENV=window.PLOTLYENV || {};                                    if (document.getElementById(\"d486d3f6-d7d0-4fd1-a359-300f5d114770\")) {                    Plotly.newPlot(                        \"d486d3f6-d7d0-4fd1-a359-300f5d114770\",                        [{\"name\": \"Female\", \"type\": \"bar\", \"x\": [1961, 1962, 1963, 1964, 1965, 1966, 1967, 1968, 1969, 1970, 1971, 1972, 1973, 1974, 1975, 1976, 1977, 1978, 1979, 1980, 1981, 1982, 1983, 1984, 1985, 1986, 1987, 1988, 1989, 1990, 1991, 1992, 1993, 1994, 1995, 1996, 1997, 1998, 1999, 2000, 2001, 2002, 2003, 2004, 2005, 2006, 2007, 2008, 2009, 2010, 2011, 2012, 2013, 2014, 2015, 2016, 2017, 2018, 2019], \"y\": [320153437.0, 322953588.0, 331140640.0, 339068212.0, 347401432.0, 357394687.0, 366879507.0, 376753699.0, 387362696.0, 398315770.0, 409475913.0, 419696503.0, 429398133.0, 438355316.0, 446155493.0, 453096478.0, 459292487.0, 465460554.0, 471700516.0, 477656979.0, 483835348.0, 491049203.0, 498238544.0, 504855230.0, 511798492.0, 519471732.0, 527858967.0, 536408672.0, 544679377.0, 552721134.0, 560312586.0, 567224558.0, 573790071.0, 580322015.0, 586672507.0, 592868311.0, 598982994.0, 604764109.0, 610004104.0, 614775825.0, 619165993.0, 623205125.0, 626956157.0, 630545489.0, 634130240.0, 637560457.0, 640793072.0, 644001246.0, 647159372.0, 650275748.0, 653422748.0, 656677290.0, 660023537.0, 663493378.0, 667009225.0, 670780903.0, 674707818.0, 677972245.0, 680596325.0]}, {\"name\": \"Male\", \"type\": \"bar\", \"x\": [1961, 1962, 1963, 1964, 1965, 1966, 1967, 1968, 1969, 1970, 1971, 1972, 1973, 1974, 1975, 1976, 1977, 1978, 1979, 1980, 1981, 1982, 1983, 1984, 1985, 1986, 1987, 1988, 1989, 1990, 1991, 1992, 1993, 1994, 1995, 1996, 1997, 1998, 1999, 2000, 2001, 2002, 2003, 2004, 2005, 2006, 2007, 2008, 2009, 2010, 2011, 2012, 2013, 2014, 2015, 2016, 2017, 2018, 2019], \"y\": [340176563.0, 342816412.0, 351194360.0, 359286788.0, 367783568.0, 378005313.0, 387670493.0, 397756301.0, 408662304.0, 419999230.0, 431629087.0, 442333497.0, 452541867.0, 461994684.0, 470239507.0, 477588522.0, 484162513.0, 490704446.0, 497304484.0, 503578021.0, 510049652.0, 517580797.0, 525071456.0, 531969770.0, 539241508.0, 547318268.0, 556176033.0, 565221328.0, 573970623.0, 582463866.0, 590467414.0, 597745442.0, 604649929.0, 611512985.0, 618182493.0, 624681689.0, 631092006.0, 637170891.0, 642730896.0, 647869175.0, 652684007.0, 657194875.0, 661443843.0, 665529511.0, 669589760.0, 673459543.0, 677091928.0, 680653754.0, 684100628.0, 687429252.0, 690707252.0, 694017710.0, 697356463.0, 700776622.0, 704210775.0, 707884097.0, 711687182.0, 714757755.0, 717118675.0]}],                        {\"barmode\": \"stack\", \"template\": {\"data\": {\"bar\": [{\"error_x\": {\"color\": \"#2a3f5f\"}, \"error_y\": {\"color\": \"#2a3f5f\"}, \"marker\": {\"line\": {\"color\": \"#E5ECF6\", \"width\": 0.5}}, \"type\": \"bar\"}], \"barpolar\": [{\"marker\": {\"line\": {\"color\": \"#E5ECF6\", \"width\": 0.5}}, \"type\": \"barpolar\"}], \"carpet\": [{\"aaxis\": {\"endlinecolor\": \"#2a3f5f\", \"gridcolor\": \"white\", \"linecolor\": \"white\", \"minorgridcolor\": \"white\", \"startlinecolor\": \"#2a3f5f\"}, \"baxis\": {\"endlinecolor\": \"#2a3f5f\", \"gridcolor\": \"white\", \"linecolor\": \"white\", \"minorgridcolor\": \"white\", \"startlinecolor\": \"#2a3f5f\"}, \"type\": \"carpet\"}], \"choropleth\": [{\"colorbar\": {\"outlinewidth\": 0, \"ticks\": \"\"}, \"type\": \"choropleth\"}], \"contour\": [{\"colorbar\": {\"outlinewidth\": 0, \"ticks\": \"\"}, \"colorscale\": [[0.0, \"#0d0887\"], [0.1111111111111111, \"#46039f\"], [0.2222222222222222, \"#7201a8\"], [0.3333333333333333, \"#9c179e\"], [0.4444444444444444, \"#bd3786\"], [0.5555555555555556, \"#d8576b\"], [0.6666666666666666, \"#ed7953\"], [0.7777777777777778, \"#fb9f3a\"], [0.8888888888888888, \"#fdca26\"], [1.0, \"#f0f921\"]], \"type\": \"contour\"}], \"contourcarpet\": [{\"colorbar\": {\"outlinewidth\": 0, \"ticks\": \"\"}, \"type\": \"contourcarpet\"}], \"heatmap\": [{\"colorbar\": {\"outlinewidth\": 0, \"ticks\": \"\"}, \"colorscale\": [[0.0, \"#0d0887\"], [0.1111111111111111, \"#46039f\"], [0.2222222222222222, \"#7201a8\"], [0.3333333333333333, \"#9c179e\"], [0.4444444444444444, \"#bd3786\"], [0.5555555555555556, \"#d8576b\"], [0.6666666666666666, \"#ed7953\"], [0.7777777777777778, \"#fb9f3a\"], [0.8888888888888888, \"#fdca26\"], [1.0, \"#f0f921\"]], \"type\": \"heatmap\"}], \"heatmapgl\": [{\"colorbar\": {\"outlinewidth\": 0, \"ticks\": \"\"}, \"colorscale\": [[0.0, \"#0d0887\"], [0.1111111111111111, \"#46039f\"], [0.2222222222222222, \"#7201a8\"], [0.3333333333333333, \"#9c179e\"], [0.4444444444444444, \"#bd3786\"], [0.5555555555555556, \"#d8576b\"], [0.6666666666666666, \"#ed7953\"], [0.7777777777777778, \"#fb9f3a\"], [0.8888888888888888, \"#fdca26\"], [1.0, \"#f0f921\"]], \"type\": \"heatmapgl\"}], \"histogram\": [{\"marker\": {\"colorbar\": {\"outlinewidth\": 0, \"ticks\": \"\"}}, \"type\": \"histogram\"}], \"histogram2d\": [{\"colorbar\": {\"outlinewidth\": 0, \"ticks\": \"\"}, \"colorscale\": [[0.0, \"#0d0887\"], [0.1111111111111111, \"#46039f\"], [0.2222222222222222, \"#7201a8\"], [0.3333333333333333, \"#9c179e\"], [0.4444444444444444, \"#bd3786\"], [0.5555555555555556, \"#d8576b\"], [0.6666666666666666, \"#ed7953\"], [0.7777777777777778, \"#fb9f3a\"], [0.8888888888888888, \"#fdca26\"], [1.0, \"#f0f921\"]], \"type\": \"histogram2d\"}], \"histogram2dcontour\": [{\"colorbar\": {\"outlinewidth\": 0, \"ticks\": \"\"}, \"colorscale\": [[0.0, \"#0d0887\"], [0.1111111111111111, \"#46039f\"], [0.2222222222222222, \"#7201a8\"], [0.3333333333333333, \"#9c179e\"], [0.4444444444444444, \"#bd3786\"], [0.5555555555555556, \"#d8576b\"], [0.6666666666666666, \"#ed7953\"], [0.7777777777777778, \"#fb9f3a\"], [0.8888888888888888, \"#fdca26\"], [1.0, \"#f0f921\"]], \"type\": \"histogram2dcontour\"}], \"mesh3d\": [{\"colorbar\": {\"outlinewidth\": 0, \"ticks\": \"\"}, \"type\": \"mesh3d\"}], \"parcoords\": [{\"line\": {\"colorbar\": {\"outlinewidth\": 0, \"ticks\": \"\"}}, \"type\": \"parcoords\"}], \"pie\": [{\"automargin\": true, \"type\": \"pie\"}], \"scatter\": [{\"marker\": {\"colorbar\": {\"outlinewidth\": 0, \"ticks\": \"\"}}, \"type\": \"scatter\"}], \"scatter3d\": [{\"line\": {\"colorbar\": {\"outlinewidth\": 0, \"ticks\": \"\"}}, \"marker\": {\"colorbar\": {\"outlinewidth\": 0, \"ticks\": \"\"}}, \"type\": \"scatter3d\"}], \"scattercarpet\": [{\"marker\": {\"colorbar\": {\"outlinewidth\": 0, \"ticks\": \"\"}}, \"type\": \"scattercarpet\"}], \"scattergeo\": [{\"marker\": {\"colorbar\": {\"outlinewidth\": 0, \"ticks\": \"\"}}, \"type\": \"scattergeo\"}], \"scattergl\": [{\"marker\": {\"colorbar\": {\"outlinewidth\": 0, \"ticks\": \"\"}}, \"type\": \"scattergl\"}], \"scattermapbox\": [{\"marker\": {\"colorbar\": {\"outlinewidth\": 0, \"ticks\": \"\"}}, \"type\": \"scattermapbox\"}], \"scatterpolar\": [{\"marker\": {\"colorbar\": {\"outlinewidth\": 0, \"ticks\": \"\"}}, \"type\": \"scatterpolar\"}], \"scatterpolargl\": [{\"marker\": {\"colorbar\": {\"outlinewidth\": 0, \"ticks\": \"\"}}, \"type\": \"scatterpolargl\"}], \"scatterternary\": [{\"marker\": {\"colorbar\": {\"outlinewidth\": 0, \"ticks\": \"\"}}, \"type\": \"scatterternary\"}], \"surface\": [{\"colorbar\": {\"outlinewidth\": 0, \"ticks\": \"\"}, \"colorscale\": [[0.0, \"#0d0887\"], [0.1111111111111111, \"#46039f\"], [0.2222222222222222, \"#7201a8\"], [0.3333333333333333, \"#9c179e\"], [0.4444444444444444, \"#bd3786\"], [0.5555555555555556, \"#d8576b\"], [0.6666666666666666, \"#ed7953\"], [0.7777777777777778, \"#fb9f3a\"], [0.8888888888888888, \"#fdca26\"], [1.0, \"#f0f921\"]], \"type\": \"surface\"}], \"table\": [{\"cells\": {\"fill\": {\"color\": \"#EBF0F8\"}, \"line\": {\"color\": \"white\"}}, \"header\": {\"fill\": {\"color\": \"#C8D4E3\"}, \"line\": {\"color\": \"white\"}}, \"type\": \"table\"}]}, \"layout\": {\"annotationdefaults\": {\"arrowcolor\": \"#2a3f5f\", \"arrowhead\": 0, \"arrowwidth\": 1}, \"autotypenumbers\": \"strict\", \"coloraxis\": {\"colorbar\": {\"outlinewidth\": 0, \"ticks\": \"\"}}, \"colorscale\": {\"diverging\": [[0, \"#8e0152\"], [0.1, \"#c51b7d\"], [0.2, \"#de77ae\"], [0.3, \"#f1b6da\"], [0.4, \"#fde0ef\"], [0.5, \"#f7f7f7\"], [0.6, \"#e6f5d0\"], [0.7, \"#b8e186\"], [0.8, \"#7fbc41\"], [0.9, \"#4d9221\"], [1, \"#276419\"]], \"sequential\": [[0.0, \"#0d0887\"], [0.1111111111111111, \"#46039f\"], [0.2222222222222222, \"#7201a8\"], [0.3333333333333333, \"#9c179e\"], [0.4444444444444444, \"#bd3786\"], [0.5555555555555556, \"#d8576b\"], [0.6666666666666666, \"#ed7953\"], [0.7777777777777778, \"#fb9f3a\"], [0.8888888888888888, \"#fdca26\"], [1.0, \"#f0f921\"]], \"sequentialminus\": [[0.0, \"#0d0887\"], [0.1111111111111111, \"#46039f\"], [0.2222222222222222, \"#7201a8\"], [0.3333333333333333, \"#9c179e\"], [0.4444444444444444, \"#bd3786\"], [0.5555555555555556, \"#d8576b\"], [0.6666666666666666, \"#ed7953\"], [0.7777777777777778, \"#fb9f3a\"], [0.8888888888888888, \"#fdca26\"], [1.0, \"#f0f921\"]]}, \"colorway\": [\"#636efa\", \"#EF553B\", \"#00cc96\", \"#ab63fa\", \"#FFA15A\", \"#19d3f3\", \"#FF6692\", \"#B6E880\", \"#FF97FF\", \"#FECB52\"], \"font\": {\"color\": \"#2a3f5f\"}, \"geo\": {\"bgcolor\": \"white\", \"lakecolor\": \"white\", \"landcolor\": \"#E5ECF6\", \"showlakes\": true, \"showland\": true, \"subunitcolor\": \"white\"}, \"hoverlabel\": {\"align\": \"left\"}, \"hovermode\": \"closest\", \"mapbox\": {\"style\": \"light\"}, \"paper_bgcolor\": \"white\", \"plot_bgcolor\": \"#E5ECF6\", \"polar\": {\"angularaxis\": {\"gridcolor\": \"white\", \"linecolor\": \"white\", \"ticks\": \"\"}, \"bgcolor\": \"#E5ECF6\", \"radialaxis\": {\"gridcolor\": \"white\", \"linecolor\": \"white\", \"ticks\": \"\"}}, \"scene\": {\"xaxis\": {\"backgroundcolor\": \"#E5ECF6\", \"gridcolor\": \"white\", \"gridwidth\": 2, \"linecolor\": \"white\", \"showbackground\": true, \"ticks\": \"\", \"zerolinecolor\": \"white\"}, \"yaxis\": {\"backgroundcolor\": \"#E5ECF6\", \"gridcolor\": \"white\", \"gridwidth\": 2, \"linecolor\": \"white\", \"showbackground\": true, \"ticks\": \"\", \"zerolinecolor\": \"white\"}, \"zaxis\": {\"backgroundcolor\": \"#E5ECF6\", \"gridcolor\": \"white\", \"gridwidth\": 2, \"linecolor\": \"white\", \"showbackground\": true, \"ticks\": \"\", \"zerolinecolor\": \"white\"}}, \"shapedefaults\": {\"line\": {\"color\": \"#2a3f5f\"}}, \"ternary\": {\"aaxis\": {\"gridcolor\": \"white\", \"linecolor\": \"white\", \"ticks\": \"\"}, \"baxis\": {\"gridcolor\": \"white\", \"linecolor\": \"white\", \"ticks\": \"\"}, \"bgcolor\": \"#E5ECF6\", \"caxis\": {\"gridcolor\": \"white\", \"linecolor\": \"white\", \"ticks\": \"\"}}, \"title\": {\"x\": 0.05}, \"xaxis\": {\"automargin\": true, \"gridcolor\": \"white\", \"linecolor\": \"white\", \"ticks\": \"\", \"title\": {\"standoff\": 15}, \"zerolinecolor\": \"white\", \"zerolinewidth\": 2}, \"yaxis\": {\"automargin\": true, \"gridcolor\": \"white\", \"linecolor\": \"white\", \"ticks\": \"\", \"title\": {\"standoff\": 15}, \"zerolinecolor\": \"white\", \"zerolinewidth\": 2}}}, \"title\": {\"font\": {\"size\": 30}, \"text\": \"Population of China\"}, \"xaxis\": {\"title\": {\"font\": {\"size\": 20}, \"text\": \"Year\"}}, \"yaxis\": {\"title\": {\"font\": {\"size\": 20}, \"text\": \"Population\"}}},                        {\"responsive\": true}                    ).then(function(){\n",
       "                            \n",
       "var gd = document.getElementById('d486d3f6-d7d0-4fd1-a359-300f5d114770');\n",
       "var x = new MutationObserver(function (mutations, observer) {{\n",
       "        var display = window.getComputedStyle(gd).display;\n",
       "        if (!display || display === 'none') {{\n",
       "            console.log([gd, 'removed!']);\n",
       "            Plotly.purge(gd);\n",
       "            observer.disconnect();\n",
       "        }}\n",
       "}});\n",
       "\n",
       "// Listen for the removal of the full notebook cells\n",
       "var notebookContainer = gd.closest('#notebook-container');\n",
       "if (notebookContainer) {{\n",
       "    x.observe(notebookContainer, {childList: true});\n",
       "}}\n",
       "\n",
       "// Listen for the clearing of the current output cell\n",
       "var outputEl = gd.closest('.output');\n",
       "if (outputEl) {{\n",
       "    x.observe(outputEl, {childList: true});\n",
       "}}\n",
       "\n",
       "                        })                };                });            </script>        </div>"
      ]
     },
     "metadata": {},
     "output_type": "display_data"
    }
   ],
   "source": [
    "import plotly.graph_objects as go\n",
    "import numpy as np\n",
    "\n",
    "#Population data from Lecture 1's wbdata\n",
    "\n",
    "china_fe_population = [320153437.0, 322953588.0, 331140640.0, 339068212.0, 347401432.0, 357394687.0, 366879507.0, 376753699.0,\n",
    "                       387362696.0, 398315770.0, 409475913.0, 419696503.0, 429398133.0, 438355316.0, 446155493.0, 453096478.0,\n",
    "                       459292487.0, 465460554.0, 471700516.0, 477656979.0, 483835348.0, 491049203.0, 498238544.0, 504855230.0,\n",
    "                       511798492.0, 519471732.0, 527858967.0, 536408672.0, 544679377.0, 552721134.0, 560312586.0, 567224558.0,\n",
    "                       573790071.0, 580322015.0, 586672507.0, 592868311.0, 598982994.0, 604764109.0, 610004104.0, 614775825.0,\n",
    "                       619165993.0, 623205125.0, 626956157.0, 630545489.0, 634130240.0, 637560457.0, 640793072.0, 644001246.0,\n",
    "                       647159372.0, 650275748.0, 653422748.0, 656677290.0, 660023537.0, 663493378.0, 667009225.0, 670780903.0,\n",
    "                       674707818.0, 677972245.0, 680596325.0\n",
    "                      ]\n",
    "\n",
    "china_ma_population = [340176563.0, 342816412.0, 351194360.0, 359286788.0, 367783568.0, 378005313.0, 387670493.0, 397756301.0,\n",
    "                       408662304.0, 419999230.0, 431629087.0, 442333497.0, 452541867.0, 461994684.0, 470239507.0, 477588522.0,\n",
    "                       484162513.0, 490704446.0, 497304484.0, 503578021.0, 510049652.0, 517580797.0, 525071456.0, 531969770.0,\n",
    "                       539241508.0, 547318268.0, 556176033.0, 565221328.0, 573970623.0, 582463866.0, 590467414.0, 597745442.0,\n",
    "                       604649929.0, 611512985.0, 618182493.0, 624681689.0, 631092006.0, 637170891.0, 642730896.0, 647869175.0, \n",
    "                       652684007.0, 657194875.0, 661443843.0, 665529511.0, 669589760.0, 673459543.0, 677091928.0, 680653754.0,\n",
    "                       684100628.0, 687429252.0, 690707252.0, 694017710.0, 697356463.0, 700776622.0, 704210775.0, 707884097.0,\n",
    "                       711687182.0, 714757755.0, 717118675.0\n",
    "                      ]\n",
    "\n",
    "x=np.arange(1961, 2020, 1)\n",
    "fig1 = go.Figure(go.Bar(x=x, y=china_fe_population, name='Female'))\n",
    "fig1.add_trace(go.Bar(x=x, y=china_ma_population, name='Male'))\n",
    "\n",
    "fig1.update_layout(barmode='stack', xaxis = dict(title='Year', titlefont_size=20),\n",
    "                  yaxis = dict(title='Population', titlefont_size=20), title = \"Population of China\", titlefont_size=30)\n",
    "fig1.show()"
   ]
  },
  {
   "cell_type": "code",
   "execution_count": 2,
   "metadata": {},
   "outputs": [
    {
     "data": {
      "application/vnd.plotly.v1+json": {
       "config": {
        "plotlyServerURL": "https://plot.ly"
       },
       "data": [
        {
         "name": "Female",
         "type": "bar",
         "x": [
          1961,
          1962,
          1963,
          1964,
          1965,
          1966,
          1967,
          1968,
          1969,
          1970,
          1971,
          1972,
          1973,
          1974,
          1975,
          1976,
          1977,
          1978,
          1979,
          1980,
          1981,
          1982,
          1983,
          1984,
          1985,
          1986,
          1987,
          1988,
          1989,
          1990,
          1991,
          1992,
          1993,
          1994,
          1995,
          1996,
          1997,
          1998,
          1999,
          2000,
          2001,
          2002,
          2003,
          2004,
          2005,
          2006,
          2007,
          2008,
          2009,
          2010,
          2011,
          2012,
          2013,
          2014,
          2015,
          2016,
          2017,
          2018,
          2019
         ],
         "y": [
          222328744,
          226780736,
          231387197,
          236130819,
          241002417,
          245993499,
          251117415,
          256412983,
          261932711,
          267712745,
          273769665,
          280088829,
          286636580,
          293362998,
          300231624,
          307224285,
          314349666,
          321629370,
          329097304,
          336773405,
          344660920,
          352736218,
          360959428,
          369276873,
          377646918,
          386054077,
          394498853,
          402975459,
          411482899,
          420020420,
          428576056,
          437144411,
          445740100,
          454384942,
          463091989,
          471862699,
          480682703,
          489529545,
          498372775,
          507187684,
          515957245,
          524676538,
          533346646,
          541973977,
          550557712,
          559099816,
          567579951,
          575948780,
          584142640,
          592116985,
          599851725,
          607361114,
          614678382,
          621854638,
          628929065,
          635908885,
          642787641,
          649574719,
          656288183
         ]
        },
        {
         "name": "Male",
         "type": "bar",
         "x": [
          1961,
          1962,
          1963,
          1964,
          1965,
          1966,
          1967,
          1968,
          1969,
          1970,
          1971,
          1972,
          1973,
          1974,
          1975,
          1976,
          1977,
          1978,
          1979,
          1980,
          1981,
          1982,
          1983,
          1984,
          1985,
          1986,
          1987,
          1988,
          1989,
          1990,
          1991,
          1992,
          1993,
          1994,
          1995,
          1996,
          1997,
          1998,
          1999,
          2000,
          2001,
          2002,
          2003,
          2004,
          2005,
          2006,
          2007,
          2008,
          2009,
          2010,
          2011,
          2012,
          2013,
          2014,
          2015,
          2016,
          2017,
          2018,
          2019
         ],
         "y": [
          237313421,
          242296454,
          247438411,
          252717316,
          258120907,
          263638001,
          269283161,
          275100841,
          281151625,
          287477047,
          294098353,
          300998427,
          308133554,
          315439602,
          322871273,
          330405802,
          338059110,
          345870436,
          353898050,
          362179439,
          370724073,
          379503286,
          388469530,
          397556537,
          406713090,
          415921167,
          425183249,
          434493471,
          443851779,
          453257378,
          462697153,
          472162605,
          481663760,
          491216889,
          500830599,
          510502544,
          520217327,
          529954036,
          539685381,
          549387865,
          559042840,
          568640651,
          578176498,
          587649479,
          597052215,
          606386475,
          615629521,
          624720985,
          633583575,
          642164185,
          650437004,
          658421676,
          666167747,
          673749546,
          681223338,
          688600704,
          695871194,
          703042609,
          710129571
         ]
        }
       ],
       "layout": {
        "barmode": "stack",
        "template": {
         "data": {
          "bar": [
           {
            "error_x": {
             "color": "#2a3f5f"
            },
            "error_y": {
             "color": "#2a3f5f"
            },
            "marker": {
             "line": {
              "color": "#E5ECF6",
              "width": 0.5
             }
            },
            "type": "bar"
           }
          ],
          "barpolar": [
           {
            "marker": {
             "line": {
              "color": "#E5ECF6",
              "width": 0.5
             }
            },
            "type": "barpolar"
           }
          ],
          "carpet": [
           {
            "aaxis": {
             "endlinecolor": "#2a3f5f",
             "gridcolor": "white",
             "linecolor": "white",
             "minorgridcolor": "white",
             "startlinecolor": "#2a3f5f"
            },
            "baxis": {
             "endlinecolor": "#2a3f5f",
             "gridcolor": "white",
             "linecolor": "white",
             "minorgridcolor": "white",
             "startlinecolor": "#2a3f5f"
            },
            "type": "carpet"
           }
          ],
          "choropleth": [
           {
            "colorbar": {
             "outlinewidth": 0,
             "ticks": ""
            },
            "type": "choropleth"
           }
          ],
          "contour": [
           {
            "colorbar": {
             "outlinewidth": 0,
             "ticks": ""
            },
            "colorscale": [
             [
              0,
              "#0d0887"
             ],
             [
              0.1111111111111111,
              "#46039f"
             ],
             [
              0.2222222222222222,
              "#7201a8"
             ],
             [
              0.3333333333333333,
              "#9c179e"
             ],
             [
              0.4444444444444444,
              "#bd3786"
             ],
             [
              0.5555555555555556,
              "#d8576b"
             ],
             [
              0.6666666666666666,
              "#ed7953"
             ],
             [
              0.7777777777777778,
              "#fb9f3a"
             ],
             [
              0.8888888888888888,
              "#fdca26"
             ],
             [
              1,
              "#f0f921"
             ]
            ],
            "type": "contour"
           }
          ],
          "contourcarpet": [
           {
            "colorbar": {
             "outlinewidth": 0,
             "ticks": ""
            },
            "type": "contourcarpet"
           }
          ],
          "heatmap": [
           {
            "colorbar": {
             "outlinewidth": 0,
             "ticks": ""
            },
            "colorscale": [
             [
              0,
              "#0d0887"
             ],
             [
              0.1111111111111111,
              "#46039f"
             ],
             [
              0.2222222222222222,
              "#7201a8"
             ],
             [
              0.3333333333333333,
              "#9c179e"
             ],
             [
              0.4444444444444444,
              "#bd3786"
             ],
             [
              0.5555555555555556,
              "#d8576b"
             ],
             [
              0.6666666666666666,
              "#ed7953"
             ],
             [
              0.7777777777777778,
              "#fb9f3a"
             ],
             [
              0.8888888888888888,
              "#fdca26"
             ],
             [
              1,
              "#f0f921"
             ]
            ],
            "type": "heatmap"
           }
          ],
          "heatmapgl": [
           {
            "colorbar": {
             "outlinewidth": 0,
             "ticks": ""
            },
            "colorscale": [
             [
              0,
              "#0d0887"
             ],
             [
              0.1111111111111111,
              "#46039f"
             ],
             [
              0.2222222222222222,
              "#7201a8"
             ],
             [
              0.3333333333333333,
              "#9c179e"
             ],
             [
              0.4444444444444444,
              "#bd3786"
             ],
             [
              0.5555555555555556,
              "#d8576b"
             ],
             [
              0.6666666666666666,
              "#ed7953"
             ],
             [
              0.7777777777777778,
              "#fb9f3a"
             ],
             [
              0.8888888888888888,
              "#fdca26"
             ],
             [
              1,
              "#f0f921"
             ]
            ],
            "type": "heatmapgl"
           }
          ],
          "histogram": [
           {
            "marker": {
             "colorbar": {
              "outlinewidth": 0,
              "ticks": ""
             }
            },
            "type": "histogram"
           }
          ],
          "histogram2d": [
           {
            "colorbar": {
             "outlinewidth": 0,
             "ticks": ""
            },
            "colorscale": [
             [
              0,
              "#0d0887"
             ],
             [
              0.1111111111111111,
              "#46039f"
             ],
             [
              0.2222222222222222,
              "#7201a8"
             ],
             [
              0.3333333333333333,
              "#9c179e"
             ],
             [
              0.4444444444444444,
              "#bd3786"
             ],
             [
              0.5555555555555556,
              "#d8576b"
             ],
             [
              0.6666666666666666,
              "#ed7953"
             ],
             [
              0.7777777777777778,
              "#fb9f3a"
             ],
             [
              0.8888888888888888,
              "#fdca26"
             ],
             [
              1,
              "#f0f921"
             ]
            ],
            "type": "histogram2d"
           }
          ],
          "histogram2dcontour": [
           {
            "colorbar": {
             "outlinewidth": 0,
             "ticks": ""
            },
            "colorscale": [
             [
              0,
              "#0d0887"
             ],
             [
              0.1111111111111111,
              "#46039f"
             ],
             [
              0.2222222222222222,
              "#7201a8"
             ],
             [
              0.3333333333333333,
              "#9c179e"
             ],
             [
              0.4444444444444444,
              "#bd3786"
             ],
             [
              0.5555555555555556,
              "#d8576b"
             ],
             [
              0.6666666666666666,
              "#ed7953"
             ],
             [
              0.7777777777777778,
              "#fb9f3a"
             ],
             [
              0.8888888888888888,
              "#fdca26"
             ],
             [
              1,
              "#f0f921"
             ]
            ],
            "type": "histogram2dcontour"
           }
          ],
          "mesh3d": [
           {
            "colorbar": {
             "outlinewidth": 0,
             "ticks": ""
            },
            "type": "mesh3d"
           }
          ],
          "parcoords": [
           {
            "line": {
             "colorbar": {
              "outlinewidth": 0,
              "ticks": ""
             }
            },
            "type": "parcoords"
           }
          ],
          "pie": [
           {
            "automargin": true,
            "type": "pie"
           }
          ],
          "scatter": [
           {
            "marker": {
             "colorbar": {
              "outlinewidth": 0,
              "ticks": ""
             }
            },
            "type": "scatter"
           }
          ],
          "scatter3d": [
           {
            "line": {
             "colorbar": {
              "outlinewidth": 0,
              "ticks": ""
             }
            },
            "marker": {
             "colorbar": {
              "outlinewidth": 0,
              "ticks": ""
             }
            },
            "type": "scatter3d"
           }
          ],
          "scattercarpet": [
           {
            "marker": {
             "colorbar": {
              "outlinewidth": 0,
              "ticks": ""
             }
            },
            "type": "scattercarpet"
           }
          ],
          "scattergeo": [
           {
            "marker": {
             "colorbar": {
              "outlinewidth": 0,
              "ticks": ""
             }
            },
            "type": "scattergeo"
           }
          ],
          "scattergl": [
           {
            "marker": {
             "colorbar": {
              "outlinewidth": 0,
              "ticks": ""
             }
            },
            "type": "scattergl"
           }
          ],
          "scattermapbox": [
           {
            "marker": {
             "colorbar": {
              "outlinewidth": 0,
              "ticks": ""
             }
            },
            "type": "scattermapbox"
           }
          ],
          "scatterpolar": [
           {
            "marker": {
             "colorbar": {
              "outlinewidth": 0,
              "ticks": ""
             }
            },
            "type": "scatterpolar"
           }
          ],
          "scatterpolargl": [
           {
            "marker": {
             "colorbar": {
              "outlinewidth": 0,
              "ticks": ""
             }
            },
            "type": "scatterpolargl"
           }
          ],
          "scatterternary": [
           {
            "marker": {
             "colorbar": {
              "outlinewidth": 0,
              "ticks": ""
             }
            },
            "type": "scatterternary"
           }
          ],
          "surface": [
           {
            "colorbar": {
             "outlinewidth": 0,
             "ticks": ""
            },
            "colorscale": [
             [
              0,
              "#0d0887"
             ],
             [
              0.1111111111111111,
              "#46039f"
             ],
             [
              0.2222222222222222,
              "#7201a8"
             ],
             [
              0.3333333333333333,
              "#9c179e"
             ],
             [
              0.4444444444444444,
              "#bd3786"
             ],
             [
              0.5555555555555556,
              "#d8576b"
             ],
             [
              0.6666666666666666,
              "#ed7953"
             ],
             [
              0.7777777777777778,
              "#fb9f3a"
             ],
             [
              0.8888888888888888,
              "#fdca26"
             ],
             [
              1,
              "#f0f921"
             ]
            ],
            "type": "surface"
           }
          ],
          "table": [
           {
            "cells": {
             "fill": {
              "color": "#EBF0F8"
             },
             "line": {
              "color": "white"
             }
            },
            "header": {
             "fill": {
              "color": "#C8D4E3"
             },
             "line": {
              "color": "white"
             }
            },
            "type": "table"
           }
          ]
         },
         "layout": {
          "annotationdefaults": {
           "arrowcolor": "#2a3f5f",
           "arrowhead": 0,
           "arrowwidth": 1
          },
          "autotypenumbers": "strict",
          "coloraxis": {
           "colorbar": {
            "outlinewidth": 0,
            "ticks": ""
           }
          },
          "colorscale": {
           "diverging": [
            [
             0,
             "#8e0152"
            ],
            [
             0.1,
             "#c51b7d"
            ],
            [
             0.2,
             "#de77ae"
            ],
            [
             0.3,
             "#f1b6da"
            ],
            [
             0.4,
             "#fde0ef"
            ],
            [
             0.5,
             "#f7f7f7"
            ],
            [
             0.6,
             "#e6f5d0"
            ],
            [
             0.7,
             "#b8e186"
            ],
            [
             0.8,
             "#7fbc41"
            ],
            [
             0.9,
             "#4d9221"
            ],
            [
             1,
             "#276419"
            ]
           ],
           "sequential": [
            [
             0,
             "#0d0887"
            ],
            [
             0.1111111111111111,
             "#46039f"
            ],
            [
             0.2222222222222222,
             "#7201a8"
            ],
            [
             0.3333333333333333,
             "#9c179e"
            ],
            [
             0.4444444444444444,
             "#bd3786"
            ],
            [
             0.5555555555555556,
             "#d8576b"
            ],
            [
             0.6666666666666666,
             "#ed7953"
            ],
            [
             0.7777777777777778,
             "#fb9f3a"
            ],
            [
             0.8888888888888888,
             "#fdca26"
            ],
            [
             1,
             "#f0f921"
            ]
           ],
           "sequentialminus": [
            [
             0,
             "#0d0887"
            ],
            [
             0.1111111111111111,
             "#46039f"
            ],
            [
             0.2222222222222222,
             "#7201a8"
            ],
            [
             0.3333333333333333,
             "#9c179e"
            ],
            [
             0.4444444444444444,
             "#bd3786"
            ],
            [
             0.5555555555555556,
             "#d8576b"
            ],
            [
             0.6666666666666666,
             "#ed7953"
            ],
            [
             0.7777777777777778,
             "#fb9f3a"
            ],
            [
             0.8888888888888888,
             "#fdca26"
            ],
            [
             1,
             "#f0f921"
            ]
           ]
          },
          "colorway": [
           "#636efa",
           "#EF553B",
           "#00cc96",
           "#ab63fa",
           "#FFA15A",
           "#19d3f3",
           "#FF6692",
           "#B6E880",
           "#FF97FF",
           "#FECB52"
          ],
          "font": {
           "color": "#2a3f5f"
          },
          "geo": {
           "bgcolor": "white",
           "lakecolor": "white",
           "landcolor": "#E5ECF6",
           "showlakes": true,
           "showland": true,
           "subunitcolor": "white"
          },
          "hoverlabel": {
           "align": "left"
          },
          "hovermode": "closest",
          "mapbox": {
           "style": "light"
          },
          "paper_bgcolor": "white",
          "plot_bgcolor": "#E5ECF6",
          "polar": {
           "angularaxis": {
            "gridcolor": "white",
            "linecolor": "white",
            "ticks": ""
           },
           "bgcolor": "#E5ECF6",
           "radialaxis": {
            "gridcolor": "white",
            "linecolor": "white",
            "ticks": ""
           }
          },
          "scene": {
           "xaxis": {
            "backgroundcolor": "#E5ECF6",
            "gridcolor": "white",
            "gridwidth": 2,
            "linecolor": "white",
            "showbackground": true,
            "ticks": "",
            "zerolinecolor": "white"
           },
           "yaxis": {
            "backgroundcolor": "#E5ECF6",
            "gridcolor": "white",
            "gridwidth": 2,
            "linecolor": "white",
            "showbackground": true,
            "ticks": "",
            "zerolinecolor": "white"
           },
           "zaxis": {
            "backgroundcolor": "#E5ECF6",
            "gridcolor": "white",
            "gridwidth": 2,
            "linecolor": "white",
            "showbackground": true,
            "ticks": "",
            "zerolinecolor": "white"
           }
          },
          "shapedefaults": {
           "line": {
            "color": "#2a3f5f"
           }
          },
          "ternary": {
           "aaxis": {
            "gridcolor": "white",
            "linecolor": "white",
            "ticks": ""
           },
           "baxis": {
            "gridcolor": "white",
            "linecolor": "white",
            "ticks": ""
           },
           "bgcolor": "#E5ECF6",
           "caxis": {
            "gridcolor": "white",
            "linecolor": "white",
            "ticks": ""
           }
          },
          "title": {
           "x": 0.05
          },
          "xaxis": {
           "automargin": true,
           "gridcolor": "white",
           "linecolor": "white",
           "ticks": "",
           "title": {
            "standoff": 15
           },
           "zerolinecolor": "white",
           "zerolinewidth": 2
          },
          "yaxis": {
           "automargin": true,
           "gridcolor": "white",
           "linecolor": "white",
           "ticks": "",
           "title": {
            "standoff": 15
           },
           "zerolinecolor": "white",
           "zerolinewidth": 2
          }
         }
        },
        "title": {
         "font": {
          "size": 30
         },
         "text": "Population of India"
        },
        "xaxis": {
         "title": {
          "font": {
           "size": 20
          },
          "text": "Year"
         }
        },
        "yaxis": {
         "title": {
          "font": {
           "size": 20
          },
          "text": "Population"
         }
        }
       }
      },
      "text/html": [
       "<div>                            <div id=\"8f16162f-de2a-4ca6-84db-52082a4348c1\" class=\"plotly-graph-div\" style=\"height:525px; width:100%;\"></div>            <script type=\"text/javascript\">                require([\"plotly\"], function(Plotly) {                    window.PLOTLYENV=window.PLOTLYENV || {};                                    if (document.getElementById(\"8f16162f-de2a-4ca6-84db-52082a4348c1\")) {                    Plotly.newPlot(                        \"8f16162f-de2a-4ca6-84db-52082a4348c1\",                        [{\"name\": \"Female\", \"type\": \"bar\", \"x\": [1961, 1962, 1963, 1964, 1965, 1966, 1967, 1968, 1969, 1970, 1971, 1972, 1973, 1974, 1975, 1976, 1977, 1978, 1979, 1980, 1981, 1982, 1983, 1984, 1985, 1986, 1987, 1988, 1989, 1990, 1991, 1992, 1993, 1994, 1995, 1996, 1997, 1998, 1999, 2000, 2001, 2002, 2003, 2004, 2005, 2006, 2007, 2008, 2009, 2010, 2011, 2012, 2013, 2014, 2015, 2016, 2017, 2018, 2019], \"y\": [222328744.0, 226780736.0, 231387197.0, 236130819.0, 241002417.0, 245993499.0, 251117415.0, 256412983.0, 261932711.0, 267712745.0, 273769665.0, 280088829.0, 286636580.0, 293362998.0, 300231624.0, 307224285.0, 314349666.0, 321629370.0, 329097304.0, 336773405.0, 344660920.0, 352736218.0, 360959428.0, 369276873.0, 377646918.0, 386054077.0, 394498853.0, 402975459.0, 411482899.0, 420020420.0, 428576056.0, 437144411.0, 445740100.0, 454384942.0, 463091989.0, 471862699.0, 480682703.0, 489529545.0, 498372775.0, 507187684.0, 515957245.0, 524676538.0, 533346646.0, 541973977.0, 550557712.0, 559099816.0, 567579951.0, 575948780.0, 584142640.0, 592116985.0, 599851725.0, 607361114.0, 614678382.0, 621854638.0, 628929065.0, 635908885.0, 642787641.0, 649574719.0, 656288183.0]}, {\"name\": \"Male\", \"type\": \"bar\", \"x\": [1961, 1962, 1963, 1964, 1965, 1966, 1967, 1968, 1969, 1970, 1971, 1972, 1973, 1974, 1975, 1976, 1977, 1978, 1979, 1980, 1981, 1982, 1983, 1984, 1985, 1986, 1987, 1988, 1989, 1990, 1991, 1992, 1993, 1994, 1995, 1996, 1997, 1998, 1999, 2000, 2001, 2002, 2003, 2004, 2005, 2006, 2007, 2008, 2009, 2010, 2011, 2012, 2013, 2014, 2015, 2016, 2017, 2018, 2019], \"y\": [237313421.0, 242296454.0, 247438411.0, 252717316.0, 258120907.0, 263638001.0, 269283161.0, 275100841.0, 281151625.0, 287477047.0, 294098353.0, 300998427.0, 308133554.0, 315439602.0, 322871273.0, 330405802.0, 338059110.0, 345870436.0, 353898050.0, 362179439.0, 370724073.0, 379503286.0, 388469530.0, 397556537.0, 406713090.0, 415921167.0, 425183249.0, 434493471.0, 443851779.0, 453257378.0, 462697153.0, 472162605.0, 481663760.0, 491216889.0, 500830599.0, 510502544.0, 520217327.0, 529954036.0, 539685381.0, 549387865.0, 559042840.0, 568640651.0, 578176498.0, 587649479.0, 597052215.0, 606386475.0, 615629521.0, 624720985.0, 633583575.0, 642164185.0, 650437004.0, 658421676.0, 666167747.0, 673749546.0, 681223338.0, 688600704.0, 695871194.0, 703042609.0, 710129571.0]}],                        {\"barmode\": \"stack\", \"template\": {\"data\": {\"bar\": [{\"error_x\": {\"color\": \"#2a3f5f\"}, \"error_y\": {\"color\": \"#2a3f5f\"}, \"marker\": {\"line\": {\"color\": \"#E5ECF6\", \"width\": 0.5}}, \"type\": \"bar\"}], \"barpolar\": [{\"marker\": {\"line\": {\"color\": \"#E5ECF6\", \"width\": 0.5}}, \"type\": \"barpolar\"}], \"carpet\": [{\"aaxis\": {\"endlinecolor\": \"#2a3f5f\", \"gridcolor\": \"white\", \"linecolor\": \"white\", \"minorgridcolor\": \"white\", \"startlinecolor\": \"#2a3f5f\"}, \"baxis\": {\"endlinecolor\": \"#2a3f5f\", \"gridcolor\": \"white\", \"linecolor\": \"white\", \"minorgridcolor\": \"white\", \"startlinecolor\": \"#2a3f5f\"}, \"type\": \"carpet\"}], \"choropleth\": [{\"colorbar\": {\"outlinewidth\": 0, \"ticks\": \"\"}, \"type\": \"choropleth\"}], \"contour\": [{\"colorbar\": {\"outlinewidth\": 0, \"ticks\": \"\"}, \"colorscale\": [[0.0, \"#0d0887\"], [0.1111111111111111, \"#46039f\"], [0.2222222222222222, \"#7201a8\"], [0.3333333333333333, \"#9c179e\"], [0.4444444444444444, \"#bd3786\"], [0.5555555555555556, \"#d8576b\"], [0.6666666666666666, \"#ed7953\"], [0.7777777777777778, \"#fb9f3a\"], [0.8888888888888888, \"#fdca26\"], [1.0, \"#f0f921\"]], \"type\": \"contour\"}], \"contourcarpet\": [{\"colorbar\": {\"outlinewidth\": 0, \"ticks\": \"\"}, \"type\": \"contourcarpet\"}], \"heatmap\": [{\"colorbar\": {\"outlinewidth\": 0, \"ticks\": \"\"}, \"colorscale\": [[0.0, \"#0d0887\"], [0.1111111111111111, \"#46039f\"], [0.2222222222222222, \"#7201a8\"], [0.3333333333333333, \"#9c179e\"], [0.4444444444444444, \"#bd3786\"], [0.5555555555555556, \"#d8576b\"], [0.6666666666666666, \"#ed7953\"], [0.7777777777777778, \"#fb9f3a\"], [0.8888888888888888, \"#fdca26\"], [1.0, \"#f0f921\"]], \"type\": \"heatmap\"}], \"heatmapgl\": [{\"colorbar\": {\"outlinewidth\": 0, \"ticks\": \"\"}, \"colorscale\": [[0.0, \"#0d0887\"], [0.1111111111111111, \"#46039f\"], [0.2222222222222222, \"#7201a8\"], [0.3333333333333333, \"#9c179e\"], [0.4444444444444444, \"#bd3786\"], [0.5555555555555556, \"#d8576b\"], [0.6666666666666666, \"#ed7953\"], [0.7777777777777778, \"#fb9f3a\"], [0.8888888888888888, \"#fdca26\"], [1.0, \"#f0f921\"]], \"type\": \"heatmapgl\"}], \"histogram\": [{\"marker\": {\"colorbar\": {\"outlinewidth\": 0, \"ticks\": \"\"}}, \"type\": \"histogram\"}], \"histogram2d\": [{\"colorbar\": {\"outlinewidth\": 0, \"ticks\": \"\"}, \"colorscale\": [[0.0, \"#0d0887\"], [0.1111111111111111, \"#46039f\"], [0.2222222222222222, \"#7201a8\"], [0.3333333333333333, \"#9c179e\"], [0.4444444444444444, \"#bd3786\"], [0.5555555555555556, \"#d8576b\"], [0.6666666666666666, \"#ed7953\"], [0.7777777777777778, \"#fb9f3a\"], [0.8888888888888888, \"#fdca26\"], [1.0, \"#f0f921\"]], \"type\": \"histogram2d\"}], \"histogram2dcontour\": [{\"colorbar\": {\"outlinewidth\": 0, \"ticks\": \"\"}, \"colorscale\": [[0.0, \"#0d0887\"], [0.1111111111111111, \"#46039f\"], [0.2222222222222222, \"#7201a8\"], [0.3333333333333333, \"#9c179e\"], [0.4444444444444444, \"#bd3786\"], [0.5555555555555556, \"#d8576b\"], [0.6666666666666666, \"#ed7953\"], [0.7777777777777778, \"#fb9f3a\"], [0.8888888888888888, \"#fdca26\"], [1.0, \"#f0f921\"]], \"type\": \"histogram2dcontour\"}], \"mesh3d\": [{\"colorbar\": {\"outlinewidth\": 0, \"ticks\": \"\"}, \"type\": \"mesh3d\"}], \"parcoords\": [{\"line\": {\"colorbar\": {\"outlinewidth\": 0, \"ticks\": \"\"}}, \"type\": \"parcoords\"}], \"pie\": [{\"automargin\": true, \"type\": \"pie\"}], \"scatter\": [{\"marker\": {\"colorbar\": {\"outlinewidth\": 0, \"ticks\": \"\"}}, \"type\": \"scatter\"}], \"scatter3d\": [{\"line\": {\"colorbar\": {\"outlinewidth\": 0, \"ticks\": \"\"}}, \"marker\": {\"colorbar\": {\"outlinewidth\": 0, \"ticks\": \"\"}}, \"type\": \"scatter3d\"}], \"scattercarpet\": [{\"marker\": {\"colorbar\": {\"outlinewidth\": 0, \"ticks\": \"\"}}, \"type\": \"scattercarpet\"}], \"scattergeo\": [{\"marker\": {\"colorbar\": {\"outlinewidth\": 0, \"ticks\": \"\"}}, \"type\": \"scattergeo\"}], \"scattergl\": [{\"marker\": {\"colorbar\": {\"outlinewidth\": 0, \"ticks\": \"\"}}, \"type\": \"scattergl\"}], \"scattermapbox\": [{\"marker\": {\"colorbar\": {\"outlinewidth\": 0, \"ticks\": \"\"}}, \"type\": \"scattermapbox\"}], \"scatterpolar\": [{\"marker\": {\"colorbar\": {\"outlinewidth\": 0, \"ticks\": \"\"}}, \"type\": \"scatterpolar\"}], \"scatterpolargl\": [{\"marker\": {\"colorbar\": {\"outlinewidth\": 0, \"ticks\": \"\"}}, \"type\": \"scatterpolargl\"}], \"scatterternary\": [{\"marker\": {\"colorbar\": {\"outlinewidth\": 0, \"ticks\": \"\"}}, \"type\": \"scatterternary\"}], \"surface\": [{\"colorbar\": {\"outlinewidth\": 0, \"ticks\": \"\"}, \"colorscale\": [[0.0, \"#0d0887\"], [0.1111111111111111, \"#46039f\"], [0.2222222222222222, \"#7201a8\"], [0.3333333333333333, \"#9c179e\"], [0.4444444444444444, \"#bd3786\"], [0.5555555555555556, \"#d8576b\"], [0.6666666666666666, \"#ed7953\"], [0.7777777777777778, \"#fb9f3a\"], [0.8888888888888888, \"#fdca26\"], [1.0, \"#f0f921\"]], \"type\": \"surface\"}], \"table\": [{\"cells\": {\"fill\": {\"color\": \"#EBF0F8\"}, \"line\": {\"color\": \"white\"}}, \"header\": {\"fill\": {\"color\": \"#C8D4E3\"}, \"line\": {\"color\": \"white\"}}, \"type\": \"table\"}]}, \"layout\": {\"annotationdefaults\": {\"arrowcolor\": \"#2a3f5f\", \"arrowhead\": 0, \"arrowwidth\": 1}, \"autotypenumbers\": \"strict\", \"coloraxis\": {\"colorbar\": {\"outlinewidth\": 0, \"ticks\": \"\"}}, \"colorscale\": {\"diverging\": [[0, \"#8e0152\"], [0.1, \"#c51b7d\"], [0.2, \"#de77ae\"], [0.3, \"#f1b6da\"], [0.4, \"#fde0ef\"], [0.5, \"#f7f7f7\"], [0.6, \"#e6f5d0\"], [0.7, \"#b8e186\"], [0.8, \"#7fbc41\"], [0.9, \"#4d9221\"], [1, \"#276419\"]], \"sequential\": [[0.0, \"#0d0887\"], [0.1111111111111111, \"#46039f\"], [0.2222222222222222, \"#7201a8\"], [0.3333333333333333, \"#9c179e\"], [0.4444444444444444, \"#bd3786\"], [0.5555555555555556, \"#d8576b\"], [0.6666666666666666, \"#ed7953\"], [0.7777777777777778, \"#fb9f3a\"], [0.8888888888888888, \"#fdca26\"], [1.0, \"#f0f921\"]], \"sequentialminus\": [[0.0, \"#0d0887\"], [0.1111111111111111, \"#46039f\"], [0.2222222222222222, \"#7201a8\"], [0.3333333333333333, \"#9c179e\"], [0.4444444444444444, \"#bd3786\"], [0.5555555555555556, \"#d8576b\"], [0.6666666666666666, \"#ed7953\"], [0.7777777777777778, \"#fb9f3a\"], [0.8888888888888888, \"#fdca26\"], [1.0, \"#f0f921\"]]}, \"colorway\": [\"#636efa\", \"#EF553B\", \"#00cc96\", \"#ab63fa\", \"#FFA15A\", \"#19d3f3\", \"#FF6692\", \"#B6E880\", \"#FF97FF\", \"#FECB52\"], \"font\": {\"color\": \"#2a3f5f\"}, \"geo\": {\"bgcolor\": \"white\", \"lakecolor\": \"white\", \"landcolor\": \"#E5ECF6\", \"showlakes\": true, \"showland\": true, \"subunitcolor\": \"white\"}, \"hoverlabel\": {\"align\": \"left\"}, \"hovermode\": \"closest\", \"mapbox\": {\"style\": \"light\"}, \"paper_bgcolor\": \"white\", \"plot_bgcolor\": \"#E5ECF6\", \"polar\": {\"angularaxis\": {\"gridcolor\": \"white\", \"linecolor\": \"white\", \"ticks\": \"\"}, \"bgcolor\": \"#E5ECF6\", \"radialaxis\": {\"gridcolor\": \"white\", \"linecolor\": \"white\", \"ticks\": \"\"}}, \"scene\": {\"xaxis\": {\"backgroundcolor\": \"#E5ECF6\", \"gridcolor\": \"white\", \"gridwidth\": 2, \"linecolor\": \"white\", \"showbackground\": true, \"ticks\": \"\", \"zerolinecolor\": \"white\"}, \"yaxis\": {\"backgroundcolor\": \"#E5ECF6\", \"gridcolor\": \"white\", \"gridwidth\": 2, \"linecolor\": \"white\", \"showbackground\": true, \"ticks\": \"\", \"zerolinecolor\": \"white\"}, \"zaxis\": {\"backgroundcolor\": \"#E5ECF6\", \"gridcolor\": \"white\", \"gridwidth\": 2, \"linecolor\": \"white\", \"showbackground\": true, \"ticks\": \"\", \"zerolinecolor\": \"white\"}}, \"shapedefaults\": {\"line\": {\"color\": \"#2a3f5f\"}}, \"ternary\": {\"aaxis\": {\"gridcolor\": \"white\", \"linecolor\": \"white\", \"ticks\": \"\"}, \"baxis\": {\"gridcolor\": \"white\", \"linecolor\": \"white\", \"ticks\": \"\"}, \"bgcolor\": \"#E5ECF6\", \"caxis\": {\"gridcolor\": \"white\", \"linecolor\": \"white\", \"ticks\": \"\"}}, \"title\": {\"x\": 0.05}, \"xaxis\": {\"automargin\": true, \"gridcolor\": \"white\", \"linecolor\": \"white\", \"ticks\": \"\", \"title\": {\"standoff\": 15}, \"zerolinecolor\": \"white\", \"zerolinewidth\": 2}, \"yaxis\": {\"automargin\": true, \"gridcolor\": \"white\", \"linecolor\": \"white\", \"ticks\": \"\", \"title\": {\"standoff\": 15}, \"zerolinecolor\": \"white\", \"zerolinewidth\": 2}}}, \"title\": {\"font\": {\"size\": 30}, \"text\": \"Population of India\"}, \"xaxis\": {\"title\": {\"font\": {\"size\": 20}, \"text\": \"Year\"}}, \"yaxis\": {\"title\": {\"font\": {\"size\": 20}, \"text\": \"Population\"}}},                        {\"responsive\": true}                    ).then(function(){\n",
       "                            \n",
       "var gd = document.getElementById('8f16162f-de2a-4ca6-84db-52082a4348c1');\n",
       "var x = new MutationObserver(function (mutations, observer) {{\n",
       "        var display = window.getComputedStyle(gd).display;\n",
       "        if (!display || display === 'none') {{\n",
       "            console.log([gd, 'removed!']);\n",
       "            Plotly.purge(gd);\n",
       "            observer.disconnect();\n",
       "        }}\n",
       "}});\n",
       "\n",
       "// Listen for the removal of the full notebook cells\n",
       "var notebookContainer = gd.closest('#notebook-container');\n",
       "if (notebookContainer) {{\n",
       "    x.observe(notebookContainer, {childList: true});\n",
       "}}\n",
       "\n",
       "// Listen for the clearing of the current output cell\n",
       "var outputEl = gd.closest('.output');\n",
       "if (outputEl) {{\n",
       "    x.observe(outputEl, {childList: true});\n",
       "}}\n",
       "\n",
       "                        })                };                });            </script>        </div>"
      ]
     },
     "metadata": {},
     "output_type": "display_data"
    }
   ],
   "source": [
    "india_fe_population = [222328744.0, 226780736.0, 231387197.0, 236130819.0, 241002417.0, 245993499.0, 251117415.0, 256412983.0, \n",
    "                       261932711.0, 267712745.0, 273769665.0, 280088829.0, 286636580.0, 293362998.0, 300231624.0, 307224285.0, \n",
    "                       314349666.0, 321629370.0, 329097304.0, 336773405.0, 344660920.0, 352736218.0, 360959428.0, 369276873.0, \n",
    "                       377646918.0, 386054077.0, 394498853.0, 402975459.0, 411482899.0, 420020420.0, 428576056.0, 437144411.0, \n",
    "                       445740100.0, 454384942.0, 463091989.0, 471862699.0, 480682703.0, 489529545.0, 498372775.0, 507187684.0, \n",
    "                       515957245.0, 524676538.0, 533346646.0, 541973977.0, 550557712.0, 559099816.0, 567579951.0, 575948780.0, \n",
    "                       584142640.0, 592116985.0, 599851725.0, 607361114.0, 614678382.0, 621854638.0, 628929065.0, 635908885.0, \n",
    "                       642787641.0, 649574719.0, 656288183.0\n",
    "                      ]\n",
    "\n",
    "\n",
    "india_ma_population = [237313421.0, 242296454.0, 247438411.0, 252717316.0, 258120907.0, 263638001.0, 269283161.0, 275100841.0, \n",
    "                       281151625.0, 287477047.0, 294098353.0, 300998427.0, 308133554.0, 315439602.0, 322871273.0, 330405802.0,\n",
    "                       338059110.0, 345870436.0, 353898050.0, 362179439.0, 370724073.0, 379503286.0, 388469530.0, 397556537.0, \n",
    "                       406713090.0, 415921167.0, 425183249.0, 434493471.0, 443851779.0, 453257378.0, 462697153.0, 472162605.0, \n",
    "                       481663760.0, 491216889.0, 500830599.0, 510502544.0, 520217327.0, 529954036.0, 539685381.0, 549387865.0, \n",
    "                       559042840.0, 568640651.0, 578176498.0, 587649479.0, 597052215.0, 606386475.0, 615629521.0, 624720985.0, \n",
    "                       633583575.0, 642164185.0, 650437004.0, 658421676.0, 666167747.0, 673749546.0, 681223338.0, 688600704.0, \n",
    "                       695871194.0, 703042609.0, 710129571.0\n",
    "                      ]\n",
    "\n",
    "fig2 = go.Figure(go.Bar(x=x, y=india_fe_population, name='Female'))\n",
    "fig2.add_trace(go.Bar(x=x, y=india_ma_population, name='Male'))\n",
    "\n",
    "fig2.update_layout(barmode='stack', xaxis = dict(title='Year', titlefont_size=20),\n",
    "                  yaxis = dict(title='Population', titlefont_size=20), title = \"Population of India\", titlefont_size=30)\n",
    "fig2.show()"
   ]
  },
  {
   "cell_type": "code",
   "execution_count": 3,
   "metadata": {},
   "outputs": [
    {
     "data": {
      "application/vnd.plotly.v1+json": {
       "config": {
        "plotlyServerURL": "https://plot.ly"
       },
       "data": [
        {
         "name": "Female",
         "type": "bar",
         "x": [
          1961,
          1962,
          1963,
          1964,
          1965,
          1966,
          1967,
          1968,
          1969,
          1970,
          1971,
          1972,
          1973,
          1974,
          1975,
          1976,
          1977,
          1978,
          1979,
          1980,
          1981,
          1982,
          1983,
          1984,
          1985,
          1986,
          1987,
          1988,
          1989,
          1990,
          1991,
          1992,
          1993,
          1994,
          1995,
          1996,
          1997,
          1998,
          1999,
          2000,
          2001,
          2002,
          2003,
          2004,
          2005,
          2006,
          2007,
          2008,
          2009,
          2010,
          2011,
          2012,
          2013,
          2014,
          2015,
          2016,
          2017,
          2018,
          2019
         ],
         "y": [
          48207265,
          48658610,
          49156435,
          49669854,
          50202076,
          50654649,
          51118354,
          51275717,
          52332222,
          52912269,
          53582623,
          54323037,
          54759934,
          55802301,
          56692355,
          57105578,
          57653715,
          58175297,
          58666578,
          59128589,
          59568195,
          59976057,
          60390235,
          60781188,
          61163616,
          61550553,
          61870178,
          62152720,
          62425974,
          62656883,
          62867656,
          63038943,
          63209914,
          63442648,
          63705357,
          63890191,
          64068675,
          64270952,
          64416945,
          64552936,
          64736064,
          64913526,
          65078804,
          65126621,
          65158465,
          65225372,
          65325526,
          65381234,
          65395181,
          65426533,
          65322325,
          65232461,
          65150796,
          65075452,
          65016722,
          64951468,
          64853783,
          64731350,
          64605360
         ]
        },
        {
         "name": "Male",
         "type": "bar",
         "x": [
          1961,
          1962,
          1963,
          1964,
          1965,
          1966,
          1967,
          1968,
          1969,
          1970,
          1971,
          1972,
          1973,
          1974,
          1975,
          1976,
          1977,
          1978,
          1979,
          1980,
          1981,
          1982,
          1983,
          1984,
          1985,
          1986,
          1987,
          1988,
          1989,
          1990,
          1991,
          1992,
          1993,
          1994,
          1995,
          1996,
          1997,
          1998,
          1999,
          2000,
          2001,
          2002,
          2003,
          2004,
          2005,
          2006,
          2007,
          2008,
          2009,
          2010,
          2011,
          2012,
          2013,
          2014,
          2015,
          2016,
          2017,
          2018,
          2019
         ],
         "y": [
          46735735,
          47173390,
          47655565,
          48156146,
          48680924,
          49135351,
          49606646,
          49785283,
          50839778,
          51432731,
          52114377,
          52864963,
          53319066,
          54359699,
          55247645,
          55665422,
          56209285,
          56722703,
          57203422,
          57653411,
          58079805,
          58472943,
          58868765,
          59236812,
          59590384,
          59941447,
          60220822,
          60460280,
          60690026,
          60880117,
          61053344,
          61190057,
          61326086,
          61518352,
          61733643,
          61866809,
          61988325,
          62129048,
          62214055,
          62290064,
          62412936,
          62531474,
          62639196,
          62634379,
          62614535,
          62628628,
          62675474,
          62681766,
          62651819,
          62643467,
          62510675,
          62396539,
          62294204,
          62200548,
          62124278,
          62043043,
          61932014,
          61797750,
          61659571
         ]
        }
       ],
       "layout": {
        "barmode": "stack",
        "template": {
         "data": {
          "bar": [
           {
            "error_x": {
             "color": "#2a3f5f"
            },
            "error_y": {
             "color": "#2a3f5f"
            },
            "marker": {
             "line": {
              "color": "#E5ECF6",
              "width": 0.5
             }
            },
            "type": "bar"
           }
          ],
          "barpolar": [
           {
            "marker": {
             "line": {
              "color": "#E5ECF6",
              "width": 0.5
             }
            },
            "type": "barpolar"
           }
          ],
          "carpet": [
           {
            "aaxis": {
             "endlinecolor": "#2a3f5f",
             "gridcolor": "white",
             "linecolor": "white",
             "minorgridcolor": "white",
             "startlinecolor": "#2a3f5f"
            },
            "baxis": {
             "endlinecolor": "#2a3f5f",
             "gridcolor": "white",
             "linecolor": "white",
             "minorgridcolor": "white",
             "startlinecolor": "#2a3f5f"
            },
            "type": "carpet"
           }
          ],
          "choropleth": [
           {
            "colorbar": {
             "outlinewidth": 0,
             "ticks": ""
            },
            "type": "choropleth"
           }
          ],
          "contour": [
           {
            "colorbar": {
             "outlinewidth": 0,
             "ticks": ""
            },
            "colorscale": [
             [
              0,
              "#0d0887"
             ],
             [
              0.1111111111111111,
              "#46039f"
             ],
             [
              0.2222222222222222,
              "#7201a8"
             ],
             [
              0.3333333333333333,
              "#9c179e"
             ],
             [
              0.4444444444444444,
              "#bd3786"
             ],
             [
              0.5555555555555556,
              "#d8576b"
             ],
             [
              0.6666666666666666,
              "#ed7953"
             ],
             [
              0.7777777777777778,
              "#fb9f3a"
             ],
             [
              0.8888888888888888,
              "#fdca26"
             ],
             [
              1,
              "#f0f921"
             ]
            ],
            "type": "contour"
           }
          ],
          "contourcarpet": [
           {
            "colorbar": {
             "outlinewidth": 0,
             "ticks": ""
            },
            "type": "contourcarpet"
           }
          ],
          "heatmap": [
           {
            "colorbar": {
             "outlinewidth": 0,
             "ticks": ""
            },
            "colorscale": [
             [
              0,
              "#0d0887"
             ],
             [
              0.1111111111111111,
              "#46039f"
             ],
             [
              0.2222222222222222,
              "#7201a8"
             ],
             [
              0.3333333333333333,
              "#9c179e"
             ],
             [
              0.4444444444444444,
              "#bd3786"
             ],
             [
              0.5555555555555556,
              "#d8576b"
             ],
             [
              0.6666666666666666,
              "#ed7953"
             ],
             [
              0.7777777777777778,
              "#fb9f3a"
             ],
             [
              0.8888888888888888,
              "#fdca26"
             ],
             [
              1,
              "#f0f921"
             ]
            ],
            "type": "heatmap"
           }
          ],
          "heatmapgl": [
           {
            "colorbar": {
             "outlinewidth": 0,
             "ticks": ""
            },
            "colorscale": [
             [
              0,
              "#0d0887"
             ],
             [
              0.1111111111111111,
              "#46039f"
             ],
             [
              0.2222222222222222,
              "#7201a8"
             ],
             [
              0.3333333333333333,
              "#9c179e"
             ],
             [
              0.4444444444444444,
              "#bd3786"
             ],
             [
              0.5555555555555556,
              "#d8576b"
             ],
             [
              0.6666666666666666,
              "#ed7953"
             ],
             [
              0.7777777777777778,
              "#fb9f3a"
             ],
             [
              0.8888888888888888,
              "#fdca26"
             ],
             [
              1,
              "#f0f921"
             ]
            ],
            "type": "heatmapgl"
           }
          ],
          "histogram": [
           {
            "marker": {
             "colorbar": {
              "outlinewidth": 0,
              "ticks": ""
             }
            },
            "type": "histogram"
           }
          ],
          "histogram2d": [
           {
            "colorbar": {
             "outlinewidth": 0,
             "ticks": ""
            },
            "colorscale": [
             [
              0,
              "#0d0887"
             ],
             [
              0.1111111111111111,
              "#46039f"
             ],
             [
              0.2222222222222222,
              "#7201a8"
             ],
             [
              0.3333333333333333,
              "#9c179e"
             ],
             [
              0.4444444444444444,
              "#bd3786"
             ],
             [
              0.5555555555555556,
              "#d8576b"
             ],
             [
              0.6666666666666666,
              "#ed7953"
             ],
             [
              0.7777777777777778,
              "#fb9f3a"
             ],
             [
              0.8888888888888888,
              "#fdca26"
             ],
             [
              1,
              "#f0f921"
             ]
            ],
            "type": "histogram2d"
           }
          ],
          "histogram2dcontour": [
           {
            "colorbar": {
             "outlinewidth": 0,
             "ticks": ""
            },
            "colorscale": [
             [
              0,
              "#0d0887"
             ],
             [
              0.1111111111111111,
              "#46039f"
             ],
             [
              0.2222222222222222,
              "#7201a8"
             ],
             [
              0.3333333333333333,
              "#9c179e"
             ],
             [
              0.4444444444444444,
              "#bd3786"
             ],
             [
              0.5555555555555556,
              "#d8576b"
             ],
             [
              0.6666666666666666,
              "#ed7953"
             ],
             [
              0.7777777777777778,
              "#fb9f3a"
             ],
             [
              0.8888888888888888,
              "#fdca26"
             ],
             [
              1,
              "#f0f921"
             ]
            ],
            "type": "histogram2dcontour"
           }
          ],
          "mesh3d": [
           {
            "colorbar": {
             "outlinewidth": 0,
             "ticks": ""
            },
            "type": "mesh3d"
           }
          ],
          "parcoords": [
           {
            "line": {
             "colorbar": {
              "outlinewidth": 0,
              "ticks": ""
             }
            },
            "type": "parcoords"
           }
          ],
          "pie": [
           {
            "automargin": true,
            "type": "pie"
           }
          ],
          "scatter": [
           {
            "marker": {
             "colorbar": {
              "outlinewidth": 0,
              "ticks": ""
             }
            },
            "type": "scatter"
           }
          ],
          "scatter3d": [
           {
            "line": {
             "colorbar": {
              "outlinewidth": 0,
              "ticks": ""
             }
            },
            "marker": {
             "colorbar": {
              "outlinewidth": 0,
              "ticks": ""
             }
            },
            "type": "scatter3d"
           }
          ],
          "scattercarpet": [
           {
            "marker": {
             "colorbar": {
              "outlinewidth": 0,
              "ticks": ""
             }
            },
            "type": "scattercarpet"
           }
          ],
          "scattergeo": [
           {
            "marker": {
             "colorbar": {
              "outlinewidth": 0,
              "ticks": ""
             }
            },
            "type": "scattergeo"
           }
          ],
          "scattergl": [
           {
            "marker": {
             "colorbar": {
              "outlinewidth": 0,
              "ticks": ""
             }
            },
            "type": "scattergl"
           }
          ],
          "scattermapbox": [
           {
            "marker": {
             "colorbar": {
              "outlinewidth": 0,
              "ticks": ""
             }
            },
            "type": "scattermapbox"
           }
          ],
          "scatterpolar": [
           {
            "marker": {
             "colorbar": {
              "outlinewidth": 0,
              "ticks": ""
             }
            },
            "type": "scatterpolar"
           }
          ],
          "scatterpolargl": [
           {
            "marker": {
             "colorbar": {
              "outlinewidth": 0,
              "ticks": ""
             }
            },
            "type": "scatterpolargl"
           }
          ],
          "scatterternary": [
           {
            "marker": {
             "colorbar": {
              "outlinewidth": 0,
              "ticks": ""
             }
            },
            "type": "scatterternary"
           }
          ],
          "surface": [
           {
            "colorbar": {
             "outlinewidth": 0,
             "ticks": ""
            },
            "colorscale": [
             [
              0,
              "#0d0887"
             ],
             [
              0.1111111111111111,
              "#46039f"
             ],
             [
              0.2222222222222222,
              "#7201a8"
             ],
             [
              0.3333333333333333,
              "#9c179e"
             ],
             [
              0.4444444444444444,
              "#bd3786"
             ],
             [
              0.5555555555555556,
              "#d8576b"
             ],
             [
              0.6666666666666666,
              "#ed7953"
             ],
             [
              0.7777777777777778,
              "#fb9f3a"
             ],
             [
              0.8888888888888888,
              "#fdca26"
             ],
             [
              1,
              "#f0f921"
             ]
            ],
            "type": "surface"
           }
          ],
          "table": [
           {
            "cells": {
             "fill": {
              "color": "#EBF0F8"
             },
             "line": {
              "color": "white"
             }
            },
            "header": {
             "fill": {
              "color": "#C8D4E3"
             },
             "line": {
              "color": "white"
             }
            },
            "type": "table"
           }
          ]
         },
         "layout": {
          "annotationdefaults": {
           "arrowcolor": "#2a3f5f",
           "arrowhead": 0,
           "arrowwidth": 1
          },
          "autotypenumbers": "strict",
          "coloraxis": {
           "colorbar": {
            "outlinewidth": 0,
            "ticks": ""
           }
          },
          "colorscale": {
           "diverging": [
            [
             0,
             "#8e0152"
            ],
            [
             0.1,
             "#c51b7d"
            ],
            [
             0.2,
             "#de77ae"
            ],
            [
             0.3,
             "#f1b6da"
            ],
            [
             0.4,
             "#fde0ef"
            ],
            [
             0.5,
             "#f7f7f7"
            ],
            [
             0.6,
             "#e6f5d0"
            ],
            [
             0.7,
             "#b8e186"
            ],
            [
             0.8,
             "#7fbc41"
            ],
            [
             0.9,
             "#4d9221"
            ],
            [
             1,
             "#276419"
            ]
           ],
           "sequential": [
            [
             0,
             "#0d0887"
            ],
            [
             0.1111111111111111,
             "#46039f"
            ],
            [
             0.2222222222222222,
             "#7201a8"
            ],
            [
             0.3333333333333333,
             "#9c179e"
            ],
            [
             0.4444444444444444,
             "#bd3786"
            ],
            [
             0.5555555555555556,
             "#d8576b"
            ],
            [
             0.6666666666666666,
             "#ed7953"
            ],
            [
             0.7777777777777778,
             "#fb9f3a"
            ],
            [
             0.8888888888888888,
             "#fdca26"
            ],
            [
             1,
             "#f0f921"
            ]
           ],
           "sequentialminus": [
            [
             0,
             "#0d0887"
            ],
            [
             0.1111111111111111,
             "#46039f"
            ],
            [
             0.2222222222222222,
             "#7201a8"
            ],
            [
             0.3333333333333333,
             "#9c179e"
            ],
            [
             0.4444444444444444,
             "#bd3786"
            ],
            [
             0.5555555555555556,
             "#d8576b"
            ],
            [
             0.6666666666666666,
             "#ed7953"
            ],
            [
             0.7777777777777778,
             "#fb9f3a"
            ],
            [
             0.8888888888888888,
             "#fdca26"
            ],
            [
             1,
             "#f0f921"
            ]
           ]
          },
          "colorway": [
           "#636efa",
           "#EF553B",
           "#00cc96",
           "#ab63fa",
           "#FFA15A",
           "#19d3f3",
           "#FF6692",
           "#B6E880",
           "#FF97FF",
           "#FECB52"
          ],
          "font": {
           "color": "#2a3f5f"
          },
          "geo": {
           "bgcolor": "white",
           "lakecolor": "white",
           "landcolor": "#E5ECF6",
           "showlakes": true,
           "showland": true,
           "subunitcolor": "white"
          },
          "hoverlabel": {
           "align": "left"
          },
          "hovermode": "closest",
          "mapbox": {
           "style": "light"
          },
          "paper_bgcolor": "white",
          "plot_bgcolor": "#E5ECF6",
          "polar": {
           "angularaxis": {
            "gridcolor": "white",
            "linecolor": "white",
            "ticks": ""
           },
           "bgcolor": "#E5ECF6",
           "radialaxis": {
            "gridcolor": "white",
            "linecolor": "white",
            "ticks": ""
           }
          },
          "scene": {
           "xaxis": {
            "backgroundcolor": "#E5ECF6",
            "gridcolor": "white",
            "gridwidth": 2,
            "linecolor": "white",
            "showbackground": true,
            "ticks": "",
            "zerolinecolor": "white"
           },
           "yaxis": {
            "backgroundcolor": "#E5ECF6",
            "gridcolor": "white",
            "gridwidth": 2,
            "linecolor": "white",
            "showbackground": true,
            "ticks": "",
            "zerolinecolor": "white"
           },
           "zaxis": {
            "backgroundcolor": "#E5ECF6",
            "gridcolor": "white",
            "gridwidth": 2,
            "linecolor": "white",
            "showbackground": true,
            "ticks": "",
            "zerolinecolor": "white"
           }
          },
          "shapedefaults": {
           "line": {
            "color": "#2a3f5f"
           }
          },
          "ternary": {
           "aaxis": {
            "gridcolor": "white",
            "linecolor": "white",
            "ticks": ""
           },
           "baxis": {
            "gridcolor": "white",
            "linecolor": "white",
            "ticks": ""
           },
           "bgcolor": "#E5ECF6",
           "caxis": {
            "gridcolor": "white",
            "linecolor": "white",
            "ticks": ""
           }
          },
          "title": {
           "x": 0.05
          },
          "xaxis": {
           "automargin": true,
           "gridcolor": "white",
           "linecolor": "white",
           "ticks": "",
           "title": {
            "standoff": 15
           },
           "zerolinecolor": "white",
           "zerolinewidth": 2
          },
          "yaxis": {
           "automargin": true,
           "gridcolor": "white",
           "linecolor": "white",
           "ticks": "",
           "title": {
            "standoff": 15
           },
           "zerolinecolor": "white",
           "zerolinewidth": 2
          }
         }
        },
        "title": {
         "font": {
          "size": 30
         },
         "text": "Population of Japan"
        },
        "xaxis": {
         "title": {
          "font": {
           "size": 20
          },
          "text": "Year"
         }
        },
        "yaxis": {
         "title": {
          "font": {
           "size": 20
          },
          "text": "Population"
         }
        }
       }
      },
      "text/html": [
       "<div>                            <div id=\"58e32109-7b73-4f1a-bb97-c0dcfca21fa1\" class=\"plotly-graph-div\" style=\"height:525px; width:100%;\"></div>            <script type=\"text/javascript\">                require([\"plotly\"], function(Plotly) {                    window.PLOTLYENV=window.PLOTLYENV || {};                                    if (document.getElementById(\"58e32109-7b73-4f1a-bb97-c0dcfca21fa1\")) {                    Plotly.newPlot(                        \"58e32109-7b73-4f1a-bb97-c0dcfca21fa1\",                        [{\"name\": \"Female\", \"type\": \"bar\", \"x\": [1961, 1962, 1963, 1964, 1965, 1966, 1967, 1968, 1969, 1970, 1971, 1972, 1973, 1974, 1975, 1976, 1977, 1978, 1979, 1980, 1981, 1982, 1983, 1984, 1985, 1986, 1987, 1988, 1989, 1990, 1991, 1992, 1993, 1994, 1995, 1996, 1997, 1998, 1999, 2000, 2001, 2002, 2003, 2004, 2005, 2006, 2007, 2008, 2009, 2010, 2011, 2012, 2013, 2014, 2015, 2016, 2017, 2018, 2019], \"y\": [48207265.0, 48658610.0, 49156435.0, 49669854.0, 50202076.0, 50654649.0, 51118354.0, 51275717.0, 52332222.0, 52912269.0, 53582623.0, 54323037.0, 54759934.0, 55802301.0, 56692355.0, 57105578.0, 57653715.0, 58175297.0, 58666578.0, 59128589.0, 59568195.0, 59976057.0, 60390235.0, 60781188.0, 61163616.0, 61550553.0, 61870178.0, 62152720.0, 62425974.0, 62656883.0, 62867656.0, 63038943.0, 63209914.0, 63442648.0, 63705357.0, 63890191.0, 64068675.0, 64270952.0, 64416945.0, 64552936.0, 64736064.0, 64913526.0, 65078804.0, 65126621.0, 65158465.0, 65225372.0, 65325526.0, 65381234.0, 65395181.0, 65426533.0, 65322325.0, 65232461.0, 65150796.0, 65075452.0, 65016722.0, 64951468.0, 64853783.0, 64731350.0, 64605360.0]}, {\"name\": \"Male\", \"type\": \"bar\", \"x\": [1961, 1962, 1963, 1964, 1965, 1966, 1967, 1968, 1969, 1970, 1971, 1972, 1973, 1974, 1975, 1976, 1977, 1978, 1979, 1980, 1981, 1982, 1983, 1984, 1985, 1986, 1987, 1988, 1989, 1990, 1991, 1992, 1993, 1994, 1995, 1996, 1997, 1998, 1999, 2000, 2001, 2002, 2003, 2004, 2005, 2006, 2007, 2008, 2009, 2010, 2011, 2012, 2013, 2014, 2015, 2016, 2017, 2018, 2019], \"y\": [46735735.0, 47173390.0, 47655565.0, 48156146.0, 48680924.0, 49135351.0, 49606646.0, 49785283.0, 50839778.0, 51432731.0, 52114377.0, 52864963.0, 53319066.0, 54359699.0, 55247645.0, 55665422.0, 56209285.0, 56722703.0, 57203422.0, 57653411.0, 58079805.0, 58472943.0, 58868765.0, 59236812.0, 59590384.0, 59941447.0, 60220822.0, 60460280.0, 60690026.0, 60880117.0, 61053344.0, 61190057.0, 61326086.0, 61518352.0, 61733643.0, 61866809.0, 61988325.0, 62129048.0, 62214055.0, 62290064.0, 62412936.0, 62531474.0, 62639196.0, 62634379.0, 62614535.0, 62628628.0, 62675474.0, 62681766.0, 62651819.0, 62643467.0, 62510675.0, 62396539.0, 62294204.0, 62200548.0, 62124278.0, 62043043.0, 61932014.0, 61797750.0, 61659571.0]}],                        {\"barmode\": \"stack\", \"template\": {\"data\": {\"bar\": [{\"error_x\": {\"color\": \"#2a3f5f\"}, \"error_y\": {\"color\": \"#2a3f5f\"}, \"marker\": {\"line\": {\"color\": \"#E5ECF6\", \"width\": 0.5}}, \"type\": \"bar\"}], \"barpolar\": [{\"marker\": {\"line\": {\"color\": \"#E5ECF6\", \"width\": 0.5}}, \"type\": \"barpolar\"}], \"carpet\": [{\"aaxis\": {\"endlinecolor\": \"#2a3f5f\", \"gridcolor\": \"white\", \"linecolor\": \"white\", \"minorgridcolor\": \"white\", \"startlinecolor\": \"#2a3f5f\"}, \"baxis\": {\"endlinecolor\": \"#2a3f5f\", \"gridcolor\": \"white\", \"linecolor\": \"white\", \"minorgridcolor\": \"white\", \"startlinecolor\": \"#2a3f5f\"}, \"type\": \"carpet\"}], \"choropleth\": [{\"colorbar\": {\"outlinewidth\": 0, \"ticks\": \"\"}, \"type\": \"choropleth\"}], \"contour\": [{\"colorbar\": {\"outlinewidth\": 0, \"ticks\": \"\"}, \"colorscale\": [[0.0, \"#0d0887\"], [0.1111111111111111, \"#46039f\"], [0.2222222222222222, \"#7201a8\"], [0.3333333333333333, \"#9c179e\"], [0.4444444444444444, \"#bd3786\"], [0.5555555555555556, \"#d8576b\"], [0.6666666666666666, \"#ed7953\"], [0.7777777777777778, \"#fb9f3a\"], [0.8888888888888888, \"#fdca26\"], [1.0, \"#f0f921\"]], \"type\": \"contour\"}], \"contourcarpet\": [{\"colorbar\": {\"outlinewidth\": 0, \"ticks\": \"\"}, \"type\": \"contourcarpet\"}], \"heatmap\": [{\"colorbar\": {\"outlinewidth\": 0, \"ticks\": \"\"}, \"colorscale\": [[0.0, \"#0d0887\"], [0.1111111111111111, \"#46039f\"], [0.2222222222222222, \"#7201a8\"], [0.3333333333333333, \"#9c179e\"], [0.4444444444444444, \"#bd3786\"], [0.5555555555555556, \"#d8576b\"], [0.6666666666666666, \"#ed7953\"], [0.7777777777777778, \"#fb9f3a\"], [0.8888888888888888, \"#fdca26\"], [1.0, \"#f0f921\"]], \"type\": \"heatmap\"}], \"heatmapgl\": [{\"colorbar\": {\"outlinewidth\": 0, \"ticks\": \"\"}, \"colorscale\": [[0.0, \"#0d0887\"], [0.1111111111111111, \"#46039f\"], [0.2222222222222222, \"#7201a8\"], [0.3333333333333333, \"#9c179e\"], [0.4444444444444444, \"#bd3786\"], [0.5555555555555556, \"#d8576b\"], [0.6666666666666666, \"#ed7953\"], [0.7777777777777778, \"#fb9f3a\"], [0.8888888888888888, \"#fdca26\"], [1.0, \"#f0f921\"]], \"type\": \"heatmapgl\"}], \"histogram\": [{\"marker\": {\"colorbar\": {\"outlinewidth\": 0, \"ticks\": \"\"}}, \"type\": \"histogram\"}], \"histogram2d\": [{\"colorbar\": {\"outlinewidth\": 0, \"ticks\": \"\"}, \"colorscale\": [[0.0, \"#0d0887\"], [0.1111111111111111, \"#46039f\"], [0.2222222222222222, \"#7201a8\"], [0.3333333333333333, \"#9c179e\"], [0.4444444444444444, \"#bd3786\"], [0.5555555555555556, \"#d8576b\"], [0.6666666666666666, \"#ed7953\"], [0.7777777777777778, \"#fb9f3a\"], [0.8888888888888888, \"#fdca26\"], [1.0, \"#f0f921\"]], \"type\": \"histogram2d\"}], \"histogram2dcontour\": [{\"colorbar\": {\"outlinewidth\": 0, \"ticks\": \"\"}, \"colorscale\": [[0.0, \"#0d0887\"], [0.1111111111111111, \"#46039f\"], [0.2222222222222222, \"#7201a8\"], [0.3333333333333333, \"#9c179e\"], [0.4444444444444444, \"#bd3786\"], [0.5555555555555556, \"#d8576b\"], [0.6666666666666666, \"#ed7953\"], [0.7777777777777778, \"#fb9f3a\"], [0.8888888888888888, \"#fdca26\"], [1.0, \"#f0f921\"]], \"type\": \"histogram2dcontour\"}], \"mesh3d\": [{\"colorbar\": {\"outlinewidth\": 0, \"ticks\": \"\"}, \"type\": \"mesh3d\"}], \"parcoords\": [{\"line\": {\"colorbar\": {\"outlinewidth\": 0, \"ticks\": \"\"}}, \"type\": \"parcoords\"}], \"pie\": [{\"automargin\": true, \"type\": \"pie\"}], \"scatter\": [{\"marker\": {\"colorbar\": {\"outlinewidth\": 0, \"ticks\": \"\"}}, \"type\": \"scatter\"}], \"scatter3d\": [{\"line\": {\"colorbar\": {\"outlinewidth\": 0, \"ticks\": \"\"}}, \"marker\": {\"colorbar\": {\"outlinewidth\": 0, \"ticks\": \"\"}}, \"type\": \"scatter3d\"}], \"scattercarpet\": [{\"marker\": {\"colorbar\": {\"outlinewidth\": 0, \"ticks\": \"\"}}, \"type\": \"scattercarpet\"}], \"scattergeo\": [{\"marker\": {\"colorbar\": {\"outlinewidth\": 0, \"ticks\": \"\"}}, \"type\": \"scattergeo\"}], \"scattergl\": [{\"marker\": {\"colorbar\": {\"outlinewidth\": 0, \"ticks\": \"\"}}, \"type\": \"scattergl\"}], \"scattermapbox\": [{\"marker\": {\"colorbar\": {\"outlinewidth\": 0, \"ticks\": \"\"}}, \"type\": \"scattermapbox\"}], \"scatterpolar\": [{\"marker\": {\"colorbar\": {\"outlinewidth\": 0, \"ticks\": \"\"}}, \"type\": \"scatterpolar\"}], \"scatterpolargl\": [{\"marker\": {\"colorbar\": {\"outlinewidth\": 0, \"ticks\": \"\"}}, \"type\": \"scatterpolargl\"}], \"scatterternary\": [{\"marker\": {\"colorbar\": {\"outlinewidth\": 0, \"ticks\": \"\"}}, \"type\": \"scatterternary\"}], \"surface\": [{\"colorbar\": {\"outlinewidth\": 0, \"ticks\": \"\"}, \"colorscale\": [[0.0, \"#0d0887\"], [0.1111111111111111, \"#46039f\"], [0.2222222222222222, \"#7201a8\"], [0.3333333333333333, \"#9c179e\"], [0.4444444444444444, \"#bd3786\"], [0.5555555555555556, \"#d8576b\"], [0.6666666666666666, \"#ed7953\"], [0.7777777777777778, \"#fb9f3a\"], [0.8888888888888888, \"#fdca26\"], [1.0, \"#f0f921\"]], \"type\": \"surface\"}], \"table\": [{\"cells\": {\"fill\": {\"color\": \"#EBF0F8\"}, \"line\": {\"color\": \"white\"}}, \"header\": {\"fill\": {\"color\": \"#C8D4E3\"}, \"line\": {\"color\": \"white\"}}, \"type\": \"table\"}]}, \"layout\": {\"annotationdefaults\": {\"arrowcolor\": \"#2a3f5f\", \"arrowhead\": 0, \"arrowwidth\": 1}, \"autotypenumbers\": \"strict\", \"coloraxis\": {\"colorbar\": {\"outlinewidth\": 0, \"ticks\": \"\"}}, \"colorscale\": {\"diverging\": [[0, \"#8e0152\"], [0.1, \"#c51b7d\"], [0.2, \"#de77ae\"], [0.3, \"#f1b6da\"], [0.4, \"#fde0ef\"], [0.5, \"#f7f7f7\"], [0.6, \"#e6f5d0\"], [0.7, \"#b8e186\"], [0.8, \"#7fbc41\"], [0.9, \"#4d9221\"], [1, \"#276419\"]], \"sequential\": [[0.0, \"#0d0887\"], [0.1111111111111111, \"#46039f\"], [0.2222222222222222, \"#7201a8\"], [0.3333333333333333, \"#9c179e\"], [0.4444444444444444, \"#bd3786\"], [0.5555555555555556, \"#d8576b\"], [0.6666666666666666, \"#ed7953\"], [0.7777777777777778, \"#fb9f3a\"], [0.8888888888888888, \"#fdca26\"], [1.0, \"#f0f921\"]], \"sequentialminus\": [[0.0, \"#0d0887\"], [0.1111111111111111, \"#46039f\"], [0.2222222222222222, \"#7201a8\"], [0.3333333333333333, \"#9c179e\"], [0.4444444444444444, \"#bd3786\"], [0.5555555555555556, \"#d8576b\"], [0.6666666666666666, \"#ed7953\"], [0.7777777777777778, \"#fb9f3a\"], [0.8888888888888888, \"#fdca26\"], [1.0, \"#f0f921\"]]}, \"colorway\": [\"#636efa\", \"#EF553B\", \"#00cc96\", \"#ab63fa\", \"#FFA15A\", \"#19d3f3\", \"#FF6692\", \"#B6E880\", \"#FF97FF\", \"#FECB52\"], \"font\": {\"color\": \"#2a3f5f\"}, \"geo\": {\"bgcolor\": \"white\", \"lakecolor\": \"white\", \"landcolor\": \"#E5ECF6\", \"showlakes\": true, \"showland\": true, \"subunitcolor\": \"white\"}, \"hoverlabel\": {\"align\": \"left\"}, \"hovermode\": \"closest\", \"mapbox\": {\"style\": \"light\"}, \"paper_bgcolor\": \"white\", \"plot_bgcolor\": \"#E5ECF6\", \"polar\": {\"angularaxis\": {\"gridcolor\": \"white\", \"linecolor\": \"white\", \"ticks\": \"\"}, \"bgcolor\": \"#E5ECF6\", \"radialaxis\": {\"gridcolor\": \"white\", \"linecolor\": \"white\", \"ticks\": \"\"}}, \"scene\": {\"xaxis\": {\"backgroundcolor\": \"#E5ECF6\", \"gridcolor\": \"white\", \"gridwidth\": 2, \"linecolor\": \"white\", \"showbackground\": true, \"ticks\": \"\", \"zerolinecolor\": \"white\"}, \"yaxis\": {\"backgroundcolor\": \"#E5ECF6\", \"gridcolor\": \"white\", \"gridwidth\": 2, \"linecolor\": \"white\", \"showbackground\": true, \"ticks\": \"\", \"zerolinecolor\": \"white\"}, \"zaxis\": {\"backgroundcolor\": \"#E5ECF6\", \"gridcolor\": \"white\", \"gridwidth\": 2, \"linecolor\": \"white\", \"showbackground\": true, \"ticks\": \"\", \"zerolinecolor\": \"white\"}}, \"shapedefaults\": {\"line\": {\"color\": \"#2a3f5f\"}}, \"ternary\": {\"aaxis\": {\"gridcolor\": \"white\", \"linecolor\": \"white\", \"ticks\": \"\"}, \"baxis\": {\"gridcolor\": \"white\", \"linecolor\": \"white\", \"ticks\": \"\"}, \"bgcolor\": \"#E5ECF6\", \"caxis\": {\"gridcolor\": \"white\", \"linecolor\": \"white\", \"ticks\": \"\"}}, \"title\": {\"x\": 0.05}, \"xaxis\": {\"automargin\": true, \"gridcolor\": \"white\", \"linecolor\": \"white\", \"ticks\": \"\", \"title\": {\"standoff\": 15}, \"zerolinecolor\": \"white\", \"zerolinewidth\": 2}, \"yaxis\": {\"automargin\": true, \"gridcolor\": \"white\", \"linecolor\": \"white\", \"ticks\": \"\", \"title\": {\"standoff\": 15}, \"zerolinecolor\": \"white\", \"zerolinewidth\": 2}}}, \"title\": {\"font\": {\"size\": 30}, \"text\": \"Population of Japan\"}, \"xaxis\": {\"title\": {\"font\": {\"size\": 20}, \"text\": \"Year\"}}, \"yaxis\": {\"title\": {\"font\": {\"size\": 20}, \"text\": \"Population\"}}},                        {\"responsive\": true}                    ).then(function(){\n",
       "                            \n",
       "var gd = document.getElementById('58e32109-7b73-4f1a-bb97-c0dcfca21fa1');\n",
       "var x = new MutationObserver(function (mutations, observer) {{\n",
       "        var display = window.getComputedStyle(gd).display;\n",
       "        if (!display || display === 'none') {{\n",
       "            console.log([gd, 'removed!']);\n",
       "            Plotly.purge(gd);\n",
       "            observer.disconnect();\n",
       "        }}\n",
       "}});\n",
       "\n",
       "// Listen for the removal of the full notebook cells\n",
       "var notebookContainer = gd.closest('#notebook-container');\n",
       "if (notebookContainer) {{\n",
       "    x.observe(notebookContainer, {childList: true});\n",
       "}}\n",
       "\n",
       "// Listen for the clearing of the current output cell\n",
       "var outputEl = gd.closest('.output');\n",
       "if (outputEl) {{\n",
       "    x.observe(outputEl, {childList: true});\n",
       "}}\n",
       "\n",
       "                        })                };                });            </script>        </div>"
      ]
     },
     "metadata": {},
     "output_type": "display_data"
    }
   ],
   "source": [
    "japan_fe_population = [48207265.0, 48658610.0, 49156435.0, 49669854.0, 50202076.0, 50654649.0, 51118354.0, 51275717.0,\n",
    "                       52332222.0, 52912269.0, 53582623.0, 54323037.0, 54759934.0, 55802301.0, 56692355.0, 57105578.0,\n",
    "                       57653715.0, 58175297.0, 58666578.0, 59128589.0, 59568195.0, 59976057.0, 60390235.0, 60781188.0, \n",
    "                       61163616.0, 61550553.0, 61870178.0, 62152720.0, 62425974.0, 62656883.0, 62867656.0, 63038943.0, \n",
    "                       63209914.0, 63442648.0, 63705357.0, 63890191.0, 64068675.0, 64270952.0, 64416945.0, 64552936.0, \n",
    "                       64736064.0, 64913526.0, 65078804.0, 65126621.0, 65158465.0, 65225372.0, 65325526.0, 65381234.0,\n",
    "                       65395181.0, 65426533.0, 65322325.0, 65232461.0, 65150796.0, 65075452.0, 65016722.0, 64951468.0, \n",
    "                       64853783.0, 64731350.0, 64605360.0\n",
    "                      ]\n",
    "japan_ma_population = [46735735.0, 47173390.0, 47655565.0, 48156146.0, 48680924.0, 49135351.0, 49606646.0, 49785283.0, \n",
    "                       50839778.0, 51432731.0, 52114377.0, 52864963.0, 53319066.0, 54359699.0, 55247645.0, 55665422.0, \n",
    "                       56209285.0, 56722703.0, 57203422.0, 57653411.0, 58079805.0, 58472943.0, 58868765.0, 59236812.0, \n",
    "                       59590384.0, 59941447.0, 60220822.0, 60460280.0, 60690026.0, 60880117.0, 61053344.0, 61190057.0, \n",
    "                       61326086.0, 61518352.0, 61733643.0, 61866809.0, 61988325.0, 62129048.0, 62214055.0, 62290064.0, \n",
    "                       62412936.0, 62531474.0, 62639196.0, 62634379.0, 62614535.0, 62628628.0, 62675474.0, 62681766.0, \n",
    "                       62651819.0, 62643467.0, 62510675.0, 62396539.0, 62294204.0, 62200548.0, 62124278.0, 62043043.0,\n",
    "                       61932014.0, 61797750.0, 61659571.0, \n",
    "                      ]\n",
    "fig3 = go.Figure(go.Bar(x=x, y=japan_fe_population, name='Female'))\n",
    "fig3.add_trace(go.Bar(x=x, y=japan_ma_population, name='Male'))\n",
    "\n",
    "fig3.update_layout(barmode='stack', xaxis = dict(title='Year', titlefont_size=20),\n",
    "                  yaxis = dict(title='Population', titlefont_size=20), title = \"Population of Japan\", titlefont_size=30)\n",
    "fig3.show()"
   ]
  },
  {
   "cell_type": "code",
   "execution_count": 4,
   "metadata": {},
   "outputs": [
    {
     "data": {
      "application/vnd.plotly.v1+json": {
       "config": {
        "plotlyServerURL": "https://plot.ly"
       },
       "data": [
        {
         "name": "Female",
         "type": "bar",
         "x": [
          1961,
          1962,
          1963,
          1964,
          1965,
          1966,
          1967,
          1968,
          1969,
          1970,
          1971,
          1972,
          1973,
          1974,
          1975,
          1976,
          1977,
          1978,
          1979,
          1980,
          1981,
          1982,
          1983,
          1984,
          1985,
          1986,
          1987,
          1988,
          1989,
          1990,
          1991,
          1992,
          1993,
          1994,
          1995,
          1996,
          1997,
          1998,
          1999,
          2000,
          2001,
          2002,
          2003,
          2004,
          2005,
          2006,
          2007,
          2008,
          2009,
          2010,
          2011,
          2012,
          2013,
          2014,
          2015,
          2016,
          2017,
          2018,
          2019
         ],
         "y": [
          25964789,
          26138706,
          26327740,
          26541784,
          26761059,
          26962781,
          27150216,
          27313588,
          27461125,
          27601465,
          27727502,
          27884366,
          28075511,
          28264021,
          28440396,
          28593188,
          28728395,
          28844774,
          28938963,
          29003779,
          29037088,
          29051541,
          29052240,
          29050056,
          29053777,
          29055645,
          29062997,
          29084322,
          29114370,
          29146541,
          29173243,
          29198819,
          29223132,
          29238360,
          29252149,
          29279269,
          29318010,
          29349203,
          29369602,
          29386547,
          29391908,
          29412462,
          29515905,
          29686364,
          29825093,
          29924053,
          30098000,
          30326738,
          30489592,
          30596015,
          30647051,
          30716752,
          31053693,
          31315785,
          31262660,
          31188515,
          31121471,
          31042688,
          30959312
         ]
        },
        {
         "name": "Male",
         "type": "bar",
         "x": [
          1961,
          1962,
          1963,
          1964,
          1965,
          1966,
          1967,
          1968,
          1969,
          1970,
          1971,
          1972,
          1973,
          1974,
          1975,
          1976,
          1977,
          1978,
          1979,
          1980,
          1981,
          1982,
          1983,
          1984,
          1985,
          1986,
          1987,
          1988,
          1989,
          1990,
          1991,
          1992,
          1993,
          1994,
          1995,
          1996,
          1997,
          1998,
          1999,
          2000,
          2001,
          2002,
          2003,
          2004,
          2005,
          2006,
          2007,
          2008,
          2009,
          2010,
          2011,
          2012,
          2013,
          2014,
          2015,
          2016,
          2017,
          2018,
          2019
         ],
         "y": [
          24571561,
          24740744,
          24924260,
          25133566,
          25351291,
          25556219,
          25750284,
          25922162,
          26076825,
          26220385,
          26345988,
          26496979,
          26675895,
          26846847,
          27000605,
          27125072,
          27227016,
          27310369,
          27378786,
          27430104,
          27464587,
          27492007,
          27511834,
          27526662,
          27539294,
          27540510,
          27538934,
          27544966,
          27557411,
          27572699,
          27585278,
          27598268,
          27608689,
          27605040,
          27592154,
          27581012,
          27572362,
          27557541,
          27546715,
          27555561,
          27582192,
          27646545,
          27797298,
          27998963,
          28144391,
          28219926,
          28340310,
          28499993,
          28605773,
          28681402,
          28732398,
          28822965,
          29180255,
          29473355,
          29467922,
          29438983,
          29415238,
          29379072,
          29338084
         ]
        }
       ],
       "layout": {
        "barmode": "stack",
        "template": {
         "data": {
          "bar": [
           {
            "error_x": {
             "color": "#2a3f5f"
            },
            "error_y": {
             "color": "#2a3f5f"
            },
            "marker": {
             "line": {
              "color": "#E5ECF6",
              "width": 0.5
             }
            },
            "type": "bar"
           }
          ],
          "barpolar": [
           {
            "marker": {
             "line": {
              "color": "#E5ECF6",
              "width": 0.5
             }
            },
            "type": "barpolar"
           }
          ],
          "carpet": [
           {
            "aaxis": {
             "endlinecolor": "#2a3f5f",
             "gridcolor": "white",
             "linecolor": "white",
             "minorgridcolor": "white",
             "startlinecolor": "#2a3f5f"
            },
            "baxis": {
             "endlinecolor": "#2a3f5f",
             "gridcolor": "white",
             "linecolor": "white",
             "minorgridcolor": "white",
             "startlinecolor": "#2a3f5f"
            },
            "type": "carpet"
           }
          ],
          "choropleth": [
           {
            "colorbar": {
             "outlinewidth": 0,
             "ticks": ""
            },
            "type": "choropleth"
           }
          ],
          "contour": [
           {
            "colorbar": {
             "outlinewidth": 0,
             "ticks": ""
            },
            "colorscale": [
             [
              0,
              "#0d0887"
             ],
             [
              0.1111111111111111,
              "#46039f"
             ],
             [
              0.2222222222222222,
              "#7201a8"
             ],
             [
              0.3333333333333333,
              "#9c179e"
             ],
             [
              0.4444444444444444,
              "#bd3786"
             ],
             [
              0.5555555555555556,
              "#d8576b"
             ],
             [
              0.6666666666666666,
              "#ed7953"
             ],
             [
              0.7777777777777778,
              "#fb9f3a"
             ],
             [
              0.8888888888888888,
              "#fdca26"
             ],
             [
              1,
              "#f0f921"
             ]
            ],
            "type": "contour"
           }
          ],
          "contourcarpet": [
           {
            "colorbar": {
             "outlinewidth": 0,
             "ticks": ""
            },
            "type": "contourcarpet"
           }
          ],
          "heatmap": [
           {
            "colorbar": {
             "outlinewidth": 0,
             "ticks": ""
            },
            "colorscale": [
             [
              0,
              "#0d0887"
             ],
             [
              0.1111111111111111,
              "#46039f"
             ],
             [
              0.2222222222222222,
              "#7201a8"
             ],
             [
              0.3333333333333333,
              "#9c179e"
             ],
             [
              0.4444444444444444,
              "#bd3786"
             ],
             [
              0.5555555555555556,
              "#d8576b"
             ],
             [
              0.6666666666666666,
              "#ed7953"
             ],
             [
              0.7777777777777778,
              "#fb9f3a"
             ],
             [
              0.8888888888888888,
              "#fdca26"
             ],
             [
              1,
              "#f0f921"
             ]
            ],
            "type": "heatmap"
           }
          ],
          "heatmapgl": [
           {
            "colorbar": {
             "outlinewidth": 0,
             "ticks": ""
            },
            "colorscale": [
             [
              0,
              "#0d0887"
             ],
             [
              0.1111111111111111,
              "#46039f"
             ],
             [
              0.2222222222222222,
              "#7201a8"
             ],
             [
              0.3333333333333333,
              "#9c179e"
             ],
             [
              0.4444444444444444,
              "#bd3786"
             ],
             [
              0.5555555555555556,
              "#d8576b"
             ],
             [
              0.6666666666666666,
              "#ed7953"
             ],
             [
              0.7777777777777778,
              "#fb9f3a"
             ],
             [
              0.8888888888888888,
              "#fdca26"
             ],
             [
              1,
              "#f0f921"
             ]
            ],
            "type": "heatmapgl"
           }
          ],
          "histogram": [
           {
            "marker": {
             "colorbar": {
              "outlinewidth": 0,
              "ticks": ""
             }
            },
            "type": "histogram"
           }
          ],
          "histogram2d": [
           {
            "colorbar": {
             "outlinewidth": 0,
             "ticks": ""
            },
            "colorscale": [
             [
              0,
              "#0d0887"
             ],
             [
              0.1111111111111111,
              "#46039f"
             ],
             [
              0.2222222222222222,
              "#7201a8"
             ],
             [
              0.3333333333333333,
              "#9c179e"
             ],
             [
              0.4444444444444444,
              "#bd3786"
             ],
             [
              0.5555555555555556,
              "#d8576b"
             ],
             [
              0.6666666666666666,
              "#ed7953"
             ],
             [
              0.7777777777777778,
              "#fb9f3a"
             ],
             [
              0.8888888888888888,
              "#fdca26"
             ],
             [
              1,
              "#f0f921"
             ]
            ],
            "type": "histogram2d"
           }
          ],
          "histogram2dcontour": [
           {
            "colorbar": {
             "outlinewidth": 0,
             "ticks": ""
            },
            "colorscale": [
             [
              0,
              "#0d0887"
             ],
             [
              0.1111111111111111,
              "#46039f"
             ],
             [
              0.2222222222222222,
              "#7201a8"
             ],
             [
              0.3333333333333333,
              "#9c179e"
             ],
             [
              0.4444444444444444,
              "#bd3786"
             ],
             [
              0.5555555555555556,
              "#d8576b"
             ],
             [
              0.6666666666666666,
              "#ed7953"
             ],
             [
              0.7777777777777778,
              "#fb9f3a"
             ],
             [
              0.8888888888888888,
              "#fdca26"
             ],
             [
              1,
              "#f0f921"
             ]
            ],
            "type": "histogram2dcontour"
           }
          ],
          "mesh3d": [
           {
            "colorbar": {
             "outlinewidth": 0,
             "ticks": ""
            },
            "type": "mesh3d"
           }
          ],
          "parcoords": [
           {
            "line": {
             "colorbar": {
              "outlinewidth": 0,
              "ticks": ""
             }
            },
            "type": "parcoords"
           }
          ],
          "pie": [
           {
            "automargin": true,
            "type": "pie"
           }
          ],
          "scatter": [
           {
            "marker": {
             "colorbar": {
              "outlinewidth": 0,
              "ticks": ""
             }
            },
            "type": "scatter"
           }
          ],
          "scatter3d": [
           {
            "line": {
             "colorbar": {
              "outlinewidth": 0,
              "ticks": ""
             }
            },
            "marker": {
             "colorbar": {
              "outlinewidth": 0,
              "ticks": ""
             }
            },
            "type": "scatter3d"
           }
          ],
          "scattercarpet": [
           {
            "marker": {
             "colorbar": {
              "outlinewidth": 0,
              "ticks": ""
             }
            },
            "type": "scattercarpet"
           }
          ],
          "scattergeo": [
           {
            "marker": {
             "colorbar": {
              "outlinewidth": 0,
              "ticks": ""
             }
            },
            "type": "scattergeo"
           }
          ],
          "scattergl": [
           {
            "marker": {
             "colorbar": {
              "outlinewidth": 0,
              "ticks": ""
             }
            },
            "type": "scattergl"
           }
          ],
          "scattermapbox": [
           {
            "marker": {
             "colorbar": {
              "outlinewidth": 0,
              "ticks": ""
             }
            },
            "type": "scattermapbox"
           }
          ],
          "scatterpolar": [
           {
            "marker": {
             "colorbar": {
              "outlinewidth": 0,
              "ticks": ""
             }
            },
            "type": "scatterpolar"
           }
          ],
          "scatterpolargl": [
           {
            "marker": {
             "colorbar": {
              "outlinewidth": 0,
              "ticks": ""
             }
            },
            "type": "scatterpolargl"
           }
          ],
          "scatterternary": [
           {
            "marker": {
             "colorbar": {
              "outlinewidth": 0,
              "ticks": ""
             }
            },
            "type": "scatterternary"
           }
          ],
          "surface": [
           {
            "colorbar": {
             "outlinewidth": 0,
             "ticks": ""
            },
            "colorscale": [
             [
              0,
              "#0d0887"
             ],
             [
              0.1111111111111111,
              "#46039f"
             ],
             [
              0.2222222222222222,
              "#7201a8"
             ],
             [
              0.3333333333333333,
              "#9c179e"
             ],
             [
              0.4444444444444444,
              "#bd3786"
             ],
             [
              0.5555555555555556,
              "#d8576b"
             ],
             [
              0.6666666666666666,
              "#ed7953"
             ],
             [
              0.7777777777777778,
              "#fb9f3a"
             ],
             [
              0.8888888888888888,
              "#fdca26"
             ],
             [
              1,
              "#f0f921"
             ]
            ],
            "type": "surface"
           }
          ],
          "table": [
           {
            "cells": {
             "fill": {
              "color": "#EBF0F8"
             },
             "line": {
              "color": "white"
             }
            },
            "header": {
             "fill": {
              "color": "#C8D4E3"
             },
             "line": {
              "color": "white"
             }
            },
            "type": "table"
           }
          ]
         },
         "layout": {
          "annotationdefaults": {
           "arrowcolor": "#2a3f5f",
           "arrowhead": 0,
           "arrowwidth": 1
          },
          "autotypenumbers": "strict",
          "coloraxis": {
           "colorbar": {
            "outlinewidth": 0,
            "ticks": ""
           }
          },
          "colorscale": {
           "diverging": [
            [
             0,
             "#8e0152"
            ],
            [
             0.1,
             "#c51b7d"
            ],
            [
             0.2,
             "#de77ae"
            ],
            [
             0.3,
             "#f1b6da"
            ],
            [
             0.4,
             "#fde0ef"
            ],
            [
             0.5,
             "#f7f7f7"
            ],
            [
             0.6,
             "#e6f5d0"
            ],
            [
             0.7,
             "#b8e186"
            ],
            [
             0.8,
             "#7fbc41"
            ],
            [
             0.9,
             "#4d9221"
            ],
            [
             1,
             "#276419"
            ]
           ],
           "sequential": [
            [
             0,
             "#0d0887"
            ],
            [
             0.1111111111111111,
             "#46039f"
            ],
            [
             0.2222222222222222,
             "#7201a8"
            ],
            [
             0.3333333333333333,
             "#9c179e"
            ],
            [
             0.4444444444444444,
             "#bd3786"
            ],
            [
             0.5555555555555556,
             "#d8576b"
            ],
            [
             0.6666666666666666,
             "#ed7953"
            ],
            [
             0.7777777777777778,
             "#fb9f3a"
            ],
            [
             0.8888888888888888,
             "#fdca26"
            ],
            [
             1,
             "#f0f921"
            ]
           ],
           "sequentialminus": [
            [
             0,
             "#0d0887"
            ],
            [
             0.1111111111111111,
             "#46039f"
            ],
            [
             0.2222222222222222,
             "#7201a8"
            ],
            [
             0.3333333333333333,
             "#9c179e"
            ],
            [
             0.4444444444444444,
             "#bd3786"
            ],
            [
             0.5555555555555556,
             "#d8576b"
            ],
            [
             0.6666666666666666,
             "#ed7953"
            ],
            [
             0.7777777777777778,
             "#fb9f3a"
            ],
            [
             0.8888888888888888,
             "#fdca26"
            ],
            [
             1,
             "#f0f921"
            ]
           ]
          },
          "colorway": [
           "#636efa",
           "#EF553B",
           "#00cc96",
           "#ab63fa",
           "#FFA15A",
           "#19d3f3",
           "#FF6692",
           "#B6E880",
           "#FF97FF",
           "#FECB52"
          ],
          "font": {
           "color": "#2a3f5f"
          },
          "geo": {
           "bgcolor": "white",
           "lakecolor": "white",
           "landcolor": "#E5ECF6",
           "showlakes": true,
           "showland": true,
           "subunitcolor": "white"
          },
          "hoverlabel": {
           "align": "left"
          },
          "hovermode": "closest",
          "mapbox": {
           "style": "light"
          },
          "paper_bgcolor": "white",
          "plot_bgcolor": "#E5ECF6",
          "polar": {
           "angularaxis": {
            "gridcolor": "white",
            "linecolor": "white",
            "ticks": ""
           },
           "bgcolor": "#E5ECF6",
           "radialaxis": {
            "gridcolor": "white",
            "linecolor": "white",
            "ticks": ""
           }
          },
          "scene": {
           "xaxis": {
            "backgroundcolor": "#E5ECF6",
            "gridcolor": "white",
            "gridwidth": 2,
            "linecolor": "white",
            "showbackground": true,
            "ticks": "",
            "zerolinecolor": "white"
           },
           "yaxis": {
            "backgroundcolor": "#E5ECF6",
            "gridcolor": "white",
            "gridwidth": 2,
            "linecolor": "white",
            "showbackground": true,
            "ticks": "",
            "zerolinecolor": "white"
           },
           "zaxis": {
            "backgroundcolor": "#E5ECF6",
            "gridcolor": "white",
            "gridwidth": 2,
            "linecolor": "white",
            "showbackground": true,
            "ticks": "",
            "zerolinecolor": "white"
           }
          },
          "shapedefaults": {
           "line": {
            "color": "#2a3f5f"
           }
          },
          "ternary": {
           "aaxis": {
            "gridcolor": "white",
            "linecolor": "white",
            "ticks": ""
           },
           "baxis": {
            "gridcolor": "white",
            "linecolor": "white",
            "ticks": ""
           },
           "bgcolor": "#E5ECF6",
           "caxis": {
            "gridcolor": "white",
            "linecolor": "white",
            "ticks": ""
           }
          },
          "title": {
           "x": 0.05
          },
          "xaxis": {
           "automargin": true,
           "gridcolor": "white",
           "linecolor": "white",
           "ticks": "",
           "title": {
            "standoff": 15
           },
           "zerolinecolor": "white",
           "zerolinewidth": 2
          },
          "yaxis": {
           "automargin": true,
           "gridcolor": "white",
           "linecolor": "white",
           "ticks": "",
           "title": {
            "standoff": 15
           },
           "zerolinecolor": "white",
           "zerolinewidth": 2
          }
         }
        },
        "title": {
         "font": {
          "size": 30
         },
         "text": "Population of Italy"
        },
        "xaxis": {
         "title": {
          "font": {
           "size": 20
          },
          "text": "Year"
         }
        },
        "yaxis": {
         "title": {
          "font": {
           "size": 20
          },
          "text": "Population"
         }
        }
       }
      },
      "text/html": [
       "<div>                            <div id=\"40b7418c-56ba-4aa8-acc9-82e19eeb5117\" class=\"plotly-graph-div\" style=\"height:525px; width:100%;\"></div>            <script type=\"text/javascript\">                require([\"plotly\"], function(Plotly) {                    window.PLOTLYENV=window.PLOTLYENV || {};                                    if (document.getElementById(\"40b7418c-56ba-4aa8-acc9-82e19eeb5117\")) {                    Plotly.newPlot(                        \"40b7418c-56ba-4aa8-acc9-82e19eeb5117\",                        [{\"name\": \"Female\", \"type\": \"bar\", \"x\": [1961, 1962, 1963, 1964, 1965, 1966, 1967, 1968, 1969, 1970, 1971, 1972, 1973, 1974, 1975, 1976, 1977, 1978, 1979, 1980, 1981, 1982, 1983, 1984, 1985, 1986, 1987, 1988, 1989, 1990, 1991, 1992, 1993, 1994, 1995, 1996, 1997, 1998, 1999, 2000, 2001, 2002, 2003, 2004, 2005, 2006, 2007, 2008, 2009, 2010, 2011, 2012, 2013, 2014, 2015, 2016, 2017, 2018, 2019], \"y\": [25964789.0, 26138706.0, 26327740.0, 26541784.0, 26761059.0, 26962781.0, 27150216.0, 27313588.0, 27461125.0, 27601465.0, 27727502.0, 27884366.0, 28075511.0, 28264021.0, 28440396.0, 28593188.0, 28728395.0, 28844774.0, 28938963.0, 29003779.0, 29037088.0, 29051541.0, 29052240.0, 29050056.0, 29053777.0, 29055645.0, 29062997.0, 29084322.0, 29114370.0, 29146541.0, 29173243.0, 29198819.0, 29223132.0, 29238360.0, 29252149.0, 29279269.0, 29318010.0, 29349203.0, 29369602.0, 29386547.0, 29391908.0, 29412462.0, 29515905.0, 29686364.0, 29825093.0, 29924053.0, 30098000.0, 30326738.0, 30489592.0, 30596015.0, 30647051.0, 30716752.0, 31053693.0, 31315785.0, 31262660.0, 31188515.0, 31121471.0, 31042688.0, 30959312.0]}, {\"name\": \"Male\", \"type\": \"bar\", \"x\": [1961, 1962, 1963, 1964, 1965, 1966, 1967, 1968, 1969, 1970, 1971, 1972, 1973, 1974, 1975, 1976, 1977, 1978, 1979, 1980, 1981, 1982, 1983, 1984, 1985, 1986, 1987, 1988, 1989, 1990, 1991, 1992, 1993, 1994, 1995, 1996, 1997, 1998, 1999, 2000, 2001, 2002, 2003, 2004, 2005, 2006, 2007, 2008, 2009, 2010, 2011, 2012, 2013, 2014, 2015, 2016, 2017, 2018, 2019], \"y\": [24571561.0, 24740744.0, 24924260.0, 25133566.0, 25351291.0, 25556219.0, 25750284.0, 25922162.0, 26076825.0, 26220385.0, 26345988.0, 26496979.0, 26675895.0, 26846847.0, 27000605.0, 27125072.0, 27227016.0, 27310369.0, 27378786.0, 27430104.0, 27464587.0, 27492007.0, 27511834.0, 27526662.0, 27539294.0, 27540510.0, 27538934.0, 27544966.0, 27557411.0, 27572699.0, 27585278.0, 27598268.0, 27608689.0, 27605040.0, 27592154.0, 27581012.0, 27572362.0, 27557541.0, 27546715.0, 27555561.0, 27582192.0, 27646545.0, 27797298.0, 27998963.0, 28144391.0, 28219926.0, 28340310.0, 28499993.0, 28605773.0, 28681402.0, 28732398.0, 28822965.0, 29180255.0, 29473355.0, 29467922.0, 29438983.0, 29415238.0, 29379072.0, 29338084.0]}],                        {\"barmode\": \"stack\", \"template\": {\"data\": {\"bar\": [{\"error_x\": {\"color\": \"#2a3f5f\"}, \"error_y\": {\"color\": \"#2a3f5f\"}, \"marker\": {\"line\": {\"color\": \"#E5ECF6\", \"width\": 0.5}}, \"type\": \"bar\"}], \"barpolar\": [{\"marker\": {\"line\": {\"color\": \"#E5ECF6\", \"width\": 0.5}}, \"type\": \"barpolar\"}], \"carpet\": [{\"aaxis\": {\"endlinecolor\": \"#2a3f5f\", \"gridcolor\": \"white\", \"linecolor\": \"white\", \"minorgridcolor\": \"white\", \"startlinecolor\": \"#2a3f5f\"}, \"baxis\": {\"endlinecolor\": \"#2a3f5f\", \"gridcolor\": \"white\", \"linecolor\": \"white\", \"minorgridcolor\": \"white\", \"startlinecolor\": \"#2a3f5f\"}, \"type\": \"carpet\"}], \"choropleth\": [{\"colorbar\": {\"outlinewidth\": 0, \"ticks\": \"\"}, \"type\": \"choropleth\"}], \"contour\": [{\"colorbar\": {\"outlinewidth\": 0, \"ticks\": \"\"}, \"colorscale\": [[0.0, \"#0d0887\"], [0.1111111111111111, \"#46039f\"], [0.2222222222222222, \"#7201a8\"], [0.3333333333333333, \"#9c179e\"], [0.4444444444444444, \"#bd3786\"], [0.5555555555555556, \"#d8576b\"], [0.6666666666666666, \"#ed7953\"], [0.7777777777777778, \"#fb9f3a\"], [0.8888888888888888, \"#fdca26\"], [1.0, \"#f0f921\"]], \"type\": \"contour\"}], \"contourcarpet\": [{\"colorbar\": {\"outlinewidth\": 0, \"ticks\": \"\"}, \"type\": \"contourcarpet\"}], \"heatmap\": [{\"colorbar\": {\"outlinewidth\": 0, \"ticks\": \"\"}, \"colorscale\": [[0.0, \"#0d0887\"], [0.1111111111111111, \"#46039f\"], [0.2222222222222222, \"#7201a8\"], [0.3333333333333333, \"#9c179e\"], [0.4444444444444444, \"#bd3786\"], [0.5555555555555556, \"#d8576b\"], [0.6666666666666666, \"#ed7953\"], [0.7777777777777778, \"#fb9f3a\"], [0.8888888888888888, \"#fdca26\"], [1.0, \"#f0f921\"]], \"type\": \"heatmap\"}], \"heatmapgl\": [{\"colorbar\": {\"outlinewidth\": 0, \"ticks\": \"\"}, \"colorscale\": [[0.0, \"#0d0887\"], [0.1111111111111111, \"#46039f\"], [0.2222222222222222, \"#7201a8\"], [0.3333333333333333, \"#9c179e\"], [0.4444444444444444, \"#bd3786\"], [0.5555555555555556, \"#d8576b\"], [0.6666666666666666, \"#ed7953\"], [0.7777777777777778, \"#fb9f3a\"], [0.8888888888888888, \"#fdca26\"], [1.0, \"#f0f921\"]], \"type\": \"heatmapgl\"}], \"histogram\": [{\"marker\": {\"colorbar\": {\"outlinewidth\": 0, \"ticks\": \"\"}}, \"type\": \"histogram\"}], \"histogram2d\": [{\"colorbar\": {\"outlinewidth\": 0, \"ticks\": \"\"}, \"colorscale\": [[0.0, \"#0d0887\"], [0.1111111111111111, \"#46039f\"], [0.2222222222222222, \"#7201a8\"], [0.3333333333333333, \"#9c179e\"], [0.4444444444444444, \"#bd3786\"], [0.5555555555555556, \"#d8576b\"], [0.6666666666666666, \"#ed7953\"], [0.7777777777777778, \"#fb9f3a\"], [0.8888888888888888, \"#fdca26\"], [1.0, \"#f0f921\"]], \"type\": \"histogram2d\"}], \"histogram2dcontour\": [{\"colorbar\": {\"outlinewidth\": 0, \"ticks\": \"\"}, \"colorscale\": [[0.0, \"#0d0887\"], [0.1111111111111111, \"#46039f\"], [0.2222222222222222, \"#7201a8\"], [0.3333333333333333, \"#9c179e\"], [0.4444444444444444, \"#bd3786\"], [0.5555555555555556, \"#d8576b\"], [0.6666666666666666, \"#ed7953\"], [0.7777777777777778, \"#fb9f3a\"], [0.8888888888888888, \"#fdca26\"], [1.0, \"#f0f921\"]], \"type\": \"histogram2dcontour\"}], \"mesh3d\": [{\"colorbar\": {\"outlinewidth\": 0, \"ticks\": \"\"}, \"type\": \"mesh3d\"}], \"parcoords\": [{\"line\": {\"colorbar\": {\"outlinewidth\": 0, \"ticks\": \"\"}}, \"type\": \"parcoords\"}], \"pie\": [{\"automargin\": true, \"type\": \"pie\"}], \"scatter\": [{\"marker\": {\"colorbar\": {\"outlinewidth\": 0, \"ticks\": \"\"}}, \"type\": \"scatter\"}], \"scatter3d\": [{\"line\": {\"colorbar\": {\"outlinewidth\": 0, \"ticks\": \"\"}}, \"marker\": {\"colorbar\": {\"outlinewidth\": 0, \"ticks\": \"\"}}, \"type\": \"scatter3d\"}], \"scattercarpet\": [{\"marker\": {\"colorbar\": {\"outlinewidth\": 0, \"ticks\": \"\"}}, \"type\": \"scattercarpet\"}], \"scattergeo\": [{\"marker\": {\"colorbar\": {\"outlinewidth\": 0, \"ticks\": \"\"}}, \"type\": \"scattergeo\"}], \"scattergl\": [{\"marker\": {\"colorbar\": {\"outlinewidth\": 0, \"ticks\": \"\"}}, \"type\": \"scattergl\"}], \"scattermapbox\": [{\"marker\": {\"colorbar\": {\"outlinewidth\": 0, \"ticks\": \"\"}}, \"type\": \"scattermapbox\"}], \"scatterpolar\": [{\"marker\": {\"colorbar\": {\"outlinewidth\": 0, \"ticks\": \"\"}}, \"type\": \"scatterpolar\"}], \"scatterpolargl\": [{\"marker\": {\"colorbar\": {\"outlinewidth\": 0, \"ticks\": \"\"}}, \"type\": \"scatterpolargl\"}], \"scatterternary\": [{\"marker\": {\"colorbar\": {\"outlinewidth\": 0, \"ticks\": \"\"}}, \"type\": \"scatterternary\"}], \"surface\": [{\"colorbar\": {\"outlinewidth\": 0, \"ticks\": \"\"}, \"colorscale\": [[0.0, \"#0d0887\"], [0.1111111111111111, \"#46039f\"], [0.2222222222222222, \"#7201a8\"], [0.3333333333333333, \"#9c179e\"], [0.4444444444444444, \"#bd3786\"], [0.5555555555555556, \"#d8576b\"], [0.6666666666666666, \"#ed7953\"], [0.7777777777777778, \"#fb9f3a\"], [0.8888888888888888, \"#fdca26\"], [1.0, \"#f0f921\"]], \"type\": \"surface\"}], \"table\": [{\"cells\": {\"fill\": {\"color\": \"#EBF0F8\"}, \"line\": {\"color\": \"white\"}}, \"header\": {\"fill\": {\"color\": \"#C8D4E3\"}, \"line\": {\"color\": \"white\"}}, \"type\": \"table\"}]}, \"layout\": {\"annotationdefaults\": {\"arrowcolor\": \"#2a3f5f\", \"arrowhead\": 0, \"arrowwidth\": 1}, \"autotypenumbers\": \"strict\", \"coloraxis\": {\"colorbar\": {\"outlinewidth\": 0, \"ticks\": \"\"}}, \"colorscale\": {\"diverging\": [[0, \"#8e0152\"], [0.1, \"#c51b7d\"], [0.2, \"#de77ae\"], [0.3, \"#f1b6da\"], [0.4, \"#fde0ef\"], [0.5, \"#f7f7f7\"], [0.6, \"#e6f5d0\"], [0.7, \"#b8e186\"], [0.8, \"#7fbc41\"], [0.9, \"#4d9221\"], [1, \"#276419\"]], \"sequential\": [[0.0, \"#0d0887\"], [0.1111111111111111, \"#46039f\"], [0.2222222222222222, \"#7201a8\"], [0.3333333333333333, \"#9c179e\"], [0.4444444444444444, \"#bd3786\"], [0.5555555555555556, \"#d8576b\"], [0.6666666666666666, \"#ed7953\"], [0.7777777777777778, \"#fb9f3a\"], [0.8888888888888888, \"#fdca26\"], [1.0, \"#f0f921\"]], \"sequentialminus\": [[0.0, \"#0d0887\"], [0.1111111111111111, \"#46039f\"], [0.2222222222222222, \"#7201a8\"], [0.3333333333333333, \"#9c179e\"], [0.4444444444444444, \"#bd3786\"], [0.5555555555555556, \"#d8576b\"], [0.6666666666666666, \"#ed7953\"], [0.7777777777777778, \"#fb9f3a\"], [0.8888888888888888, \"#fdca26\"], [1.0, \"#f0f921\"]]}, \"colorway\": [\"#636efa\", \"#EF553B\", \"#00cc96\", \"#ab63fa\", \"#FFA15A\", \"#19d3f3\", \"#FF6692\", \"#B6E880\", \"#FF97FF\", \"#FECB52\"], \"font\": {\"color\": \"#2a3f5f\"}, \"geo\": {\"bgcolor\": \"white\", \"lakecolor\": \"white\", \"landcolor\": \"#E5ECF6\", \"showlakes\": true, \"showland\": true, \"subunitcolor\": \"white\"}, \"hoverlabel\": {\"align\": \"left\"}, \"hovermode\": \"closest\", \"mapbox\": {\"style\": \"light\"}, \"paper_bgcolor\": \"white\", \"plot_bgcolor\": \"#E5ECF6\", \"polar\": {\"angularaxis\": {\"gridcolor\": \"white\", \"linecolor\": \"white\", \"ticks\": \"\"}, \"bgcolor\": \"#E5ECF6\", \"radialaxis\": {\"gridcolor\": \"white\", \"linecolor\": \"white\", \"ticks\": \"\"}}, \"scene\": {\"xaxis\": {\"backgroundcolor\": \"#E5ECF6\", \"gridcolor\": \"white\", \"gridwidth\": 2, \"linecolor\": \"white\", \"showbackground\": true, \"ticks\": \"\", \"zerolinecolor\": \"white\"}, \"yaxis\": {\"backgroundcolor\": \"#E5ECF6\", \"gridcolor\": \"white\", \"gridwidth\": 2, \"linecolor\": \"white\", \"showbackground\": true, \"ticks\": \"\", \"zerolinecolor\": \"white\"}, \"zaxis\": {\"backgroundcolor\": \"#E5ECF6\", \"gridcolor\": \"white\", \"gridwidth\": 2, \"linecolor\": \"white\", \"showbackground\": true, \"ticks\": \"\", \"zerolinecolor\": \"white\"}}, \"shapedefaults\": {\"line\": {\"color\": \"#2a3f5f\"}}, \"ternary\": {\"aaxis\": {\"gridcolor\": \"white\", \"linecolor\": \"white\", \"ticks\": \"\"}, \"baxis\": {\"gridcolor\": \"white\", \"linecolor\": \"white\", \"ticks\": \"\"}, \"bgcolor\": \"#E5ECF6\", \"caxis\": {\"gridcolor\": \"white\", \"linecolor\": \"white\", \"ticks\": \"\"}}, \"title\": {\"x\": 0.05}, \"xaxis\": {\"automargin\": true, \"gridcolor\": \"white\", \"linecolor\": \"white\", \"ticks\": \"\", \"title\": {\"standoff\": 15}, \"zerolinecolor\": \"white\", \"zerolinewidth\": 2}, \"yaxis\": {\"automargin\": true, \"gridcolor\": \"white\", \"linecolor\": \"white\", \"ticks\": \"\", \"title\": {\"standoff\": 15}, \"zerolinecolor\": \"white\", \"zerolinewidth\": 2}}}, \"title\": {\"font\": {\"size\": 30}, \"text\": \"Population of Italy\"}, \"xaxis\": {\"title\": {\"font\": {\"size\": 20}, \"text\": \"Year\"}}, \"yaxis\": {\"title\": {\"font\": {\"size\": 20}, \"text\": \"Population\"}}},                        {\"responsive\": true}                    ).then(function(){\n",
       "                            \n",
       "var gd = document.getElementById('40b7418c-56ba-4aa8-acc9-82e19eeb5117');\n",
       "var x = new MutationObserver(function (mutations, observer) {{\n",
       "        var display = window.getComputedStyle(gd).display;\n",
       "        if (!display || display === 'none') {{\n",
       "            console.log([gd, 'removed!']);\n",
       "            Plotly.purge(gd);\n",
       "            observer.disconnect();\n",
       "        }}\n",
       "}});\n",
       "\n",
       "// Listen for the removal of the full notebook cells\n",
       "var notebookContainer = gd.closest('#notebook-container');\n",
       "if (notebookContainer) {{\n",
       "    x.observe(notebookContainer, {childList: true});\n",
       "}}\n",
       "\n",
       "// Listen for the clearing of the current output cell\n",
       "var outputEl = gd.closest('.output');\n",
       "if (outputEl) {{\n",
       "    x.observe(outputEl, {childList: true});\n",
       "}}\n",
       "\n",
       "                        })                };                });            </script>        </div>"
      ]
     },
     "metadata": {},
     "output_type": "display_data"
    }
   ],
   "source": [
    "italy_fe_population = [25964789.0, 26138706.0, 26327740.0, 26541784.0, 26761059.0, 26962781.0, 27150216.0, 27313588.0,\n",
    "                       27461125.0, 27601465.0, 27727502.0, 27884366.0, 28075511.0, 28264021.0, 28440396.0, 28593188.0, \n",
    "                       28728395.0, 28844774.0, 28938963.0, 29003779.0, 29037088.0, 29051541.0, 29052240.0, 29050056.0, \n",
    "                       29053777.0, 29055645.0, 29062997.0, 29084322.0, 29114370.0, 29146541.0, 29173243.0, 29198819.0, \n",
    "                       29223132.0, 29238360.0, 29252149.0, 29279269.0, 29318010.0, 29349203.0, 29369602.0, 29386547.0, \n",
    "                       29391908.0, 29412462.0, 29515905.0, 29686364.0, 29825093.0, 29924053.0, 30098000.0, 30326738.0, \n",
    "                       30489592.0, 30596015.0, 30647051.0, 30716752.0, 31053693.0, 31315785.0, 31262660.0, 31188515.0, \n",
    "                       31121471.0, 31042688.0, 30959312.0\n",
    "                      ]\n",
    "\n",
    "italy_ma_population = [24571561.0, 24740744.0, 24924260.0, 25133566.0, 25351291.0, 25556219.0, 25750284.0, 25922162.0,\n",
    "                       26076825.0, 26220385.0, 26345988.0, 26496979.0, 26675895.0, 26846847.0, 27000605.0, 27125072.0, \n",
    "                       27227016.0, 27310369.0, 27378786.0, 27430104.0, 27464587.0, 27492007.0, 27511834.0, 27526662.0, \n",
    "                       27539294.0, 27540510.0, 27538934.0, 27544966.0, 27557411.0, 27572699.0, 27585278.0, 27598268.0, \n",
    "                       27608689.0, 27605040.0, 27592154.0, 27581012.0, 27572362.0, 27557541.0, 27546715.0, 27555561.0, \n",
    "                       27582192.0, 27646545.0, 27797298.0, 27998963.0, 28144391.0, 28219926.0, 28340310.0, 28499993.0, \n",
    "                       28605773.0, 28681402.0, 28732398.0, 28822965.0, 29180255.0, 29473355.0, 29467922.0, 29438983.0, \n",
    "                       29415238.0, 29379072.0, 29338084.0\n",
    "                      ]\n",
    "fig4 = go.Figure(go.Bar(x=x, y=italy_fe_population, name='Female'))\n",
    "fig4.add_trace(go.Bar(x=x, y=italy_ma_population, name='Male'))\n",
    "\n",
    "fig4.update_layout(barmode='stack', xaxis = dict(title='Year', titlefont_size=20),\n",
    "                  yaxis = dict(title='Population', titlefont_size=20), title = \"Population of Italy\", titlefont_size=30)\n",
    "fig4.show()"
   ]
  },
  {
   "cell_type": "code",
   "execution_count": 5,
   "metadata": {},
   "outputs": [
    {
     "data": {
      "application/vnd.plotly.v1+json": {
       "config": {
        "plotlyServerURL": "https://plot.ly"
       },
       "data": [
        {
         "name": "Female",
         "type": "bar",
         "x": [
          1961,
          1962,
          1963,
          1964,
          1965,
          1966,
          1967,
          1968,
          1969,
          1970,
          1971,
          1972,
          1973,
          1974,
          1975,
          1976,
          1977,
          1978,
          1979,
          1980,
          1981,
          1982,
          1983,
          1984,
          1985,
          1986,
          1987,
          1988,
          1989,
          1990,
          1991,
          1992,
          1993,
          1994,
          1995,
          1996,
          1997,
          1998,
          1999,
          2000,
          2001,
          2002,
          2003,
          2004,
          2005,
          2006,
          2007,
          2008,
          2009,
          2010,
          2011,
          2012,
          2013,
          2014,
          2015,
          2016,
          2017,
          2018,
          2019
         ],
         "y": [
          66796030,
          67403904,
          68022910,
          68657512,
          69309485,
          69600772,
          69903772,
          70218208,
          70544418,
          70882181,
          71236341,
          71600962,
          71971605,
          72338525,
          72697052,
          73138343,
          73570204,
          73997784,
          74428151,
          74871110,
          75293024,
          75693627,
          76073678,
          76569238,
          77069777,
          77512558,
          77931654,
          78313902,
          78662015,
          78703457,
          78863097,
          78895470,
          78828710,
          78791977,
          78776519,
          78673971,
          78567094,
          78471510,
          78275119,
          78003730,
          77741908,
          77462311,
          77192724,
          76961036,
          76738888,
          76548836,
          76469027,
          76477539,
          76535797,
          76600057,
          76684367,
          76832143,
          77008973,
          77184758,
          77337012,
          77468056,
          77546481,
          77529366,
          77465163
         ]
        },
        {
         "name": "Male",
         "type": "bar",
         "x": [
          1961,
          1962,
          1963,
          1964,
          1965,
          1966,
          1967,
          1968,
          1969,
          1970,
          1971,
          1972,
          1973,
          1974,
          1975,
          1976,
          1977,
          1978,
          1979,
          1980,
          1981,
          1982,
          1983,
          1984,
          1985,
          1986,
          1987,
          1988,
          1989,
          1990,
          1991,
          1992,
          1993,
          1994,
          1995,
          1996,
          1997,
          1998,
          1999,
          2000,
          2001,
          2002,
          2003,
          2004,
          2005,
          2006,
          2007,
          2008,
          2009,
          2010,
          2011,
          2012,
          2013,
          2014,
          2015,
          2016,
          2017,
          2018,
          2019
         ],
         "y": [
          54439970,
          55187096,
          55937090,
          56687488,
          57435515,
          57867228,
          58292228,
          58709792,
          59119582,
          59521819,
          59918659,
          60308038,
          60697395,
          61093475,
          61502948,
          62008657,
          62529796,
          63062216,
          63598849,
          64138890,
          64647976,
          65129373,
          65594322,
          66175762,
          66788223,
          67381442,
          67976346,
          68543098,
          69058985,
          69265950,
          69531119,
          69642727,
          69630067,
          69615935,
          69599268,
          69486158,
          69348267,
          69199274,
          68939657,
          68593139,
          68234574,
          67844186,
          67455894,
          67106280,
          66779926,
          66500801,
          66336087,
          66264827,
          66249552,
          66249411,
          66276541,
          66369578,
          66498022,
          66634908,
          66759858,
          66874340,
          66950259,
          66948494,
          66908372
         ]
        }
       ],
       "layout": {
        "barmode": "stack",
        "template": {
         "data": {
          "bar": [
           {
            "error_x": {
             "color": "#2a3f5f"
            },
            "error_y": {
             "color": "#2a3f5f"
            },
            "marker": {
             "line": {
              "color": "#E5ECF6",
              "width": 0.5
             }
            },
            "type": "bar"
           }
          ],
          "barpolar": [
           {
            "marker": {
             "line": {
              "color": "#E5ECF6",
              "width": 0.5
             }
            },
            "type": "barpolar"
           }
          ],
          "carpet": [
           {
            "aaxis": {
             "endlinecolor": "#2a3f5f",
             "gridcolor": "white",
             "linecolor": "white",
             "minorgridcolor": "white",
             "startlinecolor": "#2a3f5f"
            },
            "baxis": {
             "endlinecolor": "#2a3f5f",
             "gridcolor": "white",
             "linecolor": "white",
             "minorgridcolor": "white",
             "startlinecolor": "#2a3f5f"
            },
            "type": "carpet"
           }
          ],
          "choropleth": [
           {
            "colorbar": {
             "outlinewidth": 0,
             "ticks": ""
            },
            "type": "choropleth"
           }
          ],
          "contour": [
           {
            "colorbar": {
             "outlinewidth": 0,
             "ticks": ""
            },
            "colorscale": [
             [
              0,
              "#0d0887"
             ],
             [
              0.1111111111111111,
              "#46039f"
             ],
             [
              0.2222222222222222,
              "#7201a8"
             ],
             [
              0.3333333333333333,
              "#9c179e"
             ],
             [
              0.4444444444444444,
              "#bd3786"
             ],
             [
              0.5555555555555556,
              "#d8576b"
             ],
             [
              0.6666666666666666,
              "#ed7953"
             ],
             [
              0.7777777777777778,
              "#fb9f3a"
             ],
             [
              0.8888888888888888,
              "#fdca26"
             ],
             [
              1,
              "#f0f921"
             ]
            ],
            "type": "contour"
           }
          ],
          "contourcarpet": [
           {
            "colorbar": {
             "outlinewidth": 0,
             "ticks": ""
            },
            "type": "contourcarpet"
           }
          ],
          "heatmap": [
           {
            "colorbar": {
             "outlinewidth": 0,
             "ticks": ""
            },
            "colorscale": [
             [
              0,
              "#0d0887"
             ],
             [
              0.1111111111111111,
              "#46039f"
             ],
             [
              0.2222222222222222,
              "#7201a8"
             ],
             [
              0.3333333333333333,
              "#9c179e"
             ],
             [
              0.4444444444444444,
              "#bd3786"
             ],
             [
              0.5555555555555556,
              "#d8576b"
             ],
             [
              0.6666666666666666,
              "#ed7953"
             ],
             [
              0.7777777777777778,
              "#fb9f3a"
             ],
             [
              0.8888888888888888,
              "#fdca26"
             ],
             [
              1,
              "#f0f921"
             ]
            ],
            "type": "heatmap"
           }
          ],
          "heatmapgl": [
           {
            "colorbar": {
             "outlinewidth": 0,
             "ticks": ""
            },
            "colorscale": [
             [
              0,
              "#0d0887"
             ],
             [
              0.1111111111111111,
              "#46039f"
             ],
             [
              0.2222222222222222,
              "#7201a8"
             ],
             [
              0.3333333333333333,
              "#9c179e"
             ],
             [
              0.4444444444444444,
              "#bd3786"
             ],
             [
              0.5555555555555556,
              "#d8576b"
             ],
             [
              0.6666666666666666,
              "#ed7953"
             ],
             [
              0.7777777777777778,
              "#fb9f3a"
             ],
             [
              0.8888888888888888,
              "#fdca26"
             ],
             [
              1,
              "#f0f921"
             ]
            ],
            "type": "heatmapgl"
           }
          ],
          "histogram": [
           {
            "marker": {
             "colorbar": {
              "outlinewidth": 0,
              "ticks": ""
             }
            },
            "type": "histogram"
           }
          ],
          "histogram2d": [
           {
            "colorbar": {
             "outlinewidth": 0,
             "ticks": ""
            },
            "colorscale": [
             [
              0,
              "#0d0887"
             ],
             [
              0.1111111111111111,
              "#46039f"
             ],
             [
              0.2222222222222222,
              "#7201a8"
             ],
             [
              0.3333333333333333,
              "#9c179e"
             ],
             [
              0.4444444444444444,
              "#bd3786"
             ],
             [
              0.5555555555555556,
              "#d8576b"
             ],
             [
              0.6666666666666666,
              "#ed7953"
             ],
             [
              0.7777777777777778,
              "#fb9f3a"
             ],
             [
              0.8888888888888888,
              "#fdca26"
             ],
             [
              1,
              "#f0f921"
             ]
            ],
            "type": "histogram2d"
           }
          ],
          "histogram2dcontour": [
           {
            "colorbar": {
             "outlinewidth": 0,
             "ticks": ""
            },
            "colorscale": [
             [
              0,
              "#0d0887"
             ],
             [
              0.1111111111111111,
              "#46039f"
             ],
             [
              0.2222222222222222,
              "#7201a8"
             ],
             [
              0.3333333333333333,
              "#9c179e"
             ],
             [
              0.4444444444444444,
              "#bd3786"
             ],
             [
              0.5555555555555556,
              "#d8576b"
             ],
             [
              0.6666666666666666,
              "#ed7953"
             ],
             [
              0.7777777777777778,
              "#fb9f3a"
             ],
             [
              0.8888888888888888,
              "#fdca26"
             ],
             [
              1,
              "#f0f921"
             ]
            ],
            "type": "histogram2dcontour"
           }
          ],
          "mesh3d": [
           {
            "colorbar": {
             "outlinewidth": 0,
             "ticks": ""
            },
            "type": "mesh3d"
           }
          ],
          "parcoords": [
           {
            "line": {
             "colorbar": {
              "outlinewidth": 0,
              "ticks": ""
             }
            },
            "type": "parcoords"
           }
          ],
          "pie": [
           {
            "automargin": true,
            "type": "pie"
           }
          ],
          "scatter": [
           {
            "marker": {
             "colorbar": {
              "outlinewidth": 0,
              "ticks": ""
             }
            },
            "type": "scatter"
           }
          ],
          "scatter3d": [
           {
            "line": {
             "colorbar": {
              "outlinewidth": 0,
              "ticks": ""
             }
            },
            "marker": {
             "colorbar": {
              "outlinewidth": 0,
              "ticks": ""
             }
            },
            "type": "scatter3d"
           }
          ],
          "scattercarpet": [
           {
            "marker": {
             "colorbar": {
              "outlinewidth": 0,
              "ticks": ""
             }
            },
            "type": "scattercarpet"
           }
          ],
          "scattergeo": [
           {
            "marker": {
             "colorbar": {
              "outlinewidth": 0,
              "ticks": ""
             }
            },
            "type": "scattergeo"
           }
          ],
          "scattergl": [
           {
            "marker": {
             "colorbar": {
              "outlinewidth": 0,
              "ticks": ""
             }
            },
            "type": "scattergl"
           }
          ],
          "scattermapbox": [
           {
            "marker": {
             "colorbar": {
              "outlinewidth": 0,
              "ticks": ""
             }
            },
            "type": "scattermapbox"
           }
          ],
          "scatterpolar": [
           {
            "marker": {
             "colorbar": {
              "outlinewidth": 0,
              "ticks": ""
             }
            },
            "type": "scatterpolar"
           }
          ],
          "scatterpolargl": [
           {
            "marker": {
             "colorbar": {
              "outlinewidth": 0,
              "ticks": ""
             }
            },
            "type": "scatterpolargl"
           }
          ],
          "scatterternary": [
           {
            "marker": {
             "colorbar": {
              "outlinewidth": 0,
              "ticks": ""
             }
            },
            "type": "scatterternary"
           }
          ],
          "surface": [
           {
            "colorbar": {
             "outlinewidth": 0,
             "ticks": ""
            },
            "colorscale": [
             [
              0,
              "#0d0887"
             ],
             [
              0.1111111111111111,
              "#46039f"
             ],
             [
              0.2222222222222222,
              "#7201a8"
             ],
             [
              0.3333333333333333,
              "#9c179e"
             ],
             [
              0.4444444444444444,
              "#bd3786"
             ],
             [
              0.5555555555555556,
              "#d8576b"
             ],
             [
              0.6666666666666666,
              "#ed7953"
             ],
             [
              0.7777777777777778,
              "#fb9f3a"
             ],
             [
              0.8888888888888888,
              "#fdca26"
             ],
             [
              1,
              "#f0f921"
             ]
            ],
            "type": "surface"
           }
          ],
          "table": [
           {
            "cells": {
             "fill": {
              "color": "#EBF0F8"
             },
             "line": {
              "color": "white"
             }
            },
            "header": {
             "fill": {
              "color": "#C8D4E3"
             },
             "line": {
              "color": "white"
             }
            },
            "type": "table"
           }
          ]
         },
         "layout": {
          "annotationdefaults": {
           "arrowcolor": "#2a3f5f",
           "arrowhead": 0,
           "arrowwidth": 1
          },
          "autotypenumbers": "strict",
          "coloraxis": {
           "colorbar": {
            "outlinewidth": 0,
            "ticks": ""
           }
          },
          "colorscale": {
           "diverging": [
            [
             0,
             "#8e0152"
            ],
            [
             0.1,
             "#c51b7d"
            ],
            [
             0.2,
             "#de77ae"
            ],
            [
             0.3,
             "#f1b6da"
            ],
            [
             0.4,
             "#fde0ef"
            ],
            [
             0.5,
             "#f7f7f7"
            ],
            [
             0.6,
             "#e6f5d0"
            ],
            [
             0.7,
             "#b8e186"
            ],
            [
             0.8,
             "#7fbc41"
            ],
            [
             0.9,
             "#4d9221"
            ],
            [
             1,
             "#276419"
            ]
           ],
           "sequential": [
            [
             0,
             "#0d0887"
            ],
            [
             0.1111111111111111,
             "#46039f"
            ],
            [
             0.2222222222222222,
             "#7201a8"
            ],
            [
             0.3333333333333333,
             "#9c179e"
            ],
            [
             0.4444444444444444,
             "#bd3786"
            ],
            [
             0.5555555555555556,
             "#d8576b"
            ],
            [
             0.6666666666666666,
             "#ed7953"
            ],
            [
             0.7777777777777778,
             "#fb9f3a"
            ],
            [
             0.8888888888888888,
             "#fdca26"
            ],
            [
             1,
             "#f0f921"
            ]
           ],
           "sequentialminus": [
            [
             0,
             "#0d0887"
            ],
            [
             0.1111111111111111,
             "#46039f"
            ],
            [
             0.2222222222222222,
             "#7201a8"
            ],
            [
             0.3333333333333333,
             "#9c179e"
            ],
            [
             0.4444444444444444,
             "#bd3786"
            ],
            [
             0.5555555555555556,
             "#d8576b"
            ],
            [
             0.6666666666666666,
             "#ed7953"
            ],
            [
             0.7777777777777778,
             "#fb9f3a"
            ],
            [
             0.8888888888888888,
             "#fdca26"
            ],
            [
             1,
             "#f0f921"
            ]
           ]
          },
          "colorway": [
           "#636efa",
           "#EF553B",
           "#00cc96",
           "#ab63fa",
           "#FFA15A",
           "#19d3f3",
           "#FF6692",
           "#B6E880",
           "#FF97FF",
           "#FECB52"
          ],
          "font": {
           "color": "#2a3f5f"
          },
          "geo": {
           "bgcolor": "white",
           "lakecolor": "white",
           "landcolor": "#E5ECF6",
           "showlakes": true,
           "showland": true,
           "subunitcolor": "white"
          },
          "hoverlabel": {
           "align": "left"
          },
          "hovermode": "closest",
          "mapbox": {
           "style": "light"
          },
          "paper_bgcolor": "white",
          "plot_bgcolor": "#E5ECF6",
          "polar": {
           "angularaxis": {
            "gridcolor": "white",
            "linecolor": "white",
            "ticks": ""
           },
           "bgcolor": "#E5ECF6",
           "radialaxis": {
            "gridcolor": "white",
            "linecolor": "white",
            "ticks": ""
           }
          },
          "scene": {
           "xaxis": {
            "backgroundcolor": "#E5ECF6",
            "gridcolor": "white",
            "gridwidth": 2,
            "linecolor": "white",
            "showbackground": true,
            "ticks": "",
            "zerolinecolor": "white"
           },
           "yaxis": {
            "backgroundcolor": "#E5ECF6",
            "gridcolor": "white",
            "gridwidth": 2,
            "linecolor": "white",
            "showbackground": true,
            "ticks": "",
            "zerolinecolor": "white"
           },
           "zaxis": {
            "backgroundcolor": "#E5ECF6",
            "gridcolor": "white",
            "gridwidth": 2,
            "linecolor": "white",
            "showbackground": true,
            "ticks": "",
            "zerolinecolor": "white"
           }
          },
          "shapedefaults": {
           "line": {
            "color": "#2a3f5f"
           }
          },
          "ternary": {
           "aaxis": {
            "gridcolor": "white",
            "linecolor": "white",
            "ticks": ""
           },
           "baxis": {
            "gridcolor": "white",
            "linecolor": "white",
            "ticks": ""
           },
           "bgcolor": "#E5ECF6",
           "caxis": {
            "gridcolor": "white",
            "linecolor": "white",
            "ticks": ""
           }
          },
          "title": {
           "x": 0.05
          },
          "xaxis": {
           "automargin": true,
           "gridcolor": "white",
           "linecolor": "white",
           "ticks": "",
           "title": {
            "standoff": 15
           },
           "zerolinecolor": "white",
           "zerolinewidth": 2
          },
          "yaxis": {
           "automargin": true,
           "gridcolor": "white",
           "linecolor": "white",
           "ticks": "",
           "title": {
            "standoff": 15
           },
           "zerolinecolor": "white",
           "zerolinewidth": 2
          }
         }
        },
        "title": {
         "font": {
          "size": 30
         },
         "text": "Population of Russia"
        },
        "xaxis": {
         "title": {
          "font": {
           "size": 20
          },
          "text": "Year"
         }
        },
        "yaxis": {
         "title": {
          "font": {
           "size": 20
          },
          "text": "Population"
         }
        }
       }
      },
      "text/html": [
       "<div>                            <div id=\"e6c765e4-a041-40b0-9c50-7d31bd683c44\" class=\"plotly-graph-div\" style=\"height:525px; width:100%;\"></div>            <script type=\"text/javascript\">                require([\"plotly\"], function(Plotly) {                    window.PLOTLYENV=window.PLOTLYENV || {};                                    if (document.getElementById(\"e6c765e4-a041-40b0-9c50-7d31bd683c44\")) {                    Plotly.newPlot(                        \"e6c765e4-a041-40b0-9c50-7d31bd683c44\",                        [{\"name\": \"Female\", \"type\": \"bar\", \"x\": [1961, 1962, 1963, 1964, 1965, 1966, 1967, 1968, 1969, 1970, 1971, 1972, 1973, 1974, 1975, 1976, 1977, 1978, 1979, 1980, 1981, 1982, 1983, 1984, 1985, 1986, 1987, 1988, 1989, 1990, 1991, 1992, 1993, 1994, 1995, 1996, 1997, 1998, 1999, 2000, 2001, 2002, 2003, 2004, 2005, 2006, 2007, 2008, 2009, 2010, 2011, 2012, 2013, 2014, 2015, 2016, 2017, 2018, 2019], \"y\": [66796030.0, 67403904.0, 68022910.0, 68657512.0, 69309485.0, 69600772.0, 69903772.0, 70218208.0, 70544418.0, 70882181.0, 71236341.0, 71600962.0, 71971605.0, 72338525.0, 72697052.0, 73138343.0, 73570204.0, 73997784.0, 74428151.0, 74871110.0, 75293024.0, 75693627.0, 76073678.0, 76569238.0, 77069777.0, 77512558.0, 77931654.0, 78313902.0, 78662015.0, 78703457.0, 78863097.0, 78895470.0, 78828710.0, 78791977.0, 78776519.0, 78673971.0, 78567094.0, 78471510.0, 78275119.0, 78003730.0, 77741908.0, 77462311.0, 77192724.0, 76961036.0, 76738888.0, 76548836.0, 76469027.0, 76477539.0, 76535797.0, 76600057.0, 76684367.0, 76832143.0, 77008973.0, 77184758.0, 77337012.0, 77468056.0, 77546481.0, 77529366.0, 77465163.0]}, {\"name\": \"Male\", \"type\": \"bar\", \"x\": [1961, 1962, 1963, 1964, 1965, 1966, 1967, 1968, 1969, 1970, 1971, 1972, 1973, 1974, 1975, 1976, 1977, 1978, 1979, 1980, 1981, 1982, 1983, 1984, 1985, 1986, 1987, 1988, 1989, 1990, 1991, 1992, 1993, 1994, 1995, 1996, 1997, 1998, 1999, 2000, 2001, 2002, 2003, 2004, 2005, 2006, 2007, 2008, 2009, 2010, 2011, 2012, 2013, 2014, 2015, 2016, 2017, 2018, 2019], \"y\": [54439970.0, 55187096.0, 55937090.0, 56687488.0, 57435515.0, 57867228.0, 58292228.0, 58709792.0, 59119582.0, 59521819.0, 59918659.0, 60308038.0, 60697395.0, 61093475.0, 61502948.0, 62008657.0, 62529796.0, 63062216.0, 63598849.0, 64138890.0, 64647976.0, 65129373.0, 65594322.0, 66175762.0, 66788223.0, 67381442.0, 67976346.0, 68543098.0, 69058985.0, 69265950.0, 69531119.0, 69642727.0, 69630067.0, 69615935.0, 69599268.0, 69486158.0, 69348267.0, 69199274.0, 68939657.0, 68593139.0, 68234574.0, 67844186.0, 67455894.0, 67106280.0, 66779926.0, 66500801.0, 66336087.0, 66264827.0, 66249552.0, 66249411.0, 66276541.0, 66369578.0, 66498022.0, 66634908.0, 66759858.0, 66874340.0, 66950259.0, 66948494.0, 66908372.0]}],                        {\"barmode\": \"stack\", \"template\": {\"data\": {\"bar\": [{\"error_x\": {\"color\": \"#2a3f5f\"}, \"error_y\": {\"color\": \"#2a3f5f\"}, \"marker\": {\"line\": {\"color\": \"#E5ECF6\", \"width\": 0.5}}, \"type\": \"bar\"}], \"barpolar\": [{\"marker\": {\"line\": {\"color\": \"#E5ECF6\", \"width\": 0.5}}, \"type\": \"barpolar\"}], \"carpet\": [{\"aaxis\": {\"endlinecolor\": \"#2a3f5f\", \"gridcolor\": \"white\", \"linecolor\": \"white\", \"minorgridcolor\": \"white\", \"startlinecolor\": \"#2a3f5f\"}, \"baxis\": {\"endlinecolor\": \"#2a3f5f\", \"gridcolor\": \"white\", \"linecolor\": \"white\", \"minorgridcolor\": \"white\", \"startlinecolor\": \"#2a3f5f\"}, \"type\": \"carpet\"}], \"choropleth\": [{\"colorbar\": {\"outlinewidth\": 0, \"ticks\": \"\"}, \"type\": \"choropleth\"}], \"contour\": [{\"colorbar\": {\"outlinewidth\": 0, \"ticks\": \"\"}, \"colorscale\": [[0.0, \"#0d0887\"], [0.1111111111111111, \"#46039f\"], [0.2222222222222222, \"#7201a8\"], [0.3333333333333333, \"#9c179e\"], [0.4444444444444444, \"#bd3786\"], [0.5555555555555556, \"#d8576b\"], [0.6666666666666666, \"#ed7953\"], [0.7777777777777778, \"#fb9f3a\"], [0.8888888888888888, \"#fdca26\"], [1.0, \"#f0f921\"]], \"type\": \"contour\"}], \"contourcarpet\": [{\"colorbar\": {\"outlinewidth\": 0, \"ticks\": \"\"}, \"type\": \"contourcarpet\"}], \"heatmap\": [{\"colorbar\": {\"outlinewidth\": 0, \"ticks\": \"\"}, \"colorscale\": [[0.0, \"#0d0887\"], [0.1111111111111111, \"#46039f\"], [0.2222222222222222, \"#7201a8\"], [0.3333333333333333, \"#9c179e\"], [0.4444444444444444, \"#bd3786\"], [0.5555555555555556, \"#d8576b\"], [0.6666666666666666, \"#ed7953\"], [0.7777777777777778, \"#fb9f3a\"], [0.8888888888888888, \"#fdca26\"], [1.0, \"#f0f921\"]], \"type\": \"heatmap\"}], \"heatmapgl\": [{\"colorbar\": {\"outlinewidth\": 0, \"ticks\": \"\"}, \"colorscale\": [[0.0, \"#0d0887\"], [0.1111111111111111, \"#46039f\"], [0.2222222222222222, \"#7201a8\"], [0.3333333333333333, \"#9c179e\"], [0.4444444444444444, \"#bd3786\"], [0.5555555555555556, \"#d8576b\"], [0.6666666666666666, \"#ed7953\"], [0.7777777777777778, \"#fb9f3a\"], [0.8888888888888888, \"#fdca26\"], [1.0, \"#f0f921\"]], \"type\": \"heatmapgl\"}], \"histogram\": [{\"marker\": {\"colorbar\": {\"outlinewidth\": 0, \"ticks\": \"\"}}, \"type\": \"histogram\"}], \"histogram2d\": [{\"colorbar\": {\"outlinewidth\": 0, \"ticks\": \"\"}, \"colorscale\": [[0.0, \"#0d0887\"], [0.1111111111111111, \"#46039f\"], [0.2222222222222222, \"#7201a8\"], [0.3333333333333333, \"#9c179e\"], [0.4444444444444444, \"#bd3786\"], [0.5555555555555556, \"#d8576b\"], [0.6666666666666666, \"#ed7953\"], [0.7777777777777778, \"#fb9f3a\"], [0.8888888888888888, \"#fdca26\"], [1.0, \"#f0f921\"]], \"type\": \"histogram2d\"}], \"histogram2dcontour\": [{\"colorbar\": {\"outlinewidth\": 0, \"ticks\": \"\"}, \"colorscale\": [[0.0, \"#0d0887\"], [0.1111111111111111, \"#46039f\"], [0.2222222222222222, \"#7201a8\"], [0.3333333333333333, \"#9c179e\"], [0.4444444444444444, \"#bd3786\"], [0.5555555555555556, \"#d8576b\"], [0.6666666666666666, \"#ed7953\"], [0.7777777777777778, \"#fb9f3a\"], [0.8888888888888888, \"#fdca26\"], [1.0, \"#f0f921\"]], \"type\": \"histogram2dcontour\"}], \"mesh3d\": [{\"colorbar\": {\"outlinewidth\": 0, \"ticks\": \"\"}, \"type\": \"mesh3d\"}], \"parcoords\": [{\"line\": {\"colorbar\": {\"outlinewidth\": 0, \"ticks\": \"\"}}, \"type\": \"parcoords\"}], \"pie\": [{\"automargin\": true, \"type\": \"pie\"}], \"scatter\": [{\"marker\": {\"colorbar\": {\"outlinewidth\": 0, \"ticks\": \"\"}}, \"type\": \"scatter\"}], \"scatter3d\": [{\"line\": {\"colorbar\": {\"outlinewidth\": 0, \"ticks\": \"\"}}, \"marker\": {\"colorbar\": {\"outlinewidth\": 0, \"ticks\": \"\"}}, \"type\": \"scatter3d\"}], \"scattercarpet\": [{\"marker\": {\"colorbar\": {\"outlinewidth\": 0, \"ticks\": \"\"}}, \"type\": \"scattercarpet\"}], \"scattergeo\": [{\"marker\": {\"colorbar\": {\"outlinewidth\": 0, \"ticks\": \"\"}}, \"type\": \"scattergeo\"}], \"scattergl\": [{\"marker\": {\"colorbar\": {\"outlinewidth\": 0, \"ticks\": \"\"}}, \"type\": \"scattergl\"}], \"scattermapbox\": [{\"marker\": {\"colorbar\": {\"outlinewidth\": 0, \"ticks\": \"\"}}, \"type\": \"scattermapbox\"}], \"scatterpolar\": [{\"marker\": {\"colorbar\": {\"outlinewidth\": 0, \"ticks\": \"\"}}, \"type\": \"scatterpolar\"}], \"scatterpolargl\": [{\"marker\": {\"colorbar\": {\"outlinewidth\": 0, \"ticks\": \"\"}}, \"type\": \"scatterpolargl\"}], \"scatterternary\": [{\"marker\": {\"colorbar\": {\"outlinewidth\": 0, \"ticks\": \"\"}}, \"type\": \"scatterternary\"}], \"surface\": [{\"colorbar\": {\"outlinewidth\": 0, \"ticks\": \"\"}, \"colorscale\": [[0.0, \"#0d0887\"], [0.1111111111111111, \"#46039f\"], [0.2222222222222222, \"#7201a8\"], [0.3333333333333333, \"#9c179e\"], [0.4444444444444444, \"#bd3786\"], [0.5555555555555556, \"#d8576b\"], [0.6666666666666666, \"#ed7953\"], [0.7777777777777778, \"#fb9f3a\"], [0.8888888888888888, \"#fdca26\"], [1.0, \"#f0f921\"]], \"type\": \"surface\"}], \"table\": [{\"cells\": {\"fill\": {\"color\": \"#EBF0F8\"}, \"line\": {\"color\": \"white\"}}, \"header\": {\"fill\": {\"color\": \"#C8D4E3\"}, \"line\": {\"color\": \"white\"}}, \"type\": \"table\"}]}, \"layout\": {\"annotationdefaults\": {\"arrowcolor\": \"#2a3f5f\", \"arrowhead\": 0, \"arrowwidth\": 1}, \"autotypenumbers\": \"strict\", \"coloraxis\": {\"colorbar\": {\"outlinewidth\": 0, \"ticks\": \"\"}}, \"colorscale\": {\"diverging\": [[0, \"#8e0152\"], [0.1, \"#c51b7d\"], [0.2, \"#de77ae\"], [0.3, \"#f1b6da\"], [0.4, \"#fde0ef\"], [0.5, \"#f7f7f7\"], [0.6, \"#e6f5d0\"], [0.7, \"#b8e186\"], [0.8, \"#7fbc41\"], [0.9, \"#4d9221\"], [1, \"#276419\"]], \"sequential\": [[0.0, \"#0d0887\"], [0.1111111111111111, \"#46039f\"], [0.2222222222222222, \"#7201a8\"], [0.3333333333333333, \"#9c179e\"], [0.4444444444444444, \"#bd3786\"], [0.5555555555555556, \"#d8576b\"], [0.6666666666666666, \"#ed7953\"], [0.7777777777777778, \"#fb9f3a\"], [0.8888888888888888, \"#fdca26\"], [1.0, \"#f0f921\"]], \"sequentialminus\": [[0.0, \"#0d0887\"], [0.1111111111111111, \"#46039f\"], [0.2222222222222222, \"#7201a8\"], [0.3333333333333333, \"#9c179e\"], [0.4444444444444444, \"#bd3786\"], [0.5555555555555556, \"#d8576b\"], [0.6666666666666666, \"#ed7953\"], [0.7777777777777778, \"#fb9f3a\"], [0.8888888888888888, \"#fdca26\"], [1.0, \"#f0f921\"]]}, \"colorway\": [\"#636efa\", \"#EF553B\", \"#00cc96\", \"#ab63fa\", \"#FFA15A\", \"#19d3f3\", \"#FF6692\", \"#B6E880\", \"#FF97FF\", \"#FECB52\"], \"font\": {\"color\": \"#2a3f5f\"}, \"geo\": {\"bgcolor\": \"white\", \"lakecolor\": \"white\", \"landcolor\": \"#E5ECF6\", \"showlakes\": true, \"showland\": true, \"subunitcolor\": \"white\"}, \"hoverlabel\": {\"align\": \"left\"}, \"hovermode\": \"closest\", \"mapbox\": {\"style\": \"light\"}, \"paper_bgcolor\": \"white\", \"plot_bgcolor\": \"#E5ECF6\", \"polar\": {\"angularaxis\": {\"gridcolor\": \"white\", \"linecolor\": \"white\", \"ticks\": \"\"}, \"bgcolor\": \"#E5ECF6\", \"radialaxis\": {\"gridcolor\": \"white\", \"linecolor\": \"white\", \"ticks\": \"\"}}, \"scene\": {\"xaxis\": {\"backgroundcolor\": \"#E5ECF6\", \"gridcolor\": \"white\", \"gridwidth\": 2, \"linecolor\": \"white\", \"showbackground\": true, \"ticks\": \"\", \"zerolinecolor\": \"white\"}, \"yaxis\": {\"backgroundcolor\": \"#E5ECF6\", \"gridcolor\": \"white\", \"gridwidth\": 2, \"linecolor\": \"white\", \"showbackground\": true, \"ticks\": \"\", \"zerolinecolor\": \"white\"}, \"zaxis\": {\"backgroundcolor\": \"#E5ECF6\", \"gridcolor\": \"white\", \"gridwidth\": 2, \"linecolor\": \"white\", \"showbackground\": true, \"ticks\": \"\", \"zerolinecolor\": \"white\"}}, \"shapedefaults\": {\"line\": {\"color\": \"#2a3f5f\"}}, \"ternary\": {\"aaxis\": {\"gridcolor\": \"white\", \"linecolor\": \"white\", \"ticks\": \"\"}, \"baxis\": {\"gridcolor\": \"white\", \"linecolor\": \"white\", \"ticks\": \"\"}, \"bgcolor\": \"#E5ECF6\", \"caxis\": {\"gridcolor\": \"white\", \"linecolor\": \"white\", \"ticks\": \"\"}}, \"title\": {\"x\": 0.05}, \"xaxis\": {\"automargin\": true, \"gridcolor\": \"white\", \"linecolor\": \"white\", \"ticks\": \"\", \"title\": {\"standoff\": 15}, \"zerolinecolor\": \"white\", \"zerolinewidth\": 2}, \"yaxis\": {\"automargin\": true, \"gridcolor\": \"white\", \"linecolor\": \"white\", \"ticks\": \"\", \"title\": {\"standoff\": 15}, \"zerolinecolor\": \"white\", \"zerolinewidth\": 2}}}, \"title\": {\"font\": {\"size\": 30}, \"text\": \"Population of Russia\"}, \"xaxis\": {\"title\": {\"font\": {\"size\": 20}, \"text\": \"Year\"}}, \"yaxis\": {\"title\": {\"font\": {\"size\": 20}, \"text\": \"Population\"}}},                        {\"responsive\": true}                    ).then(function(){\n",
       "                            \n",
       "var gd = document.getElementById('e6c765e4-a041-40b0-9c50-7d31bd683c44');\n",
       "var x = new MutationObserver(function (mutations, observer) {{\n",
       "        var display = window.getComputedStyle(gd).display;\n",
       "        if (!display || display === 'none') {{\n",
       "            console.log([gd, 'removed!']);\n",
       "            Plotly.purge(gd);\n",
       "            observer.disconnect();\n",
       "        }}\n",
       "}});\n",
       "\n",
       "// Listen for the removal of the full notebook cells\n",
       "var notebookContainer = gd.closest('#notebook-container');\n",
       "if (notebookContainer) {{\n",
       "    x.observe(notebookContainer, {childList: true});\n",
       "}}\n",
       "\n",
       "// Listen for the clearing of the current output cell\n",
       "var outputEl = gd.closest('.output');\n",
       "if (outputEl) {{\n",
       "    x.observe(outputEl, {childList: true});\n",
       "}}\n",
       "\n",
       "                        })                };                });            </script>        </div>"
      ]
     },
     "metadata": {},
     "output_type": "display_data"
    }
   ],
   "source": [
    "russia_fe_population = [66796030.0, 67403904.0, 68022910.0, 68657512.0, 69309485.0, 69600772.0, 69903772.0, 70218208.0, \n",
    "                        70544418.0, 70882181.0, 71236341.0, 71600962.0, 71971605.0, 72338525.0, 72697052.0, 73138343.0, \n",
    "                        73570204.0, 73997784.0, 74428151.0, 74871110.0, 75293024.0, 75693627.0, 76073678.0, 76569238.0, \n",
    "                        77069777.0, 77512558.0, 77931654.0, 78313902.0, 78662015.0, 78703457.0, 78863097.0, 78895470.0, \n",
    "                        78828710.0, 78791977.0, 78776519.0, 78673971.0, 78567094.0, 78471510.0, 78275119.0, 78003730.0, \n",
    "                        77741908.0, 77462311.0, 77192724.0, 76961036.0, 76738888.0, 76548836.0, 76469027.0, 76477539.0, \n",
    "                        76535797.0, 76600057.0, 76684367.0, 76832143.0, 77008973.0, 77184758.0, 77337012.0, 77468056.0, \n",
    "                        77546481.0, 77529366.0, 77465163.0\n",
    "                       ]\n",
    "\n",
    "russia_ma_population = [54439970.0, 55187096.0, 55937090.0, 56687488.0, 57435515.0, 57867228.0, 58292228.0, 58709792.0, \n",
    "                        59119582.0, 59521819.0, 59918659.0, 60308038.0, 60697395.0, 61093475.0, 61502948.0, 62008657.0, \n",
    "                        62529796.0, 63062216.0, 63598849.0, 64138890.0, 64647976.0, 65129373.0, 65594322.0, 66175762.0, \n",
    "                        66788223.0, 67381442.0, 67976346.0, 68543098.0, 69058985.0, 69265950.0, 69531119.0, 69642727.0, \n",
    "                        69630067.0, 69615935.0, 69599268.0, 69486158.0, 69348267.0, 69199274.0, 68939657.0, 68593139.0, \n",
    "                        68234574.0, 67844186.0, 67455894.0, 67106280.0, 66779926.0, 66500801.0, 66336087.0, 66264827.0, \n",
    "                        66249552.0, 66249411.0, 66276541.0, 66369578.0, 66498022.0, 66634908.0, 66759858.0, 66874340.0, \n",
    "                        66950259.0, 66948494.0, 66908372.0\n",
    "]\n",
    "\n",
    "fig5 = go.Figure(go.Bar(x=x, y=russia_fe_population, name='Female'))\n",
    "fig5.add_trace(go.Bar(x=x, y=russia_ma_population, name='Male'))\n",
    "\n",
    "fig5.update_layout(barmode='stack', xaxis = dict(title='Year', titlefont_size=20),\n",
    "                  yaxis = dict(title='Population', titlefont_size=20), title = \"Population of Russia\", titlefont_size=30)\n",
    "fig5.show()"
   ]
  },
  {
   "cell_type": "code",
   "execution_count": 20,
   "metadata": {
    "scrolled": false
   },
   "outputs": [
    {
     "data": {
      "application/vnd.plotly.v1+json": {
       "config": {
        "plotlyServerURL": "https://plot.ly"
       },
       "data": [
        {
         "mode": "lines+markers",
         "name": "Female",
         "type": "scatter",
         "x": [
          1961,
          1962,
          1963,
          1964,
          1965,
          1966,
          1967,
          1968,
          1969,
          1970,
          1971,
          1972,
          1973,
          1974,
          1975,
          1976,
          1977,
          1978,
          1979,
          1980,
          1981,
          1982,
          1983,
          1984,
          1985,
          1986,
          1987,
          1988,
          1989,
          1990,
          1991,
          1992,
          1993,
          1994,
          1995,
          1996,
          1997,
          1998,
          1999,
          2000,
          2001,
          2002,
          2003,
          2004,
          2005,
          2006,
          2007,
          2008,
          2009,
          2010,
          2011,
          2012,
          2013,
          2014,
          2015,
          2016,
          2017,
          2018,
          2019
         ],
         "y": [
          320153437,
          322953588,
          331140640,
          339068212,
          347401432,
          357394687,
          366879507,
          376753699,
          387362696,
          398315770,
          409475913,
          419696503,
          429398133,
          438355316,
          446155493,
          453096478,
          459292487,
          465460554,
          471700516,
          477656979,
          483835348,
          491049203,
          498238544,
          504855230,
          511798492,
          519471732,
          527858967,
          536408672,
          544679377,
          552721134,
          560312586,
          567224558,
          573790071,
          580322015,
          586672507,
          592868311,
          598982994,
          604764109,
          610004104,
          614775825,
          619165993,
          623205125,
          626956157,
          630545489,
          634130240,
          637560457,
          640793072,
          644001246,
          647159372,
          650275748,
          653422748,
          656677290,
          660023537,
          663493378,
          667009225,
          670780903,
          674707818,
          677972245,
          680596325
         ]
        },
        {
         "mode": "lines+markers",
         "name": "Male",
         "type": "scatter",
         "x": [
          1961,
          1962,
          1963,
          1964,
          1965,
          1966,
          1967,
          1968,
          1969,
          1970,
          1971,
          1972,
          1973,
          1974,
          1975,
          1976,
          1977,
          1978,
          1979,
          1980,
          1981,
          1982,
          1983,
          1984,
          1985,
          1986,
          1987,
          1988,
          1989,
          1990,
          1991,
          1992,
          1993,
          1994,
          1995,
          1996,
          1997,
          1998,
          1999,
          2000,
          2001,
          2002,
          2003,
          2004,
          2005,
          2006,
          2007,
          2008,
          2009,
          2010,
          2011,
          2012,
          2013,
          2014,
          2015,
          2016,
          2017,
          2018,
          2019
         ],
         "y": [
          340176563,
          342816412,
          351194360,
          359286788,
          367783568,
          378005313,
          387670493,
          397756301,
          408662304,
          419999230,
          431629087,
          442333497,
          452541867,
          461994684,
          470239507,
          477588522,
          484162513,
          490704446,
          497304484,
          503578021,
          510049652,
          517580797,
          525071456,
          531969770,
          539241508,
          547318268,
          556176033,
          565221328,
          573970623,
          582463866,
          590467414,
          597745442,
          604649929,
          611512985,
          618182493,
          624681689,
          631092006,
          637170891,
          642730896,
          647869175,
          652684007,
          657194875,
          661443843,
          665529511,
          669589760,
          673459543,
          677091928,
          680653754,
          684100628,
          687429252,
          690707252,
          694017710,
          697356463,
          700776622,
          704210775,
          707884097,
          711687182,
          714757755,
          717118675
         ]
        }
       ],
       "layout": {
        "barmode": "stack",
        "template": {
         "data": {
          "bar": [
           {
            "error_x": {
             "color": "#2a3f5f"
            },
            "error_y": {
             "color": "#2a3f5f"
            },
            "marker": {
             "line": {
              "color": "#E5ECF6",
              "width": 0.5
             }
            },
            "type": "bar"
           }
          ],
          "barpolar": [
           {
            "marker": {
             "line": {
              "color": "#E5ECF6",
              "width": 0.5
             }
            },
            "type": "barpolar"
           }
          ],
          "carpet": [
           {
            "aaxis": {
             "endlinecolor": "#2a3f5f",
             "gridcolor": "white",
             "linecolor": "white",
             "minorgridcolor": "white",
             "startlinecolor": "#2a3f5f"
            },
            "baxis": {
             "endlinecolor": "#2a3f5f",
             "gridcolor": "white",
             "linecolor": "white",
             "minorgridcolor": "white",
             "startlinecolor": "#2a3f5f"
            },
            "type": "carpet"
           }
          ],
          "choropleth": [
           {
            "colorbar": {
             "outlinewidth": 0,
             "ticks": ""
            },
            "type": "choropleth"
           }
          ],
          "contour": [
           {
            "colorbar": {
             "outlinewidth": 0,
             "ticks": ""
            },
            "colorscale": [
             [
              0,
              "#0d0887"
             ],
             [
              0.1111111111111111,
              "#46039f"
             ],
             [
              0.2222222222222222,
              "#7201a8"
             ],
             [
              0.3333333333333333,
              "#9c179e"
             ],
             [
              0.4444444444444444,
              "#bd3786"
             ],
             [
              0.5555555555555556,
              "#d8576b"
             ],
             [
              0.6666666666666666,
              "#ed7953"
             ],
             [
              0.7777777777777778,
              "#fb9f3a"
             ],
             [
              0.8888888888888888,
              "#fdca26"
             ],
             [
              1,
              "#f0f921"
             ]
            ],
            "type": "contour"
           }
          ],
          "contourcarpet": [
           {
            "colorbar": {
             "outlinewidth": 0,
             "ticks": ""
            },
            "type": "contourcarpet"
           }
          ],
          "heatmap": [
           {
            "colorbar": {
             "outlinewidth": 0,
             "ticks": ""
            },
            "colorscale": [
             [
              0,
              "#0d0887"
             ],
             [
              0.1111111111111111,
              "#46039f"
             ],
             [
              0.2222222222222222,
              "#7201a8"
             ],
             [
              0.3333333333333333,
              "#9c179e"
             ],
             [
              0.4444444444444444,
              "#bd3786"
             ],
             [
              0.5555555555555556,
              "#d8576b"
             ],
             [
              0.6666666666666666,
              "#ed7953"
             ],
             [
              0.7777777777777778,
              "#fb9f3a"
             ],
             [
              0.8888888888888888,
              "#fdca26"
             ],
             [
              1,
              "#f0f921"
             ]
            ],
            "type": "heatmap"
           }
          ],
          "heatmapgl": [
           {
            "colorbar": {
             "outlinewidth": 0,
             "ticks": ""
            },
            "colorscale": [
             [
              0,
              "#0d0887"
             ],
             [
              0.1111111111111111,
              "#46039f"
             ],
             [
              0.2222222222222222,
              "#7201a8"
             ],
             [
              0.3333333333333333,
              "#9c179e"
             ],
             [
              0.4444444444444444,
              "#bd3786"
             ],
             [
              0.5555555555555556,
              "#d8576b"
             ],
             [
              0.6666666666666666,
              "#ed7953"
             ],
             [
              0.7777777777777778,
              "#fb9f3a"
             ],
             [
              0.8888888888888888,
              "#fdca26"
             ],
             [
              1,
              "#f0f921"
             ]
            ],
            "type": "heatmapgl"
           }
          ],
          "histogram": [
           {
            "marker": {
             "colorbar": {
              "outlinewidth": 0,
              "ticks": ""
             }
            },
            "type": "histogram"
           }
          ],
          "histogram2d": [
           {
            "colorbar": {
             "outlinewidth": 0,
             "ticks": ""
            },
            "colorscale": [
             [
              0,
              "#0d0887"
             ],
             [
              0.1111111111111111,
              "#46039f"
             ],
             [
              0.2222222222222222,
              "#7201a8"
             ],
             [
              0.3333333333333333,
              "#9c179e"
             ],
             [
              0.4444444444444444,
              "#bd3786"
             ],
             [
              0.5555555555555556,
              "#d8576b"
             ],
             [
              0.6666666666666666,
              "#ed7953"
             ],
             [
              0.7777777777777778,
              "#fb9f3a"
             ],
             [
              0.8888888888888888,
              "#fdca26"
             ],
             [
              1,
              "#f0f921"
             ]
            ],
            "type": "histogram2d"
           }
          ],
          "histogram2dcontour": [
           {
            "colorbar": {
             "outlinewidth": 0,
             "ticks": ""
            },
            "colorscale": [
             [
              0,
              "#0d0887"
             ],
             [
              0.1111111111111111,
              "#46039f"
             ],
             [
              0.2222222222222222,
              "#7201a8"
             ],
             [
              0.3333333333333333,
              "#9c179e"
             ],
             [
              0.4444444444444444,
              "#bd3786"
             ],
             [
              0.5555555555555556,
              "#d8576b"
             ],
             [
              0.6666666666666666,
              "#ed7953"
             ],
             [
              0.7777777777777778,
              "#fb9f3a"
             ],
             [
              0.8888888888888888,
              "#fdca26"
             ],
             [
              1,
              "#f0f921"
             ]
            ],
            "type": "histogram2dcontour"
           }
          ],
          "mesh3d": [
           {
            "colorbar": {
             "outlinewidth": 0,
             "ticks": ""
            },
            "type": "mesh3d"
           }
          ],
          "parcoords": [
           {
            "line": {
             "colorbar": {
              "outlinewidth": 0,
              "ticks": ""
             }
            },
            "type": "parcoords"
           }
          ],
          "pie": [
           {
            "automargin": true,
            "type": "pie"
           }
          ],
          "scatter": [
           {
            "marker": {
             "colorbar": {
              "outlinewidth": 0,
              "ticks": ""
             }
            },
            "type": "scatter"
           }
          ],
          "scatter3d": [
           {
            "line": {
             "colorbar": {
              "outlinewidth": 0,
              "ticks": ""
             }
            },
            "marker": {
             "colorbar": {
              "outlinewidth": 0,
              "ticks": ""
             }
            },
            "type": "scatter3d"
           }
          ],
          "scattercarpet": [
           {
            "marker": {
             "colorbar": {
              "outlinewidth": 0,
              "ticks": ""
             }
            },
            "type": "scattercarpet"
           }
          ],
          "scattergeo": [
           {
            "marker": {
             "colorbar": {
              "outlinewidth": 0,
              "ticks": ""
             }
            },
            "type": "scattergeo"
           }
          ],
          "scattergl": [
           {
            "marker": {
             "colorbar": {
              "outlinewidth": 0,
              "ticks": ""
             }
            },
            "type": "scattergl"
           }
          ],
          "scattermapbox": [
           {
            "marker": {
             "colorbar": {
              "outlinewidth": 0,
              "ticks": ""
             }
            },
            "type": "scattermapbox"
           }
          ],
          "scatterpolar": [
           {
            "marker": {
             "colorbar": {
              "outlinewidth": 0,
              "ticks": ""
             }
            },
            "type": "scatterpolar"
           }
          ],
          "scatterpolargl": [
           {
            "marker": {
             "colorbar": {
              "outlinewidth": 0,
              "ticks": ""
             }
            },
            "type": "scatterpolargl"
           }
          ],
          "scatterternary": [
           {
            "marker": {
             "colorbar": {
              "outlinewidth": 0,
              "ticks": ""
             }
            },
            "type": "scatterternary"
           }
          ],
          "surface": [
           {
            "colorbar": {
             "outlinewidth": 0,
             "ticks": ""
            },
            "colorscale": [
             [
              0,
              "#0d0887"
             ],
             [
              0.1111111111111111,
              "#46039f"
             ],
             [
              0.2222222222222222,
              "#7201a8"
             ],
             [
              0.3333333333333333,
              "#9c179e"
             ],
             [
              0.4444444444444444,
              "#bd3786"
             ],
             [
              0.5555555555555556,
              "#d8576b"
             ],
             [
              0.6666666666666666,
              "#ed7953"
             ],
             [
              0.7777777777777778,
              "#fb9f3a"
             ],
             [
              0.8888888888888888,
              "#fdca26"
             ],
             [
              1,
              "#f0f921"
             ]
            ],
            "type": "surface"
           }
          ],
          "table": [
           {
            "cells": {
             "fill": {
              "color": "#EBF0F8"
             },
             "line": {
              "color": "white"
             }
            },
            "header": {
             "fill": {
              "color": "#C8D4E3"
             },
             "line": {
              "color": "white"
             }
            },
            "type": "table"
           }
          ]
         },
         "layout": {
          "annotationdefaults": {
           "arrowcolor": "#2a3f5f",
           "arrowhead": 0,
           "arrowwidth": 1
          },
          "autotypenumbers": "strict",
          "coloraxis": {
           "colorbar": {
            "outlinewidth": 0,
            "ticks": ""
           }
          },
          "colorscale": {
           "diverging": [
            [
             0,
             "#8e0152"
            ],
            [
             0.1,
             "#c51b7d"
            ],
            [
             0.2,
             "#de77ae"
            ],
            [
             0.3,
             "#f1b6da"
            ],
            [
             0.4,
             "#fde0ef"
            ],
            [
             0.5,
             "#f7f7f7"
            ],
            [
             0.6,
             "#e6f5d0"
            ],
            [
             0.7,
             "#b8e186"
            ],
            [
             0.8,
             "#7fbc41"
            ],
            [
             0.9,
             "#4d9221"
            ],
            [
             1,
             "#276419"
            ]
           ],
           "sequential": [
            [
             0,
             "#0d0887"
            ],
            [
             0.1111111111111111,
             "#46039f"
            ],
            [
             0.2222222222222222,
             "#7201a8"
            ],
            [
             0.3333333333333333,
             "#9c179e"
            ],
            [
             0.4444444444444444,
             "#bd3786"
            ],
            [
             0.5555555555555556,
             "#d8576b"
            ],
            [
             0.6666666666666666,
             "#ed7953"
            ],
            [
             0.7777777777777778,
             "#fb9f3a"
            ],
            [
             0.8888888888888888,
             "#fdca26"
            ],
            [
             1,
             "#f0f921"
            ]
           ],
           "sequentialminus": [
            [
             0,
             "#0d0887"
            ],
            [
             0.1111111111111111,
             "#46039f"
            ],
            [
             0.2222222222222222,
             "#7201a8"
            ],
            [
             0.3333333333333333,
             "#9c179e"
            ],
            [
             0.4444444444444444,
             "#bd3786"
            ],
            [
             0.5555555555555556,
             "#d8576b"
            ],
            [
             0.6666666666666666,
             "#ed7953"
            ],
            [
             0.7777777777777778,
             "#fb9f3a"
            ],
            [
             0.8888888888888888,
             "#fdca26"
            ],
            [
             1,
             "#f0f921"
            ]
           ]
          },
          "colorway": [
           "#636efa",
           "#EF553B",
           "#00cc96",
           "#ab63fa",
           "#FFA15A",
           "#19d3f3",
           "#FF6692",
           "#B6E880",
           "#FF97FF",
           "#FECB52"
          ],
          "font": {
           "color": "#2a3f5f"
          },
          "geo": {
           "bgcolor": "white",
           "lakecolor": "white",
           "landcolor": "#E5ECF6",
           "showlakes": true,
           "showland": true,
           "subunitcolor": "white"
          },
          "hoverlabel": {
           "align": "left"
          },
          "hovermode": "closest",
          "mapbox": {
           "style": "light"
          },
          "paper_bgcolor": "white",
          "plot_bgcolor": "#E5ECF6",
          "polar": {
           "angularaxis": {
            "gridcolor": "white",
            "linecolor": "white",
            "ticks": ""
           },
           "bgcolor": "#E5ECF6",
           "radialaxis": {
            "gridcolor": "white",
            "linecolor": "white",
            "ticks": ""
           }
          },
          "scene": {
           "xaxis": {
            "backgroundcolor": "#E5ECF6",
            "gridcolor": "white",
            "gridwidth": 2,
            "linecolor": "white",
            "showbackground": true,
            "ticks": "",
            "zerolinecolor": "white"
           },
           "yaxis": {
            "backgroundcolor": "#E5ECF6",
            "gridcolor": "white",
            "gridwidth": 2,
            "linecolor": "white",
            "showbackground": true,
            "ticks": "",
            "zerolinecolor": "white"
           },
           "zaxis": {
            "backgroundcolor": "#E5ECF6",
            "gridcolor": "white",
            "gridwidth": 2,
            "linecolor": "white",
            "showbackground": true,
            "ticks": "",
            "zerolinecolor": "white"
           }
          },
          "shapedefaults": {
           "line": {
            "color": "#2a3f5f"
           }
          },
          "ternary": {
           "aaxis": {
            "gridcolor": "white",
            "linecolor": "white",
            "ticks": ""
           },
           "baxis": {
            "gridcolor": "white",
            "linecolor": "white",
            "ticks": ""
           },
           "bgcolor": "#E5ECF6",
           "caxis": {
            "gridcolor": "white",
            "linecolor": "white",
            "ticks": ""
           }
          },
          "title": {
           "x": 0.05
          },
          "xaxis": {
           "automargin": true,
           "gridcolor": "white",
           "linecolor": "white",
           "ticks": "",
           "title": {
            "standoff": 15
           },
           "zerolinecolor": "white",
           "zerolinewidth": 2
          },
          "yaxis": {
           "automargin": true,
           "gridcolor": "white",
           "linecolor": "white",
           "ticks": "",
           "title": {
            "standoff": 15
           },
           "zerolinecolor": "white",
           "zerolinewidth": 2
          }
         }
        },
        "title": {
         "font": {
          "size": 30
         },
         "text": "Population of China"
        },
        "xaxis": {
         "title": {
          "font": {
           "size": 20
          },
          "text": "Year"
         }
        },
        "yaxis": {
         "title": {
          "font": {
           "size": 20
          },
          "text": "Population"
         }
        }
       }
      },
      "text/html": [
       "<div>                            <div id=\"9ef8a1f1-ee52-4d8e-b8cf-949d9c85c40d\" class=\"plotly-graph-div\" style=\"height:525px; width:100%;\"></div>            <script type=\"text/javascript\">                require([\"plotly\"], function(Plotly) {                    window.PLOTLYENV=window.PLOTLYENV || {};                                    if (document.getElementById(\"9ef8a1f1-ee52-4d8e-b8cf-949d9c85c40d\")) {                    Plotly.newPlot(                        \"9ef8a1f1-ee52-4d8e-b8cf-949d9c85c40d\",                        [{\"mode\": \"lines+markers\", \"name\": \"Female\", \"type\": \"scatter\", \"x\": [1961, 1962, 1963, 1964, 1965, 1966, 1967, 1968, 1969, 1970, 1971, 1972, 1973, 1974, 1975, 1976, 1977, 1978, 1979, 1980, 1981, 1982, 1983, 1984, 1985, 1986, 1987, 1988, 1989, 1990, 1991, 1992, 1993, 1994, 1995, 1996, 1997, 1998, 1999, 2000, 2001, 2002, 2003, 2004, 2005, 2006, 2007, 2008, 2009, 2010, 2011, 2012, 2013, 2014, 2015, 2016, 2017, 2018, 2019], \"y\": [320153437.0, 322953588.0, 331140640.0, 339068212.0, 347401432.0, 357394687.0, 366879507.0, 376753699.0, 387362696.0, 398315770.0, 409475913.0, 419696503.0, 429398133.0, 438355316.0, 446155493.0, 453096478.0, 459292487.0, 465460554.0, 471700516.0, 477656979.0, 483835348.0, 491049203.0, 498238544.0, 504855230.0, 511798492.0, 519471732.0, 527858967.0, 536408672.0, 544679377.0, 552721134.0, 560312586.0, 567224558.0, 573790071.0, 580322015.0, 586672507.0, 592868311.0, 598982994.0, 604764109.0, 610004104.0, 614775825.0, 619165993.0, 623205125.0, 626956157.0, 630545489.0, 634130240.0, 637560457.0, 640793072.0, 644001246.0, 647159372.0, 650275748.0, 653422748.0, 656677290.0, 660023537.0, 663493378.0, 667009225.0, 670780903.0, 674707818.0, 677972245.0, 680596325.0]}, {\"mode\": \"lines+markers\", \"name\": \"Male\", \"type\": \"scatter\", \"x\": [1961, 1962, 1963, 1964, 1965, 1966, 1967, 1968, 1969, 1970, 1971, 1972, 1973, 1974, 1975, 1976, 1977, 1978, 1979, 1980, 1981, 1982, 1983, 1984, 1985, 1986, 1987, 1988, 1989, 1990, 1991, 1992, 1993, 1994, 1995, 1996, 1997, 1998, 1999, 2000, 2001, 2002, 2003, 2004, 2005, 2006, 2007, 2008, 2009, 2010, 2011, 2012, 2013, 2014, 2015, 2016, 2017, 2018, 2019], \"y\": [340176563.0, 342816412.0, 351194360.0, 359286788.0, 367783568.0, 378005313.0, 387670493.0, 397756301.0, 408662304.0, 419999230.0, 431629087.0, 442333497.0, 452541867.0, 461994684.0, 470239507.0, 477588522.0, 484162513.0, 490704446.0, 497304484.0, 503578021.0, 510049652.0, 517580797.0, 525071456.0, 531969770.0, 539241508.0, 547318268.0, 556176033.0, 565221328.0, 573970623.0, 582463866.0, 590467414.0, 597745442.0, 604649929.0, 611512985.0, 618182493.0, 624681689.0, 631092006.0, 637170891.0, 642730896.0, 647869175.0, 652684007.0, 657194875.0, 661443843.0, 665529511.0, 669589760.0, 673459543.0, 677091928.0, 680653754.0, 684100628.0, 687429252.0, 690707252.0, 694017710.0, 697356463.0, 700776622.0, 704210775.0, 707884097.0, 711687182.0, 714757755.0, 717118675.0]}],                        {\"barmode\": \"stack\", \"template\": {\"data\": {\"bar\": [{\"error_x\": {\"color\": \"#2a3f5f\"}, \"error_y\": {\"color\": \"#2a3f5f\"}, \"marker\": {\"line\": {\"color\": \"#E5ECF6\", \"width\": 0.5}}, \"type\": \"bar\"}], \"barpolar\": [{\"marker\": {\"line\": {\"color\": \"#E5ECF6\", \"width\": 0.5}}, \"type\": \"barpolar\"}], \"carpet\": [{\"aaxis\": {\"endlinecolor\": \"#2a3f5f\", \"gridcolor\": \"white\", \"linecolor\": \"white\", \"minorgridcolor\": \"white\", \"startlinecolor\": \"#2a3f5f\"}, \"baxis\": {\"endlinecolor\": \"#2a3f5f\", \"gridcolor\": \"white\", \"linecolor\": \"white\", \"minorgridcolor\": \"white\", \"startlinecolor\": \"#2a3f5f\"}, \"type\": \"carpet\"}], \"choropleth\": [{\"colorbar\": {\"outlinewidth\": 0, \"ticks\": \"\"}, \"type\": \"choropleth\"}], \"contour\": [{\"colorbar\": {\"outlinewidth\": 0, \"ticks\": \"\"}, \"colorscale\": [[0.0, \"#0d0887\"], [0.1111111111111111, \"#46039f\"], [0.2222222222222222, \"#7201a8\"], [0.3333333333333333, \"#9c179e\"], [0.4444444444444444, \"#bd3786\"], [0.5555555555555556, \"#d8576b\"], [0.6666666666666666, \"#ed7953\"], [0.7777777777777778, \"#fb9f3a\"], [0.8888888888888888, \"#fdca26\"], [1.0, \"#f0f921\"]], \"type\": \"contour\"}], \"contourcarpet\": [{\"colorbar\": {\"outlinewidth\": 0, \"ticks\": \"\"}, \"type\": \"contourcarpet\"}], \"heatmap\": [{\"colorbar\": {\"outlinewidth\": 0, \"ticks\": \"\"}, \"colorscale\": [[0.0, \"#0d0887\"], [0.1111111111111111, \"#46039f\"], [0.2222222222222222, \"#7201a8\"], [0.3333333333333333, \"#9c179e\"], [0.4444444444444444, \"#bd3786\"], [0.5555555555555556, \"#d8576b\"], [0.6666666666666666, \"#ed7953\"], [0.7777777777777778, \"#fb9f3a\"], [0.8888888888888888, \"#fdca26\"], [1.0, \"#f0f921\"]], \"type\": \"heatmap\"}], \"heatmapgl\": [{\"colorbar\": {\"outlinewidth\": 0, \"ticks\": \"\"}, \"colorscale\": [[0.0, \"#0d0887\"], [0.1111111111111111, \"#46039f\"], [0.2222222222222222, \"#7201a8\"], [0.3333333333333333, \"#9c179e\"], [0.4444444444444444, \"#bd3786\"], [0.5555555555555556, \"#d8576b\"], [0.6666666666666666, \"#ed7953\"], [0.7777777777777778, \"#fb9f3a\"], [0.8888888888888888, \"#fdca26\"], [1.0, \"#f0f921\"]], \"type\": \"heatmapgl\"}], \"histogram\": [{\"marker\": {\"colorbar\": {\"outlinewidth\": 0, \"ticks\": \"\"}}, \"type\": \"histogram\"}], \"histogram2d\": [{\"colorbar\": {\"outlinewidth\": 0, \"ticks\": \"\"}, \"colorscale\": [[0.0, \"#0d0887\"], [0.1111111111111111, \"#46039f\"], [0.2222222222222222, \"#7201a8\"], [0.3333333333333333, \"#9c179e\"], [0.4444444444444444, \"#bd3786\"], [0.5555555555555556, \"#d8576b\"], [0.6666666666666666, \"#ed7953\"], [0.7777777777777778, \"#fb9f3a\"], [0.8888888888888888, \"#fdca26\"], [1.0, \"#f0f921\"]], \"type\": \"histogram2d\"}], \"histogram2dcontour\": [{\"colorbar\": {\"outlinewidth\": 0, \"ticks\": \"\"}, \"colorscale\": [[0.0, \"#0d0887\"], [0.1111111111111111, \"#46039f\"], [0.2222222222222222, \"#7201a8\"], [0.3333333333333333, \"#9c179e\"], [0.4444444444444444, \"#bd3786\"], [0.5555555555555556, \"#d8576b\"], [0.6666666666666666, \"#ed7953\"], [0.7777777777777778, \"#fb9f3a\"], [0.8888888888888888, \"#fdca26\"], [1.0, \"#f0f921\"]], \"type\": \"histogram2dcontour\"}], \"mesh3d\": [{\"colorbar\": {\"outlinewidth\": 0, \"ticks\": \"\"}, \"type\": \"mesh3d\"}], \"parcoords\": [{\"line\": {\"colorbar\": {\"outlinewidth\": 0, \"ticks\": \"\"}}, \"type\": \"parcoords\"}], \"pie\": [{\"automargin\": true, \"type\": \"pie\"}], \"scatter\": [{\"marker\": {\"colorbar\": {\"outlinewidth\": 0, \"ticks\": \"\"}}, \"type\": \"scatter\"}], \"scatter3d\": [{\"line\": {\"colorbar\": {\"outlinewidth\": 0, \"ticks\": \"\"}}, \"marker\": {\"colorbar\": {\"outlinewidth\": 0, \"ticks\": \"\"}}, \"type\": \"scatter3d\"}], \"scattercarpet\": [{\"marker\": {\"colorbar\": {\"outlinewidth\": 0, \"ticks\": \"\"}}, \"type\": \"scattercarpet\"}], \"scattergeo\": [{\"marker\": {\"colorbar\": {\"outlinewidth\": 0, \"ticks\": \"\"}}, \"type\": \"scattergeo\"}], \"scattergl\": [{\"marker\": {\"colorbar\": {\"outlinewidth\": 0, \"ticks\": \"\"}}, \"type\": \"scattergl\"}], \"scattermapbox\": [{\"marker\": {\"colorbar\": {\"outlinewidth\": 0, \"ticks\": \"\"}}, \"type\": \"scattermapbox\"}], \"scatterpolar\": [{\"marker\": {\"colorbar\": {\"outlinewidth\": 0, \"ticks\": \"\"}}, \"type\": \"scatterpolar\"}], \"scatterpolargl\": [{\"marker\": {\"colorbar\": {\"outlinewidth\": 0, \"ticks\": \"\"}}, \"type\": \"scatterpolargl\"}], \"scatterternary\": [{\"marker\": {\"colorbar\": {\"outlinewidth\": 0, \"ticks\": \"\"}}, \"type\": \"scatterternary\"}], \"surface\": [{\"colorbar\": {\"outlinewidth\": 0, \"ticks\": \"\"}, \"colorscale\": [[0.0, \"#0d0887\"], [0.1111111111111111, \"#46039f\"], [0.2222222222222222, \"#7201a8\"], [0.3333333333333333, \"#9c179e\"], [0.4444444444444444, \"#bd3786\"], [0.5555555555555556, \"#d8576b\"], [0.6666666666666666, \"#ed7953\"], [0.7777777777777778, \"#fb9f3a\"], [0.8888888888888888, \"#fdca26\"], [1.0, \"#f0f921\"]], \"type\": \"surface\"}], \"table\": [{\"cells\": {\"fill\": {\"color\": \"#EBF0F8\"}, \"line\": {\"color\": \"white\"}}, \"header\": {\"fill\": {\"color\": \"#C8D4E3\"}, \"line\": {\"color\": \"white\"}}, \"type\": \"table\"}]}, \"layout\": {\"annotationdefaults\": {\"arrowcolor\": \"#2a3f5f\", \"arrowhead\": 0, \"arrowwidth\": 1}, \"autotypenumbers\": \"strict\", \"coloraxis\": {\"colorbar\": {\"outlinewidth\": 0, \"ticks\": \"\"}}, \"colorscale\": {\"diverging\": [[0, \"#8e0152\"], [0.1, \"#c51b7d\"], [0.2, \"#de77ae\"], [0.3, \"#f1b6da\"], [0.4, \"#fde0ef\"], [0.5, \"#f7f7f7\"], [0.6, \"#e6f5d0\"], [0.7, \"#b8e186\"], [0.8, \"#7fbc41\"], [0.9, \"#4d9221\"], [1, \"#276419\"]], \"sequential\": [[0.0, \"#0d0887\"], [0.1111111111111111, \"#46039f\"], [0.2222222222222222, \"#7201a8\"], [0.3333333333333333, \"#9c179e\"], [0.4444444444444444, \"#bd3786\"], [0.5555555555555556, \"#d8576b\"], [0.6666666666666666, \"#ed7953\"], [0.7777777777777778, \"#fb9f3a\"], [0.8888888888888888, \"#fdca26\"], [1.0, \"#f0f921\"]], \"sequentialminus\": [[0.0, \"#0d0887\"], [0.1111111111111111, \"#46039f\"], [0.2222222222222222, \"#7201a8\"], [0.3333333333333333, \"#9c179e\"], [0.4444444444444444, \"#bd3786\"], [0.5555555555555556, \"#d8576b\"], [0.6666666666666666, \"#ed7953\"], [0.7777777777777778, \"#fb9f3a\"], [0.8888888888888888, \"#fdca26\"], [1.0, \"#f0f921\"]]}, \"colorway\": [\"#636efa\", \"#EF553B\", \"#00cc96\", \"#ab63fa\", \"#FFA15A\", \"#19d3f3\", \"#FF6692\", \"#B6E880\", \"#FF97FF\", \"#FECB52\"], \"font\": {\"color\": \"#2a3f5f\"}, \"geo\": {\"bgcolor\": \"white\", \"lakecolor\": \"white\", \"landcolor\": \"#E5ECF6\", \"showlakes\": true, \"showland\": true, \"subunitcolor\": \"white\"}, \"hoverlabel\": {\"align\": \"left\"}, \"hovermode\": \"closest\", \"mapbox\": {\"style\": \"light\"}, \"paper_bgcolor\": \"white\", \"plot_bgcolor\": \"#E5ECF6\", \"polar\": {\"angularaxis\": {\"gridcolor\": \"white\", \"linecolor\": \"white\", \"ticks\": \"\"}, \"bgcolor\": \"#E5ECF6\", \"radialaxis\": {\"gridcolor\": \"white\", \"linecolor\": \"white\", \"ticks\": \"\"}}, \"scene\": {\"xaxis\": {\"backgroundcolor\": \"#E5ECF6\", \"gridcolor\": \"white\", \"gridwidth\": 2, \"linecolor\": \"white\", \"showbackground\": true, \"ticks\": \"\", \"zerolinecolor\": \"white\"}, \"yaxis\": {\"backgroundcolor\": \"#E5ECF6\", \"gridcolor\": \"white\", \"gridwidth\": 2, \"linecolor\": \"white\", \"showbackground\": true, \"ticks\": \"\", \"zerolinecolor\": \"white\"}, \"zaxis\": {\"backgroundcolor\": \"#E5ECF6\", \"gridcolor\": \"white\", \"gridwidth\": 2, \"linecolor\": \"white\", \"showbackground\": true, \"ticks\": \"\", \"zerolinecolor\": \"white\"}}, \"shapedefaults\": {\"line\": {\"color\": \"#2a3f5f\"}}, \"ternary\": {\"aaxis\": {\"gridcolor\": \"white\", \"linecolor\": \"white\", \"ticks\": \"\"}, \"baxis\": {\"gridcolor\": \"white\", \"linecolor\": \"white\", \"ticks\": \"\"}, \"bgcolor\": \"#E5ECF6\", \"caxis\": {\"gridcolor\": \"white\", \"linecolor\": \"white\", \"ticks\": \"\"}}, \"title\": {\"x\": 0.05}, \"xaxis\": {\"automargin\": true, \"gridcolor\": \"white\", \"linecolor\": \"white\", \"ticks\": \"\", \"title\": {\"standoff\": 15}, \"zerolinecolor\": \"white\", \"zerolinewidth\": 2}, \"yaxis\": {\"automargin\": true, \"gridcolor\": \"white\", \"linecolor\": \"white\", \"ticks\": \"\", \"title\": {\"standoff\": 15}, \"zerolinecolor\": \"white\", \"zerolinewidth\": 2}}}, \"title\": {\"font\": {\"size\": 30}, \"text\": \"Population of China\"}, \"xaxis\": {\"title\": {\"font\": {\"size\": 20}, \"text\": \"Year\"}}, \"yaxis\": {\"title\": {\"font\": {\"size\": 20}, \"text\": \"Population\"}}},                        {\"responsive\": true}                    ).then(function(){\n",
       "                            \n",
       "var gd = document.getElementById('9ef8a1f1-ee52-4d8e-b8cf-949d9c85c40d');\n",
       "var x = new MutationObserver(function (mutations, observer) {{\n",
       "        var display = window.getComputedStyle(gd).display;\n",
       "        if (!display || display === 'none') {{\n",
       "            console.log([gd, 'removed!']);\n",
       "            Plotly.purge(gd);\n",
       "            observer.disconnect();\n",
       "        }}\n",
       "}});\n",
       "\n",
       "// Listen for the removal of the full notebook cells\n",
       "var notebookContainer = gd.closest('#notebook-container');\n",
       "if (notebookContainer) {{\n",
       "    x.observe(notebookContainer, {childList: true});\n",
       "}}\n",
       "\n",
       "// Listen for the clearing of the current output cell\n",
       "var outputEl = gd.closest('.output');\n",
       "if (outputEl) {{\n",
       "    x.observe(outputEl, {childList: true});\n",
       "}}\n",
       "\n",
       "                        })                };                });            </script>        </div>"
      ]
     },
     "metadata": {},
     "output_type": "display_data"
    }
   ],
   "source": [
    "fig6 = go.Figure()\n",
    "\n",
    "# Add traces\n",
    "fig6.add_trace(go.Scatter(x=x, y=china_fe_population,\n",
    "                    mode='lines+markers',\n",
    "                    name='Female'))\n",
    "fig6.add_trace(go.Scatter(x=x, y=china_ma_population,\n",
    "                    mode='lines+markers',\n",
    "                    name='Male'))\n",
    "fig6.update_layout(barmode='stack', xaxis = dict(title='Year', titlefont_size=20),\n",
    "                  yaxis = dict(title='Population', titlefont_size=20), title = \"Population of China\", titlefont_size=30)\n",
    "\n",
    "fig6.show()"
   ]
  },
  {
   "cell_type": "code",
   "execution_count": 22,
   "metadata": {},
   "outputs": [
    {
     "data": {
      "application/vnd.plotly.v1+json": {
       "config": {
        "plotlyServerURL": "https://plot.ly"
       },
       "data": [
        {
         "mode": "lines+markers",
         "name": "Female",
         "type": "scatter",
         "x": [
          1961,
          1962,
          1963,
          1964,
          1965,
          1966,
          1967,
          1968,
          1969,
          1970,
          1971,
          1972,
          1973,
          1974,
          1975,
          1976,
          1977,
          1978,
          1979,
          1980,
          1981,
          1982,
          1983,
          1984,
          1985,
          1986,
          1987,
          1988,
          1989,
          1990,
          1991,
          1992,
          1993,
          1994,
          1995,
          1996,
          1997,
          1998,
          1999,
          2000,
          2001,
          2002,
          2003,
          2004,
          2005,
          2006,
          2007,
          2008,
          2009,
          2010,
          2011,
          2012,
          2013,
          2014,
          2015,
          2016,
          2017,
          2018,
          2019
         ],
         "y": [
          222328744,
          226780736,
          231387197,
          236130819,
          241002417,
          245993499,
          251117415,
          256412983,
          261932711,
          267712745,
          273769665,
          280088829,
          286636580,
          293362998,
          300231624,
          307224285,
          314349666,
          321629370,
          329097304,
          336773405,
          344660920,
          352736218,
          360959428,
          369276873,
          377646918,
          386054077,
          394498853,
          402975459,
          411482899,
          420020420,
          428576056,
          437144411,
          445740100,
          454384942,
          463091989,
          471862699,
          480682703,
          489529545,
          498372775,
          507187684,
          515957245,
          524676538,
          533346646,
          541973977,
          550557712,
          559099816,
          567579951,
          575948780,
          584142640,
          592116985,
          599851725,
          607361114,
          614678382,
          621854638,
          628929065,
          635908885,
          642787641,
          649574719,
          656288183
         ]
        },
        {
         "mode": "lines+markers",
         "name": "Male",
         "type": "scatter",
         "x": [
          1961,
          1962,
          1963,
          1964,
          1965,
          1966,
          1967,
          1968,
          1969,
          1970,
          1971,
          1972,
          1973,
          1974,
          1975,
          1976,
          1977,
          1978,
          1979,
          1980,
          1981,
          1982,
          1983,
          1984,
          1985,
          1986,
          1987,
          1988,
          1989,
          1990,
          1991,
          1992,
          1993,
          1994,
          1995,
          1996,
          1997,
          1998,
          1999,
          2000,
          2001,
          2002,
          2003,
          2004,
          2005,
          2006,
          2007,
          2008,
          2009,
          2010,
          2011,
          2012,
          2013,
          2014,
          2015,
          2016,
          2017,
          2018,
          2019
         ],
         "y": [
          237313421,
          242296454,
          247438411,
          252717316,
          258120907,
          263638001,
          269283161,
          275100841,
          281151625,
          287477047,
          294098353,
          300998427,
          308133554,
          315439602,
          322871273,
          330405802,
          338059110,
          345870436,
          353898050,
          362179439,
          370724073,
          379503286,
          388469530,
          397556537,
          406713090,
          415921167,
          425183249,
          434493471,
          443851779,
          453257378,
          462697153,
          472162605,
          481663760,
          491216889,
          500830599,
          510502544,
          520217327,
          529954036,
          539685381,
          549387865,
          559042840,
          568640651,
          578176498,
          587649479,
          597052215,
          606386475,
          615629521,
          624720985,
          633583575,
          642164185,
          650437004,
          658421676,
          666167747,
          673749546,
          681223338,
          688600704,
          695871194,
          703042609,
          710129571
         ]
        }
       ],
       "layout": {
        "barmode": "stack",
        "template": {
         "data": {
          "bar": [
           {
            "error_x": {
             "color": "#2a3f5f"
            },
            "error_y": {
             "color": "#2a3f5f"
            },
            "marker": {
             "line": {
              "color": "#E5ECF6",
              "width": 0.5
             }
            },
            "type": "bar"
           }
          ],
          "barpolar": [
           {
            "marker": {
             "line": {
              "color": "#E5ECF6",
              "width": 0.5
             }
            },
            "type": "barpolar"
           }
          ],
          "carpet": [
           {
            "aaxis": {
             "endlinecolor": "#2a3f5f",
             "gridcolor": "white",
             "linecolor": "white",
             "minorgridcolor": "white",
             "startlinecolor": "#2a3f5f"
            },
            "baxis": {
             "endlinecolor": "#2a3f5f",
             "gridcolor": "white",
             "linecolor": "white",
             "minorgridcolor": "white",
             "startlinecolor": "#2a3f5f"
            },
            "type": "carpet"
           }
          ],
          "choropleth": [
           {
            "colorbar": {
             "outlinewidth": 0,
             "ticks": ""
            },
            "type": "choropleth"
           }
          ],
          "contour": [
           {
            "colorbar": {
             "outlinewidth": 0,
             "ticks": ""
            },
            "colorscale": [
             [
              0,
              "#0d0887"
             ],
             [
              0.1111111111111111,
              "#46039f"
             ],
             [
              0.2222222222222222,
              "#7201a8"
             ],
             [
              0.3333333333333333,
              "#9c179e"
             ],
             [
              0.4444444444444444,
              "#bd3786"
             ],
             [
              0.5555555555555556,
              "#d8576b"
             ],
             [
              0.6666666666666666,
              "#ed7953"
             ],
             [
              0.7777777777777778,
              "#fb9f3a"
             ],
             [
              0.8888888888888888,
              "#fdca26"
             ],
             [
              1,
              "#f0f921"
             ]
            ],
            "type": "contour"
           }
          ],
          "contourcarpet": [
           {
            "colorbar": {
             "outlinewidth": 0,
             "ticks": ""
            },
            "type": "contourcarpet"
           }
          ],
          "heatmap": [
           {
            "colorbar": {
             "outlinewidth": 0,
             "ticks": ""
            },
            "colorscale": [
             [
              0,
              "#0d0887"
             ],
             [
              0.1111111111111111,
              "#46039f"
             ],
             [
              0.2222222222222222,
              "#7201a8"
             ],
             [
              0.3333333333333333,
              "#9c179e"
             ],
             [
              0.4444444444444444,
              "#bd3786"
             ],
             [
              0.5555555555555556,
              "#d8576b"
             ],
             [
              0.6666666666666666,
              "#ed7953"
             ],
             [
              0.7777777777777778,
              "#fb9f3a"
             ],
             [
              0.8888888888888888,
              "#fdca26"
             ],
             [
              1,
              "#f0f921"
             ]
            ],
            "type": "heatmap"
           }
          ],
          "heatmapgl": [
           {
            "colorbar": {
             "outlinewidth": 0,
             "ticks": ""
            },
            "colorscale": [
             [
              0,
              "#0d0887"
             ],
             [
              0.1111111111111111,
              "#46039f"
             ],
             [
              0.2222222222222222,
              "#7201a8"
             ],
             [
              0.3333333333333333,
              "#9c179e"
             ],
             [
              0.4444444444444444,
              "#bd3786"
             ],
             [
              0.5555555555555556,
              "#d8576b"
             ],
             [
              0.6666666666666666,
              "#ed7953"
             ],
             [
              0.7777777777777778,
              "#fb9f3a"
             ],
             [
              0.8888888888888888,
              "#fdca26"
             ],
             [
              1,
              "#f0f921"
             ]
            ],
            "type": "heatmapgl"
           }
          ],
          "histogram": [
           {
            "marker": {
             "colorbar": {
              "outlinewidth": 0,
              "ticks": ""
             }
            },
            "type": "histogram"
           }
          ],
          "histogram2d": [
           {
            "colorbar": {
             "outlinewidth": 0,
             "ticks": ""
            },
            "colorscale": [
             [
              0,
              "#0d0887"
             ],
             [
              0.1111111111111111,
              "#46039f"
             ],
             [
              0.2222222222222222,
              "#7201a8"
             ],
             [
              0.3333333333333333,
              "#9c179e"
             ],
             [
              0.4444444444444444,
              "#bd3786"
             ],
             [
              0.5555555555555556,
              "#d8576b"
             ],
             [
              0.6666666666666666,
              "#ed7953"
             ],
             [
              0.7777777777777778,
              "#fb9f3a"
             ],
             [
              0.8888888888888888,
              "#fdca26"
             ],
             [
              1,
              "#f0f921"
             ]
            ],
            "type": "histogram2d"
           }
          ],
          "histogram2dcontour": [
           {
            "colorbar": {
             "outlinewidth": 0,
             "ticks": ""
            },
            "colorscale": [
             [
              0,
              "#0d0887"
             ],
             [
              0.1111111111111111,
              "#46039f"
             ],
             [
              0.2222222222222222,
              "#7201a8"
             ],
             [
              0.3333333333333333,
              "#9c179e"
             ],
             [
              0.4444444444444444,
              "#bd3786"
             ],
             [
              0.5555555555555556,
              "#d8576b"
             ],
             [
              0.6666666666666666,
              "#ed7953"
             ],
             [
              0.7777777777777778,
              "#fb9f3a"
             ],
             [
              0.8888888888888888,
              "#fdca26"
             ],
             [
              1,
              "#f0f921"
             ]
            ],
            "type": "histogram2dcontour"
           }
          ],
          "mesh3d": [
           {
            "colorbar": {
             "outlinewidth": 0,
             "ticks": ""
            },
            "type": "mesh3d"
           }
          ],
          "parcoords": [
           {
            "line": {
             "colorbar": {
              "outlinewidth": 0,
              "ticks": ""
             }
            },
            "type": "parcoords"
           }
          ],
          "pie": [
           {
            "automargin": true,
            "type": "pie"
           }
          ],
          "scatter": [
           {
            "marker": {
             "colorbar": {
              "outlinewidth": 0,
              "ticks": ""
             }
            },
            "type": "scatter"
           }
          ],
          "scatter3d": [
           {
            "line": {
             "colorbar": {
              "outlinewidth": 0,
              "ticks": ""
             }
            },
            "marker": {
             "colorbar": {
              "outlinewidth": 0,
              "ticks": ""
             }
            },
            "type": "scatter3d"
           }
          ],
          "scattercarpet": [
           {
            "marker": {
             "colorbar": {
              "outlinewidth": 0,
              "ticks": ""
             }
            },
            "type": "scattercarpet"
           }
          ],
          "scattergeo": [
           {
            "marker": {
             "colorbar": {
              "outlinewidth": 0,
              "ticks": ""
             }
            },
            "type": "scattergeo"
           }
          ],
          "scattergl": [
           {
            "marker": {
             "colorbar": {
              "outlinewidth": 0,
              "ticks": ""
             }
            },
            "type": "scattergl"
           }
          ],
          "scattermapbox": [
           {
            "marker": {
             "colorbar": {
              "outlinewidth": 0,
              "ticks": ""
             }
            },
            "type": "scattermapbox"
           }
          ],
          "scatterpolar": [
           {
            "marker": {
             "colorbar": {
              "outlinewidth": 0,
              "ticks": ""
             }
            },
            "type": "scatterpolar"
           }
          ],
          "scatterpolargl": [
           {
            "marker": {
             "colorbar": {
              "outlinewidth": 0,
              "ticks": ""
             }
            },
            "type": "scatterpolargl"
           }
          ],
          "scatterternary": [
           {
            "marker": {
             "colorbar": {
              "outlinewidth": 0,
              "ticks": ""
             }
            },
            "type": "scatterternary"
           }
          ],
          "surface": [
           {
            "colorbar": {
             "outlinewidth": 0,
             "ticks": ""
            },
            "colorscale": [
             [
              0,
              "#0d0887"
             ],
             [
              0.1111111111111111,
              "#46039f"
             ],
             [
              0.2222222222222222,
              "#7201a8"
             ],
             [
              0.3333333333333333,
              "#9c179e"
             ],
             [
              0.4444444444444444,
              "#bd3786"
             ],
             [
              0.5555555555555556,
              "#d8576b"
             ],
             [
              0.6666666666666666,
              "#ed7953"
             ],
             [
              0.7777777777777778,
              "#fb9f3a"
             ],
             [
              0.8888888888888888,
              "#fdca26"
             ],
             [
              1,
              "#f0f921"
             ]
            ],
            "type": "surface"
           }
          ],
          "table": [
           {
            "cells": {
             "fill": {
              "color": "#EBF0F8"
             },
             "line": {
              "color": "white"
             }
            },
            "header": {
             "fill": {
              "color": "#C8D4E3"
             },
             "line": {
              "color": "white"
             }
            },
            "type": "table"
           }
          ]
         },
         "layout": {
          "annotationdefaults": {
           "arrowcolor": "#2a3f5f",
           "arrowhead": 0,
           "arrowwidth": 1
          },
          "autotypenumbers": "strict",
          "coloraxis": {
           "colorbar": {
            "outlinewidth": 0,
            "ticks": ""
           }
          },
          "colorscale": {
           "diverging": [
            [
             0,
             "#8e0152"
            ],
            [
             0.1,
             "#c51b7d"
            ],
            [
             0.2,
             "#de77ae"
            ],
            [
             0.3,
             "#f1b6da"
            ],
            [
             0.4,
             "#fde0ef"
            ],
            [
             0.5,
             "#f7f7f7"
            ],
            [
             0.6,
             "#e6f5d0"
            ],
            [
             0.7,
             "#b8e186"
            ],
            [
             0.8,
             "#7fbc41"
            ],
            [
             0.9,
             "#4d9221"
            ],
            [
             1,
             "#276419"
            ]
           ],
           "sequential": [
            [
             0,
             "#0d0887"
            ],
            [
             0.1111111111111111,
             "#46039f"
            ],
            [
             0.2222222222222222,
             "#7201a8"
            ],
            [
             0.3333333333333333,
             "#9c179e"
            ],
            [
             0.4444444444444444,
             "#bd3786"
            ],
            [
             0.5555555555555556,
             "#d8576b"
            ],
            [
             0.6666666666666666,
             "#ed7953"
            ],
            [
             0.7777777777777778,
             "#fb9f3a"
            ],
            [
             0.8888888888888888,
             "#fdca26"
            ],
            [
             1,
             "#f0f921"
            ]
           ],
           "sequentialminus": [
            [
             0,
             "#0d0887"
            ],
            [
             0.1111111111111111,
             "#46039f"
            ],
            [
             0.2222222222222222,
             "#7201a8"
            ],
            [
             0.3333333333333333,
             "#9c179e"
            ],
            [
             0.4444444444444444,
             "#bd3786"
            ],
            [
             0.5555555555555556,
             "#d8576b"
            ],
            [
             0.6666666666666666,
             "#ed7953"
            ],
            [
             0.7777777777777778,
             "#fb9f3a"
            ],
            [
             0.8888888888888888,
             "#fdca26"
            ],
            [
             1,
             "#f0f921"
            ]
           ]
          },
          "colorway": [
           "#636efa",
           "#EF553B",
           "#00cc96",
           "#ab63fa",
           "#FFA15A",
           "#19d3f3",
           "#FF6692",
           "#B6E880",
           "#FF97FF",
           "#FECB52"
          ],
          "font": {
           "color": "#2a3f5f"
          },
          "geo": {
           "bgcolor": "white",
           "lakecolor": "white",
           "landcolor": "#E5ECF6",
           "showlakes": true,
           "showland": true,
           "subunitcolor": "white"
          },
          "hoverlabel": {
           "align": "left"
          },
          "hovermode": "closest",
          "mapbox": {
           "style": "light"
          },
          "paper_bgcolor": "white",
          "plot_bgcolor": "#E5ECF6",
          "polar": {
           "angularaxis": {
            "gridcolor": "white",
            "linecolor": "white",
            "ticks": ""
           },
           "bgcolor": "#E5ECF6",
           "radialaxis": {
            "gridcolor": "white",
            "linecolor": "white",
            "ticks": ""
           }
          },
          "scene": {
           "xaxis": {
            "backgroundcolor": "#E5ECF6",
            "gridcolor": "white",
            "gridwidth": 2,
            "linecolor": "white",
            "showbackground": true,
            "ticks": "",
            "zerolinecolor": "white"
           },
           "yaxis": {
            "backgroundcolor": "#E5ECF6",
            "gridcolor": "white",
            "gridwidth": 2,
            "linecolor": "white",
            "showbackground": true,
            "ticks": "",
            "zerolinecolor": "white"
           },
           "zaxis": {
            "backgroundcolor": "#E5ECF6",
            "gridcolor": "white",
            "gridwidth": 2,
            "linecolor": "white",
            "showbackground": true,
            "ticks": "",
            "zerolinecolor": "white"
           }
          },
          "shapedefaults": {
           "line": {
            "color": "#2a3f5f"
           }
          },
          "ternary": {
           "aaxis": {
            "gridcolor": "white",
            "linecolor": "white",
            "ticks": ""
           },
           "baxis": {
            "gridcolor": "white",
            "linecolor": "white",
            "ticks": ""
           },
           "bgcolor": "#E5ECF6",
           "caxis": {
            "gridcolor": "white",
            "linecolor": "white",
            "ticks": ""
           }
          },
          "title": {
           "x": 0.05
          },
          "xaxis": {
           "automargin": true,
           "gridcolor": "white",
           "linecolor": "white",
           "ticks": "",
           "title": {
            "standoff": 15
           },
           "zerolinecolor": "white",
           "zerolinewidth": 2
          },
          "yaxis": {
           "automargin": true,
           "gridcolor": "white",
           "linecolor": "white",
           "ticks": "",
           "title": {
            "standoff": 15
           },
           "zerolinecolor": "white",
           "zerolinewidth": 2
          }
         }
        },
        "title": {
         "font": {
          "size": 30
         },
         "text": "Population of India"
        },
        "xaxis": {
         "title": {
          "font": {
           "size": 20
          },
          "text": "Year"
         }
        },
        "yaxis": {
         "title": {
          "font": {
           "size": 20
          },
          "text": "Population"
         }
        }
       }
      },
      "text/html": [
       "<div>                            <div id=\"94312afd-bb29-4379-bf3a-05742b84d915\" class=\"plotly-graph-div\" style=\"height:525px; width:100%;\"></div>            <script type=\"text/javascript\">                require([\"plotly\"], function(Plotly) {                    window.PLOTLYENV=window.PLOTLYENV || {};                                    if (document.getElementById(\"94312afd-bb29-4379-bf3a-05742b84d915\")) {                    Plotly.newPlot(                        \"94312afd-bb29-4379-bf3a-05742b84d915\",                        [{\"mode\": \"lines+markers\", \"name\": \"Female\", \"type\": \"scatter\", \"x\": [1961, 1962, 1963, 1964, 1965, 1966, 1967, 1968, 1969, 1970, 1971, 1972, 1973, 1974, 1975, 1976, 1977, 1978, 1979, 1980, 1981, 1982, 1983, 1984, 1985, 1986, 1987, 1988, 1989, 1990, 1991, 1992, 1993, 1994, 1995, 1996, 1997, 1998, 1999, 2000, 2001, 2002, 2003, 2004, 2005, 2006, 2007, 2008, 2009, 2010, 2011, 2012, 2013, 2014, 2015, 2016, 2017, 2018, 2019], \"y\": [222328744.0, 226780736.0, 231387197.0, 236130819.0, 241002417.0, 245993499.0, 251117415.0, 256412983.0, 261932711.0, 267712745.0, 273769665.0, 280088829.0, 286636580.0, 293362998.0, 300231624.0, 307224285.0, 314349666.0, 321629370.0, 329097304.0, 336773405.0, 344660920.0, 352736218.0, 360959428.0, 369276873.0, 377646918.0, 386054077.0, 394498853.0, 402975459.0, 411482899.0, 420020420.0, 428576056.0, 437144411.0, 445740100.0, 454384942.0, 463091989.0, 471862699.0, 480682703.0, 489529545.0, 498372775.0, 507187684.0, 515957245.0, 524676538.0, 533346646.0, 541973977.0, 550557712.0, 559099816.0, 567579951.0, 575948780.0, 584142640.0, 592116985.0, 599851725.0, 607361114.0, 614678382.0, 621854638.0, 628929065.0, 635908885.0, 642787641.0, 649574719.0, 656288183.0]}, {\"mode\": \"lines+markers\", \"name\": \"Male\", \"type\": \"scatter\", \"x\": [1961, 1962, 1963, 1964, 1965, 1966, 1967, 1968, 1969, 1970, 1971, 1972, 1973, 1974, 1975, 1976, 1977, 1978, 1979, 1980, 1981, 1982, 1983, 1984, 1985, 1986, 1987, 1988, 1989, 1990, 1991, 1992, 1993, 1994, 1995, 1996, 1997, 1998, 1999, 2000, 2001, 2002, 2003, 2004, 2005, 2006, 2007, 2008, 2009, 2010, 2011, 2012, 2013, 2014, 2015, 2016, 2017, 2018, 2019], \"y\": [237313421.0, 242296454.0, 247438411.0, 252717316.0, 258120907.0, 263638001.0, 269283161.0, 275100841.0, 281151625.0, 287477047.0, 294098353.0, 300998427.0, 308133554.0, 315439602.0, 322871273.0, 330405802.0, 338059110.0, 345870436.0, 353898050.0, 362179439.0, 370724073.0, 379503286.0, 388469530.0, 397556537.0, 406713090.0, 415921167.0, 425183249.0, 434493471.0, 443851779.0, 453257378.0, 462697153.0, 472162605.0, 481663760.0, 491216889.0, 500830599.0, 510502544.0, 520217327.0, 529954036.0, 539685381.0, 549387865.0, 559042840.0, 568640651.0, 578176498.0, 587649479.0, 597052215.0, 606386475.0, 615629521.0, 624720985.0, 633583575.0, 642164185.0, 650437004.0, 658421676.0, 666167747.0, 673749546.0, 681223338.0, 688600704.0, 695871194.0, 703042609.0, 710129571.0]}],                        {\"barmode\": \"stack\", \"template\": {\"data\": {\"bar\": [{\"error_x\": {\"color\": \"#2a3f5f\"}, \"error_y\": {\"color\": \"#2a3f5f\"}, \"marker\": {\"line\": {\"color\": \"#E5ECF6\", \"width\": 0.5}}, \"type\": \"bar\"}], \"barpolar\": [{\"marker\": {\"line\": {\"color\": \"#E5ECF6\", \"width\": 0.5}}, \"type\": \"barpolar\"}], \"carpet\": [{\"aaxis\": {\"endlinecolor\": \"#2a3f5f\", \"gridcolor\": \"white\", \"linecolor\": \"white\", \"minorgridcolor\": \"white\", \"startlinecolor\": \"#2a3f5f\"}, \"baxis\": {\"endlinecolor\": \"#2a3f5f\", \"gridcolor\": \"white\", \"linecolor\": \"white\", \"minorgridcolor\": \"white\", \"startlinecolor\": \"#2a3f5f\"}, \"type\": \"carpet\"}], \"choropleth\": [{\"colorbar\": {\"outlinewidth\": 0, \"ticks\": \"\"}, \"type\": \"choropleth\"}], \"contour\": [{\"colorbar\": {\"outlinewidth\": 0, \"ticks\": \"\"}, \"colorscale\": [[0.0, \"#0d0887\"], [0.1111111111111111, \"#46039f\"], [0.2222222222222222, \"#7201a8\"], [0.3333333333333333, \"#9c179e\"], [0.4444444444444444, \"#bd3786\"], [0.5555555555555556, \"#d8576b\"], [0.6666666666666666, \"#ed7953\"], [0.7777777777777778, \"#fb9f3a\"], [0.8888888888888888, \"#fdca26\"], [1.0, \"#f0f921\"]], \"type\": \"contour\"}], \"contourcarpet\": [{\"colorbar\": {\"outlinewidth\": 0, \"ticks\": \"\"}, \"type\": \"contourcarpet\"}], \"heatmap\": [{\"colorbar\": {\"outlinewidth\": 0, \"ticks\": \"\"}, \"colorscale\": [[0.0, \"#0d0887\"], [0.1111111111111111, \"#46039f\"], [0.2222222222222222, \"#7201a8\"], [0.3333333333333333, \"#9c179e\"], [0.4444444444444444, \"#bd3786\"], [0.5555555555555556, \"#d8576b\"], [0.6666666666666666, \"#ed7953\"], [0.7777777777777778, \"#fb9f3a\"], [0.8888888888888888, \"#fdca26\"], [1.0, \"#f0f921\"]], \"type\": \"heatmap\"}], \"heatmapgl\": [{\"colorbar\": {\"outlinewidth\": 0, \"ticks\": \"\"}, \"colorscale\": [[0.0, \"#0d0887\"], [0.1111111111111111, \"#46039f\"], [0.2222222222222222, \"#7201a8\"], [0.3333333333333333, \"#9c179e\"], [0.4444444444444444, \"#bd3786\"], [0.5555555555555556, \"#d8576b\"], [0.6666666666666666, \"#ed7953\"], [0.7777777777777778, \"#fb9f3a\"], [0.8888888888888888, \"#fdca26\"], [1.0, \"#f0f921\"]], \"type\": \"heatmapgl\"}], \"histogram\": [{\"marker\": {\"colorbar\": {\"outlinewidth\": 0, \"ticks\": \"\"}}, \"type\": \"histogram\"}], \"histogram2d\": [{\"colorbar\": {\"outlinewidth\": 0, \"ticks\": \"\"}, \"colorscale\": [[0.0, \"#0d0887\"], [0.1111111111111111, \"#46039f\"], [0.2222222222222222, \"#7201a8\"], [0.3333333333333333, \"#9c179e\"], [0.4444444444444444, \"#bd3786\"], [0.5555555555555556, \"#d8576b\"], [0.6666666666666666, \"#ed7953\"], [0.7777777777777778, \"#fb9f3a\"], [0.8888888888888888, \"#fdca26\"], [1.0, \"#f0f921\"]], \"type\": \"histogram2d\"}], \"histogram2dcontour\": [{\"colorbar\": {\"outlinewidth\": 0, \"ticks\": \"\"}, \"colorscale\": [[0.0, \"#0d0887\"], [0.1111111111111111, \"#46039f\"], [0.2222222222222222, \"#7201a8\"], [0.3333333333333333, \"#9c179e\"], [0.4444444444444444, \"#bd3786\"], [0.5555555555555556, \"#d8576b\"], [0.6666666666666666, \"#ed7953\"], [0.7777777777777778, \"#fb9f3a\"], [0.8888888888888888, \"#fdca26\"], [1.0, \"#f0f921\"]], \"type\": \"histogram2dcontour\"}], \"mesh3d\": [{\"colorbar\": {\"outlinewidth\": 0, \"ticks\": \"\"}, \"type\": \"mesh3d\"}], \"parcoords\": [{\"line\": {\"colorbar\": {\"outlinewidth\": 0, \"ticks\": \"\"}}, \"type\": \"parcoords\"}], \"pie\": [{\"automargin\": true, \"type\": \"pie\"}], \"scatter\": [{\"marker\": {\"colorbar\": {\"outlinewidth\": 0, \"ticks\": \"\"}}, \"type\": \"scatter\"}], \"scatter3d\": [{\"line\": {\"colorbar\": {\"outlinewidth\": 0, \"ticks\": \"\"}}, \"marker\": {\"colorbar\": {\"outlinewidth\": 0, \"ticks\": \"\"}}, \"type\": \"scatter3d\"}], \"scattercarpet\": [{\"marker\": {\"colorbar\": {\"outlinewidth\": 0, \"ticks\": \"\"}}, \"type\": \"scattercarpet\"}], \"scattergeo\": [{\"marker\": {\"colorbar\": {\"outlinewidth\": 0, \"ticks\": \"\"}}, \"type\": \"scattergeo\"}], \"scattergl\": [{\"marker\": {\"colorbar\": {\"outlinewidth\": 0, \"ticks\": \"\"}}, \"type\": \"scattergl\"}], \"scattermapbox\": [{\"marker\": {\"colorbar\": {\"outlinewidth\": 0, \"ticks\": \"\"}}, \"type\": \"scattermapbox\"}], \"scatterpolar\": [{\"marker\": {\"colorbar\": {\"outlinewidth\": 0, \"ticks\": \"\"}}, \"type\": \"scatterpolar\"}], \"scatterpolargl\": [{\"marker\": {\"colorbar\": {\"outlinewidth\": 0, \"ticks\": \"\"}}, \"type\": \"scatterpolargl\"}], \"scatterternary\": [{\"marker\": {\"colorbar\": {\"outlinewidth\": 0, \"ticks\": \"\"}}, \"type\": \"scatterternary\"}], \"surface\": [{\"colorbar\": {\"outlinewidth\": 0, \"ticks\": \"\"}, \"colorscale\": [[0.0, \"#0d0887\"], [0.1111111111111111, \"#46039f\"], [0.2222222222222222, \"#7201a8\"], [0.3333333333333333, \"#9c179e\"], [0.4444444444444444, \"#bd3786\"], [0.5555555555555556, \"#d8576b\"], [0.6666666666666666, \"#ed7953\"], [0.7777777777777778, \"#fb9f3a\"], [0.8888888888888888, \"#fdca26\"], [1.0, \"#f0f921\"]], \"type\": \"surface\"}], \"table\": [{\"cells\": {\"fill\": {\"color\": \"#EBF0F8\"}, \"line\": {\"color\": \"white\"}}, \"header\": {\"fill\": {\"color\": \"#C8D4E3\"}, \"line\": {\"color\": \"white\"}}, \"type\": \"table\"}]}, \"layout\": {\"annotationdefaults\": {\"arrowcolor\": \"#2a3f5f\", \"arrowhead\": 0, \"arrowwidth\": 1}, \"autotypenumbers\": \"strict\", \"coloraxis\": {\"colorbar\": {\"outlinewidth\": 0, \"ticks\": \"\"}}, \"colorscale\": {\"diverging\": [[0, \"#8e0152\"], [0.1, \"#c51b7d\"], [0.2, \"#de77ae\"], [0.3, \"#f1b6da\"], [0.4, \"#fde0ef\"], [0.5, \"#f7f7f7\"], [0.6, \"#e6f5d0\"], [0.7, \"#b8e186\"], [0.8, \"#7fbc41\"], [0.9, \"#4d9221\"], [1, \"#276419\"]], \"sequential\": [[0.0, \"#0d0887\"], [0.1111111111111111, \"#46039f\"], [0.2222222222222222, \"#7201a8\"], [0.3333333333333333, \"#9c179e\"], [0.4444444444444444, \"#bd3786\"], [0.5555555555555556, \"#d8576b\"], [0.6666666666666666, \"#ed7953\"], [0.7777777777777778, \"#fb9f3a\"], [0.8888888888888888, \"#fdca26\"], [1.0, \"#f0f921\"]], \"sequentialminus\": [[0.0, \"#0d0887\"], [0.1111111111111111, \"#46039f\"], [0.2222222222222222, \"#7201a8\"], [0.3333333333333333, \"#9c179e\"], [0.4444444444444444, \"#bd3786\"], [0.5555555555555556, \"#d8576b\"], [0.6666666666666666, \"#ed7953\"], [0.7777777777777778, \"#fb9f3a\"], [0.8888888888888888, \"#fdca26\"], [1.0, \"#f0f921\"]]}, \"colorway\": [\"#636efa\", \"#EF553B\", \"#00cc96\", \"#ab63fa\", \"#FFA15A\", \"#19d3f3\", \"#FF6692\", \"#B6E880\", \"#FF97FF\", \"#FECB52\"], \"font\": {\"color\": \"#2a3f5f\"}, \"geo\": {\"bgcolor\": \"white\", \"lakecolor\": \"white\", \"landcolor\": \"#E5ECF6\", \"showlakes\": true, \"showland\": true, \"subunitcolor\": \"white\"}, \"hoverlabel\": {\"align\": \"left\"}, \"hovermode\": \"closest\", \"mapbox\": {\"style\": \"light\"}, \"paper_bgcolor\": \"white\", \"plot_bgcolor\": \"#E5ECF6\", \"polar\": {\"angularaxis\": {\"gridcolor\": \"white\", \"linecolor\": \"white\", \"ticks\": \"\"}, \"bgcolor\": \"#E5ECF6\", \"radialaxis\": {\"gridcolor\": \"white\", \"linecolor\": \"white\", \"ticks\": \"\"}}, \"scene\": {\"xaxis\": {\"backgroundcolor\": \"#E5ECF6\", \"gridcolor\": \"white\", \"gridwidth\": 2, \"linecolor\": \"white\", \"showbackground\": true, \"ticks\": \"\", \"zerolinecolor\": \"white\"}, \"yaxis\": {\"backgroundcolor\": \"#E5ECF6\", \"gridcolor\": \"white\", \"gridwidth\": 2, \"linecolor\": \"white\", \"showbackground\": true, \"ticks\": \"\", \"zerolinecolor\": \"white\"}, \"zaxis\": {\"backgroundcolor\": \"#E5ECF6\", \"gridcolor\": \"white\", \"gridwidth\": 2, \"linecolor\": \"white\", \"showbackground\": true, \"ticks\": \"\", \"zerolinecolor\": \"white\"}}, \"shapedefaults\": {\"line\": {\"color\": \"#2a3f5f\"}}, \"ternary\": {\"aaxis\": {\"gridcolor\": \"white\", \"linecolor\": \"white\", \"ticks\": \"\"}, \"baxis\": {\"gridcolor\": \"white\", \"linecolor\": \"white\", \"ticks\": \"\"}, \"bgcolor\": \"#E5ECF6\", \"caxis\": {\"gridcolor\": \"white\", \"linecolor\": \"white\", \"ticks\": \"\"}}, \"title\": {\"x\": 0.05}, \"xaxis\": {\"automargin\": true, \"gridcolor\": \"white\", \"linecolor\": \"white\", \"ticks\": \"\", \"title\": {\"standoff\": 15}, \"zerolinecolor\": \"white\", \"zerolinewidth\": 2}, \"yaxis\": {\"automargin\": true, \"gridcolor\": \"white\", \"linecolor\": \"white\", \"ticks\": \"\", \"title\": {\"standoff\": 15}, \"zerolinecolor\": \"white\", \"zerolinewidth\": 2}}}, \"title\": {\"font\": {\"size\": 30}, \"text\": \"Population of India\"}, \"xaxis\": {\"title\": {\"font\": {\"size\": 20}, \"text\": \"Year\"}}, \"yaxis\": {\"title\": {\"font\": {\"size\": 20}, \"text\": \"Population\"}}},                        {\"responsive\": true}                    ).then(function(){\n",
       "                            \n",
       "var gd = document.getElementById('94312afd-bb29-4379-bf3a-05742b84d915');\n",
       "var x = new MutationObserver(function (mutations, observer) {{\n",
       "        var display = window.getComputedStyle(gd).display;\n",
       "        if (!display || display === 'none') {{\n",
       "            console.log([gd, 'removed!']);\n",
       "            Plotly.purge(gd);\n",
       "            observer.disconnect();\n",
       "        }}\n",
       "}});\n",
       "\n",
       "// Listen for the removal of the full notebook cells\n",
       "var notebookContainer = gd.closest('#notebook-container');\n",
       "if (notebookContainer) {{\n",
       "    x.observe(notebookContainer, {childList: true});\n",
       "}}\n",
       "\n",
       "// Listen for the clearing of the current output cell\n",
       "var outputEl = gd.closest('.output');\n",
       "if (outputEl) {{\n",
       "    x.observe(outputEl, {childList: true});\n",
       "}}\n",
       "\n",
       "                        })                };                });            </script>        </div>"
      ]
     },
     "metadata": {},
     "output_type": "display_data"
    }
   ],
   "source": [
    "fig7 = go.Figure()\n",
    "\n",
    "# Add traces\n",
    "fig7.add_trace(go.Scatter(x=x, y=india_fe_population,\n",
    "                    mode='lines+markers',\n",
    "                    name='Female'))\n",
    "fig7.add_trace(go.Scatter(x=x, y=india_ma_population,\n",
    "                    mode='lines+markers',\n",
    "                    name='Male'))\n",
    "fig7.update_layout(barmode='stack', xaxis = dict(title='Year', titlefont_size=20),\n",
    "                  yaxis = dict(title='Population', titlefont_size=20), title = \"Population of India\", titlefont_size=30)\n",
    "\n",
    "fig7.show()"
   ]
  },
  {
   "cell_type": "code",
   "execution_count": 23,
   "metadata": {},
   "outputs": [
    {
     "data": {
      "application/vnd.plotly.v1+json": {
       "config": {
        "plotlyServerURL": "https://plot.ly"
       },
       "data": [
        {
         "mode": "lines+markers",
         "name": "Female",
         "type": "scatter",
         "x": [
          1961,
          1962,
          1963,
          1964,
          1965,
          1966,
          1967,
          1968,
          1969,
          1970,
          1971,
          1972,
          1973,
          1974,
          1975,
          1976,
          1977,
          1978,
          1979,
          1980,
          1981,
          1982,
          1983,
          1984,
          1985,
          1986,
          1987,
          1988,
          1989,
          1990,
          1991,
          1992,
          1993,
          1994,
          1995,
          1996,
          1997,
          1998,
          1999,
          2000,
          2001,
          2002,
          2003,
          2004,
          2005,
          2006,
          2007,
          2008,
          2009,
          2010,
          2011,
          2012,
          2013,
          2014,
          2015,
          2016,
          2017,
          2018,
          2019
         ],
         "y": [
          48207265,
          48658610,
          49156435,
          49669854,
          50202076,
          50654649,
          51118354,
          51275717,
          52332222,
          52912269,
          53582623,
          54323037,
          54759934,
          55802301,
          56692355,
          57105578,
          57653715,
          58175297,
          58666578,
          59128589,
          59568195,
          59976057,
          60390235,
          60781188,
          61163616,
          61550553,
          61870178,
          62152720,
          62425974,
          62656883,
          62867656,
          63038943,
          63209914,
          63442648,
          63705357,
          63890191,
          64068675,
          64270952,
          64416945,
          64552936,
          64736064,
          64913526,
          65078804,
          65126621,
          65158465,
          65225372,
          65325526,
          65381234,
          65395181,
          65426533,
          65322325,
          65232461,
          65150796,
          65075452,
          65016722,
          64951468,
          64853783,
          64731350,
          64605360
         ]
        },
        {
         "mode": "lines+markers",
         "name": "Male",
         "type": "scatter",
         "x": [
          1961,
          1962,
          1963,
          1964,
          1965,
          1966,
          1967,
          1968,
          1969,
          1970,
          1971,
          1972,
          1973,
          1974,
          1975,
          1976,
          1977,
          1978,
          1979,
          1980,
          1981,
          1982,
          1983,
          1984,
          1985,
          1986,
          1987,
          1988,
          1989,
          1990,
          1991,
          1992,
          1993,
          1994,
          1995,
          1996,
          1997,
          1998,
          1999,
          2000,
          2001,
          2002,
          2003,
          2004,
          2005,
          2006,
          2007,
          2008,
          2009,
          2010,
          2011,
          2012,
          2013,
          2014,
          2015,
          2016,
          2017,
          2018,
          2019
         ],
         "y": [
          46735735,
          47173390,
          47655565,
          48156146,
          48680924,
          49135351,
          49606646,
          49785283,
          50839778,
          51432731,
          52114377,
          52864963,
          53319066,
          54359699,
          55247645,
          55665422,
          56209285,
          56722703,
          57203422,
          57653411,
          58079805,
          58472943,
          58868765,
          59236812,
          59590384,
          59941447,
          60220822,
          60460280,
          60690026,
          60880117,
          61053344,
          61190057,
          61326086,
          61518352,
          61733643,
          61866809,
          61988325,
          62129048,
          62214055,
          62290064,
          62412936,
          62531474,
          62639196,
          62634379,
          62614535,
          62628628,
          62675474,
          62681766,
          62651819,
          62643467,
          62510675,
          62396539,
          62294204,
          62200548,
          62124278,
          62043043,
          61932014,
          61797750,
          61659571
         ]
        }
       ],
       "layout": {
        "barmode": "stack",
        "template": {
         "data": {
          "bar": [
           {
            "error_x": {
             "color": "#2a3f5f"
            },
            "error_y": {
             "color": "#2a3f5f"
            },
            "marker": {
             "line": {
              "color": "#E5ECF6",
              "width": 0.5
             }
            },
            "type": "bar"
           }
          ],
          "barpolar": [
           {
            "marker": {
             "line": {
              "color": "#E5ECF6",
              "width": 0.5
             }
            },
            "type": "barpolar"
           }
          ],
          "carpet": [
           {
            "aaxis": {
             "endlinecolor": "#2a3f5f",
             "gridcolor": "white",
             "linecolor": "white",
             "minorgridcolor": "white",
             "startlinecolor": "#2a3f5f"
            },
            "baxis": {
             "endlinecolor": "#2a3f5f",
             "gridcolor": "white",
             "linecolor": "white",
             "minorgridcolor": "white",
             "startlinecolor": "#2a3f5f"
            },
            "type": "carpet"
           }
          ],
          "choropleth": [
           {
            "colorbar": {
             "outlinewidth": 0,
             "ticks": ""
            },
            "type": "choropleth"
           }
          ],
          "contour": [
           {
            "colorbar": {
             "outlinewidth": 0,
             "ticks": ""
            },
            "colorscale": [
             [
              0,
              "#0d0887"
             ],
             [
              0.1111111111111111,
              "#46039f"
             ],
             [
              0.2222222222222222,
              "#7201a8"
             ],
             [
              0.3333333333333333,
              "#9c179e"
             ],
             [
              0.4444444444444444,
              "#bd3786"
             ],
             [
              0.5555555555555556,
              "#d8576b"
             ],
             [
              0.6666666666666666,
              "#ed7953"
             ],
             [
              0.7777777777777778,
              "#fb9f3a"
             ],
             [
              0.8888888888888888,
              "#fdca26"
             ],
             [
              1,
              "#f0f921"
             ]
            ],
            "type": "contour"
           }
          ],
          "contourcarpet": [
           {
            "colorbar": {
             "outlinewidth": 0,
             "ticks": ""
            },
            "type": "contourcarpet"
           }
          ],
          "heatmap": [
           {
            "colorbar": {
             "outlinewidth": 0,
             "ticks": ""
            },
            "colorscale": [
             [
              0,
              "#0d0887"
             ],
             [
              0.1111111111111111,
              "#46039f"
             ],
             [
              0.2222222222222222,
              "#7201a8"
             ],
             [
              0.3333333333333333,
              "#9c179e"
             ],
             [
              0.4444444444444444,
              "#bd3786"
             ],
             [
              0.5555555555555556,
              "#d8576b"
             ],
             [
              0.6666666666666666,
              "#ed7953"
             ],
             [
              0.7777777777777778,
              "#fb9f3a"
             ],
             [
              0.8888888888888888,
              "#fdca26"
             ],
             [
              1,
              "#f0f921"
             ]
            ],
            "type": "heatmap"
           }
          ],
          "heatmapgl": [
           {
            "colorbar": {
             "outlinewidth": 0,
             "ticks": ""
            },
            "colorscale": [
             [
              0,
              "#0d0887"
             ],
             [
              0.1111111111111111,
              "#46039f"
             ],
             [
              0.2222222222222222,
              "#7201a8"
             ],
             [
              0.3333333333333333,
              "#9c179e"
             ],
             [
              0.4444444444444444,
              "#bd3786"
             ],
             [
              0.5555555555555556,
              "#d8576b"
             ],
             [
              0.6666666666666666,
              "#ed7953"
             ],
             [
              0.7777777777777778,
              "#fb9f3a"
             ],
             [
              0.8888888888888888,
              "#fdca26"
             ],
             [
              1,
              "#f0f921"
             ]
            ],
            "type": "heatmapgl"
           }
          ],
          "histogram": [
           {
            "marker": {
             "colorbar": {
              "outlinewidth": 0,
              "ticks": ""
             }
            },
            "type": "histogram"
           }
          ],
          "histogram2d": [
           {
            "colorbar": {
             "outlinewidth": 0,
             "ticks": ""
            },
            "colorscale": [
             [
              0,
              "#0d0887"
             ],
             [
              0.1111111111111111,
              "#46039f"
             ],
             [
              0.2222222222222222,
              "#7201a8"
             ],
             [
              0.3333333333333333,
              "#9c179e"
             ],
             [
              0.4444444444444444,
              "#bd3786"
             ],
             [
              0.5555555555555556,
              "#d8576b"
             ],
             [
              0.6666666666666666,
              "#ed7953"
             ],
             [
              0.7777777777777778,
              "#fb9f3a"
             ],
             [
              0.8888888888888888,
              "#fdca26"
             ],
             [
              1,
              "#f0f921"
             ]
            ],
            "type": "histogram2d"
           }
          ],
          "histogram2dcontour": [
           {
            "colorbar": {
             "outlinewidth": 0,
             "ticks": ""
            },
            "colorscale": [
             [
              0,
              "#0d0887"
             ],
             [
              0.1111111111111111,
              "#46039f"
             ],
             [
              0.2222222222222222,
              "#7201a8"
             ],
             [
              0.3333333333333333,
              "#9c179e"
             ],
             [
              0.4444444444444444,
              "#bd3786"
             ],
             [
              0.5555555555555556,
              "#d8576b"
             ],
             [
              0.6666666666666666,
              "#ed7953"
             ],
             [
              0.7777777777777778,
              "#fb9f3a"
             ],
             [
              0.8888888888888888,
              "#fdca26"
             ],
             [
              1,
              "#f0f921"
             ]
            ],
            "type": "histogram2dcontour"
           }
          ],
          "mesh3d": [
           {
            "colorbar": {
             "outlinewidth": 0,
             "ticks": ""
            },
            "type": "mesh3d"
           }
          ],
          "parcoords": [
           {
            "line": {
             "colorbar": {
              "outlinewidth": 0,
              "ticks": ""
             }
            },
            "type": "parcoords"
           }
          ],
          "pie": [
           {
            "automargin": true,
            "type": "pie"
           }
          ],
          "scatter": [
           {
            "marker": {
             "colorbar": {
              "outlinewidth": 0,
              "ticks": ""
             }
            },
            "type": "scatter"
           }
          ],
          "scatter3d": [
           {
            "line": {
             "colorbar": {
              "outlinewidth": 0,
              "ticks": ""
             }
            },
            "marker": {
             "colorbar": {
              "outlinewidth": 0,
              "ticks": ""
             }
            },
            "type": "scatter3d"
           }
          ],
          "scattercarpet": [
           {
            "marker": {
             "colorbar": {
              "outlinewidth": 0,
              "ticks": ""
             }
            },
            "type": "scattercarpet"
           }
          ],
          "scattergeo": [
           {
            "marker": {
             "colorbar": {
              "outlinewidth": 0,
              "ticks": ""
             }
            },
            "type": "scattergeo"
           }
          ],
          "scattergl": [
           {
            "marker": {
             "colorbar": {
              "outlinewidth": 0,
              "ticks": ""
             }
            },
            "type": "scattergl"
           }
          ],
          "scattermapbox": [
           {
            "marker": {
             "colorbar": {
              "outlinewidth": 0,
              "ticks": ""
             }
            },
            "type": "scattermapbox"
           }
          ],
          "scatterpolar": [
           {
            "marker": {
             "colorbar": {
              "outlinewidth": 0,
              "ticks": ""
             }
            },
            "type": "scatterpolar"
           }
          ],
          "scatterpolargl": [
           {
            "marker": {
             "colorbar": {
              "outlinewidth": 0,
              "ticks": ""
             }
            },
            "type": "scatterpolargl"
           }
          ],
          "scatterternary": [
           {
            "marker": {
             "colorbar": {
              "outlinewidth": 0,
              "ticks": ""
             }
            },
            "type": "scatterternary"
           }
          ],
          "surface": [
           {
            "colorbar": {
             "outlinewidth": 0,
             "ticks": ""
            },
            "colorscale": [
             [
              0,
              "#0d0887"
             ],
             [
              0.1111111111111111,
              "#46039f"
             ],
             [
              0.2222222222222222,
              "#7201a8"
             ],
             [
              0.3333333333333333,
              "#9c179e"
             ],
             [
              0.4444444444444444,
              "#bd3786"
             ],
             [
              0.5555555555555556,
              "#d8576b"
             ],
             [
              0.6666666666666666,
              "#ed7953"
             ],
             [
              0.7777777777777778,
              "#fb9f3a"
             ],
             [
              0.8888888888888888,
              "#fdca26"
             ],
             [
              1,
              "#f0f921"
             ]
            ],
            "type": "surface"
           }
          ],
          "table": [
           {
            "cells": {
             "fill": {
              "color": "#EBF0F8"
             },
             "line": {
              "color": "white"
             }
            },
            "header": {
             "fill": {
              "color": "#C8D4E3"
             },
             "line": {
              "color": "white"
             }
            },
            "type": "table"
           }
          ]
         },
         "layout": {
          "annotationdefaults": {
           "arrowcolor": "#2a3f5f",
           "arrowhead": 0,
           "arrowwidth": 1
          },
          "autotypenumbers": "strict",
          "coloraxis": {
           "colorbar": {
            "outlinewidth": 0,
            "ticks": ""
           }
          },
          "colorscale": {
           "diverging": [
            [
             0,
             "#8e0152"
            ],
            [
             0.1,
             "#c51b7d"
            ],
            [
             0.2,
             "#de77ae"
            ],
            [
             0.3,
             "#f1b6da"
            ],
            [
             0.4,
             "#fde0ef"
            ],
            [
             0.5,
             "#f7f7f7"
            ],
            [
             0.6,
             "#e6f5d0"
            ],
            [
             0.7,
             "#b8e186"
            ],
            [
             0.8,
             "#7fbc41"
            ],
            [
             0.9,
             "#4d9221"
            ],
            [
             1,
             "#276419"
            ]
           ],
           "sequential": [
            [
             0,
             "#0d0887"
            ],
            [
             0.1111111111111111,
             "#46039f"
            ],
            [
             0.2222222222222222,
             "#7201a8"
            ],
            [
             0.3333333333333333,
             "#9c179e"
            ],
            [
             0.4444444444444444,
             "#bd3786"
            ],
            [
             0.5555555555555556,
             "#d8576b"
            ],
            [
             0.6666666666666666,
             "#ed7953"
            ],
            [
             0.7777777777777778,
             "#fb9f3a"
            ],
            [
             0.8888888888888888,
             "#fdca26"
            ],
            [
             1,
             "#f0f921"
            ]
           ],
           "sequentialminus": [
            [
             0,
             "#0d0887"
            ],
            [
             0.1111111111111111,
             "#46039f"
            ],
            [
             0.2222222222222222,
             "#7201a8"
            ],
            [
             0.3333333333333333,
             "#9c179e"
            ],
            [
             0.4444444444444444,
             "#bd3786"
            ],
            [
             0.5555555555555556,
             "#d8576b"
            ],
            [
             0.6666666666666666,
             "#ed7953"
            ],
            [
             0.7777777777777778,
             "#fb9f3a"
            ],
            [
             0.8888888888888888,
             "#fdca26"
            ],
            [
             1,
             "#f0f921"
            ]
           ]
          },
          "colorway": [
           "#636efa",
           "#EF553B",
           "#00cc96",
           "#ab63fa",
           "#FFA15A",
           "#19d3f3",
           "#FF6692",
           "#B6E880",
           "#FF97FF",
           "#FECB52"
          ],
          "font": {
           "color": "#2a3f5f"
          },
          "geo": {
           "bgcolor": "white",
           "lakecolor": "white",
           "landcolor": "#E5ECF6",
           "showlakes": true,
           "showland": true,
           "subunitcolor": "white"
          },
          "hoverlabel": {
           "align": "left"
          },
          "hovermode": "closest",
          "mapbox": {
           "style": "light"
          },
          "paper_bgcolor": "white",
          "plot_bgcolor": "#E5ECF6",
          "polar": {
           "angularaxis": {
            "gridcolor": "white",
            "linecolor": "white",
            "ticks": ""
           },
           "bgcolor": "#E5ECF6",
           "radialaxis": {
            "gridcolor": "white",
            "linecolor": "white",
            "ticks": ""
           }
          },
          "scene": {
           "xaxis": {
            "backgroundcolor": "#E5ECF6",
            "gridcolor": "white",
            "gridwidth": 2,
            "linecolor": "white",
            "showbackground": true,
            "ticks": "",
            "zerolinecolor": "white"
           },
           "yaxis": {
            "backgroundcolor": "#E5ECF6",
            "gridcolor": "white",
            "gridwidth": 2,
            "linecolor": "white",
            "showbackground": true,
            "ticks": "",
            "zerolinecolor": "white"
           },
           "zaxis": {
            "backgroundcolor": "#E5ECF6",
            "gridcolor": "white",
            "gridwidth": 2,
            "linecolor": "white",
            "showbackground": true,
            "ticks": "",
            "zerolinecolor": "white"
           }
          },
          "shapedefaults": {
           "line": {
            "color": "#2a3f5f"
           }
          },
          "ternary": {
           "aaxis": {
            "gridcolor": "white",
            "linecolor": "white",
            "ticks": ""
           },
           "baxis": {
            "gridcolor": "white",
            "linecolor": "white",
            "ticks": ""
           },
           "bgcolor": "#E5ECF6",
           "caxis": {
            "gridcolor": "white",
            "linecolor": "white",
            "ticks": ""
           }
          },
          "title": {
           "x": 0.05
          },
          "xaxis": {
           "automargin": true,
           "gridcolor": "white",
           "linecolor": "white",
           "ticks": "",
           "title": {
            "standoff": 15
           },
           "zerolinecolor": "white",
           "zerolinewidth": 2
          },
          "yaxis": {
           "automargin": true,
           "gridcolor": "white",
           "linecolor": "white",
           "ticks": "",
           "title": {
            "standoff": 15
           },
           "zerolinecolor": "white",
           "zerolinewidth": 2
          }
         }
        },
        "title": {
         "font": {
          "size": 30
         },
         "text": "Population of Japan"
        },
        "xaxis": {
         "title": {
          "font": {
           "size": 20
          },
          "text": "Year"
         }
        },
        "yaxis": {
         "title": {
          "font": {
           "size": 20
          },
          "text": "Population"
         }
        }
       }
      },
      "text/html": [
       "<div>                            <div id=\"3cb90d5b-b590-4fab-9879-9c97cfbc27b3\" class=\"plotly-graph-div\" style=\"height:525px; width:100%;\"></div>            <script type=\"text/javascript\">                require([\"plotly\"], function(Plotly) {                    window.PLOTLYENV=window.PLOTLYENV || {};                                    if (document.getElementById(\"3cb90d5b-b590-4fab-9879-9c97cfbc27b3\")) {                    Plotly.newPlot(                        \"3cb90d5b-b590-4fab-9879-9c97cfbc27b3\",                        [{\"mode\": \"lines+markers\", \"name\": \"Female\", \"type\": \"scatter\", \"x\": [1961, 1962, 1963, 1964, 1965, 1966, 1967, 1968, 1969, 1970, 1971, 1972, 1973, 1974, 1975, 1976, 1977, 1978, 1979, 1980, 1981, 1982, 1983, 1984, 1985, 1986, 1987, 1988, 1989, 1990, 1991, 1992, 1993, 1994, 1995, 1996, 1997, 1998, 1999, 2000, 2001, 2002, 2003, 2004, 2005, 2006, 2007, 2008, 2009, 2010, 2011, 2012, 2013, 2014, 2015, 2016, 2017, 2018, 2019], \"y\": [48207265.0, 48658610.0, 49156435.0, 49669854.0, 50202076.0, 50654649.0, 51118354.0, 51275717.0, 52332222.0, 52912269.0, 53582623.0, 54323037.0, 54759934.0, 55802301.0, 56692355.0, 57105578.0, 57653715.0, 58175297.0, 58666578.0, 59128589.0, 59568195.0, 59976057.0, 60390235.0, 60781188.0, 61163616.0, 61550553.0, 61870178.0, 62152720.0, 62425974.0, 62656883.0, 62867656.0, 63038943.0, 63209914.0, 63442648.0, 63705357.0, 63890191.0, 64068675.0, 64270952.0, 64416945.0, 64552936.0, 64736064.0, 64913526.0, 65078804.0, 65126621.0, 65158465.0, 65225372.0, 65325526.0, 65381234.0, 65395181.0, 65426533.0, 65322325.0, 65232461.0, 65150796.0, 65075452.0, 65016722.0, 64951468.0, 64853783.0, 64731350.0, 64605360.0]}, {\"mode\": \"lines+markers\", \"name\": \"Male\", \"type\": \"scatter\", \"x\": [1961, 1962, 1963, 1964, 1965, 1966, 1967, 1968, 1969, 1970, 1971, 1972, 1973, 1974, 1975, 1976, 1977, 1978, 1979, 1980, 1981, 1982, 1983, 1984, 1985, 1986, 1987, 1988, 1989, 1990, 1991, 1992, 1993, 1994, 1995, 1996, 1997, 1998, 1999, 2000, 2001, 2002, 2003, 2004, 2005, 2006, 2007, 2008, 2009, 2010, 2011, 2012, 2013, 2014, 2015, 2016, 2017, 2018, 2019], \"y\": [46735735.0, 47173390.0, 47655565.0, 48156146.0, 48680924.0, 49135351.0, 49606646.0, 49785283.0, 50839778.0, 51432731.0, 52114377.0, 52864963.0, 53319066.0, 54359699.0, 55247645.0, 55665422.0, 56209285.0, 56722703.0, 57203422.0, 57653411.0, 58079805.0, 58472943.0, 58868765.0, 59236812.0, 59590384.0, 59941447.0, 60220822.0, 60460280.0, 60690026.0, 60880117.0, 61053344.0, 61190057.0, 61326086.0, 61518352.0, 61733643.0, 61866809.0, 61988325.0, 62129048.0, 62214055.0, 62290064.0, 62412936.0, 62531474.0, 62639196.0, 62634379.0, 62614535.0, 62628628.0, 62675474.0, 62681766.0, 62651819.0, 62643467.0, 62510675.0, 62396539.0, 62294204.0, 62200548.0, 62124278.0, 62043043.0, 61932014.0, 61797750.0, 61659571.0]}],                        {\"barmode\": \"stack\", \"template\": {\"data\": {\"bar\": [{\"error_x\": {\"color\": \"#2a3f5f\"}, \"error_y\": {\"color\": \"#2a3f5f\"}, \"marker\": {\"line\": {\"color\": \"#E5ECF6\", \"width\": 0.5}}, \"type\": \"bar\"}], \"barpolar\": [{\"marker\": {\"line\": {\"color\": \"#E5ECF6\", \"width\": 0.5}}, \"type\": \"barpolar\"}], \"carpet\": [{\"aaxis\": {\"endlinecolor\": \"#2a3f5f\", \"gridcolor\": \"white\", \"linecolor\": \"white\", \"minorgridcolor\": \"white\", \"startlinecolor\": \"#2a3f5f\"}, \"baxis\": {\"endlinecolor\": \"#2a3f5f\", \"gridcolor\": \"white\", \"linecolor\": \"white\", \"minorgridcolor\": \"white\", \"startlinecolor\": \"#2a3f5f\"}, \"type\": \"carpet\"}], \"choropleth\": [{\"colorbar\": {\"outlinewidth\": 0, \"ticks\": \"\"}, \"type\": \"choropleth\"}], \"contour\": [{\"colorbar\": {\"outlinewidth\": 0, \"ticks\": \"\"}, \"colorscale\": [[0.0, \"#0d0887\"], [0.1111111111111111, \"#46039f\"], [0.2222222222222222, \"#7201a8\"], [0.3333333333333333, \"#9c179e\"], [0.4444444444444444, \"#bd3786\"], [0.5555555555555556, \"#d8576b\"], [0.6666666666666666, \"#ed7953\"], [0.7777777777777778, \"#fb9f3a\"], [0.8888888888888888, \"#fdca26\"], [1.0, \"#f0f921\"]], \"type\": \"contour\"}], \"contourcarpet\": [{\"colorbar\": {\"outlinewidth\": 0, \"ticks\": \"\"}, \"type\": \"contourcarpet\"}], \"heatmap\": [{\"colorbar\": {\"outlinewidth\": 0, \"ticks\": \"\"}, \"colorscale\": [[0.0, \"#0d0887\"], [0.1111111111111111, \"#46039f\"], [0.2222222222222222, \"#7201a8\"], [0.3333333333333333, \"#9c179e\"], [0.4444444444444444, \"#bd3786\"], [0.5555555555555556, \"#d8576b\"], [0.6666666666666666, \"#ed7953\"], [0.7777777777777778, \"#fb9f3a\"], [0.8888888888888888, \"#fdca26\"], [1.0, \"#f0f921\"]], \"type\": \"heatmap\"}], \"heatmapgl\": [{\"colorbar\": {\"outlinewidth\": 0, \"ticks\": \"\"}, \"colorscale\": [[0.0, \"#0d0887\"], [0.1111111111111111, \"#46039f\"], [0.2222222222222222, \"#7201a8\"], [0.3333333333333333, \"#9c179e\"], [0.4444444444444444, \"#bd3786\"], [0.5555555555555556, \"#d8576b\"], [0.6666666666666666, \"#ed7953\"], [0.7777777777777778, \"#fb9f3a\"], [0.8888888888888888, \"#fdca26\"], [1.0, \"#f0f921\"]], \"type\": \"heatmapgl\"}], \"histogram\": [{\"marker\": {\"colorbar\": {\"outlinewidth\": 0, \"ticks\": \"\"}}, \"type\": \"histogram\"}], \"histogram2d\": [{\"colorbar\": {\"outlinewidth\": 0, \"ticks\": \"\"}, \"colorscale\": [[0.0, \"#0d0887\"], [0.1111111111111111, \"#46039f\"], [0.2222222222222222, \"#7201a8\"], [0.3333333333333333, \"#9c179e\"], [0.4444444444444444, \"#bd3786\"], [0.5555555555555556, \"#d8576b\"], [0.6666666666666666, \"#ed7953\"], [0.7777777777777778, \"#fb9f3a\"], [0.8888888888888888, \"#fdca26\"], [1.0, \"#f0f921\"]], \"type\": \"histogram2d\"}], \"histogram2dcontour\": [{\"colorbar\": {\"outlinewidth\": 0, \"ticks\": \"\"}, \"colorscale\": [[0.0, \"#0d0887\"], [0.1111111111111111, \"#46039f\"], [0.2222222222222222, \"#7201a8\"], [0.3333333333333333, \"#9c179e\"], [0.4444444444444444, \"#bd3786\"], [0.5555555555555556, \"#d8576b\"], [0.6666666666666666, \"#ed7953\"], [0.7777777777777778, \"#fb9f3a\"], [0.8888888888888888, \"#fdca26\"], [1.0, \"#f0f921\"]], \"type\": \"histogram2dcontour\"}], \"mesh3d\": [{\"colorbar\": {\"outlinewidth\": 0, \"ticks\": \"\"}, \"type\": \"mesh3d\"}], \"parcoords\": [{\"line\": {\"colorbar\": {\"outlinewidth\": 0, \"ticks\": \"\"}}, \"type\": \"parcoords\"}], \"pie\": [{\"automargin\": true, \"type\": \"pie\"}], \"scatter\": [{\"marker\": {\"colorbar\": {\"outlinewidth\": 0, \"ticks\": \"\"}}, \"type\": \"scatter\"}], \"scatter3d\": [{\"line\": {\"colorbar\": {\"outlinewidth\": 0, \"ticks\": \"\"}}, \"marker\": {\"colorbar\": {\"outlinewidth\": 0, \"ticks\": \"\"}}, \"type\": \"scatter3d\"}], \"scattercarpet\": [{\"marker\": {\"colorbar\": {\"outlinewidth\": 0, \"ticks\": \"\"}}, \"type\": \"scattercarpet\"}], \"scattergeo\": [{\"marker\": {\"colorbar\": {\"outlinewidth\": 0, \"ticks\": \"\"}}, \"type\": \"scattergeo\"}], \"scattergl\": [{\"marker\": {\"colorbar\": {\"outlinewidth\": 0, \"ticks\": \"\"}}, \"type\": \"scattergl\"}], \"scattermapbox\": [{\"marker\": {\"colorbar\": {\"outlinewidth\": 0, \"ticks\": \"\"}}, \"type\": \"scattermapbox\"}], \"scatterpolar\": [{\"marker\": {\"colorbar\": {\"outlinewidth\": 0, \"ticks\": \"\"}}, \"type\": \"scatterpolar\"}], \"scatterpolargl\": [{\"marker\": {\"colorbar\": {\"outlinewidth\": 0, \"ticks\": \"\"}}, \"type\": \"scatterpolargl\"}], \"scatterternary\": [{\"marker\": {\"colorbar\": {\"outlinewidth\": 0, \"ticks\": \"\"}}, \"type\": \"scatterternary\"}], \"surface\": [{\"colorbar\": {\"outlinewidth\": 0, \"ticks\": \"\"}, \"colorscale\": [[0.0, \"#0d0887\"], [0.1111111111111111, \"#46039f\"], [0.2222222222222222, \"#7201a8\"], [0.3333333333333333, \"#9c179e\"], [0.4444444444444444, \"#bd3786\"], [0.5555555555555556, \"#d8576b\"], [0.6666666666666666, \"#ed7953\"], [0.7777777777777778, \"#fb9f3a\"], [0.8888888888888888, \"#fdca26\"], [1.0, \"#f0f921\"]], \"type\": \"surface\"}], \"table\": [{\"cells\": {\"fill\": {\"color\": \"#EBF0F8\"}, \"line\": {\"color\": \"white\"}}, \"header\": {\"fill\": {\"color\": \"#C8D4E3\"}, \"line\": {\"color\": \"white\"}}, \"type\": \"table\"}]}, \"layout\": {\"annotationdefaults\": {\"arrowcolor\": \"#2a3f5f\", \"arrowhead\": 0, \"arrowwidth\": 1}, \"autotypenumbers\": \"strict\", \"coloraxis\": {\"colorbar\": {\"outlinewidth\": 0, \"ticks\": \"\"}}, \"colorscale\": {\"diverging\": [[0, \"#8e0152\"], [0.1, \"#c51b7d\"], [0.2, \"#de77ae\"], [0.3, \"#f1b6da\"], [0.4, \"#fde0ef\"], [0.5, \"#f7f7f7\"], [0.6, \"#e6f5d0\"], [0.7, \"#b8e186\"], [0.8, \"#7fbc41\"], [0.9, \"#4d9221\"], [1, \"#276419\"]], \"sequential\": [[0.0, \"#0d0887\"], [0.1111111111111111, \"#46039f\"], [0.2222222222222222, \"#7201a8\"], [0.3333333333333333, \"#9c179e\"], [0.4444444444444444, \"#bd3786\"], [0.5555555555555556, \"#d8576b\"], [0.6666666666666666, \"#ed7953\"], [0.7777777777777778, \"#fb9f3a\"], [0.8888888888888888, \"#fdca26\"], [1.0, \"#f0f921\"]], \"sequentialminus\": [[0.0, \"#0d0887\"], [0.1111111111111111, \"#46039f\"], [0.2222222222222222, \"#7201a8\"], [0.3333333333333333, \"#9c179e\"], [0.4444444444444444, \"#bd3786\"], [0.5555555555555556, \"#d8576b\"], [0.6666666666666666, \"#ed7953\"], [0.7777777777777778, \"#fb9f3a\"], [0.8888888888888888, \"#fdca26\"], [1.0, \"#f0f921\"]]}, \"colorway\": [\"#636efa\", \"#EF553B\", \"#00cc96\", \"#ab63fa\", \"#FFA15A\", \"#19d3f3\", \"#FF6692\", \"#B6E880\", \"#FF97FF\", \"#FECB52\"], \"font\": {\"color\": \"#2a3f5f\"}, \"geo\": {\"bgcolor\": \"white\", \"lakecolor\": \"white\", \"landcolor\": \"#E5ECF6\", \"showlakes\": true, \"showland\": true, \"subunitcolor\": \"white\"}, \"hoverlabel\": {\"align\": \"left\"}, \"hovermode\": \"closest\", \"mapbox\": {\"style\": \"light\"}, \"paper_bgcolor\": \"white\", \"plot_bgcolor\": \"#E5ECF6\", \"polar\": {\"angularaxis\": {\"gridcolor\": \"white\", \"linecolor\": \"white\", \"ticks\": \"\"}, \"bgcolor\": \"#E5ECF6\", \"radialaxis\": {\"gridcolor\": \"white\", \"linecolor\": \"white\", \"ticks\": \"\"}}, \"scene\": {\"xaxis\": {\"backgroundcolor\": \"#E5ECF6\", \"gridcolor\": \"white\", \"gridwidth\": 2, \"linecolor\": \"white\", \"showbackground\": true, \"ticks\": \"\", \"zerolinecolor\": \"white\"}, \"yaxis\": {\"backgroundcolor\": \"#E5ECF6\", \"gridcolor\": \"white\", \"gridwidth\": 2, \"linecolor\": \"white\", \"showbackground\": true, \"ticks\": \"\", \"zerolinecolor\": \"white\"}, \"zaxis\": {\"backgroundcolor\": \"#E5ECF6\", \"gridcolor\": \"white\", \"gridwidth\": 2, \"linecolor\": \"white\", \"showbackground\": true, \"ticks\": \"\", \"zerolinecolor\": \"white\"}}, \"shapedefaults\": {\"line\": {\"color\": \"#2a3f5f\"}}, \"ternary\": {\"aaxis\": {\"gridcolor\": \"white\", \"linecolor\": \"white\", \"ticks\": \"\"}, \"baxis\": {\"gridcolor\": \"white\", \"linecolor\": \"white\", \"ticks\": \"\"}, \"bgcolor\": \"#E5ECF6\", \"caxis\": {\"gridcolor\": \"white\", \"linecolor\": \"white\", \"ticks\": \"\"}}, \"title\": {\"x\": 0.05}, \"xaxis\": {\"automargin\": true, \"gridcolor\": \"white\", \"linecolor\": \"white\", \"ticks\": \"\", \"title\": {\"standoff\": 15}, \"zerolinecolor\": \"white\", \"zerolinewidth\": 2}, \"yaxis\": {\"automargin\": true, \"gridcolor\": \"white\", \"linecolor\": \"white\", \"ticks\": \"\", \"title\": {\"standoff\": 15}, \"zerolinecolor\": \"white\", \"zerolinewidth\": 2}}}, \"title\": {\"font\": {\"size\": 30}, \"text\": \"Population of Japan\"}, \"xaxis\": {\"title\": {\"font\": {\"size\": 20}, \"text\": \"Year\"}}, \"yaxis\": {\"title\": {\"font\": {\"size\": 20}, \"text\": \"Population\"}}},                        {\"responsive\": true}                    ).then(function(){\n",
       "                            \n",
       "var gd = document.getElementById('3cb90d5b-b590-4fab-9879-9c97cfbc27b3');\n",
       "var x = new MutationObserver(function (mutations, observer) {{\n",
       "        var display = window.getComputedStyle(gd).display;\n",
       "        if (!display || display === 'none') {{\n",
       "            console.log([gd, 'removed!']);\n",
       "            Plotly.purge(gd);\n",
       "            observer.disconnect();\n",
       "        }}\n",
       "}});\n",
       "\n",
       "// Listen for the removal of the full notebook cells\n",
       "var notebookContainer = gd.closest('#notebook-container');\n",
       "if (notebookContainer) {{\n",
       "    x.observe(notebookContainer, {childList: true});\n",
       "}}\n",
       "\n",
       "// Listen for the clearing of the current output cell\n",
       "var outputEl = gd.closest('.output');\n",
       "if (outputEl) {{\n",
       "    x.observe(outputEl, {childList: true});\n",
       "}}\n",
       "\n",
       "                        })                };                });            </script>        </div>"
      ]
     },
     "metadata": {},
     "output_type": "display_data"
    }
   ],
   "source": [
    "fig8 = go.Figure()\n",
    "\n",
    "# Add traces\n",
    "fig8.add_trace(go.Scatter(x=x, y=japan_fe_population,\n",
    "                    mode='lines+markers',\n",
    "                    name='Female'))\n",
    "fig8.add_trace(go.Scatter(x=x, y=japan_ma_population,\n",
    "                    mode='lines+markers',\n",
    "                    name='Male'))\n",
    "fig8.update_layout(barmode='stack', xaxis = dict(title='Year', titlefont_size=20),\n",
    "                  yaxis = dict(title='Population', titlefont_size=20), title = \"Population of Japan\", titlefont_size=30)\n",
    "\n",
    "fig8.show()"
   ]
  },
  {
   "cell_type": "code",
   "execution_count": 24,
   "metadata": {},
   "outputs": [
    {
     "data": {
      "application/vnd.plotly.v1+json": {
       "config": {
        "plotlyServerURL": "https://plot.ly"
       },
       "data": [
        {
         "mode": "lines+markers",
         "name": "Female",
         "type": "scatter",
         "x": [
          1961,
          1962,
          1963,
          1964,
          1965,
          1966,
          1967,
          1968,
          1969,
          1970,
          1971,
          1972,
          1973,
          1974,
          1975,
          1976,
          1977,
          1978,
          1979,
          1980,
          1981,
          1982,
          1983,
          1984,
          1985,
          1986,
          1987,
          1988,
          1989,
          1990,
          1991,
          1992,
          1993,
          1994,
          1995,
          1996,
          1997,
          1998,
          1999,
          2000,
          2001,
          2002,
          2003,
          2004,
          2005,
          2006,
          2007,
          2008,
          2009,
          2010,
          2011,
          2012,
          2013,
          2014,
          2015,
          2016,
          2017,
          2018,
          2019
         ],
         "y": [
          25964789,
          26138706,
          26327740,
          26541784,
          26761059,
          26962781,
          27150216,
          27313588,
          27461125,
          27601465,
          27727502,
          27884366,
          28075511,
          28264021,
          28440396,
          28593188,
          28728395,
          28844774,
          28938963,
          29003779,
          29037088,
          29051541,
          29052240,
          29050056,
          29053777,
          29055645,
          29062997,
          29084322,
          29114370,
          29146541,
          29173243,
          29198819,
          29223132,
          29238360,
          29252149,
          29279269,
          29318010,
          29349203,
          29369602,
          29386547,
          29391908,
          29412462,
          29515905,
          29686364,
          29825093,
          29924053,
          30098000,
          30326738,
          30489592,
          30596015,
          30647051,
          30716752,
          31053693,
          31315785,
          31262660,
          31188515,
          31121471,
          31042688,
          30959312
         ]
        },
        {
         "mode": "lines+markers",
         "name": "Male",
         "type": "scatter",
         "x": [
          1961,
          1962,
          1963,
          1964,
          1965,
          1966,
          1967,
          1968,
          1969,
          1970,
          1971,
          1972,
          1973,
          1974,
          1975,
          1976,
          1977,
          1978,
          1979,
          1980,
          1981,
          1982,
          1983,
          1984,
          1985,
          1986,
          1987,
          1988,
          1989,
          1990,
          1991,
          1992,
          1993,
          1994,
          1995,
          1996,
          1997,
          1998,
          1999,
          2000,
          2001,
          2002,
          2003,
          2004,
          2005,
          2006,
          2007,
          2008,
          2009,
          2010,
          2011,
          2012,
          2013,
          2014,
          2015,
          2016,
          2017,
          2018,
          2019
         ],
         "y": [
          24571561,
          24740744,
          24924260,
          25133566,
          25351291,
          25556219,
          25750284,
          25922162,
          26076825,
          26220385,
          26345988,
          26496979,
          26675895,
          26846847,
          27000605,
          27125072,
          27227016,
          27310369,
          27378786,
          27430104,
          27464587,
          27492007,
          27511834,
          27526662,
          27539294,
          27540510,
          27538934,
          27544966,
          27557411,
          27572699,
          27585278,
          27598268,
          27608689,
          27605040,
          27592154,
          27581012,
          27572362,
          27557541,
          27546715,
          27555561,
          27582192,
          27646545,
          27797298,
          27998963,
          28144391,
          28219926,
          28340310,
          28499993,
          28605773,
          28681402,
          28732398,
          28822965,
          29180255,
          29473355,
          29467922,
          29438983,
          29415238,
          29379072,
          29338084
         ]
        }
       ],
       "layout": {
        "barmode": "stack",
        "template": {
         "data": {
          "bar": [
           {
            "error_x": {
             "color": "#2a3f5f"
            },
            "error_y": {
             "color": "#2a3f5f"
            },
            "marker": {
             "line": {
              "color": "#E5ECF6",
              "width": 0.5
             }
            },
            "type": "bar"
           }
          ],
          "barpolar": [
           {
            "marker": {
             "line": {
              "color": "#E5ECF6",
              "width": 0.5
             }
            },
            "type": "barpolar"
           }
          ],
          "carpet": [
           {
            "aaxis": {
             "endlinecolor": "#2a3f5f",
             "gridcolor": "white",
             "linecolor": "white",
             "minorgridcolor": "white",
             "startlinecolor": "#2a3f5f"
            },
            "baxis": {
             "endlinecolor": "#2a3f5f",
             "gridcolor": "white",
             "linecolor": "white",
             "minorgridcolor": "white",
             "startlinecolor": "#2a3f5f"
            },
            "type": "carpet"
           }
          ],
          "choropleth": [
           {
            "colorbar": {
             "outlinewidth": 0,
             "ticks": ""
            },
            "type": "choropleth"
           }
          ],
          "contour": [
           {
            "colorbar": {
             "outlinewidth": 0,
             "ticks": ""
            },
            "colorscale": [
             [
              0,
              "#0d0887"
             ],
             [
              0.1111111111111111,
              "#46039f"
             ],
             [
              0.2222222222222222,
              "#7201a8"
             ],
             [
              0.3333333333333333,
              "#9c179e"
             ],
             [
              0.4444444444444444,
              "#bd3786"
             ],
             [
              0.5555555555555556,
              "#d8576b"
             ],
             [
              0.6666666666666666,
              "#ed7953"
             ],
             [
              0.7777777777777778,
              "#fb9f3a"
             ],
             [
              0.8888888888888888,
              "#fdca26"
             ],
             [
              1,
              "#f0f921"
             ]
            ],
            "type": "contour"
           }
          ],
          "contourcarpet": [
           {
            "colorbar": {
             "outlinewidth": 0,
             "ticks": ""
            },
            "type": "contourcarpet"
           }
          ],
          "heatmap": [
           {
            "colorbar": {
             "outlinewidth": 0,
             "ticks": ""
            },
            "colorscale": [
             [
              0,
              "#0d0887"
             ],
             [
              0.1111111111111111,
              "#46039f"
             ],
             [
              0.2222222222222222,
              "#7201a8"
             ],
             [
              0.3333333333333333,
              "#9c179e"
             ],
             [
              0.4444444444444444,
              "#bd3786"
             ],
             [
              0.5555555555555556,
              "#d8576b"
             ],
             [
              0.6666666666666666,
              "#ed7953"
             ],
             [
              0.7777777777777778,
              "#fb9f3a"
             ],
             [
              0.8888888888888888,
              "#fdca26"
             ],
             [
              1,
              "#f0f921"
             ]
            ],
            "type": "heatmap"
           }
          ],
          "heatmapgl": [
           {
            "colorbar": {
             "outlinewidth": 0,
             "ticks": ""
            },
            "colorscale": [
             [
              0,
              "#0d0887"
             ],
             [
              0.1111111111111111,
              "#46039f"
             ],
             [
              0.2222222222222222,
              "#7201a8"
             ],
             [
              0.3333333333333333,
              "#9c179e"
             ],
             [
              0.4444444444444444,
              "#bd3786"
             ],
             [
              0.5555555555555556,
              "#d8576b"
             ],
             [
              0.6666666666666666,
              "#ed7953"
             ],
             [
              0.7777777777777778,
              "#fb9f3a"
             ],
             [
              0.8888888888888888,
              "#fdca26"
             ],
             [
              1,
              "#f0f921"
             ]
            ],
            "type": "heatmapgl"
           }
          ],
          "histogram": [
           {
            "marker": {
             "colorbar": {
              "outlinewidth": 0,
              "ticks": ""
             }
            },
            "type": "histogram"
           }
          ],
          "histogram2d": [
           {
            "colorbar": {
             "outlinewidth": 0,
             "ticks": ""
            },
            "colorscale": [
             [
              0,
              "#0d0887"
             ],
             [
              0.1111111111111111,
              "#46039f"
             ],
             [
              0.2222222222222222,
              "#7201a8"
             ],
             [
              0.3333333333333333,
              "#9c179e"
             ],
             [
              0.4444444444444444,
              "#bd3786"
             ],
             [
              0.5555555555555556,
              "#d8576b"
             ],
             [
              0.6666666666666666,
              "#ed7953"
             ],
             [
              0.7777777777777778,
              "#fb9f3a"
             ],
             [
              0.8888888888888888,
              "#fdca26"
             ],
             [
              1,
              "#f0f921"
             ]
            ],
            "type": "histogram2d"
           }
          ],
          "histogram2dcontour": [
           {
            "colorbar": {
             "outlinewidth": 0,
             "ticks": ""
            },
            "colorscale": [
             [
              0,
              "#0d0887"
             ],
             [
              0.1111111111111111,
              "#46039f"
             ],
             [
              0.2222222222222222,
              "#7201a8"
             ],
             [
              0.3333333333333333,
              "#9c179e"
             ],
             [
              0.4444444444444444,
              "#bd3786"
             ],
             [
              0.5555555555555556,
              "#d8576b"
             ],
             [
              0.6666666666666666,
              "#ed7953"
             ],
             [
              0.7777777777777778,
              "#fb9f3a"
             ],
             [
              0.8888888888888888,
              "#fdca26"
             ],
             [
              1,
              "#f0f921"
             ]
            ],
            "type": "histogram2dcontour"
           }
          ],
          "mesh3d": [
           {
            "colorbar": {
             "outlinewidth": 0,
             "ticks": ""
            },
            "type": "mesh3d"
           }
          ],
          "parcoords": [
           {
            "line": {
             "colorbar": {
              "outlinewidth": 0,
              "ticks": ""
             }
            },
            "type": "parcoords"
           }
          ],
          "pie": [
           {
            "automargin": true,
            "type": "pie"
           }
          ],
          "scatter": [
           {
            "marker": {
             "colorbar": {
              "outlinewidth": 0,
              "ticks": ""
             }
            },
            "type": "scatter"
           }
          ],
          "scatter3d": [
           {
            "line": {
             "colorbar": {
              "outlinewidth": 0,
              "ticks": ""
             }
            },
            "marker": {
             "colorbar": {
              "outlinewidth": 0,
              "ticks": ""
             }
            },
            "type": "scatter3d"
           }
          ],
          "scattercarpet": [
           {
            "marker": {
             "colorbar": {
              "outlinewidth": 0,
              "ticks": ""
             }
            },
            "type": "scattercarpet"
           }
          ],
          "scattergeo": [
           {
            "marker": {
             "colorbar": {
              "outlinewidth": 0,
              "ticks": ""
             }
            },
            "type": "scattergeo"
           }
          ],
          "scattergl": [
           {
            "marker": {
             "colorbar": {
              "outlinewidth": 0,
              "ticks": ""
             }
            },
            "type": "scattergl"
           }
          ],
          "scattermapbox": [
           {
            "marker": {
             "colorbar": {
              "outlinewidth": 0,
              "ticks": ""
             }
            },
            "type": "scattermapbox"
           }
          ],
          "scatterpolar": [
           {
            "marker": {
             "colorbar": {
              "outlinewidth": 0,
              "ticks": ""
             }
            },
            "type": "scatterpolar"
           }
          ],
          "scatterpolargl": [
           {
            "marker": {
             "colorbar": {
              "outlinewidth": 0,
              "ticks": ""
             }
            },
            "type": "scatterpolargl"
           }
          ],
          "scatterternary": [
           {
            "marker": {
             "colorbar": {
              "outlinewidth": 0,
              "ticks": ""
             }
            },
            "type": "scatterternary"
           }
          ],
          "surface": [
           {
            "colorbar": {
             "outlinewidth": 0,
             "ticks": ""
            },
            "colorscale": [
             [
              0,
              "#0d0887"
             ],
             [
              0.1111111111111111,
              "#46039f"
             ],
             [
              0.2222222222222222,
              "#7201a8"
             ],
             [
              0.3333333333333333,
              "#9c179e"
             ],
             [
              0.4444444444444444,
              "#bd3786"
             ],
             [
              0.5555555555555556,
              "#d8576b"
             ],
             [
              0.6666666666666666,
              "#ed7953"
             ],
             [
              0.7777777777777778,
              "#fb9f3a"
             ],
             [
              0.8888888888888888,
              "#fdca26"
             ],
             [
              1,
              "#f0f921"
             ]
            ],
            "type": "surface"
           }
          ],
          "table": [
           {
            "cells": {
             "fill": {
              "color": "#EBF0F8"
             },
             "line": {
              "color": "white"
             }
            },
            "header": {
             "fill": {
              "color": "#C8D4E3"
             },
             "line": {
              "color": "white"
             }
            },
            "type": "table"
           }
          ]
         },
         "layout": {
          "annotationdefaults": {
           "arrowcolor": "#2a3f5f",
           "arrowhead": 0,
           "arrowwidth": 1
          },
          "autotypenumbers": "strict",
          "coloraxis": {
           "colorbar": {
            "outlinewidth": 0,
            "ticks": ""
           }
          },
          "colorscale": {
           "diverging": [
            [
             0,
             "#8e0152"
            ],
            [
             0.1,
             "#c51b7d"
            ],
            [
             0.2,
             "#de77ae"
            ],
            [
             0.3,
             "#f1b6da"
            ],
            [
             0.4,
             "#fde0ef"
            ],
            [
             0.5,
             "#f7f7f7"
            ],
            [
             0.6,
             "#e6f5d0"
            ],
            [
             0.7,
             "#b8e186"
            ],
            [
             0.8,
             "#7fbc41"
            ],
            [
             0.9,
             "#4d9221"
            ],
            [
             1,
             "#276419"
            ]
           ],
           "sequential": [
            [
             0,
             "#0d0887"
            ],
            [
             0.1111111111111111,
             "#46039f"
            ],
            [
             0.2222222222222222,
             "#7201a8"
            ],
            [
             0.3333333333333333,
             "#9c179e"
            ],
            [
             0.4444444444444444,
             "#bd3786"
            ],
            [
             0.5555555555555556,
             "#d8576b"
            ],
            [
             0.6666666666666666,
             "#ed7953"
            ],
            [
             0.7777777777777778,
             "#fb9f3a"
            ],
            [
             0.8888888888888888,
             "#fdca26"
            ],
            [
             1,
             "#f0f921"
            ]
           ],
           "sequentialminus": [
            [
             0,
             "#0d0887"
            ],
            [
             0.1111111111111111,
             "#46039f"
            ],
            [
             0.2222222222222222,
             "#7201a8"
            ],
            [
             0.3333333333333333,
             "#9c179e"
            ],
            [
             0.4444444444444444,
             "#bd3786"
            ],
            [
             0.5555555555555556,
             "#d8576b"
            ],
            [
             0.6666666666666666,
             "#ed7953"
            ],
            [
             0.7777777777777778,
             "#fb9f3a"
            ],
            [
             0.8888888888888888,
             "#fdca26"
            ],
            [
             1,
             "#f0f921"
            ]
           ]
          },
          "colorway": [
           "#636efa",
           "#EF553B",
           "#00cc96",
           "#ab63fa",
           "#FFA15A",
           "#19d3f3",
           "#FF6692",
           "#B6E880",
           "#FF97FF",
           "#FECB52"
          ],
          "font": {
           "color": "#2a3f5f"
          },
          "geo": {
           "bgcolor": "white",
           "lakecolor": "white",
           "landcolor": "#E5ECF6",
           "showlakes": true,
           "showland": true,
           "subunitcolor": "white"
          },
          "hoverlabel": {
           "align": "left"
          },
          "hovermode": "closest",
          "mapbox": {
           "style": "light"
          },
          "paper_bgcolor": "white",
          "plot_bgcolor": "#E5ECF6",
          "polar": {
           "angularaxis": {
            "gridcolor": "white",
            "linecolor": "white",
            "ticks": ""
           },
           "bgcolor": "#E5ECF6",
           "radialaxis": {
            "gridcolor": "white",
            "linecolor": "white",
            "ticks": ""
           }
          },
          "scene": {
           "xaxis": {
            "backgroundcolor": "#E5ECF6",
            "gridcolor": "white",
            "gridwidth": 2,
            "linecolor": "white",
            "showbackground": true,
            "ticks": "",
            "zerolinecolor": "white"
           },
           "yaxis": {
            "backgroundcolor": "#E5ECF6",
            "gridcolor": "white",
            "gridwidth": 2,
            "linecolor": "white",
            "showbackground": true,
            "ticks": "",
            "zerolinecolor": "white"
           },
           "zaxis": {
            "backgroundcolor": "#E5ECF6",
            "gridcolor": "white",
            "gridwidth": 2,
            "linecolor": "white",
            "showbackground": true,
            "ticks": "",
            "zerolinecolor": "white"
           }
          },
          "shapedefaults": {
           "line": {
            "color": "#2a3f5f"
           }
          },
          "ternary": {
           "aaxis": {
            "gridcolor": "white",
            "linecolor": "white",
            "ticks": ""
           },
           "baxis": {
            "gridcolor": "white",
            "linecolor": "white",
            "ticks": ""
           },
           "bgcolor": "#E5ECF6",
           "caxis": {
            "gridcolor": "white",
            "linecolor": "white",
            "ticks": ""
           }
          },
          "title": {
           "x": 0.05
          },
          "xaxis": {
           "automargin": true,
           "gridcolor": "white",
           "linecolor": "white",
           "ticks": "",
           "title": {
            "standoff": 15
           },
           "zerolinecolor": "white",
           "zerolinewidth": 2
          },
          "yaxis": {
           "automargin": true,
           "gridcolor": "white",
           "linecolor": "white",
           "ticks": "",
           "title": {
            "standoff": 15
           },
           "zerolinecolor": "white",
           "zerolinewidth": 2
          }
         }
        },
        "title": {
         "font": {
          "size": 30
         },
         "text": "Population of Italy"
        },
        "xaxis": {
         "title": {
          "font": {
           "size": 20
          },
          "text": "Year"
         }
        },
        "yaxis": {
         "title": {
          "font": {
           "size": 20
          },
          "text": "Population"
         }
        }
       }
      },
      "text/html": [
       "<div>                            <div id=\"758c8c8b-374a-461f-b4a2-4e75fba6c401\" class=\"plotly-graph-div\" style=\"height:525px; width:100%;\"></div>            <script type=\"text/javascript\">                require([\"plotly\"], function(Plotly) {                    window.PLOTLYENV=window.PLOTLYENV || {};                                    if (document.getElementById(\"758c8c8b-374a-461f-b4a2-4e75fba6c401\")) {                    Plotly.newPlot(                        \"758c8c8b-374a-461f-b4a2-4e75fba6c401\",                        [{\"mode\": \"lines+markers\", \"name\": \"Female\", \"type\": \"scatter\", \"x\": [1961, 1962, 1963, 1964, 1965, 1966, 1967, 1968, 1969, 1970, 1971, 1972, 1973, 1974, 1975, 1976, 1977, 1978, 1979, 1980, 1981, 1982, 1983, 1984, 1985, 1986, 1987, 1988, 1989, 1990, 1991, 1992, 1993, 1994, 1995, 1996, 1997, 1998, 1999, 2000, 2001, 2002, 2003, 2004, 2005, 2006, 2007, 2008, 2009, 2010, 2011, 2012, 2013, 2014, 2015, 2016, 2017, 2018, 2019], \"y\": [25964789.0, 26138706.0, 26327740.0, 26541784.0, 26761059.0, 26962781.0, 27150216.0, 27313588.0, 27461125.0, 27601465.0, 27727502.0, 27884366.0, 28075511.0, 28264021.0, 28440396.0, 28593188.0, 28728395.0, 28844774.0, 28938963.0, 29003779.0, 29037088.0, 29051541.0, 29052240.0, 29050056.0, 29053777.0, 29055645.0, 29062997.0, 29084322.0, 29114370.0, 29146541.0, 29173243.0, 29198819.0, 29223132.0, 29238360.0, 29252149.0, 29279269.0, 29318010.0, 29349203.0, 29369602.0, 29386547.0, 29391908.0, 29412462.0, 29515905.0, 29686364.0, 29825093.0, 29924053.0, 30098000.0, 30326738.0, 30489592.0, 30596015.0, 30647051.0, 30716752.0, 31053693.0, 31315785.0, 31262660.0, 31188515.0, 31121471.0, 31042688.0, 30959312.0]}, {\"mode\": \"lines+markers\", \"name\": \"Male\", \"type\": \"scatter\", \"x\": [1961, 1962, 1963, 1964, 1965, 1966, 1967, 1968, 1969, 1970, 1971, 1972, 1973, 1974, 1975, 1976, 1977, 1978, 1979, 1980, 1981, 1982, 1983, 1984, 1985, 1986, 1987, 1988, 1989, 1990, 1991, 1992, 1993, 1994, 1995, 1996, 1997, 1998, 1999, 2000, 2001, 2002, 2003, 2004, 2005, 2006, 2007, 2008, 2009, 2010, 2011, 2012, 2013, 2014, 2015, 2016, 2017, 2018, 2019], \"y\": [24571561.0, 24740744.0, 24924260.0, 25133566.0, 25351291.0, 25556219.0, 25750284.0, 25922162.0, 26076825.0, 26220385.0, 26345988.0, 26496979.0, 26675895.0, 26846847.0, 27000605.0, 27125072.0, 27227016.0, 27310369.0, 27378786.0, 27430104.0, 27464587.0, 27492007.0, 27511834.0, 27526662.0, 27539294.0, 27540510.0, 27538934.0, 27544966.0, 27557411.0, 27572699.0, 27585278.0, 27598268.0, 27608689.0, 27605040.0, 27592154.0, 27581012.0, 27572362.0, 27557541.0, 27546715.0, 27555561.0, 27582192.0, 27646545.0, 27797298.0, 27998963.0, 28144391.0, 28219926.0, 28340310.0, 28499993.0, 28605773.0, 28681402.0, 28732398.0, 28822965.0, 29180255.0, 29473355.0, 29467922.0, 29438983.0, 29415238.0, 29379072.0, 29338084.0]}],                        {\"barmode\": \"stack\", \"template\": {\"data\": {\"bar\": [{\"error_x\": {\"color\": \"#2a3f5f\"}, \"error_y\": {\"color\": \"#2a3f5f\"}, \"marker\": {\"line\": {\"color\": \"#E5ECF6\", \"width\": 0.5}}, \"type\": \"bar\"}], \"barpolar\": [{\"marker\": {\"line\": {\"color\": \"#E5ECF6\", \"width\": 0.5}}, \"type\": \"barpolar\"}], \"carpet\": [{\"aaxis\": {\"endlinecolor\": \"#2a3f5f\", \"gridcolor\": \"white\", \"linecolor\": \"white\", \"minorgridcolor\": \"white\", \"startlinecolor\": \"#2a3f5f\"}, \"baxis\": {\"endlinecolor\": \"#2a3f5f\", \"gridcolor\": \"white\", \"linecolor\": \"white\", \"minorgridcolor\": \"white\", \"startlinecolor\": \"#2a3f5f\"}, \"type\": \"carpet\"}], \"choropleth\": [{\"colorbar\": {\"outlinewidth\": 0, \"ticks\": \"\"}, \"type\": \"choropleth\"}], \"contour\": [{\"colorbar\": {\"outlinewidth\": 0, \"ticks\": \"\"}, \"colorscale\": [[0.0, \"#0d0887\"], [0.1111111111111111, \"#46039f\"], [0.2222222222222222, \"#7201a8\"], [0.3333333333333333, \"#9c179e\"], [0.4444444444444444, \"#bd3786\"], [0.5555555555555556, \"#d8576b\"], [0.6666666666666666, \"#ed7953\"], [0.7777777777777778, \"#fb9f3a\"], [0.8888888888888888, \"#fdca26\"], [1.0, \"#f0f921\"]], \"type\": \"contour\"}], \"contourcarpet\": [{\"colorbar\": {\"outlinewidth\": 0, \"ticks\": \"\"}, \"type\": \"contourcarpet\"}], \"heatmap\": [{\"colorbar\": {\"outlinewidth\": 0, \"ticks\": \"\"}, \"colorscale\": [[0.0, \"#0d0887\"], [0.1111111111111111, \"#46039f\"], [0.2222222222222222, \"#7201a8\"], [0.3333333333333333, \"#9c179e\"], [0.4444444444444444, \"#bd3786\"], [0.5555555555555556, \"#d8576b\"], [0.6666666666666666, \"#ed7953\"], [0.7777777777777778, \"#fb9f3a\"], [0.8888888888888888, \"#fdca26\"], [1.0, \"#f0f921\"]], \"type\": \"heatmap\"}], \"heatmapgl\": [{\"colorbar\": {\"outlinewidth\": 0, \"ticks\": \"\"}, \"colorscale\": [[0.0, \"#0d0887\"], [0.1111111111111111, \"#46039f\"], [0.2222222222222222, \"#7201a8\"], [0.3333333333333333, \"#9c179e\"], [0.4444444444444444, \"#bd3786\"], [0.5555555555555556, \"#d8576b\"], [0.6666666666666666, \"#ed7953\"], [0.7777777777777778, \"#fb9f3a\"], [0.8888888888888888, \"#fdca26\"], [1.0, \"#f0f921\"]], \"type\": \"heatmapgl\"}], \"histogram\": [{\"marker\": {\"colorbar\": {\"outlinewidth\": 0, \"ticks\": \"\"}}, \"type\": \"histogram\"}], \"histogram2d\": [{\"colorbar\": {\"outlinewidth\": 0, \"ticks\": \"\"}, \"colorscale\": [[0.0, \"#0d0887\"], [0.1111111111111111, \"#46039f\"], [0.2222222222222222, \"#7201a8\"], [0.3333333333333333, \"#9c179e\"], [0.4444444444444444, \"#bd3786\"], [0.5555555555555556, \"#d8576b\"], [0.6666666666666666, \"#ed7953\"], [0.7777777777777778, \"#fb9f3a\"], [0.8888888888888888, \"#fdca26\"], [1.0, \"#f0f921\"]], \"type\": \"histogram2d\"}], \"histogram2dcontour\": [{\"colorbar\": {\"outlinewidth\": 0, \"ticks\": \"\"}, \"colorscale\": [[0.0, \"#0d0887\"], [0.1111111111111111, \"#46039f\"], [0.2222222222222222, \"#7201a8\"], [0.3333333333333333, \"#9c179e\"], [0.4444444444444444, \"#bd3786\"], [0.5555555555555556, \"#d8576b\"], [0.6666666666666666, \"#ed7953\"], [0.7777777777777778, \"#fb9f3a\"], [0.8888888888888888, \"#fdca26\"], [1.0, \"#f0f921\"]], \"type\": \"histogram2dcontour\"}], \"mesh3d\": [{\"colorbar\": {\"outlinewidth\": 0, \"ticks\": \"\"}, \"type\": \"mesh3d\"}], \"parcoords\": [{\"line\": {\"colorbar\": {\"outlinewidth\": 0, \"ticks\": \"\"}}, \"type\": \"parcoords\"}], \"pie\": [{\"automargin\": true, \"type\": \"pie\"}], \"scatter\": [{\"marker\": {\"colorbar\": {\"outlinewidth\": 0, \"ticks\": \"\"}}, \"type\": \"scatter\"}], \"scatter3d\": [{\"line\": {\"colorbar\": {\"outlinewidth\": 0, \"ticks\": \"\"}}, \"marker\": {\"colorbar\": {\"outlinewidth\": 0, \"ticks\": \"\"}}, \"type\": \"scatter3d\"}], \"scattercarpet\": [{\"marker\": {\"colorbar\": {\"outlinewidth\": 0, \"ticks\": \"\"}}, \"type\": \"scattercarpet\"}], \"scattergeo\": [{\"marker\": {\"colorbar\": {\"outlinewidth\": 0, \"ticks\": \"\"}}, \"type\": \"scattergeo\"}], \"scattergl\": [{\"marker\": {\"colorbar\": {\"outlinewidth\": 0, \"ticks\": \"\"}}, \"type\": \"scattergl\"}], \"scattermapbox\": [{\"marker\": {\"colorbar\": {\"outlinewidth\": 0, \"ticks\": \"\"}}, \"type\": \"scattermapbox\"}], \"scatterpolar\": [{\"marker\": {\"colorbar\": {\"outlinewidth\": 0, \"ticks\": \"\"}}, \"type\": \"scatterpolar\"}], \"scatterpolargl\": [{\"marker\": {\"colorbar\": {\"outlinewidth\": 0, \"ticks\": \"\"}}, \"type\": \"scatterpolargl\"}], \"scatterternary\": [{\"marker\": {\"colorbar\": {\"outlinewidth\": 0, \"ticks\": \"\"}}, \"type\": \"scatterternary\"}], \"surface\": [{\"colorbar\": {\"outlinewidth\": 0, \"ticks\": \"\"}, \"colorscale\": [[0.0, \"#0d0887\"], [0.1111111111111111, \"#46039f\"], [0.2222222222222222, \"#7201a8\"], [0.3333333333333333, \"#9c179e\"], [0.4444444444444444, \"#bd3786\"], [0.5555555555555556, \"#d8576b\"], [0.6666666666666666, \"#ed7953\"], [0.7777777777777778, \"#fb9f3a\"], [0.8888888888888888, \"#fdca26\"], [1.0, \"#f0f921\"]], \"type\": \"surface\"}], \"table\": [{\"cells\": {\"fill\": {\"color\": \"#EBF0F8\"}, \"line\": {\"color\": \"white\"}}, \"header\": {\"fill\": {\"color\": \"#C8D4E3\"}, \"line\": {\"color\": \"white\"}}, \"type\": \"table\"}]}, \"layout\": {\"annotationdefaults\": {\"arrowcolor\": \"#2a3f5f\", \"arrowhead\": 0, \"arrowwidth\": 1}, \"autotypenumbers\": \"strict\", \"coloraxis\": {\"colorbar\": {\"outlinewidth\": 0, \"ticks\": \"\"}}, \"colorscale\": {\"diverging\": [[0, \"#8e0152\"], [0.1, \"#c51b7d\"], [0.2, \"#de77ae\"], [0.3, \"#f1b6da\"], [0.4, \"#fde0ef\"], [0.5, \"#f7f7f7\"], [0.6, \"#e6f5d0\"], [0.7, \"#b8e186\"], [0.8, \"#7fbc41\"], [0.9, \"#4d9221\"], [1, \"#276419\"]], \"sequential\": [[0.0, \"#0d0887\"], [0.1111111111111111, \"#46039f\"], [0.2222222222222222, \"#7201a8\"], [0.3333333333333333, \"#9c179e\"], [0.4444444444444444, \"#bd3786\"], [0.5555555555555556, \"#d8576b\"], [0.6666666666666666, \"#ed7953\"], [0.7777777777777778, \"#fb9f3a\"], [0.8888888888888888, \"#fdca26\"], [1.0, \"#f0f921\"]], \"sequentialminus\": [[0.0, \"#0d0887\"], [0.1111111111111111, \"#46039f\"], [0.2222222222222222, \"#7201a8\"], [0.3333333333333333, \"#9c179e\"], [0.4444444444444444, \"#bd3786\"], [0.5555555555555556, \"#d8576b\"], [0.6666666666666666, \"#ed7953\"], [0.7777777777777778, \"#fb9f3a\"], [0.8888888888888888, \"#fdca26\"], [1.0, \"#f0f921\"]]}, \"colorway\": [\"#636efa\", \"#EF553B\", \"#00cc96\", \"#ab63fa\", \"#FFA15A\", \"#19d3f3\", \"#FF6692\", \"#B6E880\", \"#FF97FF\", \"#FECB52\"], \"font\": {\"color\": \"#2a3f5f\"}, \"geo\": {\"bgcolor\": \"white\", \"lakecolor\": \"white\", \"landcolor\": \"#E5ECF6\", \"showlakes\": true, \"showland\": true, \"subunitcolor\": \"white\"}, \"hoverlabel\": {\"align\": \"left\"}, \"hovermode\": \"closest\", \"mapbox\": {\"style\": \"light\"}, \"paper_bgcolor\": \"white\", \"plot_bgcolor\": \"#E5ECF6\", \"polar\": {\"angularaxis\": {\"gridcolor\": \"white\", \"linecolor\": \"white\", \"ticks\": \"\"}, \"bgcolor\": \"#E5ECF6\", \"radialaxis\": {\"gridcolor\": \"white\", \"linecolor\": \"white\", \"ticks\": \"\"}}, \"scene\": {\"xaxis\": {\"backgroundcolor\": \"#E5ECF6\", \"gridcolor\": \"white\", \"gridwidth\": 2, \"linecolor\": \"white\", \"showbackground\": true, \"ticks\": \"\", \"zerolinecolor\": \"white\"}, \"yaxis\": {\"backgroundcolor\": \"#E5ECF6\", \"gridcolor\": \"white\", \"gridwidth\": 2, \"linecolor\": \"white\", \"showbackground\": true, \"ticks\": \"\", \"zerolinecolor\": \"white\"}, \"zaxis\": {\"backgroundcolor\": \"#E5ECF6\", \"gridcolor\": \"white\", \"gridwidth\": 2, \"linecolor\": \"white\", \"showbackground\": true, \"ticks\": \"\", \"zerolinecolor\": \"white\"}}, \"shapedefaults\": {\"line\": {\"color\": \"#2a3f5f\"}}, \"ternary\": {\"aaxis\": {\"gridcolor\": \"white\", \"linecolor\": \"white\", \"ticks\": \"\"}, \"baxis\": {\"gridcolor\": \"white\", \"linecolor\": \"white\", \"ticks\": \"\"}, \"bgcolor\": \"#E5ECF6\", \"caxis\": {\"gridcolor\": \"white\", \"linecolor\": \"white\", \"ticks\": \"\"}}, \"title\": {\"x\": 0.05}, \"xaxis\": {\"automargin\": true, \"gridcolor\": \"white\", \"linecolor\": \"white\", \"ticks\": \"\", \"title\": {\"standoff\": 15}, \"zerolinecolor\": \"white\", \"zerolinewidth\": 2}, \"yaxis\": {\"automargin\": true, \"gridcolor\": \"white\", \"linecolor\": \"white\", \"ticks\": \"\", \"title\": {\"standoff\": 15}, \"zerolinecolor\": \"white\", \"zerolinewidth\": 2}}}, \"title\": {\"font\": {\"size\": 30}, \"text\": \"Population of Italy\"}, \"xaxis\": {\"title\": {\"font\": {\"size\": 20}, \"text\": \"Year\"}}, \"yaxis\": {\"title\": {\"font\": {\"size\": 20}, \"text\": \"Population\"}}},                        {\"responsive\": true}                    ).then(function(){\n",
       "                            \n",
       "var gd = document.getElementById('758c8c8b-374a-461f-b4a2-4e75fba6c401');\n",
       "var x = new MutationObserver(function (mutations, observer) {{\n",
       "        var display = window.getComputedStyle(gd).display;\n",
       "        if (!display || display === 'none') {{\n",
       "            console.log([gd, 'removed!']);\n",
       "            Plotly.purge(gd);\n",
       "            observer.disconnect();\n",
       "        }}\n",
       "}});\n",
       "\n",
       "// Listen for the removal of the full notebook cells\n",
       "var notebookContainer = gd.closest('#notebook-container');\n",
       "if (notebookContainer) {{\n",
       "    x.observe(notebookContainer, {childList: true});\n",
       "}}\n",
       "\n",
       "// Listen for the clearing of the current output cell\n",
       "var outputEl = gd.closest('.output');\n",
       "if (outputEl) {{\n",
       "    x.observe(outputEl, {childList: true});\n",
       "}}\n",
       "\n",
       "                        })                };                });            </script>        </div>"
      ]
     },
     "metadata": {},
     "output_type": "display_data"
    }
   ],
   "source": [
    "fig9 = go.Figure()\n",
    "\n",
    "# Add traces\n",
    "fig9.add_trace(go.Scatter(x=x, y=italy_fe_population,\n",
    "                    mode='lines+markers',\n",
    "                    name='Female'))\n",
    "fig9.add_trace(go.Scatter(x=x, y=italy_ma_population,\n",
    "                    mode='lines+markers',\n",
    "                    name='Male'))\n",
    "fig9.update_layout(barmode='stack', xaxis = dict(title='Year', titlefont_size=20),\n",
    "                  yaxis = dict(title='Population', titlefont_size=20), title = \"Population of Italy\", titlefont_size=30)\n",
    "\n",
    "fig9.show()"
   ]
  },
  {
   "cell_type": "code",
   "execution_count": 21,
   "metadata": {},
   "outputs": [
    {
     "data": {
      "application/vnd.plotly.v1+json": {
       "config": {
        "plotlyServerURL": "https://plot.ly"
       },
       "data": [
        {
         "mode": "lines+markers",
         "name": "Female",
         "type": "scatter",
         "x": [
          1961,
          1962,
          1963,
          1964,
          1965,
          1966,
          1967,
          1968,
          1969,
          1970,
          1971,
          1972,
          1973,
          1974,
          1975,
          1976,
          1977,
          1978,
          1979,
          1980,
          1981,
          1982,
          1983,
          1984,
          1985,
          1986,
          1987,
          1988,
          1989,
          1990,
          1991,
          1992,
          1993,
          1994,
          1995,
          1996,
          1997,
          1998,
          1999,
          2000,
          2001,
          2002,
          2003,
          2004,
          2005,
          2006,
          2007,
          2008,
          2009,
          2010,
          2011,
          2012,
          2013,
          2014,
          2015,
          2016,
          2017,
          2018,
          2019
         ],
         "y": [
          66796030,
          67403904,
          68022910,
          68657512,
          69309485,
          69600772,
          69903772,
          70218208,
          70544418,
          70882181,
          71236341,
          71600962,
          71971605,
          72338525,
          72697052,
          73138343,
          73570204,
          73997784,
          74428151,
          74871110,
          75293024,
          75693627,
          76073678,
          76569238,
          77069777,
          77512558,
          77931654,
          78313902,
          78662015,
          78703457,
          78863097,
          78895470,
          78828710,
          78791977,
          78776519,
          78673971,
          78567094,
          78471510,
          78275119,
          78003730,
          77741908,
          77462311,
          77192724,
          76961036,
          76738888,
          76548836,
          76469027,
          76477539,
          76535797,
          76600057,
          76684367,
          76832143,
          77008973,
          77184758,
          77337012,
          77468056,
          77546481,
          77529366,
          77465163
         ]
        },
        {
         "mode": "lines+markers",
         "name": "Male",
         "type": "scatter",
         "x": [
          1961,
          1962,
          1963,
          1964,
          1965,
          1966,
          1967,
          1968,
          1969,
          1970,
          1971,
          1972,
          1973,
          1974,
          1975,
          1976,
          1977,
          1978,
          1979,
          1980,
          1981,
          1982,
          1983,
          1984,
          1985,
          1986,
          1987,
          1988,
          1989,
          1990,
          1991,
          1992,
          1993,
          1994,
          1995,
          1996,
          1997,
          1998,
          1999,
          2000,
          2001,
          2002,
          2003,
          2004,
          2005,
          2006,
          2007,
          2008,
          2009,
          2010,
          2011,
          2012,
          2013,
          2014,
          2015,
          2016,
          2017,
          2018,
          2019
         ],
         "y": [
          54439970,
          55187096,
          55937090,
          56687488,
          57435515,
          57867228,
          58292228,
          58709792,
          59119582,
          59521819,
          59918659,
          60308038,
          60697395,
          61093475,
          61502948,
          62008657,
          62529796,
          63062216,
          63598849,
          64138890,
          64647976,
          65129373,
          65594322,
          66175762,
          66788223,
          67381442,
          67976346,
          68543098,
          69058985,
          69265950,
          69531119,
          69642727,
          69630067,
          69615935,
          69599268,
          69486158,
          69348267,
          69199274,
          68939657,
          68593139,
          68234574,
          67844186,
          67455894,
          67106280,
          66779926,
          66500801,
          66336087,
          66264827,
          66249552,
          66249411,
          66276541,
          66369578,
          66498022,
          66634908,
          66759858,
          66874340,
          66950259,
          66948494,
          66908372
         ]
        }
       ],
       "layout": {
        "barmode": "stack",
        "template": {
         "data": {
          "bar": [
           {
            "error_x": {
             "color": "#2a3f5f"
            },
            "error_y": {
             "color": "#2a3f5f"
            },
            "marker": {
             "line": {
              "color": "#E5ECF6",
              "width": 0.5
             }
            },
            "type": "bar"
           }
          ],
          "barpolar": [
           {
            "marker": {
             "line": {
              "color": "#E5ECF6",
              "width": 0.5
             }
            },
            "type": "barpolar"
           }
          ],
          "carpet": [
           {
            "aaxis": {
             "endlinecolor": "#2a3f5f",
             "gridcolor": "white",
             "linecolor": "white",
             "minorgridcolor": "white",
             "startlinecolor": "#2a3f5f"
            },
            "baxis": {
             "endlinecolor": "#2a3f5f",
             "gridcolor": "white",
             "linecolor": "white",
             "minorgridcolor": "white",
             "startlinecolor": "#2a3f5f"
            },
            "type": "carpet"
           }
          ],
          "choropleth": [
           {
            "colorbar": {
             "outlinewidth": 0,
             "ticks": ""
            },
            "type": "choropleth"
           }
          ],
          "contour": [
           {
            "colorbar": {
             "outlinewidth": 0,
             "ticks": ""
            },
            "colorscale": [
             [
              0,
              "#0d0887"
             ],
             [
              0.1111111111111111,
              "#46039f"
             ],
             [
              0.2222222222222222,
              "#7201a8"
             ],
             [
              0.3333333333333333,
              "#9c179e"
             ],
             [
              0.4444444444444444,
              "#bd3786"
             ],
             [
              0.5555555555555556,
              "#d8576b"
             ],
             [
              0.6666666666666666,
              "#ed7953"
             ],
             [
              0.7777777777777778,
              "#fb9f3a"
             ],
             [
              0.8888888888888888,
              "#fdca26"
             ],
             [
              1,
              "#f0f921"
             ]
            ],
            "type": "contour"
           }
          ],
          "contourcarpet": [
           {
            "colorbar": {
             "outlinewidth": 0,
             "ticks": ""
            },
            "type": "contourcarpet"
           }
          ],
          "heatmap": [
           {
            "colorbar": {
             "outlinewidth": 0,
             "ticks": ""
            },
            "colorscale": [
             [
              0,
              "#0d0887"
             ],
             [
              0.1111111111111111,
              "#46039f"
             ],
             [
              0.2222222222222222,
              "#7201a8"
             ],
             [
              0.3333333333333333,
              "#9c179e"
             ],
             [
              0.4444444444444444,
              "#bd3786"
             ],
             [
              0.5555555555555556,
              "#d8576b"
             ],
             [
              0.6666666666666666,
              "#ed7953"
             ],
             [
              0.7777777777777778,
              "#fb9f3a"
             ],
             [
              0.8888888888888888,
              "#fdca26"
             ],
             [
              1,
              "#f0f921"
             ]
            ],
            "type": "heatmap"
           }
          ],
          "heatmapgl": [
           {
            "colorbar": {
             "outlinewidth": 0,
             "ticks": ""
            },
            "colorscale": [
             [
              0,
              "#0d0887"
             ],
             [
              0.1111111111111111,
              "#46039f"
             ],
             [
              0.2222222222222222,
              "#7201a8"
             ],
             [
              0.3333333333333333,
              "#9c179e"
             ],
             [
              0.4444444444444444,
              "#bd3786"
             ],
             [
              0.5555555555555556,
              "#d8576b"
             ],
             [
              0.6666666666666666,
              "#ed7953"
             ],
             [
              0.7777777777777778,
              "#fb9f3a"
             ],
             [
              0.8888888888888888,
              "#fdca26"
             ],
             [
              1,
              "#f0f921"
             ]
            ],
            "type": "heatmapgl"
           }
          ],
          "histogram": [
           {
            "marker": {
             "colorbar": {
              "outlinewidth": 0,
              "ticks": ""
             }
            },
            "type": "histogram"
           }
          ],
          "histogram2d": [
           {
            "colorbar": {
             "outlinewidth": 0,
             "ticks": ""
            },
            "colorscale": [
             [
              0,
              "#0d0887"
             ],
             [
              0.1111111111111111,
              "#46039f"
             ],
             [
              0.2222222222222222,
              "#7201a8"
             ],
             [
              0.3333333333333333,
              "#9c179e"
             ],
             [
              0.4444444444444444,
              "#bd3786"
             ],
             [
              0.5555555555555556,
              "#d8576b"
             ],
             [
              0.6666666666666666,
              "#ed7953"
             ],
             [
              0.7777777777777778,
              "#fb9f3a"
             ],
             [
              0.8888888888888888,
              "#fdca26"
             ],
             [
              1,
              "#f0f921"
             ]
            ],
            "type": "histogram2d"
           }
          ],
          "histogram2dcontour": [
           {
            "colorbar": {
             "outlinewidth": 0,
             "ticks": ""
            },
            "colorscale": [
             [
              0,
              "#0d0887"
             ],
             [
              0.1111111111111111,
              "#46039f"
             ],
             [
              0.2222222222222222,
              "#7201a8"
             ],
             [
              0.3333333333333333,
              "#9c179e"
             ],
             [
              0.4444444444444444,
              "#bd3786"
             ],
             [
              0.5555555555555556,
              "#d8576b"
             ],
             [
              0.6666666666666666,
              "#ed7953"
             ],
             [
              0.7777777777777778,
              "#fb9f3a"
             ],
             [
              0.8888888888888888,
              "#fdca26"
             ],
             [
              1,
              "#f0f921"
             ]
            ],
            "type": "histogram2dcontour"
           }
          ],
          "mesh3d": [
           {
            "colorbar": {
             "outlinewidth": 0,
             "ticks": ""
            },
            "type": "mesh3d"
           }
          ],
          "parcoords": [
           {
            "line": {
             "colorbar": {
              "outlinewidth": 0,
              "ticks": ""
             }
            },
            "type": "parcoords"
           }
          ],
          "pie": [
           {
            "automargin": true,
            "type": "pie"
           }
          ],
          "scatter": [
           {
            "marker": {
             "colorbar": {
              "outlinewidth": 0,
              "ticks": ""
             }
            },
            "type": "scatter"
           }
          ],
          "scatter3d": [
           {
            "line": {
             "colorbar": {
              "outlinewidth": 0,
              "ticks": ""
             }
            },
            "marker": {
             "colorbar": {
              "outlinewidth": 0,
              "ticks": ""
             }
            },
            "type": "scatter3d"
           }
          ],
          "scattercarpet": [
           {
            "marker": {
             "colorbar": {
              "outlinewidth": 0,
              "ticks": ""
             }
            },
            "type": "scattercarpet"
           }
          ],
          "scattergeo": [
           {
            "marker": {
             "colorbar": {
              "outlinewidth": 0,
              "ticks": ""
             }
            },
            "type": "scattergeo"
           }
          ],
          "scattergl": [
           {
            "marker": {
             "colorbar": {
              "outlinewidth": 0,
              "ticks": ""
             }
            },
            "type": "scattergl"
           }
          ],
          "scattermapbox": [
           {
            "marker": {
             "colorbar": {
              "outlinewidth": 0,
              "ticks": ""
             }
            },
            "type": "scattermapbox"
           }
          ],
          "scatterpolar": [
           {
            "marker": {
             "colorbar": {
              "outlinewidth": 0,
              "ticks": ""
             }
            },
            "type": "scatterpolar"
           }
          ],
          "scatterpolargl": [
           {
            "marker": {
             "colorbar": {
              "outlinewidth": 0,
              "ticks": ""
             }
            },
            "type": "scatterpolargl"
           }
          ],
          "scatterternary": [
           {
            "marker": {
             "colorbar": {
              "outlinewidth": 0,
              "ticks": ""
             }
            },
            "type": "scatterternary"
           }
          ],
          "surface": [
           {
            "colorbar": {
             "outlinewidth": 0,
             "ticks": ""
            },
            "colorscale": [
             [
              0,
              "#0d0887"
             ],
             [
              0.1111111111111111,
              "#46039f"
             ],
             [
              0.2222222222222222,
              "#7201a8"
             ],
             [
              0.3333333333333333,
              "#9c179e"
             ],
             [
              0.4444444444444444,
              "#bd3786"
             ],
             [
              0.5555555555555556,
              "#d8576b"
             ],
             [
              0.6666666666666666,
              "#ed7953"
             ],
             [
              0.7777777777777778,
              "#fb9f3a"
             ],
             [
              0.8888888888888888,
              "#fdca26"
             ],
             [
              1,
              "#f0f921"
             ]
            ],
            "type": "surface"
           }
          ],
          "table": [
           {
            "cells": {
             "fill": {
              "color": "#EBF0F8"
             },
             "line": {
              "color": "white"
             }
            },
            "header": {
             "fill": {
              "color": "#C8D4E3"
             },
             "line": {
              "color": "white"
             }
            },
            "type": "table"
           }
          ]
         },
         "layout": {
          "annotationdefaults": {
           "arrowcolor": "#2a3f5f",
           "arrowhead": 0,
           "arrowwidth": 1
          },
          "autotypenumbers": "strict",
          "coloraxis": {
           "colorbar": {
            "outlinewidth": 0,
            "ticks": ""
           }
          },
          "colorscale": {
           "diverging": [
            [
             0,
             "#8e0152"
            ],
            [
             0.1,
             "#c51b7d"
            ],
            [
             0.2,
             "#de77ae"
            ],
            [
             0.3,
             "#f1b6da"
            ],
            [
             0.4,
             "#fde0ef"
            ],
            [
             0.5,
             "#f7f7f7"
            ],
            [
             0.6,
             "#e6f5d0"
            ],
            [
             0.7,
             "#b8e186"
            ],
            [
             0.8,
             "#7fbc41"
            ],
            [
             0.9,
             "#4d9221"
            ],
            [
             1,
             "#276419"
            ]
           ],
           "sequential": [
            [
             0,
             "#0d0887"
            ],
            [
             0.1111111111111111,
             "#46039f"
            ],
            [
             0.2222222222222222,
             "#7201a8"
            ],
            [
             0.3333333333333333,
             "#9c179e"
            ],
            [
             0.4444444444444444,
             "#bd3786"
            ],
            [
             0.5555555555555556,
             "#d8576b"
            ],
            [
             0.6666666666666666,
             "#ed7953"
            ],
            [
             0.7777777777777778,
             "#fb9f3a"
            ],
            [
             0.8888888888888888,
             "#fdca26"
            ],
            [
             1,
             "#f0f921"
            ]
           ],
           "sequentialminus": [
            [
             0,
             "#0d0887"
            ],
            [
             0.1111111111111111,
             "#46039f"
            ],
            [
             0.2222222222222222,
             "#7201a8"
            ],
            [
             0.3333333333333333,
             "#9c179e"
            ],
            [
             0.4444444444444444,
             "#bd3786"
            ],
            [
             0.5555555555555556,
             "#d8576b"
            ],
            [
             0.6666666666666666,
             "#ed7953"
            ],
            [
             0.7777777777777778,
             "#fb9f3a"
            ],
            [
             0.8888888888888888,
             "#fdca26"
            ],
            [
             1,
             "#f0f921"
            ]
           ]
          },
          "colorway": [
           "#636efa",
           "#EF553B",
           "#00cc96",
           "#ab63fa",
           "#FFA15A",
           "#19d3f3",
           "#FF6692",
           "#B6E880",
           "#FF97FF",
           "#FECB52"
          ],
          "font": {
           "color": "#2a3f5f"
          },
          "geo": {
           "bgcolor": "white",
           "lakecolor": "white",
           "landcolor": "#E5ECF6",
           "showlakes": true,
           "showland": true,
           "subunitcolor": "white"
          },
          "hoverlabel": {
           "align": "left"
          },
          "hovermode": "closest",
          "mapbox": {
           "style": "light"
          },
          "paper_bgcolor": "white",
          "plot_bgcolor": "#E5ECF6",
          "polar": {
           "angularaxis": {
            "gridcolor": "white",
            "linecolor": "white",
            "ticks": ""
           },
           "bgcolor": "#E5ECF6",
           "radialaxis": {
            "gridcolor": "white",
            "linecolor": "white",
            "ticks": ""
           }
          },
          "scene": {
           "xaxis": {
            "backgroundcolor": "#E5ECF6",
            "gridcolor": "white",
            "gridwidth": 2,
            "linecolor": "white",
            "showbackground": true,
            "ticks": "",
            "zerolinecolor": "white"
           },
           "yaxis": {
            "backgroundcolor": "#E5ECF6",
            "gridcolor": "white",
            "gridwidth": 2,
            "linecolor": "white",
            "showbackground": true,
            "ticks": "",
            "zerolinecolor": "white"
           },
           "zaxis": {
            "backgroundcolor": "#E5ECF6",
            "gridcolor": "white",
            "gridwidth": 2,
            "linecolor": "white",
            "showbackground": true,
            "ticks": "",
            "zerolinecolor": "white"
           }
          },
          "shapedefaults": {
           "line": {
            "color": "#2a3f5f"
           }
          },
          "ternary": {
           "aaxis": {
            "gridcolor": "white",
            "linecolor": "white",
            "ticks": ""
           },
           "baxis": {
            "gridcolor": "white",
            "linecolor": "white",
            "ticks": ""
           },
           "bgcolor": "#E5ECF6",
           "caxis": {
            "gridcolor": "white",
            "linecolor": "white",
            "ticks": ""
           }
          },
          "title": {
           "x": 0.05
          },
          "xaxis": {
           "automargin": true,
           "gridcolor": "white",
           "linecolor": "white",
           "ticks": "",
           "title": {
            "standoff": 15
           },
           "zerolinecolor": "white",
           "zerolinewidth": 2
          },
          "yaxis": {
           "automargin": true,
           "gridcolor": "white",
           "linecolor": "white",
           "ticks": "",
           "title": {
            "standoff": 15
           },
           "zerolinecolor": "white",
           "zerolinewidth": 2
          }
         }
        },
        "title": {
         "font": {
          "size": 30
         },
         "text": "Population of Russia"
        },
        "xaxis": {
         "title": {
          "font": {
           "size": 20
          },
          "text": "Year"
         }
        },
        "yaxis": {
         "title": {
          "font": {
           "size": 20
          },
          "text": "Population"
         }
        }
       }
      },
      "text/html": [
       "<div>                            <div id=\"4ec75efd-4b33-4fe4-9d88-e7024bfe9dcf\" class=\"plotly-graph-div\" style=\"height:525px; width:100%;\"></div>            <script type=\"text/javascript\">                require([\"plotly\"], function(Plotly) {                    window.PLOTLYENV=window.PLOTLYENV || {};                                    if (document.getElementById(\"4ec75efd-4b33-4fe4-9d88-e7024bfe9dcf\")) {                    Plotly.newPlot(                        \"4ec75efd-4b33-4fe4-9d88-e7024bfe9dcf\",                        [{\"mode\": \"lines+markers\", \"name\": \"Female\", \"type\": \"scatter\", \"x\": [1961, 1962, 1963, 1964, 1965, 1966, 1967, 1968, 1969, 1970, 1971, 1972, 1973, 1974, 1975, 1976, 1977, 1978, 1979, 1980, 1981, 1982, 1983, 1984, 1985, 1986, 1987, 1988, 1989, 1990, 1991, 1992, 1993, 1994, 1995, 1996, 1997, 1998, 1999, 2000, 2001, 2002, 2003, 2004, 2005, 2006, 2007, 2008, 2009, 2010, 2011, 2012, 2013, 2014, 2015, 2016, 2017, 2018, 2019], \"y\": [66796030.0, 67403904.0, 68022910.0, 68657512.0, 69309485.0, 69600772.0, 69903772.0, 70218208.0, 70544418.0, 70882181.0, 71236341.0, 71600962.0, 71971605.0, 72338525.0, 72697052.0, 73138343.0, 73570204.0, 73997784.0, 74428151.0, 74871110.0, 75293024.0, 75693627.0, 76073678.0, 76569238.0, 77069777.0, 77512558.0, 77931654.0, 78313902.0, 78662015.0, 78703457.0, 78863097.0, 78895470.0, 78828710.0, 78791977.0, 78776519.0, 78673971.0, 78567094.0, 78471510.0, 78275119.0, 78003730.0, 77741908.0, 77462311.0, 77192724.0, 76961036.0, 76738888.0, 76548836.0, 76469027.0, 76477539.0, 76535797.0, 76600057.0, 76684367.0, 76832143.0, 77008973.0, 77184758.0, 77337012.0, 77468056.0, 77546481.0, 77529366.0, 77465163.0]}, {\"mode\": \"lines+markers\", \"name\": \"Male\", \"type\": \"scatter\", \"x\": [1961, 1962, 1963, 1964, 1965, 1966, 1967, 1968, 1969, 1970, 1971, 1972, 1973, 1974, 1975, 1976, 1977, 1978, 1979, 1980, 1981, 1982, 1983, 1984, 1985, 1986, 1987, 1988, 1989, 1990, 1991, 1992, 1993, 1994, 1995, 1996, 1997, 1998, 1999, 2000, 2001, 2002, 2003, 2004, 2005, 2006, 2007, 2008, 2009, 2010, 2011, 2012, 2013, 2014, 2015, 2016, 2017, 2018, 2019], \"y\": [54439970.0, 55187096.0, 55937090.0, 56687488.0, 57435515.0, 57867228.0, 58292228.0, 58709792.0, 59119582.0, 59521819.0, 59918659.0, 60308038.0, 60697395.0, 61093475.0, 61502948.0, 62008657.0, 62529796.0, 63062216.0, 63598849.0, 64138890.0, 64647976.0, 65129373.0, 65594322.0, 66175762.0, 66788223.0, 67381442.0, 67976346.0, 68543098.0, 69058985.0, 69265950.0, 69531119.0, 69642727.0, 69630067.0, 69615935.0, 69599268.0, 69486158.0, 69348267.0, 69199274.0, 68939657.0, 68593139.0, 68234574.0, 67844186.0, 67455894.0, 67106280.0, 66779926.0, 66500801.0, 66336087.0, 66264827.0, 66249552.0, 66249411.0, 66276541.0, 66369578.0, 66498022.0, 66634908.0, 66759858.0, 66874340.0, 66950259.0, 66948494.0, 66908372.0]}],                        {\"barmode\": \"stack\", \"template\": {\"data\": {\"bar\": [{\"error_x\": {\"color\": \"#2a3f5f\"}, \"error_y\": {\"color\": \"#2a3f5f\"}, \"marker\": {\"line\": {\"color\": \"#E5ECF6\", \"width\": 0.5}}, \"type\": \"bar\"}], \"barpolar\": [{\"marker\": {\"line\": {\"color\": \"#E5ECF6\", \"width\": 0.5}}, \"type\": \"barpolar\"}], \"carpet\": [{\"aaxis\": {\"endlinecolor\": \"#2a3f5f\", \"gridcolor\": \"white\", \"linecolor\": \"white\", \"minorgridcolor\": \"white\", \"startlinecolor\": \"#2a3f5f\"}, \"baxis\": {\"endlinecolor\": \"#2a3f5f\", \"gridcolor\": \"white\", \"linecolor\": \"white\", \"minorgridcolor\": \"white\", \"startlinecolor\": \"#2a3f5f\"}, \"type\": \"carpet\"}], \"choropleth\": [{\"colorbar\": {\"outlinewidth\": 0, \"ticks\": \"\"}, \"type\": \"choropleth\"}], \"contour\": [{\"colorbar\": {\"outlinewidth\": 0, \"ticks\": \"\"}, \"colorscale\": [[0.0, \"#0d0887\"], [0.1111111111111111, \"#46039f\"], [0.2222222222222222, \"#7201a8\"], [0.3333333333333333, \"#9c179e\"], [0.4444444444444444, \"#bd3786\"], [0.5555555555555556, \"#d8576b\"], [0.6666666666666666, \"#ed7953\"], [0.7777777777777778, \"#fb9f3a\"], [0.8888888888888888, \"#fdca26\"], [1.0, \"#f0f921\"]], \"type\": \"contour\"}], \"contourcarpet\": [{\"colorbar\": {\"outlinewidth\": 0, \"ticks\": \"\"}, \"type\": \"contourcarpet\"}], \"heatmap\": [{\"colorbar\": {\"outlinewidth\": 0, \"ticks\": \"\"}, \"colorscale\": [[0.0, \"#0d0887\"], [0.1111111111111111, \"#46039f\"], [0.2222222222222222, \"#7201a8\"], [0.3333333333333333, \"#9c179e\"], [0.4444444444444444, \"#bd3786\"], [0.5555555555555556, \"#d8576b\"], [0.6666666666666666, \"#ed7953\"], [0.7777777777777778, \"#fb9f3a\"], [0.8888888888888888, \"#fdca26\"], [1.0, \"#f0f921\"]], \"type\": \"heatmap\"}], \"heatmapgl\": [{\"colorbar\": {\"outlinewidth\": 0, \"ticks\": \"\"}, \"colorscale\": [[0.0, \"#0d0887\"], [0.1111111111111111, \"#46039f\"], [0.2222222222222222, \"#7201a8\"], [0.3333333333333333, \"#9c179e\"], [0.4444444444444444, \"#bd3786\"], [0.5555555555555556, \"#d8576b\"], [0.6666666666666666, \"#ed7953\"], [0.7777777777777778, \"#fb9f3a\"], [0.8888888888888888, \"#fdca26\"], [1.0, \"#f0f921\"]], \"type\": \"heatmapgl\"}], \"histogram\": [{\"marker\": {\"colorbar\": {\"outlinewidth\": 0, \"ticks\": \"\"}}, \"type\": \"histogram\"}], \"histogram2d\": [{\"colorbar\": {\"outlinewidth\": 0, \"ticks\": \"\"}, \"colorscale\": [[0.0, \"#0d0887\"], [0.1111111111111111, \"#46039f\"], [0.2222222222222222, \"#7201a8\"], [0.3333333333333333, \"#9c179e\"], [0.4444444444444444, \"#bd3786\"], [0.5555555555555556, \"#d8576b\"], [0.6666666666666666, \"#ed7953\"], [0.7777777777777778, \"#fb9f3a\"], [0.8888888888888888, \"#fdca26\"], [1.0, \"#f0f921\"]], \"type\": \"histogram2d\"}], \"histogram2dcontour\": [{\"colorbar\": {\"outlinewidth\": 0, \"ticks\": \"\"}, \"colorscale\": [[0.0, \"#0d0887\"], [0.1111111111111111, \"#46039f\"], [0.2222222222222222, \"#7201a8\"], [0.3333333333333333, \"#9c179e\"], [0.4444444444444444, \"#bd3786\"], [0.5555555555555556, \"#d8576b\"], [0.6666666666666666, \"#ed7953\"], [0.7777777777777778, \"#fb9f3a\"], [0.8888888888888888, \"#fdca26\"], [1.0, \"#f0f921\"]], \"type\": \"histogram2dcontour\"}], \"mesh3d\": [{\"colorbar\": {\"outlinewidth\": 0, \"ticks\": \"\"}, \"type\": \"mesh3d\"}], \"parcoords\": [{\"line\": {\"colorbar\": {\"outlinewidth\": 0, \"ticks\": \"\"}}, \"type\": \"parcoords\"}], \"pie\": [{\"automargin\": true, \"type\": \"pie\"}], \"scatter\": [{\"marker\": {\"colorbar\": {\"outlinewidth\": 0, \"ticks\": \"\"}}, \"type\": \"scatter\"}], \"scatter3d\": [{\"line\": {\"colorbar\": {\"outlinewidth\": 0, \"ticks\": \"\"}}, \"marker\": {\"colorbar\": {\"outlinewidth\": 0, \"ticks\": \"\"}}, \"type\": \"scatter3d\"}], \"scattercarpet\": [{\"marker\": {\"colorbar\": {\"outlinewidth\": 0, \"ticks\": \"\"}}, \"type\": \"scattercarpet\"}], \"scattergeo\": [{\"marker\": {\"colorbar\": {\"outlinewidth\": 0, \"ticks\": \"\"}}, \"type\": \"scattergeo\"}], \"scattergl\": [{\"marker\": {\"colorbar\": {\"outlinewidth\": 0, \"ticks\": \"\"}}, \"type\": \"scattergl\"}], \"scattermapbox\": [{\"marker\": {\"colorbar\": {\"outlinewidth\": 0, \"ticks\": \"\"}}, \"type\": \"scattermapbox\"}], \"scatterpolar\": [{\"marker\": {\"colorbar\": {\"outlinewidth\": 0, \"ticks\": \"\"}}, \"type\": \"scatterpolar\"}], \"scatterpolargl\": [{\"marker\": {\"colorbar\": {\"outlinewidth\": 0, \"ticks\": \"\"}}, \"type\": \"scatterpolargl\"}], \"scatterternary\": [{\"marker\": {\"colorbar\": {\"outlinewidth\": 0, \"ticks\": \"\"}}, \"type\": \"scatterternary\"}], \"surface\": [{\"colorbar\": {\"outlinewidth\": 0, \"ticks\": \"\"}, \"colorscale\": [[0.0, \"#0d0887\"], [0.1111111111111111, \"#46039f\"], [0.2222222222222222, \"#7201a8\"], [0.3333333333333333, \"#9c179e\"], [0.4444444444444444, \"#bd3786\"], [0.5555555555555556, \"#d8576b\"], [0.6666666666666666, \"#ed7953\"], [0.7777777777777778, \"#fb9f3a\"], [0.8888888888888888, \"#fdca26\"], [1.0, \"#f0f921\"]], \"type\": \"surface\"}], \"table\": [{\"cells\": {\"fill\": {\"color\": \"#EBF0F8\"}, \"line\": {\"color\": \"white\"}}, \"header\": {\"fill\": {\"color\": \"#C8D4E3\"}, \"line\": {\"color\": \"white\"}}, \"type\": \"table\"}]}, \"layout\": {\"annotationdefaults\": {\"arrowcolor\": \"#2a3f5f\", \"arrowhead\": 0, \"arrowwidth\": 1}, \"autotypenumbers\": \"strict\", \"coloraxis\": {\"colorbar\": {\"outlinewidth\": 0, \"ticks\": \"\"}}, \"colorscale\": {\"diverging\": [[0, \"#8e0152\"], [0.1, \"#c51b7d\"], [0.2, \"#de77ae\"], [0.3, \"#f1b6da\"], [0.4, \"#fde0ef\"], [0.5, \"#f7f7f7\"], [0.6, \"#e6f5d0\"], [0.7, \"#b8e186\"], [0.8, \"#7fbc41\"], [0.9, \"#4d9221\"], [1, \"#276419\"]], \"sequential\": [[0.0, \"#0d0887\"], [0.1111111111111111, \"#46039f\"], [0.2222222222222222, \"#7201a8\"], [0.3333333333333333, \"#9c179e\"], [0.4444444444444444, \"#bd3786\"], [0.5555555555555556, \"#d8576b\"], [0.6666666666666666, \"#ed7953\"], [0.7777777777777778, \"#fb9f3a\"], [0.8888888888888888, \"#fdca26\"], [1.0, \"#f0f921\"]], \"sequentialminus\": [[0.0, \"#0d0887\"], [0.1111111111111111, \"#46039f\"], [0.2222222222222222, \"#7201a8\"], [0.3333333333333333, \"#9c179e\"], [0.4444444444444444, \"#bd3786\"], [0.5555555555555556, \"#d8576b\"], [0.6666666666666666, \"#ed7953\"], [0.7777777777777778, \"#fb9f3a\"], [0.8888888888888888, \"#fdca26\"], [1.0, \"#f0f921\"]]}, \"colorway\": [\"#636efa\", \"#EF553B\", \"#00cc96\", \"#ab63fa\", \"#FFA15A\", \"#19d3f3\", \"#FF6692\", \"#B6E880\", \"#FF97FF\", \"#FECB52\"], \"font\": {\"color\": \"#2a3f5f\"}, \"geo\": {\"bgcolor\": \"white\", \"lakecolor\": \"white\", \"landcolor\": \"#E5ECF6\", \"showlakes\": true, \"showland\": true, \"subunitcolor\": \"white\"}, \"hoverlabel\": {\"align\": \"left\"}, \"hovermode\": \"closest\", \"mapbox\": {\"style\": \"light\"}, \"paper_bgcolor\": \"white\", \"plot_bgcolor\": \"#E5ECF6\", \"polar\": {\"angularaxis\": {\"gridcolor\": \"white\", \"linecolor\": \"white\", \"ticks\": \"\"}, \"bgcolor\": \"#E5ECF6\", \"radialaxis\": {\"gridcolor\": \"white\", \"linecolor\": \"white\", \"ticks\": \"\"}}, \"scene\": {\"xaxis\": {\"backgroundcolor\": \"#E5ECF6\", \"gridcolor\": \"white\", \"gridwidth\": 2, \"linecolor\": \"white\", \"showbackground\": true, \"ticks\": \"\", \"zerolinecolor\": \"white\"}, \"yaxis\": {\"backgroundcolor\": \"#E5ECF6\", \"gridcolor\": \"white\", \"gridwidth\": 2, \"linecolor\": \"white\", \"showbackground\": true, \"ticks\": \"\", \"zerolinecolor\": \"white\"}, \"zaxis\": {\"backgroundcolor\": \"#E5ECF6\", \"gridcolor\": \"white\", \"gridwidth\": 2, \"linecolor\": \"white\", \"showbackground\": true, \"ticks\": \"\", \"zerolinecolor\": \"white\"}}, \"shapedefaults\": {\"line\": {\"color\": \"#2a3f5f\"}}, \"ternary\": {\"aaxis\": {\"gridcolor\": \"white\", \"linecolor\": \"white\", \"ticks\": \"\"}, \"baxis\": {\"gridcolor\": \"white\", \"linecolor\": \"white\", \"ticks\": \"\"}, \"bgcolor\": \"#E5ECF6\", \"caxis\": {\"gridcolor\": \"white\", \"linecolor\": \"white\", \"ticks\": \"\"}}, \"title\": {\"x\": 0.05}, \"xaxis\": {\"automargin\": true, \"gridcolor\": \"white\", \"linecolor\": \"white\", \"ticks\": \"\", \"title\": {\"standoff\": 15}, \"zerolinecolor\": \"white\", \"zerolinewidth\": 2}, \"yaxis\": {\"automargin\": true, \"gridcolor\": \"white\", \"linecolor\": \"white\", \"ticks\": \"\", \"title\": {\"standoff\": 15}, \"zerolinecolor\": \"white\", \"zerolinewidth\": 2}}}, \"title\": {\"font\": {\"size\": 30}, \"text\": \"Population of Russia\"}, \"xaxis\": {\"title\": {\"font\": {\"size\": 20}, \"text\": \"Year\"}}, \"yaxis\": {\"title\": {\"font\": {\"size\": 20}, \"text\": \"Population\"}}},                        {\"responsive\": true}                    ).then(function(){\n",
       "                            \n",
       "var gd = document.getElementById('4ec75efd-4b33-4fe4-9d88-e7024bfe9dcf');\n",
       "var x = new MutationObserver(function (mutations, observer) {{\n",
       "        var display = window.getComputedStyle(gd).display;\n",
       "        if (!display || display === 'none') {{\n",
       "            console.log([gd, 'removed!']);\n",
       "            Plotly.purge(gd);\n",
       "            observer.disconnect();\n",
       "        }}\n",
       "}});\n",
       "\n",
       "// Listen for the removal of the full notebook cells\n",
       "var notebookContainer = gd.closest('#notebook-container');\n",
       "if (notebookContainer) {{\n",
       "    x.observe(notebookContainer, {childList: true});\n",
       "}}\n",
       "\n",
       "// Listen for the clearing of the current output cell\n",
       "var outputEl = gd.closest('.output');\n",
       "if (outputEl) {{\n",
       "    x.observe(outputEl, {childList: true});\n",
       "}}\n",
       "\n",
       "                        })                };                });            </script>        </div>"
      ]
     },
     "metadata": {},
     "output_type": "display_data"
    }
   ],
   "source": [
    "fig10 = go.Figure()\n",
    "\n",
    "# Add traces\n",
    "fig10.add_trace(go.Scatter(x=x, y=russia_fe_population,\n",
    "                    mode='lines+markers',\n",
    "                    name='Female'))\n",
    "fig10.add_trace(go.Scatter(x=x, y=russia_ma_population,\n",
    "                    mode='lines+markers',\n",
    "                    name='Male'))\n",
    "fig10.update_layout(barmode='stack', xaxis = dict(title='Year', titlefont_size=20),\n",
    "                  yaxis = dict(title='Population', titlefont_size=20), title = \"Population of Russia\", titlefont_size=30)\n",
    "\n",
    "fig10.show()"
   ]
  }
 ],
 "metadata": {
  "history": [
   {
    "code": "import plotly.graph_objects as go\nfig = go.FigureWidget(data=go.Bar(y=[2, 3, 1]))\nfig",
    "id": "f3e96be57b294bd1825f4488bac7d958",
    "idx": 0,
    "time": "2021-02-01T23:08:39.356Z",
    "type": "execution"
   },
   {
    "id": "f3e96be57b294bd1825f4488bac7d958",
    "time": "2021-02-01T23:08:40.491Z",
    "type": "completion"
   },
   {
    "code": "import plotly.graph_objects as go\n\nx=['b', 'a', 'c', 'd']\nfig = go.Figure(go.Bar(x=x, y=[2,5,1,9], name='Montreal'))\nfig.add_trace(go.Bar(x=x, y=[1, 4, 9, 16], name='Ottawa'))\nfig.add_trace(go.Bar(x=x, y=[6, 8, 4.5, 8], name='Toronto'))\n\nfig.update_layout(barmode='stack', xaxis={'categoryorder':'total descending'})\nfig.show()",
    "id": "f3e96be57b294bd1825f4488bac7d958",
    "idx": 0,
    "time": "2021-02-01T23:13:52.648Z",
    "type": "execution"
   },
   {
    "id": "f3e96be57b294bd1825f4488bac7d958",
    "time": "2021-02-01T23:13:54.779Z",
    "type": "completion"
   },
   {
    "code": "import plotly.graph_objects as go\n\nx=['1977', '1978', '1979', 'd']\nfig = go.Figure(go.Bar(x=x, y=[2,5,1,9], name='Montreal'))\nfig.add_trace(go.Bar(x=x, y=[1, 4, 9, 16], name='Ottawa'))\nfig.add_trace(go.Bar(x=x, y=[6, 8, 4.5, 8], name='Toronto'))\n\nfig.update_layout(barmode='stack', xaxis={'categoryorder':'total descending'})\nfig.show()",
    "id": "f3e96be57b294bd1825f4488bac7d958",
    "idx": 0,
    "time": "2021-02-01T23:32:24.196Z",
    "type": "execution"
   },
   {
    "id": "f3e96be57b294bd1825f4488bac7d958",
    "time": "2021-02-01T23:32:24.343Z",
    "type": "completion"
   },
   {
    "code": "import plotly.graph_objects as go\n\nx=['1981', '1980', '1979', '1978']\nfig = go.Figure(go.Bar(x=x, y=[2,5,1,9], name='Montreal'))\nfig.add_trace(go.Bar(x=x, y=[1, 4, 9, 16], name='Ottawa'))\nfig.add_trace(go.Bar(x=x, y=[6, 8, 4.5, 8], name='Toronto'))\n\nfig.update_layout(barmode='stack', xaxis={'categoryorder':'total descending'})\nfig.show()",
    "id": "f3e96be57b294bd1825f4488bac7d958",
    "idx": 0,
    "time": "2021-02-01T23:32:43.247Z",
    "type": "execution"
   },
   {
    "id": "f3e96be57b294bd1825f4488bac7d958",
    "time": "2021-02-01T23:32:43.373Z",
    "type": "completion"
   },
   {
    "code": "import plotly.graph_objects as go\n\nx=['1981', '1980', '1979', '1978', '1977']\nfig = go.Figure(go.Bar(x=x, y=[2,5,1,9], name='Female'))\nfig.add_trace(go.Bar(x=x, y=[1, 4, 9, 16], name='Male'))\n\nfig.update_layout(barmode='stack')\nfig.show()",
    "id": "f3e96be57b294bd1825f4488bac7d958",
    "idx": 0,
    "time": "2021-02-01T23:33:11.743Z",
    "type": "execution"
   },
   {
    "id": "f3e96be57b294bd1825f4488bac7d958",
    "time": "2021-02-01T23:33:11.969Z",
    "type": "completion"
   },
   {
    "code": "import plotly.graph_objects as go\n\nx=['1977', '1978', '1979', '1980', '1981']\nfig = go.Figure(go.Bar(x=x, y=[57.65, 58.18, 58.67, 59.13, 59.57], name='Female'))\nfig.add_trace(go.Bar(x=x, y=[56.21, 56.72, 57.20, 57.65, 58.07], name='Male'))\n\nfig.update_layout(barmode='stack')\nfig.show()",
    "id": "f3e96be57b294bd1825f4488bac7d958",
    "idx": 0,
    "time": "2021-02-01T23:37:08.007Z",
    "type": "execution"
   },
   {
    "id": "f3e96be57b294bd1825f4488bac7d958",
    "time": "2021-02-01T23:37:08.147Z",
    "type": "completion"
   },
   {
    "code": "import plotly.graph_objects as go\n\nx=['1977', '1978', '1979', '1980', '1981']\nfig = go.Figure(go.Bar(x=x, y=[459.29, 465.46, 471.70, 477.66, 483.84], name='Female'))\nfig.add_trace(go.Bar(x=x, y=[484.16, 490.70, 497.30, 503.58, 510.05], name='Male'))\n\nfig.update_layout(barmode='stack')\nfig.show()",
    "id": "f3e96be57b294bd1825f4488bac7d958",
    "idx": 0,
    "time": "2021-02-01T23:54:53.711Z",
    "type": "execution"
   },
   {
    "id": "f3e96be57b294bd1825f4488bac7d958",
    "time": "2021-02-01T23:54:53.839Z",
    "type": "completion"
   },
   {
    "code": "import plotly.graph_objects as go\nimport numpy as np\n\nx=[np.arange(1, 5)]\nfig = go.Figure(go.Bar(x=x, y=[459.29, 465.46, 471.70, 477.66, 483.84], name='Female'))\nfig.add_trace(go.Bar(x=x, y=[484.16, 490.70, 497.30, 503.58, 510.05], name='Male'))\n\nfig.update_layout(barmode='stack')\nfig.show()",
    "id": "f3e96be57b294bd1825f4488bac7d958",
    "idx": 0,
    "time": "2021-02-02T00:16:23.703Z",
    "type": "execution"
   },
   {
    "id": "f3e96be57b294bd1825f4488bac7d958",
    "time": "2021-02-02T00:16:23.840Z",
    "type": "completion"
   },
   {
    "code": "import plotly.graph_objects as go\nimport numpy as np\n\nx=np.arange(1, 5)\nfig = go.Figure(go.Bar(x=x, y=[459.29, 465.46, 471.70, 477.66, 483.84], name='Female'))\nfig.add_trace(go.Bar(x=x, y=[484.16, 490.70, 497.30, 503.58, 510.05], name='Male'))\n\nfig.update_layout(barmode='stack')\nfig.show()",
    "id": "f3e96be57b294bd1825f4488bac7d958",
    "idx": 0,
    "time": "2021-02-02T00:16:31.107Z",
    "type": "execution"
   },
   {
    "id": "f3e96be57b294bd1825f4488bac7d958",
    "time": "2021-02-02T00:16:31.238Z",
    "type": "completion"
   },
   {
    "code": "import plotly.graph_objects as go\nimport numpy as np\n\nx=np.arange(1, 5, 1)\nfig = go.Figure(go.Bar(x=x, y=[459.29, 465.46, 471.70, 477.66, 483.84], name='Female'))\nfig.add_trace(go.Bar(x=x, y=[484.16, 490.70, 497.30, 503.58, 510.05], name='Male'))\n\nfig.update_layout(barmode='stack')\nfig.show()",
    "id": "f3e96be57b294bd1825f4488bac7d958",
    "idx": 0,
    "time": "2021-02-02T00:16:36.289Z",
    "type": "execution"
   },
   {
    "id": "f3e96be57b294bd1825f4488bac7d958",
    "time": "2021-02-02T00:16:36.414Z",
    "type": "completion"
   },
   {
    "code": "import plotly.graph_objects as go\nimport numpy as np\n\nx=np.arange(1.0, 5, 1)\nfig = go.Figure(go.Bar(x=x, y=[459.29, 465.46, 471.70, 477.66, 483.84], name='Female'))\nfig.add_trace(go.Bar(x=x, y=[484.16, 490.70, 497.30, 503.58, 510.05], name='Male'))\n\nfig.update_layout(barmode='stack')\nfig.show()",
    "id": "f3e96be57b294bd1825f4488bac7d958",
    "idx": 0,
    "time": "2021-02-02T00:16:45.153Z",
    "type": "execution"
   },
   {
    "id": "f3e96be57b294bd1825f4488bac7d958",
    "time": "2021-02-02T00:16:45.278Z",
    "type": "completion"
   },
   {
    "code": "import plotly.graph_objects as go\nimport numpy as np\n\nx=np.arange(1, 5, 2)\nfig = go.Figure(go.Bar(x=x, y=[459.29, 465.46, 471.70, 477.66, 483.84], name='Female'))\nfig.add_trace(go.Bar(x=x, y=[484.16, 490.70, 497.30, 503.58, 510.05], name='Male'))\n\nfig.update_layout(barmode='stack')\nfig.show()",
    "id": "f3e96be57b294bd1825f4488bac7d958",
    "idx": 0,
    "time": "2021-02-02T00:16:55.369Z",
    "type": "execution"
   },
   {
    "id": "f3e96be57b294bd1825f4488bac7d958",
    "time": "2021-02-02T00:16:55.504Z",
    "type": "completion"
   },
   {
    "code": "import plotly.graph_objects as go\nimport numpy as np\n\nx=np.arange(1, 10, 2)\nfig = go.Figure(go.Bar(x=x, y=[459.29, 465.46, 471.70, 477.66, 483.84], name='Female'))\nfig.add_trace(go.Bar(x=x, y=[484.16, 490.70, 497.30, 503.58, 510.05], name='Male'))\n\nfig.update_layout(barmode='stack')\nfig.show()",
    "id": "f3e96be57b294bd1825f4488bac7d958",
    "idx": 0,
    "time": "2021-02-02T00:17:03.729Z",
    "type": "execution"
   },
   {
    "id": "f3e96be57b294bd1825f4488bac7d958",
    "time": "2021-02-02T00:17:03.861Z",
    "type": "completion"
   },
   {
    "code": "import plotly.graph_objects as go\nimport numpy as np\n\nx=np.arange(1977, 1980)\nfig = go.Figure(go.Bar(x=x, y=[459.29, 465.46, 471.70, 477.66, 483.84], name='Female'))\nfig.add_trace(go.Bar(x=x, y=[484.16, 490.70, 497.30, 503.58, 510.05], name='Male'))\n\nfig.update_layout(barmode='stack')\nfig.show()",
    "id": "f3e96be57b294bd1825f4488bac7d958",
    "idx": 0,
    "time": "2021-02-02T00:17:13.441Z",
    "type": "execution"
   },
   {
    "id": "f3e96be57b294bd1825f4488bac7d958",
    "time": "2021-02-02T00:17:13.568Z",
    "type": "completion"
   },
   {
    "code": "import plotly.graph_objects as go\nimport numpy as np\n\nx=np.arange(1977, 1981, 1)\nfig = go.Figure(go.Bar(x=x, y=[459.29, 465.46, 471.70, 477.66, 483.84], name='Female'))\nfig.add_trace(go.Bar(x=x, y=[484.16, 490.70, 497.30, 503.58, 510.05], name='Male'))\n\nfig.update_layout(barmode='stack')\nfig.show()",
    "id": "f3e96be57b294bd1825f4488bac7d958",
    "idx": 0,
    "time": "2021-02-02T00:17:17.577Z",
    "type": "execution"
   },
   {
    "id": "f3e96be57b294bd1825f4488bac7d958",
    "time": "2021-02-02T00:17:17.702Z",
    "type": "completion"
   },
   {
    "code": "import plotly.graph_objects as go\nimport numpy as np\n\nx=np.arange(1960, 2020, 10)\nfig = go.Figure(go.Bar(x=x, y=[459.29, 465.46, 471.70, 477.66, 483.84], name='Female'))\nfig.add_trace(go.Bar(x=x, y=[484.16, 490.70, 497.30, 503.58, 510.05], name='Male'))\n\nfig.update_layout(barmode='stack')\nfig.show()",
    "id": "f3e96be57b294bd1825f4488bac7d958",
    "idx": 0,
    "time": "2021-02-02T00:17:30.985Z",
    "type": "execution"
   },
   {
    "id": "f3e96be57b294bd1825f4488bac7d958",
    "time": "2021-02-02T00:17:31.113Z",
    "type": "completion"
   },
   {
    "code": "import plotly.graph_objects as go\nimport numpy as np\n\nchina_fe_population = [\n680596325.0, 677972245.0, 674707818.0, 670780903.0, 667009225.0, 663493378.0, 660023537.0, 656677290.0, 653422748.0, 650275748.0,\n647159372.0, 644001246.0, 640793072.0, 637560457.0, 634130240.0, 630545489.0, 626956157.0, 623205125.0, 619165993.0, 614775825.0,\n610004104.0, 604764109.0, 598982994.0, 592868311.0, 586672507.0, 580322015.0, 573790071.0, 567224558.0, 560312586.0, 552721134.0,\n544679377.0, 536408672.0, 527858967.0, 519471732.0, 511798492.0, 504855230.0, 498238544.0, 491049203.0, 483835348.0, 477656979.0,\n471700516.0, 465460554.0, 459292487.0, 453096478.0, 446155493.0, 438355316.0, 429398133.0, 419696503.0, 409475913.0, 398315770.0,\n387362696.0, 376753699.0, 366879507.0, 357394687.0, 347401432.0, 339068212.0, 331140640.0, 322953588.0, 320153437.0]\n\nx=np.arange(1960, 2020, 10)\nfig = go.Figure(go.Bar(x=x, y=china_fe_population, name='Female'))\nfig.add_trace(go.Bar(x=x, y=[484.16, 490.70, 497.30, 503.58, 510.05], name='Male'))\n\nfig.update_layout(barmode='stack')\nfig.show()",
    "id": "f3e96be57b294bd1825f4488bac7d958",
    "idx": 0,
    "time": "2021-02-02T00:21:12.607Z",
    "type": "execution"
   },
   {
    "id": "f3e96be57b294bd1825f4488bac7d958",
    "time": "2021-02-02T00:21:12.805Z",
    "type": "completion"
   },
   {
    "code": "import plotly.graph_objects as go\nimport numpy as np\n\nchina_fe_population = [\n680596325.0, 677972245.0, 674707818.0, 670780903.0, 667009225.0, 663493378.0, 660023537.0, 656677290.0, 653422748.0, 650275748.0,\n647159372.0, 644001246.0, 640793072.0, 637560457.0, 634130240.0, 630545489.0, 626956157.0, 623205125.0, 619165993.0, 614775825.0,\n610004104.0, 604764109.0, 598982994.0, 592868311.0, 586672507.0, 580322015.0, 573790071.0, 567224558.0, 560312586.0, 552721134.0,\n544679377.0, 536408672.0, 527858967.0, 519471732.0, 511798492.0, 504855230.0, 498238544.0, 491049203.0, 483835348.0, 477656979.0,\n471700516.0, 465460554.0, 459292487.0, 453096478.0, 446155493.0, 438355316.0, 429398133.0, 419696503.0, 409475913.0, 398315770.0,\n387362696.0, 376753699.0, 366879507.0, 357394687.0, 347401432.0, 339068212.0, 331140640.0, 322953588.0, 320153437.0]\n\nx=[np.arange(1960, 2020, 10)]\nfig = go.Figure(go.Bar(x=x, y=china_fe_population, name='Female'))\nfig.add_trace(go.Bar(x=x, y=[484.16, 490.70, 497.30, 503.58, 510.05], name='Male'))\n\nfig.update_layout(barmode='stack')\nfig.show()",
    "id": "f3e96be57b294bd1825f4488bac7d958",
    "idx": 0,
    "time": "2021-02-02T00:21:34.545Z",
    "type": "execution"
   },
   {
    "id": "f3e96be57b294bd1825f4488bac7d958",
    "time": "2021-02-02T00:21:34.678Z",
    "type": "completion"
   },
   {
    "code": "import plotly.graph_objects as go\nimport numpy as np\n\nchina_fe_population = [\n680596325.0, 677972245.0, 674707818.0, 670780903.0, 667009225.0, 663493378.0, 660023537.0, 656677290.0, 653422748.0, 650275748.0,\n647159372.0, 644001246.0, 640793072.0, 637560457.0, 634130240.0, 630545489.0, 626956157.0, 623205125.0, 619165993.0, 614775825.0,\n610004104.0, 604764109.0, 598982994.0, 592868311.0, 586672507.0, 580322015.0, 573790071.0, 567224558.0, 560312586.0, 552721134.0,\n544679377.0, 536408672.0, 527858967.0, 519471732.0, 511798492.0, 504855230.0, 498238544.0, 491049203.0, 483835348.0, 477656979.0,\n471700516.0, 465460554.0, 459292487.0, 453096478.0, 446155493.0, 438355316.0, 429398133.0, 419696503.0, 409475913.0, 398315770.0,\n387362696.0, 376753699.0, 366879507.0, 357394687.0, 347401432.0, 339068212.0, 331140640.0, 322953588.0, 320153437.0]\n\nx=np.arange(1960, 2020, 1\nfig = go.Figure(go.Bar(x=x, y=china_fe_population, name='Female'))\nfig.add_trace(go.Bar(x=x, y=[484.16, 490.70, 497.30, 503.58, 510.05], name='Male'))\n\nfig.update_layout(barmode='stack')\nfig.show()",
    "id": "f3e96be57b294bd1825f4488bac7d958",
    "idx": 0,
    "time": "2021-02-02T00:21:41.506Z",
    "type": "execution"
   },
   {
    "id": "f3e96be57b294bd1825f4488bac7d958",
    "time": "2021-02-02T00:21:41.589Z",
    "type": "completion"
   },
   {
    "code": "import plotly.graph_objects as go\nimport numpy as np\n\nchina_fe_population = [\n680596325.0, 677972245.0, 674707818.0, 670780903.0, 667009225.0, 663493378.0, 660023537.0, 656677290.0, 653422748.0, 650275748.0,\n647159372.0, 644001246.0, 640793072.0, 637560457.0, 634130240.0, 630545489.0, 626956157.0, 623205125.0, 619165993.0, 614775825.0,\n610004104.0, 604764109.0, 598982994.0, 592868311.0, 586672507.0, 580322015.0, 573790071.0, 567224558.0, 560312586.0, 552721134.0,\n544679377.0, 536408672.0, 527858967.0, 519471732.0, 511798492.0, 504855230.0, 498238544.0, 491049203.0, 483835348.0, 477656979.0,\n471700516.0, 465460554.0, 459292487.0, 453096478.0, 446155493.0, 438355316.0, 429398133.0, 419696503.0, 409475913.0, 398315770.0,\n387362696.0, 376753699.0, 366879507.0, 357394687.0, 347401432.0, 339068212.0, 331140640.0, 322953588.0, 320153437.0]\n\nx=np.arange(1960, 2020, 1)\nfig = go.Figure(go.Bar(x=x, y=china_fe_population, name='Female'))\nfig.add_trace(go.Bar(x=x, y=[484.16, 490.70, 497.30, 503.58, 510.05], name='Male'))\n\nfig.update_layout(barmode='stack')\nfig.show()",
    "id": "f3e96be57b294bd1825f4488bac7d958",
    "idx": 0,
    "time": "2021-02-02T00:21:42.616Z",
    "type": "execution"
   },
   {
    "id": "f3e96be57b294bd1825f4488bac7d958",
    "time": "2021-02-02T00:21:42.745Z",
    "type": "completion"
   },
   {
    "code": "import plotly.graph_objects as go\nimport numpy as np\n\nchina_fe_population = [\n680596325.0, 677972245.0, 674707818.0, 670780903.0, 667009225.0, 663493378.0, 660023537.0, 656677290.0, 653422748.0, 650275748.0,\n647159372.0, 644001246.0, 640793072.0, 637560457.0, 634130240.0, 630545489.0, 626956157.0, 623205125.0, 619165993.0, 614775825.0,\n610004104.0, 604764109.0, 598982994.0, 592868311.0, 586672507.0, 580322015.0, 573790071.0, 567224558.0, 560312586.0, 552721134.0,\n544679377.0, 536408672.0, 527858967.0, 519471732.0, 511798492.0, 504855230.0, 498238544.0, 491049203.0, 483835348.0, 477656979.0,\n471700516.0, 465460554.0, 459292487.0, 453096478.0, 446155493.0, 438355316.0, 429398133.0, 419696503.0, 409475913.0, 398315770.0,\n387362696.0, 376753699.0, 366879507.0, 357394687.0, 347401432.0, 339068212.0, 331140640.0, 322953588.0, 320153437.0]\n\nx=np.arange(1960, 2020, 1)\nfig = go.Figure(go.Bar(x=x, y=china_fe_population, name='Female'))\nfig.add_trace(go.Bar(x=x, y=[484.16, 490.70, 497.30, 503.58, 510.05], name='Male'))\n\nfig.update_layout(barmode='stack', xaxis={'categoryorder':'category ascending'})\nfig.show()",
    "id": "f3e96be57b294bd1825f4488bac7d958",
    "idx": 0,
    "time": "2021-02-02T00:22:19.819Z",
    "type": "execution"
   },
   {
    "id": "f3e96be57b294bd1825f4488bac7d958",
    "time": "2021-02-02T00:22:19.951Z",
    "type": "completion"
   },
   {
    "code": "import plotly.graph_objects as go\nimport numpy as np\n\nchina_fe_population = [\n320153437.0,322953588.0,331140640.0,339068212.0,347401432.0,357394687.0,366879507.0,376753699.0,387362696.0,398315770.0,\n409475913.0,419696503.0,429398133.0,438355316.0,446155493.0,453096478.0,459292487.0,465460554.0,471700516.0,477656979.0,\n483835348.0,491049203.0,498238544.0,504855230.0,511798492.0,519471732.0,527858967.0,536408672.0,544679377.0,552721134.0,\n560312586.0,567224558.0,573790071.0,580322015.0,586672507.0,592868311.0,598982994.0,604764109.0,610004104.0,614775825.0,\n619165993.0,623205125.0,626956157.0,630545489.0,634130240.0,637560457.0,640793072.0,644001246.0,647159372.0,650275748.0,\n653422748.0,656677290.0,660023537.0,663493378.0,667009225.0,670780903.0,674707818.0,677972245.0, 680596325.0,320153437.0,\n]\n\nchina_ma_population = [\n340176563.0,342816412.0,351194360.0,359286788.0,367783568.0,378005313.0,387670493.0,397756301.0,408662304.0,419999230.0,\n431629087.0,442333497.0,452541867.0,461994684.0,470239507.0,477588522.0,484162513.0,490704446.0,497304484.0,503578021.0,\n510049652.0,517580797.0,525071456.0,531969770.0,539241508.0,547318268.0,556176033.0,565221328.0,573970623.0,582463866.0,\n590467414.0,597745442.0,604649929.0,611512985.0,618182493.0,624681689.0,631092006.0,637170891.0,642730896.0,647869175.0,\n652684007.0,657194875.0,661443843.0,665529511.0,669589760.0,673459543.0,677091928.0,680653754.0,684100628.0,687429252.0,\n690707252.0,694017710.0,697356463.0,700776622.0,704210775.0,707884097.0,711687182.0,714757755.0,717118675.0,\n]\nx=np.arange(1960, 2020, 1)\nfig = go.Figure(go.Bar(x=x, y=china_fe_population, name='Female'))\nfig.add_trace(go.Bar(x=x, y=[484.16, 490.70, 497.30, 503.58, 510.0,,5], name='Male'))\n\nfig.update_layout(barmode='stack', xaxis={'categoryorder':'category ascending'})\nfig.show()",
    "id": "f3e96be57b294bd1825f4488bac7d958",
    "idx": 0,
    "time": "2021-02-02T00:35:02.816Z",
    "type": "execution"
   },
   {
    "id": "f3e96be57b294bd1825f4488bac7d958",
    "time": "2021-02-02T00:35:02.915Z",
    "type": "completion"
   },
   {
    "code": "import plotly.graph_objects as go\nimport numpy as np\n\nchina_fe_population = [\n320153437.0,322953588.0,331140640.0,339068212.0,347401432.0,357394687.0,366879507.0,376753699.0,387362696.0,398315770.0,\n409475913.0,419696503.0,429398133.0,438355316.0,446155493.0,453096478.0,459292487.0,465460554.0,471700516.0,477656979.0,\n483835348.0,491049203.0,498238544.0,504855230.0,511798492.0,519471732.0,527858967.0,536408672.0,544679377.0,552721134.0,\n560312586.0,567224558.0,573790071.0,580322015.0,586672507.0,592868311.0,598982994.0,604764109.0,610004104.0,614775825.0,\n619165993.0,623205125.0,626956157.0,630545489.0,634130240.0,637560457.0,640793072.0,644001246.0,647159372.0,650275748.0,\n653422748.0,656677290.0,660023537.0,663493378.0,667009225.0,670780903.0,674707818.0,677972245.0, 680596325.0,320153437.0,\n]\n\nchina_ma_population = [\n340176563.0,342816412.0,351194360.0,359286788.0,367783568.0,378005313.0,387670493.0,397756301.0,408662304.0,419999230.0,\n431629087.0,442333497.0,452541867.0,461994684.0,470239507.0,477588522.0,484162513.0,490704446.0,497304484.0,503578021.0,\n510049652.0,517580797.0,525071456.0,531969770.0,539241508.0,547318268.0,556176033.0,565221328.0,573970623.0,582463866.0,\n590467414.0,597745442.0,604649929.0,611512985.0,618182493.0,624681689.0,631092006.0,637170891.0,642730896.0,647869175.0,\n652684007.0,657194875.0,661443843.0,665529511.0,669589760.0,673459543.0,677091928.0,680653754.0,684100628.0,687429252.0,\n690707252.0,694017710.0,697356463.0,700776622.0,704210775.0,707884097.0,711687182.0,714757755.0,717118675.0,\n]\nx=np.arange(1960, 2020, 1)\nfig = go.Figure(go.Bar(x=x, y=china_fe_population, name='Female'))\nfig.add_trace(go.Bar(x=x, y=china_ma_population, name='Male'))\n\nfig.update_layout(barmode='stack', xaxis={'categoryorder':'category ascending'})\nfig.show()",
    "id": "f3e96be57b294bd1825f4488bac7d958",
    "idx": 0,
    "time": "2021-02-02T00:35:15.008Z",
    "type": "execution"
   },
   {
    "id": "f3e96be57b294bd1825f4488bac7d958",
    "time": "2021-02-02T00:35:15.161Z",
    "type": "completion"
   },
   {
    "code": "import plotly.graph_objects as go\nimport numpy as np\n\nchina_fe_population = [\n320153437.0,322953588.0,331140640.0,339068212.0,347401432.0,357394687.0,366879507.0,376753699.0,387362696.0,398315770.0,\n409475913.0,419696503.0,429398133.0,438355316.0,446155493.0,453096478.0,459292487.0,465460554.0,471700516.0,477656979.0,\n483835348.0,491049203.0,498238544.0,504855230.0,511798492.0,519471732.0,527858967.0,536408672.0,544679377.0,552721134.0,\n560312586.0,567224558.0,573790071.0,580322015.0,586672507.0,592868311.0,598982994.0,604764109.0,610004104.0,614775825.0,\n619165993.0,623205125.0,626956157.0,630545489.0,634130240.0,637560457.0,640793072.0,644001246.0,647159372.0,650275748.0,\n653422748.0,656677290.0,660023537.0,663493378.0,667009225.0,670780903.0,674707818.0,677972245.0, 680596325.0,680596325.0,\n]\n\nchina_ma_population = [\n340176563.0,342816412.0,351194360.0,359286788.0,367783568.0,378005313.0,387670493.0,397756301.0,408662304.0,419999230.0,\n431629087.0,442333497.0,452541867.0,461994684.0,470239507.0,477588522.0,484162513.0,490704446.0,497304484.0,503578021.0,\n510049652.0,517580797.0,525071456.0,531969770.0,539241508.0,547318268.0,556176033.0,565221328.0,573970623.0,582463866.0,\n590467414.0,597745442.0,604649929.0,611512985.0,618182493.0,624681689.0,631092006.0,637170891.0,642730896.0,647869175.0,\n652684007.0,657194875.0,661443843.0,665529511.0,669589760.0,673459543.0,677091928.0,680653754.0,684100628.0,687429252.0,\n690707252.0,694017710.0,697356463.0,700776622.0,704210775.0,707884097.0,711687182.0,714757755.0,717118675.0\n]\nx=np.arange(1960, 2020, 1)\nfig = go.Figure(go.Bar(x=x, y=china_fe_population, name='Female'))\nfig.add_trace(go.Bar(x=x, y=china_ma_population, name='Male'))\n\nfig.update_layout(barmode='stack', xaxis={'categoryorder':'category ascending'})\nfig.show()",
    "id": "f3e96be57b294bd1825f4488bac7d958",
    "idx": 0,
    "time": "2021-02-02T00:36:31.628Z",
    "type": "execution"
   },
   {
    "id": "f3e96be57b294bd1825f4488bac7d958",
    "time": "2021-02-02T00:36:31.766Z",
    "type": "completion"
   },
   {
    "code": "import plotly.graph_objects as go\nimport numpy as np\n\nchina_fe_population = [\n320153437.0,322953588.0,331140640.0,339068212.0,347401432.0,357394687.0,366879507.0,376753699.0,387362696.0,398315770.0,\n409475913.0,419696503.0,429398133.0,438355316.0,446155493.0,453096478.0,459292487.0,465460554.0,471700516.0,477656979.0,\n483835348.0,491049203.0,498238544.0,504855230.0,511798492.0,519471732.0,527858967.0,536408672.0,544679377.0,552721134.0,\n560312586.0,567224558.0,573790071.0,580322015.0,586672507.0,592868311.0,598982994.0,604764109.0,610004104.0,614775825.0,\n619165993.0,623205125.0,626956157.0,630545489.0,634130240.0,637560457.0,640793072.0,644001246.0,647159372.0,650275748.0,\n653422748.0,656677290.0,660023537.0,663493378.0,667009225.0,670780903.0,674707818.0,677972245.0, 680596325.0\n]\n\nchina_ma_population = [\n340176563.0,342816412.0,351194360.0,359286788.0,367783568.0,378005313.0,387670493.0,397756301.0,408662304.0,419999230.0,\n431629087.0,442333497.0,452541867.0,461994684.0,470239507.0,477588522.0,484162513.0,490704446.0,497304484.0,503578021.0,\n510049652.0,517580797.0,525071456.0,531969770.0,539241508.0,547318268.0,556176033.0,565221328.0,573970623.0,582463866.0,\n590467414.0,597745442.0,604649929.0,611512985.0,618182493.0,624681689.0,631092006.0,637170891.0,642730896.0,647869175.0,\n652684007.0,657194875.0,661443843.0,665529511.0,669589760.0,673459543.0,677091928.0,680653754.0,684100628.0,687429252.0,\n690707252.0,694017710.0,697356463.0,700776622.0,704210775.0,707884097.0,711687182.0,714757755.0,717118675.0\n]\nx=np.arange(1961, 2020, 1)\nfig = go.Figure(go.Bar(x=x, y=china_fe_population, name='Female'))\nfig.add_trace(go.Bar(x=x, y=china_ma_population, name='Male'))\n\nfig.update_layout(barmode='stack', xaxis={'categoryorder':'category ascending'})\nfig.show()",
    "id": "f3e96be57b294bd1825f4488bac7d958",
    "idx": 0,
    "time": "2021-02-02T00:37:44.868Z",
    "type": "execution"
   },
   {
    "id": "f3e96be57b294bd1825f4488bac7d958",
    "time": "2021-02-02T00:37:45.013Z",
    "type": "completion"
   },
   {
    "code": "import plotly.graph_objects as go\nimport numpy as np\n\nchina_fe_population = [\n320153437.0,322953588.0,331140640.0,339068212.0,347401432.0,357394687.0,366879507.0,376753699.0,387362696.0,398315770.0,\n409475913.0,419696503.0,429398133.0,438355316.0,446155493.0,453096478.0,459292487.0,465460554.0,471700516.0,477656979.0,\n483835348.0,491049203.0,498238544.0,504855230.0,511798492.0,519471732.0,527858967.0,536408672.0,544679377.0,552721134.0,\n560312586.0,567224558.0,573790071.0,580322015.0,586672507.0,592868311.0,598982994.0,604764109.0,610004104.0,614775825.0,\n619165993.0,623205125.0,626956157.0,630545489.0,634130240.0,637560457.0,640793072.0,644001246.0,647159372.0,650275748.0,\n653422748.0,656677290.0,660023537.0,663493378.0,667009225.0,670780903.0,674707818.0,677972245.0, 680596325.0\n]\n\nchina_ma_population = [\n340176563.0,342816412.0,351194360.0,359286788.0,367783568.0,378005313.0,387670493.0,397756301.0,408662304.0,419999230.0,\n431629087.0,442333497.0,452541867.0,461994684.0,470239507.0,477588522.0,484162513.0,490704446.0,497304484.0,503578021.0,\n510049652.0,517580797.0,525071456.0,531969770.0,539241508.0,547318268.0,556176033.0,565221328.0,573970623.0,582463866.0,\n590467414.0,597745442.0,604649929.0,611512985.0,618182493.0,624681689.0,631092006.0,637170891.0,642730896.0,647869175.0,\n652684007.0,657194875.0,661443843.0,665529511.0,669589760.0,673459543.0,677091928.0,680653754.0,684100628.0,687429252.0,\n690707252.0,694017710.0,697356463.0,700776622.0,704210775.0,707884097.0,711687182.0,714757755.0,717118675.0\n]\n\nx=np.arange(1961, 2020, 1)\nfig = go.Figure(go.Bar(x=x, y=china_fe_population, name='Female'))\nfig.add_trace(go.Bar(x=x, y=china_ma_population, name='Male'))\n\nfig.update_layout(barmode='stack', xaxis={'categoryorder':'category ascending'}, xlabel = 'Year')\nfig.show()",
    "id": "f3e96be57b294bd1825f4488bac7d958",
    "idx": 0,
    "time": "2021-02-02T00:38:38.795Z",
    "type": "execution"
   },
   {
    "id": "f3e96be57b294bd1825f4488bac7d958",
    "time": "2021-02-02T00:38:39.193Z",
    "type": "completion"
   },
   {
    "code": "import plotly.graph_objects as go\nimport numpy as np\n\nchina_fe_population = [\n320153437.0,322953588.0,331140640.0,339068212.0,347401432.0,357394687.0,366879507.0,376753699.0,387362696.0,398315770.0,\n409475913.0,419696503.0,429398133.0,438355316.0,446155493.0,453096478.0,459292487.0,465460554.0,471700516.0,477656979.0,\n483835348.0,491049203.0,498238544.0,504855230.0,511798492.0,519471732.0,527858967.0,536408672.0,544679377.0,552721134.0,\n560312586.0,567224558.0,573790071.0,580322015.0,586672507.0,592868311.0,598982994.0,604764109.0,610004104.0,614775825.0,\n619165993.0,623205125.0,626956157.0,630545489.0,634130240.0,637560457.0,640793072.0,644001246.0,647159372.0,650275748.0,\n653422748.0,656677290.0,660023537.0,663493378.0,667009225.0,670780903.0,674707818.0,677972245.0, 680596325.0\n]\n\nchina_ma_population = [\n340176563.0,342816412.0,351194360.0,359286788.0,367783568.0,378005313.0,387670493.0,397756301.0,408662304.0,419999230.0,\n431629087.0,442333497.0,452541867.0,461994684.0,470239507.0,477588522.0,484162513.0,490704446.0,497304484.0,503578021.0,\n510049652.0,517580797.0,525071456.0,531969770.0,539241508.0,547318268.0,556176033.0,565221328.0,573970623.0,582463866.0,\n590467414.0,597745442.0,604649929.0,611512985.0,618182493.0,624681689.0,631092006.0,637170891.0,642730896.0,647869175.0,\n652684007.0,657194875.0,661443843.0,665529511.0,669589760.0,673459543.0,677091928.0,680653754.0,684100628.0,687429252.0,\n690707252.0,694017710.0,697356463.0,700776622.0,704210775.0,707884097.0,711687182.0,714757755.0,717118675.0\n]\n\nx=np.arange(1961, 2020, 1)\nfig = go.Figure(go.Bar(x=x, y=china_fe_population, name='Female'))\nfig.add_trace(go.Bar(x=x, y=china_ma_population, name='Male'))\n\nfig.update_layout(barmode='stack', xaxis={'categoryorder':'category ascending'}, title = 'Year')\nfig.show()",
    "id": "f3e96be57b294bd1825f4488bac7d958",
    "idx": 0,
    "time": "2021-02-02T00:39:39.224Z",
    "type": "execution"
   },
   {
    "id": "f3e96be57b294bd1825f4488bac7d958",
    "time": "2021-02-02T00:39:39.379Z",
    "type": "completion"
   },
   {
    "code": "import plotly.graph_objects as go\nimport numpy as np\n\nchina_fe_population = [\n320153437.0,322953588.0,331140640.0,339068212.0,347401432.0,357394687.0,366879507.0,376753699.0,387362696.0,398315770.0,\n409475913.0,419696503.0,429398133.0,438355316.0,446155493.0,453096478.0,459292487.0,465460554.0,471700516.0,477656979.0,\n483835348.0,491049203.0,498238544.0,504855230.0,511798492.0,519471732.0,527858967.0,536408672.0,544679377.0,552721134.0,\n560312586.0,567224558.0,573790071.0,580322015.0,586672507.0,592868311.0,598982994.0,604764109.0,610004104.0,614775825.0,\n619165993.0,623205125.0,626956157.0,630545489.0,634130240.0,637560457.0,640793072.0,644001246.0,647159372.0,650275748.0,\n653422748.0,656677290.0,660023537.0,663493378.0,667009225.0,670780903.0,674707818.0,677972245.0, 680596325.0\n]\n\nchina_ma_population = [\n340176563.0,342816412.0,351194360.0,359286788.0,367783568.0,378005313.0,387670493.0,397756301.0,408662304.0,419999230.0,\n431629087.0,442333497.0,452541867.0,461994684.0,470239507.0,477588522.0,484162513.0,490704446.0,497304484.0,503578021.0,\n510049652.0,517580797.0,525071456.0,531969770.0,539241508.0,547318268.0,556176033.0,565221328.0,573970623.0,582463866.0,\n590467414.0,597745442.0,604649929.0,611512985.0,618182493.0,624681689.0,631092006.0,637170891.0,642730896.0,647869175.0,\n652684007.0,657194875.0,661443843.0,665529511.0,669589760.0,673459543.0,677091928.0,680653754.0,684100628.0,687429252.0,\n690707252.0,694017710.0,697356463.0,700776622.0,704210775.0,707884097.0,711687182.0,714757755.0,717118675.0\n]\n\nx=np.arange(1961, 2020, 1)\nfig = go.Figure(go.Bar(x=x, y=china_fe_population, name='Female'))\nfig.add_trace(go.Bar(x=x, y=china_ma_population, name='Male'))\n\nfig.update_layout(barmode='stack', xaxis={'categoryorder':'category ascending'}, title = \"Population of China\")\nfig.show()",
    "id": "f3e96be57b294bd1825f4488bac7d958",
    "idx": 0,
    "time": "2021-02-02T00:39:59.498Z",
    "type": "execution"
   },
   {
    "id": "f3e96be57b294bd1825f4488bac7d958",
    "time": "2021-02-02T00:39:59.644Z",
    "type": "completion"
   },
   {
    "code": "import plotly.graph_objects as go\nimport numpy as np\n\nchina_fe_population = [\n320153437.0,322953588.0,331140640.0,339068212.0,347401432.0,357394687.0,366879507.0,376753699.0,387362696.0,398315770.0,\n409475913.0,419696503.0,429398133.0,438355316.0,446155493.0,453096478.0,459292487.0,465460554.0,471700516.0,477656979.0,\n483835348.0,491049203.0,498238544.0,504855230.0,511798492.0,519471732.0,527858967.0,536408672.0,544679377.0,552721134.0,\n560312586.0,567224558.0,573790071.0,580322015.0,586672507.0,592868311.0,598982994.0,604764109.0,610004104.0,614775825.0,\n619165993.0,623205125.0,626956157.0,630545489.0,634130240.0,637560457.0,640793072.0,644001246.0,647159372.0,650275748.0,\n653422748.0,656677290.0,660023537.0,663493378.0,667009225.0,670780903.0,674707818.0,677972245.0, 680596325.0\n]\n\nchina_ma_population = [\n340176563.0,342816412.0,351194360.0,359286788.0,367783568.0,378005313.0,387670493.0,397756301.0,408662304.0,419999230.0,\n431629087.0,442333497.0,452541867.0,461994684.0,470239507.0,477588522.0,484162513.0,490704446.0,497304484.0,503578021.0,\n510049652.0,517580797.0,525071456.0,531969770.0,539241508.0,547318268.0,556176033.0,565221328.0,573970623.0,582463866.0,\n590467414.0,597745442.0,604649929.0,611512985.0,618182493.0,624681689.0,631092006.0,637170891.0,642730896.0,647869175.0,\n652684007.0,657194875.0,661443843.0,665529511.0,669589760.0,673459543.0,677091928.0,680653754.0,684100628.0,687429252.0,\n690707252.0,694017710.0,697356463.0,700776622.0,704210775.0,707884097.0,711687182.0,714757755.0,717118675.0\n]\n\nx=np.arange(1961, 2020, 1)\nfig = go.Figure(go.Bar(x=x, y=china_fe_population, name='Female'))\nfig.add_trace(go.Bar(x=x, y=china_ma_population, name='Male'))\n\nfig.update_layout(barmode='stack',  title = \"Population of China\")\nfig.show()",
    "id": "f3e96be57b294bd1825f4488bac7d958",
    "idx": 0,
    "time": "2021-02-02T00:41:17.634Z",
    "type": "execution"
   },
   {
    "id": "f3e96be57b294bd1825f4488bac7d958",
    "time": "2021-02-02T00:41:17.772Z",
    "type": "completion"
   },
   {
    "code": "import plotly.graph_objects as go\nimport numpy as np\n\nchina_fe_population = [\n320153437.0,322953588.0,331140640.0,339068212.0,347401432.0,357394687.0,366879507.0,376753699.0,387362696.0,398315770.0,\n409475913.0,419696503.0,429398133.0,438355316.0,446155493.0,453096478.0,459292487.0,465460554.0,471700516.0,477656979.0,\n483835348.0,491049203.0,498238544.0,504855230.0,511798492.0,519471732.0,527858967.0,536408672.0,544679377.0,552721134.0,\n560312586.0,567224558.0,573790071.0,580322015.0,586672507.0,592868311.0,598982994.0,604764109.0,610004104.0,614775825.0,\n619165993.0,623205125.0,626956157.0,630545489.0,634130240.0,637560457.0,640793072.0,644001246.0,647159372.0,650275748.0,\n653422748.0,656677290.0,660023537.0,663493378.0,667009225.0,670780903.0,674707818.0,677972245.0, 680596325.0\n]\n\nchina_ma_population = [\n340176563.0,342816412.0,351194360.0,359286788.0,367783568.0,378005313.0,387670493.0,397756301.0,408662304.0,419999230.0,\n431629087.0,442333497.0,452541867.0,461994684.0,470239507.0,477588522.0,484162513.0,490704446.0,497304484.0,503578021.0,\n510049652.0,517580797.0,525071456.0,531969770.0,539241508.0,547318268.0,556176033.0,565221328.0,573970623.0,582463866.0,\n590467414.0,597745442.0,604649929.0,611512985.0,618182493.0,624681689.0,631092006.0,637170891.0,642730896.0,647869175.0,\n652684007.0,657194875.0,661443843.0,665529511.0,669589760.0,673459543.0,677091928.0,680653754.0,684100628.0,687429252.0,\n690707252.0,694017710.0,697356463.0,700776622.0,704210775.0,707884097.0,711687182.0,714757755.0,717118675.0\n]\n\nx=np.arange(1961, 2020, 1)\nfig = go.Figure(go.Bar(x=x, y=china_fe_population, name='Female'))\nfig.add_trace(go.Bar(x=x, y=china_ma_population, name='Male'))\n\nfig.update_layout(barmode='stack', xaxis={'categoryorder':'category ascending'}, title = \"Population of China\")\nfig.show()",
    "id": "f3e96be57b294bd1825f4488bac7d958",
    "idx": 0,
    "time": "2021-02-02T00:41:22.627Z",
    "type": "execution"
   },
   {
    "id": "f3e96be57b294bd1825f4488bac7d958",
    "time": "2021-02-02T00:41:22.765Z",
    "type": "completion"
   },
   {
    "code": "import plotly.graph_objects as go\nimport numpy as np\n\nchina_fe_population = [\n320153437.0,322953588.0,331140640.0,339068212.0,347401432.0,357394687.0,366879507.0,376753699.0,387362696.0,398315770.0,\n409475913.0,419696503.0,429398133.0,438355316.0,446155493.0,453096478.0,459292487.0,465460554.0,471700516.0,477656979.0,\n483835348.0,491049203.0,498238544.0,504855230.0,511798492.0,519471732.0,527858967.0,536408672.0,544679377.0,552721134.0,\n560312586.0,567224558.0,573790071.0,580322015.0,586672507.0,592868311.0,598982994.0,604764109.0,610004104.0,614775825.0,\n619165993.0,623205125.0,626956157.0,630545489.0,634130240.0,637560457.0,640793072.0,644001246.0,647159372.0,650275748.0,\n653422748.0,656677290.0,660023537.0,663493378.0,667009225.0,670780903.0,674707818.0,677972245.0, 680596325.0\n]\n\nchina_ma_population = [\n340176563.0,342816412.0,351194360.0,359286788.0,367783568.0,378005313.0,387670493.0,397756301.0,408662304.0,419999230.0,\n431629087.0,442333497.0,452541867.0,461994684.0,470239507.0,477588522.0,484162513.0,490704446.0,497304484.0,503578021.0,\n510049652.0,517580797.0,525071456.0,531969770.0,539241508.0,547318268.0,556176033.0,565221328.0,573970623.0,582463866.0,\n590467414.0,597745442.0,604649929.0,611512985.0,618182493.0,624681689.0,631092006.0,637170891.0,642730896.0,647869175.0,\n652684007.0,657194875.0,661443843.0,665529511.0,669589760.0,673459543.0,677091928.0,680653754.0,684100628.0,687429252.0,\n690707252.0,694017710.0,697356463.0,700776622.0,704210775.0,707884097.0,711687182.0,714757755.0,717118675.0\n]\n\nx=np.arange(1961, 2020, 1)\nfig = go.Figure(go.Bar(x=x, y=china_fe_population, name='Female'))\nfig.add_trace(go.Bar(x=x, y=china_ma_population, name='Male'))\n\nfig.update_layout(barmode='stack', xaxis={'categoryorder':'category ascending'}, xtitle = \"Population of China\")\nfig.show()",
    "id": "f3e96be57b294bd1825f4488bac7d958",
    "idx": 0,
    "time": "2021-02-02T00:41:27.659Z",
    "type": "execution"
   },
   {
    "id": "f3e96be57b294bd1825f4488bac7d958",
    "time": "2021-02-02T00:41:27.896Z",
    "type": "completion"
   },
   {
    "code": "import plotly.graph_objects as go\nimport numpy as np\n\nchina_fe_population = [\n320153437.0,322953588.0,331140640.0,339068212.0,347401432.0,357394687.0,366879507.0,376753699.0,387362696.0,398315770.0,\n409475913.0,419696503.0,429398133.0,438355316.0,446155493.0,453096478.0,459292487.0,465460554.0,471700516.0,477656979.0,\n483835348.0,491049203.0,498238544.0,504855230.0,511798492.0,519471732.0,527858967.0,536408672.0,544679377.0,552721134.0,\n560312586.0,567224558.0,573790071.0,580322015.0,586672507.0,592868311.0,598982994.0,604764109.0,610004104.0,614775825.0,\n619165993.0,623205125.0,626956157.0,630545489.0,634130240.0,637560457.0,640793072.0,644001246.0,647159372.0,650275748.0,\n653422748.0,656677290.0,660023537.0,663493378.0,667009225.0,670780903.0,674707818.0,677972245.0, 680596325.0\n]\n\nchina_ma_population = [\n340176563.0,342816412.0,351194360.0,359286788.0,367783568.0,378005313.0,387670493.0,397756301.0,408662304.0,419999230.0,\n431629087.0,442333497.0,452541867.0,461994684.0,470239507.0,477588522.0,484162513.0,490704446.0,497304484.0,503578021.0,\n510049652.0,517580797.0,525071456.0,531969770.0,539241508.0,547318268.0,556176033.0,565221328.0,573970623.0,582463866.0,\n590467414.0,597745442.0,604649929.0,611512985.0,618182493.0,624681689.0,631092006.0,637170891.0,642730896.0,647869175.0,\n652684007.0,657194875.0,661443843.0,665529511.0,669589760.0,673459543.0,677091928.0,680653754.0,684100628.0,687429252.0,\n690707252.0,694017710.0,697356463.0,700776622.0,704210775.0,707884097.0,711687182.0,714757755.0,717118675.0\n]\n\nx=np.arange(1961, 2020, 1)\nfig = go.Figure(go.Bar(x=x, y=china_fe_population, name='Female'))\nfig.add_trace(go.Bar(x=x, y=china_ma_population, name='Male'))\n\nfig.update_layout(barmode='stack', xaxis={'categoryorder':'category ascending'}, title = \"Population of China\")\nfig.show()",
    "id": "f3e96be57b294bd1825f4488bac7d958",
    "idx": 0,
    "time": "2021-02-02T00:41:30.896Z",
    "type": "execution"
   },
   {
    "id": "f3e96be57b294bd1825f4488bac7d958",
    "time": "2021-02-02T00:41:31.037Z",
    "type": "completion"
   },
   {
    "code": "import plotly.graph_objects as go\nimport numpy as np\n\nchina_fe_population = [\n320153437.0,322953588.0,331140640.0,339068212.0,347401432.0,357394687.0,366879507.0,376753699.0,387362696.0,398315770.0,\n409475913.0,419696503.0,429398133.0,438355316.0,446155493.0,453096478.0,459292487.0,465460554.0,471700516.0,477656979.0,\n483835348.0,491049203.0,498238544.0,504855230.0,511798492.0,519471732.0,527858967.0,536408672.0,544679377.0,552721134.0,\n560312586.0,567224558.0,573790071.0,580322015.0,586672507.0,592868311.0,598982994.0,604764109.0,610004104.0,614775825.0,\n619165993.0,623205125.0,626956157.0,630545489.0,634130240.0,637560457.0,640793072.0,644001246.0,647159372.0,650275748.0,\n653422748.0,656677290.0,660023537.0,663493378.0,667009225.0,670780903.0,674707818.0,677972245.0, 680596325.0\n]\n\nchina_ma_population = [\n340176563.0,342816412.0,351194360.0,359286788.0,367783568.0,378005313.0,387670493.0,397756301.0,408662304.0,419999230.0,\n431629087.0,442333497.0,452541867.0,461994684.0,470239507.0,477588522.0,484162513.0,490704446.0,497304484.0,503578021.0,\n510049652.0,517580797.0,525071456.0,531969770.0,539241508.0,547318268.0,556176033.0,565221328.0,573970623.0,582463866.0,\n590467414.0,597745442.0,604649929.0,611512985.0,618182493.0,624681689.0,631092006.0,637170891.0,642730896.0,647869175.0,\n652684007.0,657194875.0,661443843.0,665529511.0,669589760.0,673459543.0,677091928.0,680653754.0,684100628.0,687429252.0,\n690707252.0,694017710.0,697356463.0,700776622.0,704210775.0,707884097.0,711687182.0,714757755.0,717118675.0\n]\n\nx=np.arange(1961, 2020, 1)\nfig = go.Figure(go.Bar(x=x, y=china_fe_population, name='Female'))\nfig.add_trace(go.Bar(x=x, y=china_ma_population, name='Male'))\n\nfig.update_layout(barmode='stack', title = \"Population of China\")\nfig.show()",
    "id": "f3e96be57b294bd1825f4488bac7d958",
    "idx": 0,
    "time": "2021-02-02T00:41:41.290Z",
    "type": "execution"
   },
   {
    "id": "f3e96be57b294bd1825f4488bac7d958",
    "time": "2021-02-02T00:41:41.439Z",
    "type": "completion"
   },
   {
    "code": "import plotly.graph_objects as go\nimport numpy as np\n\nchina_fe_population = [\n320153437.0,322953588.0,331140640.0,339068212.0,347401432.0,357394687.0,366879507.0,376753699.0,387362696.0,398315770.0,\n409475913.0,419696503.0,429398133.0,438355316.0,446155493.0,453096478.0,459292487.0,465460554.0,471700516.0,477656979.0,\n483835348.0,491049203.0,498238544.0,504855230.0,511798492.0,519471732.0,527858967.0,536408672.0,544679377.0,552721134.0,\n560312586.0,567224558.0,573790071.0,580322015.0,586672507.0,592868311.0,598982994.0,604764109.0,610004104.0,614775825.0,\n619165993.0,623205125.0,626956157.0,630545489.0,634130240.0,637560457.0,640793072.0,644001246.0,647159372.0,650275748.0,\n653422748.0,656677290.0,660023537.0,663493378.0,667009225.0,670780903.0,674707818.0,677972245.0, 680596325.0\n]\n\nchina_ma_population = [\n340176563.0,342816412.0,351194360.0,359286788.0,367783568.0,378005313.0,387670493.0,397756301.0,408662304.0,419999230.0,\n431629087.0,442333497.0,452541867.0,461994684.0,470239507.0,477588522.0,484162513.0,490704446.0,497304484.0,503578021.0,\n510049652.0,517580797.0,525071456.0,531969770.0,539241508.0,547318268.0,556176033.0,565221328.0,573970623.0,582463866.0,\n590467414.0,597745442.0,604649929.0,611512985.0,618182493.0,624681689.0,631092006.0,637170891.0,642730896.0,647869175.0,\n652684007.0,657194875.0,661443843.0,665529511.0,669589760.0,673459543.0,677091928.0,680653754.0,684100628.0,687429252.0,\n690707252.0,694017710.0,697356463.0,700776622.0,704210775.0,707884097.0,711687182.0,714757755.0,717118675.0\n]\n\nx=np.arange(1961, 2020, 1)\nfig = go.Figure(go.Bar(x=x, y=china_fe_population, name='Female'))\nfig.add_trace(go.Bar(x=x, y=china_ma_population, name='Male'))\n\nfig.update_layout(barmode='stack', x-axis = dict(title='Year'), title = \"Population of China\")\nfig.show()",
    "id": "f3e96be57b294bd1825f4488bac7d958",
    "idx": 0,
    "time": "2021-02-02T00:41:54.706Z",
    "type": "execution"
   },
   {
    "id": "f3e96be57b294bd1825f4488bac7d958",
    "time": "2021-02-02T00:41:54.790Z",
    "type": "completion"
   },
   {
    "code": "import plotly.graph_objects as go\nimport numpy as np\n\nchina_fe_population = [\n320153437.0,322953588.0,331140640.0,339068212.0,347401432.0,357394687.0,366879507.0,376753699.0,387362696.0,398315770.0,\n409475913.0,419696503.0,429398133.0,438355316.0,446155493.0,453096478.0,459292487.0,465460554.0,471700516.0,477656979.0,\n483835348.0,491049203.0,498238544.0,504855230.0,511798492.0,519471732.0,527858967.0,536408672.0,544679377.0,552721134.0,\n560312586.0,567224558.0,573790071.0,580322015.0,586672507.0,592868311.0,598982994.0,604764109.0,610004104.0,614775825.0,\n619165993.0,623205125.0,626956157.0,630545489.0,634130240.0,637560457.0,640793072.0,644001246.0,647159372.0,650275748.0,\n653422748.0,656677290.0,660023537.0,663493378.0,667009225.0,670780903.0,674707818.0,677972245.0, 680596325.0\n]\n\nchina_ma_population = [\n340176563.0,342816412.0,351194360.0,359286788.0,367783568.0,378005313.0,387670493.0,397756301.0,408662304.0,419999230.0,\n431629087.0,442333497.0,452541867.0,461994684.0,470239507.0,477588522.0,484162513.0,490704446.0,497304484.0,503578021.0,\n510049652.0,517580797.0,525071456.0,531969770.0,539241508.0,547318268.0,556176033.0,565221328.0,573970623.0,582463866.0,\n590467414.0,597745442.0,604649929.0,611512985.0,618182493.0,624681689.0,631092006.0,637170891.0,642730896.0,647869175.0,\n652684007.0,657194875.0,661443843.0,665529511.0,669589760.0,673459543.0,677091928.0,680653754.0,684100628.0,687429252.0,\n690707252.0,694017710.0,697356463.0,700776622.0,704210775.0,707884097.0,711687182.0,714757755.0,717118675.0\n]\n\nx=np.arange(1961, 2020, 1)\nfig = go.Figure(go.Bar(x=x, y=china_fe_population, name='Female'))\nfig.add_trace(go.Bar(x=x, y=china_ma_population, name='Male'))\n\nfig.update_layout(barmode='stack', xaxis = dict(title='Year'), title = \"Population of China\")\nfig.show()",
    "id": "f3e96be57b294bd1825f4488bac7d958",
    "idx": 0,
    "time": "2021-02-02T00:41:58.695Z",
    "type": "execution"
   },
   {
    "id": "f3e96be57b294bd1825f4488bac7d958",
    "time": "2021-02-02T00:41:58.836Z",
    "type": "completion"
   },
   {
    "code": "import plotly.graph_objects as go\nimport numpy as np\n\nchina_fe_population = [\n320153437.0,322953588.0,331140640.0,339068212.0,347401432.0,357394687.0,366879507.0,376753699.0,387362696.0,398315770.0,\n409475913.0,419696503.0,429398133.0,438355316.0,446155493.0,453096478.0,459292487.0,465460554.0,471700516.0,477656979.0,\n483835348.0,491049203.0,498238544.0,504855230.0,511798492.0,519471732.0,527858967.0,536408672.0,544679377.0,552721134.0,\n560312586.0,567224558.0,573790071.0,580322015.0,586672507.0,592868311.0,598982994.0,604764109.0,610004104.0,614775825.0,\n619165993.0,623205125.0,626956157.0,630545489.0,634130240.0,637560457.0,640793072.0,644001246.0,647159372.0,650275748.0,\n653422748.0,656677290.0,660023537.0,663493378.0,667009225.0,670780903.0,674707818.0,677972245.0, 680596325.0\n]\n\nchina_ma_population = [\n340176563.0,342816412.0,351194360.0,359286788.0,367783568.0,378005313.0,387670493.0,397756301.0,408662304.0,419999230.0,\n431629087.0,442333497.0,452541867.0,461994684.0,470239507.0,477588522.0,484162513.0,490704446.0,497304484.0,503578021.0,\n510049652.0,517580797.0,525071456.0,531969770.0,539241508.0,547318268.0,556176033.0,565221328.0,573970623.0,582463866.0,\n590467414.0,597745442.0,604649929.0,611512985.0,618182493.0,624681689.0,631092006.0,637170891.0,642730896.0,647869175.0,\n652684007.0,657194875.0,661443843.0,665529511.0,669589760.0,673459543.0,677091928.0,680653754.0,684100628.0,687429252.0,\n690707252.0,694017710.0,697356463.0,700776622.0,704210775.0,707884097.0,711687182.0,714757755.0,717118675.0\n]\n\nx=np.arange(1961, 2020, 1)\nfig = go.Figure(go.Bar(x=x, y=china_fe_population, name='Female'))\nfig.add_trace(go.Bar(x=x, y=china_ma_population, name='Male'))\n\nfig.update_layout(barmode='stack', xaxis = dict(title='Year', font=20), title = \"Population of China\")\nfig.show()",
    "id": "f3e96be57b294bd1825f4488bac7d958",
    "idx": 0,
    "time": "2021-02-02T00:42:05.492Z",
    "type": "execution"
   },
   {
    "id": "f3e96be57b294bd1825f4488bac7d958",
    "time": "2021-02-02T00:42:05.759Z",
    "type": "completion"
   },
   {
    "code": "import plotly.graph_objects as go\nimport numpy as np\n\nchina_fe_population = [\n320153437.0,322953588.0,331140640.0,339068212.0,347401432.0,357394687.0,366879507.0,376753699.0,387362696.0,398315770.0,\n409475913.0,419696503.0,429398133.0,438355316.0,446155493.0,453096478.0,459292487.0,465460554.0,471700516.0,477656979.0,\n483835348.0,491049203.0,498238544.0,504855230.0,511798492.0,519471732.0,527858967.0,536408672.0,544679377.0,552721134.0,\n560312586.0,567224558.0,573790071.0,580322015.0,586672507.0,592868311.0,598982994.0,604764109.0,610004104.0,614775825.0,\n619165993.0,623205125.0,626956157.0,630545489.0,634130240.0,637560457.0,640793072.0,644001246.0,647159372.0,650275748.0,\n653422748.0,656677290.0,660023537.0,663493378.0,667009225.0,670780903.0,674707818.0,677972245.0, 680596325.0\n]\n\nchina_ma_population = [\n340176563.0,342816412.0,351194360.0,359286788.0,367783568.0,378005313.0,387670493.0,397756301.0,408662304.0,419999230.0,\n431629087.0,442333497.0,452541867.0,461994684.0,470239507.0,477588522.0,484162513.0,490704446.0,497304484.0,503578021.0,\n510049652.0,517580797.0,525071456.0,531969770.0,539241508.0,547318268.0,556176033.0,565221328.0,573970623.0,582463866.0,\n590467414.0,597745442.0,604649929.0,611512985.0,618182493.0,624681689.0,631092006.0,637170891.0,642730896.0,647869175.0,\n652684007.0,657194875.0,661443843.0,665529511.0,669589760.0,673459543.0,677091928.0,680653754.0,684100628.0,687429252.0,\n690707252.0,694017710.0,697356463.0,700776622.0,704210775.0,707884097.0,711687182.0,714757755.0,717118675.0\n]\n\nx=np.arange(1961, 2020, 1)\nfig = go.Figure(go.Bar(x=x, y=china_fe_population, name='Female'))\nfig.add_trace(go.Bar(x=x, y=china_ma_population, name='Male'))\n\nfig.update_layout(barmode='stack', xaxis = dict(title='Year', titlefont_size=20), title = \"Population of China\")\nfig.show()",
    "id": "f3e96be57b294bd1825f4488bac7d958",
    "idx": 0,
    "time": "2021-02-02T00:42:44.675Z",
    "type": "execution"
   },
   {
    "id": "f3e96be57b294bd1825f4488bac7d958",
    "time": "2021-02-02T00:42:44.819Z",
    "type": "completion"
   },
   {
    "code": "import plotly.graph_objects as go\nimport numpy as np\n\nchina_fe_population = [\n320153437.0,322953588.0,331140640.0,339068212.0,347401432.0,357394687.0,366879507.0,376753699.0,387362696.0,398315770.0,\n409475913.0,419696503.0,429398133.0,438355316.0,446155493.0,453096478.0,459292487.0,465460554.0,471700516.0,477656979.0,\n483835348.0,491049203.0,498238544.0,504855230.0,511798492.0,519471732.0,527858967.0,536408672.0,544679377.0,552721134.0,\n560312586.0,567224558.0,573790071.0,580322015.0,586672507.0,592868311.0,598982994.0,604764109.0,610004104.0,614775825.0,\n619165993.0,623205125.0,626956157.0,630545489.0,634130240.0,637560457.0,640793072.0,644001246.0,647159372.0,650275748.0,\n653422748.0,656677290.0,660023537.0,663493378.0,667009225.0,670780903.0,674707818.0,677972245.0, 680596325.0\n]\n\nchina_ma_population = [\n340176563.0,342816412.0,351194360.0,359286788.0,367783568.0,378005313.0,387670493.0,397756301.0,408662304.0,419999230.0,\n431629087.0,442333497.0,452541867.0,461994684.0,470239507.0,477588522.0,484162513.0,490704446.0,497304484.0,503578021.0,\n510049652.0,517580797.0,525071456.0,531969770.0,539241508.0,547318268.0,556176033.0,565221328.0,573970623.0,582463866.0,\n590467414.0,597745442.0,604649929.0,611512985.0,618182493.0,624681689.0,631092006.0,637170891.0,642730896.0,647869175.0,\n652684007.0,657194875.0,661443843.0,665529511.0,669589760.0,673459543.0,677091928.0,680653754.0,684100628.0,687429252.0,\n690707252.0,694017710.0,697356463.0,700776622.0,704210775.0,707884097.0,711687182.0,714757755.0,717118675.0\n]\n\nx=np.arange(1961, 2020, 1)\nfig = go.Figure(go.Bar(x=x, y=china_fe_population, name='Female'))\nfig.add_trace(go.Bar(x=x, y=china_ma_population, name='Male'))\n\nfig.update_layout(barmode='stack', xaxis = dict(title='Year', titlefont_size=20),\n                  title = \"Population of China\", titlefont_size=50)\nfig.show()",
    "id": "f3e96be57b294bd1825f4488bac7d958",
    "idx": 0,
    "time": "2021-02-02T00:43:01.482Z",
    "type": "execution"
   },
   {
    "id": "f3e96be57b294bd1825f4488bac7d958",
    "time": "2021-02-02T00:43:01.654Z",
    "type": "completion"
   },
   {
    "code": "import plotly.graph_objects as go\nimport numpy as np\n\nchina_fe_population = [\n320153437.0,322953588.0,331140640.0,339068212.0,347401432.0,357394687.0,366879507.0,376753699.0,387362696.0,398315770.0,\n409475913.0,419696503.0,429398133.0,438355316.0,446155493.0,453096478.0,459292487.0,465460554.0,471700516.0,477656979.0,\n483835348.0,491049203.0,498238544.0,504855230.0,511798492.0,519471732.0,527858967.0,536408672.0,544679377.0,552721134.0,\n560312586.0,567224558.0,573790071.0,580322015.0,586672507.0,592868311.0,598982994.0,604764109.0,610004104.0,614775825.0,\n619165993.0,623205125.0,626956157.0,630545489.0,634130240.0,637560457.0,640793072.0,644001246.0,647159372.0,650275748.0,\n653422748.0,656677290.0,660023537.0,663493378.0,667009225.0,670780903.0,674707818.0,677972245.0, 680596325.0\n]\n\nchina_ma_population = [\n340176563.0,342816412.0,351194360.0,359286788.0,367783568.0,378005313.0,387670493.0,397756301.0,408662304.0,419999230.0,\n431629087.0,442333497.0,452541867.0,461994684.0,470239507.0,477588522.0,484162513.0,490704446.0,497304484.0,503578021.0,\n510049652.0,517580797.0,525071456.0,531969770.0,539241508.0,547318268.0,556176033.0,565221328.0,573970623.0,582463866.0,\n590467414.0,597745442.0,604649929.0,611512985.0,618182493.0,624681689.0,631092006.0,637170891.0,642730896.0,647869175.0,\n652684007.0,657194875.0,661443843.0,665529511.0,669589760.0,673459543.0,677091928.0,680653754.0,684100628.0,687429252.0,\n690707252.0,694017710.0,697356463.0,700776622.0,704210775.0,707884097.0,711687182.0,714757755.0,717118675.0\n]\n\nx=np.arange(1961, 2020, 1)\nfig = go.Figure(go.Bar(x=x, y=china_fe_population, name='Female'))\nfig.add_trace(go.Bar(x=x, y=china_ma_population, name='Male'))\n\nfig.update_layout(barmode='stack', xaxis = dict(title='Year', titlefont_size=20),\n                  title = \"Population of China\", titlefont_size=30)\nfig.show()",
    "id": "f3e96be57b294bd1825f4488bac7d958",
    "idx": 0,
    "time": "2021-02-02T00:43:04.314Z",
    "type": "execution"
   },
   {
    "id": "f3e96be57b294bd1825f4488bac7d958",
    "time": "2021-02-02T00:43:04.467Z",
    "type": "completion"
   },
   {
    "code": "import plotly.graph_objects as go\nimport numpy as np\n\nchina_fe_population = [\n320153437.0,322953588.0,331140640.0,339068212.0,347401432.0,357394687.0,366879507.0,376753699.0,387362696.0,398315770.0,\n409475913.0,419696503.0,429398133.0,438355316.0,446155493.0,453096478.0,459292487.0,465460554.0,471700516.0,477656979.0,\n483835348.0,491049203.0,498238544.0,504855230.0,511798492.0,519471732.0,527858967.0,536408672.0,544679377.0,552721134.0,\n560312586.0,567224558.0,573790071.0,580322015.0,586672507.0,592868311.0,598982994.0,604764109.0,610004104.0,614775825.0,\n619165993.0,623205125.0,626956157.0,630545489.0,634130240.0,637560457.0,640793072.0,644001246.0,647159372.0,650275748.0,\n653422748.0,656677290.0,660023537.0,663493378.0,667009225.0,670780903.0,674707818.0,677972245.0, 680596325.0\n]\n\nchina_ma_population = [\n340176563.0,342816412.0,351194360.0,359286788.0,367783568.0,378005313.0,387670493.0,397756301.0,408662304.0,419999230.0,\n431629087.0,442333497.0,452541867.0,461994684.0,470239507.0,477588522.0,484162513.0,490704446.0,497304484.0,503578021.0,\n510049652.0,517580797.0,525071456.0,531969770.0,539241508.0,547318268.0,556176033.0,565221328.0,573970623.0,582463866.0,\n590467414.0,597745442.0,604649929.0,611512985.0,618182493.0,624681689.0,631092006.0,637170891.0,642730896.0,647869175.0,\n652684007.0,657194875.0,661443843.0,665529511.0,669589760.0,673459543.0,677091928.0,680653754.0,684100628.0,687429252.0,\n690707252.0,694017710.0,697356463.0,700776622.0,704210775.0,707884097.0,711687182.0,714757755.0,717118675.0\n]\n\nx=np.arange(1961, 2020, 1)\nfig = go.Figure(go.Bar(x=x, y=china_fe_population, name='Female'))\nfig.add_trace(go.Bar(x=x, y=china_ma_population, name='Male'))\n\nfig.update_layout(barmode='stack', xaxis = dict(title='Year', titlefont_size=20),\n                  yaxis = dict(title='Population', titlefont_size=20), title = \"Population of China\", titlefont_size=30)\nfig.show()",
    "id": "f3e96be57b294bd1825f4488bac7d958",
    "idx": 0,
    "time": "2021-02-02T00:43:46.866Z",
    "type": "execution"
   },
   {
    "code": "import plotly.graph_objects as go\nimport numpy as np\n\nchina_fe_population = [\n320153437.0,322953588.0,331140640.0,339068212.0,347401432.0,357394687.0,366879507.0,376753699.0,387362696.0,398315770.0,\n409475913.0,419696503.0,429398133.0,438355316.0,446155493.0,453096478.0,459292487.0,465460554.0,471700516.0,477656979.0,\n483835348.0,491049203.0,498238544.0,504855230.0,511798492.0,519471732.0,527858967.0,536408672.0,544679377.0,552721134.0,\n560312586.0,567224558.0,573790071.0,580322015.0,586672507.0,592868311.0,598982994.0,604764109.0,610004104.0,614775825.0,\n619165993.0,623205125.0,626956157.0,630545489.0,634130240.0,637560457.0,640793072.0,644001246.0,647159372.0,650275748.0,\n653422748.0,656677290.0,660023537.0,663493378.0,667009225.0,670780903.0,674707818.0,677972245.0, 680596325.0\n]\n\nchina_ma_population = [\n340176563.0,342816412.0,351194360.0,359286788.0,367783568.0,378005313.0,387670493.0,397756301.0,408662304.0,419999230.0,\n431629087.0,442333497.0,452541867.0,461994684.0,470239507.0,477588522.0,484162513.0,490704446.0,497304484.0,503578021.0,\n510049652.0,517580797.0,525071456.0,531969770.0,539241508.0,547318268.0,556176033.0,565221328.0,573970623.0,582463866.0,\n590467414.0,597745442.0,604649929.0,611512985.0,618182493.0,624681689.0,631092006.0,637170891.0,642730896.0,647869175.0,\n652684007.0,657194875.0,661443843.0,665529511.0,669589760.0,673459543.0,677091928.0,680653754.0,684100628.0,687429252.0,\n690707252.0,694017710.0,697356463.0,700776622.0,704210775.0,707884097.0,711687182.0,714757755.0,717118675.0\n]\n\nx=np.arange(1961, 2020, 1)\nfig = go.Figure(go.Bar(x=x, y=china_fe_population, name='Female'))\nfig.add_trace(go.Bar(x=x, y=china_ma_population, name='Male'))\n\nfig.update_layout(barmode='stack', xaxis = dict(title='Year', titlefont_size=20),\n                  yaxis = dict(title='Population', titlefont_size=20), title = \"Population of China\", titlefont_size=30)\nfig.show()",
    "id": "162e290640ca48b5851ed3b35acee6f2",
    "idx": 0,
    "time": "2021-02-03T22:17:00.684Z",
    "type": "execution"
   },
   {
    "id": "162e290640ca48b5851ed3b35acee6f2",
    "time": "2021-02-03T22:17:02.638Z",
    "type": "completion"
   },
   {
    "code": "import plotly.graph_objects as go\nimport numpy as np\n\n#Population data from Lecture 1's wbdata\n\nchina_fe_population = [320153437.0, 322953588.0, 331140640.0, 339068212.0, 347401432.0, 357394687.0, 366879507.0, 376753699.0,\n                       387362696.0, 398315770.0, 409475913.0, 419696503.0, 429398133.0, 438355316.0, 446155493.0, 453096478.0,\n                       459292487.0, 465460554.0, 471700516.0, 477656979.0, 483835348.0, 491049203.0, 498238544.0, 504855230.0,\n                       511798492.0, 519471732.0, 527858967.0, 536408672.0, 544679377.0, 552721134.0, 560312586.0, 567224558.0,\n                       573790071.0, 580322015.0, 586672507.0, 592868311.0, 598982994.0, 604764109.0, 610004104.0, 614775825.0,\n                       619165993.0, 623205125.0, 626956157.0, 630545489.0, 634130240.0, 637560457.0, 640793072.0, 644001246.0,\n                       647159372.0, 650275748.0, 653422748.0, 656677290.0, 660023537.0, 663493378.0, 667009225.0, 670780903.0,\n                       674707818.0, 677972245.0, 680596325.0\n                      ]\n\nchina_ma_population = [340176563.0, 342816412.0, 351194360.0, 359286788.0, 367783568.0, 378005313.0, 387670493.0, 397756301.0,\n                       408662304.0, 419999230.0, 431629087.0, 442333497.0, 452541867.0, 461994684.0, 470239507.0, 477588522.0,\n                       484162513.0, 490704446.0, 497304484.0, 503578021.0, 510049652.0, 517580797.0, 525071456.0, 531969770.0,\n                       539241508.0, 547318268.0, 556176033.0, 565221328.0, 573970623.0, 582463866.0, 590467414.0, 597745442.0,\n                       604649929.0, 611512985.0, 618182493.0, 624681689.0, 631092006.0, 637170891.0, 642730896.0, 647869175.0, \n                       652684007.0, 657194875.0, 661443843.0, 665529511.0, 669589760.0, 673459543.0, 677091928.0, 680653754.0,\n                       684100628.0, 687429252.0, 690707252.0, 694017710.0, 697356463.0, 700776622.0, 704210775.0, 707884097.0,\n                       711687182.0, 714757755.0, 717118675.0\n                      ]\n\nx=np.arange(1961, 2020, 1)\nfig1 = go.Figure(go.Bar(x=x, y=china_fe_population, name='Female'))\nfig1.add_trace(go.Bar(x=x, y=china_ma_population, name='Male'))\n\nfig1.update_layout(barmode='stack', xaxis = dict(title='Year', titlefont_size=20),\n                  yaxis = dict(title='Population', titlefont_size=20), title = \"Population of China\", titlefont_size=30)\nfig1.show()",
    "id": "162e290640ca48b5851ed3b35acee6f2",
    "idx": 0,
    "time": "2021-02-03T22:29:42.059Z",
    "type": "execution"
   },
   {
    "id": "162e290640ca48b5851ed3b35acee6f2",
    "time": "2021-02-03T22:29:42.237Z",
    "type": "completion"
   },
   {
    "code": "india_fe_population = [222328744.0, 226780736.0, 231387197.0, 236130819.0, 241002417.0, 245993499.0, 251117415.0, 256412983.0,\n                       261932711.0, 267712745.0, 273769665.0, 280088829.0, 293362998.0, 300231624.0, 307224285.0, 314349666.0,\n                       321629370.0, 329097304.0, 336773405.0, 344660920.0, 352736218.0, 360959428.0, 369276873.0, 377646918.0, \n                       386054077.0, 394498853.0, 402975459.0, 411482899.0, 420020420.0, 428576056.0, 437144411.0, 445740100.0, \n                       454384942.0, 463091989.0, 471862699.0, 480682703.0, 489529545.0, 498372775.0, 507187684.0, 515957245.0, \n                       524676538.0, 533346646.0, 541973977.0, 550557712.0, 559099816.0, 567579951.0, 575948780.0, 584142640.0, \n                       592116985.0, 599851725.0, 607361114.0, 614678382.0, 621854638.0, 628929065.0, 635908885.0, 642787641.0, \n                       649574719.0, 656288183.0\n]\n\nindia_ma_population = [237313421.0, 242296454.0, 247438411.0, 252717316.0, 258120907.0, 263638001.0, 269283161.0, 275100841.0, \n                       281151625.0, 287477047.0, 294098353.0, 300998427.0, 308133554.0, 315439602.0, 322871273.0, 330405802.0,\n                       338059110.0, 345870436.0, 353898050.0, 362179439.0, 370724073.0, 379503286.0, 388469530.0, 397556537.0, \n                       406713090.0, 415921167.0, 425183249.0, 434493471.0, 443851779.0, 453257378.0, 462697153.0, 472162605.0, \n                       481663760.0, 491216889.0, 500830599.0, 510502544.0, 520217327.0, 529954036.0, 539685381.0, 549387865.0, \n                       559042840.0, 568640651.0, 578176498.0, 587649479.0, 597052215.0, 606386475.0, 615629521.0, 624720985.0, \n                       633583575.0, 642164185.0, 650437004.0, 658421676.0, 666167747.0, 673749546.0, 681223338.0, 688600704.0, \n                       695871194.0, 703042609.0, 710129571.0, \n]\n\nfig2 = go.Figure(go.Bar(x=x, y=india_fe_population, name='Female'))\nfig2.add_trace(go.Bar(x=x, y=india_ma_population, name='Male'))\n\nfig2.update_layout(barmode='stack', xaxis = dict(title='Year', titlefont_size=20),\n                  yaxis = dict(title='Population', titlefont_size=20), title = \"Population of India\", titlefont_size=30)\nfig2.show()",
    "id": "cb5138c4661a47d2865981bc7cecc2c5",
    "idx": 1,
    "time": "2021-02-03T22:36:30.379Z",
    "type": "execution"
   },
   {
    "id": "cb5138c4661a47d2865981bc7cecc2c5",
    "time": "2021-02-03T22:36:30.539Z",
    "type": "completion"
   },
   {
    "code": "india_fe_population = [222328744.0, 226780736.0, 231387197.0, 236130819.0, 241002417.0, 245993499.0, 251117415.0, 256412983.0, \n                       261932711.0, 267712745.0, 273769665.0, 280088829.0, 286636580.0, 293362998.0, 300231624.0, 307224285.0, \n                       314349666.0, 321629370.0, 329097304.0, 336773405.0, 344660920.0, 352736218.0, 360959428.0, 369276873.0, \n                       377646918.0, 386054077.0, 394498853.0, 402975459.0, 411482899.0, 420020420.0, 428576056.0, 437144411.0, \n                       445740100.0, 454384942.0, 463091989.0, 471862699.0, 480682703.0, 489529545.0, 498372775.0, 507187684.0, \n                       515957245.0, 524676538.0, 533346646.0, 541973977.0, 550557712.0, 559099816.0, 567579951.0, 575948780.0, \n                       584142640.0, 592116985.0, 599851725.0, 607361114.0, 614678382.0, 621854638.0, 628929065.0, 635908885.0, \n                       642787641.0, 649574719.0, 656288183.0\n                      ]\n\n\nindia_ma_population = [237313421.0, 242296454.0, 247438411.0, 252717316.0, 258120907.0, 263638001.0, 269283161.0, 275100841.0, \n                       281151625.0, 287477047.0, 294098353.0, 300998427.0, 308133554.0, 315439602.0, 322871273.0, 330405802.0,\n                       338059110.0, 345870436.0, 353898050.0, 362179439.0, 370724073.0, 379503286.0, 388469530.0, 397556537.0, \n                       406713090.0, 415921167.0, 425183249.0, 434493471.0, 443851779.0, 453257378.0, 462697153.0, 472162605.0, \n                       481663760.0, 491216889.0, 500830599.0, 510502544.0, 520217327.0, 529954036.0, 539685381.0, 549387865.0, \n                       559042840.0, 568640651.0, 578176498.0, 587649479.0, 597052215.0, 606386475.0, 615629521.0, 624720985.0, \n                       633583575.0, 642164185.0, 650437004.0, 658421676.0, 666167747.0, 673749546.0, 681223338.0, 688600704.0, \n                       695871194.0, 703042609.0, 710129571.0\n                      ]\n\nfig2 = go.Figure(go.Bar(x=x, y=india_fe_population, name='Female'))\nfig2.add_trace(go.Bar(x=x, y=india_ma_population, name='Male'))\n\nfig2.update_layout(barmode='stack', xaxis = dict(title='Year', titlefont_size=20),\n                  yaxis = dict(title='Population', titlefont_size=20), title = \"Population of India\", titlefont_size=30)\nfig2.show()",
    "id": "cb5138c4661a47d2865981bc7cecc2c5",
    "idx": 1,
    "time": "2021-02-03T22:44:09.501Z",
    "type": "execution"
   },
   {
    "id": "cb5138c4661a47d2865981bc7cecc2c5",
    "time": "2021-02-03T22:44:09.719Z",
    "type": "completion"
   },
   {
    "code": "japan_fe_population = [48207265.0, 48658610.0, 49156435.0, 49669854.0, 50202076.0, 50654649.0, 51118354.0, 51275717.0,\n                       52332222.0, 52912269.0, 53582623.0, 54323037.0, 54759934.0, 55802301.0, 56692355.0, 57105578.0,\n                       57653715.0, 58175297.0, 58666578.0, 59128589.0, 59568195.0, 59976057.0, 60390235.0, 60781188.0, \n                       61163616.0, 61550553.0, 61870178.0, 62152720.0, 62425974.0, 62656883.0, 62867656.0, 63038943.0, \n                       63209914.0, 63442648.0, 63705357.0, 63890191.0, 64068675.0, 64270952.0, 64416945.0, 64552936.0, \n                       64736064.0, 64913526.0, 65078804.0, 65126621.0, 65158465.0, 65225372.0, 65325526.0, 65381234.0,\n                       65395181.0, 65426533.0, 65322325.0, 65232461.0, 65150796.0, 65075452.0, 65016722.0, 64951468.0, \n                       64853783.0, 64731350.0, 64605360.0\n                      ]\njapan_ma_population = [46735735.0, 47173390.0, 47655565.0, 48156146.0, 48680924.0, 49135351.0, 49606646.0, 49785283.0, \n                       50839778.0, 51432731.0, 52114377.0, 52864963.0, 53319066.0, 54359699.0, 55247645.0, 55665422.0, \n                       56209285.0, 56722703.0, 57203422.0, 57653411.0, 58079805.0, 58472943.0, 58868765.0, 59236812.0, \n                       59590384.0, 59941447.0, 60220822.0, 60460280.0, 60690026.0, 60880117.0, 61053344.0, 61190057.0, \n                       61326086.0, 61518352.0, 61733643.0, 61866809.0, 61988325.0, 62129048.0, 62214055.0, 62290064.0, \n                       62412936.0, 62531474.0, 62639196.0, 62634379.0, 62614535.0, 62628628.0, 62675474.0, 62681766.0, \n                       62651819.0, 62643467.0, 62510675.0, 62396539.0, 62294204.0, 62200548.0, 62124278.0, 62043043.0,\n                       61932014.0, 61797750.0, 61659571.0, \n                      ]\nfig3 = go.Figure(go.Bar(x=x, y=japan_fe_population, name='Female'))\nfig3.add_trace(go.Bar(x=x, y=japan_ma_population, name='Male'))\n\nfig3.update_layout(barmode='stack', xaxis = dict(title='Year', titlefont_size=20),\n                  yaxis = dict(title='Population', titlefont_size=20), title = \"Population of Japan\", titlefont_size=30)\nfig3.show()",
    "id": "b5817e5131af47b081c3be4c03fb8370",
    "idx": 2,
    "time": "2021-02-03T22:51:45.930Z",
    "type": "execution"
   },
   {
    "id": "b5817e5131af47b081c3be4c03fb8370",
    "time": "2021-02-03T22:51:46.103Z",
    "type": "completion"
   },
   {
    "code": "italy_fe_population = [25964789.0, 26138706.0, 26327740.0, 26541784.0, 26761059.0, 26962781.0, 27150216.0, 27313588.0,\n                       27461125.0, 27601465.0, 27727502.0, 27884366.0, 28075511.0, 28264021.0, 28440396.0, 28593188.0, \n                       28728395.0, 28844774.0, 28938963.0, 29003779.0, 29037088.0, 29051541.0, 29052240.0, 29050056.0, \n                       29053777.0, 29055645.0, 29062997.0, 29084322.0, 29114370.0, 29146541.0, 29173243.0, 29198819.0, \n                       29223132.0, 29238360.0, 29252149.0, 29279269.0, 29318010.0, 29349203.0, 29369602.0, 29386547.0, \n                       29391908.0, 29412462.0, 29515905.0, 29686364.0, 29825093.0, 29924053.0, 30098000.0, 30326738.0, \n                       30489592.0, 30596015.0, 30647051.0, 30716752.0, 31053693.0, 31315785.0, 31262660.0, 31188515.0, \n                       31121471.0, 31042688.0, 30959312.0\n                      ]\n\nitaly_ma_population = [24571561.0, 24740744.0, 24924260.0, 25133566.0, 25351291.0, 25556219.0, 25750284.0, 25922162.0,\n                       26076825.0, 26220385.0, 26345988.0, 26496979.0, 26675895.0, 26846847.0, 27000605.0, 27125072.0, \n                       27227016.0, 27310369.0, 27378786.0, 27430104.0, 27464587.0, 27492007.0, 27511834.0, 27526662.0, \n                       27539294.0, 27540510.0, 27538934.0, 27544966.0, 27557411.0, 27572699.0, 27585278.0, 27598268.0, \n                       27608689.0, 27605040.0, 27592154.0, 27581012.0, 27572362.0, 27557541.0, 27546715.0, 27555561.0, \n                       27582192.0, 27646545.0, 27797298.0, 27998963.0, 28144391.0, 28219926.0, 28340310.0, 28499993.0, \n                       28605773.0, 28681402.0, 28732398.0, 28822965.0, 29180255.0, 29473355.0, 29467922.0, 29438983.0, \n                       29415238.0, 29379072.0, 29338084.0\n                      ]\nfig4 = go.Figure(go.Bar(x=x, y=italy_fe_population, name='Female'))\nfig4.add_trace(go.Bar(x=x, y=italy_ma_population, name='Male'))\n\nfig4.update_layout(barmode='stack', xaxis = dict(title='Year', titlefont_size=20),\n                  yaxis = dict(title='Population', titlefont_size=20), title = \"Population of Italy\", titlefont_size=30)\nfig4.show()",
    "id": "20641c21933549118ccdb55634fd3b61",
    "idx": 3,
    "time": "2021-02-03T22:58:35.212Z",
    "type": "execution"
   },
   {
    "id": "20641c21933549118ccdb55634fd3b61",
    "time": "2021-02-03T22:58:35.366Z",
    "type": "completion"
   },
   {
    "code": "russia_fe_population = [66796030.0, 67403904.0, 68022910.0, 68657512.0, 69309485.0, 69600772.0, 69903772.0, 70218208.0, \n                        70544418.0, 70882181.0, 71236341.0, 71600962.0, 71971605.0, 72338525.0, 72697052.0, 73138343.0, \n                        73570204.0, 73997784.0, 74428151.0, 74871110.0, 75293024.0, 75693627.0, 76073678.0, 76569238.0, \n                        77069777.0, 77512558.0, 77931654.0, 78313902.0, 78662015.0, 78703457.0, 78863097.0, 78895470.0, \n                        78828710.0, 78791977.0, 78776519.0, 78673971.0, 78567094.0, 78471510.0, 78275119.0, 78003730.0, \n                        77741908.0, 77462311.0, 77192724.0, 76961036.0, 76738888.0, 76548836.0, 76469027.0, 76477539.0, \n                        76535797.0, 76600057.0, 76684367.0, 76832143.0, 77008973.0, 77184758.0, 77337012.0, 77468056.0, \n                        77546481.0, 77529366.0, 77465163.0, \n                       ]\n\nrussia_ma_population = [54439970.0, 55187096.0, 55937090.0, 56687488.0, 57435515.0, 57867228.0, 58292228.0, 58709792.0, \n                        59119582.0, 59521819.0, 59918659.0, 60308038.0, 60697395.0, 61093475.0, 61502948.0, 62008657.0, \n                        62529796.0, 63062216.0, 63598849.0, 64138890.0, 64647976.0, 65129373.0, 65594322.0, 66175762.0, \n                        66788223.0, 67381442.0, 67976346.0, 68543098.0, 69058985.0, 69265950.0, 69531119.0, 69642727.0, \n                        69630067.0, 69615935.0, 69599268.0, 69486158.0, 69348267.0, 69199274.0, 68939657.0, 68593139.0, \n                        68234574.0, 67844186.0, 67455894.0, 67106280.0, 66779926.0, 66500801.0, 66336087.0, 66264827.0, \n                        66249552.0, 66249411.0, 66276541.0, 66369578.0, 66498022.0, 66634908.0, 66759858.0, 66874340.0, \n66950259.0, \n66948494.0, \n66908372.0, \n]\n\njapan_ma_population",
    "id": "58744d017d524b578828c60f0e77bdf3",
    "idx": 4,
    "time": "2021-02-03T23:03:25.906Z",
    "type": "execution"
   },
   {
    "id": "58744d017d524b578828c60f0e77bdf3",
    "time": "2021-02-03T23:03:26.018Z",
    "type": "completion"
   },
   {
    "code": "russia_fe_population = [66796030.0, 67403904.0, 68022910.0, 68657512.0, 69309485.0, 69600772.0, 69903772.0, 70218208.0, \n                        70544418.0, 70882181.0, 71236341.0, 71600962.0, 71971605.0, 72338525.0, 72697052.0, 73138343.0, \n                        73570204.0, 73997784.0, 74428151.0, 74871110.0, 75293024.0, 75693627.0, 76073678.0, 76569238.0, \n                        77069777.0, 77512558.0, 77931654.0, 78313902.0, 78662015.0, 78703457.0, 78863097.0, 78895470.0, \n                        78828710.0, 78791977.0, 78776519.0, 78673971.0, 78567094.0, 78471510.0, 78275119.0, 78003730.0, \n                        77741908.0, 77462311.0, 77192724.0, 76961036.0, 76738888.0, 76548836.0, 76469027.0, 76477539.0, \n                        76535797.0, 76600057.0, 76684367.0, 76832143.0, 77008973.0, 77184758.0, 77337012.0, 77468056.0, \n                        77546481.0, 77529366.0, 77465163.0\n                       ]\n\nrussia_ma_population = [54439970.0, 55187096.0, 55937090.0, 56687488.0, 57435515.0, 57867228.0, 58292228.0, 58709792.0, \n                        59119582.0, 59521819.0, 59918659.0, 60308038.0, 60697395.0, 61093475.0, 61502948.0, 62008657.0, \n                        62529796.0, 63062216.0, 63598849.0, 64138890.0, 64647976.0, 65129373.0, 65594322.0, 66175762.0, \n                        66788223.0, 67381442.0, 67976346.0, 68543098.0, 69058985.0, 69265950.0, 69531119.0, 69642727.0, \n                        69630067.0, 69615935.0, 69599268.0, 69486158.0, 69348267.0, 69199274.0, 68939657.0, 68593139.0, \n                        68234574.0, 67844186.0, 67455894.0, 67106280.0, 66779926.0, 66500801.0, 66336087.0, 66264827.0, \n                        66249552.0, 66249411.0, 66276541.0, 66369578.0, 66498022.0, 66634908.0, 66759858.0, 66874340.0, \n                        66950259.0, 66948494.0, 66908372.0\n]\n\nfig5 = go.Figure(go.Bar(x=x, y=russia_fe_population, name='Female'))\nfig5.add_trace(go.Bar(x=x, y=russia_ma_population, name='Male'))\n\nfig5.update_layout(barmode='stack', xaxis = dict(title='Year', titlefont_size=20),\n                  yaxis = dict(title='Population', titlefont_size=20), title = \"Population of Russia\", titlefont_size=30)\nfig5.show()",
    "id": "58744d017d524b578828c60f0e77bdf3",
    "idx": 4,
    "time": "2021-02-03T23:04:15.524Z",
    "type": "execution"
   },
   {
    "id": "58744d017d524b578828c60f0e77bdf3",
    "time": "2021-02-03T23:04:15.669Z",
    "type": "completion"
   },
   {
    "code": "import plotly.graph_objects as go\nimport numpy as np\n\n#Population data from Lecture 1's wbdata\n\nchina_fe_population = [320153437.0, 322953588.0, 331140640.0, 339068212.0, 347401432.0, 357394687.0, 366879507.0, 376753699.0,\n                       387362696.0, 398315770.0, 409475913.0, 419696503.0, 429398133.0, 438355316.0, 446155493.0, 453096478.0,\n                       459292487.0, 465460554.0, 471700516.0, 477656979.0, 483835348.0, 491049203.0, 498238544.0, 504855230.0,\n                       511798492.0, 519471732.0, 527858967.0, 536408672.0, 544679377.0, 552721134.0, 560312586.0, 567224558.0,\n                       573790071.0, 580322015.0, 586672507.0, 592868311.0, 598982994.0, 604764109.0, 610004104.0, 614775825.0,\n                       619165993.0, 623205125.0, 626956157.0, 630545489.0, 634130240.0, 637560457.0, 640793072.0, 644001246.0,\n                       647159372.0, 650275748.0, 653422748.0, 656677290.0, 660023537.0, 663493378.0, 667009225.0, 670780903.0,\n                       674707818.0, 677972245.0, 680596325.0\n                      ]\n\nchina_ma_population = [340176563.0, 342816412.0, 351194360.0, 359286788.0, 367783568.0, 378005313.0, 387670493.0, 397756301.0,\n                       408662304.0, 419999230.0, 431629087.0, 442333497.0, 452541867.0, 461994684.0, 470239507.0, 477588522.0,\n                       484162513.0, 490704446.0, 497304484.0, 503578021.0, 510049652.0, 517580797.0, 525071456.0, 531969770.0,\n                       539241508.0, 547318268.0, 556176033.0, 565221328.0, 573970623.0, 582463866.0, 590467414.0, 597745442.0,\n                       604649929.0, 611512985.0, 618182493.0, 624681689.0, 631092006.0, 637170891.0, 642730896.0, 647869175.0, \n                       652684007.0, 657194875.0, 661443843.0, 665529511.0, 669589760.0, 673459543.0, 677091928.0, 680653754.0,\n                       684100628.0, 687429252.0, 690707252.0, 694017710.0, 697356463.0, 700776622.0, 704210775.0, 707884097.0,\n                       711687182.0, 714757755.0, 717118675.0\n                      ]\n\nx=np.arange(1961, 2020, 1)\nfig1 = go.Figure(go.Bar(x=x, y=china_fe_population, name='Female'))\nfig1.add_trace(go.Bar(x=x, y=china_ma_population, name='Male'))\n\nfig1.update_layout(barmode='stack', xaxis = dict(title='Year', titlefont_size=20),\n                  yaxis = dict(title='Population', titlefont_size=20), title = \"Population of China\", titlefont_size=30)\nfig1.show()",
    "id": "162e290640ca48b5851ed3b35acee6f2",
    "idx": 0,
    "time": "2021-02-03T23:05:01.923Z",
    "type": "execution"
   },
   {
    "code": "india_fe_population = [222328744.0, 226780736.0, 231387197.0, 236130819.0, 241002417.0, 245993499.0, 251117415.0, 256412983.0, \n                       261932711.0, 267712745.0, 273769665.0, 280088829.0, 286636580.0, 293362998.0, 300231624.0, 307224285.0, \n                       314349666.0, 321629370.0, 329097304.0, 336773405.0, 344660920.0, 352736218.0, 360959428.0, 369276873.0, \n                       377646918.0, 386054077.0, 394498853.0, 402975459.0, 411482899.0, 420020420.0, 428576056.0, 437144411.0, \n                       445740100.0, 454384942.0, 463091989.0, 471862699.0, 480682703.0, 489529545.0, 498372775.0, 507187684.0, \n                       515957245.0, 524676538.0, 533346646.0, 541973977.0, 550557712.0, 559099816.0, 567579951.0, 575948780.0, \n                       584142640.0, 592116985.0, 599851725.0, 607361114.0, 614678382.0, 621854638.0, 628929065.0, 635908885.0, \n                       642787641.0, 649574719.0, 656288183.0\n                      ]\n\n\nindia_ma_population = [237313421.0, 242296454.0, 247438411.0, 252717316.0, 258120907.0, 263638001.0, 269283161.0, 275100841.0, \n                       281151625.0, 287477047.0, 294098353.0, 300998427.0, 308133554.0, 315439602.0, 322871273.0, 330405802.0,\n                       338059110.0, 345870436.0, 353898050.0, 362179439.0, 370724073.0, 379503286.0, 388469530.0, 397556537.0, \n                       406713090.0, 415921167.0, 425183249.0, 434493471.0, 443851779.0, 453257378.0, 462697153.0, 472162605.0, \n                       481663760.0, 491216889.0, 500830599.0, 510502544.0, 520217327.0, 529954036.0, 539685381.0, 549387865.0, \n                       559042840.0, 568640651.0, 578176498.0, 587649479.0, 597052215.0, 606386475.0, 615629521.0, 624720985.0, \n                       633583575.0, 642164185.0, 650437004.0, 658421676.0, 666167747.0, 673749546.0, 681223338.0, 688600704.0, \n                       695871194.0, 703042609.0, 710129571.0\n                      ]\n\nfig2 = go.Figure(go.Bar(x=x, y=india_fe_population, name='Female'))\nfig2.add_trace(go.Bar(x=x, y=india_ma_population, name='Male'))\n\nfig2.update_layout(barmode='stack', xaxis = dict(title='Year', titlefont_size=20),\n                  yaxis = dict(title='Population', titlefont_size=20), title = \"Population of India\", titlefont_size=30)\nfig2.show()",
    "id": "cb5138c4661a47d2865981bc7cecc2c5",
    "idx": 1,
    "time": "2021-02-03T23:05:01.933Z",
    "type": "execution"
   },
   {
    "code": "japan_fe_population = [48207265.0, 48658610.0, 49156435.0, 49669854.0, 50202076.0, 50654649.0, 51118354.0, 51275717.0,\n                       52332222.0, 52912269.0, 53582623.0, 54323037.0, 54759934.0, 55802301.0, 56692355.0, 57105578.0,\n                       57653715.0, 58175297.0, 58666578.0, 59128589.0, 59568195.0, 59976057.0, 60390235.0, 60781188.0, \n                       61163616.0, 61550553.0, 61870178.0, 62152720.0, 62425974.0, 62656883.0, 62867656.0, 63038943.0, \n                       63209914.0, 63442648.0, 63705357.0, 63890191.0, 64068675.0, 64270952.0, 64416945.0, 64552936.0, \n                       64736064.0, 64913526.0, 65078804.0, 65126621.0, 65158465.0, 65225372.0, 65325526.0, 65381234.0,\n                       65395181.0, 65426533.0, 65322325.0, 65232461.0, 65150796.0, 65075452.0, 65016722.0, 64951468.0, \n                       64853783.0, 64731350.0, 64605360.0\n                      ]\njapan_ma_population = [46735735.0, 47173390.0, 47655565.0, 48156146.0, 48680924.0, 49135351.0, 49606646.0, 49785283.0, \n                       50839778.0, 51432731.0, 52114377.0, 52864963.0, 53319066.0, 54359699.0, 55247645.0, 55665422.0, \n                       56209285.0, 56722703.0, 57203422.0, 57653411.0, 58079805.0, 58472943.0, 58868765.0, 59236812.0, \n                       59590384.0, 59941447.0, 60220822.0, 60460280.0, 60690026.0, 60880117.0, 61053344.0, 61190057.0, \n                       61326086.0, 61518352.0, 61733643.0, 61866809.0, 61988325.0, 62129048.0, 62214055.0, 62290064.0, \n                       62412936.0, 62531474.0, 62639196.0, 62634379.0, 62614535.0, 62628628.0, 62675474.0, 62681766.0, \n                       62651819.0, 62643467.0, 62510675.0, 62396539.0, 62294204.0, 62200548.0, 62124278.0, 62043043.0,\n                       61932014.0, 61797750.0, 61659571.0, \n                      ]\nfig3 = go.Figure(go.Bar(x=x, y=japan_fe_population, name='Female'))\nfig3.add_trace(go.Bar(x=x, y=japan_ma_population, name='Male'))\n\nfig3.update_layout(barmode='stack', xaxis = dict(title='Year', titlefont_size=20),\n                  yaxis = dict(title='Population', titlefont_size=20), title = \"Population of Japan\", titlefont_size=30)\nfig3.show()",
    "id": "b5817e5131af47b081c3be4c03fb8370",
    "idx": 2,
    "time": "2021-02-03T23:05:01.945Z",
    "type": "execution"
   },
   {
    "code": "italy_fe_population = [25964789.0, 26138706.0, 26327740.0, 26541784.0, 26761059.0, 26962781.0, 27150216.0, 27313588.0,\n                       27461125.0, 27601465.0, 27727502.0, 27884366.0, 28075511.0, 28264021.0, 28440396.0, 28593188.0, \n                       28728395.0, 28844774.0, 28938963.0, 29003779.0, 29037088.0, 29051541.0, 29052240.0, 29050056.0, \n                       29053777.0, 29055645.0, 29062997.0, 29084322.0, 29114370.0, 29146541.0, 29173243.0, 29198819.0, \n                       29223132.0, 29238360.0, 29252149.0, 29279269.0, 29318010.0, 29349203.0, 29369602.0, 29386547.0, \n                       29391908.0, 29412462.0, 29515905.0, 29686364.0, 29825093.0, 29924053.0, 30098000.0, 30326738.0, \n                       30489592.0, 30596015.0, 30647051.0, 30716752.0, 31053693.0, 31315785.0, 31262660.0, 31188515.0, \n                       31121471.0, 31042688.0, 30959312.0\n                      ]\n\nitaly_ma_population = [24571561.0, 24740744.0, 24924260.0, 25133566.0, 25351291.0, 25556219.0, 25750284.0, 25922162.0,\n                       26076825.0, 26220385.0, 26345988.0, 26496979.0, 26675895.0, 26846847.0, 27000605.0, 27125072.0, \n                       27227016.0, 27310369.0, 27378786.0, 27430104.0, 27464587.0, 27492007.0, 27511834.0, 27526662.0, \n                       27539294.0, 27540510.0, 27538934.0, 27544966.0, 27557411.0, 27572699.0, 27585278.0, 27598268.0, \n                       27608689.0, 27605040.0, 27592154.0, 27581012.0, 27572362.0, 27557541.0, 27546715.0, 27555561.0, \n                       27582192.0, 27646545.0, 27797298.0, 27998963.0, 28144391.0, 28219926.0, 28340310.0, 28499993.0, \n                       28605773.0, 28681402.0, 28732398.0, 28822965.0, 29180255.0, 29473355.0, 29467922.0, 29438983.0, \n                       29415238.0, 29379072.0, 29338084.0\n                      ]\nfig4 = go.Figure(go.Bar(x=x, y=italy_fe_population, name='Female'))\nfig4.add_trace(go.Bar(x=x, y=italy_ma_population, name='Male'))\n\nfig4.update_layout(barmode='stack', xaxis = dict(title='Year', titlefont_size=20),\n                  yaxis = dict(title='Population', titlefont_size=20), title = \"Population of Italy\", titlefont_size=30)\nfig4.show()",
    "id": "20641c21933549118ccdb55634fd3b61",
    "idx": 3,
    "time": "2021-02-03T23:05:01.958Z",
    "type": "execution"
   },
   {
    "code": "russia_fe_population = [66796030.0, 67403904.0, 68022910.0, 68657512.0, 69309485.0, 69600772.0, 69903772.0, 70218208.0, \n                        70544418.0, 70882181.0, 71236341.0, 71600962.0, 71971605.0, 72338525.0, 72697052.0, 73138343.0, \n                        73570204.0, 73997784.0, 74428151.0, 74871110.0, 75293024.0, 75693627.0, 76073678.0, 76569238.0, \n                        77069777.0, 77512558.0, 77931654.0, 78313902.0, 78662015.0, 78703457.0, 78863097.0, 78895470.0, \n                        78828710.0, 78791977.0, 78776519.0, 78673971.0, 78567094.0, 78471510.0, 78275119.0, 78003730.0, \n                        77741908.0, 77462311.0, 77192724.0, 76961036.0, 76738888.0, 76548836.0, 76469027.0, 76477539.0, \n                        76535797.0, 76600057.0, 76684367.0, 76832143.0, 77008973.0, 77184758.0, 77337012.0, 77468056.0, \n                        77546481.0, 77529366.0, 77465163.0\n                       ]\n\nrussia_ma_population = [54439970.0, 55187096.0, 55937090.0, 56687488.0, 57435515.0, 57867228.0, 58292228.0, 58709792.0, \n                        59119582.0, 59521819.0, 59918659.0, 60308038.0, 60697395.0, 61093475.0, 61502948.0, 62008657.0, \n                        62529796.0, 63062216.0, 63598849.0, 64138890.0, 64647976.0, 65129373.0, 65594322.0, 66175762.0, \n                        66788223.0, 67381442.0, 67976346.0, 68543098.0, 69058985.0, 69265950.0, 69531119.0, 69642727.0, \n                        69630067.0, 69615935.0, 69599268.0, 69486158.0, 69348267.0, 69199274.0, 68939657.0, 68593139.0, \n                        68234574.0, 67844186.0, 67455894.0, 67106280.0, 66779926.0, 66500801.0, 66336087.0, 66264827.0, \n                        66249552.0, 66249411.0, 66276541.0, 66369578.0, 66498022.0, 66634908.0, 66759858.0, 66874340.0, \n                        66950259.0, 66948494.0, 66908372.0\n]\n\nfig5 = go.Figure(go.Bar(x=x, y=russia_fe_population, name='Female'))\nfig5.add_trace(go.Bar(x=x, y=russia_ma_population, name='Male'))\n\nfig5.update_layout(barmode='stack', xaxis = dict(title='Year', titlefont_size=20),\n                  yaxis = dict(title='Population', titlefont_size=20), title = \"Population of Russia\", titlefont_size=30)\nfig5.show()",
    "id": "58744d017d524b578828c60f0e77bdf3",
    "idx": 4,
    "time": "2021-02-03T23:05:01.967Z",
    "type": "execution"
   },
   {
    "id": "162e290640ca48b5851ed3b35acee6f2",
    "time": "2021-02-03T23:05:05.940Z",
    "type": "completion"
   },
   {
    "id": "cb5138c4661a47d2865981bc7cecc2c5",
    "time": "2021-02-03T23:05:05.990Z",
    "type": "completion"
   },
   {
    "id": "b5817e5131af47b081c3be4c03fb8370",
    "time": "2021-02-03T23:05:06.001Z",
    "type": "completion"
   },
   {
    "id": "20641c21933549118ccdb55634fd3b61",
    "time": "2021-02-03T23:05:06.012Z",
    "type": "completion"
   },
   {
    "id": "58744d017d524b578828c60f0e77bdf3",
    "time": "2021-02-03T23:05:06.034Z",
    "type": "completion"
   },
   {
    "code": "figure1 = px.scatter(x=x, y=china_fe_population)",
    "id": "ad367de45c784a2c810e2eaaf6f9ef4e",
    "idx": 5,
    "time": "2021-02-03T23:10:28.848Z",
    "type": "execution"
   },
   {
    "id": "ad367de45c784a2c810e2eaaf6f9ef4e",
    "time": "2021-02-03T23:10:29.129Z",
    "type": "completion"
   },
   {
    "code": "import plotly.express as px\nfigure1 = px.scatter(x=x, y=china_fe_population)",
    "id": "ad367de45c784a2c810e2eaaf6f9ef4e",
    "idx": 5,
    "time": "2021-02-03T23:10:44.761Z",
    "type": "execution"
   },
   {
    "id": "ad367de45c784a2c810e2eaaf6f9ef4e",
    "time": "2021-02-03T23:10:46.078Z",
    "type": "completion"
   },
   {
    "code": "import plotly.express as px\nfigure1 = px.scatter(x=x, y=china_fe_population)\nfigure1",
    "id": "ad367de45c784a2c810e2eaaf6f9ef4e",
    "idx": 5,
    "time": "2021-02-03T23:10:49.250Z",
    "type": "execution"
   },
   {
    "id": "ad367de45c784a2c810e2eaaf6f9ef4e",
    "time": "2021-02-03T23:10:49.435Z",
    "type": "completion"
   },
   {
    "code": "import plotly.express as px\nfigure1 = px.scatter(x=x, y=china_fe_population, trendline=\"ols\")\nfigure1",
    "id": "ad367de45c784a2c810e2eaaf6f9ef4e",
    "idx": 5,
    "time": "2021-02-03T23:10:59.813Z",
    "type": "execution"
   },
   {
    "id": "ad367de45c784a2c810e2eaaf6f9ef4e",
    "time": "2021-02-03T23:11:00.560Z",
    "type": "completion"
   },
   {
    "code": "import plotly.express as px\nfigure1 = px.scatter(x=x, y=china_fe_population, trendline=\"ols\")\nfigure1.add_trace(px.scatter(x=x, y=china_ma_population, trendline=\"ols\"))\nfigure1",
    "id": "ad367de45c784a2c810e2eaaf6f9ef4e",
    "idx": 5,
    "time": "2021-02-03T23:11:58.237Z",
    "type": "execution"
   },
   {
    "id": "ad367de45c784a2c810e2eaaf6f9ef4e",
    "time": "2021-02-03T23:11:58.853Z",
    "type": "completion"
   },
   {
    "code": "import plotly.express as px\nfigure1 = px.scatter(x=x, y=china_fe_population, trendline=\"ols\", name = 'Female')\nfigure1.add_trace(px.scatter(x=x, y=china_ma_population, trendline=\"ols\", name = 'male'))\nfigure1",
    "id": "ad367de45c784a2c810e2eaaf6f9ef4e",
    "idx": 5,
    "time": "2021-02-03T23:12:31.091Z",
    "type": "execution"
   },
   {
    "id": "ad367de45c784a2c810e2eaaf6f9ef4e",
    "time": "2021-02-03T23:12:31.183Z",
    "type": "completion"
   },
   {
    "code": "import plotly.express as px\nfigure1 = px.scatter(x=x, y=china_fe_population, trendline=\"ols\", name = 'Female')\nfigure1.add_trace(px.scatter(x=x, y=china_ma_population, trendline=\"ols\", name = 'Male'))\nfigure1",
    "id": "ad367de45c784a2c810e2eaaf6f9ef4e",
    "idx": 5,
    "time": "2021-02-03T23:12:36.138Z",
    "type": "execution"
   },
   {
    "id": "ad367de45c784a2c810e2eaaf6f9ef4e",
    "time": "2021-02-03T23:12:36.233Z",
    "type": "completion"
   },
   {
    "code": "import plotly.express as px\nfigure1 = px.scatter(x=x, y=china_fe_population, trendline=\"ols\")\nfigure1.add_trace(px.scatter(x=x, y=china_ma_population, trendline=\"ols\", name = 'Male'))\nfigure1",
    "id": "ad367de45c784a2c810e2eaaf6f9ef4e",
    "idx": 5,
    "time": "2021-02-03T23:21:00.786Z",
    "type": "execution"
   },
   {
    "id": "ad367de45c784a2c810e2eaaf6f9ef4e",
    "time": "2021-02-03T23:21:01.044Z",
    "type": "completion"
   },
   {
    "code": "import plotly.express as px\nfigure1 = px.scatter(x=x, y=china_fe_population, trendline=\"ols\")\nfigure1.add_trace(px.scatter(x=x, y=china_ma_population, trendline=\"ols\"))\nfigure1",
    "id": "ad367de45c784a2c810e2eaaf6f9ef4e",
    "idx": 5,
    "time": "2021-02-03T23:21:05.339Z",
    "type": "execution"
   },
   {
    "id": "ad367de45c784a2c810e2eaaf6f9ef4e",
    "time": "2021-02-03T23:21:05.601Z",
    "type": "completion"
   },
   {
    "code": "import plotly.express as px\nfigure1 = px.scatter(x=x, y=china_fe_population, trendline=\"ols\")\nfigure1.add_traces(px.scatter(x=x, y=china_ma_population, trendline=\"ols\"))\nfigure1",
    "id": "ad367de45c784a2c810e2eaaf6f9ef4e",
    "idx": 5,
    "time": "2021-02-03T23:21:25.381Z",
    "type": "execution"
   },
   {
    "id": "ad367de45c784a2c810e2eaaf6f9ef4e",
    "time": "2021-02-03T23:21:25.654Z",
    "type": "completion"
   },
   {
    "code": "figure1 = go.Figure()\n\n# Add traces\nfigure1.add_trace(go.Scatter(x=x, y=china_fe_population,\n                    mode='markers',\n                    name='markers'))\nfigure1.add_trace(go.Scatter(x=x, y=china_ma_population,\n                    mode='lines+markers',\n                    name='lines+markers'))\n\nfigure1.show()",
    "id": "ad367de45c784a2c810e2eaaf6f9ef4e",
    "idx": 5,
    "time": "2021-02-03T23:22:32.637Z",
    "type": "execution"
   },
   {
    "id": "ad367de45c784a2c810e2eaaf6f9ef4e",
    "time": "2021-02-03T23:22:32.790Z",
    "type": "completion"
   },
   {
    "code": "figure1 = go.Figure()\n\n# Add traces\nfigure1.add_trace(go.Scatter(x=x, y=china_fe_population,\n                    mode='lines+markers',\n                    name='markers'))\nfigure1.add_trace(go.Scatter(x=x, y=china_ma_population,\n                    mode='lines+markers',\n                    name='lines+markers'))\n\nfigure1.show()",
    "id": "ad367de45c784a2c810e2eaaf6f9ef4e",
    "idx": 5,
    "time": "2021-02-03T23:23:10.803Z",
    "type": "execution"
   },
   {
    "id": "ad367de45c784a2c810e2eaaf6f9ef4e",
    "time": "2021-02-03T23:23:10.968Z",
    "type": "completion"
   },
   {
    "code": "figure1 = go.Figure()\n\n# Add traces\nfigure1.add_trace(go.Scatter(x=x, y=china_fe_population,\n                    mode='lines+markers',\n                    name='Male'))\nfigure1.add_trace(go.Scatter(x=x, y=china_ma_population,\n                    mode='lines+markers',\n                    name='Male'))\n\nfigure1.show()",
    "id": "ad367de45c784a2c810e2eaaf6f9ef4e",
    "idx": 5,
    "time": "2021-02-03T23:23:25.318Z",
    "type": "execution"
   },
   {
    "id": "ad367de45c784a2c810e2eaaf6f9ef4e",
    "time": "2021-02-03T23:23:25.457Z",
    "type": "completion"
   },
   {
    "code": "figure1 = go.Figure()\n\n# Add traces\nfigure1.add_trace(go.Scatter(x=x, y=china_fe_population,\n                    mode='lines+markers',\n                    name='Female'))\nfigure1.add_trace(go.Scatter(x=x, y=china_ma_population,\n                    mode='lines+markers',\n                    name='Male'))\n\nfigure1.show()",
    "id": "ad367de45c784a2c810e2eaaf6f9ef4e",
    "idx": 5,
    "time": "2021-02-03T23:23:28.937Z",
    "type": "execution"
   },
   {
    "id": "ad367de45c784a2c810e2eaaf6f9ef4e",
    "time": "2021-02-03T23:23:29.070Z",
    "type": "completion"
   },
   {
    "code": "fig6 = go.Figure()\n\n# Add traces\nfig6.add_trace(go.Scatter(x=x, y=china_fe_population,\n                    mode='lines+markers',\n                    name='Female'))\nfig6.add_trace(go.Scatter(x=x, y=china_ma_population,\n                    mode='lines+markers',\n                    name='Male'))\nfig6.update_layout(barmode='stack', xaxis = dict(title='Year', titlefont_size=20),\n                  yaxis = dict(title='Population', titlefont_size=20), title = \"Population of China\", titlefont_size=30)\n\nfig6.show()",
    "id": "ad367de45c784a2c810e2eaaf6f9ef4e",
    "idx": 5,
    "time": "2021-02-03T23:24:16.428Z",
    "type": "execution"
   },
   {
    "id": "ad367de45c784a2c810e2eaaf6f9ef4e",
    "time": "2021-02-03T23:24:16.712Z",
    "type": "completion"
   },
   {
    "code": "fig10 = go.Figure()\n\n# Add traces\nfig10.add_trace(go.Scatter(x=x, y=russia_fe_population,\n                    mode='lines+markers',\n                    name='Female'))\nfig10.add_trace(go.Scatter(x=x, y=russia_ma_population,\n                    mode='lines+markers',\n                    name='Male'))\nfig10.update_layout(barmode='stack', xaxis = dict(title='Year', titlefont_size=20),\n                  yaxis = dict(title='Population', titlefont_size=20), title = \"Population of Russia\", titlefont_size=30)\n\nfig10.show()",
    "id": "0b7d64a422294be885c62491d80b08e7",
    "idx": 9,
    "time": "2021-02-03T23:25:58.073Z",
    "type": "execution"
   },
   {
    "id": "0b7d64a422294be885c62491d80b08e7",
    "time": "2021-02-03T23:25:58.241Z",
    "type": "completion"
   },
   {
    "code": "fig7 = go.Figure()\n\n# Add traces\nfig7.add_trace(go.Scatter(x=x, y=india_fe_population,\n                    mode='lines+markers',\n                    name='Female'))\nfig7.add_trace(go.Scatter(x=x, y=india_ma_population,\n                    mode='lines+markers',\n                    name='Male'))\nfig7.update_layout(barmode='stack', xaxis = dict(title='Year', titlefont_size=20),\n                  yaxis = dict(title='Population', titlefont_size=20), title = \"Population of India\", titlefont_size=30)\n\nfig7.show()",
    "id": "4186a209288249848036662290ffaf21",
    "idx": 6,
    "time": "2021-02-03T23:26:00.963Z",
    "type": "execution"
   },
   {
    "id": "4186a209288249848036662290ffaf21",
    "time": "2021-02-03T23:26:01.102Z",
    "type": "completion"
   },
   {
    "code": "fig8 = go.Figure()\n\n# Add traces\nfig8.add_trace(go.Scatter(x=x, y=japan_fe_population,\n                    mode='lines+markers',\n                    name='Female'))\nfig8.add_trace(go.Scatter(x=x, y=japan_ma_population,\n                    mode='lines+markers',\n                    name='Male'))\nfig8.update_layout(barmode='stack', xaxis = dict(title='Year', titlefont_size=20),\n                  yaxis = dict(title='Population', titlefont_size=20), title = \"Population of Japan\", titlefont_size=30)\n\nfig8.show()",
    "id": "84e8401e66214269b773231d92d6071b",
    "idx": 7,
    "time": "2021-02-03T23:26:01.304Z",
    "type": "execution"
   },
   {
    "code": "fig9 = go.Figure()\n\n# Add traces\nfig9.add_trace(go.Scatter(x=x, y=italy_fe_population,\n                    mode='lines+markers',\n                    name='Female'))\nfig9.add_trace(go.Scatter(x=x, y=italy_ma_population,\n                    mode='lines+markers',\n                    name='Male'))\nfig9.update_layout(barmode='stack', xaxis = dict(title='Year', titlefont_size=20),\n                  yaxis = dict(title='Population', titlefont_size=20), title = \"Population of Italy\", titlefont_size=30)\n\nfig9.show()",
    "id": "a850fe93257a45a293d5649cc1ef300e",
    "idx": 8,
    "time": "2021-02-03T23:26:01.358Z",
    "type": "execution"
   },
   {
    "id": "84e8401e66214269b773231d92d6071b",
    "time": "2021-02-03T23:26:01.785Z",
    "type": "completion"
   },
   {
    "id": "a850fe93257a45a293d5649cc1ef300e",
    "time": "2021-02-03T23:26:01.797Z",
    "type": "completion"
   },
   {
    "code": "import plotly.graph_objects as go\nimport numpy as np\n\n#Population data from Lecture 1's wbdata\n\nchina_fe_population = [320153437.0, 322953588.0, 331140640.0, 339068212.0, 347401432.0, 357394687.0, 366879507.0, 376753699.0,\n                       387362696.0, 398315770.0, 409475913.0, 419696503.0, 429398133.0, 438355316.0, 446155493.0, 453096478.0,\n                       459292487.0, 465460554.0, 471700516.0, 477656979.0, 483835348.0, 491049203.0, 498238544.0, 504855230.0,\n                       511798492.0, 519471732.0, 527858967.0, 536408672.0, 544679377.0, 552721134.0, 560312586.0, 567224558.0,\n                       573790071.0, 580322015.0, 586672507.0, 592868311.0, 598982994.0, 604764109.0, 610004104.0, 614775825.0,\n                       619165993.0, 623205125.0, 626956157.0, 630545489.0, 634130240.0, 637560457.0, 640793072.0, 644001246.0,\n                       647159372.0, 650275748.0, 653422748.0, 656677290.0, 660023537.0, 663493378.0, 667009225.0, 670780903.0,\n                       674707818.0, 677972245.0, 680596325.0\n                      ]\n\nchina_ma_population = [340176563.0, 342816412.0, 351194360.0, 359286788.0, 367783568.0, 378005313.0, 387670493.0, 397756301.0,\n                       408662304.0, 419999230.0, 431629087.0, 442333497.0, 452541867.0, 461994684.0, 470239507.0, 477588522.0,\n                       484162513.0, 490704446.0, 497304484.0, 503578021.0, 510049652.0, 517580797.0, 525071456.0, 531969770.0,\n                       539241508.0, 547318268.0, 556176033.0, 565221328.0, 573970623.0, 582463866.0, 590467414.0, 597745442.0,\n                       604649929.0, 611512985.0, 618182493.0, 624681689.0, 631092006.0, 637170891.0, 642730896.0, 647869175.0, \n                       652684007.0, 657194875.0, 661443843.0, 665529511.0, 669589760.0, 673459543.0, 677091928.0, 680653754.0,\n                       684100628.0, 687429252.0, 690707252.0, 694017710.0, 697356463.0, 700776622.0, 704210775.0, 707884097.0,\n                       711687182.0, 714757755.0, 717118675.0\n                      ]\n\nx=np.arange(1961, 2020, 1)\nfig1 = go.Figure(go.Bar(x=x, y=china_fe_population, name='Female'))\nfig1.add_trace(go.Bar(x=x, y=china_ma_population, name='Male'))\nfig1.add_trace(go.Scatter(x=x, y=china_fe_population,\n                    mode='lines+markers',\n                    name='Female'))\n\nfig1.update_layout(barmode='stack', xaxis = dict(title='Year', titlefont_size=20),\n                  yaxis = dict(title='Population', titlefont_size=20), title = \"Population of China\", titlefont_size=30)\nfig1.show()",
    "id": "162e290640ca48b5851ed3b35acee6f2",
    "idx": 0,
    "time": "2021-02-03T23:27:59.166Z",
    "type": "execution"
   },
   {
    "id": "162e290640ca48b5851ed3b35acee6f2",
    "time": "2021-02-03T23:27:59.469Z",
    "type": "completion"
   },
   {
    "code": "import plotly.graph_objects as go\nimport numpy as np\n\n#Population data from Lecture 1's wbdata\n\nchina_fe_population = [320153437.0, 322953588.0, 331140640.0, 339068212.0, 347401432.0, 357394687.0, 366879507.0, 376753699.0,\n                       387362696.0, 398315770.0, 409475913.0, 419696503.0, 429398133.0, 438355316.0, 446155493.0, 453096478.0,\n                       459292487.0, 465460554.0, 471700516.0, 477656979.0, 483835348.0, 491049203.0, 498238544.0, 504855230.0,\n                       511798492.0, 519471732.0, 527858967.0, 536408672.0, 544679377.0, 552721134.0, 560312586.0, 567224558.0,\n                       573790071.0, 580322015.0, 586672507.0, 592868311.0, 598982994.0, 604764109.0, 610004104.0, 614775825.0,\n                       619165993.0, 623205125.0, 626956157.0, 630545489.0, 634130240.0, 637560457.0, 640793072.0, 644001246.0,\n                       647159372.0, 650275748.0, 653422748.0, 656677290.0, 660023537.0, 663493378.0, 667009225.0, 670780903.0,\n                       674707818.0, 677972245.0, 680596325.0\n                      ]\n\nchina_ma_population = [340176563.0, 342816412.0, 351194360.0, 359286788.0, 367783568.0, 378005313.0, 387670493.0, 397756301.0,\n                       408662304.0, 419999230.0, 431629087.0, 442333497.0, 452541867.0, 461994684.0, 470239507.0, 477588522.0,\n                       484162513.0, 490704446.0, 497304484.0, 503578021.0, 510049652.0, 517580797.0, 525071456.0, 531969770.0,\n                       539241508.0, 547318268.0, 556176033.0, 565221328.0, 573970623.0, 582463866.0, 590467414.0, 597745442.0,\n                       604649929.0, 611512985.0, 618182493.0, 624681689.0, 631092006.0, 637170891.0, 642730896.0, 647869175.0, \n                       652684007.0, 657194875.0, 661443843.0, 665529511.0, 669589760.0, 673459543.0, 677091928.0, 680653754.0,\n                       684100628.0, 687429252.0, 690707252.0, 694017710.0, 697356463.0, 700776622.0, 704210775.0, 707884097.0,\n                       711687182.0, 714757755.0, 717118675.0\n                      ]\n\nx=np.arange(1961, 2020, 1)\nfig1 = go.Figure(go.Bar(x=x, y=china_fe_population, name='Female'))\nfig1.add_trace(go.Bar(x=x, y=china_ma_population, name='Male'))\n\nfig1.update_layout(barmode='stack', xaxis = dict(title='Year', titlefont_size=20),\n                  yaxis = dict(title='Population', titlefont_size=20), title = \"Population of China\", titlefont_size=30)\nfig1.show()",
    "id": "162e290640ca48b5851ed3b35acee6f2",
    "idx": 0,
    "time": "2021-02-03T23:33:23.965Z",
    "type": "execution"
   },
   {
    "id": "162e290640ca48b5851ed3b35acee6f2",
    "time": "2021-02-03T23:33:24.200Z",
    "type": "completion"
   },
   {
    "code": "import plotly.graph_objects as go\nimport numpy as np\n\n#Population data from Lecture 1's wbdata\n\nchina_fe_population = [320153437.0, 322953588.0, 331140640.0, 339068212.0, 347401432.0, 357394687.0, 366879507.0, 376753699.0,\n                       387362696.0, 398315770.0, 409475913.0, 419696503.0, 429398133.0, 438355316.0, 446155493.0, 453096478.0,\n                       459292487.0, 465460554.0, 471700516.0, 477656979.0, 483835348.0, 491049203.0, 498238544.0, 504855230.0,\n                       511798492.0, 519471732.0, 527858967.0, 536408672.0, 544679377.0, 552721134.0, 560312586.0, 567224558.0,\n                       573790071.0, 580322015.0, 586672507.0, 592868311.0, 598982994.0, 604764109.0, 610004104.0, 614775825.0,\n                       619165993.0, 623205125.0, 626956157.0, 630545489.0, 634130240.0, 637560457.0, 640793072.0, 644001246.0,\n                       647159372.0, 650275748.0, 653422748.0, 656677290.0, 660023537.0, 663493378.0, 667009225.0, 670780903.0,\n                       674707818.0, 677972245.0, 680596325.0\n                      ]\n\nchina_ma_population = [340176563.0, 342816412.0, 351194360.0, 359286788.0, 367783568.0, 378005313.0, 387670493.0, 397756301.0,\n                       408662304.0, 419999230.0, 431629087.0, 442333497.0, 452541867.0, 461994684.0, 470239507.0, 477588522.0,\n                       484162513.0, 490704446.0, 497304484.0, 503578021.0, 510049652.0, 517580797.0, 525071456.0, 531969770.0,\n                       539241508.0, 547318268.0, 556176033.0, 565221328.0, 573970623.0, 582463866.0, 590467414.0, 597745442.0,\n                       604649929.0, 611512985.0, 618182493.0, 624681689.0, 631092006.0, 637170891.0, 642730896.0, 647869175.0, \n                       652684007.0, 657194875.0, 661443843.0, 665529511.0, 669589760.0, 673459543.0, 677091928.0, 680653754.0,\n                       684100628.0, 687429252.0, 690707252.0, 694017710.0, 697356463.0, 700776622.0, 704210775.0, 707884097.0,\n                       711687182.0, 714757755.0, 717118675.0\n                      ]\n\nx=np.arange(1961, 2020, 1)\nfig1 = go.Figure(go.Bar(x=x, y=china_fe_population, name='Female'))\nfig1.add_trace(go.Bar(x=x, y=china_ma_population, name='Male'))\n\nfig1.update_layout(barmode='stack', xaxis = dict(title='Year', titlefont_size=20),\n                  yaxis = dict(title='Population', titlefont_size=20), title = \"Population of China\", titlefont_size=30)\nfig1.show()",
    "id": "162e290640ca48b5851ed3b35acee6f2",
    "idx": 0,
    "time": "2021-02-03T23:39:01.854Z",
    "type": "execution"
   },
   {
    "id": "162e290640ca48b5851ed3b35acee6f2",
    "time": "2021-02-03T23:39:02.080Z",
    "type": "completion"
   }
  ],
  "kernelspec": {
   "display_name": "Python 3",
   "language": "python",
   "name": "python3"
  },
  "language_info": {
   "codemirror_mode": {
    "name": "ipython",
    "version": 3
   },
   "file_extension": ".py",
   "mimetype": "text/x-python",
   "name": "python",
   "nbconvert_exporter": "python",
   "pygments_lexer": "ipython3",
   "version": "3.8.6"
  }
 },
 "nbformat": 4,
 "nbformat_minor": 4
}
