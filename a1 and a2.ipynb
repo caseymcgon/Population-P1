{
 "cells": [
  {
   "cell_type": "code",
   "execution_count": 11,
   "metadata": {
    "collapsed": true
   },
   "outputs": [
    {
     "name": "stdout",
     "output_type": "stream",
     "text": [
      "Requirement already satisfied: wbdata in /opt/conda/lib/python3.8/site-packages (0.3.0)\n",
      "Requirement already satisfied: tabulate>=0.8.5 in /opt/conda/lib/python3.8/site-packages (from wbdata) (0.8.7)\n",
      "Requirement already satisfied: requests>=2.0 in /opt/conda/lib/python3.8/site-packages (from wbdata) (2.25.1)\n",
      "Requirement already satisfied: decorator>=4.0 in /opt/conda/lib/python3.8/site-packages (from wbdata) (4.4.2)\n",
      "Requirement already satisfied: appdirs<2.0,>=1.4 in /opt/conda/lib/python3.8/site-packages (from wbdata) (1.4.4)\n",
      "Requirement already satisfied: chardet<5,>=3.0.2 in /opt/conda/lib/python3.8/site-packages (from requests>=2.0->wbdata) (3.0.4)\n",
      "Requirement already satisfied: certifi>=2017.4.17 in /opt/conda/lib/python3.8/site-packages (from requests>=2.0->wbdata) (2019.11.28)\n",
      "Requirement already satisfied: urllib3<1.27,>=1.21.1 in /opt/conda/lib/python3.8/site-packages (from requests>=2.0->wbdata) (1.25.7)\n",
      "Requirement already satisfied: idna<3,>=2.5 in /opt/conda/lib/python3.8/site-packages (from requests>=2.0->wbdata) (2.8)\n",
      "Requirement already satisfied: cufflinks in /opt/conda/lib/python3.8/site-packages (0.17.3)\n",
      "Requirement already satisfied: colorlover>=0.2.1 in /opt/conda/lib/python3.8/site-packages (from cufflinks) (0.3.0)\n",
      "Requirement already satisfied: pandas>=0.19.2 in /opt/conda/lib/python3.8/site-packages (from cufflinks) (1.2.0)\n",
      "Requirement already satisfied: ipywidgets>=7.0.0 in /opt/conda/lib/python3.8/site-packages (from cufflinks) (7.6.3)\n",
      "Requirement already satisfied: ipython>=5.3.0 in /opt/conda/lib/python3.8/site-packages (from cufflinks) (7.19.0)\n",
      "Requirement already satisfied: plotly>=4.1.1 in /opt/conda/lib/python3.8/site-packages (from cufflinks) (4.14.3)\n",
      "Requirement already satisfied: six>=1.9.0 in /opt/conda/lib/python3.8/site-packages (from cufflinks) (1.15.0)\n",
      "Requirement already satisfied: setuptools>=34.4.1 in /opt/conda/lib/python3.8/site-packages (from cufflinks) (49.6.0.post20210108)\n",
      "Requirement already satisfied: numpy>=1.9.2 in /opt/conda/lib/python3.8/site-packages (from cufflinks) (1.19.5)\n",
      "Requirement already satisfied: python-dateutil>=2.7.3 in /opt/conda/lib/python3.8/site-packages (from pandas>=0.19.2->cufflinks) (2.8.1)\n",
      "Requirement already satisfied: pytz>=2017.3 in /opt/conda/lib/python3.8/site-packages (from pandas>=0.19.2->cufflinks) (2020.5)\n",
      "Requirement already satisfied: nbformat>=4.2.0 in /opt/conda/lib/python3.8/site-packages (from ipywidgets>=7.0.0->cufflinks) (5.0.7)\n",
      "Requirement already satisfied: widgetsnbextension~=3.5.0 in /opt/conda/lib/python3.8/site-packages (from ipywidgets>=7.0.0->cufflinks) (3.5.1)\n",
      "Requirement already satisfied: traitlets>=4.3.1 in /opt/conda/lib/python3.8/site-packages (from ipywidgets>=7.0.0->cufflinks) (5.0.5)\n",
      "Requirement already satisfied: ipykernel>=4.5.1 in /opt/conda/lib/python3.8/site-packages (from ipywidgets>=7.0.0->cufflinks) (5.4.3)\n",
      "Requirement already satisfied: jupyterlab-widgets>=1.0.0; python_version >= \"3.6\" in /opt/conda/lib/python3.8/site-packages (from ipywidgets>=7.0.0->cufflinks) (1.0.0)\n",
      "Requirement already satisfied: pygments in /opt/conda/lib/python3.8/site-packages (from ipython>=5.3.0->cufflinks) (2.7.4)\n",
      "Requirement already satisfied: pexpect>4.3; sys_platform != \"win32\" in /opt/conda/lib/python3.8/site-packages (from ipython>=5.3.0->cufflinks) (4.8.0)\n",
      "Requirement already satisfied: jedi>=0.10 in /opt/conda/lib/python3.8/site-packages (from ipython>=5.3.0->cufflinks) (0.18.0)\n",
      "Requirement already satisfied: pickleshare in /opt/conda/lib/python3.8/site-packages (from ipython>=5.3.0->cufflinks) (0.7.5)\n",
      "Requirement already satisfied: backcall in /opt/conda/lib/python3.8/site-packages (from ipython>=5.3.0->cufflinks) (0.2.0)\n",
      "Requirement already satisfied: prompt-toolkit!=3.0.0,!=3.0.1,<3.1.0,>=2.0.0 in /opt/conda/lib/python3.8/site-packages (from ipython>=5.3.0->cufflinks) (3.0.14)\n",
      "Requirement already satisfied: decorator in /opt/conda/lib/python3.8/site-packages (from ipython>=5.3.0->cufflinks) (4.4.2)\n",
      "Requirement already satisfied: retrying>=1.3.3 in /opt/conda/lib/python3.8/site-packages (from plotly>=4.1.1->cufflinks) (1.3.3)\n",
      "Requirement already satisfied: jsonschema!=2.5.0,>=2.4 in /opt/conda/lib/python3.8/site-packages (from nbformat>=4.2.0->ipywidgets>=7.0.0->cufflinks) (3.2.0)\n",
      "Requirement already satisfied: jupyter-core in /opt/conda/lib/python3.8/site-packages (from nbformat>=4.2.0->ipywidgets>=7.0.0->cufflinks) (4.7.0)\n",
      "Requirement already satisfied: ipython-genutils in /opt/conda/lib/python3.8/site-packages (from nbformat>=4.2.0->ipywidgets>=7.0.0->cufflinks) (0.2.0)\n",
      "Requirement already satisfied: notebook>=4.4.1 in /opt/conda/lib/python3.8/site-packages (from widgetsnbextension~=3.5.0->ipywidgets>=7.0.0->cufflinks) (7.0.0.dev0)\n",
      "Requirement already satisfied: tornado>=4.2 in /opt/conda/lib/python3.8/site-packages (from ipykernel>=4.5.1->ipywidgets>=7.0.0->cufflinks) (6.1)\n",
      "Requirement already satisfied: jupyter-client in /opt/conda/lib/python3.8/site-packages (from ipykernel>=4.5.1->ipywidgets>=7.0.0->cufflinks) (6.1.11)\n",
      "Requirement already satisfied: ptyprocess>=0.5 in /opt/conda/lib/python3.8/site-packages (from pexpect>4.3; sys_platform != \"win32\"->ipython>=5.3.0->cufflinks) (0.7.0)\n",
      "Requirement already satisfied: parso<0.9.0,>=0.8.0 in /opt/conda/lib/python3.8/site-packages (from jedi>=0.10->ipython>=5.3.0->cufflinks) (0.8.1)\n",
      "Requirement already satisfied: wcwidth in /opt/conda/lib/python3.8/site-packages (from prompt-toolkit!=3.0.0,!=3.0.1,<3.1.0,>=2.0.0->ipython>=5.3.0->cufflinks) (0.2.5)\n",
      "Requirement already satisfied: attrs>=17.4.0 in /opt/conda/lib/python3.8/site-packages (from jsonschema!=2.5.0,>=2.4->nbformat>=4.2.0->ipywidgets>=7.0.0->cufflinks) (19.3.0)\n",
      "Requirement already satisfied: pyrsistent>=0.14.0 in /opt/conda/lib/python3.8/site-packages (from jsonschema!=2.5.0,>=2.4->nbformat>=4.2.0->ipywidgets>=7.0.0->cufflinks) (0.17.3)\n",
      "Requirement already satisfied: terminado>=0.8.3 in /opt/conda/lib/python3.8/site-packages (from notebook>=4.4.1->widgetsnbextension~=3.5.0->ipywidgets>=7.0.0->cufflinks) (0.9.2)\n",
      "Requirement already satisfied: argon2-cffi in /opt/conda/lib/python3.8/site-packages (from notebook>=4.4.1->widgetsnbextension~=3.5.0->ipywidgets>=7.0.0->cufflinks) (20.1.0)\n",
      "Requirement already satisfied: prometheus-client in /opt/conda/lib/python3.8/site-packages (from notebook>=4.4.1->widgetsnbextension~=3.5.0->ipywidgets>=7.0.0->cufflinks) (0.9.0)\n",
      "Requirement already satisfied: nbconvert in /opt/conda/lib/python3.8/site-packages (from notebook>=4.4.1->widgetsnbextension~=3.5.0->ipywidgets>=7.0.0->cufflinks) (5.6.1)\n",
      "Requirement already satisfied: jinja2 in /opt/conda/lib/python3.8/site-packages (from notebook>=4.4.1->widgetsnbextension~=3.5.0->ipywidgets>=7.0.0->cufflinks) (2.11.2)\n",
      "Requirement already satisfied: Send2Trash in /opt/conda/lib/python3.8/site-packages (from notebook>=4.4.1->widgetsnbextension~=3.5.0->ipywidgets>=7.0.0->cufflinks) (1.5.0)\n",
      "Requirement already satisfied: pyzmq>=17 in /opt/conda/lib/python3.8/site-packages (from notebook>=4.4.1->widgetsnbextension~=3.5.0->ipywidgets>=7.0.0->cufflinks) (21.0.1)\n",
      "Requirement already satisfied: cffi>=1.0.0 in /opt/conda/lib/python3.8/site-packages (from argon2-cffi->notebook>=4.4.1->widgetsnbextension~=3.5.0->ipywidgets>=7.0.0->cufflinks) (1.14.4)\n",
      "Requirement already satisfied: entrypoints>=0.2.2 in /opt/conda/lib/python3.8/site-packages (from nbconvert->notebook>=4.4.1->widgetsnbextension~=3.5.0->ipywidgets>=7.0.0->cufflinks) (0.3)\n",
      "Requirement already satisfied: bleach in /opt/conda/lib/python3.8/site-packages (from nbconvert->notebook>=4.4.1->widgetsnbextension~=3.5.0->ipywidgets>=7.0.0->cufflinks) (3.2.2)\n",
      "Requirement already satisfied: defusedxml in /opt/conda/lib/python3.8/site-packages (from nbconvert->notebook>=4.4.1->widgetsnbextension~=3.5.0->ipywidgets>=7.0.0->cufflinks) (0.6.0)\n",
      "Requirement already satisfied: mistune<2,>=0.8.1 in /opt/conda/lib/python3.8/site-packages (from nbconvert->notebook>=4.4.1->widgetsnbextension~=3.5.0->ipywidgets>=7.0.0->cufflinks) (0.8.4)\n",
      "Requirement already satisfied: testpath in /opt/conda/lib/python3.8/site-packages (from nbconvert->notebook>=4.4.1->widgetsnbextension~=3.5.0->ipywidgets>=7.0.0->cufflinks) (0.4.4)\n",
      "Requirement already satisfied: pandocfilters>=1.4.1 in /opt/conda/lib/python3.8/site-packages (from nbconvert->notebook>=4.4.1->widgetsnbextension~=3.5.0->ipywidgets>=7.0.0->cufflinks) (1.4.3)\n",
      "Requirement already satisfied: MarkupSafe>=0.23 in /opt/conda/lib/python3.8/site-packages (from jinja2->notebook>=4.4.1->widgetsnbextension~=3.5.0->ipywidgets>=7.0.0->cufflinks) (1.1.1)\n",
      "Requirement already satisfied: pycparser in /opt/conda/lib/python3.8/site-packages (from cffi>=1.0.0->argon2-cffi->notebook>=4.4.1->widgetsnbextension~=3.5.0->ipywidgets>=7.0.0->cufflinks) (2.20)\n",
      "Requirement already satisfied: packaging in /opt/conda/lib/python3.8/site-packages (from bleach->nbconvert->notebook>=4.4.1->widgetsnbextension~=3.5.0->ipywidgets>=7.0.0->cufflinks) (20.8)\n",
      "Requirement already satisfied: webencodings in /opt/conda/lib/python3.8/site-packages (from bleach->nbconvert->notebook>=4.4.1->widgetsnbextension~=3.5.0->ipywidgets>=7.0.0->cufflinks) (0.5.1)\r\n",
      "Requirement already satisfied: pyparsing>=2.0.2 in /opt/conda/lib/python3.8/site-packages (from packaging->bleach->nbconvert->notebook>=4.4.1->widgetsnbextension~=3.5.0->ipywidgets>=7.0.0->cufflinks) (2.4.7)\r\n"
     ]
    }
   ],
   "source": [
    "!pip install wbdata\n",
    "import wbdata\n",
    "!pip install cufflinks\n",
    "import cufflinks as cf"
   ]
  },
  {
   "cell_type": "code",
   "execution_count": 12,
   "metadata": {},
   "outputs": [],
   "source": [
    "#A2 returns a dataframe of the given populations derived from wbdata\n",
    "def a2_df():\n",
    "    \"\"\"A function that returns a pandas DataFrame indexed by Region or Country and Year, \n",
    "    with columns giving counts of people in different age-sex groups.\n",
    "    \"\"\"\n",
    "    # Give variable for clarity\n",
    "    variable_labels = {\"SP.POP.TOTL\":\"Total Population\",\n",
    "                   \"SP.POP.TOTL.FE.IN\":\"Female Population\",\n",
    "                   \"SP.POP.TOTL.MA.IN\":\"Male Population\",\n",
    "                   \n",
    "                   \"SP.POP.0014.FE.IN\":\"Females (0-14)\",\n",
    "                   \"SP.POP.0014.MA.IN\":\"Males (0-14)\",\n",
    "                   \n",
    "                   \"SP.POP.1564.FE.IN\":\"Females (15-64)\",\n",
    "                   \"SP.POP.1564.MA.IN\":\"Males (15-64)\",\n",
    "\n",
    "                   \"SP.POP.65UP.FE.IN\":\"Females (65+)\", \n",
    "                   \"SP.POP.65UP.MA.IN\":\"Males (65+)\", \n",
    "                   \n",
    "                   \"SP.POP.0004.FE\":\"Females (0-4)\",\n",
    "                   \"SP.POP.0004.MA\":\"Males (0-4)\",\n",
    "                   \n",
    "                   \"SP.POP.0509.FE\":\"Females (5-9)\",\n",
    "                   \"SP.POP.0509.MA\":\"Males (5-9)\",\n",
    "                   \n",
    "                   \"SP.POP.1014.FE\":\"Females (10-14)\",\n",
    "                   \"SP.POP.1014.MA\":\"Males (10-14)\",\n",
    "                   \n",
    "                   \"SP.POP.1519.FE\":\"Females (15-19)\",\n",
    "                   \"SP.POP.1519.MA\":\"Males (15-19)\",\n",
    "                   \n",
    "                   \"SP.POP.2024.FE\":\"Females (20-24)\",\n",
    "                   \"SP.POP.2024.MA\":\"Males (20-24)\",\n",
    "                   \n",
    "                   \"SP.POP.2529.FE\":\"Females (25-29)\",\n",
    "                   \"SP.POP.2529.MA\":\"Males (25-29)\",\n",
    "                   \n",
    "                   \"SP.POP.3034.FE\":\"Females (30-34)\",\n",
    "                   \"SP.POP.3034.MA\":\"Males (30-34)\",\n",
    "                   \n",
    "                   \"SP.POP.3539.FE\":\"Females (35-39)\",\n",
    "                   \"SP.POP.3539.MA\":\"Males (35-39)\",\n",
    "                   \n",
    "                   \"SP.POP.4044.FE\":\"Females (40-44)\",\n",
    "                   \"SP.POP.4044.MA\":\"Males (40-44)\",\n",
    "                   \n",
    "                   \"SP.POP.4549.FE\":\"Females (45-49)\",\n",
    "                   \"SP.POP.4549.MA\":\"Males (45-49)\",\n",
    "                   \n",
    "                   \"SP.POP.5054.FE\":\"Females (50-54)\",\n",
    "                   \"SP.POP.5054.MA\":\"Males (50-54)\",\n",
    "                   \n",
    "                   \"SP.POP.5559.FE\":\"Females (55-59)\",\n",
    "                   \"SP.POP.5559.MA\":\"Males (55-59)\",\n",
    "                   \n",
    "                   \"SP.POP.6064.FE\":\"Females (60-64)\",\n",
    "                   \"SP.POP.6064.MA\":\"Males (60-64)\",\n",
    "                   \n",
    "                   \"SP.POP.6569.FE\":\"Females (65-69)\",\n",
    "                   \"SP.POP.6569.MA\":\"Males (65-69)\",\n",
    "                   \n",
    "                   \"SP.POP.7074.FE\":\"Females (70-74)\",\n",
    "                   \"SP.POP.7074.MA\":\"Males (70-74)\",\n",
    "                \n",
    "                   \"SP.POP.7579.FE\":\"Females (75-79)\",\n",
    "                   \"SP.POP.7579.MA\":\"Males (75-79)\",\n",
    "                   \n",
    "                   \"SP.POP.80UP.FE\":\"Females (80+)\",\n",
    "                   \"SP.POP.80UP.MA\":\"Males (80+)\" \n",
    "                   \n",
    "                  }\n",
    "\n",
    "    pop_df = wbdata.get_dataframe(variable_labels, country=\"\")\n",
    "\n",
    "    # Print a few years' data\n",
    "    return pop_df\n"
   ]
  },
  {
   "cell_type": "code",
   "execution_count": 13,
   "metadata": {},
   "outputs": [
    {
     "data": {
      "text/html": [
       "<div>\n",
       "<style scoped>\n",
       "    .dataframe tbody tr th:only-of-type {\n",
       "        vertical-align: middle;\n",
       "    }\n",
       "\n",
       "    .dataframe tbody tr th {\n",
       "        vertical-align: top;\n",
       "    }\n",
       "\n",
       "    .dataframe thead th {\n",
       "        text-align: right;\n",
       "    }\n",
       "</style>\n",
       "<table border=\"1\" class=\"dataframe\">\n",
       "  <thead>\n",
       "    <tr style=\"text-align: right;\">\n",
       "      <th></th>\n",
       "      <th></th>\n",
       "      <th>Total Population</th>\n",
       "      <th>Female Population</th>\n",
       "      <th>Male Population</th>\n",
       "      <th>Females (0-14)</th>\n",
       "      <th>Males (0-14)</th>\n",
       "      <th>Females (15-64)</th>\n",
       "      <th>Males (15-64)</th>\n",
       "      <th>Females (65+)</th>\n",
       "      <th>Males (65+)</th>\n",
       "      <th>Females (0-4)</th>\n",
       "      <th>...</th>\n",
       "      <th>Females (60-64)</th>\n",
       "      <th>Males (60-64)</th>\n",
       "      <th>Females (65-69)</th>\n",
       "      <th>Males (65-69)</th>\n",
       "      <th>Females (70-74)</th>\n",
       "      <th>Males (70-74)</th>\n",
       "      <th>Females (75-79)</th>\n",
       "      <th>Males (75-79)</th>\n",
       "      <th>Females (80+)</th>\n",
       "      <th>Males (80+)</th>\n",
       "    </tr>\n",
       "    <tr>\n",
       "      <th>country</th>\n",
       "      <th>date</th>\n",
       "      <th></th>\n",
       "      <th></th>\n",
       "      <th></th>\n",
       "      <th></th>\n",
       "      <th></th>\n",
       "      <th></th>\n",
       "      <th></th>\n",
       "      <th></th>\n",
       "      <th></th>\n",
       "      <th></th>\n",
       "      <th></th>\n",
       "      <th></th>\n",
       "      <th></th>\n",
       "      <th></th>\n",
       "      <th></th>\n",
       "      <th></th>\n",
       "      <th></th>\n",
       "      <th></th>\n",
       "      <th></th>\n",
       "      <th></th>\n",
       "      <th></th>\n",
       "    </tr>\n",
       "  </thead>\n",
       "  <tbody>\n",
       "    <tr>\n",
       "      <th rowspan=\"5\" valign=\"top\">Afghanistan</th>\n",
       "      <th>1960</th>\n",
       "      <td>8996973.0</td>\n",
       "      <td>4347397.0</td>\n",
       "      <td>4649576.0</td>\n",
       "      <td>1889085.0</td>\n",
       "      <td>1902314.0</td>\n",
       "      <td>2342557.0</td>\n",
       "      <td>2611254.0</td>\n",
       "      <td>115755.0</td>\n",
       "      <td>136008.0</td>\n",
       "      <td>760938.0</td>\n",
       "      <td>...</td>\n",
       "      <td>81378.0</td>\n",
       "      <td>93053.0</td>\n",
       "      <td>56624.0</td>\n",
       "      <td>67283.0</td>\n",
       "      <td>34655.0</td>\n",
       "      <td>40748.0</td>\n",
       "      <td>16990.0</td>\n",
       "      <td>19683.0</td>\n",
       "      <td>7486.0</td>\n",
       "      <td>8294.0</td>\n",
       "    </tr>\n",
       "    <tr>\n",
       "      <th>1961</th>\n",
       "      <td>9169410.0</td>\n",
       "      <td>4439158.0</td>\n",
       "      <td>4730252.0</td>\n",
       "      <td>1938162.0</td>\n",
       "      <td>1954539.0</td>\n",
       "      <td>2382132.0</td>\n",
       "      <td>2637080.0</td>\n",
       "      <td>118864.0</td>\n",
       "      <td>138633.0</td>\n",
       "      <td>795378.0</td>\n",
       "      <td>...</td>\n",
       "      <td>82261.0</td>\n",
       "      <td>93359.0</td>\n",
       "      <td>57393.0</td>\n",
       "      <td>67330.0</td>\n",
       "      <td>35363.0</td>\n",
       "      <td>41520.0</td>\n",
       "      <td>17750.0</td>\n",
       "      <td>20500.0</td>\n",
       "      <td>8358.0</td>\n",
       "      <td>9283.0</td>\n",
       "    </tr>\n",
       "    <tr>\n",
       "      <th>1962</th>\n",
       "      <td>9351441.0</td>\n",
       "      <td>4535392.0</td>\n",
       "      <td>4816049.0</td>\n",
       "      <td>1980414.0</td>\n",
       "      <td>2006726.0</td>\n",
       "      <td>2433192.0</td>\n",
       "      <td>2668877.0</td>\n",
       "      <td>121786.0</td>\n",
       "      <td>140446.0</td>\n",
       "      <td>818678.0</td>\n",
       "      <td>...</td>\n",
       "      <td>83487.0</td>\n",
       "      <td>94140.0</td>\n",
       "      <td>58326.0</td>\n",
       "      <td>67197.0</td>\n",
       "      <td>36055.0</td>\n",
       "      <td>42186.0</td>\n",
       "      <td>18364.0</td>\n",
       "      <td>21050.0</td>\n",
       "      <td>9041.0</td>\n",
       "      <td>10013.0</td>\n",
       "    </tr>\n",
       "    <tr>\n",
       "      <th>1963</th>\n",
       "      <td>9543205.0</td>\n",
       "      <td>4636172.0</td>\n",
       "      <td>4907033.0</td>\n",
       "      <td>2019727.0</td>\n",
       "      <td>2059859.0</td>\n",
       "      <td>2492014.0</td>\n",
       "      <td>2705711.0</td>\n",
       "      <td>124431.0</td>\n",
       "      <td>141463.0</td>\n",
       "      <td>834934.0</td>\n",
       "      <td>...</td>\n",
       "      <td>85012.0</td>\n",
       "      <td>95186.0</td>\n",
       "      <td>59399.0</td>\n",
       "      <td>67052.0</td>\n",
       "      <td>36757.0</td>\n",
       "      <td>42704.0</td>\n",
       "      <td>18819.0</td>\n",
       "      <td>21331.0</td>\n",
       "      <td>9456.0</td>\n",
       "      <td>10376.0</td>\n",
       "    </tr>\n",
       "    <tr>\n",
       "      <th>1964</th>\n",
       "      <td>9744781.0</td>\n",
       "      <td>4741531.0</td>\n",
       "      <td>5003250.0</td>\n",
       "      <td>2061674.0</td>\n",
       "      <td>2114431.0</td>\n",
       "      <td>2553216.0</td>\n",
       "      <td>2747068.0</td>\n",
       "      <td>126641.0</td>\n",
       "      <td>141751.0</td>\n",
       "      <td>850992.0</td>\n",
       "      <td>...</td>\n",
       "      <td>86747.0</td>\n",
       "      <td>96187.0</td>\n",
       "      <td>60569.0</td>\n",
       "      <td>67117.0</td>\n",
       "      <td>37461.0</td>\n",
       "      <td>42987.0</td>\n",
       "      <td>19098.0</td>\n",
       "      <td>21378.0</td>\n",
       "      <td>9513.0</td>\n",
       "      <td>10269.0</td>\n",
       "    </tr>\n",
       "  </tbody>\n",
       "</table>\n",
       "<p>5 rows × 43 columns</p>\n",
       "</div>"
      ],
      "text/plain": [
       "                  Total Population  Female Population  Male Population  \\\n",
       "country     date                                                         \n",
       "Afghanistan 1960         8996973.0          4347397.0        4649576.0   \n",
       "            1961         9169410.0          4439158.0        4730252.0   \n",
       "            1962         9351441.0          4535392.0        4816049.0   \n",
       "            1963         9543205.0          4636172.0        4907033.0   \n",
       "            1964         9744781.0          4741531.0        5003250.0   \n",
       "\n",
       "                  Females (0-14)  Males (0-14)  Females (15-64)  \\\n",
       "country     date                                                  \n",
       "Afghanistan 1960       1889085.0     1902314.0        2342557.0   \n",
       "            1961       1938162.0     1954539.0        2382132.0   \n",
       "            1962       1980414.0     2006726.0        2433192.0   \n",
       "            1963       2019727.0     2059859.0        2492014.0   \n",
       "            1964       2061674.0     2114431.0        2553216.0   \n",
       "\n",
       "                  Males (15-64)  Females (65+)  Males (65+)  Females (0-4)  \\\n",
       "country     date                                                             \n",
       "Afghanistan 1960      2611254.0       115755.0     136008.0       760938.0   \n",
       "            1961      2637080.0       118864.0     138633.0       795378.0   \n",
       "            1962      2668877.0       121786.0     140446.0       818678.0   \n",
       "            1963      2705711.0       124431.0     141463.0       834934.0   \n",
       "            1964      2747068.0       126641.0     141751.0       850992.0   \n",
       "\n",
       "                  ...  Females (60-64)  Males (60-64)  Females (65-69)  \\\n",
       "country     date  ...                                                    \n",
       "Afghanistan 1960  ...          81378.0        93053.0          56624.0   \n",
       "            1961  ...          82261.0        93359.0          57393.0   \n",
       "            1962  ...          83487.0        94140.0          58326.0   \n",
       "            1963  ...          85012.0        95186.0          59399.0   \n",
       "            1964  ...          86747.0        96187.0          60569.0   \n",
       "\n",
       "                  Males (65-69)  Females (70-74)  Males (70-74)  \\\n",
       "country     date                                                  \n",
       "Afghanistan 1960        67283.0          34655.0        40748.0   \n",
       "            1961        67330.0          35363.0        41520.0   \n",
       "            1962        67197.0          36055.0        42186.0   \n",
       "            1963        67052.0          36757.0        42704.0   \n",
       "            1964        67117.0          37461.0        42987.0   \n",
       "\n",
       "                  Females (75-79)  Males (75-79)  Females (80+)  Males (80+)  \n",
       "country     date                                                              \n",
       "Afghanistan 1960          16990.0        19683.0         7486.0       8294.0  \n",
       "            1961          17750.0        20500.0         8358.0       9283.0  \n",
       "            1962          18364.0        21050.0         9041.0      10013.0  \n",
       "            1963          18819.0        21331.0         9456.0      10376.0  \n",
       "            1964          19098.0        21378.0         9513.0      10269.0  \n",
       "\n",
       "[5 rows x 43 columns]"
      ]
     },
     "execution_count": 13,
     "metadata": {},
     "output_type": "execute_result"
    }
   ],
   "source": [
    "pop_df = a2_df()\n",
    "pop_df.head()"
   ]
  },
  {
   "cell_type": "code",
   "execution_count": 15,
   "metadata": {},
   "outputs": [
    {
     "data": {
      "text/html": [
       "<div>\n",
       "<style scoped>\n",
       "    .dataframe tbody tr th:only-of-type {\n",
       "        vertical-align: middle;\n",
       "    }\n",
       "\n",
       "    .dataframe tbody tr th {\n",
       "        vertical-align: top;\n",
       "    }\n",
       "\n",
       "    .dataframe thead th {\n",
       "        text-align: right;\n",
       "    }\n",
       "</style>\n",
       "<table border=\"1\" class=\"dataframe\">\n",
       "  <thead>\n",
       "    <tr style=\"text-align: right;\">\n",
       "      <th></th>\n",
       "      <th>Total Population</th>\n",
       "      <th>Female Population</th>\n",
       "      <th>Male Population</th>\n",
       "      <th>Females (0-14)</th>\n",
       "      <th>Males (0-14)</th>\n",
       "      <th>Females (15-64)</th>\n",
       "      <th>Males (15-64)</th>\n",
       "      <th>Females (65+)</th>\n",
       "      <th>Males (65+)</th>\n",
       "      <th>Females (0-4)</th>\n",
       "      <th>...</th>\n",
       "      <th>Females (60-64)</th>\n",
       "      <th>Males (60-64)</th>\n",
       "      <th>Females (65-69)</th>\n",
       "      <th>Males (65-69)</th>\n",
       "      <th>Females (70-74)</th>\n",
       "      <th>Males (70-74)</th>\n",
       "      <th>Females (75-79)</th>\n",
       "      <th>Males (75-79)</th>\n",
       "      <th>Females (80+)</th>\n",
       "      <th>Males (80+)</th>\n",
       "    </tr>\n",
       "    <tr>\n",
       "      <th>date</th>\n",
       "      <th></th>\n",
       "      <th></th>\n",
       "      <th></th>\n",
       "      <th></th>\n",
       "      <th></th>\n",
       "      <th></th>\n",
       "      <th></th>\n",
       "      <th></th>\n",
       "      <th></th>\n",
       "      <th></th>\n",
       "      <th></th>\n",
       "      <th></th>\n",
       "      <th></th>\n",
       "      <th></th>\n",
       "      <th></th>\n",
       "      <th></th>\n",
       "      <th></th>\n",
       "      <th></th>\n",
       "      <th></th>\n",
       "      <th></th>\n",
       "      <th></th>\n",
       "    </tr>\n",
       "  </thead>\n",
       "  <tbody>\n",
       "    <tr>\n",
       "      <th>1960</th>\n",
       "      <td>26269734.0</td>\n",
       "      <td>13049582.0</td>\n",
       "      <td>13220152.0</td>\n",
       "      <td>6011532.0</td>\n",
       "      <td>6341561.0</td>\n",
       "      <td>6535537.0</td>\n",
       "      <td>6568871.0</td>\n",
       "      <td>502513.0</td>\n",
       "      <td>309720.0</td>\n",
       "      <td>2429165.0</td>\n",
       "      <td>...</td>\n",
       "      <td>238900.0</td>\n",
       "      <td>227290.0</td>\n",
       "      <td>197596.0</td>\n",
       "      <td>138945.0</td>\n",
       "      <td>146768.0</td>\n",
       "      <td>88321.0</td>\n",
       "      <td>93686.0</td>\n",
       "      <td>51340.0</td>\n",
       "      <td>64463.0</td>\n",
       "      <td>31114.0</td>\n",
       "    </tr>\n",
       "    <tr>\n",
       "      <th>1961</th>\n",
       "      <td>27161047.0</td>\n",
       "      <td>13479859.0</td>\n",
       "      <td>13681188.0</td>\n",
       "      <td>6229773.0</td>\n",
       "      <td>6569118.0</td>\n",
       "      <td>6737536.0</td>\n",
       "      <td>6787688.0</td>\n",
       "      <td>512550.0</td>\n",
       "      <td>324383.0</td>\n",
       "      <td>2444451.0</td>\n",
       "      <td>...</td>\n",
       "      <td>242396.0</td>\n",
       "      <td>236950.0</td>\n",
       "      <td>198990.0</td>\n",
       "      <td>147585.0</td>\n",
       "      <td>148844.0</td>\n",
       "      <td>90597.0</td>\n",
       "      <td>95810.0</td>\n",
       "      <td>52758.0</td>\n",
       "      <td>68906.0</td>\n",
       "      <td>33443.0</td>\n",
       "    </tr>\n",
       "    <tr>\n",
       "      <th>1962</th>\n",
       "      <td>28077339.0</td>\n",
       "      <td>13922308.0</td>\n",
       "      <td>14155031.0</td>\n",
       "      <td>6472680.0</td>\n",
       "      <td>6816783.0</td>\n",
       "      <td>6929287.0</td>\n",
       "      <td>6998832.0</td>\n",
       "      <td>520342.0</td>\n",
       "      <td>339417.0</td>\n",
       "      <td>2497612.0</td>\n",
       "      <td>...</td>\n",
       "      <td>246101.0</td>\n",
       "      <td>244979.0</td>\n",
       "      <td>200065.0</td>\n",
       "      <td>157752.0</td>\n",
       "      <td>150854.0</td>\n",
       "      <td>92655.0</td>\n",
       "      <td>97374.0</td>\n",
       "      <td>54023.0</td>\n",
       "      <td>72049.0</td>\n",
       "      <td>34987.0</td>\n",
       "    </tr>\n",
       "    <tr>\n",
       "      <th>1963</th>\n",
       "      <td>29012625.0</td>\n",
       "      <td>14374391.0</td>\n",
       "      <td>14638234.0</td>\n",
       "      <td>6723925.0</td>\n",
       "      <td>7070027.0</td>\n",
       "      <td>7123802.0</td>\n",
       "      <td>7213557.0</td>\n",
       "      <td>526664.0</td>\n",
       "      <td>354651.0</td>\n",
       "      <td>2578155.0</td>\n",
       "      <td>...</td>\n",
       "      <td>251057.0</td>\n",
       "      <td>252707.0</td>\n",
       "      <td>201331.0</td>\n",
       "      <td>168603.0</td>\n",
       "      <td>152914.0</td>\n",
       "      <td>95209.0</td>\n",
       "      <td>98655.0</td>\n",
       "      <td>55148.0</td>\n",
       "      <td>73764.0</td>\n",
       "      <td>35691.0</td>\n",
       "    </tr>\n",
       "    <tr>\n",
       "      <th>1964</th>\n",
       "      <td>29958688.0</td>\n",
       "      <td>14832643.0</td>\n",
       "      <td>15126045.0</td>\n",
       "      <td>6958115.0</td>\n",
       "      <td>7306359.0</td>\n",
       "      <td>7341974.0</td>\n",
       "      <td>7449755.0</td>\n",
       "      <td>532554.0</td>\n",
       "      <td>369930.0</td>\n",
       "      <td>2661878.0</td>\n",
       "      <td>...</td>\n",
       "      <td>258834.0</td>\n",
       "      <td>262094.0</td>\n",
       "      <td>203454.0</td>\n",
       "      <td>179078.0</td>\n",
       "      <td>155064.0</td>\n",
       "      <td>99174.0</td>\n",
       "      <td>100008.0</td>\n",
       "      <td>56201.0</td>\n",
       "      <td>74028.0</td>\n",
       "      <td>35477.0</td>\n",
       "    </tr>\n",
       "    <tr>\n",
       "      <th>...</th>\n",
       "      <td>...</td>\n",
       "      <td>...</td>\n",
       "      <td>...</td>\n",
       "      <td>...</td>\n",
       "      <td>...</td>\n",
       "      <td>...</td>\n",
       "      <td>...</td>\n",
       "      <td>...</td>\n",
       "      <td>...</td>\n",
       "      <td>...</td>\n",
       "      <td>...</td>\n",
       "      <td>...</td>\n",
       "      <td>...</td>\n",
       "      <td>...</td>\n",
       "      <td>...</td>\n",
       "      <td>...</td>\n",
       "      <td>...</td>\n",
       "      <td>...</td>\n",
       "      <td>...</td>\n",
       "      <td>...</td>\n",
       "      <td>...</td>\n",
       "    </tr>\n",
       "    <tr>\n",
       "      <th>2016</th>\n",
       "      <td>103663927.0</td>\n",
       "      <td>51520528.0</td>\n",
       "      <td>52143399.0</td>\n",
       "      <td>16092147.0</td>\n",
       "      <td>16998890.0</td>\n",
       "      <td>32569677.0</td>\n",
       "      <td>33065538.0</td>\n",
       "      <td>2858704.0</td>\n",
       "      <td>2078971.0</td>\n",
       "      <td>5575428.0</td>\n",
       "      <td>...</td>\n",
       "      <td>1510701.0</td>\n",
       "      <td>1377511.0</td>\n",
       "      <td>1107726.0</td>\n",
       "      <td>928718.0</td>\n",
       "      <td>742390.0</td>\n",
       "      <td>556423.0</td>\n",
       "      <td>523252.0</td>\n",
       "      <td>343571.0</td>\n",
       "      <td>485337.0</td>\n",
       "      <td>250259.0</td>\n",
       "    </tr>\n",
       "    <tr>\n",
       "      <th>2017</th>\n",
       "      <td>105173264.0</td>\n",
       "      <td>52293794.0</td>\n",
       "      <td>52879470.0</td>\n",
       "      <td>16104107.0</td>\n",
       "      <td>16991651.0</td>\n",
       "      <td>33181101.0</td>\n",
       "      <td>33703687.0</td>\n",
       "      <td>3008587.0</td>\n",
       "      <td>2184132.0</td>\n",
       "      <td>5490060.0</td>\n",
       "      <td>...</td>\n",
       "      <td>1578463.0</td>\n",
       "      <td>1436391.0</td>\n",
       "      <td>1165243.0</td>\n",
       "      <td>977955.0</td>\n",
       "      <td>787607.0</td>\n",
       "      <td>589446.0</td>\n",
       "      <td>534432.0</td>\n",
       "      <td>347952.0</td>\n",
       "      <td>521306.0</td>\n",
       "      <td>268779.0</td>\n",
       "    </tr>\n",
       "    <tr>\n",
       "      <th>2018</th>\n",
       "      <td>106651922.0</td>\n",
       "      <td>53050434.0</td>\n",
       "      <td>53601488.0</td>\n",
       "      <td>16081220.0</td>\n",
       "      <td>16941390.0</td>\n",
       "      <td>33800509.0</td>\n",
       "      <td>34365393.0</td>\n",
       "      <td>3168706.0</td>\n",
       "      <td>2294705.0</td>\n",
       "      <td>5361102.0</td>\n",
       "      <td>...</td>\n",
       "      <td>1647498.0</td>\n",
       "      <td>1497060.0</td>\n",
       "      <td>1224578.0</td>\n",
       "      <td>1029640.0</td>\n",
       "      <td>840231.0</td>\n",
       "      <td>627588.0</td>\n",
       "      <td>547260.0</td>\n",
       "      <td>353658.0</td>\n",
       "      <td>556637.0</td>\n",
       "      <td>283819.0</td>\n",
       "    </tr>\n",
       "    <tr>\n",
       "      <th>2019</th>\n",
       "      <td>108116615.0</td>\n",
       "      <td>53800547.0</td>\n",
       "      <td>54316068.0</td>\n",
       "      <td>16055516.0</td>\n",
       "      <td>16893979.0</td>\n",
       "      <td>34407300.0</td>\n",
       "      <td>35013429.0</td>\n",
       "      <td>3337731.0</td>\n",
       "      <td>2408660.0</td>\n",
       "      <td>5240508.0</td>\n",
       "      <td>...</td>\n",
       "      <td>1714689.0</td>\n",
       "      <td>1556935.0</td>\n",
       "      <td>1285782.0</td>\n",
       "      <td>1082875.0</td>\n",
       "      <td>895866.0</td>\n",
       "      <td>668107.0</td>\n",
       "      <td>567282.0</td>\n",
       "      <td>364200.0</td>\n",
       "      <td>588801.0</td>\n",
       "      <td>293478.0</td>\n",
       "    </tr>\n",
       "    <tr>\n",
       "      <th>2020</th>\n",
       "      <td>NaN</td>\n",
       "      <td>NaN</td>\n",
       "      <td>NaN</td>\n",
       "      <td>NaN</td>\n",
       "      <td>NaN</td>\n",
       "      <td>NaN</td>\n",
       "      <td>NaN</td>\n",
       "      <td>NaN</td>\n",
       "      <td>NaN</td>\n",
       "      <td>NaN</td>\n",
       "      <td>...</td>\n",
       "      <td>NaN</td>\n",
       "      <td>NaN</td>\n",
       "      <td>NaN</td>\n",
       "      <td>NaN</td>\n",
       "      <td>NaN</td>\n",
       "      <td>NaN</td>\n",
       "      <td>NaN</td>\n",
       "      <td>NaN</td>\n",
       "      <td>NaN</td>\n",
       "      <td>NaN</td>\n",
       "    </tr>\n",
       "  </tbody>\n",
       "</table>\n",
       "<p>61 rows × 43 columns</p>\n",
       "</div>"
      ],
      "text/plain": [
       "      Total Population  Female Population  Male Population  Females (0-14)  \\\n",
       "date                                                                         \n",
       "1960        26269734.0         13049582.0       13220152.0       6011532.0   \n",
       "1961        27161047.0         13479859.0       13681188.0       6229773.0   \n",
       "1962        28077339.0         13922308.0       14155031.0       6472680.0   \n",
       "1963        29012625.0         14374391.0       14638234.0       6723925.0   \n",
       "1964        29958688.0         14832643.0       15126045.0       6958115.0   \n",
       "...                ...                ...              ...             ...   \n",
       "2016       103663927.0         51520528.0       52143399.0      16092147.0   \n",
       "2017       105173264.0         52293794.0       52879470.0      16104107.0   \n",
       "2018       106651922.0         53050434.0       53601488.0      16081220.0   \n",
       "2019       108116615.0         53800547.0       54316068.0      16055516.0   \n",
       "2020               NaN                NaN              NaN             NaN   \n",
       "\n",
       "      Males (0-14)  Females (15-64)  Males (15-64)  Females (65+)  \\\n",
       "date                                                                \n",
       "1960     6341561.0        6535537.0      6568871.0       502513.0   \n",
       "1961     6569118.0        6737536.0      6787688.0       512550.0   \n",
       "1962     6816783.0        6929287.0      6998832.0       520342.0   \n",
       "1963     7070027.0        7123802.0      7213557.0       526664.0   \n",
       "1964     7306359.0        7341974.0      7449755.0       532554.0   \n",
       "...            ...              ...            ...            ...   \n",
       "2016    16998890.0       32569677.0     33065538.0      2858704.0   \n",
       "2017    16991651.0       33181101.0     33703687.0      3008587.0   \n",
       "2018    16941390.0       33800509.0     34365393.0      3168706.0   \n",
       "2019    16893979.0       34407300.0     35013429.0      3337731.0   \n",
       "2020           NaN              NaN            NaN            NaN   \n",
       "\n",
       "      Males (65+)  Females (0-4)  ...  Females (60-64)  Males (60-64)  \\\n",
       "date                              ...                                   \n",
       "1960     309720.0      2429165.0  ...         238900.0       227290.0   \n",
       "1961     324383.0      2444451.0  ...         242396.0       236950.0   \n",
       "1962     339417.0      2497612.0  ...         246101.0       244979.0   \n",
       "1963     354651.0      2578155.0  ...         251057.0       252707.0   \n",
       "1964     369930.0      2661878.0  ...         258834.0       262094.0   \n",
       "...           ...            ...  ...              ...            ...   \n",
       "2016    2078971.0      5575428.0  ...        1510701.0      1377511.0   \n",
       "2017    2184132.0      5490060.0  ...        1578463.0      1436391.0   \n",
       "2018    2294705.0      5361102.0  ...        1647498.0      1497060.0   \n",
       "2019    2408660.0      5240508.0  ...        1714689.0      1556935.0   \n",
       "2020          NaN            NaN  ...              NaN            NaN   \n",
       "\n",
       "      Females (65-69)  Males (65-69)  Females (70-74)  Males (70-74)  \\\n",
       "date                                                                   \n",
       "1960         197596.0       138945.0         146768.0        88321.0   \n",
       "1961         198990.0       147585.0         148844.0        90597.0   \n",
       "1962         200065.0       157752.0         150854.0        92655.0   \n",
       "1963         201331.0       168603.0         152914.0        95209.0   \n",
       "1964         203454.0       179078.0         155064.0        99174.0   \n",
       "...               ...            ...              ...            ...   \n",
       "2016        1107726.0       928718.0         742390.0       556423.0   \n",
       "2017        1165243.0       977955.0         787607.0       589446.0   \n",
       "2018        1224578.0      1029640.0         840231.0       627588.0   \n",
       "2019        1285782.0      1082875.0         895866.0       668107.0   \n",
       "2020              NaN            NaN              NaN            NaN   \n",
       "\n",
       "      Females (75-79)  Males (75-79)  Females (80+)  Males (80+)  \n",
       "date                                                              \n",
       "1960          93686.0        51340.0        64463.0      31114.0  \n",
       "1961          95810.0        52758.0        68906.0      33443.0  \n",
       "1962          97374.0        54023.0        72049.0      34987.0  \n",
       "1963          98655.0        55148.0        73764.0      35691.0  \n",
       "1964         100008.0        56201.0        74028.0      35477.0  \n",
       "...               ...            ...            ...          ...  \n",
       "2016         523252.0       343571.0       485337.0     250259.0  \n",
       "2017         534432.0       347952.0       521306.0     268779.0  \n",
       "2018         547260.0       353658.0       556637.0     283819.0  \n",
       "2019         567282.0       364200.0       588801.0     293478.0  \n",
       "2020              NaN            NaN            NaN          NaN  \n",
       "\n",
       "[61 rows x 43 columns]"
      ]
     },
     "execution_count": 15,
     "metadata": {},
     "output_type": "execute_result"
    }
   ],
   "source": [
    "#pandas manipulations example\n",
    "pop_df.loc['Philippines']"
   ]
  },
  {
   "cell_type": "code",
   "execution_count": 16,
   "metadata": {},
   "outputs": [],
   "source": [
    "#A1 population function\n",
    "def population(year, persons, age_range, location):\n",
    "    \"\"\"A python function named population that will deliver information to answer the queries\n",
    "    of the following form: In [year] how many [people/males/females] aged [low] to [high] were living in [the\n",
    "    world/region/country]?\n",
    "    \n",
    "    location (str): name of country, income level, world location, etc.\n",
    "    sex (str): a string FE (female), MA (male), or all\n",
    "    age_range (str): none, 0004 (Population ages 00-04), 0014 (Population ages 0-14), etc etc\n",
    "    \n",
    "    Returns a population from wbdata of a location given year, persons, and age range.\n",
    "    \"\"\"\n",
    "    if age_range == 'none':\n",
    "        if persons == 'FE':\n",
    "            variables = {'SP.POP.TOTL.FE.IN':'Pop'}\n",
    "        elif persons == 'MA':\n",
    "            variables = {'SP.POP.TOTL.MA.IN':'Pop'}\n",
    "        else:\n",
    "            variables = {'SP.POP.TOTL':'Pop'}\n",
    "\n",
    "    if age_range == '0004':\n",
    "        if persons == 'FE':\n",
    "            variables = {'SP.POP.0004.FE' : 'Pop'}\n",
    "        elif persons == 'MA':\n",
    "            variables = {'SP.POP.0004.MA' : 'Pop'}\n",
    "        \n",
    "    if age_range == '0014':\n",
    "        if persons == 'FE':\n",
    "            variables = {'SP.POP.0014.FE' : 'Pop'}\n",
    "        elif persons == 'MA':\n",
    "            variables = {'SP.POP.0014.MA' : 'Pop'}\n",
    "        \n",
    "    if age_range == '0509':\n",
    "        if persons == 'FE':\n",
    "            variables = {'SP.POP.0509.FE' : 'Pop'}\n",
    "        elif persons == 'MA':\n",
    "            variables = {'SP.POP.0509.MA' : 'Pop'}\n",
    "        \n",
    "    if age_range == '1014':\n",
    "        if persons == 'FE':\n",
    "            variables = {'SP.POP.1014.FE' : 'Pop'}\n",
    "        elif persons == 'MA':\n",
    "            variables = {'SP.POP.1014.MA' : 'Pop'}\n",
    "        \n",
    "    if age_range == '1519':\n",
    "        if persons == 'FE':\n",
    "            variables = {'SP.POP.1519.FE' : 'Pop'}\n",
    "        elif persons == 'MA':\n",
    "            variables = {'SP.POP.1519.MA' : 'Pop'}\n",
    "\n",
    "    if age_range == '1564':\n",
    "        if persons == 'FE':\n",
    "            variables = {'SP.POP.1564.FE' : 'Pop'}\n",
    "        elif persons == 'MA':\n",
    "            variables = {'SP.POP.1564.MA': 'Pop'}\n",
    "        \n",
    "    if age_range == '2024':\n",
    "        if persons == 'FE':\n",
    "            variables = {'SP.POP.2024.FE' : 'Pop'}\n",
    "        elif persons == 'MA':\n",
    "            variables = {'SP.POP.2024.MA' : 'Pop'}\n",
    "        \n",
    "    if age_range == '2529':\n",
    "        if persons == 'FE':\n",
    "            variables = {'SP.POP.2529.FE' : 'Pop'}\n",
    "        elif persons == 'MA':\n",
    "            variables = {'SP.POP.2529.MA' : 'Pop'}\n",
    "        \n",
    "    if age_range == '3034':\n",
    "        if persons == 'FE':\n",
    "            variables = {'SP.POP.3034.FE' : 'Pop'}\n",
    "        elif persons == 'MA':\n",
    "            variables = {'SP.POP.3034.MA' : 'Pop'}\n",
    "        \n",
    "    if age_range == '3539':\n",
    "        if persons == 'FE':\n",
    "            variables = {'SP.POP.3539.FE' : 'Pop'}\n",
    "        elif persons == 'MA':\n",
    "            variables = {'SP.POP.3539.MA' : 'Pop'}\n",
    "        \n",
    "    if age_range == '4044':\n",
    "        if persons == 'FE':\n",
    "            variables = {'SP.POP.4044.FE' : 'Pop'}\n",
    "        elif persons == 'MA':\n",
    "            variables = {'SP.POP.4044.MA' : 'Pop'}\n",
    "        \n",
    "    if age_range == '4549':\n",
    "        if persons == 'FE':\n",
    "            variables = {'SP.POP.4549.FE' : 'Pop'}\n",
    "        elif persons == 'MA':\n",
    "            variables = {'SP.POP.4549.MA' : 'Pop'}\n",
    "        \n",
    "    if age_range == '5054':\n",
    "        if persons == 'FE':\n",
    "            variables = {'SP.POP.5054.FE' : 'Pop'}\n",
    "        elif persons == 'MA':\n",
    "            variables = {'SP.POP.5054.MA' : 'Pop'}\n",
    "        \n",
    "    if age_range == '5559':\n",
    "        if persons == 'FE':\n",
    "            variables = {'SP.POP.5559.FE' : 'Pop'}\n",
    "        elif persons == 'MA':\n",
    "            variables = {'SP.POP.5559.MA' : 'Pop'}\n",
    "        \n",
    "    if age_range == '6064':\n",
    "        if persons == 'FE':\n",
    "            variables = {'SP.POP.6064.FE' : 'Pop'}\n",
    "        elif persons == 'MA':\n",
    "            variables = {'SP.POP.6064.MA' : 'Pop'}\n",
    "        \n",
    "    if age_range == '6569':\n",
    "        if persons == 'FE':\n",
    "            variables = {'SP.POP.6569.FE' : 'Pop'}\n",
    "        elif persons == 'MA':\n",
    "            variables = {'SP.POP.6569.MA' : 'Pop'}\n",
    "        \n",
    "    if age_range == '65UP':\n",
    "        if persons == 'FE':\n",
    "            variables = {'SP.POP.65UP.FE' : 'Pop'}\n",
    "        elif persons == 'MA':\n",
    "            variables = {'SP.POP.65UP.MA' : 'Pop'}\n",
    "        \n",
    "    if age_range == '7074':\n",
    "        if persons == 'FE':\n",
    "            variables = {'SP.POP.7074.FE' : 'Pop'}\n",
    "        elif persons == 'MA':\n",
    "            variables = {'SP.POP.7074.MA' : 'Pop'}\n",
    "        \n",
    "    if age_range == '7579':\n",
    "        if persons == 'FE':\n",
    "            variables = {'SP.POP.7579.FE' : 'Pop'}\n",
    "        elif persons == 'MA':\n",
    "            variables = {'SP.POP.7579.MA' : 'Pop'}\n",
    "        \n",
    "    if age_range == '80UP':\n",
    "        if persons == 'FE':\n",
    "            variables = {'SP.POP.80UP.FE' : 'Pop'}\n",
    "        elif persons == 'MA':\n",
    "            variables = {'SP.POP.80UP.MA' : 'Pop'}\n",
    "        \n",
    "    #Converts location parameter to a wbdata 3 letter id\n",
    "    name_dict = dict()\n",
    "    for i in range(len(wbdata.search_countries(\"\"))):\n",
    "        id = wbdata.search_countries(\"\")[i][\"id\"]\n",
    "        country = wbdata.search_countries(\"\")[i][\"name\"]\n",
    "        name_dict[country] = id\n",
    "\n",
    "    countries = {name_dict.get(location)}\n",
    "    df = wbdata.get_dataframe(variables, country=countries)\n",
    "    \n",
    "    return df.loc[year][0]"
   ]
  },
  {
   "cell_type": "code",
   "execution_count": 17,
   "metadata": {},
   "outputs": [
    {
     "data": {
      "text/plain": [
       "0.04769803389130116"
      ]
     },
     "execution_count": 17,
     "metadata": {},
     "output_type": "execute_result"
    }
   ],
   "source": [
    "population('2017', 'MA','2529','Azerbaijan') / population('2017', 'all', 'none', 'Azerbaijan')"
   ]
  },
  {
   "cell_type": "code",
   "execution_count": 18,
   "metadata": {},
   "outputs": [
    {
     "data": {
      "text/plain": [
       "37034297.0"
      ]
     },
     "execution_count": 18,
     "metadata": {},
     "output_type": "execute_result"
    }
   ],
   "source": [
    "population('1998', 'FE', 'none', 'Philippines') "
   ]
  },
  {
   "cell_type": "code",
   "execution_count": null,
   "metadata": {},
   "outputs": [],
   "source": []
  }
 ],
 "metadata": {
  "history": [
   {
    "code": "import wbdata, import cufflinks as cf",
    "id": "f35b1a33b1474ee7ac4effae04610da1",
    "idx": 0,
    "time": "2021-01-25T23:08:12.395Z",
    "type": "execution"
   },
   {
    "id": "f35b1a33b1474ee7ac4effae04610da1",
    "time": "2021-01-25T23:08:12.499Z",
    "type": "completion"
   },
   {
    "code": "import wbdata, cufflinks as cf",
    "id": "f35b1a33b1474ee7ac4effae04610da1",
    "idx": 0,
    "time": "2021-01-25T23:08:20.049Z",
    "type": "execution"
   },
   {
    "id": "f35b1a33b1474ee7ac4effae04610da1",
    "time": "2021-01-25T23:08:22.022Z",
    "type": "completion"
   },
   {
    "code": "import wbdata\nimport cufflinks as cf",
    "id": "f35b1a33b1474ee7ac4effae04610da1",
    "idx": 0,
    "time": "2021-01-25T23:08:29.959Z",
    "type": "execution"
   },
   {
    "id": "f35b1a33b1474ee7ac4effae04610da1",
    "time": "2021-01-25T23:08:30.046Z",
    "type": "completion"
   },
   {
    "code": "SOURCE = 40 # \"Population estimates and projections\nindicators = wbdata.get_indicator(source=SOURCE)",
    "id": "0f4e77ba0a0c4f3d925f75b7c39fb948",
    "idx": 2,
    "time": "2021-01-25T23:46:54.738Z",
    "type": "execution"
   },
   {
    "id": "0f4e77ba0a0c4f3d925f75b7c39fb948",
    "time": "2021-01-25T23:46:54.833Z",
    "type": "completion"
   },
   {
    "code": "df = wbdata.get_dataframe(variable_labels, country = countries)",
    "id": "342b275b3ab043938c8130b593a433de",
    "idx": 3,
    "time": "2021-01-25T23:46:58.163Z",
    "type": "execution"
   },
   {
    "id": "342b275b3ab043938c8130b593a433de",
    "time": "2021-01-25T23:46:58.410Z",
    "type": "completion"
   },
   {
    "code": "df = wbdata.get_dataframe()",
    "id": "342b275b3ab043938c8130b593a433de",
    "idx": 3,
    "time": "2021-01-25T23:47:09.424Z",
    "type": "execution"
   },
   {
    "id": "342b275b3ab043938c8130b593a433de",
    "time": "2021-01-25T23:47:09.541Z",
    "type": "completion"
   },
   {
    "code": "df = wbdata.get_dataframe(indicators= indicators)",
    "id": "342b275b3ab043938c8130b593a433de",
    "idx": 3,
    "time": "2021-01-25T23:47:21.115Z",
    "type": "execution"
   },
   {
    "id": "342b275b3ab043938c8130b593a433de",
    "time": "2021-01-25T23:47:21.248Z",
    "type": "completion"
   },
   {
    "code": "wbdata.search_countries",
    "id": "90e0d7bd124043d286303f6fa0d85a58",
    "idx": 3,
    "time": "2021-01-25T23:54:22.433Z",
    "type": "execution"
   },
   {
    "id": "90e0d7bd124043d286303f6fa0d85a58",
    "time": "2021-01-25T23:54:22.542Z",
    "type": "completion"
   },
   {
    "code": "wbdata.search_countries('Philippines')",
    "id": "90e0d7bd124043d286303f6fa0d85a58",
    "idx": 3,
    "time": "2021-01-25T23:55:34.360Z",
    "type": "execution"
   },
   {
    "id": "90e0d7bd124043d286303f6fa0d85a58",
    "time": "2021-01-25T23:55:34.461Z",
    "type": "completion"
   },
   {
    "code": "type(wbdata.search_countries('Philippines'))",
    "id": "90e0d7bd124043d286303f6fa0d85a58",
    "idx": 3,
    "time": "2021-01-25T23:55:52.722Z",
    "type": "execution"
   },
   {
    "id": "90e0d7bd124043d286303f6fa0d85a58",
    "time": "2021-01-25T23:55:52.821Z",
    "type": "completion"
   },
   {
    "code": "wbdata.search_countries('Philippines')",
    "id": "90e0d7bd124043d286303f6fa0d85a58",
    "idx": 3,
    "time": "2021-01-25T23:55:58.315Z",
    "type": "execution"
   },
   {
    "id": "90e0d7bd124043d286303f6fa0d85a58",
    "time": "2021-01-25T23:55:58.422Z",
    "type": "completion"
   },
   {
    "code": "wbdata.search_countries('Philippines')[0]",
    "id": "90e0d7bd124043d286303f6fa0d85a58",
    "idx": 3,
    "time": "2021-01-25T23:56:02.983Z",
    "type": "execution"
   },
   {
    "id": "90e0d7bd124043d286303f6fa0d85a58",
    "time": "2021-01-25T23:56:03.081Z",
    "type": "completion"
   },
   {
    "code": "wbdata.search_countries('Philippines')[0][0]",
    "id": "90e0d7bd124043d286303f6fa0d85a58",
    "idx": 3,
    "time": "2021-01-25T23:56:10.279Z",
    "type": "execution"
   },
   {
    "id": "90e0d7bd124043d286303f6fa0d85a58",
    "time": "2021-01-25T23:56:10.407Z",
    "type": "completion"
   },
   {
    "code": "wbdata.search_countries('Philippines')[0][1]",
    "id": "90e0d7bd124043d286303f6fa0d85a58",
    "idx": 3,
    "time": "2021-01-25T23:56:16.401Z",
    "type": "execution"
   },
   {
    "id": "90e0d7bd124043d286303f6fa0d85a58",
    "time": "2021-01-25T23:56:16.503Z",
    "type": "completion"
   },
   {
    "code": "wbdata.search_countries('Philippines')[0]",
    "id": "90e0d7bd124043d286303f6fa0d85a58",
    "idx": 3,
    "time": "2021-01-25T23:56:19.795Z",
    "type": "execution"
   },
   {
    "id": "90e0d7bd124043d286303f6fa0d85a58",
    "time": "2021-01-25T23:56:19.900Z",
    "type": "completion"
   },
   {
    "code": "wbdata.search_countries('Philippines')['id']",
    "id": "90e0d7bd124043d286303f6fa0d85a58",
    "idx": 3,
    "time": "2021-01-25T23:56:28.578Z",
    "type": "execution"
   },
   {
    "id": "90e0d7bd124043d286303f6fa0d85a58",
    "time": "2021-01-25T23:56:28.686Z",
    "type": "completion"
   },
   {
    "code": "wbdata.search_countries('Philippines')[1]",
    "id": "90e0d7bd124043d286303f6fa0d85a58",
    "idx": 3,
    "time": "2021-01-25T23:56:36.999Z",
    "type": "execution"
   },
   {
    "id": "90e0d7bd124043d286303f6fa0d85a58",
    "time": "2021-01-25T23:56:37.109Z",
    "type": "completion"
   },
   {
    "code": "wbdata.search_countries('Philippines')[0]",
    "id": "90e0d7bd124043d286303f6fa0d85a58",
    "idx": 3,
    "time": "2021-01-25T23:56:40.990Z",
    "type": "execution"
   },
   {
    "id": "90e0d7bd124043d286303f6fa0d85a58",
    "time": "2021-01-25T23:56:41.086Z",
    "type": "completion"
   },
   {
    "code": "wbdata.search_countries('Philippines')",
    "id": "90e0d7bd124043d286303f6fa0d85a58",
    "idx": 3,
    "time": "2021-01-25T23:57:04.965Z",
    "type": "execution"
   },
   {
    "id": "90e0d7bd124043d286303f6fa0d85a58",
    "time": "2021-01-25T23:57:05.063Z",
    "type": "completion"
   },
   {
    "code": "name_dict = dict()\nfor i in range(len(wbdata.search_countries(\"\"))):\n    id = wbdata.search_countries(\"\")[i][\"id\"]\n    country = wbdata.search_countries(\"\")[i][\"name\"]\n    name_dict[country] = id",
    "id": "0c6837721e1c41bd87532bd9860d5bcc",
    "idx": 3,
    "time": "2021-01-26T00:16:17.901Z",
    "type": "execution"
   },
   {
    "id": "0c6837721e1c41bd87532bd9860d5bcc",
    "time": "2021-01-26T00:16:19.127Z",
    "type": "completion"
   },
   {
    "code": "name_dict = dict()\nfor i in range(len(wbdata.search_countries(\"\"))):\n    id = wbdata.search_countries(\"\")[i][\"id\"]\n    country = wbdata.search_countries(\"\")[i][\"name\"]\n    name_dict[country] = id\nname_dict",
    "id": "0c6837721e1c41bd87532bd9860d5bcc",
    "idx": 3,
    "time": "2021-01-26T00:16:26.750Z",
    "type": "execution"
   },
   {
    "id": "0c6837721e1c41bd87532bd9860d5bcc",
    "time": "2021-01-26T00:16:28.111Z",
    "type": "completion"
   },
   {
    "code": "variables = SP.POP.TOTL    \ndf = wbdata.get_dataframe(variables, country=PHL)\ndf",
    "id": "0dfcbe9d9561418883c71f5b21988f26",
    "idx": 4,
    "time": "2021-01-26T00:25:17.858Z",
    "type": "execution"
   },
   {
    "id": "0dfcbe9d9561418883c71f5b21988f26",
    "time": "2021-01-26T00:25:17.968Z",
    "type": "completion"
   },
   {
    "code": "variables = SP.POP.TOTL   \ndf = wbdata.get_dataframe(variables, country=PHL)\ndf",
    "id": "0dfcbe9d9561418883c71f5b21988f26",
    "idx": 4,
    "time": "2021-01-26T00:28:48.342Z",
    "type": "execution"
   },
   {
    "id": "0dfcbe9d9561418883c71f5b21988f26",
    "time": "2021-01-26T00:28:48.445Z",
    "type": "completion"
   },
   {
    "code": "variables = {\"SP.POP.TOTL\"}\ndf = wbdata.get_dataframe(variables, country=PHL)\ndf",
    "id": "0dfcbe9d9561418883c71f5b21988f26",
    "idx": 4,
    "time": "2021-01-26T00:30:12.389Z",
    "type": "execution"
   },
   {
    "id": "0dfcbe9d9561418883c71f5b21988f26",
    "time": "2021-01-26T00:30:12.490Z",
    "type": "completion"
   },
   {
    "code": "variables = {\"SP.POP.TOTL\"}\ndf = wbdata.get_dataframe(variables, country='PHL')\ndf",
    "id": "0dfcbe9d9561418883c71f5b21988f26",
    "idx": 4,
    "time": "2021-01-26T00:30:17.915Z",
    "type": "execution"
   },
   {
    "id": "0dfcbe9d9561418883c71f5b21988f26",
    "time": "2021-01-26T00:30:18.070Z",
    "type": "completion"
   },
   {
    "code": "variables = {\"SP.POP.TOTL\"}\ncountries = {'PHL'}\ndf = wbdata.get_dataframe(variables, country=countries)\ndf",
    "id": "0dfcbe9d9561418883c71f5b21988f26",
    "idx": 4,
    "time": "2021-01-26T00:30:42.590Z",
    "type": "execution"
   },
   {
    "id": "0dfcbe9d9561418883c71f5b21988f26",
    "time": "2021-01-26T00:30:42.829Z",
    "type": "completion"
   },
   {
    "code": "variables = {\"SP.POP.TOTL\":'Pop'}\ncountries = {'PHL':'country'}\ndf = wbdata.get_dataframe(variables, country=countries)\ndf",
    "id": "0dfcbe9d9561418883c71f5b21988f26",
    "idx": 4,
    "time": "2021-01-26T00:32:11.865Z",
    "type": "execution"
   },
   {
    "id": "0dfcbe9d9561418883c71f5b21988f26",
    "time": "2021-01-26T00:32:12.375Z",
    "type": "completion"
   },
   {
    "code": "variables = {\"SP.POP.TOTL\":'Pop'}\ncountries = {'PHL':'country'}\ndf = wbdata.get_dataframe(variables, country=countries)\ndf.squeeze()",
    "id": "0dfcbe9d9561418883c71f5b21988f26",
    "idx": 4,
    "time": "2021-01-26T00:34:16.475Z",
    "type": "execution"
   },
   {
    "id": "0dfcbe9d9561418883c71f5b21988f26",
    "time": "2021-01-26T00:34:16.572Z",
    "type": "completion"
   },
   {
    "code": "variables = {\"SP.POP.TOTL\":'Pop'}\ncountries = {'PHL'}\ndf = wbdata.get_dataframe(variables, country=countries)\ndf.squeeze()",
    "id": "0dfcbe9d9561418883c71f5b21988f26",
    "idx": 4,
    "time": "2021-01-26T00:35:40.421Z",
    "type": "execution"
   },
   {
    "id": "0dfcbe9d9561418883c71f5b21988f26",
    "time": "2021-01-26T00:35:40.571Z",
    "type": "completion"
   },
   {
    "code": "variables = {\"SP.POP.TOTL\"}\ncountries = {'PHL'}\ndf = wbdata.get_dataframe(variables, country=countries)\ndf.squeeze()",
    "id": "0dfcbe9d9561418883c71f5b21988f26",
    "idx": 4,
    "time": "2021-01-26T00:35:48.918Z",
    "type": "execution"
   },
   {
    "id": "0dfcbe9d9561418883c71f5b21988f26",
    "time": "2021-01-26T00:35:49.101Z",
    "type": "completion"
   },
   {
    "code": "variables = {\"SP.POP.TOTL\":'Population'}\ncountries = {'PHL'}\ndf = wbdata.get_dataframe(variables, country=countries)\ndf.squeeze()",
    "id": "0dfcbe9d9561418883c71f5b21988f26",
    "idx": 4,
    "time": "2021-01-26T00:35:59.099Z",
    "type": "execution"
   },
   {
    "id": "0dfcbe9d9561418883c71f5b21988f26",
    "time": "2021-01-26T00:35:59.193Z",
    "type": "completion"
   },
   {
    "code": "wbdata.search_countries('South Korea')",
    "id": "3bf24e6fee9d45198496a3275fdf68e7",
    "idx": 5,
    "time": "2021-01-26T00:36:15.857Z",
    "type": "execution"
   },
   {
    "id": "3bf24e6fee9d45198496a3275fdf68e7",
    "time": "2021-01-26T00:36:15.973Z",
    "type": "completion"
   },
   {
    "code": "wbdata.search_countries('Korea')",
    "id": "3bf24e6fee9d45198496a3275fdf68e7",
    "idx": 5,
    "time": "2021-01-26T00:36:19.763Z",
    "type": "execution"
   },
   {
    "id": "3bf24e6fee9d45198496a3275fdf68e7",
    "time": "2021-01-26T00:36:19.853Z",
    "type": "completion"
   },
   {
    "code": "variables = {\"SP.POP.TOTL\":'Population'}\ncountries = {'KOR'}\ndf = wbdata.get_dataframe(variables, country=countries)\ndf.squeeze()",
    "id": "0dfcbe9d9561418883c71f5b21988f26",
    "idx": 4,
    "time": "2021-01-26T00:36:39.187Z",
    "type": "execution"
   },
   {
    "id": "0dfcbe9d9561418883c71f5b21988f26",
    "time": "2021-01-26T00:36:39.821Z",
    "type": "completion"
   },
   {
    "code": "name_dict = dict()\nfor i in range(len(wbdata.search_countries(\"\"))):\n    id = wbdata.search_countries(\"\")[i][\"id\"]\n    country = wbdata.search_countries(\"\")[i][\"name\"]\n    name_dict[country] = id\nname_dict('Aruba')",
    "id": "0c6837721e1c41bd87532bd9860d5bcc",
    "idx": 3,
    "time": "2021-01-26T00:40:10.984Z",
    "type": "execution"
   },
   {
    "id": "0c6837721e1c41bd87532bd9860d5bcc",
    "time": "2021-01-26T00:40:12.203Z",
    "type": "completion"
   },
   {
    "code": "name_dict = dict()\nfor i in range(len(wbdata.search_countries(\"\"))):\n    id = wbdata.search_countries(\"\")[i][\"id\"]\n    country = wbdata.search_countries(\"\")[i][\"name\"]\n    name_dict[country] = id\nname_dict.get('Philippines')",
    "id": "0c6837721e1c41bd87532bd9860d5bcc",
    "idx": 3,
    "time": "2021-01-26T00:41:15.431Z",
    "type": "execution"
   },
   {
    "id": "0c6837721e1c41bd87532bd9860d5bcc",
    "time": "2021-01-26T00:41:16.717Z",
    "type": "completion"
   },
   {
    "code": "variables = {\"SP.POP.TOTL\":'Population'}\ncountries = {name_dict.get('Philippines')}\ndf = wbdata.get_dataframe(variables, country=countries)\ndf.squeeze()",
    "id": "0dfcbe9d9561418883c71f5b21988f26",
    "idx": 5,
    "time": "2021-01-26T00:42:04.845Z",
    "type": "execution"
   },
   {
    "id": "0dfcbe9d9561418883c71f5b21988f26",
    "time": "2021-01-26T00:42:04.948Z",
    "type": "completion"
   },
   {
    "code": "df['date'=='2018']",
    "id": "e3eaa761ef16448fa657de8207ac6c18",
    "idx": 6,
    "time": "2021-01-26T00:43:19.130Z",
    "type": "execution"
   },
   {
    "id": "e3eaa761ef16448fa657de8207ac6c18",
    "time": "2021-01-26T00:43:19.321Z",
    "type": "completion"
   },
   {
    "code": "df[df['date'=='2018']]",
    "id": "e3eaa761ef16448fa657de8207ac6c18",
    "idx": 6,
    "time": "2021-01-26T00:43:33.069Z",
    "type": "execution"
   },
   {
    "id": "e3eaa761ef16448fa657de8207ac6c18",
    "time": "2021-01-26T00:43:33.234Z",
    "type": "completion"
   },
   {
    "code": "df[df[date=='2018']]",
    "id": "e3eaa761ef16448fa657de8207ac6c18",
    "idx": 6,
    "time": "2021-01-26T00:43:44.276Z",
    "type": "execution"
   },
   {
    "id": "e3eaa761ef16448fa657de8207ac6c18",
    "time": "2021-01-26T00:43:44.378Z",
    "type": "completion"
   },
   {
    "code": "df[df['date'==2018]]",
    "id": "e3eaa761ef16448fa657de8207ac6c18",
    "idx": 6,
    "time": "2021-01-26T00:43:52.920Z",
    "type": "execution"
   },
   {
    "id": "e3eaa761ef16448fa657de8207ac6c18",
    "time": "2021-01-26T00:43:53.083Z",
    "type": "completion"
   },
   {
    "code": "df[df['date'=2018]]",
    "id": "e3eaa761ef16448fa657de8207ac6c18",
    "idx": 6,
    "time": "2021-01-26T00:44:15.569Z",
    "type": "execution"
   },
   {
    "id": "e3eaa761ef16448fa657de8207ac6c18",
    "time": "2021-01-26T00:44:15.675Z",
    "type": "completion"
   },
   {
    "code": "df[df['date'=='2018']]",
    "id": "e3eaa761ef16448fa657de8207ac6c18",
    "idx": 6,
    "time": "2021-01-26T00:44:25.259Z",
    "type": "execution"
   },
   {
    "id": "e3eaa761ef16448fa657de8207ac6c18",
    "time": "2021-01-26T00:44:25.420Z",
    "type": "completion"
   },
   {
    "code": "variables = {\"SP.POP.TOTL\":'Population'}\ncountries = {name_dict.get('Philippines')}\ndf = wbdata.get_dataframe(variables, country=countries, convert_date=False)\ndf.squeeze()",
    "id": "0dfcbe9d9561418883c71f5b21988f26",
    "idx": 5,
    "time": "2021-01-26T00:44:47.059Z",
    "type": "execution"
   },
   {
    "id": "0dfcbe9d9561418883c71f5b21988f26",
    "time": "2021-01-26T00:44:47.173Z",
    "type": "completion"
   },
   {
    "code": "df[df['date'=='2018']]",
    "id": "e3eaa761ef16448fa657de8207ac6c18",
    "idx": 6,
    "time": "2021-01-26T00:44:49.296Z",
    "type": "execution"
   },
   {
    "id": "e3eaa761ef16448fa657de8207ac6c18",
    "time": "2021-01-26T00:44:49.453Z",
    "type": "completion"
   },
   {
    "code": "variables = {\"SP.POP.TOTL\":'Population'}\ncountries = {name_dict.get('Philippines')}\ndf = wbdata.get_dataframe(variables, country=countries, convert_date=False)\ntype(df.squeeze())",
    "id": "0dfcbe9d9561418883c71f5b21988f26",
    "idx": 5,
    "time": "2021-01-26T00:44:58.509Z",
    "type": "execution"
   },
   {
    "id": "0dfcbe9d9561418883c71f5b21988f26",
    "time": "2021-01-26T00:44:58.604Z",
    "type": "completion"
   },
   {
    "code": "variables = {\"SP.POP.TOTL\":'Population'}\ncountries = {name_dict.get('Philippines')}\ndf = wbdata.get_dataframe(variables, country=countries, convert_date=False)\ndf.squeeze()",
    "id": "0dfcbe9d9561418883c71f5b21988f26",
    "idx": 5,
    "time": "2021-01-26T00:45:04.041Z",
    "type": "execution"
   },
   {
    "id": "0dfcbe9d9561418883c71f5b21988f26",
    "time": "2021-01-26T00:45:04.141Z",
    "type": "completion"
   },
   {
    "code": "df[df['date'==2018]]",
    "id": "e3eaa761ef16448fa657de8207ac6c18",
    "idx": 6,
    "time": "2021-01-26T00:45:19.933Z",
    "type": "execution"
   },
   {
    "id": "e3eaa761ef16448fa657de8207ac6c18",
    "time": "2021-01-26T00:45:20.108Z",
    "type": "completion"
   },
   {
    "code": "df[df['2018']]",
    "id": "e3eaa761ef16448fa657de8207ac6c18",
    "idx": 6,
    "time": "2021-01-26T00:45:31.563Z",
    "type": "execution"
   },
   {
    "id": "e3eaa761ef16448fa657de8207ac6c18",
    "time": "2021-01-26T00:45:31.736Z",
    "type": "completion"
   },
   {
    "code": "df['2018']",
    "id": "e3eaa761ef16448fa657de8207ac6c18",
    "idx": 6,
    "time": "2021-01-26T00:45:39.737Z",
    "type": "execution"
   },
   {
    "id": "e3eaa761ef16448fa657de8207ac6c18",
    "time": "2021-01-26T00:45:39.895Z",
    "type": "completion"
   },
   {
    "code": "variables = {\"SP.POP.TOTL\":'Population'}\ncountries = {name_dict.get('Philippines')}\ndf = wbdata.get_dataframe(variables, country=countries, convert_date=False)\ndf",
    "id": "0dfcbe9d9561418883c71f5b21988f26",
    "idx": 5,
    "time": "2021-01-26T00:45:56.011Z",
    "type": "execution"
   },
   {
    "id": "0dfcbe9d9561418883c71f5b21988f26",
    "time": "2021-01-26T00:45:56.161Z",
    "type": "completion"
   },
   {
    "code": "df[df['date'=='2018']]",
    "id": "e3eaa761ef16448fa657de8207ac6c18",
    "idx": 6,
    "time": "2021-01-26T00:46:15.674Z",
    "type": "execution"
   },
   {
    "id": "e3eaa761ef16448fa657de8207ac6c18",
    "time": "2021-01-26T00:46:15.848Z",
    "type": "completion"
   },
   {
    "code": "variables = {\"SP.POP.TOTL\":'Population'}\ncountries = {name_dict.get('Philippines')}\ndf = wbdata.get_dataframe(variables, country=countries, convert_date=False)\ndf = df.unstack('country')\ndf",
    "id": "0dfcbe9d9561418883c71f5b21988f26",
    "idx": 5,
    "time": "2021-01-26T00:46:55.688Z",
    "type": "execution"
   },
   {
    "id": "0dfcbe9d9561418883c71f5b21988f26",
    "time": "2021-01-26T00:46:55.856Z",
    "type": "completion"
   },
   {
    "code": "variables = {\"SP.POP.TOTL\":'Population'}\ncountries = {name_dict.get('Philippines')}\ndf = wbdata.get_dataframe(variables, country=countries, convert_date=False)\ndf = df.unstack('Population')\ndf",
    "id": "0dfcbe9d9561418883c71f5b21988f26",
    "idx": 5,
    "time": "2021-01-26T00:47:02.759Z",
    "type": "execution"
   },
   {
    "id": "0dfcbe9d9561418883c71f5b21988f26",
    "time": "2021-01-26T00:47:02.919Z",
    "type": "completion"
   },
   {
    "code": "variables = {\"SP.POP.TOTL\":'Population'}\ncountries = {name_dict.get('Philippines')}\ndf = wbdata.get_dataframe(variables, country=countries, convert_date=False)\ndf = df.unstack('countries')\ndf",
    "id": "0dfcbe9d9561418883c71f5b21988f26",
    "idx": 5,
    "time": "2021-01-26T00:47:42.525Z",
    "type": "execution"
   },
   {
    "id": "0dfcbe9d9561418883c71f5b21988f26",
    "time": "2021-01-26T00:47:42.732Z",
    "type": "completion"
   },
   {
    "code": "variables = {\"SP.POP.TOTL\":'Population'}\ncountries = {name_dict.get('Philippines')}\ndf = wbdata.get_dataframe(variables, country=countries, convert_date=False)\ndf = df.unstack('country')\ndf",
    "id": "0dfcbe9d9561418883c71f5b21988f26",
    "idx": 5,
    "time": "2021-01-26T00:47:48.874Z",
    "type": "execution"
   },
   {
    "id": "0dfcbe9d9561418883c71f5b21988f26",
    "time": "2021-01-26T00:47:49.043Z",
    "type": "completion"
   },
   {
    "code": "variables = {\"SP.POP.TOTL\":'Population'}\ncountries = {name_dict.get('Philippines')}\ndf = wbdata.get_dataframe(variables, country=countries, convert_date=False)\ndf",
    "id": "0dfcbe9d9561418883c71f5b21988f26",
    "idx": 5,
    "time": "2021-01-26T00:47:53.906Z",
    "type": "execution"
   },
   {
    "id": "0dfcbe9d9561418883c71f5b21988f26",
    "time": "2021-01-26T00:47:54.044Z",
    "type": "completion"
   },
   {
    "code": "df[df['date'=='2018']]",
    "id": "e3eaa761ef16448fa657de8207ac6c18",
    "idx": 6,
    "time": "2021-01-26T00:48:24.288Z",
    "type": "execution"
   },
   {
    "id": "e3eaa761ef16448fa657de8207ac6c18",
    "time": "2021-01-26T00:48:24.444Z",
    "type": "completion"
   },
   {
    "code": "df.index",
    "id": "60579c3f64d741229c8ef35e04d31f2c",
    "idx": 6,
    "time": "2021-01-26T00:48:42.336Z",
    "type": "execution"
   },
   {
    "id": "60579c3f64d741229c8ef35e04d31f2c",
    "time": "2021-01-26T00:48:42.425Z",
    "type": "completion"
   },
   {
    "code": "df[df[df.index=='2018']]",
    "id": "e3eaa761ef16448fa657de8207ac6c18",
    "idx": 7,
    "time": "2021-01-26T00:49:07.822Z",
    "type": "execution"
   },
   {
    "id": "e3eaa761ef16448fa657de8207ac6c18",
    "time": "2021-01-26T00:49:07.977Z",
    "type": "completion"
   },
   {
    "code": "df.loc['2018']",
    "id": "e3eaa761ef16448fa657de8207ac6c18",
    "idx": 7,
    "time": "2021-01-26T00:50:36.057Z",
    "type": "execution"
   },
   {
    "id": "e3eaa761ef16448fa657de8207ac6c18",
    "time": "2021-01-26T00:50:36.153Z",
    "type": "completion"
   },
   {
    "code": "df.loc['2018'][0]",
    "id": "e3eaa761ef16448fa657de8207ac6c18",
    "idx": 7,
    "time": "2021-01-26T00:50:49.137Z",
    "type": "execution"
   },
   {
    "id": "e3eaa761ef16448fa657de8207ac6c18",
    "time": "2021-01-26T00:50:49.231Z",
    "type": "completion"
   },
   {
    "code": "SOURCE = 40 # \"Population estimates and projections\nindicators = wbdata.get_indicator(source=SOURCE)\nindicators",
    "id": "0f4e77ba0a0c4f3d925f75b7c39fb948",
    "idx": 2,
    "time": "2021-01-26T00:53:28.906Z",
    "type": "execution"
   },
   {
    "id": "0f4e77ba0a0c4f3d925f75b7c39fb948",
    "time": "2021-01-26T00:53:29.104Z",
    "type": "completion"
   },
   {
    "code": "variables = {\"SP.POP.TOTL\"}\ncountries = {name_dict.get('Philippines')}\ndf = wbdata.get_dataframe(variables, country=countries, convert_date=False)\ndf",
    "id": "0dfcbe9d9561418883c71f5b21988f26",
    "idx": 5,
    "time": "2021-01-26T01:00:10.879Z",
    "type": "execution"
   },
   {
    "id": "0dfcbe9d9561418883c71f5b21988f26",
    "time": "2021-01-26T01:00:11.004Z",
    "type": "completion"
   },
   {
    "code": "variables = {\"SP.POP.TOTL\":'Population'}\ncountries = {name_dict.get('Philippines')}\ndf = wbdata.get_dataframe(variables, country=countries, convert_date=False)\ndf",
    "id": "0dfcbe9d9561418883c71f5b21988f26",
    "idx": 5,
    "time": "2021-01-26T01:00:20.918Z",
    "type": "execution"
   },
   {
    "id": "0dfcbe9d9561418883c71f5b21988f26",
    "time": "2021-01-26T01:00:21.064Z",
    "type": "completion"
   },
   {
    "code": "def population(year, persons, age_range, location):\n    \"\"\"A python function named population that will deliver information to answer the queries\n    of the following form: In [year] how many [people/males/females] aged [low] to [high] were living in [the\n    world/region/country]?\n    \n    location: a string based on name of country, income level, world location, etc.\n    sex: FE, MA, or all\n    \"\"\"\n    if age_range = 'none':\n        if persons = 'FE':\n            variables = {'SP.POP.TOTL.FE.IN':'Pop'}\n        elif persons = 'MA':\n            variables = {'SP.POP.TOTL.MA.IN':'Pop'}\n        else:\n            variables = {'SP.POP.TOTL':'Pop'}\n        \n    #Converts location parameter to a wbdata 3 letter id\n    name_dict = dict()\n    for i in range(len(wbdata.search_countries(\"\"))):\n        id = wbdata.search_countries(\"\")[i][\"id\"]\n        country = wbdata.search_countries(\"\")[i][\"name\"]\n        name_dict[country] = id\n\n    countries = {name_dict.get(location)}\n    df = wbdata.get_dataframe(variables, country=countries)\n    return df.loc[year][0]",
    "id": "4e9596f7ef2a4a1bb7977c55c247a466",
    "idx": 1,
    "time": "2021-01-26T01:27:16.323Z",
    "type": "execution"
   },
   {
    "id": "4e9596f7ef2a4a1bb7977c55c247a466",
    "time": "2021-01-26T01:27:16.417Z",
    "type": "completion"
   },
   {
    "code": "def population(year, persons, age_range, location):\n    \"\"\"A python function named population that will deliver information to answer the queries\n    of the following form: In [year] how many [people/males/females] aged [low] to [high] were living in [the\n    world/region/country]?\n    \n    location: a string based on name of country, income level, world location, etc.\n    sex: FE, MA, or all\n    \"\"\"\n    if age_range == 'none':\n        if persons == 'FE':\n            variables = {'SP.POP.TOTL.FE.IN':'Pop'}\n        elif persons == 'MA':\n            variables = {'SP.POP.TOTL.MA.IN':'Pop'}\n        else:\n            variables = {'SP.POP.TOTL':'Pop'}\n        \n    #Converts location parameter to a wbdata 3 letter id\n    name_dict = dict()\n    for i in range(len(wbdata.search_countries(\"\"))):\n        id = wbdata.search_countries(\"\")[i][\"id\"]\n        country = wbdata.search_countries(\"\")[i][\"name\"]\n        name_dict[country] = id\n\n    countries = {name_dict.get(location)}\n    df = wbdata.get_dataframe(variables, country=countries)\n    return df.loc[year][0]",
    "id": "4e9596f7ef2a4a1bb7977c55c247a466",
    "idx": 1,
    "time": "2021-01-26T01:27:30.495Z",
    "type": "execution"
   },
   {
    "id": "4e9596f7ef2a4a1bb7977c55c247a466",
    "time": "2021-01-26T01:27:30.585Z",
    "type": "completion"
   },
   {
    "code": "population('1998', 'FE', 'none', 'Philippines')",
    "id": "2a8f97f0085048ec8800b33a51b1a6f3",
    "idx": 2,
    "time": "2021-01-26T01:28:14.029Z",
    "type": "execution"
   },
   {
    "id": "2a8f97f0085048ec8800b33a51b1a6f3",
    "time": "2021-01-26T01:28:15.835Z",
    "type": "completion"
   },
   {
    "code": "variable_labels = {\"SP.POP.TOTL\":\"Total Population\",\n                   \"SP.POP.TOTL.FE.IN\":\"Female Population\",\n                   \"SP.POP.TOTL.MA.IN\":\"Male Population\",\n                   \n                   \"SP.POP.0014.FE.IN\":\"Females (0-14)\",\n                   \"SP.POP.0014.MA.IN\":\"Males (0-14)\",\n                   \n                   \"SP.POP.1564.FE.IN\":\"Females (15-64)\",\n                   \"SP.POP.1564.MA.IN\":\"Males (15-64)\",\n\n                   \"SP.POP.65UP.FE.IN\":\"Females (65+)\", \n                   \"SP.POP.65UP.MA.IN\":\"Males (65+)\", \n                   \n                   \"SP.POP.0004.FE\":\"Females (0-4)\",\n                   \"SP.POP.0004.MA\":\"Males (0-4)\",\n                   \n                   \"SP.POP.0509.FE\":\"Females (5-9)\",\n                   \"SP.POP.0509.MA\":\"Males (5-9)\",\n                   \n                   \"SP.POP.1014.FE\":\"Females (10-14)\",\n                   \"SP.POP.1014.MA\":\"Males (10-14)\",\n                   \n                   \"SP.POP.1519.FE\":\"Females (15-19)\",\n                   \"SP.POP.1519.MA\":\"Males (15-19)\",\n                   \n                   \"SP.POP.2024.FE\":\"Females (20-24)\",\n                   \"SP.POP.2024.MA\":\"Males (20-24)\",\n                   \n                   \"SP.POP.2529.FE\":\"Females (25-29)\",\n                   \"SP.POP.2529.MA\":\"Males (25-29)\",\n                   \n                   \"SP.POP.3034.FE\":\"Females (30-34)\",\n                   \"SP.POP.3034.MA\":\"Males (30-34)\",\n                   \n                   \"SP.POP.3539.FE\":\"Females (35-39)\",\n                   \"SP.POP.3539.MA\":\"Males (35-39)\",\n                   \n                   \"SP.POP.4044.FE\":\"Females (40-44)\",\n                   \"SP.POP.4044.MA\":\"Males (40-44)\",\n                   \n                   \"SP.POP.4549.FE\":\"Females (45-49)\",\n                   \"SP.POP.4549.MA\":\"Males (45-49)\",\n                   \n                   \"SP.POP.5054.FE\":\"Females (50-54)\",\n                   \"SP.POP.5054.MA\":\"Males (50-54)\",\n                   \n                   \"SP.POP.5559.FE\":\"Females (55-59)\",\n                   \"SP.POP.5559.MA\":\"Males (55-59)\",\n                   \n                   \"SP.POP.6064.FE\":\"Females (60-64)\",\n                   \"SP.POP.6064.MA\":\"Males (60-64)\",\n                   \n                   \"SP.POP.6569.FE\":\"Females (65-69)\",\n                   \"SP.POP.6569.MA\":\"Males (65-69)\",\n                   \n                   \"SP.POP.7074.FE\":\"Females (70-74)\",\n                   \"SP.POP.7074.MA\":\"Males (70-74)\",\n                \n                   \"SP.POP.7579.FE\":\"Females (75-79)\",\n                   \"SP.POP.7579.MA\":\"Males (75-79)\",\n                   \n                   \"SP.POP.80UP.FE\":\"Females (80+)\",\n                   \"SP.POP.80UP.MA\":\"Males (80+)\" \n                   \n                  }\nworld = wbdata.get_dataframe(variable_labels, country=\"\")\nworld.head()",
    "id": "44d91ab8e64d46259cfadc1966308340",
    "idx": 4,
    "time": "2021-01-27T22:21:42.188Z",
    "type": "execution"
   },
   {
    "id": "44d91ab8e64d46259cfadc1966308340",
    "time": "2021-01-27T22:21:42.372Z",
    "type": "completion"
   },
   {
    "code": "import wbdata\nimport cufflinks as cf",
    "id": "8da46a9c1ed745888b5a089c126acccb",
    "idx": 0,
    "time": "2021-01-27T22:21:47.593Z",
    "type": "execution"
   },
   {
    "id": "8da46a9c1ed745888b5a089c126acccb",
    "time": "2021-01-27T22:21:47.703Z",
    "type": "completion"
   },
   {
    "code": "!pip install wbdata\nimport wbdata\nimport cufflinks as cf",
    "id": "8da46a9c1ed745888b5a089c126acccb",
    "idx": 0,
    "time": "2021-01-27T22:22:30.168Z",
    "type": "execution"
   },
   {
    "id": "8da46a9c1ed745888b5a089c126acccb",
    "time": "2021-01-27T22:22:36.258Z",
    "type": "completion"
   },
   {
    "code": "!pip install wbdata\nimport wbdata\n!pip install cufflinks\nimport cufflinks as cf",
    "id": "8da46a9c1ed745888b5a089c126acccb",
    "idx": 0,
    "time": "2021-01-27T22:23:01.419Z",
    "type": "execution"
   },
   {
    "id": "8da46a9c1ed745888b5a089c126acccb",
    "time": "2021-01-27T22:23:08.682Z",
    "type": "completion"
   },
   {
    "code": "variable_labels = {\"SP.POP.TOTL\":\"Total Population\",\n                   \"SP.POP.TOTL.FE.IN\":\"Female Population\",\n                   \"SP.POP.TOTL.MA.IN\":\"Male Population\",\n                   \n                   \"SP.POP.0014.FE.IN\":\"Females (0-14)\",\n                   \"SP.POP.0014.MA.IN\":\"Males (0-14)\",\n                   \n                   \"SP.POP.1564.FE.IN\":\"Females (15-64)\",\n                   \"SP.POP.1564.MA.IN\":\"Males (15-64)\",\n\n                   \"SP.POP.65UP.FE.IN\":\"Females (65+)\", \n                   \"SP.POP.65UP.MA.IN\":\"Males (65+)\", \n                   \n                   \"SP.POP.0004.FE\":\"Females (0-4)\",\n                   \"SP.POP.0004.MA\":\"Males (0-4)\",\n                   \n                   \"SP.POP.0509.FE\":\"Females (5-9)\",\n                   \"SP.POP.0509.MA\":\"Males (5-9)\",\n                   \n                   \"SP.POP.1014.FE\":\"Females (10-14)\",\n                   \"SP.POP.1014.MA\":\"Males (10-14)\",\n                   \n                   \"SP.POP.1519.FE\":\"Females (15-19)\",\n                   \"SP.POP.1519.MA\":\"Males (15-19)\",\n                   \n                   \"SP.POP.2024.FE\":\"Females (20-24)\",\n                   \"SP.POP.2024.MA\":\"Males (20-24)\",\n                   \n                   \"SP.POP.2529.FE\":\"Females (25-29)\",\n                   \"SP.POP.2529.MA\":\"Males (25-29)\",\n                   \n                   \"SP.POP.3034.FE\":\"Females (30-34)\",\n                   \"SP.POP.3034.MA\":\"Males (30-34)\",\n                   \n                   \"SP.POP.3539.FE\":\"Females (35-39)\",\n                   \"SP.POP.3539.MA\":\"Males (35-39)\",\n                   \n                   \"SP.POP.4044.FE\":\"Females (40-44)\",\n                   \"SP.POP.4044.MA\":\"Males (40-44)\",\n                   \n                   \"SP.POP.4549.FE\":\"Females (45-49)\",\n                   \"SP.POP.4549.MA\":\"Males (45-49)\",\n                   \n                   \"SP.POP.5054.FE\":\"Females (50-54)\",\n                   \"SP.POP.5054.MA\":\"Males (50-54)\",\n                   \n                   \"SP.POP.5559.FE\":\"Females (55-59)\",\n                   \"SP.POP.5559.MA\":\"Males (55-59)\",\n                   \n                   \"SP.POP.6064.FE\":\"Females (60-64)\",\n                   \"SP.POP.6064.MA\":\"Males (60-64)\",\n                   \n                   \"SP.POP.6569.FE\":\"Females (65-69)\",\n                   \"SP.POP.6569.MA\":\"Males (65-69)\",\n                   \n                   \"SP.POP.7074.FE\":\"Females (70-74)\",\n                   \"SP.POP.7074.MA\":\"Males (70-74)\",\n                \n                   \"SP.POP.7579.FE\":\"Females (75-79)\",\n                   \"SP.POP.7579.MA\":\"Males (75-79)\",\n                   \n                   \"SP.POP.80UP.FE\":\"Females (80+)\",\n                   \"SP.POP.80UP.MA\":\"Males (80+)\" \n                   \n                  }\nworld = wbdata.get_dataframe(variable_labels, country=\"\")\nworld.head()",
    "id": "44d91ab8e64d46259cfadc1966308340",
    "idx": 4,
    "time": "2021-01-27T22:23:19.345Z",
    "type": "execution"
   },
   {
    "id": "44d91ab8e64d46259cfadc1966308340",
    "time": "2021-01-27T22:39:44.144Z",
    "type": "completion"
   },
   {
    "code": "!pip install wbdata\nimport wbdata\n!pip install cufflinks\nimport cufflinks as cf",
    "id": "ef8b8829e06246f88c4fa84cd5bd5333",
    "idx": 0,
    "time": "2021-01-27T23:07:48.808Z",
    "type": "execution"
   },
   {
    "code": "def population(year, persons, age_range, location):\n    \"\"\"A python function named population that will deliver information to answer the queries\n    of the following form: In [year] how many [people/males/females] aged [low] to [high] were living in [the\n    world/region/country]?\n    \n    location (str): name of country, income level, world location, etc.\n    sex (str): a string FE (female), MA (male), or all\n    age_range (str): none, 0004 (Population ages 00-04), 0014 (Population ages 0-14), etc etc\n    \"\"\"\n    if age_range == 'none':\n        if persons == 'FE':\n            variables = {'SP.POP.TOTL.FE.IN':'Pop'}\n        elif persons == 'MA':\n            variables = {'SP.POP.TOTL.MA.IN':'Pop'}\n        else:\n            variables = {'SP.POP.TOTL':'Pop'}\n    if age_range == '0004':\n        if persons == 'FE':\n            variables = {SP.POP.0004.FE : 'Pop'}\n        elif persons == 'MA':\n            variables = {SP.POP.0004.MA : 'Pop'}\n        \n    if age_range == '0014':\n        if persons == 'FE':\n            variables = {SP.POP.0014.FE : 'Pop'}\n        elif persons == 'MA':\n            variables = {SP.POP.0014.MA : 'Pop'}\n        \n    if age_range == '0509':\n        if persons == 'FE':\n            variables = {SP.POP.0509.FE : 'Pop'}\n        elif persons == 'MA':\n            variables = {SP.POP.0509.MA : 'Pop'}\n        \n    if age_range == '1014':\n        if persons == 'FE':\n            variables = {SP.POP.1014.FE : 'Pop'}\n        elif persons == 'MA':\n            variables = {SP.POP.1014.MA : 'Pop'}\n        \n    if age_range == '1519':\n        if persons == 'FE':\n            variables = {SP.POP.1519.FE : 'Pop'}\n        elif persons == 'MA':\n            variables = {SP.POP.1519.MA : 'Pop'}\n\n    if age_range == '1564':\n        if persons == 'FE':\n            variables = {SP.POP.1564.FE : 'Pop'}\n        elif persons == 'MA':\n            variables = {SP.POP.1564.MA : 'Pop'}\n        \n    if age_range == '2024':\n        if persons == 'FE':\n            variables = {SP.POP.2024.FE : 'Pop'}\n        elif persons == 'MA':\n            variables = {SP.POP.2024.MA : 'Pop'}\n        \n    if age_range == '2529':\n        if persons == 'FE':\n            variables = {SP.POP.2529.FE : 'Pop'}\n        elif persons == 'MA':\n            variables = {SP.POP.2529.MA : 'Pop'}\n        \n    if age_range == '3034':\n        if persons == 'FE':\n            variables = {SP.POP.3034.FE : 'Pop'}\n        elif persons == 'MA':\n            variables = {SP.POP.3034.MA : 'Pop'}\n        \n    if age_range == '3539':\n        if persons == 'FE':\n            variables = {SP.POP.3539.FE : 'Pop'}\n        elif persons == 'MA':\n            variables = {SP.POP.3539.MA : 'Pop'}\n        \n    if age_range == '4044':\n        if persons == 'FE':\n            variables = {SP.POP.4044.FE : 'Pop'}\n        elif persons == 'MA':\n            variables = {SP.POP.4044.MA : 'Pop'}\n        \n    if age_range == '4549':\n        if persons == 'FE':\n            variables = {SP.POP.4549.FE : 'Pop'}\n        elif persons == 'MA':\n            variables = {SP.POP.4549.MA : 'Pop'}\n        \n    if age_range == '5054':\n        if persons == 'FE':\n            variables = {SP.POP.5054.FE : 'Pop'}\n        elif persons == 'MA':\n            variables = {SP.POP.5054.MA : 'Pop'}\n        \n    if age_range == '5559':\n        if persons == 'FE':\n            variables = {SP.POP.5559.FE : 'Pop'}\n        elif persons == 'MA':\n            variables = {SP.POP.5559.MA : 'Pop'}\n        \n    if age_range == '6064':\n        if persons == 'FE':\n            variables = {SP.POP.6064.FE : 'Pop'}\n        elif persons == 'MA':\n            variables = {SP.POP.6064.MA : 'Pop'}\n        \n    if age_range == '6569':\n        if persons == 'FE':\n            variables = {SP.POP.6569.FE : 'Pop'}\n        elif persons == 'MA':\n            variables = {SP.POP.6569.MA : 'Pop'}\n        \n    if age_range == '65UP':\n        if persons == 'FE':\n            variables = {SP.POP.65UP.FE : 'Pop'}\n        elif persons == 'MA':\n            variables = {SP.POP.65UP.MA : 'Pop'}\n        \n    if age_range == '7074':\n        if persons == 'FE':\n            variables = {SP.POP.7074.FE : 'Pop'}\n        elif persons == 'MA':\n            variables = {SP.POP.7074.MA : 'Pop'}\n        \n    if age_range == '7579':\n        if persons == 'FE':\n            variables = {SP.POP.7579.FE : 'Pop'}\n        elif persons == 'MA':\n            variables = {SP.POP.7579.MA : 'Pop'}\n        \n    if age_range == '80UP':\n        if persons == 'FE':\n            variables = {SP.POP.80UP.FE : 'Pop'}\n        elif persons == 'MA':\n            variables = {SP.POP.80UP.MA : 'Pop'}\n        \n    #Converts location parameter to a wbdata 3 letter id\n    name_dict = dict()\n    for i in range(len(wbdata.search_countries(\"\"))):\n        id = wbdata.search_countries(\"\")[i][\"id\"]\n        country = wbdata.search_countries(\"\")[i][\"name\"]\n        name_dict[country] = id\n\n    countries = {name_dict.get(location)}\n    df = wbdata.get_dataframe(variables, country=countries)\n    return df.loc[year][0]",
    "id": "3d7dabb50eae4ddc84e0b74fb690c5ea",
    "idx": 1,
    "time": "2021-01-27T23:07:48.821Z",
    "type": "execution"
   },
   {
    "code": "population('1998', 'FE', 'none', 'Philippines') #maybe make population fn output a string sentence such as\n                                                # 'The population for [country] in [year] was xxxxx'?",
    "id": "b524b6ae60394be3abff9c5cd2d1ffaa",
    "idx": 2,
    "time": "2021-01-27T23:07:48.823Z",
    "type": "execution"
   },
   {
    "code": "SOURCE = 40 # \"Population estimates and projections\nindicators = wbdata.get_indicator(source=SOURCE)\nindicators",
    "id": "71b22cf9f9804076ace62dd0f9398088",
    "idx": 3,
    "time": "2021-01-27T23:07:48.825Z",
    "type": "execution"
   },
   {
    "code": "variable_labels = {\"SP.POP.TOTL\":\"Total Population\",\n                   \"SP.POP.TOTL.FE.IN\":\"Female Population\",\n                   \"SP.POP.TOTL.MA.IN\":\"Male Population\",\n                   \n                   \"SP.POP.0014.FE.IN\":\"Females (0-14)\",\n                   \"SP.POP.0014.MA.IN\":\"Males (0-14)\",\n                   \n                   \"SP.POP.1564.FE.IN\":\"Females (15-64)\",\n                   \"SP.POP.1564.MA.IN\":\"Males (15-64)\",\n\n                   \"SP.POP.65UP.FE.IN\":\"Females (65+)\", \n                   \"SP.POP.65UP.MA.IN\":\"Males (65+)\", \n                   \n                   \"SP.POP.0004.FE\":\"Females (0-4)\",\n                   \"SP.POP.0004.MA\":\"Males (0-4)\",\n                   \n                   \"SP.POP.0509.FE\":\"Females (5-9)\",\n                   \"SP.POP.0509.MA\":\"Males (5-9)\",\n                   \n                   \"SP.POP.1014.FE\":\"Females (10-14)\",\n                   \"SP.POP.1014.MA\":\"Males (10-14)\",\n                   \n                   \"SP.POP.1519.FE\":\"Females (15-19)\",\n                   \"SP.POP.1519.MA\":\"Males (15-19)\",\n                   \n                   \"SP.POP.2024.FE\":\"Females (20-24)\",\n                   \"SP.POP.2024.MA\":\"Males (20-24)\",\n                   \n                   \"SP.POP.2529.FE\":\"Females (25-29)\",\n                   \"SP.POP.2529.MA\":\"Males (25-29)\",\n                   \n                   \"SP.POP.3034.FE\":\"Females (30-34)\",\n                   \"SP.POP.3034.MA\":\"Males (30-34)\",\n                   \n                   \"SP.POP.3539.FE\":\"Females (35-39)\",\n                   \"SP.POP.3539.MA\":\"Males (35-39)\",\n                   \n                   \"SP.POP.4044.FE\":\"Females (40-44)\",\n                   \"SP.POP.4044.MA\":\"Males (40-44)\",\n                   \n                   \"SP.POP.4549.FE\":\"Females (45-49)\",\n                   \"SP.POP.4549.MA\":\"Males (45-49)\",\n                   \n                   \"SP.POP.5054.FE\":\"Females (50-54)\",\n                   \"SP.POP.5054.MA\":\"Males (50-54)\",\n                   \n                   \"SP.POP.5559.FE\":\"Females (55-59)\",\n                   \"SP.POP.5559.MA\":\"Males (55-59)\",\n                   \n                   \"SP.POP.6064.FE\":\"Females (60-64)\",\n                   \"SP.POP.6064.MA\":\"Males (60-64)\",\n                   \n                   \"SP.POP.6569.FE\":\"Females (65-69)\",\n                   \"SP.POP.6569.MA\":\"Males (65-69)\",\n                   \n                   \"SP.POP.7074.FE\":\"Females (70-74)\",\n                   \"SP.POP.7074.MA\":\"Males (70-74)\",\n                \n                   \"SP.POP.7579.FE\":\"Females (75-79)\",\n                   \"SP.POP.7579.MA\":\"Males (75-79)\",\n                   \n                   \"SP.POP.80UP.FE\":\"Females (80+)\",\n                   \"SP.POP.80UP.MA\":\"Males (80+)\" \n                   \n                  }\nworld = wbdata.get_dataframe(variable_labels, country=\"\")\nworld.head()",
    "id": "56a4626f7bcd452c84eb95e5e8dc0a80",
    "idx": 4,
    "time": "2021-01-27T23:07:48.827Z",
    "type": "execution"
   },
   {
    "code": "name_dict = dict()\nfor i in range(len(wbdata.search_countries(\"\"))):\n    id = wbdata.search_countries(\"\")[i][\"id\"]\n    country = wbdata.search_countries(\"\")[i][\"name\"]\n    name_dict[country] = id\nname_dict.get('Philippines')",
    "id": "1ed3f76402314b378f57b90bf9345d88",
    "idx": 5,
    "time": "2021-01-27T23:07:48.831Z",
    "type": "execution"
   },
   {
    "code": "variables = {\"SP.POP.TOTL\":'Population'}\ncountries = {name_dict.get('Philippines')}\ndf = wbdata.get_dataframe(variables, country=countries, convert_date=False)\ndf",
    "id": "bde490b5a8b2407b8eee689d237b2be5",
    "idx": 6,
    "time": "2021-01-27T23:07:48.832Z",
    "type": "execution"
   },
   {
    "code": "df.index",
    "id": "5627aadf5fe549618644e3bf0ea71010",
    "idx": 7,
    "time": "2021-01-27T23:07:48.834Z",
    "type": "execution"
   },
   {
    "code": "df.loc['2018'][0]",
    "id": "97e104dad34e4da6917556e13cb6786b",
    "idx": 8,
    "time": "2021-01-27T23:07:48.837Z",
    "type": "execution"
   },
   {
    "id": "ef8b8829e06246f88c4fa84cd5bd5333",
    "time": "2021-01-27T23:07:57.060Z",
    "type": "completion"
   },
   {
    "id": "3d7dabb50eae4ddc84e0b74fb690c5ea",
    "time": "2021-01-27T23:07:57.207Z",
    "type": "completion"
   },
   {
    "id": "b524b6ae60394be3abff9c5cd2d1ffaa",
    "time": "2021-01-27T23:07:57.253Z",
    "type": "completion"
   },
   {
    "id": "71b22cf9f9804076ace62dd0f9398088",
    "time": "2021-01-27T23:07:57.257Z",
    "type": "completion"
   },
   {
    "id": "56a4626f7bcd452c84eb95e5e8dc0a80",
    "time": "2021-01-27T23:07:57.260Z",
    "type": "completion"
   },
   {
    "id": "1ed3f76402314b378f57b90bf9345d88",
    "time": "2021-01-27T23:07:57.262Z",
    "type": "completion"
   },
   {
    "id": "bde490b5a8b2407b8eee689d237b2be5",
    "time": "2021-01-27T23:07:57.263Z",
    "type": "completion"
   },
   {
    "id": "5627aadf5fe549618644e3bf0ea71010",
    "time": "2021-01-27T23:07:57.274Z",
    "type": "completion"
   },
   {
    "id": "97e104dad34e4da6917556e13cb6786b",
    "time": "2021-01-27T23:07:57.275Z",
    "type": "completion"
   },
   {
    "code": "def population(year, persons, age_range, location):\n    \"\"\"A python function named population that will deliver information to answer the queries\n    of the following form: In [year] how many [people/males/females] aged [low] to [high] were living in [the\n    world/region/country]?\n    \n    location (str): name of country, income level, world location, etc.\n    sex (str): a string FE (female), MA (male), or all\n    age_range (str): none, 0004 (Population ages 00-04), 0014 (Population ages 0-14), etc etc\n    \"\"\"\n    if age_range == 'none':\n        if persons == 'FE':\n            variables = {'SP.POP.TOTL.FE.IN':'Pop'}\n        elif persons == 'MA':\n            variables = {'SP.POP.TOTL.MA.IN':'Pop'}\n        else:\n            variables = {'SP.POP.TOTL':'Pop'}\n\n    if age_range == '0004':\n        if persons == 'FE':\n            variables = {'SP.POP.0004.FE' : 'Pop'}\n        elif persons == 'MA':\n            variables = {'SP.POP.0004.MA' : 'Pop'}\n        \n    if age_range == '0014':\n        if persons == 'FE':\n            variables = {'SP.POP.0014.FE' : 'Pop'}\n        elif persons == 'MA':\n            variables = {'SP.POP.0014.MA' : 'Pop'}\n        \n    if age_range == '0509':\n        if persons == 'FE':\n            variables = {'SP.POP.0509.FE' : 'Pop'}\n        elif persons == 'MA':\n            variables = {'SP.POP.0509.MA' : 'Pop'}\n        \n    if age_range == '1014':\n        if persons == 'FE':\n            variables = {'SP.POP.1014.FE' : 'Pop'}\n        elif persons == 'MA':\n            variables = {'SP.POP.1014.MA' : 'Pop'}\n        \n    if age_range == '1519':\n        if persons == 'FE':\n            variables = {'SP.POP.1519.FE' : 'Pop'}\n        elif persons == 'MA':\n            variables = {'SP.POP.1519.MA' : 'Pop'}\n\n    if age_range == '1564':\n        if persons == 'FE':\n            variables = {'SP.POP.1564.FE' : 'Pop'}\n        elif persons == 'MA':\n            variables = {'SP.POP.1564.MA': 'Pop'}\n        \n    if age_range == '2024':\n        if persons == 'FE':\n            variables = {'SP.POP.2024.FE' : 'Pop'}\n        elif persons == 'MA':\n            variables = {'SP.POP.2024.MA' : 'Pop'}\n        \n    if age_range == '2529':\n        if persons == 'FE':\n            variables = {'SP.POP.2529.FE' : 'Pop'}\n        elif persons == 'MA':\n            variables = {'SP.POP.2529.MA' : 'Pop'}\n        \n    if age_range == '3034':\n        if persons == 'FE':\n            variables = {'SP.POP.3034.FE'' : 'Pop'}\n        elif persons == 'MA':\n            variables = {'SP.POP.3034.MA' : 'Pop'}\n        \n    if age_range == '3539':\n        if persons == 'FE':\n            variables = {'SP.POP.3539.FE' : 'Pop'}\n        elif persons == 'MA':\n            variables = {'SP.POP.3539.MA' : 'Pop'}\n        \n    if age_range == '4044':\n        if persons == 'FE':\n            variables = {'SP.POP.4044.FE' : 'Pop'}\n        elif persons == 'MA':\n            variables = {'SP.POP.4044.MA' : 'Pop'}\n        \n    if age_range == '4549':\n        if persons == 'FE':\n            variables = {'SP.POP.4549.FE' : 'Pop'}\n        elif persons == 'MA':\n            variables = {'SP.POP.4549.MA' : 'Pop'}\n        \n    if age_range == '5054':\n        if persons == 'FE':\n            variables = {'SP.POP.5054.FE' : 'Pop'}\n        elif persons == 'MA':\n            variables = {'SP.POP.5054.MA' : 'Pop'}\n        \n    if age_range == '5559':\n        if persons == 'FE':\n            variables = {'SP.POP.5559.FE' : 'Pop'}\n        elif persons == 'MA':\n            variables = {'SP.POP.5559.MA' : 'Pop'}\n        \n    if age_range == '6064':\n        if persons == 'FE':\n            variables = {'SP.POP.6064.FE' : 'Pop'}\n        elif persons == 'MA':\n            variables = {'SP.POP.6064.MA' : 'Pop'}\n        \n    if age_range == '6569':\n        if persons == 'FE':\n            variables = {'SP.POP.6569.FE' : 'Pop'}\n        elif persons == 'MA':\n            variables = {'SP.POP.6569.MA' : 'Pop'}\n        \n    if age_range == '65UP':\n        if persons == 'FE':\n            variables = {'SP.POP.65UP.FE' : 'Pop'}\n        elif persons == 'MA':\n            variables = {'SP.POP.65UP.MA' : 'Pop'}\n        \n    if age_range == '7074':\n        if persons == 'FE':\n            variables = {'SP.POP.7074.FE' : 'Pop'}\n        elif persons == 'MA':\n            variables = {'SP.POP.7074.MA' : 'Pop'}\n        \n    if age_range == '7579':\n        if persons == 'FE':\n            variables = {'SP.POP.7579.FE' : 'Pop'}\n        elif persons == 'MA':\n            variables = {'SP.POP.7579.MA' : 'Pop'}\n        \n    if age_range == '80UP':\n        if persons == 'FE':\n            variables = {'SP.POP.80UP.FE' : 'Pop'}\n        elif persons == 'MA':\n            variables = {'SP.POP.80UP.MA' : 'Pop'}\n        \n    #Converts location parameter to a wbdata 3 letter id\n    name_dict = dict()\n    for i in range(len(wbdata.search_countries(\"\"))):\n        id = wbdata.search_countries(\"\")[i][\"id\"]\n        country = wbdata.search_countries(\"\")[i][\"name\"]\n        name_dict[country] = id\n\n    countries = {name_dict.get(location)}\n    df = wbdata.get_dataframe(variables, country=countries)\n    return df.loc[year][0]",
    "id": "3d7dabb50eae4ddc84e0b74fb690c5ea",
    "idx": 1,
    "time": "2021-01-27T23:14:16.384Z",
    "type": "execution"
   },
   {
    "id": "3d7dabb50eae4ddc84e0b74fb690c5ea",
    "time": "2021-01-27T23:14:16.579Z",
    "type": "completion"
   },
   {
    "code": "def population(year, persons, age_range, location):\n    \"\"\"A python function named population that will deliver information to answer the queries\n    of the following form: In [year] how many [people/males/females] aged [low] to [high] were living in [the\n    world/region/country]?\n    \n    location (str): name of country, income level, world location, etc.\n    sex (str): a string FE (female), MA (male), or all\n    age_range (str): none, 0004 (Population ages 00-04), 0014 (Population ages 0-14), etc etc\n    \"\"\"\n    if age_range == 'none':\n        if persons == 'FE':\n            variables = {'SP.POP.TOTL.FE.IN':'Pop'}\n        elif persons == 'MA':\n            variables = {'SP.POP.TOTL.MA.IN':'Pop'}\n        else:\n            variables = {'SP.POP.TOTL':'Pop'}\n\n    if age_range == '0004':\n        if persons == 'FE':\n            variables = {'SP.POP.0004.FE' : 'Pop'}\n        elif persons == 'MA':\n            variables = {'SP.POP.0004.MA' : 'Pop'}\n        \n    if age_range == '0014':\n        if persons == 'FE':\n            variables = {'SP.POP.0014.FE' : 'Pop'}\n        elif persons == 'MA':\n            variables = {'SP.POP.0014.MA' : 'Pop'}\n        \n    if age_range == '0509':\n        if persons == 'FE':\n            variables = {'SP.POP.0509.FE' : 'Pop'}\n        elif persons == 'MA':\n            variables = {'SP.POP.0509.MA' : 'Pop'}\n        \n    if age_range == '1014':\n        if persons == 'FE':\n            variables = {'SP.POP.1014.FE' : 'Pop'}\n        elif persons == 'MA':\n            variables = {'SP.POP.1014.MA' : 'Pop'}\n        \n    if age_range == '1519':\n        if persons == 'FE':\n            variables = {'SP.POP.1519.FE' : 'Pop'}\n        elif persons == 'MA':\n            variables = {'SP.POP.1519.MA' : 'Pop'}\n\n    if age_range == '1564':\n        if persons == 'FE':\n            variables = {'SP.POP.1564.FE' : 'Pop'}\n        elif persons == 'MA':\n            variables = {'SP.POP.1564.MA': 'Pop'}\n        \n    if age_range == '2024':\n        if persons == 'FE':\n            variables = {'SP.POP.2024.FE' : 'Pop'}\n        elif persons == 'MA':\n            variables = {'SP.POP.2024.MA' : 'Pop'}\n        \n    if age_range == '2529':\n        if persons == 'FE':\n            variables = {'SP.POP.2529.FE' : 'Pop'}\n        elif persons == 'MA':\n            variables = {'SP.POP.2529.MA' : 'Pop'}\n        \n    if age_range == '3034':\n        if persons == 'FE':\n            variables = {'SP.POP.3034.FE' : 'Pop'}\n        elif persons == 'MA':\n            variables = {'SP.POP.3034.MA' : 'Pop'}\n        \n    if age_range == '3539':\n        if persons == 'FE':\n            variables = {'SP.POP.3539.FE' : 'Pop'}\n        elif persons == 'MA':\n            variables = {'SP.POP.3539.MA' : 'Pop'}\n        \n    if age_range == '4044':\n        if persons == 'FE':\n            variables = {'SP.POP.4044.FE' : 'Pop'}\n        elif persons == 'MA':\n            variables = {'SP.POP.4044.MA' : 'Pop'}\n        \n    if age_range == '4549':\n        if persons == 'FE':\n            variables = {'SP.POP.4549.FE' : 'Pop'}\n        elif persons == 'MA':\n            variables = {'SP.POP.4549.MA' : 'Pop'}\n        \n    if age_range == '5054':\n        if persons == 'FE':\n            variables = {'SP.POP.5054.FE' : 'Pop'}\n        elif persons == 'MA':\n            variables = {'SP.POP.5054.MA' : 'Pop'}\n        \n    if age_range == '5559':\n        if persons == 'FE':\n            variables = {'SP.POP.5559.FE' : 'Pop'}\n        elif persons == 'MA':\n            variables = {'SP.POP.5559.MA' : 'Pop'}\n        \n    if age_range == '6064':\n        if persons == 'FE':\n            variables = {'SP.POP.6064.FE' : 'Pop'}\n        elif persons == 'MA':\n            variables = {'SP.POP.6064.MA' : 'Pop'}\n        \n    if age_range == '6569':\n        if persons == 'FE':\n            variables = {'SP.POP.6569.FE' : 'Pop'}\n        elif persons == 'MA':\n            variables = {'SP.POP.6569.MA' : 'Pop'}\n        \n    if age_range == '65UP':\n        if persons == 'FE':\n            variables = {'SP.POP.65UP.FE' : 'Pop'}\n        elif persons == 'MA':\n            variables = {'SP.POP.65UP.MA' : 'Pop'}\n        \n    if age_range == '7074':\n        if persons == 'FE':\n            variables = {'SP.POP.7074.FE' : 'Pop'}\n        elif persons == 'MA':\n            variables = {'SP.POP.7074.MA' : 'Pop'}\n        \n    if age_range == '7579':\n        if persons == 'FE':\n            variables = {'SP.POP.7579.FE' : 'Pop'}\n        elif persons == 'MA':\n            variables = {'SP.POP.7579.MA' : 'Pop'}\n        \n    if age_range == '80UP':\n        if persons == 'FE':\n            variables = {'SP.POP.80UP.FE' : 'Pop'}\n        elif persons == 'MA':\n            variables = {'SP.POP.80UP.MA' : 'Pop'}\n        \n    #Converts location parameter to a wbdata 3 letter id\n    name_dict = dict()\n    for i in range(len(wbdata.search_countries(\"\"))):\n        id = wbdata.search_countries(\"\")[i][\"id\"]\n        country = wbdata.search_countries(\"\")[i][\"name\"]\n        name_dict[country] = id\n\n    countries = {name_dict.get(location)}\n    df = wbdata.get_dataframe(variables, country=countries)\n    return df.loc[year][0]",
    "id": "3d7dabb50eae4ddc84e0b74fb690c5ea",
    "idx": 1,
    "time": "2021-01-27T23:14:31.186Z",
    "type": "execution"
   },
   {
    "id": "3d7dabb50eae4ddc84e0b74fb690c5ea",
    "time": "2021-01-27T23:14:31.360Z",
    "type": "completion"
   },
   {
    "code": "population('2017', 'MA','2529','Azerbaijan')",
    "id": "e13d55fd2e644b619b58e58d36e56bc0",
    "idx": 2,
    "time": "2021-01-27T23:16:31.733Z",
    "type": "execution"
   },
   {
    "id": "e13d55fd2e644b619b58e58d36e56bc0",
    "time": "2021-01-27T23:16:34.525Z",
    "type": "completion"
   },
   {
    "code": "population('2017', 'MA','2529','Azerbaijan') / population('2017', 'all', 'none', 'Azerbaijan')",
    "id": "e13d55fd2e644b619b58e58d36e56bc0",
    "idx": 2,
    "time": "2021-01-27T23:18:43.413Z",
    "type": "execution"
   },
   {
    "id": "e13d55fd2e644b619b58e58d36e56bc0",
    "time": "2021-01-27T23:18:47.203Z",
    "type": "completion"
   },
   {
    "code": "!pip install wbdata\nimport wbdata\n!pip install cufflinks\nimport cufflinks as cf",
    "id": "4755c4f78d4d471294eda8139358cbb9",
    "idx": 0,
    "time": "2021-01-27T23:22:00.527Z",
    "type": "execution"
   },
   {
    "code": "def population(year, persons, age_range, location):\n    \"\"\"A python function named population that will deliver information to answer the queries\n    of the following form: In [year] how many [people/males/females] aged [low] to [high] were living in [the\n    world/region/country]?\n    \n    location (str): name of country, income level, world location, etc.\n    sex (str): a string FE (female), MA (male), or all\n    age_range (str): none, 0004 (Population ages 00-04), 0014 (Population ages 0-14), etc etc\n    \"\"\"\n    if age_range == 'none':\n        if persons == 'FE':\n            variables = {'SP.POP.TOTL.FE.IN':'Pop'}\n        elif persons == 'MA':\n            variables = {'SP.POP.TOTL.MA.IN':'Pop'}\n        else:\n            variables = {'SP.POP.TOTL':'Pop'}\n\n    if age_range == '0004':\n        if persons == 'FE':\n            variables = {'SP.POP.0004.FE' : 'Pop'}\n        elif persons == 'MA':\n            variables = {'SP.POP.0004.MA' : 'Pop'}\n        \n    if age_range == '0014':\n        if persons == 'FE':\n            variables = {'SP.POP.0014.FE' : 'Pop'}\n        elif persons == 'MA':\n            variables = {'SP.POP.0014.MA' : 'Pop'}\n        \n    if age_range == '0509':\n        if persons == 'FE':\n            variables = {'SP.POP.0509.FE' : 'Pop'}\n        elif persons == 'MA':\n            variables = {'SP.POP.0509.MA' : 'Pop'}\n        \n    if age_range == '1014':\n        if persons == 'FE':\n            variables = {'SP.POP.1014.FE' : 'Pop'}\n        elif persons == 'MA':\n            variables = {'SP.POP.1014.MA' : 'Pop'}\n        \n    if age_range == '1519':\n        if persons == 'FE':\n            variables = {'SP.POP.1519.FE' : 'Pop'}\n        elif persons == 'MA':\n            variables = {'SP.POP.1519.MA' : 'Pop'}\n\n    if age_range == '1564':\n        if persons == 'FE':\n            variables = {'SP.POP.1564.FE' : 'Pop'}\n        elif persons == 'MA':\n            variables = {'SP.POP.1564.MA': 'Pop'}\n        \n    if age_range == '2024':\n        if persons == 'FE':\n            variables = {'SP.POP.2024.FE' : 'Pop'}\n        elif persons == 'MA':\n            variables = {'SP.POP.2024.MA' : 'Pop'}\n        \n    if age_range == '2529':\n        if persons == 'FE':\n            variables = {'SP.POP.2529.FE' : 'Pop'}\n        elif persons == 'MA':\n            variables = {'SP.POP.2529.MA' : 'Pop'}\n        \n    if age_range == '3034':\n        if persons == 'FE':\n            variables = {'SP.POP.3034.FE' : 'Pop'}\n        elif persons == 'MA':\n            variables = {'SP.POP.3034.MA' : 'Pop'}\n        \n    if age_range == '3539':\n        if persons == 'FE':\n            variables = {'SP.POP.3539.FE' : 'Pop'}\n        elif persons == 'MA':\n            variables = {'SP.POP.3539.MA' : 'Pop'}\n        \n    if age_range == '4044':\n        if persons == 'FE':\n            variables = {'SP.POP.4044.FE' : 'Pop'}\n        elif persons == 'MA':\n            variables = {'SP.POP.4044.MA' : 'Pop'}\n        \n    if age_range == '4549':\n        if persons == 'FE':\n            variables = {'SP.POP.4549.FE' : 'Pop'}\n        elif persons == 'MA':\n            variables = {'SP.POP.4549.MA' : 'Pop'}\n        \n    if age_range == '5054':\n        if persons == 'FE':\n            variables = {'SP.POP.5054.FE' : 'Pop'}\n        elif persons == 'MA':\n            variables = {'SP.POP.5054.MA' : 'Pop'}\n        \n    if age_range == '5559':\n        if persons == 'FE':\n            variables = {'SP.POP.5559.FE' : 'Pop'}\n        elif persons == 'MA':\n            variables = {'SP.POP.5559.MA' : 'Pop'}\n        \n    if age_range == '6064':\n        if persons == 'FE':\n            variables = {'SP.POP.6064.FE' : 'Pop'}\n        elif persons == 'MA':\n            variables = {'SP.POP.6064.MA' : 'Pop'}\n        \n    if age_range == '6569':\n        if persons == 'FE':\n            variables = {'SP.POP.6569.FE' : 'Pop'}\n        elif persons == 'MA':\n            variables = {'SP.POP.6569.MA' : 'Pop'}\n        \n    if age_range == '65UP':\n        if persons == 'FE':\n            variables = {'SP.POP.65UP.FE' : 'Pop'}\n        elif persons == 'MA':\n            variables = {'SP.POP.65UP.MA' : 'Pop'}\n        \n    if age_range == '7074':\n        if persons == 'FE':\n            variables = {'SP.POP.7074.FE' : 'Pop'}\n        elif persons == 'MA':\n            variables = {'SP.POP.7074.MA' : 'Pop'}\n        \n    if age_range == '7579':\n        if persons == 'FE':\n            variables = {'SP.POP.7579.FE' : 'Pop'}\n        elif persons == 'MA':\n            variables = {'SP.POP.7579.MA' : 'Pop'}\n        \n    if age_range == '80UP':\n        if persons == 'FE':\n            variables = {'SP.POP.80UP.FE' : 'Pop'}\n        elif persons == 'MA':\n            variables = {'SP.POP.80UP.MA' : 'Pop'}\n        \n    #Converts location parameter to a wbdata 3 letter id\n    name_dict = dict()\n    for i in range(len(wbdata.search_countries(\"\"))):\n        id = wbdata.search_countries(\"\")[i][\"id\"]\n        country = wbdata.search_countries(\"\")[i][\"name\"]\n        name_dict[country] = id\n\n    countries = {name_dict.get(location)}\n    df = wbdata.get_dataframe(variables, country=countries)\n    return df.loc[year][0]",
    "id": "690b2fc7b7694c158fb49ae0c73a0e19",
    "idx": 1,
    "time": "2021-01-27T23:22:00.537Z",
    "type": "execution"
   },
   {
    "code": "population('2017', 'MA','2529','Azerbaijan') / population('2017', 'all', 'none', 'Azerbaijan')",
    "id": "0fcb2d9d63fb482788550774051ce273",
    "idx": 2,
    "time": "2021-01-27T23:22:00.542Z",
    "type": "execution"
   },
   {
    "code": "population('1998', 'FE', 'none', 'Philippines') #maybe make population fn output a string sentence such as\n                                                # 'The population for [country] in [year] was xxxxx'?",
    "id": "37a23cab134f4d7f8a94705da4a45d92",
    "idx": 3,
    "time": "2021-01-27T23:22:00.546Z",
    "type": "execution"
   },
   {
    "code": "SOURCE = 40 # \"Population estimates and projections\nindicators = wbdata.get_indicator(source=SOURCE)\nindicators",
    "id": "8d2bd9adfd424006802c41bf70785184",
    "idx": 4,
    "time": "2021-01-27T23:22:00.548Z",
    "type": "execution"
   },
   {
    "code": "variable_labels = {\"SP.POP.TOTL\":\"Total Population\",\n                   \"SP.POP.TOTL.FE.IN\":\"Female Population\",\n                   \"SP.POP.TOTL.MA.IN\":\"Male Population\",\n                   \n                   \"SP.POP.0014.FE.IN\":\"Females (0-14)\",\n                   \"SP.POP.0014.MA.IN\":\"Males (0-14)\",\n                   \n                   \"SP.POP.1564.FE.IN\":\"Females (15-64)\",\n                   \"SP.POP.1564.MA.IN\":\"Males (15-64)\",\n\n                   \"SP.POP.65UP.FE.IN\":\"Females (65+)\", \n                   \"SP.POP.65UP.MA.IN\":\"Males (65+)\", \n                   \n                   \"SP.POP.0004.FE\":\"Females (0-4)\",\n                   \"SP.POP.0004.MA\":\"Males (0-4)\",\n                   \n                   \"SP.POP.0509.FE\":\"Females (5-9)\",\n                   \"SP.POP.0509.MA\":\"Males (5-9)\",\n                   \n                   \"SP.POP.1014.FE\":\"Females (10-14)\",\n                   \"SP.POP.1014.MA\":\"Males (10-14)\",\n                   \n                   \"SP.POP.1519.FE\":\"Females (15-19)\",\n                   \"SP.POP.1519.MA\":\"Males (15-19)\",\n                   \n                   \"SP.POP.2024.FE\":\"Females (20-24)\",\n                   \"SP.POP.2024.MA\":\"Males (20-24)\",\n                   \n                   \"SP.POP.2529.FE\":\"Females (25-29)\",\n                   \"SP.POP.2529.MA\":\"Males (25-29)\",\n                   \n                   \"SP.POP.3034.FE\":\"Females (30-34)\",\n                   \"SP.POP.3034.MA\":\"Males (30-34)\",\n                   \n                   \"SP.POP.3539.FE\":\"Females (35-39)\",\n                   \"SP.POP.3539.MA\":\"Males (35-39)\",\n                   \n                   \"SP.POP.4044.FE\":\"Females (40-44)\",\n                   \"SP.POP.4044.MA\":\"Males (40-44)\",\n                   \n                   \"SP.POP.4549.FE\":\"Females (45-49)\",\n                   \"SP.POP.4549.MA\":\"Males (45-49)\",\n                   \n                   \"SP.POP.5054.FE\":\"Females (50-54)\",\n                   \"SP.POP.5054.MA\":\"Males (50-54)\",\n                   \n                   \"SP.POP.5559.FE\":\"Females (55-59)\",\n                   \"SP.POP.5559.MA\":\"Males (55-59)\",\n                   \n                   \"SP.POP.6064.FE\":\"Females (60-64)\",\n                   \"SP.POP.6064.MA\":\"Males (60-64)\",\n                   \n                   \"SP.POP.6569.FE\":\"Females (65-69)\",\n                   \"SP.POP.6569.MA\":\"Males (65-69)\",\n                   \n                   \"SP.POP.7074.FE\":\"Females (70-74)\",\n                   \"SP.POP.7074.MA\":\"Males (70-74)\",\n                \n                   \"SP.POP.7579.FE\":\"Females (75-79)\",\n                   \"SP.POP.7579.MA\":\"Males (75-79)\",\n                   \n                   \"SP.POP.80UP.FE\":\"Females (80+)\",\n                   \"SP.POP.80UP.MA\":\"Males (80+)\" \n                   \n                  }\nworld = wbdata.get_dataframe(variable_labels, country=\"\")\nworld.head()",
    "id": "0aa41fe938be4cdd9563b7ed080f8926",
    "idx": 5,
    "time": "2021-01-27T23:22:00.556Z",
    "type": "execution"
   },
   {
    "id": "4755c4f78d4d471294eda8139358cbb9",
    "time": "2021-01-27T23:22:09.728Z",
    "type": "completion"
   },
   {
    "id": "690b2fc7b7694c158fb49ae0c73a0e19",
    "time": "2021-01-27T23:22:09.730Z",
    "type": "completion"
   },
   {
    "id": "0fcb2d9d63fb482788550774051ce273",
    "time": "2021-01-27T23:22:12.086Z",
    "type": "completion"
   },
   {
    "id": "37a23cab134f4d7f8a94705da4a45d92",
    "time": "2021-01-27T23:22:13.127Z",
    "type": "completion"
   },
   {
    "id": "8d2bd9adfd424006802c41bf70785184",
    "time": "2021-01-27T23:22:13.247Z",
    "type": "completion"
   },
   {
    "id": "0aa41fe938be4cdd9563b7ed080f8926",
    "time": "2021-01-27T23:22:23.595Z",
    "type": "completion"
   },
   {
    "code": "#A2 returns a dataframe of the given populations derived from wbdata\ndef df(location):\n    \"\"\"    \"\"\"\n    # Give variable for clarity\n    variable_labels = {\"SP.POP.TOTL\":\"Total Population\",\n                   \"SP.POP.TOTL.FE.IN\":\"Female Population\",\n                   \"SP.POP.TOTL.MA.IN\":\"Male Population\",\n                   \n                   \"SP.POP.0014.FE.IN\":\"Females (0-14)\",\n                   \"SP.POP.0014.MA.IN\":\"Males (0-14)\",\n                   \n                   \"SP.POP.1564.FE.IN\":\"Females (15-64)\",\n                   \"SP.POP.1564.MA.IN\":\"Males (15-64)\",\n\n                   \"SP.POP.65UP.FE.IN\":\"Females (65+)\", \n                   \"SP.POP.65UP.MA.IN\":\"Males (65+)\", \n                   \n                   \"SP.POP.0004.FE\":\"Females (0-4)\",\n                   \"SP.POP.0004.MA\":\"Males (0-4)\",\n                   \n                   \"SP.POP.0509.FE\":\"Females (5-9)\",\n                   \"SP.POP.0509.MA\":\"Males (5-9)\",\n                   \n                   \"SP.POP.1014.FE\":\"Females (10-14)\",\n                   \"SP.POP.1014.MA\":\"Males (10-14)\",\n                   \n                   \"SP.POP.1519.FE\":\"Females (15-19)\",\n                   \"SP.POP.1519.MA\":\"Males (15-19)\",\n                   \n                   \"SP.POP.2024.FE\":\"Females (20-24)\",\n                   \"SP.POP.2024.MA\":\"Males (20-24)\",\n                   \n                   \"SP.POP.2529.FE\":\"Females (25-29)\",\n                   \"SP.POP.2529.MA\":\"Males (25-29)\",\n                   \n                   \"SP.POP.3034.FE\":\"Females (30-34)\",\n                   \"SP.POP.3034.MA\":\"Males (30-34)\",\n                   \n                   \"SP.POP.3539.FE\":\"Females (35-39)\",\n                   \"SP.POP.3539.MA\":\"Males (35-39)\",\n                   \n                   \"SP.POP.4044.FE\":\"Females (40-44)\",\n                   \"SP.POP.4044.MA\":\"Males (40-44)\",\n                   \n                   \"SP.POP.4549.FE\":\"Females (45-49)\",\n                   \"SP.POP.4549.MA\":\"Males (45-49)\",\n                   \n                   \"SP.POP.5054.FE\":\"Females (50-54)\",\n                   \"SP.POP.5054.MA\":\"Males (50-54)\",\n                   \n                   \"SP.POP.5559.FE\":\"Females (55-59)\",\n                   \"SP.POP.5559.MA\":\"Males (55-59)\",\n                   \n                   \"SP.POP.6064.FE\":\"Females (60-64)\",\n                   \"SP.POP.6064.MA\":\"Males (60-64)\",\n                   \n                   \"SP.POP.6569.FE\":\"Females (65-69)\",\n                   \"SP.POP.6569.MA\":\"Males (65-69)\",\n                   \n                   \"SP.POP.7074.FE\":\"Females (70-74)\",\n                   \"SP.POP.7074.MA\":\"Males (70-74)\",\n                \n                   \"SP.POP.7579.FE\":\"Females (75-79)\",\n                   \"SP.POP.7579.MA\":\"Males (75-79)\",\n                   \n                   \"SP.POP.80UP.FE\":\"Females (80+)\",\n                   \"SP.POP.80UP.MA\":\"Males (80+)\" \n                   \n                  }\n    \n    #Converts location parameter to a wbdata 3 letter id\n    name_dict = dict()\n    for i in range(len(wbdata.search_countries(\"\"))):\n        id = wbdata.search_countries(\"\")[i][\"id\"]\n        country = wbdata.search_countries(\"\")[i][\"name\"]\n        name_dict[country] = id\n    countries = {name_dict.get(location)}\n\n    pop_df = wbdata.get_dataframe(variable_labels, country=countries)\n\n    # Print a few years' data\n    return pop_df.head(65)\n",
    "id": "74e6f5bb995947a486388e9b5c60dfbd",
    "idx": 1,
    "time": "2021-01-27T23:56:13.626Z",
    "type": "execution"
   },
   {
    "id": "74e6f5bb995947a486388e9b5c60dfbd",
    "time": "2021-01-27T23:56:13.921Z",
    "type": "completion"
   },
   {
    "code": "df('Philippines')",
    "id": "9e600b55f67e4013865c9404c97855ff",
    "idx": 2,
    "time": "2021-01-27T23:56:44.640Z",
    "type": "execution"
   },
   {
    "id": "9e600b55f67e4013865c9404c97855ff",
    "time": "2021-01-27T23:56:57.295Z",
    "type": "completion"
   },
   {
    "code": "df('Philippines')",
    "id": "9e600b55f67e4013865c9404c97855ff",
    "idx": 2,
    "time": "2021-01-27T23:57:08.041Z",
    "type": "execution"
   },
   {
    "id": "9e600b55f67e4013865c9404c97855ff",
    "time": "2021-01-27T23:57:59.140Z",
    "type": "completion"
   },
   {
    "code": "df()",
    "id": "9e600b55f67e4013865c9404c97855ff",
    "idx": 2,
    "time": "2021-01-28T00:00:52.059Z",
    "type": "execution"
   },
   {
    "id": "9e600b55f67e4013865c9404c97855ff",
    "time": "2021-01-28T00:00:52.386Z",
    "type": "completion"
   },
   {
    "code": "#A2 returns a dataframe of the given populations derived from wbdata\ndef df():\n    \"\"\"A function that returns a pandas DataFrame indexed by Region or Country and Year, \n    with columns giving counts of people in different age-sex groups.\n    \"\"\"\n    # Give variable for clarity\n    variable_labels = {\"SP.POP.TOTL\":\"Total Population\",\n                   \"SP.POP.TOTL.FE.IN\":\"Female Population\",\n                   \"SP.POP.TOTL.MA.IN\":\"Male Population\",\n                   \n                   \"SP.POP.0014.FE.IN\":\"Females (0-14)\",\n                   \"SP.POP.0014.MA.IN\":\"Males (0-14)\",\n                   \n                   \"SP.POP.1564.FE.IN\":\"Females (15-64)\",\n                   \"SP.POP.1564.MA.IN\":\"Males (15-64)\",\n\n                   \"SP.POP.65UP.FE.IN\":\"Females (65+)\", \n                   \"SP.POP.65UP.MA.IN\":\"Males (65+)\", \n                   \n                   \"SP.POP.0004.FE\":\"Females (0-4)\",\n                   \"SP.POP.0004.MA\":\"Males (0-4)\",\n                   \n                   \"SP.POP.0509.FE\":\"Females (5-9)\",\n                   \"SP.POP.0509.MA\":\"Males (5-9)\",\n                   \n                   \"SP.POP.1014.FE\":\"Females (10-14)\",\n                   \"SP.POP.1014.MA\":\"Males (10-14)\",\n                   \n                   \"SP.POP.1519.FE\":\"Females (15-19)\",\n                   \"SP.POP.1519.MA\":\"Males (15-19)\",\n                   \n                   \"SP.POP.2024.FE\":\"Females (20-24)\",\n                   \"SP.POP.2024.MA\":\"Males (20-24)\",\n                   \n                   \"SP.POP.2529.FE\":\"Females (25-29)\",\n                   \"SP.POP.2529.MA\":\"Males (25-29)\",\n                   \n                   \"SP.POP.3034.FE\":\"Females (30-34)\",\n                   \"SP.POP.3034.MA\":\"Males (30-34)\",\n                   \n                   \"SP.POP.3539.FE\":\"Females (35-39)\",\n                   \"SP.POP.3539.MA\":\"Males (35-39)\",\n                   \n                   \"SP.POP.4044.FE\":\"Females (40-44)\",\n                   \"SP.POP.4044.MA\":\"Males (40-44)\",\n                   \n                   \"SP.POP.4549.FE\":\"Females (45-49)\",\n                   \"SP.POP.4549.MA\":\"Males (45-49)\",\n                   \n                   \"SP.POP.5054.FE\":\"Females (50-54)\",\n                   \"SP.POP.5054.MA\":\"Males (50-54)\",\n                   \n                   \"SP.POP.5559.FE\":\"Females (55-59)\",\n                   \"SP.POP.5559.MA\":\"Males (55-59)\",\n                   \n                   \"SP.POP.6064.FE\":\"Females (60-64)\",\n                   \"SP.POP.6064.MA\":\"Males (60-64)\",\n                   \n                   \"SP.POP.6569.FE\":\"Females (65-69)\",\n                   \"SP.POP.6569.MA\":\"Males (65-69)\",\n                   \n                   \"SP.POP.7074.FE\":\"Females (70-74)\",\n                   \"SP.POP.7074.MA\":\"Males (70-74)\",\n                \n                   \"SP.POP.7579.FE\":\"Females (75-79)\",\n                   \"SP.POP.7579.MA\":\"Males (75-79)\",\n                   \n                   \"SP.POP.80UP.FE\":\"Females (80+)\",\n                   \"SP.POP.80UP.MA\":\"Males (80+)\" \n                   \n                  }\n\n    pop_df = wbdata.get_dataframe(variable_labels, country=\"\")\n\n    # Print a few years' data\n    return pop_df.head()\n",
    "id": "74e6f5bb995947a486388e9b5c60dfbd",
    "idx": 1,
    "time": "2021-01-28T00:00:57.267Z",
    "type": "execution"
   },
   {
    "id": "74e6f5bb995947a486388e9b5c60dfbd",
    "time": "2021-01-28T00:00:57.370Z",
    "type": "completion"
   },
   {
    "code": "df()",
    "id": "9e600b55f67e4013865c9404c97855ff",
    "idx": 2,
    "time": "2021-01-28T00:00:59.297Z",
    "type": "execution"
   },
   {
    "id": "9e600b55f67e4013865c9404c97855ff",
    "time": "2021-01-28T00:01:09.614Z",
    "type": "completion"
   },
   {
    "code": "df.head(50)",
    "id": "9e600b55f67e4013865c9404c97855ff",
    "idx": 2,
    "time": "2021-01-28T00:04:14.579Z",
    "type": "execution"
   },
   {
    "id": "9e600b55f67e4013865c9404c97855ff",
    "time": "2021-01-28T00:04:14.853Z",
    "type": "completion"
   },
   {
    "code": "df().head(50)",
    "id": "9e600b55f67e4013865c9404c97855ff",
    "idx": 2,
    "time": "2021-01-28T00:04:22.694Z",
    "type": "execution"
   },
   {
    "id": "9e600b55f67e4013865c9404c97855ff",
    "time": "2021-01-28T00:04:33.056Z",
    "type": "completion"
   },
   {
    "code": "#A1 population function\ndef population(year, persons, age_range, location):\n    \"\"\"A python function named population that will deliver information to answer the queries\n    of the following form: In [year] how many [people/males/females] aged [low] to [high] were living in [the\n    world/region/country]?\n    \n    location (str): name of country, income level, world location, etc.\n    sex (str): a string FE (female), MA (male), or all\n    age_range (str): none, 0004 (Population ages 00-04), 0014 (Population ages 0-14), etc etc\n    \n    Returns a population from wbdata of a location given year, persons, and age range.\n    \"\"\"\n    if age_range == 'none':\n        if persons == 'FE':\n            variables = {'SP.POP.TOTL.FE.IN':'Pop'}\n        elif persons == 'MA':\n            variables = {'SP.POP.TOTL.MA.IN':'Pop'}\n        else:\n            variables = {'SP.POP.TOTL':'Pop'}\n\n    if age_range == '0004':\n        if persons == 'FE':\n            variables = {'SP.POP.0004.FE' : 'Pop'}\n        elif persons == 'MA':\n            variables = {'SP.POP.0004.MA' : 'Pop'}\n        \n    if age_range == '0014':\n        if persons == 'FE':\n            variables = {'SP.POP.0014.FE' : 'Pop'}\n        elif persons == 'MA':\n            variables = {'SP.POP.0014.MA' : 'Pop'}\n        \n    if age_range == '0509':\n        if persons == 'FE':\n            variables = {'SP.POP.0509.FE' : 'Pop'}\n        elif persons == 'MA':\n            variables = {'SP.POP.0509.MA' : 'Pop'}\n        \n    if age_range == '1014':\n        if persons == 'FE':\n            variables = {'SP.POP.1014.FE' : 'Pop'}\n        elif persons == 'MA':\n            variables = {'SP.POP.1014.MA' : 'Pop'}\n        \n    if age_range == '1519':\n        if persons == 'FE':\n            variables = {'SP.POP.1519.FE' : 'Pop'}\n        elif persons == 'MA':\n            variables = {'SP.POP.1519.MA' : 'Pop'}\n\n    if age_range == '1564':\n        if persons == 'FE':\n            variables = {'SP.POP.1564.FE' : 'Pop'}\n        elif persons == 'MA':\n            variables = {'SP.POP.1564.MA': 'Pop'}\n        \n    if age_range == '2024':\n        if persons == 'FE':\n            variables = {'SP.POP.2024.FE' : 'Pop'}\n        elif persons == 'MA':\n            variables = {'SP.POP.2024.MA' : 'Pop'}\n        \n    if age_range == '2529':\n        if persons == 'FE':\n            variables = {'SP.POP.2529.FE' : 'Pop'}\n        elif persons == 'MA':\n            variables = {'SP.POP.2529.MA' : 'Pop'}\n        \n    if age_range == '3034':\n        if persons == 'FE':\n            variables = {'SP.POP.3034.FE' : 'Pop'}\n        elif persons == 'MA':\n            variables = {'SP.POP.3034.MA' : 'Pop'}\n        \n    if age_range == '3539':\n        if persons == 'FE':\n            variables = {'SP.POP.3539.FE' : 'Pop'}\n        elif persons == 'MA':\n            variables = {'SP.POP.3539.MA' : 'Pop'}\n        \n    if age_range == '4044':\n        if persons == 'FE':\n            variables = {'SP.POP.4044.FE' : 'Pop'}\n        elif persons == 'MA':\n            variables = {'SP.POP.4044.MA' : 'Pop'}\n        \n    if age_range == '4549':\n        if persons == 'FE':\n            variables = {'SP.POP.4549.FE' : 'Pop'}\n        elif persons == 'MA':\n            variables = {'SP.POP.4549.MA' : 'Pop'}\n        \n    if age_range == '5054':\n        if persons == 'FE':\n            variables = {'SP.POP.5054.FE' : 'Pop'}\n        elif persons == 'MA':\n            variables = {'SP.POP.5054.MA' : 'Pop'}\n        \n    if age_range == '5559':\n        if persons == 'FE':\n            variables = {'SP.POP.5559.FE' : 'Pop'}\n        elif persons == 'MA':\n            variables = {'SP.POP.5559.MA' : 'Pop'}\n        \n    if age_range == '6064':\n        if persons == 'FE':\n            variables = {'SP.POP.6064.FE' : 'Pop'}\n        elif persons == 'MA':\n            variables = {'SP.POP.6064.MA' : 'Pop'}\n        \n    if age_range == '6569':\n        if persons == 'FE':\n            variables = {'SP.POP.6569.FE' : 'Pop'}\n        elif persons == 'MA':\n            variables = {'SP.POP.6569.MA' : 'Pop'}\n        \n    if age_range == '65UP':\n        if persons == 'FE':\n            variables = {'SP.POP.65UP.FE' : 'Pop'}\n        elif persons == 'MA':\n            variables = {'SP.POP.65UP.MA' : 'Pop'}\n        \n    if age_range == '7074':\n        if persons == 'FE':\n            variables = {'SP.POP.7074.FE' : 'Pop'}\n        elif persons == 'MA':\n            variables = {'SP.POP.7074.MA' : 'Pop'}\n        \n    if age_range == '7579':\n        if persons == 'FE':\n            variables = {'SP.POP.7579.FE' : 'Pop'}\n        elif persons == 'MA':\n            variables = {'SP.POP.7579.MA' : 'Pop'}\n        \n    if age_range == '80UP':\n        if persons == 'FE':\n            variables = {'SP.POP.80UP.FE' : 'Pop'}\n        elif persons == 'MA':\n            variables = {'SP.POP.80UP.MA' : 'Pop'}\n        \n\n    df = df()\n    return df.loc[(df['country'] == location) & df['year'] == year]",
    "id": "690b2fc7b7694c158fb49ae0c73a0e19",
    "idx": 3,
    "time": "2021-01-28T00:19:32.476Z",
    "type": "execution"
   },
   {
    "id": "690b2fc7b7694c158fb49ae0c73a0e19",
    "time": "2021-01-28T00:19:32.663Z",
    "type": "completion"
   },
   {
    "code": "population('1998', 'FE', 'none', 'Philippines') #maybe make population fn output a string sentence such as\n                                                # 'The population for [country] in [year] was xxxxx'?",
    "id": "37a23cab134f4d7f8a94705da4a45d92",
    "idx": 5,
    "time": "2021-01-28T00:19:44.290Z",
    "type": "execution"
   },
   {
    "id": "37a23cab134f4d7f8a94705da4a45d92",
    "time": "2021-01-28T00:19:44.452Z",
    "type": "completion"
   },
   {
    "code": "#A1 population function\ndef population(year, persons, age_range, location):\n    \"\"\"A python function named population that will deliver information to answer the queries\n    of the following form: In [year] how many [people/males/females] aged [low] to [high] were living in [the\n    world/region/country]?\n    \n    location (str): name of country, income level, world location, etc.\n    sex (str): a string FE (female), MA (male), or all\n    age_range (str): none, 0004 (Population ages 00-04), 0014 (Population ages 0-14), etc etc\n    \n    Returns a population from wbdata of a location given year, persons, and age range.\n    \"\"\"\n    if age_range == 'none':\n        if persons == 'FE':\n            variables = {'SP.POP.TOTL.FE.IN':'Pop'}\n        elif persons == 'MA':\n            variables = {'SP.POP.TOTL.MA.IN':'Pop'}\n        else:\n            variables = {'SP.POP.TOTL':'Pop'}\n\n    if age_range == '0004':\n        if persons == 'FE':\n            variables = {'SP.POP.0004.FE' : 'Pop'}\n        elif persons == 'MA':\n            variables = {'SP.POP.0004.MA' : 'Pop'}\n        \n    if age_range == '0014':\n        if persons == 'FE':\n            variables = {'SP.POP.0014.FE' : 'Pop'}\n        elif persons == 'MA':\n            variables = {'SP.POP.0014.MA' : 'Pop'}\n        \n    if age_range == '0509':\n        if persons == 'FE':\n            variables = {'SP.POP.0509.FE' : 'Pop'}\n        elif persons == 'MA':\n            variables = {'SP.POP.0509.MA' : 'Pop'}\n        \n    if age_range == '1014':\n        if persons == 'FE':\n            variables = {'SP.POP.1014.FE' : 'Pop'}\n        elif persons == 'MA':\n            variables = {'SP.POP.1014.MA' : 'Pop'}\n        \n    if age_range == '1519':\n        if persons == 'FE':\n            variables = {'SP.POP.1519.FE' : 'Pop'}\n        elif persons == 'MA':\n            variables = {'SP.POP.1519.MA' : 'Pop'}\n\n    if age_range == '1564':\n        if persons == 'FE':\n            variables = {'SP.POP.1564.FE' : 'Pop'}\n        elif persons == 'MA':\n            variables = {'SP.POP.1564.MA': 'Pop'}\n        \n    if age_range == '2024':\n        if persons == 'FE':\n            variables = {'SP.POP.2024.FE' : 'Pop'}\n        elif persons == 'MA':\n            variables = {'SP.POP.2024.MA' : 'Pop'}\n        \n    if age_range == '2529':\n        if persons == 'FE':\n            variables = {'SP.POP.2529.FE' : 'Pop'}\n        elif persons == 'MA':\n            variables = {'SP.POP.2529.MA' : 'Pop'}\n        \n    if age_range == '3034':\n        if persons == 'FE':\n            variables = {'SP.POP.3034.FE' : 'Pop'}\n        elif persons == 'MA':\n            variables = {'SP.POP.3034.MA' : 'Pop'}\n        \n    if age_range == '3539':\n        if persons == 'FE':\n            variables = {'SP.POP.3539.FE' : 'Pop'}\n        elif persons == 'MA':\n            variables = {'SP.POP.3539.MA' : 'Pop'}\n        \n    if age_range == '4044':\n        if persons == 'FE':\n            variables = {'SP.POP.4044.FE' : 'Pop'}\n        elif persons == 'MA':\n            variables = {'SP.POP.4044.MA' : 'Pop'}\n        \n    if age_range == '4549':\n        if persons == 'FE':\n            variables = {'SP.POP.4549.FE' : 'Pop'}\n        elif persons == 'MA':\n            variables = {'SP.POP.4549.MA' : 'Pop'}\n        \n    if age_range == '5054':\n        if persons == 'FE':\n            variables = {'SP.POP.5054.FE' : 'Pop'}\n        elif persons == 'MA':\n            variables = {'SP.POP.5054.MA' : 'Pop'}\n        \n    if age_range == '5559':\n        if persons == 'FE':\n            variables = {'SP.POP.5559.FE' : 'Pop'}\n        elif persons == 'MA':\n            variables = {'SP.POP.5559.MA' : 'Pop'}\n        \n    if age_range == '6064':\n        if persons == 'FE':\n            variables = {'SP.POP.6064.FE' : 'Pop'}\n        elif persons == 'MA':\n            variables = {'SP.POP.6064.MA' : 'Pop'}\n        \n    if age_range == '6569':\n        if persons == 'FE':\n            variables = {'SP.POP.6569.FE' : 'Pop'}\n        elif persons == 'MA':\n            variables = {'SP.POP.6569.MA' : 'Pop'}\n        \n    if age_range == '65UP':\n        if persons == 'FE':\n            variables = {'SP.POP.65UP.FE' : 'Pop'}\n        elif persons == 'MA':\n            variables = {'SP.POP.65UP.MA' : 'Pop'}\n        \n    if age_range == '7074':\n        if persons == 'FE':\n            variables = {'SP.POP.7074.FE' : 'Pop'}\n        elif persons == 'MA':\n            variables = {'SP.POP.7074.MA' : 'Pop'}\n        \n    if age_range == '7579':\n        if persons == 'FE':\n            variables = {'SP.POP.7579.FE' : 'Pop'}\n        elif persons == 'MA':\n            variables = {'SP.POP.7579.MA' : 'Pop'}\n        \n    if age_range == '80UP':\n        if persons == 'FE':\n            variables = {'SP.POP.80UP.FE' : 'Pop'}\n        elif persons == 'MA':\n            variables = {'SP.POP.80UP.MA' : 'Pop'}\n        \n    return df().loc[(df['country'] == location) & df['year'] == year]",
    "id": "690b2fc7b7694c158fb49ae0c73a0e19",
    "idx": 3,
    "time": "2021-01-28T00:20:09.610Z",
    "type": "execution"
   },
   {
    "id": "690b2fc7b7694c158fb49ae0c73a0e19",
    "time": "2021-01-28T00:20:09.785Z",
    "type": "completion"
   },
   {
    "code": "population('1998', 'FE', 'none', 'Philippines') #maybe make population fn output a string sentence such as\n                                                # 'The population for [country] in [year] was xxxxx'?",
    "id": "37a23cab134f4d7f8a94705da4a45d92",
    "idx": 5,
    "time": "2021-01-28T00:20:12.136Z",
    "type": "execution"
   },
   {
    "id": "37a23cab134f4d7f8a94705da4a45d92",
    "time": "2021-01-28T00:20:22.735Z",
    "type": "completion"
   },
   {
    "code": "df().head(50)",
    "id": "9e600b55f67e4013865c9404c97855ff",
    "idx": 2,
    "time": "2021-01-28T00:21:13.124Z",
    "type": "execution"
   },
   {
    "id": "9e600b55f67e4013865c9404c97855ff",
    "time": "2021-01-28T00:21:23.923Z",
    "type": "completion"
   },
   {
    "code": "#A1 population function\ndef population(year, persons, age_range, location):\n    \"\"\"A python function named population that will deliver information to answer the queries\n    of the following form: In [year] how many [people/males/females] aged [low] to [high] were living in [the\n    world/region/country]?\n    \n    location (str): name of country, income level, world location, etc.\n    sex (str): a string FE (female), MA (male), or all\n    age_range (str): none, 0004 (Population ages 00-04), 0014 (Population ages 0-14), etc etc\n    \n    Returns a population from wbdata of a location given year, persons, and age range.\n    \"\"\"\n    if age_range == 'none':\n        if persons == 'FE':\n            variables = {'SP.POP.TOTL.FE.IN':'Pop'}\n        elif persons == 'MA':\n            variables = {'SP.POP.TOTL.MA.IN':'Pop'}\n        else:\n            variables = {'SP.POP.TOTL':'Pop'}\n\n    if age_range == '0004':\n        if persons == 'FE':\n            variables = {'SP.POP.0004.FE' : 'Pop'}\n        elif persons == 'MA':\n            variables = {'SP.POP.0004.MA' : 'Pop'}\n        \n    if age_range == '0014':\n        if persons == 'FE':\n            variables = {'SP.POP.0014.FE' : 'Pop'}\n        elif persons == 'MA':\n            variables = {'SP.POP.0014.MA' : 'Pop'}\n        \n    if age_range == '0509':\n        if persons == 'FE':\n            variables = {'SP.POP.0509.FE' : 'Pop'}\n        elif persons == 'MA':\n            variables = {'SP.POP.0509.MA' : 'Pop'}\n        \n    if age_range == '1014':\n        if persons == 'FE':\n            variables = {'SP.POP.1014.FE' : 'Pop'}\n        elif persons == 'MA':\n            variables = {'SP.POP.1014.MA' : 'Pop'}\n        \n    if age_range == '1519':\n        if persons == 'FE':\n            variables = {'SP.POP.1519.FE' : 'Pop'}\n        elif persons == 'MA':\n            variables = {'SP.POP.1519.MA' : 'Pop'}\n\n    if age_range == '1564':\n        if persons == 'FE':\n            variables = {'SP.POP.1564.FE' : 'Pop'}\n        elif persons == 'MA':\n            variables = {'SP.POP.1564.MA': 'Pop'}\n        \n    if age_range == '2024':\n        if persons == 'FE':\n            variables = {'SP.POP.2024.FE' : 'Pop'}\n        elif persons == 'MA':\n            variables = {'SP.POP.2024.MA' : 'Pop'}\n        \n    if age_range == '2529':\n        if persons == 'FE':\n            variables = {'SP.POP.2529.FE' : 'Pop'}\n        elif persons == 'MA':\n            variables = {'SP.POP.2529.MA' : 'Pop'}\n        \n    if age_range == '3034':\n        if persons == 'FE':\n            variables = {'SP.POP.3034.FE' : 'Pop'}\n        elif persons == 'MA':\n            variables = {'SP.POP.3034.MA' : 'Pop'}\n        \n    if age_range == '3539':\n        if persons == 'FE':\n            variables = {'SP.POP.3539.FE' : 'Pop'}\n        elif persons == 'MA':\n            variables = {'SP.POP.3539.MA' : 'Pop'}\n        \n    if age_range == '4044':\n        if persons == 'FE':\n            variables = {'SP.POP.4044.FE' : 'Pop'}\n        elif persons == 'MA':\n            variables = {'SP.POP.4044.MA' : 'Pop'}\n        \n    if age_range == '4549':\n        if persons == 'FE':\n            variables = {'SP.POP.4549.FE' : 'Pop'}\n        elif persons == 'MA':\n            variables = {'SP.POP.4549.MA' : 'Pop'}\n        \n    if age_range == '5054':\n        if persons == 'FE':\n            variables = {'SP.POP.5054.FE' : 'Pop'}\n        elif persons == 'MA':\n            variables = {'SP.POP.5054.MA' : 'Pop'}\n        \n    if age_range == '5559':\n        if persons == 'FE':\n            variables = {'SP.POP.5559.FE' : 'Pop'}\n        elif persons == 'MA':\n            variables = {'SP.POP.5559.MA' : 'Pop'}\n        \n    if age_range == '6064':\n        if persons == 'FE':\n            variables = {'SP.POP.6064.FE' : 'Pop'}\n        elif persons == 'MA':\n            variables = {'SP.POP.6064.MA' : 'Pop'}\n        \n    if age_range == '6569':\n        if persons == 'FE':\n            variables = {'SP.POP.6569.FE' : 'Pop'}\n        elif persons == 'MA':\n            variables = {'SP.POP.6569.MA' : 'Pop'}\n        \n    if age_range == '65UP':\n        if persons == 'FE':\n            variables = {'SP.POP.65UP.FE' : 'Pop'}\n        elif persons == 'MA':\n            variables = {'SP.POP.65UP.MA' : 'Pop'}\n        \n    if age_range == '7074':\n        if persons == 'FE':\n            variables = {'SP.POP.7074.FE' : 'Pop'}\n        elif persons == 'MA':\n            variables = {'SP.POP.7074.MA' : 'Pop'}\n        \n    if age_range == '7579':\n        if persons == 'FE':\n            variables = {'SP.POP.7579.FE' : 'Pop'}\n        elif persons == 'MA':\n            variables = {'SP.POP.7579.MA' : 'Pop'}\n        \n    if age_range == '80UP':\n        if persons == 'FE':\n            variables = {'SP.POP.80UP.FE' : 'Pop'}\n        elif persons == 'MA':\n            variables = {'SP.POP.80UP.MA' : 'Pop'}\n        \n    return df().loc[(df['country'] == location) & df['year'] == year]",
    "id": "690b2fc7b7694c158fb49ae0c73a0e19",
    "idx": 3,
    "time": "2021-01-28T00:21:32.263Z",
    "type": "execution"
   },
   {
    "id": "690b2fc7b7694c158fb49ae0c73a0e19",
    "time": "2021-01-28T00:21:32.432Z",
    "type": "completion"
   },
   {
    "code": "population('1998', 'FE', 'none', 'Philippines') #maybe make population fn output a string sentence such as\n                                                # 'The population for [country] in [year] was xxxxx'?",
    "id": "37a23cab134f4d7f8a94705da4a45d92",
    "idx": 5,
    "time": "2021-01-28T00:21:35.217Z",
    "type": "execution"
   },
   {
    "id": "37a23cab134f4d7f8a94705da4a45d92",
    "time": "2021-01-28T00:21:45.890Z",
    "type": "completion"
   },
   {
    "code": "#A1 population function\ndef population(year, persons, age_range, location):\n    \"\"\"A python function named population that will deliver information to answer the queries\n    of the following form: In [year] how many [people/males/females] aged [low] to [high] were living in [the\n    world/region/country]?\n    \n    location (str): name of country, income level, world location, etc.\n    sex (str): a string FE (female), MA (male), or all\n    age_range (str): none, 0004 (Population ages 00-04), 0014 (Population ages 0-14), etc etc\n    \n    Returns a population from wbdata of a location given year, persons, and age range.\n    \"\"\"\n    if age_range == 'none':\n        if persons == 'FE':\n            variables = {'SP.POP.TOTL.FE.IN':'Pop'}\n        elif persons == 'MA':\n            variables = {'SP.POP.TOTL.MA.IN':'Pop'}\n        else:\n            variables = {'SP.POP.TOTL':'Pop'}\n\n    if age_range == '0004':\n        if persons == 'FE':\n            variables = {'SP.POP.0004.FE' : 'Pop'}\n        elif persons == 'MA':\n            variables = {'SP.POP.0004.MA' : 'Pop'}\n        \n    if age_range == '0014':\n        if persons == 'FE':\n            variables = {'SP.POP.0014.FE' : 'Pop'}\n        elif persons == 'MA':\n            variables = {'SP.POP.0014.MA' : 'Pop'}\n        \n    if age_range == '0509':\n        if persons == 'FE':\n            variables = {'SP.POP.0509.FE' : 'Pop'}\n        elif persons == 'MA':\n            variables = {'SP.POP.0509.MA' : 'Pop'}\n        \n    if age_range == '1014':\n        if persons == 'FE':\n            variables = {'SP.POP.1014.FE' : 'Pop'}\n        elif persons == 'MA':\n            variables = {'SP.POP.1014.MA' : 'Pop'}\n        \n    if age_range == '1519':\n        if persons == 'FE':\n            variables = {'SP.POP.1519.FE' : 'Pop'}\n        elif persons == 'MA':\n            variables = {'SP.POP.1519.MA' : 'Pop'}\n\n    if age_range == '1564':\n        if persons == 'FE':\n            variables = {'SP.POP.1564.FE' : 'Pop'}\n        elif persons == 'MA':\n            variables = {'SP.POP.1564.MA': 'Pop'}\n        \n    if age_range == '2024':\n        if persons == 'FE':\n            variables = {'SP.POP.2024.FE' : 'Pop'}\n        elif persons == 'MA':\n            variables = {'SP.POP.2024.MA' : 'Pop'}\n        \n    if age_range == '2529':\n        if persons == 'FE':\n            variables = {'SP.POP.2529.FE' : 'Pop'}\n        elif persons == 'MA':\n            variables = {'SP.POP.2529.MA' : 'Pop'}\n        \n    if age_range == '3034':\n        if persons == 'FE':\n            variables = {'SP.POP.3034.FE' : 'Pop'}\n        elif persons == 'MA':\n            variables = {'SP.POP.3034.MA' : 'Pop'}\n        \n    if age_range == '3539':\n        if persons == 'FE':\n            variables = {'SP.POP.3539.FE' : 'Pop'}\n        elif persons == 'MA':\n            variables = {'SP.POP.3539.MA' : 'Pop'}\n        \n    if age_range == '4044':\n        if persons == 'FE':\n            variables = {'SP.POP.4044.FE' : 'Pop'}\n        elif persons == 'MA':\n            variables = {'SP.POP.4044.MA' : 'Pop'}\n        \n    if age_range == '4549':\n        if persons == 'FE':\n            variables = {'SP.POP.4549.FE' : 'Pop'}\n        elif persons == 'MA':\n            variables = {'SP.POP.4549.MA' : 'Pop'}\n        \n    if age_range == '5054':\n        if persons == 'FE':\n            variables = {'SP.POP.5054.FE' : 'Pop'}\n        elif persons == 'MA':\n            variables = {'SP.POP.5054.MA' : 'Pop'}\n        \n    if age_range == '5559':\n        if persons == 'FE':\n            variables = {'SP.POP.5559.FE' : 'Pop'}\n        elif persons == 'MA':\n            variables = {'SP.POP.5559.MA' : 'Pop'}\n        \n    if age_range == '6064':\n        if persons == 'FE':\n            variables = {'SP.POP.6064.FE' : 'Pop'}\n        elif persons == 'MA':\n            variables = {'SP.POP.6064.MA' : 'Pop'}\n        \n    if age_range == '6569':\n        if persons == 'FE':\n            variables = {'SP.POP.6569.FE' : 'Pop'}\n        elif persons == 'MA':\n            variables = {'SP.POP.6569.MA' : 'Pop'}\n        \n    if age_range == '65UP':\n        if persons == 'FE':\n            variables = {'SP.POP.65UP.FE' : 'Pop'}\n        elif persons == 'MA':\n            variables = {'SP.POP.65UP.MA' : 'Pop'}\n        \n    if age_range == '7074':\n        if persons == 'FE':\n            variables = {'SP.POP.7074.FE' : 'Pop'}\n        elif persons == 'MA':\n            variables = {'SP.POP.7074.MA' : 'Pop'}\n        \n    if age_range == '7579':\n        if persons == 'FE':\n            variables = {'SP.POP.7579.FE' : 'Pop'}\n        elif persons == 'MA':\n            variables = {'SP.POP.7579.MA' : 'Pop'}\n        \n    if age_range == '80UP':\n        if persons == 'FE':\n            variables = {'SP.POP.80UP.FE' : 'Pop'}\n        elif persons == 'MA':\n            variables = {'SP.POP.80UP.MA' : 'Pop'}\n        \n    return df().loc[(df['country'] == location) & (df['year'] == year)]",
    "id": "690b2fc7b7694c158fb49ae0c73a0e19",
    "idx": 3,
    "time": "2021-01-28T00:22:05.152Z",
    "type": "execution"
   },
   {
    "id": "690b2fc7b7694c158fb49ae0c73a0e19",
    "time": "2021-01-28T00:22:05.324Z",
    "type": "completion"
   },
   {
    "code": "population('1998', 'FE', 'none', 'Philippines') #maybe make population fn output a string sentence such as\n                                                # 'The population for [country] in [year] was xxxxx'?",
    "id": "37a23cab134f4d7f8a94705da4a45d92",
    "idx": 5,
    "time": "2021-01-28T00:22:07.007Z",
    "type": "execution"
   },
   {
    "id": "37a23cab134f4d7f8a94705da4a45d92",
    "time": "2021-01-28T00:22:17.510Z",
    "type": "completion"
   },
   {
    "code": "#A1 population function\ndef population(year, persons, age_range, location):\n    \"\"\"A python function named population that will deliver information to answer the queries\n    of the following form: In [year] how many [people/males/females] aged [low] to [high] were living in [the\n    world/region/country]?\n    \n    location (str): name of country, income level, world location, etc.\n    sex (str): a string FE (female), MA (male), or all\n    age_range (str): none, 0004 (Population ages 00-04), 0014 (Population ages 0-14), etc etc\n    \n    Returns a population from wbdata of a location given year, persons, and age range.\n    \"\"\"\n    if age_range == 'none':\n        if persons == 'FE':\n            variables = {'SP.POP.TOTL.FE.IN':'Pop'}\n        elif persons == 'MA':\n            variables = {'SP.POP.TOTL.MA.IN':'Pop'}\n        else:\n            variables = {'SP.POP.TOTL':'Pop'}\n\n    if age_range == '0004':\n        if persons == 'FE':\n            variables = {'SP.POP.0004.FE' : 'Pop'}\n        elif persons == 'MA':\n            variables = {'SP.POP.0004.MA' : 'Pop'}\n        \n    if age_range == '0014':\n        if persons == 'FE':\n            variables = {'SP.POP.0014.FE' : 'Pop'}\n        elif persons == 'MA':\n            variables = {'SP.POP.0014.MA' : 'Pop'}\n        \n    if age_range == '0509':\n        if persons == 'FE':\n            variables = {'SP.POP.0509.FE' : 'Pop'}\n        elif persons == 'MA':\n            variables = {'SP.POP.0509.MA' : 'Pop'}\n        \n    if age_range == '1014':\n        if persons == 'FE':\n            variables = {'SP.POP.1014.FE' : 'Pop'}\n        elif persons == 'MA':\n            variables = {'SP.POP.1014.MA' : 'Pop'}\n        \n    if age_range == '1519':\n        if persons == 'FE':\n            variables = {'SP.POP.1519.FE' : 'Pop'}\n        elif persons == 'MA':\n            variables = {'SP.POP.1519.MA' : 'Pop'}\n\n    if age_range == '1564':\n        if persons == 'FE':\n            variables = {'SP.POP.1564.FE' : 'Pop'}\n        elif persons == 'MA':\n            variables = {'SP.POP.1564.MA': 'Pop'}\n        \n    if age_range == '2024':\n        if persons == 'FE':\n            variables = {'SP.POP.2024.FE' : 'Pop'}\n        elif persons == 'MA':\n            variables = {'SP.POP.2024.MA' : 'Pop'}\n        \n    if age_range == '2529':\n        if persons == 'FE':\n            variables = {'SP.POP.2529.FE' : 'Pop'}\n        elif persons == 'MA':\n            variables = {'SP.POP.2529.MA' : 'Pop'}\n        \n    if age_range == '3034':\n        if persons == 'FE':\n            variables = {'SP.POP.3034.FE' : 'Pop'}\n        elif persons == 'MA':\n            variables = {'SP.POP.3034.MA' : 'Pop'}\n        \n    if age_range == '3539':\n        if persons == 'FE':\n            variables = {'SP.POP.3539.FE' : 'Pop'}\n        elif persons == 'MA':\n            variables = {'SP.POP.3539.MA' : 'Pop'}\n        \n    if age_range == '4044':\n        if persons == 'FE':\n            variables = {'SP.POP.4044.FE' : 'Pop'}\n        elif persons == 'MA':\n            variables = {'SP.POP.4044.MA' : 'Pop'}\n        \n    if age_range == '4549':\n        if persons == 'FE':\n            variables = {'SP.POP.4549.FE' : 'Pop'}\n        elif persons == 'MA':\n            variables = {'SP.POP.4549.MA' : 'Pop'}\n        \n    if age_range == '5054':\n        if persons == 'FE':\n            variables = {'SP.POP.5054.FE' : 'Pop'}\n        elif persons == 'MA':\n            variables = {'SP.POP.5054.MA' : 'Pop'}\n        \n    if age_range == '5559':\n        if persons == 'FE':\n            variables = {'SP.POP.5559.FE' : 'Pop'}\n        elif persons == 'MA':\n            variables = {'SP.POP.5559.MA' : 'Pop'}\n        \n    if age_range == '6064':\n        if persons == 'FE':\n            variables = {'SP.POP.6064.FE' : 'Pop'}\n        elif persons == 'MA':\n            variables = {'SP.POP.6064.MA' : 'Pop'}\n        \n    if age_range == '6569':\n        if persons == 'FE':\n            variables = {'SP.POP.6569.FE' : 'Pop'}\n        elif persons == 'MA':\n            variables = {'SP.POP.6569.MA' : 'Pop'}\n        \n    if age_range == '65UP':\n        if persons == 'FE':\n            variables = {'SP.POP.65UP.FE' : 'Pop'}\n        elif persons == 'MA':\n            variables = {'SP.POP.65UP.MA' : 'Pop'}\n        \n    if age_range == '7074':\n        if persons == 'FE':\n            variables = {'SP.POP.7074.FE' : 'Pop'}\n        elif persons == 'MA':\n            variables = {'SP.POP.7074.MA' : 'Pop'}\n        \n    if age_range == '7579':\n        if persons == 'FE':\n            variables = {'SP.POP.7579.FE' : 'Pop'}\n        elif persons == 'MA':\n            variables = {'SP.POP.7579.MA' : 'Pop'}\n        \n    if age_range == '80UP':\n        if persons == 'FE':\n            variables = {'SP.POP.80UP.FE' : 'Pop'}\n        elif persons == 'MA':\n            variables = {'SP.POP.80UP.MA' : 'Pop'}\n        \n    return a2_df().loc[(df['country'] == location) & (df['year'] == year)]",
    "id": "690b2fc7b7694c158fb49ae0c73a0e19",
    "idx": 3,
    "time": "2021-01-28T00:22:52.663Z",
    "type": "execution"
   },
   {
    "id": "690b2fc7b7694c158fb49ae0c73a0e19",
    "time": "2021-01-28T00:22:52.925Z",
    "type": "completion"
   },
   {
    "code": "population('1998', 'FE', 'none', 'Philippines') #maybe make population fn output a string sentence such as\n                                                # 'The population for [country] in [year] was xxxxx'?",
    "id": "37a23cab134f4d7f8a94705da4a45d92",
    "idx": 5,
    "time": "2021-01-28T00:22:57.383Z",
    "type": "execution"
   },
   {
    "id": "37a23cab134f4d7f8a94705da4a45d92",
    "time": "2021-01-28T00:22:57.506Z",
    "type": "completion"
   },
   {
    "code": "#A2 returns a dataframe of the given populations derived from wbdata\ndef a2_df():\n    \"\"\"A function that returns a pandas DataFrame indexed by Region or Country and Year, \n    with columns giving counts of people in different age-sex groups.\n    \"\"\"\n    # Give variable for clarity\n    variable_labels = {\"SP.POP.TOTL\":\"Total Population\",\n                   \"SP.POP.TOTL.FE.IN\":\"Female Population\",\n                   \"SP.POP.TOTL.MA.IN\":\"Male Population\",\n                   \n                   \"SP.POP.0014.FE.IN\":\"Females (0-14)\",\n                   \"SP.POP.0014.MA.IN\":\"Males (0-14)\",\n                   \n                   \"SP.POP.1564.FE.IN\":\"Females (15-64)\",\n                   \"SP.POP.1564.MA.IN\":\"Males (15-64)\",\n\n                   \"SP.POP.65UP.FE.IN\":\"Females (65+)\", \n                   \"SP.POP.65UP.MA.IN\":\"Males (65+)\", \n                   \n                   \"SP.POP.0004.FE\":\"Females (0-4)\",\n                   \"SP.POP.0004.MA\":\"Males (0-4)\",\n                   \n                   \"SP.POP.0509.FE\":\"Females (5-9)\",\n                   \"SP.POP.0509.MA\":\"Males (5-9)\",\n                   \n                   \"SP.POP.1014.FE\":\"Females (10-14)\",\n                   \"SP.POP.1014.MA\":\"Males (10-14)\",\n                   \n                   \"SP.POP.1519.FE\":\"Females (15-19)\",\n                   \"SP.POP.1519.MA\":\"Males (15-19)\",\n                   \n                   \"SP.POP.2024.FE\":\"Females (20-24)\",\n                   \"SP.POP.2024.MA\":\"Males (20-24)\",\n                   \n                   \"SP.POP.2529.FE\":\"Females (25-29)\",\n                   \"SP.POP.2529.MA\":\"Males (25-29)\",\n                   \n                   \"SP.POP.3034.FE\":\"Females (30-34)\",\n                   \"SP.POP.3034.MA\":\"Males (30-34)\",\n                   \n                   \"SP.POP.3539.FE\":\"Females (35-39)\",\n                   \"SP.POP.3539.MA\":\"Males (35-39)\",\n                   \n                   \"SP.POP.4044.FE\":\"Females (40-44)\",\n                   \"SP.POP.4044.MA\":\"Males (40-44)\",\n                   \n                   \"SP.POP.4549.FE\":\"Females (45-49)\",\n                   \"SP.POP.4549.MA\":\"Males (45-49)\",\n                   \n                   \"SP.POP.5054.FE\":\"Females (50-54)\",\n                   \"SP.POP.5054.MA\":\"Males (50-54)\",\n                   \n                   \"SP.POP.5559.FE\":\"Females (55-59)\",\n                   \"SP.POP.5559.MA\":\"Males (55-59)\",\n                   \n                   \"SP.POP.6064.FE\":\"Females (60-64)\",\n                   \"SP.POP.6064.MA\":\"Males (60-64)\",\n                   \n                   \"SP.POP.6569.FE\":\"Females (65-69)\",\n                   \"SP.POP.6569.MA\":\"Males (65-69)\",\n                   \n                   \"SP.POP.7074.FE\":\"Females (70-74)\",\n                   \"SP.POP.7074.MA\":\"Males (70-74)\",\n                \n                   \"SP.POP.7579.FE\":\"Females (75-79)\",\n                   \"SP.POP.7579.MA\":\"Males (75-79)\",\n                   \n                   \"SP.POP.80UP.FE\":\"Females (80+)\",\n                   \"SP.POP.80UP.MA\":\"Males (80+)\" \n                   \n                  }\n\n    pop_df = wbdata.get_dataframe(variable_labels, country=\"\")\n\n    # Print a few years' data\n    return pop_df\n",
    "id": "74e6f5bb995947a486388e9b5c60dfbd",
    "idx": 1,
    "time": "2021-01-28T00:23:03.776Z",
    "type": "execution"
   },
   {
    "id": "74e6f5bb995947a486388e9b5c60dfbd",
    "time": "2021-01-28T00:23:03.867Z",
    "type": "completion"
   },
   {
    "code": "df().head(50)",
    "id": "9e600b55f67e4013865c9404c97855ff",
    "idx": 2,
    "time": "2021-01-28T00:23:08.724Z",
    "type": "execution"
   },
   {
    "code": "a2_df().head(50)",
    "id": "9e600b55f67e4013865c9404c97855ff",
    "idx": 2,
    "time": "2021-01-28T00:23:18.008Z",
    "type": "execution"
   },
   {
    "id": "9e600b55f67e4013865c9404c97855ff",
    "time": "2021-01-28T00:23:30.362Z",
    "type": "completion"
   },
   {
    "id": "9e600b55f67e4013865c9404c97855ff",
    "time": "2021-01-28T00:23:30.362Z",
    "type": "completion"
   },
   {
    "code": "#A1 population function\ndef population(year, persons, age_range, location):\n    \"\"\"A python function named population that will deliver information to answer the queries\n    of the following form: In [year] how many [people/males/females] aged [low] to [high] were living in [the\n    world/region/country]?\n    \n    location (str): name of country, income level, world location, etc.\n    sex (str): a string FE (female), MA (male), or all\n    age_range (str): none, 0004 (Population ages 00-04), 0014 (Population ages 0-14), etc etc\n    \n    Returns a population from wbdata of a location given year, persons, and age range.\n    \"\"\"\n    if age_range == 'none':\n        if persons == 'FE':\n            variables = {'SP.POP.TOTL.FE.IN':'Pop'}\n        elif persons == 'MA':\n            variables = {'SP.POP.TOTL.MA.IN':'Pop'}\n        else:\n            variables = {'SP.POP.TOTL':'Pop'}\n\n    if age_range == '0004':\n        if persons == 'FE':\n            variables = {'SP.POP.0004.FE' : 'Pop'}\n        elif persons == 'MA':\n            variables = {'SP.POP.0004.MA' : 'Pop'}\n        \n    if age_range == '0014':\n        if persons == 'FE':\n            variables = {'SP.POP.0014.FE' : 'Pop'}\n        elif persons == 'MA':\n            variables = {'SP.POP.0014.MA' : 'Pop'}\n        \n    if age_range == '0509':\n        if persons == 'FE':\n            variables = {'SP.POP.0509.FE' : 'Pop'}\n        elif persons == 'MA':\n            variables = {'SP.POP.0509.MA' : 'Pop'}\n        \n    if age_range == '1014':\n        if persons == 'FE':\n            variables = {'SP.POP.1014.FE' : 'Pop'}\n        elif persons == 'MA':\n            variables = {'SP.POP.1014.MA' : 'Pop'}\n        \n    if age_range == '1519':\n        if persons == 'FE':\n            variables = {'SP.POP.1519.FE' : 'Pop'}\n        elif persons == 'MA':\n            variables = {'SP.POP.1519.MA' : 'Pop'}\n\n    if age_range == '1564':\n        if persons == 'FE':\n            variables = {'SP.POP.1564.FE' : 'Pop'}\n        elif persons == 'MA':\n            variables = {'SP.POP.1564.MA': 'Pop'}\n        \n    if age_range == '2024':\n        if persons == 'FE':\n            variables = {'SP.POP.2024.FE' : 'Pop'}\n        elif persons == 'MA':\n            variables = {'SP.POP.2024.MA' : 'Pop'}\n        \n    if age_range == '2529':\n        if persons == 'FE':\n            variables = {'SP.POP.2529.FE' : 'Pop'}\n        elif persons == 'MA':\n            variables = {'SP.POP.2529.MA' : 'Pop'}\n        \n    if age_range == '3034':\n        if persons == 'FE':\n            variables = {'SP.POP.3034.FE' : 'Pop'}\n        elif persons == 'MA':\n            variables = {'SP.POP.3034.MA' : 'Pop'}\n        \n    if age_range == '3539':\n        if persons == 'FE':\n            variables = {'SP.POP.3539.FE' : 'Pop'}\n        elif persons == 'MA':\n            variables = {'SP.POP.3539.MA' : 'Pop'}\n        \n    if age_range == '4044':\n        if persons == 'FE':\n            variables = {'SP.POP.4044.FE' : 'Pop'}\n        elif persons == 'MA':\n            variables = {'SP.POP.4044.MA' : 'Pop'}\n        \n    if age_range == '4549':\n        if persons == 'FE':\n            variables = {'SP.POP.4549.FE' : 'Pop'}\n        elif persons == 'MA':\n            variables = {'SP.POP.4549.MA' : 'Pop'}\n        \n    if age_range == '5054':\n        if persons == 'FE':\n            variables = {'SP.POP.5054.FE' : 'Pop'}\n        elif persons == 'MA':\n            variables = {'SP.POP.5054.MA' : 'Pop'}\n        \n    if age_range == '5559':\n        if persons == 'FE':\n            variables = {'SP.POP.5559.FE' : 'Pop'}\n        elif persons == 'MA':\n            variables = {'SP.POP.5559.MA' : 'Pop'}\n        \n    if age_range == '6064':\n        if persons == 'FE':\n            variables = {'SP.POP.6064.FE' : 'Pop'}\n        elif persons == 'MA':\n            variables = {'SP.POP.6064.MA' : 'Pop'}\n        \n    if age_range == '6569':\n        if persons == 'FE':\n            variables = {'SP.POP.6569.FE' : 'Pop'}\n        elif persons == 'MA':\n            variables = {'SP.POP.6569.MA' : 'Pop'}\n        \n    if age_range == '65UP':\n        if persons == 'FE':\n            variables = {'SP.POP.65UP.FE' : 'Pop'}\n        elif persons == 'MA':\n            variables = {'SP.POP.65UP.MA' : 'Pop'}\n        \n    if age_range == '7074':\n        if persons == 'FE':\n            variables = {'SP.POP.7074.FE' : 'Pop'}\n        elif persons == 'MA':\n            variables = {'SP.POP.7074.MA' : 'Pop'}\n        \n    if age_range == '7579':\n        if persons == 'FE':\n            variables = {'SP.POP.7579.FE' : 'Pop'}\n        elif persons == 'MA':\n            variables = {'SP.POP.7579.MA' : 'Pop'}\n        \n    if age_range == '80UP':\n        if persons == 'FE':\n            variables = {'SP.POP.80UP.FE' : 'Pop'}\n        elif persons == 'MA':\n            variables = {'SP.POP.80UP.MA' : 'Pop'}\n        \n    return a2_df().loc[(df['country'] == location) & (df['year'] == year)]",
    "id": "690b2fc7b7694c158fb49ae0c73a0e19",
    "idx": 3,
    "time": "2021-01-28T00:23:42.732Z",
    "type": "execution"
   },
   {
    "id": "690b2fc7b7694c158fb49ae0c73a0e19",
    "time": "2021-01-28T00:23:42.901Z",
    "type": "completion"
   },
   {
    "code": "population('1998', 'FE', 'none', 'Philippines') #maybe make population fn output a string sentence such as\n                                                # 'The population for [country] in [year] was xxxxx'?",
    "id": "37a23cab134f4d7f8a94705da4a45d92",
    "idx": 5,
    "time": "2021-01-28T00:23:44.881Z",
    "type": "execution"
   },
   {
    "id": "37a23cab134f4d7f8a94705da4a45d92",
    "time": "2021-01-28T00:23:55.661Z",
    "type": "completion"
   },
   {
    "code": "!pip install wbdata\nimport wbdata\n!pip install cufflinks\nimport cufflinks as cf",
    "id": "6e1b5e2d638c41a892bbbe37e41a3561",
    "idx": 0,
    "time": "2021-02-01T03:56:57.597Z",
    "type": "execution"
   },
   {
    "id": "6e1b5e2d638c41a892bbbe37e41a3561",
    "time": "2021-02-01T03:57:08.018Z",
    "type": "completion"
   },
   {
    "code": "#A2 returns a dataframe of the given populations derived from wbdata\ndef a2_df():\n    \"\"\"A function that returns a pandas DataFrame indexed by Region or Country and Year, \n    with columns giving counts of people in different age-sex groups.\n    \"\"\"\n    # Give variable for clarity\n    variable_labels = {\"SP.POP.TOTL\":\"Total Population\",\n                   \"SP.POP.TOTL.FE.IN\":\"Female Population\",\n                   \"SP.POP.TOTL.MA.IN\":\"Male Population\",\n                   \n                   \"SP.POP.0014.FE.IN\":\"Females (0-14)\",\n                   \"SP.POP.0014.MA.IN\":\"Males (0-14)\",\n                   \n                   \"SP.POP.1564.FE.IN\":\"Females (15-64)\",\n                   \"SP.POP.1564.MA.IN\":\"Males (15-64)\",\n\n                   \"SP.POP.65UP.FE.IN\":\"Females (65+)\", \n                   \"SP.POP.65UP.MA.IN\":\"Males (65+)\", \n                   \n                   \"SP.POP.0004.FE\":\"Females (0-4)\",\n                   \"SP.POP.0004.MA\":\"Males (0-4)\",\n                   \n                   \"SP.POP.0509.FE\":\"Females (5-9)\",\n                   \"SP.POP.0509.MA\":\"Males (5-9)\",\n                   \n                   \"SP.POP.1014.FE\":\"Females (10-14)\",\n                   \"SP.POP.1014.MA\":\"Males (10-14)\",\n                   \n                   \"SP.POP.1519.FE\":\"Females (15-19)\",\n                   \"SP.POP.1519.MA\":\"Males (15-19)\",\n                   \n                   \"SP.POP.2024.FE\":\"Females (20-24)\",\n                   \"SP.POP.2024.MA\":\"Males (20-24)\",\n                   \n                   \"SP.POP.2529.FE\":\"Females (25-29)\",\n                   \"SP.POP.2529.MA\":\"Males (25-29)\",\n                   \n                   \"SP.POP.3034.FE\":\"Females (30-34)\",\n                   \"SP.POP.3034.MA\":\"Males (30-34)\",\n                   \n                   \"SP.POP.3539.FE\":\"Females (35-39)\",\n                   \"SP.POP.3539.MA\":\"Males (35-39)\",\n                   \n                   \"SP.POP.4044.FE\":\"Females (40-44)\",\n                   \"SP.POP.4044.MA\":\"Males (40-44)\",\n                   \n                   \"SP.POP.4549.FE\":\"Females (45-49)\",\n                   \"SP.POP.4549.MA\":\"Males (45-49)\",\n                   \n                   \"SP.POP.5054.FE\":\"Females (50-54)\",\n                   \"SP.POP.5054.MA\":\"Males (50-54)\",\n                   \n                   \"SP.POP.5559.FE\":\"Females (55-59)\",\n                   \"SP.POP.5559.MA\":\"Males (55-59)\",\n                   \n                   \"SP.POP.6064.FE\":\"Females (60-64)\",\n                   \"SP.POP.6064.MA\":\"Males (60-64)\",\n                   \n                   \"SP.POP.6569.FE\":\"Females (65-69)\",\n                   \"SP.POP.6569.MA\":\"Males (65-69)\",\n                   \n                   \"SP.POP.7074.FE\":\"Females (70-74)\",\n                   \"SP.POP.7074.MA\":\"Males (70-74)\",\n                \n                   \"SP.POP.7579.FE\":\"Females (75-79)\",\n                   \"SP.POP.7579.MA\":\"Males (75-79)\",\n                   \n                   \"SP.POP.80UP.FE\":\"Females (80+)\",\n                   \"SP.POP.80UP.MA\":\"Males (80+)\" \n                   \n                  }\n\n    pop_df = wbdata.get_dataframe(variable_labels, country=\"\")\n\n    # Print a few years' data\n    return pop_df\n",
    "id": "19fa335656b143adbb12a8098e5e4c5d",
    "idx": 1,
    "time": "2021-02-01T03:57:15.465Z",
    "type": "execution"
   },
   {
    "id": "19fa335656b143adbb12a8098e5e4c5d",
    "time": "2021-02-01T03:57:15.590Z",
    "type": "completion"
   },
   {
    "code": "a2_df().head(50)",
    "id": "6c90320a52f8409d80cbb03419bf9fa6",
    "idx": 2,
    "time": "2021-02-01T03:57:18.034Z",
    "type": "execution"
   },
   {
    "id": "6c90320a52f8409d80cbb03419bf9fa6",
    "time": "2021-02-01T03:57:29.654Z",
    "type": "completion"
   },
   {
    "code": "population('2017', 'MA','2529','Azerbaijan') / population('2017', 'all', 'none', 'Azerbaijan')",
    "id": "5d472fbaa8b5425f8f3a5cefd292adc4",
    "idx": 4,
    "time": "2021-02-01T03:58:05.519Z",
    "type": "execution"
   },
   {
    "id": "5d472fbaa8b5425f8f3a5cefd292adc4",
    "time": "2021-02-01T03:58:05.788Z",
    "type": "completion"
   },
   {
    "code": "#A1 population function\ndef population(year, persons, age_range, location):\n    \"\"\"A python function named population that will deliver information to answer the queries\n    of the following form: In [year] how many [people/males/females] aged [low] to [high] were living in [the\n    world/region/country]?\n    \n    location (str): name of country, income level, world location, etc.\n    sex (str): a string FE (female), MA (male), or all\n    age_range (str): none, 0004 (Population ages 00-04), 0014 (Population ages 0-14), etc etc\n    \n    Returns a population from wbdata of a location given year, persons, and age range.\n    \"\"\"\n    if age_range == 'none':\n        if persons == 'FE':\n            variables = {'SP.POP.TOTL.FE.IN':'Pop'}\n        elif persons == 'MA':\n            variables = {'SP.POP.TOTL.MA.IN':'Pop'}\n        else:\n            variables = {'SP.POP.TOTL':'Pop'}\n\n    if age_range == '0004':\n        if persons == 'FE':\n            variables = {'SP.POP.0004.FE' : 'Pop'}\n        elif persons == 'MA':\n            variables = {'SP.POP.0004.MA' : 'Pop'}\n        \n    if age_range == '0014':\n        if persons == 'FE':\n            variables = {'SP.POP.0014.FE' : 'Pop'}\n        elif persons == 'MA':\n            variables = {'SP.POP.0014.MA' : 'Pop'}\n        \n    if age_range == '0509':\n        if persons == 'FE':\n            variables = {'SP.POP.0509.FE' : 'Pop'}\n        elif persons == 'MA':\n            variables = {'SP.POP.0509.MA' : 'Pop'}\n        \n    if age_range == '1014':\n        if persons == 'FE':\n            variables = {'SP.POP.1014.FE' : 'Pop'}\n        elif persons == 'MA':\n            variables = {'SP.POP.1014.MA' : 'Pop'}\n        \n    if age_range == '1519':\n        if persons == 'FE':\n            variables = {'SP.POP.1519.FE' : 'Pop'}\n        elif persons == 'MA':\n            variables = {'SP.POP.1519.MA' : 'Pop'}\n\n    if age_range == '1564':\n        if persons == 'FE':\n            variables = {'SP.POP.1564.FE' : 'Pop'}\n        elif persons == 'MA':\n            variables = {'SP.POP.1564.MA': 'Pop'}\n        \n    if age_range == '2024':\n        if persons == 'FE':\n            variables = {'SP.POP.2024.FE' : 'Pop'}\n        elif persons == 'MA':\n            variables = {'SP.POP.2024.MA' : 'Pop'}\n        \n    if age_range == '2529':\n        if persons == 'FE':\n            variables = {'SP.POP.2529.FE' : 'Pop'}\n        elif persons == 'MA':\n            variables = {'SP.POP.2529.MA' : 'Pop'}\n        \n    if age_range == '3034':\n        if persons == 'FE':\n            variables = {'SP.POP.3034.FE' : 'Pop'}\n        elif persons == 'MA':\n            variables = {'SP.POP.3034.MA' : 'Pop'}\n        \n    if age_range == '3539':\n        if persons == 'FE':\n            variables = {'SP.POP.3539.FE' : 'Pop'}\n        elif persons == 'MA':\n            variables = {'SP.POP.3539.MA' : 'Pop'}\n        \n    if age_range == '4044':\n        if persons == 'FE':\n            variables = {'SP.POP.4044.FE' : 'Pop'}\n        elif persons == 'MA':\n            variables = {'SP.POP.4044.MA' : 'Pop'}\n        \n    if age_range == '4549':\n        if persons == 'FE':\n            variables = {'SP.POP.4549.FE' : 'Pop'}\n        elif persons == 'MA':\n            variables = {'SP.POP.4549.MA' : 'Pop'}\n        \n    if age_range == '5054':\n        if persons == 'FE':\n            variables = {'SP.POP.5054.FE' : 'Pop'}\n        elif persons == 'MA':\n            variables = {'SP.POP.5054.MA' : 'Pop'}\n        \n    if age_range == '5559':\n        if persons == 'FE':\n            variables = {'SP.POP.5559.FE' : 'Pop'}\n        elif persons == 'MA':\n            variables = {'SP.POP.5559.MA' : 'Pop'}\n        \n    if age_range == '6064':\n        if persons == 'FE':\n            variables = {'SP.POP.6064.FE' : 'Pop'}\n        elif persons == 'MA':\n            variables = {'SP.POP.6064.MA' : 'Pop'}\n        \n    if age_range == '6569':\n        if persons == 'FE':\n            variables = {'SP.POP.6569.FE' : 'Pop'}\n        elif persons == 'MA':\n            variables = {'SP.POP.6569.MA' : 'Pop'}\n        \n    if age_range == '65UP':\n        if persons == 'FE':\n            variables = {'SP.POP.65UP.FE' : 'Pop'}\n        elif persons == 'MA':\n            variables = {'SP.POP.65UP.MA' : 'Pop'}\n        \n    if age_range == '7074':\n        if persons == 'FE':\n            variables = {'SP.POP.7074.FE' : 'Pop'}\n        elif persons == 'MA':\n            variables = {'SP.POP.7074.MA' : 'Pop'}\n        \n    if age_range == '7579':\n        if persons == 'FE':\n            variables = {'SP.POP.7579.FE' : 'Pop'}\n        elif persons == 'MA':\n            variables = {'SP.POP.7579.MA' : 'Pop'}\n        \n    if age_range == '80UP':\n        if persons == 'FE':\n            variables = {'SP.POP.80UP.FE' : 'Pop'}\n        elif persons == 'MA':\n            variables = {'SP.POP.80UP.MA' : 'Pop'}\n        \n    #Converts location parameter to a wbdata 3 letter id\n    name_dict = dict()\n    for i in range(len(wbdata.search_countries(\"\"))):\n        id = wbdata.search_countries(\"\")[i][\"id\"]\n        country = wbdata.search_countries(\"\")[i][\"name\"]\n        name_dict[country] = id\n\n    countries = {name_dict.get(location)}\n    df = wbdata.get_dataframe(variables, country=countries)\n    \n    return df.loc[year][0]",
    "id": "a342c886213d4a5b8e24d01aea3838c3",
    "idx": 3,
    "time": "2021-02-01T03:59:19.670Z",
    "type": "execution"
   },
   {
    "id": "a342c886213d4a5b8e24d01aea3838c3",
    "time": "2021-02-01T03:59:19.855Z",
    "type": "completion"
   },
   {
    "code": "population('2017', 'MA','2529','Azerbaijan') / population('2017', 'all', 'none', 'Azerbaijan')",
    "id": "5d472fbaa8b5425f8f3a5cefd292adc4",
    "idx": 4,
    "time": "2021-02-01T03:59:25.931Z",
    "type": "execution"
   },
   {
    "id": "5d472fbaa8b5425f8f3a5cefd292adc4",
    "time": "2021-02-01T03:59:28.380Z",
    "type": "completion"
   },
   {
    "code": "population('1998', 'FE', 'none', 'Philippines') ",
    "id": "d6614e27f5f74f7f838cecf6d63582e4",
    "idx": 5,
    "time": "2021-02-01T03:59:29.688Z",
    "type": "execution"
   },
   {
    "id": "d6614e27f5f74f7f838cecf6d63582e4",
    "time": "2021-02-01T03:59:30.884Z",
    "type": "completion"
   },
   {
    "code": "pop_df = a2_df()\npop_df.head()",
    "id": "4aaaaaf610fa49ec8a39ac1cb26290e9",
    "idx": 2,
    "time": "2021-02-01T04:01:15.021Z",
    "type": "execution"
   },
   {
    "id": "4aaaaaf610fa49ec8a39ac1cb26290e9",
    "time": "2021-02-01T04:01:26.122Z",
    "type": "completion"
   },
   {
    "code": "#pandas manipulations example\npop_df[pop_df['country'=='Philippines']]",
    "id": "6c90320a52f8409d80cbb03419bf9fa6",
    "idx": 3,
    "time": "2021-02-01T04:02:07.161Z",
    "type": "execution"
   },
   {
    "id": "6c90320a52f8409d80cbb03419bf9fa6",
    "time": "2021-02-01T04:02:07.488Z",
    "type": "completion"
   },
   {
    "code": "#pandas manipulations example\npop_df.loc['Philippines']",
    "id": "6c90320a52f8409d80cbb03419bf9fa6",
    "idx": 3,
    "time": "2021-02-01T04:04:36.153Z",
    "type": "execution"
   },
   {
    "id": "6c90320a52f8409d80cbb03419bf9fa6",
    "time": "2021-02-01T04:04:36.428Z",
    "type": "completion"
   },
   {
    "code": "!pip install wbdata\nimport wbdata\n!pip install cufflinks\nimport cufflinks as cf",
    "id": "4dfc9651ae964cdba75e43b9ef9d3b08",
    "idx": 0,
    "time": "2021-02-01T04:08:34.946Z",
    "type": "execution"
   },
   {
    "code": "#A2 returns a dataframe of the given populations derived from wbdata\ndef a2_df():\n    \"\"\"A function that returns a pandas DataFrame indexed by Region or Country and Year, \n    with columns giving counts of people in different age-sex groups.\n    \"\"\"\n    # Give variable for clarity\n    variable_labels = {\"SP.POP.TOTL\":\"Total Population\",\n                   \"SP.POP.TOTL.FE.IN\":\"Female Population\",\n                   \"SP.POP.TOTL.MA.IN\":\"Male Population\",\n                   \n                   \"SP.POP.0014.FE.IN\":\"Females (0-14)\",\n                   \"SP.POP.0014.MA.IN\":\"Males (0-14)\",\n                   \n                   \"SP.POP.1564.FE.IN\":\"Females (15-64)\",\n                   \"SP.POP.1564.MA.IN\":\"Males (15-64)\",\n\n                   \"SP.POP.65UP.FE.IN\":\"Females (65+)\", \n                   \"SP.POP.65UP.MA.IN\":\"Males (65+)\", \n                   \n                   \"SP.POP.0004.FE\":\"Females (0-4)\",\n                   \"SP.POP.0004.MA\":\"Males (0-4)\",\n                   \n                   \"SP.POP.0509.FE\":\"Females (5-9)\",\n                   \"SP.POP.0509.MA\":\"Males (5-9)\",\n                   \n                   \"SP.POP.1014.FE\":\"Females (10-14)\",\n                   \"SP.POP.1014.MA\":\"Males (10-14)\",\n                   \n                   \"SP.POP.1519.FE\":\"Females (15-19)\",\n                   \"SP.POP.1519.MA\":\"Males (15-19)\",\n                   \n                   \"SP.POP.2024.FE\":\"Females (20-24)\",\n                   \"SP.POP.2024.MA\":\"Males (20-24)\",\n                   \n                   \"SP.POP.2529.FE\":\"Females (25-29)\",\n                   \"SP.POP.2529.MA\":\"Males (25-29)\",\n                   \n                   \"SP.POP.3034.FE\":\"Females (30-34)\",\n                   \"SP.POP.3034.MA\":\"Males (30-34)\",\n                   \n                   \"SP.POP.3539.FE\":\"Females (35-39)\",\n                   \"SP.POP.3539.MA\":\"Males (35-39)\",\n                   \n                   \"SP.POP.4044.FE\":\"Females (40-44)\",\n                   \"SP.POP.4044.MA\":\"Males (40-44)\",\n                   \n                   \"SP.POP.4549.FE\":\"Females (45-49)\",\n                   \"SP.POP.4549.MA\":\"Males (45-49)\",\n                   \n                   \"SP.POP.5054.FE\":\"Females (50-54)\",\n                   \"SP.POP.5054.MA\":\"Males (50-54)\",\n                   \n                   \"SP.POP.5559.FE\":\"Females (55-59)\",\n                   \"SP.POP.5559.MA\":\"Males (55-59)\",\n                   \n                   \"SP.POP.6064.FE\":\"Females (60-64)\",\n                   \"SP.POP.6064.MA\":\"Males (60-64)\",\n                   \n                   \"SP.POP.6569.FE\":\"Females (65-69)\",\n                   \"SP.POP.6569.MA\":\"Males (65-69)\",\n                   \n                   \"SP.POP.7074.FE\":\"Females (70-74)\",\n                   \"SP.POP.7074.MA\":\"Males (70-74)\",\n                \n                   \"SP.POP.7579.FE\":\"Females (75-79)\",\n                   \"SP.POP.7579.MA\":\"Males (75-79)\",\n                   \n                   \"SP.POP.80UP.FE\":\"Females (80+)\",\n                   \"SP.POP.80UP.MA\":\"Males (80+)\" \n                   \n                  }\n\n    pop_df = wbdata.get_dataframe(variable_labels, country=\"\")\n\n    # Print a few years' data\n    return pop_df\n",
    "id": "509cda6db24c4ba28b083bd03b08ed3b",
    "idx": 1,
    "time": "2021-02-01T04:08:34.952Z",
    "type": "execution"
   },
   {
    "code": "pop_df = a2_df()\npop_df.head()",
    "id": "1e53930b40a24df39dea87eeb04e350a",
    "idx": 2,
    "time": "2021-02-01T04:08:34.954Z",
    "type": "execution"
   },
   {
    "code": "#pandas manipulations example\npop_df.loc['P']",
    "id": "9000c267d5414119af203919238d8cf6",
    "idx": 3,
    "time": "2021-02-01T04:08:34.955Z",
    "type": "execution"
   },
   {
    "code": "#A1 population function\ndef population(year, persons, age_range, location):\n    \"\"\"A python function named population that will deliver information to answer the queries\n    of the following form: In [year] how many [people/males/females] aged [low] to [high] were living in [the\n    world/region/country]?\n    \n    location (str): name of country, income level, world location, etc.\n    sex (str): a string FE (female), MA (male), or all\n    age_range (str): none, 0004 (Population ages 00-04), 0014 (Population ages 0-14), etc etc\n    \n    Returns a population from wbdata of a location given year, persons, and age range.\n    \"\"\"\n    if age_range == 'none':\n        if persons == 'FE':\n            variables = {'SP.POP.TOTL.FE.IN':'Pop'}\n        elif persons == 'MA':\n            variables = {'SP.POP.TOTL.MA.IN':'Pop'}\n        else:\n            variables = {'SP.POP.TOTL':'Pop'}\n\n    if age_range == '0004':\n        if persons == 'FE':\n            variables = {'SP.POP.0004.FE' : 'Pop'}\n        elif persons == 'MA':\n            variables = {'SP.POP.0004.MA' : 'Pop'}\n        \n    if age_range == '0014':\n        if persons == 'FE':\n            variables = {'SP.POP.0014.FE' : 'Pop'}\n        elif persons == 'MA':\n            variables = {'SP.POP.0014.MA' : 'Pop'}\n        \n    if age_range == '0509':\n        if persons == 'FE':\n            variables = {'SP.POP.0509.FE' : 'Pop'}\n        elif persons == 'MA':\n            variables = {'SP.POP.0509.MA' : 'Pop'}\n        \n    if age_range == '1014':\n        if persons == 'FE':\n            variables = {'SP.POP.1014.FE' : 'Pop'}\n        elif persons == 'MA':\n            variables = {'SP.POP.1014.MA' : 'Pop'}\n        \n    if age_range == '1519':\n        if persons == 'FE':\n            variables = {'SP.POP.1519.FE' : 'Pop'}\n        elif persons == 'MA':\n            variables = {'SP.POP.1519.MA' : 'Pop'}\n\n    if age_range == '1564':\n        if persons == 'FE':\n            variables = {'SP.POP.1564.FE' : 'Pop'}\n        elif persons == 'MA':\n            variables = {'SP.POP.1564.MA': 'Pop'}\n        \n    if age_range == '2024':\n        if persons == 'FE':\n            variables = {'SP.POP.2024.FE' : 'Pop'}\n        elif persons == 'MA':\n            variables = {'SP.POP.2024.MA' : 'Pop'}\n        \n    if age_range == '2529':\n        if persons == 'FE':\n            variables = {'SP.POP.2529.FE' : 'Pop'}\n        elif persons == 'MA':\n            variables = {'SP.POP.2529.MA' : 'Pop'}\n        \n    if age_range == '3034':\n        if persons == 'FE':\n            variables = {'SP.POP.3034.FE' : 'Pop'}\n        elif persons == 'MA':\n            variables = {'SP.POP.3034.MA' : 'Pop'}\n        \n    if age_range == '3539':\n        if persons == 'FE':\n            variables = {'SP.POP.3539.FE' : 'Pop'}\n        elif persons == 'MA':\n            variables = {'SP.POP.3539.MA' : 'Pop'}\n        \n    if age_range == '4044':\n        if persons == 'FE':\n            variables = {'SP.POP.4044.FE' : 'Pop'}\n        elif persons == 'MA':\n            variables = {'SP.POP.4044.MA' : 'Pop'}\n        \n    if age_range == '4549':\n        if persons == 'FE':\n            variables = {'SP.POP.4549.FE' : 'Pop'}\n        elif persons == 'MA':\n            variables = {'SP.POP.4549.MA' : 'Pop'}\n        \n    if age_range == '5054':\n        if persons == 'FE':\n            variables = {'SP.POP.5054.FE' : 'Pop'}\n        elif persons == 'MA':\n            variables = {'SP.POP.5054.MA' : 'Pop'}\n        \n    if age_range == '5559':\n        if persons == 'FE':\n            variables = {'SP.POP.5559.FE' : 'Pop'}\n        elif persons == 'MA':\n            variables = {'SP.POP.5559.MA' : 'Pop'}\n        \n    if age_range == '6064':\n        if persons == 'FE':\n            variables = {'SP.POP.6064.FE' : 'Pop'}\n        elif persons == 'MA':\n            variables = {'SP.POP.6064.MA' : 'Pop'}\n        \n    if age_range == '6569':\n        if persons == 'FE':\n            variables = {'SP.POP.6569.FE' : 'Pop'}\n        elif persons == 'MA':\n            variables = {'SP.POP.6569.MA' : 'Pop'}\n        \n    if age_range == '65UP':\n        if persons == 'FE':\n            variables = {'SP.POP.65UP.FE' : 'Pop'}\n        elif persons == 'MA':\n            variables = {'SP.POP.65UP.MA' : 'Pop'}\n        \n    if age_range == '7074':\n        if persons == 'FE':\n            variables = {'SP.POP.7074.FE' : 'Pop'}\n        elif persons == 'MA':\n            variables = {'SP.POP.7074.MA' : 'Pop'}\n        \n    if age_range == '7579':\n        if persons == 'FE':\n            variables = {'SP.POP.7579.FE' : 'Pop'}\n        elif persons == 'MA':\n            variables = {'SP.POP.7579.MA' : 'Pop'}\n        \n    if age_range == '80UP':\n        if persons == 'FE':\n            variables = {'SP.POP.80UP.FE' : 'Pop'}\n        elif persons == 'MA':\n            variables = {'SP.POP.80UP.MA' : 'Pop'}\n        \n    #Converts location parameter to a wbdata 3 letter id\n    name_dict = dict()\n    for i in range(len(wbdata.search_countries(\"\"))):\n        id = wbdata.search_countries(\"\")[i][\"id\"]\n        country = wbdata.search_countries(\"\")[i][\"name\"]\n        name_dict[country] = id\n\n    countries = {name_dict.get(location)}\n    df = wbdata.get_dataframe(variables, country=countries)\n    \n    return df.loc[year][0]",
    "id": "504f341d9cc64f8990aa9b3afbc647db",
    "idx": 4,
    "time": "2021-02-01T04:08:34.957Z",
    "type": "execution"
   },
   {
    "code": "population('2017', 'MA','2529','Azerbaijan') / population('2017', 'all', 'none', 'Azerbaijan')",
    "id": "6375a2fe895d4ecfab6403a0bb2b46fa",
    "idx": 5,
    "time": "2021-02-01T04:08:34.958Z",
    "type": "execution"
   },
   {
    "code": "population('1998', 'FE', 'none', 'Philippines') ",
    "id": "eb8eb124f4e44f4385fef914d48b0227",
    "idx": 6,
    "time": "2021-02-01T04:08:34.960Z",
    "type": "execution"
   },
   {
    "id": "4dfc9651ae964cdba75e43b9ef9d3b08",
    "time": "2021-02-01T04:08:42.192Z",
    "type": "completion"
   },
   {
    "id": "509cda6db24c4ba28b083bd03b08ed3b",
    "time": "2021-02-01T04:08:42.343Z",
    "type": "completion"
   },
   {
    "id": "1e53930b40a24df39dea87eeb04e350a",
    "time": "2021-02-01T04:08:52.515Z",
    "type": "completion"
   },
   {
    "id": "9000c267d5414119af203919238d8cf6",
    "time": "2021-02-01T04:08:52.787Z",
    "type": "completion"
   },
   {
    "id": "504f341d9cc64f8990aa9b3afbc647db",
    "time": "2021-02-01T04:08:52.791Z",
    "type": "completion"
   },
   {
    "id": "6375a2fe895d4ecfab6403a0bb2b46fa",
    "time": "2021-02-01T04:08:52.796Z",
    "type": "completion"
   },
   {
    "id": "eb8eb124f4e44f4385fef914d48b0227",
    "time": "2021-02-01T04:08:52.797Z",
    "type": "completion"
   },
   {
    "code": "#pandas manipulations example\npop_df.loc['Philippines']",
    "id": "9000c267d5414119af203919238d8cf6",
    "idx": 3,
    "time": "2021-02-01T04:09:09.464Z",
    "type": "execution"
   },
   {
    "id": "9000c267d5414119af203919238d8cf6",
    "time": "2021-02-01T04:09:09.678Z",
    "type": "completion"
   },
   {
    "code": "#A1 population function\ndef population(year, persons, age_range, location):\n    \"\"\"A python function named population that will deliver information to answer the queries\n    of the following form: In [year] how many [people/males/females] aged [low] to [high] were living in [the\n    world/region/country]?\n    \n    location (str): name of country, income level, world location, etc.\n    sex (str): a string FE (female), MA (male), or all\n    age_range (str): none, 0004 (Population ages 00-04), 0014 (Population ages 0-14), etc etc\n    \n    Returns a population from wbdata of a location given year, persons, and age range.\n    \"\"\"\n    if age_range == 'none':\n        if persons == 'FE':\n            variables = {'SP.POP.TOTL.FE.IN':'Pop'}\n        elif persons == 'MA':\n            variables = {'SP.POP.TOTL.MA.IN':'Pop'}\n        else:\n            variables = {'SP.POP.TOTL':'Pop'}\n\n    if age_range == '0004':\n        if persons == 'FE':\n            variables = {'SP.POP.0004.FE' : 'Pop'}\n        elif persons == 'MA':\n            variables = {'SP.POP.0004.MA' : 'Pop'}\n        \n    if age_range == '0014':\n        if persons == 'FE':\n            variables = {'SP.POP.0014.FE' : 'Pop'}\n        elif persons == 'MA':\n            variables = {'SP.POP.0014.MA' : 'Pop'}\n        \n    if age_range == '0509':\n        if persons == 'FE':\n            variables = {'SP.POP.0509.FE' : 'Pop'}\n        elif persons == 'MA':\n            variables = {'SP.POP.0509.MA' : 'Pop'}\n        \n    if age_range == '1014':\n        if persons == 'FE':\n            variables = {'SP.POP.1014.FE' : 'Pop'}\n        elif persons == 'MA':\n            variables = {'SP.POP.1014.MA' : 'Pop'}\n        \n    if age_range == '1519':\n        if persons == 'FE':\n            variables = {'SP.POP.1519.FE' : 'Pop'}\n        elif persons == 'MA':\n            variables = {'SP.POP.1519.MA' : 'Pop'}\n\n    if age_range == '1564':\n        if persons == 'FE':\n            variables = {'SP.POP.1564.FE' : 'Pop'}\n        elif persons == 'MA':\n            variables = {'SP.POP.1564.MA': 'Pop'}\n        \n    if age_range == '2024':\n        if persons == 'FE':\n            variables = {'SP.POP.2024.FE' : 'Pop'}\n        elif persons == 'MA':\n            variables = {'SP.POP.2024.MA' : 'Pop'}\n        \n    if age_range == '2529':\n        if persons == 'FE':\n            variables = {'SP.POP.2529.FE' : 'Pop'}\n        elif persons == 'MA':\n            variables = {'SP.POP.2529.MA' : 'Pop'}\n        \n    if age_range == '3034':\n        if persons == 'FE':\n            variables = {'SP.POP.3034.FE' : 'Pop'}\n        elif persons == 'MA':\n            variables = {'SP.POP.3034.MA' : 'Pop'}\n        \n    if age_range == '3539':\n        if persons == 'FE':\n            variables = {'SP.POP.3539.FE' : 'Pop'}\n        elif persons == 'MA':\n            variables = {'SP.POP.3539.MA' : 'Pop'}\n        \n    if age_range == '4044':\n        if persons == 'FE':\n            variables = {'SP.POP.4044.FE' : 'Pop'}\n        elif persons == 'MA':\n            variables = {'SP.POP.4044.MA' : 'Pop'}\n        \n    if age_range == '4549':\n        if persons == 'FE':\n            variables = {'SP.POP.4549.FE' : 'Pop'}\n        elif persons == 'MA':\n            variables = {'SP.POP.4549.MA' : 'Pop'}\n        \n    if age_range == '5054':\n        if persons == 'FE':\n            variables = {'SP.POP.5054.FE' : 'Pop'}\n        elif persons == 'MA':\n            variables = {'SP.POP.5054.MA' : 'Pop'}\n        \n    if age_range == '5559':\n        if persons == 'FE':\n            variables = {'SP.POP.5559.FE' : 'Pop'}\n        elif persons == 'MA':\n            variables = {'SP.POP.5559.MA' : 'Pop'}\n        \n    if age_range == '6064':\n        if persons == 'FE':\n            variables = {'SP.POP.6064.FE' : 'Pop'}\n        elif persons == 'MA':\n            variables = {'SP.POP.6064.MA' : 'Pop'}\n        \n    if age_range == '6569':\n        if persons == 'FE':\n            variables = {'SP.POP.6569.FE' : 'Pop'}\n        elif persons == 'MA':\n            variables = {'SP.POP.6569.MA' : 'Pop'}\n        \n    if age_range == '65UP':\n        if persons == 'FE':\n            variables = {'SP.POP.65UP.FE' : 'Pop'}\n        elif persons == 'MA':\n            variables = {'SP.POP.65UP.MA' : 'Pop'}\n        \n    if age_range == '7074':\n        if persons == 'FE':\n            variables = {'SP.POP.7074.FE' : 'Pop'}\n        elif persons == 'MA':\n            variables = {'SP.POP.7074.MA' : 'Pop'}\n        \n    if age_range == '7579':\n        if persons == 'FE':\n            variables = {'SP.POP.7579.FE' : 'Pop'}\n        elif persons == 'MA':\n            variables = {'SP.POP.7579.MA' : 'Pop'}\n        \n    if age_range == '80UP':\n        if persons == 'FE':\n            variables = {'SP.POP.80UP.FE' : 'Pop'}\n        elif persons == 'MA':\n            variables = {'SP.POP.80UP.MA' : 'Pop'}\n        \n    #Converts location parameter to a wbdata 3 letter id\n    name_dict = dict()\n    for i in range(len(wbdata.search_countries(\"\"))):\n        id = wbdata.search_countries(\"\")[i][\"id\"]\n        country = wbdata.search_countries(\"\")[i][\"name\"]\n        name_dict[country] = id\n\n    countries = {name_dict.get(location)}\n    df = wbdata.get_dataframe(variables, country=countries)\n    \n    return df.loc[year][0]",
    "id": "504f341d9cc64f8990aa9b3afbc647db",
    "idx": 4,
    "time": "2021-02-01T04:09:11.001Z",
    "type": "execution"
   },
   {
    "id": "504f341d9cc64f8990aa9b3afbc647db",
    "time": "2021-02-01T04:09:11.199Z",
    "type": "completion"
   },
   {
    "code": "population('2017', 'MA','2529','Azerbaijan') / population('2017', 'all', 'none', 'Azerbaijan')",
    "id": "6375a2fe895d4ecfab6403a0bb2b46fa",
    "idx": 5,
    "time": "2021-02-01T04:09:11.719Z",
    "type": "execution"
   },
   {
    "code": "population('1998', 'FE', 'none', 'Philippines') ",
    "id": "eb8eb124f4e44f4385fef914d48b0227",
    "idx": 6,
    "time": "2021-02-01T04:09:12.156Z",
    "type": "execution"
   },
   {
    "id": "6375a2fe895d4ecfab6403a0bb2b46fa",
    "time": "2021-02-01T04:09:14.132Z",
    "type": "completion"
   },
   {
    "id": "eb8eb124f4e44f4385fef914d48b0227",
    "time": "2021-02-01T04:09:15.240Z",
    "type": "completion"
   }
  ],
  "kernelspec": {
   "display_name": "Python 3",
   "language": "python",
   "name": "python3"
  },
  "language_info": {
   "codemirror_mode": {
    "name": "ipython",
    "version": 3
   },
   "file_extension": ".py",
   "mimetype": "text/x-python",
   "name": "python",
   "nbconvert_exporter": "python",
   "pygments_lexer": "ipython3",
   "version": "3.8.6"
  }
 },
 "nbformat": 4,
 "nbformat_minor": 4
}
