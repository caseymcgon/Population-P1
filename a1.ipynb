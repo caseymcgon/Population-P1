{
 "cells": [
  {
   "cell_type": "raw",
   "metadata": {},
   "source": [
    "!pip install wbdata\n",
    "import wbdata\n",
    "!pip install cufflinks\n",
    "import cufflinks as cf"
   ]
  },
  {
   "cell_type": "raw",
   "metadata": {},
   "source": [
    "def population(year, persons, age_range, location):\n",
    "    \"\"\"A python function named population that will deliver information to answer the queries\n",
    "    of the following form: In [year] how many [people/males/females] aged [low] to [high] were living in [the\n",
    "    world/region/country]?\n",
    "    \n",
    "    location (str): name of country, income level, world location, etc.\n",
    "    sex (str): a string FE (female), MA (male), or all\n",
    "    age_range (str): none, 0004 (Population ages 00-04), 0014 (Population ages 0-14), etc etc\n",
    "    \"\"\"\n",
    "    if age_range == 'none':\n",
    "        if persons == 'FE':\n",
    "            variables = {'SP.POP.TOTL.FE.IN':'Pop'}\n",
    "        elif persons == 'MA':\n",
    "            variables = {'SP.POP.TOTL.MA.IN':'Pop'}\n",
    "        else:\n",
    "            variables = {'SP.POP.TOTL':'Pop'}\n",
    "    elif age_range == '0014':\n",
    "        if persons == 'FE':\n",
    "        \n",
    "    #Converts location parameter to a wbdata 3 letter id\n",
    "    name_dict = dict()\n",
    "    for i in range(len(wbdata.search_countries(\"\"))):\n",
    "        id = wbdata.search_countries(\"\")[i][\"id\"]\n",
    "        country = wbdata.search_countries(\"\")[i][\"name\"]\n",
    "        name_dict[country] = id\n",
    "\n",
    "    countries = {name_dict.get(location)}\n",
    "    df = wbdata.get_dataframe(variables, country=countries)\n",
    "    return df.loc[year][0]"
   ]
  },
  {
   "cell_type": "raw",
   "metadata": {},
   "source": [
    "population('1998', 'FE', 'none', 'Philippines') #maybe make population fn output a string sentence such as\n",
    "                                                # 'The population for [country] in [year] was xxxxx'?"
   ]
  },
  {
   "cell_type": "raw",
   "metadata": {},
   "source": [
    "SOURCE = 40 # \"Population estimates and projections\n",
    "indicators = wbdata.get_indicator(source=SOURCE)\n",
    "indicators"
   ]
  },
  {
   "cell_type": "raw",
   "metadata": {},
   "source": [
    "variable_labels = {\"SP.POP.TOTL\":\"Total Population\",\n",
    "                   \"SP.POP.TOTL.FE.IN\":\"Female Population\",\n",
    "                   \"SP.POP.TOTL.MA.IN\":\"Male Population\",\n",
    "                   \n",
    "                   \"SP.POP.0014.FE.IN\":\"Females (0-14)\",\n",
    "                   \"SP.POP.0014.MA.IN\":\"Males (0-14)\",\n",
    "                   \n",
    "                   \"SP.POP.1564.FE.IN\":\"Females (15-64)\",\n",
    "                   \"SP.POP.1564.MA.IN\":\"Males (15-64)\",\n",
    "\n",
    "                   \"SP.POP.65UP.FE.IN\":\"Females (65+)\", \n",
    "                   \"SP.POP.65UP.MA.IN\":\"Males (65+)\", \n",
    "                   \n",
    "                   \"SP.POP.0004.FE\":\"Females (0-4)\",\n",
    "                   \"SP.POP.0004.MA\":\"Males (0-4)\",\n",
    "                   \n",
    "                   \"SP.POP.0509.FE\":\"Females (5-9)\",\n",
    "                   \"SP.POP.0509.MA\":\"Males (5-9)\",\n",
    "                   \n",
    "                   \"SP.POP.1014.FE\":\"Females (10-14)\",\n",
    "                   \"SP.POP.1014.MA\":\"Males (10-14)\",\n",
    "                   \n",
    "                   \"SP.POP.1519.FE\":\"Females (15-19)\",\n",
    "                   \"SP.POP.1519.MA\":\"Males (15-19)\",\n",
    "                   \n",
    "                   \"SP.POP.2024.FE\":\"Females (20-24)\",\n",
    "                   \"SP.POP.2024.MA\":\"Males (20-24)\",\n",
    "                   \n",
    "                   \"SP.POP.2529.FE\":\"Females (25-29)\",\n",
    "                   \"SP.POP.2529.MA\":\"Males (25-29)\",\n",
    "                   \n",
    "                   \"SP.POP.3034.FE\":\"Females (30-34)\",\n",
    "                   \"SP.POP.3034.MA\":\"Males (30-34)\",\n",
    "                   \n",
    "                   \"SP.POP.3539.FE\":\"Females (35-39)\",\n",
    "                   \"SP.POP.3539.MA\":\"Males (35-39)\",\n",
    "                   \n",
    "                   \"SP.POP.4044.FE\":\"Females (40-44)\",\n",
    "                   \"SP.POP.4044.MA\":\"Males (40-44)\",\n",
    "                   \n",
    "                   \"SP.POP.4549.FE\":\"Females (45-49)\",\n",
    "                   \"SP.POP.4549.MA\":\"Males (45-49)\",\n",
    "                   \n",
    "                   \"SP.POP.5054.FE\":\"Females (50-54)\",\n",
    "                   \"SP.POP.5054.MA\":\"Males (50-54)\",\n",
    "                   \n",
    "                   \"SP.POP.5559.FE\":\"Females (55-59)\",\n",
    "                   \"SP.POP.5559.MA\":\"Males (55-59)\",\n",
    "                   \n",
    "                   \"SP.POP.6064.FE\":\"Females (60-64)\",\n",
    "                   \"SP.POP.6064.MA\":\"Males (60-64)\",\n",
    "                   \n",
    "                   \"SP.POP.6569.FE\":\"Females (65-69)\",\n",
    "                   \"SP.POP.6569.MA\":\"Males (65-69)\",\n",
    "                   \n",
    "                   \"SP.POP.7074.FE\":\"Females (70-74)\",\n",
    "                   \"SP.POP.7074.MA\":\"Males (70-74)\",\n",
    "                \n",
    "                   \"SP.POP.7579.FE\":\"Females (75-79)\",\n",
    "                   \"SP.POP.7579.MA\":\"Males (75-79)\",\n",
    "                   \n",
    "                   \"SP.POP.80UP.FE\":\"Females (80+)\",\n",
    "                   \"SP.POP.80UP.MA\":\"Males (80+)\" \n",
    "                   \n",
    "                  }\n",
    "world = wbdata.get_dataframe(variable_labels, country=\"\")\n",
    "world.head()"
   ]
  },
  {
   "cell_type": "raw",
   "metadata": {},
   "source": [
    "name_dict = dict()\n",
    "for i in range(len(wbdata.search_countries(\"\"))):\n",
    "    id = wbdata.search_countries(\"\")[i][\"id\"]\n",
    "    country = wbdata.search_countries(\"\")[i][\"name\"]\n",
    "    name_dict[country] = id\n",
    "name_dict.get('Philippines')"
   ]
  },
  {
   "cell_type": "raw",
   "metadata": {
    "scrolled": false
   },
   "source": [
    "variables = {\"SP.POP.TOTL\":'Population'}\n",
    "countries = {name_dict.get('Philippines')}\n",
    "df = wbdata.get_dataframe(variables, country=countries, convert_date=False)\n",
    "df"
   ]
  },
  {
   "cell_type": "raw",
   "metadata": {},
   "source": [
    "df.index"
   ]
  },
  {
   "cell_type": "raw",
   "metadata": {},
   "source": [
    "df.loc['2018'][0]"
   ]
  },
  {
   "cell_type": "raw",
   "metadata": {},
   "source": []
  },
  {
   "cell_type": "raw",
   "metadata": {},
   "source": []
  }
 ],
 "metadata": {
  "history": [
   {
    "code": "import wbdata, import cufflinks as cf",
    "id": "f35b1a33b1474ee7ac4effae04610da1",
    "idx": 0,
    "time": "2021-01-25T23:08:12.395Z",
    "type": "execution"
   },
   {
    "id": "f35b1a33b1474ee7ac4effae04610da1",
    "time": "2021-01-25T23:08:12.499Z",
    "type": "completion"
   },
   {
    "code": "import wbdata, cufflinks as cf",
    "id": "f35b1a33b1474ee7ac4effae04610da1",
    "idx": 0,
    "time": "2021-01-25T23:08:20.049Z",
    "type": "execution"
   },
   {
    "id": "f35b1a33b1474ee7ac4effae04610da1",
    "time": "2021-01-25T23:08:22.022Z",
    "type": "completion"
   },
   {
    "code": "import wbdata\nimport cufflinks as cf",
    "id": "f35b1a33b1474ee7ac4effae04610da1",
    "idx": 0,
    "time": "2021-01-25T23:08:29.959Z",
    "type": "execution"
   },
   {
    "id": "f35b1a33b1474ee7ac4effae04610da1",
    "time": "2021-01-25T23:08:30.046Z",
    "type": "completion"
   },
   {
    "code": "SOURCE = 40 # \"Population estimates and projections\nindicators = wbdata.get_indicator(source=SOURCE)",
    "id": "0f4e77ba0a0c4f3d925f75b7c39fb948",
    "idx": 2,
    "time": "2021-01-25T23:46:54.738Z",
    "type": "execution"
   },
   {
    "id": "0f4e77ba0a0c4f3d925f75b7c39fb948",
    "time": "2021-01-25T23:46:54.833Z",
    "type": "completion"
   },
   {
    "code": "df = wbdata.get_dataframe(variable_labels, country = countries)",
    "id": "342b275b3ab043938c8130b593a433de",
    "idx": 3,
    "time": "2021-01-25T23:46:58.163Z",
    "type": "execution"
   },
   {
    "id": "342b275b3ab043938c8130b593a433de",
    "time": "2021-01-25T23:46:58.410Z",
    "type": "completion"
   },
   {
    "code": "df = wbdata.get_dataframe()",
    "id": "342b275b3ab043938c8130b593a433de",
    "idx": 3,
    "time": "2021-01-25T23:47:09.424Z",
    "type": "execution"
   },
   {
    "id": "342b275b3ab043938c8130b593a433de",
    "time": "2021-01-25T23:47:09.541Z",
    "type": "completion"
   },
   {
    "code": "df = wbdata.get_dataframe(indicators= indicators)",
    "id": "342b275b3ab043938c8130b593a433de",
    "idx": 3,
    "time": "2021-01-25T23:47:21.115Z",
    "type": "execution"
   },
   {
    "id": "342b275b3ab043938c8130b593a433de",
    "time": "2021-01-25T23:47:21.248Z",
    "type": "completion"
   },
   {
    "code": "wbdata.search_countries",
    "id": "90e0d7bd124043d286303f6fa0d85a58",
    "idx": 3,
    "time": "2021-01-25T23:54:22.433Z",
    "type": "execution"
   },
   {
    "id": "90e0d7bd124043d286303f6fa0d85a58",
    "time": "2021-01-25T23:54:22.542Z",
    "type": "completion"
   },
   {
    "code": "wbdata.search_countries('Philippines')",
    "id": "90e0d7bd124043d286303f6fa0d85a58",
    "idx": 3,
    "time": "2021-01-25T23:55:34.360Z",
    "type": "execution"
   },
   {
    "id": "90e0d7bd124043d286303f6fa0d85a58",
    "time": "2021-01-25T23:55:34.461Z",
    "type": "completion"
   },
   {
    "code": "type(wbdata.search_countries('Philippines'))",
    "id": "90e0d7bd124043d286303f6fa0d85a58",
    "idx": 3,
    "time": "2021-01-25T23:55:52.722Z",
    "type": "execution"
   },
   {
    "id": "90e0d7bd124043d286303f6fa0d85a58",
    "time": "2021-01-25T23:55:52.821Z",
    "type": "completion"
   },
   {
    "code": "wbdata.search_countries('Philippines')",
    "id": "90e0d7bd124043d286303f6fa0d85a58",
    "idx": 3,
    "time": "2021-01-25T23:55:58.315Z",
    "type": "execution"
   },
   {
    "id": "90e0d7bd124043d286303f6fa0d85a58",
    "time": "2021-01-25T23:55:58.422Z",
    "type": "completion"
   },
   {
    "code": "wbdata.search_countries('Philippines')[0]",
    "id": "90e0d7bd124043d286303f6fa0d85a58",
    "idx": 3,
    "time": "2021-01-25T23:56:02.983Z",
    "type": "execution"
   },
   {
    "id": "90e0d7bd124043d286303f6fa0d85a58",
    "time": "2021-01-25T23:56:03.081Z",
    "type": "completion"
   },
   {
    "code": "wbdata.search_countries('Philippines')[0][0]",
    "id": "90e0d7bd124043d286303f6fa0d85a58",
    "idx": 3,
    "time": "2021-01-25T23:56:10.279Z",
    "type": "execution"
   },
   {
    "id": "90e0d7bd124043d286303f6fa0d85a58",
    "time": "2021-01-25T23:56:10.407Z",
    "type": "completion"
   },
   {
    "code": "wbdata.search_countries('Philippines')[0][1]",
    "id": "90e0d7bd124043d286303f6fa0d85a58",
    "idx": 3,
    "time": "2021-01-25T23:56:16.401Z",
    "type": "execution"
   },
   {
    "id": "90e0d7bd124043d286303f6fa0d85a58",
    "time": "2021-01-25T23:56:16.503Z",
    "type": "completion"
   },
   {
    "code": "wbdata.search_countries('Philippines')[0]",
    "id": "90e0d7bd124043d286303f6fa0d85a58",
    "idx": 3,
    "time": "2021-01-25T23:56:19.795Z",
    "type": "execution"
   },
   {
    "id": "90e0d7bd124043d286303f6fa0d85a58",
    "time": "2021-01-25T23:56:19.900Z",
    "type": "completion"
   },
   {
    "code": "wbdata.search_countries('Philippines')['id']",
    "id": "90e0d7bd124043d286303f6fa0d85a58",
    "idx": 3,
    "time": "2021-01-25T23:56:28.578Z",
    "type": "execution"
   },
   {
    "id": "90e0d7bd124043d286303f6fa0d85a58",
    "time": "2021-01-25T23:56:28.686Z",
    "type": "completion"
   },
   {
    "code": "wbdata.search_countries('Philippines')[1]",
    "id": "90e0d7bd124043d286303f6fa0d85a58",
    "idx": 3,
    "time": "2021-01-25T23:56:36.999Z",
    "type": "execution"
   },
   {
    "id": "90e0d7bd124043d286303f6fa0d85a58",
    "time": "2021-01-25T23:56:37.109Z",
    "type": "completion"
   },
   {
    "code": "wbdata.search_countries('Philippines')[0]",
    "id": "90e0d7bd124043d286303f6fa0d85a58",
    "idx": 3,
    "time": "2021-01-25T23:56:40.990Z",
    "type": "execution"
   },
   {
    "id": "90e0d7bd124043d286303f6fa0d85a58",
    "time": "2021-01-25T23:56:41.086Z",
    "type": "completion"
   },
   {
    "code": "wbdata.search_countries('Philippines')",
    "id": "90e0d7bd124043d286303f6fa0d85a58",
    "idx": 3,
    "time": "2021-01-25T23:57:04.965Z",
    "type": "execution"
   },
   {
    "id": "90e0d7bd124043d286303f6fa0d85a58",
    "time": "2021-01-25T23:57:05.063Z",
    "type": "completion"
   },
   {
    "code": "name_dict = dict()\nfor i in range(len(wbdata.search_countries(\"\"))):\n    id = wbdata.search_countries(\"\")[i][\"id\"]\n    country = wbdata.search_countries(\"\")[i][\"name\"]\n    name_dict[country] = id",
    "id": "0c6837721e1c41bd87532bd9860d5bcc",
    "idx": 3,
    "time": "2021-01-26T00:16:17.901Z",
    "type": "execution"
   },
   {
    "id": "0c6837721e1c41bd87532bd9860d5bcc",
    "time": "2021-01-26T00:16:19.127Z",
    "type": "completion"
   },
   {
    "code": "name_dict = dict()\nfor i in range(len(wbdata.search_countries(\"\"))):\n    id = wbdata.search_countries(\"\")[i][\"id\"]\n    country = wbdata.search_countries(\"\")[i][\"name\"]\n    name_dict[country] = id\nname_dict",
    "id": "0c6837721e1c41bd87532bd9860d5bcc",
    "idx": 3,
    "time": "2021-01-26T00:16:26.750Z",
    "type": "execution"
   },
   {
    "id": "0c6837721e1c41bd87532bd9860d5bcc",
    "time": "2021-01-26T00:16:28.111Z",
    "type": "completion"
   },
   {
    "code": "variables = SP.POP.TOTL    \ndf = wbdata.get_dataframe(variables, country=PHL)\ndf",
    "id": "0dfcbe9d9561418883c71f5b21988f26",
    "idx": 4,
    "time": "2021-01-26T00:25:17.858Z",
    "type": "execution"
   },
   {
    "id": "0dfcbe9d9561418883c71f5b21988f26",
    "time": "2021-01-26T00:25:17.968Z",
    "type": "completion"
   },
   {
    "code": "variables = SP.POP.TOTL   \ndf = wbdata.get_dataframe(variables, country=PHL)\ndf",
    "id": "0dfcbe9d9561418883c71f5b21988f26",
    "idx": 4,
    "time": "2021-01-26T00:28:48.342Z",
    "type": "execution"
   },
   {
    "id": "0dfcbe9d9561418883c71f5b21988f26",
    "time": "2021-01-26T00:28:48.445Z",
    "type": "completion"
   },
   {
    "code": "variables = {\"SP.POP.TOTL\"}\ndf = wbdata.get_dataframe(variables, country=PHL)\ndf",
    "id": "0dfcbe9d9561418883c71f5b21988f26",
    "idx": 4,
    "time": "2021-01-26T00:30:12.389Z",
    "type": "execution"
   },
   {
    "id": "0dfcbe9d9561418883c71f5b21988f26",
    "time": "2021-01-26T00:30:12.490Z",
    "type": "completion"
   },
   {
    "code": "variables = {\"SP.POP.TOTL\"}\ndf = wbdata.get_dataframe(variables, country='PHL')\ndf",
    "id": "0dfcbe9d9561418883c71f5b21988f26",
    "idx": 4,
    "time": "2021-01-26T00:30:17.915Z",
    "type": "execution"
   },
   {
    "id": "0dfcbe9d9561418883c71f5b21988f26",
    "time": "2021-01-26T00:30:18.070Z",
    "type": "completion"
   },
   {
    "code": "variables = {\"SP.POP.TOTL\"}\ncountries = {'PHL'}\ndf = wbdata.get_dataframe(variables, country=countries)\ndf",
    "id": "0dfcbe9d9561418883c71f5b21988f26",
    "idx": 4,
    "time": "2021-01-26T00:30:42.590Z",
    "type": "execution"
   },
   {
    "id": "0dfcbe9d9561418883c71f5b21988f26",
    "time": "2021-01-26T00:30:42.829Z",
    "type": "completion"
   },
   {
    "code": "variables = {\"SP.POP.TOTL\":'Pop'}\ncountries = {'PHL':'country'}\ndf = wbdata.get_dataframe(variables, country=countries)\ndf",
    "id": "0dfcbe9d9561418883c71f5b21988f26",
    "idx": 4,
    "time": "2021-01-26T00:32:11.865Z",
    "type": "execution"
   },
   {
    "id": "0dfcbe9d9561418883c71f5b21988f26",
    "time": "2021-01-26T00:32:12.375Z",
    "type": "completion"
   },
   {
    "code": "variables = {\"SP.POP.TOTL\":'Pop'}\ncountries = {'PHL':'country'}\ndf = wbdata.get_dataframe(variables, country=countries)\ndf.squeeze()",
    "id": "0dfcbe9d9561418883c71f5b21988f26",
    "idx": 4,
    "time": "2021-01-26T00:34:16.475Z",
    "type": "execution"
   },
   {
    "id": "0dfcbe9d9561418883c71f5b21988f26",
    "time": "2021-01-26T00:34:16.572Z",
    "type": "completion"
   },
   {
    "code": "variables = {\"SP.POP.TOTL\":'Pop'}\ncountries = {'PHL'}\ndf = wbdata.get_dataframe(variables, country=countries)\ndf.squeeze()",
    "id": "0dfcbe9d9561418883c71f5b21988f26",
    "idx": 4,
    "time": "2021-01-26T00:35:40.421Z",
    "type": "execution"
   },
   {
    "id": "0dfcbe9d9561418883c71f5b21988f26",
    "time": "2021-01-26T00:35:40.571Z",
    "type": "completion"
   },
   {
    "code": "variables = {\"SP.POP.TOTL\"}\ncountries = {'PHL'}\ndf = wbdata.get_dataframe(variables, country=countries)\ndf.squeeze()",
    "id": "0dfcbe9d9561418883c71f5b21988f26",
    "idx": 4,
    "time": "2021-01-26T00:35:48.918Z",
    "type": "execution"
   },
   {
    "id": "0dfcbe9d9561418883c71f5b21988f26",
    "time": "2021-01-26T00:35:49.101Z",
    "type": "completion"
   },
   {
    "code": "variables = {\"SP.POP.TOTL\":'Population'}\ncountries = {'PHL'}\ndf = wbdata.get_dataframe(variables, country=countries)\ndf.squeeze()",
    "id": "0dfcbe9d9561418883c71f5b21988f26",
    "idx": 4,
    "time": "2021-01-26T00:35:59.099Z",
    "type": "execution"
   },
   {
    "id": "0dfcbe9d9561418883c71f5b21988f26",
    "time": "2021-01-26T00:35:59.193Z",
    "type": "completion"
   },
   {
    "code": "wbdata.search_countries('South Korea')",
    "id": "3bf24e6fee9d45198496a3275fdf68e7",
    "idx": 5,
    "time": "2021-01-26T00:36:15.857Z",
    "type": "execution"
   },
   {
    "id": "3bf24e6fee9d45198496a3275fdf68e7",
    "time": "2021-01-26T00:36:15.973Z",
    "type": "completion"
   },
   {
    "code": "wbdata.search_countries('Korea')",
    "id": "3bf24e6fee9d45198496a3275fdf68e7",
    "idx": 5,
    "time": "2021-01-26T00:36:19.763Z",
    "type": "execution"
   },
   {
    "id": "3bf24e6fee9d45198496a3275fdf68e7",
    "time": "2021-01-26T00:36:19.853Z",
    "type": "completion"
   },
   {
    "code": "variables = {\"SP.POP.TOTL\":'Population'}\ncountries = {'KOR'}\ndf = wbdata.get_dataframe(variables, country=countries)\ndf.squeeze()",
    "id": "0dfcbe9d9561418883c71f5b21988f26",
    "idx": 4,
    "time": "2021-01-26T00:36:39.187Z",
    "type": "execution"
   },
   {
    "id": "0dfcbe9d9561418883c71f5b21988f26",
    "time": "2021-01-26T00:36:39.821Z",
    "type": "completion"
   },
   {
    "code": "name_dict = dict()\nfor i in range(len(wbdata.search_countries(\"\"))):\n    id = wbdata.search_countries(\"\")[i][\"id\"]\n    country = wbdata.search_countries(\"\")[i][\"name\"]\n    name_dict[country] = id\nname_dict('Aruba')",
    "id": "0c6837721e1c41bd87532bd9860d5bcc",
    "idx": 3,
    "time": "2021-01-26T00:40:10.984Z",
    "type": "execution"
   },
   {
    "id": "0c6837721e1c41bd87532bd9860d5bcc",
    "time": "2021-01-26T00:40:12.203Z",
    "type": "completion"
   },
   {
    "code": "name_dict = dict()\nfor i in range(len(wbdata.search_countries(\"\"))):\n    id = wbdata.search_countries(\"\")[i][\"id\"]\n    country = wbdata.search_countries(\"\")[i][\"name\"]\n    name_dict[country] = id\nname_dict.get('Philippines')",
    "id": "0c6837721e1c41bd87532bd9860d5bcc",
    "idx": 3,
    "time": "2021-01-26T00:41:15.431Z",
    "type": "execution"
   },
   {
    "id": "0c6837721e1c41bd87532bd9860d5bcc",
    "time": "2021-01-26T00:41:16.717Z",
    "type": "completion"
   },
   {
    "code": "variables = {\"SP.POP.TOTL\":'Population'}\ncountries = {name_dict.get('Philippines')}\ndf = wbdata.get_dataframe(variables, country=countries)\ndf.squeeze()",
    "id": "0dfcbe9d9561418883c71f5b21988f26",
    "idx": 5,
    "time": "2021-01-26T00:42:04.845Z",
    "type": "execution"
   },
   {
    "id": "0dfcbe9d9561418883c71f5b21988f26",
    "time": "2021-01-26T00:42:04.948Z",
    "type": "completion"
   },
   {
    "code": "df['date'=='2018']",
    "id": "e3eaa761ef16448fa657de8207ac6c18",
    "idx": 6,
    "time": "2021-01-26T00:43:19.130Z",
    "type": "execution"
   },
   {
    "id": "e3eaa761ef16448fa657de8207ac6c18",
    "time": "2021-01-26T00:43:19.321Z",
    "type": "completion"
   },
   {
    "code": "df[df['date'=='2018']]",
    "id": "e3eaa761ef16448fa657de8207ac6c18",
    "idx": 6,
    "time": "2021-01-26T00:43:33.069Z",
    "type": "execution"
   },
   {
    "id": "e3eaa761ef16448fa657de8207ac6c18",
    "time": "2021-01-26T00:43:33.234Z",
    "type": "completion"
   },
   {
    "code": "df[df[date=='2018']]",
    "id": "e3eaa761ef16448fa657de8207ac6c18",
    "idx": 6,
    "time": "2021-01-26T00:43:44.276Z",
    "type": "execution"
   },
   {
    "id": "e3eaa761ef16448fa657de8207ac6c18",
    "time": "2021-01-26T00:43:44.378Z",
    "type": "completion"
   },
   {
    "code": "df[df['date'==2018]]",
    "id": "e3eaa761ef16448fa657de8207ac6c18",
    "idx": 6,
    "time": "2021-01-26T00:43:52.920Z",
    "type": "execution"
   },
   {
    "id": "e3eaa761ef16448fa657de8207ac6c18",
    "time": "2021-01-26T00:43:53.083Z",
    "type": "completion"
   },
   {
    "code": "df[df['date'=2018]]",
    "id": "e3eaa761ef16448fa657de8207ac6c18",
    "idx": 6,
    "time": "2021-01-26T00:44:15.569Z",
    "type": "execution"
   },
   {
    "id": "e3eaa761ef16448fa657de8207ac6c18",
    "time": "2021-01-26T00:44:15.675Z",
    "type": "completion"
   },
   {
    "code": "df[df['date'=='2018']]",
    "id": "e3eaa761ef16448fa657de8207ac6c18",
    "idx": 6,
    "time": "2021-01-26T00:44:25.259Z",
    "type": "execution"
   },
   {
    "id": "e3eaa761ef16448fa657de8207ac6c18",
    "time": "2021-01-26T00:44:25.420Z",
    "type": "completion"
   },
   {
    "code": "variables = {\"SP.POP.TOTL\":'Population'}\ncountries = {name_dict.get('Philippines')}\ndf = wbdata.get_dataframe(variables, country=countries, convert_date=False)\ndf.squeeze()",
    "id": "0dfcbe9d9561418883c71f5b21988f26",
    "idx": 5,
    "time": "2021-01-26T00:44:47.059Z",
    "type": "execution"
   },
   {
    "id": "0dfcbe9d9561418883c71f5b21988f26",
    "time": "2021-01-26T00:44:47.173Z",
    "type": "completion"
   },
   {
    "code": "df[df['date'=='2018']]",
    "id": "e3eaa761ef16448fa657de8207ac6c18",
    "idx": 6,
    "time": "2021-01-26T00:44:49.296Z",
    "type": "execution"
   },
   {
    "id": "e3eaa761ef16448fa657de8207ac6c18",
    "time": "2021-01-26T00:44:49.453Z",
    "type": "completion"
   },
   {
    "code": "variables = {\"SP.POP.TOTL\":'Population'}\ncountries = {name_dict.get('Philippines')}\ndf = wbdata.get_dataframe(variables, country=countries, convert_date=False)\ntype(df.squeeze())",
    "id": "0dfcbe9d9561418883c71f5b21988f26",
    "idx": 5,
    "time": "2021-01-26T00:44:58.509Z",
    "type": "execution"
   },
   {
    "id": "0dfcbe9d9561418883c71f5b21988f26",
    "time": "2021-01-26T00:44:58.604Z",
    "type": "completion"
   },
   {
    "code": "variables = {\"SP.POP.TOTL\":'Population'}\ncountries = {name_dict.get('Philippines')}\ndf = wbdata.get_dataframe(variables, country=countries, convert_date=False)\ndf.squeeze()",
    "id": "0dfcbe9d9561418883c71f5b21988f26",
    "idx": 5,
    "time": "2021-01-26T00:45:04.041Z",
    "type": "execution"
   },
   {
    "id": "0dfcbe9d9561418883c71f5b21988f26",
    "time": "2021-01-26T00:45:04.141Z",
    "type": "completion"
   },
   {
    "code": "df[df['date'==2018]]",
    "id": "e3eaa761ef16448fa657de8207ac6c18",
    "idx": 6,
    "time": "2021-01-26T00:45:19.933Z",
    "type": "execution"
   },
   {
    "id": "e3eaa761ef16448fa657de8207ac6c18",
    "time": "2021-01-26T00:45:20.108Z",
    "type": "completion"
   },
   {
    "code": "df[df['2018']]",
    "id": "e3eaa761ef16448fa657de8207ac6c18",
    "idx": 6,
    "time": "2021-01-26T00:45:31.563Z",
    "type": "execution"
   },
   {
    "id": "e3eaa761ef16448fa657de8207ac6c18",
    "time": "2021-01-26T00:45:31.736Z",
    "type": "completion"
   },
   {
    "code": "df['2018']",
    "id": "e3eaa761ef16448fa657de8207ac6c18",
    "idx": 6,
    "time": "2021-01-26T00:45:39.737Z",
    "type": "execution"
   },
   {
    "id": "e3eaa761ef16448fa657de8207ac6c18",
    "time": "2021-01-26T00:45:39.895Z",
    "type": "completion"
   },
   {
    "code": "variables = {\"SP.POP.TOTL\":'Population'}\ncountries = {name_dict.get('Philippines')}\ndf = wbdata.get_dataframe(variables, country=countries, convert_date=False)\ndf",
    "id": "0dfcbe9d9561418883c71f5b21988f26",
    "idx": 5,
    "time": "2021-01-26T00:45:56.011Z",
    "type": "execution"
   },
   {
    "id": "0dfcbe9d9561418883c71f5b21988f26",
    "time": "2021-01-26T00:45:56.161Z",
    "type": "completion"
   },
   {
    "code": "df[df['date'=='2018']]",
    "id": "e3eaa761ef16448fa657de8207ac6c18",
    "idx": 6,
    "time": "2021-01-26T00:46:15.674Z",
    "type": "execution"
   },
   {
    "id": "e3eaa761ef16448fa657de8207ac6c18",
    "time": "2021-01-26T00:46:15.848Z",
    "type": "completion"
   },
   {
    "code": "variables = {\"SP.POP.TOTL\":'Population'}\ncountries = {name_dict.get('Philippines')}\ndf = wbdata.get_dataframe(variables, country=countries, convert_date=False)\ndf = df.unstack('country')\ndf",
    "id": "0dfcbe9d9561418883c71f5b21988f26",
    "idx": 5,
    "time": "2021-01-26T00:46:55.688Z",
    "type": "execution"
   },
   {
    "id": "0dfcbe9d9561418883c71f5b21988f26",
    "time": "2021-01-26T00:46:55.856Z",
    "type": "completion"
   },
   {
    "code": "variables = {\"SP.POP.TOTL\":'Population'}\ncountries = {name_dict.get('Philippines')}\ndf = wbdata.get_dataframe(variables, country=countries, convert_date=False)\ndf = df.unstack('Population')\ndf",
    "id": "0dfcbe9d9561418883c71f5b21988f26",
    "idx": 5,
    "time": "2021-01-26T00:47:02.759Z",
    "type": "execution"
   },
   {
    "id": "0dfcbe9d9561418883c71f5b21988f26",
    "time": "2021-01-26T00:47:02.919Z",
    "type": "completion"
   },
   {
    "code": "variables = {\"SP.POP.TOTL\":'Population'}\ncountries = {name_dict.get('Philippines')}\ndf = wbdata.get_dataframe(variables, country=countries, convert_date=False)\ndf = df.unstack('countries')\ndf",
    "id": "0dfcbe9d9561418883c71f5b21988f26",
    "idx": 5,
    "time": "2021-01-26T00:47:42.525Z",
    "type": "execution"
   },
   {
    "id": "0dfcbe9d9561418883c71f5b21988f26",
    "time": "2021-01-26T00:47:42.732Z",
    "type": "completion"
   },
   {
    "code": "variables = {\"SP.POP.TOTL\":'Population'}\ncountries = {name_dict.get('Philippines')}\ndf = wbdata.get_dataframe(variables, country=countries, convert_date=False)\ndf = df.unstack('country')\ndf",
    "id": "0dfcbe9d9561418883c71f5b21988f26",
    "idx": 5,
    "time": "2021-01-26T00:47:48.874Z",
    "type": "execution"
   },
   {
    "id": "0dfcbe9d9561418883c71f5b21988f26",
    "time": "2021-01-26T00:47:49.043Z",
    "type": "completion"
   },
   {
    "code": "variables = {\"SP.POP.TOTL\":'Population'}\ncountries = {name_dict.get('Philippines')}\ndf = wbdata.get_dataframe(variables, country=countries, convert_date=False)\ndf",
    "id": "0dfcbe9d9561418883c71f5b21988f26",
    "idx": 5,
    "time": "2021-01-26T00:47:53.906Z",
    "type": "execution"
   },
   {
    "id": "0dfcbe9d9561418883c71f5b21988f26",
    "time": "2021-01-26T00:47:54.044Z",
    "type": "completion"
   },
   {
    "code": "df[df['date'=='2018']]",
    "id": "e3eaa761ef16448fa657de8207ac6c18",
    "idx": 6,
    "time": "2021-01-26T00:48:24.288Z",
    "type": "execution"
   },
   {
    "id": "e3eaa761ef16448fa657de8207ac6c18",
    "time": "2021-01-26T00:48:24.444Z",
    "type": "completion"
   },
   {
    "code": "df.index",
    "id": "60579c3f64d741229c8ef35e04d31f2c",
    "idx": 6,
    "time": "2021-01-26T00:48:42.336Z",
    "type": "execution"
   },
   {
    "id": "60579c3f64d741229c8ef35e04d31f2c",
    "time": "2021-01-26T00:48:42.425Z",
    "type": "completion"
   },
   {
    "code": "df[df[df.index=='2018']]",
    "id": "e3eaa761ef16448fa657de8207ac6c18",
    "idx": 7,
    "time": "2021-01-26T00:49:07.822Z",
    "type": "execution"
   },
   {
    "id": "e3eaa761ef16448fa657de8207ac6c18",
    "time": "2021-01-26T00:49:07.977Z",
    "type": "completion"
   },
   {
    "code": "df.loc['2018']",
    "id": "e3eaa761ef16448fa657de8207ac6c18",
    "idx": 7,
    "time": "2021-01-26T00:50:36.057Z",
    "type": "execution"
   },
   {
    "id": "e3eaa761ef16448fa657de8207ac6c18",
    "time": "2021-01-26T00:50:36.153Z",
    "type": "completion"
   },
   {
    "code": "df.loc['2018'][0]",
    "id": "e3eaa761ef16448fa657de8207ac6c18",
    "idx": 7,
    "time": "2021-01-26T00:50:49.137Z",
    "type": "execution"
   },
   {
    "id": "e3eaa761ef16448fa657de8207ac6c18",
    "time": "2021-01-26T00:50:49.231Z",
    "type": "completion"
   },
   {
    "code": "SOURCE = 40 # \"Population estimates and projections\nindicators = wbdata.get_indicator(source=SOURCE)\nindicators",
    "id": "0f4e77ba0a0c4f3d925f75b7c39fb948",
    "idx": 2,
    "time": "2021-01-26T00:53:28.906Z",
    "type": "execution"
   },
   {
    "id": "0f4e77ba0a0c4f3d925f75b7c39fb948",
    "time": "2021-01-26T00:53:29.104Z",
    "type": "completion"
   },
   {
    "code": "variables = {\"SP.POP.TOTL\"}\ncountries = {name_dict.get('Philippines')}\ndf = wbdata.get_dataframe(variables, country=countries, convert_date=False)\ndf",
    "id": "0dfcbe9d9561418883c71f5b21988f26",
    "idx": 5,
    "time": "2021-01-26T01:00:10.879Z",
    "type": "execution"
   },
   {
    "id": "0dfcbe9d9561418883c71f5b21988f26",
    "time": "2021-01-26T01:00:11.004Z",
    "type": "completion"
   },
   {
    "code": "variables = {\"SP.POP.TOTL\":'Population'}\ncountries = {name_dict.get('Philippines')}\ndf = wbdata.get_dataframe(variables, country=countries, convert_date=False)\ndf",
    "id": "0dfcbe9d9561418883c71f5b21988f26",
    "idx": 5,
    "time": "2021-01-26T01:00:20.918Z",
    "type": "execution"
   },
   {
    "id": "0dfcbe9d9561418883c71f5b21988f26",
    "time": "2021-01-26T01:00:21.064Z",
    "type": "completion"
   },
   {
    "code": "def population(year, persons, age_range, location):\n    \"\"\"A python function named population that will deliver information to answer the queries\n    of the following form: In [year] how many [people/males/females] aged [low] to [high] were living in [the\n    world/region/country]?\n    \n    location: a string based on name of country, income level, world location, etc.\n    sex: FE, MA, or all\n    \"\"\"\n    if age_range = 'none':\n        if persons = 'FE':\n            variables = {'SP.POP.TOTL.FE.IN':'Pop'}\n        elif persons = 'MA':\n            variables = {'SP.POP.TOTL.MA.IN':'Pop'}\n        else:\n            variables = {'SP.POP.TOTL':'Pop'}\n        \n    #Converts location parameter to a wbdata 3 letter id\n    name_dict = dict()\n    for i in range(len(wbdata.search_countries(\"\"))):\n        id = wbdata.search_countries(\"\")[i][\"id\"]\n        country = wbdata.search_countries(\"\")[i][\"name\"]\n        name_dict[country] = id\n\n    countries = {name_dict.get(location)}\n    df = wbdata.get_dataframe(variables, country=countries)\n    return df.loc[year][0]",
    "id": "4e9596f7ef2a4a1bb7977c55c247a466",
    "idx": 1,
    "time": "2021-01-26T01:27:16.323Z",
    "type": "execution"
   },
   {
    "id": "4e9596f7ef2a4a1bb7977c55c247a466",
    "time": "2021-01-26T01:27:16.417Z",
    "type": "completion"
   },
   {
    "code": "def population(year, persons, age_range, location):\n    \"\"\"A python function named population that will deliver information to answer the queries\n    of the following form: In [year] how many [people/males/females] aged [low] to [high] were living in [the\n    world/region/country]?\n    \n    location: a string based on name of country, income level, world location, etc.\n    sex: FE, MA, or all\n    \"\"\"\n    if age_range == 'none':\n        if persons == 'FE':\n            variables = {'SP.POP.TOTL.FE.IN':'Pop'}\n        elif persons == 'MA':\n            variables = {'SP.POP.TOTL.MA.IN':'Pop'}\n        else:\n            variables = {'SP.POP.TOTL':'Pop'}\n        \n    #Converts location parameter to a wbdata 3 letter id\n    name_dict = dict()\n    for i in range(len(wbdata.search_countries(\"\"))):\n        id = wbdata.search_countries(\"\")[i][\"id\"]\n        country = wbdata.search_countries(\"\")[i][\"name\"]\n        name_dict[country] = id\n\n    countries = {name_dict.get(location)}\n    df = wbdata.get_dataframe(variables, country=countries)\n    return df.loc[year][0]",
    "id": "4e9596f7ef2a4a1bb7977c55c247a466",
    "idx": 1,
    "time": "2021-01-26T01:27:30.495Z",
    "type": "execution"
   },
   {
    "id": "4e9596f7ef2a4a1bb7977c55c247a466",
    "time": "2021-01-26T01:27:30.585Z",
    "type": "completion"
   },
   {
    "code": "population('1998', 'FE', 'none', 'Philippines')",
    "id": "2a8f97f0085048ec8800b33a51b1a6f3",
    "idx": 2,
    "time": "2021-01-26T01:28:14.029Z",
    "type": "execution"
   },
   {
    "id": "2a8f97f0085048ec8800b33a51b1a6f3",
    "time": "2021-01-26T01:28:15.835Z",
    "type": "completion"
   },
   {
    "code": "variable_labels = {\"SP.POP.TOTL\":\"Total Population\",\n                   \"SP.POP.TOTL.FE.IN\":\"Female Population\",\n                   \"SP.POP.TOTL.MA.IN\":\"Male Population\",\n                   \n                   \"SP.POP.0014.FE.IN\":\"Females (0-14)\",\n                   \"SP.POP.0014.MA.IN\":\"Males (0-14)\",\n                   \n                   \"SP.POP.1564.FE.IN\":\"Females (15-64)\",\n                   \"SP.POP.1564.MA.IN\":\"Males (15-64)\",\n\n                   \"SP.POP.65UP.FE.IN\":\"Females (65+)\", \n                   \"SP.POP.65UP.MA.IN\":\"Males (65+)\", \n                   \n                   \"SP.POP.0004.FE\":\"Females (0-4)\",\n                   \"SP.POP.0004.MA\":\"Males (0-4)\",\n                   \n                   \"SP.POP.0509.FE\":\"Females (5-9)\",\n                   \"SP.POP.0509.MA\":\"Males (5-9)\",\n                   \n                   \"SP.POP.1014.FE\":\"Females (10-14)\",\n                   \"SP.POP.1014.MA\":\"Males (10-14)\",\n                   \n                   \"SP.POP.1519.FE\":\"Females (15-19)\",\n                   \"SP.POP.1519.MA\":\"Males (15-19)\",\n                   \n                   \"SP.POP.2024.FE\":\"Females (20-24)\",\n                   \"SP.POP.2024.MA\":\"Males (20-24)\",\n                   \n                   \"SP.POP.2529.FE\":\"Females (25-29)\",\n                   \"SP.POP.2529.MA\":\"Males (25-29)\",\n                   \n                   \"SP.POP.3034.FE\":\"Females (30-34)\",\n                   \"SP.POP.3034.MA\":\"Males (30-34)\",\n                   \n                   \"SP.POP.3539.FE\":\"Females (35-39)\",\n                   \"SP.POP.3539.MA\":\"Males (35-39)\",\n                   \n                   \"SP.POP.4044.FE\":\"Females (40-44)\",\n                   \"SP.POP.4044.MA\":\"Males (40-44)\",\n                   \n                   \"SP.POP.4549.FE\":\"Females (45-49)\",\n                   \"SP.POP.4549.MA\":\"Males (45-49)\",\n                   \n                   \"SP.POP.5054.FE\":\"Females (50-54)\",\n                   \"SP.POP.5054.MA\":\"Males (50-54)\",\n                   \n                   \"SP.POP.5559.FE\":\"Females (55-59)\",\n                   \"SP.POP.5559.MA\":\"Males (55-59)\",\n                   \n                   \"SP.POP.6064.FE\":\"Females (60-64)\",\n                   \"SP.POP.6064.MA\":\"Males (60-64)\",\n                   \n                   \"SP.POP.6569.FE\":\"Females (65-69)\",\n                   \"SP.POP.6569.MA\":\"Males (65-69)\",\n                   \n                   \"SP.POP.7074.FE\":\"Females (70-74)\",\n                   \"SP.POP.7074.MA\":\"Males (70-74)\",\n                \n                   \"SP.POP.7579.FE\":\"Females (75-79)\",\n                   \"SP.POP.7579.MA\":\"Males (75-79)\",\n                   \n                   \"SP.POP.80UP.FE\":\"Females (80+)\",\n                   \"SP.POP.80UP.MA\":\"Males (80+)\" \n                   \n                  }\nworld = wbdata.get_dataframe(variable_labels, country=\"\")\nworld.head()",
    "id": "44d91ab8e64d46259cfadc1966308340",
    "idx": 4,
    "time": "2021-01-27T22:21:42.188Z",
    "type": "execution"
   },
   {
    "id": "44d91ab8e64d46259cfadc1966308340",
    "time": "2021-01-27T22:21:42.372Z",
    "type": "completion"
   },
   {
    "code": "import wbdata\nimport cufflinks as cf",
    "id": "8da46a9c1ed745888b5a089c126acccb",
    "idx": 0,
    "time": "2021-01-27T22:21:47.593Z",
    "type": "execution"
   },
   {
    "id": "8da46a9c1ed745888b5a089c126acccb",
    "time": "2021-01-27T22:21:47.703Z",
    "type": "completion"
   },
   {
    "code": "!pip install wbdata\nimport wbdata\nimport cufflinks as cf",
    "id": "8da46a9c1ed745888b5a089c126acccb",
    "idx": 0,
    "time": "2021-01-27T22:22:30.168Z",
    "type": "execution"
   },
   {
    "id": "8da46a9c1ed745888b5a089c126acccb",
    "time": "2021-01-27T22:22:36.258Z",
    "type": "completion"
   },
   {
    "code": "!pip install wbdata\nimport wbdata\n!pip install cufflinks\nimport cufflinks as cf",
    "id": "8da46a9c1ed745888b5a089c126acccb",
    "idx": 0,
    "time": "2021-01-27T22:23:01.419Z",
    "type": "execution"
   },
   {
    "id": "8da46a9c1ed745888b5a089c126acccb",
    "time": "2021-01-27T22:23:08.682Z",
    "type": "completion"
   },
   {
    "code": "variable_labels = {\"SP.POP.TOTL\":\"Total Population\",\n                   \"SP.POP.TOTL.FE.IN\":\"Female Population\",\n                   \"SP.POP.TOTL.MA.IN\":\"Male Population\",\n                   \n                   \"SP.POP.0014.FE.IN\":\"Females (0-14)\",\n                   \"SP.POP.0014.MA.IN\":\"Males (0-14)\",\n                   \n                   \"SP.POP.1564.FE.IN\":\"Females (15-64)\",\n                   \"SP.POP.1564.MA.IN\":\"Males (15-64)\",\n\n                   \"SP.POP.65UP.FE.IN\":\"Females (65+)\", \n                   \"SP.POP.65UP.MA.IN\":\"Males (65+)\", \n                   \n                   \"SP.POP.0004.FE\":\"Females (0-4)\",\n                   \"SP.POP.0004.MA\":\"Males (0-4)\",\n                   \n                   \"SP.POP.0509.FE\":\"Females (5-9)\",\n                   \"SP.POP.0509.MA\":\"Males (5-9)\",\n                   \n                   \"SP.POP.1014.FE\":\"Females (10-14)\",\n                   \"SP.POP.1014.MA\":\"Males (10-14)\",\n                   \n                   \"SP.POP.1519.FE\":\"Females (15-19)\",\n                   \"SP.POP.1519.MA\":\"Males (15-19)\",\n                   \n                   \"SP.POP.2024.FE\":\"Females (20-24)\",\n                   \"SP.POP.2024.MA\":\"Males (20-24)\",\n                   \n                   \"SP.POP.2529.FE\":\"Females (25-29)\",\n                   \"SP.POP.2529.MA\":\"Males (25-29)\",\n                   \n                   \"SP.POP.3034.FE\":\"Females (30-34)\",\n                   \"SP.POP.3034.MA\":\"Males (30-34)\",\n                   \n                   \"SP.POP.3539.FE\":\"Females (35-39)\",\n                   \"SP.POP.3539.MA\":\"Males (35-39)\",\n                   \n                   \"SP.POP.4044.FE\":\"Females (40-44)\",\n                   \"SP.POP.4044.MA\":\"Males (40-44)\",\n                   \n                   \"SP.POP.4549.FE\":\"Females (45-49)\",\n                   \"SP.POP.4549.MA\":\"Males (45-49)\",\n                   \n                   \"SP.POP.5054.FE\":\"Females (50-54)\",\n                   \"SP.POP.5054.MA\":\"Males (50-54)\",\n                   \n                   \"SP.POP.5559.FE\":\"Females (55-59)\",\n                   \"SP.POP.5559.MA\":\"Males (55-59)\",\n                   \n                   \"SP.POP.6064.FE\":\"Females (60-64)\",\n                   \"SP.POP.6064.MA\":\"Males (60-64)\",\n                   \n                   \"SP.POP.6569.FE\":\"Females (65-69)\",\n                   \"SP.POP.6569.MA\":\"Males (65-69)\",\n                   \n                   \"SP.POP.7074.FE\":\"Females (70-74)\",\n                   \"SP.POP.7074.MA\":\"Males (70-74)\",\n                \n                   \"SP.POP.7579.FE\":\"Females (75-79)\",\n                   \"SP.POP.7579.MA\":\"Males (75-79)\",\n                   \n                   \"SP.POP.80UP.FE\":\"Females (80+)\",\n                   \"SP.POP.80UP.MA\":\"Males (80+)\" \n                   \n                  }\nworld = wbdata.get_dataframe(variable_labels, country=\"\")\nworld.head()",
    "id": "44d91ab8e64d46259cfadc1966308340",
    "idx": 4,
    "time": "2021-01-27T22:23:19.345Z",
    "type": "execution"
   },
   {
    "id": "44d91ab8e64d46259cfadc1966308340",
    "time": "2021-01-27T22:39:44.144Z",
    "type": "completion"
   }
  ],
  "kernelspec": {
   "display_name": "Python 3",
   "language": "python",
   "name": "python3"
  },
  "language_info": {
   "codemirror_mode": {
    "name": "ipython",
    "version": 3
   },
   "file_extension": ".py",
   "mimetype": "text/x-python",
   "name": "python",
   "nbconvert_exporter": "python",
   "pygments_lexer": "ipython3",
   "version": "3.8.6"
  }
 },
 "nbformat": 4,
 "nbformat_minor": 4
}
